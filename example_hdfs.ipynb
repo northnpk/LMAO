{
 "cells": [
  {
   "cell_type": "code",
   "execution_count": 1,
   "metadata": {},
   "outputs": [],
   "source": [
    "import lmao"
   ]
  },
  {
   "cell_type": "code",
   "execution_count": 2,
   "metadata": {},
   "outputs": [],
   "source": [
    "from lmao._utils import *"
   ]
  },
  {
   "cell_type": "markdown",
   "metadata": {},
   "source": [
    "# HDFS Preprocessing"
   ]
  },
  {
   "cell_type": "code",
   "execution_count": 3,
   "metadata": {},
   "outputs": [],
   "source": [
    "from lmao.preprocessing import LMAOPrep"
   ]
  },
  {
   "cell_type": "code",
   "execution_count": 4,
   "metadata": {},
   "outputs": [
    {
     "name": "stdout",
     "output_type": "stream",
     "text": [
      "Created prep class\n"
     ]
    }
   ],
   "source": [
    "prep = LMAOPrep(data_type='hdfs')"
   ]
  },
  {
   "cell_type": "code",
   "execution_count": 7,
   "metadata": {},
   "outputs": [
    {
     "name": "stdout",
     "output_type": "stream",
     "text": [
      "Start Parsing\n",
      "Parsing file: /Users/IsRealNPK/LMAO/dataset/HDFS_v1/HDFS.log\n",
      "Total lines:  11175629\n",
      "Processed 0.0% of log lines.\n",
      "Processed 0.0% of log lines.\n",
      "Processed 0.0% of log lines.\n",
      "Processed 0.0% of log lines.\n",
      "Processed 0.0% of log lines.\n",
      "Processed 0.1% of log lines.\n",
      "Processed 0.1% of log lines.\n",
      "Processed 0.1% of log lines.\n",
      "Processed 0.1% of log lines.\n",
      "Processed 0.1% of log lines.\n",
      "Processed 0.1% of log lines.\n",
      "Processed 0.1% of log lines.\n",
      "Processed 0.1% of log lines.\n",
      "Processed 0.1% of log lines.\n",
      "Processed 0.1% of log lines.\n",
      "Processed 0.1% of log lines.\n",
      "Processed 0.2% of log lines.\n",
      "Processed 0.2% of log lines.\n",
      "Processed 0.2% of log lines.\n",
      "Processed 0.2% of log lines.\n",
      "Processed 0.2% of log lines.\n",
      "Processed 0.2% of log lines.\n",
      "Processed 0.2% of log lines.\n",
      "Processed 0.2% of log lines.\n",
      "Processed 0.2% of log lines.\n",
      "Processed 0.2% of log lines.\n",
      "Processed 0.2% of log lines.\n",
      "Processed 0.3% of log lines.\n",
      "Processed 0.3% of log lines.\n",
      "Processed 0.3% of log lines.\n",
      "Processed 0.3% of log lines.\n",
      "Processed 0.3% of log lines.\n",
      "Processed 0.3% of log lines.\n",
      "Processed 0.3% of log lines.\n",
      "Processed 0.3% of log lines.\n",
      "Processed 0.3% of log lines.\n",
      "Processed 0.3% of log lines.\n",
      "Processed 0.3% of log lines.\n",
      "Processed 0.3% of log lines.\n",
      "Processed 0.4% of log lines.\n",
      "Processed 0.4% of log lines.\n",
      "Processed 0.4% of log lines.\n",
      "Processed 0.4% of log lines.\n",
      "Processed 0.4% of log lines.\n",
      "Processed 0.4% of log lines.\n",
      "Processed 0.4% of log lines.\n",
      "Processed 0.4% of log lines.\n",
      "Processed 0.4% of log lines.\n",
      "Processed 0.4% of log lines.\n",
      "Processed 0.4% of log lines.\n",
      "Processed 0.5% of log lines.\n",
      "Processed 0.5% of log lines.\n",
      "Processed 0.5% of log lines.\n",
      "Processed 0.5% of log lines.\n",
      "Processed 0.5% of log lines.\n",
      "Processed 0.5% of log lines.\n",
      "Processed 0.5% of log lines.\n",
      "Processed 0.5% of log lines.\n",
      "Processed 0.5% of log lines.\n",
      "Processed 0.5% of log lines.\n",
      "Processed 0.5% of log lines.\n",
      "Processed 0.6% of log lines.\n",
      "Processed 0.6% of log lines.\n",
      "Processed 0.6% of log lines.\n",
      "Processed 0.6% of log lines.\n",
      "Processed 0.6% of log lines.\n",
      "Processed 0.6% of log lines.\n",
      "Processed 0.6% of log lines.\n",
      "Processed 0.6% of log lines.\n",
      "Processed 0.6% of log lines.\n",
      "Processed 0.6% of log lines.\n",
      "Processed 0.6% of log lines.\n",
      "Processed 0.7% of log lines.\n",
      "Processed 0.7% of log lines.\n",
      "Processed 0.7% of log lines.\n",
      "Processed 0.7% of log lines.\n",
      "Processed 0.7% of log lines.\n",
      "Processed 0.7% of log lines.\n",
      "Processed 0.7% of log lines.\n",
      "Processed 0.7% of log lines.\n",
      "Processed 0.7% of log lines.\n",
      "Processed 0.7% of log lines.\n",
      "Processed 0.7% of log lines.\n",
      "Processed 0.8% of log lines.\n",
      "Processed 0.8% of log lines.\n",
      "Processed 0.8% of log lines.\n",
      "Processed 0.8% of log lines.\n",
      "Processed 0.8% of log lines.\n",
      "Processed 0.8% of log lines.\n",
      "Processed 0.8% of log lines.\n",
      "Processed 0.8% of log lines.\n",
      "Processed 0.8% of log lines.\n",
      "Processed 0.8% of log lines.\n",
      "Processed 0.8% of log lines.\n",
      "Processed 0.9% of log lines.\n",
      "Processed 0.9% of log lines.\n",
      "Processed 0.9% of log lines.\n",
      "Processed 0.9% of log lines.\n",
      "Processed 0.9% of log lines.\n",
      "Processed 0.9% of log lines.\n",
      "Processed 0.9% of log lines.\n",
      "Processed 0.9% of log lines.\n",
      "Processed 0.9% of log lines.\n",
      "Processed 0.9% of log lines.\n",
      "Processed 0.9% of log lines.\n",
      "Processed 0.9% of log lines.\n",
      "Processed 1.0% of log lines.\n",
      "Processed 1.0% of log lines.\n",
      "Processed 1.0% of log lines.\n",
      "Processed 1.0% of log lines.\n",
      "Processed 1.0% of log lines.\n",
      "Processed 1.0% of log lines.\n",
      "Processed 1.0% of log lines.\n",
      "Processed 1.0% of log lines.\n",
      "Processed 1.0% of log lines.\n",
      "Processed 1.0% of log lines.\n",
      "Processed 1.0% of log lines.\n",
      "Processed 1.1% of log lines.\n",
      "Processed 1.1% of log lines.\n",
      "Processed 1.1% of log lines.\n",
      "Processed 1.1% of log lines.\n",
      "Processed 1.1% of log lines.\n",
      "Processed 1.1% of log lines.\n",
      "Processed 1.1% of log lines.\n",
      "Processed 1.1% of log lines.\n",
      "Processed 1.1% of log lines.\n",
      "Processed 1.1% of log lines.\n",
      "Processed 1.1% of log lines.\n",
      "Processed 1.2% of log lines.\n",
      "Processed 1.2% of log lines.\n",
      "Processed 1.2% of log lines.\n",
      "Processed 1.2% of log lines.\n",
      "Processed 1.2% of log lines.\n",
      "Processed 1.2% of log lines.\n",
      "Processed 1.2% of log lines.\n",
      "Processed 1.2% of log lines.\n",
      "Processed 1.2% of log lines.\n",
      "Processed 1.2% of log lines.\n",
      "Processed 1.2% of log lines.\n",
      "Processed 1.3% of log lines.\n",
      "Processed 1.3% of log lines.\n",
      "Processed 1.3% of log lines.\n",
      "Processed 1.3% of log lines.\n",
      "Processed 1.3% of log lines.\n",
      "Processed 1.3% of log lines.\n",
      "Processed 1.3% of log lines.\n",
      "Processed 1.3% of log lines.\n",
      "Processed 1.3% of log lines.\n",
      "Processed 1.3% of log lines.\n",
      "Processed 1.3% of log lines.\n",
      "Processed 1.4% of log lines.\n",
      "Processed 1.4% of log lines.\n",
      "Processed 1.4% of log lines.\n",
      "Processed 1.4% of log lines.\n",
      "Processed 1.4% of log lines.\n",
      "Processed 1.4% of log lines.\n",
      "Processed 1.4% of log lines.\n",
      "Processed 1.4% of log lines.\n",
      "Processed 1.4% of log lines.\n",
      "Processed 1.4% of log lines.\n",
      "Processed 1.4% of log lines.\n",
      "Processed 1.4% of log lines.\n",
      "Processed 1.5% of log lines.\n",
      "Processed 1.5% of log lines.\n",
      "Processed 1.5% of log lines.\n",
      "Processed 1.5% of log lines.\n",
      "Processed 1.5% of log lines.\n",
      "Processed 1.5% of log lines.\n",
      "Processed 1.5% of log lines.\n",
      "Processed 1.5% of log lines.\n",
      "Processed 1.5% of log lines.\n",
      "Processed 1.5% of log lines.\n",
      "Processed 1.5% of log lines.\n",
      "Processed 1.6% of log lines.\n",
      "Processed 1.6% of log lines.\n",
      "Processed 1.6% of log lines.\n",
      "Processed 1.6% of log lines.\n",
      "Processed 1.6% of log lines.\n",
      "Processed 1.6% of log lines.\n",
      "Processed 1.6% of log lines.\n",
      "Processed 1.6% of log lines.\n",
      "Processed 1.6% of log lines.\n",
      "Processed 1.6% of log lines.\n",
      "Processed 1.6% of log lines.\n",
      "Processed 1.7% of log lines.\n",
      "Processed 1.7% of log lines.\n",
      "Processed 1.7% of log lines.\n",
      "Processed 1.7% of log lines.\n",
      "Processed 1.7% of log lines.\n",
      "Processed 1.7% of log lines.\n",
      "Processed 1.7% of log lines.\n",
      "Processed 1.7% of log lines.\n",
      "Processed 1.7% of log lines.\n",
      "Processed 1.7% of log lines.\n",
      "Processed 1.7% of log lines.\n",
      "Processed 1.8% of log lines.\n",
      "Processed 1.8% of log lines.\n",
      "Processed 1.8% of log lines.\n",
      "Processed 1.8% of log lines.\n",
      "Processed 1.8% of log lines.\n",
      "Processed 1.8% of log lines.\n",
      "Processed 1.8% of log lines.\n",
      "Processed 1.8% of log lines.\n",
      "Processed 1.8% of log lines.\n",
      "Processed 1.8% of log lines.\n",
      "Processed 1.8% of log lines.\n",
      "Processed 1.9% of log lines.\n",
      "Processed 1.9% of log lines.\n",
      "Processed 1.9% of log lines.\n",
      "Processed 1.9% of log lines.\n",
      "Processed 1.9% of log lines.\n",
      "Processed 1.9% of log lines.\n",
      "Processed 1.9% of log lines.\n",
      "Processed 1.9% of log lines.\n",
      "Processed 1.9% of log lines.\n",
      "Processed 1.9% of log lines.\n",
      "Processed 1.9% of log lines.\n",
      "Processed 2.0% of log lines.\n",
      "Processed 2.0% of log lines.\n",
      "Processed 2.0% of log lines.\n",
      "Processed 2.0% of log lines.\n",
      "Processed 2.0% of log lines.\n",
      "Processed 2.0% of log lines.\n",
      "Processed 2.0% of log lines.\n",
      "Processed 2.0% of log lines.\n",
      "Processed 2.0% of log lines.\n",
      "Processed 2.0% of log lines.\n",
      "Processed 2.0% of log lines.\n",
      "Processed 2.0% of log lines.\n",
      "Processed 2.1% of log lines.\n",
      "Processed 2.1% of log lines.\n",
      "Processed 2.1% of log lines.\n",
      "Processed 2.1% of log lines.\n",
      "Processed 2.1% of log lines.\n",
      "Processed 2.1% of log lines.\n",
      "Processed 2.1% of log lines.\n",
      "Processed 2.1% of log lines.\n",
      "Processed 2.1% of log lines.\n",
      "Processed 2.1% of log lines.\n",
      "Processed 2.1% of log lines.\n",
      "Processed 2.2% of log lines.\n",
      "Processed 2.2% of log lines.\n",
      "Processed 2.2% of log lines.\n",
      "Processed 2.2% of log lines.\n",
      "Processed 2.2% of log lines.\n",
      "Processed 2.2% of log lines.\n",
      "Processed 2.2% of log lines.\n",
      "Processed 2.2% of log lines.\n",
      "Processed 2.2% of log lines.\n",
      "Processed 2.2% of log lines.\n",
      "Processed 2.2% of log lines.\n",
      "Processed 2.3% of log lines.\n",
      "Processed 2.3% of log lines.\n",
      "Processed 2.3% of log lines.\n",
      "Processed 2.3% of log lines.\n",
      "Processed 2.3% of log lines.\n",
      "Processed 2.3% of log lines.\n",
      "Processed 2.3% of log lines.\n",
      "Processed 2.3% of log lines.\n",
      "Processed 2.3% of log lines.\n",
      "Processed 2.3% of log lines.\n",
      "Processed 2.3% of log lines.\n",
      "Processed 2.4% of log lines.\n",
      "Processed 2.4% of log lines.\n",
      "Processed 2.4% of log lines.\n",
      "Processed 2.4% of log lines.\n",
      "Processed 2.4% of log lines.\n",
      "Processed 2.4% of log lines.\n",
      "Processed 2.4% of log lines.\n",
      "Processed 2.4% of log lines.\n",
      "Processed 2.4% of log lines.\n",
      "Processed 2.4% of log lines.\n",
      "Processed 2.4% of log lines.\n",
      "Processed 2.5% of log lines.\n",
      "Processed 2.5% of log lines.\n",
      "Processed 2.5% of log lines.\n",
      "Processed 2.5% of log lines.\n",
      "Processed 2.5% of log lines.\n",
      "Processed 2.5% of log lines.\n",
      "Processed 2.5% of log lines.\n",
      "Processed 2.5% of log lines.\n",
      "Processed 2.5% of log lines.\n",
      "Processed 2.5% of log lines.\n",
      "Processed 2.5% of log lines.\n",
      "Processed 2.6% of log lines.\n",
      "Processed 2.6% of log lines.\n",
      "Processed 2.6% of log lines.\n",
      "Processed 2.6% of log lines.\n",
      "Processed 2.6% of log lines.\n",
      "Processed 2.6% of log lines.\n",
      "Processed 2.6% of log lines.\n",
      "Processed 2.6% of log lines.\n",
      "Processed 2.6% of log lines.\n",
      "Processed 2.6% of log lines.\n",
      "Processed 2.6% of log lines.\n",
      "Processed 2.6% of log lines.\n",
      "Processed 2.7% of log lines.\n",
      "Processed 2.7% of log lines.\n",
      "Processed 2.7% of log lines.\n",
      "Processed 2.7% of log lines.\n",
      "Processed 2.7% of log lines.\n",
      "Processed 2.7% of log lines.\n",
      "Processed 2.7% of log lines.\n",
      "Processed 2.7% of log lines.\n",
      "Processed 2.7% of log lines.\n",
      "Processed 2.7% of log lines.\n",
      "Processed 2.7% of log lines.\n",
      "Processed 2.8% of log lines.\n",
      "Processed 2.8% of log lines.\n",
      "Processed 2.8% of log lines.\n",
      "Processed 2.8% of log lines.\n",
      "Processed 2.8% of log lines.\n",
      "Processed 2.8% of log lines.\n",
      "Processed 2.8% of log lines.\n",
      "Processed 2.8% of log lines.\n",
      "Processed 2.8% of log lines.\n",
      "Processed 2.8% of log lines.\n",
      "Processed 2.8% of log lines.\n",
      "Processed 2.9% of log lines.\n",
      "Processed 2.9% of log lines.\n",
      "Processed 2.9% of log lines.\n",
      "Processed 2.9% of log lines.\n",
      "Processed 2.9% of log lines.\n",
      "Processed 2.9% of log lines.\n",
      "Processed 2.9% of log lines.\n",
      "Processed 2.9% of log lines.\n",
      "Processed 2.9% of log lines.\n",
      "Processed 2.9% of log lines.\n",
      "Processed 2.9% of log lines.\n",
      "Processed 3.0% of log lines.\n",
      "Processed 3.0% of log lines.\n",
      "Processed 3.0% of log lines.\n",
      "Processed 3.0% of log lines.\n",
      "Processed 3.0% of log lines.\n",
      "Processed 3.0% of log lines.\n",
      "Processed 3.0% of log lines.\n",
      "Processed 3.0% of log lines.\n",
      "Processed 3.0% of log lines.\n",
      "Processed 3.0% of log lines.\n",
      "Processed 3.0% of log lines.\n",
      "Processed 3.1% of log lines.\n",
      "Processed 3.1% of log lines.\n",
      "Processed 3.1% of log lines.\n",
      "Processed 3.1% of log lines.\n",
      "Processed 3.1% of log lines.\n",
      "Processed 3.1% of log lines.\n",
      "Processed 3.1% of log lines.\n",
      "Processed 3.1% of log lines.\n",
      "Processed 3.1% of log lines.\n",
      "Processed 3.1% of log lines.\n",
      "Processed 3.1% of log lines.\n",
      "Processed 3.1% of log lines.\n",
      "Processed 3.2% of log lines.\n",
      "Processed 3.2% of log lines.\n",
      "Processed 3.2% of log lines.\n",
      "Processed 3.2% of log lines.\n",
      "Processed 3.2% of log lines.\n",
      "Processed 3.2% of log lines.\n",
      "Processed 3.2% of log lines.\n",
      "Processed 3.2% of log lines.\n",
      "Processed 3.2% of log lines.\n",
      "Processed 3.2% of log lines.\n",
      "Processed 3.2% of log lines.\n",
      "Processed 3.3% of log lines.\n",
      "Processed 3.3% of log lines.\n",
      "Processed 3.3% of log lines.\n",
      "Processed 3.3% of log lines.\n",
      "Processed 3.3% of log lines.\n",
      "Processed 3.3% of log lines.\n",
      "Processed 3.3% of log lines.\n",
      "Processed 3.3% of log lines.\n",
      "Processed 3.3% of log lines.\n",
      "Processed 3.3% of log lines.\n",
      "Processed 3.3% of log lines.\n",
      "Processed 3.4% of log lines.\n",
      "Processed 3.4% of log lines.\n",
      "Processed 3.4% of log lines.\n",
      "Processed 3.4% of log lines.\n",
      "Processed 3.4% of log lines.\n",
      "Processed 3.4% of log lines.\n",
      "Processed 3.4% of log lines.\n",
      "Processed 3.4% of log lines.\n",
      "Processed 3.4% of log lines.\n",
      "Processed 3.4% of log lines.\n",
      "Processed 3.4% of log lines.\n",
      "Processed 3.5% of log lines.\n",
      "Processed 3.5% of log lines.\n",
      "Processed 3.5% of log lines.\n",
      "Processed 3.5% of log lines.\n",
      "Processed 3.5% of log lines.\n",
      "Processed 3.5% of log lines.\n",
      "Processed 3.5% of log lines.\n",
      "Processed 3.5% of log lines.\n",
      "Processed 3.5% of log lines.\n",
      "Processed 3.5% of log lines.\n",
      "Processed 3.5% of log lines.\n",
      "Processed 3.6% of log lines.\n",
      "Processed 3.6% of log lines.\n",
      "Processed 3.6% of log lines.\n",
      "Processed 3.6% of log lines.\n",
      "Processed 3.6% of log lines.\n",
      "Processed 3.6% of log lines.\n",
      "Processed 3.6% of log lines.\n",
      "Processed 3.6% of log lines.\n",
      "Processed 3.6% of log lines.\n",
      "Processed 3.6% of log lines.\n",
      "Processed 3.6% of log lines.\n",
      "Processed 3.7% of log lines.\n",
      "Processed 3.7% of log lines.\n",
      "Processed 3.7% of log lines.\n",
      "Processed 3.7% of log lines.\n",
      "Processed 3.7% of log lines.\n",
      "Processed 3.7% of log lines.\n",
      "Processed 3.7% of log lines.\n",
      "Processed 3.7% of log lines.\n",
      "Processed 3.7% of log lines.\n",
      "Processed 3.7% of log lines.\n",
      "Processed 3.7% of log lines.\n",
      "Processed 3.7% of log lines.\n",
      "Processed 3.8% of log lines.\n",
      "Processed 3.8% of log lines.\n",
      "Processed 3.8% of log lines.\n",
      "Processed 3.8% of log lines.\n",
      "Processed 3.8% of log lines.\n",
      "Processed 3.8% of log lines.\n",
      "Processed 3.8% of log lines.\n",
      "Processed 3.8% of log lines.\n",
      "Processed 3.8% of log lines.\n",
      "Processed 3.8% of log lines.\n",
      "Processed 3.8% of log lines.\n",
      "Processed 3.9% of log lines.\n",
      "Processed 3.9% of log lines.\n",
      "Processed 3.9% of log lines.\n",
      "Processed 3.9% of log lines.\n",
      "Processed 3.9% of log lines.\n",
      "Processed 3.9% of log lines.\n",
      "Processed 3.9% of log lines.\n",
      "Processed 3.9% of log lines.\n",
      "Processed 3.9% of log lines.\n",
      "Processed 3.9% of log lines.\n",
      "Processed 3.9% of log lines.\n",
      "Processed 4.0% of log lines.\n",
      "Processed 4.0% of log lines.\n",
      "Processed 4.0% of log lines.\n",
      "Processed 4.0% of log lines.\n",
      "Processed 4.0% of log lines.\n",
      "Processed 4.0% of log lines.\n",
      "Processed 4.0% of log lines.\n",
      "Processed 4.0% of log lines.\n",
      "Processed 4.0% of log lines.\n",
      "Processed 4.0% of log lines.\n",
      "Processed 4.0% of log lines.\n",
      "Processed 4.1% of log lines.\n",
      "Processed 4.1% of log lines.\n",
      "Processed 4.1% of log lines.\n",
      "Processed 4.1% of log lines.\n",
      "Processed 4.1% of log lines.\n",
      "Processed 4.1% of log lines.\n",
      "Processed 4.1% of log lines.\n",
      "Processed 4.1% of log lines.\n",
      "Processed 4.1% of log lines.\n",
      "Processed 4.1% of log lines.\n",
      "Processed 4.1% of log lines.\n",
      "Processed 4.2% of log lines.\n",
      "Processed 4.2% of log lines.\n",
      "Processed 4.2% of log lines.\n",
      "Processed 4.2% of log lines.\n",
      "Processed 4.2% of log lines.\n",
      "Processed 4.2% of log lines.\n",
      "Processed 4.2% of log lines.\n",
      "Processed 4.2% of log lines.\n",
      "Processed 4.2% of log lines.\n",
      "Processed 4.2% of log lines.\n",
      "Processed 4.2% of log lines.\n",
      "Processed 4.3% of log lines.\n",
      "Processed 4.3% of log lines.\n",
      "Processed 4.3% of log lines.\n",
      "Processed 4.3% of log lines.\n",
      "Processed 4.3% of log lines.\n",
      "Processed 4.3% of log lines.\n",
      "Processed 4.3% of log lines.\n",
      "Processed 4.3% of log lines.\n",
      "Processed 4.3% of log lines.\n",
      "Processed 4.3% of log lines.\n",
      "Processed 4.3% of log lines.\n",
      "Processed 4.3% of log lines.\n",
      "Processed 4.4% of log lines.\n",
      "Processed 4.4% of log lines.\n",
      "Processed 4.4% of log lines.\n",
      "Processed 4.4% of log lines.\n",
      "Processed 4.4% of log lines.\n",
      "Processed 4.4% of log lines.\n",
      "Processed 4.4% of log lines.\n",
      "Processed 4.4% of log lines.\n",
      "Processed 4.4% of log lines.\n",
      "Processed 4.4% of log lines.\n",
      "Processed 4.4% of log lines.\n",
      "Processed 4.5% of log lines.\n",
      "Processed 4.5% of log lines.\n",
      "Processed 4.5% of log lines.\n",
      "Processed 4.5% of log lines.\n",
      "Processed 4.5% of log lines.\n",
      "Processed 4.5% of log lines.\n",
      "Processed 4.5% of log lines.\n",
      "Processed 4.5% of log lines.\n",
      "Processed 4.5% of log lines.\n",
      "Processed 4.5% of log lines.\n",
      "Processed 4.5% of log lines.\n",
      "Processed 4.6% of log lines.\n",
      "Processed 4.6% of log lines.\n",
      "Processed 4.6% of log lines.\n",
      "Processed 4.6% of log lines.\n",
      "Processed 4.6% of log lines.\n",
      "Processed 4.6% of log lines.\n",
      "Processed 4.6% of log lines.\n",
      "Processed 4.6% of log lines.\n",
      "Processed 4.6% of log lines.\n",
      "Processed 4.6% of log lines.\n",
      "Processed 4.6% of log lines.\n",
      "Processed 4.7% of log lines.\n",
      "Processed 4.7% of log lines.\n",
      "Processed 4.7% of log lines.\n",
      "Processed 4.7% of log lines.\n",
      "Processed 4.7% of log lines.\n",
      "Processed 4.7% of log lines.\n",
      "Processed 4.7% of log lines.\n",
      "Processed 4.7% of log lines.\n",
      "Processed 4.7% of log lines.\n",
      "Processed 4.7% of log lines.\n",
      "Processed 4.7% of log lines.\n",
      "Processed 4.8% of log lines.\n",
      "Processed 4.8% of log lines.\n",
      "Processed 4.8% of log lines.\n",
      "Processed 4.8% of log lines.\n",
      "Processed 4.8% of log lines.\n",
      "Processed 4.8% of log lines.\n",
      "Processed 4.8% of log lines.\n",
      "Processed 4.8% of log lines.\n",
      "Processed 4.8% of log lines.\n",
      "Processed 4.8% of log lines.\n",
      "Processed 4.8% of log lines.\n",
      "Processed 4.8% of log lines.\n",
      "Processed 4.9% of log lines.\n",
      "Processed 4.9% of log lines.\n",
      "Processed 4.9% of log lines.\n",
      "Processed 4.9% of log lines.\n",
      "Processed 4.9% of log lines.\n",
      "Processed 4.9% of log lines.\n",
      "Processed 4.9% of log lines.\n",
      "Processed 4.9% of log lines.\n",
      "Processed 4.9% of log lines.\n",
      "Processed 4.9% of log lines.\n",
      "Processed 4.9% of log lines.\n",
      "Processed 5.0% of log lines.\n",
      "Processed 5.0% of log lines.\n",
      "Processed 5.0% of log lines.\n",
      "Processed 5.0% of log lines.\n",
      "Processed 5.0% of log lines.\n",
      "Processed 5.0% of log lines.\n",
      "Processed 5.0% of log lines.\n",
      "Processed 5.0% of log lines.\n",
      "Processed 5.0% of log lines.\n",
      "Processed 5.0% of log lines.\n",
      "Processed 5.0% of log lines.\n",
      "Processed 5.1% of log lines.\n",
      "Processed 5.1% of log lines.\n",
      "Processed 5.1% of log lines.\n",
      "Processed 5.1% of log lines.\n",
      "Processed 5.1% of log lines.\n",
      "Processed 5.1% of log lines.\n",
      "Processed 5.1% of log lines.\n",
      "Processed 5.1% of log lines.\n",
      "Processed 5.1% of log lines.\n",
      "Processed 5.1% of log lines.\n",
      "Processed 5.1% of log lines.\n",
      "Processed 5.2% of log lines.\n",
      "Processed 5.2% of log lines.\n",
      "Processed 5.2% of log lines.\n",
      "Processed 5.2% of log lines.\n",
      "Processed 5.2% of log lines.\n",
      "Processed 5.2% of log lines.\n",
      "Processed 5.2% of log lines.\n",
      "Processed 5.2% of log lines.\n",
      "Processed 5.2% of log lines.\n",
      "Processed 5.2% of log lines.\n",
      "Processed 5.2% of log lines.\n",
      "Processed 5.3% of log lines.\n",
      "Processed 5.3% of log lines.\n",
      "Processed 5.3% of log lines.\n",
      "Processed 5.3% of log lines.\n",
      "Processed 5.3% of log lines.\n",
      "Processed 5.3% of log lines.\n",
      "Processed 5.3% of log lines.\n",
      "Processed 5.3% of log lines.\n",
      "Processed 5.3% of log lines.\n",
      "Processed 5.3% of log lines.\n",
      "Processed 5.3% of log lines.\n",
      "Processed 5.4% of log lines.\n",
      "Processed 5.4% of log lines.\n",
      "Processed 5.4% of log lines.\n",
      "Processed 5.4% of log lines.\n",
      "Processed 5.4% of log lines.\n",
      "Processed 5.4% of log lines.\n",
      "Processed 5.4% of log lines.\n",
      "Processed 5.4% of log lines.\n",
      "Processed 5.4% of log lines.\n",
      "Processed 5.4% of log lines.\n",
      "Processed 5.4% of log lines.\n",
      "Processed 5.4% of log lines.\n",
      "Processed 5.5% of log lines.\n",
      "Processed 5.5% of log lines.\n",
      "Processed 5.5% of log lines.\n",
      "Processed 5.5% of log lines.\n",
      "Processed 5.5% of log lines.\n",
      "Processed 5.5% of log lines.\n",
      "Processed 5.5% of log lines.\n",
      "Processed 5.5% of log lines.\n",
      "Processed 5.5% of log lines.\n",
      "Processed 5.5% of log lines.\n",
      "Processed 5.5% of log lines.\n",
      "Processed 5.6% of log lines.\n",
      "Processed 5.6% of log lines.\n",
      "Processed 5.6% of log lines.\n",
      "Processed 5.6% of log lines.\n",
      "Processed 5.6% of log lines.\n",
      "Processed 5.6% of log lines.\n",
      "Processed 5.6% of log lines.\n",
      "Processed 5.6% of log lines.\n",
      "Processed 5.6% of log lines.\n",
      "Processed 5.6% of log lines.\n",
      "Processed 5.6% of log lines.\n",
      "Processed 5.7% of log lines.\n",
      "Processed 5.7% of log lines.\n",
      "Processed 5.7% of log lines.\n",
      "Processed 5.7% of log lines.\n",
      "Processed 5.7% of log lines.\n",
      "Processed 5.7% of log lines.\n",
      "Processed 5.7% of log lines.\n",
      "Processed 5.7% of log lines.\n",
      "Processed 5.7% of log lines.\n",
      "Processed 5.7% of log lines.\n",
      "Processed 5.7% of log lines.\n",
      "Processed 5.8% of log lines.\n",
      "Processed 5.8% of log lines.\n",
      "Processed 5.8% of log lines.\n",
      "Processed 5.8% of log lines.\n",
      "Processed 5.8% of log lines.\n",
      "Processed 5.8% of log lines.\n",
      "Processed 5.8% of log lines.\n",
      "Processed 5.8% of log lines.\n",
      "Processed 5.8% of log lines.\n",
      "Processed 5.8% of log lines.\n",
      "Processed 5.8% of log lines.\n",
      "Processed 5.9% of log lines.\n",
      "Processed 5.9% of log lines.\n",
      "Processed 5.9% of log lines.\n",
      "Processed 5.9% of log lines.\n",
      "Processed 5.9% of log lines.\n",
      "Processed 5.9% of log lines.\n",
      "Processed 5.9% of log lines.\n",
      "Processed 5.9% of log lines.\n",
      "Processed 5.9% of log lines.\n",
      "Processed 5.9% of log lines.\n",
      "Processed 5.9% of log lines.\n",
      "Processed 6.0% of log lines.\n",
      "Processed 6.0% of log lines.\n",
      "Processed 6.0% of log lines.\n",
      "Processed 6.0% of log lines.\n",
      "Processed 6.0% of log lines.\n",
      "Processed 6.0% of log lines.\n",
      "Processed 6.0% of log lines.\n",
      "Processed 6.0% of log lines.\n",
      "Processed 6.0% of log lines.\n",
      "Processed 6.0% of log lines.\n",
      "Processed 6.0% of log lines.\n",
      "Processed 6.0% of log lines.\n",
      "Processed 6.1% of log lines.\n",
      "Processed 6.1% of log lines.\n",
      "Processed 6.1% of log lines.\n",
      "Processed 6.1% of log lines.\n",
      "Processed 6.1% of log lines.\n",
      "Processed 6.1% of log lines.\n",
      "Processed 6.1% of log lines.\n",
      "Processed 6.1% of log lines.\n",
      "Processed 6.1% of log lines.\n",
      "Processed 6.1% of log lines.\n",
      "Processed 6.1% of log lines.\n",
      "Processed 6.2% of log lines.\n",
      "Processed 6.2% of log lines.\n",
      "Processed 6.2% of log lines.\n",
      "Processed 6.2% of log lines.\n",
      "Processed 6.2% of log lines.\n",
      "Processed 6.2% of log lines.\n",
      "Processed 6.2% of log lines.\n",
      "Processed 6.2% of log lines.\n",
      "Processed 6.2% of log lines.\n",
      "Processed 6.2% of log lines.\n",
      "Processed 6.2% of log lines.\n",
      "Processed 6.3% of log lines.\n",
      "Processed 6.3% of log lines.\n",
      "Processed 6.3% of log lines.\n",
      "Processed 6.3% of log lines.\n",
      "Processed 6.3% of log lines.\n",
      "Processed 6.3% of log lines.\n",
      "Processed 6.3% of log lines.\n",
      "Processed 6.3% of log lines.\n",
      "Processed 6.3% of log lines.\n",
      "Processed 6.3% of log lines.\n",
      "Processed 6.3% of log lines.\n",
      "Processed 6.4% of log lines.\n",
      "Processed 6.4% of log lines.\n",
      "Processed 6.4% of log lines.\n",
      "Processed 6.4% of log lines.\n",
      "Processed 6.4% of log lines.\n",
      "Processed 6.4% of log lines.\n",
      "Processed 6.4% of log lines.\n",
      "Processed 6.4% of log lines.\n",
      "Processed 6.4% of log lines.\n",
      "Processed 6.4% of log lines.\n",
      "Processed 6.4% of log lines.\n",
      "Processed 6.5% of log lines.\n",
      "Processed 6.5% of log lines.\n",
      "Processed 6.5% of log lines.\n",
      "Processed 6.5% of log lines.\n",
      "Processed 6.5% of log lines.\n",
      "Processed 6.5% of log lines.\n",
      "Processed 6.5% of log lines.\n",
      "Processed 6.5% of log lines.\n",
      "Processed 6.5% of log lines.\n",
      "Processed 6.5% of log lines.\n",
      "Processed 6.5% of log lines.\n",
      "Processed 6.5% of log lines.\n",
      "Processed 6.6% of log lines.\n",
      "Processed 6.6% of log lines.\n",
      "Processed 6.6% of log lines.\n",
      "Processed 6.6% of log lines.\n",
      "Processed 6.6% of log lines.\n",
      "Processed 6.6% of log lines.\n",
      "Processed 6.6% of log lines.\n",
      "Processed 6.6% of log lines.\n",
      "Processed 6.6% of log lines.\n",
      "Processed 6.6% of log lines.\n",
      "Processed 6.6% of log lines.\n",
      "Processed 6.7% of log lines.\n",
      "Processed 6.7% of log lines.\n",
      "Processed 6.7% of log lines.\n",
      "Processed 6.7% of log lines.\n",
      "Processed 6.7% of log lines.\n",
      "Processed 6.7% of log lines.\n",
      "Processed 6.7% of log lines.\n",
      "Processed 6.7% of log lines.\n",
      "Processed 6.7% of log lines.\n",
      "Processed 6.7% of log lines.\n",
      "Processed 6.7% of log lines.\n",
      "Processed 6.8% of log lines.\n",
      "Processed 6.8% of log lines.\n",
      "Processed 6.8% of log lines.\n",
      "Processed 6.8% of log lines.\n",
      "Processed 6.8% of log lines.\n",
      "Processed 6.8% of log lines.\n",
      "Processed 6.8% of log lines.\n",
      "Processed 6.8% of log lines.\n",
      "Processed 6.8% of log lines.\n",
      "Processed 6.8% of log lines.\n",
      "Processed 6.8% of log lines.\n",
      "Processed 6.9% of log lines.\n",
      "Processed 6.9% of log lines.\n",
      "Processed 6.9% of log lines.\n",
      "Processed 6.9% of log lines.\n",
      "Processed 6.9% of log lines.\n",
      "Processed 6.9% of log lines.\n",
      "Processed 6.9% of log lines.\n",
      "Processed 6.9% of log lines.\n",
      "Processed 6.9% of log lines.\n",
      "Processed 6.9% of log lines.\n",
      "Processed 6.9% of log lines.\n",
      "Processed 7.0% of log lines.\n",
      "Processed 7.0% of log lines.\n",
      "Processed 7.0% of log lines.\n",
      "Processed 7.0% of log lines.\n",
      "Processed 7.0% of log lines.\n",
      "Processed 7.0% of log lines.\n",
      "Processed 7.0% of log lines.\n",
      "Processed 7.0% of log lines.\n",
      "Processed 7.0% of log lines.\n",
      "Processed 7.0% of log lines.\n",
      "Processed 7.0% of log lines.\n",
      "Processed 7.1% of log lines.\n",
      "Processed 7.1% of log lines.\n",
      "Processed 7.1% of log lines.\n",
      "Processed 7.1% of log lines.\n",
      "Processed 7.1% of log lines.\n",
      "Processed 7.1% of log lines.\n",
      "Processed 7.1% of log lines.\n",
      "Processed 7.1% of log lines.\n",
      "Processed 7.1% of log lines.\n",
      "Processed 7.1% of log lines.\n",
      "Processed 7.1% of log lines.\n",
      "Processed 7.1% of log lines.\n",
      "Processed 7.2% of log lines.\n",
      "Processed 7.2% of log lines.\n",
      "Processed 7.2% of log lines.\n",
      "Processed 7.2% of log lines.\n",
      "Processed 7.2% of log lines.\n",
      "Processed 7.2% of log lines.\n",
      "Processed 7.2% of log lines.\n",
      "Processed 7.2% of log lines.\n",
      "Processed 7.2% of log lines.\n",
      "Processed 7.2% of log lines.\n",
      "Processed 7.2% of log lines.\n",
      "Processed 7.3% of log lines.\n",
      "Processed 7.3% of log lines.\n",
      "Processed 7.3% of log lines.\n",
      "Processed 7.3% of log lines.\n",
      "Processed 7.3% of log lines.\n",
      "Processed 7.3% of log lines.\n",
      "Processed 7.3% of log lines.\n",
      "Processed 7.3% of log lines.\n",
      "Processed 7.3% of log lines.\n",
      "Processed 7.3% of log lines.\n",
      "Processed 7.3% of log lines.\n",
      "Processed 7.4% of log lines.\n",
      "Processed 7.4% of log lines.\n",
      "Processed 7.4% of log lines.\n",
      "Processed 7.4% of log lines.\n",
      "Processed 7.4% of log lines.\n",
      "Processed 7.4% of log lines.\n",
      "Processed 7.4% of log lines.\n",
      "Processed 7.4% of log lines.\n",
      "Processed 7.4% of log lines.\n",
      "Processed 7.4% of log lines.\n",
      "Processed 7.4% of log lines.\n",
      "Processed 7.5% of log lines.\n",
      "Processed 7.5% of log lines.\n",
      "Processed 7.5% of log lines.\n",
      "Processed 7.5% of log lines.\n",
      "Processed 7.5% of log lines.\n",
      "Processed 7.5% of log lines.\n",
      "Processed 7.5% of log lines.\n",
      "Processed 7.5% of log lines.\n",
      "Processed 7.5% of log lines.\n",
      "Processed 7.5% of log lines.\n",
      "Processed 7.5% of log lines.\n",
      "Processed 7.6% of log lines.\n",
      "Processed 7.6% of log lines.\n",
      "Processed 7.6% of log lines.\n",
      "Processed 7.6% of log lines.\n",
      "Processed 7.6% of log lines.\n",
      "Processed 7.6% of log lines.\n",
      "Processed 7.6% of log lines.\n",
      "Processed 7.6% of log lines.\n",
      "Processed 7.6% of log lines.\n",
      "Processed 7.6% of log lines.\n",
      "Processed 7.6% of log lines.\n",
      "Processed 7.7% of log lines.\n",
      "Processed 7.7% of log lines.\n",
      "Processed 7.7% of log lines.\n",
      "Processed 7.7% of log lines.\n",
      "Processed 7.7% of log lines.\n",
      "Processed 7.7% of log lines.\n",
      "Processed 7.7% of log lines.\n",
      "Processed 7.7% of log lines.\n",
      "Processed 7.7% of log lines.\n",
      "Processed 7.7% of log lines.\n",
      "Processed 7.7% of log lines.\n",
      "Processed 7.7% of log lines.\n",
      "Processed 7.8% of log lines.\n",
      "Processed 7.8% of log lines.\n",
      "Processed 7.8% of log lines.\n",
      "Processed 7.8% of log lines.\n",
      "Processed 7.8% of log lines.\n",
      "Processed 7.8% of log lines.\n",
      "Processed 7.8% of log lines.\n",
      "Processed 7.8% of log lines.\n",
      "Processed 7.8% of log lines.\n",
      "Processed 7.8% of log lines.\n",
      "Processed 7.8% of log lines.\n",
      "Processed 7.9% of log lines.\n",
      "Processed 7.9% of log lines.\n",
      "Processed 7.9% of log lines.\n",
      "Processed 7.9% of log lines.\n",
      "Processed 7.9% of log lines.\n",
      "Processed 7.9% of log lines.\n",
      "Processed 7.9% of log lines.\n",
      "Processed 7.9% of log lines.\n",
      "Processed 7.9% of log lines.\n",
      "Processed 7.9% of log lines.\n",
      "Processed 7.9% of log lines.\n",
      "Processed 8.0% of log lines.\n",
      "Processed 8.0% of log lines.\n",
      "Processed 8.0% of log lines.\n",
      "Processed 8.0% of log lines.\n",
      "Processed 8.0% of log lines.\n",
      "Processed 8.0% of log lines.\n",
      "Processed 8.0% of log lines.\n",
      "Processed 8.0% of log lines.\n",
      "Processed 8.0% of log lines.\n",
      "Processed 8.0% of log lines.\n",
      "Processed 8.0% of log lines.\n",
      "Processed 8.1% of log lines.\n",
      "Processed 8.1% of log lines.\n",
      "Processed 8.1% of log lines.\n",
      "Processed 8.1% of log lines.\n",
      "Processed 8.1% of log lines.\n",
      "Processed 8.1% of log lines.\n",
      "Processed 8.1% of log lines.\n",
      "Processed 8.1% of log lines.\n",
      "Processed 8.1% of log lines.\n",
      "Processed 8.1% of log lines.\n",
      "Processed 8.1% of log lines.\n",
      "Processed 8.2% of log lines.\n",
      "Processed 8.2% of log lines.\n",
      "Processed 8.2% of log lines.\n",
      "Processed 8.2% of log lines.\n",
      "Processed 8.2% of log lines.\n",
      "Processed 8.2% of log lines.\n",
      "Processed 8.2% of log lines.\n",
      "Processed 8.2% of log lines.\n",
      "Processed 8.2% of log lines.\n",
      "Processed 8.2% of log lines.\n",
      "Processed 8.2% of log lines.\n",
      "Processed 8.3% of log lines.\n",
      "Processed 8.3% of log lines.\n",
      "Processed 8.3% of log lines.\n",
      "Processed 8.3% of log lines.\n",
      "Processed 8.3% of log lines.\n",
      "Processed 8.3% of log lines.\n",
      "Processed 8.3% of log lines.\n",
      "Processed 8.3% of log lines.\n",
      "Processed 8.3% of log lines.\n",
      "Processed 8.3% of log lines.\n",
      "Processed 8.3% of log lines.\n",
      "Processed 8.3% of log lines.\n",
      "Processed 8.4% of log lines.\n",
      "Processed 8.4% of log lines.\n",
      "Processed 8.4% of log lines.\n",
      "Processed 8.4% of log lines.\n",
      "Processed 8.4% of log lines.\n",
      "Processed 8.4% of log lines.\n",
      "Processed 8.4% of log lines.\n",
      "Processed 8.4% of log lines.\n",
      "Processed 8.4% of log lines.\n",
      "Processed 8.4% of log lines.\n",
      "Processed 8.4% of log lines.\n",
      "Processed 8.5% of log lines.\n",
      "Processed 8.5% of log lines.\n",
      "Processed 8.5% of log lines.\n",
      "Processed 8.5% of log lines.\n",
      "Processed 8.5% of log lines.\n",
      "Processed 8.5% of log lines.\n",
      "Processed 8.5% of log lines.\n",
      "Processed 8.5% of log lines.\n",
      "Processed 8.5% of log lines.\n",
      "Processed 8.5% of log lines.\n",
      "Processed 8.5% of log lines.\n",
      "Processed 8.6% of log lines.\n",
      "Processed 8.6% of log lines.\n",
      "Processed 8.6% of log lines.\n",
      "Processed 8.6% of log lines.\n",
      "Processed 8.6% of log lines.\n",
      "Processed 8.6% of log lines.\n",
      "Processed 8.6% of log lines.\n",
      "Processed 8.6% of log lines.\n",
      "Processed 8.6% of log lines.\n",
      "Processed 8.6% of log lines.\n",
      "Processed 8.6% of log lines.\n",
      "Processed 8.7% of log lines.\n",
      "Processed 8.7% of log lines.\n",
      "Processed 8.7% of log lines.\n",
      "Processed 8.7% of log lines.\n",
      "Processed 8.7% of log lines.\n",
      "Processed 8.7% of log lines.\n",
      "Processed 8.7% of log lines.\n",
      "Processed 8.7% of log lines.\n",
      "Processed 8.7% of log lines.\n",
      "Processed 8.7% of log lines.\n",
      "Processed 8.7% of log lines.\n",
      "Processed 8.8% of log lines.\n",
      "Processed 8.8% of log lines.\n",
      "Processed 8.8% of log lines.\n",
      "Processed 8.8% of log lines.\n",
      "Processed 8.8% of log lines.\n",
      "Processed 8.8% of log lines.\n",
      "Processed 8.8% of log lines.\n",
      "Processed 8.8% of log lines.\n",
      "Processed 8.8% of log lines.\n",
      "Processed 8.8% of log lines.\n",
      "Processed 8.8% of log lines.\n",
      "Processed 8.8% of log lines.\n",
      "Processed 8.9% of log lines.\n",
      "Processed 8.9% of log lines.\n",
      "Processed 8.9% of log lines.\n",
      "Processed 8.9% of log lines.\n",
      "Processed 8.9% of log lines.\n",
      "Processed 8.9% of log lines.\n",
      "Processed 8.9% of log lines.\n",
      "Processed 8.9% of log lines.\n",
      "Processed 8.9% of log lines.\n",
      "Processed 8.9% of log lines.\n",
      "Processed 8.9% of log lines.\n",
      "Processed 9.0% of log lines.\n",
      "Processed 9.0% of log lines.\n",
      "Processed 9.0% of log lines.\n",
      "Processed 9.0% of log lines.\n",
      "Processed 9.0% of log lines.\n",
      "Processed 9.0% of log lines.\n",
      "Processed 9.0% of log lines.\n",
      "Processed 9.0% of log lines.\n",
      "Processed 9.0% of log lines.\n",
      "Processed 9.0% of log lines.\n",
      "Processed 9.0% of log lines.\n",
      "Processed 9.1% of log lines.\n",
      "Processed 9.1% of log lines.\n",
      "Processed 9.1% of log lines.\n",
      "Processed 9.1% of log lines.\n",
      "Processed 9.1% of log lines.\n",
      "Processed 9.1% of log lines.\n",
      "Processed 9.1% of log lines.\n",
      "Processed 9.1% of log lines.\n",
      "Processed 9.1% of log lines.\n",
      "Processed 9.1% of log lines.\n",
      "Processed 9.1% of log lines.\n",
      "Processed 9.2% of log lines.\n",
      "Processed 9.2% of log lines.\n",
      "Processed 9.2% of log lines.\n",
      "Processed 9.2% of log lines.\n",
      "Processed 9.2% of log lines.\n",
      "Processed 9.2% of log lines.\n",
      "Processed 9.2% of log lines.\n",
      "Processed 9.2% of log lines.\n",
      "Processed 9.2% of log lines.\n",
      "Processed 9.2% of log lines.\n",
      "Processed 9.2% of log lines.\n",
      "Processed 9.3% of log lines.\n",
      "Processed 9.3% of log lines.\n",
      "Processed 9.3% of log lines.\n",
      "Processed 9.3% of log lines.\n",
      "Processed 9.3% of log lines.\n",
      "Processed 9.3% of log lines.\n",
      "Processed 9.3% of log lines.\n",
      "Processed 9.3% of log lines.\n",
      "Processed 9.3% of log lines.\n",
      "Processed 9.3% of log lines.\n",
      "Processed 9.3% of log lines.\n",
      "Processed 9.4% of log lines.\n",
      "Processed 9.4% of log lines.\n",
      "Processed 9.4% of log lines.\n",
      "Processed 9.4% of log lines.\n",
      "Processed 9.4% of log lines.\n",
      "Processed 9.4% of log lines.\n",
      "Processed 9.4% of log lines.\n",
      "Processed 9.4% of log lines.\n",
      "Processed 9.4% of log lines.\n",
      "Processed 9.4% of log lines.\n",
      "Processed 9.4% of log lines.\n",
      "Processed 9.4% of log lines.\n",
      "Processed 9.5% of log lines.\n",
      "Processed 9.5% of log lines.\n",
      "Processed 9.5% of log lines.\n",
      "Processed 9.5% of log lines.\n",
      "Processed 9.5% of log lines.\n",
      "Processed 9.5% of log lines.\n",
      "Processed 9.5% of log lines.\n",
      "Processed 9.5% of log lines.\n",
      "Processed 9.5% of log lines.\n",
      "Processed 9.5% of log lines.\n",
      "Processed 9.5% of log lines.\n",
      "Processed 9.6% of log lines.\n",
      "Processed 9.6% of log lines.\n",
      "Processed 9.6% of log lines.\n",
      "Processed 9.6% of log lines.\n",
      "Processed 9.6% of log lines.\n",
      "Processed 9.6% of log lines.\n",
      "Processed 9.6% of log lines.\n",
      "Processed 9.6% of log lines.\n",
      "Processed 9.6% of log lines.\n",
      "Processed 9.6% of log lines.\n",
      "Processed 9.6% of log lines.\n",
      "Processed 9.7% of log lines.\n",
      "Processed 9.7% of log lines.\n",
      "Processed 9.7% of log lines.\n",
      "Processed 9.7% of log lines.\n",
      "Processed 9.7% of log lines.\n",
      "Processed 9.7% of log lines.\n",
      "Processed 9.7% of log lines.\n",
      "Processed 9.7% of log lines.\n",
      "Processed 9.7% of log lines.\n",
      "Processed 9.7% of log lines.\n",
      "Processed 9.7% of log lines.\n",
      "Processed 9.8% of log lines.\n",
      "Processed 9.8% of log lines.\n",
      "Processed 9.8% of log lines.\n",
      "Processed 9.8% of log lines.\n",
      "Processed 9.8% of log lines.\n",
      "Processed 9.8% of log lines.\n",
      "Processed 9.8% of log lines.\n",
      "Processed 9.8% of log lines.\n",
      "Processed 9.8% of log lines.\n",
      "Processed 9.8% of log lines.\n",
      "Processed 9.8% of log lines.\n",
      "Processed 9.9% of log lines.\n",
      "Processed 9.9% of log lines.\n",
      "Processed 9.9% of log lines.\n",
      "Processed 9.9% of log lines.\n",
      "Processed 9.9% of log lines.\n",
      "Processed 9.9% of log lines.\n",
      "Processed 9.9% of log lines.\n",
      "Processed 9.9% of log lines.\n",
      "Processed 9.9% of log lines.\n",
      "Processed 9.9% of log lines.\n",
      "Processed 9.9% of log lines.\n",
      "Processed 10.0% of log lines.\n",
      "Processed 10.0% of log lines.\n",
      "Processed 10.0% of log lines.\n",
      "Processed 10.0% of log lines.\n",
      "Processed 10.0% of log lines.\n",
      "Processed 10.0% of log lines.\n",
      "Processed 10.0% of log lines.\n",
      "Processed 10.0% of log lines.\n",
      "Processed 10.0% of log lines.\n",
      "Processed 10.0% of log lines.\n",
      "Processed 10.0% of log lines.\n",
      "Processed 10.0% of log lines.\n",
      "Processed 10.1% of log lines.\n",
      "Processed 10.1% of log lines.\n",
      "Processed 10.1% of log lines.\n",
      "Processed 10.1% of log lines.\n",
      "Processed 10.1% of log lines.\n",
      "Processed 10.1% of log lines.\n",
      "Processed 10.1% of log lines.\n",
      "Processed 10.1% of log lines.\n",
      "Processed 10.1% of log lines.\n",
      "Processed 10.1% of log lines.\n",
      "Processed 10.1% of log lines.\n",
      "Processed 10.2% of log lines.\n",
      "Processed 10.2% of log lines.\n",
      "Processed 10.2% of log lines.\n",
      "Processed 10.2% of log lines.\n",
      "Processed 10.2% of log lines.\n",
      "Processed 10.2% of log lines.\n",
      "Processed 10.2% of log lines.\n",
      "Processed 10.2% of log lines.\n",
      "Processed 10.2% of log lines.\n",
      "Processed 10.2% of log lines.\n",
      "Processed 10.2% of log lines.\n",
      "Processed 10.3% of log lines.\n",
      "Processed 10.3% of log lines.\n",
      "Processed 10.3% of log lines.\n",
      "Processed 10.3% of log lines.\n",
      "Processed 10.3% of log lines.\n",
      "Processed 10.3% of log lines.\n",
      "Processed 10.3% of log lines.\n",
      "Processed 10.3% of log lines.\n",
      "Processed 10.3% of log lines.\n",
      "Processed 10.3% of log lines.\n",
      "Processed 10.3% of log lines.\n",
      "Processed 10.4% of log lines.\n",
      "Processed 10.4% of log lines.\n",
      "Processed 10.4% of log lines.\n",
      "Processed 10.4% of log lines.\n",
      "Processed 10.4% of log lines.\n",
      "Processed 10.4% of log lines.\n",
      "Processed 10.4% of log lines.\n",
      "Processed 10.4% of log lines.\n",
      "Processed 10.4% of log lines.\n",
      "Processed 10.4% of log lines.\n",
      "Processed 10.4% of log lines.\n",
      "Processed 10.5% of log lines.\n",
      "Processed 10.5% of log lines.\n",
      "Processed 10.5% of log lines.\n",
      "Processed 10.5% of log lines.\n",
      "Processed 10.5% of log lines.\n",
      "Processed 10.5% of log lines.\n",
      "Processed 10.5% of log lines.\n",
      "Processed 10.5% of log lines.\n",
      "Processed 10.5% of log lines.\n",
      "Processed 10.5% of log lines.\n",
      "Processed 10.5% of log lines.\n",
      "Processed 10.5% of log lines.\n",
      "Processed 10.6% of log lines.\n",
      "Processed 10.6% of log lines.\n",
      "Processed 10.6% of log lines.\n",
      "Processed 10.6% of log lines.\n",
      "Processed 10.6% of log lines.\n",
      "Processed 10.6% of log lines.\n",
      "Processed 10.6% of log lines.\n",
      "Processed 10.6% of log lines.\n",
      "Processed 10.6% of log lines.\n",
      "Processed 10.6% of log lines.\n",
      "Processed 10.6% of log lines.\n",
      "Processed 10.7% of log lines.\n",
      "Processed 10.7% of log lines.\n",
      "Processed 10.7% of log lines.\n",
      "Processed 10.7% of log lines.\n",
      "Processed 10.7% of log lines.\n",
      "Processed 10.7% of log lines.\n",
      "Processed 10.7% of log lines.\n",
      "Processed 10.7% of log lines.\n",
      "Processed 10.7% of log lines.\n",
      "Processed 10.7% of log lines.\n",
      "Processed 10.7% of log lines.\n",
      "Processed 10.8% of log lines.\n",
      "Processed 10.8% of log lines.\n",
      "Processed 10.8% of log lines.\n",
      "Processed 10.8% of log lines.\n",
      "Processed 10.8% of log lines.\n",
      "Processed 10.8% of log lines.\n",
      "Processed 10.8% of log lines.\n",
      "Processed 10.8% of log lines.\n",
      "Processed 10.8% of log lines.\n",
      "Processed 10.8% of log lines.\n",
      "Processed 10.8% of log lines.\n",
      "Processed 10.9% of log lines.\n",
      "Processed 10.9% of log lines.\n",
      "Processed 10.9% of log lines.\n",
      "Processed 10.9% of log lines.\n",
      "Processed 10.9% of log lines.\n",
      "Processed 10.9% of log lines.\n",
      "Processed 10.9% of log lines.\n",
      "Processed 10.9% of log lines.\n",
      "Processed 10.9% of log lines.\n",
      "Processed 10.9% of log lines.\n",
      "Processed 10.9% of log lines.\n",
      "Processed 11.0% of log lines.\n",
      "Processed 11.0% of log lines.\n",
      "Processed 11.0% of log lines.\n",
      "Processed 11.0% of log lines.\n",
      "Processed 11.0% of log lines.\n",
      "Processed 11.0% of log lines.\n",
      "Processed 11.0% of log lines.\n",
      "Processed 11.0% of log lines.\n",
      "Processed 11.0% of log lines.\n",
      "Processed 11.0% of log lines.\n",
      "Processed 11.0% of log lines.\n",
      "Processed 11.1% of log lines.\n",
      "Processed 11.1% of log lines.\n",
      "Processed 11.1% of log lines.\n",
      "Processed 11.1% of log lines.\n",
      "Processed 11.1% of log lines.\n",
      "Processed 11.1% of log lines.\n",
      "Processed 11.1% of log lines.\n",
      "Processed 11.1% of log lines.\n",
      "Processed 11.1% of log lines.\n",
      "Processed 11.1% of log lines.\n",
      "Processed 11.1% of log lines.\n",
      "Processed 11.1% of log lines.\n",
      "Processed 11.2% of log lines.\n",
      "Processed 11.2% of log lines.\n",
      "Processed 11.2% of log lines.\n",
      "Processed 11.2% of log lines.\n",
      "Processed 11.2% of log lines.\n",
      "Processed 11.2% of log lines.\n",
      "Processed 11.2% of log lines.\n",
      "Processed 11.2% of log lines.\n",
      "Processed 11.2% of log lines.\n",
      "Processed 11.2% of log lines.\n",
      "Processed 11.2% of log lines.\n",
      "Processed 11.3% of log lines.\n",
      "Processed 11.3% of log lines.\n",
      "Processed 11.3% of log lines.\n",
      "Processed 11.3% of log lines.\n",
      "Processed 11.3% of log lines.\n",
      "Processed 11.3% of log lines.\n",
      "Processed 11.3% of log lines.\n",
      "Processed 11.3% of log lines.\n",
      "Processed 11.3% of log lines.\n",
      "Processed 11.3% of log lines.\n",
      "Processed 11.3% of log lines.\n",
      "Processed 11.4% of log lines.\n",
      "Processed 11.4% of log lines.\n",
      "Processed 11.4% of log lines.\n",
      "Processed 11.4% of log lines.\n",
      "Processed 11.4% of log lines.\n",
      "Processed 11.4% of log lines.\n",
      "Processed 11.4% of log lines.\n",
      "Processed 11.4% of log lines.\n",
      "Processed 11.4% of log lines.\n",
      "Processed 11.4% of log lines.\n",
      "Processed 11.4% of log lines.\n",
      "Processed 11.5% of log lines.\n",
      "Processed 11.5% of log lines.\n",
      "Processed 11.5% of log lines.\n",
      "Processed 11.5% of log lines.\n",
      "Processed 11.5% of log lines.\n",
      "Processed 11.5% of log lines.\n",
      "Processed 11.5% of log lines.\n",
      "Processed 11.5% of log lines.\n",
      "Processed 11.5% of log lines.\n",
      "Processed 11.5% of log lines.\n",
      "Processed 11.5% of log lines.\n",
      "Processed 11.6% of log lines.\n",
      "Processed 11.6% of log lines.\n",
      "Processed 11.6% of log lines.\n",
      "Processed 11.6% of log lines.\n",
      "Processed 11.6% of log lines.\n",
      "Processed 11.6% of log lines.\n",
      "Processed 11.6% of log lines.\n",
      "Processed 11.6% of log lines.\n",
      "Processed 11.6% of log lines.\n",
      "Processed 11.6% of log lines.\n",
      "Processed 11.6% of log lines.\n",
      "Processed 11.7% of log lines.\n",
      "Processed 11.7% of log lines.\n",
      "Processed 11.7% of log lines.\n",
      "Processed 11.7% of log lines.\n",
      "Processed 11.7% of log lines.\n",
      "Processed 11.7% of log lines.\n",
      "Processed 11.7% of log lines.\n",
      "Processed 11.7% of log lines.\n",
      "Processed 11.7% of log lines.\n",
      "Processed 11.7% of log lines.\n",
      "Processed 11.7% of log lines.\n",
      "Processed 11.7% of log lines.\n",
      "Processed 11.8% of log lines.\n",
      "Processed 11.8% of log lines.\n",
      "Processed 11.8% of log lines.\n",
      "Processed 11.8% of log lines.\n",
      "Processed 11.8% of log lines.\n",
      "Processed 11.8% of log lines.\n",
      "Processed 11.8% of log lines.\n",
      "Processed 11.8% of log lines.\n",
      "Processed 11.8% of log lines.\n",
      "Processed 11.8% of log lines.\n",
      "Processed 11.8% of log lines.\n",
      "Processed 11.9% of log lines.\n",
      "Processed 11.9% of log lines.\n",
      "Processed 11.9% of log lines.\n",
      "Processed 11.9% of log lines.\n",
      "Processed 11.9% of log lines.\n",
      "Processed 11.9% of log lines.\n",
      "Processed 11.9% of log lines.\n",
      "Processed 11.9% of log lines.\n",
      "Processed 11.9% of log lines.\n",
      "Processed 11.9% of log lines.\n",
      "Processed 11.9% of log lines.\n",
      "Processed 12.0% of log lines.\n",
      "Processed 12.0% of log lines.\n",
      "Processed 12.0% of log lines.\n",
      "Processed 12.0% of log lines.\n",
      "Processed 12.0% of log lines.\n",
      "Processed 12.0% of log lines.\n",
      "Processed 12.0% of log lines.\n",
      "Processed 12.0% of log lines.\n",
      "Processed 12.0% of log lines.\n",
      "Processed 12.0% of log lines.\n",
      "Processed 12.0% of log lines.\n",
      "Processed 12.1% of log lines.\n",
      "Processed 12.1% of log lines.\n",
      "Processed 12.1% of log lines.\n",
      "Processed 12.1% of log lines.\n",
      "Processed 12.1% of log lines.\n",
      "Processed 12.1% of log lines.\n",
      "Processed 12.1% of log lines.\n",
      "Processed 12.1% of log lines.\n",
      "Processed 12.1% of log lines.\n",
      "Processed 12.1% of log lines.\n",
      "Processed 12.1% of log lines.\n",
      "Processed 12.2% of log lines.\n",
      "Processed 12.2% of log lines.\n",
      "Processed 12.2% of log lines.\n",
      "Processed 12.2% of log lines.\n",
      "Processed 12.2% of log lines.\n",
      "Processed 12.2% of log lines.\n",
      "Processed 12.2% of log lines.\n",
      "Processed 12.2% of log lines.\n",
      "Processed 12.2% of log lines.\n",
      "Processed 12.2% of log lines.\n",
      "Processed 12.2% of log lines.\n",
      "Processed 12.2% of log lines.\n",
      "Processed 12.3% of log lines.\n",
      "Processed 12.3% of log lines.\n",
      "Processed 12.3% of log lines.\n",
      "Processed 12.3% of log lines.\n",
      "Processed 12.3% of log lines.\n",
      "Processed 12.3% of log lines.\n",
      "Processed 12.3% of log lines.\n",
      "Processed 12.3% of log lines.\n",
      "Processed 12.3% of log lines.\n",
      "Processed 12.3% of log lines.\n",
      "Processed 12.3% of log lines.\n",
      "Processed 12.4% of log lines.\n",
      "Processed 12.4% of log lines.\n",
      "Processed 12.4% of log lines.\n",
      "Processed 12.4% of log lines.\n",
      "Processed 12.4% of log lines.\n",
      "Processed 12.4% of log lines.\n",
      "Processed 12.4% of log lines.\n",
      "Processed 12.4% of log lines.\n",
      "Processed 12.4% of log lines.\n",
      "Processed 12.4% of log lines.\n",
      "Processed 12.4% of log lines.\n",
      "Processed 12.5% of log lines.\n",
      "Processed 12.5% of log lines.\n",
      "Processed 12.5% of log lines.\n",
      "Processed 12.5% of log lines.\n",
      "Processed 12.5% of log lines.\n",
      "Processed 12.5% of log lines.\n",
      "Processed 12.5% of log lines.\n",
      "Processed 12.5% of log lines.\n",
      "Processed 12.5% of log lines.\n",
      "Processed 12.5% of log lines.\n",
      "Processed 12.5% of log lines.\n",
      "Processed 12.6% of log lines.\n",
      "Processed 12.6% of log lines.\n",
      "Processed 12.6% of log lines.\n",
      "Processed 12.6% of log lines.\n",
      "Processed 12.6% of log lines.\n",
      "Processed 12.6% of log lines.\n",
      "Processed 12.6% of log lines.\n",
      "Processed 12.6% of log lines.\n",
      "Processed 12.6% of log lines.\n",
      "Processed 12.6% of log lines.\n",
      "Processed 12.6% of log lines.\n",
      "Processed 12.7% of log lines.\n",
      "Processed 12.7% of log lines.\n",
      "Processed 12.7% of log lines.\n",
      "Processed 12.7% of log lines.\n",
      "Processed 12.7% of log lines.\n",
      "Processed 12.7% of log lines.\n",
      "Processed 12.7% of log lines.\n",
      "Processed 12.7% of log lines.\n",
      "Processed 12.7% of log lines.\n",
      "Processed 12.7% of log lines.\n",
      "Processed 12.7% of log lines.\n",
      "Processed 12.8% of log lines.\n",
      "Processed 12.8% of log lines.\n",
      "Processed 12.8% of log lines.\n",
      "Processed 12.8% of log lines.\n",
      "Processed 12.8% of log lines.\n",
      "Processed 12.8% of log lines.\n",
      "Processed 12.8% of log lines.\n",
      "Processed 12.8% of log lines.\n",
      "Processed 12.8% of log lines.\n",
      "Processed 12.8% of log lines.\n",
      "Processed 12.8% of log lines.\n",
      "Processed 12.8% of log lines.\n",
      "Processed 12.9% of log lines.\n",
      "Processed 12.9% of log lines.\n",
      "Processed 12.9% of log lines.\n",
      "Processed 12.9% of log lines.\n",
      "Processed 12.9% of log lines.\n",
      "Processed 12.9% of log lines.\n",
      "Processed 12.9% of log lines.\n",
      "Processed 12.9% of log lines.\n",
      "Processed 12.9% of log lines.\n",
      "Processed 12.9% of log lines.\n",
      "Processed 12.9% of log lines.\n",
      "Processed 13.0% of log lines.\n",
      "Processed 13.0% of log lines.\n",
      "Processed 13.0% of log lines.\n",
      "Processed 13.0% of log lines.\n",
      "Processed 13.0% of log lines.\n",
      "Processed 13.0% of log lines.\n",
      "Processed 13.0% of log lines.\n",
      "Processed 13.0% of log lines.\n",
      "Processed 13.0% of log lines.\n",
      "Processed 13.0% of log lines.\n",
      "Processed 13.0% of log lines.\n",
      "Processed 13.1% of log lines.\n",
      "Processed 13.1% of log lines.\n",
      "Processed 13.1% of log lines.\n",
      "Processed 13.1% of log lines.\n",
      "Processed 13.1% of log lines.\n",
      "Processed 13.1% of log lines.\n",
      "Processed 13.1% of log lines.\n",
      "Processed 13.1% of log lines.\n",
      "Processed 13.1% of log lines.\n",
      "Processed 13.1% of log lines.\n",
      "Processed 13.1% of log lines.\n",
      "Processed 13.2% of log lines.\n",
      "Processed 13.2% of log lines.\n",
      "Processed 13.2% of log lines.\n",
      "Processed 13.2% of log lines.\n",
      "Processed 13.2% of log lines.\n",
      "Processed 13.2% of log lines.\n",
      "Processed 13.2% of log lines.\n",
      "Processed 13.2% of log lines.\n",
      "Processed 13.2% of log lines.\n",
      "Processed 13.2% of log lines.\n",
      "Processed 13.2% of log lines.\n",
      "Processed 13.3% of log lines.\n",
      "Processed 13.3% of log lines.\n",
      "Processed 13.3% of log lines.\n",
      "Processed 13.3% of log lines.\n",
      "Processed 13.3% of log lines.\n",
      "Processed 13.3% of log lines.\n",
      "Processed 13.3% of log lines.\n",
      "Processed 13.3% of log lines.\n",
      "Processed 13.3% of log lines.\n",
      "Processed 13.3% of log lines.\n",
      "Processed 13.3% of log lines.\n",
      "Processed 13.4% of log lines.\n",
      "Processed 13.4% of log lines.\n",
      "Processed 13.4% of log lines.\n",
      "Processed 13.4% of log lines.\n",
      "Processed 13.4% of log lines.\n",
      "Processed 13.4% of log lines.\n",
      "Processed 13.4% of log lines.\n",
      "Processed 13.4% of log lines.\n",
      "Processed 13.4% of log lines.\n",
      "Processed 13.4% of log lines.\n",
      "Processed 13.4% of log lines.\n",
      "Processed 13.4% of log lines.\n",
      "Processed 13.5% of log lines.\n",
      "Processed 13.5% of log lines.\n",
      "Processed 13.5% of log lines.\n",
      "Processed 13.5% of log lines.\n",
      "Processed 13.5% of log lines.\n",
      "Processed 13.5% of log lines.\n",
      "Processed 13.5% of log lines.\n",
      "Processed 13.5% of log lines.\n",
      "Processed 13.5% of log lines.\n",
      "Processed 13.5% of log lines.\n",
      "Processed 13.5% of log lines.\n",
      "Processed 13.6% of log lines.\n",
      "Processed 13.6% of log lines.\n",
      "Processed 13.6% of log lines.\n",
      "Processed 13.6% of log lines.\n",
      "Processed 13.6% of log lines.\n",
      "Processed 13.6% of log lines.\n",
      "Processed 13.6% of log lines.\n",
      "Processed 13.6% of log lines.\n",
      "Processed 13.6% of log lines.\n",
      "Processed 13.6% of log lines.\n",
      "Processed 13.6% of log lines.\n",
      "Processed 13.7% of log lines.\n",
      "Processed 13.7% of log lines.\n",
      "Processed 13.7% of log lines.\n",
      "Processed 13.7% of log lines.\n",
      "Processed 13.7% of log lines.\n",
      "Processed 13.7% of log lines.\n",
      "Processed 13.7% of log lines.\n",
      "Processed 13.7% of log lines.\n",
      "Processed 13.7% of log lines.\n",
      "Processed 13.7% of log lines.\n",
      "Processed 13.7% of log lines.\n",
      "Processed 13.8% of log lines.\n",
      "Processed 13.8% of log lines.\n",
      "Processed 13.8% of log lines.\n",
      "Processed 13.8% of log lines.\n",
      "Processed 13.8% of log lines.\n",
      "Processed 13.8% of log lines.\n",
      "Processed 13.8% of log lines.\n",
      "Processed 13.8% of log lines.\n",
      "Processed 13.8% of log lines.\n",
      "Processed 13.8% of log lines.\n",
      "Processed 13.8% of log lines.\n",
      "Processed 13.9% of log lines.\n",
      "Processed 13.9% of log lines.\n",
      "Processed 13.9% of log lines.\n",
      "Processed 13.9% of log lines.\n",
      "Processed 13.9% of log lines.\n",
      "Processed 13.9% of log lines.\n",
      "Processed 13.9% of log lines.\n",
      "Processed 13.9% of log lines.\n",
      "Processed 13.9% of log lines.\n",
      "Processed 13.9% of log lines.\n",
      "Processed 13.9% of log lines.\n",
      "Processed 13.9% of log lines.\n",
      "Processed 14.0% of log lines.\n",
      "Processed 14.0% of log lines.\n",
      "Processed 14.0% of log lines.\n",
      "Processed 14.0% of log lines.\n",
      "Processed 14.0% of log lines.\n",
      "Processed 14.0% of log lines.\n",
      "Processed 14.0% of log lines.\n",
      "Processed 14.0% of log lines.\n",
      "Processed 14.0% of log lines.\n",
      "Processed 14.0% of log lines.\n",
      "Processed 14.0% of log lines.\n",
      "Processed 14.1% of log lines.\n",
      "Processed 14.1% of log lines.\n",
      "Processed 14.1% of log lines.\n",
      "Processed 14.1% of log lines.\n",
      "Processed 14.1% of log lines.\n",
      "Processed 14.1% of log lines.\n",
      "Processed 14.1% of log lines.\n",
      "Processed 14.1% of log lines.\n",
      "Processed 14.1% of log lines.\n",
      "Processed 14.1% of log lines.\n",
      "Processed 14.1% of log lines.\n",
      "Processed 14.2% of log lines.\n",
      "Processed 14.2% of log lines.\n",
      "Processed 14.2% of log lines.\n",
      "Processed 14.2% of log lines.\n",
      "Processed 14.2% of log lines.\n",
      "Processed 14.2% of log lines.\n",
      "Processed 14.2% of log lines.\n",
      "Processed 14.2% of log lines.\n",
      "Processed 14.2% of log lines.\n",
      "Processed 14.2% of log lines.\n",
      "Processed 14.2% of log lines.\n",
      "Processed 14.3% of log lines.\n",
      "Processed 14.3% of log lines.\n",
      "Processed 14.3% of log lines.\n",
      "Processed 14.3% of log lines.\n",
      "Processed 14.3% of log lines.\n",
      "Processed 14.3% of log lines.\n",
      "Processed 14.3% of log lines.\n",
      "Processed 14.3% of log lines.\n",
      "Processed 14.3% of log lines.\n",
      "Processed 14.3% of log lines.\n",
      "Processed 14.3% of log lines.\n",
      "Processed 14.4% of log lines.\n",
      "Processed 14.4% of log lines.\n",
      "Processed 14.4% of log lines.\n",
      "Processed 14.4% of log lines.\n",
      "Processed 14.4% of log lines.\n",
      "Processed 14.4% of log lines.\n",
      "Processed 14.4% of log lines.\n",
      "Processed 14.4% of log lines.\n",
      "Processed 14.4% of log lines.\n",
      "Processed 14.4% of log lines.\n",
      "Processed 14.4% of log lines.\n",
      "Processed 14.5% of log lines.\n",
      "Processed 14.5% of log lines.\n",
      "Processed 14.5% of log lines.\n",
      "Processed 14.5% of log lines.\n",
      "Processed 14.5% of log lines.\n",
      "Processed 14.5% of log lines.\n",
      "Processed 14.5% of log lines.\n",
      "Processed 14.5% of log lines.\n",
      "Processed 14.5% of log lines.\n",
      "Processed 14.5% of log lines.\n",
      "Processed 14.5% of log lines.\n",
      "Processed 14.5% of log lines.\n",
      "Processed 14.6% of log lines.\n",
      "Processed 14.6% of log lines.\n",
      "Processed 14.6% of log lines.\n",
      "Processed 14.6% of log lines.\n",
      "Processed 14.6% of log lines.\n",
      "Processed 14.6% of log lines.\n",
      "Processed 14.6% of log lines.\n",
      "Processed 14.6% of log lines.\n",
      "Processed 14.6% of log lines.\n",
      "Processed 14.6% of log lines.\n",
      "Processed 14.6% of log lines.\n",
      "Processed 14.7% of log lines.\n",
      "Processed 14.7% of log lines.\n",
      "Processed 14.7% of log lines.\n",
      "Processed 14.7% of log lines.\n",
      "Processed 14.7% of log lines.\n",
      "Processed 14.7% of log lines.\n",
      "Processed 14.7% of log lines.\n",
      "Processed 14.7% of log lines.\n",
      "Processed 14.7% of log lines.\n",
      "Processed 14.7% of log lines.\n",
      "Processed 14.7% of log lines.\n",
      "Processed 14.8% of log lines.\n",
      "Processed 14.8% of log lines.\n",
      "Processed 14.8% of log lines.\n",
      "Processed 14.8% of log lines.\n",
      "Processed 14.8% of log lines.\n",
      "Processed 14.8% of log lines.\n",
      "Processed 14.8% of log lines.\n",
      "Processed 14.8% of log lines.\n",
      "Processed 14.8% of log lines.\n",
      "Processed 14.8% of log lines.\n",
      "Processed 14.8% of log lines.\n",
      "Processed 14.9% of log lines.\n",
      "Processed 14.9% of log lines.\n",
      "Processed 14.9% of log lines.\n",
      "Processed 14.9% of log lines.\n",
      "Processed 14.9% of log lines.\n",
      "Processed 14.9% of log lines.\n",
      "Processed 14.9% of log lines.\n",
      "Processed 14.9% of log lines.\n",
      "Processed 14.9% of log lines.\n",
      "Processed 14.9% of log lines.\n",
      "Processed 14.9% of log lines.\n",
      "Processed 15.0% of log lines.\n",
      "Processed 15.0% of log lines.\n",
      "Processed 15.0% of log lines.\n",
      "Processed 15.0% of log lines.\n",
      "Processed 15.0% of log lines.\n",
      "Processed 15.0% of log lines.\n",
      "Processed 15.0% of log lines.\n",
      "Processed 15.0% of log lines.\n",
      "Processed 15.0% of log lines.\n",
      "Processed 15.0% of log lines.\n",
      "Processed 15.0% of log lines.\n",
      "Processed 15.1% of log lines.\n",
      "Processed 15.1% of log lines.\n",
      "Processed 15.1% of log lines.\n",
      "Processed 15.1% of log lines.\n",
      "Processed 15.1% of log lines.\n",
      "Processed 15.1% of log lines.\n",
      "Processed 15.1% of log lines.\n",
      "Processed 15.1% of log lines.\n",
      "Processed 15.1% of log lines.\n",
      "Processed 15.1% of log lines.\n",
      "Processed 15.1% of log lines.\n",
      "Processed 15.1% of log lines.\n",
      "Processed 15.2% of log lines.\n",
      "Processed 15.2% of log lines.\n",
      "Processed 15.2% of log lines.\n",
      "Processed 15.2% of log lines.\n",
      "Processed 15.2% of log lines.\n",
      "Processed 15.2% of log lines.\n",
      "Processed 15.2% of log lines.\n",
      "Processed 15.2% of log lines.\n",
      "Processed 15.2% of log lines.\n",
      "Processed 15.2% of log lines.\n",
      "Processed 15.2% of log lines.\n",
      "Processed 15.3% of log lines.\n",
      "Processed 15.3% of log lines.\n",
      "Processed 15.3% of log lines.\n",
      "Processed 15.3% of log lines.\n",
      "Processed 15.3% of log lines.\n",
      "Processed 15.3% of log lines.\n",
      "Processed 15.3% of log lines.\n",
      "Processed 15.3% of log lines.\n",
      "Processed 15.3% of log lines.\n",
      "Processed 15.3% of log lines.\n",
      "Processed 15.3% of log lines.\n",
      "Processed 15.4% of log lines.\n",
      "Processed 15.4% of log lines.\n",
      "Processed 15.4% of log lines.\n",
      "Processed 15.4% of log lines.\n",
      "Processed 15.4% of log lines.\n",
      "Processed 15.4% of log lines.\n",
      "Processed 15.4% of log lines.\n",
      "Processed 15.4% of log lines.\n",
      "Processed 15.4% of log lines.\n",
      "Processed 15.4% of log lines.\n",
      "Processed 15.4% of log lines.\n",
      "Processed 15.5% of log lines.\n",
      "Processed 15.5% of log lines.\n",
      "Processed 15.5% of log lines.\n",
      "Processed 15.5% of log lines.\n",
      "Processed 15.5% of log lines.\n",
      "Processed 15.5% of log lines.\n",
      "Processed 15.5% of log lines.\n",
      "Processed 15.5% of log lines.\n",
      "Processed 15.5% of log lines.\n",
      "Processed 15.5% of log lines.\n",
      "Processed 15.5% of log lines.\n",
      "Processed 15.6% of log lines.\n",
      "Processed 15.6% of log lines.\n",
      "Processed 15.6% of log lines.\n",
      "Processed 15.6% of log lines.\n",
      "Processed 15.6% of log lines.\n",
      "Processed 15.6% of log lines.\n",
      "Processed 15.6% of log lines.\n",
      "Processed 15.6% of log lines.\n",
      "Processed 15.6% of log lines.\n",
      "Processed 15.6% of log lines.\n",
      "Processed 15.6% of log lines.\n",
      "Processed 15.7% of log lines.\n",
      "Processed 15.7% of log lines.\n",
      "Processed 15.7% of log lines.\n",
      "Processed 15.7% of log lines.\n",
      "Processed 15.7% of log lines.\n",
      "Processed 15.7% of log lines.\n",
      "Processed 15.7% of log lines.\n",
      "Processed 15.7% of log lines.\n",
      "Processed 15.7% of log lines.\n",
      "Processed 15.7% of log lines.\n",
      "Processed 15.7% of log lines.\n",
      "Processed 15.7% of log lines.\n",
      "Processed 15.8% of log lines.\n",
      "Processed 15.8% of log lines.\n",
      "Processed 15.8% of log lines.\n",
      "Processed 15.8% of log lines.\n",
      "Processed 15.8% of log lines.\n",
      "Processed 15.8% of log lines.\n",
      "Processed 15.8% of log lines.\n",
      "Processed 15.8% of log lines.\n",
      "Processed 15.8% of log lines.\n",
      "Processed 15.8% of log lines.\n",
      "Processed 15.8% of log lines.\n",
      "Processed 15.9% of log lines.\n",
      "Processed 15.9% of log lines.\n",
      "Processed 15.9% of log lines.\n",
      "Processed 15.9% of log lines.\n",
      "Processed 15.9% of log lines.\n",
      "Processed 15.9% of log lines.\n",
      "Processed 15.9% of log lines.\n",
      "Processed 15.9% of log lines.\n",
      "Processed 15.9% of log lines.\n",
      "Processed 15.9% of log lines.\n",
      "Processed 15.9% of log lines.\n",
      "Processed 16.0% of log lines.\n",
      "Processed 16.0% of log lines.\n",
      "Processed 16.0% of log lines.\n",
      "Processed 16.0% of log lines.\n",
      "Processed 16.0% of log lines.\n",
      "Processed 16.0% of log lines.\n",
      "Processed 16.0% of log lines.\n",
      "Processed 16.0% of log lines.\n",
      "Processed 16.0% of log lines.\n",
      "Processed 16.0% of log lines.\n",
      "Processed 16.0% of log lines.\n",
      "Processed 16.1% of log lines.\n",
      "Processed 16.1% of log lines.\n",
      "Processed 16.1% of log lines.\n",
      "Processed 16.1% of log lines.\n",
      "Processed 16.1% of log lines.\n",
      "Processed 16.1% of log lines.\n",
      "Processed 16.1% of log lines.\n",
      "Processed 16.1% of log lines.\n",
      "Processed 16.1% of log lines.\n",
      "Processed 16.1% of log lines.\n",
      "Processed 16.1% of log lines.\n",
      "Processed 16.2% of log lines.\n",
      "Processed 16.2% of log lines.\n",
      "Processed 16.2% of log lines.\n",
      "Processed 16.2% of log lines.\n",
      "Processed 16.2% of log lines.\n",
      "Processed 16.2% of log lines.\n",
      "Processed 16.2% of log lines.\n",
      "Processed 16.2% of log lines.\n",
      "Processed 16.2% of log lines.\n",
      "Processed 16.2% of log lines.\n",
      "Processed 16.2% of log lines.\n",
      "Processed 16.2% of log lines.\n",
      "Processed 16.3% of log lines.\n",
      "Processed 16.3% of log lines.\n",
      "Processed 16.3% of log lines.\n",
      "Processed 16.3% of log lines.\n",
      "Processed 16.3% of log lines.\n",
      "Processed 16.3% of log lines.\n",
      "Processed 16.3% of log lines.\n",
      "Processed 16.3% of log lines.\n",
      "Processed 16.3% of log lines.\n",
      "Processed 16.3% of log lines.\n",
      "Processed 16.3% of log lines.\n",
      "Processed 16.4% of log lines.\n",
      "Processed 16.4% of log lines.\n",
      "Processed 16.4% of log lines.\n",
      "Processed 16.4% of log lines.\n",
      "Processed 16.4% of log lines.\n",
      "Processed 16.4% of log lines.\n",
      "Processed 16.4% of log lines.\n",
      "Processed 16.4% of log lines.\n",
      "Processed 16.4% of log lines.\n",
      "Processed 16.4% of log lines.\n",
      "Processed 16.4% of log lines.\n",
      "Processed 16.5% of log lines.\n",
      "Processed 16.5% of log lines.\n",
      "Processed 16.5% of log lines.\n",
      "Processed 16.5% of log lines.\n",
      "Processed 16.5% of log lines.\n",
      "Processed 16.5% of log lines.\n",
      "Processed 16.5% of log lines.\n",
      "Processed 16.5% of log lines.\n",
      "Processed 16.5% of log lines.\n",
      "Processed 16.5% of log lines.\n",
      "Processed 16.5% of log lines.\n",
      "Processed 16.6% of log lines.\n",
      "Processed 16.6% of log lines.\n",
      "Processed 16.6% of log lines.\n",
      "Processed 16.6% of log lines.\n",
      "Processed 16.6% of log lines.\n",
      "Processed 16.6% of log lines.\n",
      "Processed 16.6% of log lines.\n",
      "Processed 16.6% of log lines.\n",
      "Processed 16.6% of log lines.\n",
      "Processed 16.6% of log lines.\n",
      "Processed 16.6% of log lines.\n",
      "Processed 16.7% of log lines.\n",
      "Processed 16.7% of log lines.\n",
      "Processed 16.7% of log lines.\n",
      "Processed 16.7% of log lines.\n",
      "Processed 16.7% of log lines.\n",
      "Processed 16.7% of log lines.\n",
      "Processed 16.7% of log lines.\n",
      "Processed 16.7% of log lines.\n",
      "Processed 16.7% of log lines.\n",
      "Processed 16.7% of log lines.\n",
      "Processed 16.7% of log lines.\n",
      "Processed 16.8% of log lines.\n",
      "Processed 16.8% of log lines.\n",
      "Processed 16.8% of log lines.\n",
      "Processed 16.8% of log lines.\n",
      "Processed 16.8% of log lines.\n",
      "Processed 16.8% of log lines.\n",
      "Processed 16.8% of log lines.\n",
      "Processed 16.8% of log lines.\n",
      "Processed 16.8% of log lines.\n",
      "Processed 16.8% of log lines.\n",
      "Processed 16.8% of log lines.\n",
      "Processed 16.8% of log lines.\n",
      "Processed 16.9% of log lines.\n",
      "Processed 16.9% of log lines.\n",
      "Processed 16.9% of log lines.\n",
      "Processed 16.9% of log lines.\n",
      "Processed 16.9% of log lines.\n",
      "Processed 16.9% of log lines.\n",
      "Processed 16.9% of log lines.\n",
      "Processed 16.9% of log lines.\n",
      "Processed 16.9% of log lines.\n",
      "Processed 16.9% of log lines.\n",
      "Processed 16.9% of log lines.\n",
      "Processed 17.0% of log lines.\n",
      "Processed 17.0% of log lines.\n",
      "Processed 17.0% of log lines.\n",
      "Processed 17.0% of log lines.\n",
      "Processed 17.0% of log lines.\n",
      "Processed 17.0% of log lines.\n",
      "Processed 17.0% of log lines.\n",
      "Processed 17.0% of log lines.\n",
      "Processed 17.0% of log lines.\n",
      "Processed 17.0% of log lines.\n",
      "Processed 17.0% of log lines.\n",
      "Processed 17.1% of log lines.\n",
      "Processed 17.1% of log lines.\n",
      "Processed 17.1% of log lines.\n",
      "Processed 17.1% of log lines.\n",
      "Processed 17.1% of log lines.\n",
      "Processed 17.1% of log lines.\n",
      "Processed 17.1% of log lines.\n",
      "Processed 17.1% of log lines.\n",
      "Processed 17.1% of log lines.\n",
      "Processed 17.1% of log lines.\n",
      "Processed 17.1% of log lines.\n",
      "Processed 17.2% of log lines.\n",
      "Processed 17.2% of log lines.\n",
      "Processed 17.2% of log lines.\n",
      "Processed 17.2% of log lines.\n",
      "Processed 17.2% of log lines.\n",
      "Processed 17.2% of log lines.\n",
      "Processed 17.2% of log lines.\n",
      "Processed 17.2% of log lines.\n",
      "Processed 17.2% of log lines.\n",
      "Processed 17.2% of log lines.\n",
      "Processed 17.2% of log lines.\n",
      "Processed 17.3% of log lines.\n",
      "Processed 17.3% of log lines.\n",
      "Processed 17.3% of log lines.\n",
      "Processed 17.3% of log lines.\n",
      "Processed 17.3% of log lines.\n",
      "Processed 17.3% of log lines.\n",
      "Processed 17.3% of log lines.\n",
      "Processed 17.3% of log lines.\n",
      "Processed 17.3% of log lines.\n",
      "Processed 17.3% of log lines.\n",
      "Processed 17.3% of log lines.\n",
      "Processed 17.4% of log lines.\n",
      "Processed 17.4% of log lines.\n",
      "Processed 17.4% of log lines.\n",
      "Processed 17.4% of log lines.\n",
      "Processed 17.4% of log lines.\n",
      "Processed 17.4% of log lines.\n",
      "Processed 17.4% of log lines.\n",
      "Processed 17.4% of log lines.\n",
      "Processed 17.4% of log lines.\n",
      "Processed 17.4% of log lines.\n",
      "Processed 17.4% of log lines.\n",
      "Processed 17.4% of log lines.\n",
      "Processed 17.5% of log lines.\n",
      "Processed 17.5% of log lines.\n",
      "Processed 17.5% of log lines.\n",
      "Processed 17.5% of log lines.\n",
      "Processed 17.5% of log lines.\n",
      "Processed 17.5% of log lines.\n",
      "Processed 17.5% of log lines.\n",
      "Processed 17.5% of log lines.\n",
      "Processed 17.5% of log lines.\n",
      "Processed 17.5% of log lines.\n",
      "Processed 17.5% of log lines.\n",
      "Processed 17.6% of log lines.\n",
      "Processed 17.6% of log lines.\n",
      "Processed 17.6% of log lines.\n",
      "Processed 17.6% of log lines.\n",
      "Processed 17.6% of log lines.\n",
      "Processed 17.6% of log lines.\n",
      "Processed 17.6% of log lines.\n",
      "Processed 17.6% of log lines.\n",
      "Processed 17.6% of log lines.\n",
      "Processed 17.6% of log lines.\n",
      "Processed 17.6% of log lines.\n",
      "Processed 17.7% of log lines.\n",
      "Processed 17.7% of log lines.\n",
      "Processed 17.7% of log lines.\n",
      "Processed 17.7% of log lines.\n",
      "Processed 17.7% of log lines.\n",
      "Processed 17.7% of log lines.\n",
      "Processed 17.7% of log lines.\n",
      "Processed 17.7% of log lines.\n",
      "Processed 17.7% of log lines.\n",
      "Processed 17.7% of log lines.\n",
      "Processed 17.7% of log lines.\n",
      "Processed 17.8% of log lines.\n",
      "Processed 17.8% of log lines.\n",
      "Processed 17.8% of log lines.\n",
      "Processed 17.8% of log lines.\n",
      "Processed 17.8% of log lines.\n",
      "Processed 17.8% of log lines.\n",
      "Processed 17.8% of log lines.\n",
      "Processed 17.8% of log lines.\n",
      "Processed 17.8% of log lines.\n",
      "Processed 17.8% of log lines.\n",
      "Processed 17.8% of log lines.\n",
      "Processed 17.9% of log lines.\n",
      "Processed 17.9% of log lines.\n",
      "Processed 17.9% of log lines.\n",
      "Processed 17.9% of log lines.\n",
      "Processed 17.9% of log lines.\n",
      "Processed 17.9% of log lines.\n",
      "Processed 17.9% of log lines.\n",
      "Processed 17.9% of log lines.\n",
      "Processed 17.9% of log lines.\n",
      "Processed 17.9% of log lines.\n",
      "Processed 17.9% of log lines.\n",
      "Processed 17.9% of log lines.\n",
      "Processed 18.0% of log lines.\n",
      "Processed 18.0% of log lines.\n",
      "Processed 18.0% of log lines.\n",
      "Processed 18.0% of log lines.\n",
      "Processed 18.0% of log lines.\n",
      "Processed 18.0% of log lines.\n",
      "Processed 18.0% of log lines.\n",
      "Processed 18.0% of log lines.\n",
      "Processed 18.0% of log lines.\n",
      "Processed 18.0% of log lines.\n",
      "Processed 18.0% of log lines.\n",
      "Processed 18.1% of log lines.\n",
      "Processed 18.1% of log lines.\n",
      "Processed 18.1% of log lines.\n",
      "Processed 18.1% of log lines.\n",
      "Processed 18.1% of log lines.\n",
      "Processed 18.1% of log lines.\n",
      "Processed 18.1% of log lines.\n",
      "Processed 18.1% of log lines.\n",
      "Processed 18.1% of log lines.\n",
      "Processed 18.1% of log lines.\n",
      "Processed 18.1% of log lines.\n",
      "Processed 18.2% of log lines.\n",
      "Processed 18.2% of log lines.\n",
      "Processed 18.2% of log lines.\n",
      "Processed 18.2% of log lines.\n",
      "Processed 18.2% of log lines.\n",
      "Processed 18.2% of log lines.\n",
      "Processed 18.2% of log lines.\n",
      "Processed 18.2% of log lines.\n",
      "Processed 18.2% of log lines.\n",
      "Processed 18.2% of log lines.\n",
      "Processed 18.2% of log lines.\n",
      "Processed 18.3% of log lines.\n",
      "Processed 18.3% of log lines.\n",
      "Processed 18.3% of log lines.\n",
      "Processed 18.3% of log lines.\n",
      "Processed 18.3% of log lines.\n",
      "Processed 18.3% of log lines.\n",
      "Processed 18.3% of log lines.\n",
      "Processed 18.3% of log lines.\n",
      "Processed 18.3% of log lines.\n",
      "Processed 18.3% of log lines.\n",
      "Processed 18.3% of log lines.\n",
      "Processed 18.4% of log lines.\n",
      "Processed 18.4% of log lines.\n",
      "Processed 18.4% of log lines.\n",
      "Processed 18.4% of log lines.\n",
      "Processed 18.4% of log lines.\n",
      "Processed 18.4% of log lines.\n",
      "Processed 18.4% of log lines.\n",
      "Processed 18.4% of log lines.\n",
      "Processed 18.4% of log lines.\n",
      "Processed 18.4% of log lines.\n",
      "Processed 18.4% of log lines.\n",
      "Processed 18.5% of log lines.\n",
      "Processed 18.5% of log lines.\n",
      "Processed 18.5% of log lines.\n",
      "Processed 18.5% of log lines.\n",
      "Processed 18.5% of log lines.\n",
      "Processed 18.5% of log lines.\n",
      "Processed 18.5% of log lines.\n",
      "Processed 18.5% of log lines.\n",
      "Processed 18.5% of log lines.\n",
      "Processed 18.5% of log lines.\n",
      "Processed 18.5% of log lines.\n",
      "Processed 18.5% of log lines.\n",
      "Processed 18.6% of log lines.\n",
      "Processed 18.6% of log lines.\n",
      "Processed 18.6% of log lines.\n",
      "Processed 18.6% of log lines.\n",
      "Processed 18.6% of log lines.\n",
      "Processed 18.6% of log lines.\n",
      "Processed 18.6% of log lines.\n",
      "Processed 18.6% of log lines.\n",
      "Processed 18.6% of log lines.\n",
      "Processed 18.6% of log lines.\n",
      "Processed 18.6% of log lines.\n",
      "Processed 18.7% of log lines.\n",
      "Processed 18.7% of log lines.\n",
      "Processed 18.7% of log lines.\n",
      "Processed 18.7% of log lines.\n",
      "Processed 18.7% of log lines.\n",
      "Processed 18.7% of log lines.\n",
      "Processed 18.7% of log lines.\n",
      "Processed 18.7% of log lines.\n",
      "Processed 18.7% of log lines.\n",
      "Processed 18.7% of log lines.\n",
      "Processed 18.7% of log lines.\n",
      "Processed 18.8% of log lines.\n",
      "Processed 18.8% of log lines.\n",
      "Processed 18.8% of log lines.\n",
      "Processed 18.8% of log lines.\n",
      "Processed 18.8% of log lines.\n",
      "Processed 18.8% of log lines.\n",
      "Processed 18.8% of log lines.\n",
      "Processed 18.8% of log lines.\n",
      "Processed 18.8% of log lines.\n",
      "Processed 18.8% of log lines.\n",
      "Processed 18.8% of log lines.\n",
      "Processed 18.9% of log lines.\n",
      "Processed 18.9% of log lines.\n",
      "Processed 18.9% of log lines.\n",
      "Processed 18.9% of log lines.\n",
      "Processed 18.9% of log lines.\n",
      "Processed 18.9% of log lines.\n",
      "Processed 18.9% of log lines.\n",
      "Processed 18.9% of log lines.\n",
      "Processed 18.9% of log lines.\n",
      "Processed 18.9% of log lines.\n",
      "Processed 18.9% of log lines.\n",
      "Processed 19.0% of log lines.\n",
      "Processed 19.0% of log lines.\n",
      "Processed 19.0% of log lines.\n",
      "Processed 19.0% of log lines.\n",
      "Processed 19.0% of log lines.\n",
      "Processed 19.0% of log lines.\n",
      "Processed 19.0% of log lines.\n",
      "Processed 19.0% of log lines.\n",
      "Processed 19.0% of log lines.\n",
      "Processed 19.0% of log lines.\n",
      "Processed 19.0% of log lines.\n",
      "Processed 19.1% of log lines.\n",
      "Processed 19.1% of log lines.\n",
      "Processed 19.1% of log lines.\n",
      "Processed 19.1% of log lines.\n",
      "Processed 19.1% of log lines.\n",
      "Processed 19.1% of log lines.\n",
      "Processed 19.1% of log lines.\n",
      "Processed 19.1% of log lines.\n",
      "Processed 19.1% of log lines.\n",
      "Processed 19.1% of log lines.\n",
      "Processed 19.1% of log lines.\n",
      "Processed 19.1% of log lines.\n",
      "Processed 19.2% of log lines.\n",
      "Processed 19.2% of log lines.\n",
      "Processed 19.2% of log lines.\n",
      "Processed 19.2% of log lines.\n",
      "Processed 19.2% of log lines.\n",
      "Processed 19.2% of log lines.\n",
      "Processed 19.2% of log lines.\n",
      "Processed 19.2% of log lines.\n",
      "Processed 19.2% of log lines.\n",
      "Processed 19.2% of log lines.\n",
      "Processed 19.2% of log lines.\n",
      "Processed 19.3% of log lines.\n",
      "Processed 19.3% of log lines.\n",
      "Processed 19.3% of log lines.\n",
      "Processed 19.3% of log lines.\n",
      "Processed 19.3% of log lines.\n",
      "Processed 19.3% of log lines.\n",
      "Processed 19.3% of log lines.\n",
      "Processed 19.3% of log lines.\n",
      "Processed 19.3% of log lines.\n",
      "Processed 19.3% of log lines.\n",
      "Processed 19.3% of log lines.\n",
      "Processed 19.4% of log lines.\n",
      "Processed 19.4% of log lines.\n",
      "Processed 19.4% of log lines.\n",
      "Processed 19.4% of log lines.\n",
      "Processed 19.4% of log lines.\n",
      "Processed 19.4% of log lines.\n",
      "Processed 19.4% of log lines.\n",
      "Processed 19.4% of log lines.\n",
      "Processed 19.4% of log lines.\n",
      "Processed 19.4% of log lines.\n",
      "Processed 19.4% of log lines.\n",
      "Processed 19.5% of log lines.\n",
      "Processed 19.5% of log lines.\n",
      "Processed 19.5% of log lines.\n",
      "Processed 19.5% of log lines.\n",
      "Processed 19.5% of log lines.\n",
      "Processed 19.5% of log lines.\n",
      "Processed 19.5% of log lines.\n",
      "Processed 19.5% of log lines.\n",
      "Processed 19.5% of log lines.\n",
      "Processed 19.5% of log lines.\n",
      "Processed 19.5% of log lines.\n",
      "Processed 19.6% of log lines.\n",
      "Processed 19.6% of log lines.\n",
      "Processed 19.6% of log lines.\n",
      "Processed 19.6% of log lines.\n",
      "Processed 19.6% of log lines.\n",
      "Processed 19.6% of log lines.\n",
      "Processed 19.6% of log lines.\n",
      "Processed 19.6% of log lines.\n",
      "Processed 19.6% of log lines.\n",
      "Processed 19.6% of log lines.\n",
      "Processed 19.6% of log lines.\n",
      "Processed 19.6% of log lines.\n",
      "Processed 19.7% of log lines.\n",
      "Processed 19.7% of log lines.\n",
      "Processed 19.7% of log lines.\n",
      "Processed 19.7% of log lines.\n",
      "Processed 19.7% of log lines.\n",
      "Processed 19.7% of log lines.\n",
      "Processed 19.7% of log lines.\n",
      "Processed 19.7% of log lines.\n",
      "Processed 19.7% of log lines.\n",
      "Processed 19.7% of log lines.\n",
      "Processed 19.7% of log lines.\n",
      "Processed 19.8% of log lines.\n",
      "Processed 19.8% of log lines.\n",
      "Processed 19.8% of log lines.\n",
      "Processed 19.8% of log lines.\n",
      "Processed 19.8% of log lines.\n",
      "Processed 19.8% of log lines.\n",
      "Processed 19.8% of log lines.\n",
      "Processed 19.8% of log lines.\n",
      "Processed 19.8% of log lines.\n",
      "Processed 19.8% of log lines.\n",
      "Processed 19.8% of log lines.\n",
      "Processed 19.9% of log lines.\n",
      "Processed 19.9% of log lines.\n",
      "Processed 19.9% of log lines.\n",
      "Processed 19.9% of log lines.\n",
      "Processed 19.9% of log lines.\n",
      "Processed 19.9% of log lines.\n",
      "Processed 19.9% of log lines.\n",
      "Processed 19.9% of log lines.\n",
      "Processed 19.9% of log lines.\n",
      "Processed 19.9% of log lines.\n",
      "Processed 19.9% of log lines.\n",
      "Processed 20.0% of log lines.\n",
      "Processed 20.0% of log lines.\n",
      "Processed 20.0% of log lines.\n",
      "Processed 20.0% of log lines.\n",
      "Processed 20.0% of log lines.\n",
      "Processed 20.0% of log lines.\n",
      "Processed 20.0% of log lines.\n",
      "Processed 20.0% of log lines.\n",
      "Processed 20.0% of log lines.\n",
      "Processed 20.0% of log lines.\n",
      "Processed 20.0% of log lines.\n",
      "Processed 20.1% of log lines.\n",
      "Processed 20.1% of log lines.\n",
      "Processed 20.1% of log lines.\n",
      "Processed 20.1% of log lines.\n",
      "Processed 20.1% of log lines.\n",
      "Processed 20.1% of log lines.\n",
      "Processed 20.1% of log lines.\n",
      "Processed 20.1% of log lines.\n",
      "Processed 20.1% of log lines.\n",
      "Processed 20.1% of log lines.\n",
      "Processed 20.1% of log lines.\n",
      "Processed 20.2% of log lines.\n",
      "Processed 20.2% of log lines.\n",
      "Processed 20.2% of log lines.\n",
      "Processed 20.2% of log lines.\n",
      "Processed 20.2% of log lines.\n",
      "Processed 20.2% of log lines.\n",
      "Processed 20.2% of log lines.\n",
      "Processed 20.2% of log lines.\n",
      "Processed 20.2% of log lines.\n",
      "Processed 20.2% of log lines.\n",
      "Processed 20.2% of log lines.\n",
      "Processed 20.2% of log lines.\n",
      "Processed 20.3% of log lines.\n",
      "Processed 20.3% of log lines.\n",
      "Processed 20.3% of log lines.\n",
      "Processed 20.3% of log lines.\n",
      "Processed 20.3% of log lines.\n",
      "Processed 20.3% of log lines.\n",
      "Processed 20.3% of log lines.\n",
      "Processed 20.3% of log lines.\n",
      "Processed 20.3% of log lines.\n",
      "Processed 20.3% of log lines.\n",
      "Processed 20.3% of log lines.\n",
      "Processed 20.4% of log lines.\n",
      "Processed 20.4% of log lines.\n",
      "Processed 20.4% of log lines.\n",
      "Processed 20.4% of log lines.\n",
      "Processed 20.4% of log lines.\n",
      "Processed 20.4% of log lines.\n",
      "Processed 20.4% of log lines.\n",
      "Processed 20.4% of log lines.\n",
      "Processed 20.4% of log lines.\n",
      "Processed 20.4% of log lines.\n",
      "Processed 20.4% of log lines.\n",
      "Processed 20.5% of log lines.\n",
      "Processed 20.5% of log lines.\n",
      "Processed 20.5% of log lines.\n",
      "Processed 20.5% of log lines.\n",
      "Processed 20.5% of log lines.\n",
      "Processed 20.5% of log lines.\n",
      "Processed 20.5% of log lines.\n",
      "Processed 20.5% of log lines.\n",
      "Processed 20.5% of log lines.\n",
      "Processed 20.5% of log lines.\n",
      "Processed 20.5% of log lines.\n",
      "Processed 20.6% of log lines.\n",
      "Processed 20.6% of log lines.\n",
      "Processed 20.6% of log lines.\n",
      "Processed 20.6% of log lines.\n",
      "Processed 20.6% of log lines.\n",
      "Processed 20.6% of log lines.\n",
      "Processed 20.6% of log lines.\n",
      "Processed 20.6% of log lines.\n",
      "Processed 20.6% of log lines.\n",
      "Processed 20.6% of log lines.\n",
      "Processed 20.6% of log lines.\n",
      "Processed 20.7% of log lines.\n",
      "Processed 20.7% of log lines.\n",
      "Processed 20.7% of log lines.\n",
      "Processed 20.7% of log lines.\n",
      "Processed 20.7% of log lines.\n",
      "Processed 20.7% of log lines.\n",
      "Processed 20.7% of log lines.\n",
      "Processed 20.7% of log lines.\n",
      "Processed 20.7% of log lines.\n",
      "Processed 20.7% of log lines.\n",
      "Processed 20.7% of log lines.\n",
      "Processed 20.8% of log lines.\n",
      "Processed 20.8% of log lines.\n",
      "Processed 20.8% of log lines.\n",
      "Processed 20.8% of log lines.\n",
      "Processed 20.8% of log lines.\n",
      "Processed 20.8% of log lines.\n",
      "Processed 20.8% of log lines.\n",
      "Processed 20.8% of log lines.\n",
      "Processed 20.8% of log lines.\n",
      "Processed 20.8% of log lines.\n",
      "Processed 20.8% of log lines.\n",
      "Processed 20.8% of log lines.\n",
      "Processed 20.9% of log lines.\n",
      "Processed 20.9% of log lines.\n",
      "Processed 20.9% of log lines.\n",
      "Processed 20.9% of log lines.\n",
      "Processed 20.9% of log lines.\n",
      "Processed 20.9% of log lines.\n",
      "Processed 20.9% of log lines.\n",
      "Processed 20.9% of log lines.\n",
      "Processed 20.9% of log lines.\n",
      "Processed 20.9% of log lines.\n",
      "Processed 20.9% of log lines.\n",
      "Processed 21.0% of log lines.\n",
      "Processed 21.0% of log lines.\n",
      "Processed 21.0% of log lines.\n",
      "Processed 21.0% of log lines.\n",
      "Processed 21.0% of log lines.\n",
      "Processed 21.0% of log lines.\n",
      "Processed 21.0% of log lines.\n",
      "Processed 21.0% of log lines.\n",
      "Processed 21.0% of log lines.\n",
      "Processed 21.0% of log lines.\n",
      "Processed 21.0% of log lines.\n",
      "Processed 21.1% of log lines.\n",
      "Processed 21.1% of log lines.\n",
      "Processed 21.1% of log lines.\n",
      "Processed 21.1% of log lines.\n",
      "Processed 21.1% of log lines.\n",
      "Processed 21.1% of log lines.\n",
      "Processed 21.1% of log lines.\n",
      "Processed 21.1% of log lines.\n",
      "Processed 21.1% of log lines.\n",
      "Processed 21.1% of log lines.\n",
      "Processed 21.1% of log lines.\n",
      "Processed 21.2% of log lines.\n",
      "Processed 21.2% of log lines.\n",
      "Processed 21.2% of log lines.\n",
      "Processed 21.2% of log lines.\n",
      "Processed 21.2% of log lines.\n",
      "Processed 21.2% of log lines.\n",
      "Processed 21.2% of log lines.\n",
      "Processed 21.2% of log lines.\n",
      "Processed 21.2% of log lines.\n",
      "Processed 21.2% of log lines.\n",
      "Processed 21.2% of log lines.\n",
      "Processed 21.3% of log lines.\n",
      "Processed 21.3% of log lines.\n",
      "Processed 21.3% of log lines.\n",
      "Processed 21.3% of log lines.\n",
      "Processed 21.3% of log lines.\n",
      "Processed 21.3% of log lines.\n",
      "Processed 21.3% of log lines.\n",
      "Processed 21.3% of log lines.\n",
      "Processed 21.3% of log lines.\n",
      "Processed 21.3% of log lines.\n",
      "Processed 21.3% of log lines.\n",
      "Processed 21.4% of log lines.\n",
      "Processed 21.4% of log lines.\n",
      "Processed 21.4% of log lines.\n",
      "Processed 21.4% of log lines.\n",
      "Processed 21.4% of log lines.\n",
      "Processed 21.4% of log lines.\n",
      "Processed 21.4% of log lines.\n",
      "Processed 21.4% of log lines.\n",
      "Processed 21.4% of log lines.\n",
      "Processed 21.4% of log lines.\n",
      "Processed 21.4% of log lines.\n",
      "Processed 21.4% of log lines.\n",
      "Processed 21.5% of log lines.\n",
      "Processed 21.5% of log lines.\n",
      "Processed 21.5% of log lines.\n",
      "Processed 21.5% of log lines.\n",
      "Processed 21.5% of log lines.\n",
      "Processed 21.5% of log lines.\n",
      "Processed 21.5% of log lines.\n",
      "Processed 21.5% of log lines.\n",
      "Processed 21.5% of log lines.\n",
      "Processed 21.5% of log lines.\n",
      "Processed 21.5% of log lines.\n",
      "Processed 21.6% of log lines.\n",
      "Processed 21.6% of log lines.\n",
      "Processed 21.6% of log lines.\n",
      "Processed 21.6% of log lines.\n",
      "Processed 21.6% of log lines.\n",
      "Processed 21.6% of log lines.\n",
      "Processed 21.6% of log lines.\n",
      "Processed 21.6% of log lines.\n",
      "Processed 21.6% of log lines.\n",
      "Processed 21.6% of log lines.\n",
      "Processed 21.6% of log lines.\n",
      "Processed 21.7% of log lines.\n",
      "Processed 21.7% of log lines.\n",
      "Processed 21.7% of log lines.\n",
      "Processed 21.7% of log lines.\n",
      "Processed 21.7% of log lines.\n",
      "Processed 21.7% of log lines.\n",
      "Processed 21.7% of log lines.\n",
      "Processed 21.7% of log lines.\n",
      "Processed 21.7% of log lines.\n",
      "Processed 21.7% of log lines.\n",
      "Processed 21.7% of log lines.\n",
      "Processed 21.8% of log lines.\n",
      "Processed 21.8% of log lines.\n",
      "Processed 21.8% of log lines.\n",
      "Processed 21.8% of log lines.\n",
      "Processed 21.8% of log lines.\n",
      "Processed 21.8% of log lines.\n",
      "Processed 21.8% of log lines.\n",
      "Processed 21.8% of log lines.\n",
      "Processed 21.8% of log lines.\n",
      "Processed 21.8% of log lines.\n",
      "Processed 21.8% of log lines.\n",
      "Processed 21.9% of log lines.\n",
      "Processed 21.9% of log lines.\n",
      "Processed 21.9% of log lines.\n",
      "Processed 21.9% of log lines.\n",
      "Processed 21.9% of log lines.\n",
      "Processed 21.9% of log lines.\n",
      "Processed 21.9% of log lines.\n",
      "Processed 21.9% of log lines.\n",
      "Processed 21.9% of log lines.\n",
      "Processed 21.9% of log lines.\n",
      "Processed 21.9% of log lines.\n",
      "Processed 21.9% of log lines.\n",
      "Processed 22.0% of log lines.\n",
      "Processed 22.0% of log lines.\n",
      "Processed 22.0% of log lines.\n",
      "Processed 22.0% of log lines.\n",
      "Processed 22.0% of log lines.\n",
      "Processed 22.0% of log lines.\n",
      "Processed 22.0% of log lines.\n",
      "Processed 22.0% of log lines.\n",
      "Processed 22.0% of log lines.\n",
      "Processed 22.0% of log lines.\n",
      "Processed 22.0% of log lines.\n",
      "Processed 22.1% of log lines.\n",
      "Processed 22.1% of log lines.\n",
      "Processed 22.1% of log lines.\n",
      "Processed 22.1% of log lines.\n",
      "Processed 22.1% of log lines.\n",
      "Processed 22.1% of log lines.\n",
      "Processed 22.1% of log lines.\n",
      "Processed 22.1% of log lines.\n",
      "Processed 22.1% of log lines.\n",
      "Processed 22.1% of log lines.\n",
      "Processed 22.1% of log lines.\n",
      "Processed 22.2% of log lines.\n",
      "Processed 22.2% of log lines.\n",
      "Processed 22.2% of log lines.\n",
      "Processed 22.2% of log lines.\n",
      "Processed 22.2% of log lines.\n",
      "Processed 22.2% of log lines.\n",
      "Processed 22.2% of log lines.\n",
      "Processed 22.2% of log lines.\n",
      "Processed 22.2% of log lines.\n",
      "Processed 22.2% of log lines.\n",
      "Processed 22.2% of log lines.\n",
      "Processed 22.3% of log lines.\n",
      "Processed 22.3% of log lines.\n",
      "Processed 22.3% of log lines.\n",
      "Processed 22.3% of log lines.\n",
      "Processed 22.3% of log lines.\n",
      "Processed 22.3% of log lines.\n",
      "Processed 22.3% of log lines.\n",
      "Processed 22.3% of log lines.\n",
      "Processed 22.3% of log lines.\n",
      "Processed 22.3% of log lines.\n",
      "Processed 22.3% of log lines.\n",
      "Processed 22.4% of log lines.\n",
      "Processed 22.4% of log lines.\n",
      "Processed 22.4% of log lines.\n",
      "Processed 22.4% of log lines.\n",
      "Processed 22.4% of log lines.\n",
      "Processed 22.4% of log lines.\n",
      "Processed 22.4% of log lines.\n",
      "Processed 22.4% of log lines.\n",
      "Processed 22.4% of log lines.\n",
      "Processed 22.4% of log lines.\n",
      "Processed 22.4% of log lines.\n",
      "Processed 22.5% of log lines.\n",
      "Processed 22.5% of log lines.\n",
      "Processed 22.5% of log lines.\n",
      "Processed 22.5% of log lines.\n",
      "Processed 22.5% of log lines.\n",
      "Processed 22.5% of log lines.\n",
      "Processed 22.5% of log lines.\n",
      "Processed 22.5% of log lines.\n",
      "Processed 22.5% of log lines.\n",
      "Processed 22.5% of log lines.\n",
      "Processed 22.5% of log lines.\n",
      "Processed 22.5% of log lines.\n",
      "Processed 22.6% of log lines.\n",
      "Processed 22.6% of log lines.\n",
      "Processed 22.6% of log lines.\n",
      "Processed 22.6% of log lines.\n",
      "Processed 22.6% of log lines.\n",
      "Processed 22.6% of log lines.\n",
      "Processed 22.6% of log lines.\n",
      "Processed 22.6% of log lines.\n",
      "Processed 22.6% of log lines.\n",
      "Processed 22.6% of log lines.\n",
      "Processed 22.6% of log lines.\n",
      "Processed 22.7% of log lines.\n",
      "Processed 22.7% of log lines.\n",
      "Processed 22.7% of log lines.\n",
      "Processed 22.7% of log lines.\n",
      "Processed 22.7% of log lines.\n",
      "Processed 22.7% of log lines.\n",
      "Processed 22.7% of log lines.\n",
      "Processed 22.7% of log lines.\n",
      "Processed 22.7% of log lines.\n",
      "Processed 22.7% of log lines.\n",
      "Processed 22.7% of log lines.\n",
      "Processed 22.8% of log lines.\n",
      "Processed 22.8% of log lines.\n",
      "Processed 22.8% of log lines.\n",
      "Processed 22.8% of log lines.\n",
      "Processed 22.8% of log lines.\n",
      "Processed 22.8% of log lines.\n",
      "Processed 22.8% of log lines.\n",
      "Processed 22.8% of log lines.\n",
      "Processed 22.8% of log lines.\n",
      "Processed 22.8% of log lines.\n",
      "Processed 22.8% of log lines.\n",
      "Processed 22.9% of log lines.\n",
      "Processed 22.9% of log lines.\n",
      "Processed 22.9% of log lines.\n",
      "Processed 22.9% of log lines.\n",
      "Processed 22.9% of log lines.\n",
      "Processed 22.9% of log lines.\n",
      "Processed 22.9% of log lines.\n",
      "Processed 22.9% of log lines.\n",
      "Processed 22.9% of log lines.\n",
      "Processed 22.9% of log lines.\n",
      "Processed 22.9% of log lines.\n",
      "Processed 23.0% of log lines.\n",
      "Processed 23.0% of log lines.\n",
      "Processed 23.0% of log lines.\n",
      "Processed 23.0% of log lines.\n",
      "Processed 23.0% of log lines.\n",
      "Processed 23.0% of log lines.\n",
      "Processed 23.0% of log lines.\n",
      "Processed 23.0% of log lines.\n",
      "Processed 23.0% of log lines.\n",
      "Processed 23.0% of log lines.\n",
      "Processed 23.0% of log lines.\n",
      "Processed 23.1% of log lines.\n",
      "Processed 23.1% of log lines.\n",
      "Processed 23.1% of log lines.\n",
      "Processed 23.1% of log lines.\n",
      "Processed 23.1% of log lines.\n",
      "Processed 23.1% of log lines.\n",
      "Processed 23.1% of log lines.\n",
      "Processed 23.1% of log lines.\n",
      "Processed 23.1% of log lines.\n",
      "Processed 23.1% of log lines.\n",
      "Processed 23.1% of log lines.\n",
      "Processed 23.1% of log lines.\n",
      "Processed 23.2% of log lines.\n",
      "Processed 23.2% of log lines.\n",
      "Processed 23.2% of log lines.\n",
      "Processed 23.2% of log lines.\n",
      "Processed 23.2% of log lines.\n",
      "Processed 23.2% of log lines.\n",
      "Processed 23.2% of log lines.\n",
      "Processed 23.2% of log lines.\n",
      "Processed 23.2% of log lines.\n",
      "Processed 23.2% of log lines.\n",
      "Processed 23.2% of log lines.\n",
      "Processed 23.3% of log lines.\n",
      "Processed 23.3% of log lines.\n",
      "Processed 23.3% of log lines.\n",
      "Processed 23.3% of log lines.\n",
      "Processed 23.3% of log lines.\n",
      "Processed 23.3% of log lines.\n",
      "Processed 23.3% of log lines.\n",
      "Processed 23.3% of log lines.\n",
      "Processed 23.3% of log lines.\n",
      "Processed 23.3% of log lines.\n",
      "Processed 23.3% of log lines.\n",
      "Processed 23.4% of log lines.\n",
      "Processed 23.4% of log lines.\n",
      "Processed 23.4% of log lines.\n",
      "Processed 23.4% of log lines.\n",
      "Processed 23.4% of log lines.\n",
      "Processed 23.4% of log lines.\n",
      "Processed 23.4% of log lines.\n",
      "Processed 23.4% of log lines.\n",
      "Processed 23.4% of log lines.\n",
      "Processed 23.4% of log lines.\n",
      "Processed 23.4% of log lines.\n",
      "Processed 23.5% of log lines.\n",
      "Processed 23.5% of log lines.\n",
      "Processed 23.5% of log lines.\n",
      "Processed 23.5% of log lines.\n",
      "Processed 23.5% of log lines.\n",
      "Processed 23.5% of log lines.\n",
      "Processed 23.5% of log lines.\n",
      "Processed 23.5% of log lines.\n",
      "Processed 23.5% of log lines.\n",
      "Processed 23.5% of log lines.\n",
      "Processed 23.5% of log lines.\n",
      "Processed 23.6% of log lines.\n",
      "Processed 23.6% of log lines.\n",
      "Processed 23.6% of log lines.\n",
      "Processed 23.6% of log lines.\n",
      "Processed 23.6% of log lines.\n",
      "Processed 23.6% of log lines.\n",
      "Processed 23.6% of log lines.\n",
      "Processed 23.6% of log lines.\n",
      "Processed 23.6% of log lines.\n",
      "Processed 23.6% of log lines.\n",
      "Processed 23.6% of log lines.\n",
      "Processed 23.6% of log lines.\n",
      "Processed 23.7% of log lines.\n",
      "Processed 23.7% of log lines.\n",
      "Processed 23.7% of log lines.\n",
      "Processed 23.7% of log lines.\n",
      "Processed 23.7% of log lines.\n",
      "Processed 23.7% of log lines.\n",
      "Processed 23.7% of log lines.\n",
      "Processed 23.7% of log lines.\n",
      "Processed 23.7% of log lines.\n",
      "Processed 23.7% of log lines.\n",
      "Processed 23.7% of log lines.\n",
      "Processed 23.8% of log lines.\n",
      "Processed 23.8% of log lines.\n",
      "Processed 23.8% of log lines.\n",
      "Processed 23.8% of log lines.\n",
      "Processed 23.8% of log lines.\n",
      "Processed 23.8% of log lines.\n",
      "Processed 23.8% of log lines.\n",
      "Processed 23.8% of log lines.\n",
      "Processed 23.8% of log lines.\n",
      "Processed 23.8% of log lines.\n",
      "Processed 23.8% of log lines.\n",
      "Processed 23.9% of log lines.\n",
      "Processed 23.9% of log lines.\n",
      "Processed 23.9% of log lines.\n",
      "Processed 23.9% of log lines.\n",
      "Processed 23.9% of log lines.\n",
      "Processed 23.9% of log lines.\n",
      "Processed 23.9% of log lines.\n",
      "Processed 23.9% of log lines.\n",
      "Processed 23.9% of log lines.\n",
      "Processed 23.9% of log lines.\n",
      "Processed 23.9% of log lines.\n",
      "Processed 24.0% of log lines.\n",
      "Processed 24.0% of log lines.\n",
      "Processed 24.0% of log lines.\n",
      "Processed 24.0% of log lines.\n",
      "Processed 24.0% of log lines.\n",
      "Processed 24.0% of log lines.\n",
      "Processed 24.0% of log lines.\n",
      "Processed 24.0% of log lines.\n",
      "Processed 24.0% of log lines.\n",
      "Processed 24.0% of log lines.\n",
      "Processed 24.0% of log lines.\n",
      "Processed 24.1% of log lines.\n",
      "Processed 24.1% of log lines.\n",
      "Processed 24.1% of log lines.\n",
      "Processed 24.1% of log lines.\n",
      "Processed 24.1% of log lines.\n",
      "Processed 24.1% of log lines.\n",
      "Processed 24.1% of log lines.\n",
      "Processed 24.1% of log lines.\n",
      "Processed 24.1% of log lines.\n",
      "Processed 24.1% of log lines.\n",
      "Processed 24.1% of log lines.\n",
      "Processed 24.2% of log lines.\n",
      "Processed 24.2% of log lines.\n",
      "Processed 24.2% of log lines.\n",
      "Processed 24.2% of log lines.\n",
      "Processed 24.2% of log lines.\n",
      "Processed 24.2% of log lines.\n",
      "Processed 24.2% of log lines.\n",
      "Processed 24.2% of log lines.\n",
      "Processed 24.2% of log lines.\n",
      "Processed 24.2% of log lines.\n",
      "Processed 24.2% of log lines.\n",
      "Processed 24.2% of log lines.\n",
      "Processed 24.3% of log lines.\n",
      "Processed 24.3% of log lines.\n",
      "Processed 24.3% of log lines.\n",
      "Processed 24.3% of log lines.\n",
      "Processed 24.3% of log lines.\n",
      "Processed 24.3% of log lines.\n",
      "Processed 24.3% of log lines.\n",
      "Processed 24.3% of log lines.\n",
      "Processed 24.3% of log lines.\n",
      "Processed 24.3% of log lines.\n",
      "Processed 24.3% of log lines.\n",
      "Processed 24.4% of log lines.\n",
      "Processed 24.4% of log lines.\n",
      "Processed 24.4% of log lines.\n",
      "Processed 24.4% of log lines.\n",
      "Processed 24.4% of log lines.\n",
      "Processed 24.4% of log lines.\n",
      "Processed 24.4% of log lines.\n",
      "Processed 24.4% of log lines.\n",
      "Processed 24.4% of log lines.\n",
      "Processed 24.4% of log lines.\n",
      "Processed 24.4% of log lines.\n",
      "Processed 24.5% of log lines.\n",
      "Processed 24.5% of log lines.\n",
      "Processed 24.5% of log lines.\n",
      "Processed 24.5% of log lines.\n",
      "Processed 24.5% of log lines.\n",
      "Processed 24.5% of log lines.\n",
      "Processed 24.5% of log lines.\n",
      "Processed 24.5% of log lines.\n",
      "Processed 24.5% of log lines.\n",
      "Processed 24.5% of log lines.\n",
      "Processed 24.5% of log lines.\n",
      "Processed 24.6% of log lines.\n",
      "Processed 24.6% of log lines.\n",
      "Processed 24.6% of log lines.\n",
      "Processed 24.6% of log lines.\n",
      "Processed 24.6% of log lines.\n",
      "Processed 24.6% of log lines.\n",
      "Processed 24.6% of log lines.\n",
      "Processed 24.6% of log lines.\n",
      "Processed 24.6% of log lines.\n",
      "Processed 24.6% of log lines.\n",
      "Processed 24.6% of log lines.\n",
      "Processed 24.7% of log lines.\n",
      "Processed 24.7% of log lines.\n",
      "Processed 24.7% of log lines.\n",
      "Processed 24.7% of log lines.\n",
      "Processed 24.7% of log lines.\n",
      "Processed 24.7% of log lines.\n",
      "Processed 24.7% of log lines.\n",
      "Processed 24.7% of log lines.\n",
      "Processed 24.7% of log lines.\n",
      "Processed 24.7% of log lines.\n",
      "Processed 24.7% of log lines.\n",
      "Processed 24.8% of log lines.\n",
      "Processed 24.8% of log lines.\n",
      "Processed 24.8% of log lines.\n",
      "Processed 24.8% of log lines.\n",
      "Processed 24.8% of log lines.\n",
      "Processed 24.8% of log lines.\n",
      "Processed 24.8% of log lines.\n",
      "Processed 24.8% of log lines.\n",
      "Processed 24.8% of log lines.\n",
      "Processed 24.8% of log lines.\n",
      "Processed 24.8% of log lines.\n",
      "Processed 24.8% of log lines.\n",
      "Processed 24.9% of log lines.\n",
      "Processed 24.9% of log lines.\n",
      "Processed 24.9% of log lines.\n",
      "Processed 24.9% of log lines.\n",
      "Processed 24.9% of log lines.\n",
      "Processed 24.9% of log lines.\n",
      "Processed 24.9% of log lines.\n",
      "Processed 24.9% of log lines.\n",
      "Processed 24.9% of log lines.\n",
      "Processed 24.9% of log lines.\n",
      "Processed 24.9% of log lines.\n",
      "Processed 25.0% of log lines.\n",
      "Processed 25.0% of log lines.\n",
      "Processed 25.0% of log lines.\n",
      "Processed 25.0% of log lines.\n",
      "Processed 25.0% of log lines.\n",
      "Processed 25.0% of log lines.\n",
      "Processed 25.0% of log lines.\n",
      "Processed 25.0% of log lines.\n",
      "Processed 25.0% of log lines.\n",
      "Processed 25.0% of log lines.\n",
      "Processed 25.0% of log lines.\n",
      "Processed 25.1% of log lines.\n",
      "Processed 25.1% of log lines.\n",
      "Processed 25.1% of log lines.\n",
      "Processed 25.1% of log lines.\n",
      "Processed 25.1% of log lines.\n",
      "Processed 25.1% of log lines.\n",
      "Processed 25.1% of log lines.\n",
      "Processed 25.1% of log lines.\n",
      "Processed 25.1% of log lines.\n",
      "Processed 25.1% of log lines.\n",
      "Processed 25.1% of log lines.\n",
      "Processed 25.2% of log lines.\n",
      "Processed 25.2% of log lines.\n",
      "Processed 25.2% of log lines.\n",
      "Processed 25.2% of log lines.\n",
      "Processed 25.2% of log lines.\n",
      "Processed 25.2% of log lines.\n",
      "Processed 25.2% of log lines.\n",
      "Processed 25.2% of log lines.\n",
      "Processed 25.2% of log lines.\n",
      "Processed 25.2% of log lines.\n",
      "Processed 25.2% of log lines.\n",
      "Processed 25.3% of log lines.\n",
      "Processed 25.3% of log lines.\n",
      "Processed 25.3% of log lines.\n",
      "Processed 25.3% of log lines.\n",
      "Processed 25.3% of log lines.\n",
      "Processed 25.3% of log lines.\n",
      "Processed 25.3% of log lines.\n",
      "Processed 25.3% of log lines.\n",
      "Processed 25.3% of log lines.\n",
      "Processed 25.3% of log lines.\n",
      "Processed 25.3% of log lines.\n",
      "Processed 25.3% of log lines.\n",
      "Processed 25.4% of log lines.\n",
      "Processed 25.4% of log lines.\n",
      "Processed 25.4% of log lines.\n",
      "Processed 25.4% of log lines.\n",
      "Processed 25.4% of log lines.\n",
      "Processed 25.4% of log lines.\n",
      "Processed 25.4% of log lines.\n",
      "Processed 25.4% of log lines.\n",
      "Processed 25.4% of log lines.\n",
      "Processed 25.4% of log lines.\n",
      "Processed 25.4% of log lines.\n",
      "Processed 25.5% of log lines.\n",
      "Processed 25.5% of log lines.\n",
      "Processed 25.5% of log lines.\n",
      "Processed 25.5% of log lines.\n",
      "Processed 25.5% of log lines.\n",
      "Processed 25.5% of log lines.\n",
      "Processed 25.5% of log lines.\n",
      "Processed 25.5% of log lines.\n",
      "Processed 25.5% of log lines.\n",
      "Processed 25.5% of log lines.\n",
      "Processed 25.5% of log lines.\n",
      "Processed 25.6% of log lines.\n",
      "Processed 25.6% of log lines.\n",
      "Processed 25.6% of log lines.\n",
      "Processed 25.6% of log lines.\n",
      "Processed 25.6% of log lines.\n",
      "Processed 25.6% of log lines.\n",
      "Processed 25.6% of log lines.\n",
      "Processed 25.6% of log lines.\n",
      "Processed 25.6% of log lines.\n",
      "Processed 25.6% of log lines.\n",
      "Processed 25.6% of log lines.\n",
      "Processed 25.7% of log lines.\n",
      "Processed 25.7% of log lines.\n",
      "Processed 25.7% of log lines.\n",
      "Processed 25.7% of log lines.\n",
      "Processed 25.7% of log lines.\n",
      "Processed 25.7% of log lines.\n",
      "Processed 25.7% of log lines.\n",
      "Processed 25.7% of log lines.\n",
      "Processed 25.7% of log lines.\n",
      "Processed 25.7% of log lines.\n",
      "Processed 25.7% of log lines.\n",
      "Processed 25.8% of log lines.\n",
      "Processed 25.8% of log lines.\n",
      "Processed 25.8% of log lines.\n",
      "Processed 25.8% of log lines.\n",
      "Processed 25.8% of log lines.\n",
      "Processed 25.8% of log lines.\n",
      "Processed 25.8% of log lines.\n",
      "Processed 25.8% of log lines.\n",
      "Processed 25.8% of log lines.\n",
      "Processed 25.8% of log lines.\n",
      "Processed 25.8% of log lines.\n",
      "Processed 25.9% of log lines.\n",
      "Processed 25.9% of log lines.\n",
      "Processed 25.9% of log lines.\n",
      "Processed 25.9% of log lines.\n",
      "Processed 25.9% of log lines.\n",
      "Processed 25.9% of log lines.\n",
      "Processed 25.9% of log lines.\n",
      "Processed 25.9% of log lines.\n",
      "Processed 25.9% of log lines.\n",
      "Processed 25.9% of log lines.\n",
      "Processed 25.9% of log lines.\n",
      "Processed 25.9% of log lines.\n",
      "Processed 26.0% of log lines.\n",
      "Processed 26.0% of log lines.\n",
      "Processed 26.0% of log lines.\n",
      "Processed 26.0% of log lines.\n",
      "Processed 26.0% of log lines.\n",
      "Processed 26.0% of log lines.\n",
      "Processed 26.0% of log lines.\n",
      "Processed 26.0% of log lines.\n",
      "Processed 26.0% of log lines.\n",
      "Processed 26.0% of log lines.\n",
      "Processed 26.0% of log lines.\n",
      "Processed 26.1% of log lines.\n",
      "Processed 26.1% of log lines.\n",
      "Processed 26.1% of log lines.\n",
      "Processed 26.1% of log lines.\n",
      "Processed 26.1% of log lines.\n",
      "Processed 26.1% of log lines.\n",
      "Processed 26.1% of log lines.\n",
      "Processed 26.1% of log lines.\n",
      "Processed 26.1% of log lines.\n",
      "Processed 26.1% of log lines.\n",
      "Processed 26.1% of log lines.\n",
      "Processed 26.2% of log lines.\n",
      "Processed 26.2% of log lines.\n",
      "Processed 26.2% of log lines.\n",
      "Processed 26.2% of log lines.\n",
      "Processed 26.2% of log lines.\n",
      "Processed 26.2% of log lines.\n",
      "Processed 26.2% of log lines.\n",
      "Processed 26.2% of log lines.\n",
      "Processed 26.2% of log lines.\n",
      "Processed 26.2% of log lines.\n",
      "Processed 26.2% of log lines.\n",
      "Processed 26.3% of log lines.\n",
      "Processed 26.3% of log lines.\n",
      "Processed 26.3% of log lines.\n",
      "Processed 26.3% of log lines.\n",
      "Processed 26.3% of log lines.\n",
      "Processed 26.3% of log lines.\n",
      "Processed 26.3% of log lines.\n",
      "Processed 26.3% of log lines.\n",
      "Processed 26.3% of log lines.\n",
      "Processed 26.3% of log lines.\n",
      "Processed 26.3% of log lines.\n",
      "Processed 26.4% of log lines.\n",
      "Processed 26.4% of log lines.\n",
      "Processed 26.4% of log lines.\n",
      "Processed 26.4% of log lines.\n",
      "Processed 26.4% of log lines.\n",
      "Processed 26.4% of log lines.\n",
      "Processed 26.4% of log lines.\n",
      "Processed 26.4% of log lines.\n",
      "Processed 26.4% of log lines.\n",
      "Processed 26.4% of log lines.\n",
      "Processed 26.4% of log lines.\n",
      "Processed 26.5% of log lines.\n",
      "Processed 26.5% of log lines.\n",
      "Processed 26.5% of log lines.\n",
      "Processed 26.5% of log lines.\n",
      "Processed 26.5% of log lines.\n",
      "Processed 26.5% of log lines.\n",
      "Processed 26.5% of log lines.\n",
      "Processed 26.5% of log lines.\n",
      "Processed 26.5% of log lines.\n",
      "Processed 26.5% of log lines.\n",
      "Processed 26.5% of log lines.\n",
      "Processed 26.5% of log lines.\n",
      "Processed 26.6% of log lines.\n",
      "Processed 26.6% of log lines.\n",
      "Processed 26.6% of log lines.\n",
      "Processed 26.6% of log lines.\n",
      "Processed 26.6% of log lines.\n",
      "Processed 26.6% of log lines.\n",
      "Processed 26.6% of log lines.\n",
      "Processed 26.6% of log lines.\n",
      "Processed 26.6% of log lines.\n",
      "Processed 26.6% of log lines.\n",
      "Processed 26.6% of log lines.\n",
      "Processed 26.7% of log lines.\n",
      "Processed 26.7% of log lines.\n",
      "Processed 26.7% of log lines.\n",
      "Processed 26.7% of log lines.\n",
      "Processed 26.7% of log lines.\n",
      "Processed 26.7% of log lines.\n",
      "Processed 26.7% of log lines.\n",
      "Processed 26.7% of log lines.\n",
      "Processed 26.7% of log lines.\n",
      "Processed 26.7% of log lines.\n",
      "Processed 26.7% of log lines.\n",
      "Processed 26.8% of log lines.\n",
      "Processed 26.8% of log lines.\n",
      "Processed 26.8% of log lines.\n",
      "Processed 26.8% of log lines.\n",
      "Processed 26.8% of log lines.\n",
      "Processed 26.8% of log lines.\n",
      "Processed 26.8% of log lines.\n",
      "Processed 26.8% of log lines.\n",
      "Processed 26.8% of log lines.\n",
      "Processed 26.8% of log lines.\n",
      "Processed 26.8% of log lines.\n",
      "Processed 26.9% of log lines.\n",
      "Processed 26.9% of log lines.\n",
      "Processed 26.9% of log lines.\n",
      "Processed 26.9% of log lines.\n",
      "Processed 26.9% of log lines.\n",
      "Processed 26.9% of log lines.\n",
      "Processed 26.9% of log lines.\n",
      "Processed 26.9% of log lines.\n",
      "Processed 26.9% of log lines.\n",
      "Processed 26.9% of log lines.\n",
      "Processed 26.9% of log lines.\n",
      "Processed 27.0% of log lines.\n",
      "Processed 27.0% of log lines.\n",
      "Processed 27.0% of log lines.\n",
      "Processed 27.0% of log lines.\n",
      "Processed 27.0% of log lines.\n",
      "Processed 27.0% of log lines.\n",
      "Processed 27.0% of log lines.\n",
      "Processed 27.0% of log lines.\n",
      "Processed 27.0% of log lines.\n",
      "Processed 27.0% of log lines.\n",
      "Processed 27.0% of log lines.\n",
      "Processed 27.0% of log lines.\n",
      "Processed 27.1% of log lines.\n",
      "Processed 27.1% of log lines.\n",
      "Processed 27.1% of log lines.\n",
      "Processed 27.1% of log lines.\n",
      "Processed 27.1% of log lines.\n",
      "Processed 27.1% of log lines.\n",
      "Processed 27.1% of log lines.\n",
      "Processed 27.1% of log lines.\n",
      "Processed 27.1% of log lines.\n",
      "Processed 27.1% of log lines.\n",
      "Processed 27.1% of log lines.\n",
      "Processed 27.2% of log lines.\n",
      "Processed 27.2% of log lines.\n",
      "Processed 27.2% of log lines.\n",
      "Processed 27.2% of log lines.\n",
      "Processed 27.2% of log lines.\n",
      "Processed 27.2% of log lines.\n",
      "Processed 27.2% of log lines.\n",
      "Processed 27.2% of log lines.\n",
      "Processed 27.2% of log lines.\n",
      "Processed 27.2% of log lines.\n",
      "Processed 27.2% of log lines.\n",
      "Processed 27.3% of log lines.\n",
      "Processed 27.3% of log lines.\n",
      "Processed 27.3% of log lines.\n",
      "Processed 27.3% of log lines.\n",
      "Processed 27.3% of log lines.\n",
      "Processed 27.3% of log lines.\n",
      "Processed 27.3% of log lines.\n",
      "Processed 27.3% of log lines.\n",
      "Processed 27.3% of log lines.\n",
      "Processed 27.3% of log lines.\n",
      "Processed 27.3% of log lines.\n",
      "Processed 27.4% of log lines.\n",
      "Processed 27.4% of log lines.\n",
      "Processed 27.4% of log lines.\n",
      "Processed 27.4% of log lines.\n",
      "Processed 27.4% of log lines.\n",
      "Processed 27.4% of log lines.\n",
      "Processed 27.4% of log lines.\n",
      "Processed 27.4% of log lines.\n",
      "Processed 27.4% of log lines.\n",
      "Processed 27.4% of log lines.\n",
      "Processed 27.4% of log lines.\n",
      "Processed 27.5% of log lines.\n",
      "Processed 27.5% of log lines.\n",
      "Processed 27.5% of log lines.\n",
      "Processed 27.5% of log lines.\n",
      "Processed 27.5% of log lines.\n",
      "Processed 27.5% of log lines.\n",
      "Processed 27.5% of log lines.\n",
      "Processed 27.5% of log lines.\n",
      "Processed 27.5% of log lines.\n",
      "Processed 27.5% of log lines.\n",
      "Processed 27.5% of log lines.\n",
      "Processed 27.6% of log lines.\n",
      "Processed 27.6% of log lines.\n",
      "Processed 27.6% of log lines.\n",
      "Processed 27.6% of log lines.\n",
      "Processed 27.6% of log lines.\n",
      "Processed 27.6% of log lines.\n",
      "Processed 27.6% of log lines.\n",
      "Processed 27.6% of log lines.\n",
      "Processed 27.6% of log lines.\n",
      "Processed 27.6% of log lines.\n",
      "Processed 27.6% of log lines.\n",
      "Processed 27.6% of log lines.\n",
      "Processed 27.7% of log lines.\n",
      "Processed 27.7% of log lines.\n",
      "Processed 27.7% of log lines.\n",
      "Processed 27.7% of log lines.\n",
      "Processed 27.7% of log lines.\n",
      "Processed 27.7% of log lines.\n",
      "Processed 27.7% of log lines.\n",
      "Processed 27.7% of log lines.\n",
      "Processed 27.7% of log lines.\n",
      "Processed 27.7% of log lines.\n",
      "Processed 27.7% of log lines.\n",
      "Processed 27.8% of log lines.\n",
      "Processed 27.8% of log lines.\n",
      "Processed 27.8% of log lines.\n",
      "Processed 27.8% of log lines.\n",
      "Processed 27.8% of log lines.\n",
      "Processed 27.8% of log lines.\n",
      "Processed 27.8% of log lines.\n",
      "Processed 27.8% of log lines.\n",
      "Processed 27.8% of log lines.\n",
      "Processed 27.8% of log lines.\n",
      "Processed 27.8% of log lines.\n",
      "Processed 27.9% of log lines.\n",
      "Processed 27.9% of log lines.\n",
      "Processed 27.9% of log lines.\n",
      "Processed 27.9% of log lines.\n",
      "Processed 27.9% of log lines.\n",
      "Processed 27.9% of log lines.\n",
      "Processed 27.9% of log lines.\n",
      "Processed 27.9% of log lines.\n",
      "Processed 27.9% of log lines.\n",
      "Processed 27.9% of log lines.\n",
      "Processed 27.9% of log lines.\n",
      "Processed 28.0% of log lines.\n",
      "Processed 28.0% of log lines.\n",
      "Processed 28.0% of log lines.\n",
      "Processed 28.0% of log lines.\n",
      "Processed 28.0% of log lines.\n",
      "Processed 28.0% of log lines.\n",
      "Processed 28.0% of log lines.\n",
      "Processed 28.0% of log lines.\n",
      "Processed 28.0% of log lines.\n",
      "Processed 28.0% of log lines.\n",
      "Processed 28.0% of log lines.\n",
      "Processed 28.1% of log lines.\n",
      "Processed 28.1% of log lines.\n",
      "Processed 28.1% of log lines.\n",
      "Processed 28.1% of log lines.\n",
      "Processed 28.1% of log lines.\n",
      "Processed 28.1% of log lines.\n",
      "Processed 28.1% of log lines.\n",
      "Processed 28.1% of log lines.\n",
      "Processed 28.1% of log lines.\n",
      "Processed 28.1% of log lines.\n",
      "Processed 28.1% of log lines.\n",
      "Processed 28.2% of log lines.\n",
      "Processed 28.2% of log lines.\n",
      "Processed 28.2% of log lines.\n",
      "Processed 28.2% of log lines.\n",
      "Processed 28.2% of log lines.\n",
      "Processed 28.2% of log lines.\n",
      "Processed 28.2% of log lines.\n",
      "Processed 28.2% of log lines.\n",
      "Processed 28.2% of log lines.\n",
      "Processed 28.2% of log lines.\n",
      "Processed 28.2% of log lines.\n",
      "Processed 28.2% of log lines.\n",
      "Processed 28.3% of log lines.\n",
      "Processed 28.3% of log lines.\n",
      "Processed 28.3% of log lines.\n",
      "Processed 28.3% of log lines.\n",
      "Processed 28.3% of log lines.\n",
      "Processed 28.3% of log lines.\n",
      "Processed 28.3% of log lines.\n",
      "Processed 28.3% of log lines.\n",
      "Processed 28.3% of log lines.\n",
      "Processed 28.3% of log lines.\n",
      "Processed 28.3% of log lines.\n",
      "Processed 28.4% of log lines.\n",
      "Processed 28.4% of log lines.\n",
      "Processed 28.4% of log lines.\n",
      "Processed 28.4% of log lines.\n",
      "Processed 28.4% of log lines.\n",
      "Processed 28.4% of log lines.\n",
      "Processed 28.4% of log lines.\n",
      "Processed 28.4% of log lines.\n",
      "Processed 28.4% of log lines.\n",
      "Processed 28.4% of log lines.\n",
      "Processed 28.4% of log lines.\n",
      "Processed 28.5% of log lines.\n",
      "Processed 28.5% of log lines.\n",
      "Processed 28.5% of log lines.\n",
      "Processed 28.5% of log lines.\n",
      "Processed 28.5% of log lines.\n",
      "Processed 28.5% of log lines.\n",
      "Processed 28.5% of log lines.\n",
      "Processed 28.5% of log lines.\n",
      "Processed 28.5% of log lines.\n",
      "Processed 28.5% of log lines.\n",
      "Processed 28.5% of log lines.\n",
      "Processed 28.6% of log lines.\n",
      "Processed 28.6% of log lines.\n",
      "Processed 28.6% of log lines.\n",
      "Processed 28.6% of log lines.\n",
      "Processed 28.6% of log lines.\n",
      "Processed 28.6% of log lines.\n",
      "Processed 28.6% of log lines.\n",
      "Processed 28.6% of log lines.\n",
      "Processed 28.6% of log lines.\n",
      "Processed 28.6% of log lines.\n",
      "Processed 28.6% of log lines.\n",
      "Processed 28.7% of log lines.\n",
      "Processed 28.7% of log lines.\n",
      "Processed 28.7% of log lines.\n",
      "Processed 28.7% of log lines.\n",
      "Processed 28.7% of log lines.\n",
      "Processed 28.7% of log lines.\n",
      "Processed 28.7% of log lines.\n",
      "Processed 28.7% of log lines.\n",
      "Processed 28.7% of log lines.\n",
      "Processed 28.7% of log lines.\n",
      "Processed 28.7% of log lines.\n",
      "Processed 28.8% of log lines.\n",
      "Processed 28.8% of log lines.\n",
      "Processed 28.8% of log lines.\n",
      "Processed 28.8% of log lines.\n",
      "Processed 28.8% of log lines.\n",
      "Processed 28.8% of log lines.\n",
      "Processed 28.8% of log lines.\n",
      "Processed 28.8% of log lines.\n",
      "Processed 28.8% of log lines.\n",
      "Processed 28.8% of log lines.\n",
      "Processed 28.8% of log lines.\n",
      "Processed 28.8% of log lines.\n",
      "Processed 28.9% of log lines.\n",
      "Processed 28.9% of log lines.\n",
      "Processed 28.9% of log lines.\n",
      "Processed 28.9% of log lines.\n",
      "Processed 28.9% of log lines.\n",
      "Processed 28.9% of log lines.\n",
      "Processed 28.9% of log lines.\n",
      "Processed 28.9% of log lines.\n",
      "Processed 28.9% of log lines.\n",
      "Processed 28.9% of log lines.\n",
      "Processed 28.9% of log lines.\n",
      "Processed 29.0% of log lines.\n",
      "Processed 29.0% of log lines.\n",
      "Processed 29.0% of log lines.\n",
      "Processed 29.0% of log lines.\n",
      "Processed 29.0% of log lines.\n",
      "Processed 29.0% of log lines.\n",
      "Processed 29.0% of log lines.\n",
      "Processed 29.0% of log lines.\n",
      "Processed 29.0% of log lines.\n",
      "Processed 29.0% of log lines.\n",
      "Processed 29.0% of log lines.\n",
      "Processed 29.1% of log lines.\n",
      "Processed 29.1% of log lines.\n",
      "Processed 29.1% of log lines.\n",
      "Processed 29.1% of log lines.\n",
      "Processed 29.1% of log lines.\n",
      "Processed 29.1% of log lines.\n",
      "Processed 29.1% of log lines.\n",
      "Processed 29.1% of log lines.\n",
      "Processed 29.1% of log lines.\n",
      "Processed 29.1% of log lines.\n",
      "Processed 29.1% of log lines.\n",
      "Processed 29.2% of log lines.\n",
      "Processed 29.2% of log lines.\n",
      "Processed 29.2% of log lines.\n",
      "Processed 29.2% of log lines.\n",
      "Processed 29.2% of log lines.\n",
      "Processed 29.2% of log lines.\n",
      "Processed 29.2% of log lines.\n",
      "Processed 29.2% of log lines.\n",
      "Processed 29.2% of log lines.\n",
      "Processed 29.2% of log lines.\n",
      "Processed 29.2% of log lines.\n",
      "Processed 29.3% of log lines.\n",
      "Processed 29.3% of log lines.\n",
      "Processed 29.3% of log lines.\n",
      "Processed 29.3% of log lines.\n",
      "Processed 29.3% of log lines.\n",
      "Processed 29.3% of log lines.\n",
      "Processed 29.3% of log lines.\n",
      "Processed 29.3% of log lines.\n",
      "Processed 29.3% of log lines.\n",
      "Processed 29.3% of log lines.\n",
      "Processed 29.3% of log lines.\n",
      "Processed 29.3% of log lines.\n",
      "Processed 29.4% of log lines.\n",
      "Processed 29.4% of log lines.\n",
      "Processed 29.4% of log lines.\n",
      "Processed 29.4% of log lines.\n",
      "Processed 29.4% of log lines.\n",
      "Processed 29.4% of log lines.\n",
      "Processed 29.4% of log lines.\n",
      "Processed 29.4% of log lines.\n",
      "Processed 29.4% of log lines.\n",
      "Processed 29.4% of log lines.\n",
      "Processed 29.4% of log lines.\n",
      "Processed 29.5% of log lines.\n",
      "Processed 29.5% of log lines.\n",
      "Processed 29.5% of log lines.\n",
      "Processed 29.5% of log lines.\n",
      "Processed 29.5% of log lines.\n",
      "Processed 29.5% of log lines.\n",
      "Processed 29.5% of log lines.\n",
      "Processed 29.5% of log lines.\n",
      "Processed 29.5% of log lines.\n",
      "Processed 29.5% of log lines.\n",
      "Processed 29.5% of log lines.\n",
      "Processed 29.6% of log lines.\n",
      "Processed 29.6% of log lines.\n",
      "Processed 29.6% of log lines.\n",
      "Processed 29.6% of log lines.\n",
      "Processed 29.6% of log lines.\n",
      "Processed 29.6% of log lines.\n",
      "Processed 29.6% of log lines.\n",
      "Processed 29.6% of log lines.\n",
      "Processed 29.6% of log lines.\n",
      "Processed 29.6% of log lines.\n",
      "Processed 29.6% of log lines.\n",
      "Processed 29.7% of log lines.\n",
      "Processed 29.7% of log lines.\n",
      "Processed 29.7% of log lines.\n",
      "Processed 29.7% of log lines.\n",
      "Processed 29.7% of log lines.\n",
      "Processed 29.7% of log lines.\n",
      "Processed 29.7% of log lines.\n",
      "Processed 29.7% of log lines.\n",
      "Processed 29.7% of log lines.\n",
      "Processed 29.7% of log lines.\n",
      "Processed 29.7% of log lines.\n",
      "Processed 29.8% of log lines.\n",
      "Processed 29.8% of log lines.\n",
      "Processed 29.8% of log lines.\n",
      "Processed 29.8% of log lines.\n",
      "Processed 29.8% of log lines.\n",
      "Processed 29.8% of log lines.\n",
      "Processed 29.8% of log lines.\n",
      "Processed 29.8% of log lines.\n",
      "Processed 29.8% of log lines.\n",
      "Processed 29.8% of log lines.\n",
      "Processed 29.8% of log lines.\n",
      "Processed 29.9% of log lines.\n",
      "Processed 29.9% of log lines.\n",
      "Processed 29.9% of log lines.\n",
      "Processed 29.9% of log lines.\n",
      "Processed 29.9% of log lines.\n",
      "Processed 29.9% of log lines.\n",
      "Processed 29.9% of log lines.\n",
      "Processed 29.9% of log lines.\n",
      "Processed 29.9% of log lines.\n",
      "Processed 29.9% of log lines.\n",
      "Processed 29.9% of log lines.\n",
      "Processed 29.9% of log lines.\n",
      "Processed 30.0% of log lines.\n",
      "Processed 30.0% of log lines.\n",
      "Processed 30.0% of log lines.\n",
      "Processed 30.0% of log lines.\n",
      "Processed 30.0% of log lines.\n",
      "Processed 30.0% of log lines.\n",
      "Processed 30.0% of log lines.\n",
      "Processed 30.0% of log lines.\n",
      "Processed 30.0% of log lines.\n",
      "Processed 30.0% of log lines.\n",
      "Processed 30.0% of log lines.\n",
      "Processed 30.1% of log lines.\n",
      "Processed 30.1% of log lines.\n",
      "Processed 30.1% of log lines.\n",
      "Processed 30.1% of log lines.\n",
      "Processed 30.1% of log lines.\n",
      "Processed 30.1% of log lines.\n",
      "Processed 30.1% of log lines.\n",
      "Processed 30.1% of log lines.\n",
      "Processed 30.1% of log lines.\n",
      "Processed 30.1% of log lines.\n",
      "Processed 30.1% of log lines.\n",
      "Processed 30.2% of log lines.\n",
      "Processed 30.2% of log lines.\n",
      "Processed 30.2% of log lines.\n",
      "Processed 30.2% of log lines.\n",
      "Processed 30.2% of log lines.\n",
      "Processed 30.2% of log lines.\n",
      "Processed 30.2% of log lines.\n",
      "Processed 30.2% of log lines.\n",
      "Processed 30.2% of log lines.\n",
      "Processed 30.2% of log lines.\n",
      "Processed 30.2% of log lines.\n",
      "Processed 30.3% of log lines.\n",
      "Processed 30.3% of log lines.\n",
      "Processed 30.3% of log lines.\n",
      "Processed 30.3% of log lines.\n",
      "Processed 30.3% of log lines.\n",
      "Processed 30.3% of log lines.\n",
      "Processed 30.3% of log lines.\n",
      "Processed 30.3% of log lines.\n",
      "Processed 30.3% of log lines.\n",
      "Processed 30.3% of log lines.\n",
      "Processed 30.3% of log lines.\n",
      "Processed 30.4% of log lines.\n",
      "Processed 30.4% of log lines.\n",
      "Processed 30.4% of log lines.\n",
      "Processed 30.4% of log lines.\n",
      "Processed 30.4% of log lines.\n",
      "Processed 30.4% of log lines.\n",
      "Processed 30.4% of log lines.\n",
      "Processed 30.4% of log lines.\n",
      "Processed 30.4% of log lines.\n",
      "Processed 30.4% of log lines.\n",
      "Processed 30.4% of log lines.\n",
      "Processed 30.5% of log lines.\n",
      "Processed 30.5% of log lines.\n",
      "Processed 30.5% of log lines.\n",
      "Processed 30.5% of log lines.\n",
      "Processed 30.5% of log lines.\n",
      "Processed 30.5% of log lines.\n",
      "Processed 30.5% of log lines.\n",
      "Processed 30.5% of log lines.\n",
      "Processed 30.5% of log lines.\n",
      "Processed 30.5% of log lines.\n",
      "Processed 30.5% of log lines.\n",
      "Processed 30.5% of log lines.\n",
      "Processed 30.6% of log lines.\n",
      "Processed 30.6% of log lines.\n",
      "Processed 30.6% of log lines.\n",
      "Processed 30.6% of log lines.\n",
      "Processed 30.6% of log lines.\n",
      "Processed 30.6% of log lines.\n",
      "Processed 30.6% of log lines.\n",
      "Processed 30.6% of log lines.\n",
      "Processed 30.6% of log lines.\n",
      "Processed 30.6% of log lines.\n",
      "Processed 30.6% of log lines.\n",
      "Processed 30.7% of log lines.\n",
      "Processed 30.7% of log lines.\n",
      "Processed 30.7% of log lines.\n",
      "Processed 30.7% of log lines.\n",
      "Processed 30.7% of log lines.\n",
      "Processed 30.7% of log lines.\n",
      "Processed 30.7% of log lines.\n",
      "Processed 30.7% of log lines.\n",
      "Processed 30.7% of log lines.\n",
      "Processed 30.7% of log lines.\n",
      "Processed 30.7% of log lines.\n",
      "Processed 30.8% of log lines.\n",
      "Processed 30.8% of log lines.\n",
      "Processed 30.8% of log lines.\n",
      "Processed 30.8% of log lines.\n",
      "Processed 30.8% of log lines.\n",
      "Processed 30.8% of log lines.\n",
      "Processed 30.8% of log lines.\n",
      "Processed 30.8% of log lines.\n",
      "Processed 30.8% of log lines.\n",
      "Processed 30.8% of log lines.\n",
      "Processed 30.8% of log lines.\n",
      "Processed 30.9% of log lines.\n",
      "Processed 30.9% of log lines.\n",
      "Processed 30.9% of log lines.\n",
      "Processed 30.9% of log lines.\n",
      "Processed 30.9% of log lines.\n",
      "Processed 30.9% of log lines.\n",
      "Processed 30.9% of log lines.\n",
      "Processed 30.9% of log lines.\n",
      "Processed 30.9% of log lines.\n",
      "Processed 30.9% of log lines.\n",
      "Processed 30.9% of log lines.\n",
      "Processed 31.0% of log lines.\n",
      "Processed 31.0% of log lines.\n",
      "Processed 31.0% of log lines.\n",
      "Processed 31.0% of log lines.\n",
      "Processed 31.0% of log lines.\n",
      "Processed 31.0% of log lines.\n",
      "Processed 31.0% of log lines.\n",
      "Processed 31.0% of log lines.\n",
      "Processed 31.0% of log lines.\n",
      "Processed 31.0% of log lines.\n",
      "Processed 31.0% of log lines.\n",
      "Processed 31.0% of log lines.\n",
      "Processed 31.1% of log lines.\n",
      "Processed 31.1% of log lines.\n",
      "Processed 31.1% of log lines.\n",
      "Processed 31.1% of log lines.\n",
      "Processed 31.1% of log lines.\n",
      "Processed 31.1% of log lines.\n",
      "Processed 31.1% of log lines.\n",
      "Processed 31.1% of log lines.\n",
      "Processed 31.1% of log lines.\n",
      "Processed 31.1% of log lines.\n",
      "Processed 31.1% of log lines.\n",
      "Processed 31.2% of log lines.\n",
      "Processed 31.2% of log lines.\n",
      "Processed 31.2% of log lines.\n",
      "Processed 31.2% of log lines.\n",
      "Processed 31.2% of log lines.\n",
      "Processed 31.2% of log lines.\n",
      "Processed 31.2% of log lines.\n",
      "Processed 31.2% of log lines.\n",
      "Processed 31.2% of log lines.\n",
      "Processed 31.2% of log lines.\n",
      "Processed 31.2% of log lines.\n",
      "Processed 31.3% of log lines.\n",
      "Processed 31.3% of log lines.\n",
      "Processed 31.3% of log lines.\n",
      "Processed 31.3% of log lines.\n",
      "Processed 31.3% of log lines.\n",
      "Processed 31.3% of log lines.\n",
      "Processed 31.3% of log lines.\n",
      "Processed 31.3% of log lines.\n",
      "Processed 31.3% of log lines.\n",
      "Processed 31.3% of log lines.\n",
      "Processed 31.3% of log lines.\n",
      "Processed 31.4% of log lines.\n",
      "Processed 31.4% of log lines.\n",
      "Processed 31.4% of log lines.\n",
      "Processed 31.4% of log lines.\n",
      "Processed 31.4% of log lines.\n",
      "Processed 31.4% of log lines.\n",
      "Processed 31.4% of log lines.\n",
      "Processed 31.4% of log lines.\n",
      "Processed 31.4% of log lines.\n",
      "Processed 31.4% of log lines.\n",
      "Processed 31.4% of log lines.\n",
      "Processed 31.5% of log lines.\n",
      "Processed 31.5% of log lines.\n",
      "Processed 31.5% of log lines.\n",
      "Processed 31.5% of log lines.\n",
      "Processed 31.5% of log lines.\n",
      "Processed 31.5% of log lines.\n",
      "Processed 31.5% of log lines.\n",
      "Processed 31.5% of log lines.\n",
      "Processed 31.5% of log lines.\n",
      "Processed 31.5% of log lines.\n",
      "Processed 31.5% of log lines.\n",
      "Processed 31.6% of log lines.\n",
      "Processed 31.6% of log lines.\n",
      "Processed 31.6% of log lines.\n",
      "Processed 31.6% of log lines.\n",
      "Processed 31.6% of log lines.\n",
      "Processed 31.6% of log lines.\n",
      "Processed 31.6% of log lines.\n",
      "Processed 31.6% of log lines.\n",
      "Processed 31.6% of log lines.\n",
      "Processed 31.6% of log lines.\n",
      "Processed 31.6% of log lines.\n",
      "Processed 31.6% of log lines.\n",
      "Processed 31.7% of log lines.\n",
      "Processed 31.7% of log lines.\n",
      "Processed 31.7% of log lines.\n",
      "Processed 31.7% of log lines.\n",
      "Processed 31.7% of log lines.\n",
      "Processed 31.7% of log lines.\n",
      "Processed 31.7% of log lines.\n",
      "Processed 31.7% of log lines.\n",
      "Processed 31.7% of log lines.\n",
      "Processed 31.7% of log lines.\n",
      "Processed 31.7% of log lines.\n",
      "Processed 31.8% of log lines.\n",
      "Processed 31.8% of log lines.\n",
      "Processed 31.8% of log lines.\n",
      "Processed 31.8% of log lines.\n",
      "Processed 31.8% of log lines.\n",
      "Processed 31.8% of log lines.\n",
      "Processed 31.8% of log lines.\n",
      "Processed 31.8% of log lines.\n",
      "Processed 31.8% of log lines.\n",
      "Processed 31.8% of log lines.\n",
      "Processed 31.8% of log lines.\n",
      "Processed 31.9% of log lines.\n",
      "Processed 31.9% of log lines.\n",
      "Processed 31.9% of log lines.\n",
      "Processed 31.9% of log lines.\n",
      "Processed 31.9% of log lines.\n",
      "Processed 31.9% of log lines.\n",
      "Processed 31.9% of log lines.\n",
      "Processed 31.9% of log lines.\n",
      "Processed 31.9% of log lines.\n",
      "Processed 31.9% of log lines.\n",
      "Processed 31.9% of log lines.\n",
      "Processed 32.0% of log lines.\n",
      "Processed 32.0% of log lines.\n",
      "Processed 32.0% of log lines.\n",
      "Processed 32.0% of log lines.\n",
      "Processed 32.0% of log lines.\n",
      "Processed 32.0% of log lines.\n",
      "Processed 32.0% of log lines.\n",
      "Processed 32.0% of log lines.\n",
      "Processed 32.0% of log lines.\n",
      "Processed 32.0% of log lines.\n",
      "Processed 32.0% of log lines.\n",
      "Processed 32.1% of log lines.\n",
      "Processed 32.1% of log lines.\n",
      "Processed 32.1% of log lines.\n",
      "Processed 32.1% of log lines.\n",
      "Processed 32.1% of log lines.\n",
      "Processed 32.1% of log lines.\n",
      "Processed 32.1% of log lines.\n",
      "Processed 32.1% of log lines.\n",
      "Processed 32.1% of log lines.\n",
      "Processed 32.1% of log lines.\n",
      "Processed 32.1% of log lines.\n",
      "Processed 32.2% of log lines.\n",
      "Processed 32.2% of log lines.\n",
      "Processed 32.2% of log lines.\n",
      "Processed 32.2% of log lines.\n",
      "Processed 32.2% of log lines.\n",
      "Processed 32.2% of log lines.\n",
      "Processed 32.2% of log lines.\n",
      "Processed 32.2% of log lines.\n",
      "Processed 32.2% of log lines.\n",
      "Processed 32.2% of log lines.\n",
      "Processed 32.2% of log lines.\n",
      "Processed 32.2% of log lines.\n",
      "Processed 32.3% of log lines.\n",
      "Processed 32.3% of log lines.\n",
      "Processed 32.3% of log lines.\n",
      "Processed 32.3% of log lines.\n",
      "Processed 32.3% of log lines.\n",
      "Processed 32.3% of log lines.\n",
      "Processed 32.3% of log lines.\n",
      "Processed 32.3% of log lines.\n",
      "Processed 32.3% of log lines.\n",
      "Processed 32.3% of log lines.\n",
      "Processed 32.3% of log lines.\n",
      "Processed 32.4% of log lines.\n",
      "Processed 32.4% of log lines.\n",
      "Processed 32.4% of log lines.\n",
      "Processed 32.4% of log lines.\n",
      "Processed 32.4% of log lines.\n",
      "Processed 32.4% of log lines.\n",
      "Processed 32.4% of log lines.\n",
      "Processed 32.4% of log lines.\n",
      "Processed 32.4% of log lines.\n",
      "Processed 32.4% of log lines.\n",
      "Processed 32.4% of log lines.\n",
      "Processed 32.5% of log lines.\n",
      "Processed 32.5% of log lines.\n",
      "Processed 32.5% of log lines.\n",
      "Processed 32.5% of log lines.\n",
      "Processed 32.5% of log lines.\n",
      "Processed 32.5% of log lines.\n",
      "Processed 32.5% of log lines.\n",
      "Processed 32.5% of log lines.\n",
      "Processed 32.5% of log lines.\n",
      "Processed 32.5% of log lines.\n",
      "Processed 32.5% of log lines.\n",
      "Processed 32.6% of log lines.\n",
      "Processed 32.6% of log lines.\n",
      "Processed 32.6% of log lines.\n",
      "Processed 32.6% of log lines.\n",
      "Processed 32.6% of log lines.\n",
      "Processed 32.6% of log lines.\n",
      "Processed 32.6% of log lines.\n",
      "Processed 32.6% of log lines.\n",
      "Processed 32.6% of log lines.\n",
      "Processed 32.6% of log lines.\n",
      "Processed 32.6% of log lines.\n",
      "Processed 32.7% of log lines.\n",
      "Processed 32.7% of log lines.\n",
      "Processed 32.7% of log lines.\n",
      "Processed 32.7% of log lines.\n",
      "Processed 32.7% of log lines.\n",
      "Processed 32.7% of log lines.\n",
      "Processed 32.7% of log lines.\n",
      "Processed 32.7% of log lines.\n",
      "Processed 32.7% of log lines.\n",
      "Processed 32.7% of log lines.\n",
      "Processed 32.7% of log lines.\n",
      "Processed 32.7% of log lines.\n",
      "Processed 32.8% of log lines.\n",
      "Processed 32.8% of log lines.\n",
      "Processed 32.8% of log lines.\n",
      "Processed 32.8% of log lines.\n",
      "Processed 32.8% of log lines.\n",
      "Processed 32.8% of log lines.\n",
      "Processed 32.8% of log lines.\n",
      "Processed 32.8% of log lines.\n",
      "Processed 32.8% of log lines.\n",
      "Processed 32.8% of log lines.\n",
      "Processed 32.8% of log lines.\n",
      "Processed 32.9% of log lines.\n",
      "Processed 32.9% of log lines.\n",
      "Processed 32.9% of log lines.\n",
      "Processed 32.9% of log lines.\n",
      "Processed 32.9% of log lines.\n",
      "Processed 32.9% of log lines.\n",
      "Processed 32.9% of log lines.\n",
      "Processed 32.9% of log lines.\n",
      "Processed 32.9% of log lines.\n",
      "Processed 32.9% of log lines.\n",
      "Processed 32.9% of log lines.\n",
      "Processed 33.0% of log lines.\n",
      "Processed 33.0% of log lines.\n",
      "Processed 33.0% of log lines.\n",
      "Processed 33.0% of log lines.\n",
      "Processed 33.0% of log lines.\n",
      "Processed 33.0% of log lines.\n",
      "Processed 33.0% of log lines.\n",
      "Processed 33.0% of log lines.\n",
      "Processed 33.0% of log lines.\n",
      "Processed 33.0% of log lines.\n",
      "Processed 33.0% of log lines.\n",
      "Processed 33.1% of log lines.\n",
      "Processed 33.1% of log lines.\n",
      "Processed 33.1% of log lines.\n",
      "Processed 33.1% of log lines.\n",
      "Processed 33.1% of log lines.\n",
      "Processed 33.1% of log lines.\n",
      "Processed 33.1% of log lines.\n",
      "Processed 33.1% of log lines.\n",
      "Processed 33.1% of log lines.\n",
      "Processed 33.1% of log lines.\n",
      "Processed 33.1% of log lines.\n",
      "Processed 33.2% of log lines.\n",
      "Processed 33.2% of log lines.\n",
      "Processed 33.2% of log lines.\n",
      "Processed 33.2% of log lines.\n",
      "Processed 33.2% of log lines.\n",
      "Processed 33.2% of log lines.\n",
      "Processed 33.2% of log lines.\n",
      "Processed 33.2% of log lines.\n",
      "Processed 33.2% of log lines.\n",
      "Processed 33.2% of log lines.\n",
      "Processed 33.2% of log lines.\n",
      "Processed 33.3% of log lines.\n",
      "Processed 33.3% of log lines.\n",
      "Processed 33.3% of log lines.\n",
      "Processed 33.3% of log lines.\n",
      "Processed 33.3% of log lines.\n",
      "Processed 33.3% of log lines.\n",
      "Processed 33.3% of log lines.\n",
      "Processed 33.3% of log lines.\n",
      "Processed 33.3% of log lines.\n",
      "Processed 33.3% of log lines.\n",
      "Processed 33.3% of log lines.\n",
      "Processed 33.3% of log lines.\n",
      "Processed 33.4% of log lines.\n",
      "Processed 33.4% of log lines.\n",
      "Processed 33.4% of log lines.\n",
      "Processed 33.4% of log lines.\n",
      "Processed 33.4% of log lines.\n",
      "Processed 33.4% of log lines.\n",
      "Processed 33.4% of log lines.\n",
      "Processed 33.4% of log lines.\n",
      "Processed 33.4% of log lines.\n",
      "Processed 33.4% of log lines.\n",
      "Processed 33.4% of log lines.\n",
      "Processed 33.5% of log lines.\n",
      "Processed 33.5% of log lines.\n",
      "Processed 33.5% of log lines.\n",
      "Processed 33.5% of log lines.\n",
      "Processed 33.5% of log lines.\n",
      "Processed 33.5% of log lines.\n",
      "Processed 33.5% of log lines.\n",
      "Processed 33.5% of log lines.\n",
      "Processed 33.5% of log lines.\n",
      "Processed 33.5% of log lines.\n",
      "Processed 33.5% of log lines.\n",
      "Processed 33.6% of log lines.\n",
      "Processed 33.6% of log lines.\n",
      "Processed 33.6% of log lines.\n",
      "Processed 33.6% of log lines.\n",
      "Processed 33.6% of log lines.\n",
      "Processed 33.6% of log lines.\n",
      "Processed 33.6% of log lines.\n",
      "Processed 33.6% of log lines.\n",
      "Processed 33.6% of log lines.\n",
      "Processed 33.6% of log lines.\n",
      "Processed 33.6% of log lines.\n",
      "Processed 33.7% of log lines.\n",
      "Processed 33.7% of log lines.\n",
      "Processed 33.7% of log lines.\n",
      "Processed 33.7% of log lines.\n",
      "Processed 33.7% of log lines.\n",
      "Processed 33.7% of log lines.\n",
      "Processed 33.7% of log lines.\n",
      "Processed 33.7% of log lines.\n",
      "Processed 33.7% of log lines.\n",
      "Processed 33.7% of log lines.\n",
      "Processed 33.7% of log lines.\n",
      "Processed 33.8% of log lines.\n",
      "Processed 33.8% of log lines.\n",
      "Processed 33.8% of log lines.\n",
      "Processed 33.8% of log lines.\n",
      "Processed 33.8% of log lines.\n",
      "Processed 33.8% of log lines.\n",
      "Processed 33.8% of log lines.\n",
      "Processed 33.8% of log lines.\n",
      "Processed 33.8% of log lines.\n",
      "Processed 33.8% of log lines.\n",
      "Processed 33.8% of log lines.\n",
      "Processed 33.9% of log lines.\n",
      "Processed 33.9% of log lines.\n",
      "Processed 33.9% of log lines.\n",
      "Processed 33.9% of log lines.\n",
      "Processed 33.9% of log lines.\n",
      "Processed 33.9% of log lines.\n",
      "Processed 33.9% of log lines.\n",
      "Processed 33.9% of log lines.\n",
      "Processed 33.9% of log lines.\n",
      "Processed 33.9% of log lines.\n",
      "Processed 33.9% of log lines.\n",
      "Processed 33.9% of log lines.\n",
      "Processed 34.0% of log lines.\n",
      "Processed 34.0% of log lines.\n",
      "Processed 34.0% of log lines.\n",
      "Processed 34.0% of log lines.\n",
      "Processed 34.0% of log lines.\n",
      "Processed 34.0% of log lines.\n",
      "Processed 34.0% of log lines.\n",
      "Processed 34.0% of log lines.\n",
      "Processed 34.0% of log lines.\n",
      "Processed 34.0% of log lines.\n",
      "Processed 34.0% of log lines.\n",
      "Processed 34.1% of log lines.\n",
      "Processed 34.1% of log lines.\n",
      "Processed 34.1% of log lines.\n",
      "Processed 34.1% of log lines.\n",
      "Processed 34.1% of log lines.\n",
      "Processed 34.1% of log lines.\n",
      "Processed 34.1% of log lines.\n",
      "Processed 34.1% of log lines.\n",
      "Processed 34.1% of log lines.\n",
      "Processed 34.1% of log lines.\n",
      "Processed 34.1% of log lines.\n",
      "Processed 34.2% of log lines.\n",
      "Processed 34.2% of log lines.\n",
      "Processed 34.2% of log lines.\n",
      "Processed 34.2% of log lines.\n",
      "Processed 34.2% of log lines.\n",
      "Processed 34.2% of log lines.\n",
      "Processed 34.2% of log lines.\n",
      "Processed 34.2% of log lines.\n",
      "Processed 34.2% of log lines.\n",
      "Processed 34.2% of log lines.\n",
      "Processed 34.2% of log lines.\n",
      "Processed 34.3% of log lines.\n",
      "Processed 34.3% of log lines.\n",
      "Processed 34.3% of log lines.\n",
      "Processed 34.3% of log lines.\n",
      "Processed 34.3% of log lines.\n",
      "Processed 34.3% of log lines.\n",
      "Processed 34.3% of log lines.\n",
      "Processed 34.3% of log lines.\n",
      "Processed 34.3% of log lines.\n",
      "Processed 34.3% of log lines.\n",
      "Processed 34.3% of log lines.\n",
      "Processed 34.4% of log lines.\n",
      "Processed 34.4% of log lines.\n",
      "Processed 34.4% of log lines.\n",
      "Processed 34.4% of log lines.\n",
      "Processed 34.4% of log lines.\n",
      "Processed 34.4% of log lines.\n",
      "Processed 34.4% of log lines.\n",
      "Processed 34.4% of log lines.\n",
      "Processed 34.4% of log lines.\n",
      "Processed 34.4% of log lines.\n",
      "Processed 34.4% of log lines.\n",
      "Processed 34.4% of log lines.\n",
      "Processed 34.5% of log lines.\n",
      "Processed 34.5% of log lines.\n",
      "Processed 34.5% of log lines.\n",
      "Processed 34.5% of log lines.\n",
      "Processed 34.5% of log lines.\n",
      "Processed 34.5% of log lines.\n",
      "Processed 34.5% of log lines.\n",
      "Processed 34.5% of log lines.\n",
      "Processed 34.5% of log lines.\n",
      "Processed 34.5% of log lines.\n",
      "Processed 34.5% of log lines.\n",
      "Processed 34.6% of log lines.\n",
      "Processed 34.6% of log lines.\n",
      "Processed 34.6% of log lines.\n",
      "Processed 34.6% of log lines.\n",
      "Processed 34.6% of log lines.\n",
      "Processed 34.6% of log lines.\n",
      "Processed 34.6% of log lines.\n",
      "Processed 34.6% of log lines.\n",
      "Processed 34.6% of log lines.\n",
      "Processed 34.6% of log lines.\n",
      "Processed 34.6% of log lines.\n",
      "Processed 34.7% of log lines.\n",
      "Processed 34.7% of log lines.\n",
      "Processed 34.7% of log lines.\n",
      "Processed 34.7% of log lines.\n",
      "Processed 34.7% of log lines.\n",
      "Processed 34.7% of log lines.\n",
      "Processed 34.7% of log lines.\n",
      "Processed 34.7% of log lines.\n",
      "Processed 34.7% of log lines.\n",
      "Processed 34.7% of log lines.\n",
      "Processed 34.7% of log lines.\n",
      "Processed 34.8% of log lines.\n",
      "Processed 34.8% of log lines.\n",
      "Processed 34.8% of log lines.\n",
      "Processed 34.8% of log lines.\n",
      "Processed 34.8% of log lines.\n",
      "Processed 34.8% of log lines.\n",
      "Processed 34.8% of log lines.\n",
      "Processed 34.8% of log lines.\n",
      "Processed 34.8% of log lines.\n",
      "Processed 34.8% of log lines.\n",
      "Processed 34.8% of log lines.\n",
      "Processed 34.9% of log lines.\n",
      "Processed 34.9% of log lines.\n",
      "Processed 34.9% of log lines.\n",
      "Processed 34.9% of log lines.\n",
      "Processed 34.9% of log lines.\n",
      "Processed 34.9% of log lines.\n",
      "Processed 34.9% of log lines.\n",
      "Processed 34.9% of log lines.\n",
      "Processed 34.9% of log lines.\n",
      "Processed 34.9% of log lines.\n",
      "Processed 34.9% of log lines.\n",
      "Processed 35.0% of log lines.\n",
      "Processed 35.0% of log lines.\n",
      "Processed 35.0% of log lines.\n",
      "Processed 35.0% of log lines.\n",
      "Processed 35.0% of log lines.\n",
      "Processed 35.0% of log lines.\n",
      "Processed 35.0% of log lines.\n",
      "Processed 35.0% of log lines.\n",
      "Processed 35.0% of log lines.\n",
      "Processed 35.0% of log lines.\n",
      "Processed 35.0% of log lines.\n",
      "Processed 35.0% of log lines.\n",
      "Processed 35.1% of log lines.\n",
      "Processed 35.1% of log lines.\n",
      "Processed 35.1% of log lines.\n",
      "Processed 35.1% of log lines.\n",
      "Processed 35.1% of log lines.\n",
      "Processed 35.1% of log lines.\n",
      "Processed 35.1% of log lines.\n",
      "Processed 35.1% of log lines.\n",
      "Processed 35.1% of log lines.\n",
      "Processed 35.1% of log lines.\n",
      "Processed 35.1% of log lines.\n",
      "Processed 35.2% of log lines.\n",
      "Processed 35.2% of log lines.\n",
      "Processed 35.2% of log lines.\n",
      "Processed 35.2% of log lines.\n",
      "Processed 35.2% of log lines.\n",
      "Processed 35.2% of log lines.\n",
      "Processed 35.2% of log lines.\n",
      "Processed 35.2% of log lines.\n",
      "Processed 35.2% of log lines.\n",
      "Processed 35.2% of log lines.\n",
      "Processed 35.2% of log lines.\n",
      "Processed 35.3% of log lines.\n",
      "Processed 35.3% of log lines.\n",
      "Processed 35.3% of log lines.\n",
      "Processed 35.3% of log lines.\n",
      "Processed 35.3% of log lines.\n",
      "Processed 35.3% of log lines.\n",
      "Processed 35.3% of log lines.\n",
      "Processed 35.3% of log lines.\n",
      "Processed 35.3% of log lines.\n",
      "Processed 35.3% of log lines.\n",
      "Processed 35.3% of log lines.\n",
      "Processed 35.4% of log lines.\n",
      "Processed 35.4% of log lines.\n",
      "Processed 35.4% of log lines.\n",
      "Processed 35.4% of log lines.\n",
      "Processed 35.4% of log lines.\n",
      "Processed 35.4% of log lines.\n",
      "Processed 35.4% of log lines.\n",
      "Processed 35.4% of log lines.\n",
      "Processed 35.4% of log lines.\n",
      "Processed 35.4% of log lines.\n",
      "Processed 35.4% of log lines.\n",
      "Processed 35.5% of log lines.\n",
      "Processed 35.5% of log lines.\n",
      "Processed 35.5% of log lines.\n",
      "Processed 35.5% of log lines.\n",
      "Processed 35.5% of log lines.\n",
      "Processed 35.5% of log lines.\n",
      "Processed 35.5% of log lines.\n",
      "Processed 35.5% of log lines.\n",
      "Processed 35.5% of log lines.\n",
      "Processed 35.5% of log lines.\n",
      "Processed 35.5% of log lines.\n",
      "Processed 35.6% of log lines.\n",
      "Processed 35.6% of log lines.\n",
      "Processed 35.6% of log lines.\n",
      "Processed 35.6% of log lines.\n",
      "Processed 35.6% of log lines.\n",
      "Processed 35.6% of log lines.\n",
      "Processed 35.6% of log lines.\n",
      "Processed 35.6% of log lines.\n",
      "Processed 35.6% of log lines.\n",
      "Processed 35.6% of log lines.\n",
      "Processed 35.6% of log lines.\n",
      "Processed 35.6% of log lines.\n",
      "Processed 35.7% of log lines.\n",
      "Processed 35.7% of log lines.\n",
      "Processed 35.7% of log lines.\n",
      "Processed 35.7% of log lines.\n",
      "Processed 35.7% of log lines.\n",
      "Processed 35.7% of log lines.\n",
      "Processed 35.7% of log lines.\n",
      "Processed 35.7% of log lines.\n",
      "Processed 35.7% of log lines.\n",
      "Processed 35.7% of log lines.\n",
      "Processed 35.7% of log lines.\n",
      "Processed 35.8% of log lines.\n",
      "Processed 35.8% of log lines.\n",
      "Processed 35.8% of log lines.\n",
      "Processed 35.8% of log lines.\n",
      "Processed 35.8% of log lines.\n",
      "Processed 35.8% of log lines.\n",
      "Processed 35.8% of log lines.\n",
      "Processed 35.8% of log lines.\n",
      "Processed 35.8% of log lines.\n",
      "Processed 35.8% of log lines.\n",
      "Processed 35.8% of log lines.\n",
      "Processed 35.9% of log lines.\n",
      "Processed 35.9% of log lines.\n",
      "Processed 35.9% of log lines.\n",
      "Processed 35.9% of log lines.\n",
      "Processed 35.9% of log lines.\n",
      "Processed 35.9% of log lines.\n",
      "Processed 35.9% of log lines.\n",
      "Processed 35.9% of log lines.\n",
      "Processed 35.9% of log lines.\n",
      "Processed 35.9% of log lines.\n",
      "Processed 35.9% of log lines.\n",
      "Processed 36.0% of log lines.\n",
      "Processed 36.0% of log lines.\n",
      "Processed 36.0% of log lines.\n",
      "Processed 36.0% of log lines.\n",
      "Processed 36.0% of log lines.\n",
      "Processed 36.0% of log lines.\n",
      "Processed 36.0% of log lines.\n",
      "Processed 36.0% of log lines.\n",
      "Processed 36.0% of log lines.\n",
      "Processed 36.0% of log lines.\n",
      "Processed 36.0% of log lines.\n",
      "Processed 36.1% of log lines.\n",
      "Processed 36.1% of log lines.\n",
      "Processed 36.1% of log lines.\n",
      "Processed 36.1% of log lines.\n",
      "Processed 36.1% of log lines.\n",
      "Processed 36.1% of log lines.\n",
      "Processed 36.1% of log lines.\n",
      "Processed 36.1% of log lines.\n",
      "Processed 36.1% of log lines.\n",
      "Processed 36.1% of log lines.\n",
      "Processed 36.1% of log lines.\n",
      "Processed 36.2% of log lines.\n",
      "Processed 36.2% of log lines.\n",
      "Processed 36.2% of log lines.\n",
      "Processed 36.2% of log lines.\n",
      "Processed 36.2% of log lines.\n",
      "Processed 36.2% of log lines.\n",
      "Processed 36.2% of log lines.\n",
      "Processed 36.2% of log lines.\n",
      "Processed 36.2% of log lines.\n",
      "Processed 36.2% of log lines.\n",
      "Processed 36.2% of log lines.\n",
      "Processed 36.2% of log lines.\n",
      "Processed 36.3% of log lines.\n",
      "Processed 36.3% of log lines.\n",
      "Processed 36.3% of log lines.\n",
      "Processed 36.3% of log lines.\n",
      "Processed 36.3% of log lines.\n",
      "Processed 36.3% of log lines.\n",
      "Processed 36.3% of log lines.\n",
      "Processed 36.3% of log lines.\n",
      "Processed 36.3% of log lines.\n",
      "Processed 36.3% of log lines.\n",
      "Processed 36.3% of log lines.\n",
      "Processed 36.4% of log lines.\n",
      "Processed 36.4% of log lines.\n",
      "Processed 36.4% of log lines.\n",
      "Processed 36.4% of log lines.\n",
      "Processed 36.4% of log lines.\n",
      "Processed 36.4% of log lines.\n",
      "Processed 36.4% of log lines.\n",
      "Processed 36.4% of log lines.\n",
      "Processed 36.4% of log lines.\n",
      "Processed 36.4% of log lines.\n",
      "Processed 36.4% of log lines.\n",
      "Processed 36.5% of log lines.\n",
      "Processed 36.5% of log lines.\n",
      "Processed 36.5% of log lines.\n",
      "Processed 36.5% of log lines.\n",
      "Processed 36.5% of log lines.\n",
      "Processed 36.5% of log lines.\n",
      "Processed 36.5% of log lines.\n",
      "Processed 36.5% of log lines.\n",
      "Processed 36.5% of log lines.\n",
      "Processed 36.5% of log lines.\n",
      "Processed 36.5% of log lines.\n",
      "Processed 36.6% of log lines.\n",
      "Processed 36.6% of log lines.\n",
      "Processed 36.6% of log lines.\n",
      "Processed 36.6% of log lines.\n",
      "Processed 36.6% of log lines.\n",
      "Processed 36.6% of log lines.\n",
      "Processed 36.6% of log lines.\n",
      "Processed 36.6% of log lines.\n",
      "Processed 36.6% of log lines.\n",
      "Processed 36.6% of log lines.\n",
      "Processed 36.6% of log lines.\n",
      "Processed 36.7% of log lines.\n",
      "Processed 36.7% of log lines.\n",
      "Processed 36.7% of log lines.\n",
      "Processed 36.7% of log lines.\n",
      "Processed 36.7% of log lines.\n",
      "Processed 36.7% of log lines.\n",
      "Processed 36.7% of log lines.\n",
      "Processed 36.7% of log lines.\n",
      "Processed 36.7% of log lines.\n",
      "Processed 36.7% of log lines.\n",
      "Processed 36.7% of log lines.\n",
      "Processed 36.7% of log lines.\n",
      "Processed 36.8% of log lines.\n",
      "Processed 36.8% of log lines.\n",
      "Processed 36.8% of log lines.\n",
      "Processed 36.8% of log lines.\n",
      "Processed 36.8% of log lines.\n",
      "Processed 36.8% of log lines.\n",
      "Processed 36.8% of log lines.\n",
      "Processed 36.8% of log lines.\n",
      "Processed 36.8% of log lines.\n",
      "Processed 36.8% of log lines.\n",
      "Processed 36.8% of log lines.\n",
      "Processed 36.9% of log lines.\n",
      "Processed 36.9% of log lines.\n",
      "Processed 36.9% of log lines.\n",
      "Processed 36.9% of log lines.\n",
      "Processed 36.9% of log lines.\n",
      "Processed 36.9% of log lines.\n",
      "Processed 36.9% of log lines.\n",
      "Processed 36.9% of log lines.\n",
      "Processed 36.9% of log lines.\n",
      "Processed 36.9% of log lines.\n",
      "Processed 36.9% of log lines.\n",
      "Processed 37.0% of log lines.\n",
      "Processed 37.0% of log lines.\n",
      "Processed 37.0% of log lines.\n",
      "Processed 37.0% of log lines.\n",
      "Processed 37.0% of log lines.\n",
      "Processed 37.0% of log lines.\n",
      "Processed 37.0% of log lines.\n",
      "Processed 37.0% of log lines.\n",
      "Processed 37.0% of log lines.\n",
      "Processed 37.0% of log lines.\n",
      "Processed 37.0% of log lines.\n",
      "Processed 37.1% of log lines.\n",
      "Processed 37.1% of log lines.\n",
      "Processed 37.1% of log lines.\n",
      "Processed 37.1% of log lines.\n",
      "Processed 37.1% of log lines.\n",
      "Processed 37.1% of log lines.\n",
      "Processed 37.1% of log lines.\n",
      "Processed 37.1% of log lines.\n",
      "Processed 37.1% of log lines.\n",
      "Processed 37.1% of log lines.\n",
      "Processed 37.1% of log lines.\n",
      "Processed 37.2% of log lines.\n",
      "Processed 37.2% of log lines.\n",
      "Processed 37.2% of log lines.\n",
      "Processed 37.2% of log lines.\n",
      "Processed 37.2% of log lines.\n",
      "Processed 37.2% of log lines.\n",
      "Processed 37.2% of log lines.\n",
      "Processed 37.2% of log lines.\n",
      "Processed 37.2% of log lines.\n",
      "Processed 37.2% of log lines.\n",
      "Processed 37.2% of log lines.\n",
      "Processed 37.3% of log lines.\n",
      "Processed 37.3% of log lines.\n",
      "Processed 37.3% of log lines.\n",
      "Processed 37.3% of log lines.\n",
      "Processed 37.3% of log lines.\n",
      "Processed 37.3% of log lines.\n",
      "Processed 37.3% of log lines.\n",
      "Processed 37.3% of log lines.\n",
      "Processed 37.3% of log lines.\n",
      "Processed 37.3% of log lines.\n",
      "Processed 37.3% of log lines.\n",
      "Processed 37.3% of log lines.\n",
      "Processed 37.4% of log lines.\n",
      "Processed 37.4% of log lines.\n",
      "Processed 37.4% of log lines.\n",
      "Processed 37.4% of log lines.\n",
      "Processed 37.4% of log lines.\n",
      "Processed 37.4% of log lines.\n",
      "Processed 37.4% of log lines.\n",
      "Processed 37.4% of log lines.\n",
      "Processed 37.4% of log lines.\n",
      "Processed 37.4% of log lines.\n",
      "Processed 37.4% of log lines.\n",
      "Processed 37.5% of log lines.\n",
      "Processed 37.5% of log lines.\n",
      "Processed 37.5% of log lines.\n",
      "Processed 37.5% of log lines.\n",
      "Processed 37.5% of log lines.\n",
      "Processed 37.5% of log lines.\n",
      "Processed 37.5% of log lines.\n",
      "Processed 37.5% of log lines.\n",
      "Processed 37.5% of log lines.\n",
      "Processed 37.5% of log lines.\n",
      "Processed 37.5% of log lines.\n",
      "Processed 37.6% of log lines.\n",
      "Processed 37.6% of log lines.\n",
      "Processed 37.6% of log lines.\n",
      "Processed 37.6% of log lines.\n",
      "Processed 37.6% of log lines.\n",
      "Processed 37.6% of log lines.\n",
      "Processed 37.6% of log lines.\n",
      "Processed 37.6% of log lines.\n",
      "Processed 37.6% of log lines.\n",
      "Processed 37.6% of log lines.\n",
      "Processed 37.6% of log lines.\n",
      "Processed 37.7% of log lines.\n",
      "Processed 37.7% of log lines.\n",
      "Processed 37.7% of log lines.\n",
      "Processed 37.7% of log lines.\n",
      "Processed 37.7% of log lines.\n",
      "Processed 37.7% of log lines.\n",
      "Processed 37.7% of log lines.\n",
      "Processed 37.7% of log lines.\n",
      "Processed 37.7% of log lines.\n",
      "Processed 37.7% of log lines.\n",
      "Processed 37.7% of log lines.\n",
      "Processed 37.8% of log lines.\n",
      "Processed 37.8% of log lines.\n",
      "Processed 37.8% of log lines.\n",
      "Processed 37.8% of log lines.\n",
      "Processed 37.8% of log lines.\n",
      "Processed 37.8% of log lines.\n",
      "Processed 37.8% of log lines.\n",
      "Processed 37.8% of log lines.\n",
      "Processed 37.8% of log lines.\n",
      "Processed 37.8% of log lines.\n",
      "Processed 37.8% of log lines.\n",
      "Processed 37.9% of log lines.\n",
      "Processed 37.9% of log lines.\n",
      "Processed 37.9% of log lines.\n",
      "Processed 37.9% of log lines.\n",
      "Processed 37.9% of log lines.\n",
      "Processed 37.9% of log lines.\n",
      "Processed 37.9% of log lines.\n",
      "Processed 37.9% of log lines.\n",
      "Processed 37.9% of log lines.\n",
      "Processed 37.9% of log lines.\n",
      "Processed 37.9% of log lines.\n",
      "Processed 37.9% of log lines.\n",
      "Processed 38.0% of log lines.\n",
      "Processed 38.0% of log lines.\n",
      "Processed 38.0% of log lines.\n",
      "Processed 38.0% of log lines.\n",
      "Processed 38.0% of log lines.\n",
      "Processed 38.0% of log lines.\n",
      "Processed 38.0% of log lines.\n",
      "Processed 38.0% of log lines.\n",
      "Processed 38.0% of log lines.\n",
      "Processed 38.0% of log lines.\n",
      "Processed 38.0% of log lines.\n",
      "Processed 38.1% of log lines.\n",
      "Processed 38.1% of log lines.\n",
      "Processed 38.1% of log lines.\n",
      "Processed 38.1% of log lines.\n",
      "Processed 38.1% of log lines.\n",
      "Processed 38.1% of log lines.\n",
      "Processed 38.1% of log lines.\n",
      "Processed 38.1% of log lines.\n",
      "Processed 38.1% of log lines.\n",
      "Processed 38.1% of log lines.\n",
      "Processed 38.1% of log lines.\n",
      "Processed 38.2% of log lines.\n",
      "Processed 38.2% of log lines.\n",
      "Processed 38.2% of log lines.\n",
      "Processed 38.2% of log lines.\n",
      "Processed 38.2% of log lines.\n",
      "Processed 38.2% of log lines.\n",
      "Processed 38.2% of log lines.\n",
      "Processed 38.2% of log lines.\n",
      "Processed 38.2% of log lines.\n",
      "Processed 38.2% of log lines.\n",
      "Processed 38.2% of log lines.\n",
      "Processed 38.3% of log lines.\n",
      "Processed 38.3% of log lines.\n",
      "Processed 38.3% of log lines.\n",
      "Processed 38.3% of log lines.\n",
      "Processed 38.3% of log lines.\n",
      "Processed 38.3% of log lines.\n",
      "Processed 38.3% of log lines.\n",
      "Processed 38.3% of log lines.\n",
      "Processed 38.3% of log lines.\n",
      "Processed 38.3% of log lines.\n",
      "Processed 38.3% of log lines.\n",
      "Processed 38.4% of log lines.\n",
      "Processed 38.4% of log lines.\n",
      "Processed 38.4% of log lines.\n",
      "Processed 38.4% of log lines.\n",
      "Processed 38.4% of log lines.\n",
      "Processed 38.4% of log lines.\n",
      "Processed 38.4% of log lines.\n",
      "Processed 38.4% of log lines.\n",
      "Processed 38.4% of log lines.\n",
      "Processed 38.4% of log lines.\n",
      "Processed 38.4% of log lines.\n",
      "Processed 38.4% of log lines.\n",
      "Processed 38.5% of log lines.\n",
      "Processed 38.5% of log lines.\n",
      "Processed 38.5% of log lines.\n",
      "Processed 38.5% of log lines.\n",
      "Processed 38.5% of log lines.\n",
      "Processed 38.5% of log lines.\n",
      "Processed 38.5% of log lines.\n",
      "Processed 38.5% of log lines.\n",
      "Processed 38.5% of log lines.\n",
      "Processed 38.5% of log lines.\n",
      "Processed 38.5% of log lines.\n",
      "Processed 38.6% of log lines.\n",
      "Processed 38.6% of log lines.\n",
      "Processed 38.6% of log lines.\n",
      "Processed 38.6% of log lines.\n",
      "Processed 38.6% of log lines.\n",
      "Processed 38.6% of log lines.\n",
      "Processed 38.6% of log lines.\n",
      "Processed 38.6% of log lines.\n",
      "Processed 38.6% of log lines.\n",
      "Processed 38.6% of log lines.\n",
      "Processed 38.6% of log lines.\n",
      "Processed 38.7% of log lines.\n",
      "Processed 38.7% of log lines.\n",
      "Processed 38.7% of log lines.\n",
      "Processed 38.7% of log lines.\n",
      "Processed 38.7% of log lines.\n",
      "Processed 38.7% of log lines.\n",
      "Processed 38.7% of log lines.\n",
      "Processed 38.7% of log lines.\n",
      "Processed 38.7% of log lines.\n",
      "Processed 38.7% of log lines.\n",
      "Processed 38.7% of log lines.\n",
      "Processed 38.8% of log lines.\n",
      "Processed 38.8% of log lines.\n",
      "Processed 38.8% of log lines.\n",
      "Processed 38.8% of log lines.\n",
      "Processed 38.8% of log lines.\n",
      "Processed 38.8% of log lines.\n",
      "Processed 38.8% of log lines.\n",
      "Processed 38.8% of log lines.\n",
      "Processed 38.8% of log lines.\n",
      "Processed 38.8% of log lines.\n",
      "Processed 38.8% of log lines.\n",
      "Processed 38.9% of log lines.\n",
      "Processed 38.9% of log lines.\n",
      "Processed 38.9% of log lines.\n",
      "Processed 38.9% of log lines.\n",
      "Processed 38.9% of log lines.\n",
      "Processed 38.9% of log lines.\n",
      "Processed 38.9% of log lines.\n",
      "Processed 38.9% of log lines.\n",
      "Processed 38.9% of log lines.\n",
      "Processed 38.9% of log lines.\n",
      "Processed 38.9% of log lines.\n",
      "Processed 39.0% of log lines.\n",
      "Processed 39.0% of log lines.\n",
      "Processed 39.0% of log lines.\n",
      "Processed 39.0% of log lines.\n",
      "Processed 39.0% of log lines.\n",
      "Processed 39.0% of log lines.\n",
      "Processed 39.0% of log lines.\n",
      "Processed 39.0% of log lines.\n",
      "Processed 39.0% of log lines.\n",
      "Processed 39.0% of log lines.\n",
      "Processed 39.0% of log lines.\n",
      "Processed 39.0% of log lines.\n",
      "Processed 39.1% of log lines.\n",
      "Processed 39.1% of log lines.\n",
      "Processed 39.1% of log lines.\n",
      "Processed 39.1% of log lines.\n",
      "Processed 39.1% of log lines.\n",
      "Processed 39.1% of log lines.\n",
      "Processed 39.1% of log lines.\n",
      "Processed 39.1% of log lines.\n",
      "Processed 39.1% of log lines.\n",
      "Processed 39.1% of log lines.\n",
      "Processed 39.1% of log lines.\n",
      "Processed 39.2% of log lines.\n",
      "Processed 39.2% of log lines.\n",
      "Processed 39.2% of log lines.\n",
      "Processed 39.2% of log lines.\n",
      "Processed 39.2% of log lines.\n",
      "Processed 39.2% of log lines.\n",
      "Processed 39.2% of log lines.\n",
      "Processed 39.2% of log lines.\n",
      "Processed 39.2% of log lines.\n",
      "Processed 39.2% of log lines.\n",
      "Processed 39.2% of log lines.\n",
      "Processed 39.3% of log lines.\n",
      "Processed 39.3% of log lines.\n",
      "Processed 39.3% of log lines.\n",
      "Processed 39.3% of log lines.\n",
      "Processed 39.3% of log lines.\n",
      "Processed 39.3% of log lines.\n",
      "Processed 39.3% of log lines.\n",
      "Processed 39.3% of log lines.\n",
      "Processed 39.3% of log lines.\n",
      "Processed 39.3% of log lines.\n",
      "Processed 39.3% of log lines.\n",
      "Processed 39.4% of log lines.\n",
      "Processed 39.4% of log lines.\n",
      "Processed 39.4% of log lines.\n",
      "Processed 39.4% of log lines.\n",
      "Processed 39.4% of log lines.\n",
      "Processed 39.4% of log lines.\n",
      "Processed 39.4% of log lines.\n",
      "Processed 39.4% of log lines.\n",
      "Processed 39.4% of log lines.\n",
      "Processed 39.4% of log lines.\n",
      "Processed 39.4% of log lines.\n",
      "Processed 39.5% of log lines.\n",
      "Processed 39.5% of log lines.\n",
      "Processed 39.5% of log lines.\n",
      "Processed 39.5% of log lines.\n",
      "Processed 39.5% of log lines.\n",
      "Processed 39.5% of log lines.\n",
      "Processed 39.5% of log lines.\n",
      "Processed 39.5% of log lines.\n",
      "Processed 39.5% of log lines.\n",
      "Processed 39.5% of log lines.\n",
      "Processed 39.5% of log lines.\n",
      "Processed 39.6% of log lines.\n",
      "Processed 39.6% of log lines.\n",
      "Processed 39.6% of log lines.\n",
      "Processed 39.6% of log lines.\n",
      "Processed 39.6% of log lines.\n",
      "Processed 39.6% of log lines.\n",
      "Processed 39.6% of log lines.\n",
      "Processed 39.6% of log lines.\n",
      "Processed 39.6% of log lines.\n",
      "Processed 39.6% of log lines.\n",
      "Processed 39.6% of log lines.\n",
      "Processed 39.6% of log lines.\n",
      "Processed 39.7% of log lines.\n",
      "Processed 39.7% of log lines.\n",
      "Processed 39.7% of log lines.\n",
      "Processed 39.7% of log lines.\n",
      "Processed 39.7% of log lines.\n",
      "Processed 39.7% of log lines.\n",
      "Processed 39.7% of log lines.\n",
      "Processed 39.7% of log lines.\n",
      "Processed 39.7% of log lines.\n",
      "Processed 39.7% of log lines.\n",
      "Processed 39.7% of log lines.\n",
      "Processed 39.8% of log lines.\n",
      "Processed 39.8% of log lines.\n",
      "Processed 39.8% of log lines.\n",
      "Processed 39.8% of log lines.\n",
      "Processed 39.8% of log lines.\n",
      "Processed 39.8% of log lines.\n",
      "Processed 39.8% of log lines.\n",
      "Processed 39.8% of log lines.\n",
      "Processed 39.8% of log lines.\n",
      "Processed 39.8% of log lines.\n",
      "Processed 39.8% of log lines.\n",
      "Processed 39.9% of log lines.\n",
      "Processed 39.9% of log lines.\n",
      "Processed 39.9% of log lines.\n",
      "Processed 39.9% of log lines.\n",
      "Processed 39.9% of log lines.\n",
      "Processed 39.9% of log lines.\n",
      "Processed 39.9% of log lines.\n",
      "Processed 39.9% of log lines.\n",
      "Processed 39.9% of log lines.\n",
      "Processed 39.9% of log lines.\n",
      "Processed 39.9% of log lines.\n",
      "Processed 40.0% of log lines.\n",
      "Processed 40.0% of log lines.\n",
      "Processed 40.0% of log lines.\n",
      "Processed 40.0% of log lines.\n",
      "Processed 40.0% of log lines.\n",
      "Processed 40.0% of log lines.\n",
      "Processed 40.0% of log lines.\n",
      "Processed 40.0% of log lines.\n",
      "Processed 40.0% of log lines.\n",
      "Processed 40.0% of log lines.\n",
      "Processed 40.0% of log lines.\n",
      "Processed 40.1% of log lines.\n",
      "Processed 40.1% of log lines.\n",
      "Processed 40.1% of log lines.\n",
      "Processed 40.1% of log lines.\n",
      "Processed 40.1% of log lines.\n",
      "Processed 40.1% of log lines.\n",
      "Processed 40.1% of log lines.\n",
      "Processed 40.1% of log lines.\n",
      "Processed 40.1% of log lines.\n",
      "Processed 40.1% of log lines.\n",
      "Processed 40.1% of log lines.\n",
      "Processed 40.1% of log lines.\n",
      "Processed 40.2% of log lines.\n",
      "Processed 40.2% of log lines.\n",
      "Processed 40.2% of log lines.\n",
      "Processed 40.2% of log lines.\n",
      "Processed 40.2% of log lines.\n",
      "Processed 40.2% of log lines.\n",
      "Processed 40.2% of log lines.\n",
      "Processed 40.2% of log lines.\n",
      "Processed 40.2% of log lines.\n",
      "Processed 40.2% of log lines.\n",
      "Processed 40.2% of log lines.\n",
      "Processed 40.3% of log lines.\n",
      "Processed 40.3% of log lines.\n",
      "Processed 40.3% of log lines.\n",
      "Processed 40.3% of log lines.\n",
      "Processed 40.3% of log lines.\n",
      "Processed 40.3% of log lines.\n",
      "Processed 40.3% of log lines.\n",
      "Processed 40.3% of log lines.\n",
      "Processed 40.3% of log lines.\n",
      "Processed 40.3% of log lines.\n",
      "Processed 40.3% of log lines.\n",
      "Processed 40.4% of log lines.\n",
      "Processed 40.4% of log lines.\n",
      "Processed 40.4% of log lines.\n",
      "Processed 40.4% of log lines.\n",
      "Processed 40.4% of log lines.\n",
      "Processed 40.4% of log lines.\n",
      "Processed 40.4% of log lines.\n",
      "Processed 40.4% of log lines.\n",
      "Processed 40.4% of log lines.\n",
      "Processed 40.4% of log lines.\n",
      "Processed 40.4% of log lines.\n",
      "Processed 40.5% of log lines.\n",
      "Processed 40.5% of log lines.\n",
      "Processed 40.5% of log lines.\n",
      "Processed 40.5% of log lines.\n",
      "Processed 40.5% of log lines.\n",
      "Processed 40.5% of log lines.\n",
      "Processed 40.5% of log lines.\n",
      "Processed 40.5% of log lines.\n",
      "Processed 40.5% of log lines.\n",
      "Processed 40.5% of log lines.\n",
      "Processed 40.5% of log lines.\n",
      "Processed 40.6% of log lines.\n",
      "Processed 40.6% of log lines.\n",
      "Processed 40.6% of log lines.\n",
      "Processed 40.6% of log lines.\n",
      "Processed 40.6% of log lines.\n",
      "Processed 40.6% of log lines.\n",
      "Processed 40.6% of log lines.\n",
      "Processed 40.6% of log lines.\n",
      "Processed 40.6% of log lines.\n",
      "Processed 40.6% of log lines.\n",
      "Processed 40.6% of log lines.\n",
      "Processed 40.7% of log lines.\n",
      "Processed 40.7% of log lines.\n",
      "Processed 40.7% of log lines.\n",
      "Processed 40.7% of log lines.\n",
      "Processed 40.7% of log lines.\n",
      "Processed 40.7% of log lines.\n",
      "Processed 40.7% of log lines.\n",
      "Processed 40.7% of log lines.\n",
      "Processed 40.7% of log lines.\n",
      "Processed 40.7% of log lines.\n",
      "Processed 40.7% of log lines.\n",
      "Processed 40.7% of log lines.\n",
      "Processed 40.8% of log lines.\n",
      "Processed 40.8% of log lines.\n",
      "Processed 40.8% of log lines.\n",
      "Processed 40.8% of log lines.\n",
      "Processed 40.8% of log lines.\n",
      "Processed 40.8% of log lines.\n",
      "Processed 40.8% of log lines.\n",
      "Processed 40.8% of log lines.\n",
      "Processed 40.8% of log lines.\n",
      "Processed 40.8% of log lines.\n",
      "Processed 40.8% of log lines.\n",
      "Processed 40.9% of log lines.\n",
      "Processed 40.9% of log lines.\n",
      "Processed 40.9% of log lines.\n",
      "Processed 40.9% of log lines.\n",
      "Processed 40.9% of log lines.\n",
      "Processed 40.9% of log lines.\n",
      "Processed 40.9% of log lines.\n",
      "Processed 40.9% of log lines.\n",
      "Processed 40.9% of log lines.\n",
      "Processed 40.9% of log lines.\n",
      "Processed 40.9% of log lines.\n",
      "Processed 41.0% of log lines.\n",
      "Processed 41.0% of log lines.\n",
      "Processed 41.0% of log lines.\n",
      "Processed 41.0% of log lines.\n",
      "Processed 41.0% of log lines.\n",
      "Processed 41.0% of log lines.\n",
      "Processed 41.0% of log lines.\n",
      "Processed 41.0% of log lines.\n",
      "Processed 41.0% of log lines.\n",
      "Processed 41.0% of log lines.\n",
      "Processed 41.0% of log lines.\n",
      "Processed 41.1% of log lines.\n",
      "Processed 41.1% of log lines.\n",
      "Processed 41.1% of log lines.\n",
      "Processed 41.1% of log lines.\n",
      "Processed 41.1% of log lines.\n",
      "Processed 41.1% of log lines.\n",
      "Processed 41.1% of log lines.\n",
      "Processed 41.1% of log lines.\n",
      "Processed 41.1% of log lines.\n",
      "Processed 41.1% of log lines.\n",
      "Processed 41.1% of log lines.\n",
      "Processed 41.2% of log lines.\n",
      "Processed 41.2% of log lines.\n",
      "Processed 41.2% of log lines.\n",
      "Processed 41.2% of log lines.\n",
      "Processed 41.2% of log lines.\n",
      "Processed 41.2% of log lines.\n",
      "Processed 41.2% of log lines.\n",
      "Processed 41.2% of log lines.\n",
      "Processed 41.2% of log lines.\n",
      "Processed 41.2% of log lines.\n",
      "Processed 41.2% of log lines.\n",
      "Processed 41.3% of log lines.\n",
      "Processed 41.3% of log lines.\n",
      "Processed 41.3% of log lines.\n",
      "Processed 41.3% of log lines.\n",
      "Processed 41.3% of log lines.\n",
      "Processed 41.3% of log lines.\n",
      "Processed 41.3% of log lines.\n",
      "Processed 41.3% of log lines.\n",
      "Processed 41.3% of log lines.\n",
      "Processed 41.3% of log lines.\n",
      "Processed 41.3% of log lines.\n",
      "Processed 41.3% of log lines.\n",
      "Processed 41.4% of log lines.\n",
      "Processed 41.4% of log lines.\n",
      "Processed 41.4% of log lines.\n",
      "Processed 41.4% of log lines.\n",
      "Processed 41.4% of log lines.\n",
      "Processed 41.4% of log lines.\n",
      "Processed 41.4% of log lines.\n",
      "Processed 41.4% of log lines.\n",
      "Processed 41.4% of log lines.\n",
      "Processed 41.4% of log lines.\n",
      "Processed 41.4% of log lines.\n",
      "Processed 41.5% of log lines.\n",
      "Processed 41.5% of log lines.\n",
      "Processed 41.5% of log lines.\n",
      "Processed 41.5% of log lines.\n",
      "Processed 41.5% of log lines.\n",
      "Processed 41.5% of log lines.\n",
      "Processed 41.5% of log lines.\n",
      "Processed 41.5% of log lines.\n",
      "Processed 41.5% of log lines.\n",
      "Processed 41.5% of log lines.\n",
      "Processed 41.5% of log lines.\n",
      "Processed 41.6% of log lines.\n",
      "Processed 41.6% of log lines.\n",
      "Processed 41.6% of log lines.\n",
      "Processed 41.6% of log lines.\n",
      "Processed 41.6% of log lines.\n",
      "Processed 41.6% of log lines.\n",
      "Processed 41.6% of log lines.\n",
      "Processed 41.6% of log lines.\n",
      "Processed 41.6% of log lines.\n",
      "Processed 41.6% of log lines.\n",
      "Processed 41.6% of log lines.\n",
      "Processed 41.7% of log lines.\n",
      "Processed 41.7% of log lines.\n",
      "Processed 41.7% of log lines.\n",
      "Processed 41.7% of log lines.\n",
      "Processed 41.7% of log lines.\n",
      "Processed 41.7% of log lines.\n",
      "Processed 41.7% of log lines.\n",
      "Processed 41.7% of log lines.\n",
      "Processed 41.7% of log lines.\n",
      "Processed 41.7% of log lines.\n",
      "Processed 41.7% of log lines.\n",
      "Processed 41.8% of log lines.\n",
      "Processed 41.8% of log lines.\n",
      "Processed 41.8% of log lines.\n",
      "Processed 41.8% of log lines.\n",
      "Processed 41.8% of log lines.\n",
      "Processed 41.8% of log lines.\n",
      "Processed 41.8% of log lines.\n",
      "Processed 41.8% of log lines.\n",
      "Processed 41.8% of log lines.\n",
      "Processed 41.8% of log lines.\n",
      "Processed 41.8% of log lines.\n",
      "Processed 41.8% of log lines.\n",
      "Processed 41.9% of log lines.\n",
      "Processed 41.9% of log lines.\n",
      "Processed 41.9% of log lines.\n",
      "Processed 41.9% of log lines.\n",
      "Processed 41.9% of log lines.\n",
      "Processed 41.9% of log lines.\n",
      "Processed 41.9% of log lines.\n",
      "Processed 41.9% of log lines.\n",
      "Processed 41.9% of log lines.\n",
      "Processed 41.9% of log lines.\n",
      "Processed 41.9% of log lines.\n",
      "Processed 42.0% of log lines.\n",
      "Processed 42.0% of log lines.\n",
      "Processed 42.0% of log lines.\n",
      "Processed 42.0% of log lines.\n",
      "Processed 42.0% of log lines.\n",
      "Processed 42.0% of log lines.\n",
      "Processed 42.0% of log lines.\n",
      "Processed 42.0% of log lines.\n",
      "Processed 42.0% of log lines.\n",
      "Processed 42.0% of log lines.\n",
      "Processed 42.0% of log lines.\n",
      "Processed 42.1% of log lines.\n",
      "Processed 42.1% of log lines.\n",
      "Processed 42.1% of log lines.\n",
      "Processed 42.1% of log lines.\n",
      "Processed 42.1% of log lines.\n",
      "Processed 42.1% of log lines.\n",
      "Processed 42.1% of log lines.\n",
      "Processed 42.1% of log lines.\n",
      "Processed 42.1% of log lines.\n",
      "Processed 42.1% of log lines.\n",
      "Processed 42.1% of log lines.\n",
      "Processed 42.2% of log lines.\n",
      "Processed 42.2% of log lines.\n",
      "Processed 42.2% of log lines.\n",
      "Processed 42.2% of log lines.\n",
      "Processed 42.2% of log lines.\n",
      "Processed 42.2% of log lines.\n",
      "Processed 42.2% of log lines.\n",
      "Processed 42.2% of log lines.\n",
      "Processed 42.2% of log lines.\n",
      "Processed 42.2% of log lines.\n",
      "Processed 42.2% of log lines.\n",
      "Processed 42.3% of log lines.\n",
      "Processed 42.3% of log lines.\n",
      "Processed 42.3% of log lines.\n",
      "Processed 42.3% of log lines.\n",
      "Processed 42.3% of log lines.\n",
      "Processed 42.3% of log lines.\n",
      "Processed 42.3% of log lines.\n",
      "Processed 42.3% of log lines.\n",
      "Processed 42.3% of log lines.\n",
      "Processed 42.3% of log lines.\n",
      "Processed 42.3% of log lines.\n",
      "Processed 42.4% of log lines.\n",
      "Processed 42.4% of log lines.\n",
      "Processed 42.4% of log lines.\n",
      "Processed 42.4% of log lines.\n",
      "Processed 42.4% of log lines.\n",
      "Processed 42.4% of log lines.\n",
      "Processed 42.4% of log lines.\n",
      "Processed 42.4% of log lines.\n",
      "Processed 42.4% of log lines.\n",
      "Processed 42.4% of log lines.\n",
      "Processed 42.4% of log lines.\n",
      "Processed 42.4% of log lines.\n",
      "Processed 42.5% of log lines.\n",
      "Processed 42.5% of log lines.\n",
      "Processed 42.5% of log lines.\n",
      "Processed 42.5% of log lines.\n",
      "Processed 42.5% of log lines.\n",
      "Processed 42.5% of log lines.\n",
      "Processed 42.5% of log lines.\n",
      "Processed 42.5% of log lines.\n",
      "Processed 42.5% of log lines.\n",
      "Processed 42.5% of log lines.\n",
      "Processed 42.5% of log lines.\n",
      "Processed 42.6% of log lines.\n",
      "Processed 42.6% of log lines.\n",
      "Processed 42.6% of log lines.\n",
      "Processed 42.6% of log lines.\n",
      "Processed 42.6% of log lines.\n",
      "Processed 42.6% of log lines.\n",
      "Processed 42.6% of log lines.\n",
      "Processed 42.6% of log lines.\n",
      "Processed 42.6% of log lines.\n",
      "Processed 42.6% of log lines.\n",
      "Processed 42.6% of log lines.\n",
      "Processed 42.7% of log lines.\n",
      "Processed 42.7% of log lines.\n",
      "Processed 42.7% of log lines.\n",
      "Processed 42.7% of log lines.\n",
      "Processed 42.7% of log lines.\n",
      "Processed 42.7% of log lines.\n",
      "Processed 42.7% of log lines.\n",
      "Processed 42.7% of log lines.\n",
      "Processed 42.7% of log lines.\n",
      "Processed 42.7% of log lines.\n",
      "Processed 42.7% of log lines.\n",
      "Processed 42.8% of log lines.\n",
      "Processed 42.8% of log lines.\n",
      "Processed 42.8% of log lines.\n",
      "Processed 42.8% of log lines.\n",
      "Processed 42.8% of log lines.\n",
      "Processed 42.8% of log lines.\n",
      "Processed 42.8% of log lines.\n",
      "Processed 42.8% of log lines.\n",
      "Processed 42.8% of log lines.\n",
      "Processed 42.8% of log lines.\n",
      "Processed 42.8% of log lines.\n",
      "Processed 42.9% of log lines.\n",
      "Processed 42.9% of log lines.\n",
      "Processed 42.9% of log lines.\n",
      "Processed 42.9% of log lines.\n",
      "Processed 42.9% of log lines.\n",
      "Processed 42.9% of log lines.\n",
      "Processed 42.9% of log lines.\n",
      "Processed 42.9% of log lines.\n",
      "Processed 42.9% of log lines.\n",
      "Processed 42.9% of log lines.\n",
      "Processed 42.9% of log lines.\n",
      "Processed 43.0% of log lines.\n",
      "Processed 43.0% of log lines.\n",
      "Processed 43.0% of log lines.\n",
      "Processed 43.0% of log lines.\n",
      "Processed 43.0% of log lines.\n",
      "Processed 43.0% of log lines.\n",
      "Processed 43.0% of log lines.\n",
      "Processed 43.0% of log lines.\n",
      "Processed 43.0% of log lines.\n",
      "Processed 43.0% of log lines.\n",
      "Processed 43.0% of log lines.\n",
      "Processed 43.0% of log lines.\n",
      "Processed 43.1% of log lines.\n",
      "Processed 43.1% of log lines.\n",
      "Processed 43.1% of log lines.\n",
      "Processed 43.1% of log lines.\n",
      "Processed 43.1% of log lines.\n",
      "Processed 43.1% of log lines.\n",
      "Processed 43.1% of log lines.\n",
      "Processed 43.1% of log lines.\n",
      "Processed 43.1% of log lines.\n",
      "Processed 43.1% of log lines.\n",
      "Processed 43.1% of log lines.\n",
      "Processed 43.2% of log lines.\n",
      "Processed 43.2% of log lines.\n",
      "Processed 43.2% of log lines.\n",
      "Processed 43.2% of log lines.\n",
      "Processed 43.2% of log lines.\n",
      "Processed 43.2% of log lines.\n",
      "Processed 43.2% of log lines.\n",
      "Processed 43.2% of log lines.\n",
      "Processed 43.2% of log lines.\n",
      "Processed 43.2% of log lines.\n",
      "Processed 43.2% of log lines.\n",
      "Processed 43.3% of log lines.\n",
      "Processed 43.3% of log lines.\n",
      "Processed 43.3% of log lines.\n",
      "Processed 43.3% of log lines.\n",
      "Processed 43.3% of log lines.\n",
      "Processed 43.3% of log lines.\n",
      "Processed 43.3% of log lines.\n",
      "Processed 43.3% of log lines.\n",
      "Processed 43.3% of log lines.\n",
      "Processed 43.3% of log lines.\n",
      "Processed 43.3% of log lines.\n",
      "Processed 43.4% of log lines.\n",
      "Processed 43.4% of log lines.\n",
      "Processed 43.4% of log lines.\n",
      "Processed 43.4% of log lines.\n",
      "Processed 43.4% of log lines.\n",
      "Processed 43.4% of log lines.\n",
      "Processed 43.4% of log lines.\n",
      "Processed 43.4% of log lines.\n",
      "Processed 43.4% of log lines.\n",
      "Processed 43.4% of log lines.\n",
      "Processed 43.4% of log lines.\n",
      "Processed 43.5% of log lines.\n",
      "Processed 43.5% of log lines.\n",
      "Processed 43.5% of log lines.\n",
      "Processed 43.5% of log lines.\n",
      "Processed 43.5% of log lines.\n",
      "Processed 43.5% of log lines.\n",
      "Processed 43.5% of log lines.\n",
      "Processed 43.5% of log lines.\n",
      "Processed 43.5% of log lines.\n",
      "Processed 43.5% of log lines.\n",
      "Processed 43.5% of log lines.\n",
      "Processed 43.6% of log lines.\n",
      "Processed 43.6% of log lines.\n",
      "Processed 43.6% of log lines.\n",
      "Processed 43.6% of log lines.\n",
      "Processed 43.6% of log lines.\n",
      "Processed 43.6% of log lines.\n",
      "Processed 43.6% of log lines.\n",
      "Processed 43.6% of log lines.\n",
      "Processed 43.6% of log lines.\n",
      "Processed 43.6% of log lines.\n",
      "Processed 43.6% of log lines.\n",
      "Processed 43.6% of log lines.\n",
      "Processed 43.7% of log lines.\n",
      "Processed 43.7% of log lines.\n",
      "Processed 43.7% of log lines.\n",
      "Processed 43.7% of log lines.\n",
      "Processed 43.7% of log lines.\n",
      "Processed 43.7% of log lines.\n",
      "Processed 43.7% of log lines.\n",
      "Processed 43.7% of log lines.\n",
      "Processed 43.7% of log lines.\n",
      "Processed 43.7% of log lines.\n",
      "Processed 43.7% of log lines.\n",
      "Processed 43.8% of log lines.\n",
      "Processed 43.8% of log lines.\n",
      "Processed 43.8% of log lines.\n",
      "Processed 43.8% of log lines.\n",
      "Processed 43.8% of log lines.\n",
      "Processed 43.8% of log lines.\n",
      "Processed 43.8% of log lines.\n",
      "Processed 43.8% of log lines.\n",
      "Processed 43.8% of log lines.\n",
      "Processed 43.8% of log lines.\n",
      "Processed 43.8% of log lines.\n",
      "Processed 43.9% of log lines.\n",
      "Processed 43.9% of log lines.\n",
      "Processed 43.9% of log lines.\n",
      "Processed 43.9% of log lines.\n",
      "Processed 43.9% of log lines.\n",
      "Processed 43.9% of log lines.\n",
      "Processed 43.9% of log lines.\n",
      "Processed 43.9% of log lines.\n",
      "Processed 43.9% of log lines.\n",
      "Processed 43.9% of log lines.\n",
      "Processed 43.9% of log lines.\n",
      "Processed 44.0% of log lines.\n",
      "Processed 44.0% of log lines.\n",
      "Processed 44.0% of log lines.\n",
      "Processed 44.0% of log lines.\n",
      "Processed 44.0% of log lines.\n",
      "Processed 44.0% of log lines.\n",
      "Processed 44.0% of log lines.\n",
      "Processed 44.0% of log lines.\n",
      "Processed 44.0% of log lines.\n",
      "Processed 44.0% of log lines.\n",
      "Processed 44.0% of log lines.\n",
      "Processed 44.1% of log lines.\n",
      "Processed 44.1% of log lines.\n",
      "Processed 44.1% of log lines.\n",
      "Processed 44.1% of log lines.\n",
      "Processed 44.1% of log lines.\n",
      "Processed 44.1% of log lines.\n",
      "Processed 44.1% of log lines.\n",
      "Processed 44.1% of log lines.\n",
      "Processed 44.1% of log lines.\n",
      "Processed 44.1% of log lines.\n",
      "Processed 44.1% of log lines.\n",
      "Processed 44.1% of log lines.\n",
      "Processed 44.2% of log lines.\n",
      "Processed 44.2% of log lines.\n",
      "Processed 44.2% of log lines.\n",
      "Processed 44.2% of log lines.\n",
      "Processed 44.2% of log lines.\n",
      "Processed 44.2% of log lines.\n",
      "Processed 44.2% of log lines.\n",
      "Processed 44.2% of log lines.\n",
      "Processed 44.2% of log lines.\n",
      "Processed 44.2% of log lines.\n",
      "Processed 44.2% of log lines.\n",
      "Processed 44.3% of log lines.\n",
      "Processed 44.3% of log lines.\n",
      "Processed 44.3% of log lines.\n",
      "Processed 44.3% of log lines.\n",
      "Processed 44.3% of log lines.\n",
      "Processed 44.3% of log lines.\n",
      "Processed 44.3% of log lines.\n",
      "Processed 44.3% of log lines.\n",
      "Processed 44.3% of log lines.\n",
      "Processed 44.3% of log lines.\n",
      "Processed 44.3% of log lines.\n",
      "Processed 44.4% of log lines.\n",
      "Processed 44.4% of log lines.\n",
      "Processed 44.4% of log lines.\n",
      "Processed 44.4% of log lines.\n",
      "Processed 44.4% of log lines.\n",
      "Processed 44.4% of log lines.\n",
      "Processed 44.4% of log lines.\n",
      "Processed 44.4% of log lines.\n",
      "Processed 44.4% of log lines.\n",
      "Processed 44.4% of log lines.\n",
      "Processed 44.4% of log lines.\n",
      "Processed 44.5% of log lines.\n",
      "Processed 44.5% of log lines.\n",
      "Processed 44.5% of log lines.\n",
      "Processed 44.5% of log lines.\n",
      "Processed 44.5% of log lines.\n",
      "Processed 44.5% of log lines.\n",
      "Processed 44.5% of log lines.\n",
      "Processed 44.5% of log lines.\n",
      "Processed 44.5% of log lines.\n",
      "Processed 44.5% of log lines.\n",
      "Processed 44.5% of log lines.\n",
      "Processed 44.6% of log lines.\n",
      "Processed 44.6% of log lines.\n",
      "Processed 44.6% of log lines.\n",
      "Processed 44.6% of log lines.\n",
      "Processed 44.6% of log lines.\n",
      "Processed 44.6% of log lines.\n",
      "Processed 44.6% of log lines.\n",
      "Processed 44.6% of log lines.\n",
      "Processed 44.6% of log lines.\n",
      "Processed 44.6% of log lines.\n",
      "Processed 44.6% of log lines.\n",
      "Processed 44.7% of log lines.\n",
      "Processed 44.7% of log lines.\n",
      "Processed 44.7% of log lines.\n",
      "Processed 44.7% of log lines.\n",
      "Processed 44.7% of log lines.\n",
      "Processed 44.7% of log lines.\n",
      "Processed 44.7% of log lines.\n",
      "Processed 44.7% of log lines.\n",
      "Processed 44.7% of log lines.\n",
      "Processed 44.7% of log lines.\n",
      "Processed 44.7% of log lines.\n",
      "Processed 44.7% of log lines.\n",
      "Processed 44.8% of log lines.\n",
      "Processed 44.8% of log lines.\n",
      "Processed 44.8% of log lines.\n",
      "Processed 44.8% of log lines.\n",
      "Processed 44.8% of log lines.\n",
      "Processed 44.8% of log lines.\n",
      "Processed 44.8% of log lines.\n",
      "Processed 44.8% of log lines.\n",
      "Processed 44.8% of log lines.\n",
      "Processed 44.8% of log lines.\n",
      "Processed 44.8% of log lines.\n",
      "Processed 44.9% of log lines.\n",
      "Processed 44.9% of log lines.\n",
      "Processed 44.9% of log lines.\n",
      "Processed 44.9% of log lines.\n",
      "Processed 44.9% of log lines.\n",
      "Processed 44.9% of log lines.\n",
      "Processed 44.9% of log lines.\n",
      "Processed 44.9% of log lines.\n",
      "Processed 44.9% of log lines.\n",
      "Processed 44.9% of log lines.\n",
      "Processed 44.9% of log lines.\n",
      "Processed 45.0% of log lines.\n",
      "Processed 45.0% of log lines.\n",
      "Processed 45.0% of log lines.\n",
      "Processed 45.0% of log lines.\n",
      "Processed 45.0% of log lines.\n",
      "Processed 45.0% of log lines.\n",
      "Processed 45.0% of log lines.\n",
      "Processed 45.0% of log lines.\n",
      "Processed 45.0% of log lines.\n",
      "Processed 45.0% of log lines.\n",
      "Processed 45.0% of log lines.\n",
      "Processed 45.1% of log lines.\n",
      "Processed 45.1% of log lines.\n",
      "Processed 45.1% of log lines.\n",
      "Processed 45.1% of log lines.\n",
      "Processed 45.1% of log lines.\n",
      "Processed 45.1% of log lines.\n",
      "Processed 45.1% of log lines.\n",
      "Processed 45.1% of log lines.\n",
      "Processed 45.1% of log lines.\n",
      "Processed 45.1% of log lines.\n",
      "Processed 45.1% of log lines.\n",
      "Processed 45.2% of log lines.\n",
      "Processed 45.2% of log lines.\n",
      "Processed 45.2% of log lines.\n",
      "Processed 45.2% of log lines.\n",
      "Processed 45.2% of log lines.\n",
      "Processed 45.2% of log lines.\n",
      "Processed 45.2% of log lines.\n",
      "Processed 45.2% of log lines.\n",
      "Processed 45.2% of log lines.\n",
      "Processed 45.2% of log lines.\n",
      "Processed 45.2% of log lines.\n",
      "Processed 45.3% of log lines.\n",
      "Processed 45.3% of log lines.\n",
      "Processed 45.3% of log lines.\n",
      "Processed 45.3% of log lines.\n",
      "Processed 45.3% of log lines.\n",
      "Processed 45.3% of log lines.\n",
      "Processed 45.3% of log lines.\n",
      "Processed 45.3% of log lines.\n",
      "Processed 45.3% of log lines.\n",
      "Processed 45.3% of log lines.\n",
      "Processed 45.3% of log lines.\n",
      "Processed 45.3% of log lines.\n",
      "Processed 45.4% of log lines.\n",
      "Processed 45.4% of log lines.\n",
      "Processed 45.4% of log lines.\n",
      "Processed 45.4% of log lines.\n",
      "Processed 45.4% of log lines.\n",
      "Processed 45.4% of log lines.\n",
      "Processed 45.4% of log lines.\n",
      "Processed 45.4% of log lines.\n",
      "Processed 45.4% of log lines.\n",
      "Processed 45.4% of log lines.\n",
      "Processed 45.4% of log lines.\n",
      "Processed 45.5% of log lines.\n",
      "Processed 45.5% of log lines.\n",
      "Processed 45.5% of log lines.\n",
      "Processed 45.5% of log lines.\n",
      "Processed 45.5% of log lines.\n",
      "Processed 45.5% of log lines.\n",
      "Processed 45.5% of log lines.\n",
      "Processed 45.5% of log lines.\n",
      "Processed 45.5% of log lines.\n",
      "Processed 45.5% of log lines.\n",
      "Processed 45.5% of log lines.\n",
      "Processed 45.6% of log lines.\n",
      "Processed 45.6% of log lines.\n",
      "Processed 45.6% of log lines.\n",
      "Processed 45.6% of log lines.\n",
      "Processed 45.6% of log lines.\n",
      "Processed 45.6% of log lines.\n",
      "Processed 45.6% of log lines.\n",
      "Processed 45.6% of log lines.\n",
      "Processed 45.6% of log lines.\n",
      "Processed 45.6% of log lines.\n",
      "Processed 45.6% of log lines.\n",
      "Processed 45.7% of log lines.\n",
      "Processed 45.7% of log lines.\n",
      "Processed 45.7% of log lines.\n",
      "Processed 45.7% of log lines.\n",
      "Processed 45.7% of log lines.\n",
      "Processed 45.7% of log lines.\n",
      "Processed 45.7% of log lines.\n",
      "Processed 45.7% of log lines.\n",
      "Processed 45.7% of log lines.\n",
      "Processed 45.7% of log lines.\n",
      "Processed 45.7% of log lines.\n",
      "Processed 45.8% of log lines.\n",
      "Processed 45.8% of log lines.\n",
      "Processed 45.8% of log lines.\n",
      "Processed 45.8% of log lines.\n",
      "Processed 45.8% of log lines.\n",
      "Processed 45.8% of log lines.\n",
      "Processed 45.8% of log lines.\n",
      "Processed 45.8% of log lines.\n",
      "Processed 45.8% of log lines.\n",
      "Processed 45.8% of log lines.\n",
      "Processed 45.8% of log lines.\n",
      "Processed 45.8% of log lines.\n",
      "Processed 45.9% of log lines.\n",
      "Processed 45.9% of log lines.\n",
      "Processed 45.9% of log lines.\n",
      "Processed 45.9% of log lines.\n",
      "Processed 45.9% of log lines.\n",
      "Processed 45.9% of log lines.\n",
      "Processed 45.9% of log lines.\n",
      "Processed 45.9% of log lines.\n",
      "Processed 45.9% of log lines.\n",
      "Processed 45.9% of log lines.\n",
      "Processed 45.9% of log lines.\n",
      "Processed 46.0% of log lines.\n",
      "Processed 46.0% of log lines.\n",
      "Processed 46.0% of log lines.\n",
      "Processed 46.0% of log lines.\n",
      "Processed 46.0% of log lines.\n",
      "Processed 46.0% of log lines.\n",
      "Processed 46.0% of log lines.\n",
      "Processed 46.0% of log lines.\n",
      "Processed 46.0% of log lines.\n",
      "Processed 46.0% of log lines.\n",
      "Processed 46.0% of log lines.\n",
      "Processed 46.1% of log lines.\n",
      "Processed 46.1% of log lines.\n",
      "Processed 46.1% of log lines.\n",
      "Processed 46.1% of log lines.\n",
      "Processed 46.1% of log lines.\n",
      "Processed 46.1% of log lines.\n",
      "Processed 46.1% of log lines.\n",
      "Processed 46.1% of log lines.\n",
      "Processed 46.1% of log lines.\n",
      "Processed 46.1% of log lines.\n",
      "Processed 46.1% of log lines.\n",
      "Processed 46.2% of log lines.\n",
      "Processed 46.2% of log lines.\n",
      "Processed 46.2% of log lines.\n",
      "Processed 46.2% of log lines.\n",
      "Processed 46.2% of log lines.\n",
      "Processed 46.2% of log lines.\n",
      "Processed 46.2% of log lines.\n",
      "Processed 46.2% of log lines.\n",
      "Processed 46.2% of log lines.\n",
      "Processed 46.2% of log lines.\n",
      "Processed 46.2% of log lines.\n",
      "Processed 46.3% of log lines.\n",
      "Processed 46.3% of log lines.\n",
      "Processed 46.3% of log lines.\n",
      "Processed 46.3% of log lines.\n",
      "Processed 46.3% of log lines.\n",
      "Processed 46.3% of log lines.\n",
      "Processed 46.3% of log lines.\n",
      "Processed 46.3% of log lines.\n",
      "Processed 46.3% of log lines.\n",
      "Processed 46.3% of log lines.\n",
      "Processed 46.3% of log lines.\n",
      "Processed 46.4% of log lines.\n",
      "Processed 46.4% of log lines.\n",
      "Processed 46.4% of log lines.\n",
      "Processed 46.4% of log lines.\n",
      "Processed 46.4% of log lines.\n",
      "Processed 46.4% of log lines.\n",
      "Processed 46.4% of log lines.\n",
      "Processed 46.4% of log lines.\n",
      "Processed 46.4% of log lines.\n",
      "Processed 46.4% of log lines.\n",
      "Processed 46.4% of log lines.\n",
      "Processed 46.4% of log lines.\n",
      "Processed 46.5% of log lines.\n",
      "Processed 46.5% of log lines.\n",
      "Processed 46.5% of log lines.\n",
      "Processed 46.5% of log lines.\n",
      "Processed 46.5% of log lines.\n",
      "Processed 46.5% of log lines.\n",
      "Processed 46.5% of log lines.\n",
      "Processed 46.5% of log lines.\n",
      "Processed 46.5% of log lines.\n",
      "Processed 46.5% of log lines.\n",
      "Processed 46.5% of log lines.\n",
      "Processed 46.6% of log lines.\n",
      "Processed 46.6% of log lines.\n",
      "Processed 46.6% of log lines.\n",
      "Processed 46.6% of log lines.\n",
      "Processed 46.6% of log lines.\n",
      "Processed 46.6% of log lines.\n",
      "Processed 46.6% of log lines.\n",
      "Processed 46.6% of log lines.\n",
      "Processed 46.6% of log lines.\n",
      "Processed 46.6% of log lines.\n",
      "Processed 46.6% of log lines.\n",
      "Processed 46.7% of log lines.\n",
      "Processed 46.7% of log lines.\n",
      "Processed 46.7% of log lines.\n",
      "Processed 46.7% of log lines.\n",
      "Processed 46.7% of log lines.\n",
      "Processed 46.7% of log lines.\n",
      "Processed 46.7% of log lines.\n",
      "Processed 46.7% of log lines.\n",
      "Processed 46.7% of log lines.\n",
      "Processed 46.7% of log lines.\n",
      "Processed 46.7% of log lines.\n",
      "Processed 46.8% of log lines.\n",
      "Processed 46.8% of log lines.\n",
      "Processed 46.8% of log lines.\n",
      "Processed 46.8% of log lines.\n",
      "Processed 46.8% of log lines.\n",
      "Processed 46.8% of log lines.\n",
      "Processed 46.8% of log lines.\n",
      "Processed 46.8% of log lines.\n",
      "Processed 46.8% of log lines.\n",
      "Processed 46.8% of log lines.\n",
      "Processed 46.8% of log lines.\n",
      "Processed 46.9% of log lines.\n",
      "Processed 46.9% of log lines.\n",
      "Processed 46.9% of log lines.\n",
      "Processed 46.9% of log lines.\n",
      "Processed 46.9% of log lines.\n",
      "Processed 46.9% of log lines.\n",
      "Processed 46.9% of log lines.\n",
      "Processed 46.9% of log lines.\n",
      "Processed 46.9% of log lines.\n",
      "Processed 46.9% of log lines.\n",
      "Processed 46.9% of log lines.\n",
      "Processed 47.0% of log lines.\n",
      "Processed 47.0% of log lines.\n",
      "Processed 47.0% of log lines.\n",
      "Processed 47.0% of log lines.\n",
      "Processed 47.0% of log lines.\n",
      "Processed 47.0% of log lines.\n",
      "Processed 47.0% of log lines.\n",
      "Processed 47.0% of log lines.\n",
      "Processed 47.0% of log lines.\n",
      "Processed 47.0% of log lines.\n",
      "Processed 47.0% of log lines.\n",
      "Processed 47.0% of log lines.\n",
      "Processed 47.1% of log lines.\n",
      "Processed 47.1% of log lines.\n",
      "Processed 47.1% of log lines.\n",
      "Processed 47.1% of log lines.\n",
      "Processed 47.1% of log lines.\n",
      "Processed 47.1% of log lines.\n",
      "Processed 47.1% of log lines.\n",
      "Processed 47.1% of log lines.\n",
      "Processed 47.1% of log lines.\n",
      "Processed 47.1% of log lines.\n",
      "Processed 47.1% of log lines.\n",
      "Processed 47.2% of log lines.\n",
      "Processed 47.2% of log lines.\n",
      "Processed 47.2% of log lines.\n",
      "Processed 47.2% of log lines.\n",
      "Processed 47.2% of log lines.\n",
      "Processed 47.2% of log lines.\n",
      "Processed 47.2% of log lines.\n",
      "Processed 47.2% of log lines.\n",
      "Processed 47.2% of log lines.\n",
      "Processed 47.2% of log lines.\n",
      "Processed 47.2% of log lines.\n",
      "Processed 47.3% of log lines.\n",
      "Processed 47.3% of log lines.\n",
      "Processed 47.3% of log lines.\n",
      "Processed 47.3% of log lines.\n",
      "Processed 47.3% of log lines.\n",
      "Processed 47.3% of log lines.\n",
      "Processed 47.3% of log lines.\n",
      "Processed 47.3% of log lines.\n",
      "Processed 47.3% of log lines.\n",
      "Processed 47.3% of log lines.\n",
      "Processed 47.3% of log lines.\n",
      "Processed 47.4% of log lines.\n",
      "Processed 47.4% of log lines.\n",
      "Processed 47.4% of log lines.\n",
      "Processed 47.4% of log lines.\n",
      "Processed 47.4% of log lines.\n",
      "Processed 47.4% of log lines.\n",
      "Processed 47.4% of log lines.\n",
      "Processed 47.4% of log lines.\n",
      "Processed 47.4% of log lines.\n",
      "Processed 47.4% of log lines.\n",
      "Processed 47.4% of log lines.\n",
      "Processed 47.5% of log lines.\n",
      "Processed 47.5% of log lines.\n",
      "Processed 47.5% of log lines.\n",
      "Processed 47.5% of log lines.\n",
      "Processed 47.5% of log lines.\n",
      "Processed 47.5% of log lines.\n",
      "Processed 47.5% of log lines.\n",
      "Processed 47.5% of log lines.\n",
      "Processed 47.5% of log lines.\n",
      "Processed 47.5% of log lines.\n",
      "Processed 47.5% of log lines.\n",
      "Processed 47.5% of log lines.\n",
      "Processed 47.6% of log lines.\n",
      "Processed 47.6% of log lines.\n",
      "Processed 47.6% of log lines.\n",
      "Processed 47.6% of log lines.\n",
      "Processed 47.6% of log lines.\n",
      "Processed 47.6% of log lines.\n",
      "Processed 47.6% of log lines.\n",
      "Processed 47.6% of log lines.\n",
      "Processed 47.6% of log lines.\n",
      "Processed 47.6% of log lines.\n",
      "Processed 47.6% of log lines.\n",
      "Processed 47.7% of log lines.\n",
      "Processed 47.7% of log lines.\n",
      "Processed 47.7% of log lines.\n",
      "Processed 47.7% of log lines.\n",
      "Processed 47.7% of log lines.\n",
      "Processed 47.7% of log lines.\n",
      "Processed 47.7% of log lines.\n",
      "Processed 47.7% of log lines.\n",
      "Processed 47.7% of log lines.\n",
      "Processed 47.7% of log lines.\n",
      "Processed 47.7% of log lines.\n",
      "Processed 47.8% of log lines.\n",
      "Processed 47.8% of log lines.\n",
      "Processed 47.8% of log lines.\n",
      "Processed 47.8% of log lines.\n",
      "Processed 47.8% of log lines.\n",
      "Processed 47.8% of log lines.\n",
      "Processed 47.8% of log lines.\n",
      "Processed 47.8% of log lines.\n",
      "Processed 47.8% of log lines.\n",
      "Processed 47.8% of log lines.\n",
      "Processed 47.8% of log lines.\n",
      "Processed 47.9% of log lines.\n"
     ]
    },
    {
     "ename": "KeyboardInterrupt",
     "evalue": "",
     "output_type": "error",
     "traceback": [
      "\u001b[0;31m---------------------------------------------------------------------------\u001b[0m",
      "\u001b[0;31mKeyboardInterrupt\u001b[0m                         Traceback (most recent call last)",
      "Cell \u001b[0;32mIn[7], line 4\u001b[0m\n\u001b[1;32m      2\u001b[0m output_dir\u001b[38;5;241m=\u001b[39m\u001b[38;5;124m'\u001b[39m\u001b[38;5;124m/Users/IsRealNPK/LMAO/dataset/HDFS_v1/result/\u001b[39m\u001b[38;5;124m'\u001b[39m\n\u001b[1;32m      3\u001b[0m log_file\u001b[38;5;241m=\u001b[39m\u001b[38;5;124m'\u001b[39m\u001b[38;5;124mHDFS.log\u001b[39m\u001b[38;5;124m'\u001b[39m\n\u001b[0;32m----> 4\u001b[0m \u001b[43mprep\u001b[49m\u001b[38;5;241;43m.\u001b[39;49m\u001b[43mlog_parsing\u001b[49m\u001b[43m(\u001b[49m\u001b[43minput_dir\u001b[49m\u001b[38;5;241;43m=\u001b[39;49m\u001b[43minput_dir\u001b[49m\u001b[43m,\u001b[49m\u001b[43m \u001b[49m\u001b[43moutput_dir\u001b[49m\u001b[38;5;241;43m=\u001b[39;49m\u001b[43moutput_dir\u001b[49m\u001b[43m,\u001b[49m\n\u001b[1;32m      5\u001b[0m \u001b[43m                 \u001b[49m\u001b[43mlog_file\u001b[49m\u001b[38;5;241;43m=\u001b[39;49m\u001b[43mlog_file\u001b[49m\u001b[43m)\u001b[49m\n",
      "File \u001b[0;32m~/LMAO/lmao/preprocessing/__init__.py:15\u001b[0m, in \u001b[0;36mLMAOPreprocessing.log_parsing\u001b[0;34m(self, input_dir, log_file, output_dir)\u001b[0m\n\u001b[1;32m     13\u001b[0m \u001b[38;5;28;01mdef\u001b[39;00m \u001b[38;5;21mlog_parsing\u001b[39m(\u001b[38;5;28mself\u001b[39m, input_dir, log_file, output_dir):\n\u001b[1;32m     14\u001b[0m     \u001b[38;5;28;01mif\u001b[39;00m \u001b[38;5;28mself\u001b[39m\u001b[38;5;241m.\u001b[39mdata_type \u001b[38;5;241m==\u001b[39m \u001b[38;5;124m'\u001b[39m\u001b[38;5;124mhdfs\u001b[39m\u001b[38;5;124m'\u001b[39m:\n\u001b[0;32m---> 15\u001b[0m         \u001b[38;5;28mself\u001b[39m\u001b[38;5;241m.\u001b[39mcsv_path \u001b[38;5;241m=\u001b[39m \u001b[43mhdfs\u001b[49m\u001b[38;5;241;43m.\u001b[39;49m\u001b[43mHDFS\u001b[49m\u001b[43m(\u001b[49m\u001b[43m)\u001b[49m\u001b[38;5;241;43m.\u001b[39;49m\u001b[43mget_csv\u001b[49m\u001b[43m(\u001b[49m\u001b[43minput_dir\u001b[49m\u001b[38;5;241;43m=\u001b[39;49m\u001b[43minput_dir\u001b[49m\u001b[43m,\u001b[49m\n\u001b[1;32m     16\u001b[0m \u001b[43m                                            \u001b[49m\u001b[43mlog_file\u001b[49m\u001b[38;5;241;43m=\u001b[39;49m\u001b[43mlog_file\u001b[49m\u001b[43m,\u001b[49m\n\u001b[1;32m     17\u001b[0m \u001b[43m                                            \u001b[49m\u001b[43moutput_dir\u001b[49m\u001b[38;5;241;43m=\u001b[39;49m\u001b[43moutput_dir\u001b[49m\u001b[43m)\u001b[49m\n\u001b[1;32m     18\u001b[0m     \u001b[38;5;28;01melse\u001b[39;00m :\n\u001b[1;32m     19\u001b[0m         \u001b[38;5;28mprint\u001b[39m(\u001b[38;5;124mf\u001b[39m\u001b[38;5;124m'\u001b[39m\u001b[38;5;124mThis version not having log_parsing for \u001b[39m\u001b[38;5;132;01m{\u001b[39;00m\u001b[38;5;28mself\u001b[39m\u001b[38;5;241m.\u001b[39mdata_type\u001b[38;5;132;01m}\u001b[39;00m\u001b[38;5;124m type yet.\u001b[39m\u001b[38;5;124m'\u001b[39m)\n",
      "File \u001b[0;32m~/LMAO/lmao/preprocessing/hdfs.py:22\u001b[0m, in \u001b[0;36mHDFS.get_csv\u001b[0;34m(self, input_dir, output_dir, log_file)\u001b[0m\n\u001b[1;32m     19\u001b[0m \u001b[38;5;28mprint\u001b[39m(\u001b[38;5;124m'\u001b[39m\u001b[38;5;124mStart Parsing\u001b[39m\u001b[38;5;124m'\u001b[39m)\n\u001b[1;32m     20\u001b[0m parser \u001b[38;5;241m=\u001b[39m LogParser(\u001b[38;5;28mself\u001b[39m\u001b[38;5;241m.\u001b[39mlog_format, indir\u001b[38;5;241m=\u001b[39minput_dir, outdir\u001b[38;5;241m=\u001b[39moutput_dir,\n\u001b[1;32m     21\u001b[0m                    depth\u001b[38;5;241m=\u001b[39m\u001b[38;5;28mself\u001b[39m\u001b[38;5;241m.\u001b[39mdepth, st\u001b[38;5;241m=\u001b[39m\u001b[38;5;28mself\u001b[39m\u001b[38;5;241m.\u001b[39mst, rex\u001b[38;5;241m=\u001b[39m\u001b[38;5;28mself\u001b[39m\u001b[38;5;241m.\u001b[39mregex)\n\u001b[0;32m---> 22\u001b[0m \u001b[43mparser\u001b[49m\u001b[38;5;241;43m.\u001b[39;49m\u001b[43mparse\u001b[49m\u001b[43m(\u001b[49m\u001b[43mlog_file\u001b[49m\u001b[43m)\u001b[49m\n\u001b[1;32m     23\u001b[0m \u001b[38;5;28mprint\u001b[39m(\u001b[38;5;124m'\u001b[39m\u001b[38;5;124mDone\u001b[39m\u001b[38;5;124m'\u001b[39m)\n\u001b[1;32m     24\u001b[0m output_file \u001b[38;5;241m=\u001b[39m output_dir\u001b[38;5;241m+\u001b[39mlog_file\u001b[38;5;241m+\u001b[39m\u001b[38;5;124m'\u001b[39m\u001b[38;5;124m_structured.csv\u001b[39m\u001b[38;5;124m'\u001b[39m\n",
      "File \u001b[0;32m/Library/Frameworks/Python.framework/Versions/3.11/lib/python3.11/site-packages/logparser/Drain/Drain.py:285\u001b[0m, in \u001b[0;36mLogParser.parse\u001b[0;34m(self, logName)\u001b[0m\n\u001b[1;32m    283\u001b[0m \u001b[38;5;28;01mfor\u001b[39;00m idx, line \u001b[38;5;129;01min\u001b[39;00m \u001b[38;5;28mself\u001b[39m\u001b[38;5;241m.\u001b[39mdf_log\u001b[38;5;241m.\u001b[39miterrows():\n\u001b[1;32m    284\u001b[0m     logID \u001b[38;5;241m=\u001b[39m line[\u001b[38;5;124m\"\u001b[39m\u001b[38;5;124mLineId\u001b[39m\u001b[38;5;124m\"\u001b[39m]\n\u001b[0;32m--> 285\u001b[0m     logmessageL \u001b[38;5;241m=\u001b[39m \u001b[38;5;28;43mself\u001b[39;49m\u001b[38;5;241;43m.\u001b[39;49m\u001b[43mpreprocess\u001b[49m\u001b[43m(\u001b[49m\u001b[43mline\u001b[49m\u001b[43m[\u001b[49m\u001b[38;5;124;43m\"\u001b[39;49m\u001b[38;5;124;43mContent\u001b[39;49m\u001b[38;5;124;43m\"\u001b[39;49m\u001b[43m]\u001b[49m\u001b[43m)\u001b[49m\u001b[38;5;241m.\u001b[39mstrip()\u001b[38;5;241m.\u001b[39msplit()\n\u001b[1;32m    286\u001b[0m     matchCluster \u001b[38;5;241m=\u001b[39m \u001b[38;5;28mself\u001b[39m\u001b[38;5;241m.\u001b[39mtreeSearch(rootNode, logmessageL)\n\u001b[1;32m    288\u001b[0m     \u001b[38;5;66;03m# Match no existing log cluster\u001b[39;00m\n",
      "File \u001b[0;32m/Library/Frameworks/Python.framework/Versions/3.11/lib/python3.11/site-packages/logparser/Drain/Drain.py:324\u001b[0m, in \u001b[0;36mLogParser.preprocess\u001b[0;34m(self, line)\u001b[0m\n\u001b[1;32m    322\u001b[0m \u001b[38;5;28;01mdef\u001b[39;00m \u001b[38;5;21mpreprocess\u001b[39m(\u001b[38;5;28mself\u001b[39m, line):\n\u001b[1;32m    323\u001b[0m     \u001b[38;5;28;01mfor\u001b[39;00m currentRex \u001b[38;5;129;01min\u001b[39;00m \u001b[38;5;28mself\u001b[39m\u001b[38;5;241m.\u001b[39mrex:\n\u001b[0;32m--> 324\u001b[0m         line \u001b[38;5;241m=\u001b[39m \u001b[43mre\u001b[49m\u001b[38;5;241;43m.\u001b[39;49m\u001b[43msub\u001b[49m\u001b[43m(\u001b[49m\u001b[43mcurrentRex\u001b[49m\u001b[43m,\u001b[49m\u001b[43m \u001b[49m\u001b[38;5;124;43m\"\u001b[39;49m\u001b[38;5;124;43m<*>\u001b[39;49m\u001b[38;5;124;43m\"\u001b[39;49m\u001b[43m,\u001b[49m\u001b[43m \u001b[49m\u001b[43mline\u001b[49m\u001b[43m)\u001b[49m\n\u001b[1;32m    325\u001b[0m     \u001b[38;5;28;01mreturn\u001b[39;00m line\n",
      "File \u001b[0;32m/Library/Frameworks/Python.framework/Versions/3.11/lib/python3.11/site-packages/regex/regex.py:278\u001b[0m, in \u001b[0;36msub\u001b[0;34m(pattern, repl, string, count, flags, pos, endpos, concurrent, timeout, ignore_unused, **kwargs)\u001b[0m\n\u001b[1;32m    272\u001b[0m \u001b[38;5;250m\u001b[39m\u001b[38;5;124;03m\"\"\"Return the string obtained by replacing the leftmost (or rightmost with a\u001b[39;00m\n\u001b[1;32m    273\u001b[0m \u001b[38;5;124;03mreverse pattern) non-overlapping occurrences of the pattern in string by the\u001b[39;00m\n\u001b[1;32m    274\u001b[0m \u001b[38;5;124;03mreplacement repl. repl can be either a string or a callable; if a string,\u001b[39;00m\n\u001b[1;32m    275\u001b[0m \u001b[38;5;124;03mbackslash escapes in it are processed; if a callable, it's passed the match\u001b[39;00m\n\u001b[1;32m    276\u001b[0m \u001b[38;5;124;03mobject and must return a replacement string to be used.\"\"\"\u001b[39;00m\n\u001b[1;32m    277\u001b[0m pat \u001b[38;5;241m=\u001b[39m _compile(pattern, flags, ignore_unused, kwargs, \u001b[38;5;28;01mTrue\u001b[39;00m)\n\u001b[0;32m--> 278\u001b[0m \u001b[38;5;28;01mreturn\u001b[39;00m \u001b[43mpat\u001b[49m\u001b[38;5;241;43m.\u001b[39;49m\u001b[43msub\u001b[49m\u001b[43m(\u001b[49m\u001b[43mrepl\u001b[49m\u001b[43m,\u001b[49m\u001b[43m \u001b[49m\u001b[43mstring\u001b[49m\u001b[43m,\u001b[49m\u001b[43m \u001b[49m\u001b[43mcount\u001b[49m\u001b[43m,\u001b[49m\u001b[43m \u001b[49m\u001b[43mpos\u001b[49m\u001b[43m,\u001b[49m\u001b[43m \u001b[49m\u001b[43mendpos\u001b[49m\u001b[43m,\u001b[49m\u001b[43m \u001b[49m\u001b[43mconcurrent\u001b[49m\u001b[43m,\u001b[49m\u001b[43m \u001b[49m\u001b[43mtimeout\u001b[49m\u001b[43m)\u001b[49m\n",
      "\u001b[0;31mKeyboardInterrupt\u001b[0m: "
     ]
    }
   ],
   "source": [
    "input_dir='/Users/IsRealNPK/LMAO/dataset/HDFS_v1'\n",
    "output_dir='/Users/IsRealNPK/LMAO/dataset/HDFS_v1/result/'\n",
    "log_file='HDFS.log'\n",
    "prep.log_parsing(input_dir=input_dir, output_dir=output_dir,\n",
    "                 log_file=log_file)"
   ]
  },
  {
   "cell_type": "code",
   "execution_count": null,
   "metadata": {},
   "outputs": [
    {
     "data": {
      "text/plain": [
       "'/Users/IsRealNPK/LMAO/dataset/HDFS_v1/result/HDFS.log_structured.csv'"
      ]
     },
     "metadata": {},
     "output_type": "display_data"
    }
   ],
   "source": [
    "prep.from_parsed_csv('/Users/IsRealNPK/LMAO/dataset/HDFS_v1/result/HDFS.log_structured.csv')"
   ]
  },
  {
   "cell_type": "code",
   "execution_count": null,
   "metadata": {},
   "outputs": [
    {
     "name": "stdout",
     "output_type": "stream",
     "text": [
      "Preprocessing to LMAO format with label from hdfs\n",
      "Path :/Users/IsRealNPK/LMAO/dataset/HDFS_v1/preprocessed/anomaly_label.csv\n",
      "literal_eval process...\n"
     ]
    },
    {
     "data": {
      "application/vnd.jupyter.widget-view+json": {
       "model_id": "633394be2d8c459fa18dedf40d6a23f9",
       "version_major": 2,
       "version_minor": 0
      },
      "text/plain": [
       "  0%|          | 0/11175629 [00:00<?, ?it/s]"
      ]
     },
     "metadata": {},
     "output_type": "display_data"
    },
    {
     "name": "stdout",
     "output_type": "stream",
     "text": [
      "Getting BlockId process...\n"
     ]
    },
    {
     "data": {
      "application/vnd.jupyter.widget-view+json": {
       "model_id": "2dcd350c5a9341c39db5bc84fbc0595f",
       "version_major": 2,
       "version_minor": 0
      },
      "text/plain": [
       "  0%|          | 0/11175629 [00:00<?, ?it/s]"
      ]
     },
     "metadata": {},
     "output_type": "display_data"
    },
    {
     "name": "stdout",
     "output_type": "stream",
     "text": [
      "Join the dataframe with labels\n",
      "Returning dataframe\n",
      "Done\n"
     ]
    }
   ],
   "source": [
    "prep.prep_data(label_path='/Users/IsRealNPK/LMAO/dataset/HDFS_v1/preprocessed/anomaly_label.csv')"
   ]
  },
  {
   "cell_type": "code",
   "execution_count": null,
   "metadata": {},
   "outputs": [
    {
     "data": {
      "text/html": [
       "<div>\n",
       "<style scoped>\n",
       "    .dataframe tbody tr th:only-of-type {\n",
       "        vertical-align: middle;\n",
       "    }\n",
       "\n",
       "    .dataframe tbody tr th {\n",
       "        vertical-align: top;\n",
       "    }\n",
       "\n",
       "    .dataframe thead th {\n",
       "        text-align: right;\n",
       "    }\n",
       "</style>\n",
       "<table border=\"1\" class=\"dataframe\">\n",
       "  <thead>\n",
       "    <tr style=\"text-align: right;\">\n",
       "      <th></th>\n",
       "      <th>session_id</th>\n",
       "      <th>severity</th>\n",
       "      <th>content</th>\n",
       "      <th>event_id</th>\n",
       "      <th>event_template</th>\n",
       "      <th>label</th>\n",
       "    </tr>\n",
       "  </thead>\n",
       "  <tbody>\n",
       "    <tr>\n",
       "      <th>0</th>\n",
       "      <td>blk_-1608999687919862906</td>\n",
       "      <td>INFO</td>\n",
       "      <td>Receiving block blk_-1608999687919862906 src: ...</td>\n",
       "      <td>09a53393</td>\n",
       "      <td>Receiving block &lt;*&gt; src: &lt;*&gt; dest: &lt;*&gt;</td>\n",
       "      <td>Normal</td>\n",
       "    </tr>\n",
       "    <tr>\n",
       "      <th>2</th>\n",
       "      <td>blk_-1608999687919862906</td>\n",
       "      <td>INFO</td>\n",
       "      <td>Receiving block blk_-1608999687919862906 src: ...</td>\n",
       "      <td>09a53393</td>\n",
       "      <td>Receiving block &lt;*&gt; src: &lt;*&gt; dest: &lt;*&gt;</td>\n",
       "      <td>Normal</td>\n",
       "    </tr>\n",
       "    <tr>\n",
       "      <th>3</th>\n",
       "      <td>blk_-1608999687919862906</td>\n",
       "      <td>INFO</td>\n",
       "      <td>Receiving block blk_-1608999687919862906 src: ...</td>\n",
       "      <td>09a53393</td>\n",
       "      <td>Receiving block &lt;*&gt; src: &lt;*&gt; dest: &lt;*&gt;</td>\n",
       "      <td>Normal</td>\n",
       "    </tr>\n",
       "    <tr>\n",
       "      <th>4</th>\n",
       "      <td>blk_-1608999687919862906</td>\n",
       "      <td>INFO</td>\n",
       "      <td>PacketResponder 1 for block blk_-1608999687919...</td>\n",
       "      <td>d38aa58d</td>\n",
       "      <td>PacketResponder &lt;*&gt; for block &lt;*&gt; &lt;*&gt;</td>\n",
       "      <td>Normal</td>\n",
       "    </tr>\n",
       "    <tr>\n",
       "      <th>5</th>\n",
       "      <td>blk_-1608999687919862906</td>\n",
       "      <td>INFO</td>\n",
       "      <td>PacketResponder 2 for block blk_-1608999687919...</td>\n",
       "      <td>d38aa58d</td>\n",
       "      <td>PacketResponder &lt;*&gt; for block &lt;*&gt; &lt;*&gt;</td>\n",
       "      <td>Normal</td>\n",
       "    </tr>\n",
       "    <tr>\n",
       "      <th>...</th>\n",
       "      <td>...</td>\n",
       "      <td>...</td>\n",
       "      <td>...</td>\n",
       "      <td>...</td>\n",
       "      <td>...</td>\n",
       "      <td>...</td>\n",
       "    </tr>\n",
       "    <tr>\n",
       "      <th>11175624</th>\n",
       "      <td>blk_-6171368032583208892</td>\n",
       "      <td>INFO</td>\n",
       "      <td>Verification succeeded for blk_-61713680325832...</td>\n",
       "      <td>32777b38</td>\n",
       "      <td>Verification succeeded for &lt;*&gt;</td>\n",
       "      <td>Normal</td>\n",
       "    </tr>\n",
       "    <tr>\n",
       "      <th>11175625</th>\n",
       "      <td>blk_6195025276114316035</td>\n",
       "      <td>INFO</td>\n",
       "      <td>Verification succeeded for blk_619502527611431...</td>\n",
       "      <td>32777b38</td>\n",
       "      <td>Verification succeeded for &lt;*&gt;</td>\n",
       "      <td>Normal</td>\n",
       "    </tr>\n",
       "    <tr>\n",
       "      <th>11175626</th>\n",
       "      <td>blk_-3339773404714332088</td>\n",
       "      <td>INFO</td>\n",
       "      <td>Verification succeeded for blk_-33397734047143...</td>\n",
       "      <td>32777b38</td>\n",
       "      <td>Verification succeeded for &lt;*&gt;</td>\n",
       "      <td>Normal</td>\n",
       "    </tr>\n",
       "    <tr>\n",
       "      <th>11175627</th>\n",
       "      <td>blk_1037231945509285002</td>\n",
       "      <td>INFO</td>\n",
       "      <td>Verification succeeded for blk_103723194550928...</td>\n",
       "      <td>32777b38</td>\n",
       "      <td>Verification succeeded for &lt;*&gt;</td>\n",
       "      <td>Normal</td>\n",
       "    </tr>\n",
       "    <tr>\n",
       "      <th>11175628</th>\n",
       "      <td>blk_4258862871822415442</td>\n",
       "      <td>INFO</td>\n",
       "      <td>Verification succeeded for blk_425886287182241...</td>\n",
       "      <td>32777b38</td>\n",
       "      <td>Verification succeeded for &lt;*&gt;</td>\n",
       "      <td>Normal</td>\n",
       "    </tr>\n",
       "  </tbody>\n",
       "</table>\n",
       "<p>10600568 rows × 6 columns</p>\n",
       "</div>"
      ],
      "text/plain": [
       "                        session_id severity  \\\n",
       "0         blk_-1608999687919862906     INFO   \n",
       "2         blk_-1608999687919862906     INFO   \n",
       "3         blk_-1608999687919862906     INFO   \n",
       "4         blk_-1608999687919862906     INFO   \n",
       "5         blk_-1608999687919862906     INFO   \n",
       "...                            ...      ...   \n",
       "11175624  blk_-6171368032583208892     INFO   \n",
       "11175625   blk_6195025276114316035     INFO   \n",
       "11175626  blk_-3339773404714332088     INFO   \n",
       "11175627   blk_1037231945509285002     INFO   \n",
       "11175628   blk_4258862871822415442     INFO   \n",
       "\n",
       "                                                    content  event_id  \\\n",
       "0         Receiving block blk_-1608999687919862906 src: ...  09a53393   \n",
       "2         Receiving block blk_-1608999687919862906 src: ...  09a53393   \n",
       "3         Receiving block blk_-1608999687919862906 src: ...  09a53393   \n",
       "4         PacketResponder 1 for block blk_-1608999687919...  d38aa58d   \n",
       "5         PacketResponder 2 for block blk_-1608999687919...  d38aa58d   \n",
       "...                                                     ...       ...   \n",
       "11175624  Verification succeeded for blk_-61713680325832...  32777b38   \n",
       "11175625  Verification succeeded for blk_619502527611431...  32777b38   \n",
       "11175626  Verification succeeded for blk_-33397734047143...  32777b38   \n",
       "11175627  Verification succeeded for blk_103723194550928...  32777b38   \n",
       "11175628  Verification succeeded for blk_425886287182241...  32777b38   \n",
       "\n",
       "                                  event_template   label  \n",
       "0         Receiving block <*> src: <*> dest: <*>  Normal  \n",
       "2         Receiving block <*> src: <*> dest: <*>  Normal  \n",
       "3         Receiving block <*> src: <*> dest: <*>  Normal  \n",
       "4          PacketResponder <*> for block <*> <*>  Normal  \n",
       "5          PacketResponder <*> for block <*> <*>  Normal  \n",
       "...                                          ...     ...  \n",
       "11175624          Verification succeeded for <*>  Normal  \n",
       "11175625          Verification succeeded for <*>  Normal  \n",
       "11175626          Verification succeeded for <*>  Normal  \n",
       "11175627          Verification succeeded for <*>  Normal  \n",
       "11175628          Verification succeeded for <*>  Normal  \n",
       "\n",
       "[10600568 rows x 6 columns]"
      ]
     },
     "metadata": {},
     "output_type": "display_data"
    }
   ],
   "source": [
    "prep.df"
   ]
  },
  {
   "cell_type": "code",
   "execution_count": null,
   "metadata": {},
   "outputs": [
    {
     "name": "stdout",
     "output_type": "stream",
     "text": [
      "Saving to .parquet.gzip file\n"
     ]
    }
   ],
   "source": [
    "prep.to_parquet('/Users/IsRealNPK/LMAO/dataset/HDFS_v1/HDFS_with_label')"
   ]
  },
  {
   "cell_type": "markdown",
   "metadata": {},
   "source": [
    "# HDFS Bertopic"
   ]
  },
  {
   "cell_type": "code",
   "execution_count": 2,
   "metadata": {},
   "outputs": [
    {
     "name": "stdout",
     "output_type": "stream",
     "text": [
      "Topic model mode set to :BERTopic.\n",
      "Start Initialized\n"
     ]
    }
   ],
   "source": [
    "from lmao.topicmodel import LMAOTopic\n",
    "topic_model = LMAOTopic()"
   ]
  },
  {
   "cell_type": "code",
   "execution_count": 3,
   "metadata": {},
   "outputs": [
    {
     "name": "stdout",
     "output_type": "stream",
     "text": [
      "Done\n"
     ]
    }
   ],
   "source": [
    "topic_model.from_trained_model(model_path='lmao/topicmodel/model/BERTopic-HDFS-all-MiniLM-L6-v2')"
   ]
  },
  {
   "cell_type": "code",
   "execution_count": 4,
   "metadata": {},
   "outputs": [],
   "source": [
    "topic_dict = topic_model.topic_dict"
   ]
  },
  {
   "cell_type": "code",
   "execution_count": 5,
   "metadata": {},
   "outputs": [],
   "source": [
    "df = pd.read_parquet('dataset/HDFS_v1/HDFS_with_label.parquet.gzip')"
   ]
  },
  {
   "cell_type": "code",
   "execution_count": 6,
   "metadata": {},
   "outputs": [
    {
     "data": {
      "text/html": [
       "<div>\n",
       "<style scoped>\n",
       "    .dataframe tbody tr th:only-of-type {\n",
       "        vertical-align: middle;\n",
       "    }\n",
       "\n",
       "    .dataframe tbody tr th {\n",
       "        vertical-align: top;\n",
       "    }\n",
       "\n",
       "    .dataframe thead th {\n",
       "        text-align: right;\n",
       "    }\n",
       "</style>\n",
       "<table border=\"1\" class=\"dataframe\">\n",
       "  <thead>\n",
       "    <tr style=\"text-align: right;\">\n",
       "      <th></th>\n",
       "      <th>session_id</th>\n",
       "      <th>severity</th>\n",
       "      <th>content</th>\n",
       "      <th>event_id</th>\n",
       "      <th>event_template</th>\n",
       "      <th>label</th>\n",
       "      <th>topic</th>\n",
       "    </tr>\n",
       "    <tr>\n",
       "      <th>index</th>\n",
       "      <th></th>\n",
       "      <th></th>\n",
       "      <th></th>\n",
       "      <th></th>\n",
       "      <th></th>\n",
       "      <th></th>\n",
       "      <th></th>\n",
       "    </tr>\n",
       "  </thead>\n",
       "  <tbody>\n",
       "    <tr>\n",
       "      <th>0</th>\n",
       "      <td>blk_-1608999687919862906</td>\n",
       "      <td>INFO</td>\n",
       "      <td>Receiving block blk_-1608999687919862906 src: ...</td>\n",
       "      <td>09a53393</td>\n",
       "      <td>Receiving block &lt;*&gt; src: &lt;*&gt; dest: &lt;*&gt;</td>\n",
       "      <td>Normal</td>\n",
       "      <td>8</td>\n",
       "    </tr>\n",
       "    <tr>\n",
       "      <th>2</th>\n",
       "      <td>blk_-1608999687919862906</td>\n",
       "      <td>INFO</td>\n",
       "      <td>Receiving block blk_-1608999687919862906 src: ...</td>\n",
       "      <td>09a53393</td>\n",
       "      <td>Receiving block &lt;*&gt; src: &lt;*&gt; dest: &lt;*&gt;</td>\n",
       "      <td>Normal</td>\n",
       "      <td>-1</td>\n",
       "    </tr>\n",
       "    <tr>\n",
       "      <th>3</th>\n",
       "      <td>blk_-1608999687919862906</td>\n",
       "      <td>INFO</td>\n",
       "      <td>Receiving block blk_-1608999687919862906 src: ...</td>\n",
       "      <td>09a53393</td>\n",
       "      <td>Receiving block &lt;*&gt; src: &lt;*&gt; dest: &lt;*&gt;</td>\n",
       "      <td>Normal</td>\n",
       "      <td>8</td>\n",
       "    </tr>\n",
       "    <tr>\n",
       "      <th>4</th>\n",
       "      <td>blk_-1608999687919862906</td>\n",
       "      <td>INFO</td>\n",
       "      <td>PacketResponder 1 for block blk_-1608999687919...</td>\n",
       "      <td>d38aa58d</td>\n",
       "      <td>PacketResponder &lt;*&gt; for block &lt;*&gt; &lt;*&gt;</td>\n",
       "      <td>Normal</td>\n",
       "      <td>4</td>\n",
       "    </tr>\n",
       "    <tr>\n",
       "      <th>5</th>\n",
       "      <td>blk_-1608999687919862906</td>\n",
       "      <td>INFO</td>\n",
       "      <td>PacketResponder 2 for block blk_-1608999687919...</td>\n",
       "      <td>d38aa58d</td>\n",
       "      <td>PacketResponder &lt;*&gt; for block &lt;*&gt; &lt;*&gt;</td>\n",
       "      <td>Normal</td>\n",
       "      <td>3</td>\n",
       "    </tr>\n",
       "    <tr>\n",
       "      <th>...</th>\n",
       "      <td>...</td>\n",
       "      <td>...</td>\n",
       "      <td>...</td>\n",
       "      <td>...</td>\n",
       "      <td>...</td>\n",
       "      <td>...</td>\n",
       "      <td>...</td>\n",
       "    </tr>\n",
       "    <tr>\n",
       "      <th>11175624</th>\n",
       "      <td>blk_-6171368032583208892</td>\n",
       "      <td>INFO</td>\n",
       "      <td>Verification succeeded for blk_-61713680325832...</td>\n",
       "      <td>32777b38</td>\n",
       "      <td>Verification succeeded for &lt;*&gt;</td>\n",
       "      <td>Normal</td>\n",
       "      <td>11</td>\n",
       "    </tr>\n",
       "    <tr>\n",
       "      <th>11175625</th>\n",
       "      <td>blk_6195025276114316035</td>\n",
       "      <td>INFO</td>\n",
       "      <td>Verification succeeded for blk_619502527611431...</td>\n",
       "      <td>32777b38</td>\n",
       "      <td>Verification succeeded for &lt;*&gt;</td>\n",
       "      <td>Normal</td>\n",
       "      <td>11</td>\n",
       "    </tr>\n",
       "    <tr>\n",
       "      <th>11175626</th>\n",
       "      <td>blk_-3339773404714332088</td>\n",
       "      <td>INFO</td>\n",
       "      <td>Verification succeeded for blk_-33397734047143...</td>\n",
       "      <td>32777b38</td>\n",
       "      <td>Verification succeeded for &lt;*&gt;</td>\n",
       "      <td>Normal</td>\n",
       "      <td>11</td>\n",
       "    </tr>\n",
       "    <tr>\n",
       "      <th>11175627</th>\n",
       "      <td>blk_1037231945509285002</td>\n",
       "      <td>INFO</td>\n",
       "      <td>Verification succeeded for blk_103723194550928...</td>\n",
       "      <td>32777b38</td>\n",
       "      <td>Verification succeeded for &lt;*&gt;</td>\n",
       "      <td>Normal</td>\n",
       "      <td>11</td>\n",
       "    </tr>\n",
       "    <tr>\n",
       "      <th>11175628</th>\n",
       "      <td>blk_4258862871822415442</td>\n",
       "      <td>INFO</td>\n",
       "      <td>Verification succeeded for blk_425886287182241...</td>\n",
       "      <td>32777b38</td>\n",
       "      <td>Verification succeeded for &lt;*&gt;</td>\n",
       "      <td>Normal</td>\n",
       "      <td>11</td>\n",
       "    </tr>\n",
       "  </tbody>\n",
       "</table>\n",
       "<p>10600568 rows × 7 columns</p>\n",
       "</div>"
      ],
      "text/plain": [
       "                        session_id severity  \\\n",
       "index                                         \n",
       "0         blk_-1608999687919862906     INFO   \n",
       "2         blk_-1608999687919862906     INFO   \n",
       "3         blk_-1608999687919862906     INFO   \n",
       "4         blk_-1608999687919862906     INFO   \n",
       "5         blk_-1608999687919862906     INFO   \n",
       "...                            ...      ...   \n",
       "11175624  blk_-6171368032583208892     INFO   \n",
       "11175625   blk_6195025276114316035     INFO   \n",
       "11175626  blk_-3339773404714332088     INFO   \n",
       "11175627   blk_1037231945509285002     INFO   \n",
       "11175628   blk_4258862871822415442     INFO   \n",
       "\n",
       "                                                    content  event_id  \\\n",
       "index                                                                   \n",
       "0         Receiving block blk_-1608999687919862906 src: ...  09a53393   \n",
       "2         Receiving block blk_-1608999687919862906 src: ...  09a53393   \n",
       "3         Receiving block blk_-1608999687919862906 src: ...  09a53393   \n",
       "4         PacketResponder 1 for block blk_-1608999687919...  d38aa58d   \n",
       "5         PacketResponder 2 for block blk_-1608999687919...  d38aa58d   \n",
       "...                                                     ...       ...   \n",
       "11175624  Verification succeeded for blk_-61713680325832...  32777b38   \n",
       "11175625  Verification succeeded for blk_619502527611431...  32777b38   \n",
       "11175626  Verification succeeded for blk_-33397734047143...  32777b38   \n",
       "11175627  Verification succeeded for blk_103723194550928...  32777b38   \n",
       "11175628  Verification succeeded for blk_425886287182241...  32777b38   \n",
       "\n",
       "                                  event_template   label  topic  \n",
       "index                                                            \n",
       "0         Receiving block <*> src: <*> dest: <*>  Normal      8  \n",
       "2         Receiving block <*> src: <*> dest: <*>  Normal     -1  \n",
       "3         Receiving block <*> src: <*> dest: <*>  Normal      8  \n",
       "4          PacketResponder <*> for block <*> <*>  Normal      4  \n",
       "5          PacketResponder <*> for block <*> <*>  Normal      3  \n",
       "...                                          ...     ...    ...  \n",
       "11175624          Verification succeeded for <*>  Normal     11  \n",
       "11175625          Verification succeeded for <*>  Normal     11  \n",
       "11175626          Verification succeeded for <*>  Normal     11  \n",
       "11175627          Verification succeeded for <*>  Normal     11  \n",
       "11175628          Verification succeeded for <*>  Normal     11  \n",
       "\n",
       "[10600568 rows x 7 columns]"
      ]
     },
     "execution_count": 6,
     "metadata": {},
     "output_type": "execute_result"
    }
   ],
   "source": [
    "topic_model.get_topic(df=df)"
   ]
  },
  {
   "cell_type": "code",
   "execution_count": 8,
   "metadata": {},
   "outputs": [
    {
     "data": {
      "application/vnd.plotly.v1+json": {
       "config": {
        "plotlyServerURL": "https://plot.ly"
       },
       "data": [
        {
         "hoverinfo": "text",
         "hovertext": [
          "<b>Topic 0</b><br>Words: 67108864 block, blockmap, updated 10, updated, addstoredblock blockmap",
          "<b>Topic 0</b><br>Words: blockmap, 50010 is, updated 10, updated, blockmap updated"
         ],
         "marker": {
          "color": "#E69F00"
         },
         "name": "0_67108864 block_50010 is_updated 10_upd...",
         "orientation": "h",
         "type": "bar",
         "visible": true,
         "x": [
          949820,
          23428
         ],
         "y": [
          "Normal",
          "Anomaly"
         ]
        },
        {
         "hoverinfo": "text",
         "hovertext": [
          "<b>Topic 1</b><br>Words: from 10, from, received block, of size, 67108864 from",
          "<b>Topic 1</b><br>Words: from 10, from, received block, of size, received"
         ],
         "marker": {
          "color": "#56B4E9"
         },
         "name": "1_from 10_from_of size_received block",
         "orientation": "h",
         "type": "bar",
         "visible": "legendonly",
         "x": [
          661349,
          13273
         ],
         "y": [
          "Normal",
          "Anomaly"
         ]
        },
        {
         "hoverinfo": "text",
         "hovertext": [
          "<b>Topic 2</b><br>Words: 50010 receiving, receiving block, receiving, dest, dest 10",
          "<b>Topic 2</b><br>Words: 50010 receiving, receiving block, receiving, dest 10, dest"
         ],
         "marker": {
          "color": "#009E73"
         },
         "name": "2_50010 receiving_receiving block_receiv...",
         "orientation": "h",
         "type": "bar",
         "visible": "legendonly",
         "x": [
          447125,
          8761
         ],
         "y": [
          "Normal",
          "Anomaly"
         ]
        },
        {
         "hoverinfo": "text",
         "hovertext": [
          "<b>Topic 3</b><br>Words: terminating packetresponder, terminating, packetresponder for, packetresponder, for block",
          "<b>Topic 3</b><br>Words: terminating packetresponder, terminating, packetresponder for, packetresponder, for block"
         ],
         "marker": {
          "color": "#F0E442"
         },
         "name": "3_terminating packetresponder_terminatin...",
         "orientation": "h",
         "type": "bar",
         "visible": "legendonly",
         "x": [
          477542,
          9219
         ],
         "y": [
          "Normal",
          "Anomaly"
         ]
        },
        {
         "hoverinfo": "text",
         "hovertext": [
          "<b>Topic 4</b><br>Words: terminating packetresponder, terminating, packetresponder for, packetresponder, for block",
          "<b>Topic 4</b><br>Words: terminating packetresponder, packetresponder, terminating, packetresponder for, for block"
         ],
         "marker": {
          "color": "#D55E00"
         },
         "name": "4_terminating packetresponder_terminatin...",
         "orientation": "h",
         "type": "bar",
         "visible": "legendonly",
         "x": [
          484951,
          9302
         ],
         "y": [
          "Normal",
          "Anomaly"
         ]
        },
        {
         "hoverinfo": "text",
         "hovertext": [
          "<b>Topic 5</b><br>Words: terminating packetresponder, terminating, packetresponder for, packetresponder, for block",
          "<b>Topic 5</b><br>Words: terminating packetresponder, packetresponder for, packetresponder, for block, terminating"
         ],
         "marker": {
          "color": "#0072B2"
         },
         "name": "5_terminating packetresponder_packetresp...",
         "orientation": "h",
         "type": "bar",
         "visible": "legendonly",
         "x": [
          460739,
          8820
         ],
         "y": [
          "Normal",
          "Anomaly"
         ]
        },
        {
         "hoverinfo": "text",
         "hovertext": [
          "<b>Topic 6</b><br>Words: 50010 receiving, receiving block, receiving, dest 10, src",
          "<b>Topic 6</b><br>Words: 50010 receiving, receiving block, receiving, src 10, src"
         ],
         "marker": {
          "color": "#CC79A7"
         },
         "name": "6_50010 receiving_receiving block_receiv...",
         "orientation": "h",
         "type": "bar",
         "visible": "legendonly",
         "x": [
          471638,
          16947
         ],
         "y": [
          "Normal",
          "Anomaly"
         ]
        },
        {
         "hoverinfo": "text",
         "hovertext": [
          "<b>Topic 7</b><br>Words: 67108864 block, updated 10, blockmap updated, blockmap, addstoredblock blockmap",
          "<b>Topic 7</b><br>Words: updated 10, 50010 is, updated, blockmap updated, blockmap"
         ],
         "marker": {
          "color": "#E69F00"
         },
         "name": "7_67108864 block_updated 10_50010 is_blo...",
         "orientation": "h",
         "type": "bar",
         "visible": "legendonly",
         "x": [
          218708,
          3999
         ],
         "y": [
          "Normal",
          "Anomaly"
         ]
        },
        {
         "hoverinfo": "text",
         "hovertext": [
          "<b>Topic 101</b><br>Words: dfs data, data, file mnt, current, deleting block",
          "<b>Topic 101</b><br>Words: dfs data, hadoop, hadoop dfs, deleting, dfs"
         ],
         "marker": {
          "color": "#56B4E9"
         },
         "name": "101_file mnt_deleting block_mnt hadoop_m...",
         "orientation": "h",
         "type": "bar",
         "visible": "legendonly",
         "x": [
          972459,
          25828
         ],
         "y": [
          "Normal",
          "Anomaly"
         ]
        },
        {
         "hoverinfo": "text",
         "hovertext": [
          "<b>Topic 231</b><br>Words: invalidset of, to invalidset, namesystem delete, of 10, invalidset",
          "<b>Topic 231</b><br>Words: of 10, to invalidset, invalidset, invalidset of, namesystem delete"
         ],
         "marker": {
          "color": "#009E73"
         },
         "name": "231_namesystem delete_of 10_invalidset o...",
         "orientation": "h",
         "type": "bar",
         "visible": "legendonly",
         "x": [
          720712,
          16463
         ],
         "y": [
          "Normal",
          "Anomaly"
         ]
        }
       ],
       "layout": {
        "height": 900,
        "hoverlabel": {
         "bgcolor": "white",
         "font": {
          "family": "Rockwell",
          "size": 16
         }
        },
        "legend": {
         "title": {
          "text": "<b>Global Topic Representation"
         }
        },
        "template": {
         "data": {
          "bar": [
           {
            "error_x": {
             "color": "rgb(36,36,36)"
            },
            "error_y": {
             "color": "rgb(36,36,36)"
            },
            "marker": {
             "line": {
              "color": "white",
              "width": 0.5
             },
             "pattern": {
              "fillmode": "overlay",
              "size": 10,
              "solidity": 0.2
             }
            },
            "type": "bar"
           }
          ],
          "barpolar": [
           {
            "marker": {
             "line": {
              "color": "white",
              "width": 0.5
             },
             "pattern": {
              "fillmode": "overlay",
              "size": 10,
              "solidity": 0.2
             }
            },
            "type": "barpolar"
           }
          ],
          "carpet": [
           {
            "aaxis": {
             "endlinecolor": "rgb(36,36,36)",
             "gridcolor": "white",
             "linecolor": "white",
             "minorgridcolor": "white",
             "startlinecolor": "rgb(36,36,36)"
            },
            "baxis": {
             "endlinecolor": "rgb(36,36,36)",
             "gridcolor": "white",
             "linecolor": "white",
             "minorgridcolor": "white",
             "startlinecolor": "rgb(36,36,36)"
            },
            "type": "carpet"
           }
          ],
          "choropleth": [
           {
            "colorbar": {
             "outlinewidth": 1,
             "tickcolor": "rgb(36,36,36)",
             "ticks": "outside"
            },
            "type": "choropleth"
           }
          ],
          "contour": [
           {
            "colorbar": {
             "outlinewidth": 1,
             "tickcolor": "rgb(36,36,36)",
             "ticks": "outside"
            },
            "colorscale": [
             [
              0,
              "#440154"
             ],
             [
              0.1111111111111111,
              "#482878"
             ],
             [
              0.2222222222222222,
              "#3e4989"
             ],
             [
              0.3333333333333333,
              "#31688e"
             ],
             [
              0.4444444444444444,
              "#26828e"
             ],
             [
              0.5555555555555556,
              "#1f9e89"
             ],
             [
              0.6666666666666666,
              "#35b779"
             ],
             [
              0.7777777777777778,
              "#6ece58"
             ],
             [
              0.8888888888888888,
              "#b5de2b"
             ],
             [
              1,
              "#fde725"
             ]
            ],
            "type": "contour"
           }
          ],
          "contourcarpet": [
           {
            "colorbar": {
             "outlinewidth": 1,
             "tickcolor": "rgb(36,36,36)",
             "ticks": "outside"
            },
            "type": "contourcarpet"
           }
          ],
          "heatmap": [
           {
            "colorbar": {
             "outlinewidth": 1,
             "tickcolor": "rgb(36,36,36)",
             "ticks": "outside"
            },
            "colorscale": [
             [
              0,
              "#440154"
             ],
             [
              0.1111111111111111,
              "#482878"
             ],
             [
              0.2222222222222222,
              "#3e4989"
             ],
             [
              0.3333333333333333,
              "#31688e"
             ],
             [
              0.4444444444444444,
              "#26828e"
             ],
             [
              0.5555555555555556,
              "#1f9e89"
             ],
             [
              0.6666666666666666,
              "#35b779"
             ],
             [
              0.7777777777777778,
              "#6ece58"
             ],
             [
              0.8888888888888888,
              "#b5de2b"
             ],
             [
              1,
              "#fde725"
             ]
            ],
            "type": "heatmap"
           }
          ],
          "heatmapgl": [
           {
            "colorbar": {
             "outlinewidth": 1,
             "tickcolor": "rgb(36,36,36)",
             "ticks": "outside"
            },
            "colorscale": [
             [
              0,
              "#440154"
             ],
             [
              0.1111111111111111,
              "#482878"
             ],
             [
              0.2222222222222222,
              "#3e4989"
             ],
             [
              0.3333333333333333,
              "#31688e"
             ],
             [
              0.4444444444444444,
              "#26828e"
             ],
             [
              0.5555555555555556,
              "#1f9e89"
             ],
             [
              0.6666666666666666,
              "#35b779"
             ],
             [
              0.7777777777777778,
              "#6ece58"
             ],
             [
              0.8888888888888888,
              "#b5de2b"
             ],
             [
              1,
              "#fde725"
             ]
            ],
            "type": "heatmapgl"
           }
          ],
          "histogram": [
           {
            "marker": {
             "line": {
              "color": "white",
              "width": 0.6
             }
            },
            "type": "histogram"
           }
          ],
          "histogram2d": [
           {
            "colorbar": {
             "outlinewidth": 1,
             "tickcolor": "rgb(36,36,36)",
             "ticks": "outside"
            },
            "colorscale": [
             [
              0,
              "#440154"
             ],
             [
              0.1111111111111111,
              "#482878"
             ],
             [
              0.2222222222222222,
              "#3e4989"
             ],
             [
              0.3333333333333333,
              "#31688e"
             ],
             [
              0.4444444444444444,
              "#26828e"
             ],
             [
              0.5555555555555556,
              "#1f9e89"
             ],
             [
              0.6666666666666666,
              "#35b779"
             ],
             [
              0.7777777777777778,
              "#6ece58"
             ],
             [
              0.8888888888888888,
              "#b5de2b"
             ],
             [
              1,
              "#fde725"
             ]
            ],
            "type": "histogram2d"
           }
          ],
          "histogram2dcontour": [
           {
            "colorbar": {
             "outlinewidth": 1,
             "tickcolor": "rgb(36,36,36)",
             "ticks": "outside"
            },
            "colorscale": [
             [
              0,
              "#440154"
             ],
             [
              0.1111111111111111,
              "#482878"
             ],
             [
              0.2222222222222222,
              "#3e4989"
             ],
             [
              0.3333333333333333,
              "#31688e"
             ],
             [
              0.4444444444444444,
              "#26828e"
             ],
             [
              0.5555555555555556,
              "#1f9e89"
             ],
             [
              0.6666666666666666,
              "#35b779"
             ],
             [
              0.7777777777777778,
              "#6ece58"
             ],
             [
              0.8888888888888888,
              "#b5de2b"
             ],
             [
              1,
              "#fde725"
             ]
            ],
            "type": "histogram2dcontour"
           }
          ],
          "mesh3d": [
           {
            "colorbar": {
             "outlinewidth": 1,
             "tickcolor": "rgb(36,36,36)",
             "ticks": "outside"
            },
            "type": "mesh3d"
           }
          ],
          "parcoords": [
           {
            "line": {
             "colorbar": {
              "outlinewidth": 1,
              "tickcolor": "rgb(36,36,36)",
              "ticks": "outside"
             }
            },
            "type": "parcoords"
           }
          ],
          "pie": [
           {
            "automargin": true,
            "type": "pie"
           }
          ],
          "scatter": [
           {
            "fillpattern": {
             "fillmode": "overlay",
             "size": 10,
             "solidity": 0.2
            },
            "type": "scatter"
           }
          ],
          "scatter3d": [
           {
            "line": {
             "colorbar": {
              "outlinewidth": 1,
              "tickcolor": "rgb(36,36,36)",
              "ticks": "outside"
             }
            },
            "marker": {
             "colorbar": {
              "outlinewidth": 1,
              "tickcolor": "rgb(36,36,36)",
              "ticks": "outside"
             }
            },
            "type": "scatter3d"
           }
          ],
          "scattercarpet": [
           {
            "marker": {
             "colorbar": {
              "outlinewidth": 1,
              "tickcolor": "rgb(36,36,36)",
              "ticks": "outside"
             }
            },
            "type": "scattercarpet"
           }
          ],
          "scattergeo": [
           {
            "marker": {
             "colorbar": {
              "outlinewidth": 1,
              "tickcolor": "rgb(36,36,36)",
              "ticks": "outside"
             }
            },
            "type": "scattergeo"
           }
          ],
          "scattergl": [
           {
            "marker": {
             "colorbar": {
              "outlinewidth": 1,
              "tickcolor": "rgb(36,36,36)",
              "ticks": "outside"
             }
            },
            "type": "scattergl"
           }
          ],
          "scattermapbox": [
           {
            "marker": {
             "colorbar": {
              "outlinewidth": 1,
              "tickcolor": "rgb(36,36,36)",
              "ticks": "outside"
             }
            },
            "type": "scattermapbox"
           }
          ],
          "scatterpolar": [
           {
            "marker": {
             "colorbar": {
              "outlinewidth": 1,
              "tickcolor": "rgb(36,36,36)",
              "ticks": "outside"
             }
            },
            "type": "scatterpolar"
           }
          ],
          "scatterpolargl": [
           {
            "marker": {
             "colorbar": {
              "outlinewidth": 1,
              "tickcolor": "rgb(36,36,36)",
              "ticks": "outside"
             }
            },
            "type": "scatterpolargl"
           }
          ],
          "scatterternary": [
           {
            "marker": {
             "colorbar": {
              "outlinewidth": 1,
              "tickcolor": "rgb(36,36,36)",
              "ticks": "outside"
             }
            },
            "type": "scatterternary"
           }
          ],
          "surface": [
           {
            "colorbar": {
             "outlinewidth": 1,
             "tickcolor": "rgb(36,36,36)",
             "ticks": "outside"
            },
            "colorscale": [
             [
              0,
              "#440154"
             ],
             [
              0.1111111111111111,
              "#482878"
             ],
             [
              0.2222222222222222,
              "#3e4989"
             ],
             [
              0.3333333333333333,
              "#31688e"
             ],
             [
              0.4444444444444444,
              "#26828e"
             ],
             [
              0.5555555555555556,
              "#1f9e89"
             ],
             [
              0.6666666666666666,
              "#35b779"
             ],
             [
              0.7777777777777778,
              "#6ece58"
             ],
             [
              0.8888888888888888,
              "#b5de2b"
             ],
             [
              1,
              "#fde725"
             ]
            ],
            "type": "surface"
           }
          ],
          "table": [
           {
            "cells": {
             "fill": {
              "color": "rgb(237,237,237)"
             },
             "line": {
              "color": "white"
             }
            },
            "header": {
             "fill": {
              "color": "rgb(217,217,217)"
             },
             "line": {
              "color": "white"
             }
            },
            "type": "table"
           }
          ]
         },
         "layout": {
          "annotationdefaults": {
           "arrowhead": 0,
           "arrowwidth": 1
          },
          "autotypenumbers": "strict",
          "coloraxis": {
           "colorbar": {
            "outlinewidth": 1,
            "tickcolor": "rgb(36,36,36)",
            "ticks": "outside"
           }
          },
          "colorscale": {
           "diverging": [
            [
             0,
             "rgb(103,0,31)"
            ],
            [
             0.1,
             "rgb(178,24,43)"
            ],
            [
             0.2,
             "rgb(214,96,77)"
            ],
            [
             0.3,
             "rgb(244,165,130)"
            ],
            [
             0.4,
             "rgb(253,219,199)"
            ],
            [
             0.5,
             "rgb(247,247,247)"
            ],
            [
             0.6,
             "rgb(209,229,240)"
            ],
            [
             0.7,
             "rgb(146,197,222)"
            ],
            [
             0.8,
             "rgb(67,147,195)"
            ],
            [
             0.9,
             "rgb(33,102,172)"
            ],
            [
             1,
             "rgb(5,48,97)"
            ]
           ],
           "sequential": [
            [
             0,
             "#440154"
            ],
            [
             0.1111111111111111,
             "#482878"
            ],
            [
             0.2222222222222222,
             "#3e4989"
            ],
            [
             0.3333333333333333,
             "#31688e"
            ],
            [
             0.4444444444444444,
             "#26828e"
            ],
            [
             0.5555555555555556,
             "#1f9e89"
            ],
            [
             0.6666666666666666,
             "#35b779"
            ],
            [
             0.7777777777777778,
             "#6ece58"
            ],
            [
             0.8888888888888888,
             "#b5de2b"
            ],
            [
             1,
             "#fde725"
            ]
           ],
           "sequentialminus": [
            [
             0,
             "#440154"
            ],
            [
             0.1111111111111111,
             "#482878"
            ],
            [
             0.2222222222222222,
             "#3e4989"
            ],
            [
             0.3333333333333333,
             "#31688e"
            ],
            [
             0.4444444444444444,
             "#26828e"
            ],
            [
             0.5555555555555556,
             "#1f9e89"
            ],
            [
             0.6666666666666666,
             "#35b779"
            ],
            [
             0.7777777777777778,
             "#6ece58"
            ],
            [
             0.8888888888888888,
             "#b5de2b"
            ],
            [
             1,
             "#fde725"
            ]
           ]
          },
          "colorway": [
           "#1F77B4",
           "#FF7F0E",
           "#2CA02C",
           "#D62728",
           "#9467BD",
           "#8C564B",
           "#E377C2",
           "#7F7F7F",
           "#BCBD22",
           "#17BECF"
          ],
          "font": {
           "color": "rgb(36,36,36)"
          },
          "geo": {
           "bgcolor": "white",
           "lakecolor": "white",
           "landcolor": "white",
           "showlakes": true,
           "showland": true,
           "subunitcolor": "white"
          },
          "hoverlabel": {
           "align": "left"
          },
          "hovermode": "closest",
          "mapbox": {
           "style": "light"
          },
          "paper_bgcolor": "white",
          "plot_bgcolor": "white",
          "polar": {
           "angularaxis": {
            "gridcolor": "rgb(232,232,232)",
            "linecolor": "rgb(36,36,36)",
            "showgrid": false,
            "showline": true,
            "ticks": "outside"
           },
           "bgcolor": "white",
           "radialaxis": {
            "gridcolor": "rgb(232,232,232)",
            "linecolor": "rgb(36,36,36)",
            "showgrid": false,
            "showline": true,
            "ticks": "outside"
           }
          },
          "scene": {
           "xaxis": {
            "backgroundcolor": "white",
            "gridcolor": "rgb(232,232,232)",
            "gridwidth": 2,
            "linecolor": "rgb(36,36,36)",
            "showbackground": true,
            "showgrid": false,
            "showline": true,
            "ticks": "outside",
            "zeroline": false,
            "zerolinecolor": "rgb(36,36,36)"
           },
           "yaxis": {
            "backgroundcolor": "white",
            "gridcolor": "rgb(232,232,232)",
            "gridwidth": 2,
            "linecolor": "rgb(36,36,36)",
            "showbackground": true,
            "showgrid": false,
            "showline": true,
            "ticks": "outside",
            "zeroline": false,
            "zerolinecolor": "rgb(36,36,36)"
           },
           "zaxis": {
            "backgroundcolor": "white",
            "gridcolor": "rgb(232,232,232)",
            "gridwidth": 2,
            "linecolor": "rgb(36,36,36)",
            "showbackground": true,
            "showgrid": false,
            "showline": true,
            "ticks": "outside",
            "zeroline": false,
            "zerolinecolor": "rgb(36,36,36)"
           }
          },
          "shapedefaults": {
           "fillcolor": "black",
           "line": {
            "width": 0
           },
           "opacity": 0.3
          },
          "ternary": {
           "aaxis": {
            "gridcolor": "rgb(232,232,232)",
            "linecolor": "rgb(36,36,36)",
            "showgrid": false,
            "showline": true,
            "ticks": "outside"
           },
           "baxis": {
            "gridcolor": "rgb(232,232,232)",
            "linecolor": "rgb(36,36,36)",
            "showgrid": false,
            "showline": true,
            "ticks": "outside"
           },
           "bgcolor": "white",
           "caxis": {
            "gridcolor": "rgb(232,232,232)",
            "linecolor": "rgb(36,36,36)",
            "showgrid": false,
            "showline": true,
            "ticks": "outside"
           }
          },
          "title": {
           "x": 0.05
          },
          "xaxis": {
           "automargin": true,
           "gridcolor": "rgb(232,232,232)",
           "linecolor": "rgb(36,36,36)",
           "showgrid": false,
           "showline": true,
           "ticks": "outside",
           "title": {
            "standoff": 15
           },
           "zeroline": false,
           "zerolinecolor": "rgb(36,36,36)"
          },
          "yaxis": {
           "automargin": true,
           "gridcolor": "rgb(232,232,232)",
           "linecolor": "rgb(36,36,36)",
           "showgrid": false,
           "showline": true,
           "ticks": "outside",
           "title": {
            "standoff": 15
           },
           "zeroline": false,
           "zerolinecolor": "rgb(36,36,36)"
          }
         }
        },
        "title": {
         "font": {
          "color": "Black",
          "size": 22
         },
         "text": "<b>Topics per Class</b>",
         "x": 0.4,
         "xanchor": "center",
         "y": 0.95,
         "yanchor": "top"
        },
        "width": 1250,
        "xaxis": {
         "showgrid": true,
         "title": {
          "text": "Frequency"
         }
        },
        "yaxis": {
         "showgrid": true,
         "title": {
          "text": "Class"
         }
        }
       }
      }
     },
     "metadata": {},
     "output_type": "display_data"
    }
   ],
   "source": [
    "topics_per_class = topic_model.model.topics_per_class(df.content.tolist(), df.label.tolist())\n",
    "topic_model.model.visualize_topics_per_class(topics_per_class)"
   ]
  },
  {
   "cell_type": "code",
   "execution_count": null,
   "metadata": {},
   "outputs": [],
   "source": []
  },
  {
   "cell_type": "code",
   "execution_count": null,
   "metadata": {},
   "outputs": [],
   "source": [
    "df.to_parquet('/Users/IsRealNPK/LMAO/dataset/HDFS_v1/HDFS_with_topic.parquet.gzip')"
   ]
  },
  {
   "cell_type": "markdown",
   "metadata": {},
   "source": [
    "# LMAO graph"
   ]
  },
  {
   "cell_type": "code",
   "execution_count": 1,
   "metadata": {},
   "outputs": [],
   "source": [
    "from lmao.graph import LMAOGraph"
   ]
  },
  {
   "cell_type": "code",
   "execution_count": 20,
   "metadata": {},
   "outputs": [
    {
     "data": {
      "text/html": [
       "<div>\n",
       "<style scoped>\n",
       "    .dataframe tbody tr th:only-of-type {\n",
       "        vertical-align: middle;\n",
       "    }\n",
       "\n",
       "    .dataframe tbody tr th {\n",
       "        vertical-align: top;\n",
       "    }\n",
       "\n",
       "    .dataframe thead th {\n",
       "        text-align: right;\n",
       "    }\n",
       "</style>\n",
       "<table border=\"1\" class=\"dataframe\">\n",
       "  <thead>\n",
       "    <tr style=\"text-align: right;\">\n",
       "      <th></th>\n",
       "      <th>session_id</th>\n",
       "      <th>severity</th>\n",
       "      <th>content</th>\n",
       "      <th>event_id</th>\n",
       "      <th>event_template</th>\n",
       "      <th>label</th>\n",
       "      <th>topic</th>\n",
       "    </tr>\n",
       "    <tr>\n",
       "      <th>index</th>\n",
       "      <th></th>\n",
       "      <th></th>\n",
       "      <th></th>\n",
       "      <th></th>\n",
       "      <th></th>\n",
       "      <th></th>\n",
       "      <th></th>\n",
       "    </tr>\n",
       "  </thead>\n",
       "  <tbody>\n",
       "    <tr>\n",
       "      <th>0</th>\n",
       "      <td>blk_-1608999687919862906</td>\n",
       "      <td>INFO</td>\n",
       "      <td>Receiving block blk_-1608999687919862906 src: ...</td>\n",
       "      <td>09a53393</td>\n",
       "      <td>Receiving block &lt;*&gt; src: &lt;*&gt; dest: &lt;*&gt;</td>\n",
       "      <td>Normal</td>\n",
       "      <td>8</td>\n",
       "    </tr>\n",
       "    <tr>\n",
       "      <th>2</th>\n",
       "      <td>blk_-1608999687919862906</td>\n",
       "      <td>INFO</td>\n",
       "      <td>Receiving block blk_-1608999687919862906 src: ...</td>\n",
       "      <td>09a53393</td>\n",
       "      <td>Receiving block &lt;*&gt; src: &lt;*&gt; dest: &lt;*&gt;</td>\n",
       "      <td>Normal</td>\n",
       "      <td>-1</td>\n",
       "    </tr>\n",
       "    <tr>\n",
       "      <th>3</th>\n",
       "      <td>blk_-1608999687919862906</td>\n",
       "      <td>INFO</td>\n",
       "      <td>Receiving block blk_-1608999687919862906 src: ...</td>\n",
       "      <td>09a53393</td>\n",
       "      <td>Receiving block &lt;*&gt; src: &lt;*&gt; dest: &lt;*&gt;</td>\n",
       "      <td>Normal</td>\n",
       "      <td>8</td>\n",
       "    </tr>\n",
       "    <tr>\n",
       "      <th>4</th>\n",
       "      <td>blk_-1608999687919862906</td>\n",
       "      <td>INFO</td>\n",
       "      <td>PacketResponder 1 for block blk_-1608999687919...</td>\n",
       "      <td>d38aa58d</td>\n",
       "      <td>PacketResponder &lt;*&gt; for block &lt;*&gt; &lt;*&gt;</td>\n",
       "      <td>Normal</td>\n",
       "      <td>4</td>\n",
       "    </tr>\n",
       "    <tr>\n",
       "      <th>5</th>\n",
       "      <td>blk_-1608999687919862906</td>\n",
       "      <td>INFO</td>\n",
       "      <td>PacketResponder 2 for block blk_-1608999687919...</td>\n",
       "      <td>d38aa58d</td>\n",
       "      <td>PacketResponder &lt;*&gt; for block &lt;*&gt; &lt;*&gt;</td>\n",
       "      <td>Normal</td>\n",
       "      <td>3</td>\n",
       "    </tr>\n",
       "    <tr>\n",
       "      <th>...</th>\n",
       "      <td>...</td>\n",
       "      <td>...</td>\n",
       "      <td>...</td>\n",
       "      <td>...</td>\n",
       "      <td>...</td>\n",
       "      <td>...</td>\n",
       "      <td>...</td>\n",
       "    </tr>\n",
       "    <tr>\n",
       "      <th>11175624</th>\n",
       "      <td>blk_-6171368032583208892</td>\n",
       "      <td>INFO</td>\n",
       "      <td>Verification succeeded for blk_-61713680325832...</td>\n",
       "      <td>32777b38</td>\n",
       "      <td>Verification succeeded for &lt;*&gt;</td>\n",
       "      <td>Normal</td>\n",
       "      <td>11</td>\n",
       "    </tr>\n",
       "    <tr>\n",
       "      <th>11175625</th>\n",
       "      <td>blk_6195025276114316035</td>\n",
       "      <td>INFO</td>\n",
       "      <td>Verification succeeded for blk_619502527611431...</td>\n",
       "      <td>32777b38</td>\n",
       "      <td>Verification succeeded for &lt;*&gt;</td>\n",
       "      <td>Normal</td>\n",
       "      <td>11</td>\n",
       "    </tr>\n",
       "    <tr>\n",
       "      <th>11175626</th>\n",
       "      <td>blk_-3339773404714332088</td>\n",
       "      <td>INFO</td>\n",
       "      <td>Verification succeeded for blk_-33397734047143...</td>\n",
       "      <td>32777b38</td>\n",
       "      <td>Verification succeeded for &lt;*&gt;</td>\n",
       "      <td>Normal</td>\n",
       "      <td>11</td>\n",
       "    </tr>\n",
       "    <tr>\n",
       "      <th>11175627</th>\n",
       "      <td>blk_1037231945509285002</td>\n",
       "      <td>INFO</td>\n",
       "      <td>Verification succeeded for blk_103723194550928...</td>\n",
       "      <td>32777b38</td>\n",
       "      <td>Verification succeeded for &lt;*&gt;</td>\n",
       "      <td>Normal</td>\n",
       "      <td>11</td>\n",
       "    </tr>\n",
       "    <tr>\n",
       "      <th>11175628</th>\n",
       "      <td>blk_4258862871822415442</td>\n",
       "      <td>INFO</td>\n",
       "      <td>Verification succeeded for blk_425886287182241...</td>\n",
       "      <td>32777b38</td>\n",
       "      <td>Verification succeeded for &lt;*&gt;</td>\n",
       "      <td>Normal</td>\n",
       "      <td>11</td>\n",
       "    </tr>\n",
       "  </tbody>\n",
       "</table>\n",
       "<p>10600568 rows × 7 columns</p>\n",
       "</div>"
      ],
      "text/plain": [
       "                        session_id severity  \\\n",
       "index                                         \n",
       "0         blk_-1608999687919862906     INFO   \n",
       "2         blk_-1608999687919862906     INFO   \n",
       "3         blk_-1608999687919862906     INFO   \n",
       "4         blk_-1608999687919862906     INFO   \n",
       "5         blk_-1608999687919862906     INFO   \n",
       "...                            ...      ...   \n",
       "11175624  blk_-6171368032583208892     INFO   \n",
       "11175625   blk_6195025276114316035     INFO   \n",
       "11175626  blk_-3339773404714332088     INFO   \n",
       "11175627   blk_1037231945509285002     INFO   \n",
       "11175628   blk_4258862871822415442     INFO   \n",
       "\n",
       "                                                    content  event_id  \\\n",
       "index                                                                   \n",
       "0         Receiving block blk_-1608999687919862906 src: ...  09a53393   \n",
       "2         Receiving block blk_-1608999687919862906 src: ...  09a53393   \n",
       "3         Receiving block blk_-1608999687919862906 src: ...  09a53393   \n",
       "4         PacketResponder 1 for block blk_-1608999687919...  d38aa58d   \n",
       "5         PacketResponder 2 for block blk_-1608999687919...  d38aa58d   \n",
       "...                                                     ...       ...   \n",
       "11175624  Verification succeeded for blk_-61713680325832...  32777b38   \n",
       "11175625  Verification succeeded for blk_619502527611431...  32777b38   \n",
       "11175626  Verification succeeded for blk_-33397734047143...  32777b38   \n",
       "11175627  Verification succeeded for blk_103723194550928...  32777b38   \n",
       "11175628  Verification succeeded for blk_425886287182241...  32777b38   \n",
       "\n",
       "                                  event_template   label  topic  \n",
       "index                                                            \n",
       "0         Receiving block <*> src: <*> dest: <*>  Normal      8  \n",
       "2         Receiving block <*> src: <*> dest: <*>  Normal     -1  \n",
       "3         Receiving block <*> src: <*> dest: <*>  Normal      8  \n",
       "4          PacketResponder <*> for block <*> <*>  Normal      4  \n",
       "5          PacketResponder <*> for block <*> <*>  Normal      3  \n",
       "...                                          ...     ...    ...  \n",
       "11175624          Verification succeeded for <*>  Normal     11  \n",
       "11175625          Verification succeeded for <*>  Normal     11  \n",
       "11175626          Verification succeeded for <*>  Normal     11  \n",
       "11175627          Verification succeeded for <*>  Normal     11  \n",
       "11175628          Verification succeeded for <*>  Normal     11  \n",
       "\n",
       "[10600568 rows x 7 columns]"
      ]
     },
     "execution_count": 20,
     "metadata": {},
     "output_type": "execute_result"
    }
   ],
   "source": [
    "pd.read_parquet('dataset/HDFS_v1/HDFS_with_topic.parquet.gzip')"
   ]
  },
  {
   "cell_type": "code",
   "execution_count": 3,
   "metadata": {},
   "outputs": [
    {
     "name": "stdout",
     "output_type": "stream",
     "text": [
      "Topics size of this dataframe is : 237\n",
      "Getting Group by from dataframe\n"
     ]
    },
    {
     "data": {
      "application/vnd.jupyter.widget-view+json": {
       "model_id": "8434b8040ee043cdb2555a9e315b272d",
       "version_major": 2,
       "version_minor": 0
      },
      "text/plain": [
       "  0%|          | 0/575061 [00:00<?, ?it/s]"
      ]
     },
     "metadata": {},
     "output_type": "display_data"
    },
    {
     "name": "stdout",
     "output_type": "stream",
     "text": [
      "Max sequence size of this dataframe is : 297\n",
      "Apply Padding and Truncate 300.\n"
     ]
    },
    {
     "data": {
      "application/vnd.jupyter.widget-view+json": {
       "model_id": "23cab8d2649c49e68c2276c0bde9550d",
       "version_major": 2,
       "version_minor": 0
      },
      "text/plain": [
       "  0%|          | 0/575061 [00:00<?, ?it/s]"
      ]
     },
     "metadata": {},
     "output_type": "display_data"
    },
    {
     "name": "stdout",
     "output_type": "stream",
     "text": [
      "Updating Topic size of this dataframe to 238.\n",
      "Updating sequence size of this dataframe to 300.\n",
      "Please call .get_PyG() to get PyG dataloader.\n"
     ]
    }
   ],
   "source": [
    "hdfs_data = LMAOGraph(df=pd.read_parquet('dataset/HDFS_v1/HDFS_with_topic.parquet.gzip'),mode='pyg')"
   ]
  },
  {
   "cell_type": "code",
   "execution_count": 12,
   "metadata": {},
   "outputs": [],
   "source": [
    "hdfs_data.df.to_parquet('dataset/HDFS_v1/HDFS_Seq_with_label.parquet.gzip', compression='gzip')"
   ]
  },
  {
   "cell_type": "code",
   "execution_count": 34,
   "metadata": {},
   "outputs": [],
   "source": [
    "alice_df = pd.read_parquet('dataset/ALICE-OSLdataset/ALICE_info_no_severity_D_with_topic.parquet.gzip')"
   ]
  },
  {
   "cell_type": "code",
   "execution_count": 35,
   "metadata": {},
   "outputs": [
    {
     "data": {
      "text/html": [
       "<div>\n",
       "<style scoped>\n",
       "    .dataframe tbody tr th:only-of-type {\n",
       "        vertical-align: middle;\n",
       "    }\n",
       "\n",
       "    .dataframe tbody tr th {\n",
       "        vertical-align: top;\n",
       "    }\n",
       "\n",
       "    .dataframe thead th {\n",
       "        text-align: right;\n",
       "    }\n",
       "</style>\n",
       "<table border=\"1\" class=\"dataframe\">\n",
       "  <thead>\n",
       "    <tr style=\"text-align: right;\">\n",
       "      <th></th>\n",
       "      <th>session_id</th>\n",
       "      <th>severity</th>\n",
       "      <th>content</th>\n",
       "      <th>event_id</th>\n",
       "      <th>event_template</th>\n",
       "      <th>label</th>\n",
       "      <th>EOR</th>\n",
       "      <th>EOR_id</th>\n",
       "      <th>run_quality</th>\n",
       "      <th>topic</th>\n",
       "    </tr>\n",
       "  </thead>\n",
       "  <tbody>\n",
       "    <tr>\n",
       "      <th>134071</th>\n",
       "      <td>24064</td>\n",
       "      <td>I</td>\n",
       "      <td>writing 1 messages to aliecs.before_start_acti...</td>\n",
       "      <td>2</td>\n",
       "      <td>writing &lt;*&gt; messages to &lt;*&gt; (partition:&lt;*&gt;</td>\n",
       "      <td>not crashed</td>\n",
       "      <td>eor test.</td>\n",
       "      <td>61.0</td>\n",
       "      <td>test</td>\n",
       "      <td>572</td>\n",
       "    </tr>\n",
       "    <tr>\n",
       "      <th>134080</th>\n",
       "      <td>24064</td>\n",
       "      <td>I</td>\n",
       "      <td>overriding run start time in the GRP object to...</td>\n",
       "      <td>378</td>\n",
       "      <td>overriding run start time in the GRP object to...</td>\n",
       "      <td>not crashed</td>\n",
       "      <td>eor test.</td>\n",
       "      <td>61.0</td>\n",
       "      <td>test</td>\n",
       "      <td>1682</td>\n",
       "    </tr>\n",
       "    <tr>\n",
       "      <th>134094</th>\n",
       "      <td>24064</td>\n",
       "      <td>I</td>\n",
       "      <td>writing 1 messages to aliecs.env_leave_state.C...</td>\n",
       "      <td>2</td>\n",
       "      <td>writing &lt;*&gt; messages to &lt;*&gt; (partition:&lt;*&gt;</td>\n",
       "      <td>not crashed</td>\n",
       "      <td>eor test.</td>\n",
       "      <td>61.0</td>\n",
       "      <td>test</td>\n",
       "      <td>464</td>\n",
       "    </tr>\n",
       "    <tr>\n",
       "      <th>134098</th>\n",
       "      <td>24064</td>\n",
       "      <td>I</td>\n",
       "      <td>starting new run</td>\n",
       "      <td>383</td>\n",
       "      <td>starting new run</td>\n",
       "      <td>not crashed</td>\n",
       "      <td>eor test.</td>\n",
       "      <td>61.0</td>\n",
       "      <td>test</td>\n",
       "      <td>-1</td>\n",
       "    </tr>\n",
       "    <tr>\n",
       "      <th>135408</th>\n",
       "      <td>24064</td>\n",
       "      <td>I</td>\n",
       "      <td>Run number 526264</td>\n",
       "      <td>384</td>\n",
       "      <td>Run number &lt;*&gt;</td>\n",
       "      <td>not crashed</td>\n",
       "      <td>eor test.</td>\n",
       "      <td>61.0</td>\n",
       "      <td>test</td>\n",
       "      <td>1635</td>\n",
       "    </tr>\n",
       "    <tr>\n",
       "      <th>...</th>\n",
       "      <td>...</td>\n",
       "      <td>...</td>\n",
       "      <td>...</td>\n",
       "      <td>...</td>\n",
       "      <td>...</td>\n",
       "      <td>...</td>\n",
       "      <td>...</td>\n",
       "      <td>...</td>\n",
       "      <td>...</td>\n",
       "      <td>...</td>\n",
       "    </tr>\n",
       "    <tr>\n",
       "      <th>34856755</th>\n",
       "      <td>24356</td>\n",
       "      <td>W</td>\n",
       "      <td>Non-contiguous timeframe IDs 187572 ... 187574</td>\n",
       "      <td>723</td>\n",
       "      <td>Non-contiguous timeframe IDs &lt;*&gt; ... &lt;*&gt;</td>\n",
       "      <td>crashed</td>\n",
       "      <td>triggers out synch. disabling ctp readout.</td>\n",
       "      <td>59.0</td>\n",
       "      <td>bad</td>\n",
       "      <td>1882</td>\n",
       "    </tr>\n",
       "    <tr>\n",
       "      <th>34856756</th>\n",
       "      <td>24356</td>\n",
       "      <td>W</td>\n",
       "      <td>Non-contiguous timeframe IDs 187572 ... 187574</td>\n",
       "      <td>723</td>\n",
       "      <td>Non-contiguous timeframe IDs &lt;*&gt; ... &lt;*&gt;</td>\n",
       "      <td>crashed</td>\n",
       "      <td>triggers out synch. disabling ctp readout.</td>\n",
       "      <td>59.0</td>\n",
       "      <td>bad</td>\n",
       "      <td>1882</td>\n",
       "    </tr>\n",
       "    <tr>\n",
       "      <th>34856757</th>\n",
       "      <td>24356</td>\n",
       "      <td>W</td>\n",
       "      <td>Non-contiguous timeframe IDs 187572 ... 187574</td>\n",
       "      <td>723</td>\n",
       "      <td>Non-contiguous timeframe IDs &lt;*&gt; ... &lt;*&gt;</td>\n",
       "      <td>crashed</td>\n",
       "      <td>triggers out synch. disabling ctp readout.</td>\n",
       "      <td>59.0</td>\n",
       "      <td>bad</td>\n",
       "      <td>1882</td>\n",
       "    </tr>\n",
       "    <tr>\n",
       "      <th>34856758</th>\n",
       "      <td>24356</td>\n",
       "      <td>W</td>\n",
       "      <td>Gap in timeframe ids detected: previous= 18757...</td>\n",
       "      <td>724</td>\n",
       "      <td>Gap in timeframe ids &lt;*&gt;</td>\n",
       "      <td>crashed</td>\n",
       "      <td>triggers out synch. disabling ctp readout.</td>\n",
       "      <td>59.0</td>\n",
       "      <td>bad</td>\n",
       "      <td>-1</td>\n",
       "    </tr>\n",
       "    <tr>\n",
       "      <th>34856759</th>\n",
       "      <td>24356</td>\n",
       "      <td>W</td>\n",
       "      <td>Gap in timeframe ids detected: previous= 18757...</td>\n",
       "      <td>724</td>\n",
       "      <td>Gap in timeframe ids &lt;*&gt;</td>\n",
       "      <td>crashed</td>\n",
       "      <td>triggers out synch. disabling ctp readout.</td>\n",
       "      <td>59.0</td>\n",
       "      <td>bad</td>\n",
       "      <td>-1</td>\n",
       "    </tr>\n",
       "  </tbody>\n",
       "</table>\n",
       "<p>5487627 rows × 10 columns</p>\n",
       "</div>"
      ],
      "text/plain": [
       "          session_id severity  \\\n",
       "134071         24064        I   \n",
       "134080         24064        I   \n",
       "134094         24064        I   \n",
       "134098         24064        I   \n",
       "135408         24064        I   \n",
       "...              ...      ...   \n",
       "34856755       24356        W   \n",
       "34856756       24356        W   \n",
       "34856757       24356        W   \n",
       "34856758       24356        W   \n",
       "34856759       24356        W   \n",
       "\n",
       "                                                    content  event_id  \\\n",
       "134071    writing 1 messages to aliecs.before_start_acti...         2   \n",
       "134080    overriding run start time in the GRP object to...       378   \n",
       "134094    writing 1 messages to aliecs.env_leave_state.C...         2   \n",
       "134098                                     starting new run       383   \n",
       "135408                                    Run number 526264       384   \n",
       "...                                                     ...       ...   \n",
       "34856755     Non-contiguous timeframe IDs 187572 ... 187574       723   \n",
       "34856756     Non-contiguous timeframe IDs 187572 ... 187574       723   \n",
       "34856757     Non-contiguous timeframe IDs 187572 ... 187574       723   \n",
       "34856758  Gap in timeframe ids detected: previous= 18757...       724   \n",
       "34856759  Gap in timeframe ids detected: previous= 18757...       724   \n",
       "\n",
       "                                             event_template        label  \\\n",
       "134071           writing <*> messages to <*> (partition:<*>  not crashed   \n",
       "134080    overriding run start time in the GRP object to...  not crashed   \n",
       "134094           writing <*> messages to <*> (partition:<*>  not crashed   \n",
       "134098                                     starting new run  not crashed   \n",
       "135408                                       Run number <*>  not crashed   \n",
       "...                                                     ...          ...   \n",
       "34856755           Non-contiguous timeframe IDs <*> ... <*>      crashed   \n",
       "34856756           Non-contiguous timeframe IDs <*> ... <*>      crashed   \n",
       "34856757           Non-contiguous timeframe IDs <*> ... <*>      crashed   \n",
       "34856758                           Gap in timeframe ids <*>      crashed   \n",
       "34856759                           Gap in timeframe ids <*>      crashed   \n",
       "\n",
       "                                                 EOR  EOR_id run_quality  \\\n",
       "134071                                     eor test.    61.0        test   \n",
       "134080                                     eor test.    61.0        test   \n",
       "134094                                     eor test.    61.0        test   \n",
       "134098                                     eor test.    61.0        test   \n",
       "135408                                     eor test.    61.0        test   \n",
       "...                                              ...     ...         ...   \n",
       "34856755  triggers out synch. disabling ctp readout.    59.0         bad   \n",
       "34856756  triggers out synch. disabling ctp readout.    59.0         bad   \n",
       "34856757  triggers out synch. disabling ctp readout.    59.0         bad   \n",
       "34856758  triggers out synch. disabling ctp readout.    59.0         bad   \n",
       "34856759  triggers out synch. disabling ctp readout.    59.0         bad   \n",
       "\n",
       "          topic  \n",
       "134071      572  \n",
       "134080     1682  \n",
       "134094      464  \n",
       "134098       -1  \n",
       "135408     1635  \n",
       "...         ...  \n",
       "34856755   1882  \n",
       "34856756   1882  \n",
       "34856757   1882  \n",
       "34856758     -1  \n",
       "34856759     -1  \n",
       "\n",
       "[5487627 rows x 10 columns]"
      ]
     },
     "execution_count": 35,
     "metadata": {},
     "output_type": "execute_result"
    }
   ],
   "source": []
  },
  {
   "cell_type": "code",
   "execution_count": 51,
   "metadata": {},
   "outputs": [],
   "source": [
    "import plotly.graph_objects as go\n",
    "from plotly.subplots import make_subplots\n",
    "def plot_alice_dis(alice_df):\n",
    "    # fig = make_subplots(rows=1, cols=1, shared_yaxes=False)\n",
    "    severity = alice_df['severity'].value_counts()\n",
    "    quality = alice_df['run_quality'].value_counts()\n",
    "    new_label = alice_df['label'].value_counts()\n",
    "    eor = alice_df['EOR'].value_counts()\n",
    "    # fig.add_trace(go.Bar(name='alice by Severity', x=severity.index, y=severity.values, text=severity.values), 1, 1)\n",
    "    # fig.add_trace(go.Bar(name='alice by RunQuality', x=quality.index, y=quality.values, text=quality.values), 1, 2)\n",
    "    # fig.add_trace(go.Bar(name='alice new label', x=new_label.index, y=new_label.values, text=new_label.values), 1, 3)\n",
    "    bar = go.Bar(name='alice EOR', x=eor.index, y=eor.values, text=eor.values)\n",
    "    fig = go.Figure(data=[bar])\n",
    "    # Change the bar mode\n",
    "    fig.update_layout(\n",
    "        title_text='Label Distribution in each label',\n",
    "        title_x=0.5,\n",
    "        width=1024,\n",
    "        height=768,\n",
    "        \n",
    "    )\n",
    "    fig.show()"
   ]
  },
  {
   "cell_type": "code",
   "execution_count": 52,
   "metadata": {},
   "outputs": [
    {
     "data": {
      "application/vnd.plotly.v1+json": {
       "config": {
        "plotlyServerURL": "https://plot.ly"
       },
       "data": [
        {
         "name": "alice EOR",
         "text": [
          772369,
          618837,
          563604,
          474935,
          400063,
          340009,
          301264,
          245708,
          139516,
          131594,
          118902,
          89940,
          87434,
          85147,
          71447,
          67846,
          52294,
          51524,
          50497,
          49862,
          47298,
          41267,
          36955,
          36915,
          35559,
          35466,
          33107,
          28222,
          27320,
          26191,
          26005,
          24750,
          24288,
          22974,
          22774,
          21949,
          20390,
          20311,
          20091,
          20070,
          19347,
          18103,
          17620,
          16735,
          13231,
          12377,
          12124,
          11971,
          11083,
          10903,
          9781,
          9440,
          8468,
          8273,
          6858,
          6755,
          5147,
          999,
          972,
          801,
          660,
          409,
          382,
          303,
          169,
          22
         ],
         "type": "bar",
         "x": [
          "start tests the day.",
          "beam dump",
          "prepare for cosmics",
          "end calibration",
          "lhc dumped beam dump",
          "preparation for tpc scan",
          "rm asks to stop the run",
          "phos/cpv",
          "change lumi to 1mhz",
          "mid expert request.",
          "change luminosity",
          "sl request to include mid",
          "stopping to include trd",
          "change trigger rate to 500 khz",
          "change config for mft",
          "exclude emc.",
          "eor test.",
          "tpc expert request.",
          "preparing for physics",
          "pdp expert request,",
          "ali-ecs core restarted",
          "texpert request",
          "all epns crashed simultaneously with primary vertex error.",
          "include maximum number epns (211)",
          "release ecs lock for mch",
          "revert readout configuration to see if it helps with errors from tpc (flp080) and its.",
          "adjust handshake",
          "problem on alio2-cr1-flp080, backpressure. possible cause: from_readout-proxy_to_tpc-idc-to-vector.",
          "dpl errors on ali02-cr1-flp080 -  tpc flp (run stopped by the operator).",
          "changed predefined physics configuration",
          "epn went flat",
          "end test",
          "exclude fv0.",
          "tpc scan ",
          "emcal",
          "calibration failed",
          "end the calibration",
          "change predefined configuration.",
          "issues known; expert informed",
          "preparation for calibration.",
          "mch-qcmn-epn-full-track-matching crashed.",
          "trigger readout went to zero.",
          " jit-4e1deca4ebdf11d52f3ee4f99c0c46f78222361d-mch-qctaskmchdigits-proxy",
          "tpc need to disable re-sync.",
          "request from tpc expert.",
          "all epns crashed simultaneously.",
          "triggers out synch. disabling ctp readout.",
          "need to restart trigger.",
          "sor failed for mch",
          "prepare for injection",
          "include tpc.",
          "all epns crashed simultaneously",
          "calibration ended automatically",
          "expert request cpv",
          "request from flp expert.",
          " end calibration",
          "operator error: run restarted the same partition.",
          "mch",
          "sor call failed",
          "normal eor after 5 minutes.",
          "tpc not ready at sor",
          "wrong configuration",
          "dcs sor failed (no sor_progressing).",
          "cpv recover hv trip.",
          "started by mistake",
          "re-enable calib_primvtx_meanvtx"
         ],
         "y": [
          772369,
          618837,
          563604,
          474935,
          400063,
          340009,
          301264,
          245708,
          139516,
          131594,
          118902,
          89940,
          87434,
          85147,
          71447,
          67846,
          52294,
          51524,
          50497,
          49862,
          47298,
          41267,
          36955,
          36915,
          35559,
          35466,
          33107,
          28222,
          27320,
          26191,
          26005,
          24750,
          24288,
          22974,
          22774,
          21949,
          20390,
          20311,
          20091,
          20070,
          19347,
          18103,
          17620,
          16735,
          13231,
          12377,
          12124,
          11971,
          11083,
          10903,
          9781,
          9440,
          8468,
          8273,
          6858,
          6755,
          5147,
          999,
          972,
          801,
          660,
          409,
          382,
          303,
          169,
          22
         ]
        }
       ],
       "layout": {
        "height": 768,
        "template": {
         "data": {
          "bar": [
           {
            "error_x": {
             "color": "#2a3f5f"
            },
            "error_y": {
             "color": "#2a3f5f"
            },
            "marker": {
             "line": {
              "color": "#E5ECF6",
              "width": 0.5
             },
             "pattern": {
              "fillmode": "overlay",
              "size": 10,
              "solidity": 0.2
             }
            },
            "type": "bar"
           }
          ],
          "barpolar": [
           {
            "marker": {
             "line": {
              "color": "#E5ECF6",
              "width": 0.5
             },
             "pattern": {
              "fillmode": "overlay",
              "size": 10,
              "solidity": 0.2
             }
            },
            "type": "barpolar"
           }
          ],
          "carpet": [
           {
            "aaxis": {
             "endlinecolor": "#2a3f5f",
             "gridcolor": "white",
             "linecolor": "white",
             "minorgridcolor": "white",
             "startlinecolor": "#2a3f5f"
            },
            "baxis": {
             "endlinecolor": "#2a3f5f",
             "gridcolor": "white",
             "linecolor": "white",
             "minorgridcolor": "white",
             "startlinecolor": "#2a3f5f"
            },
            "type": "carpet"
           }
          ],
          "choropleth": [
           {
            "colorbar": {
             "outlinewidth": 0,
             "ticks": ""
            },
            "type": "choropleth"
           }
          ],
          "contour": [
           {
            "colorbar": {
             "outlinewidth": 0,
             "ticks": ""
            },
            "colorscale": [
             [
              0,
              "#0d0887"
             ],
             [
              0.1111111111111111,
              "#46039f"
             ],
             [
              0.2222222222222222,
              "#7201a8"
             ],
             [
              0.3333333333333333,
              "#9c179e"
             ],
             [
              0.4444444444444444,
              "#bd3786"
             ],
             [
              0.5555555555555556,
              "#d8576b"
             ],
             [
              0.6666666666666666,
              "#ed7953"
             ],
             [
              0.7777777777777778,
              "#fb9f3a"
             ],
             [
              0.8888888888888888,
              "#fdca26"
             ],
             [
              1,
              "#f0f921"
             ]
            ],
            "type": "contour"
           }
          ],
          "contourcarpet": [
           {
            "colorbar": {
             "outlinewidth": 0,
             "ticks": ""
            },
            "type": "contourcarpet"
           }
          ],
          "heatmap": [
           {
            "colorbar": {
             "outlinewidth": 0,
             "ticks": ""
            },
            "colorscale": [
             [
              0,
              "#0d0887"
             ],
             [
              0.1111111111111111,
              "#46039f"
             ],
             [
              0.2222222222222222,
              "#7201a8"
             ],
             [
              0.3333333333333333,
              "#9c179e"
             ],
             [
              0.4444444444444444,
              "#bd3786"
             ],
             [
              0.5555555555555556,
              "#d8576b"
             ],
             [
              0.6666666666666666,
              "#ed7953"
             ],
             [
              0.7777777777777778,
              "#fb9f3a"
             ],
             [
              0.8888888888888888,
              "#fdca26"
             ],
             [
              1,
              "#f0f921"
             ]
            ],
            "type": "heatmap"
           }
          ],
          "heatmapgl": [
           {
            "colorbar": {
             "outlinewidth": 0,
             "ticks": ""
            },
            "colorscale": [
             [
              0,
              "#0d0887"
             ],
             [
              0.1111111111111111,
              "#46039f"
             ],
             [
              0.2222222222222222,
              "#7201a8"
             ],
             [
              0.3333333333333333,
              "#9c179e"
             ],
             [
              0.4444444444444444,
              "#bd3786"
             ],
             [
              0.5555555555555556,
              "#d8576b"
             ],
             [
              0.6666666666666666,
              "#ed7953"
             ],
             [
              0.7777777777777778,
              "#fb9f3a"
             ],
             [
              0.8888888888888888,
              "#fdca26"
             ],
             [
              1,
              "#f0f921"
             ]
            ],
            "type": "heatmapgl"
           }
          ],
          "histogram": [
           {
            "marker": {
             "pattern": {
              "fillmode": "overlay",
              "size": 10,
              "solidity": 0.2
             }
            },
            "type": "histogram"
           }
          ],
          "histogram2d": [
           {
            "colorbar": {
             "outlinewidth": 0,
             "ticks": ""
            },
            "colorscale": [
             [
              0,
              "#0d0887"
             ],
             [
              0.1111111111111111,
              "#46039f"
             ],
             [
              0.2222222222222222,
              "#7201a8"
             ],
             [
              0.3333333333333333,
              "#9c179e"
             ],
             [
              0.4444444444444444,
              "#bd3786"
             ],
             [
              0.5555555555555556,
              "#d8576b"
             ],
             [
              0.6666666666666666,
              "#ed7953"
             ],
             [
              0.7777777777777778,
              "#fb9f3a"
             ],
             [
              0.8888888888888888,
              "#fdca26"
             ],
             [
              1,
              "#f0f921"
             ]
            ],
            "type": "histogram2d"
           }
          ],
          "histogram2dcontour": [
           {
            "colorbar": {
             "outlinewidth": 0,
             "ticks": ""
            },
            "colorscale": [
             [
              0,
              "#0d0887"
             ],
             [
              0.1111111111111111,
              "#46039f"
             ],
             [
              0.2222222222222222,
              "#7201a8"
             ],
             [
              0.3333333333333333,
              "#9c179e"
             ],
             [
              0.4444444444444444,
              "#bd3786"
             ],
             [
              0.5555555555555556,
              "#d8576b"
             ],
             [
              0.6666666666666666,
              "#ed7953"
             ],
             [
              0.7777777777777778,
              "#fb9f3a"
             ],
             [
              0.8888888888888888,
              "#fdca26"
             ],
             [
              1,
              "#f0f921"
             ]
            ],
            "type": "histogram2dcontour"
           }
          ],
          "mesh3d": [
           {
            "colorbar": {
             "outlinewidth": 0,
             "ticks": ""
            },
            "type": "mesh3d"
           }
          ],
          "parcoords": [
           {
            "line": {
             "colorbar": {
              "outlinewidth": 0,
              "ticks": ""
             }
            },
            "type": "parcoords"
           }
          ],
          "pie": [
           {
            "automargin": true,
            "type": "pie"
           }
          ],
          "scatter": [
           {
            "fillpattern": {
             "fillmode": "overlay",
             "size": 10,
             "solidity": 0.2
            },
            "type": "scatter"
           }
          ],
          "scatter3d": [
           {
            "line": {
             "colorbar": {
              "outlinewidth": 0,
              "ticks": ""
             }
            },
            "marker": {
             "colorbar": {
              "outlinewidth": 0,
              "ticks": ""
             }
            },
            "type": "scatter3d"
           }
          ],
          "scattercarpet": [
           {
            "marker": {
             "colorbar": {
              "outlinewidth": 0,
              "ticks": ""
             }
            },
            "type": "scattercarpet"
           }
          ],
          "scattergeo": [
           {
            "marker": {
             "colorbar": {
              "outlinewidth": 0,
              "ticks": ""
             }
            },
            "type": "scattergeo"
           }
          ],
          "scattergl": [
           {
            "marker": {
             "colorbar": {
              "outlinewidth": 0,
              "ticks": ""
             }
            },
            "type": "scattergl"
           }
          ],
          "scattermapbox": [
           {
            "marker": {
             "colorbar": {
              "outlinewidth": 0,
              "ticks": ""
             }
            },
            "type": "scattermapbox"
           }
          ],
          "scatterpolar": [
           {
            "marker": {
             "colorbar": {
              "outlinewidth": 0,
              "ticks": ""
             }
            },
            "type": "scatterpolar"
           }
          ],
          "scatterpolargl": [
           {
            "marker": {
             "colorbar": {
              "outlinewidth": 0,
              "ticks": ""
             }
            },
            "type": "scatterpolargl"
           }
          ],
          "scatterternary": [
           {
            "marker": {
             "colorbar": {
              "outlinewidth": 0,
              "ticks": ""
             }
            },
            "type": "scatterternary"
           }
          ],
          "surface": [
           {
            "colorbar": {
             "outlinewidth": 0,
             "ticks": ""
            },
            "colorscale": [
             [
              0,
              "#0d0887"
             ],
             [
              0.1111111111111111,
              "#46039f"
             ],
             [
              0.2222222222222222,
              "#7201a8"
             ],
             [
              0.3333333333333333,
              "#9c179e"
             ],
             [
              0.4444444444444444,
              "#bd3786"
             ],
             [
              0.5555555555555556,
              "#d8576b"
             ],
             [
              0.6666666666666666,
              "#ed7953"
             ],
             [
              0.7777777777777778,
              "#fb9f3a"
             ],
             [
              0.8888888888888888,
              "#fdca26"
             ],
             [
              1,
              "#f0f921"
             ]
            ],
            "type": "surface"
           }
          ],
          "table": [
           {
            "cells": {
             "fill": {
              "color": "#EBF0F8"
             },
             "line": {
              "color": "white"
             }
            },
            "header": {
             "fill": {
              "color": "#C8D4E3"
             },
             "line": {
              "color": "white"
             }
            },
            "type": "table"
           }
          ]
         },
         "layout": {
          "annotationdefaults": {
           "arrowcolor": "#2a3f5f",
           "arrowhead": 0,
           "arrowwidth": 1
          },
          "autotypenumbers": "strict",
          "coloraxis": {
           "colorbar": {
            "outlinewidth": 0,
            "ticks": ""
           }
          },
          "colorscale": {
           "diverging": [
            [
             0,
             "#8e0152"
            ],
            [
             0.1,
             "#c51b7d"
            ],
            [
             0.2,
             "#de77ae"
            ],
            [
             0.3,
             "#f1b6da"
            ],
            [
             0.4,
             "#fde0ef"
            ],
            [
             0.5,
             "#f7f7f7"
            ],
            [
             0.6,
             "#e6f5d0"
            ],
            [
             0.7,
             "#b8e186"
            ],
            [
             0.8,
             "#7fbc41"
            ],
            [
             0.9,
             "#4d9221"
            ],
            [
             1,
             "#276419"
            ]
           ],
           "sequential": [
            [
             0,
             "#0d0887"
            ],
            [
             0.1111111111111111,
             "#46039f"
            ],
            [
             0.2222222222222222,
             "#7201a8"
            ],
            [
             0.3333333333333333,
             "#9c179e"
            ],
            [
             0.4444444444444444,
             "#bd3786"
            ],
            [
             0.5555555555555556,
             "#d8576b"
            ],
            [
             0.6666666666666666,
             "#ed7953"
            ],
            [
             0.7777777777777778,
             "#fb9f3a"
            ],
            [
             0.8888888888888888,
             "#fdca26"
            ],
            [
             1,
             "#f0f921"
            ]
           ],
           "sequentialminus": [
            [
             0,
             "#0d0887"
            ],
            [
             0.1111111111111111,
             "#46039f"
            ],
            [
             0.2222222222222222,
             "#7201a8"
            ],
            [
             0.3333333333333333,
             "#9c179e"
            ],
            [
             0.4444444444444444,
             "#bd3786"
            ],
            [
             0.5555555555555556,
             "#d8576b"
            ],
            [
             0.6666666666666666,
             "#ed7953"
            ],
            [
             0.7777777777777778,
             "#fb9f3a"
            ],
            [
             0.8888888888888888,
             "#fdca26"
            ],
            [
             1,
             "#f0f921"
            ]
           ]
          },
          "colorway": [
           "#636efa",
           "#EF553B",
           "#00cc96",
           "#ab63fa",
           "#FFA15A",
           "#19d3f3",
           "#FF6692",
           "#B6E880",
           "#FF97FF",
           "#FECB52"
          ],
          "font": {
           "color": "#2a3f5f"
          },
          "geo": {
           "bgcolor": "white",
           "lakecolor": "white",
           "landcolor": "#E5ECF6",
           "showlakes": true,
           "showland": true,
           "subunitcolor": "white"
          },
          "hoverlabel": {
           "align": "left"
          },
          "hovermode": "closest",
          "mapbox": {
           "style": "light"
          },
          "paper_bgcolor": "white",
          "plot_bgcolor": "#E5ECF6",
          "polar": {
           "angularaxis": {
            "gridcolor": "white",
            "linecolor": "white",
            "ticks": ""
           },
           "bgcolor": "#E5ECF6",
           "radialaxis": {
            "gridcolor": "white",
            "linecolor": "white",
            "ticks": ""
           }
          },
          "scene": {
           "xaxis": {
            "backgroundcolor": "#E5ECF6",
            "gridcolor": "white",
            "gridwidth": 2,
            "linecolor": "white",
            "showbackground": true,
            "ticks": "",
            "zerolinecolor": "white"
           },
           "yaxis": {
            "backgroundcolor": "#E5ECF6",
            "gridcolor": "white",
            "gridwidth": 2,
            "linecolor": "white",
            "showbackground": true,
            "ticks": "",
            "zerolinecolor": "white"
           },
           "zaxis": {
            "backgroundcolor": "#E5ECF6",
            "gridcolor": "white",
            "gridwidth": 2,
            "linecolor": "white",
            "showbackground": true,
            "ticks": "",
            "zerolinecolor": "white"
           }
          },
          "shapedefaults": {
           "line": {
            "color": "#2a3f5f"
           }
          },
          "ternary": {
           "aaxis": {
            "gridcolor": "white",
            "linecolor": "white",
            "ticks": ""
           },
           "baxis": {
            "gridcolor": "white",
            "linecolor": "white",
            "ticks": ""
           },
           "bgcolor": "#E5ECF6",
           "caxis": {
            "gridcolor": "white",
            "linecolor": "white",
            "ticks": ""
           }
          },
          "title": {
           "x": 0.05
          },
          "xaxis": {
           "automargin": true,
           "gridcolor": "white",
           "linecolor": "white",
           "ticks": "",
           "title": {
            "standoff": 15
           },
           "zerolinecolor": "white",
           "zerolinewidth": 2
          },
          "yaxis": {
           "automargin": true,
           "gridcolor": "white",
           "linecolor": "white",
           "ticks": "",
           "title": {
            "standoff": 15
           },
           "zerolinecolor": "white",
           "zerolinewidth": 2
          }
         }
        },
        "title": {
         "text": "Label Distribution in each label",
         "x": 0.5
        },
        "width": 1024
       }
      }
     },
     "metadata": {},
     "output_type": "display_data"
    }
   ],
   "source": [
    "plot_alice_dis(alice_df)"
   ]
  },
  {
   "cell_type": "code",
   "execution_count": 28,
   "metadata": {},
   "outputs": [
    {
     "name": "stdout",
     "output_type": "stream",
     "text": [
      "Topics size of this dataframe is : 2149\n",
      "Getting Group by from dataframe\n"
     ]
    },
    {
     "data": {
      "application/vnd.jupyter.widget-view+json": {
       "model_id": "eece5ca9f37c4d408d940e99d6a8650e",
       "version_major": 2,
       "version_minor": 0
      },
      "text/plain": [
       "  0%|          | 0/126 [00:00<?, ?it/s]"
      ]
     },
     "metadata": {},
     "output_type": "display_data"
    },
    {
     "name": "stdout",
     "output_type": "stream",
     "text": [
      "Max sequence size of this dataframe is : 772369\n",
      "Apply Padding and Truncate 300.\n"
     ]
    },
    {
     "data": {
      "application/vnd.jupyter.widget-view+json": {
       "model_id": "56207be5890b4dcda7846c33bdd0dcfc",
       "version_major": 2,
       "version_minor": 0
      },
      "text/plain": [
       "  0%|          | 0/126 [00:00<?, ?it/s]"
      ]
     },
     "metadata": {},
     "output_type": "display_data"
    },
    {
     "name": "stdout",
     "output_type": "stream",
     "text": [
      "Updating Topic size of this dataframe to 2150.\n",
      "Updating sequence size of this dataframe to 300.\n",
      "Please call .get_PyG() to get PyG dataloader.\n"
     ]
    }
   ],
   "source": [
    "alice_data = LMAOGraph(df=pd.read_parquet('dataset/ALICE-OSLdataset/ALICE_info_no_severity_D_with_topic.parquet.gzip'),mode='pyg')"
   ]
  },
  {
   "cell_type": "code",
   "execution_count": 33,
   "metadata": {},
   "outputs": [
    {
     "data": {
      "text/plain": [
       "<lmao.graph.LMAOGraph at 0x34c8cffd0>"
      ]
     },
     "execution_count": 33,
     "metadata": {},
     "output_type": "execute_result"
    }
   ],
   "source": [
    "alice_data"
   ]
  },
  {
   "cell_type": "code",
   "execution_count": 14,
   "metadata": {},
   "outputs": [],
   "source": [
    "bgl_df = pd.read_csv('/Users/IsRealNPK/LMAO/dataset/BGL/bgl_data.csv', index_col=0)"
   ]
  },
  {
   "cell_type": "code",
   "execution_count": 15,
   "metadata": {},
   "outputs": [
    {
     "data": {
      "text/html": [
       "<div>\n",
       "<style scoped>\n",
       "    .dataframe tbody tr th:only-of-type {\n",
       "        vertical-align: middle;\n",
       "    }\n",
       "\n",
       "    .dataframe tbody tr th {\n",
       "        vertical-align: top;\n",
       "    }\n",
       "\n",
       "    .dataframe thead th {\n",
       "        text-align: right;\n",
       "    }\n",
       "</style>\n",
       "<table border=\"1\" class=\"dataframe\">\n",
       "  <thead>\n",
       "    <tr style=\"text-align: right;\">\n",
       "      <th></th>\n",
       "      <th>LineId</th>\n",
       "      <th>Node</th>\n",
       "      <th>Time</th>\n",
       "      <th>NodeRepeat</th>\n",
       "      <th>Type</th>\n",
       "      <th>Component</th>\n",
       "      <th>Level</th>\n",
       "      <th>Content</th>\n",
       "      <th>EventId</th>\n",
       "      <th>EventTemplate</th>\n",
       "      <th>ParameterList</th>\n",
       "      <th>Detection_Label</th>\n",
       "      <th>topics</th>\n",
       "    </tr>\n",
       "  </thead>\n",
       "  <tbody>\n",
       "    <tr>\n",
       "      <th>87103</th>\n",
       "      <td>87104</td>\n",
       "      <td>R34-M1-NE-C:J03-U01</td>\n",
       "      <td>2005-06-05-09.03.16.603470</td>\n",
       "      <td>R34-M1-NE-C:J03-U01</td>\n",
       "      <td>RAS</td>\n",
       "      <td>KERNEL</td>\n",
       "      <td>INFO</td>\n",
       "      <td>generating core.6487</td>\n",
       "      <td>070de4aa</td>\n",
       "      <td>generating &lt;*&gt;</td>\n",
       "      <td>['core.6487']</td>\n",
       "      <td>Normal</td>\n",
       "      <td>1702</td>\n",
       "    </tr>\n",
       "    <tr>\n",
       "      <th>393711</th>\n",
       "      <td>393712</td>\n",
       "      <td>R01-M0-NE-C:J04-U11</td>\n",
       "      <td>2005-06-13-17.41.51.095476</td>\n",
       "      <td>R01-M0-NE-C:J04-U11</td>\n",
       "      <td>RAS</td>\n",
       "      <td>KERNEL</td>\n",
       "      <td>FATAL</td>\n",
       "      <td>data storage interrupt</td>\n",
       "      <td>d2c9db9b</td>\n",
       "      <td>data storage interrupt</td>\n",
       "      <td>[]</td>\n",
       "      <td>Anomaly</td>\n",
       "      <td>2610</td>\n",
       "    </tr>\n",
       "    <tr>\n",
       "      <th>412510</th>\n",
       "      <td>412511</td>\n",
       "      <td>R14-M1-N0-C:J11-U01</td>\n",
       "      <td>2005-06-13-17.51.49.781756</td>\n",
       "      <td>R14-M1-N0-C:J11-U01</td>\n",
       "      <td>RAS</td>\n",
       "      <td>KERNEL</td>\n",
       "      <td>FATAL</td>\n",
       "      <td>instruction address: 0x00004ed8</td>\n",
       "      <td>a31b789f</td>\n",
       "      <td>instruction address: &lt;*&gt;</td>\n",
       "      <td>['0x00004ed8']</td>\n",
       "      <td>Normal</td>\n",
       "      <td>134</td>\n",
       "    </tr>\n",
       "    <tr>\n",
       "      <th>1598860</th>\n",
       "      <td>1598861</td>\n",
       "      <td>R25-M1-N0-C:J02-U01</td>\n",
       "      <td>2005-07-09-08.41.10.956276</td>\n",
       "      <td>R25-M1-N0-C:J02-U01</td>\n",
       "      <td>RAS</td>\n",
       "      <td>KERNEL</td>\n",
       "      <td>INFO</td>\n",
       "      <td>generating core.7887</td>\n",
       "      <td>070de4aa</td>\n",
       "      <td>generating &lt;*&gt;</td>\n",
       "      <td>['core.7887']</td>\n",
       "      <td>Normal</td>\n",
       "      <td>1634</td>\n",
       "    </tr>\n",
       "    <tr>\n",
       "      <th>2794429</th>\n",
       "      <td>2794430</td>\n",
       "      <td>R26-M1-N3-C:J12-U11</td>\n",
       "      <td>2005-07-28-11.09.08.125750</td>\n",
       "      <td>R26-M1-N3-C:J12-U11</td>\n",
       "      <td>RAS</td>\n",
       "      <td>KERNEL</td>\n",
       "      <td>INFO</td>\n",
       "      <td>generating core.2393</td>\n",
       "      <td>070de4aa</td>\n",
       "      <td>generating &lt;*&gt;</td>\n",
       "      <td>['core.2393']</td>\n",
       "      <td>Normal</td>\n",
       "      <td>347</td>\n",
       "    </tr>\n",
       "  </tbody>\n",
       "</table>\n",
       "</div>"
      ],
      "text/plain": [
       "          LineId                 Node                        Time  \\\n",
       "87103      87104  R34-M1-NE-C:J03-U01  2005-06-05-09.03.16.603470   \n",
       "393711    393712  R01-M0-NE-C:J04-U11  2005-06-13-17.41.51.095476   \n",
       "412510    412511  R14-M1-N0-C:J11-U01  2005-06-13-17.51.49.781756   \n",
       "1598860  1598861  R25-M1-N0-C:J02-U01  2005-07-09-08.41.10.956276   \n",
       "2794429  2794430  R26-M1-N3-C:J12-U11  2005-07-28-11.09.08.125750   \n",
       "\n",
       "                  NodeRepeat Type Component  Level  \\\n",
       "87103    R34-M1-NE-C:J03-U01  RAS    KERNEL   INFO   \n",
       "393711   R01-M0-NE-C:J04-U11  RAS    KERNEL  FATAL   \n",
       "412510   R14-M1-N0-C:J11-U01  RAS    KERNEL  FATAL   \n",
       "1598860  R25-M1-N0-C:J02-U01  RAS    KERNEL   INFO   \n",
       "2794429  R26-M1-N3-C:J12-U11  RAS    KERNEL   INFO   \n",
       "\n",
       "                                 Content   EventId             EventTemplate  \\\n",
       "87103               generating core.6487  070de4aa            generating <*>   \n",
       "393711            data storage interrupt  d2c9db9b    data storage interrupt   \n",
       "412510   instruction address: 0x00004ed8  a31b789f  instruction address: <*>   \n",
       "1598860             generating core.7887  070de4aa            generating <*>   \n",
       "2794429             generating core.2393  070de4aa            generating <*>   \n",
       "\n",
       "          ParameterList Detection_Label  topics  \n",
       "87103     ['core.6487']          Normal    1702  \n",
       "393711               []         Anomaly    2610  \n",
       "412510   ['0x00004ed8']          Normal     134  \n",
       "1598860   ['core.7887']          Normal    1634  \n",
       "2794429   ['core.2393']          Normal     347  "
      ]
     },
     "execution_count": 15,
     "metadata": {},
     "output_type": "execute_result"
    }
   ],
   "source": [
    "bgl_df.sample(5).drop(columns=['Label', 'Date', 'Timestamp']).sort_index()"
   ]
  },
  {
   "cell_type": "code",
   "execution_count": 16,
   "metadata": {},
   "outputs": [
    {
     "data": {
      "text/plain": [
       "Index(['LineId', 'Label', 'Timestamp', 'Date', 'Node', 'Time', 'NodeRepeat',\n",
       "       'Type', 'Component', 'Level', 'Content', 'EventId', 'EventTemplate',\n",
       "       'ParameterList', 'Detection_Label', 'topics'],\n",
       "      dtype='object')"
      ]
     },
     "execution_count": 16,
     "metadata": {},
     "output_type": "execute_result"
    }
   ],
   "source": [
    "bgl_df.columns"
   ]
  },
  {
   "cell_type": "code",
   "execution_count": 17,
   "metadata": {},
   "outputs": [],
   "source": [
    "bgl_df = pd.DataFrame({'session_id':bgl_df.Node,\n",
    "                       'severity':bgl_df.Level,\n",
    "                       'content':bgl_df.Content,\n",
    "                       'event_id':bgl_df.EventId,\n",
    "                       'event_template':bgl_df.EventTemplate,\n",
    "                       'label':bgl_df.Detection_Label, \n",
    "                       'topic':bgl_df.topics, })"
   ]
  },
  {
   "cell_type": "code",
   "execution_count": 19,
   "metadata": {},
   "outputs": [
    {
     "data": {
      "text/html": [
       "<div>\n",
       "<style scoped>\n",
       "    .dataframe tbody tr th:only-of-type {\n",
       "        vertical-align: middle;\n",
       "    }\n",
       "\n",
       "    .dataframe tbody tr th {\n",
       "        vertical-align: top;\n",
       "    }\n",
       "\n",
       "    .dataframe thead th {\n",
       "        text-align: right;\n",
       "    }\n",
       "</style>\n",
       "<table border=\"1\" class=\"dataframe\">\n",
       "  <thead>\n",
       "    <tr style=\"text-align: right;\">\n",
       "      <th></th>\n",
       "      <th>session_id</th>\n",
       "      <th>severity</th>\n",
       "      <th>content</th>\n",
       "      <th>event_id</th>\n",
       "      <th>event_template</th>\n",
       "      <th>label</th>\n",
       "      <th>topic</th>\n",
       "    </tr>\n",
       "  </thead>\n",
       "  <tbody>\n",
       "    <tr>\n",
       "      <th>0</th>\n",
       "      <td>R02-M1-N0-C:J12-U11</td>\n",
       "      <td>INFO</td>\n",
       "      <td>instruction cache parity error corrected</td>\n",
       "      <td>3aa50e45</td>\n",
       "      <td>instruction cache parity error corrected</td>\n",
       "      <td>Normal</td>\n",
       "      <td>0</td>\n",
       "    </tr>\n",
       "    <tr>\n",
       "      <th>1</th>\n",
       "      <td>R02-M1-N0-C:J12-U11</td>\n",
       "      <td>INFO</td>\n",
       "      <td>instruction cache parity error corrected</td>\n",
       "      <td>3aa50e45</td>\n",
       "      <td>instruction cache parity error corrected</td>\n",
       "      <td>Normal</td>\n",
       "      <td>0</td>\n",
       "    </tr>\n",
       "    <tr>\n",
       "      <th>2</th>\n",
       "      <td>R02-M1-N0-C:J12-U11</td>\n",
       "      <td>INFO</td>\n",
       "      <td>instruction cache parity error corrected</td>\n",
       "      <td>3aa50e45</td>\n",
       "      <td>instruction cache parity error corrected</td>\n",
       "      <td>Normal</td>\n",
       "      <td>0</td>\n",
       "    </tr>\n",
       "    <tr>\n",
       "      <th>3</th>\n",
       "      <td>R02-M1-N0-C:J12-U11</td>\n",
       "      <td>INFO</td>\n",
       "      <td>instruction cache parity error corrected</td>\n",
       "      <td>3aa50e45</td>\n",
       "      <td>instruction cache parity error corrected</td>\n",
       "      <td>Normal</td>\n",
       "      <td>0</td>\n",
       "    </tr>\n",
       "    <tr>\n",
       "      <th>4</th>\n",
       "      <td>R02-M1-N0-C:J12-U11</td>\n",
       "      <td>INFO</td>\n",
       "      <td>instruction cache parity error corrected</td>\n",
       "      <td>3aa50e45</td>\n",
       "      <td>instruction cache parity error corrected</td>\n",
       "      <td>Normal</td>\n",
       "      <td>0</td>\n",
       "    </tr>\n",
       "    <tr>\n",
       "      <th>...</th>\n",
       "      <td>...</td>\n",
       "      <td>...</td>\n",
       "      <td>...</td>\n",
       "      <td>...</td>\n",
       "      <td>...</td>\n",
       "      <td>...</td>\n",
       "      <td>...</td>\n",
       "    </tr>\n",
       "    <tr>\n",
       "      <th>4188772</th>\n",
       "      <td>R55-M0-N9-C:J06-U11</td>\n",
       "      <td>INFO</td>\n",
       "      <td>1 torus receiver z- input pipe error(s) (dcr 0...</td>\n",
       "      <td>7a03d1e9</td>\n",
       "      <td>&lt;*&gt; torus receiver &lt;*&gt; input pipe error(s) (dc...</td>\n",
       "      <td>Normal</td>\n",
       "      <td>2553</td>\n",
       "    </tr>\n",
       "    <tr>\n",
       "      <th>4188773</th>\n",
       "      <td>R55-M0-N9-C:J06-U11</td>\n",
       "      <td>INFO</td>\n",
       "      <td>1 tree receiver 1 in re-synch state event(s) (...</td>\n",
       "      <td>f0c191b1</td>\n",
       "      <td>&lt;*&gt; tree receiver &lt;*&gt; in re-synch state event(...</td>\n",
       "      <td>Normal</td>\n",
       "      <td>2563</td>\n",
       "    </tr>\n",
       "    <tr>\n",
       "      <th>4188774</th>\n",
       "      <td>R55-M0-N9-C:J06-U11</td>\n",
       "      <td>INFO</td>\n",
       "      <td>1 tree receiver 2 in re-synch state event(s) (...</td>\n",
       "      <td>f0c191b1</td>\n",
       "      <td>&lt;*&gt; tree receiver &lt;*&gt; in re-synch state event(...</td>\n",
       "      <td>Normal</td>\n",
       "      <td>2563</td>\n",
       "    </tr>\n",
       "    <tr>\n",
       "      <th>4188775</th>\n",
       "      <td>R03-M1-NC</td>\n",
       "      <td>FAILURE</td>\n",
       "      <td>power module status fault detected on node car...</td>\n",
       "      <td>528fdcdf</td>\n",
       "      <td>power module status fault detected on node car...</td>\n",
       "      <td>Anomaly</td>\n",
       "      <td>3846</td>\n",
       "    </tr>\n",
       "    <tr>\n",
       "      <th>4188776</th>\n",
       "      <td>R07-M1-NE</td>\n",
       "      <td>FAILURE</td>\n",
       "      <td>power module status fault detected on node car...</td>\n",
       "      <td>528fdcdf</td>\n",
       "      <td>power module status fault detected on node car...</td>\n",
       "      <td>Anomaly</td>\n",
       "      <td>3846</td>\n",
       "    </tr>\n",
       "  </tbody>\n",
       "</table>\n",
       "<p>4188777 rows × 7 columns</p>\n",
       "</div>"
      ],
      "text/plain": [
       "                  session_id severity  \\\n",
       "0        R02-M1-N0-C:J12-U11     INFO   \n",
       "1        R02-M1-N0-C:J12-U11     INFO   \n",
       "2        R02-M1-N0-C:J12-U11     INFO   \n",
       "3        R02-M1-N0-C:J12-U11     INFO   \n",
       "4        R02-M1-N0-C:J12-U11     INFO   \n",
       "...                      ...      ...   \n",
       "4188772  R55-M0-N9-C:J06-U11     INFO   \n",
       "4188773  R55-M0-N9-C:J06-U11     INFO   \n",
       "4188774  R55-M0-N9-C:J06-U11     INFO   \n",
       "4188775            R03-M1-NC  FAILURE   \n",
       "4188776            R07-M1-NE  FAILURE   \n",
       "\n",
       "                                                   content  event_id  \\\n",
       "0                 instruction cache parity error corrected  3aa50e45   \n",
       "1                 instruction cache parity error corrected  3aa50e45   \n",
       "2                 instruction cache parity error corrected  3aa50e45   \n",
       "3                 instruction cache parity error corrected  3aa50e45   \n",
       "4                 instruction cache parity error corrected  3aa50e45   \n",
       "...                                                    ...       ...   \n",
       "4188772  1 torus receiver z- input pipe error(s) (dcr 0...  7a03d1e9   \n",
       "4188773  1 tree receiver 1 in re-synch state event(s) (...  f0c191b1   \n",
       "4188774  1 tree receiver 2 in re-synch state event(s) (...  f0c191b1   \n",
       "4188775  power module status fault detected on node car...  528fdcdf   \n",
       "4188776  power module status fault detected on node car...  528fdcdf   \n",
       "\n",
       "                                            event_template    label  topic  \n",
       "0                 instruction cache parity error corrected   Normal      0  \n",
       "1                 instruction cache parity error corrected   Normal      0  \n",
       "2                 instruction cache parity error corrected   Normal      0  \n",
       "3                 instruction cache parity error corrected   Normal      0  \n",
       "4                 instruction cache parity error corrected   Normal      0  \n",
       "...                                                    ...      ...    ...  \n",
       "4188772  <*> torus receiver <*> input pipe error(s) (dc...   Normal   2553  \n",
       "4188773  <*> tree receiver <*> in re-synch state event(...   Normal   2563  \n",
       "4188774  <*> tree receiver <*> in re-synch state event(...   Normal   2563  \n",
       "4188775  power module status fault detected on node car...  Anomaly   3846  \n",
       "4188776  power module status fault detected on node car...  Anomaly   3846  \n",
       "\n",
       "[4188777 rows x 7 columns]"
      ]
     },
     "execution_count": 19,
     "metadata": {},
     "output_type": "execute_result"
    }
   ],
   "source": [
    "bgl_df"
   ]
  },
  {
   "cell_type": "code",
   "execution_count": 18,
   "metadata": {},
   "outputs": [
    {
     "name": "stdout",
     "output_type": "stream",
     "text": [
      "Topics size of this dataframe is : 5151\n",
      "Getting Group by from dataframe\n"
     ]
    },
    {
     "data": {
      "application/vnd.jupyter.widget-view+json": {
       "model_id": "c1de478c55fd4ed483181ef7e15f6139",
       "version_major": 2,
       "version_minor": 0
      },
      "text/plain": [
       "  0%|          | 0/69226 [00:00<?, ?it/s]"
      ]
     },
     "metadata": {},
     "output_type": "display_data"
    },
    {
     "name": "stdout",
     "output_type": "stream",
     "text": [
      "Max sequence size of this dataframe is : 152324\n",
      "Apply Padding and Truncate 300.\n"
     ]
    },
    {
     "data": {
      "application/vnd.jupyter.widget-view+json": {
       "model_id": "daa4679c3f2548ecbf6e7fdae96ffdb1",
       "version_major": 2,
       "version_minor": 0
      },
      "text/plain": [
       "  0%|          | 0/69226 [00:00<?, ?it/s]"
      ]
     },
     "metadata": {},
     "output_type": "display_data"
    },
    {
     "name": "stdout",
     "output_type": "stream",
     "text": [
      "Updating Topic size of this dataframe to 5152.\n",
      "Updating sequence size of this dataframe to 300.\n",
      "Please call .get_PyG() to get PyG dataloader.\n"
     ]
    }
   ],
   "source": [
    "bgl_data = LMAOGraph(df=bgl_df,mode='pyg')"
   ]
  },
  {
   "cell_type": "code",
   "execution_count": 9,
   "metadata": {},
   "outputs": [],
   "source": [
    "hdfs = hdfs_data.df.y.value_counts()"
   ]
  },
  {
   "cell_type": "code",
   "execution_count": 10,
   "metadata": {},
   "outputs": [],
   "source": [
    "alice = alice_data.df.y.value_counts()"
   ]
  },
  {
   "cell_type": "code",
   "execution_count": 11,
   "metadata": {},
   "outputs": [],
   "source": [
    "bgl = bgl_data.df.y.value_counts()"
   ]
  },
  {
   "cell_type": "code",
   "execution_count": 12,
   "metadata": {},
   "outputs": [
    {
     "data": {
      "application/vnd.plotly.v1+json": {
       "config": {
        "plotlyServerURL": "https://plot.ly"
       },
       "data": [
        {
         "name": "alice infologger",
         "text": [
          69,
          57
         ],
         "type": "bar",
         "x": [
          "not crashed",
          "crashed"
         ],
         "xaxis": "x",
         "y": [
          69,
          57
         ],
         "yaxis": "y"
        },
        {
         "name": "hdfs",
         "text": [
          558223,
          16838
         ],
         "type": "bar",
         "x": [
          "Normal",
          "Anomaly"
         ],
         "xaxis": "x2",
         "y": [
          558223,
          16838
         ],
         "yaxis": "y2"
        },
        {
         "name": "bgl",
         "text": [
          63547,
          5679
         ],
         "type": "bar",
         "x": [
          "Normal",
          "Anomaly"
         ],
         "xaxis": "x3",
         "y": [
          63547,
          5679
         ],
         "yaxis": "y3"
        }
       ],
       "layout": {
        "height": 480,
        "template": {
         "data": {
          "bar": [
           {
            "error_x": {
             "color": "#2a3f5f"
            },
            "error_y": {
             "color": "#2a3f5f"
            },
            "marker": {
             "line": {
              "color": "#E5ECF6",
              "width": 0.5
             },
             "pattern": {
              "fillmode": "overlay",
              "size": 10,
              "solidity": 0.2
             }
            },
            "type": "bar"
           }
          ],
          "barpolar": [
           {
            "marker": {
             "line": {
              "color": "#E5ECF6",
              "width": 0.5
             },
             "pattern": {
              "fillmode": "overlay",
              "size": 10,
              "solidity": 0.2
             }
            },
            "type": "barpolar"
           }
          ],
          "carpet": [
           {
            "aaxis": {
             "endlinecolor": "#2a3f5f",
             "gridcolor": "white",
             "linecolor": "white",
             "minorgridcolor": "white",
             "startlinecolor": "#2a3f5f"
            },
            "baxis": {
             "endlinecolor": "#2a3f5f",
             "gridcolor": "white",
             "linecolor": "white",
             "minorgridcolor": "white",
             "startlinecolor": "#2a3f5f"
            },
            "type": "carpet"
           }
          ],
          "choropleth": [
           {
            "colorbar": {
             "outlinewidth": 0,
             "ticks": ""
            },
            "type": "choropleth"
           }
          ],
          "contour": [
           {
            "colorbar": {
             "outlinewidth": 0,
             "ticks": ""
            },
            "colorscale": [
             [
              0,
              "#0d0887"
             ],
             [
              0.1111111111111111,
              "#46039f"
             ],
             [
              0.2222222222222222,
              "#7201a8"
             ],
             [
              0.3333333333333333,
              "#9c179e"
             ],
             [
              0.4444444444444444,
              "#bd3786"
             ],
             [
              0.5555555555555556,
              "#d8576b"
             ],
             [
              0.6666666666666666,
              "#ed7953"
             ],
             [
              0.7777777777777778,
              "#fb9f3a"
             ],
             [
              0.8888888888888888,
              "#fdca26"
             ],
             [
              1,
              "#f0f921"
             ]
            ],
            "type": "contour"
           }
          ],
          "contourcarpet": [
           {
            "colorbar": {
             "outlinewidth": 0,
             "ticks": ""
            },
            "type": "contourcarpet"
           }
          ],
          "heatmap": [
           {
            "colorbar": {
             "outlinewidth": 0,
             "ticks": ""
            },
            "colorscale": [
             [
              0,
              "#0d0887"
             ],
             [
              0.1111111111111111,
              "#46039f"
             ],
             [
              0.2222222222222222,
              "#7201a8"
             ],
             [
              0.3333333333333333,
              "#9c179e"
             ],
             [
              0.4444444444444444,
              "#bd3786"
             ],
             [
              0.5555555555555556,
              "#d8576b"
             ],
             [
              0.6666666666666666,
              "#ed7953"
             ],
             [
              0.7777777777777778,
              "#fb9f3a"
             ],
             [
              0.8888888888888888,
              "#fdca26"
             ],
             [
              1,
              "#f0f921"
             ]
            ],
            "type": "heatmap"
           }
          ],
          "heatmapgl": [
           {
            "colorbar": {
             "outlinewidth": 0,
             "ticks": ""
            },
            "colorscale": [
             [
              0,
              "#0d0887"
             ],
             [
              0.1111111111111111,
              "#46039f"
             ],
             [
              0.2222222222222222,
              "#7201a8"
             ],
             [
              0.3333333333333333,
              "#9c179e"
             ],
             [
              0.4444444444444444,
              "#bd3786"
             ],
             [
              0.5555555555555556,
              "#d8576b"
             ],
             [
              0.6666666666666666,
              "#ed7953"
             ],
             [
              0.7777777777777778,
              "#fb9f3a"
             ],
             [
              0.8888888888888888,
              "#fdca26"
             ],
             [
              1,
              "#f0f921"
             ]
            ],
            "type": "heatmapgl"
           }
          ],
          "histogram": [
           {
            "marker": {
             "pattern": {
              "fillmode": "overlay",
              "size": 10,
              "solidity": 0.2
             }
            },
            "type": "histogram"
           }
          ],
          "histogram2d": [
           {
            "colorbar": {
             "outlinewidth": 0,
             "ticks": ""
            },
            "colorscale": [
             [
              0,
              "#0d0887"
             ],
             [
              0.1111111111111111,
              "#46039f"
             ],
             [
              0.2222222222222222,
              "#7201a8"
             ],
             [
              0.3333333333333333,
              "#9c179e"
             ],
             [
              0.4444444444444444,
              "#bd3786"
             ],
             [
              0.5555555555555556,
              "#d8576b"
             ],
             [
              0.6666666666666666,
              "#ed7953"
             ],
             [
              0.7777777777777778,
              "#fb9f3a"
             ],
             [
              0.8888888888888888,
              "#fdca26"
             ],
             [
              1,
              "#f0f921"
             ]
            ],
            "type": "histogram2d"
           }
          ],
          "histogram2dcontour": [
           {
            "colorbar": {
             "outlinewidth": 0,
             "ticks": ""
            },
            "colorscale": [
             [
              0,
              "#0d0887"
             ],
             [
              0.1111111111111111,
              "#46039f"
             ],
             [
              0.2222222222222222,
              "#7201a8"
             ],
             [
              0.3333333333333333,
              "#9c179e"
             ],
             [
              0.4444444444444444,
              "#bd3786"
             ],
             [
              0.5555555555555556,
              "#d8576b"
             ],
             [
              0.6666666666666666,
              "#ed7953"
             ],
             [
              0.7777777777777778,
              "#fb9f3a"
             ],
             [
              0.8888888888888888,
              "#fdca26"
             ],
             [
              1,
              "#f0f921"
             ]
            ],
            "type": "histogram2dcontour"
           }
          ],
          "mesh3d": [
           {
            "colorbar": {
             "outlinewidth": 0,
             "ticks": ""
            },
            "type": "mesh3d"
           }
          ],
          "parcoords": [
           {
            "line": {
             "colorbar": {
              "outlinewidth": 0,
              "ticks": ""
             }
            },
            "type": "parcoords"
           }
          ],
          "pie": [
           {
            "automargin": true,
            "type": "pie"
           }
          ],
          "scatter": [
           {
            "fillpattern": {
             "fillmode": "overlay",
             "size": 10,
             "solidity": 0.2
            },
            "type": "scatter"
           }
          ],
          "scatter3d": [
           {
            "line": {
             "colorbar": {
              "outlinewidth": 0,
              "ticks": ""
             }
            },
            "marker": {
             "colorbar": {
              "outlinewidth": 0,
              "ticks": ""
             }
            },
            "type": "scatter3d"
           }
          ],
          "scattercarpet": [
           {
            "marker": {
             "colorbar": {
              "outlinewidth": 0,
              "ticks": ""
             }
            },
            "type": "scattercarpet"
           }
          ],
          "scattergeo": [
           {
            "marker": {
             "colorbar": {
              "outlinewidth": 0,
              "ticks": ""
             }
            },
            "type": "scattergeo"
           }
          ],
          "scattergl": [
           {
            "marker": {
             "colorbar": {
              "outlinewidth": 0,
              "ticks": ""
             }
            },
            "type": "scattergl"
           }
          ],
          "scattermapbox": [
           {
            "marker": {
             "colorbar": {
              "outlinewidth": 0,
              "ticks": ""
             }
            },
            "type": "scattermapbox"
           }
          ],
          "scatterpolar": [
           {
            "marker": {
             "colorbar": {
              "outlinewidth": 0,
              "ticks": ""
             }
            },
            "type": "scatterpolar"
           }
          ],
          "scatterpolargl": [
           {
            "marker": {
             "colorbar": {
              "outlinewidth": 0,
              "ticks": ""
             }
            },
            "type": "scatterpolargl"
           }
          ],
          "scatterternary": [
           {
            "marker": {
             "colorbar": {
              "outlinewidth": 0,
              "ticks": ""
             }
            },
            "type": "scatterternary"
           }
          ],
          "surface": [
           {
            "colorbar": {
             "outlinewidth": 0,
             "ticks": ""
            },
            "colorscale": [
             [
              0,
              "#0d0887"
             ],
             [
              0.1111111111111111,
              "#46039f"
             ],
             [
              0.2222222222222222,
              "#7201a8"
             ],
             [
              0.3333333333333333,
              "#9c179e"
             ],
             [
              0.4444444444444444,
              "#bd3786"
             ],
             [
              0.5555555555555556,
              "#d8576b"
             ],
             [
              0.6666666666666666,
              "#ed7953"
             ],
             [
              0.7777777777777778,
              "#fb9f3a"
             ],
             [
              0.8888888888888888,
              "#fdca26"
             ],
             [
              1,
              "#f0f921"
             ]
            ],
            "type": "surface"
           }
          ],
          "table": [
           {
            "cells": {
             "fill": {
              "color": "#EBF0F8"
             },
             "line": {
              "color": "white"
             }
            },
            "header": {
             "fill": {
              "color": "#C8D4E3"
             },
             "line": {
              "color": "white"
             }
            },
            "type": "table"
           }
          ]
         },
         "layout": {
          "annotationdefaults": {
           "arrowcolor": "#2a3f5f",
           "arrowhead": 0,
           "arrowwidth": 1
          },
          "autotypenumbers": "strict",
          "coloraxis": {
           "colorbar": {
            "outlinewidth": 0,
            "ticks": ""
           }
          },
          "colorscale": {
           "diverging": [
            [
             0,
             "#8e0152"
            ],
            [
             0.1,
             "#c51b7d"
            ],
            [
             0.2,
             "#de77ae"
            ],
            [
             0.3,
             "#f1b6da"
            ],
            [
             0.4,
             "#fde0ef"
            ],
            [
             0.5,
             "#f7f7f7"
            ],
            [
             0.6,
             "#e6f5d0"
            ],
            [
             0.7,
             "#b8e186"
            ],
            [
             0.8,
             "#7fbc41"
            ],
            [
             0.9,
             "#4d9221"
            ],
            [
             1,
             "#276419"
            ]
           ],
           "sequential": [
            [
             0,
             "#0d0887"
            ],
            [
             0.1111111111111111,
             "#46039f"
            ],
            [
             0.2222222222222222,
             "#7201a8"
            ],
            [
             0.3333333333333333,
             "#9c179e"
            ],
            [
             0.4444444444444444,
             "#bd3786"
            ],
            [
             0.5555555555555556,
             "#d8576b"
            ],
            [
             0.6666666666666666,
             "#ed7953"
            ],
            [
             0.7777777777777778,
             "#fb9f3a"
            ],
            [
             0.8888888888888888,
             "#fdca26"
            ],
            [
             1,
             "#f0f921"
            ]
           ],
           "sequentialminus": [
            [
             0,
             "#0d0887"
            ],
            [
             0.1111111111111111,
             "#46039f"
            ],
            [
             0.2222222222222222,
             "#7201a8"
            ],
            [
             0.3333333333333333,
             "#9c179e"
            ],
            [
             0.4444444444444444,
             "#bd3786"
            ],
            [
             0.5555555555555556,
             "#d8576b"
            ],
            [
             0.6666666666666666,
             "#ed7953"
            ],
            [
             0.7777777777777778,
             "#fb9f3a"
            ],
            [
             0.8888888888888888,
             "#fdca26"
            ],
            [
             1,
             "#f0f921"
            ]
           ]
          },
          "colorway": [
           "#636efa",
           "#EF553B",
           "#00cc96",
           "#ab63fa",
           "#FFA15A",
           "#19d3f3",
           "#FF6692",
           "#B6E880",
           "#FF97FF",
           "#FECB52"
          ],
          "font": {
           "color": "#2a3f5f"
          },
          "geo": {
           "bgcolor": "white",
           "lakecolor": "white",
           "landcolor": "#E5ECF6",
           "showlakes": true,
           "showland": true,
           "subunitcolor": "white"
          },
          "hoverlabel": {
           "align": "left"
          },
          "hovermode": "closest",
          "mapbox": {
           "style": "light"
          },
          "paper_bgcolor": "white",
          "plot_bgcolor": "#E5ECF6",
          "polar": {
           "angularaxis": {
            "gridcolor": "white",
            "linecolor": "white",
            "ticks": ""
           },
           "bgcolor": "#E5ECF6",
           "radialaxis": {
            "gridcolor": "white",
            "linecolor": "white",
            "ticks": ""
           }
          },
          "scene": {
           "xaxis": {
            "backgroundcolor": "#E5ECF6",
            "gridcolor": "white",
            "gridwidth": 2,
            "linecolor": "white",
            "showbackground": true,
            "ticks": "",
            "zerolinecolor": "white"
           },
           "yaxis": {
            "backgroundcolor": "#E5ECF6",
            "gridcolor": "white",
            "gridwidth": 2,
            "linecolor": "white",
            "showbackground": true,
            "ticks": "",
            "zerolinecolor": "white"
           },
           "zaxis": {
            "backgroundcolor": "#E5ECF6",
            "gridcolor": "white",
            "gridwidth": 2,
            "linecolor": "white",
            "showbackground": true,
            "ticks": "",
            "zerolinecolor": "white"
           }
          },
          "shapedefaults": {
           "line": {
            "color": "#2a3f5f"
           }
          },
          "ternary": {
           "aaxis": {
            "gridcolor": "white",
            "linecolor": "white",
            "ticks": ""
           },
           "baxis": {
            "gridcolor": "white",
            "linecolor": "white",
            "ticks": ""
           },
           "bgcolor": "#E5ECF6",
           "caxis": {
            "gridcolor": "white",
            "linecolor": "white",
            "ticks": ""
           }
          },
          "title": {
           "x": 0.05
          },
          "xaxis": {
           "automargin": true,
           "gridcolor": "white",
           "linecolor": "white",
           "ticks": "",
           "title": {
            "standoff": 15
           },
           "zerolinecolor": "white",
           "zerolinewidth": 2
          },
          "yaxis": {
           "automargin": true,
           "gridcolor": "white",
           "linecolor": "white",
           "ticks": "",
           "title": {
            "standoff": 15
           },
           "zerolinecolor": "white",
           "zerolinewidth": 2
          }
         }
        },
        "title": {
         "text": "Label Distribution in each dataset",
         "x": 0.5
        },
        "width": 640,
        "xaxis": {
         "anchor": "y",
         "domain": [
          0,
          0.2888888888888889
         ]
        },
        "xaxis2": {
         "anchor": "y2",
         "domain": [
          0.35555555555555557,
          0.6444444444444445
         ]
        },
        "xaxis3": {
         "anchor": "y3",
         "domain": [
          0.7111111111111111,
          1
         ]
        },
        "yaxis": {
         "anchor": "x",
         "domain": [
          0,
          1
         ]
        },
        "yaxis2": {
         "anchor": "x2",
         "domain": [
          0,
          1
         ]
        },
        "yaxis3": {
         "anchor": "x3",
         "domain": [
          0,
          1
         ]
        }
       }
      }
     },
     "metadata": {},
     "output_type": "display_data"
    }
   ],
   "source": [
    "import plotly.graph_objects as go\n",
    "from plotly.subplots import make_subplots\n",
    "fig = make_subplots(rows=1, cols=3, shared_yaxes=False)\n",
    "\n",
    "fig.add_trace(go.Bar(name='alice infologger', x=alice.index, y=alice, text=alice.values), 1, 1)\n",
    "fig.add_trace(go.Bar(name='hdfs', x=hdfs.index, y=hdfs.values, text=hdfs.values), 1, 2)\n",
    "fig.add_trace(go.Bar(name='bgl', x=bgl.index, y=bgl.values, text=bgl.values), 1, 3)\n",
    "# Change the bar mode\n",
    "fig.update_layout(\n",
    "    title_text='Label Distribution in each dataset',\n",
    "    title_x=0.5,\n",
    "    width=640,\n",
    "    height=480,\n",
    "    \n",
    ")\n",
    "fig.show()"
   ]
  },
  {
   "cell_type": "code",
   "execution_count": 26,
   "metadata": {},
   "outputs": [],
   "source": [
    "# data.get_PyG(one_hot=True)"
   ]
  },
  {
   "cell_type": "code",
   "execution_count": 8,
   "metadata": {},
   "outputs": [],
   "source": [
    "G = hdfs_data.get_one_graph(0)"
   ]
  },
  {
   "cell_type": "code",
   "execution_count": 9,
   "metadata": {},
   "outputs": [],
   "source": [
    "from lmao.visualizer.plot import plotly_digraph"
   ]
  },
  {
   "cell_type": "code",
   "execution_count": 11,
   "metadata": {},
   "outputs": [
    {
     "data": {
      "application/vnd.plotly.v1+json": {
       "config": {
        "plotlyServerURL": "https://plot.ly"
       },
       "data": [
        {
         "hoverinfo": "none",
         "marker": {
          "angleref": "previous",
          "color": [
           0,
           0,
           0,
           0,
           0,
           0,
           0,
           0,
           0,
           0,
           0,
           1
          ],
          "colorscale": [
           [
            0,
            "#0508b8"
           ],
           [
            0.08333333333333333,
            "#1910d8"
           ],
           [
            0.16666666666666666,
            "#3c19f0"
           ],
           [
            0.25,
            "#6b1cfb"
           ],
           [
            0.3333333333333333,
            "#981cfd"
           ],
           [
            0.4166666666666667,
            "#bf1cfd"
           ],
           [
            0.5,
            "#dd2bfd"
           ],
           [
            0.5833333333333334,
            "#f246fe"
           ],
           [
            0.6666666666666666,
            "#fc67fd"
           ],
           [
            0.75,
            "#fe88fc"
           ],
           [
            0.8333333333333334,
            "#fea5fd"
           ],
           [
            0.9166666666666666,
            "#febefe"
           ],
           [
            1,
            "#fec3fe"
           ]
          ],
          "opacity": 0.7,
          "size": 10,
          "symbol": "arrow-bar-up"
         },
         "mode": "lines+markers",
         "opacity": 0.7,
         "type": "scatter",
         "x": [
          0.016766761673069033,
          0.16510981050453408,
          null,
          0.16510981050453408,
          0.3869442053815443,
          null,
          0.16510981050453408,
          -0.07194921183538655,
          null,
          0.3869442053815443,
          0.4215902762798815,
          null,
          0.4215902762798815,
          0.16510981050453408,
          null,
          -0.07194921183538655,
          -0.3143766679149374,
          null,
          -0.3143766679149374,
          -0.37514002127870955,
          null,
          -0.37514002127870955,
          -0.15053774009502247,
          null,
          -0.15053774009502247,
          -0.07840741271497302,
          null
         ],
         "y": [
          0.5817774544201242,
          0.3551848546413175,
          null,
          0.3551848546413175,
          0.8863031809138125,
          null,
          0.3551848546413175,
          -0.16974404842181565,
          null,
          0.8863031809138125,
          0.47830589880782765,
          null,
          0.47830589880782765,
          0.3551848546413175,
          null,
          -0.16974404842181565,
          -0.30954726291382223,
          null,
          -0.30954726291382223,
          -0.22535606957388873,
          null,
          -0.22535606957388873,
          -0.5969240078735553,
          null,
          -0.5969240078735553,
          -1,
          null
         ]
        },
        {
         "customdata": [
          [
           "25_123_251 123_132_123 132",
           "2"
          ],
          [
           "-1_of_50010 block_invalidset_namesystem delete",
           "4"
          ],
          [
           "5_terminating packetresponder_packetresponder for_terminating_packetresponder",
           "1"
          ],
          [
           "56_181 received_202 181_181_202",
           "1"
          ],
          [
           "40_181 50010_181_202 181_251 202",
           "1"
          ],
          [
           "13_123_251 123_123 50010_99 50010",
           "1"
          ],
          [
           "4_terminating packetresponder_terminating_packetresponder_packetresponder for",
           "1"
          ],
          [
           "11_verification succeeded_verification_succeeded_succeeded for",
           "1"
          ],
          [
           "<PAD>",
           "288"
          ]
         ],
         "hovertemplate": "<b>Topic: %{text} </b><br><b>Name:</b> %{customdata[0]} <br><b>Count:</b> %{customdata[1]} <br>",
         "marker": {
          "color": [
           2,
           4,
           1,
           1,
           1,
           1,
           1,
           1,
           1
          ],
          "colorbar": {
           "thickness": 10,
           "title": {
            "side": "right",
            "text": "Node Counts in session"
           },
           "xanchor": "left"
          },
          "colorscale": [
           [
            0,
            "#0508b8"
           ],
           [
            0.08333333333333333,
            "#1910d8"
           ],
           [
            0.16666666666666666,
            "#3c19f0"
           ],
           [
            0.25,
            "#6b1cfb"
           ],
           [
            0.3333333333333333,
            "#981cfd"
           ],
           [
            0.4166666666666667,
            "#bf1cfd"
           ],
           [
            0.5,
            "#dd2bfd"
           ],
           [
            0.5833333333333334,
            "#f246fe"
           ],
           [
            0.6666666666666666,
            "#fc67fd"
           ],
           [
            0.75,
            "#fe88fc"
           ],
           [
            0.8333333333333334,
            "#fea5fd"
           ],
           [
            0.9166666666666666,
            "#febefe"
           ],
           [
            1,
            "#fec3fe"
           ]
          ],
          "size": [
           38.490017945975055,
           76.98003589195011,
           19.245008972987527,
           19.245008972987527,
           19.245008972987527,
           19.245008972987527,
           19.245008972987527,
           19.245008972987527,
           19.245008972987527
          ],
          "symbol": "circle"
         },
         "mode": "markers",
         "text": [
          "25",
          "-1",
          "5",
          "56",
          "40",
          "13",
          "4",
          "11",
          "-2"
         ],
         "type": "scatter",
         "x": [
          0.016766761673069033,
          0.16510981050453408,
          0.3869442053815443,
          0.4215902762798815,
          -0.07194921183538655,
          -0.3143766679149374,
          -0.37514002127870955,
          -0.15053774009502247,
          -0.07840741271497302
         ],
         "y": [
          0.5817774544201242,
          0.3551848546413175,
          0.8863031809138125,
          0.47830589880782765,
          -0.16974404842181565,
          -0.30954726291382223,
          -0.22535606957388873,
          -0.5969240078735553,
          -1
         ]
        }
       ],
       "layout": {
        "height": 480,
        "paper_bgcolor": "rgba(0, 0, 0, 0)",
        "plot_bgcolor": "rgba(0, 0, 0, 0)",
        "showlegend": false,
        "template": {
         "data": {
          "bar": [
           {
            "error_x": {
             "color": "#2a3f5f"
            },
            "error_y": {
             "color": "#2a3f5f"
            },
            "marker": {
             "line": {
              "color": "#E5ECF6",
              "width": 0.5
             },
             "pattern": {
              "fillmode": "overlay",
              "size": 10,
              "solidity": 0.2
             }
            },
            "type": "bar"
           }
          ],
          "barpolar": [
           {
            "marker": {
             "line": {
              "color": "#E5ECF6",
              "width": 0.5
             },
             "pattern": {
              "fillmode": "overlay",
              "size": 10,
              "solidity": 0.2
             }
            },
            "type": "barpolar"
           }
          ],
          "carpet": [
           {
            "aaxis": {
             "endlinecolor": "#2a3f5f",
             "gridcolor": "white",
             "linecolor": "white",
             "minorgridcolor": "white",
             "startlinecolor": "#2a3f5f"
            },
            "baxis": {
             "endlinecolor": "#2a3f5f",
             "gridcolor": "white",
             "linecolor": "white",
             "minorgridcolor": "white",
             "startlinecolor": "#2a3f5f"
            },
            "type": "carpet"
           }
          ],
          "choropleth": [
           {
            "colorbar": {
             "outlinewidth": 0,
             "ticks": ""
            },
            "type": "choropleth"
           }
          ],
          "contour": [
           {
            "colorbar": {
             "outlinewidth": 0,
             "ticks": ""
            },
            "colorscale": [
             [
              0,
              "#0d0887"
             ],
             [
              0.1111111111111111,
              "#46039f"
             ],
             [
              0.2222222222222222,
              "#7201a8"
             ],
             [
              0.3333333333333333,
              "#9c179e"
             ],
             [
              0.4444444444444444,
              "#bd3786"
             ],
             [
              0.5555555555555556,
              "#d8576b"
             ],
             [
              0.6666666666666666,
              "#ed7953"
             ],
             [
              0.7777777777777778,
              "#fb9f3a"
             ],
             [
              0.8888888888888888,
              "#fdca26"
             ],
             [
              1,
              "#f0f921"
             ]
            ],
            "type": "contour"
           }
          ],
          "contourcarpet": [
           {
            "colorbar": {
             "outlinewidth": 0,
             "ticks": ""
            },
            "type": "contourcarpet"
           }
          ],
          "heatmap": [
           {
            "colorbar": {
             "outlinewidth": 0,
             "ticks": ""
            },
            "colorscale": [
             [
              0,
              "#0d0887"
             ],
             [
              0.1111111111111111,
              "#46039f"
             ],
             [
              0.2222222222222222,
              "#7201a8"
             ],
             [
              0.3333333333333333,
              "#9c179e"
             ],
             [
              0.4444444444444444,
              "#bd3786"
             ],
             [
              0.5555555555555556,
              "#d8576b"
             ],
             [
              0.6666666666666666,
              "#ed7953"
             ],
             [
              0.7777777777777778,
              "#fb9f3a"
             ],
             [
              0.8888888888888888,
              "#fdca26"
             ],
             [
              1,
              "#f0f921"
             ]
            ],
            "type": "heatmap"
           }
          ],
          "heatmapgl": [
           {
            "colorbar": {
             "outlinewidth": 0,
             "ticks": ""
            },
            "colorscale": [
             [
              0,
              "#0d0887"
             ],
             [
              0.1111111111111111,
              "#46039f"
             ],
             [
              0.2222222222222222,
              "#7201a8"
             ],
             [
              0.3333333333333333,
              "#9c179e"
             ],
             [
              0.4444444444444444,
              "#bd3786"
             ],
             [
              0.5555555555555556,
              "#d8576b"
             ],
             [
              0.6666666666666666,
              "#ed7953"
             ],
             [
              0.7777777777777778,
              "#fb9f3a"
             ],
             [
              0.8888888888888888,
              "#fdca26"
             ],
             [
              1,
              "#f0f921"
             ]
            ],
            "type": "heatmapgl"
           }
          ],
          "histogram": [
           {
            "marker": {
             "pattern": {
              "fillmode": "overlay",
              "size": 10,
              "solidity": 0.2
             }
            },
            "type": "histogram"
           }
          ],
          "histogram2d": [
           {
            "colorbar": {
             "outlinewidth": 0,
             "ticks": ""
            },
            "colorscale": [
             [
              0,
              "#0d0887"
             ],
             [
              0.1111111111111111,
              "#46039f"
             ],
             [
              0.2222222222222222,
              "#7201a8"
             ],
             [
              0.3333333333333333,
              "#9c179e"
             ],
             [
              0.4444444444444444,
              "#bd3786"
             ],
             [
              0.5555555555555556,
              "#d8576b"
             ],
             [
              0.6666666666666666,
              "#ed7953"
             ],
             [
              0.7777777777777778,
              "#fb9f3a"
             ],
             [
              0.8888888888888888,
              "#fdca26"
             ],
             [
              1,
              "#f0f921"
             ]
            ],
            "type": "histogram2d"
           }
          ],
          "histogram2dcontour": [
           {
            "colorbar": {
             "outlinewidth": 0,
             "ticks": ""
            },
            "colorscale": [
             [
              0,
              "#0d0887"
             ],
             [
              0.1111111111111111,
              "#46039f"
             ],
             [
              0.2222222222222222,
              "#7201a8"
             ],
             [
              0.3333333333333333,
              "#9c179e"
             ],
             [
              0.4444444444444444,
              "#bd3786"
             ],
             [
              0.5555555555555556,
              "#d8576b"
             ],
             [
              0.6666666666666666,
              "#ed7953"
             ],
             [
              0.7777777777777778,
              "#fb9f3a"
             ],
             [
              0.8888888888888888,
              "#fdca26"
             ],
             [
              1,
              "#f0f921"
             ]
            ],
            "type": "histogram2dcontour"
           }
          ],
          "mesh3d": [
           {
            "colorbar": {
             "outlinewidth": 0,
             "ticks": ""
            },
            "type": "mesh3d"
           }
          ],
          "parcoords": [
           {
            "line": {
             "colorbar": {
              "outlinewidth": 0,
              "ticks": ""
             }
            },
            "type": "parcoords"
           }
          ],
          "pie": [
           {
            "automargin": true,
            "type": "pie"
           }
          ],
          "scatter": [
           {
            "fillpattern": {
             "fillmode": "overlay",
             "size": 10,
             "solidity": 0.2
            },
            "type": "scatter"
           }
          ],
          "scatter3d": [
           {
            "line": {
             "colorbar": {
              "outlinewidth": 0,
              "ticks": ""
             }
            },
            "marker": {
             "colorbar": {
              "outlinewidth": 0,
              "ticks": ""
             }
            },
            "type": "scatter3d"
           }
          ],
          "scattercarpet": [
           {
            "marker": {
             "colorbar": {
              "outlinewidth": 0,
              "ticks": ""
             }
            },
            "type": "scattercarpet"
           }
          ],
          "scattergeo": [
           {
            "marker": {
             "colorbar": {
              "outlinewidth": 0,
              "ticks": ""
             }
            },
            "type": "scattergeo"
           }
          ],
          "scattergl": [
           {
            "marker": {
             "colorbar": {
              "outlinewidth": 0,
              "ticks": ""
             }
            },
            "type": "scattergl"
           }
          ],
          "scattermapbox": [
           {
            "marker": {
             "colorbar": {
              "outlinewidth": 0,
              "ticks": ""
             }
            },
            "type": "scattermapbox"
           }
          ],
          "scatterpolar": [
           {
            "marker": {
             "colorbar": {
              "outlinewidth": 0,
              "ticks": ""
             }
            },
            "type": "scatterpolar"
           }
          ],
          "scatterpolargl": [
           {
            "marker": {
             "colorbar": {
              "outlinewidth": 0,
              "ticks": ""
             }
            },
            "type": "scatterpolargl"
           }
          ],
          "scatterternary": [
           {
            "marker": {
             "colorbar": {
              "outlinewidth": 0,
              "ticks": ""
             }
            },
            "type": "scatterternary"
           }
          ],
          "surface": [
           {
            "colorbar": {
             "outlinewidth": 0,
             "ticks": ""
            },
            "colorscale": [
             [
              0,
              "#0d0887"
             ],
             [
              0.1111111111111111,
              "#46039f"
             ],
             [
              0.2222222222222222,
              "#7201a8"
             ],
             [
              0.3333333333333333,
              "#9c179e"
             ],
             [
              0.4444444444444444,
              "#bd3786"
             ],
             [
              0.5555555555555556,
              "#d8576b"
             ],
             [
              0.6666666666666666,
              "#ed7953"
             ],
             [
              0.7777777777777778,
              "#fb9f3a"
             ],
             [
              0.8888888888888888,
              "#fdca26"
             ],
             [
              1,
              "#f0f921"
             ]
            ],
            "type": "surface"
           }
          ],
          "table": [
           {
            "cells": {
             "fill": {
              "color": "#EBF0F8"
             },
             "line": {
              "color": "white"
             }
            },
            "header": {
             "fill": {
              "color": "#C8D4E3"
             },
             "line": {
              "color": "white"
             }
            },
            "type": "table"
           }
          ]
         },
         "layout": {
          "annotationdefaults": {
           "arrowcolor": "#2a3f5f",
           "arrowhead": 0,
           "arrowwidth": 1
          },
          "autotypenumbers": "strict",
          "coloraxis": {
           "colorbar": {
            "outlinewidth": 0,
            "ticks": ""
           }
          },
          "colorscale": {
           "diverging": [
            [
             0,
             "#8e0152"
            ],
            [
             0.1,
             "#c51b7d"
            ],
            [
             0.2,
             "#de77ae"
            ],
            [
             0.3,
             "#f1b6da"
            ],
            [
             0.4,
             "#fde0ef"
            ],
            [
             0.5,
             "#f7f7f7"
            ],
            [
             0.6,
             "#e6f5d0"
            ],
            [
             0.7,
             "#b8e186"
            ],
            [
             0.8,
             "#7fbc41"
            ],
            [
             0.9,
             "#4d9221"
            ],
            [
             1,
             "#276419"
            ]
           ],
           "sequential": [
            [
             0,
             "#0d0887"
            ],
            [
             0.1111111111111111,
             "#46039f"
            ],
            [
             0.2222222222222222,
             "#7201a8"
            ],
            [
             0.3333333333333333,
             "#9c179e"
            ],
            [
             0.4444444444444444,
             "#bd3786"
            ],
            [
             0.5555555555555556,
             "#d8576b"
            ],
            [
             0.6666666666666666,
             "#ed7953"
            ],
            [
             0.7777777777777778,
             "#fb9f3a"
            ],
            [
             0.8888888888888888,
             "#fdca26"
            ],
            [
             1,
             "#f0f921"
            ]
           ],
           "sequentialminus": [
            [
             0,
             "#0d0887"
            ],
            [
             0.1111111111111111,
             "#46039f"
            ],
            [
             0.2222222222222222,
             "#7201a8"
            ],
            [
             0.3333333333333333,
             "#9c179e"
            ],
            [
             0.4444444444444444,
             "#bd3786"
            ],
            [
             0.5555555555555556,
             "#d8576b"
            ],
            [
             0.6666666666666666,
             "#ed7953"
            ],
            [
             0.7777777777777778,
             "#fb9f3a"
            ],
            [
             0.8888888888888888,
             "#fdca26"
            ],
            [
             1,
             "#f0f921"
            ]
           ]
          },
          "colorway": [
           "#636efa",
           "#EF553B",
           "#00cc96",
           "#ab63fa",
           "#FFA15A",
           "#19d3f3",
           "#FF6692",
           "#B6E880",
           "#FF97FF",
           "#FECB52"
          ],
          "font": {
           "color": "#2a3f5f"
          },
          "geo": {
           "bgcolor": "white",
           "lakecolor": "white",
           "landcolor": "#E5ECF6",
           "showlakes": true,
           "showland": true,
           "subunitcolor": "white"
          },
          "hoverlabel": {
           "align": "left"
          },
          "hovermode": "closest",
          "mapbox": {
           "style": "light"
          },
          "paper_bgcolor": "white",
          "plot_bgcolor": "#E5ECF6",
          "polar": {
           "angularaxis": {
            "gridcolor": "white",
            "linecolor": "white",
            "ticks": ""
           },
           "bgcolor": "#E5ECF6",
           "radialaxis": {
            "gridcolor": "white",
            "linecolor": "white",
            "ticks": ""
           }
          },
          "scene": {
           "xaxis": {
            "backgroundcolor": "#E5ECF6",
            "gridcolor": "white",
            "gridwidth": 2,
            "linecolor": "white",
            "showbackground": true,
            "ticks": "",
            "zerolinecolor": "white"
           },
           "yaxis": {
            "backgroundcolor": "#E5ECF6",
            "gridcolor": "white",
            "gridwidth": 2,
            "linecolor": "white",
            "showbackground": true,
            "ticks": "",
            "zerolinecolor": "white"
           },
           "zaxis": {
            "backgroundcolor": "#E5ECF6",
            "gridcolor": "white",
            "gridwidth": 2,
            "linecolor": "white",
            "showbackground": true,
            "ticks": "",
            "zerolinecolor": "white"
           }
          },
          "shapedefaults": {
           "line": {
            "color": "#2a3f5f"
           }
          },
          "ternary": {
           "aaxis": {
            "gridcolor": "white",
            "linecolor": "white",
            "ticks": ""
           },
           "baxis": {
            "gridcolor": "white",
            "linecolor": "white",
            "ticks": ""
           },
           "bgcolor": "#E5ECF6",
           "caxis": {
            "gridcolor": "white",
            "linecolor": "white",
            "ticks": ""
           }
          },
          "title": {
           "x": 0.05
          },
          "xaxis": {
           "automargin": true,
           "gridcolor": "white",
           "linecolor": "white",
           "ticks": "",
           "title": {
            "standoff": 15
           },
           "zerolinecolor": "white",
           "zerolinewidth": 2
          },
          "yaxis": {
           "automargin": true,
           "gridcolor": "white",
           "linecolor": "white",
           "ticks": "",
           "title": {
            "standoff": 15
           },
           "zerolinecolor": "white",
           "zerolinewidth": 2
          }
         }
        },
        "title": {
         "text": "<b>Graph of log from y : \"Normal\"</b>",
         "x": 0.5
        },
        "width": 640,
        "xaxis": {
         "visible": false
        },
        "yaxis": {
         "visible": false
        }
       }
      }
     },
     "metadata": {},
     "output_type": "display_data"
    }
   ],
   "source": [
    "plotly_digraph(G, label=hdfs_data.df['y'][0], topic_dict=topic_dict)"
   ]
  },
  {
   "cell_type": "code",
   "execution_count": null,
   "metadata": {},
   "outputs": [],
   "source": []
  }
 ],
 "metadata": {
  "kernelspec": {
   "display_name": "Python 3",
   "language": "python",
   "name": "python3"
  },
  "language_info": {
   "codemirror_mode": {
    "name": "ipython",
    "version": 3
   },
   "file_extension": ".py",
   "mimetype": "text/x-python",
   "name": "python",
   "nbconvert_exporter": "python",
   "pygments_lexer": "ipython3",
   "version": "3.11.5"
  }
 },
 "nbformat": 4,
 "nbformat_minor": 2
}
