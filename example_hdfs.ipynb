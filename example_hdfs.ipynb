{
 "cells": [
  {
   "cell_type": "code",
   "execution_count": null,
   "metadata": {},
   "outputs": [],
   "source": [
    "from lmao._utils import *"
   ]
  },
  {
   "cell_type": "code",
   "execution_count": null,
   "metadata": {},
   "outputs": [],
   "source": [
    "import lmao\n",
    "from lmao.preprocessing import LMAOPreprocessing"
   ]
  },
  {
   "cell_type": "markdown",
   "metadata": {},
   "source": [
    "# HDFS Preprocessing"
   ]
  },
  {
   "cell_type": "code",
   "execution_count": null,
   "metadata": {},
   "outputs": [
    {
     "name": "stdout",
     "output_type": "stream",
     "text": [
      "<lmao.preprocessing.LMAOPreprocessing object at 0x127de3490>\n"
     ]
    }
   ],
   "source": [
    "prep = LMAOPreprocessing(data_type='hdfs')"
   ]
  },
  {
   "cell_type": "code",
   "execution_count": null,
   "metadata": {},
   "outputs": [],
   "source": [
    "input_dir='/Users/IsRealNPK/LMAO/dataset/HDFS_v1'\n",
    "output_dir='/Users/IsRealNPK/LMAO/dataset/HDFS_v1/result/'\n",
    "log_file='HDFS.log'\n",
    "prep.log_parsing(input_dir=input_dir, output_dir=output_dir,\n",
    "                 log_file=log_file)"
   ]
  },
  {
   "cell_type": "code",
   "execution_count": null,
   "metadata": {},
   "outputs": [
    {
     "data": {
      "text/plain": [
       "'/Users/IsRealNPK/LMAO/dataset/HDFS_v1/result/HDFS.log_structured.csv'"
      ]
     },
     "metadata": {},
     "output_type": "display_data"
    }
   ],
   "source": [
    "prep.from_parsed_csv('/Users/IsRealNPK/LMAO/dataset/HDFS_v1/result/HDFS.log_structured.csv')"
   ]
  },
  {
   "cell_type": "code",
   "execution_count": null,
   "metadata": {},
   "outputs": [
    {
     "name": "stdout",
     "output_type": "stream",
     "text": [
      "Preprocessing to LMAO format with label from hdfs\n",
      "Path :/Users/IsRealNPK/LMAO/dataset/HDFS_v1/preprocessed/anomaly_label.csv\n",
      "literal_eval process...\n"
     ]
    },
    {
     "data": {
      "application/vnd.jupyter.widget-view+json": {
       "model_id": "633394be2d8c459fa18dedf40d6a23f9",
       "version_major": 2,
       "version_minor": 0
      },
      "text/plain": [
       "  0%|          | 0/11175629 [00:00<?, ?it/s]"
      ]
     },
     "metadata": {},
     "output_type": "display_data"
    },
    {
     "name": "stdout",
     "output_type": "stream",
     "text": [
      "Getting BlockId process...\n"
     ]
    },
    {
     "data": {
      "application/vnd.jupyter.widget-view+json": {
       "model_id": "2dcd350c5a9341c39db5bc84fbc0595f",
       "version_major": 2,
       "version_minor": 0
      },
      "text/plain": [
       "  0%|          | 0/11175629 [00:00<?, ?it/s]"
      ]
     },
     "metadata": {},
     "output_type": "display_data"
    },
    {
     "name": "stdout",
     "output_type": "stream",
     "text": [
      "Join the dataframe with labels\n",
      "Returning dataframe\n",
      "Done\n"
     ]
    }
   ],
   "source": [
    "prep.prep_data(label_path='/Users/IsRealNPK/LMAO/dataset/HDFS_v1/preprocessed/anomaly_label.csv')"
   ]
  },
  {
   "cell_type": "code",
   "execution_count": null,
   "metadata": {},
   "outputs": [
    {
     "data": {
      "text/html": [
       "<div>\n",
       "<style scoped>\n",
       "    .dataframe tbody tr th:only-of-type {\n",
       "        vertical-align: middle;\n",
       "    }\n",
       "\n",
       "    .dataframe tbody tr th {\n",
       "        vertical-align: top;\n",
       "    }\n",
       "\n",
       "    .dataframe thead th {\n",
       "        text-align: right;\n",
       "    }\n",
       "</style>\n",
       "<table border=\"1\" class=\"dataframe\">\n",
       "  <thead>\n",
       "    <tr style=\"text-align: right;\">\n",
       "      <th></th>\n",
       "      <th>session_id</th>\n",
       "      <th>severity</th>\n",
       "      <th>content</th>\n",
       "      <th>event_id</th>\n",
       "      <th>event_template</th>\n",
       "      <th>label</th>\n",
       "    </tr>\n",
       "  </thead>\n",
       "  <tbody>\n",
       "    <tr>\n",
       "      <th>0</th>\n",
       "      <td>blk_-1608999687919862906</td>\n",
       "      <td>INFO</td>\n",
       "      <td>Receiving block blk_-1608999687919862906 src: ...</td>\n",
       "      <td>09a53393</td>\n",
       "      <td>Receiving block &lt;*&gt; src: &lt;*&gt; dest: &lt;*&gt;</td>\n",
       "      <td>Normal</td>\n",
       "    </tr>\n",
       "    <tr>\n",
       "      <th>2</th>\n",
       "      <td>blk_-1608999687919862906</td>\n",
       "      <td>INFO</td>\n",
       "      <td>Receiving block blk_-1608999687919862906 src: ...</td>\n",
       "      <td>09a53393</td>\n",
       "      <td>Receiving block &lt;*&gt; src: &lt;*&gt; dest: &lt;*&gt;</td>\n",
       "      <td>Normal</td>\n",
       "    </tr>\n",
       "    <tr>\n",
       "      <th>3</th>\n",
       "      <td>blk_-1608999687919862906</td>\n",
       "      <td>INFO</td>\n",
       "      <td>Receiving block blk_-1608999687919862906 src: ...</td>\n",
       "      <td>09a53393</td>\n",
       "      <td>Receiving block &lt;*&gt; src: &lt;*&gt; dest: &lt;*&gt;</td>\n",
       "      <td>Normal</td>\n",
       "    </tr>\n",
       "    <tr>\n",
       "      <th>4</th>\n",
       "      <td>blk_-1608999687919862906</td>\n",
       "      <td>INFO</td>\n",
       "      <td>PacketResponder 1 for block blk_-1608999687919...</td>\n",
       "      <td>d38aa58d</td>\n",
       "      <td>PacketResponder &lt;*&gt; for block &lt;*&gt; &lt;*&gt;</td>\n",
       "      <td>Normal</td>\n",
       "    </tr>\n",
       "    <tr>\n",
       "      <th>5</th>\n",
       "      <td>blk_-1608999687919862906</td>\n",
       "      <td>INFO</td>\n",
       "      <td>PacketResponder 2 for block blk_-1608999687919...</td>\n",
       "      <td>d38aa58d</td>\n",
       "      <td>PacketResponder &lt;*&gt; for block &lt;*&gt; &lt;*&gt;</td>\n",
       "      <td>Normal</td>\n",
       "    </tr>\n",
       "    <tr>\n",
       "      <th>...</th>\n",
       "      <td>...</td>\n",
       "      <td>...</td>\n",
       "      <td>...</td>\n",
       "      <td>...</td>\n",
       "      <td>...</td>\n",
       "      <td>...</td>\n",
       "    </tr>\n",
       "    <tr>\n",
       "      <th>11175624</th>\n",
       "      <td>blk_-6171368032583208892</td>\n",
       "      <td>INFO</td>\n",
       "      <td>Verification succeeded for blk_-61713680325832...</td>\n",
       "      <td>32777b38</td>\n",
       "      <td>Verification succeeded for &lt;*&gt;</td>\n",
       "      <td>Normal</td>\n",
       "    </tr>\n",
       "    <tr>\n",
       "      <th>11175625</th>\n",
       "      <td>blk_6195025276114316035</td>\n",
       "      <td>INFO</td>\n",
       "      <td>Verification succeeded for blk_619502527611431...</td>\n",
       "      <td>32777b38</td>\n",
       "      <td>Verification succeeded for &lt;*&gt;</td>\n",
       "      <td>Normal</td>\n",
       "    </tr>\n",
       "    <tr>\n",
       "      <th>11175626</th>\n",
       "      <td>blk_-3339773404714332088</td>\n",
       "      <td>INFO</td>\n",
       "      <td>Verification succeeded for blk_-33397734047143...</td>\n",
       "      <td>32777b38</td>\n",
       "      <td>Verification succeeded for &lt;*&gt;</td>\n",
       "      <td>Normal</td>\n",
       "    </tr>\n",
       "    <tr>\n",
       "      <th>11175627</th>\n",
       "      <td>blk_1037231945509285002</td>\n",
       "      <td>INFO</td>\n",
       "      <td>Verification succeeded for blk_103723194550928...</td>\n",
       "      <td>32777b38</td>\n",
       "      <td>Verification succeeded for &lt;*&gt;</td>\n",
       "      <td>Normal</td>\n",
       "    </tr>\n",
       "    <tr>\n",
       "      <th>11175628</th>\n",
       "      <td>blk_4258862871822415442</td>\n",
       "      <td>INFO</td>\n",
       "      <td>Verification succeeded for blk_425886287182241...</td>\n",
       "      <td>32777b38</td>\n",
       "      <td>Verification succeeded for &lt;*&gt;</td>\n",
       "      <td>Normal</td>\n",
       "    </tr>\n",
       "  </tbody>\n",
       "</table>\n",
       "<p>10600568 rows × 6 columns</p>\n",
       "</div>"
      ],
      "text/plain": [
       "                        session_id severity  \\\n",
       "0         blk_-1608999687919862906     INFO   \n",
       "2         blk_-1608999687919862906     INFO   \n",
       "3         blk_-1608999687919862906     INFO   \n",
       "4         blk_-1608999687919862906     INFO   \n",
       "5         blk_-1608999687919862906     INFO   \n",
       "...                            ...      ...   \n",
       "11175624  blk_-6171368032583208892     INFO   \n",
       "11175625   blk_6195025276114316035     INFO   \n",
       "11175626  blk_-3339773404714332088     INFO   \n",
       "11175627   blk_1037231945509285002     INFO   \n",
       "11175628   blk_4258862871822415442     INFO   \n",
       "\n",
       "                                                    content  event_id  \\\n",
       "0         Receiving block blk_-1608999687919862906 src: ...  09a53393   \n",
       "2         Receiving block blk_-1608999687919862906 src: ...  09a53393   \n",
       "3         Receiving block blk_-1608999687919862906 src: ...  09a53393   \n",
       "4         PacketResponder 1 for block blk_-1608999687919...  d38aa58d   \n",
       "5         PacketResponder 2 for block blk_-1608999687919...  d38aa58d   \n",
       "...                                                     ...       ...   \n",
       "11175624  Verification succeeded for blk_-61713680325832...  32777b38   \n",
       "11175625  Verification succeeded for blk_619502527611431...  32777b38   \n",
       "11175626  Verification succeeded for blk_-33397734047143...  32777b38   \n",
       "11175627  Verification succeeded for blk_103723194550928...  32777b38   \n",
       "11175628  Verification succeeded for blk_425886287182241...  32777b38   \n",
       "\n",
       "                                  event_template   label  \n",
       "0         Receiving block <*> src: <*> dest: <*>  Normal  \n",
       "2         Receiving block <*> src: <*> dest: <*>  Normal  \n",
       "3         Receiving block <*> src: <*> dest: <*>  Normal  \n",
       "4          PacketResponder <*> for block <*> <*>  Normal  \n",
       "5          PacketResponder <*> for block <*> <*>  Normal  \n",
       "...                                          ...     ...  \n",
       "11175624          Verification succeeded for <*>  Normal  \n",
       "11175625          Verification succeeded for <*>  Normal  \n",
       "11175626          Verification succeeded for <*>  Normal  \n",
       "11175627          Verification succeeded for <*>  Normal  \n",
       "11175628          Verification succeeded for <*>  Normal  \n",
       "\n",
       "[10600568 rows x 6 columns]"
      ]
     },
     "metadata": {},
     "output_type": "display_data"
    }
   ],
   "source": [
    "prep.df"
   ]
  },
  {
   "cell_type": "code",
   "execution_count": null,
   "metadata": {},
   "outputs": [
    {
     "name": "stdout",
     "output_type": "stream",
     "text": [
      "Saving to .parquet.gzip file\n"
     ]
    }
   ],
   "source": [
    "prep.to_parquet('/Users/IsRealNPK/LMAO/dataset/HDFS_v1/HDFS_with_label')"
   ]
  },
  {
   "cell_type": "markdown",
   "metadata": {},
   "source": [
    "# HDFS Bertopic"
   ]
  },
  {
   "cell_type": "code",
   "execution_count": null,
   "metadata": {},
   "outputs": [
    {
     "name": "stdout",
     "output_type": "stream",
     "text": [
      "Topic model mode set to :BERTopic.\n",
      "Start Initialized\n"
     ]
    }
   ],
   "source": [
    "from lmao.topicmodel import LMAOTopic\n",
    "topic_model = LMAOTopic()"
   ]
  },
  {
   "cell_type": "code",
   "execution_count": null,
   "metadata": {},
   "outputs": [
    {
     "name": "stdout",
     "output_type": "stream",
     "text": [
      "Done\n"
     ]
    }
   ],
   "source": [
    "topic_model.from_trained_model(model_path='/Users/IsRealNPK/LMAO/lmao/topicmodel/model/BERTopic-HDFS-all-MiniLM-L6-v2')"
   ]
  },
  {
   "cell_type": "code",
   "execution_count": null,
   "metadata": {},
   "outputs": [],
   "source": [
    "topic_dict = topic_model.topic_dict"
   ]
  },
  {
   "cell_type": "code",
   "execution_count": null,
   "metadata": {},
   "outputs": [],
   "source": [
    "df = pd.read_parquet('/Users/IsRealNPK/LMAO/dataset/HDFS_v1/HDFS_with_label.parquet.gzip')"
   ]
  },
  {
   "cell_type": "code",
   "execution_count": null,
   "metadata": {},
   "outputs": [
    {
     "data": {
      "text/html": [
       "<div>\n",
       "<style scoped>\n",
       "    .dataframe tbody tr th:only-of-type {\n",
       "        vertical-align: middle;\n",
       "    }\n",
       "\n",
       "    .dataframe tbody tr th {\n",
       "        vertical-align: top;\n",
       "    }\n",
       "\n",
       "    .dataframe thead th {\n",
       "        text-align: right;\n",
       "    }\n",
       "</style>\n",
       "<table border=\"1\" class=\"dataframe\">\n",
       "  <thead>\n",
       "    <tr style=\"text-align: right;\">\n",
       "      <th></th>\n",
       "      <th>session_id</th>\n",
       "      <th>severity</th>\n",
       "      <th>content</th>\n",
       "      <th>event_id</th>\n",
       "      <th>event_template</th>\n",
       "      <th>label</th>\n",
       "    </tr>\n",
       "    <tr>\n",
       "      <th>index</th>\n",
       "      <th></th>\n",
       "      <th></th>\n",
       "      <th></th>\n",
       "      <th></th>\n",
       "      <th></th>\n",
       "      <th></th>\n",
       "    </tr>\n",
       "  </thead>\n",
       "  <tbody>\n",
       "    <tr>\n",
       "      <th>0</th>\n",
       "      <td>blk_-1608999687919862906</td>\n",
       "      <td>INFO</td>\n",
       "      <td>Receiving block blk_-1608999687919862906 src: ...</td>\n",
       "      <td>09a53393</td>\n",
       "      <td>Receiving block &lt;*&gt; src: &lt;*&gt; dest: &lt;*&gt;</td>\n",
       "      <td>Normal</td>\n",
       "    </tr>\n",
       "    <tr>\n",
       "      <th>2</th>\n",
       "      <td>blk_-1608999687919862906</td>\n",
       "      <td>INFO</td>\n",
       "      <td>Receiving block blk_-1608999687919862906 src: ...</td>\n",
       "      <td>09a53393</td>\n",
       "      <td>Receiving block &lt;*&gt; src: &lt;*&gt; dest: &lt;*&gt;</td>\n",
       "      <td>Normal</td>\n",
       "    </tr>\n",
       "    <tr>\n",
       "      <th>3</th>\n",
       "      <td>blk_-1608999687919862906</td>\n",
       "      <td>INFO</td>\n",
       "      <td>Receiving block blk_-1608999687919862906 src: ...</td>\n",
       "      <td>09a53393</td>\n",
       "      <td>Receiving block &lt;*&gt; src: &lt;*&gt; dest: &lt;*&gt;</td>\n",
       "      <td>Normal</td>\n",
       "    </tr>\n",
       "    <tr>\n",
       "      <th>4</th>\n",
       "      <td>blk_-1608999687919862906</td>\n",
       "      <td>INFO</td>\n",
       "      <td>PacketResponder 1 for block blk_-1608999687919...</td>\n",
       "      <td>d38aa58d</td>\n",
       "      <td>PacketResponder &lt;*&gt; for block &lt;*&gt; &lt;*&gt;</td>\n",
       "      <td>Normal</td>\n",
       "    </tr>\n",
       "    <tr>\n",
       "      <th>5</th>\n",
       "      <td>blk_-1608999687919862906</td>\n",
       "      <td>INFO</td>\n",
       "      <td>PacketResponder 2 for block blk_-1608999687919...</td>\n",
       "      <td>d38aa58d</td>\n",
       "      <td>PacketResponder &lt;*&gt; for block &lt;*&gt; &lt;*&gt;</td>\n",
       "      <td>Normal</td>\n",
       "    </tr>\n",
       "    <tr>\n",
       "      <th>...</th>\n",
       "      <td>...</td>\n",
       "      <td>...</td>\n",
       "      <td>...</td>\n",
       "      <td>...</td>\n",
       "      <td>...</td>\n",
       "      <td>...</td>\n",
       "    </tr>\n",
       "    <tr>\n",
       "      <th>11175624</th>\n",
       "      <td>blk_-6171368032583208892</td>\n",
       "      <td>INFO</td>\n",
       "      <td>Verification succeeded for blk_-61713680325832...</td>\n",
       "      <td>32777b38</td>\n",
       "      <td>Verification succeeded for &lt;*&gt;</td>\n",
       "      <td>Normal</td>\n",
       "    </tr>\n",
       "    <tr>\n",
       "      <th>11175625</th>\n",
       "      <td>blk_6195025276114316035</td>\n",
       "      <td>INFO</td>\n",
       "      <td>Verification succeeded for blk_619502527611431...</td>\n",
       "      <td>32777b38</td>\n",
       "      <td>Verification succeeded for &lt;*&gt;</td>\n",
       "      <td>Normal</td>\n",
       "    </tr>\n",
       "    <tr>\n",
       "      <th>11175626</th>\n",
       "      <td>blk_-3339773404714332088</td>\n",
       "      <td>INFO</td>\n",
       "      <td>Verification succeeded for blk_-33397734047143...</td>\n",
       "      <td>32777b38</td>\n",
       "      <td>Verification succeeded for &lt;*&gt;</td>\n",
       "      <td>Normal</td>\n",
       "    </tr>\n",
       "    <tr>\n",
       "      <th>11175627</th>\n",
       "      <td>blk_1037231945509285002</td>\n",
       "      <td>INFO</td>\n",
       "      <td>Verification succeeded for blk_103723194550928...</td>\n",
       "      <td>32777b38</td>\n",
       "      <td>Verification succeeded for &lt;*&gt;</td>\n",
       "      <td>Normal</td>\n",
       "    </tr>\n",
       "    <tr>\n",
       "      <th>11175628</th>\n",
       "      <td>blk_4258862871822415442</td>\n",
       "      <td>INFO</td>\n",
       "      <td>Verification succeeded for blk_425886287182241...</td>\n",
       "      <td>32777b38</td>\n",
       "      <td>Verification succeeded for &lt;*&gt;</td>\n",
       "      <td>Normal</td>\n",
       "    </tr>\n",
       "  </tbody>\n",
       "</table>\n",
       "<p>10600568 rows × 6 columns</p>\n",
       "</div>"
      ],
      "text/plain": [
       "                        session_id severity  \\\n",
       "index                                         \n",
       "0         blk_-1608999687919862906     INFO   \n",
       "2         blk_-1608999687919862906     INFO   \n",
       "3         blk_-1608999687919862906     INFO   \n",
       "4         blk_-1608999687919862906     INFO   \n",
       "5         blk_-1608999687919862906     INFO   \n",
       "...                            ...      ...   \n",
       "11175624  blk_-6171368032583208892     INFO   \n",
       "11175625   blk_6195025276114316035     INFO   \n",
       "11175626  blk_-3339773404714332088     INFO   \n",
       "11175627   blk_1037231945509285002     INFO   \n",
       "11175628   blk_4258862871822415442     INFO   \n",
       "\n",
       "                                                    content  event_id  \\\n",
       "index                                                                   \n",
       "0         Receiving block blk_-1608999687919862906 src: ...  09a53393   \n",
       "2         Receiving block blk_-1608999687919862906 src: ...  09a53393   \n",
       "3         Receiving block blk_-1608999687919862906 src: ...  09a53393   \n",
       "4         PacketResponder 1 for block blk_-1608999687919...  d38aa58d   \n",
       "5         PacketResponder 2 for block blk_-1608999687919...  d38aa58d   \n",
       "...                                                     ...       ...   \n",
       "11175624  Verification succeeded for blk_-61713680325832...  32777b38   \n",
       "11175625  Verification succeeded for blk_619502527611431...  32777b38   \n",
       "11175626  Verification succeeded for blk_-33397734047143...  32777b38   \n",
       "11175627  Verification succeeded for blk_103723194550928...  32777b38   \n",
       "11175628  Verification succeeded for blk_425886287182241...  32777b38   \n",
       "\n",
       "                                  event_template   label  \n",
       "index                                                     \n",
       "0         Receiving block <*> src: <*> dest: <*>  Normal  \n",
       "2         Receiving block <*> src: <*> dest: <*>  Normal  \n",
       "3         Receiving block <*> src: <*> dest: <*>  Normal  \n",
       "4          PacketResponder <*> for block <*> <*>  Normal  \n",
       "5          PacketResponder <*> for block <*> <*>  Normal  \n",
       "...                                          ...     ...  \n",
       "11175624          Verification succeeded for <*>  Normal  \n",
       "11175625          Verification succeeded for <*>  Normal  \n",
       "11175626          Verification succeeded for <*>  Normal  \n",
       "11175627          Verification succeeded for <*>  Normal  \n",
       "11175628          Verification succeeded for <*>  Normal  \n",
       "\n",
       "[10600568 rows x 6 columns]"
      ]
     },
     "metadata": {},
     "output_type": "display_data"
    }
   ],
   "source": [
    "df"
   ]
  },
  {
   "cell_type": "code",
   "execution_count": null,
   "metadata": {},
   "outputs": [
    {
     "data": {
      "text/html": [
       "<div>\n",
       "<style scoped>\n",
       "    .dataframe tbody tr th:only-of-type {\n",
       "        vertical-align: middle;\n",
       "    }\n",
       "\n",
       "    .dataframe tbody tr th {\n",
       "        vertical-align: top;\n",
       "    }\n",
       "\n",
       "    .dataframe thead th {\n",
       "        text-align: right;\n",
       "    }\n",
       "</style>\n",
       "<table border=\"1\" class=\"dataframe\">\n",
       "  <thead>\n",
       "    <tr style=\"text-align: right;\">\n",
       "      <th></th>\n",
       "      <th>session_id</th>\n",
       "      <th>severity</th>\n",
       "      <th>content</th>\n",
       "      <th>event_id</th>\n",
       "      <th>event_template</th>\n",
       "      <th>label</th>\n",
       "      <th>topic</th>\n",
       "    </tr>\n",
       "    <tr>\n",
       "      <th>index</th>\n",
       "      <th></th>\n",
       "      <th></th>\n",
       "      <th></th>\n",
       "      <th></th>\n",
       "      <th></th>\n",
       "      <th></th>\n",
       "      <th></th>\n",
       "    </tr>\n",
       "  </thead>\n",
       "  <tbody>\n",
       "    <tr>\n",
       "      <th>0</th>\n",
       "      <td>blk_-1608999687919862906</td>\n",
       "      <td>INFO</td>\n",
       "      <td>Receiving block blk_-1608999687919862906 src: ...</td>\n",
       "      <td>09a53393</td>\n",
       "      <td>Receiving block &lt;*&gt; src: &lt;*&gt; dest: &lt;*&gt;</td>\n",
       "      <td>Normal</td>\n",
       "      <td>8</td>\n",
       "    </tr>\n",
       "    <tr>\n",
       "      <th>2</th>\n",
       "      <td>blk_-1608999687919862906</td>\n",
       "      <td>INFO</td>\n",
       "      <td>Receiving block blk_-1608999687919862906 src: ...</td>\n",
       "      <td>09a53393</td>\n",
       "      <td>Receiving block &lt;*&gt; src: &lt;*&gt; dest: &lt;*&gt;</td>\n",
       "      <td>Normal</td>\n",
       "      <td>-1</td>\n",
       "    </tr>\n",
       "    <tr>\n",
       "      <th>3</th>\n",
       "      <td>blk_-1608999687919862906</td>\n",
       "      <td>INFO</td>\n",
       "      <td>Receiving block blk_-1608999687919862906 src: ...</td>\n",
       "      <td>09a53393</td>\n",
       "      <td>Receiving block &lt;*&gt; src: &lt;*&gt; dest: &lt;*&gt;</td>\n",
       "      <td>Normal</td>\n",
       "      <td>8</td>\n",
       "    </tr>\n",
       "    <tr>\n",
       "      <th>4</th>\n",
       "      <td>blk_-1608999687919862906</td>\n",
       "      <td>INFO</td>\n",
       "      <td>PacketResponder 1 for block blk_-1608999687919...</td>\n",
       "      <td>d38aa58d</td>\n",
       "      <td>PacketResponder &lt;*&gt; for block &lt;*&gt; &lt;*&gt;</td>\n",
       "      <td>Normal</td>\n",
       "      <td>4</td>\n",
       "    </tr>\n",
       "    <tr>\n",
       "      <th>5</th>\n",
       "      <td>blk_-1608999687919862906</td>\n",
       "      <td>INFO</td>\n",
       "      <td>PacketResponder 2 for block blk_-1608999687919...</td>\n",
       "      <td>d38aa58d</td>\n",
       "      <td>PacketResponder &lt;*&gt; for block &lt;*&gt; &lt;*&gt;</td>\n",
       "      <td>Normal</td>\n",
       "      <td>3</td>\n",
       "    </tr>\n",
       "    <tr>\n",
       "      <th>...</th>\n",
       "      <td>...</td>\n",
       "      <td>...</td>\n",
       "      <td>...</td>\n",
       "      <td>...</td>\n",
       "      <td>...</td>\n",
       "      <td>...</td>\n",
       "      <td>...</td>\n",
       "    </tr>\n",
       "    <tr>\n",
       "      <th>11175624</th>\n",
       "      <td>blk_-6171368032583208892</td>\n",
       "      <td>INFO</td>\n",
       "      <td>Verification succeeded for blk_-61713680325832...</td>\n",
       "      <td>32777b38</td>\n",
       "      <td>Verification succeeded for &lt;*&gt;</td>\n",
       "      <td>Normal</td>\n",
       "      <td>11</td>\n",
       "    </tr>\n",
       "    <tr>\n",
       "      <th>11175625</th>\n",
       "      <td>blk_6195025276114316035</td>\n",
       "      <td>INFO</td>\n",
       "      <td>Verification succeeded for blk_619502527611431...</td>\n",
       "      <td>32777b38</td>\n",
       "      <td>Verification succeeded for &lt;*&gt;</td>\n",
       "      <td>Normal</td>\n",
       "      <td>11</td>\n",
       "    </tr>\n",
       "    <tr>\n",
       "      <th>11175626</th>\n",
       "      <td>blk_-3339773404714332088</td>\n",
       "      <td>INFO</td>\n",
       "      <td>Verification succeeded for blk_-33397734047143...</td>\n",
       "      <td>32777b38</td>\n",
       "      <td>Verification succeeded for &lt;*&gt;</td>\n",
       "      <td>Normal</td>\n",
       "      <td>11</td>\n",
       "    </tr>\n",
       "    <tr>\n",
       "      <th>11175627</th>\n",
       "      <td>blk_1037231945509285002</td>\n",
       "      <td>INFO</td>\n",
       "      <td>Verification succeeded for blk_103723194550928...</td>\n",
       "      <td>32777b38</td>\n",
       "      <td>Verification succeeded for &lt;*&gt;</td>\n",
       "      <td>Normal</td>\n",
       "      <td>11</td>\n",
       "    </tr>\n",
       "    <tr>\n",
       "      <th>11175628</th>\n",
       "      <td>blk_4258862871822415442</td>\n",
       "      <td>INFO</td>\n",
       "      <td>Verification succeeded for blk_425886287182241...</td>\n",
       "      <td>32777b38</td>\n",
       "      <td>Verification succeeded for &lt;*&gt;</td>\n",
       "      <td>Normal</td>\n",
       "      <td>11</td>\n",
       "    </tr>\n",
       "  </tbody>\n",
       "</table>\n",
       "<p>10600568 rows × 7 columns</p>\n",
       "</div>"
      ],
      "text/plain": [
       "                        session_id severity  \\\n",
       "index                                         \n",
       "0         blk_-1608999687919862906     INFO   \n",
       "2         blk_-1608999687919862906     INFO   \n",
       "3         blk_-1608999687919862906     INFO   \n",
       "4         blk_-1608999687919862906     INFO   \n",
       "5         blk_-1608999687919862906     INFO   \n",
       "...                            ...      ...   \n",
       "11175624  blk_-6171368032583208892     INFO   \n",
       "11175625   blk_6195025276114316035     INFO   \n",
       "11175626  blk_-3339773404714332088     INFO   \n",
       "11175627   blk_1037231945509285002     INFO   \n",
       "11175628   blk_4258862871822415442     INFO   \n",
       "\n",
       "                                                    content  event_id  \\\n",
       "index                                                                   \n",
       "0         Receiving block blk_-1608999687919862906 src: ...  09a53393   \n",
       "2         Receiving block blk_-1608999687919862906 src: ...  09a53393   \n",
       "3         Receiving block blk_-1608999687919862906 src: ...  09a53393   \n",
       "4         PacketResponder 1 for block blk_-1608999687919...  d38aa58d   \n",
       "5         PacketResponder 2 for block blk_-1608999687919...  d38aa58d   \n",
       "...                                                     ...       ...   \n",
       "11175624  Verification succeeded for blk_-61713680325832...  32777b38   \n",
       "11175625  Verification succeeded for blk_619502527611431...  32777b38   \n",
       "11175626  Verification succeeded for blk_-33397734047143...  32777b38   \n",
       "11175627  Verification succeeded for blk_103723194550928...  32777b38   \n",
       "11175628  Verification succeeded for blk_425886287182241...  32777b38   \n",
       "\n",
       "                                  event_template   label  topic  \n",
       "index                                                            \n",
       "0         Receiving block <*> src: <*> dest: <*>  Normal      8  \n",
       "2         Receiving block <*> src: <*> dest: <*>  Normal     -1  \n",
       "3         Receiving block <*> src: <*> dest: <*>  Normal      8  \n",
       "4          PacketResponder <*> for block <*> <*>  Normal      4  \n",
       "5          PacketResponder <*> for block <*> <*>  Normal      3  \n",
       "...                                          ...     ...    ...  \n",
       "11175624          Verification succeeded for <*>  Normal     11  \n",
       "11175625          Verification succeeded for <*>  Normal     11  \n",
       "11175626          Verification succeeded for <*>  Normal     11  \n",
       "11175627          Verification succeeded for <*>  Normal     11  \n",
       "11175628          Verification succeeded for <*>  Normal     11  \n",
       "\n",
       "[10600568 rows x 7 columns]"
      ]
     },
     "metadata": {},
     "output_type": "display_data"
    }
   ],
   "source": [
    "topic_model.get_topic(df=df)"
   ]
  },
  {
   "cell_type": "code",
   "execution_count": null,
   "metadata": {},
   "outputs": [],
   "source": [
    "df.to_parquet('/Users/IsRealNPK/LMAO/dataset/HDFS_v1/HDFS_with_topic.parquet.gzip')"
   ]
  },
  {
   "cell_type": "markdown",
   "metadata": {},
   "source": [
    "# LMAO graph"
   ]
  },
  {
   "cell_type": "code",
   "execution_count": null,
   "metadata": {},
   "outputs": [],
   "source": [
    "from lmao.graph import Graph"
   ]
  },
  {
   "cell_type": "code",
   "execution_count": null,
   "metadata": {},
   "outputs": [
    {
     "name": "stdout",
     "output_type": "stream",
     "text": [
      "Topics size of this dataframe is : 237\n",
      "Getting Group by from dataframe\n"
     ]
    },
    {
     "data": {
      "application/vnd.jupyter.widget-view+json": {
       "model_id": "d9a07060fad144bd86041e53738871e5",
       "version_major": 2,
       "version_minor": 0
      },
      "text/plain": [
       "  0%|          | 0/575061 [00:00<?, ?it/s]"
      ]
     },
     "metadata": {},
     "output_type": "display_data"
    },
    {
     "name": "stdout",
     "output_type": "stream",
     "text": [
      "Max sequence size of this dataframe is : 297\n",
      "Apply Padding and Truncate 300.\n"
     ]
    },
    {
     "data": {
      "application/vnd.jupyter.widget-view+json": {
       "model_id": "c9851313708049e4bbd2af7f6f94f2dd",
       "version_major": 2,
       "version_minor": 0
      },
      "text/plain": [
       "  0%|          | 0/575061 [00:00<?, ?it/s]"
      ]
     },
     "metadata": {},
     "output_type": "display_data"
    },
    {
     "name": "stdout",
     "output_type": "stream",
     "text": [
      "Updating Topic size of this dataframe to 238\n",
      "Updating sequence size of this dataframe to 300\n",
      "Please call .get_PyG() to get PyG dataloader\n"
     ]
    }
   ],
   "source": [
    "data = Graph(df=pd.read_parquet('/Users/IsRealNPK/LMAO/dataset/HDFS_v1/HDFS_with_topic.parquet.gzip'),mode='pyg')"
   ]
  },
  {
   "cell_type": "code",
   "execution_count": null,
   "metadata": {},
   "outputs": [],
   "source": [
    "# data.get_PyG(one_hot=True)"
   ]
  },
  {
   "cell_type": "code",
   "execution_count": null,
   "metadata": {},
   "outputs": [],
   "source": [
    "G = data.get_one_graph(0)"
   ]
  },
  {
   "cell_type": "code",
   "execution_count": null,
   "metadata": {},
   "outputs": [],
   "source": [
    "from lmao.visualizer.plot import plotly_digraph"
   ]
  },
  {
   "cell_type": "code",
   "execution_count": null,
   "metadata": {},
   "outputs": [
    {
     "data": {
      "application/vnd.plotly.v1+json": {
       "config": {
        "plotlyServerURL": "https://plot.ly"
       },
       "data": [
        {
         "hoverinfo": "none",
         "marker": {
          "angleref": "previous",
          "color": [
           0,
           0,
           0,
           0,
           0,
           0,
           0,
           0,
           0,
           0,
           0,
           1
          ],
          "colorscale": [
           [
            0,
            "#0508b8"
           ],
           [
            0.08333333333333333,
            "#1910d8"
           ],
           [
            0.16666666666666666,
            "#3c19f0"
           ],
           [
            0.25,
            "#6b1cfb"
           ],
           [
            0.3333333333333333,
            "#981cfd"
           ],
           [
            0.4166666666666667,
            "#bf1cfd"
           ],
           [
            0.5,
            "#dd2bfd"
           ],
           [
            0.5833333333333334,
            "#f246fe"
           ],
           [
            0.6666666666666666,
            "#fc67fd"
           ],
           [
            0.75,
            "#fe88fc"
           ],
           [
            0.8333333333333334,
            "#fea5fd"
           ],
           [
            0.9166666666666666,
            "#febefe"
           ],
           [
            1,
            "#fec3fe"
           ]
          ],
          "opacity": 0.7,
          "size": 10,
          "symbol": "arrow-bar-up"
         },
         "mode": "lines+markers",
         "opacity": 0.7,
         "type": "scatter",
         "x": [
          0.016766761673069033,
          0.16510981050453408,
          null,
          0.16510981050453408,
          0.3869442053815443,
          null,
          0.16510981050453408,
          -0.07194921183538655,
          null,
          0.3869442053815443,
          0.4215902762798815,
          null,
          0.4215902762798815,
          0.16510981050453408,
          null,
          -0.07194921183538655,
          -0.3143766679149374,
          null,
          -0.3143766679149374,
          -0.37514002127870955,
          null,
          -0.37514002127870955,
          -0.15053774009502247,
          null,
          -0.15053774009502247,
          -0.07840741271497302,
          null
         ],
         "y": [
          0.5817774544201242,
          0.3551848546413175,
          null,
          0.3551848546413175,
          0.8863031809138125,
          null,
          0.3551848546413175,
          -0.16974404842181565,
          null,
          0.8863031809138125,
          0.47830589880782765,
          null,
          0.47830589880782765,
          0.3551848546413175,
          null,
          -0.16974404842181565,
          -0.30954726291382223,
          null,
          -0.30954726291382223,
          -0.22535606957388873,
          null,
          -0.22535606957388873,
          -0.5969240078735553,
          null,
          -0.5969240078735553,
          -1,
          null
         ]
        },
        {
         "customdata": [
          [
           "25_123_251 123_132_123 132",
           "2"
          ],
          [
           "-1_of_50010 block_invalidset_namesystem delete",
           "4"
          ],
          [
           "5_terminating packetresponder_packetresponder for_terminating_packetresponder",
           "1"
          ],
          [
           "56_181 received_202 181_181_202",
           "1"
          ],
          [
           "40_181 50010_181_202 181_251 202",
           "1"
          ],
          [
           "13_123_251 123_123 50010_99 50010",
           "1"
          ],
          [
           "4_terminating packetresponder_terminating_packetresponder_packetresponder for",
           "1"
          ],
          [
           "11_verification succeeded_verification_succeeded_succeeded for",
           "1"
          ],
          [
           "<PAD>",
           "288"
          ]
         ],
         "hovertemplate": "<b>Topic: %{text} </b><br><b>Name:</b> %{customdata[0]} <br><b>Count:</b> %{customdata[1]} <br>",
         "marker": {
          "color": [
           2,
           4,
           1,
           1,
           1,
           1,
           1,
           1,
           1
          ],
          "colorbar": {
           "thickness": 10,
           "title": {
            "side": "right",
            "text": "Node Counts in session"
           },
           "xanchor": "left"
          },
          "colorscale": [
           [
            0,
            "#0508b8"
           ],
           [
            0.08333333333333333,
            "#1910d8"
           ],
           [
            0.16666666666666666,
            "#3c19f0"
           ],
           [
            0.25,
            "#6b1cfb"
           ],
           [
            0.3333333333333333,
            "#981cfd"
           ],
           [
            0.4166666666666667,
            "#bf1cfd"
           ],
           [
            0.5,
            "#dd2bfd"
           ],
           [
            0.5833333333333334,
            "#f246fe"
           ],
           [
            0.6666666666666666,
            "#fc67fd"
           ],
           [
            0.75,
            "#fe88fc"
           ],
           [
            0.8333333333333334,
            "#fea5fd"
           ],
           [
            0.9166666666666666,
            "#febefe"
           ],
           [
            1,
            "#fec3fe"
           ]
          ],
          "size": [
           25,
           50,
           12.5,
           12.5,
           12.5,
           12.5,
           12.5,
           12.5,
           12.5
          ],
          "symbol": "circle"
         },
         "mode": "markers",
         "text": [
          "25",
          "-1",
          "5",
          "56",
          "40",
          "13",
          "4",
          "11",
          "-2"
         ],
         "type": "scatter",
         "x": [
          0.016766761673069033,
          0.16510981050453408,
          0.3869442053815443,
          0.4215902762798815,
          -0.07194921183538655,
          -0.3143766679149374,
          -0.37514002127870955,
          -0.15053774009502247,
          -0.07840741271497302
         ],
         "y": [
          0.5817774544201242,
          0.3551848546413175,
          0.8863031809138125,
          0.47830589880782765,
          -0.16974404842181565,
          -0.30954726291382223,
          -0.22535606957388873,
          -0.5969240078735553,
          -1
         ]
        }
       ],
       "layout": {
        "margin": {
         "b": 0,
         "l": 0,
         "r": 0,
         "t": 0
        },
        "showlegend": false,
        "template": {
         "data": {
          "bar": [
           {
            "error_x": {
             "color": "#2a3f5f"
            },
            "error_y": {
             "color": "#2a3f5f"
            },
            "marker": {
             "line": {
              "color": "#E5ECF6",
              "width": 0.5
             },
             "pattern": {
              "fillmode": "overlay",
              "size": 10,
              "solidity": 0.2
             }
            },
            "type": "bar"
           }
          ],
          "barpolar": [
           {
            "marker": {
             "line": {
              "color": "#E5ECF6",
              "width": 0.5
             },
             "pattern": {
              "fillmode": "overlay",
              "size": 10,
              "solidity": 0.2
             }
            },
            "type": "barpolar"
           }
          ],
          "carpet": [
           {
            "aaxis": {
             "endlinecolor": "#2a3f5f",
             "gridcolor": "white",
             "linecolor": "white",
             "minorgridcolor": "white",
             "startlinecolor": "#2a3f5f"
            },
            "baxis": {
             "endlinecolor": "#2a3f5f",
             "gridcolor": "white",
             "linecolor": "white",
             "minorgridcolor": "white",
             "startlinecolor": "#2a3f5f"
            },
            "type": "carpet"
           }
          ],
          "choropleth": [
           {
            "colorbar": {
             "outlinewidth": 0,
             "ticks": ""
            },
            "type": "choropleth"
           }
          ],
          "contour": [
           {
            "colorbar": {
             "outlinewidth": 0,
             "ticks": ""
            },
            "colorscale": [
             [
              0,
              "#0d0887"
             ],
             [
              0.1111111111111111,
              "#46039f"
             ],
             [
              0.2222222222222222,
              "#7201a8"
             ],
             [
              0.3333333333333333,
              "#9c179e"
             ],
             [
              0.4444444444444444,
              "#bd3786"
             ],
             [
              0.5555555555555556,
              "#d8576b"
             ],
             [
              0.6666666666666666,
              "#ed7953"
             ],
             [
              0.7777777777777778,
              "#fb9f3a"
             ],
             [
              0.8888888888888888,
              "#fdca26"
             ],
             [
              1,
              "#f0f921"
             ]
            ],
            "type": "contour"
           }
          ],
          "contourcarpet": [
           {
            "colorbar": {
             "outlinewidth": 0,
             "ticks": ""
            },
            "type": "contourcarpet"
           }
          ],
          "heatmap": [
           {
            "colorbar": {
             "outlinewidth": 0,
             "ticks": ""
            },
            "colorscale": [
             [
              0,
              "#0d0887"
             ],
             [
              0.1111111111111111,
              "#46039f"
             ],
             [
              0.2222222222222222,
              "#7201a8"
             ],
             [
              0.3333333333333333,
              "#9c179e"
             ],
             [
              0.4444444444444444,
              "#bd3786"
             ],
             [
              0.5555555555555556,
              "#d8576b"
             ],
             [
              0.6666666666666666,
              "#ed7953"
             ],
             [
              0.7777777777777778,
              "#fb9f3a"
             ],
             [
              0.8888888888888888,
              "#fdca26"
             ],
             [
              1,
              "#f0f921"
             ]
            ],
            "type": "heatmap"
           }
          ],
          "heatmapgl": [
           {
            "colorbar": {
             "outlinewidth": 0,
             "ticks": ""
            },
            "colorscale": [
             [
              0,
              "#0d0887"
             ],
             [
              0.1111111111111111,
              "#46039f"
             ],
             [
              0.2222222222222222,
              "#7201a8"
             ],
             [
              0.3333333333333333,
              "#9c179e"
             ],
             [
              0.4444444444444444,
              "#bd3786"
             ],
             [
              0.5555555555555556,
              "#d8576b"
             ],
             [
              0.6666666666666666,
              "#ed7953"
             ],
             [
              0.7777777777777778,
              "#fb9f3a"
             ],
             [
              0.8888888888888888,
              "#fdca26"
             ],
             [
              1,
              "#f0f921"
             ]
            ],
            "type": "heatmapgl"
           }
          ],
          "histogram": [
           {
            "marker": {
             "pattern": {
              "fillmode": "overlay",
              "size": 10,
              "solidity": 0.2
             }
            },
            "type": "histogram"
           }
          ],
          "histogram2d": [
           {
            "colorbar": {
             "outlinewidth": 0,
             "ticks": ""
            },
            "colorscale": [
             [
              0,
              "#0d0887"
             ],
             [
              0.1111111111111111,
              "#46039f"
             ],
             [
              0.2222222222222222,
              "#7201a8"
             ],
             [
              0.3333333333333333,
              "#9c179e"
             ],
             [
              0.4444444444444444,
              "#bd3786"
             ],
             [
              0.5555555555555556,
              "#d8576b"
             ],
             [
              0.6666666666666666,
              "#ed7953"
             ],
             [
              0.7777777777777778,
              "#fb9f3a"
             ],
             [
              0.8888888888888888,
              "#fdca26"
             ],
             [
              1,
              "#f0f921"
             ]
            ],
            "type": "histogram2d"
           }
          ],
          "histogram2dcontour": [
           {
            "colorbar": {
             "outlinewidth": 0,
             "ticks": ""
            },
            "colorscale": [
             [
              0,
              "#0d0887"
             ],
             [
              0.1111111111111111,
              "#46039f"
             ],
             [
              0.2222222222222222,
              "#7201a8"
             ],
             [
              0.3333333333333333,
              "#9c179e"
             ],
             [
              0.4444444444444444,
              "#bd3786"
             ],
             [
              0.5555555555555556,
              "#d8576b"
             ],
             [
              0.6666666666666666,
              "#ed7953"
             ],
             [
              0.7777777777777778,
              "#fb9f3a"
             ],
             [
              0.8888888888888888,
              "#fdca26"
             ],
             [
              1,
              "#f0f921"
             ]
            ],
            "type": "histogram2dcontour"
           }
          ],
          "mesh3d": [
           {
            "colorbar": {
             "outlinewidth": 0,
             "ticks": ""
            },
            "type": "mesh3d"
           }
          ],
          "parcoords": [
           {
            "line": {
             "colorbar": {
              "outlinewidth": 0,
              "ticks": ""
             }
            },
            "type": "parcoords"
           }
          ],
          "pie": [
           {
            "automargin": true,
            "type": "pie"
           }
          ],
          "scatter": [
           {
            "fillpattern": {
             "fillmode": "overlay",
             "size": 10,
             "solidity": 0.2
            },
            "type": "scatter"
           }
          ],
          "scatter3d": [
           {
            "line": {
             "colorbar": {
              "outlinewidth": 0,
              "ticks": ""
             }
            },
            "marker": {
             "colorbar": {
              "outlinewidth": 0,
              "ticks": ""
             }
            },
            "type": "scatter3d"
           }
          ],
          "scattercarpet": [
           {
            "marker": {
             "colorbar": {
              "outlinewidth": 0,
              "ticks": ""
             }
            },
            "type": "scattercarpet"
           }
          ],
          "scattergeo": [
           {
            "marker": {
             "colorbar": {
              "outlinewidth": 0,
              "ticks": ""
             }
            },
            "type": "scattergeo"
           }
          ],
          "scattergl": [
           {
            "marker": {
             "colorbar": {
              "outlinewidth": 0,
              "ticks": ""
             }
            },
            "type": "scattergl"
           }
          ],
          "scattermapbox": [
           {
            "marker": {
             "colorbar": {
              "outlinewidth": 0,
              "ticks": ""
             }
            },
            "type": "scattermapbox"
           }
          ],
          "scatterpolar": [
           {
            "marker": {
             "colorbar": {
              "outlinewidth": 0,
              "ticks": ""
             }
            },
            "type": "scatterpolar"
           }
          ],
          "scatterpolargl": [
           {
            "marker": {
             "colorbar": {
              "outlinewidth": 0,
              "ticks": ""
             }
            },
            "type": "scatterpolargl"
           }
          ],
          "scatterternary": [
           {
            "marker": {
             "colorbar": {
              "outlinewidth": 0,
              "ticks": ""
             }
            },
            "type": "scatterternary"
           }
          ],
          "surface": [
           {
            "colorbar": {
             "outlinewidth": 0,
             "ticks": ""
            },
            "colorscale": [
             [
              0,
              "#0d0887"
             ],
             [
              0.1111111111111111,
              "#46039f"
             ],
             [
              0.2222222222222222,
              "#7201a8"
             ],
             [
              0.3333333333333333,
              "#9c179e"
             ],
             [
              0.4444444444444444,
              "#bd3786"
             ],
             [
              0.5555555555555556,
              "#d8576b"
             ],
             [
              0.6666666666666666,
              "#ed7953"
             ],
             [
              0.7777777777777778,
              "#fb9f3a"
             ],
             [
              0.8888888888888888,
              "#fdca26"
             ],
             [
              1,
              "#f0f921"
             ]
            ],
            "type": "surface"
           }
          ],
          "table": [
           {
            "cells": {
             "fill": {
              "color": "#EBF0F8"
             },
             "line": {
              "color": "white"
             }
            },
            "header": {
             "fill": {
              "color": "#C8D4E3"
             },
             "line": {
              "color": "white"
             }
            },
            "type": "table"
           }
          ]
         },
         "layout": {
          "annotationdefaults": {
           "arrowcolor": "#2a3f5f",
           "arrowhead": 0,
           "arrowwidth": 1
          },
          "autotypenumbers": "strict",
          "coloraxis": {
           "colorbar": {
            "outlinewidth": 0,
            "ticks": ""
           }
          },
          "colorscale": {
           "diverging": [
            [
             0,
             "#8e0152"
            ],
            [
             0.1,
             "#c51b7d"
            ],
            [
             0.2,
             "#de77ae"
            ],
            [
             0.3,
             "#f1b6da"
            ],
            [
             0.4,
             "#fde0ef"
            ],
            [
             0.5,
             "#f7f7f7"
            ],
            [
             0.6,
             "#e6f5d0"
            ],
            [
             0.7,
             "#b8e186"
            ],
            [
             0.8,
             "#7fbc41"
            ],
            [
             0.9,
             "#4d9221"
            ],
            [
             1,
             "#276419"
            ]
           ],
           "sequential": [
            [
             0,
             "#0d0887"
            ],
            [
             0.1111111111111111,
             "#46039f"
            ],
            [
             0.2222222222222222,
             "#7201a8"
            ],
            [
             0.3333333333333333,
             "#9c179e"
            ],
            [
             0.4444444444444444,
             "#bd3786"
            ],
            [
             0.5555555555555556,
             "#d8576b"
            ],
            [
             0.6666666666666666,
             "#ed7953"
            ],
            [
             0.7777777777777778,
             "#fb9f3a"
            ],
            [
             0.8888888888888888,
             "#fdca26"
            ],
            [
             1,
             "#f0f921"
            ]
           ],
           "sequentialminus": [
            [
             0,
             "#0d0887"
            ],
            [
             0.1111111111111111,
             "#46039f"
            ],
            [
             0.2222222222222222,
             "#7201a8"
            ],
            [
             0.3333333333333333,
             "#9c179e"
            ],
            [
             0.4444444444444444,
             "#bd3786"
            ],
            [
             0.5555555555555556,
             "#d8576b"
            ],
            [
             0.6666666666666666,
             "#ed7953"
            ],
            [
             0.7777777777777778,
             "#fb9f3a"
            ],
            [
             0.8888888888888888,
             "#fdca26"
            ],
            [
             1,
             "#f0f921"
            ]
           ]
          },
          "colorway": [
           "#636efa",
           "#EF553B",
           "#00cc96",
           "#ab63fa",
           "#FFA15A",
           "#19d3f3",
           "#FF6692",
           "#B6E880",
           "#FF97FF",
           "#FECB52"
          ],
          "font": {
           "color": "#2a3f5f"
          },
          "geo": {
           "bgcolor": "white",
           "lakecolor": "white",
           "landcolor": "#E5ECF6",
           "showlakes": true,
           "showland": true,
           "subunitcolor": "white"
          },
          "hoverlabel": {
           "align": "left"
          },
          "hovermode": "closest",
          "mapbox": {
           "style": "light"
          },
          "paper_bgcolor": "white",
          "plot_bgcolor": "#E5ECF6",
          "polar": {
           "angularaxis": {
            "gridcolor": "white",
            "linecolor": "white",
            "ticks": ""
           },
           "bgcolor": "#E5ECF6",
           "radialaxis": {
            "gridcolor": "white",
            "linecolor": "white",
            "ticks": ""
           }
          },
          "scene": {
           "xaxis": {
            "backgroundcolor": "#E5ECF6",
            "gridcolor": "white",
            "gridwidth": 2,
            "linecolor": "white",
            "showbackground": true,
            "ticks": "",
            "zerolinecolor": "white"
           },
           "yaxis": {
            "backgroundcolor": "#E5ECF6",
            "gridcolor": "white",
            "gridwidth": 2,
            "linecolor": "white",
            "showbackground": true,
            "ticks": "",
            "zerolinecolor": "white"
           },
           "zaxis": {
            "backgroundcolor": "#E5ECF6",
            "gridcolor": "white",
            "gridwidth": 2,
            "linecolor": "white",
            "showbackground": true,
            "ticks": "",
            "zerolinecolor": "white"
           }
          },
          "shapedefaults": {
           "line": {
            "color": "#2a3f5f"
           }
          },
          "ternary": {
           "aaxis": {
            "gridcolor": "white",
            "linecolor": "white",
            "ticks": ""
           },
           "baxis": {
            "gridcolor": "white",
            "linecolor": "white",
            "ticks": ""
           },
           "bgcolor": "#E5ECF6",
           "caxis": {
            "gridcolor": "white",
            "linecolor": "white",
            "ticks": ""
           }
          },
          "title": {
           "x": 0.05
          },
          "xaxis": {
           "automargin": true,
           "gridcolor": "white",
           "linecolor": "white",
           "ticks": "",
           "title": {
            "standoff": 15
           },
           "zerolinecolor": "white",
           "zerolinewidth": 2
          },
          "yaxis": {
           "automargin": true,
           "gridcolor": "white",
           "linecolor": "white",
           "ticks": "",
           "title": {
            "standoff": 15
           },
           "zerolinecolor": "white",
           "zerolinewidth": 2
          }
         }
        }
       }
      }
     },
     "metadata": {},
     "output_type": "display_data"
    }
   ],
   "source": [
    "plotly_digraph(G, label='y', topic_dict=topic_dict)"
   ]
  }
 ],
 "metadata": {
  "language_info": {
   "name": "python"
  }
 },
 "nbformat": 4,
 "nbformat_minor": 2
}
