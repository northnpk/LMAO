{
 "cells": [
  {
   "cell_type": "code",
   "execution_count": 1,
   "metadata": {},
   "outputs": [],
   "source": [
    "from lmao._utils import *"
   ]
  },
  {
   "cell_type": "code",
   "execution_count": 2,
   "metadata": {},
   "outputs": [],
   "source": [
    "import lmao\n",
    "from lmao.preprocessing import LMAOPreprocessing"
   ]
  },
  {
   "cell_type": "markdown",
   "metadata": {},
   "source": [
    "# HDFS Preprocessing"
   ]
  },
  {
   "cell_type": "code",
   "execution_count": 6,
   "metadata": {},
   "outputs": [
    {
     "name": "stdout",
     "output_type": "stream",
     "text": [
      "Created prep class\n"
     ]
    }
   ],
   "source": [
    "prep = LMAOPreprocessing(data_type='hdfs')"
   ]
  },
  {
   "cell_type": "code",
   "execution_count": 7,
   "metadata": {},
   "outputs": [
    {
     "name": "stdout",
     "output_type": "stream",
     "text": [
      "Start Parsing\n",
      "Parsing file: /Users/IsRealNPK/LMAO/dataset/HDFS_v1/HDFS.log\n",
      "Total lines:  11175629\n",
      "Processed 0.0% of log lines.\n",
      "Processed 0.0% of log lines.\n",
      "Processed 0.0% of log lines.\n",
      "Processed 0.0% of log lines.\n",
      "Processed 0.0% of log lines.\n",
      "Processed 0.1% of log lines.\n",
      "Processed 0.1% of log lines.\n",
      "Processed 0.1% of log lines.\n",
      "Processed 0.1% of log lines.\n",
      "Processed 0.1% of log lines.\n",
      "Processed 0.1% of log lines.\n",
      "Processed 0.1% of log lines.\n",
      "Processed 0.1% of log lines.\n",
      "Processed 0.1% of log lines.\n",
      "Processed 0.1% of log lines.\n",
      "Processed 0.1% of log lines.\n",
      "Processed 0.2% of log lines.\n",
      "Processed 0.2% of log lines.\n",
      "Processed 0.2% of log lines.\n",
      "Processed 0.2% of log lines.\n",
      "Processed 0.2% of log lines.\n",
      "Processed 0.2% of log lines.\n",
      "Processed 0.2% of log lines.\n",
      "Processed 0.2% of log lines.\n",
      "Processed 0.2% of log lines.\n",
      "Processed 0.2% of log lines.\n",
      "Processed 0.2% of log lines.\n",
      "Processed 0.3% of log lines.\n",
      "Processed 0.3% of log lines.\n",
      "Processed 0.3% of log lines.\n",
      "Processed 0.3% of log lines.\n",
      "Processed 0.3% of log lines.\n",
      "Processed 0.3% of log lines.\n",
      "Processed 0.3% of log lines.\n",
      "Processed 0.3% of log lines.\n",
      "Processed 0.3% of log lines.\n",
      "Processed 0.3% of log lines.\n",
      "Processed 0.3% of log lines.\n",
      "Processed 0.3% of log lines.\n",
      "Processed 0.4% of log lines.\n",
      "Processed 0.4% of log lines.\n",
      "Processed 0.4% of log lines.\n",
      "Processed 0.4% of log lines.\n",
      "Processed 0.4% of log lines.\n",
      "Processed 0.4% of log lines.\n",
      "Processed 0.4% of log lines.\n",
      "Processed 0.4% of log lines.\n",
      "Processed 0.4% of log lines.\n",
      "Processed 0.4% of log lines.\n",
      "Processed 0.4% of log lines.\n",
      "Processed 0.5% of log lines.\n",
      "Processed 0.5% of log lines.\n",
      "Processed 0.5% of log lines.\n",
      "Processed 0.5% of log lines.\n",
      "Processed 0.5% of log lines.\n",
      "Processed 0.5% of log lines.\n",
      "Processed 0.5% of log lines.\n",
      "Processed 0.5% of log lines.\n",
      "Processed 0.5% of log lines.\n",
      "Processed 0.5% of log lines.\n",
      "Processed 0.5% of log lines.\n",
      "Processed 0.6% of log lines.\n",
      "Processed 0.6% of log lines.\n",
      "Processed 0.6% of log lines.\n",
      "Processed 0.6% of log lines.\n",
      "Processed 0.6% of log lines.\n",
      "Processed 0.6% of log lines.\n",
      "Processed 0.6% of log lines.\n",
      "Processed 0.6% of log lines.\n",
      "Processed 0.6% of log lines.\n",
      "Processed 0.6% of log lines.\n",
      "Processed 0.6% of log lines.\n",
      "Processed 0.7% of log lines.\n",
      "Processed 0.7% of log lines.\n",
      "Processed 0.7% of log lines.\n",
      "Processed 0.7% of log lines.\n",
      "Processed 0.7% of log lines.\n",
      "Processed 0.7% of log lines.\n",
      "Processed 0.7% of log lines.\n",
      "Processed 0.7% of log lines.\n",
      "Processed 0.7% of log lines.\n",
      "Processed 0.7% of log lines.\n",
      "Processed 0.7% of log lines.\n",
      "Processed 0.8% of log lines.\n",
      "Processed 0.8% of log lines.\n",
      "Processed 0.8% of log lines.\n",
      "Processed 0.8% of log lines.\n",
      "Processed 0.8% of log lines.\n",
      "Processed 0.8% of log lines.\n",
      "Processed 0.8% of log lines.\n",
      "Processed 0.8% of log lines.\n",
      "Processed 0.8% of log lines.\n",
      "Processed 0.8% of log lines.\n",
      "Processed 0.8% of log lines.\n",
      "Processed 0.9% of log lines.\n",
      "Processed 0.9% of log lines.\n",
      "Processed 0.9% of log lines.\n",
      "Processed 0.9% of log lines.\n",
      "Processed 0.9% of log lines.\n",
      "Processed 0.9% of log lines.\n",
      "Processed 0.9% of log lines.\n",
      "Processed 0.9% of log lines.\n",
      "Processed 0.9% of log lines.\n",
      "Processed 0.9% of log lines.\n",
      "Processed 0.9% of log lines.\n",
      "Processed 0.9% of log lines.\n",
      "Processed 1.0% of log lines.\n",
      "Processed 1.0% of log lines.\n",
      "Processed 1.0% of log lines.\n",
      "Processed 1.0% of log lines.\n",
      "Processed 1.0% of log lines.\n",
      "Processed 1.0% of log lines.\n",
      "Processed 1.0% of log lines.\n",
      "Processed 1.0% of log lines.\n",
      "Processed 1.0% of log lines.\n",
      "Processed 1.0% of log lines.\n",
      "Processed 1.0% of log lines.\n",
      "Processed 1.1% of log lines.\n",
      "Processed 1.1% of log lines.\n",
      "Processed 1.1% of log lines.\n",
      "Processed 1.1% of log lines.\n",
      "Processed 1.1% of log lines.\n",
      "Processed 1.1% of log lines.\n",
      "Processed 1.1% of log lines.\n",
      "Processed 1.1% of log lines.\n",
      "Processed 1.1% of log lines.\n",
      "Processed 1.1% of log lines.\n",
      "Processed 1.1% of log lines.\n",
      "Processed 1.2% of log lines.\n",
      "Processed 1.2% of log lines.\n",
      "Processed 1.2% of log lines.\n",
      "Processed 1.2% of log lines.\n",
      "Processed 1.2% of log lines.\n",
      "Processed 1.2% of log lines.\n",
      "Processed 1.2% of log lines.\n",
      "Processed 1.2% of log lines.\n",
      "Processed 1.2% of log lines.\n",
      "Processed 1.2% of log lines.\n",
      "Processed 1.2% of log lines.\n",
      "Processed 1.3% of log lines.\n",
      "Processed 1.3% of log lines.\n",
      "Processed 1.3% of log lines.\n",
      "Processed 1.3% of log lines.\n",
      "Processed 1.3% of log lines.\n",
      "Processed 1.3% of log lines.\n",
      "Processed 1.3% of log lines.\n",
      "Processed 1.3% of log lines.\n",
      "Processed 1.3% of log lines.\n",
      "Processed 1.3% of log lines.\n",
      "Processed 1.3% of log lines.\n",
      "Processed 1.4% of log lines.\n",
      "Processed 1.4% of log lines.\n",
      "Processed 1.4% of log lines.\n",
      "Processed 1.4% of log lines.\n",
      "Processed 1.4% of log lines.\n",
      "Processed 1.4% of log lines.\n",
      "Processed 1.4% of log lines.\n",
      "Processed 1.4% of log lines.\n",
      "Processed 1.4% of log lines.\n",
      "Processed 1.4% of log lines.\n",
      "Processed 1.4% of log lines.\n",
      "Processed 1.4% of log lines.\n",
      "Processed 1.5% of log lines.\n",
      "Processed 1.5% of log lines.\n",
      "Processed 1.5% of log lines.\n",
      "Processed 1.5% of log lines.\n",
      "Processed 1.5% of log lines.\n",
      "Processed 1.5% of log lines.\n",
      "Processed 1.5% of log lines.\n",
      "Processed 1.5% of log lines.\n",
      "Processed 1.5% of log lines.\n",
      "Processed 1.5% of log lines.\n",
      "Processed 1.5% of log lines.\n",
      "Processed 1.6% of log lines.\n",
      "Processed 1.6% of log lines.\n",
      "Processed 1.6% of log lines.\n",
      "Processed 1.6% of log lines.\n",
      "Processed 1.6% of log lines.\n",
      "Processed 1.6% of log lines.\n",
      "Processed 1.6% of log lines.\n",
      "Processed 1.6% of log lines.\n",
      "Processed 1.6% of log lines.\n",
      "Processed 1.6% of log lines.\n",
      "Processed 1.6% of log lines.\n",
      "Processed 1.7% of log lines.\n",
      "Processed 1.7% of log lines.\n",
      "Processed 1.7% of log lines.\n",
      "Processed 1.7% of log lines.\n",
      "Processed 1.7% of log lines.\n",
      "Processed 1.7% of log lines.\n",
      "Processed 1.7% of log lines.\n",
      "Processed 1.7% of log lines.\n",
      "Processed 1.7% of log lines.\n",
      "Processed 1.7% of log lines.\n",
      "Processed 1.7% of log lines.\n",
      "Processed 1.8% of log lines.\n",
      "Processed 1.8% of log lines.\n",
      "Processed 1.8% of log lines.\n",
      "Processed 1.8% of log lines.\n",
      "Processed 1.8% of log lines.\n",
      "Processed 1.8% of log lines.\n",
      "Processed 1.8% of log lines.\n",
      "Processed 1.8% of log lines.\n",
      "Processed 1.8% of log lines.\n",
      "Processed 1.8% of log lines.\n",
      "Processed 1.8% of log lines.\n",
      "Processed 1.9% of log lines.\n",
      "Processed 1.9% of log lines.\n",
      "Processed 1.9% of log lines.\n",
      "Processed 1.9% of log lines.\n",
      "Processed 1.9% of log lines.\n",
      "Processed 1.9% of log lines.\n",
      "Processed 1.9% of log lines.\n",
      "Processed 1.9% of log lines.\n",
      "Processed 1.9% of log lines.\n",
      "Processed 1.9% of log lines.\n",
      "Processed 1.9% of log lines.\n",
      "Processed 2.0% of log lines.\n",
      "Processed 2.0% of log lines.\n",
      "Processed 2.0% of log lines.\n",
      "Processed 2.0% of log lines.\n",
      "Processed 2.0% of log lines.\n",
      "Processed 2.0% of log lines.\n",
      "Processed 2.0% of log lines.\n",
      "Processed 2.0% of log lines.\n",
      "Processed 2.0% of log lines.\n",
      "Processed 2.0% of log lines.\n",
      "Processed 2.0% of log lines.\n",
      "Processed 2.0% of log lines.\n",
      "Processed 2.1% of log lines.\n",
      "Processed 2.1% of log lines.\n",
      "Processed 2.1% of log lines.\n",
      "Processed 2.1% of log lines.\n",
      "Processed 2.1% of log lines.\n",
      "Processed 2.1% of log lines.\n",
      "Processed 2.1% of log lines.\n",
      "Processed 2.1% of log lines.\n",
      "Processed 2.1% of log lines.\n",
      "Processed 2.1% of log lines.\n",
      "Processed 2.1% of log lines.\n",
      "Processed 2.2% of log lines.\n",
      "Processed 2.2% of log lines.\n",
      "Processed 2.2% of log lines.\n",
      "Processed 2.2% of log lines.\n",
      "Processed 2.2% of log lines.\n",
      "Processed 2.2% of log lines.\n",
      "Processed 2.2% of log lines.\n",
      "Processed 2.2% of log lines.\n",
      "Processed 2.2% of log lines.\n",
      "Processed 2.2% of log lines.\n",
      "Processed 2.2% of log lines.\n",
      "Processed 2.3% of log lines.\n",
      "Processed 2.3% of log lines.\n",
      "Processed 2.3% of log lines.\n",
      "Processed 2.3% of log lines.\n",
      "Processed 2.3% of log lines.\n",
      "Processed 2.3% of log lines.\n",
      "Processed 2.3% of log lines.\n",
      "Processed 2.3% of log lines.\n",
      "Processed 2.3% of log lines.\n",
      "Processed 2.3% of log lines.\n",
      "Processed 2.3% of log lines.\n",
      "Processed 2.4% of log lines.\n",
      "Processed 2.4% of log lines.\n",
      "Processed 2.4% of log lines.\n",
      "Processed 2.4% of log lines.\n",
      "Processed 2.4% of log lines.\n",
      "Processed 2.4% of log lines.\n",
      "Processed 2.4% of log lines.\n",
      "Processed 2.4% of log lines.\n",
      "Processed 2.4% of log lines.\n",
      "Processed 2.4% of log lines.\n",
      "Processed 2.4% of log lines.\n",
      "Processed 2.5% of log lines.\n",
      "Processed 2.5% of log lines.\n",
      "Processed 2.5% of log lines.\n",
      "Processed 2.5% of log lines.\n",
      "Processed 2.5% of log lines.\n",
      "Processed 2.5% of log lines.\n",
      "Processed 2.5% of log lines.\n",
      "Processed 2.5% of log lines.\n",
      "Processed 2.5% of log lines.\n",
      "Processed 2.5% of log lines.\n",
      "Processed 2.5% of log lines.\n",
      "Processed 2.6% of log lines.\n",
      "Processed 2.6% of log lines.\n",
      "Processed 2.6% of log lines.\n",
      "Processed 2.6% of log lines.\n",
      "Processed 2.6% of log lines.\n",
      "Processed 2.6% of log lines.\n",
      "Processed 2.6% of log lines.\n",
      "Processed 2.6% of log lines.\n",
      "Processed 2.6% of log lines.\n",
      "Processed 2.6% of log lines.\n",
      "Processed 2.6% of log lines.\n",
      "Processed 2.6% of log lines.\n",
      "Processed 2.7% of log lines.\n",
      "Processed 2.7% of log lines.\n",
      "Processed 2.7% of log lines.\n",
      "Processed 2.7% of log lines.\n",
      "Processed 2.7% of log lines.\n",
      "Processed 2.7% of log lines.\n",
      "Processed 2.7% of log lines.\n",
      "Processed 2.7% of log lines.\n",
      "Processed 2.7% of log lines.\n",
      "Processed 2.7% of log lines.\n",
      "Processed 2.7% of log lines.\n",
      "Processed 2.8% of log lines.\n",
      "Processed 2.8% of log lines.\n",
      "Processed 2.8% of log lines.\n",
      "Processed 2.8% of log lines.\n",
      "Processed 2.8% of log lines.\n",
      "Processed 2.8% of log lines.\n",
      "Processed 2.8% of log lines.\n",
      "Processed 2.8% of log lines.\n",
      "Processed 2.8% of log lines.\n",
      "Processed 2.8% of log lines.\n",
      "Processed 2.8% of log lines.\n",
      "Processed 2.9% of log lines.\n",
      "Processed 2.9% of log lines.\n",
      "Processed 2.9% of log lines.\n",
      "Processed 2.9% of log lines.\n",
      "Processed 2.9% of log lines.\n",
      "Processed 2.9% of log lines.\n",
      "Processed 2.9% of log lines.\n",
      "Processed 2.9% of log lines.\n",
      "Processed 2.9% of log lines.\n",
      "Processed 2.9% of log lines.\n",
      "Processed 2.9% of log lines.\n",
      "Processed 3.0% of log lines.\n",
      "Processed 3.0% of log lines.\n",
      "Processed 3.0% of log lines.\n",
      "Processed 3.0% of log lines.\n",
      "Processed 3.0% of log lines.\n",
      "Processed 3.0% of log lines.\n",
      "Processed 3.0% of log lines.\n",
      "Processed 3.0% of log lines.\n",
      "Processed 3.0% of log lines.\n",
      "Processed 3.0% of log lines.\n",
      "Processed 3.0% of log lines.\n",
      "Processed 3.1% of log lines.\n",
      "Processed 3.1% of log lines.\n",
      "Processed 3.1% of log lines.\n",
      "Processed 3.1% of log lines.\n",
      "Processed 3.1% of log lines.\n",
      "Processed 3.1% of log lines.\n",
      "Processed 3.1% of log lines.\n",
      "Processed 3.1% of log lines.\n",
      "Processed 3.1% of log lines.\n",
      "Processed 3.1% of log lines.\n",
      "Processed 3.1% of log lines.\n",
      "Processed 3.1% of log lines.\n",
      "Processed 3.2% of log lines.\n",
      "Processed 3.2% of log lines.\n",
      "Processed 3.2% of log lines.\n",
      "Processed 3.2% of log lines.\n",
      "Processed 3.2% of log lines.\n",
      "Processed 3.2% of log lines.\n",
      "Processed 3.2% of log lines.\n",
      "Processed 3.2% of log lines.\n",
      "Processed 3.2% of log lines.\n",
      "Processed 3.2% of log lines.\n",
      "Processed 3.2% of log lines.\n",
      "Processed 3.3% of log lines.\n",
      "Processed 3.3% of log lines.\n",
      "Processed 3.3% of log lines.\n",
      "Processed 3.3% of log lines.\n",
      "Processed 3.3% of log lines.\n",
      "Processed 3.3% of log lines.\n",
      "Processed 3.3% of log lines.\n",
      "Processed 3.3% of log lines.\n",
      "Processed 3.3% of log lines.\n",
      "Processed 3.3% of log lines.\n",
      "Processed 3.3% of log lines.\n",
      "Processed 3.4% of log lines.\n",
      "Processed 3.4% of log lines.\n",
      "Processed 3.4% of log lines.\n",
      "Processed 3.4% of log lines.\n",
      "Processed 3.4% of log lines.\n",
      "Processed 3.4% of log lines.\n",
      "Processed 3.4% of log lines.\n",
      "Processed 3.4% of log lines.\n",
      "Processed 3.4% of log lines.\n",
      "Processed 3.4% of log lines.\n",
      "Processed 3.4% of log lines.\n",
      "Processed 3.5% of log lines.\n",
      "Processed 3.5% of log lines.\n",
      "Processed 3.5% of log lines.\n",
      "Processed 3.5% of log lines.\n",
      "Processed 3.5% of log lines.\n",
      "Processed 3.5% of log lines.\n",
      "Processed 3.5% of log lines.\n",
      "Processed 3.5% of log lines.\n",
      "Processed 3.5% of log lines.\n",
      "Processed 3.5% of log lines.\n",
      "Processed 3.5% of log lines.\n",
      "Processed 3.6% of log lines.\n",
      "Processed 3.6% of log lines.\n",
      "Processed 3.6% of log lines.\n",
      "Processed 3.6% of log lines.\n",
      "Processed 3.6% of log lines.\n",
      "Processed 3.6% of log lines.\n",
      "Processed 3.6% of log lines.\n",
      "Processed 3.6% of log lines.\n",
      "Processed 3.6% of log lines.\n",
      "Processed 3.6% of log lines.\n",
      "Processed 3.6% of log lines.\n",
      "Processed 3.7% of log lines.\n",
      "Processed 3.7% of log lines.\n",
      "Processed 3.7% of log lines.\n",
      "Processed 3.7% of log lines.\n",
      "Processed 3.7% of log lines.\n",
      "Processed 3.7% of log lines.\n",
      "Processed 3.7% of log lines.\n",
      "Processed 3.7% of log lines.\n",
      "Processed 3.7% of log lines.\n",
      "Processed 3.7% of log lines.\n",
      "Processed 3.7% of log lines.\n",
      "Processed 3.7% of log lines.\n",
      "Processed 3.8% of log lines.\n",
      "Processed 3.8% of log lines.\n",
      "Processed 3.8% of log lines.\n",
      "Processed 3.8% of log lines.\n",
      "Processed 3.8% of log lines.\n",
      "Processed 3.8% of log lines.\n",
      "Processed 3.8% of log lines.\n",
      "Processed 3.8% of log lines.\n",
      "Processed 3.8% of log lines.\n",
      "Processed 3.8% of log lines.\n",
      "Processed 3.8% of log lines.\n",
      "Processed 3.9% of log lines.\n",
      "Processed 3.9% of log lines.\n",
      "Processed 3.9% of log lines.\n",
      "Processed 3.9% of log lines.\n",
      "Processed 3.9% of log lines.\n",
      "Processed 3.9% of log lines.\n",
      "Processed 3.9% of log lines.\n",
      "Processed 3.9% of log lines.\n",
      "Processed 3.9% of log lines.\n",
      "Processed 3.9% of log lines.\n",
      "Processed 3.9% of log lines.\n",
      "Processed 4.0% of log lines.\n",
      "Processed 4.0% of log lines.\n",
      "Processed 4.0% of log lines.\n",
      "Processed 4.0% of log lines.\n",
      "Processed 4.0% of log lines.\n",
      "Processed 4.0% of log lines.\n",
      "Processed 4.0% of log lines.\n",
      "Processed 4.0% of log lines.\n",
      "Processed 4.0% of log lines.\n",
      "Processed 4.0% of log lines.\n",
      "Processed 4.0% of log lines.\n",
      "Processed 4.1% of log lines.\n",
      "Processed 4.1% of log lines.\n",
      "Processed 4.1% of log lines.\n",
      "Processed 4.1% of log lines.\n",
      "Processed 4.1% of log lines.\n",
      "Processed 4.1% of log lines.\n",
      "Processed 4.1% of log lines.\n",
      "Processed 4.1% of log lines.\n",
      "Processed 4.1% of log lines.\n",
      "Processed 4.1% of log lines.\n",
      "Processed 4.1% of log lines.\n",
      "Processed 4.2% of log lines.\n",
      "Processed 4.2% of log lines.\n",
      "Processed 4.2% of log lines.\n",
      "Processed 4.2% of log lines.\n",
      "Processed 4.2% of log lines.\n",
      "Processed 4.2% of log lines.\n",
      "Processed 4.2% of log lines.\n",
      "Processed 4.2% of log lines.\n",
      "Processed 4.2% of log lines.\n",
      "Processed 4.2% of log lines.\n",
      "Processed 4.2% of log lines.\n",
      "Processed 4.3% of log lines.\n",
      "Processed 4.3% of log lines.\n",
      "Processed 4.3% of log lines.\n",
      "Processed 4.3% of log lines.\n",
      "Processed 4.3% of log lines.\n",
      "Processed 4.3% of log lines.\n",
      "Processed 4.3% of log lines.\n",
      "Processed 4.3% of log lines.\n",
      "Processed 4.3% of log lines.\n",
      "Processed 4.3% of log lines.\n",
      "Processed 4.3% of log lines.\n",
      "Processed 4.3% of log lines.\n",
      "Processed 4.4% of log lines.\n",
      "Processed 4.4% of log lines.\n",
      "Processed 4.4% of log lines.\n",
      "Processed 4.4% of log lines.\n",
      "Processed 4.4% of log lines.\n",
      "Processed 4.4% of log lines.\n",
      "Processed 4.4% of log lines.\n",
      "Processed 4.4% of log lines.\n",
      "Processed 4.4% of log lines.\n",
      "Processed 4.4% of log lines.\n",
      "Processed 4.4% of log lines.\n",
      "Processed 4.5% of log lines.\n",
      "Processed 4.5% of log lines.\n",
      "Processed 4.5% of log lines.\n",
      "Processed 4.5% of log lines.\n",
      "Processed 4.5% of log lines.\n",
      "Processed 4.5% of log lines.\n",
      "Processed 4.5% of log lines.\n",
      "Processed 4.5% of log lines.\n",
      "Processed 4.5% of log lines.\n",
      "Processed 4.5% of log lines.\n",
      "Processed 4.5% of log lines.\n",
      "Processed 4.6% of log lines.\n",
      "Processed 4.6% of log lines.\n",
      "Processed 4.6% of log lines.\n",
      "Processed 4.6% of log lines.\n",
      "Processed 4.6% of log lines.\n",
      "Processed 4.6% of log lines.\n",
      "Processed 4.6% of log lines.\n",
      "Processed 4.6% of log lines.\n",
      "Processed 4.6% of log lines.\n",
      "Processed 4.6% of log lines.\n",
      "Processed 4.6% of log lines.\n",
      "Processed 4.7% of log lines.\n",
      "Processed 4.7% of log lines.\n",
      "Processed 4.7% of log lines.\n",
      "Processed 4.7% of log lines.\n",
      "Processed 4.7% of log lines.\n",
      "Processed 4.7% of log lines.\n",
      "Processed 4.7% of log lines.\n",
      "Processed 4.7% of log lines.\n",
      "Processed 4.7% of log lines.\n",
      "Processed 4.7% of log lines.\n",
      "Processed 4.7% of log lines.\n",
      "Processed 4.8% of log lines.\n",
      "Processed 4.8% of log lines.\n",
      "Processed 4.8% of log lines.\n",
      "Processed 4.8% of log lines.\n",
      "Processed 4.8% of log lines.\n",
      "Processed 4.8% of log lines.\n",
      "Processed 4.8% of log lines.\n",
      "Processed 4.8% of log lines.\n",
      "Processed 4.8% of log lines.\n",
      "Processed 4.8% of log lines.\n",
      "Processed 4.8% of log lines.\n",
      "Processed 4.8% of log lines.\n",
      "Processed 4.9% of log lines.\n",
      "Processed 4.9% of log lines.\n",
      "Processed 4.9% of log lines.\n",
      "Processed 4.9% of log lines.\n",
      "Processed 4.9% of log lines.\n",
      "Processed 4.9% of log lines.\n",
      "Processed 4.9% of log lines.\n",
      "Processed 4.9% of log lines.\n",
      "Processed 4.9% of log lines.\n",
      "Processed 4.9% of log lines.\n",
      "Processed 4.9% of log lines.\n",
      "Processed 5.0% of log lines.\n",
      "Processed 5.0% of log lines.\n",
      "Processed 5.0% of log lines.\n",
      "Processed 5.0% of log lines.\n",
      "Processed 5.0% of log lines.\n",
      "Processed 5.0% of log lines.\n",
      "Processed 5.0% of log lines.\n",
      "Processed 5.0% of log lines.\n",
      "Processed 5.0% of log lines.\n",
      "Processed 5.0% of log lines.\n",
      "Processed 5.0% of log lines.\n",
      "Processed 5.1% of log lines.\n",
      "Processed 5.1% of log lines.\n",
      "Processed 5.1% of log lines.\n",
      "Processed 5.1% of log lines.\n",
      "Processed 5.1% of log lines.\n",
      "Processed 5.1% of log lines.\n",
      "Processed 5.1% of log lines.\n",
      "Processed 5.1% of log lines.\n",
      "Processed 5.1% of log lines.\n",
      "Processed 5.1% of log lines.\n",
      "Processed 5.1% of log lines.\n",
      "Processed 5.2% of log lines.\n",
      "Processed 5.2% of log lines.\n",
      "Processed 5.2% of log lines.\n",
      "Processed 5.2% of log lines.\n",
      "Processed 5.2% of log lines.\n",
      "Processed 5.2% of log lines.\n",
      "Processed 5.2% of log lines.\n",
      "Processed 5.2% of log lines.\n",
      "Processed 5.2% of log lines.\n",
      "Processed 5.2% of log lines.\n",
      "Processed 5.2% of log lines.\n",
      "Processed 5.3% of log lines.\n",
      "Processed 5.3% of log lines.\n",
      "Processed 5.3% of log lines.\n",
      "Processed 5.3% of log lines.\n",
      "Processed 5.3% of log lines.\n",
      "Processed 5.3% of log lines.\n",
      "Processed 5.3% of log lines.\n",
      "Processed 5.3% of log lines.\n",
      "Processed 5.3% of log lines.\n",
      "Processed 5.3% of log lines.\n",
      "Processed 5.3% of log lines.\n",
      "Processed 5.4% of log lines.\n",
      "Processed 5.4% of log lines.\n",
      "Processed 5.4% of log lines.\n",
      "Processed 5.4% of log lines.\n",
      "Processed 5.4% of log lines.\n",
      "Processed 5.4% of log lines.\n",
      "Processed 5.4% of log lines.\n",
      "Processed 5.4% of log lines.\n",
      "Processed 5.4% of log lines.\n",
      "Processed 5.4% of log lines.\n",
      "Processed 5.4% of log lines.\n",
      "Processed 5.4% of log lines.\n",
      "Processed 5.5% of log lines.\n",
      "Processed 5.5% of log lines.\n",
      "Processed 5.5% of log lines.\n",
      "Processed 5.5% of log lines.\n",
      "Processed 5.5% of log lines.\n",
      "Processed 5.5% of log lines.\n",
      "Processed 5.5% of log lines.\n",
      "Processed 5.5% of log lines.\n",
      "Processed 5.5% of log lines.\n",
      "Processed 5.5% of log lines.\n",
      "Processed 5.5% of log lines.\n",
      "Processed 5.6% of log lines.\n",
      "Processed 5.6% of log lines.\n",
      "Processed 5.6% of log lines.\n",
      "Processed 5.6% of log lines.\n",
      "Processed 5.6% of log lines.\n",
      "Processed 5.6% of log lines.\n",
      "Processed 5.6% of log lines.\n",
      "Processed 5.6% of log lines.\n",
      "Processed 5.6% of log lines.\n",
      "Processed 5.6% of log lines.\n",
      "Processed 5.6% of log lines.\n",
      "Processed 5.7% of log lines.\n",
      "Processed 5.7% of log lines.\n",
      "Processed 5.7% of log lines.\n",
      "Processed 5.7% of log lines.\n",
      "Processed 5.7% of log lines.\n",
      "Processed 5.7% of log lines.\n",
      "Processed 5.7% of log lines.\n",
      "Processed 5.7% of log lines.\n",
      "Processed 5.7% of log lines.\n",
      "Processed 5.7% of log lines.\n",
      "Processed 5.7% of log lines.\n",
      "Processed 5.8% of log lines.\n",
      "Processed 5.8% of log lines.\n",
      "Processed 5.8% of log lines.\n",
      "Processed 5.8% of log lines.\n",
      "Processed 5.8% of log lines.\n",
      "Processed 5.8% of log lines.\n",
      "Processed 5.8% of log lines.\n",
      "Processed 5.8% of log lines.\n",
      "Processed 5.8% of log lines.\n",
      "Processed 5.8% of log lines.\n",
      "Processed 5.8% of log lines.\n",
      "Processed 5.9% of log lines.\n",
      "Processed 5.9% of log lines.\n",
      "Processed 5.9% of log lines.\n",
      "Processed 5.9% of log lines.\n",
      "Processed 5.9% of log lines.\n",
      "Processed 5.9% of log lines.\n",
      "Processed 5.9% of log lines.\n",
      "Processed 5.9% of log lines.\n",
      "Processed 5.9% of log lines.\n",
      "Processed 5.9% of log lines.\n",
      "Processed 5.9% of log lines.\n",
      "Processed 6.0% of log lines.\n",
      "Processed 6.0% of log lines.\n",
      "Processed 6.0% of log lines.\n",
      "Processed 6.0% of log lines.\n",
      "Processed 6.0% of log lines.\n",
      "Processed 6.0% of log lines.\n",
      "Processed 6.0% of log lines.\n",
      "Processed 6.0% of log lines.\n",
      "Processed 6.0% of log lines.\n",
      "Processed 6.0% of log lines.\n",
      "Processed 6.0% of log lines.\n",
      "Processed 6.0% of log lines.\n",
      "Processed 6.1% of log lines.\n",
      "Processed 6.1% of log lines.\n",
      "Processed 6.1% of log lines.\n",
      "Processed 6.1% of log lines.\n",
      "Processed 6.1% of log lines.\n",
      "Processed 6.1% of log lines.\n",
      "Processed 6.1% of log lines.\n",
      "Processed 6.1% of log lines.\n",
      "Processed 6.1% of log lines.\n",
      "Processed 6.1% of log lines.\n",
      "Processed 6.1% of log lines.\n",
      "Processed 6.2% of log lines.\n",
      "Processed 6.2% of log lines.\n",
      "Processed 6.2% of log lines.\n",
      "Processed 6.2% of log lines.\n",
      "Processed 6.2% of log lines.\n",
      "Processed 6.2% of log lines.\n",
      "Processed 6.2% of log lines.\n",
      "Processed 6.2% of log lines.\n",
      "Processed 6.2% of log lines.\n",
      "Processed 6.2% of log lines.\n",
      "Processed 6.2% of log lines.\n",
      "Processed 6.3% of log lines.\n",
      "Processed 6.3% of log lines.\n",
      "Processed 6.3% of log lines.\n",
      "Processed 6.3% of log lines.\n",
      "Processed 6.3% of log lines.\n",
      "Processed 6.3% of log lines.\n",
      "Processed 6.3% of log lines.\n",
      "Processed 6.3% of log lines.\n",
      "Processed 6.3% of log lines.\n",
      "Processed 6.3% of log lines.\n",
      "Processed 6.3% of log lines.\n",
      "Processed 6.4% of log lines.\n",
      "Processed 6.4% of log lines.\n",
      "Processed 6.4% of log lines.\n",
      "Processed 6.4% of log lines.\n",
      "Processed 6.4% of log lines.\n",
      "Processed 6.4% of log lines.\n",
      "Processed 6.4% of log lines.\n",
      "Processed 6.4% of log lines.\n",
      "Processed 6.4% of log lines.\n",
      "Processed 6.4% of log lines.\n",
      "Processed 6.4% of log lines.\n",
      "Processed 6.5% of log lines.\n",
      "Processed 6.5% of log lines.\n",
      "Processed 6.5% of log lines.\n",
      "Processed 6.5% of log lines.\n",
      "Processed 6.5% of log lines.\n",
      "Processed 6.5% of log lines.\n",
      "Processed 6.5% of log lines.\n",
      "Processed 6.5% of log lines.\n",
      "Processed 6.5% of log lines.\n",
      "Processed 6.5% of log lines.\n",
      "Processed 6.5% of log lines.\n",
      "Processed 6.5% of log lines.\n",
      "Processed 6.6% of log lines.\n",
      "Processed 6.6% of log lines.\n",
      "Processed 6.6% of log lines.\n",
      "Processed 6.6% of log lines.\n",
      "Processed 6.6% of log lines.\n",
      "Processed 6.6% of log lines.\n",
      "Processed 6.6% of log lines.\n",
      "Processed 6.6% of log lines.\n",
      "Processed 6.6% of log lines.\n",
      "Processed 6.6% of log lines.\n",
      "Processed 6.6% of log lines.\n",
      "Processed 6.7% of log lines.\n",
      "Processed 6.7% of log lines.\n",
      "Processed 6.7% of log lines.\n",
      "Processed 6.7% of log lines.\n",
      "Processed 6.7% of log lines.\n",
      "Processed 6.7% of log lines.\n",
      "Processed 6.7% of log lines.\n",
      "Processed 6.7% of log lines.\n",
      "Processed 6.7% of log lines.\n",
      "Processed 6.7% of log lines.\n",
      "Processed 6.7% of log lines.\n",
      "Processed 6.8% of log lines.\n",
      "Processed 6.8% of log lines.\n",
      "Processed 6.8% of log lines.\n",
      "Processed 6.8% of log lines.\n",
      "Processed 6.8% of log lines.\n",
      "Processed 6.8% of log lines.\n",
      "Processed 6.8% of log lines.\n",
      "Processed 6.8% of log lines.\n",
      "Processed 6.8% of log lines.\n",
      "Processed 6.8% of log lines.\n",
      "Processed 6.8% of log lines.\n",
      "Processed 6.9% of log lines.\n",
      "Processed 6.9% of log lines.\n",
      "Processed 6.9% of log lines.\n",
      "Processed 6.9% of log lines.\n",
      "Processed 6.9% of log lines.\n",
      "Processed 6.9% of log lines.\n",
      "Processed 6.9% of log lines.\n",
      "Processed 6.9% of log lines.\n",
      "Processed 6.9% of log lines.\n",
      "Processed 6.9% of log lines.\n",
      "Processed 6.9% of log lines.\n",
      "Processed 7.0% of log lines.\n",
      "Processed 7.0% of log lines.\n",
      "Processed 7.0% of log lines.\n",
      "Processed 7.0% of log lines.\n",
      "Processed 7.0% of log lines.\n",
      "Processed 7.0% of log lines.\n",
      "Processed 7.0% of log lines.\n",
      "Processed 7.0% of log lines.\n",
      "Processed 7.0% of log lines.\n",
      "Processed 7.0% of log lines.\n",
      "Processed 7.0% of log lines.\n",
      "Processed 7.1% of log lines.\n",
      "Processed 7.1% of log lines.\n",
      "Processed 7.1% of log lines.\n",
      "Processed 7.1% of log lines.\n",
      "Processed 7.1% of log lines.\n",
      "Processed 7.1% of log lines.\n",
      "Processed 7.1% of log lines.\n",
      "Processed 7.1% of log lines.\n",
      "Processed 7.1% of log lines.\n",
      "Processed 7.1% of log lines.\n",
      "Processed 7.1% of log lines.\n",
      "Processed 7.1% of log lines.\n",
      "Processed 7.2% of log lines.\n",
      "Processed 7.2% of log lines.\n",
      "Processed 7.2% of log lines.\n",
      "Processed 7.2% of log lines.\n",
      "Processed 7.2% of log lines.\n",
      "Processed 7.2% of log lines.\n",
      "Processed 7.2% of log lines.\n",
      "Processed 7.2% of log lines.\n",
      "Processed 7.2% of log lines.\n",
      "Processed 7.2% of log lines.\n",
      "Processed 7.2% of log lines.\n",
      "Processed 7.3% of log lines.\n",
      "Processed 7.3% of log lines.\n",
      "Processed 7.3% of log lines.\n",
      "Processed 7.3% of log lines.\n",
      "Processed 7.3% of log lines.\n",
      "Processed 7.3% of log lines.\n",
      "Processed 7.3% of log lines.\n",
      "Processed 7.3% of log lines.\n",
      "Processed 7.3% of log lines.\n",
      "Processed 7.3% of log lines.\n",
      "Processed 7.3% of log lines.\n",
      "Processed 7.4% of log lines.\n",
      "Processed 7.4% of log lines.\n",
      "Processed 7.4% of log lines.\n",
      "Processed 7.4% of log lines.\n",
      "Processed 7.4% of log lines.\n",
      "Processed 7.4% of log lines.\n",
      "Processed 7.4% of log lines.\n",
      "Processed 7.4% of log lines.\n",
      "Processed 7.4% of log lines.\n",
      "Processed 7.4% of log lines.\n",
      "Processed 7.4% of log lines.\n",
      "Processed 7.5% of log lines.\n",
      "Processed 7.5% of log lines.\n",
      "Processed 7.5% of log lines.\n",
      "Processed 7.5% of log lines.\n",
      "Processed 7.5% of log lines.\n",
      "Processed 7.5% of log lines.\n",
      "Processed 7.5% of log lines.\n",
      "Processed 7.5% of log lines.\n",
      "Processed 7.5% of log lines.\n",
      "Processed 7.5% of log lines.\n",
      "Processed 7.5% of log lines.\n",
      "Processed 7.6% of log lines.\n",
      "Processed 7.6% of log lines.\n",
      "Processed 7.6% of log lines.\n",
      "Processed 7.6% of log lines.\n",
      "Processed 7.6% of log lines.\n",
      "Processed 7.6% of log lines.\n",
      "Processed 7.6% of log lines.\n",
      "Processed 7.6% of log lines.\n",
      "Processed 7.6% of log lines.\n",
      "Processed 7.6% of log lines.\n",
      "Processed 7.6% of log lines.\n",
      "Processed 7.7% of log lines.\n",
      "Processed 7.7% of log lines.\n",
      "Processed 7.7% of log lines.\n",
      "Processed 7.7% of log lines.\n",
      "Processed 7.7% of log lines.\n",
      "Processed 7.7% of log lines.\n",
      "Processed 7.7% of log lines.\n",
      "Processed 7.7% of log lines.\n",
      "Processed 7.7% of log lines.\n",
      "Processed 7.7% of log lines.\n",
      "Processed 7.7% of log lines.\n",
      "Processed 7.7% of log lines.\n",
      "Processed 7.8% of log lines.\n",
      "Processed 7.8% of log lines.\n",
      "Processed 7.8% of log lines.\n",
      "Processed 7.8% of log lines.\n",
      "Processed 7.8% of log lines.\n",
      "Processed 7.8% of log lines.\n",
      "Processed 7.8% of log lines.\n",
      "Processed 7.8% of log lines.\n",
      "Processed 7.8% of log lines.\n",
      "Processed 7.8% of log lines.\n",
      "Processed 7.8% of log lines.\n",
      "Processed 7.9% of log lines.\n",
      "Processed 7.9% of log lines.\n",
      "Processed 7.9% of log lines.\n",
      "Processed 7.9% of log lines.\n",
      "Processed 7.9% of log lines.\n",
      "Processed 7.9% of log lines.\n",
      "Processed 7.9% of log lines.\n",
      "Processed 7.9% of log lines.\n",
      "Processed 7.9% of log lines.\n",
      "Processed 7.9% of log lines.\n",
      "Processed 7.9% of log lines.\n",
      "Processed 8.0% of log lines.\n",
      "Processed 8.0% of log lines.\n",
      "Processed 8.0% of log lines.\n",
      "Processed 8.0% of log lines.\n",
      "Processed 8.0% of log lines.\n",
      "Processed 8.0% of log lines.\n",
      "Processed 8.0% of log lines.\n",
      "Processed 8.0% of log lines.\n",
      "Processed 8.0% of log lines.\n",
      "Processed 8.0% of log lines.\n",
      "Processed 8.0% of log lines.\n",
      "Processed 8.1% of log lines.\n",
      "Processed 8.1% of log lines.\n",
      "Processed 8.1% of log lines.\n",
      "Processed 8.1% of log lines.\n",
      "Processed 8.1% of log lines.\n",
      "Processed 8.1% of log lines.\n",
      "Processed 8.1% of log lines.\n",
      "Processed 8.1% of log lines.\n",
      "Processed 8.1% of log lines.\n",
      "Processed 8.1% of log lines.\n",
      "Processed 8.1% of log lines.\n",
      "Processed 8.2% of log lines.\n",
      "Processed 8.2% of log lines.\n",
      "Processed 8.2% of log lines.\n",
      "Processed 8.2% of log lines.\n",
      "Processed 8.2% of log lines.\n",
      "Processed 8.2% of log lines.\n",
      "Processed 8.2% of log lines.\n",
      "Processed 8.2% of log lines.\n",
      "Processed 8.2% of log lines.\n",
      "Processed 8.2% of log lines.\n",
      "Processed 8.2% of log lines.\n",
      "Processed 8.3% of log lines.\n",
      "Processed 8.3% of log lines.\n",
      "Processed 8.3% of log lines.\n",
      "Processed 8.3% of log lines.\n",
      "Processed 8.3% of log lines.\n",
      "Processed 8.3% of log lines.\n",
      "Processed 8.3% of log lines.\n",
      "Processed 8.3% of log lines.\n",
      "Processed 8.3% of log lines.\n",
      "Processed 8.3% of log lines.\n",
      "Processed 8.3% of log lines.\n",
      "Processed 8.3% of log lines.\n",
      "Processed 8.4% of log lines.\n",
      "Processed 8.4% of log lines.\n",
      "Processed 8.4% of log lines.\n",
      "Processed 8.4% of log lines.\n",
      "Processed 8.4% of log lines.\n",
      "Processed 8.4% of log lines.\n",
      "Processed 8.4% of log lines.\n",
      "Processed 8.4% of log lines.\n",
      "Processed 8.4% of log lines.\n",
      "Processed 8.4% of log lines.\n",
      "Processed 8.4% of log lines.\n",
      "Processed 8.5% of log lines.\n",
      "Processed 8.5% of log lines.\n",
      "Processed 8.5% of log lines.\n",
      "Processed 8.5% of log lines.\n",
      "Processed 8.5% of log lines.\n",
      "Processed 8.5% of log lines.\n",
      "Processed 8.5% of log lines.\n",
      "Processed 8.5% of log lines.\n",
      "Processed 8.5% of log lines.\n",
      "Processed 8.5% of log lines.\n",
      "Processed 8.5% of log lines.\n",
      "Processed 8.6% of log lines.\n",
      "Processed 8.6% of log lines.\n",
      "Processed 8.6% of log lines.\n",
      "Processed 8.6% of log lines.\n",
      "Processed 8.6% of log lines.\n",
      "Processed 8.6% of log lines.\n",
      "Processed 8.6% of log lines.\n",
      "Processed 8.6% of log lines.\n",
      "Processed 8.6% of log lines.\n",
      "Processed 8.6% of log lines.\n",
      "Processed 8.6% of log lines.\n",
      "Processed 8.7% of log lines.\n",
      "Processed 8.7% of log lines.\n",
      "Processed 8.7% of log lines.\n",
      "Processed 8.7% of log lines.\n",
      "Processed 8.7% of log lines.\n",
      "Processed 8.7% of log lines.\n",
      "Processed 8.7% of log lines.\n",
      "Processed 8.7% of log lines.\n",
      "Processed 8.7% of log lines.\n",
      "Processed 8.7% of log lines.\n",
      "Processed 8.7% of log lines.\n",
      "Processed 8.8% of log lines.\n",
      "Processed 8.8% of log lines.\n",
      "Processed 8.8% of log lines.\n",
      "Processed 8.8% of log lines.\n",
      "Processed 8.8% of log lines.\n",
      "Processed 8.8% of log lines.\n",
      "Processed 8.8% of log lines.\n",
      "Processed 8.8% of log lines.\n",
      "Processed 8.8% of log lines.\n",
      "Processed 8.8% of log lines.\n",
      "Processed 8.8% of log lines.\n",
      "Processed 8.8% of log lines.\n",
      "Processed 8.9% of log lines.\n",
      "Processed 8.9% of log lines.\n",
      "Processed 8.9% of log lines.\n",
      "Processed 8.9% of log lines.\n",
      "Processed 8.9% of log lines.\n",
      "Processed 8.9% of log lines.\n",
      "Processed 8.9% of log lines.\n",
      "Processed 8.9% of log lines.\n",
      "Processed 8.9% of log lines.\n",
      "Processed 8.9% of log lines.\n",
      "Processed 8.9% of log lines.\n",
      "Processed 9.0% of log lines.\n",
      "Processed 9.0% of log lines.\n",
      "Processed 9.0% of log lines.\n",
      "Processed 9.0% of log lines.\n",
      "Processed 9.0% of log lines.\n",
      "Processed 9.0% of log lines.\n",
      "Processed 9.0% of log lines.\n",
      "Processed 9.0% of log lines.\n",
      "Processed 9.0% of log lines.\n",
      "Processed 9.0% of log lines.\n",
      "Processed 9.0% of log lines.\n",
      "Processed 9.1% of log lines.\n",
      "Processed 9.1% of log lines.\n",
      "Processed 9.1% of log lines.\n",
      "Processed 9.1% of log lines.\n",
      "Processed 9.1% of log lines.\n",
      "Processed 9.1% of log lines.\n",
      "Processed 9.1% of log lines.\n",
      "Processed 9.1% of log lines.\n",
      "Processed 9.1% of log lines.\n",
      "Processed 9.1% of log lines.\n",
      "Processed 9.1% of log lines.\n",
      "Processed 9.2% of log lines.\n",
      "Processed 9.2% of log lines.\n",
      "Processed 9.2% of log lines.\n",
      "Processed 9.2% of log lines.\n",
      "Processed 9.2% of log lines.\n",
      "Processed 9.2% of log lines.\n",
      "Processed 9.2% of log lines.\n",
      "Processed 9.2% of log lines.\n",
      "Processed 9.2% of log lines.\n",
      "Processed 9.2% of log lines.\n",
      "Processed 9.2% of log lines.\n",
      "Processed 9.3% of log lines.\n",
      "Processed 9.3% of log lines.\n",
      "Processed 9.3% of log lines.\n",
      "Processed 9.3% of log lines.\n",
      "Processed 9.3% of log lines.\n",
      "Processed 9.3% of log lines.\n",
      "Processed 9.3% of log lines.\n",
      "Processed 9.3% of log lines.\n",
      "Processed 9.3% of log lines.\n",
      "Processed 9.3% of log lines.\n",
      "Processed 9.3% of log lines.\n",
      "Processed 9.4% of log lines.\n",
      "Processed 9.4% of log lines.\n",
      "Processed 9.4% of log lines.\n",
      "Processed 9.4% of log lines.\n",
      "Processed 9.4% of log lines.\n",
      "Processed 9.4% of log lines.\n",
      "Processed 9.4% of log lines.\n",
      "Processed 9.4% of log lines.\n",
      "Processed 9.4% of log lines.\n",
      "Processed 9.4% of log lines.\n",
      "Processed 9.4% of log lines.\n",
      "Processed 9.4% of log lines.\n",
      "Processed 9.5% of log lines.\n",
      "Processed 9.5% of log lines.\n",
      "Processed 9.5% of log lines.\n",
      "Processed 9.5% of log lines.\n",
      "Processed 9.5% of log lines.\n",
      "Processed 9.5% of log lines.\n",
      "Processed 9.5% of log lines.\n",
      "Processed 9.5% of log lines.\n",
      "Processed 9.5% of log lines.\n",
      "Processed 9.5% of log lines.\n",
      "Processed 9.5% of log lines.\n",
      "Processed 9.6% of log lines.\n",
      "Processed 9.6% of log lines.\n",
      "Processed 9.6% of log lines.\n",
      "Processed 9.6% of log lines.\n",
      "Processed 9.6% of log lines.\n",
      "Processed 9.6% of log lines.\n",
      "Processed 9.6% of log lines.\n",
      "Processed 9.6% of log lines.\n",
      "Processed 9.6% of log lines.\n",
      "Processed 9.6% of log lines.\n",
      "Processed 9.6% of log lines.\n",
      "Processed 9.7% of log lines.\n",
      "Processed 9.7% of log lines.\n",
      "Processed 9.7% of log lines.\n",
      "Processed 9.7% of log lines.\n",
      "Processed 9.7% of log lines.\n",
      "Processed 9.7% of log lines.\n",
      "Processed 9.7% of log lines.\n",
      "Processed 9.7% of log lines.\n",
      "Processed 9.7% of log lines.\n",
      "Processed 9.7% of log lines.\n",
      "Processed 9.7% of log lines.\n",
      "Processed 9.8% of log lines.\n",
      "Processed 9.8% of log lines.\n",
      "Processed 9.8% of log lines.\n",
      "Processed 9.8% of log lines.\n",
      "Processed 9.8% of log lines.\n",
      "Processed 9.8% of log lines.\n",
      "Processed 9.8% of log lines.\n",
      "Processed 9.8% of log lines.\n",
      "Processed 9.8% of log lines.\n",
      "Processed 9.8% of log lines.\n",
      "Processed 9.8% of log lines.\n",
      "Processed 9.9% of log lines.\n",
      "Processed 9.9% of log lines.\n",
      "Processed 9.9% of log lines.\n",
      "Processed 9.9% of log lines.\n",
      "Processed 9.9% of log lines.\n",
      "Processed 9.9% of log lines.\n",
      "Processed 9.9% of log lines.\n",
      "Processed 9.9% of log lines.\n",
      "Processed 9.9% of log lines.\n",
      "Processed 9.9% of log lines.\n",
      "Processed 9.9% of log lines.\n",
      "Processed 10.0% of log lines.\n",
      "Processed 10.0% of log lines.\n",
      "Processed 10.0% of log lines.\n",
      "Processed 10.0% of log lines.\n",
      "Processed 10.0% of log lines.\n",
      "Processed 10.0% of log lines.\n",
      "Processed 10.0% of log lines.\n",
      "Processed 10.0% of log lines.\n",
      "Processed 10.0% of log lines.\n",
      "Processed 10.0% of log lines.\n",
      "Processed 10.0% of log lines.\n",
      "Processed 10.0% of log lines.\n",
      "Processed 10.1% of log lines.\n",
      "Processed 10.1% of log lines.\n",
      "Processed 10.1% of log lines.\n",
      "Processed 10.1% of log lines.\n",
      "Processed 10.1% of log lines.\n",
      "Processed 10.1% of log lines.\n",
      "Processed 10.1% of log lines.\n",
      "Processed 10.1% of log lines.\n",
      "Processed 10.1% of log lines.\n",
      "Processed 10.1% of log lines.\n",
      "Processed 10.1% of log lines.\n",
      "Processed 10.2% of log lines.\n",
      "Processed 10.2% of log lines.\n",
      "Processed 10.2% of log lines.\n",
      "Processed 10.2% of log lines.\n",
      "Processed 10.2% of log lines.\n",
      "Processed 10.2% of log lines.\n",
      "Processed 10.2% of log lines.\n",
      "Processed 10.2% of log lines.\n",
      "Processed 10.2% of log lines.\n",
      "Processed 10.2% of log lines.\n",
      "Processed 10.2% of log lines.\n",
      "Processed 10.3% of log lines.\n",
      "Processed 10.3% of log lines.\n",
      "Processed 10.3% of log lines.\n",
      "Processed 10.3% of log lines.\n",
      "Processed 10.3% of log lines.\n",
      "Processed 10.3% of log lines.\n",
      "Processed 10.3% of log lines.\n",
      "Processed 10.3% of log lines.\n",
      "Processed 10.3% of log lines.\n",
      "Processed 10.3% of log lines.\n",
      "Processed 10.3% of log lines.\n",
      "Processed 10.4% of log lines.\n",
      "Processed 10.4% of log lines.\n",
      "Processed 10.4% of log lines.\n",
      "Processed 10.4% of log lines.\n",
      "Processed 10.4% of log lines.\n",
      "Processed 10.4% of log lines.\n",
      "Processed 10.4% of log lines.\n",
      "Processed 10.4% of log lines.\n",
      "Processed 10.4% of log lines.\n",
      "Processed 10.4% of log lines.\n",
      "Processed 10.4% of log lines.\n",
      "Processed 10.5% of log lines.\n",
      "Processed 10.5% of log lines.\n",
      "Processed 10.5% of log lines.\n",
      "Processed 10.5% of log lines.\n",
      "Processed 10.5% of log lines.\n",
      "Processed 10.5% of log lines.\n",
      "Processed 10.5% of log lines.\n",
      "Processed 10.5% of log lines.\n",
      "Processed 10.5% of log lines.\n",
      "Processed 10.5% of log lines.\n",
      "Processed 10.5% of log lines.\n",
      "Processed 10.5% of log lines.\n",
      "Processed 10.6% of log lines.\n",
      "Processed 10.6% of log lines.\n",
      "Processed 10.6% of log lines.\n",
      "Processed 10.6% of log lines.\n",
      "Processed 10.6% of log lines.\n",
      "Processed 10.6% of log lines.\n",
      "Processed 10.6% of log lines.\n",
      "Processed 10.6% of log lines.\n",
      "Processed 10.6% of log lines.\n",
      "Processed 10.6% of log lines.\n",
      "Processed 10.6% of log lines.\n",
      "Processed 10.7% of log lines.\n",
      "Processed 10.7% of log lines.\n",
      "Processed 10.7% of log lines.\n",
      "Processed 10.7% of log lines.\n",
      "Processed 10.7% of log lines.\n",
      "Processed 10.7% of log lines.\n",
      "Processed 10.7% of log lines.\n",
      "Processed 10.7% of log lines.\n",
      "Processed 10.7% of log lines.\n",
      "Processed 10.7% of log lines.\n",
      "Processed 10.7% of log lines.\n",
      "Processed 10.8% of log lines.\n",
      "Processed 10.8% of log lines.\n",
      "Processed 10.8% of log lines.\n",
      "Processed 10.8% of log lines.\n",
      "Processed 10.8% of log lines.\n",
      "Processed 10.8% of log lines.\n",
      "Processed 10.8% of log lines.\n",
      "Processed 10.8% of log lines.\n",
      "Processed 10.8% of log lines.\n",
      "Processed 10.8% of log lines.\n",
      "Processed 10.8% of log lines.\n",
      "Processed 10.9% of log lines.\n",
      "Processed 10.9% of log lines.\n",
      "Processed 10.9% of log lines.\n",
      "Processed 10.9% of log lines.\n",
      "Processed 10.9% of log lines.\n",
      "Processed 10.9% of log lines.\n",
      "Processed 10.9% of log lines.\n",
      "Processed 10.9% of log lines.\n",
      "Processed 10.9% of log lines.\n",
      "Processed 10.9% of log lines.\n",
      "Processed 10.9% of log lines.\n",
      "Processed 11.0% of log lines.\n",
      "Processed 11.0% of log lines.\n",
      "Processed 11.0% of log lines.\n",
      "Processed 11.0% of log lines.\n",
      "Processed 11.0% of log lines.\n",
      "Processed 11.0% of log lines.\n",
      "Processed 11.0% of log lines.\n",
      "Processed 11.0% of log lines.\n",
      "Processed 11.0% of log lines.\n",
      "Processed 11.0% of log lines.\n",
      "Processed 11.0% of log lines.\n",
      "Processed 11.1% of log lines.\n",
      "Processed 11.1% of log lines.\n",
      "Processed 11.1% of log lines.\n",
      "Processed 11.1% of log lines.\n",
      "Processed 11.1% of log lines.\n",
      "Processed 11.1% of log lines.\n",
      "Processed 11.1% of log lines.\n",
      "Processed 11.1% of log lines.\n",
      "Processed 11.1% of log lines.\n",
      "Processed 11.1% of log lines.\n",
      "Processed 11.1% of log lines.\n",
      "Processed 11.1% of log lines.\n",
      "Processed 11.2% of log lines.\n",
      "Processed 11.2% of log lines.\n",
      "Processed 11.2% of log lines.\n",
      "Processed 11.2% of log lines.\n",
      "Processed 11.2% of log lines.\n",
      "Processed 11.2% of log lines.\n",
      "Processed 11.2% of log lines.\n",
      "Processed 11.2% of log lines.\n",
      "Processed 11.2% of log lines.\n",
      "Processed 11.2% of log lines.\n",
      "Processed 11.2% of log lines.\n",
      "Processed 11.3% of log lines.\n",
      "Processed 11.3% of log lines.\n",
      "Processed 11.3% of log lines.\n",
      "Processed 11.3% of log lines.\n",
      "Processed 11.3% of log lines.\n",
      "Processed 11.3% of log lines.\n",
      "Processed 11.3% of log lines.\n",
      "Processed 11.3% of log lines.\n",
      "Processed 11.3% of log lines.\n",
      "Processed 11.3% of log lines.\n",
      "Processed 11.3% of log lines.\n",
      "Processed 11.4% of log lines.\n",
      "Processed 11.4% of log lines.\n",
      "Processed 11.4% of log lines.\n",
      "Processed 11.4% of log lines.\n",
      "Processed 11.4% of log lines.\n",
      "Processed 11.4% of log lines.\n",
      "Processed 11.4% of log lines.\n",
      "Processed 11.4% of log lines.\n",
      "Processed 11.4% of log lines.\n",
      "Processed 11.4% of log lines.\n",
      "Processed 11.4% of log lines.\n",
      "Processed 11.5% of log lines.\n",
      "Processed 11.5% of log lines.\n",
      "Processed 11.5% of log lines.\n",
      "Processed 11.5% of log lines.\n",
      "Processed 11.5% of log lines.\n",
      "Processed 11.5% of log lines.\n",
      "Processed 11.5% of log lines.\n",
      "Processed 11.5% of log lines.\n",
      "Processed 11.5% of log lines.\n",
      "Processed 11.5% of log lines.\n",
      "Processed 11.5% of log lines.\n",
      "Processed 11.6% of log lines.\n",
      "Processed 11.6% of log lines.\n",
      "Processed 11.6% of log lines.\n",
      "Processed 11.6% of log lines.\n",
      "Processed 11.6% of log lines.\n",
      "Processed 11.6% of log lines.\n",
      "Processed 11.6% of log lines.\n",
      "Processed 11.6% of log lines.\n",
      "Processed 11.6% of log lines.\n",
      "Processed 11.6% of log lines.\n",
      "Processed 11.6% of log lines.\n",
      "Processed 11.7% of log lines.\n",
      "Processed 11.7% of log lines.\n",
      "Processed 11.7% of log lines.\n",
      "Processed 11.7% of log lines.\n",
      "Processed 11.7% of log lines.\n",
      "Processed 11.7% of log lines.\n",
      "Processed 11.7% of log lines.\n",
      "Processed 11.7% of log lines.\n",
      "Processed 11.7% of log lines.\n",
      "Processed 11.7% of log lines.\n",
      "Processed 11.7% of log lines.\n",
      "Processed 11.7% of log lines.\n",
      "Processed 11.8% of log lines.\n",
      "Processed 11.8% of log lines.\n",
      "Processed 11.8% of log lines.\n",
      "Processed 11.8% of log lines.\n",
      "Processed 11.8% of log lines.\n",
      "Processed 11.8% of log lines.\n",
      "Processed 11.8% of log lines.\n",
      "Processed 11.8% of log lines.\n",
      "Processed 11.8% of log lines.\n",
      "Processed 11.8% of log lines.\n",
      "Processed 11.8% of log lines.\n",
      "Processed 11.9% of log lines.\n",
      "Processed 11.9% of log lines.\n",
      "Processed 11.9% of log lines.\n",
      "Processed 11.9% of log lines.\n",
      "Processed 11.9% of log lines.\n",
      "Processed 11.9% of log lines.\n",
      "Processed 11.9% of log lines.\n",
      "Processed 11.9% of log lines.\n",
      "Processed 11.9% of log lines.\n",
      "Processed 11.9% of log lines.\n",
      "Processed 11.9% of log lines.\n",
      "Processed 12.0% of log lines.\n",
      "Processed 12.0% of log lines.\n",
      "Processed 12.0% of log lines.\n",
      "Processed 12.0% of log lines.\n",
      "Processed 12.0% of log lines.\n",
      "Processed 12.0% of log lines.\n",
      "Processed 12.0% of log lines.\n",
      "Processed 12.0% of log lines.\n",
      "Processed 12.0% of log lines.\n",
      "Processed 12.0% of log lines.\n",
      "Processed 12.0% of log lines.\n",
      "Processed 12.1% of log lines.\n",
      "Processed 12.1% of log lines.\n",
      "Processed 12.1% of log lines.\n",
      "Processed 12.1% of log lines.\n",
      "Processed 12.1% of log lines.\n",
      "Processed 12.1% of log lines.\n",
      "Processed 12.1% of log lines.\n",
      "Processed 12.1% of log lines.\n",
      "Processed 12.1% of log lines.\n",
      "Processed 12.1% of log lines.\n",
      "Processed 12.1% of log lines.\n",
      "Processed 12.2% of log lines.\n",
      "Processed 12.2% of log lines.\n",
      "Processed 12.2% of log lines.\n",
      "Processed 12.2% of log lines.\n",
      "Processed 12.2% of log lines.\n",
      "Processed 12.2% of log lines.\n",
      "Processed 12.2% of log lines.\n",
      "Processed 12.2% of log lines.\n",
      "Processed 12.2% of log lines.\n",
      "Processed 12.2% of log lines.\n",
      "Processed 12.2% of log lines.\n",
      "Processed 12.2% of log lines.\n",
      "Processed 12.3% of log lines.\n",
      "Processed 12.3% of log lines.\n",
      "Processed 12.3% of log lines.\n",
      "Processed 12.3% of log lines.\n",
      "Processed 12.3% of log lines.\n",
      "Processed 12.3% of log lines.\n",
      "Processed 12.3% of log lines.\n",
      "Processed 12.3% of log lines.\n",
      "Processed 12.3% of log lines.\n",
      "Processed 12.3% of log lines.\n",
      "Processed 12.3% of log lines.\n",
      "Processed 12.4% of log lines.\n",
      "Processed 12.4% of log lines.\n",
      "Processed 12.4% of log lines.\n",
      "Processed 12.4% of log lines.\n",
      "Processed 12.4% of log lines.\n",
      "Processed 12.4% of log lines.\n",
      "Processed 12.4% of log lines.\n",
      "Processed 12.4% of log lines.\n",
      "Processed 12.4% of log lines.\n",
      "Processed 12.4% of log lines.\n",
      "Processed 12.4% of log lines.\n",
      "Processed 12.5% of log lines.\n",
      "Processed 12.5% of log lines.\n",
      "Processed 12.5% of log lines.\n",
      "Processed 12.5% of log lines.\n",
      "Processed 12.5% of log lines.\n",
      "Processed 12.5% of log lines.\n",
      "Processed 12.5% of log lines.\n",
      "Processed 12.5% of log lines.\n",
      "Processed 12.5% of log lines.\n",
      "Processed 12.5% of log lines.\n",
      "Processed 12.5% of log lines.\n",
      "Processed 12.6% of log lines.\n",
      "Processed 12.6% of log lines.\n",
      "Processed 12.6% of log lines.\n",
      "Processed 12.6% of log lines.\n",
      "Processed 12.6% of log lines.\n",
      "Processed 12.6% of log lines.\n",
      "Processed 12.6% of log lines.\n",
      "Processed 12.6% of log lines.\n",
      "Processed 12.6% of log lines.\n",
      "Processed 12.6% of log lines.\n",
      "Processed 12.6% of log lines.\n",
      "Processed 12.7% of log lines.\n",
      "Processed 12.7% of log lines.\n",
      "Processed 12.7% of log lines.\n",
      "Processed 12.7% of log lines.\n",
      "Processed 12.7% of log lines.\n",
      "Processed 12.7% of log lines.\n",
      "Processed 12.7% of log lines.\n",
      "Processed 12.7% of log lines.\n",
      "Processed 12.7% of log lines.\n",
      "Processed 12.7% of log lines.\n",
      "Processed 12.7% of log lines.\n",
      "Processed 12.8% of log lines.\n",
      "Processed 12.8% of log lines.\n",
      "Processed 12.8% of log lines.\n",
      "Processed 12.8% of log lines.\n",
      "Processed 12.8% of log lines.\n",
      "Processed 12.8% of log lines.\n",
      "Processed 12.8% of log lines.\n",
      "Processed 12.8% of log lines.\n",
      "Processed 12.8% of log lines.\n",
      "Processed 12.8% of log lines.\n",
      "Processed 12.8% of log lines.\n",
      "Processed 12.8% of log lines.\n",
      "Processed 12.9% of log lines.\n",
      "Processed 12.9% of log lines.\n",
      "Processed 12.9% of log lines.\n",
      "Processed 12.9% of log lines.\n",
      "Processed 12.9% of log lines.\n",
      "Processed 12.9% of log lines.\n",
      "Processed 12.9% of log lines.\n",
      "Processed 12.9% of log lines.\n",
      "Processed 12.9% of log lines.\n",
      "Processed 12.9% of log lines.\n",
      "Processed 12.9% of log lines.\n",
      "Processed 13.0% of log lines.\n",
      "Processed 13.0% of log lines.\n",
      "Processed 13.0% of log lines.\n",
      "Processed 13.0% of log lines.\n",
      "Processed 13.0% of log lines.\n",
      "Processed 13.0% of log lines.\n",
      "Processed 13.0% of log lines.\n",
      "Processed 13.0% of log lines.\n",
      "Processed 13.0% of log lines.\n",
      "Processed 13.0% of log lines.\n",
      "Processed 13.0% of log lines.\n",
      "Processed 13.1% of log lines.\n",
      "Processed 13.1% of log lines.\n",
      "Processed 13.1% of log lines.\n",
      "Processed 13.1% of log lines.\n",
      "Processed 13.1% of log lines.\n",
      "Processed 13.1% of log lines.\n",
      "Processed 13.1% of log lines.\n",
      "Processed 13.1% of log lines.\n",
      "Processed 13.1% of log lines.\n",
      "Processed 13.1% of log lines.\n",
      "Processed 13.1% of log lines.\n",
      "Processed 13.2% of log lines.\n",
      "Processed 13.2% of log lines.\n",
      "Processed 13.2% of log lines.\n",
      "Processed 13.2% of log lines.\n",
      "Processed 13.2% of log lines.\n",
      "Processed 13.2% of log lines.\n",
      "Processed 13.2% of log lines.\n",
      "Processed 13.2% of log lines.\n",
      "Processed 13.2% of log lines.\n",
      "Processed 13.2% of log lines.\n",
      "Processed 13.2% of log lines.\n",
      "Processed 13.3% of log lines.\n",
      "Processed 13.3% of log lines.\n",
      "Processed 13.3% of log lines.\n",
      "Processed 13.3% of log lines.\n",
      "Processed 13.3% of log lines.\n",
      "Processed 13.3% of log lines.\n",
      "Processed 13.3% of log lines.\n",
      "Processed 13.3% of log lines.\n",
      "Processed 13.3% of log lines.\n",
      "Processed 13.3% of log lines.\n",
      "Processed 13.3% of log lines.\n",
      "Processed 13.4% of log lines.\n",
      "Processed 13.4% of log lines.\n",
      "Processed 13.4% of log lines.\n",
      "Processed 13.4% of log lines.\n",
      "Processed 13.4% of log lines.\n",
      "Processed 13.4% of log lines.\n",
      "Processed 13.4% of log lines.\n",
      "Processed 13.4% of log lines.\n",
      "Processed 13.4% of log lines.\n",
      "Processed 13.4% of log lines.\n",
      "Processed 13.4% of log lines.\n",
      "Processed 13.4% of log lines.\n",
      "Processed 13.5% of log lines.\n",
      "Processed 13.5% of log lines.\n",
      "Processed 13.5% of log lines.\n",
      "Processed 13.5% of log lines.\n",
      "Processed 13.5% of log lines.\n",
      "Processed 13.5% of log lines.\n",
      "Processed 13.5% of log lines.\n",
      "Processed 13.5% of log lines.\n",
      "Processed 13.5% of log lines.\n",
      "Processed 13.5% of log lines.\n",
      "Processed 13.5% of log lines.\n",
      "Processed 13.6% of log lines.\n",
      "Processed 13.6% of log lines.\n",
      "Processed 13.6% of log lines.\n",
      "Processed 13.6% of log lines.\n",
      "Processed 13.6% of log lines.\n",
      "Processed 13.6% of log lines.\n",
      "Processed 13.6% of log lines.\n",
      "Processed 13.6% of log lines.\n",
      "Processed 13.6% of log lines.\n",
      "Processed 13.6% of log lines.\n",
      "Processed 13.6% of log lines.\n",
      "Processed 13.7% of log lines.\n",
      "Processed 13.7% of log lines.\n",
      "Processed 13.7% of log lines.\n",
      "Processed 13.7% of log lines.\n",
      "Processed 13.7% of log lines.\n",
      "Processed 13.7% of log lines.\n",
      "Processed 13.7% of log lines.\n",
      "Processed 13.7% of log lines.\n",
      "Processed 13.7% of log lines.\n",
      "Processed 13.7% of log lines.\n",
      "Processed 13.7% of log lines.\n",
      "Processed 13.8% of log lines.\n",
      "Processed 13.8% of log lines.\n",
      "Processed 13.8% of log lines.\n",
      "Processed 13.8% of log lines.\n",
      "Processed 13.8% of log lines.\n",
      "Processed 13.8% of log lines.\n",
      "Processed 13.8% of log lines.\n",
      "Processed 13.8% of log lines.\n",
      "Processed 13.8% of log lines.\n",
      "Processed 13.8% of log lines.\n",
      "Processed 13.8% of log lines.\n",
      "Processed 13.9% of log lines.\n",
      "Processed 13.9% of log lines.\n",
      "Processed 13.9% of log lines.\n",
      "Processed 13.9% of log lines.\n",
      "Processed 13.9% of log lines.\n",
      "Processed 13.9% of log lines.\n",
      "Processed 13.9% of log lines.\n",
      "Processed 13.9% of log lines.\n",
      "Processed 13.9% of log lines.\n",
      "Processed 13.9% of log lines.\n",
      "Processed 13.9% of log lines.\n",
      "Processed 13.9% of log lines.\n",
      "Processed 14.0% of log lines.\n",
      "Processed 14.0% of log lines.\n",
      "Processed 14.0% of log lines.\n",
      "Processed 14.0% of log lines.\n",
      "Processed 14.0% of log lines.\n",
      "Processed 14.0% of log lines.\n",
      "Processed 14.0% of log lines.\n",
      "Processed 14.0% of log lines.\n",
      "Processed 14.0% of log lines.\n",
      "Processed 14.0% of log lines.\n",
      "Processed 14.0% of log lines.\n",
      "Processed 14.1% of log lines.\n",
      "Processed 14.1% of log lines.\n",
      "Processed 14.1% of log lines.\n",
      "Processed 14.1% of log lines.\n",
      "Processed 14.1% of log lines.\n",
      "Processed 14.1% of log lines.\n",
      "Processed 14.1% of log lines.\n",
      "Processed 14.1% of log lines.\n",
      "Processed 14.1% of log lines.\n",
      "Processed 14.1% of log lines.\n",
      "Processed 14.1% of log lines.\n",
      "Processed 14.2% of log lines.\n",
      "Processed 14.2% of log lines.\n",
      "Processed 14.2% of log lines.\n",
      "Processed 14.2% of log lines.\n",
      "Processed 14.2% of log lines.\n",
      "Processed 14.2% of log lines.\n",
      "Processed 14.2% of log lines.\n",
      "Processed 14.2% of log lines.\n",
      "Processed 14.2% of log lines.\n",
      "Processed 14.2% of log lines.\n",
      "Processed 14.2% of log lines.\n",
      "Processed 14.3% of log lines.\n",
      "Processed 14.3% of log lines.\n",
      "Processed 14.3% of log lines.\n",
      "Processed 14.3% of log lines.\n",
      "Processed 14.3% of log lines.\n",
      "Processed 14.3% of log lines.\n",
      "Processed 14.3% of log lines.\n",
      "Processed 14.3% of log lines.\n",
      "Processed 14.3% of log lines.\n",
      "Processed 14.3% of log lines.\n",
      "Processed 14.3% of log lines.\n",
      "Processed 14.4% of log lines.\n",
      "Processed 14.4% of log lines.\n",
      "Processed 14.4% of log lines.\n",
      "Processed 14.4% of log lines.\n",
      "Processed 14.4% of log lines.\n",
      "Processed 14.4% of log lines.\n",
      "Processed 14.4% of log lines.\n",
      "Processed 14.4% of log lines.\n",
      "Processed 14.4% of log lines.\n",
      "Processed 14.4% of log lines.\n",
      "Processed 14.4% of log lines.\n",
      "Processed 14.5% of log lines.\n",
      "Processed 14.5% of log lines.\n",
      "Processed 14.5% of log lines.\n",
      "Processed 14.5% of log lines.\n",
      "Processed 14.5% of log lines.\n",
      "Processed 14.5% of log lines.\n",
      "Processed 14.5% of log lines.\n",
      "Processed 14.5% of log lines.\n",
      "Processed 14.5% of log lines.\n",
      "Processed 14.5% of log lines.\n",
      "Processed 14.5% of log lines.\n",
      "Processed 14.5% of log lines.\n",
      "Processed 14.6% of log lines.\n",
      "Processed 14.6% of log lines.\n",
      "Processed 14.6% of log lines.\n",
      "Processed 14.6% of log lines.\n",
      "Processed 14.6% of log lines.\n",
      "Processed 14.6% of log lines.\n",
      "Processed 14.6% of log lines.\n",
      "Processed 14.6% of log lines.\n",
      "Processed 14.6% of log lines.\n",
      "Processed 14.6% of log lines.\n",
      "Processed 14.6% of log lines.\n",
      "Processed 14.7% of log lines.\n",
      "Processed 14.7% of log lines.\n",
      "Processed 14.7% of log lines.\n",
      "Processed 14.7% of log lines.\n",
      "Processed 14.7% of log lines.\n",
      "Processed 14.7% of log lines.\n",
      "Processed 14.7% of log lines.\n",
      "Processed 14.7% of log lines.\n",
      "Processed 14.7% of log lines.\n",
      "Processed 14.7% of log lines.\n",
      "Processed 14.7% of log lines.\n",
      "Processed 14.8% of log lines.\n",
      "Processed 14.8% of log lines.\n",
      "Processed 14.8% of log lines.\n",
      "Processed 14.8% of log lines.\n",
      "Processed 14.8% of log lines.\n",
      "Processed 14.8% of log lines.\n",
      "Processed 14.8% of log lines.\n",
      "Processed 14.8% of log lines.\n",
      "Processed 14.8% of log lines.\n",
      "Processed 14.8% of log lines.\n",
      "Processed 14.8% of log lines.\n",
      "Processed 14.9% of log lines.\n",
      "Processed 14.9% of log lines.\n",
      "Processed 14.9% of log lines.\n",
      "Processed 14.9% of log lines.\n",
      "Processed 14.9% of log lines.\n",
      "Processed 14.9% of log lines.\n",
      "Processed 14.9% of log lines.\n",
      "Processed 14.9% of log lines.\n",
      "Processed 14.9% of log lines.\n",
      "Processed 14.9% of log lines.\n",
      "Processed 14.9% of log lines.\n",
      "Processed 15.0% of log lines.\n",
      "Processed 15.0% of log lines.\n",
      "Processed 15.0% of log lines.\n",
      "Processed 15.0% of log lines.\n",
      "Processed 15.0% of log lines.\n",
      "Processed 15.0% of log lines.\n",
      "Processed 15.0% of log lines.\n",
      "Processed 15.0% of log lines.\n",
      "Processed 15.0% of log lines.\n",
      "Processed 15.0% of log lines.\n",
      "Processed 15.0% of log lines.\n",
      "Processed 15.1% of log lines.\n",
      "Processed 15.1% of log lines.\n",
      "Processed 15.1% of log lines.\n",
      "Processed 15.1% of log lines.\n",
      "Processed 15.1% of log lines.\n",
      "Processed 15.1% of log lines.\n",
      "Processed 15.1% of log lines.\n",
      "Processed 15.1% of log lines.\n",
      "Processed 15.1% of log lines.\n",
      "Processed 15.1% of log lines.\n",
      "Processed 15.1% of log lines.\n",
      "Processed 15.1% of log lines.\n",
      "Processed 15.2% of log lines.\n",
      "Processed 15.2% of log lines.\n",
      "Processed 15.2% of log lines.\n",
      "Processed 15.2% of log lines.\n",
      "Processed 15.2% of log lines.\n",
      "Processed 15.2% of log lines.\n",
      "Processed 15.2% of log lines.\n",
      "Processed 15.2% of log lines.\n",
      "Processed 15.2% of log lines.\n",
      "Processed 15.2% of log lines.\n",
      "Processed 15.2% of log lines.\n",
      "Processed 15.3% of log lines.\n",
      "Processed 15.3% of log lines.\n",
      "Processed 15.3% of log lines.\n",
      "Processed 15.3% of log lines.\n",
      "Processed 15.3% of log lines.\n",
      "Processed 15.3% of log lines.\n",
      "Processed 15.3% of log lines.\n",
      "Processed 15.3% of log lines.\n",
      "Processed 15.3% of log lines.\n",
      "Processed 15.3% of log lines.\n",
      "Processed 15.3% of log lines.\n",
      "Processed 15.4% of log lines.\n",
      "Processed 15.4% of log lines.\n",
      "Processed 15.4% of log lines.\n",
      "Processed 15.4% of log lines.\n",
      "Processed 15.4% of log lines.\n",
      "Processed 15.4% of log lines.\n",
      "Processed 15.4% of log lines.\n",
      "Processed 15.4% of log lines.\n",
      "Processed 15.4% of log lines.\n",
      "Processed 15.4% of log lines.\n",
      "Processed 15.4% of log lines.\n",
      "Processed 15.5% of log lines.\n",
      "Processed 15.5% of log lines.\n",
      "Processed 15.5% of log lines.\n",
      "Processed 15.5% of log lines.\n",
      "Processed 15.5% of log lines.\n",
      "Processed 15.5% of log lines.\n",
      "Processed 15.5% of log lines.\n",
      "Processed 15.5% of log lines.\n",
      "Processed 15.5% of log lines.\n",
      "Processed 15.5% of log lines.\n",
      "Processed 15.5% of log lines.\n",
      "Processed 15.6% of log lines.\n",
      "Processed 15.6% of log lines.\n",
      "Processed 15.6% of log lines.\n",
      "Processed 15.6% of log lines.\n",
      "Processed 15.6% of log lines.\n",
      "Processed 15.6% of log lines.\n",
      "Processed 15.6% of log lines.\n",
      "Processed 15.6% of log lines.\n",
      "Processed 15.6% of log lines.\n",
      "Processed 15.6% of log lines.\n",
      "Processed 15.6% of log lines.\n",
      "Processed 15.7% of log lines.\n",
      "Processed 15.7% of log lines.\n",
      "Processed 15.7% of log lines.\n",
      "Processed 15.7% of log lines.\n",
      "Processed 15.7% of log lines.\n",
      "Processed 15.7% of log lines.\n",
      "Processed 15.7% of log lines.\n",
      "Processed 15.7% of log lines.\n",
      "Processed 15.7% of log lines.\n",
      "Processed 15.7% of log lines.\n",
      "Processed 15.7% of log lines.\n",
      "Processed 15.7% of log lines.\n",
      "Processed 15.8% of log lines.\n",
      "Processed 15.8% of log lines.\n",
      "Processed 15.8% of log lines.\n",
      "Processed 15.8% of log lines.\n",
      "Processed 15.8% of log lines.\n",
      "Processed 15.8% of log lines.\n",
      "Processed 15.8% of log lines.\n",
      "Processed 15.8% of log lines.\n",
      "Processed 15.8% of log lines.\n",
      "Processed 15.8% of log lines.\n",
      "Processed 15.8% of log lines.\n",
      "Processed 15.9% of log lines.\n",
      "Processed 15.9% of log lines.\n",
      "Processed 15.9% of log lines.\n",
      "Processed 15.9% of log lines.\n",
      "Processed 15.9% of log lines.\n",
      "Processed 15.9% of log lines.\n",
      "Processed 15.9% of log lines.\n",
      "Processed 15.9% of log lines.\n",
      "Processed 15.9% of log lines.\n",
      "Processed 15.9% of log lines.\n",
      "Processed 15.9% of log lines.\n",
      "Processed 16.0% of log lines.\n",
      "Processed 16.0% of log lines.\n",
      "Processed 16.0% of log lines.\n",
      "Processed 16.0% of log lines.\n",
      "Processed 16.0% of log lines.\n",
      "Processed 16.0% of log lines.\n",
      "Processed 16.0% of log lines.\n",
      "Processed 16.0% of log lines.\n",
      "Processed 16.0% of log lines.\n",
      "Processed 16.0% of log lines.\n",
      "Processed 16.0% of log lines.\n",
      "Processed 16.1% of log lines.\n",
      "Processed 16.1% of log lines.\n",
      "Processed 16.1% of log lines.\n",
      "Processed 16.1% of log lines.\n",
      "Processed 16.1% of log lines.\n",
      "Processed 16.1% of log lines.\n",
      "Processed 16.1% of log lines.\n",
      "Processed 16.1% of log lines.\n",
      "Processed 16.1% of log lines.\n",
      "Processed 16.1% of log lines.\n",
      "Processed 16.1% of log lines.\n",
      "Processed 16.2% of log lines.\n",
      "Processed 16.2% of log lines.\n",
      "Processed 16.2% of log lines.\n",
      "Processed 16.2% of log lines.\n",
      "Processed 16.2% of log lines.\n",
      "Processed 16.2% of log lines.\n",
      "Processed 16.2% of log lines.\n",
      "Processed 16.2% of log lines.\n",
      "Processed 16.2% of log lines.\n",
      "Processed 16.2% of log lines.\n",
      "Processed 16.2% of log lines.\n",
      "Processed 16.2% of log lines.\n",
      "Processed 16.3% of log lines.\n",
      "Processed 16.3% of log lines.\n",
      "Processed 16.3% of log lines.\n",
      "Processed 16.3% of log lines.\n",
      "Processed 16.3% of log lines.\n",
      "Processed 16.3% of log lines.\n",
      "Processed 16.3% of log lines.\n",
      "Processed 16.3% of log lines.\n",
      "Processed 16.3% of log lines.\n",
      "Processed 16.3% of log lines.\n",
      "Processed 16.3% of log lines.\n",
      "Processed 16.4% of log lines.\n",
      "Processed 16.4% of log lines.\n",
      "Processed 16.4% of log lines.\n",
      "Processed 16.4% of log lines.\n",
      "Processed 16.4% of log lines.\n",
      "Processed 16.4% of log lines.\n",
      "Processed 16.4% of log lines.\n",
      "Processed 16.4% of log lines.\n",
      "Processed 16.4% of log lines.\n",
      "Processed 16.4% of log lines.\n",
      "Processed 16.4% of log lines.\n",
      "Processed 16.5% of log lines.\n",
      "Processed 16.5% of log lines.\n",
      "Processed 16.5% of log lines.\n",
      "Processed 16.5% of log lines.\n",
      "Processed 16.5% of log lines.\n",
      "Processed 16.5% of log lines.\n",
      "Processed 16.5% of log lines.\n",
      "Processed 16.5% of log lines.\n",
      "Processed 16.5% of log lines.\n",
      "Processed 16.5% of log lines.\n",
      "Processed 16.5% of log lines.\n",
      "Processed 16.6% of log lines.\n",
      "Processed 16.6% of log lines.\n",
      "Processed 16.6% of log lines.\n",
      "Processed 16.6% of log lines.\n",
      "Processed 16.6% of log lines.\n",
      "Processed 16.6% of log lines.\n",
      "Processed 16.6% of log lines.\n",
      "Processed 16.6% of log lines.\n",
      "Processed 16.6% of log lines.\n",
      "Processed 16.6% of log lines.\n",
      "Processed 16.6% of log lines.\n",
      "Processed 16.7% of log lines.\n",
      "Processed 16.7% of log lines.\n",
      "Processed 16.7% of log lines.\n",
      "Processed 16.7% of log lines.\n",
      "Processed 16.7% of log lines.\n",
      "Processed 16.7% of log lines.\n",
      "Processed 16.7% of log lines.\n",
      "Processed 16.7% of log lines.\n",
      "Processed 16.7% of log lines.\n",
      "Processed 16.7% of log lines.\n",
      "Processed 16.7% of log lines.\n",
      "Processed 16.8% of log lines.\n",
      "Processed 16.8% of log lines.\n",
      "Processed 16.8% of log lines.\n",
      "Processed 16.8% of log lines.\n",
      "Processed 16.8% of log lines.\n",
      "Processed 16.8% of log lines.\n",
      "Processed 16.8% of log lines.\n",
      "Processed 16.8% of log lines.\n",
      "Processed 16.8% of log lines.\n",
      "Processed 16.8% of log lines.\n",
      "Processed 16.8% of log lines.\n",
      "Processed 16.8% of log lines.\n",
      "Processed 16.9% of log lines.\n",
      "Processed 16.9% of log lines.\n",
      "Processed 16.9% of log lines.\n",
      "Processed 16.9% of log lines.\n",
      "Processed 16.9% of log lines.\n",
      "Processed 16.9% of log lines.\n",
      "Processed 16.9% of log lines.\n",
      "Processed 16.9% of log lines.\n",
      "Processed 16.9% of log lines.\n",
      "Processed 16.9% of log lines.\n",
      "Processed 16.9% of log lines.\n",
      "Processed 17.0% of log lines.\n",
      "Processed 17.0% of log lines.\n",
      "Processed 17.0% of log lines.\n",
      "Processed 17.0% of log lines.\n",
      "Processed 17.0% of log lines.\n",
      "Processed 17.0% of log lines.\n",
      "Processed 17.0% of log lines.\n",
      "Processed 17.0% of log lines.\n",
      "Processed 17.0% of log lines.\n",
      "Processed 17.0% of log lines.\n",
      "Processed 17.0% of log lines.\n",
      "Processed 17.1% of log lines.\n",
      "Processed 17.1% of log lines.\n",
      "Processed 17.1% of log lines.\n",
      "Processed 17.1% of log lines.\n",
      "Processed 17.1% of log lines.\n",
      "Processed 17.1% of log lines.\n",
      "Processed 17.1% of log lines.\n",
      "Processed 17.1% of log lines.\n",
      "Processed 17.1% of log lines.\n",
      "Processed 17.1% of log lines.\n",
      "Processed 17.1% of log lines.\n",
      "Processed 17.2% of log lines.\n",
      "Processed 17.2% of log lines.\n",
      "Processed 17.2% of log lines.\n",
      "Processed 17.2% of log lines.\n",
      "Processed 17.2% of log lines.\n",
      "Processed 17.2% of log lines.\n",
      "Processed 17.2% of log lines.\n",
      "Processed 17.2% of log lines.\n",
      "Processed 17.2% of log lines.\n",
      "Processed 17.2% of log lines.\n",
      "Processed 17.2% of log lines.\n",
      "Processed 17.3% of log lines.\n",
      "Processed 17.3% of log lines.\n",
      "Processed 17.3% of log lines.\n",
      "Processed 17.3% of log lines.\n",
      "Processed 17.3% of log lines.\n",
      "Processed 17.3% of log lines.\n",
      "Processed 17.3% of log lines.\n",
      "Processed 17.3% of log lines.\n",
      "Processed 17.3% of log lines.\n",
      "Processed 17.3% of log lines.\n",
      "Processed 17.3% of log lines.\n",
      "Processed 17.4% of log lines.\n",
      "Processed 17.4% of log lines.\n",
      "Processed 17.4% of log lines.\n",
      "Processed 17.4% of log lines.\n",
      "Processed 17.4% of log lines.\n",
      "Processed 17.4% of log lines.\n",
      "Processed 17.4% of log lines.\n",
      "Processed 17.4% of log lines.\n",
      "Processed 17.4% of log lines.\n",
      "Processed 17.4% of log lines.\n",
      "Processed 17.4% of log lines.\n",
      "Processed 17.4% of log lines.\n",
      "Processed 17.5% of log lines.\n",
      "Processed 17.5% of log lines.\n",
      "Processed 17.5% of log lines.\n",
      "Processed 17.5% of log lines.\n",
      "Processed 17.5% of log lines.\n",
      "Processed 17.5% of log lines.\n",
      "Processed 17.5% of log lines.\n",
      "Processed 17.5% of log lines.\n",
      "Processed 17.5% of log lines.\n",
      "Processed 17.5% of log lines.\n",
      "Processed 17.5% of log lines.\n",
      "Processed 17.6% of log lines.\n",
      "Processed 17.6% of log lines.\n",
      "Processed 17.6% of log lines.\n",
      "Processed 17.6% of log lines.\n",
      "Processed 17.6% of log lines.\n",
      "Processed 17.6% of log lines.\n",
      "Processed 17.6% of log lines.\n",
      "Processed 17.6% of log lines.\n",
      "Processed 17.6% of log lines.\n",
      "Processed 17.6% of log lines.\n",
      "Processed 17.6% of log lines.\n",
      "Processed 17.7% of log lines.\n",
      "Processed 17.7% of log lines.\n",
      "Processed 17.7% of log lines.\n",
      "Processed 17.7% of log lines.\n",
      "Processed 17.7% of log lines.\n",
      "Processed 17.7% of log lines.\n",
      "Processed 17.7% of log lines.\n",
      "Processed 17.7% of log lines.\n",
      "Processed 17.7% of log lines.\n",
      "Processed 17.7% of log lines.\n",
      "Processed 17.7% of log lines.\n",
      "Processed 17.8% of log lines.\n",
      "Processed 17.8% of log lines.\n",
      "Processed 17.8% of log lines.\n",
      "Processed 17.8% of log lines.\n",
      "Processed 17.8% of log lines.\n",
      "Processed 17.8% of log lines.\n",
      "Processed 17.8% of log lines.\n",
      "Processed 17.8% of log lines.\n",
      "Processed 17.8% of log lines.\n",
      "Processed 17.8% of log lines.\n",
      "Processed 17.8% of log lines.\n",
      "Processed 17.9% of log lines.\n",
      "Processed 17.9% of log lines.\n",
      "Processed 17.9% of log lines.\n",
      "Processed 17.9% of log lines.\n",
      "Processed 17.9% of log lines.\n",
      "Processed 17.9% of log lines.\n",
      "Processed 17.9% of log lines.\n",
      "Processed 17.9% of log lines.\n",
      "Processed 17.9% of log lines.\n",
      "Processed 17.9% of log lines.\n",
      "Processed 17.9% of log lines.\n",
      "Processed 17.9% of log lines.\n",
      "Processed 18.0% of log lines.\n",
      "Processed 18.0% of log lines.\n",
      "Processed 18.0% of log lines.\n",
      "Processed 18.0% of log lines.\n",
      "Processed 18.0% of log lines.\n",
      "Processed 18.0% of log lines.\n",
      "Processed 18.0% of log lines.\n",
      "Processed 18.0% of log lines.\n",
      "Processed 18.0% of log lines.\n",
      "Processed 18.0% of log lines.\n",
      "Processed 18.0% of log lines.\n",
      "Processed 18.1% of log lines.\n",
      "Processed 18.1% of log lines.\n",
      "Processed 18.1% of log lines.\n",
      "Processed 18.1% of log lines.\n",
      "Processed 18.1% of log lines.\n",
      "Processed 18.1% of log lines.\n",
      "Processed 18.1% of log lines.\n",
      "Processed 18.1% of log lines.\n",
      "Processed 18.1% of log lines.\n",
      "Processed 18.1% of log lines.\n",
      "Processed 18.1% of log lines.\n",
      "Processed 18.2% of log lines.\n",
      "Processed 18.2% of log lines.\n",
      "Processed 18.2% of log lines.\n",
      "Processed 18.2% of log lines.\n",
      "Processed 18.2% of log lines.\n",
      "Processed 18.2% of log lines.\n",
      "Processed 18.2% of log lines.\n",
      "Processed 18.2% of log lines.\n",
      "Processed 18.2% of log lines.\n",
      "Processed 18.2% of log lines.\n",
      "Processed 18.2% of log lines.\n",
      "Processed 18.3% of log lines.\n",
      "Processed 18.3% of log lines.\n",
      "Processed 18.3% of log lines.\n",
      "Processed 18.3% of log lines.\n",
      "Processed 18.3% of log lines.\n",
      "Processed 18.3% of log lines.\n",
      "Processed 18.3% of log lines.\n",
      "Processed 18.3% of log lines.\n",
      "Processed 18.3% of log lines.\n",
      "Processed 18.3% of log lines.\n",
      "Processed 18.3% of log lines.\n",
      "Processed 18.4% of log lines.\n",
      "Processed 18.4% of log lines.\n",
      "Processed 18.4% of log lines.\n",
      "Processed 18.4% of log lines.\n",
      "Processed 18.4% of log lines.\n",
      "Processed 18.4% of log lines.\n",
      "Processed 18.4% of log lines.\n",
      "Processed 18.4% of log lines.\n",
      "Processed 18.4% of log lines.\n",
      "Processed 18.4% of log lines.\n",
      "Processed 18.4% of log lines.\n",
      "Processed 18.5% of log lines.\n",
      "Processed 18.5% of log lines.\n",
      "Processed 18.5% of log lines.\n",
      "Processed 18.5% of log lines.\n",
      "Processed 18.5% of log lines.\n",
      "Processed 18.5% of log lines.\n",
      "Processed 18.5% of log lines.\n",
      "Processed 18.5% of log lines.\n",
      "Processed 18.5% of log lines.\n",
      "Processed 18.5% of log lines.\n",
      "Processed 18.5% of log lines.\n",
      "Processed 18.5% of log lines.\n",
      "Processed 18.6% of log lines.\n",
      "Processed 18.6% of log lines.\n",
      "Processed 18.6% of log lines.\n",
      "Processed 18.6% of log lines.\n",
      "Processed 18.6% of log lines.\n",
      "Processed 18.6% of log lines.\n",
      "Processed 18.6% of log lines.\n",
      "Processed 18.6% of log lines.\n",
      "Processed 18.6% of log lines.\n",
      "Processed 18.6% of log lines.\n",
      "Processed 18.6% of log lines.\n",
      "Processed 18.7% of log lines.\n",
      "Processed 18.7% of log lines.\n",
      "Processed 18.7% of log lines.\n",
      "Processed 18.7% of log lines.\n",
      "Processed 18.7% of log lines.\n",
      "Processed 18.7% of log lines.\n",
      "Processed 18.7% of log lines.\n",
      "Processed 18.7% of log lines.\n",
      "Processed 18.7% of log lines.\n",
      "Processed 18.7% of log lines.\n",
      "Processed 18.7% of log lines.\n",
      "Processed 18.8% of log lines.\n",
      "Processed 18.8% of log lines.\n",
      "Processed 18.8% of log lines.\n",
      "Processed 18.8% of log lines.\n",
      "Processed 18.8% of log lines.\n",
      "Processed 18.8% of log lines.\n",
      "Processed 18.8% of log lines.\n",
      "Processed 18.8% of log lines.\n",
      "Processed 18.8% of log lines.\n",
      "Processed 18.8% of log lines.\n",
      "Processed 18.8% of log lines.\n",
      "Processed 18.9% of log lines.\n",
      "Processed 18.9% of log lines.\n",
      "Processed 18.9% of log lines.\n",
      "Processed 18.9% of log lines.\n",
      "Processed 18.9% of log lines.\n",
      "Processed 18.9% of log lines.\n",
      "Processed 18.9% of log lines.\n",
      "Processed 18.9% of log lines.\n",
      "Processed 18.9% of log lines.\n",
      "Processed 18.9% of log lines.\n",
      "Processed 18.9% of log lines.\n",
      "Processed 19.0% of log lines.\n",
      "Processed 19.0% of log lines.\n",
      "Processed 19.0% of log lines.\n",
      "Processed 19.0% of log lines.\n",
      "Processed 19.0% of log lines.\n",
      "Processed 19.0% of log lines.\n",
      "Processed 19.0% of log lines.\n",
      "Processed 19.0% of log lines.\n",
      "Processed 19.0% of log lines.\n",
      "Processed 19.0% of log lines.\n",
      "Processed 19.0% of log lines.\n",
      "Processed 19.1% of log lines.\n",
      "Processed 19.1% of log lines.\n",
      "Processed 19.1% of log lines.\n",
      "Processed 19.1% of log lines.\n",
      "Processed 19.1% of log lines.\n",
      "Processed 19.1% of log lines.\n",
      "Processed 19.1% of log lines.\n",
      "Processed 19.1% of log lines.\n",
      "Processed 19.1% of log lines.\n",
      "Processed 19.1% of log lines.\n",
      "Processed 19.1% of log lines.\n",
      "Processed 19.1% of log lines.\n",
      "Processed 19.2% of log lines.\n",
      "Processed 19.2% of log lines.\n",
      "Processed 19.2% of log lines.\n",
      "Processed 19.2% of log lines.\n",
      "Processed 19.2% of log lines.\n",
      "Processed 19.2% of log lines.\n",
      "Processed 19.2% of log lines.\n",
      "Processed 19.2% of log lines.\n",
      "Processed 19.2% of log lines.\n",
      "Processed 19.2% of log lines.\n",
      "Processed 19.2% of log lines.\n",
      "Processed 19.3% of log lines.\n",
      "Processed 19.3% of log lines.\n",
      "Processed 19.3% of log lines.\n",
      "Processed 19.3% of log lines.\n",
      "Processed 19.3% of log lines.\n",
      "Processed 19.3% of log lines.\n",
      "Processed 19.3% of log lines.\n",
      "Processed 19.3% of log lines.\n",
      "Processed 19.3% of log lines.\n",
      "Processed 19.3% of log lines.\n",
      "Processed 19.3% of log lines.\n",
      "Processed 19.4% of log lines.\n",
      "Processed 19.4% of log lines.\n",
      "Processed 19.4% of log lines.\n",
      "Processed 19.4% of log lines.\n",
      "Processed 19.4% of log lines.\n",
      "Processed 19.4% of log lines.\n",
      "Processed 19.4% of log lines.\n",
      "Processed 19.4% of log lines.\n",
      "Processed 19.4% of log lines.\n",
      "Processed 19.4% of log lines.\n",
      "Processed 19.4% of log lines.\n",
      "Processed 19.5% of log lines.\n",
      "Processed 19.5% of log lines.\n",
      "Processed 19.5% of log lines.\n",
      "Processed 19.5% of log lines.\n",
      "Processed 19.5% of log lines.\n",
      "Processed 19.5% of log lines.\n",
      "Processed 19.5% of log lines.\n",
      "Processed 19.5% of log lines.\n",
      "Processed 19.5% of log lines.\n",
      "Processed 19.5% of log lines.\n",
      "Processed 19.5% of log lines.\n",
      "Processed 19.6% of log lines.\n",
      "Processed 19.6% of log lines.\n",
      "Processed 19.6% of log lines.\n",
      "Processed 19.6% of log lines.\n",
      "Processed 19.6% of log lines.\n",
      "Processed 19.6% of log lines.\n",
      "Processed 19.6% of log lines.\n",
      "Processed 19.6% of log lines.\n",
      "Processed 19.6% of log lines.\n",
      "Processed 19.6% of log lines.\n",
      "Processed 19.6% of log lines.\n",
      "Processed 19.6% of log lines.\n",
      "Processed 19.7% of log lines.\n",
      "Processed 19.7% of log lines.\n",
      "Processed 19.7% of log lines.\n",
      "Processed 19.7% of log lines.\n",
      "Processed 19.7% of log lines.\n",
      "Processed 19.7% of log lines.\n",
      "Processed 19.7% of log lines.\n",
      "Processed 19.7% of log lines.\n",
      "Processed 19.7% of log lines.\n",
      "Processed 19.7% of log lines.\n",
      "Processed 19.7% of log lines.\n",
      "Processed 19.8% of log lines.\n",
      "Processed 19.8% of log lines.\n",
      "Processed 19.8% of log lines.\n",
      "Processed 19.8% of log lines.\n",
      "Processed 19.8% of log lines.\n",
      "Processed 19.8% of log lines.\n",
      "Processed 19.8% of log lines.\n",
      "Processed 19.8% of log lines.\n",
      "Processed 19.8% of log lines.\n",
      "Processed 19.8% of log lines.\n",
      "Processed 19.8% of log lines.\n",
      "Processed 19.9% of log lines.\n",
      "Processed 19.9% of log lines.\n",
      "Processed 19.9% of log lines.\n",
      "Processed 19.9% of log lines.\n",
      "Processed 19.9% of log lines.\n",
      "Processed 19.9% of log lines.\n",
      "Processed 19.9% of log lines.\n",
      "Processed 19.9% of log lines.\n",
      "Processed 19.9% of log lines.\n",
      "Processed 19.9% of log lines.\n",
      "Processed 19.9% of log lines.\n",
      "Processed 20.0% of log lines.\n",
      "Processed 20.0% of log lines.\n",
      "Processed 20.0% of log lines.\n",
      "Processed 20.0% of log lines.\n",
      "Processed 20.0% of log lines.\n",
      "Processed 20.0% of log lines.\n",
      "Processed 20.0% of log lines.\n",
      "Processed 20.0% of log lines.\n",
      "Processed 20.0% of log lines.\n",
      "Processed 20.0% of log lines.\n",
      "Processed 20.0% of log lines.\n",
      "Processed 20.1% of log lines.\n",
      "Processed 20.1% of log lines.\n",
      "Processed 20.1% of log lines.\n",
      "Processed 20.1% of log lines.\n",
      "Processed 20.1% of log lines.\n",
      "Processed 20.1% of log lines.\n",
      "Processed 20.1% of log lines.\n",
      "Processed 20.1% of log lines.\n",
      "Processed 20.1% of log lines.\n",
      "Processed 20.1% of log lines.\n",
      "Processed 20.1% of log lines.\n",
      "Processed 20.2% of log lines.\n",
      "Processed 20.2% of log lines.\n",
      "Processed 20.2% of log lines.\n",
      "Processed 20.2% of log lines.\n",
      "Processed 20.2% of log lines.\n",
      "Processed 20.2% of log lines.\n",
      "Processed 20.2% of log lines.\n",
      "Processed 20.2% of log lines.\n",
      "Processed 20.2% of log lines.\n",
      "Processed 20.2% of log lines.\n",
      "Processed 20.2% of log lines.\n",
      "Processed 20.2% of log lines.\n",
      "Processed 20.3% of log lines.\n",
      "Processed 20.3% of log lines.\n",
      "Processed 20.3% of log lines.\n",
      "Processed 20.3% of log lines.\n",
      "Processed 20.3% of log lines.\n",
      "Processed 20.3% of log lines.\n",
      "Processed 20.3% of log lines.\n",
      "Processed 20.3% of log lines.\n",
      "Processed 20.3% of log lines.\n",
      "Processed 20.3% of log lines.\n",
      "Processed 20.3% of log lines.\n",
      "Processed 20.4% of log lines.\n",
      "Processed 20.4% of log lines.\n",
      "Processed 20.4% of log lines.\n",
      "Processed 20.4% of log lines.\n",
      "Processed 20.4% of log lines.\n",
      "Processed 20.4% of log lines.\n",
      "Processed 20.4% of log lines.\n",
      "Processed 20.4% of log lines.\n",
      "Processed 20.4% of log lines.\n",
      "Processed 20.4% of log lines.\n",
      "Processed 20.4% of log lines.\n",
      "Processed 20.5% of log lines.\n",
      "Processed 20.5% of log lines.\n",
      "Processed 20.5% of log lines.\n",
      "Processed 20.5% of log lines.\n",
      "Processed 20.5% of log lines.\n",
      "Processed 20.5% of log lines.\n",
      "Processed 20.5% of log lines.\n",
      "Processed 20.5% of log lines.\n",
      "Processed 20.5% of log lines.\n",
      "Processed 20.5% of log lines.\n",
      "Processed 20.5% of log lines.\n",
      "Processed 20.6% of log lines.\n",
      "Processed 20.6% of log lines.\n",
      "Processed 20.6% of log lines.\n",
      "Processed 20.6% of log lines.\n",
      "Processed 20.6% of log lines.\n",
      "Processed 20.6% of log lines.\n",
      "Processed 20.6% of log lines.\n",
      "Processed 20.6% of log lines.\n",
      "Processed 20.6% of log lines.\n",
      "Processed 20.6% of log lines.\n",
      "Processed 20.6% of log lines.\n",
      "Processed 20.7% of log lines.\n",
      "Processed 20.7% of log lines.\n",
      "Processed 20.7% of log lines.\n",
      "Processed 20.7% of log lines.\n",
      "Processed 20.7% of log lines.\n",
      "Processed 20.7% of log lines.\n",
      "Processed 20.7% of log lines.\n",
      "Processed 20.7% of log lines.\n",
      "Processed 20.7% of log lines.\n",
      "Processed 20.7% of log lines.\n",
      "Processed 20.7% of log lines.\n",
      "Processed 20.8% of log lines.\n",
      "Processed 20.8% of log lines.\n",
      "Processed 20.8% of log lines.\n",
      "Processed 20.8% of log lines.\n",
      "Processed 20.8% of log lines.\n",
      "Processed 20.8% of log lines.\n",
      "Processed 20.8% of log lines.\n",
      "Processed 20.8% of log lines.\n",
      "Processed 20.8% of log lines.\n",
      "Processed 20.8% of log lines.\n",
      "Processed 20.8% of log lines.\n",
      "Processed 20.8% of log lines.\n",
      "Processed 20.9% of log lines.\n",
      "Processed 20.9% of log lines.\n",
      "Processed 20.9% of log lines.\n",
      "Processed 20.9% of log lines.\n",
      "Processed 20.9% of log lines.\n",
      "Processed 20.9% of log lines.\n",
      "Processed 20.9% of log lines.\n",
      "Processed 20.9% of log lines.\n",
      "Processed 20.9% of log lines.\n",
      "Processed 20.9% of log lines.\n",
      "Processed 20.9% of log lines.\n",
      "Processed 21.0% of log lines.\n",
      "Processed 21.0% of log lines.\n",
      "Processed 21.0% of log lines.\n",
      "Processed 21.0% of log lines.\n",
      "Processed 21.0% of log lines.\n",
      "Processed 21.0% of log lines.\n",
      "Processed 21.0% of log lines.\n",
      "Processed 21.0% of log lines.\n",
      "Processed 21.0% of log lines.\n",
      "Processed 21.0% of log lines.\n",
      "Processed 21.0% of log lines.\n",
      "Processed 21.1% of log lines.\n",
      "Processed 21.1% of log lines.\n",
      "Processed 21.1% of log lines.\n",
      "Processed 21.1% of log lines.\n",
      "Processed 21.1% of log lines.\n",
      "Processed 21.1% of log lines.\n",
      "Processed 21.1% of log lines.\n",
      "Processed 21.1% of log lines.\n",
      "Processed 21.1% of log lines.\n",
      "Processed 21.1% of log lines.\n",
      "Processed 21.1% of log lines.\n",
      "Processed 21.2% of log lines.\n",
      "Processed 21.2% of log lines.\n",
      "Processed 21.2% of log lines.\n",
      "Processed 21.2% of log lines.\n",
      "Processed 21.2% of log lines.\n",
      "Processed 21.2% of log lines.\n",
      "Processed 21.2% of log lines.\n",
      "Processed 21.2% of log lines.\n",
      "Processed 21.2% of log lines.\n",
      "Processed 21.2% of log lines.\n",
      "Processed 21.2% of log lines.\n",
      "Processed 21.3% of log lines.\n",
      "Processed 21.3% of log lines.\n",
      "Processed 21.3% of log lines.\n",
      "Processed 21.3% of log lines.\n",
      "Processed 21.3% of log lines.\n",
      "Processed 21.3% of log lines.\n",
      "Processed 21.3% of log lines.\n",
      "Processed 21.3% of log lines.\n",
      "Processed 21.3% of log lines.\n",
      "Processed 21.3% of log lines.\n",
      "Processed 21.3% of log lines.\n",
      "Processed 21.4% of log lines.\n",
      "Processed 21.4% of log lines.\n",
      "Processed 21.4% of log lines.\n",
      "Processed 21.4% of log lines.\n",
      "Processed 21.4% of log lines.\n",
      "Processed 21.4% of log lines.\n",
      "Processed 21.4% of log lines.\n",
      "Processed 21.4% of log lines.\n",
      "Processed 21.4% of log lines.\n",
      "Processed 21.4% of log lines.\n",
      "Processed 21.4% of log lines.\n",
      "Processed 21.4% of log lines.\n",
      "Processed 21.5% of log lines.\n",
      "Processed 21.5% of log lines.\n",
      "Processed 21.5% of log lines.\n",
      "Processed 21.5% of log lines.\n",
      "Processed 21.5% of log lines.\n",
      "Processed 21.5% of log lines.\n",
      "Processed 21.5% of log lines.\n",
      "Processed 21.5% of log lines.\n",
      "Processed 21.5% of log lines.\n",
      "Processed 21.5% of log lines.\n",
      "Processed 21.5% of log lines.\n",
      "Processed 21.6% of log lines.\n",
      "Processed 21.6% of log lines.\n",
      "Processed 21.6% of log lines.\n",
      "Processed 21.6% of log lines.\n",
      "Processed 21.6% of log lines.\n",
      "Processed 21.6% of log lines.\n",
      "Processed 21.6% of log lines.\n",
      "Processed 21.6% of log lines.\n",
      "Processed 21.6% of log lines.\n",
      "Processed 21.6% of log lines.\n",
      "Processed 21.6% of log lines.\n",
      "Processed 21.7% of log lines.\n",
      "Processed 21.7% of log lines.\n",
      "Processed 21.7% of log lines.\n",
      "Processed 21.7% of log lines.\n",
      "Processed 21.7% of log lines.\n",
      "Processed 21.7% of log lines.\n",
      "Processed 21.7% of log lines.\n",
      "Processed 21.7% of log lines.\n",
      "Processed 21.7% of log lines.\n",
      "Processed 21.7% of log lines.\n",
      "Processed 21.7% of log lines.\n",
      "Processed 21.8% of log lines.\n",
      "Processed 21.8% of log lines.\n",
      "Processed 21.8% of log lines.\n",
      "Processed 21.8% of log lines.\n",
      "Processed 21.8% of log lines.\n",
      "Processed 21.8% of log lines.\n",
      "Processed 21.8% of log lines.\n",
      "Processed 21.8% of log lines.\n",
      "Processed 21.8% of log lines.\n",
      "Processed 21.8% of log lines.\n",
      "Processed 21.8% of log lines.\n",
      "Processed 21.9% of log lines.\n",
      "Processed 21.9% of log lines.\n",
      "Processed 21.9% of log lines.\n",
      "Processed 21.9% of log lines.\n",
      "Processed 21.9% of log lines.\n",
      "Processed 21.9% of log lines.\n",
      "Processed 21.9% of log lines.\n",
      "Processed 21.9% of log lines.\n",
      "Processed 21.9% of log lines.\n",
      "Processed 21.9% of log lines.\n",
      "Processed 21.9% of log lines.\n",
      "Processed 21.9% of log lines.\n",
      "Processed 22.0% of log lines.\n",
      "Processed 22.0% of log lines.\n",
      "Processed 22.0% of log lines.\n",
      "Processed 22.0% of log lines.\n",
      "Processed 22.0% of log lines.\n",
      "Processed 22.0% of log lines.\n",
      "Processed 22.0% of log lines.\n",
      "Processed 22.0% of log lines.\n",
      "Processed 22.0% of log lines.\n",
      "Processed 22.0% of log lines.\n",
      "Processed 22.0% of log lines.\n",
      "Processed 22.1% of log lines.\n",
      "Processed 22.1% of log lines.\n",
      "Processed 22.1% of log lines.\n",
      "Processed 22.1% of log lines.\n",
      "Processed 22.1% of log lines.\n",
      "Processed 22.1% of log lines.\n",
      "Processed 22.1% of log lines.\n",
      "Processed 22.1% of log lines.\n",
      "Processed 22.1% of log lines.\n",
      "Processed 22.1% of log lines.\n",
      "Processed 22.1% of log lines.\n",
      "Processed 22.2% of log lines.\n",
      "Processed 22.2% of log lines.\n",
      "Processed 22.2% of log lines.\n",
      "Processed 22.2% of log lines.\n",
      "Processed 22.2% of log lines.\n",
      "Processed 22.2% of log lines.\n",
      "Processed 22.2% of log lines.\n",
      "Processed 22.2% of log lines.\n",
      "Processed 22.2% of log lines.\n",
      "Processed 22.2% of log lines.\n",
      "Processed 22.2% of log lines.\n",
      "Processed 22.3% of log lines.\n",
      "Processed 22.3% of log lines.\n",
      "Processed 22.3% of log lines.\n",
      "Processed 22.3% of log lines.\n",
      "Processed 22.3% of log lines.\n",
      "Processed 22.3% of log lines.\n",
      "Processed 22.3% of log lines.\n",
      "Processed 22.3% of log lines.\n",
      "Processed 22.3% of log lines.\n",
      "Processed 22.3% of log lines.\n",
      "Processed 22.3% of log lines.\n",
      "Processed 22.4% of log lines.\n",
      "Processed 22.4% of log lines.\n",
      "Processed 22.4% of log lines.\n",
      "Processed 22.4% of log lines.\n",
      "Processed 22.4% of log lines.\n",
      "Processed 22.4% of log lines.\n",
      "Processed 22.4% of log lines.\n",
      "Processed 22.4% of log lines.\n",
      "Processed 22.4% of log lines.\n",
      "Processed 22.4% of log lines.\n",
      "Processed 22.4% of log lines.\n",
      "Processed 22.5% of log lines.\n",
      "Processed 22.5% of log lines.\n",
      "Processed 22.5% of log lines.\n",
      "Processed 22.5% of log lines.\n",
      "Processed 22.5% of log lines.\n",
      "Processed 22.5% of log lines.\n",
      "Processed 22.5% of log lines.\n",
      "Processed 22.5% of log lines.\n",
      "Processed 22.5% of log lines.\n",
      "Processed 22.5% of log lines.\n",
      "Processed 22.5% of log lines.\n",
      "Processed 22.5% of log lines.\n",
      "Processed 22.6% of log lines.\n",
      "Processed 22.6% of log lines.\n",
      "Processed 22.6% of log lines.\n",
      "Processed 22.6% of log lines.\n",
      "Processed 22.6% of log lines.\n",
      "Processed 22.6% of log lines.\n",
      "Processed 22.6% of log lines.\n",
      "Processed 22.6% of log lines.\n",
      "Processed 22.6% of log lines.\n",
      "Processed 22.6% of log lines.\n",
      "Processed 22.6% of log lines.\n",
      "Processed 22.7% of log lines.\n",
      "Processed 22.7% of log lines.\n",
      "Processed 22.7% of log lines.\n",
      "Processed 22.7% of log lines.\n",
      "Processed 22.7% of log lines.\n",
      "Processed 22.7% of log lines.\n",
      "Processed 22.7% of log lines.\n",
      "Processed 22.7% of log lines.\n",
      "Processed 22.7% of log lines.\n",
      "Processed 22.7% of log lines.\n",
      "Processed 22.7% of log lines.\n",
      "Processed 22.8% of log lines.\n",
      "Processed 22.8% of log lines.\n",
      "Processed 22.8% of log lines.\n",
      "Processed 22.8% of log lines.\n",
      "Processed 22.8% of log lines.\n",
      "Processed 22.8% of log lines.\n",
      "Processed 22.8% of log lines.\n",
      "Processed 22.8% of log lines.\n",
      "Processed 22.8% of log lines.\n",
      "Processed 22.8% of log lines.\n",
      "Processed 22.8% of log lines.\n",
      "Processed 22.9% of log lines.\n",
      "Processed 22.9% of log lines.\n",
      "Processed 22.9% of log lines.\n",
      "Processed 22.9% of log lines.\n",
      "Processed 22.9% of log lines.\n",
      "Processed 22.9% of log lines.\n",
      "Processed 22.9% of log lines.\n",
      "Processed 22.9% of log lines.\n",
      "Processed 22.9% of log lines.\n",
      "Processed 22.9% of log lines.\n",
      "Processed 22.9% of log lines.\n",
      "Processed 23.0% of log lines.\n",
      "Processed 23.0% of log lines.\n",
      "Processed 23.0% of log lines.\n",
      "Processed 23.0% of log lines.\n",
      "Processed 23.0% of log lines.\n",
      "Processed 23.0% of log lines.\n",
      "Processed 23.0% of log lines.\n",
      "Processed 23.0% of log lines.\n",
      "Processed 23.0% of log lines.\n",
      "Processed 23.0% of log lines.\n",
      "Processed 23.0% of log lines.\n",
      "Processed 23.1% of log lines.\n",
      "Processed 23.1% of log lines.\n",
      "Processed 23.1% of log lines.\n",
      "Processed 23.1% of log lines.\n",
      "Processed 23.1% of log lines.\n",
      "Processed 23.1% of log lines.\n",
      "Processed 23.1% of log lines.\n",
      "Processed 23.1% of log lines.\n",
      "Processed 23.1% of log lines.\n",
      "Processed 23.1% of log lines.\n",
      "Processed 23.1% of log lines.\n",
      "Processed 23.1% of log lines.\n",
      "Processed 23.2% of log lines.\n",
      "Processed 23.2% of log lines.\n",
      "Processed 23.2% of log lines.\n",
      "Processed 23.2% of log lines.\n",
      "Processed 23.2% of log lines.\n",
      "Processed 23.2% of log lines.\n",
      "Processed 23.2% of log lines.\n",
      "Processed 23.2% of log lines.\n",
      "Processed 23.2% of log lines.\n",
      "Processed 23.2% of log lines.\n",
      "Processed 23.2% of log lines.\n",
      "Processed 23.3% of log lines.\n",
      "Processed 23.3% of log lines.\n",
      "Processed 23.3% of log lines.\n",
      "Processed 23.3% of log lines.\n",
      "Processed 23.3% of log lines.\n",
      "Processed 23.3% of log lines.\n",
      "Processed 23.3% of log lines.\n",
      "Processed 23.3% of log lines.\n",
      "Processed 23.3% of log lines.\n",
      "Processed 23.3% of log lines.\n",
      "Processed 23.3% of log lines.\n",
      "Processed 23.4% of log lines.\n",
      "Processed 23.4% of log lines.\n",
      "Processed 23.4% of log lines.\n",
      "Processed 23.4% of log lines.\n",
      "Processed 23.4% of log lines.\n",
      "Processed 23.4% of log lines.\n",
      "Processed 23.4% of log lines.\n",
      "Processed 23.4% of log lines.\n",
      "Processed 23.4% of log lines.\n",
      "Processed 23.4% of log lines.\n",
      "Processed 23.4% of log lines.\n",
      "Processed 23.5% of log lines.\n",
      "Processed 23.5% of log lines.\n",
      "Processed 23.5% of log lines.\n",
      "Processed 23.5% of log lines.\n",
      "Processed 23.5% of log lines.\n",
      "Processed 23.5% of log lines.\n",
      "Processed 23.5% of log lines.\n",
      "Processed 23.5% of log lines.\n",
      "Processed 23.5% of log lines.\n",
      "Processed 23.5% of log lines.\n",
      "Processed 23.5% of log lines.\n",
      "Processed 23.6% of log lines.\n",
      "Processed 23.6% of log lines.\n",
      "Processed 23.6% of log lines.\n",
      "Processed 23.6% of log lines.\n",
      "Processed 23.6% of log lines.\n",
      "Processed 23.6% of log lines.\n",
      "Processed 23.6% of log lines.\n",
      "Processed 23.6% of log lines.\n",
      "Processed 23.6% of log lines.\n",
      "Processed 23.6% of log lines.\n",
      "Processed 23.6% of log lines.\n",
      "Processed 23.6% of log lines.\n",
      "Processed 23.7% of log lines.\n",
      "Processed 23.7% of log lines.\n",
      "Processed 23.7% of log lines.\n",
      "Processed 23.7% of log lines.\n",
      "Processed 23.7% of log lines.\n",
      "Processed 23.7% of log lines.\n",
      "Processed 23.7% of log lines.\n",
      "Processed 23.7% of log lines.\n",
      "Processed 23.7% of log lines.\n",
      "Processed 23.7% of log lines.\n",
      "Processed 23.7% of log lines.\n",
      "Processed 23.8% of log lines.\n",
      "Processed 23.8% of log lines.\n",
      "Processed 23.8% of log lines.\n",
      "Processed 23.8% of log lines.\n",
      "Processed 23.8% of log lines.\n",
      "Processed 23.8% of log lines.\n",
      "Processed 23.8% of log lines.\n",
      "Processed 23.8% of log lines.\n",
      "Processed 23.8% of log lines.\n",
      "Processed 23.8% of log lines.\n",
      "Processed 23.8% of log lines.\n",
      "Processed 23.9% of log lines.\n",
      "Processed 23.9% of log lines.\n",
      "Processed 23.9% of log lines.\n",
      "Processed 23.9% of log lines.\n",
      "Processed 23.9% of log lines.\n",
      "Processed 23.9% of log lines.\n",
      "Processed 23.9% of log lines.\n",
      "Processed 23.9% of log lines.\n",
      "Processed 23.9% of log lines.\n",
      "Processed 23.9% of log lines.\n",
      "Processed 23.9% of log lines.\n",
      "Processed 24.0% of log lines.\n",
      "Processed 24.0% of log lines.\n",
      "Processed 24.0% of log lines.\n",
      "Processed 24.0% of log lines.\n",
      "Processed 24.0% of log lines.\n",
      "Processed 24.0% of log lines.\n",
      "Processed 24.0% of log lines.\n",
      "Processed 24.0% of log lines.\n",
      "Processed 24.0% of log lines.\n",
      "Processed 24.0% of log lines.\n",
      "Processed 24.0% of log lines.\n",
      "Processed 24.1% of log lines.\n",
      "Processed 24.1% of log lines.\n",
      "Processed 24.1% of log lines.\n",
      "Processed 24.1% of log lines.\n",
      "Processed 24.1% of log lines.\n",
      "Processed 24.1% of log lines.\n",
      "Processed 24.1% of log lines.\n",
      "Processed 24.1% of log lines.\n",
      "Processed 24.1% of log lines.\n",
      "Processed 24.1% of log lines.\n",
      "Processed 24.1% of log lines.\n",
      "Processed 24.2% of log lines.\n",
      "Processed 24.2% of log lines.\n",
      "Processed 24.2% of log lines.\n",
      "Processed 24.2% of log lines.\n",
      "Processed 24.2% of log lines.\n",
      "Processed 24.2% of log lines.\n",
      "Processed 24.2% of log lines.\n",
      "Processed 24.2% of log lines.\n",
      "Processed 24.2% of log lines.\n",
      "Processed 24.2% of log lines.\n",
      "Processed 24.2% of log lines.\n",
      "Processed 24.2% of log lines.\n",
      "Processed 24.3% of log lines.\n",
      "Processed 24.3% of log lines.\n",
      "Processed 24.3% of log lines.\n",
      "Processed 24.3% of log lines.\n",
      "Processed 24.3% of log lines.\n",
      "Processed 24.3% of log lines.\n",
      "Processed 24.3% of log lines.\n",
      "Processed 24.3% of log lines.\n",
      "Processed 24.3% of log lines.\n",
      "Processed 24.3% of log lines.\n",
      "Processed 24.3% of log lines.\n",
      "Processed 24.4% of log lines.\n",
      "Processed 24.4% of log lines.\n",
      "Processed 24.4% of log lines.\n",
      "Processed 24.4% of log lines.\n",
      "Processed 24.4% of log lines.\n",
      "Processed 24.4% of log lines.\n",
      "Processed 24.4% of log lines.\n",
      "Processed 24.4% of log lines.\n",
      "Processed 24.4% of log lines.\n",
      "Processed 24.4% of log lines.\n",
      "Processed 24.4% of log lines.\n",
      "Processed 24.5% of log lines.\n",
      "Processed 24.5% of log lines.\n",
      "Processed 24.5% of log lines.\n",
      "Processed 24.5% of log lines.\n",
      "Processed 24.5% of log lines.\n",
      "Processed 24.5% of log lines.\n",
      "Processed 24.5% of log lines.\n",
      "Processed 24.5% of log lines.\n",
      "Processed 24.5% of log lines.\n",
      "Processed 24.5% of log lines.\n",
      "Processed 24.5% of log lines.\n",
      "Processed 24.6% of log lines.\n",
      "Processed 24.6% of log lines.\n",
      "Processed 24.6% of log lines.\n",
      "Processed 24.6% of log lines.\n",
      "Processed 24.6% of log lines.\n",
      "Processed 24.6% of log lines.\n",
      "Processed 24.6% of log lines.\n",
      "Processed 24.6% of log lines.\n",
      "Processed 24.6% of log lines.\n",
      "Processed 24.6% of log lines.\n",
      "Processed 24.6% of log lines.\n",
      "Processed 24.7% of log lines.\n",
      "Processed 24.7% of log lines.\n",
      "Processed 24.7% of log lines.\n",
      "Processed 24.7% of log lines.\n",
      "Processed 24.7% of log lines.\n",
      "Processed 24.7% of log lines.\n",
      "Processed 24.7% of log lines.\n",
      "Processed 24.7% of log lines.\n",
      "Processed 24.7% of log lines.\n",
      "Processed 24.7% of log lines.\n",
      "Processed 24.7% of log lines.\n",
      "Processed 24.8% of log lines.\n",
      "Processed 24.8% of log lines.\n",
      "Processed 24.8% of log lines.\n",
      "Processed 24.8% of log lines.\n",
      "Processed 24.8% of log lines.\n",
      "Processed 24.8% of log lines.\n",
      "Processed 24.8% of log lines.\n",
      "Processed 24.8% of log lines.\n",
      "Processed 24.8% of log lines.\n",
      "Processed 24.8% of log lines.\n",
      "Processed 24.8% of log lines.\n",
      "Processed 24.8% of log lines.\n",
      "Processed 24.9% of log lines.\n",
      "Processed 24.9% of log lines.\n",
      "Processed 24.9% of log lines.\n",
      "Processed 24.9% of log lines.\n",
      "Processed 24.9% of log lines.\n",
      "Processed 24.9% of log lines.\n",
      "Processed 24.9% of log lines.\n",
      "Processed 24.9% of log lines.\n",
      "Processed 24.9% of log lines.\n",
      "Processed 24.9% of log lines.\n",
      "Processed 24.9% of log lines.\n",
      "Processed 25.0% of log lines.\n",
      "Processed 25.0% of log lines.\n",
      "Processed 25.0% of log lines.\n",
      "Processed 25.0% of log lines.\n",
      "Processed 25.0% of log lines.\n",
      "Processed 25.0% of log lines.\n",
      "Processed 25.0% of log lines.\n",
      "Processed 25.0% of log lines.\n",
      "Processed 25.0% of log lines.\n",
      "Processed 25.0% of log lines.\n",
      "Processed 25.0% of log lines.\n",
      "Processed 25.1% of log lines.\n",
      "Processed 25.1% of log lines.\n",
      "Processed 25.1% of log lines.\n",
      "Processed 25.1% of log lines.\n",
      "Processed 25.1% of log lines.\n",
      "Processed 25.1% of log lines.\n",
      "Processed 25.1% of log lines.\n",
      "Processed 25.1% of log lines.\n",
      "Processed 25.1% of log lines.\n",
      "Processed 25.1% of log lines.\n",
      "Processed 25.1% of log lines.\n",
      "Processed 25.2% of log lines.\n",
      "Processed 25.2% of log lines.\n",
      "Processed 25.2% of log lines.\n",
      "Processed 25.2% of log lines.\n",
      "Processed 25.2% of log lines.\n",
      "Processed 25.2% of log lines.\n",
      "Processed 25.2% of log lines.\n",
      "Processed 25.2% of log lines.\n",
      "Processed 25.2% of log lines.\n",
      "Processed 25.2% of log lines.\n",
      "Processed 25.2% of log lines.\n",
      "Processed 25.3% of log lines.\n",
      "Processed 25.3% of log lines.\n",
      "Processed 25.3% of log lines.\n",
      "Processed 25.3% of log lines.\n",
      "Processed 25.3% of log lines.\n",
      "Processed 25.3% of log lines.\n",
      "Processed 25.3% of log lines.\n",
      "Processed 25.3% of log lines.\n",
      "Processed 25.3% of log lines.\n",
      "Processed 25.3% of log lines.\n",
      "Processed 25.3% of log lines.\n",
      "Processed 25.3% of log lines.\n",
      "Processed 25.4% of log lines.\n",
      "Processed 25.4% of log lines.\n",
      "Processed 25.4% of log lines.\n",
      "Processed 25.4% of log lines.\n",
      "Processed 25.4% of log lines.\n",
      "Processed 25.4% of log lines.\n",
      "Processed 25.4% of log lines.\n",
      "Processed 25.4% of log lines.\n",
      "Processed 25.4% of log lines.\n",
      "Processed 25.4% of log lines.\n",
      "Processed 25.4% of log lines.\n",
      "Processed 25.5% of log lines.\n",
      "Processed 25.5% of log lines.\n",
      "Processed 25.5% of log lines.\n",
      "Processed 25.5% of log lines.\n",
      "Processed 25.5% of log lines.\n",
      "Processed 25.5% of log lines.\n",
      "Processed 25.5% of log lines.\n",
      "Processed 25.5% of log lines.\n",
      "Processed 25.5% of log lines.\n",
      "Processed 25.5% of log lines.\n",
      "Processed 25.5% of log lines.\n",
      "Processed 25.6% of log lines.\n",
      "Processed 25.6% of log lines.\n",
      "Processed 25.6% of log lines.\n",
      "Processed 25.6% of log lines.\n",
      "Processed 25.6% of log lines.\n",
      "Processed 25.6% of log lines.\n",
      "Processed 25.6% of log lines.\n",
      "Processed 25.6% of log lines.\n",
      "Processed 25.6% of log lines.\n",
      "Processed 25.6% of log lines.\n",
      "Processed 25.6% of log lines.\n",
      "Processed 25.7% of log lines.\n",
      "Processed 25.7% of log lines.\n",
      "Processed 25.7% of log lines.\n",
      "Processed 25.7% of log lines.\n",
      "Processed 25.7% of log lines.\n",
      "Processed 25.7% of log lines.\n",
      "Processed 25.7% of log lines.\n",
      "Processed 25.7% of log lines.\n",
      "Processed 25.7% of log lines.\n",
      "Processed 25.7% of log lines.\n",
      "Processed 25.7% of log lines.\n",
      "Processed 25.8% of log lines.\n",
      "Processed 25.8% of log lines.\n",
      "Processed 25.8% of log lines.\n",
      "Processed 25.8% of log lines.\n",
      "Processed 25.8% of log lines.\n",
      "Processed 25.8% of log lines.\n",
      "Processed 25.8% of log lines.\n",
      "Processed 25.8% of log lines.\n",
      "Processed 25.8% of log lines.\n",
      "Processed 25.8% of log lines.\n",
      "Processed 25.8% of log lines.\n",
      "Processed 25.9% of log lines.\n",
      "Processed 25.9% of log lines.\n",
      "Processed 25.9% of log lines.\n",
      "Processed 25.9% of log lines.\n",
      "Processed 25.9% of log lines.\n",
      "Processed 25.9% of log lines.\n",
      "Processed 25.9% of log lines.\n",
      "Processed 25.9% of log lines.\n",
      "Processed 25.9% of log lines.\n",
      "Processed 25.9% of log lines.\n",
      "Processed 25.9% of log lines.\n",
      "Processed 25.9% of log lines.\n",
      "Processed 26.0% of log lines.\n",
      "Processed 26.0% of log lines.\n",
      "Processed 26.0% of log lines.\n",
      "Processed 26.0% of log lines.\n",
      "Processed 26.0% of log lines.\n",
      "Processed 26.0% of log lines.\n",
      "Processed 26.0% of log lines.\n",
      "Processed 26.0% of log lines.\n",
      "Processed 26.0% of log lines.\n",
      "Processed 26.0% of log lines.\n",
      "Processed 26.0% of log lines.\n",
      "Processed 26.1% of log lines.\n",
      "Processed 26.1% of log lines.\n",
      "Processed 26.1% of log lines.\n",
      "Processed 26.1% of log lines.\n",
      "Processed 26.1% of log lines.\n",
      "Processed 26.1% of log lines.\n",
      "Processed 26.1% of log lines.\n",
      "Processed 26.1% of log lines.\n",
      "Processed 26.1% of log lines.\n",
      "Processed 26.1% of log lines.\n",
      "Processed 26.1% of log lines.\n",
      "Processed 26.2% of log lines.\n",
      "Processed 26.2% of log lines.\n",
      "Processed 26.2% of log lines.\n",
      "Processed 26.2% of log lines.\n",
      "Processed 26.2% of log lines.\n",
      "Processed 26.2% of log lines.\n",
      "Processed 26.2% of log lines.\n",
      "Processed 26.2% of log lines.\n",
      "Processed 26.2% of log lines.\n",
      "Processed 26.2% of log lines.\n",
      "Processed 26.2% of log lines.\n",
      "Processed 26.3% of log lines.\n",
      "Processed 26.3% of log lines.\n",
      "Processed 26.3% of log lines.\n",
      "Processed 26.3% of log lines.\n",
      "Processed 26.3% of log lines.\n",
      "Processed 26.3% of log lines.\n",
      "Processed 26.3% of log lines.\n",
      "Processed 26.3% of log lines.\n",
      "Processed 26.3% of log lines.\n",
      "Processed 26.3% of log lines.\n",
      "Processed 26.3% of log lines.\n",
      "Processed 26.4% of log lines.\n",
      "Processed 26.4% of log lines.\n",
      "Processed 26.4% of log lines.\n",
      "Processed 26.4% of log lines.\n",
      "Processed 26.4% of log lines.\n",
      "Processed 26.4% of log lines.\n",
      "Processed 26.4% of log lines.\n",
      "Processed 26.4% of log lines.\n",
      "Processed 26.4% of log lines.\n",
      "Processed 26.4% of log lines.\n",
      "Processed 26.4% of log lines.\n",
      "Processed 26.5% of log lines.\n",
      "Processed 26.5% of log lines.\n",
      "Processed 26.5% of log lines.\n",
      "Processed 26.5% of log lines.\n",
      "Processed 26.5% of log lines.\n",
      "Processed 26.5% of log lines.\n",
      "Processed 26.5% of log lines.\n",
      "Processed 26.5% of log lines.\n",
      "Processed 26.5% of log lines.\n",
      "Processed 26.5% of log lines.\n",
      "Processed 26.5% of log lines.\n",
      "Processed 26.5% of log lines.\n",
      "Processed 26.6% of log lines.\n",
      "Processed 26.6% of log lines.\n",
      "Processed 26.6% of log lines.\n",
      "Processed 26.6% of log lines.\n",
      "Processed 26.6% of log lines.\n",
      "Processed 26.6% of log lines.\n",
      "Processed 26.6% of log lines.\n",
      "Processed 26.6% of log lines.\n",
      "Processed 26.6% of log lines.\n",
      "Processed 26.6% of log lines.\n",
      "Processed 26.6% of log lines.\n",
      "Processed 26.7% of log lines.\n",
      "Processed 26.7% of log lines.\n",
      "Processed 26.7% of log lines.\n",
      "Processed 26.7% of log lines.\n",
      "Processed 26.7% of log lines.\n",
      "Processed 26.7% of log lines.\n",
      "Processed 26.7% of log lines.\n",
      "Processed 26.7% of log lines.\n",
      "Processed 26.7% of log lines.\n",
      "Processed 26.7% of log lines.\n",
      "Processed 26.7% of log lines.\n",
      "Processed 26.8% of log lines.\n",
      "Processed 26.8% of log lines.\n",
      "Processed 26.8% of log lines.\n",
      "Processed 26.8% of log lines.\n",
      "Processed 26.8% of log lines.\n",
      "Processed 26.8% of log lines.\n",
      "Processed 26.8% of log lines.\n",
      "Processed 26.8% of log lines.\n",
      "Processed 26.8% of log lines.\n",
      "Processed 26.8% of log lines.\n",
      "Processed 26.8% of log lines.\n",
      "Processed 26.9% of log lines.\n",
      "Processed 26.9% of log lines.\n",
      "Processed 26.9% of log lines.\n",
      "Processed 26.9% of log lines.\n",
      "Processed 26.9% of log lines.\n",
      "Processed 26.9% of log lines.\n",
      "Processed 26.9% of log lines.\n",
      "Processed 26.9% of log lines.\n",
      "Processed 26.9% of log lines.\n",
      "Processed 26.9% of log lines.\n",
      "Processed 26.9% of log lines.\n",
      "Processed 27.0% of log lines.\n",
      "Processed 27.0% of log lines.\n",
      "Processed 27.0% of log lines.\n",
      "Processed 27.0% of log lines.\n",
      "Processed 27.0% of log lines.\n",
      "Processed 27.0% of log lines.\n",
      "Processed 27.0% of log lines.\n",
      "Processed 27.0% of log lines.\n",
      "Processed 27.0% of log lines.\n",
      "Processed 27.0% of log lines.\n",
      "Processed 27.0% of log lines.\n",
      "Processed 27.0% of log lines.\n",
      "Processed 27.1% of log lines.\n",
      "Processed 27.1% of log lines.\n",
      "Processed 27.1% of log lines.\n",
      "Processed 27.1% of log lines.\n",
      "Processed 27.1% of log lines.\n",
      "Processed 27.1% of log lines.\n",
      "Processed 27.1% of log lines.\n",
      "Processed 27.1% of log lines.\n",
      "Processed 27.1% of log lines.\n",
      "Processed 27.1% of log lines.\n",
      "Processed 27.1% of log lines.\n",
      "Processed 27.2% of log lines.\n",
      "Processed 27.2% of log lines.\n",
      "Processed 27.2% of log lines.\n",
      "Processed 27.2% of log lines.\n",
      "Processed 27.2% of log lines.\n",
      "Processed 27.2% of log lines.\n",
      "Processed 27.2% of log lines.\n",
      "Processed 27.2% of log lines.\n",
      "Processed 27.2% of log lines.\n",
      "Processed 27.2% of log lines.\n",
      "Processed 27.2% of log lines.\n",
      "Processed 27.3% of log lines.\n",
      "Processed 27.3% of log lines.\n",
      "Processed 27.3% of log lines.\n",
      "Processed 27.3% of log lines.\n",
      "Processed 27.3% of log lines.\n",
      "Processed 27.3% of log lines.\n",
      "Processed 27.3% of log lines.\n",
      "Processed 27.3% of log lines.\n",
      "Processed 27.3% of log lines.\n",
      "Processed 27.3% of log lines.\n",
      "Processed 27.3% of log lines.\n",
      "Processed 27.4% of log lines.\n",
      "Processed 27.4% of log lines.\n",
      "Processed 27.4% of log lines.\n",
      "Processed 27.4% of log lines.\n",
      "Processed 27.4% of log lines.\n",
      "Processed 27.4% of log lines.\n",
      "Processed 27.4% of log lines.\n",
      "Processed 27.4% of log lines.\n",
      "Processed 27.4% of log lines.\n",
      "Processed 27.4% of log lines.\n",
      "Processed 27.4% of log lines.\n",
      "Processed 27.5% of log lines.\n",
      "Processed 27.5% of log lines.\n",
      "Processed 27.5% of log lines.\n",
      "Processed 27.5% of log lines.\n",
      "Processed 27.5% of log lines.\n",
      "Processed 27.5% of log lines.\n",
      "Processed 27.5% of log lines.\n",
      "Processed 27.5% of log lines.\n",
      "Processed 27.5% of log lines.\n",
      "Processed 27.5% of log lines.\n",
      "Processed 27.5% of log lines.\n",
      "Processed 27.6% of log lines.\n",
      "Processed 27.6% of log lines.\n",
      "Processed 27.6% of log lines.\n",
      "Processed 27.6% of log lines.\n",
      "Processed 27.6% of log lines.\n",
      "Processed 27.6% of log lines.\n",
      "Processed 27.6% of log lines.\n",
      "Processed 27.6% of log lines.\n",
      "Processed 27.6% of log lines.\n",
      "Processed 27.6% of log lines.\n",
      "Processed 27.6% of log lines.\n",
      "Processed 27.6% of log lines.\n",
      "Processed 27.7% of log lines.\n",
      "Processed 27.7% of log lines.\n",
      "Processed 27.7% of log lines.\n",
      "Processed 27.7% of log lines.\n",
      "Processed 27.7% of log lines.\n",
      "Processed 27.7% of log lines.\n",
      "Processed 27.7% of log lines.\n",
      "Processed 27.7% of log lines.\n",
      "Processed 27.7% of log lines.\n",
      "Processed 27.7% of log lines.\n",
      "Processed 27.7% of log lines.\n",
      "Processed 27.8% of log lines.\n",
      "Processed 27.8% of log lines.\n",
      "Processed 27.8% of log lines.\n",
      "Processed 27.8% of log lines.\n",
      "Processed 27.8% of log lines.\n",
      "Processed 27.8% of log lines.\n",
      "Processed 27.8% of log lines.\n",
      "Processed 27.8% of log lines.\n",
      "Processed 27.8% of log lines.\n",
      "Processed 27.8% of log lines.\n",
      "Processed 27.8% of log lines.\n",
      "Processed 27.9% of log lines.\n",
      "Processed 27.9% of log lines.\n",
      "Processed 27.9% of log lines.\n",
      "Processed 27.9% of log lines.\n",
      "Processed 27.9% of log lines.\n",
      "Processed 27.9% of log lines.\n",
      "Processed 27.9% of log lines.\n",
      "Processed 27.9% of log lines.\n",
      "Processed 27.9% of log lines.\n",
      "Processed 27.9% of log lines.\n",
      "Processed 27.9% of log lines.\n",
      "Processed 28.0% of log lines.\n",
      "Processed 28.0% of log lines.\n",
      "Processed 28.0% of log lines.\n",
      "Processed 28.0% of log lines.\n",
      "Processed 28.0% of log lines.\n",
      "Processed 28.0% of log lines.\n",
      "Processed 28.0% of log lines.\n",
      "Processed 28.0% of log lines.\n",
      "Processed 28.0% of log lines.\n",
      "Processed 28.0% of log lines.\n",
      "Processed 28.0% of log lines.\n",
      "Processed 28.1% of log lines.\n",
      "Processed 28.1% of log lines.\n",
      "Processed 28.1% of log lines.\n",
      "Processed 28.1% of log lines.\n",
      "Processed 28.1% of log lines.\n",
      "Processed 28.1% of log lines.\n",
      "Processed 28.1% of log lines.\n",
      "Processed 28.1% of log lines.\n",
      "Processed 28.1% of log lines.\n",
      "Processed 28.1% of log lines.\n",
      "Processed 28.1% of log lines.\n",
      "Processed 28.2% of log lines.\n",
      "Processed 28.2% of log lines.\n",
      "Processed 28.2% of log lines.\n",
      "Processed 28.2% of log lines.\n",
      "Processed 28.2% of log lines.\n",
      "Processed 28.2% of log lines.\n",
      "Processed 28.2% of log lines.\n",
      "Processed 28.2% of log lines.\n",
      "Processed 28.2% of log lines.\n",
      "Processed 28.2% of log lines.\n",
      "Processed 28.2% of log lines.\n",
      "Processed 28.2% of log lines.\n",
      "Processed 28.3% of log lines.\n",
      "Processed 28.3% of log lines.\n",
      "Processed 28.3% of log lines.\n",
      "Processed 28.3% of log lines.\n",
      "Processed 28.3% of log lines.\n",
      "Processed 28.3% of log lines.\n",
      "Processed 28.3% of log lines.\n",
      "Processed 28.3% of log lines.\n",
      "Processed 28.3% of log lines.\n",
      "Processed 28.3% of log lines.\n",
      "Processed 28.3% of log lines.\n",
      "Processed 28.4% of log lines.\n",
      "Processed 28.4% of log lines.\n",
      "Processed 28.4% of log lines.\n",
      "Processed 28.4% of log lines.\n",
      "Processed 28.4% of log lines.\n",
      "Processed 28.4% of log lines.\n",
      "Processed 28.4% of log lines.\n",
      "Processed 28.4% of log lines.\n",
      "Processed 28.4% of log lines.\n",
      "Processed 28.4% of log lines.\n",
      "Processed 28.4% of log lines.\n",
      "Processed 28.5% of log lines.\n",
      "Processed 28.5% of log lines.\n",
      "Processed 28.5% of log lines.\n",
      "Processed 28.5% of log lines.\n",
      "Processed 28.5% of log lines.\n",
      "Processed 28.5% of log lines.\n",
      "Processed 28.5% of log lines.\n",
      "Processed 28.5% of log lines.\n",
      "Processed 28.5% of log lines.\n",
      "Processed 28.5% of log lines.\n",
      "Processed 28.5% of log lines.\n",
      "Processed 28.6% of log lines.\n",
      "Processed 28.6% of log lines.\n",
      "Processed 28.6% of log lines.\n",
      "Processed 28.6% of log lines.\n",
      "Processed 28.6% of log lines.\n",
      "Processed 28.6% of log lines.\n",
      "Processed 28.6% of log lines.\n",
      "Processed 28.6% of log lines.\n",
      "Processed 28.6% of log lines.\n",
      "Processed 28.6% of log lines.\n",
      "Processed 28.6% of log lines.\n",
      "Processed 28.7% of log lines.\n",
      "Processed 28.7% of log lines.\n",
      "Processed 28.7% of log lines.\n",
      "Processed 28.7% of log lines.\n",
      "Processed 28.7% of log lines.\n",
      "Processed 28.7% of log lines.\n",
      "Processed 28.7% of log lines.\n",
      "Processed 28.7% of log lines.\n",
      "Processed 28.7% of log lines.\n",
      "Processed 28.7% of log lines.\n",
      "Processed 28.7% of log lines.\n",
      "Processed 28.8% of log lines.\n",
      "Processed 28.8% of log lines.\n",
      "Processed 28.8% of log lines.\n",
      "Processed 28.8% of log lines.\n",
      "Processed 28.8% of log lines.\n",
      "Processed 28.8% of log lines.\n",
      "Processed 28.8% of log lines.\n",
      "Processed 28.8% of log lines.\n",
      "Processed 28.8% of log lines.\n",
      "Processed 28.8% of log lines.\n",
      "Processed 28.8% of log lines.\n",
      "Processed 28.8% of log lines.\n",
      "Processed 28.9% of log lines.\n",
      "Processed 28.9% of log lines.\n",
      "Processed 28.9% of log lines.\n",
      "Processed 28.9% of log lines.\n",
      "Processed 28.9% of log lines.\n",
      "Processed 28.9% of log lines.\n",
      "Processed 28.9% of log lines.\n",
      "Processed 28.9% of log lines.\n",
      "Processed 28.9% of log lines.\n",
      "Processed 28.9% of log lines.\n",
      "Processed 28.9% of log lines.\n",
      "Processed 29.0% of log lines.\n",
      "Processed 29.0% of log lines.\n",
      "Processed 29.0% of log lines.\n",
      "Processed 29.0% of log lines.\n",
      "Processed 29.0% of log lines.\n",
      "Processed 29.0% of log lines.\n",
      "Processed 29.0% of log lines.\n",
      "Processed 29.0% of log lines.\n",
      "Processed 29.0% of log lines.\n",
      "Processed 29.0% of log lines.\n",
      "Processed 29.0% of log lines.\n",
      "Processed 29.1% of log lines.\n",
      "Processed 29.1% of log lines.\n",
      "Processed 29.1% of log lines.\n",
      "Processed 29.1% of log lines.\n",
      "Processed 29.1% of log lines.\n",
      "Processed 29.1% of log lines.\n",
      "Processed 29.1% of log lines.\n",
      "Processed 29.1% of log lines.\n",
      "Processed 29.1% of log lines.\n",
      "Processed 29.1% of log lines.\n",
      "Processed 29.1% of log lines.\n",
      "Processed 29.2% of log lines.\n",
      "Processed 29.2% of log lines.\n",
      "Processed 29.2% of log lines.\n",
      "Processed 29.2% of log lines.\n",
      "Processed 29.2% of log lines.\n",
      "Processed 29.2% of log lines.\n",
      "Processed 29.2% of log lines.\n",
      "Processed 29.2% of log lines.\n",
      "Processed 29.2% of log lines.\n",
      "Processed 29.2% of log lines.\n",
      "Processed 29.2% of log lines.\n",
      "Processed 29.3% of log lines.\n",
      "Processed 29.3% of log lines.\n",
      "Processed 29.3% of log lines.\n",
      "Processed 29.3% of log lines.\n",
      "Processed 29.3% of log lines.\n",
      "Processed 29.3% of log lines.\n",
      "Processed 29.3% of log lines.\n",
      "Processed 29.3% of log lines.\n",
      "Processed 29.3% of log lines.\n",
      "Processed 29.3% of log lines.\n",
      "Processed 29.3% of log lines.\n",
      "Processed 29.3% of log lines.\n",
      "Processed 29.4% of log lines.\n",
      "Processed 29.4% of log lines.\n",
      "Processed 29.4% of log lines.\n",
      "Processed 29.4% of log lines.\n",
      "Processed 29.4% of log lines.\n",
      "Processed 29.4% of log lines.\n",
      "Processed 29.4% of log lines.\n",
      "Processed 29.4% of log lines.\n",
      "Processed 29.4% of log lines.\n",
      "Processed 29.4% of log lines.\n",
      "Processed 29.4% of log lines.\n",
      "Processed 29.5% of log lines.\n",
      "Processed 29.5% of log lines.\n",
      "Processed 29.5% of log lines.\n",
      "Processed 29.5% of log lines.\n",
      "Processed 29.5% of log lines.\n",
      "Processed 29.5% of log lines.\n",
      "Processed 29.5% of log lines.\n",
      "Processed 29.5% of log lines.\n",
      "Processed 29.5% of log lines.\n",
      "Processed 29.5% of log lines.\n",
      "Processed 29.5% of log lines.\n",
      "Processed 29.6% of log lines.\n",
      "Processed 29.6% of log lines.\n",
      "Processed 29.6% of log lines.\n",
      "Processed 29.6% of log lines.\n",
      "Processed 29.6% of log lines.\n",
      "Processed 29.6% of log lines.\n",
      "Processed 29.6% of log lines.\n",
      "Processed 29.6% of log lines.\n",
      "Processed 29.6% of log lines.\n",
      "Processed 29.6% of log lines.\n",
      "Processed 29.6% of log lines.\n",
      "Processed 29.7% of log lines.\n",
      "Processed 29.7% of log lines.\n",
      "Processed 29.7% of log lines.\n",
      "Processed 29.7% of log lines.\n",
      "Processed 29.7% of log lines.\n",
      "Processed 29.7% of log lines.\n",
      "Processed 29.7% of log lines.\n",
      "Processed 29.7% of log lines.\n",
      "Processed 29.7% of log lines.\n",
      "Processed 29.7% of log lines.\n",
      "Processed 29.7% of log lines.\n",
      "Processed 29.8% of log lines.\n",
      "Processed 29.8% of log lines.\n",
      "Processed 29.8% of log lines.\n",
      "Processed 29.8% of log lines.\n",
      "Processed 29.8% of log lines.\n",
      "Processed 29.8% of log lines.\n",
      "Processed 29.8% of log lines.\n",
      "Processed 29.8% of log lines.\n",
      "Processed 29.8% of log lines.\n",
      "Processed 29.8% of log lines.\n",
      "Processed 29.8% of log lines.\n",
      "Processed 29.9% of log lines.\n",
      "Processed 29.9% of log lines.\n",
      "Processed 29.9% of log lines.\n",
      "Processed 29.9% of log lines.\n",
      "Processed 29.9% of log lines.\n",
      "Processed 29.9% of log lines.\n",
      "Processed 29.9% of log lines.\n",
      "Processed 29.9% of log lines.\n",
      "Processed 29.9% of log lines.\n",
      "Processed 29.9% of log lines.\n",
      "Processed 29.9% of log lines.\n",
      "Processed 29.9% of log lines.\n",
      "Processed 30.0% of log lines.\n",
      "Processed 30.0% of log lines.\n",
      "Processed 30.0% of log lines.\n",
      "Processed 30.0% of log lines.\n",
      "Processed 30.0% of log lines.\n",
      "Processed 30.0% of log lines.\n",
      "Processed 30.0% of log lines.\n",
      "Processed 30.0% of log lines.\n",
      "Processed 30.0% of log lines.\n",
      "Processed 30.0% of log lines.\n",
      "Processed 30.0% of log lines.\n",
      "Processed 30.1% of log lines.\n",
      "Processed 30.1% of log lines.\n",
      "Processed 30.1% of log lines.\n",
      "Processed 30.1% of log lines.\n",
      "Processed 30.1% of log lines.\n",
      "Processed 30.1% of log lines.\n",
      "Processed 30.1% of log lines.\n",
      "Processed 30.1% of log lines.\n",
      "Processed 30.1% of log lines.\n",
      "Processed 30.1% of log lines.\n",
      "Processed 30.1% of log lines.\n",
      "Processed 30.2% of log lines.\n",
      "Processed 30.2% of log lines.\n",
      "Processed 30.2% of log lines.\n",
      "Processed 30.2% of log lines.\n",
      "Processed 30.2% of log lines.\n",
      "Processed 30.2% of log lines.\n",
      "Processed 30.2% of log lines.\n",
      "Processed 30.2% of log lines.\n",
      "Processed 30.2% of log lines.\n",
      "Processed 30.2% of log lines.\n",
      "Processed 30.2% of log lines.\n",
      "Processed 30.3% of log lines.\n",
      "Processed 30.3% of log lines.\n",
      "Processed 30.3% of log lines.\n",
      "Processed 30.3% of log lines.\n",
      "Processed 30.3% of log lines.\n",
      "Processed 30.3% of log lines.\n",
      "Processed 30.3% of log lines.\n",
      "Processed 30.3% of log lines.\n",
      "Processed 30.3% of log lines.\n",
      "Processed 30.3% of log lines.\n",
      "Processed 30.3% of log lines.\n",
      "Processed 30.4% of log lines.\n",
      "Processed 30.4% of log lines.\n",
      "Processed 30.4% of log lines.\n",
      "Processed 30.4% of log lines.\n",
      "Processed 30.4% of log lines.\n",
      "Processed 30.4% of log lines.\n",
      "Processed 30.4% of log lines.\n",
      "Processed 30.4% of log lines.\n",
      "Processed 30.4% of log lines.\n",
      "Processed 30.4% of log lines.\n",
      "Processed 30.4% of log lines.\n",
      "Processed 30.5% of log lines.\n",
      "Processed 30.5% of log lines.\n",
      "Processed 30.5% of log lines.\n",
      "Processed 30.5% of log lines.\n",
      "Processed 30.5% of log lines.\n",
      "Processed 30.5% of log lines.\n",
      "Processed 30.5% of log lines.\n",
      "Processed 30.5% of log lines.\n",
      "Processed 30.5% of log lines.\n",
      "Processed 30.5% of log lines.\n",
      "Processed 30.5% of log lines.\n",
      "Processed 30.5% of log lines.\n",
      "Processed 30.6% of log lines.\n",
      "Processed 30.6% of log lines.\n",
      "Processed 30.6% of log lines.\n",
      "Processed 30.6% of log lines.\n",
      "Processed 30.6% of log lines.\n",
      "Processed 30.6% of log lines.\n",
      "Processed 30.6% of log lines.\n",
      "Processed 30.6% of log lines.\n",
      "Processed 30.6% of log lines.\n",
      "Processed 30.6% of log lines.\n",
      "Processed 30.6% of log lines.\n",
      "Processed 30.7% of log lines.\n",
      "Processed 30.7% of log lines.\n",
      "Processed 30.7% of log lines.\n",
      "Processed 30.7% of log lines.\n",
      "Processed 30.7% of log lines.\n",
      "Processed 30.7% of log lines.\n",
      "Processed 30.7% of log lines.\n",
      "Processed 30.7% of log lines.\n",
      "Processed 30.7% of log lines.\n",
      "Processed 30.7% of log lines.\n",
      "Processed 30.7% of log lines.\n",
      "Processed 30.8% of log lines.\n",
      "Processed 30.8% of log lines.\n",
      "Processed 30.8% of log lines.\n",
      "Processed 30.8% of log lines.\n",
      "Processed 30.8% of log lines.\n",
      "Processed 30.8% of log lines.\n",
      "Processed 30.8% of log lines.\n",
      "Processed 30.8% of log lines.\n",
      "Processed 30.8% of log lines.\n",
      "Processed 30.8% of log lines.\n",
      "Processed 30.8% of log lines.\n",
      "Processed 30.9% of log lines.\n",
      "Processed 30.9% of log lines.\n",
      "Processed 30.9% of log lines.\n",
      "Processed 30.9% of log lines.\n",
      "Processed 30.9% of log lines.\n",
      "Processed 30.9% of log lines.\n",
      "Processed 30.9% of log lines.\n",
      "Processed 30.9% of log lines.\n",
      "Processed 30.9% of log lines.\n",
      "Processed 30.9% of log lines.\n",
      "Processed 30.9% of log lines.\n",
      "Processed 31.0% of log lines.\n",
      "Processed 31.0% of log lines.\n",
      "Processed 31.0% of log lines.\n",
      "Processed 31.0% of log lines.\n",
      "Processed 31.0% of log lines.\n",
      "Processed 31.0% of log lines.\n",
      "Processed 31.0% of log lines.\n",
      "Processed 31.0% of log lines.\n",
      "Processed 31.0% of log lines.\n",
      "Processed 31.0% of log lines.\n",
      "Processed 31.0% of log lines.\n",
      "Processed 31.0% of log lines.\n",
      "Processed 31.1% of log lines.\n",
      "Processed 31.1% of log lines.\n",
      "Processed 31.1% of log lines.\n",
      "Processed 31.1% of log lines.\n",
      "Processed 31.1% of log lines.\n",
      "Processed 31.1% of log lines.\n",
      "Processed 31.1% of log lines.\n",
      "Processed 31.1% of log lines.\n",
      "Processed 31.1% of log lines.\n",
      "Processed 31.1% of log lines.\n",
      "Processed 31.1% of log lines.\n",
      "Processed 31.2% of log lines.\n",
      "Processed 31.2% of log lines.\n",
      "Processed 31.2% of log lines.\n",
      "Processed 31.2% of log lines.\n",
      "Processed 31.2% of log lines.\n",
      "Processed 31.2% of log lines.\n",
      "Processed 31.2% of log lines.\n",
      "Processed 31.2% of log lines.\n",
      "Processed 31.2% of log lines.\n",
      "Processed 31.2% of log lines.\n",
      "Processed 31.2% of log lines.\n",
      "Processed 31.3% of log lines.\n",
      "Processed 31.3% of log lines.\n",
      "Processed 31.3% of log lines.\n",
      "Processed 31.3% of log lines.\n",
      "Processed 31.3% of log lines.\n",
      "Processed 31.3% of log lines.\n",
      "Processed 31.3% of log lines.\n",
      "Processed 31.3% of log lines.\n",
      "Processed 31.3% of log lines.\n",
      "Processed 31.3% of log lines.\n",
      "Processed 31.3% of log lines.\n",
      "Processed 31.4% of log lines.\n",
      "Processed 31.4% of log lines.\n",
      "Processed 31.4% of log lines.\n",
      "Processed 31.4% of log lines.\n",
      "Processed 31.4% of log lines.\n",
      "Processed 31.4% of log lines.\n",
      "Processed 31.4% of log lines.\n",
      "Processed 31.4% of log lines.\n",
      "Processed 31.4% of log lines.\n",
      "Processed 31.4% of log lines.\n",
      "Processed 31.4% of log lines.\n",
      "Processed 31.5% of log lines.\n",
      "Processed 31.5% of log lines.\n",
      "Processed 31.5% of log lines.\n",
      "Processed 31.5% of log lines.\n",
      "Processed 31.5% of log lines.\n",
      "Processed 31.5% of log lines.\n",
      "Processed 31.5% of log lines.\n",
      "Processed 31.5% of log lines.\n",
      "Processed 31.5% of log lines.\n",
      "Processed 31.5% of log lines.\n",
      "Processed 31.5% of log lines.\n",
      "Processed 31.6% of log lines.\n",
      "Processed 31.6% of log lines.\n",
      "Processed 31.6% of log lines.\n",
      "Processed 31.6% of log lines.\n",
      "Processed 31.6% of log lines.\n",
      "Processed 31.6% of log lines.\n",
      "Processed 31.6% of log lines.\n",
      "Processed 31.6% of log lines.\n",
      "Processed 31.6% of log lines.\n",
      "Processed 31.6% of log lines.\n",
      "Processed 31.6% of log lines.\n",
      "Processed 31.6% of log lines.\n",
      "Processed 31.7% of log lines.\n",
      "Processed 31.7% of log lines.\n",
      "Processed 31.7% of log lines.\n",
      "Processed 31.7% of log lines.\n",
      "Processed 31.7% of log lines.\n",
      "Processed 31.7% of log lines.\n",
      "Processed 31.7% of log lines.\n",
      "Processed 31.7% of log lines.\n",
      "Processed 31.7% of log lines.\n",
      "Processed 31.7% of log lines.\n",
      "Processed 31.7% of log lines.\n",
      "Processed 31.8% of log lines.\n",
      "Processed 31.8% of log lines.\n",
      "Processed 31.8% of log lines.\n",
      "Processed 31.8% of log lines.\n",
      "Processed 31.8% of log lines.\n",
      "Processed 31.8% of log lines.\n",
      "Processed 31.8% of log lines.\n",
      "Processed 31.8% of log lines.\n",
      "Processed 31.8% of log lines.\n",
      "Processed 31.8% of log lines.\n",
      "Processed 31.8% of log lines.\n",
      "Processed 31.9% of log lines.\n",
      "Processed 31.9% of log lines.\n",
      "Processed 31.9% of log lines.\n",
      "Processed 31.9% of log lines.\n",
      "Processed 31.9% of log lines.\n",
      "Processed 31.9% of log lines.\n",
      "Processed 31.9% of log lines.\n",
      "Processed 31.9% of log lines.\n",
      "Processed 31.9% of log lines.\n",
      "Processed 31.9% of log lines.\n",
      "Processed 31.9% of log lines.\n",
      "Processed 32.0% of log lines.\n",
      "Processed 32.0% of log lines.\n",
      "Processed 32.0% of log lines.\n",
      "Processed 32.0% of log lines.\n",
      "Processed 32.0% of log lines.\n",
      "Processed 32.0% of log lines.\n",
      "Processed 32.0% of log lines.\n",
      "Processed 32.0% of log lines.\n",
      "Processed 32.0% of log lines.\n",
      "Processed 32.0% of log lines.\n",
      "Processed 32.0% of log lines.\n",
      "Processed 32.1% of log lines.\n",
      "Processed 32.1% of log lines.\n",
      "Processed 32.1% of log lines.\n",
      "Processed 32.1% of log lines.\n",
      "Processed 32.1% of log lines.\n",
      "Processed 32.1% of log lines.\n",
      "Processed 32.1% of log lines.\n",
      "Processed 32.1% of log lines.\n",
      "Processed 32.1% of log lines.\n",
      "Processed 32.1% of log lines.\n",
      "Processed 32.1% of log lines.\n",
      "Processed 32.2% of log lines.\n",
      "Processed 32.2% of log lines.\n",
      "Processed 32.2% of log lines.\n",
      "Processed 32.2% of log lines.\n",
      "Processed 32.2% of log lines.\n",
      "Processed 32.2% of log lines.\n",
      "Processed 32.2% of log lines.\n",
      "Processed 32.2% of log lines.\n",
      "Processed 32.2% of log lines.\n",
      "Processed 32.2% of log lines.\n",
      "Processed 32.2% of log lines.\n",
      "Processed 32.2% of log lines.\n",
      "Processed 32.3% of log lines.\n",
      "Processed 32.3% of log lines.\n",
      "Processed 32.3% of log lines.\n",
      "Processed 32.3% of log lines.\n",
      "Processed 32.3% of log lines.\n",
      "Processed 32.3% of log lines.\n",
      "Processed 32.3% of log lines.\n",
      "Processed 32.3% of log lines.\n",
      "Processed 32.3% of log lines.\n",
      "Processed 32.3% of log lines.\n",
      "Processed 32.3% of log lines.\n",
      "Processed 32.4% of log lines.\n",
      "Processed 32.4% of log lines.\n",
      "Processed 32.4% of log lines.\n",
      "Processed 32.4% of log lines.\n",
      "Processed 32.4% of log lines.\n",
      "Processed 32.4% of log lines.\n",
      "Processed 32.4% of log lines.\n",
      "Processed 32.4% of log lines.\n",
      "Processed 32.4% of log lines.\n",
      "Processed 32.4% of log lines.\n",
      "Processed 32.4% of log lines.\n",
      "Processed 32.5% of log lines.\n",
      "Processed 32.5% of log lines.\n",
      "Processed 32.5% of log lines.\n",
      "Processed 32.5% of log lines.\n",
      "Processed 32.5% of log lines.\n",
      "Processed 32.5% of log lines.\n",
      "Processed 32.5% of log lines.\n",
      "Processed 32.5% of log lines.\n",
      "Processed 32.5% of log lines.\n",
      "Processed 32.5% of log lines.\n",
      "Processed 32.5% of log lines.\n",
      "Processed 32.6% of log lines.\n",
      "Processed 32.6% of log lines.\n",
      "Processed 32.6% of log lines.\n",
      "Processed 32.6% of log lines.\n",
      "Processed 32.6% of log lines.\n",
      "Processed 32.6% of log lines.\n",
      "Processed 32.6% of log lines.\n",
      "Processed 32.6% of log lines.\n",
      "Processed 32.6% of log lines.\n",
      "Processed 32.6% of log lines.\n",
      "Processed 32.6% of log lines.\n",
      "Processed 32.7% of log lines.\n",
      "Processed 32.7% of log lines.\n",
      "Processed 32.7% of log lines.\n",
      "Processed 32.7% of log lines.\n",
      "Processed 32.7% of log lines.\n",
      "Processed 32.7% of log lines.\n",
      "Processed 32.7% of log lines.\n",
      "Processed 32.7% of log lines.\n",
      "Processed 32.7% of log lines.\n",
      "Processed 32.7% of log lines.\n",
      "Processed 32.7% of log lines.\n",
      "Processed 32.7% of log lines.\n",
      "Processed 32.8% of log lines.\n",
      "Processed 32.8% of log lines.\n",
      "Processed 32.8% of log lines.\n",
      "Processed 32.8% of log lines.\n",
      "Processed 32.8% of log lines.\n",
      "Processed 32.8% of log lines.\n",
      "Processed 32.8% of log lines.\n",
      "Processed 32.8% of log lines.\n",
      "Processed 32.8% of log lines.\n",
      "Processed 32.8% of log lines.\n",
      "Processed 32.8% of log lines.\n",
      "Processed 32.9% of log lines.\n",
      "Processed 32.9% of log lines.\n",
      "Processed 32.9% of log lines.\n",
      "Processed 32.9% of log lines.\n",
      "Processed 32.9% of log lines.\n",
      "Processed 32.9% of log lines.\n",
      "Processed 32.9% of log lines.\n",
      "Processed 32.9% of log lines.\n",
      "Processed 32.9% of log lines.\n",
      "Processed 32.9% of log lines.\n",
      "Processed 32.9% of log lines.\n",
      "Processed 33.0% of log lines.\n",
      "Processed 33.0% of log lines.\n",
      "Processed 33.0% of log lines.\n",
      "Processed 33.0% of log lines.\n",
      "Processed 33.0% of log lines.\n",
      "Processed 33.0% of log lines.\n",
      "Processed 33.0% of log lines.\n",
      "Processed 33.0% of log lines.\n",
      "Processed 33.0% of log lines.\n",
      "Processed 33.0% of log lines.\n",
      "Processed 33.0% of log lines.\n",
      "Processed 33.1% of log lines.\n",
      "Processed 33.1% of log lines.\n",
      "Processed 33.1% of log lines.\n",
      "Processed 33.1% of log lines.\n",
      "Processed 33.1% of log lines.\n",
      "Processed 33.1% of log lines.\n",
      "Processed 33.1% of log lines.\n",
      "Processed 33.1% of log lines.\n",
      "Processed 33.1% of log lines.\n",
      "Processed 33.1% of log lines.\n",
      "Processed 33.1% of log lines.\n",
      "Processed 33.2% of log lines.\n",
      "Processed 33.2% of log lines.\n",
      "Processed 33.2% of log lines.\n",
      "Processed 33.2% of log lines.\n",
      "Processed 33.2% of log lines.\n",
      "Processed 33.2% of log lines.\n",
      "Processed 33.2% of log lines.\n",
      "Processed 33.2% of log lines.\n",
      "Processed 33.2% of log lines.\n",
      "Processed 33.2% of log lines.\n",
      "Processed 33.2% of log lines.\n",
      "Processed 33.3% of log lines.\n",
      "Processed 33.3% of log lines.\n",
      "Processed 33.3% of log lines.\n",
      "Processed 33.3% of log lines.\n",
      "Processed 33.3% of log lines.\n",
      "Processed 33.3% of log lines.\n",
      "Processed 33.3% of log lines.\n",
      "Processed 33.3% of log lines.\n",
      "Processed 33.3% of log lines.\n",
      "Processed 33.3% of log lines.\n",
      "Processed 33.3% of log lines.\n",
      "Processed 33.3% of log lines.\n",
      "Processed 33.4% of log lines.\n",
      "Processed 33.4% of log lines.\n",
      "Processed 33.4% of log lines.\n",
      "Processed 33.4% of log lines.\n",
      "Processed 33.4% of log lines.\n",
      "Processed 33.4% of log lines.\n",
      "Processed 33.4% of log lines.\n",
      "Processed 33.4% of log lines.\n",
      "Processed 33.4% of log lines.\n",
      "Processed 33.4% of log lines.\n",
      "Processed 33.4% of log lines.\n",
      "Processed 33.5% of log lines.\n",
      "Processed 33.5% of log lines.\n",
      "Processed 33.5% of log lines.\n",
      "Processed 33.5% of log lines.\n",
      "Processed 33.5% of log lines.\n",
      "Processed 33.5% of log lines.\n",
      "Processed 33.5% of log lines.\n",
      "Processed 33.5% of log lines.\n",
      "Processed 33.5% of log lines.\n",
      "Processed 33.5% of log lines.\n",
      "Processed 33.5% of log lines.\n",
      "Processed 33.6% of log lines.\n",
      "Processed 33.6% of log lines.\n",
      "Processed 33.6% of log lines.\n",
      "Processed 33.6% of log lines.\n",
      "Processed 33.6% of log lines.\n",
      "Processed 33.6% of log lines.\n",
      "Processed 33.6% of log lines.\n",
      "Processed 33.6% of log lines.\n",
      "Processed 33.6% of log lines.\n",
      "Processed 33.6% of log lines.\n",
      "Processed 33.6% of log lines.\n",
      "Processed 33.7% of log lines.\n",
      "Processed 33.7% of log lines.\n",
      "Processed 33.7% of log lines.\n",
      "Processed 33.7% of log lines.\n",
      "Processed 33.7% of log lines.\n",
      "Processed 33.7% of log lines.\n",
      "Processed 33.7% of log lines.\n",
      "Processed 33.7% of log lines.\n",
      "Processed 33.7% of log lines.\n",
      "Processed 33.7% of log lines.\n",
      "Processed 33.7% of log lines.\n",
      "Processed 33.8% of log lines.\n",
      "Processed 33.8% of log lines.\n",
      "Processed 33.8% of log lines.\n",
      "Processed 33.8% of log lines.\n",
      "Processed 33.8% of log lines.\n",
      "Processed 33.8% of log lines.\n",
      "Processed 33.8% of log lines.\n",
      "Processed 33.8% of log lines.\n",
      "Processed 33.8% of log lines.\n",
      "Processed 33.8% of log lines.\n",
      "Processed 33.8% of log lines.\n",
      "Processed 33.9% of log lines.\n",
      "Processed 33.9% of log lines.\n",
      "Processed 33.9% of log lines.\n",
      "Processed 33.9% of log lines.\n",
      "Processed 33.9% of log lines.\n",
      "Processed 33.9% of log lines.\n",
      "Processed 33.9% of log lines.\n",
      "Processed 33.9% of log lines.\n",
      "Processed 33.9% of log lines.\n",
      "Processed 33.9% of log lines.\n",
      "Processed 33.9% of log lines.\n",
      "Processed 33.9% of log lines.\n",
      "Processed 34.0% of log lines.\n",
      "Processed 34.0% of log lines.\n",
      "Processed 34.0% of log lines.\n",
      "Processed 34.0% of log lines.\n",
      "Processed 34.0% of log lines.\n",
      "Processed 34.0% of log lines.\n",
      "Processed 34.0% of log lines.\n",
      "Processed 34.0% of log lines.\n",
      "Processed 34.0% of log lines.\n",
      "Processed 34.0% of log lines.\n",
      "Processed 34.0% of log lines.\n",
      "Processed 34.1% of log lines.\n",
      "Processed 34.1% of log lines.\n",
      "Processed 34.1% of log lines.\n",
      "Processed 34.1% of log lines.\n",
      "Processed 34.1% of log lines.\n",
      "Processed 34.1% of log lines.\n",
      "Processed 34.1% of log lines.\n",
      "Processed 34.1% of log lines.\n",
      "Processed 34.1% of log lines.\n",
      "Processed 34.1% of log lines.\n",
      "Processed 34.1% of log lines.\n",
      "Processed 34.2% of log lines.\n",
      "Processed 34.2% of log lines.\n",
      "Processed 34.2% of log lines.\n",
      "Processed 34.2% of log lines.\n",
      "Processed 34.2% of log lines.\n",
      "Processed 34.2% of log lines.\n",
      "Processed 34.2% of log lines.\n",
      "Processed 34.2% of log lines.\n",
      "Processed 34.2% of log lines.\n",
      "Processed 34.2% of log lines.\n",
      "Processed 34.2% of log lines.\n",
      "Processed 34.3% of log lines.\n",
      "Processed 34.3% of log lines.\n",
      "Processed 34.3% of log lines.\n",
      "Processed 34.3% of log lines.\n",
      "Processed 34.3% of log lines.\n",
      "Processed 34.3% of log lines.\n",
      "Processed 34.3% of log lines.\n",
      "Processed 34.3% of log lines.\n",
      "Processed 34.3% of log lines.\n",
      "Processed 34.3% of log lines.\n",
      "Processed 34.3% of log lines.\n",
      "Processed 34.4% of log lines.\n",
      "Processed 34.4% of log lines.\n",
      "Processed 34.4% of log lines.\n",
      "Processed 34.4% of log lines.\n",
      "Processed 34.4% of log lines.\n",
      "Processed 34.4% of log lines.\n",
      "Processed 34.4% of log lines.\n",
      "Processed 34.4% of log lines.\n",
      "Processed 34.4% of log lines.\n",
      "Processed 34.4% of log lines.\n",
      "Processed 34.4% of log lines.\n",
      "Processed 34.4% of log lines.\n",
      "Processed 34.5% of log lines.\n",
      "Processed 34.5% of log lines.\n",
      "Processed 34.5% of log lines.\n",
      "Processed 34.5% of log lines.\n",
      "Processed 34.5% of log lines.\n",
      "Processed 34.5% of log lines.\n",
      "Processed 34.5% of log lines.\n",
      "Processed 34.5% of log lines.\n",
      "Processed 34.5% of log lines.\n",
      "Processed 34.5% of log lines.\n",
      "Processed 34.5% of log lines.\n",
      "Processed 34.6% of log lines.\n",
      "Processed 34.6% of log lines.\n",
      "Processed 34.6% of log lines.\n",
      "Processed 34.6% of log lines.\n",
      "Processed 34.6% of log lines.\n",
      "Processed 34.6% of log lines.\n",
      "Processed 34.6% of log lines.\n",
      "Processed 34.6% of log lines.\n",
      "Processed 34.6% of log lines.\n",
      "Processed 34.6% of log lines.\n",
      "Processed 34.6% of log lines.\n",
      "Processed 34.7% of log lines.\n",
      "Processed 34.7% of log lines.\n",
      "Processed 34.7% of log lines.\n",
      "Processed 34.7% of log lines.\n",
      "Processed 34.7% of log lines.\n",
      "Processed 34.7% of log lines.\n",
      "Processed 34.7% of log lines.\n",
      "Processed 34.7% of log lines.\n",
      "Processed 34.7% of log lines.\n",
      "Processed 34.7% of log lines.\n",
      "Processed 34.7% of log lines.\n",
      "Processed 34.8% of log lines.\n",
      "Processed 34.8% of log lines.\n",
      "Processed 34.8% of log lines.\n",
      "Processed 34.8% of log lines.\n",
      "Processed 34.8% of log lines.\n",
      "Processed 34.8% of log lines.\n",
      "Processed 34.8% of log lines.\n",
      "Processed 34.8% of log lines.\n",
      "Processed 34.8% of log lines.\n",
      "Processed 34.8% of log lines.\n",
      "Processed 34.8% of log lines.\n",
      "Processed 34.9% of log lines.\n",
      "Processed 34.9% of log lines.\n",
      "Processed 34.9% of log lines.\n",
      "Processed 34.9% of log lines.\n",
      "Processed 34.9% of log lines.\n",
      "Processed 34.9% of log lines.\n",
      "Processed 34.9% of log lines.\n",
      "Processed 34.9% of log lines.\n",
      "Processed 34.9% of log lines.\n",
      "Processed 34.9% of log lines.\n",
      "Processed 34.9% of log lines.\n",
      "Processed 35.0% of log lines.\n",
      "Processed 35.0% of log lines.\n",
      "Processed 35.0% of log lines.\n",
      "Processed 35.0% of log lines.\n",
      "Processed 35.0% of log lines.\n",
      "Processed 35.0% of log lines.\n",
      "Processed 35.0% of log lines.\n",
      "Processed 35.0% of log lines.\n",
      "Processed 35.0% of log lines.\n",
      "Processed 35.0% of log lines.\n",
      "Processed 35.0% of log lines.\n",
      "Processed 35.0% of log lines.\n",
      "Processed 35.1% of log lines.\n",
      "Processed 35.1% of log lines.\n",
      "Processed 35.1% of log lines.\n",
      "Processed 35.1% of log lines.\n",
      "Processed 35.1% of log lines.\n",
      "Processed 35.1% of log lines.\n",
      "Processed 35.1% of log lines.\n",
      "Processed 35.1% of log lines.\n",
      "Processed 35.1% of log lines.\n",
      "Processed 35.1% of log lines.\n",
      "Processed 35.1% of log lines.\n",
      "Processed 35.2% of log lines.\n",
      "Processed 35.2% of log lines.\n",
      "Processed 35.2% of log lines.\n",
      "Processed 35.2% of log lines.\n",
      "Processed 35.2% of log lines.\n",
      "Processed 35.2% of log lines.\n",
      "Processed 35.2% of log lines.\n",
      "Processed 35.2% of log lines.\n",
      "Processed 35.2% of log lines.\n",
      "Processed 35.2% of log lines.\n",
      "Processed 35.2% of log lines.\n",
      "Processed 35.3% of log lines.\n",
      "Processed 35.3% of log lines.\n",
      "Processed 35.3% of log lines.\n",
      "Processed 35.3% of log lines.\n",
      "Processed 35.3% of log lines.\n",
      "Processed 35.3% of log lines.\n",
      "Processed 35.3% of log lines.\n",
      "Processed 35.3% of log lines.\n",
      "Processed 35.3% of log lines.\n",
      "Processed 35.3% of log lines.\n",
      "Processed 35.3% of log lines.\n",
      "Processed 35.4% of log lines.\n",
      "Processed 35.4% of log lines.\n",
      "Processed 35.4% of log lines.\n",
      "Processed 35.4% of log lines.\n",
      "Processed 35.4% of log lines.\n",
      "Processed 35.4% of log lines.\n",
      "Processed 35.4% of log lines.\n",
      "Processed 35.4% of log lines.\n",
      "Processed 35.4% of log lines.\n",
      "Processed 35.4% of log lines.\n",
      "Processed 35.4% of log lines.\n",
      "Processed 35.5% of log lines.\n",
      "Processed 35.5% of log lines.\n",
      "Processed 35.5% of log lines.\n",
      "Processed 35.5% of log lines.\n",
      "Processed 35.5% of log lines.\n",
      "Processed 35.5% of log lines.\n",
      "Processed 35.5% of log lines.\n",
      "Processed 35.5% of log lines.\n",
      "Processed 35.5% of log lines.\n",
      "Processed 35.5% of log lines.\n",
      "Processed 35.5% of log lines.\n",
      "Processed 35.6% of log lines.\n",
      "Processed 35.6% of log lines.\n",
      "Processed 35.6% of log lines.\n",
      "Processed 35.6% of log lines.\n",
      "Processed 35.6% of log lines.\n",
      "Processed 35.6% of log lines.\n",
      "Processed 35.6% of log lines.\n",
      "Processed 35.6% of log lines.\n",
      "Processed 35.6% of log lines.\n",
      "Processed 35.6% of log lines.\n",
      "Processed 35.6% of log lines.\n",
      "Processed 35.6% of log lines.\n",
      "Processed 35.7% of log lines.\n",
      "Processed 35.7% of log lines.\n",
      "Processed 35.7% of log lines.\n",
      "Processed 35.7% of log lines.\n",
      "Processed 35.7% of log lines.\n",
      "Processed 35.7% of log lines.\n",
      "Processed 35.7% of log lines.\n",
      "Processed 35.7% of log lines.\n",
      "Processed 35.7% of log lines.\n",
      "Processed 35.7% of log lines.\n",
      "Processed 35.7% of log lines.\n",
      "Processed 35.8% of log lines.\n",
      "Processed 35.8% of log lines.\n",
      "Processed 35.8% of log lines.\n",
      "Processed 35.8% of log lines.\n",
      "Processed 35.8% of log lines.\n",
      "Processed 35.8% of log lines.\n",
      "Processed 35.8% of log lines.\n",
      "Processed 35.8% of log lines.\n",
      "Processed 35.8% of log lines.\n",
      "Processed 35.8% of log lines.\n",
      "Processed 35.8% of log lines.\n",
      "Processed 35.9% of log lines.\n",
      "Processed 35.9% of log lines.\n",
      "Processed 35.9% of log lines.\n",
      "Processed 35.9% of log lines.\n",
      "Processed 35.9% of log lines.\n",
      "Processed 35.9% of log lines.\n",
      "Processed 35.9% of log lines.\n",
      "Processed 35.9% of log lines.\n",
      "Processed 35.9% of log lines.\n",
      "Processed 35.9% of log lines.\n",
      "Processed 35.9% of log lines.\n",
      "Processed 36.0% of log lines.\n",
      "Processed 36.0% of log lines.\n",
      "Processed 36.0% of log lines.\n",
      "Processed 36.0% of log lines.\n",
      "Processed 36.0% of log lines.\n",
      "Processed 36.0% of log lines.\n",
      "Processed 36.0% of log lines.\n",
      "Processed 36.0% of log lines.\n",
      "Processed 36.0% of log lines.\n",
      "Processed 36.0% of log lines.\n",
      "Processed 36.0% of log lines.\n",
      "Processed 36.1% of log lines.\n",
      "Processed 36.1% of log lines.\n",
      "Processed 36.1% of log lines.\n",
      "Processed 36.1% of log lines.\n",
      "Processed 36.1% of log lines.\n",
      "Processed 36.1% of log lines.\n",
      "Processed 36.1% of log lines.\n",
      "Processed 36.1% of log lines.\n",
      "Processed 36.1% of log lines.\n",
      "Processed 36.1% of log lines.\n",
      "Processed 36.1% of log lines.\n",
      "Processed 36.2% of log lines.\n",
      "Processed 36.2% of log lines.\n",
      "Processed 36.2% of log lines.\n",
      "Processed 36.2% of log lines.\n",
      "Processed 36.2% of log lines.\n",
      "Processed 36.2% of log lines.\n",
      "Processed 36.2% of log lines.\n",
      "Processed 36.2% of log lines.\n",
      "Processed 36.2% of log lines.\n",
      "Processed 36.2% of log lines.\n",
      "Processed 36.2% of log lines.\n",
      "Processed 36.2% of log lines.\n",
      "Processed 36.3% of log lines.\n",
      "Processed 36.3% of log lines.\n",
      "Processed 36.3% of log lines.\n",
      "Processed 36.3% of log lines.\n",
      "Processed 36.3% of log lines.\n",
      "Processed 36.3% of log lines.\n",
      "Processed 36.3% of log lines.\n",
      "Processed 36.3% of log lines.\n",
      "Processed 36.3% of log lines.\n",
      "Processed 36.3% of log lines.\n",
      "Processed 36.3% of log lines.\n",
      "Processed 36.4% of log lines.\n",
      "Processed 36.4% of log lines.\n",
      "Processed 36.4% of log lines.\n",
      "Processed 36.4% of log lines.\n",
      "Processed 36.4% of log lines.\n",
      "Processed 36.4% of log lines.\n",
      "Processed 36.4% of log lines.\n",
      "Processed 36.4% of log lines.\n",
      "Processed 36.4% of log lines.\n",
      "Processed 36.4% of log lines.\n",
      "Processed 36.4% of log lines.\n",
      "Processed 36.5% of log lines.\n",
      "Processed 36.5% of log lines.\n",
      "Processed 36.5% of log lines.\n",
      "Processed 36.5% of log lines.\n",
      "Processed 36.5% of log lines.\n",
      "Processed 36.5% of log lines.\n",
      "Processed 36.5% of log lines.\n",
      "Processed 36.5% of log lines.\n",
      "Processed 36.5% of log lines.\n",
      "Processed 36.5% of log lines.\n",
      "Processed 36.5% of log lines.\n",
      "Processed 36.6% of log lines.\n",
      "Processed 36.6% of log lines.\n",
      "Processed 36.6% of log lines.\n",
      "Processed 36.6% of log lines.\n",
      "Processed 36.6% of log lines.\n",
      "Processed 36.6% of log lines.\n",
      "Processed 36.6% of log lines.\n",
      "Processed 36.6% of log lines.\n",
      "Processed 36.6% of log lines.\n",
      "Processed 36.6% of log lines.\n",
      "Processed 36.6% of log lines.\n",
      "Processed 36.7% of log lines.\n",
      "Processed 36.7% of log lines.\n",
      "Processed 36.7% of log lines.\n",
      "Processed 36.7% of log lines.\n",
      "Processed 36.7% of log lines.\n",
      "Processed 36.7% of log lines.\n",
      "Processed 36.7% of log lines.\n",
      "Processed 36.7% of log lines.\n",
      "Processed 36.7% of log lines.\n",
      "Processed 36.7% of log lines.\n",
      "Processed 36.7% of log lines.\n",
      "Processed 36.7% of log lines.\n",
      "Processed 36.8% of log lines.\n",
      "Processed 36.8% of log lines.\n",
      "Processed 36.8% of log lines.\n",
      "Processed 36.8% of log lines.\n",
      "Processed 36.8% of log lines.\n",
      "Processed 36.8% of log lines.\n",
      "Processed 36.8% of log lines.\n",
      "Processed 36.8% of log lines.\n",
      "Processed 36.8% of log lines.\n",
      "Processed 36.8% of log lines.\n",
      "Processed 36.8% of log lines.\n",
      "Processed 36.9% of log lines.\n",
      "Processed 36.9% of log lines.\n",
      "Processed 36.9% of log lines.\n",
      "Processed 36.9% of log lines.\n",
      "Processed 36.9% of log lines.\n",
      "Processed 36.9% of log lines.\n",
      "Processed 36.9% of log lines.\n",
      "Processed 36.9% of log lines.\n",
      "Processed 36.9% of log lines.\n",
      "Processed 36.9% of log lines.\n",
      "Processed 36.9% of log lines.\n",
      "Processed 37.0% of log lines.\n",
      "Processed 37.0% of log lines.\n",
      "Processed 37.0% of log lines.\n",
      "Processed 37.0% of log lines.\n",
      "Processed 37.0% of log lines.\n",
      "Processed 37.0% of log lines.\n",
      "Processed 37.0% of log lines.\n",
      "Processed 37.0% of log lines.\n",
      "Processed 37.0% of log lines.\n",
      "Processed 37.0% of log lines.\n",
      "Processed 37.0% of log lines.\n",
      "Processed 37.1% of log lines.\n",
      "Processed 37.1% of log lines.\n",
      "Processed 37.1% of log lines.\n",
      "Processed 37.1% of log lines.\n",
      "Processed 37.1% of log lines.\n",
      "Processed 37.1% of log lines.\n",
      "Processed 37.1% of log lines.\n",
      "Processed 37.1% of log lines.\n",
      "Processed 37.1% of log lines.\n",
      "Processed 37.1% of log lines.\n",
      "Processed 37.1% of log lines.\n",
      "Processed 37.2% of log lines.\n",
      "Processed 37.2% of log lines.\n",
      "Processed 37.2% of log lines.\n",
      "Processed 37.2% of log lines.\n",
      "Processed 37.2% of log lines.\n",
      "Processed 37.2% of log lines.\n",
      "Processed 37.2% of log lines.\n",
      "Processed 37.2% of log lines.\n",
      "Processed 37.2% of log lines.\n",
      "Processed 37.2% of log lines.\n",
      "Processed 37.2% of log lines.\n",
      "Processed 37.3% of log lines.\n",
      "Processed 37.3% of log lines.\n",
      "Processed 37.3% of log lines.\n",
      "Processed 37.3% of log lines.\n",
      "Processed 37.3% of log lines.\n",
      "Processed 37.3% of log lines.\n",
      "Processed 37.3% of log lines.\n",
      "Processed 37.3% of log lines.\n",
      "Processed 37.3% of log lines.\n",
      "Processed 37.3% of log lines.\n",
      "Processed 37.3% of log lines.\n",
      "Processed 37.3% of log lines.\n",
      "Processed 37.4% of log lines.\n",
      "Processed 37.4% of log lines.\n",
      "Processed 37.4% of log lines.\n",
      "Processed 37.4% of log lines.\n",
      "Processed 37.4% of log lines.\n",
      "Processed 37.4% of log lines.\n",
      "Processed 37.4% of log lines.\n",
      "Processed 37.4% of log lines.\n",
      "Processed 37.4% of log lines.\n",
      "Processed 37.4% of log lines.\n",
      "Processed 37.4% of log lines.\n",
      "Processed 37.5% of log lines.\n",
      "Processed 37.5% of log lines.\n",
      "Processed 37.5% of log lines.\n",
      "Processed 37.5% of log lines.\n",
      "Processed 37.5% of log lines.\n",
      "Processed 37.5% of log lines.\n",
      "Processed 37.5% of log lines.\n",
      "Processed 37.5% of log lines.\n",
      "Processed 37.5% of log lines.\n",
      "Processed 37.5% of log lines.\n",
      "Processed 37.5% of log lines.\n",
      "Processed 37.6% of log lines.\n",
      "Processed 37.6% of log lines.\n",
      "Processed 37.6% of log lines.\n",
      "Processed 37.6% of log lines.\n",
      "Processed 37.6% of log lines.\n",
      "Processed 37.6% of log lines.\n",
      "Processed 37.6% of log lines.\n",
      "Processed 37.6% of log lines.\n",
      "Processed 37.6% of log lines.\n",
      "Processed 37.6% of log lines.\n",
      "Processed 37.6% of log lines.\n",
      "Processed 37.7% of log lines.\n",
      "Processed 37.7% of log lines.\n",
      "Processed 37.7% of log lines.\n",
      "Processed 37.7% of log lines.\n",
      "Processed 37.7% of log lines.\n",
      "Processed 37.7% of log lines.\n",
      "Processed 37.7% of log lines.\n",
      "Processed 37.7% of log lines.\n",
      "Processed 37.7% of log lines.\n",
      "Processed 37.7% of log lines.\n",
      "Processed 37.7% of log lines.\n",
      "Processed 37.8% of log lines.\n",
      "Processed 37.8% of log lines.\n",
      "Processed 37.8% of log lines.\n",
      "Processed 37.8% of log lines.\n",
      "Processed 37.8% of log lines.\n",
      "Processed 37.8% of log lines.\n",
      "Processed 37.8% of log lines.\n",
      "Processed 37.8% of log lines.\n",
      "Processed 37.8% of log lines.\n",
      "Processed 37.8% of log lines.\n",
      "Processed 37.8% of log lines.\n",
      "Processed 37.9% of log lines.\n",
      "Processed 37.9% of log lines.\n",
      "Processed 37.9% of log lines.\n",
      "Processed 37.9% of log lines.\n",
      "Processed 37.9% of log lines.\n",
      "Processed 37.9% of log lines.\n",
      "Processed 37.9% of log lines.\n",
      "Processed 37.9% of log lines.\n",
      "Processed 37.9% of log lines.\n",
      "Processed 37.9% of log lines.\n",
      "Processed 37.9% of log lines.\n",
      "Processed 37.9% of log lines.\n",
      "Processed 38.0% of log lines.\n",
      "Processed 38.0% of log lines.\n",
      "Processed 38.0% of log lines.\n",
      "Processed 38.0% of log lines.\n",
      "Processed 38.0% of log lines.\n",
      "Processed 38.0% of log lines.\n",
      "Processed 38.0% of log lines.\n",
      "Processed 38.0% of log lines.\n",
      "Processed 38.0% of log lines.\n",
      "Processed 38.0% of log lines.\n",
      "Processed 38.0% of log lines.\n",
      "Processed 38.1% of log lines.\n",
      "Processed 38.1% of log lines.\n",
      "Processed 38.1% of log lines.\n",
      "Processed 38.1% of log lines.\n",
      "Processed 38.1% of log lines.\n",
      "Processed 38.1% of log lines.\n",
      "Processed 38.1% of log lines.\n",
      "Processed 38.1% of log lines.\n",
      "Processed 38.1% of log lines.\n",
      "Processed 38.1% of log lines.\n",
      "Processed 38.1% of log lines.\n",
      "Processed 38.2% of log lines.\n",
      "Processed 38.2% of log lines.\n",
      "Processed 38.2% of log lines.\n",
      "Processed 38.2% of log lines.\n",
      "Processed 38.2% of log lines.\n",
      "Processed 38.2% of log lines.\n",
      "Processed 38.2% of log lines.\n",
      "Processed 38.2% of log lines.\n",
      "Processed 38.2% of log lines.\n",
      "Processed 38.2% of log lines.\n",
      "Processed 38.2% of log lines.\n",
      "Processed 38.3% of log lines.\n",
      "Processed 38.3% of log lines.\n",
      "Processed 38.3% of log lines.\n",
      "Processed 38.3% of log lines.\n",
      "Processed 38.3% of log lines.\n",
      "Processed 38.3% of log lines.\n",
      "Processed 38.3% of log lines.\n",
      "Processed 38.3% of log lines.\n",
      "Processed 38.3% of log lines.\n",
      "Processed 38.3% of log lines.\n",
      "Processed 38.3% of log lines.\n",
      "Processed 38.4% of log lines.\n",
      "Processed 38.4% of log lines.\n",
      "Processed 38.4% of log lines.\n",
      "Processed 38.4% of log lines.\n",
      "Processed 38.4% of log lines.\n",
      "Processed 38.4% of log lines.\n",
      "Processed 38.4% of log lines.\n",
      "Processed 38.4% of log lines.\n",
      "Processed 38.4% of log lines.\n",
      "Processed 38.4% of log lines.\n",
      "Processed 38.4% of log lines.\n",
      "Processed 38.4% of log lines.\n",
      "Processed 38.5% of log lines.\n",
      "Processed 38.5% of log lines.\n",
      "Processed 38.5% of log lines.\n",
      "Processed 38.5% of log lines.\n",
      "Processed 38.5% of log lines.\n",
      "Processed 38.5% of log lines.\n",
      "Processed 38.5% of log lines.\n",
      "Processed 38.5% of log lines.\n",
      "Processed 38.5% of log lines.\n",
      "Processed 38.5% of log lines.\n",
      "Processed 38.5% of log lines.\n",
      "Processed 38.6% of log lines.\n",
      "Processed 38.6% of log lines.\n",
      "Processed 38.6% of log lines.\n",
      "Processed 38.6% of log lines.\n",
      "Processed 38.6% of log lines.\n",
      "Processed 38.6% of log lines.\n",
      "Processed 38.6% of log lines.\n",
      "Processed 38.6% of log lines.\n",
      "Processed 38.6% of log lines.\n",
      "Processed 38.6% of log lines.\n",
      "Processed 38.6% of log lines.\n",
      "Processed 38.7% of log lines.\n",
      "Processed 38.7% of log lines.\n",
      "Processed 38.7% of log lines.\n",
      "Processed 38.7% of log lines.\n",
      "Processed 38.7% of log lines.\n",
      "Processed 38.7% of log lines.\n",
      "Processed 38.7% of log lines.\n",
      "Processed 38.7% of log lines.\n",
      "Processed 38.7% of log lines.\n",
      "Processed 38.7% of log lines.\n",
      "Processed 38.7% of log lines.\n",
      "Processed 38.8% of log lines.\n",
      "Processed 38.8% of log lines.\n",
      "Processed 38.8% of log lines.\n",
      "Processed 38.8% of log lines.\n",
      "Processed 38.8% of log lines.\n",
      "Processed 38.8% of log lines.\n",
      "Processed 38.8% of log lines.\n",
      "Processed 38.8% of log lines.\n",
      "Processed 38.8% of log lines.\n",
      "Processed 38.8% of log lines.\n",
      "Processed 38.8% of log lines.\n",
      "Processed 38.9% of log lines.\n",
      "Processed 38.9% of log lines.\n",
      "Processed 38.9% of log lines.\n",
      "Processed 38.9% of log lines.\n",
      "Processed 38.9% of log lines.\n",
      "Processed 38.9% of log lines.\n",
      "Processed 38.9% of log lines.\n",
      "Processed 38.9% of log lines.\n",
      "Processed 38.9% of log lines.\n",
      "Processed 38.9% of log lines.\n",
      "Processed 38.9% of log lines.\n",
      "Processed 39.0% of log lines.\n",
      "Processed 39.0% of log lines.\n",
      "Processed 39.0% of log lines.\n",
      "Processed 39.0% of log lines.\n",
      "Processed 39.0% of log lines.\n",
      "Processed 39.0% of log lines.\n",
      "Processed 39.0% of log lines.\n",
      "Processed 39.0% of log lines.\n",
      "Processed 39.0% of log lines.\n",
      "Processed 39.0% of log lines.\n",
      "Processed 39.0% of log lines.\n",
      "Processed 39.0% of log lines.\n",
      "Processed 39.1% of log lines.\n",
      "Processed 39.1% of log lines.\n",
      "Processed 39.1% of log lines.\n",
      "Processed 39.1% of log lines.\n",
      "Processed 39.1% of log lines.\n",
      "Processed 39.1% of log lines.\n",
      "Processed 39.1% of log lines.\n",
      "Processed 39.1% of log lines.\n",
      "Processed 39.1% of log lines.\n",
      "Processed 39.1% of log lines.\n",
      "Processed 39.1% of log lines.\n",
      "Processed 39.2% of log lines.\n",
      "Processed 39.2% of log lines.\n",
      "Processed 39.2% of log lines.\n",
      "Processed 39.2% of log lines.\n",
      "Processed 39.2% of log lines.\n",
      "Processed 39.2% of log lines.\n",
      "Processed 39.2% of log lines.\n",
      "Processed 39.2% of log lines.\n",
      "Processed 39.2% of log lines.\n",
      "Processed 39.2% of log lines.\n",
      "Processed 39.2% of log lines.\n",
      "Processed 39.3% of log lines.\n",
      "Processed 39.3% of log lines.\n",
      "Processed 39.3% of log lines.\n",
      "Processed 39.3% of log lines.\n",
      "Processed 39.3% of log lines.\n",
      "Processed 39.3% of log lines.\n",
      "Processed 39.3% of log lines.\n",
      "Processed 39.3% of log lines.\n",
      "Processed 39.3% of log lines.\n",
      "Processed 39.3% of log lines.\n",
      "Processed 39.3% of log lines.\n",
      "Processed 39.4% of log lines.\n",
      "Processed 39.4% of log lines.\n",
      "Processed 39.4% of log lines.\n",
      "Processed 39.4% of log lines.\n",
      "Processed 39.4% of log lines.\n",
      "Processed 39.4% of log lines.\n",
      "Processed 39.4% of log lines.\n",
      "Processed 39.4% of log lines.\n",
      "Processed 39.4% of log lines.\n",
      "Processed 39.4% of log lines.\n",
      "Processed 39.4% of log lines.\n",
      "Processed 39.5% of log lines.\n",
      "Processed 39.5% of log lines.\n",
      "Processed 39.5% of log lines.\n",
      "Processed 39.5% of log lines.\n",
      "Processed 39.5% of log lines.\n",
      "Processed 39.5% of log lines.\n",
      "Processed 39.5% of log lines.\n",
      "Processed 39.5% of log lines.\n",
      "Processed 39.5% of log lines.\n",
      "Processed 39.5% of log lines.\n",
      "Processed 39.5% of log lines.\n",
      "Processed 39.6% of log lines.\n",
      "Processed 39.6% of log lines.\n",
      "Processed 39.6% of log lines.\n",
      "Processed 39.6% of log lines.\n",
      "Processed 39.6% of log lines.\n",
      "Processed 39.6% of log lines.\n",
      "Processed 39.6% of log lines.\n",
      "Processed 39.6% of log lines.\n",
      "Processed 39.6% of log lines.\n",
      "Processed 39.6% of log lines.\n",
      "Processed 39.6% of log lines.\n",
      "Processed 39.6% of log lines.\n",
      "Processed 39.7% of log lines.\n",
      "Processed 39.7% of log lines.\n",
      "Processed 39.7% of log lines.\n",
      "Processed 39.7% of log lines.\n",
      "Processed 39.7% of log lines.\n",
      "Processed 39.7% of log lines.\n",
      "Processed 39.7% of log lines.\n",
      "Processed 39.7% of log lines.\n",
      "Processed 39.7% of log lines.\n",
      "Processed 39.7% of log lines.\n",
      "Processed 39.7% of log lines.\n",
      "Processed 39.8% of log lines.\n",
      "Processed 39.8% of log lines.\n",
      "Processed 39.8% of log lines.\n",
      "Processed 39.8% of log lines.\n",
      "Processed 39.8% of log lines.\n",
      "Processed 39.8% of log lines.\n",
      "Processed 39.8% of log lines.\n",
      "Processed 39.8% of log lines.\n",
      "Processed 39.8% of log lines.\n",
      "Processed 39.8% of log lines.\n",
      "Processed 39.8% of log lines.\n",
      "Processed 39.9% of log lines.\n",
      "Processed 39.9% of log lines.\n",
      "Processed 39.9% of log lines.\n",
      "Processed 39.9% of log lines.\n",
      "Processed 39.9% of log lines.\n",
      "Processed 39.9% of log lines.\n",
      "Processed 39.9% of log lines.\n",
      "Processed 39.9% of log lines.\n",
      "Processed 39.9% of log lines.\n",
      "Processed 39.9% of log lines.\n",
      "Processed 39.9% of log lines.\n",
      "Processed 40.0% of log lines.\n",
      "Processed 40.0% of log lines.\n",
      "Processed 40.0% of log lines.\n",
      "Processed 40.0% of log lines.\n",
      "Processed 40.0% of log lines.\n",
      "Processed 40.0% of log lines.\n",
      "Processed 40.0% of log lines.\n",
      "Processed 40.0% of log lines.\n",
      "Processed 40.0% of log lines.\n",
      "Processed 40.0% of log lines.\n",
      "Processed 40.0% of log lines.\n",
      "Processed 40.1% of log lines.\n",
      "Processed 40.1% of log lines.\n",
      "Processed 40.1% of log lines.\n",
      "Processed 40.1% of log lines.\n",
      "Processed 40.1% of log lines.\n",
      "Processed 40.1% of log lines.\n",
      "Processed 40.1% of log lines.\n",
      "Processed 40.1% of log lines.\n",
      "Processed 40.1% of log lines.\n",
      "Processed 40.1% of log lines.\n",
      "Processed 40.1% of log lines.\n",
      "Processed 40.1% of log lines.\n",
      "Processed 40.2% of log lines.\n",
      "Processed 40.2% of log lines.\n",
      "Processed 40.2% of log lines.\n",
      "Processed 40.2% of log lines.\n",
      "Processed 40.2% of log lines.\n",
      "Processed 40.2% of log lines.\n",
      "Processed 40.2% of log lines.\n",
      "Processed 40.2% of log lines.\n",
      "Processed 40.2% of log lines.\n",
      "Processed 40.2% of log lines.\n",
      "Processed 40.2% of log lines.\n",
      "Processed 40.3% of log lines.\n",
      "Processed 40.3% of log lines.\n",
      "Processed 40.3% of log lines.\n",
      "Processed 40.3% of log lines.\n",
      "Processed 40.3% of log lines.\n",
      "Processed 40.3% of log lines.\n",
      "Processed 40.3% of log lines.\n",
      "Processed 40.3% of log lines.\n",
      "Processed 40.3% of log lines.\n",
      "Processed 40.3% of log lines.\n",
      "Processed 40.3% of log lines.\n",
      "Processed 40.4% of log lines.\n",
      "Processed 40.4% of log lines.\n",
      "Processed 40.4% of log lines.\n",
      "Processed 40.4% of log lines.\n",
      "Processed 40.4% of log lines.\n",
      "Processed 40.4% of log lines.\n",
      "Processed 40.4% of log lines.\n",
      "Processed 40.4% of log lines.\n",
      "Processed 40.4% of log lines.\n",
      "Processed 40.4% of log lines.\n",
      "Processed 40.4% of log lines.\n",
      "Processed 40.5% of log lines.\n",
      "Processed 40.5% of log lines.\n",
      "Processed 40.5% of log lines.\n",
      "Processed 40.5% of log lines.\n",
      "Processed 40.5% of log lines.\n",
      "Processed 40.5% of log lines.\n",
      "Processed 40.5% of log lines.\n",
      "Processed 40.5% of log lines.\n",
      "Processed 40.5% of log lines.\n",
      "Processed 40.5% of log lines.\n",
      "Processed 40.5% of log lines.\n",
      "Processed 40.6% of log lines.\n",
      "Processed 40.6% of log lines.\n",
      "Processed 40.6% of log lines.\n",
      "Processed 40.6% of log lines.\n",
      "Processed 40.6% of log lines.\n",
      "Processed 40.6% of log lines.\n",
      "Processed 40.6% of log lines.\n",
      "Processed 40.6% of log lines.\n",
      "Processed 40.6% of log lines.\n",
      "Processed 40.6% of log lines.\n",
      "Processed 40.6% of log lines.\n",
      "Processed 40.7% of log lines.\n",
      "Processed 40.7% of log lines.\n",
      "Processed 40.7% of log lines.\n",
      "Processed 40.7% of log lines.\n",
      "Processed 40.7% of log lines.\n",
      "Processed 40.7% of log lines.\n",
      "Processed 40.7% of log lines.\n",
      "Processed 40.7% of log lines.\n",
      "Processed 40.7% of log lines.\n",
      "Processed 40.7% of log lines.\n",
      "Processed 40.7% of log lines.\n",
      "Processed 40.7% of log lines.\n",
      "Processed 40.8% of log lines.\n",
      "Processed 40.8% of log lines.\n",
      "Processed 40.8% of log lines.\n",
      "Processed 40.8% of log lines.\n",
      "Processed 40.8% of log lines.\n",
      "Processed 40.8% of log lines.\n",
      "Processed 40.8% of log lines.\n",
      "Processed 40.8% of log lines.\n",
      "Processed 40.8% of log lines.\n",
      "Processed 40.8% of log lines.\n",
      "Processed 40.8% of log lines.\n",
      "Processed 40.9% of log lines.\n",
      "Processed 40.9% of log lines.\n",
      "Processed 40.9% of log lines.\n",
      "Processed 40.9% of log lines.\n",
      "Processed 40.9% of log lines.\n",
      "Processed 40.9% of log lines.\n",
      "Processed 40.9% of log lines.\n",
      "Processed 40.9% of log lines.\n",
      "Processed 40.9% of log lines.\n",
      "Processed 40.9% of log lines.\n",
      "Processed 40.9% of log lines.\n",
      "Processed 41.0% of log lines.\n",
      "Processed 41.0% of log lines.\n",
      "Processed 41.0% of log lines.\n",
      "Processed 41.0% of log lines.\n",
      "Processed 41.0% of log lines.\n",
      "Processed 41.0% of log lines.\n",
      "Processed 41.0% of log lines.\n",
      "Processed 41.0% of log lines.\n",
      "Processed 41.0% of log lines.\n",
      "Processed 41.0% of log lines.\n",
      "Processed 41.0% of log lines.\n",
      "Processed 41.1% of log lines.\n",
      "Processed 41.1% of log lines.\n",
      "Processed 41.1% of log lines.\n",
      "Processed 41.1% of log lines.\n",
      "Processed 41.1% of log lines.\n",
      "Processed 41.1% of log lines.\n",
      "Processed 41.1% of log lines.\n",
      "Processed 41.1% of log lines.\n",
      "Processed 41.1% of log lines.\n",
      "Processed 41.1% of log lines.\n",
      "Processed 41.1% of log lines.\n",
      "Processed 41.2% of log lines.\n",
      "Processed 41.2% of log lines.\n",
      "Processed 41.2% of log lines.\n",
      "Processed 41.2% of log lines.\n",
      "Processed 41.2% of log lines.\n",
      "Processed 41.2% of log lines.\n",
      "Processed 41.2% of log lines.\n",
      "Processed 41.2% of log lines.\n",
      "Processed 41.2% of log lines.\n",
      "Processed 41.2% of log lines.\n",
      "Processed 41.2% of log lines.\n",
      "Processed 41.3% of log lines.\n",
      "Processed 41.3% of log lines.\n",
      "Processed 41.3% of log lines.\n",
      "Processed 41.3% of log lines.\n",
      "Processed 41.3% of log lines.\n",
      "Processed 41.3% of log lines.\n",
      "Processed 41.3% of log lines.\n",
      "Processed 41.3% of log lines.\n",
      "Processed 41.3% of log lines.\n",
      "Processed 41.3% of log lines.\n",
      "Processed 41.3% of log lines.\n",
      "Processed 41.3% of log lines.\n",
      "Processed 41.4% of log lines.\n",
      "Processed 41.4% of log lines.\n",
      "Processed 41.4% of log lines.\n",
      "Processed 41.4% of log lines.\n",
      "Processed 41.4% of log lines.\n",
      "Processed 41.4% of log lines.\n",
      "Processed 41.4% of log lines.\n",
      "Processed 41.4% of log lines.\n",
      "Processed 41.4% of log lines.\n",
      "Processed 41.4% of log lines.\n",
      "Processed 41.4% of log lines.\n",
      "Processed 41.5% of log lines.\n",
      "Processed 41.5% of log lines.\n",
      "Processed 41.5% of log lines.\n",
      "Processed 41.5% of log lines.\n",
      "Processed 41.5% of log lines.\n",
      "Processed 41.5% of log lines.\n",
      "Processed 41.5% of log lines.\n",
      "Processed 41.5% of log lines.\n",
      "Processed 41.5% of log lines.\n",
      "Processed 41.5% of log lines.\n",
      "Processed 41.5% of log lines.\n",
      "Processed 41.6% of log lines.\n",
      "Processed 41.6% of log lines.\n",
      "Processed 41.6% of log lines.\n",
      "Processed 41.6% of log lines.\n",
      "Processed 41.6% of log lines.\n",
      "Processed 41.6% of log lines.\n",
      "Processed 41.6% of log lines.\n",
      "Processed 41.6% of log lines.\n",
      "Processed 41.6% of log lines.\n",
      "Processed 41.6% of log lines.\n",
      "Processed 41.6% of log lines.\n",
      "Processed 41.7% of log lines.\n",
      "Processed 41.7% of log lines.\n",
      "Processed 41.7% of log lines.\n",
      "Processed 41.7% of log lines.\n",
      "Processed 41.7% of log lines.\n",
      "Processed 41.7% of log lines.\n",
      "Processed 41.7% of log lines.\n",
      "Processed 41.7% of log lines.\n",
      "Processed 41.7% of log lines.\n",
      "Processed 41.7% of log lines.\n",
      "Processed 41.7% of log lines.\n",
      "Processed 41.8% of log lines.\n",
      "Processed 41.8% of log lines.\n",
      "Processed 41.8% of log lines.\n",
      "Processed 41.8% of log lines.\n",
      "Processed 41.8% of log lines.\n",
      "Processed 41.8% of log lines.\n",
      "Processed 41.8% of log lines.\n",
      "Processed 41.8% of log lines.\n",
      "Processed 41.8% of log lines.\n",
      "Processed 41.8% of log lines.\n",
      "Processed 41.8% of log lines.\n",
      "Processed 41.8% of log lines.\n",
      "Processed 41.9% of log lines.\n",
      "Processed 41.9% of log lines.\n",
      "Processed 41.9% of log lines.\n",
      "Processed 41.9% of log lines.\n",
      "Processed 41.9% of log lines.\n",
      "Processed 41.9% of log lines.\n",
      "Processed 41.9% of log lines.\n",
      "Processed 41.9% of log lines.\n",
      "Processed 41.9% of log lines.\n",
      "Processed 41.9% of log lines.\n",
      "Processed 41.9% of log lines.\n",
      "Processed 42.0% of log lines.\n",
      "Processed 42.0% of log lines.\n",
      "Processed 42.0% of log lines.\n",
      "Processed 42.0% of log lines.\n",
      "Processed 42.0% of log lines.\n",
      "Processed 42.0% of log lines.\n",
      "Processed 42.0% of log lines.\n",
      "Processed 42.0% of log lines.\n",
      "Processed 42.0% of log lines.\n",
      "Processed 42.0% of log lines.\n",
      "Processed 42.0% of log lines.\n",
      "Processed 42.1% of log lines.\n",
      "Processed 42.1% of log lines.\n",
      "Processed 42.1% of log lines.\n",
      "Processed 42.1% of log lines.\n",
      "Processed 42.1% of log lines.\n",
      "Processed 42.1% of log lines.\n",
      "Processed 42.1% of log lines.\n",
      "Processed 42.1% of log lines.\n",
      "Processed 42.1% of log lines.\n",
      "Processed 42.1% of log lines.\n",
      "Processed 42.1% of log lines.\n",
      "Processed 42.2% of log lines.\n",
      "Processed 42.2% of log lines.\n",
      "Processed 42.2% of log lines.\n",
      "Processed 42.2% of log lines.\n",
      "Processed 42.2% of log lines.\n",
      "Processed 42.2% of log lines.\n",
      "Processed 42.2% of log lines.\n",
      "Processed 42.2% of log lines.\n",
      "Processed 42.2% of log lines.\n",
      "Processed 42.2% of log lines.\n",
      "Processed 42.2% of log lines.\n",
      "Processed 42.3% of log lines.\n",
      "Processed 42.3% of log lines.\n",
      "Processed 42.3% of log lines.\n",
      "Processed 42.3% of log lines.\n",
      "Processed 42.3% of log lines.\n",
      "Processed 42.3% of log lines.\n",
      "Processed 42.3% of log lines.\n",
      "Processed 42.3% of log lines.\n",
      "Processed 42.3% of log lines.\n",
      "Processed 42.3% of log lines.\n",
      "Processed 42.3% of log lines.\n",
      "Processed 42.4% of log lines.\n",
      "Processed 42.4% of log lines.\n",
      "Processed 42.4% of log lines.\n",
      "Processed 42.4% of log lines.\n",
      "Processed 42.4% of log lines.\n",
      "Processed 42.4% of log lines.\n",
      "Processed 42.4% of log lines.\n",
      "Processed 42.4% of log lines.\n",
      "Processed 42.4% of log lines.\n",
      "Processed 42.4% of log lines.\n",
      "Processed 42.4% of log lines.\n",
      "Processed 42.4% of log lines.\n",
      "Processed 42.5% of log lines.\n",
      "Processed 42.5% of log lines.\n",
      "Processed 42.5% of log lines.\n",
      "Processed 42.5% of log lines.\n",
      "Processed 42.5% of log lines.\n",
      "Processed 42.5% of log lines.\n",
      "Processed 42.5% of log lines.\n",
      "Processed 42.5% of log lines.\n",
      "Processed 42.5% of log lines.\n",
      "Processed 42.5% of log lines.\n",
      "Processed 42.5% of log lines.\n",
      "Processed 42.6% of log lines.\n",
      "Processed 42.6% of log lines.\n",
      "Processed 42.6% of log lines.\n",
      "Processed 42.6% of log lines.\n",
      "Processed 42.6% of log lines.\n",
      "Processed 42.6% of log lines.\n",
      "Processed 42.6% of log lines.\n",
      "Processed 42.6% of log lines.\n",
      "Processed 42.6% of log lines.\n",
      "Processed 42.6% of log lines.\n",
      "Processed 42.6% of log lines.\n",
      "Processed 42.7% of log lines.\n",
      "Processed 42.7% of log lines.\n",
      "Processed 42.7% of log lines.\n",
      "Processed 42.7% of log lines.\n",
      "Processed 42.7% of log lines.\n",
      "Processed 42.7% of log lines.\n",
      "Processed 42.7% of log lines.\n",
      "Processed 42.7% of log lines.\n",
      "Processed 42.7% of log lines.\n",
      "Processed 42.7% of log lines.\n",
      "Processed 42.7% of log lines.\n",
      "Processed 42.8% of log lines.\n",
      "Processed 42.8% of log lines.\n",
      "Processed 42.8% of log lines.\n",
      "Processed 42.8% of log lines.\n",
      "Processed 42.8% of log lines.\n",
      "Processed 42.8% of log lines.\n",
      "Processed 42.8% of log lines.\n",
      "Processed 42.8% of log lines.\n",
      "Processed 42.8% of log lines.\n",
      "Processed 42.8% of log lines.\n",
      "Processed 42.8% of log lines.\n",
      "Processed 42.9% of log lines.\n",
      "Processed 42.9% of log lines.\n",
      "Processed 42.9% of log lines.\n",
      "Processed 42.9% of log lines.\n",
      "Processed 42.9% of log lines.\n",
      "Processed 42.9% of log lines.\n",
      "Processed 42.9% of log lines.\n",
      "Processed 42.9% of log lines.\n",
      "Processed 42.9% of log lines.\n",
      "Processed 42.9% of log lines.\n",
      "Processed 42.9% of log lines.\n",
      "Processed 43.0% of log lines.\n",
      "Processed 43.0% of log lines.\n",
      "Processed 43.0% of log lines.\n",
      "Processed 43.0% of log lines.\n",
      "Processed 43.0% of log lines.\n",
      "Processed 43.0% of log lines.\n",
      "Processed 43.0% of log lines.\n",
      "Processed 43.0% of log lines.\n",
      "Processed 43.0% of log lines.\n",
      "Processed 43.0% of log lines.\n",
      "Processed 43.0% of log lines.\n",
      "Processed 43.0% of log lines.\n",
      "Processed 43.1% of log lines.\n",
      "Processed 43.1% of log lines.\n",
      "Processed 43.1% of log lines.\n",
      "Processed 43.1% of log lines.\n",
      "Processed 43.1% of log lines.\n",
      "Processed 43.1% of log lines.\n",
      "Processed 43.1% of log lines.\n",
      "Processed 43.1% of log lines.\n",
      "Processed 43.1% of log lines.\n",
      "Processed 43.1% of log lines.\n",
      "Processed 43.1% of log lines.\n",
      "Processed 43.2% of log lines.\n",
      "Processed 43.2% of log lines.\n",
      "Processed 43.2% of log lines.\n",
      "Processed 43.2% of log lines.\n",
      "Processed 43.2% of log lines.\n",
      "Processed 43.2% of log lines.\n",
      "Processed 43.2% of log lines.\n",
      "Processed 43.2% of log lines.\n",
      "Processed 43.2% of log lines.\n",
      "Processed 43.2% of log lines.\n",
      "Processed 43.2% of log lines.\n",
      "Processed 43.3% of log lines.\n",
      "Processed 43.3% of log lines.\n",
      "Processed 43.3% of log lines.\n",
      "Processed 43.3% of log lines.\n",
      "Processed 43.3% of log lines.\n",
      "Processed 43.3% of log lines.\n",
      "Processed 43.3% of log lines.\n",
      "Processed 43.3% of log lines.\n",
      "Processed 43.3% of log lines.\n",
      "Processed 43.3% of log lines.\n",
      "Processed 43.3% of log lines.\n",
      "Processed 43.4% of log lines.\n",
      "Processed 43.4% of log lines.\n",
      "Processed 43.4% of log lines.\n",
      "Processed 43.4% of log lines.\n",
      "Processed 43.4% of log lines.\n",
      "Processed 43.4% of log lines.\n",
      "Processed 43.4% of log lines.\n",
      "Processed 43.4% of log lines.\n",
      "Processed 43.4% of log lines.\n",
      "Processed 43.4% of log lines.\n",
      "Processed 43.4% of log lines.\n",
      "Processed 43.5% of log lines.\n",
      "Processed 43.5% of log lines.\n",
      "Processed 43.5% of log lines.\n",
      "Processed 43.5% of log lines.\n",
      "Processed 43.5% of log lines.\n",
      "Processed 43.5% of log lines.\n",
      "Processed 43.5% of log lines.\n",
      "Processed 43.5% of log lines.\n",
      "Processed 43.5% of log lines.\n",
      "Processed 43.5% of log lines.\n",
      "Processed 43.5% of log lines.\n",
      "Processed 43.6% of log lines.\n",
      "Processed 43.6% of log lines.\n",
      "Processed 43.6% of log lines.\n",
      "Processed 43.6% of log lines.\n",
      "Processed 43.6% of log lines.\n",
      "Processed 43.6% of log lines.\n",
      "Processed 43.6% of log lines.\n",
      "Processed 43.6% of log lines.\n",
      "Processed 43.6% of log lines.\n",
      "Processed 43.6% of log lines.\n",
      "Processed 43.6% of log lines.\n",
      "Processed 43.6% of log lines.\n",
      "Processed 43.7% of log lines.\n",
      "Processed 43.7% of log lines.\n",
      "Processed 43.7% of log lines.\n",
      "Processed 43.7% of log lines.\n",
      "Processed 43.7% of log lines.\n",
      "Processed 43.7% of log lines.\n",
      "Processed 43.7% of log lines.\n",
      "Processed 43.7% of log lines.\n",
      "Processed 43.7% of log lines.\n",
      "Processed 43.7% of log lines.\n",
      "Processed 43.7% of log lines.\n",
      "Processed 43.8% of log lines.\n",
      "Processed 43.8% of log lines.\n",
      "Processed 43.8% of log lines.\n",
      "Processed 43.8% of log lines.\n",
      "Processed 43.8% of log lines.\n",
      "Processed 43.8% of log lines.\n",
      "Processed 43.8% of log lines.\n",
      "Processed 43.8% of log lines.\n",
      "Processed 43.8% of log lines.\n",
      "Processed 43.8% of log lines.\n",
      "Processed 43.8% of log lines.\n",
      "Processed 43.9% of log lines.\n",
      "Processed 43.9% of log lines.\n",
      "Processed 43.9% of log lines.\n",
      "Processed 43.9% of log lines.\n",
      "Processed 43.9% of log lines.\n",
      "Processed 43.9% of log lines.\n",
      "Processed 43.9% of log lines.\n",
      "Processed 43.9% of log lines.\n",
      "Processed 43.9% of log lines.\n",
      "Processed 43.9% of log lines.\n",
      "Processed 43.9% of log lines.\n",
      "Processed 44.0% of log lines.\n",
      "Processed 44.0% of log lines.\n",
      "Processed 44.0% of log lines.\n",
      "Processed 44.0% of log lines.\n",
      "Processed 44.0% of log lines.\n",
      "Processed 44.0% of log lines.\n",
      "Processed 44.0% of log lines.\n",
      "Processed 44.0% of log lines.\n",
      "Processed 44.0% of log lines.\n",
      "Processed 44.0% of log lines.\n",
      "Processed 44.0% of log lines.\n",
      "Processed 44.1% of log lines.\n",
      "Processed 44.1% of log lines.\n",
      "Processed 44.1% of log lines.\n",
      "Processed 44.1% of log lines.\n",
      "Processed 44.1% of log lines.\n",
      "Processed 44.1% of log lines.\n",
      "Processed 44.1% of log lines.\n",
      "Processed 44.1% of log lines.\n",
      "Processed 44.1% of log lines.\n",
      "Processed 44.1% of log lines.\n",
      "Processed 44.1% of log lines.\n",
      "Processed 44.1% of log lines.\n",
      "Processed 44.2% of log lines.\n",
      "Processed 44.2% of log lines.\n",
      "Processed 44.2% of log lines.\n",
      "Processed 44.2% of log lines.\n",
      "Processed 44.2% of log lines.\n",
      "Processed 44.2% of log lines.\n",
      "Processed 44.2% of log lines.\n",
      "Processed 44.2% of log lines.\n",
      "Processed 44.2% of log lines.\n",
      "Processed 44.2% of log lines.\n",
      "Processed 44.2% of log lines.\n",
      "Processed 44.3% of log lines.\n",
      "Processed 44.3% of log lines.\n",
      "Processed 44.3% of log lines.\n",
      "Processed 44.3% of log lines.\n",
      "Processed 44.3% of log lines.\n",
      "Processed 44.3% of log lines.\n",
      "Processed 44.3% of log lines.\n",
      "Processed 44.3% of log lines.\n",
      "Processed 44.3% of log lines.\n",
      "Processed 44.3% of log lines.\n",
      "Processed 44.3% of log lines.\n",
      "Processed 44.4% of log lines.\n",
      "Processed 44.4% of log lines.\n",
      "Processed 44.4% of log lines.\n",
      "Processed 44.4% of log lines.\n",
      "Processed 44.4% of log lines.\n",
      "Processed 44.4% of log lines.\n",
      "Processed 44.4% of log lines.\n",
      "Processed 44.4% of log lines.\n",
      "Processed 44.4% of log lines.\n",
      "Processed 44.4% of log lines.\n",
      "Processed 44.4% of log lines.\n",
      "Processed 44.5% of log lines.\n",
      "Processed 44.5% of log lines.\n",
      "Processed 44.5% of log lines.\n",
      "Processed 44.5% of log lines.\n",
      "Processed 44.5% of log lines.\n",
      "Processed 44.5% of log lines.\n",
      "Processed 44.5% of log lines.\n",
      "Processed 44.5% of log lines.\n",
      "Processed 44.5% of log lines.\n",
      "Processed 44.5% of log lines.\n",
      "Processed 44.5% of log lines.\n",
      "Processed 44.6% of log lines.\n",
      "Processed 44.6% of log lines.\n",
      "Processed 44.6% of log lines.\n",
      "Processed 44.6% of log lines.\n",
      "Processed 44.6% of log lines.\n",
      "Processed 44.6% of log lines.\n",
      "Processed 44.6% of log lines.\n",
      "Processed 44.6% of log lines.\n",
      "Processed 44.6% of log lines.\n",
      "Processed 44.6% of log lines.\n",
      "Processed 44.6% of log lines.\n",
      "Processed 44.7% of log lines.\n",
      "Processed 44.7% of log lines.\n",
      "Processed 44.7% of log lines.\n",
      "Processed 44.7% of log lines.\n",
      "Processed 44.7% of log lines.\n",
      "Processed 44.7% of log lines.\n",
      "Processed 44.7% of log lines.\n",
      "Processed 44.7% of log lines.\n",
      "Processed 44.7% of log lines.\n",
      "Processed 44.7% of log lines.\n",
      "Processed 44.7% of log lines.\n",
      "Processed 44.7% of log lines.\n",
      "Processed 44.8% of log lines.\n",
      "Processed 44.8% of log lines.\n",
      "Processed 44.8% of log lines.\n",
      "Processed 44.8% of log lines.\n",
      "Processed 44.8% of log lines.\n",
      "Processed 44.8% of log lines.\n",
      "Processed 44.8% of log lines.\n",
      "Processed 44.8% of log lines.\n",
      "Processed 44.8% of log lines.\n",
      "Processed 44.8% of log lines.\n",
      "Processed 44.8% of log lines.\n",
      "Processed 44.9% of log lines.\n",
      "Processed 44.9% of log lines.\n",
      "Processed 44.9% of log lines.\n",
      "Processed 44.9% of log lines.\n",
      "Processed 44.9% of log lines.\n",
      "Processed 44.9% of log lines.\n",
      "Processed 44.9% of log lines.\n",
      "Processed 44.9% of log lines.\n",
      "Processed 44.9% of log lines.\n",
      "Processed 44.9% of log lines.\n",
      "Processed 44.9% of log lines.\n",
      "Processed 45.0% of log lines.\n",
      "Processed 45.0% of log lines.\n",
      "Processed 45.0% of log lines.\n",
      "Processed 45.0% of log lines.\n",
      "Processed 45.0% of log lines.\n",
      "Processed 45.0% of log lines.\n",
      "Processed 45.0% of log lines.\n",
      "Processed 45.0% of log lines.\n",
      "Processed 45.0% of log lines.\n",
      "Processed 45.0% of log lines.\n",
      "Processed 45.0% of log lines.\n",
      "Processed 45.1% of log lines.\n",
      "Processed 45.1% of log lines.\n",
      "Processed 45.1% of log lines.\n",
      "Processed 45.1% of log lines.\n",
      "Processed 45.1% of log lines.\n",
      "Processed 45.1% of log lines.\n",
      "Processed 45.1% of log lines.\n",
      "Processed 45.1% of log lines.\n",
      "Processed 45.1% of log lines.\n",
      "Processed 45.1% of log lines.\n",
      "Processed 45.1% of log lines.\n",
      "Processed 45.2% of log lines.\n",
      "Processed 45.2% of log lines.\n",
      "Processed 45.2% of log lines.\n",
      "Processed 45.2% of log lines.\n",
      "Processed 45.2% of log lines.\n",
      "Processed 45.2% of log lines.\n",
      "Processed 45.2% of log lines.\n",
      "Processed 45.2% of log lines.\n",
      "Processed 45.2% of log lines.\n",
      "Processed 45.2% of log lines.\n",
      "Processed 45.2% of log lines.\n",
      "Processed 45.3% of log lines.\n",
      "Processed 45.3% of log lines.\n",
      "Processed 45.3% of log lines.\n",
      "Processed 45.3% of log lines.\n",
      "Processed 45.3% of log lines.\n",
      "Processed 45.3% of log lines.\n",
      "Processed 45.3% of log lines.\n",
      "Processed 45.3% of log lines.\n",
      "Processed 45.3% of log lines.\n",
      "Processed 45.3% of log lines.\n",
      "Processed 45.3% of log lines.\n",
      "Processed 45.3% of log lines.\n",
      "Processed 45.4% of log lines.\n",
      "Processed 45.4% of log lines.\n",
      "Processed 45.4% of log lines.\n",
      "Processed 45.4% of log lines.\n",
      "Processed 45.4% of log lines.\n",
      "Processed 45.4% of log lines.\n",
      "Processed 45.4% of log lines.\n",
      "Processed 45.4% of log lines.\n",
      "Processed 45.4% of log lines.\n",
      "Processed 45.4% of log lines.\n",
      "Processed 45.4% of log lines.\n",
      "Processed 45.5% of log lines.\n",
      "Processed 45.5% of log lines.\n",
      "Processed 45.5% of log lines.\n",
      "Processed 45.5% of log lines.\n",
      "Processed 45.5% of log lines.\n",
      "Processed 45.5% of log lines.\n",
      "Processed 45.5% of log lines.\n",
      "Processed 45.5% of log lines.\n",
      "Processed 45.5% of log lines.\n",
      "Processed 45.5% of log lines.\n",
      "Processed 45.5% of log lines.\n",
      "Processed 45.6% of log lines.\n",
      "Processed 45.6% of log lines.\n",
      "Processed 45.6% of log lines.\n",
      "Processed 45.6% of log lines.\n",
      "Processed 45.6% of log lines.\n",
      "Processed 45.6% of log lines.\n",
      "Processed 45.6% of log lines.\n",
      "Processed 45.6% of log lines.\n",
      "Processed 45.6% of log lines.\n",
      "Processed 45.6% of log lines.\n",
      "Processed 45.6% of log lines.\n",
      "Processed 45.7% of log lines.\n",
      "Processed 45.7% of log lines.\n",
      "Processed 45.7% of log lines.\n",
      "Processed 45.7% of log lines.\n",
      "Processed 45.7% of log lines.\n",
      "Processed 45.7% of log lines.\n",
      "Processed 45.7% of log lines.\n",
      "Processed 45.7% of log lines.\n",
      "Processed 45.7% of log lines.\n",
      "Processed 45.7% of log lines.\n",
      "Processed 45.7% of log lines.\n",
      "Processed 45.8% of log lines.\n",
      "Processed 45.8% of log lines.\n",
      "Processed 45.8% of log lines.\n",
      "Processed 45.8% of log lines.\n",
      "Processed 45.8% of log lines.\n",
      "Processed 45.8% of log lines.\n",
      "Processed 45.8% of log lines.\n",
      "Processed 45.8% of log lines.\n",
      "Processed 45.8% of log lines.\n",
      "Processed 45.8% of log lines.\n",
      "Processed 45.8% of log lines.\n",
      "Processed 45.8% of log lines.\n",
      "Processed 45.9% of log lines.\n",
      "Processed 45.9% of log lines.\n",
      "Processed 45.9% of log lines.\n",
      "Processed 45.9% of log lines.\n",
      "Processed 45.9% of log lines.\n",
      "Processed 45.9% of log lines.\n",
      "Processed 45.9% of log lines.\n",
      "Processed 45.9% of log lines.\n",
      "Processed 45.9% of log lines.\n",
      "Processed 45.9% of log lines.\n",
      "Processed 45.9% of log lines.\n",
      "Processed 46.0% of log lines.\n",
      "Processed 46.0% of log lines.\n",
      "Processed 46.0% of log lines.\n",
      "Processed 46.0% of log lines.\n",
      "Processed 46.0% of log lines.\n",
      "Processed 46.0% of log lines.\n",
      "Processed 46.0% of log lines.\n",
      "Processed 46.0% of log lines.\n",
      "Processed 46.0% of log lines.\n",
      "Processed 46.0% of log lines.\n",
      "Processed 46.0% of log lines.\n",
      "Processed 46.1% of log lines.\n",
      "Processed 46.1% of log lines.\n",
      "Processed 46.1% of log lines.\n",
      "Processed 46.1% of log lines.\n",
      "Processed 46.1% of log lines.\n",
      "Processed 46.1% of log lines.\n",
      "Processed 46.1% of log lines.\n",
      "Processed 46.1% of log lines.\n",
      "Processed 46.1% of log lines.\n",
      "Processed 46.1% of log lines.\n",
      "Processed 46.1% of log lines.\n",
      "Processed 46.2% of log lines.\n",
      "Processed 46.2% of log lines.\n",
      "Processed 46.2% of log lines.\n",
      "Processed 46.2% of log lines.\n",
      "Processed 46.2% of log lines.\n",
      "Processed 46.2% of log lines.\n",
      "Processed 46.2% of log lines.\n",
      "Processed 46.2% of log lines.\n",
      "Processed 46.2% of log lines.\n",
      "Processed 46.2% of log lines.\n",
      "Processed 46.2% of log lines.\n",
      "Processed 46.3% of log lines.\n",
      "Processed 46.3% of log lines.\n",
      "Processed 46.3% of log lines.\n",
      "Processed 46.3% of log lines.\n",
      "Processed 46.3% of log lines.\n",
      "Processed 46.3% of log lines.\n",
      "Processed 46.3% of log lines.\n",
      "Processed 46.3% of log lines.\n",
      "Processed 46.3% of log lines.\n",
      "Processed 46.3% of log lines.\n",
      "Processed 46.3% of log lines.\n",
      "Processed 46.4% of log lines.\n",
      "Processed 46.4% of log lines.\n",
      "Processed 46.4% of log lines.\n",
      "Processed 46.4% of log lines.\n",
      "Processed 46.4% of log lines.\n",
      "Processed 46.4% of log lines.\n",
      "Processed 46.4% of log lines.\n",
      "Processed 46.4% of log lines.\n",
      "Processed 46.4% of log lines.\n",
      "Processed 46.4% of log lines.\n",
      "Processed 46.4% of log lines.\n",
      "Processed 46.4% of log lines.\n",
      "Processed 46.5% of log lines.\n",
      "Processed 46.5% of log lines.\n",
      "Processed 46.5% of log lines.\n",
      "Processed 46.5% of log lines.\n",
      "Processed 46.5% of log lines.\n",
      "Processed 46.5% of log lines.\n",
      "Processed 46.5% of log lines.\n",
      "Processed 46.5% of log lines.\n",
      "Processed 46.5% of log lines.\n",
      "Processed 46.5% of log lines.\n",
      "Processed 46.5% of log lines.\n",
      "Processed 46.6% of log lines.\n",
      "Processed 46.6% of log lines.\n",
      "Processed 46.6% of log lines.\n",
      "Processed 46.6% of log lines.\n",
      "Processed 46.6% of log lines.\n",
      "Processed 46.6% of log lines.\n",
      "Processed 46.6% of log lines.\n",
      "Processed 46.6% of log lines.\n",
      "Processed 46.6% of log lines.\n",
      "Processed 46.6% of log lines.\n",
      "Processed 46.6% of log lines.\n",
      "Processed 46.7% of log lines.\n",
      "Processed 46.7% of log lines.\n",
      "Processed 46.7% of log lines.\n",
      "Processed 46.7% of log lines.\n",
      "Processed 46.7% of log lines.\n",
      "Processed 46.7% of log lines.\n",
      "Processed 46.7% of log lines.\n",
      "Processed 46.7% of log lines.\n",
      "Processed 46.7% of log lines.\n",
      "Processed 46.7% of log lines.\n",
      "Processed 46.7% of log lines.\n",
      "Processed 46.8% of log lines.\n",
      "Processed 46.8% of log lines.\n",
      "Processed 46.8% of log lines.\n",
      "Processed 46.8% of log lines.\n",
      "Processed 46.8% of log lines.\n",
      "Processed 46.8% of log lines.\n",
      "Processed 46.8% of log lines.\n",
      "Processed 46.8% of log lines.\n",
      "Processed 46.8% of log lines.\n",
      "Processed 46.8% of log lines.\n",
      "Processed 46.8% of log lines.\n",
      "Processed 46.9% of log lines.\n",
      "Processed 46.9% of log lines.\n",
      "Processed 46.9% of log lines.\n",
      "Processed 46.9% of log lines.\n",
      "Processed 46.9% of log lines.\n",
      "Processed 46.9% of log lines.\n",
      "Processed 46.9% of log lines.\n",
      "Processed 46.9% of log lines.\n",
      "Processed 46.9% of log lines.\n",
      "Processed 46.9% of log lines.\n",
      "Processed 46.9% of log lines.\n",
      "Processed 47.0% of log lines.\n",
      "Processed 47.0% of log lines.\n",
      "Processed 47.0% of log lines.\n",
      "Processed 47.0% of log lines.\n",
      "Processed 47.0% of log lines.\n",
      "Processed 47.0% of log lines.\n",
      "Processed 47.0% of log lines.\n",
      "Processed 47.0% of log lines.\n",
      "Processed 47.0% of log lines.\n",
      "Processed 47.0% of log lines.\n",
      "Processed 47.0% of log lines.\n",
      "Processed 47.0% of log lines.\n",
      "Processed 47.1% of log lines.\n",
      "Processed 47.1% of log lines.\n",
      "Processed 47.1% of log lines.\n",
      "Processed 47.1% of log lines.\n",
      "Processed 47.1% of log lines.\n",
      "Processed 47.1% of log lines.\n",
      "Processed 47.1% of log lines.\n",
      "Processed 47.1% of log lines.\n",
      "Processed 47.1% of log lines.\n",
      "Processed 47.1% of log lines.\n",
      "Processed 47.1% of log lines.\n",
      "Processed 47.2% of log lines.\n",
      "Processed 47.2% of log lines.\n",
      "Processed 47.2% of log lines.\n",
      "Processed 47.2% of log lines.\n",
      "Processed 47.2% of log lines.\n",
      "Processed 47.2% of log lines.\n",
      "Processed 47.2% of log lines.\n",
      "Processed 47.2% of log lines.\n",
      "Processed 47.2% of log lines.\n",
      "Processed 47.2% of log lines.\n",
      "Processed 47.2% of log lines.\n",
      "Processed 47.3% of log lines.\n",
      "Processed 47.3% of log lines.\n",
      "Processed 47.3% of log lines.\n",
      "Processed 47.3% of log lines.\n",
      "Processed 47.3% of log lines.\n",
      "Processed 47.3% of log lines.\n",
      "Processed 47.3% of log lines.\n",
      "Processed 47.3% of log lines.\n",
      "Processed 47.3% of log lines.\n",
      "Processed 47.3% of log lines.\n",
      "Processed 47.3% of log lines.\n",
      "Processed 47.4% of log lines.\n",
      "Processed 47.4% of log lines.\n",
      "Processed 47.4% of log lines.\n",
      "Processed 47.4% of log lines.\n",
      "Processed 47.4% of log lines.\n",
      "Processed 47.4% of log lines.\n",
      "Processed 47.4% of log lines.\n",
      "Processed 47.4% of log lines.\n",
      "Processed 47.4% of log lines.\n",
      "Processed 47.4% of log lines.\n",
      "Processed 47.4% of log lines.\n",
      "Processed 47.5% of log lines.\n",
      "Processed 47.5% of log lines.\n",
      "Processed 47.5% of log lines.\n",
      "Processed 47.5% of log lines.\n",
      "Processed 47.5% of log lines.\n",
      "Processed 47.5% of log lines.\n",
      "Processed 47.5% of log lines.\n",
      "Processed 47.5% of log lines.\n",
      "Processed 47.5% of log lines.\n",
      "Processed 47.5% of log lines.\n",
      "Processed 47.5% of log lines.\n",
      "Processed 47.5% of log lines.\n",
      "Processed 47.6% of log lines.\n",
      "Processed 47.6% of log lines.\n",
      "Processed 47.6% of log lines.\n",
      "Processed 47.6% of log lines.\n",
      "Processed 47.6% of log lines.\n",
      "Processed 47.6% of log lines.\n",
      "Processed 47.6% of log lines.\n",
      "Processed 47.6% of log lines.\n",
      "Processed 47.6% of log lines.\n",
      "Processed 47.6% of log lines.\n",
      "Processed 47.6% of log lines.\n",
      "Processed 47.7% of log lines.\n",
      "Processed 47.7% of log lines.\n",
      "Processed 47.7% of log lines.\n",
      "Processed 47.7% of log lines.\n",
      "Processed 47.7% of log lines.\n",
      "Processed 47.7% of log lines.\n",
      "Processed 47.7% of log lines.\n",
      "Processed 47.7% of log lines.\n",
      "Processed 47.7% of log lines.\n",
      "Processed 47.7% of log lines.\n",
      "Processed 47.7% of log lines.\n",
      "Processed 47.8% of log lines.\n",
      "Processed 47.8% of log lines.\n",
      "Processed 47.8% of log lines.\n",
      "Processed 47.8% of log lines.\n",
      "Processed 47.8% of log lines.\n",
      "Processed 47.8% of log lines.\n",
      "Processed 47.8% of log lines.\n",
      "Processed 47.8% of log lines.\n",
      "Processed 47.8% of log lines.\n",
      "Processed 47.8% of log lines.\n",
      "Processed 47.8% of log lines.\n",
      "Processed 47.9% of log lines.\n"
     ]
    },
    {
     "ename": "KeyboardInterrupt",
     "evalue": "",
     "output_type": "error",
     "traceback": [
      "\u001b[0;31m---------------------------------------------------------------------------\u001b[0m",
      "\u001b[0;31mKeyboardInterrupt\u001b[0m                         Traceback (most recent call last)",
      "Cell \u001b[0;32mIn[7], line 4\u001b[0m\n\u001b[1;32m      2\u001b[0m output_dir\u001b[38;5;241m=\u001b[39m\u001b[38;5;124m'\u001b[39m\u001b[38;5;124m/Users/IsRealNPK/LMAO/dataset/HDFS_v1/result/\u001b[39m\u001b[38;5;124m'\u001b[39m\n\u001b[1;32m      3\u001b[0m log_file\u001b[38;5;241m=\u001b[39m\u001b[38;5;124m'\u001b[39m\u001b[38;5;124mHDFS.log\u001b[39m\u001b[38;5;124m'\u001b[39m\n\u001b[0;32m----> 4\u001b[0m \u001b[43mprep\u001b[49m\u001b[38;5;241;43m.\u001b[39;49m\u001b[43mlog_parsing\u001b[49m\u001b[43m(\u001b[49m\u001b[43minput_dir\u001b[49m\u001b[38;5;241;43m=\u001b[39;49m\u001b[43minput_dir\u001b[49m\u001b[43m,\u001b[49m\u001b[43m \u001b[49m\u001b[43moutput_dir\u001b[49m\u001b[38;5;241;43m=\u001b[39;49m\u001b[43moutput_dir\u001b[49m\u001b[43m,\u001b[49m\n\u001b[1;32m      5\u001b[0m \u001b[43m                 \u001b[49m\u001b[43mlog_file\u001b[49m\u001b[38;5;241;43m=\u001b[39;49m\u001b[43mlog_file\u001b[49m\u001b[43m)\u001b[49m\n",
      "File \u001b[0;32m~/LMAO/lmao/preprocessing/__init__.py:15\u001b[0m, in \u001b[0;36mLMAOPreprocessing.log_parsing\u001b[0;34m(self, input_dir, log_file, output_dir)\u001b[0m\n\u001b[1;32m     13\u001b[0m \u001b[38;5;28;01mdef\u001b[39;00m \u001b[38;5;21mlog_parsing\u001b[39m(\u001b[38;5;28mself\u001b[39m, input_dir, log_file, output_dir):\n\u001b[1;32m     14\u001b[0m     \u001b[38;5;28;01mif\u001b[39;00m \u001b[38;5;28mself\u001b[39m\u001b[38;5;241m.\u001b[39mdata_type \u001b[38;5;241m==\u001b[39m \u001b[38;5;124m'\u001b[39m\u001b[38;5;124mhdfs\u001b[39m\u001b[38;5;124m'\u001b[39m:\n\u001b[0;32m---> 15\u001b[0m         \u001b[38;5;28mself\u001b[39m\u001b[38;5;241m.\u001b[39mcsv_path \u001b[38;5;241m=\u001b[39m \u001b[43mhdfs\u001b[49m\u001b[38;5;241;43m.\u001b[39;49m\u001b[43mHDFS\u001b[49m\u001b[43m(\u001b[49m\u001b[43m)\u001b[49m\u001b[38;5;241;43m.\u001b[39;49m\u001b[43mget_csv\u001b[49m\u001b[43m(\u001b[49m\u001b[43minput_dir\u001b[49m\u001b[38;5;241;43m=\u001b[39;49m\u001b[43minput_dir\u001b[49m\u001b[43m,\u001b[49m\n\u001b[1;32m     16\u001b[0m \u001b[43m                                            \u001b[49m\u001b[43mlog_file\u001b[49m\u001b[38;5;241;43m=\u001b[39;49m\u001b[43mlog_file\u001b[49m\u001b[43m,\u001b[49m\n\u001b[1;32m     17\u001b[0m \u001b[43m                                            \u001b[49m\u001b[43moutput_dir\u001b[49m\u001b[38;5;241;43m=\u001b[39;49m\u001b[43moutput_dir\u001b[49m\u001b[43m)\u001b[49m\n\u001b[1;32m     18\u001b[0m     \u001b[38;5;28;01melse\u001b[39;00m :\n\u001b[1;32m     19\u001b[0m         \u001b[38;5;28mprint\u001b[39m(\u001b[38;5;124mf\u001b[39m\u001b[38;5;124m'\u001b[39m\u001b[38;5;124mThis version not having log_parsing for \u001b[39m\u001b[38;5;132;01m{\u001b[39;00m\u001b[38;5;28mself\u001b[39m\u001b[38;5;241m.\u001b[39mdata_type\u001b[38;5;132;01m}\u001b[39;00m\u001b[38;5;124m type yet.\u001b[39m\u001b[38;5;124m'\u001b[39m)\n",
      "File \u001b[0;32m~/LMAO/lmao/preprocessing/hdfs.py:22\u001b[0m, in \u001b[0;36mHDFS.get_csv\u001b[0;34m(self, input_dir, output_dir, log_file)\u001b[0m\n\u001b[1;32m     19\u001b[0m \u001b[38;5;28mprint\u001b[39m(\u001b[38;5;124m'\u001b[39m\u001b[38;5;124mStart Parsing\u001b[39m\u001b[38;5;124m'\u001b[39m)\n\u001b[1;32m     20\u001b[0m parser \u001b[38;5;241m=\u001b[39m LogParser(\u001b[38;5;28mself\u001b[39m\u001b[38;5;241m.\u001b[39mlog_format, indir\u001b[38;5;241m=\u001b[39minput_dir, outdir\u001b[38;5;241m=\u001b[39moutput_dir,\n\u001b[1;32m     21\u001b[0m                    depth\u001b[38;5;241m=\u001b[39m\u001b[38;5;28mself\u001b[39m\u001b[38;5;241m.\u001b[39mdepth, st\u001b[38;5;241m=\u001b[39m\u001b[38;5;28mself\u001b[39m\u001b[38;5;241m.\u001b[39mst, rex\u001b[38;5;241m=\u001b[39m\u001b[38;5;28mself\u001b[39m\u001b[38;5;241m.\u001b[39mregex)\n\u001b[0;32m---> 22\u001b[0m \u001b[43mparser\u001b[49m\u001b[38;5;241;43m.\u001b[39;49m\u001b[43mparse\u001b[49m\u001b[43m(\u001b[49m\u001b[43mlog_file\u001b[49m\u001b[43m)\u001b[49m\n\u001b[1;32m     23\u001b[0m \u001b[38;5;28mprint\u001b[39m(\u001b[38;5;124m'\u001b[39m\u001b[38;5;124mDone\u001b[39m\u001b[38;5;124m'\u001b[39m)\n\u001b[1;32m     24\u001b[0m output_file \u001b[38;5;241m=\u001b[39m output_dir\u001b[38;5;241m+\u001b[39mlog_file\u001b[38;5;241m+\u001b[39m\u001b[38;5;124m'\u001b[39m\u001b[38;5;124m_structured.csv\u001b[39m\u001b[38;5;124m'\u001b[39m\n",
      "File \u001b[0;32m/Library/Frameworks/Python.framework/Versions/3.11/lib/python3.11/site-packages/logparser/Drain/Drain.py:285\u001b[0m, in \u001b[0;36mLogParser.parse\u001b[0;34m(self, logName)\u001b[0m\n\u001b[1;32m    283\u001b[0m \u001b[38;5;28;01mfor\u001b[39;00m idx, line \u001b[38;5;129;01min\u001b[39;00m \u001b[38;5;28mself\u001b[39m\u001b[38;5;241m.\u001b[39mdf_log\u001b[38;5;241m.\u001b[39miterrows():\n\u001b[1;32m    284\u001b[0m     logID \u001b[38;5;241m=\u001b[39m line[\u001b[38;5;124m\"\u001b[39m\u001b[38;5;124mLineId\u001b[39m\u001b[38;5;124m\"\u001b[39m]\n\u001b[0;32m--> 285\u001b[0m     logmessageL \u001b[38;5;241m=\u001b[39m \u001b[38;5;28;43mself\u001b[39;49m\u001b[38;5;241;43m.\u001b[39;49m\u001b[43mpreprocess\u001b[49m\u001b[43m(\u001b[49m\u001b[43mline\u001b[49m\u001b[43m[\u001b[49m\u001b[38;5;124;43m\"\u001b[39;49m\u001b[38;5;124;43mContent\u001b[39;49m\u001b[38;5;124;43m\"\u001b[39;49m\u001b[43m]\u001b[49m\u001b[43m)\u001b[49m\u001b[38;5;241m.\u001b[39mstrip()\u001b[38;5;241m.\u001b[39msplit()\n\u001b[1;32m    286\u001b[0m     matchCluster \u001b[38;5;241m=\u001b[39m \u001b[38;5;28mself\u001b[39m\u001b[38;5;241m.\u001b[39mtreeSearch(rootNode, logmessageL)\n\u001b[1;32m    288\u001b[0m     \u001b[38;5;66;03m# Match no existing log cluster\u001b[39;00m\n",
      "File \u001b[0;32m/Library/Frameworks/Python.framework/Versions/3.11/lib/python3.11/site-packages/logparser/Drain/Drain.py:324\u001b[0m, in \u001b[0;36mLogParser.preprocess\u001b[0;34m(self, line)\u001b[0m\n\u001b[1;32m    322\u001b[0m \u001b[38;5;28;01mdef\u001b[39;00m \u001b[38;5;21mpreprocess\u001b[39m(\u001b[38;5;28mself\u001b[39m, line):\n\u001b[1;32m    323\u001b[0m     \u001b[38;5;28;01mfor\u001b[39;00m currentRex \u001b[38;5;129;01min\u001b[39;00m \u001b[38;5;28mself\u001b[39m\u001b[38;5;241m.\u001b[39mrex:\n\u001b[0;32m--> 324\u001b[0m         line \u001b[38;5;241m=\u001b[39m \u001b[43mre\u001b[49m\u001b[38;5;241;43m.\u001b[39;49m\u001b[43msub\u001b[49m\u001b[43m(\u001b[49m\u001b[43mcurrentRex\u001b[49m\u001b[43m,\u001b[49m\u001b[43m \u001b[49m\u001b[38;5;124;43m\"\u001b[39;49m\u001b[38;5;124;43m<*>\u001b[39;49m\u001b[38;5;124;43m\"\u001b[39;49m\u001b[43m,\u001b[49m\u001b[43m \u001b[49m\u001b[43mline\u001b[49m\u001b[43m)\u001b[49m\n\u001b[1;32m    325\u001b[0m     \u001b[38;5;28;01mreturn\u001b[39;00m line\n",
      "File \u001b[0;32m/Library/Frameworks/Python.framework/Versions/3.11/lib/python3.11/site-packages/regex/regex.py:278\u001b[0m, in \u001b[0;36msub\u001b[0;34m(pattern, repl, string, count, flags, pos, endpos, concurrent, timeout, ignore_unused, **kwargs)\u001b[0m\n\u001b[1;32m    272\u001b[0m \u001b[38;5;250m\u001b[39m\u001b[38;5;124;03m\"\"\"Return the string obtained by replacing the leftmost (or rightmost with a\u001b[39;00m\n\u001b[1;32m    273\u001b[0m \u001b[38;5;124;03mreverse pattern) non-overlapping occurrences of the pattern in string by the\u001b[39;00m\n\u001b[1;32m    274\u001b[0m \u001b[38;5;124;03mreplacement repl. repl can be either a string or a callable; if a string,\u001b[39;00m\n\u001b[1;32m    275\u001b[0m \u001b[38;5;124;03mbackslash escapes in it are processed; if a callable, it's passed the match\u001b[39;00m\n\u001b[1;32m    276\u001b[0m \u001b[38;5;124;03mobject and must return a replacement string to be used.\"\"\"\u001b[39;00m\n\u001b[1;32m    277\u001b[0m pat \u001b[38;5;241m=\u001b[39m _compile(pattern, flags, ignore_unused, kwargs, \u001b[38;5;28;01mTrue\u001b[39;00m)\n\u001b[0;32m--> 278\u001b[0m \u001b[38;5;28;01mreturn\u001b[39;00m \u001b[43mpat\u001b[49m\u001b[38;5;241;43m.\u001b[39;49m\u001b[43msub\u001b[49m\u001b[43m(\u001b[49m\u001b[43mrepl\u001b[49m\u001b[43m,\u001b[49m\u001b[43m \u001b[49m\u001b[43mstring\u001b[49m\u001b[43m,\u001b[49m\u001b[43m \u001b[49m\u001b[43mcount\u001b[49m\u001b[43m,\u001b[49m\u001b[43m \u001b[49m\u001b[43mpos\u001b[49m\u001b[43m,\u001b[49m\u001b[43m \u001b[49m\u001b[43mendpos\u001b[49m\u001b[43m,\u001b[49m\u001b[43m \u001b[49m\u001b[43mconcurrent\u001b[49m\u001b[43m,\u001b[49m\u001b[43m \u001b[49m\u001b[43mtimeout\u001b[49m\u001b[43m)\u001b[49m\n",
      "\u001b[0;31mKeyboardInterrupt\u001b[0m: "
     ]
    }
   ],
   "source": [
    "input_dir='/Users/IsRealNPK/LMAO/dataset/HDFS_v1'\n",
    "output_dir='/Users/IsRealNPK/LMAO/dataset/HDFS_v1/result/'\n",
    "log_file='HDFS.log'\n",
    "prep.log_parsing(input_dir=input_dir, output_dir=output_dir,\n",
    "                 log_file=log_file)"
   ]
  },
  {
   "cell_type": "code",
   "execution_count": null,
   "metadata": {},
   "outputs": [
    {
     "data": {
      "text/plain": [
       "'/Users/IsRealNPK/LMAO/dataset/HDFS_v1/result/HDFS.log_structured.csv'"
      ]
     },
     "metadata": {},
     "output_type": "display_data"
    }
   ],
   "source": [
    "prep.from_parsed_csv('/Users/IsRealNPK/LMAO/dataset/HDFS_v1/result/HDFS.log_structured.csv')"
   ]
  },
  {
   "cell_type": "code",
   "execution_count": null,
   "metadata": {},
   "outputs": [
    {
     "name": "stdout",
     "output_type": "stream",
     "text": [
      "Preprocessing to LMAO format with label from hdfs\n",
      "Path :/Users/IsRealNPK/LMAO/dataset/HDFS_v1/preprocessed/anomaly_label.csv\n",
      "literal_eval process...\n"
     ]
    },
    {
     "data": {
      "application/vnd.jupyter.widget-view+json": {
       "model_id": "633394be2d8c459fa18dedf40d6a23f9",
       "version_major": 2,
       "version_minor": 0
      },
      "text/plain": [
       "  0%|          | 0/11175629 [00:00<?, ?it/s]"
      ]
     },
     "metadata": {},
     "output_type": "display_data"
    },
    {
     "name": "stdout",
     "output_type": "stream",
     "text": [
      "Getting BlockId process...\n"
     ]
    },
    {
     "data": {
      "application/vnd.jupyter.widget-view+json": {
       "model_id": "2dcd350c5a9341c39db5bc84fbc0595f",
       "version_major": 2,
       "version_minor": 0
      },
      "text/plain": [
       "  0%|          | 0/11175629 [00:00<?, ?it/s]"
      ]
     },
     "metadata": {},
     "output_type": "display_data"
    },
    {
     "name": "stdout",
     "output_type": "stream",
     "text": [
      "Join the dataframe with labels\n",
      "Returning dataframe\n",
      "Done\n"
     ]
    }
   ],
   "source": [
    "prep.prep_data(label_path='/Users/IsRealNPK/LMAO/dataset/HDFS_v1/preprocessed/anomaly_label.csv')"
   ]
  },
  {
   "cell_type": "code",
   "execution_count": null,
   "metadata": {},
   "outputs": [
    {
     "data": {
      "text/html": [
       "<div>\n",
       "<style scoped>\n",
       "    .dataframe tbody tr th:only-of-type {\n",
       "        vertical-align: middle;\n",
       "    }\n",
       "\n",
       "    .dataframe tbody tr th {\n",
       "        vertical-align: top;\n",
       "    }\n",
       "\n",
       "    .dataframe thead th {\n",
       "        text-align: right;\n",
       "    }\n",
       "</style>\n",
       "<table border=\"1\" class=\"dataframe\">\n",
       "  <thead>\n",
       "    <tr style=\"text-align: right;\">\n",
       "      <th></th>\n",
       "      <th>session_id</th>\n",
       "      <th>severity</th>\n",
       "      <th>content</th>\n",
       "      <th>event_id</th>\n",
       "      <th>event_template</th>\n",
       "      <th>label</th>\n",
       "    </tr>\n",
       "  </thead>\n",
       "  <tbody>\n",
       "    <tr>\n",
       "      <th>0</th>\n",
       "      <td>blk_-1608999687919862906</td>\n",
       "      <td>INFO</td>\n",
       "      <td>Receiving block blk_-1608999687919862906 src: ...</td>\n",
       "      <td>09a53393</td>\n",
       "      <td>Receiving block &lt;*&gt; src: &lt;*&gt; dest: &lt;*&gt;</td>\n",
       "      <td>Normal</td>\n",
       "    </tr>\n",
       "    <tr>\n",
       "      <th>2</th>\n",
       "      <td>blk_-1608999687919862906</td>\n",
       "      <td>INFO</td>\n",
       "      <td>Receiving block blk_-1608999687919862906 src: ...</td>\n",
       "      <td>09a53393</td>\n",
       "      <td>Receiving block &lt;*&gt; src: &lt;*&gt; dest: &lt;*&gt;</td>\n",
       "      <td>Normal</td>\n",
       "    </tr>\n",
       "    <tr>\n",
       "      <th>3</th>\n",
       "      <td>blk_-1608999687919862906</td>\n",
       "      <td>INFO</td>\n",
       "      <td>Receiving block blk_-1608999687919862906 src: ...</td>\n",
       "      <td>09a53393</td>\n",
       "      <td>Receiving block &lt;*&gt; src: &lt;*&gt; dest: &lt;*&gt;</td>\n",
       "      <td>Normal</td>\n",
       "    </tr>\n",
       "    <tr>\n",
       "      <th>4</th>\n",
       "      <td>blk_-1608999687919862906</td>\n",
       "      <td>INFO</td>\n",
       "      <td>PacketResponder 1 for block blk_-1608999687919...</td>\n",
       "      <td>d38aa58d</td>\n",
       "      <td>PacketResponder &lt;*&gt; for block &lt;*&gt; &lt;*&gt;</td>\n",
       "      <td>Normal</td>\n",
       "    </tr>\n",
       "    <tr>\n",
       "      <th>5</th>\n",
       "      <td>blk_-1608999687919862906</td>\n",
       "      <td>INFO</td>\n",
       "      <td>PacketResponder 2 for block blk_-1608999687919...</td>\n",
       "      <td>d38aa58d</td>\n",
       "      <td>PacketResponder &lt;*&gt; for block &lt;*&gt; &lt;*&gt;</td>\n",
       "      <td>Normal</td>\n",
       "    </tr>\n",
       "    <tr>\n",
       "      <th>...</th>\n",
       "      <td>...</td>\n",
       "      <td>...</td>\n",
       "      <td>...</td>\n",
       "      <td>...</td>\n",
       "      <td>...</td>\n",
       "      <td>...</td>\n",
       "    </tr>\n",
       "    <tr>\n",
       "      <th>11175624</th>\n",
       "      <td>blk_-6171368032583208892</td>\n",
       "      <td>INFO</td>\n",
       "      <td>Verification succeeded for blk_-61713680325832...</td>\n",
       "      <td>32777b38</td>\n",
       "      <td>Verification succeeded for &lt;*&gt;</td>\n",
       "      <td>Normal</td>\n",
       "    </tr>\n",
       "    <tr>\n",
       "      <th>11175625</th>\n",
       "      <td>blk_6195025276114316035</td>\n",
       "      <td>INFO</td>\n",
       "      <td>Verification succeeded for blk_619502527611431...</td>\n",
       "      <td>32777b38</td>\n",
       "      <td>Verification succeeded for &lt;*&gt;</td>\n",
       "      <td>Normal</td>\n",
       "    </tr>\n",
       "    <tr>\n",
       "      <th>11175626</th>\n",
       "      <td>blk_-3339773404714332088</td>\n",
       "      <td>INFO</td>\n",
       "      <td>Verification succeeded for blk_-33397734047143...</td>\n",
       "      <td>32777b38</td>\n",
       "      <td>Verification succeeded for &lt;*&gt;</td>\n",
       "      <td>Normal</td>\n",
       "    </tr>\n",
       "    <tr>\n",
       "      <th>11175627</th>\n",
       "      <td>blk_1037231945509285002</td>\n",
       "      <td>INFO</td>\n",
       "      <td>Verification succeeded for blk_103723194550928...</td>\n",
       "      <td>32777b38</td>\n",
       "      <td>Verification succeeded for &lt;*&gt;</td>\n",
       "      <td>Normal</td>\n",
       "    </tr>\n",
       "    <tr>\n",
       "      <th>11175628</th>\n",
       "      <td>blk_4258862871822415442</td>\n",
       "      <td>INFO</td>\n",
       "      <td>Verification succeeded for blk_425886287182241...</td>\n",
       "      <td>32777b38</td>\n",
       "      <td>Verification succeeded for &lt;*&gt;</td>\n",
       "      <td>Normal</td>\n",
       "    </tr>\n",
       "  </tbody>\n",
       "</table>\n",
       "<p>10600568 rows × 6 columns</p>\n",
       "</div>"
      ],
      "text/plain": [
       "                        session_id severity  \\\n",
       "0         blk_-1608999687919862906     INFO   \n",
       "2         blk_-1608999687919862906     INFO   \n",
       "3         blk_-1608999687919862906     INFO   \n",
       "4         blk_-1608999687919862906     INFO   \n",
       "5         blk_-1608999687919862906     INFO   \n",
       "...                            ...      ...   \n",
       "11175624  blk_-6171368032583208892     INFO   \n",
       "11175625   blk_6195025276114316035     INFO   \n",
       "11175626  blk_-3339773404714332088     INFO   \n",
       "11175627   blk_1037231945509285002     INFO   \n",
       "11175628   blk_4258862871822415442     INFO   \n",
       "\n",
       "                                                    content  event_id  \\\n",
       "0         Receiving block blk_-1608999687919862906 src: ...  09a53393   \n",
       "2         Receiving block blk_-1608999687919862906 src: ...  09a53393   \n",
       "3         Receiving block blk_-1608999687919862906 src: ...  09a53393   \n",
       "4         PacketResponder 1 for block blk_-1608999687919...  d38aa58d   \n",
       "5         PacketResponder 2 for block blk_-1608999687919...  d38aa58d   \n",
       "...                                                     ...       ...   \n",
       "11175624  Verification succeeded for blk_-61713680325832...  32777b38   \n",
       "11175625  Verification succeeded for blk_619502527611431...  32777b38   \n",
       "11175626  Verification succeeded for blk_-33397734047143...  32777b38   \n",
       "11175627  Verification succeeded for blk_103723194550928...  32777b38   \n",
       "11175628  Verification succeeded for blk_425886287182241...  32777b38   \n",
       "\n",
       "                                  event_template   label  \n",
       "0         Receiving block <*> src: <*> dest: <*>  Normal  \n",
       "2         Receiving block <*> src: <*> dest: <*>  Normal  \n",
       "3         Receiving block <*> src: <*> dest: <*>  Normal  \n",
       "4          PacketResponder <*> for block <*> <*>  Normal  \n",
       "5          PacketResponder <*> for block <*> <*>  Normal  \n",
       "...                                          ...     ...  \n",
       "11175624          Verification succeeded for <*>  Normal  \n",
       "11175625          Verification succeeded for <*>  Normal  \n",
       "11175626          Verification succeeded for <*>  Normal  \n",
       "11175627          Verification succeeded for <*>  Normal  \n",
       "11175628          Verification succeeded for <*>  Normal  \n",
       "\n",
       "[10600568 rows x 6 columns]"
      ]
     },
     "metadata": {},
     "output_type": "display_data"
    }
   ],
   "source": [
    "prep.df"
   ]
  },
  {
   "cell_type": "code",
   "execution_count": null,
   "metadata": {},
   "outputs": [
    {
     "name": "stdout",
     "output_type": "stream",
     "text": [
      "Saving to .parquet.gzip file\n"
     ]
    }
   ],
   "source": [
    "prep.to_parquet('/Users/IsRealNPK/LMAO/dataset/HDFS_v1/HDFS_with_label')"
   ]
  },
  {
   "cell_type": "markdown",
   "metadata": {},
   "source": [
    "# HDFS Bertopic"
   ]
  },
  {
   "cell_type": "code",
   "execution_count": 2,
   "metadata": {},
   "outputs": [
    {
     "name": "stdout",
     "output_type": "stream",
     "text": [
      "Topic model mode set to :BERTopic.\n",
      "Start Initialized\n"
     ]
    }
   ],
   "source": [
    "from lmao.topicmodel import LMAOTopic\n",
    "topic_model = LMAOTopic()"
   ]
  },
  {
   "cell_type": "code",
   "execution_count": 3,
   "metadata": {},
   "outputs": [
    {
     "name": "stdout",
     "output_type": "stream",
     "text": [
      "Done\n"
     ]
    }
   ],
   "source": [
    "topic_model.from_trained_model(model_path='lmao/topicmodel/model/BERTopic-HDFS-all-MiniLM-L6-v2')"
   ]
  },
  {
   "cell_type": "code",
   "execution_count": 4,
   "metadata": {},
   "outputs": [],
   "source": [
    "topic_dict = topic_model.topic_dict"
   ]
  },
  {
   "cell_type": "code",
   "execution_count": 7,
   "metadata": {},
   "outputs": [],
   "source": [
    "df = pd.read_parquet('dataset/HDFS_v1/HDFS_with_label.parquet.gzip')"
   ]
  },
  {
   "cell_type": "code",
   "execution_count": 8,
   "metadata": {},
   "outputs": [
    {
     "data": {
      "text/html": [
       "<div>\n",
       "<style scoped>\n",
       "    .dataframe tbody tr th:only-of-type {\n",
       "        vertical-align: middle;\n",
       "    }\n",
       "\n",
       "    .dataframe tbody tr th {\n",
       "        vertical-align: top;\n",
       "    }\n",
       "\n",
       "    .dataframe thead th {\n",
       "        text-align: right;\n",
       "    }\n",
       "</style>\n",
       "<table border=\"1\" class=\"dataframe\">\n",
       "  <thead>\n",
       "    <tr style=\"text-align: right;\">\n",
       "      <th></th>\n",
       "      <th>session_id</th>\n",
       "      <th>severity</th>\n",
       "      <th>content</th>\n",
       "      <th>event_id</th>\n",
       "      <th>event_template</th>\n",
       "      <th>label</th>\n",
       "      <th>topic</th>\n",
       "    </tr>\n",
       "    <tr>\n",
       "      <th>index</th>\n",
       "      <th></th>\n",
       "      <th></th>\n",
       "      <th></th>\n",
       "      <th></th>\n",
       "      <th></th>\n",
       "      <th></th>\n",
       "      <th></th>\n",
       "    </tr>\n",
       "  </thead>\n",
       "  <tbody>\n",
       "    <tr>\n",
       "      <th>0</th>\n",
       "      <td>blk_-1608999687919862906</td>\n",
       "      <td>INFO</td>\n",
       "      <td>Receiving block blk_-1608999687919862906 src: ...</td>\n",
       "      <td>09a53393</td>\n",
       "      <td>Receiving block &lt;*&gt; src: &lt;*&gt; dest: &lt;*&gt;</td>\n",
       "      <td>Normal</td>\n",
       "      <td>8</td>\n",
       "    </tr>\n",
       "    <tr>\n",
       "      <th>2</th>\n",
       "      <td>blk_-1608999687919862906</td>\n",
       "      <td>INFO</td>\n",
       "      <td>Receiving block blk_-1608999687919862906 src: ...</td>\n",
       "      <td>09a53393</td>\n",
       "      <td>Receiving block &lt;*&gt; src: &lt;*&gt; dest: &lt;*&gt;</td>\n",
       "      <td>Normal</td>\n",
       "      <td>-1</td>\n",
       "    </tr>\n",
       "    <tr>\n",
       "      <th>3</th>\n",
       "      <td>blk_-1608999687919862906</td>\n",
       "      <td>INFO</td>\n",
       "      <td>Receiving block blk_-1608999687919862906 src: ...</td>\n",
       "      <td>09a53393</td>\n",
       "      <td>Receiving block &lt;*&gt; src: &lt;*&gt; dest: &lt;*&gt;</td>\n",
       "      <td>Normal</td>\n",
       "      <td>8</td>\n",
       "    </tr>\n",
       "    <tr>\n",
       "      <th>4</th>\n",
       "      <td>blk_-1608999687919862906</td>\n",
       "      <td>INFO</td>\n",
       "      <td>PacketResponder 1 for block blk_-1608999687919...</td>\n",
       "      <td>d38aa58d</td>\n",
       "      <td>PacketResponder &lt;*&gt; for block &lt;*&gt; &lt;*&gt;</td>\n",
       "      <td>Normal</td>\n",
       "      <td>4</td>\n",
       "    </tr>\n",
       "    <tr>\n",
       "      <th>5</th>\n",
       "      <td>blk_-1608999687919862906</td>\n",
       "      <td>INFO</td>\n",
       "      <td>PacketResponder 2 for block blk_-1608999687919...</td>\n",
       "      <td>d38aa58d</td>\n",
       "      <td>PacketResponder &lt;*&gt; for block &lt;*&gt; &lt;*&gt;</td>\n",
       "      <td>Normal</td>\n",
       "      <td>3</td>\n",
       "    </tr>\n",
       "    <tr>\n",
       "      <th>...</th>\n",
       "      <td>...</td>\n",
       "      <td>...</td>\n",
       "      <td>...</td>\n",
       "      <td>...</td>\n",
       "      <td>...</td>\n",
       "      <td>...</td>\n",
       "      <td>...</td>\n",
       "    </tr>\n",
       "    <tr>\n",
       "      <th>11175624</th>\n",
       "      <td>blk_-6171368032583208892</td>\n",
       "      <td>INFO</td>\n",
       "      <td>Verification succeeded for blk_-61713680325832...</td>\n",
       "      <td>32777b38</td>\n",
       "      <td>Verification succeeded for &lt;*&gt;</td>\n",
       "      <td>Normal</td>\n",
       "      <td>11</td>\n",
       "    </tr>\n",
       "    <tr>\n",
       "      <th>11175625</th>\n",
       "      <td>blk_6195025276114316035</td>\n",
       "      <td>INFO</td>\n",
       "      <td>Verification succeeded for blk_619502527611431...</td>\n",
       "      <td>32777b38</td>\n",
       "      <td>Verification succeeded for &lt;*&gt;</td>\n",
       "      <td>Normal</td>\n",
       "      <td>11</td>\n",
       "    </tr>\n",
       "    <tr>\n",
       "      <th>11175626</th>\n",
       "      <td>blk_-3339773404714332088</td>\n",
       "      <td>INFO</td>\n",
       "      <td>Verification succeeded for blk_-33397734047143...</td>\n",
       "      <td>32777b38</td>\n",
       "      <td>Verification succeeded for &lt;*&gt;</td>\n",
       "      <td>Normal</td>\n",
       "      <td>11</td>\n",
       "    </tr>\n",
       "    <tr>\n",
       "      <th>11175627</th>\n",
       "      <td>blk_1037231945509285002</td>\n",
       "      <td>INFO</td>\n",
       "      <td>Verification succeeded for blk_103723194550928...</td>\n",
       "      <td>32777b38</td>\n",
       "      <td>Verification succeeded for &lt;*&gt;</td>\n",
       "      <td>Normal</td>\n",
       "      <td>11</td>\n",
       "    </tr>\n",
       "    <tr>\n",
       "      <th>11175628</th>\n",
       "      <td>blk_4258862871822415442</td>\n",
       "      <td>INFO</td>\n",
       "      <td>Verification succeeded for blk_425886287182241...</td>\n",
       "      <td>32777b38</td>\n",
       "      <td>Verification succeeded for &lt;*&gt;</td>\n",
       "      <td>Normal</td>\n",
       "      <td>11</td>\n",
       "    </tr>\n",
       "  </tbody>\n",
       "</table>\n",
       "<p>10600568 rows × 7 columns</p>\n",
       "</div>"
      ],
      "text/plain": [
       "                        session_id severity  \\\n",
       "index                                         \n",
       "0         blk_-1608999687919862906     INFO   \n",
       "2         blk_-1608999687919862906     INFO   \n",
       "3         blk_-1608999687919862906     INFO   \n",
       "4         blk_-1608999687919862906     INFO   \n",
       "5         blk_-1608999687919862906     INFO   \n",
       "...                            ...      ...   \n",
       "11175624  blk_-6171368032583208892     INFO   \n",
       "11175625   blk_6195025276114316035     INFO   \n",
       "11175626  blk_-3339773404714332088     INFO   \n",
       "11175627   blk_1037231945509285002     INFO   \n",
       "11175628   blk_4258862871822415442     INFO   \n",
       "\n",
       "                                                    content  event_id  \\\n",
       "index                                                                   \n",
       "0         Receiving block blk_-1608999687919862906 src: ...  09a53393   \n",
       "2         Receiving block blk_-1608999687919862906 src: ...  09a53393   \n",
       "3         Receiving block blk_-1608999687919862906 src: ...  09a53393   \n",
       "4         PacketResponder 1 for block blk_-1608999687919...  d38aa58d   \n",
       "5         PacketResponder 2 for block blk_-1608999687919...  d38aa58d   \n",
       "...                                                     ...       ...   \n",
       "11175624  Verification succeeded for blk_-61713680325832...  32777b38   \n",
       "11175625  Verification succeeded for blk_619502527611431...  32777b38   \n",
       "11175626  Verification succeeded for blk_-33397734047143...  32777b38   \n",
       "11175627  Verification succeeded for blk_103723194550928...  32777b38   \n",
       "11175628  Verification succeeded for blk_425886287182241...  32777b38   \n",
       "\n",
       "                                  event_template   label  topic  \n",
       "index                                                            \n",
       "0         Receiving block <*> src: <*> dest: <*>  Normal      8  \n",
       "2         Receiving block <*> src: <*> dest: <*>  Normal     -1  \n",
       "3         Receiving block <*> src: <*> dest: <*>  Normal      8  \n",
       "4          PacketResponder <*> for block <*> <*>  Normal      4  \n",
       "5          PacketResponder <*> for block <*> <*>  Normal      3  \n",
       "...                                          ...     ...    ...  \n",
       "11175624          Verification succeeded for <*>  Normal     11  \n",
       "11175625          Verification succeeded for <*>  Normal     11  \n",
       "11175626          Verification succeeded for <*>  Normal     11  \n",
       "11175627          Verification succeeded for <*>  Normal     11  \n",
       "11175628          Verification succeeded for <*>  Normal     11  \n",
       "\n",
       "[10600568 rows x 7 columns]"
      ]
     },
     "execution_count": 8,
     "metadata": {},
     "output_type": "execute_result"
    }
   ],
   "source": [
    "topic_model.get_topic(df=df)"
   ]
  },
  {
   "cell_type": "code",
   "execution_count": 8,
   "metadata": {},
   "outputs": [
    {
     "data": {
      "application/vnd.plotly.v1+json": {
       "config": {
        "plotlyServerURL": "https://plot.ly"
       },
       "data": [
        {
         "hoverinfo": "text",
         "hovertext": [
          "<b>Topic 0</b><br>Words: 67108864 block, blockmap, updated 10, updated, addstoredblock blockmap",
          "<b>Topic 0</b><br>Words: blockmap, 50010 is, updated 10, updated, blockmap updated"
         ],
         "marker": {
          "color": "#E69F00"
         },
         "name": "0_67108864 block_50010 is_updated 10_upd...",
         "orientation": "h",
         "type": "bar",
         "visible": true,
         "x": [
          949820,
          23428
         ],
         "y": [
          "Normal",
          "Anomaly"
         ]
        },
        {
         "hoverinfo": "text",
         "hovertext": [
          "<b>Topic 1</b><br>Words: from 10, from, received block, of size, 67108864 from",
          "<b>Topic 1</b><br>Words: from 10, from, received block, of size, received"
         ],
         "marker": {
          "color": "#56B4E9"
         },
         "name": "1_from 10_from_of size_received block",
         "orientation": "h",
         "type": "bar",
         "visible": "legendonly",
         "x": [
          661349,
          13273
         ],
         "y": [
          "Normal",
          "Anomaly"
         ]
        },
        {
         "hoverinfo": "text",
         "hovertext": [
          "<b>Topic 2</b><br>Words: 50010 receiving, receiving block, receiving, dest, dest 10",
          "<b>Topic 2</b><br>Words: 50010 receiving, receiving block, receiving, dest 10, dest"
         ],
         "marker": {
          "color": "#009E73"
         },
         "name": "2_50010 receiving_receiving block_receiv...",
         "orientation": "h",
         "type": "bar",
         "visible": "legendonly",
         "x": [
          447125,
          8761
         ],
         "y": [
          "Normal",
          "Anomaly"
         ]
        },
        {
         "hoverinfo": "text",
         "hovertext": [
          "<b>Topic 3</b><br>Words: terminating packetresponder, terminating, packetresponder for, packetresponder, for block",
          "<b>Topic 3</b><br>Words: terminating packetresponder, terminating, packetresponder for, packetresponder, for block"
         ],
         "marker": {
          "color": "#F0E442"
         },
         "name": "3_terminating packetresponder_terminatin...",
         "orientation": "h",
         "type": "bar",
         "visible": "legendonly",
         "x": [
          477542,
          9219
         ],
         "y": [
          "Normal",
          "Anomaly"
         ]
        },
        {
         "hoverinfo": "text",
         "hovertext": [
          "<b>Topic 4</b><br>Words: terminating packetresponder, terminating, packetresponder for, packetresponder, for block",
          "<b>Topic 4</b><br>Words: terminating packetresponder, packetresponder, terminating, packetresponder for, for block"
         ],
         "marker": {
          "color": "#D55E00"
         },
         "name": "4_terminating packetresponder_terminatin...",
         "orientation": "h",
         "type": "bar",
         "visible": "legendonly",
         "x": [
          484951,
          9302
         ],
         "y": [
          "Normal",
          "Anomaly"
         ]
        },
        {
         "hoverinfo": "text",
         "hovertext": [
          "<b>Topic 5</b><br>Words: terminating packetresponder, terminating, packetresponder for, packetresponder, for block",
          "<b>Topic 5</b><br>Words: terminating packetresponder, packetresponder for, packetresponder, for block, terminating"
         ],
         "marker": {
          "color": "#0072B2"
         },
         "name": "5_terminating packetresponder_packetresp...",
         "orientation": "h",
         "type": "bar",
         "visible": "legendonly",
         "x": [
          460739,
          8820
         ],
         "y": [
          "Normal",
          "Anomaly"
         ]
        },
        {
         "hoverinfo": "text",
         "hovertext": [
          "<b>Topic 6</b><br>Words: 50010 receiving, receiving block, receiving, dest 10, src",
          "<b>Topic 6</b><br>Words: 50010 receiving, receiving block, receiving, src 10, src"
         ],
         "marker": {
          "color": "#CC79A7"
         },
         "name": "6_50010 receiving_receiving block_receiv...",
         "orientation": "h",
         "type": "bar",
         "visible": "legendonly",
         "x": [
          471638,
          16947
         ],
         "y": [
          "Normal",
          "Anomaly"
         ]
        },
        {
         "hoverinfo": "text",
         "hovertext": [
          "<b>Topic 7</b><br>Words: 67108864 block, updated 10, blockmap updated, blockmap, addstoredblock blockmap",
          "<b>Topic 7</b><br>Words: updated 10, 50010 is, updated, blockmap updated, blockmap"
         ],
         "marker": {
          "color": "#E69F00"
         },
         "name": "7_67108864 block_updated 10_50010 is_blo...",
         "orientation": "h",
         "type": "bar",
         "visible": "legendonly",
         "x": [
          218708,
          3999
         ],
         "y": [
          "Normal",
          "Anomaly"
         ]
        },
        {
         "hoverinfo": "text",
         "hovertext": [
          "<b>Topic 101</b><br>Words: dfs data, data, file mnt, current, deleting block",
          "<b>Topic 101</b><br>Words: dfs data, hadoop, hadoop dfs, deleting, dfs"
         ],
         "marker": {
          "color": "#56B4E9"
         },
         "name": "101_file mnt_deleting block_mnt hadoop_m...",
         "orientation": "h",
         "type": "bar",
         "visible": "legendonly",
         "x": [
          972459,
          25828
         ],
         "y": [
          "Normal",
          "Anomaly"
         ]
        },
        {
         "hoverinfo": "text",
         "hovertext": [
          "<b>Topic 231</b><br>Words: invalidset of, to invalidset, namesystem delete, of 10, invalidset",
          "<b>Topic 231</b><br>Words: of 10, to invalidset, invalidset, invalidset of, namesystem delete"
         ],
         "marker": {
          "color": "#009E73"
         },
         "name": "231_namesystem delete_of 10_invalidset o...",
         "orientation": "h",
         "type": "bar",
         "visible": "legendonly",
         "x": [
          720712,
          16463
         ],
         "y": [
          "Normal",
          "Anomaly"
         ]
        }
       ],
       "layout": {
        "height": 900,
        "hoverlabel": {
         "bgcolor": "white",
         "font": {
          "family": "Rockwell",
          "size": 16
         }
        },
        "legend": {
         "title": {
          "text": "<b>Global Topic Representation"
         }
        },
        "template": {
         "data": {
          "bar": [
           {
            "error_x": {
             "color": "rgb(36,36,36)"
            },
            "error_y": {
             "color": "rgb(36,36,36)"
            },
            "marker": {
             "line": {
              "color": "white",
              "width": 0.5
             },
             "pattern": {
              "fillmode": "overlay",
              "size": 10,
              "solidity": 0.2
             }
            },
            "type": "bar"
           }
          ],
          "barpolar": [
           {
            "marker": {
             "line": {
              "color": "white",
              "width": 0.5
             },
             "pattern": {
              "fillmode": "overlay",
              "size": 10,
              "solidity": 0.2
             }
            },
            "type": "barpolar"
           }
          ],
          "carpet": [
           {
            "aaxis": {
             "endlinecolor": "rgb(36,36,36)",
             "gridcolor": "white",
             "linecolor": "white",
             "minorgridcolor": "white",
             "startlinecolor": "rgb(36,36,36)"
            },
            "baxis": {
             "endlinecolor": "rgb(36,36,36)",
             "gridcolor": "white",
             "linecolor": "white",
             "minorgridcolor": "white",
             "startlinecolor": "rgb(36,36,36)"
            },
            "type": "carpet"
           }
          ],
          "choropleth": [
           {
            "colorbar": {
             "outlinewidth": 1,
             "tickcolor": "rgb(36,36,36)",
             "ticks": "outside"
            },
            "type": "choropleth"
           }
          ],
          "contour": [
           {
            "colorbar": {
             "outlinewidth": 1,
             "tickcolor": "rgb(36,36,36)",
             "ticks": "outside"
            },
            "colorscale": [
             [
              0,
              "#440154"
             ],
             [
              0.1111111111111111,
              "#482878"
             ],
             [
              0.2222222222222222,
              "#3e4989"
             ],
             [
              0.3333333333333333,
              "#31688e"
             ],
             [
              0.4444444444444444,
              "#26828e"
             ],
             [
              0.5555555555555556,
              "#1f9e89"
             ],
             [
              0.6666666666666666,
              "#35b779"
             ],
             [
              0.7777777777777778,
              "#6ece58"
             ],
             [
              0.8888888888888888,
              "#b5de2b"
             ],
             [
              1,
              "#fde725"
             ]
            ],
            "type": "contour"
           }
          ],
          "contourcarpet": [
           {
            "colorbar": {
             "outlinewidth": 1,
             "tickcolor": "rgb(36,36,36)",
             "ticks": "outside"
            },
            "type": "contourcarpet"
           }
          ],
          "heatmap": [
           {
            "colorbar": {
             "outlinewidth": 1,
             "tickcolor": "rgb(36,36,36)",
             "ticks": "outside"
            },
            "colorscale": [
             [
              0,
              "#440154"
             ],
             [
              0.1111111111111111,
              "#482878"
             ],
             [
              0.2222222222222222,
              "#3e4989"
             ],
             [
              0.3333333333333333,
              "#31688e"
             ],
             [
              0.4444444444444444,
              "#26828e"
             ],
             [
              0.5555555555555556,
              "#1f9e89"
             ],
             [
              0.6666666666666666,
              "#35b779"
             ],
             [
              0.7777777777777778,
              "#6ece58"
             ],
             [
              0.8888888888888888,
              "#b5de2b"
             ],
             [
              1,
              "#fde725"
             ]
            ],
            "type": "heatmap"
           }
          ],
          "heatmapgl": [
           {
            "colorbar": {
             "outlinewidth": 1,
             "tickcolor": "rgb(36,36,36)",
             "ticks": "outside"
            },
            "colorscale": [
             [
              0,
              "#440154"
             ],
             [
              0.1111111111111111,
              "#482878"
             ],
             [
              0.2222222222222222,
              "#3e4989"
             ],
             [
              0.3333333333333333,
              "#31688e"
             ],
             [
              0.4444444444444444,
              "#26828e"
             ],
             [
              0.5555555555555556,
              "#1f9e89"
             ],
             [
              0.6666666666666666,
              "#35b779"
             ],
             [
              0.7777777777777778,
              "#6ece58"
             ],
             [
              0.8888888888888888,
              "#b5de2b"
             ],
             [
              1,
              "#fde725"
             ]
            ],
            "type": "heatmapgl"
           }
          ],
          "histogram": [
           {
            "marker": {
             "line": {
              "color": "white",
              "width": 0.6
             }
            },
            "type": "histogram"
           }
          ],
          "histogram2d": [
           {
            "colorbar": {
             "outlinewidth": 1,
             "tickcolor": "rgb(36,36,36)",
             "ticks": "outside"
            },
            "colorscale": [
             [
              0,
              "#440154"
             ],
             [
              0.1111111111111111,
              "#482878"
             ],
             [
              0.2222222222222222,
              "#3e4989"
             ],
             [
              0.3333333333333333,
              "#31688e"
             ],
             [
              0.4444444444444444,
              "#26828e"
             ],
             [
              0.5555555555555556,
              "#1f9e89"
             ],
             [
              0.6666666666666666,
              "#35b779"
             ],
             [
              0.7777777777777778,
              "#6ece58"
             ],
             [
              0.8888888888888888,
              "#b5de2b"
             ],
             [
              1,
              "#fde725"
             ]
            ],
            "type": "histogram2d"
           }
          ],
          "histogram2dcontour": [
           {
            "colorbar": {
             "outlinewidth": 1,
             "tickcolor": "rgb(36,36,36)",
             "ticks": "outside"
            },
            "colorscale": [
             [
              0,
              "#440154"
             ],
             [
              0.1111111111111111,
              "#482878"
             ],
             [
              0.2222222222222222,
              "#3e4989"
             ],
             [
              0.3333333333333333,
              "#31688e"
             ],
             [
              0.4444444444444444,
              "#26828e"
             ],
             [
              0.5555555555555556,
              "#1f9e89"
             ],
             [
              0.6666666666666666,
              "#35b779"
             ],
             [
              0.7777777777777778,
              "#6ece58"
             ],
             [
              0.8888888888888888,
              "#b5de2b"
             ],
             [
              1,
              "#fde725"
             ]
            ],
            "type": "histogram2dcontour"
           }
          ],
          "mesh3d": [
           {
            "colorbar": {
             "outlinewidth": 1,
             "tickcolor": "rgb(36,36,36)",
             "ticks": "outside"
            },
            "type": "mesh3d"
           }
          ],
          "parcoords": [
           {
            "line": {
             "colorbar": {
              "outlinewidth": 1,
              "tickcolor": "rgb(36,36,36)",
              "ticks": "outside"
             }
            },
            "type": "parcoords"
           }
          ],
          "pie": [
           {
            "automargin": true,
            "type": "pie"
           }
          ],
          "scatter": [
           {
            "fillpattern": {
             "fillmode": "overlay",
             "size": 10,
             "solidity": 0.2
            },
            "type": "scatter"
           }
          ],
          "scatter3d": [
           {
            "line": {
             "colorbar": {
              "outlinewidth": 1,
              "tickcolor": "rgb(36,36,36)",
              "ticks": "outside"
             }
            },
            "marker": {
             "colorbar": {
              "outlinewidth": 1,
              "tickcolor": "rgb(36,36,36)",
              "ticks": "outside"
             }
            },
            "type": "scatter3d"
           }
          ],
          "scattercarpet": [
           {
            "marker": {
             "colorbar": {
              "outlinewidth": 1,
              "tickcolor": "rgb(36,36,36)",
              "ticks": "outside"
             }
            },
            "type": "scattercarpet"
           }
          ],
          "scattergeo": [
           {
            "marker": {
             "colorbar": {
              "outlinewidth": 1,
              "tickcolor": "rgb(36,36,36)",
              "ticks": "outside"
             }
            },
            "type": "scattergeo"
           }
          ],
          "scattergl": [
           {
            "marker": {
             "colorbar": {
              "outlinewidth": 1,
              "tickcolor": "rgb(36,36,36)",
              "ticks": "outside"
             }
            },
            "type": "scattergl"
           }
          ],
          "scattermapbox": [
           {
            "marker": {
             "colorbar": {
              "outlinewidth": 1,
              "tickcolor": "rgb(36,36,36)",
              "ticks": "outside"
             }
            },
            "type": "scattermapbox"
           }
          ],
          "scatterpolar": [
           {
            "marker": {
             "colorbar": {
              "outlinewidth": 1,
              "tickcolor": "rgb(36,36,36)",
              "ticks": "outside"
             }
            },
            "type": "scatterpolar"
           }
          ],
          "scatterpolargl": [
           {
            "marker": {
             "colorbar": {
              "outlinewidth": 1,
              "tickcolor": "rgb(36,36,36)",
              "ticks": "outside"
             }
            },
            "type": "scatterpolargl"
           }
          ],
          "scatterternary": [
           {
            "marker": {
             "colorbar": {
              "outlinewidth": 1,
              "tickcolor": "rgb(36,36,36)",
              "ticks": "outside"
             }
            },
            "type": "scatterternary"
           }
          ],
          "surface": [
           {
            "colorbar": {
             "outlinewidth": 1,
             "tickcolor": "rgb(36,36,36)",
             "ticks": "outside"
            },
            "colorscale": [
             [
              0,
              "#440154"
             ],
             [
              0.1111111111111111,
              "#482878"
             ],
             [
              0.2222222222222222,
              "#3e4989"
             ],
             [
              0.3333333333333333,
              "#31688e"
             ],
             [
              0.4444444444444444,
              "#26828e"
             ],
             [
              0.5555555555555556,
              "#1f9e89"
             ],
             [
              0.6666666666666666,
              "#35b779"
             ],
             [
              0.7777777777777778,
              "#6ece58"
             ],
             [
              0.8888888888888888,
              "#b5de2b"
             ],
             [
              1,
              "#fde725"
             ]
            ],
            "type": "surface"
           }
          ],
          "table": [
           {
            "cells": {
             "fill": {
              "color": "rgb(237,237,237)"
             },
             "line": {
              "color": "white"
             }
            },
            "header": {
             "fill": {
              "color": "rgb(217,217,217)"
             },
             "line": {
              "color": "white"
             }
            },
            "type": "table"
           }
          ]
         },
         "layout": {
          "annotationdefaults": {
           "arrowhead": 0,
           "arrowwidth": 1
          },
          "autotypenumbers": "strict",
          "coloraxis": {
           "colorbar": {
            "outlinewidth": 1,
            "tickcolor": "rgb(36,36,36)",
            "ticks": "outside"
           }
          },
          "colorscale": {
           "diverging": [
            [
             0,
             "rgb(103,0,31)"
            ],
            [
             0.1,
             "rgb(178,24,43)"
            ],
            [
             0.2,
             "rgb(214,96,77)"
            ],
            [
             0.3,
             "rgb(244,165,130)"
            ],
            [
             0.4,
             "rgb(253,219,199)"
            ],
            [
             0.5,
             "rgb(247,247,247)"
            ],
            [
             0.6,
             "rgb(209,229,240)"
            ],
            [
             0.7,
             "rgb(146,197,222)"
            ],
            [
             0.8,
             "rgb(67,147,195)"
            ],
            [
             0.9,
             "rgb(33,102,172)"
            ],
            [
             1,
             "rgb(5,48,97)"
            ]
           ],
           "sequential": [
            [
             0,
             "#440154"
            ],
            [
             0.1111111111111111,
             "#482878"
            ],
            [
             0.2222222222222222,
             "#3e4989"
            ],
            [
             0.3333333333333333,
             "#31688e"
            ],
            [
             0.4444444444444444,
             "#26828e"
            ],
            [
             0.5555555555555556,
             "#1f9e89"
            ],
            [
             0.6666666666666666,
             "#35b779"
            ],
            [
             0.7777777777777778,
             "#6ece58"
            ],
            [
             0.8888888888888888,
             "#b5de2b"
            ],
            [
             1,
             "#fde725"
            ]
           ],
           "sequentialminus": [
            [
             0,
             "#440154"
            ],
            [
             0.1111111111111111,
             "#482878"
            ],
            [
             0.2222222222222222,
             "#3e4989"
            ],
            [
             0.3333333333333333,
             "#31688e"
            ],
            [
             0.4444444444444444,
             "#26828e"
            ],
            [
             0.5555555555555556,
             "#1f9e89"
            ],
            [
             0.6666666666666666,
             "#35b779"
            ],
            [
             0.7777777777777778,
             "#6ece58"
            ],
            [
             0.8888888888888888,
             "#b5de2b"
            ],
            [
             1,
             "#fde725"
            ]
           ]
          },
          "colorway": [
           "#1F77B4",
           "#FF7F0E",
           "#2CA02C",
           "#D62728",
           "#9467BD",
           "#8C564B",
           "#E377C2",
           "#7F7F7F",
           "#BCBD22",
           "#17BECF"
          ],
          "font": {
           "color": "rgb(36,36,36)"
          },
          "geo": {
           "bgcolor": "white",
           "lakecolor": "white",
           "landcolor": "white",
           "showlakes": true,
           "showland": true,
           "subunitcolor": "white"
          },
          "hoverlabel": {
           "align": "left"
          },
          "hovermode": "closest",
          "mapbox": {
           "style": "light"
          },
          "paper_bgcolor": "white",
          "plot_bgcolor": "white",
          "polar": {
           "angularaxis": {
            "gridcolor": "rgb(232,232,232)",
            "linecolor": "rgb(36,36,36)",
            "showgrid": false,
            "showline": true,
            "ticks": "outside"
           },
           "bgcolor": "white",
           "radialaxis": {
            "gridcolor": "rgb(232,232,232)",
            "linecolor": "rgb(36,36,36)",
            "showgrid": false,
            "showline": true,
            "ticks": "outside"
           }
          },
          "scene": {
           "xaxis": {
            "backgroundcolor": "white",
            "gridcolor": "rgb(232,232,232)",
            "gridwidth": 2,
            "linecolor": "rgb(36,36,36)",
            "showbackground": true,
            "showgrid": false,
            "showline": true,
            "ticks": "outside",
            "zeroline": false,
            "zerolinecolor": "rgb(36,36,36)"
           },
           "yaxis": {
            "backgroundcolor": "white",
            "gridcolor": "rgb(232,232,232)",
            "gridwidth": 2,
            "linecolor": "rgb(36,36,36)",
            "showbackground": true,
            "showgrid": false,
            "showline": true,
            "ticks": "outside",
            "zeroline": false,
            "zerolinecolor": "rgb(36,36,36)"
           },
           "zaxis": {
            "backgroundcolor": "white",
            "gridcolor": "rgb(232,232,232)",
            "gridwidth": 2,
            "linecolor": "rgb(36,36,36)",
            "showbackground": true,
            "showgrid": false,
            "showline": true,
            "ticks": "outside",
            "zeroline": false,
            "zerolinecolor": "rgb(36,36,36)"
           }
          },
          "shapedefaults": {
           "fillcolor": "black",
           "line": {
            "width": 0
           },
           "opacity": 0.3
          },
          "ternary": {
           "aaxis": {
            "gridcolor": "rgb(232,232,232)",
            "linecolor": "rgb(36,36,36)",
            "showgrid": false,
            "showline": true,
            "ticks": "outside"
           },
           "baxis": {
            "gridcolor": "rgb(232,232,232)",
            "linecolor": "rgb(36,36,36)",
            "showgrid": false,
            "showline": true,
            "ticks": "outside"
           },
           "bgcolor": "white",
           "caxis": {
            "gridcolor": "rgb(232,232,232)",
            "linecolor": "rgb(36,36,36)",
            "showgrid": false,
            "showline": true,
            "ticks": "outside"
           }
          },
          "title": {
           "x": 0.05
          },
          "xaxis": {
           "automargin": true,
           "gridcolor": "rgb(232,232,232)",
           "linecolor": "rgb(36,36,36)",
           "showgrid": false,
           "showline": true,
           "ticks": "outside",
           "title": {
            "standoff": 15
           },
           "zeroline": false,
           "zerolinecolor": "rgb(36,36,36)"
          },
          "yaxis": {
           "automargin": true,
           "gridcolor": "rgb(232,232,232)",
           "linecolor": "rgb(36,36,36)",
           "showgrid": false,
           "showline": true,
           "ticks": "outside",
           "title": {
            "standoff": 15
           },
           "zeroline": false,
           "zerolinecolor": "rgb(36,36,36)"
          }
         }
        },
        "title": {
         "font": {
          "color": "Black",
          "size": 22
         },
         "text": "<b>Topics per Class</b>",
         "x": 0.4,
         "xanchor": "center",
         "y": 0.95,
         "yanchor": "top"
        },
        "width": 1250,
        "xaxis": {
         "showgrid": true,
         "title": {
          "text": "Frequency"
         }
        },
        "yaxis": {
         "showgrid": true,
         "title": {
          "text": "Class"
         }
        }
       }
      }
     },
     "metadata": {},
     "output_type": "display_data"
    }
   ],
   "source": [
    "topics_per_class = topic_model.model.topics_per_class(df.content.tolist(), df.label.tolist())\n",
    "topic_model.model.visualize_topics_per_class(topics_per_class)"
   ]
  },
  {
   "cell_type": "code",
   "execution_count": null,
   "metadata": {},
   "outputs": [],
   "source": []
  },
  {
   "cell_type": "code",
   "execution_count": null,
   "metadata": {},
   "outputs": [],
   "source": [
    "df.to_parquet('/Users/IsRealNPK/LMAO/dataset/HDFS_v1/HDFS_with_topic.parquet.gzip')"
   ]
  },
  {
   "cell_type": "markdown",
   "metadata": {},
   "source": [
    "# LMAO graph"
   ]
  },
  {
   "cell_type": "code",
   "execution_count": 5,
   "metadata": {},
   "outputs": [],
   "source": [
    "from lmao.graph import Graph"
   ]
  },
  {
   "cell_type": "code",
   "execution_count": 6,
   "metadata": {},
   "outputs": [
    {
     "name": "stdout",
     "output_type": "stream",
     "text": [
      "Topics size of this dataframe is : 237\n",
      "Getting Group by from dataframe\n"
     ]
    },
    {
     "data": {
      "application/vnd.jupyter.widget-view+json": {
       "model_id": "f1c42cc417764c359f895fe8b0418de3",
       "version_major": 2,
       "version_minor": 0
      },
      "text/plain": [
       "  0%|          | 0/575061 [00:00<?, ?it/s]"
      ]
     },
     "metadata": {},
     "output_type": "display_data"
    },
    {
     "name": "stdout",
     "output_type": "stream",
     "text": [
      "Max sequence size of this dataframe is : 297\n",
      "Apply Padding and Truncate 300.\n"
     ]
    },
    {
     "data": {
      "application/vnd.jupyter.widget-view+json": {
       "model_id": "506657e48da946eeac1d502507c658f9",
       "version_major": 2,
       "version_minor": 0
      },
      "text/plain": [
       "  0%|          | 0/575061 [00:00<?, ?it/s]"
      ]
     },
     "metadata": {},
     "output_type": "display_data"
    },
    {
     "name": "stdout",
     "output_type": "stream",
     "text": [
      "Updating Topic size of this dataframe to 238\n",
      "Updating sequence size of this dataframe to 300\n",
      "Please call .get_PyG() to get PyG dataloader\n"
     ]
    }
   ],
   "source": [
    "hdfs_data = Graph(df=pd.read_parquet('dataset/HDFS_v1/HDFS_with_topic.parquet.gzip'),mode='pyg')"
   ]
  },
  {
   "cell_type": "code",
   "execution_count": 5,
   "metadata": {},
   "outputs": [
    {
     "name": "stdout",
     "output_type": "stream",
     "text": [
      "Topics size of this dataframe is : 2149\n",
      "Getting Group by from dataframe\n"
     ]
    },
    {
     "data": {
      "application/vnd.jupyter.widget-view+json": {
       "model_id": "b31d747e6135450083807a80b0dac793",
       "version_major": 2,
       "version_minor": 0
      },
      "text/plain": [
       "  0%|          | 0/126 [00:00<?, ?it/s]"
      ]
     },
     "metadata": {},
     "output_type": "display_data"
    },
    {
     "name": "stdout",
     "output_type": "stream",
     "text": [
      "Max sequence size of this dataframe is : 772369\n",
      "Apply Padding and Truncate 300.\n"
     ]
    },
    {
     "data": {
      "application/vnd.jupyter.widget-view+json": {
       "model_id": "3b9fe2efe94141d4be68e14cd50c306f",
       "version_major": 2,
       "version_minor": 0
      },
      "text/plain": [
       "  0%|          | 0/126 [00:00<?, ?it/s]"
      ]
     },
     "metadata": {},
     "output_type": "display_data"
    },
    {
     "name": "stdout",
     "output_type": "stream",
     "text": [
      "Updating Topic size of this dataframe to 2150\n",
      "Updating sequence size of this dataframe to 300\n",
      "Please call .get_PyG() to get PyG dataloader\n"
     ]
    }
   ],
   "source": [
    "alice_data = Graph(df=pd.read_parquet('dataset/ALICE-OSLdataset/ALICE_info_no_severity_D_with_topic.parquet.gzip'),mode='pyg')"
   ]
  },
  {
   "cell_type": "code",
   "execution_count": 10,
   "metadata": {},
   "outputs": [],
   "source": [
    "bgl_df = pd.read_csv('/Users/IsRealNPK/LMAO/dataset/BGL/bgl_data.csv', index_col=0)"
   ]
  },
  {
   "cell_type": "code",
   "execution_count": 13,
   "metadata": {},
   "outputs": [
    {
     "data": {
      "text/html": [
       "<div>\n",
       "<style scoped>\n",
       "    .dataframe tbody tr th:only-of-type {\n",
       "        vertical-align: middle;\n",
       "    }\n",
       "\n",
       "    .dataframe tbody tr th {\n",
       "        vertical-align: top;\n",
       "    }\n",
       "\n",
       "    .dataframe thead th {\n",
       "        text-align: right;\n",
       "    }\n",
       "</style>\n",
       "<table border=\"1\" class=\"dataframe\">\n",
       "  <thead>\n",
       "    <tr style=\"text-align: right;\">\n",
       "      <th></th>\n",
       "      <th>LineId</th>\n",
       "      <th>Node</th>\n",
       "      <th>Time</th>\n",
       "      <th>NodeRepeat</th>\n",
       "      <th>Type</th>\n",
       "      <th>Component</th>\n",
       "      <th>Level</th>\n",
       "      <th>Content</th>\n",
       "      <th>EventId</th>\n",
       "      <th>EventTemplate</th>\n",
       "      <th>ParameterList</th>\n",
       "      <th>Detection_Label</th>\n",
       "      <th>topics</th>\n",
       "    </tr>\n",
       "  </thead>\n",
       "  <tbody>\n",
       "    <tr>\n",
       "      <th>299170</th>\n",
       "      <td>299171</td>\n",
       "      <td>R30-M0-N9-C:J16-U01</td>\n",
       "      <td>2005-06-11-20.27.56.094150</td>\n",
       "      <td>R30-M0-N9-C:J16-U01</td>\n",
       "      <td>RAS</td>\n",
       "      <td>KERNEL</td>\n",
       "      <td>FATAL</td>\n",
       "      <td>data TLB error interrupt</td>\n",
       "      <td>38a7307d</td>\n",
       "      <td>data TLB error interrupt</td>\n",
       "      <td>[]</td>\n",
       "      <td>Anomaly</td>\n",
       "      <td>3</td>\n",
       "    </tr>\n",
       "    <tr>\n",
       "      <th>2086823</th>\n",
       "      <td>2086824</td>\n",
       "      <td>R21-M1-NB-C:J09-U01</td>\n",
       "      <td>2005-07-13-19.32.44.923192</td>\n",
       "      <td>R21-M1-NB-C:J09-U01</td>\n",
       "      <td>RAS</td>\n",
       "      <td>KERNEL</td>\n",
       "      <td>INFO</td>\n",
       "      <td>generating core.22570</td>\n",
       "      <td>070de4aa</td>\n",
       "      <td>generating &lt;*&gt;</td>\n",
       "      <td>['core.22570']</td>\n",
       "      <td>Normal</td>\n",
       "      <td>250</td>\n",
       "    </tr>\n",
       "    <tr>\n",
       "      <th>3065077</th>\n",
       "      <td>3065078</td>\n",
       "      <td>R76-M0-N0-I:J18-U11</td>\n",
       "      <td>2005-08-18-12.40.49.182871</td>\n",
       "      <td>R76-M0-N0-I:J18-U11</td>\n",
       "      <td>RAS</td>\n",
       "      <td>KERNEL</td>\n",
       "      <td>INFO</td>\n",
       "      <td>ciod: generated 64 core files for program /bgl...</td>\n",
       "      <td>11b69b8b</td>\n",
       "      <td>ciod: generated &lt;*&gt; core files for program &lt;*&gt;</td>\n",
       "      <td>['64', '/bgl/apps/swl-prep/ibm-swl/functional/...</td>\n",
       "      <td>Normal</td>\n",
       "      <td>2785</td>\n",
       "    </tr>\n",
       "    <tr>\n",
       "      <th>3184476</th>\n",
       "      <td>3184477</td>\n",
       "      <td>R74-M1-NC-C:J17-U01</td>\n",
       "      <td>2005-08-26-12.28.48.940922</td>\n",
       "      <td>R74-M1-NC-C:J17-U01</td>\n",
       "      <td>RAS</td>\n",
       "      <td>KERNEL</td>\n",
       "      <td>INFO</td>\n",
       "      <td>iar 003a9260 dear 00e29b98</td>\n",
       "      <td>1b700d02</td>\n",
       "      <td>iar &lt;*&gt; dear &lt;*&gt;</td>\n",
       "      <td>['003a9260', '00e29b98']</td>\n",
       "      <td>Normal</td>\n",
       "      <td>3449</td>\n",
       "    </tr>\n",
       "    <tr>\n",
       "      <th>3985966</th>\n",
       "      <td>3985967</td>\n",
       "      <td>R63-M0-NA-C:J09-U11</td>\n",
       "      <td>2005-11-04-13.53.54.110569</td>\n",
       "      <td>R63-M0-NA-C:J09-U11</td>\n",
       "      <td>RAS</td>\n",
       "      <td>KERNEL</td>\n",
       "      <td>INFO</td>\n",
       "      <td>iar 00106678 dear 0252526c</td>\n",
       "      <td>1b700d02</td>\n",
       "      <td>iar &lt;*&gt; dear &lt;*&gt;</td>\n",
       "      <td>['00106678', '0252526c']</td>\n",
       "      <td>Normal</td>\n",
       "      <td>-1</td>\n",
       "    </tr>\n",
       "  </tbody>\n",
       "</table>\n",
       "</div>"
      ],
      "text/plain": [
       "          LineId                 Node                        Time  \\\n",
       "299170    299171  R30-M0-N9-C:J16-U01  2005-06-11-20.27.56.094150   \n",
       "2086823  2086824  R21-M1-NB-C:J09-U01  2005-07-13-19.32.44.923192   \n",
       "3065077  3065078  R76-M0-N0-I:J18-U11  2005-08-18-12.40.49.182871   \n",
       "3184476  3184477  R74-M1-NC-C:J17-U01  2005-08-26-12.28.48.940922   \n",
       "3985966  3985967  R63-M0-NA-C:J09-U11  2005-11-04-13.53.54.110569   \n",
       "\n",
       "                  NodeRepeat Type Component  Level  \\\n",
       "299170   R30-M0-N9-C:J16-U01  RAS    KERNEL  FATAL   \n",
       "2086823  R21-M1-NB-C:J09-U01  RAS    KERNEL   INFO   \n",
       "3065077  R76-M0-N0-I:J18-U11  RAS    KERNEL   INFO   \n",
       "3184476  R74-M1-NC-C:J17-U01  RAS    KERNEL   INFO   \n",
       "3985966  R63-M0-NA-C:J09-U11  RAS    KERNEL   INFO   \n",
       "\n",
       "                                                   Content   EventId  \\\n",
       "299170                            data TLB error interrupt  38a7307d   \n",
       "2086823                              generating core.22570  070de4aa   \n",
       "3065077  ciod: generated 64 core files for program /bgl...  11b69b8b   \n",
       "3184476                         iar 003a9260 dear 00e29b98  1b700d02   \n",
       "3985966                         iar 00106678 dear 0252526c  1b700d02   \n",
       "\n",
       "                                          EventTemplate  \\\n",
       "299170                         data TLB error interrupt   \n",
       "2086823                                  generating <*>   \n",
       "3065077  ciod: generated <*> core files for program <*>   \n",
       "3184476                                iar <*> dear <*>   \n",
       "3985966                                iar <*> dear <*>   \n",
       "\n",
       "                                             ParameterList Detection_Label  \\\n",
       "299170                                                  []         Anomaly   \n",
       "2086823                                     ['core.22570']          Normal   \n",
       "3065077  ['64', '/bgl/apps/swl-prep/ibm-swl/functional/...          Normal   \n",
       "3184476                           ['003a9260', '00e29b98']          Normal   \n",
       "3985966                           ['00106678', '0252526c']          Normal   \n",
       "\n",
       "         topics  \n",
       "299170        3  \n",
       "2086823     250  \n",
       "3065077    2785  \n",
       "3184476    3449  \n",
       "3985966      -1  "
      ]
     },
     "execution_count": 13,
     "metadata": {},
     "output_type": "execute_result"
    }
   ],
   "source": [
    "bgl_df.sample(5).drop(columns=['Label', 'Date', 'Timestamp']).sort_index()"
   ]
  },
  {
   "cell_type": "code",
   "execution_count": 14,
   "metadata": {},
   "outputs": [],
   "source": [
    "bgl_df = pd.DataFrame({'topic':bgl_df.topics, 'label':bgl_df.Detection_Label, 'session_id':bgl_df.Node})"
   ]
  },
  {
   "cell_type": "code",
   "execution_count": 17,
   "metadata": {},
   "outputs": [
    {
     "name": "stdout",
     "output_type": "stream",
     "text": [
      "Topics size of this dataframe is : 5151\n",
      "Getting Group by from dataframe\n"
     ]
    },
    {
     "data": {
      "application/vnd.jupyter.widget-view+json": {
       "model_id": "0d9d5836abb5447c974f32a326b8016d",
       "version_major": 2,
       "version_minor": 0
      },
      "text/plain": [
       "  0%|          | 0/69226 [00:00<?, ?it/s]"
      ]
     },
     "metadata": {},
     "output_type": "display_data"
    },
    {
     "name": "stdout",
     "output_type": "stream",
     "text": [
      "Max sequence size of this dataframe is : 152324\n",
      "Apply Padding and Truncate 300.\n"
     ]
    },
    {
     "data": {
      "application/vnd.jupyter.widget-view+json": {
       "model_id": "eabb8fe75dc6444aa0563e1adfae80ca",
       "version_major": 2,
       "version_minor": 0
      },
      "text/plain": [
       "  0%|          | 0/69226 [00:00<?, ?it/s]"
      ]
     },
     "metadata": {},
     "output_type": "display_data"
    },
    {
     "name": "stdout",
     "output_type": "stream",
     "text": [
      "Updating Topic size of this dataframe to 5152\n",
      "Updating sequence size of this dataframe to 300\n",
      "Please call .get_PyG() to get PyG dataloader\n"
     ]
    }
   ],
   "source": [
    "bgl_data = Graph(df=bgl_df,mode='pyg')"
   ]
  },
  {
   "cell_type": "code",
   "execution_count": 11,
   "metadata": {},
   "outputs": [],
   "source": [
    "hdfs = hdfs_data.df.y.value_counts()"
   ]
  },
  {
   "cell_type": "code",
   "execution_count": 12,
   "metadata": {},
   "outputs": [],
   "source": [
    "alice = alice_data.df.y.value_counts()"
   ]
  },
  {
   "cell_type": "code",
   "execution_count": 49,
   "metadata": {},
   "outputs": [],
   "source": [
    "bgl = bgl_data.df.y.value_counts()"
   ]
  },
  {
   "cell_type": "code",
   "execution_count": 58,
   "metadata": {},
   "outputs": [
    {
     "data": {
      "application/vnd.plotly.v1+json": {
       "config": {
        "plotlyServerURL": "https://plot.ly"
       },
       "data": [
        {
         "name": "alice infologger",
         "text": [
          69,
          57
         ],
         "type": "bar",
         "x": [
          "not crashed",
          "crashed"
         ],
         "xaxis": "x",
         "y": [
          69,
          57
         ],
         "yaxis": "y"
        },
        {
         "name": "hdfs",
         "text": [
          558223,
          16838
         ],
         "type": "bar",
         "x": [
          "Normal",
          "Anomaly"
         ],
         "xaxis": "x2",
         "y": [
          558223,
          16838
         ],
         "yaxis": "y2"
        },
        {
         "name": "bgl",
         "text": [
          63547,
          5679
         ],
         "type": "bar",
         "x": [
          "Normal",
          "Anomaly"
         ],
         "xaxis": "x3",
         "y": [
          63547,
          5679
         ],
         "yaxis": "y3"
        }
       ],
       "layout": {
        "height": 480,
        "template": {
         "data": {
          "bar": [
           {
            "error_x": {
             "color": "#2a3f5f"
            },
            "error_y": {
             "color": "#2a3f5f"
            },
            "marker": {
             "line": {
              "color": "#E5ECF6",
              "width": 0.5
             },
             "pattern": {
              "fillmode": "overlay",
              "size": 10,
              "solidity": 0.2
             }
            },
            "type": "bar"
           }
          ],
          "barpolar": [
           {
            "marker": {
             "line": {
              "color": "#E5ECF6",
              "width": 0.5
             },
             "pattern": {
              "fillmode": "overlay",
              "size": 10,
              "solidity": 0.2
             }
            },
            "type": "barpolar"
           }
          ],
          "carpet": [
           {
            "aaxis": {
             "endlinecolor": "#2a3f5f",
             "gridcolor": "white",
             "linecolor": "white",
             "minorgridcolor": "white",
             "startlinecolor": "#2a3f5f"
            },
            "baxis": {
             "endlinecolor": "#2a3f5f",
             "gridcolor": "white",
             "linecolor": "white",
             "minorgridcolor": "white",
             "startlinecolor": "#2a3f5f"
            },
            "type": "carpet"
           }
          ],
          "choropleth": [
           {
            "colorbar": {
             "outlinewidth": 0,
             "ticks": ""
            },
            "type": "choropleth"
           }
          ],
          "contour": [
           {
            "colorbar": {
             "outlinewidth": 0,
             "ticks": ""
            },
            "colorscale": [
             [
              0,
              "#0d0887"
             ],
             [
              0.1111111111111111,
              "#46039f"
             ],
             [
              0.2222222222222222,
              "#7201a8"
             ],
             [
              0.3333333333333333,
              "#9c179e"
             ],
             [
              0.4444444444444444,
              "#bd3786"
             ],
             [
              0.5555555555555556,
              "#d8576b"
             ],
             [
              0.6666666666666666,
              "#ed7953"
             ],
             [
              0.7777777777777778,
              "#fb9f3a"
             ],
             [
              0.8888888888888888,
              "#fdca26"
             ],
             [
              1,
              "#f0f921"
             ]
            ],
            "type": "contour"
           }
          ],
          "contourcarpet": [
           {
            "colorbar": {
             "outlinewidth": 0,
             "ticks": ""
            },
            "type": "contourcarpet"
           }
          ],
          "heatmap": [
           {
            "colorbar": {
             "outlinewidth": 0,
             "ticks": ""
            },
            "colorscale": [
             [
              0,
              "#0d0887"
             ],
             [
              0.1111111111111111,
              "#46039f"
             ],
             [
              0.2222222222222222,
              "#7201a8"
             ],
             [
              0.3333333333333333,
              "#9c179e"
             ],
             [
              0.4444444444444444,
              "#bd3786"
             ],
             [
              0.5555555555555556,
              "#d8576b"
             ],
             [
              0.6666666666666666,
              "#ed7953"
             ],
             [
              0.7777777777777778,
              "#fb9f3a"
             ],
             [
              0.8888888888888888,
              "#fdca26"
             ],
             [
              1,
              "#f0f921"
             ]
            ],
            "type": "heatmap"
           }
          ],
          "heatmapgl": [
           {
            "colorbar": {
             "outlinewidth": 0,
             "ticks": ""
            },
            "colorscale": [
             [
              0,
              "#0d0887"
             ],
             [
              0.1111111111111111,
              "#46039f"
             ],
             [
              0.2222222222222222,
              "#7201a8"
             ],
             [
              0.3333333333333333,
              "#9c179e"
             ],
             [
              0.4444444444444444,
              "#bd3786"
             ],
             [
              0.5555555555555556,
              "#d8576b"
             ],
             [
              0.6666666666666666,
              "#ed7953"
             ],
             [
              0.7777777777777778,
              "#fb9f3a"
             ],
             [
              0.8888888888888888,
              "#fdca26"
             ],
             [
              1,
              "#f0f921"
             ]
            ],
            "type": "heatmapgl"
           }
          ],
          "histogram": [
           {
            "marker": {
             "pattern": {
              "fillmode": "overlay",
              "size": 10,
              "solidity": 0.2
             }
            },
            "type": "histogram"
           }
          ],
          "histogram2d": [
           {
            "colorbar": {
             "outlinewidth": 0,
             "ticks": ""
            },
            "colorscale": [
             [
              0,
              "#0d0887"
             ],
             [
              0.1111111111111111,
              "#46039f"
             ],
             [
              0.2222222222222222,
              "#7201a8"
             ],
             [
              0.3333333333333333,
              "#9c179e"
             ],
             [
              0.4444444444444444,
              "#bd3786"
             ],
             [
              0.5555555555555556,
              "#d8576b"
             ],
             [
              0.6666666666666666,
              "#ed7953"
             ],
             [
              0.7777777777777778,
              "#fb9f3a"
             ],
             [
              0.8888888888888888,
              "#fdca26"
             ],
             [
              1,
              "#f0f921"
             ]
            ],
            "type": "histogram2d"
           }
          ],
          "histogram2dcontour": [
           {
            "colorbar": {
             "outlinewidth": 0,
             "ticks": ""
            },
            "colorscale": [
             [
              0,
              "#0d0887"
             ],
             [
              0.1111111111111111,
              "#46039f"
             ],
             [
              0.2222222222222222,
              "#7201a8"
             ],
             [
              0.3333333333333333,
              "#9c179e"
             ],
             [
              0.4444444444444444,
              "#bd3786"
             ],
             [
              0.5555555555555556,
              "#d8576b"
             ],
             [
              0.6666666666666666,
              "#ed7953"
             ],
             [
              0.7777777777777778,
              "#fb9f3a"
             ],
             [
              0.8888888888888888,
              "#fdca26"
             ],
             [
              1,
              "#f0f921"
             ]
            ],
            "type": "histogram2dcontour"
           }
          ],
          "mesh3d": [
           {
            "colorbar": {
             "outlinewidth": 0,
             "ticks": ""
            },
            "type": "mesh3d"
           }
          ],
          "parcoords": [
           {
            "line": {
             "colorbar": {
              "outlinewidth": 0,
              "ticks": ""
             }
            },
            "type": "parcoords"
           }
          ],
          "pie": [
           {
            "automargin": true,
            "type": "pie"
           }
          ],
          "scatter": [
           {
            "fillpattern": {
             "fillmode": "overlay",
             "size": 10,
             "solidity": 0.2
            },
            "type": "scatter"
           }
          ],
          "scatter3d": [
           {
            "line": {
             "colorbar": {
              "outlinewidth": 0,
              "ticks": ""
             }
            },
            "marker": {
             "colorbar": {
              "outlinewidth": 0,
              "ticks": ""
             }
            },
            "type": "scatter3d"
           }
          ],
          "scattercarpet": [
           {
            "marker": {
             "colorbar": {
              "outlinewidth": 0,
              "ticks": ""
             }
            },
            "type": "scattercarpet"
           }
          ],
          "scattergeo": [
           {
            "marker": {
             "colorbar": {
              "outlinewidth": 0,
              "ticks": ""
             }
            },
            "type": "scattergeo"
           }
          ],
          "scattergl": [
           {
            "marker": {
             "colorbar": {
              "outlinewidth": 0,
              "ticks": ""
             }
            },
            "type": "scattergl"
           }
          ],
          "scattermapbox": [
           {
            "marker": {
             "colorbar": {
              "outlinewidth": 0,
              "ticks": ""
             }
            },
            "type": "scattermapbox"
           }
          ],
          "scatterpolar": [
           {
            "marker": {
             "colorbar": {
              "outlinewidth": 0,
              "ticks": ""
             }
            },
            "type": "scatterpolar"
           }
          ],
          "scatterpolargl": [
           {
            "marker": {
             "colorbar": {
              "outlinewidth": 0,
              "ticks": ""
             }
            },
            "type": "scatterpolargl"
           }
          ],
          "scatterternary": [
           {
            "marker": {
             "colorbar": {
              "outlinewidth": 0,
              "ticks": ""
             }
            },
            "type": "scatterternary"
           }
          ],
          "surface": [
           {
            "colorbar": {
             "outlinewidth": 0,
             "ticks": ""
            },
            "colorscale": [
             [
              0,
              "#0d0887"
             ],
             [
              0.1111111111111111,
              "#46039f"
             ],
             [
              0.2222222222222222,
              "#7201a8"
             ],
             [
              0.3333333333333333,
              "#9c179e"
             ],
             [
              0.4444444444444444,
              "#bd3786"
             ],
             [
              0.5555555555555556,
              "#d8576b"
             ],
             [
              0.6666666666666666,
              "#ed7953"
             ],
             [
              0.7777777777777778,
              "#fb9f3a"
             ],
             [
              0.8888888888888888,
              "#fdca26"
             ],
             [
              1,
              "#f0f921"
             ]
            ],
            "type": "surface"
           }
          ],
          "table": [
           {
            "cells": {
             "fill": {
              "color": "#EBF0F8"
             },
             "line": {
              "color": "white"
             }
            },
            "header": {
             "fill": {
              "color": "#C8D4E3"
             },
             "line": {
              "color": "white"
             }
            },
            "type": "table"
           }
          ]
         },
         "layout": {
          "annotationdefaults": {
           "arrowcolor": "#2a3f5f",
           "arrowhead": 0,
           "arrowwidth": 1
          },
          "autotypenumbers": "strict",
          "coloraxis": {
           "colorbar": {
            "outlinewidth": 0,
            "ticks": ""
           }
          },
          "colorscale": {
           "diverging": [
            [
             0,
             "#8e0152"
            ],
            [
             0.1,
             "#c51b7d"
            ],
            [
             0.2,
             "#de77ae"
            ],
            [
             0.3,
             "#f1b6da"
            ],
            [
             0.4,
             "#fde0ef"
            ],
            [
             0.5,
             "#f7f7f7"
            ],
            [
             0.6,
             "#e6f5d0"
            ],
            [
             0.7,
             "#b8e186"
            ],
            [
             0.8,
             "#7fbc41"
            ],
            [
             0.9,
             "#4d9221"
            ],
            [
             1,
             "#276419"
            ]
           ],
           "sequential": [
            [
             0,
             "#0d0887"
            ],
            [
             0.1111111111111111,
             "#46039f"
            ],
            [
             0.2222222222222222,
             "#7201a8"
            ],
            [
             0.3333333333333333,
             "#9c179e"
            ],
            [
             0.4444444444444444,
             "#bd3786"
            ],
            [
             0.5555555555555556,
             "#d8576b"
            ],
            [
             0.6666666666666666,
             "#ed7953"
            ],
            [
             0.7777777777777778,
             "#fb9f3a"
            ],
            [
             0.8888888888888888,
             "#fdca26"
            ],
            [
             1,
             "#f0f921"
            ]
           ],
           "sequentialminus": [
            [
             0,
             "#0d0887"
            ],
            [
             0.1111111111111111,
             "#46039f"
            ],
            [
             0.2222222222222222,
             "#7201a8"
            ],
            [
             0.3333333333333333,
             "#9c179e"
            ],
            [
             0.4444444444444444,
             "#bd3786"
            ],
            [
             0.5555555555555556,
             "#d8576b"
            ],
            [
             0.6666666666666666,
             "#ed7953"
            ],
            [
             0.7777777777777778,
             "#fb9f3a"
            ],
            [
             0.8888888888888888,
             "#fdca26"
            ],
            [
             1,
             "#f0f921"
            ]
           ]
          },
          "colorway": [
           "#636efa",
           "#EF553B",
           "#00cc96",
           "#ab63fa",
           "#FFA15A",
           "#19d3f3",
           "#FF6692",
           "#B6E880",
           "#FF97FF",
           "#FECB52"
          ],
          "font": {
           "color": "#2a3f5f"
          },
          "geo": {
           "bgcolor": "white",
           "lakecolor": "white",
           "landcolor": "#E5ECF6",
           "showlakes": true,
           "showland": true,
           "subunitcolor": "white"
          },
          "hoverlabel": {
           "align": "left"
          },
          "hovermode": "closest",
          "mapbox": {
           "style": "light"
          },
          "paper_bgcolor": "white",
          "plot_bgcolor": "#E5ECF6",
          "polar": {
           "angularaxis": {
            "gridcolor": "white",
            "linecolor": "white",
            "ticks": ""
           },
           "bgcolor": "#E5ECF6",
           "radialaxis": {
            "gridcolor": "white",
            "linecolor": "white",
            "ticks": ""
           }
          },
          "scene": {
           "xaxis": {
            "backgroundcolor": "#E5ECF6",
            "gridcolor": "white",
            "gridwidth": 2,
            "linecolor": "white",
            "showbackground": true,
            "ticks": "",
            "zerolinecolor": "white"
           },
           "yaxis": {
            "backgroundcolor": "#E5ECF6",
            "gridcolor": "white",
            "gridwidth": 2,
            "linecolor": "white",
            "showbackground": true,
            "ticks": "",
            "zerolinecolor": "white"
           },
           "zaxis": {
            "backgroundcolor": "#E5ECF6",
            "gridcolor": "white",
            "gridwidth": 2,
            "linecolor": "white",
            "showbackground": true,
            "ticks": "",
            "zerolinecolor": "white"
           }
          },
          "shapedefaults": {
           "line": {
            "color": "#2a3f5f"
           }
          },
          "ternary": {
           "aaxis": {
            "gridcolor": "white",
            "linecolor": "white",
            "ticks": ""
           },
           "baxis": {
            "gridcolor": "white",
            "linecolor": "white",
            "ticks": ""
           },
           "bgcolor": "#E5ECF6",
           "caxis": {
            "gridcolor": "white",
            "linecolor": "white",
            "ticks": ""
           }
          },
          "title": {
           "x": 0.05
          },
          "xaxis": {
           "automargin": true,
           "gridcolor": "white",
           "linecolor": "white",
           "ticks": "",
           "title": {
            "standoff": 15
           },
           "zerolinecolor": "white",
           "zerolinewidth": 2
          },
          "yaxis": {
           "automargin": true,
           "gridcolor": "white",
           "linecolor": "white",
           "ticks": "",
           "title": {
            "standoff": 15
           },
           "zerolinecolor": "white",
           "zerolinewidth": 2
          }
         }
        },
        "title": {
         "text": "Label Distribution in each dataset",
         "x": 0.5
        },
        "width": 640,
        "xaxis": {
         "anchor": "y",
         "domain": [
          0,
          0.2888888888888889
         ]
        },
        "xaxis2": {
         "anchor": "y2",
         "domain": [
          0.35555555555555557,
          0.6444444444444445
         ]
        },
        "xaxis3": {
         "anchor": "y3",
         "domain": [
          0.7111111111111111,
          1
         ]
        },
        "yaxis": {
         "anchor": "x",
         "domain": [
          0,
          1
         ]
        },
        "yaxis2": {
         "anchor": "x2",
         "domain": [
          0,
          1
         ]
        },
        "yaxis3": {
         "anchor": "x3",
         "domain": [
          0,
          1
         ]
        }
       }
      }
     },
     "metadata": {},
     "output_type": "display_data"
    }
   ],
   "source": [
    "import plotly.graph_objects as go\n",
    "from plotly.subplots import make_subplots\n",
    "fig = make_subplots(rows=1, cols=3, shared_yaxes=False)\n",
    "\n",
    "fig.add_trace(go.Bar(name='alice infologger', x=alice.index, y=alice, text=alice.values), 1, 1)\n",
    "fig.add_trace(go.Bar(name='hdfs', x=hdfs.index, y=hdfs.values, text=hdfs.values), 1, 2)\n",
    "fig.add_trace(go.Bar(name='bgl', x=bgl.index, y=bgl.values, text=bgl.values), 1, 3)\n",
    "# Change the bar mode\n",
    "fig.update_layout(\n",
    "    title_text='Label Distribution in each dataset',\n",
    "    title_x=0.5,\n",
    "    width=640,\n",
    "    height=480,\n",
    "    \n",
    ")\n",
    "fig.show()"
   ]
  },
  {
   "cell_type": "code",
   "execution_count": 26,
   "metadata": {},
   "outputs": [],
   "source": [
    "# data.get_PyG(one_hot=True)"
   ]
  },
  {
   "cell_type": "code",
   "execution_count": 7,
   "metadata": {},
   "outputs": [],
   "source": [
    "G = hdfs_data.get_one_graph(0)"
   ]
  },
  {
   "cell_type": "code",
   "execution_count": 8,
   "metadata": {},
   "outputs": [],
   "source": [
    "from lmao.visualizer.plot import plotly_digraph"
   ]
  },
  {
   "cell_type": "code",
   "execution_count": 9,
   "metadata": {},
   "outputs": [],
   "source": [
    "import networkx as nx\n",
    "import plotly.graph_objects as go\n",
    "from sklearn.preprocessing import normalize\n",
    "\n",
    "def normalized(a):\n",
    "    return normalize([a])[0]\n",
    "\n",
    "def plotly_digraph(G, label:str='Label', topic_dict:dict=None):\n",
    "    \n",
    "    # node_name = [f'Topic:{int(G.nodes[n][0])}, Name:{topic_dict[int(G.nodes[n][0])]}, Count:{int(G.nodes[n][1])}' for n in G.nodes]\n",
    "    node_topic = []\n",
    "    node_name = []\n",
    "    node_count = []\n",
    "    for n in G.nodes:\n",
    "        node_topic.append(int(G.nodes[n][0]))\n",
    "        node_name.append(topic_dict[int(G.nodes[n][0])])\n",
    "        node_count.append(int(G.nodes[n][1]))\n",
    "    \n",
    "    pos = nx.spring_layout(G, seed=1234)\n",
    "    node_x = []\n",
    "    node_y = []\n",
    "    \n",
    "    for n in pos:\n",
    "        node_x.append(pos[n][0])\n",
    "        node_y.append(pos[n][1])\n",
    "        \n",
    "    H = nx.DiGraph(G)\n",
    "    H.remove_edges_from(nx.selfloop_edges(H))\n",
    "    \n",
    "    edge_x = []\n",
    "    edge_y = []\n",
    "    for edge in H.edges():\n",
    "        x0, y0 = pos[edge[0]]\n",
    "        x1, y1 = pos[edge[1]]\n",
    "        edge_x.append(x0)\n",
    "        edge_x.append(x1)\n",
    "        edge_x.append(None)\n",
    "        edge_y.append(y0)\n",
    "        edge_y.append(y1)\n",
    "        edge_y.append(None)\n",
    "    \n",
    "    edgewidth = [len(G.get_edge_data(u, v)) for u, v in G.edges()]\n",
    "    nodesize = [G.nodes[n][1] for n in G.nodes]\n",
    "    nodesize[-1] = 1\n",
    "    edgewidth[-1] = 1\n",
    "    fakesize = nodesize\n",
    "    \n",
    "    nodesize = [s*100 for s in normalized(nodesize)]\n",
    "    edgesize = min([w for w in normalized(edgewidth)])\n",
    "    \n",
    "    #create a trace for the edges\n",
    "    trace_edges = go.Scatter(\n",
    "        x=edge_x,\n",
    "        y=edge_y,\n",
    "        opacity=0.7,\n",
    "        mode=\"lines+markers\",\n",
    "        marker=dict(color=edgewidth,\n",
    "                    size=edgesize*10,\n",
    "                    opacity=0.7,\n",
    "                    symbol= \"arrow-bar-up\", \n",
    "                    angleref=\"previous\",\n",
    "                    colorscale='Plotly3'),\n",
    "        hoverinfo='none',\n",
    "        )\n",
    "\n",
    "    #create a trace for the nodes\n",
    "    trace_nodes = go.Scatter(\n",
    "        x=node_x,\n",
    "        y=node_y,\n",
    "        text=node_topic,\n",
    "        mode='markers',\n",
    "        customdata=np.vstack((np.array(node_name), np.array(node_count))).T,\n",
    "        marker=dict(symbol='circle',\n",
    "                size=nodesize,\n",
    "                color=fakesize,\n",
    "                colorscale='Plotly3',\n",
    "                colorbar=dict(\n",
    "                    thickness=10,\n",
    "                    title='Node Counts in session',\n",
    "                    xanchor='left',\n",
    "                    titleside='right'\n",
    "                    )\n",
    "                ),\n",
    "        hovertemplate=\n",
    "        \"<b>Topic: %{text} </b><br>\" +\n",
    "        \"<b>Name:</b> %{customdata[0]} <br>\" +\n",
    "        \"<b>Count:</b> %{customdata[1]} <br>\",\n",
    "        )\n",
    "\n",
    "    data = [trace_edges, trace_nodes]\n",
    "    fig = go.Figure(data=data)\n",
    "    fig.update_layout(margin=dict(l=0, r=0, b=0, t=0), showlegend=False)\n",
    "    return fig"
   ]
  },
  {
   "cell_type": "code",
   "execution_count": 10,
   "metadata": {},
   "outputs": [
    {
     "data": {
      "application/vnd.plotly.v1+json": {
       "config": {
        "plotlyServerURL": "https://plot.ly"
       },
       "data": [
        {
         "hoverinfo": "none",
         "marker": {
          "angleref": "previous",
          "color": [
           0,
           0,
           0,
           0,
           0,
           0,
           0,
           0,
           0,
           0,
           0,
           1
          ],
          "colorscale": [
           [
            0,
            "#0508b8"
           ],
           [
            0.08333333333333333,
            "#1910d8"
           ],
           [
            0.16666666666666666,
            "#3c19f0"
           ],
           [
            0.25,
            "#6b1cfb"
           ],
           [
            0.3333333333333333,
            "#981cfd"
           ],
           [
            0.4166666666666667,
            "#bf1cfd"
           ],
           [
            0.5,
            "#dd2bfd"
           ],
           [
            0.5833333333333334,
            "#f246fe"
           ],
           [
            0.6666666666666666,
            "#fc67fd"
           ],
           [
            0.75,
            "#fe88fc"
           ],
           [
            0.8333333333333334,
            "#fea5fd"
           ],
           [
            0.9166666666666666,
            "#febefe"
           ],
           [
            1,
            "#fec3fe"
           ]
          ],
          "opacity": 0.7,
          "size": 0,
          "symbol": "arrow-bar-up"
         },
         "mode": "lines+markers",
         "opacity": 0.7,
         "type": "scatter",
         "x": [
          0.016766761673069033,
          0.16510981050453408,
          null,
          0.16510981050453408,
          0.3869442053815443,
          null,
          0.16510981050453408,
          -0.07194921183538655,
          null,
          0.3869442053815443,
          0.4215902762798815,
          null,
          0.4215902762798815,
          0.16510981050453408,
          null,
          -0.07194921183538655,
          -0.3143766679149374,
          null,
          -0.3143766679149374,
          -0.37514002127870955,
          null,
          -0.37514002127870955,
          -0.15053774009502247,
          null,
          -0.15053774009502247,
          -0.07840741271497302,
          null
         ],
         "y": [
          0.5817774544201242,
          0.3551848546413175,
          null,
          0.3551848546413175,
          0.8863031809138125,
          null,
          0.3551848546413175,
          -0.16974404842181565,
          null,
          0.8863031809138125,
          0.47830589880782765,
          null,
          0.47830589880782765,
          0.3551848546413175,
          null,
          -0.16974404842181565,
          -0.30954726291382223,
          null,
          -0.30954726291382223,
          -0.22535606957388873,
          null,
          -0.22535606957388873,
          -0.5969240078735553,
          null,
          -0.5969240078735553,
          -1,
          null
         ]
        },
        {
         "customdata": [
          [
           "25_123_251 123_132_123 132",
           "2"
          ],
          [
           "-1_of_50010 block_invalidset_namesystem delete",
           "4"
          ],
          [
           "5_terminating packetresponder_packetresponder for_terminating_packetresponder",
           "1"
          ],
          [
           "56_181 received_202 181_181_202",
           "1"
          ],
          [
           "40_181 50010_181_202 181_251 202",
           "1"
          ],
          [
           "13_123_251 123_123 50010_99 50010",
           "1"
          ],
          [
           "4_terminating packetresponder_terminating_packetresponder_packetresponder for",
           "1"
          ],
          [
           "11_verification succeeded_verification_succeeded_succeeded for",
           "1"
          ],
          [
           "<PAD>",
           "288"
          ]
         ],
         "hovertemplate": "<b>Topic: %{text} </b><br><b>Name:</b> %{customdata[0]} <br><b>Count:</b> %{customdata[1]} <br>",
         "marker": {
          "color": [
           2,
           4,
           1,
           1,
           1,
           1,
           1,
           1,
           1
          ],
          "colorbar": {
           "thickness": 10,
           "title": {
            "side": "right",
            "text": "Node Counts in session"
           },
           "xanchor": "left"
          },
          "colorscale": [
           [
            0,
            "#0508b8"
           ],
           [
            0.08333333333333333,
            "#1910d8"
           ],
           [
            0.16666666666666666,
            "#3c19f0"
           ],
           [
            0.25,
            "#6b1cfb"
           ],
           [
            0.3333333333333333,
            "#981cfd"
           ],
           [
            0.4166666666666667,
            "#bf1cfd"
           ],
           [
            0.5,
            "#dd2bfd"
           ],
           [
            0.5833333333333334,
            "#f246fe"
           ],
           [
            0.6666666666666666,
            "#fc67fd"
           ],
           [
            0.75,
            "#fe88fc"
           ],
           [
            0.8333333333333334,
            "#fea5fd"
           ],
           [
            0.9166666666666666,
            "#febefe"
           ],
           [
            1,
            "#fec3fe"
           ]
          ],
          "size": [
           38.490017945975055,
           76.98003589195011,
           19.245008972987527,
           19.245008972987527,
           19.245008972987527,
           19.245008972987527,
           19.245008972987527,
           19.245008972987527,
           19.245008972987527
          ],
          "symbol": "circle"
         },
         "mode": "markers",
         "text": [
          "25",
          "-1",
          "5",
          "56",
          "40",
          "13",
          "4",
          "11",
          "-2"
         ],
         "type": "scatter",
         "x": [
          0.016766761673069033,
          0.16510981050453408,
          0.3869442053815443,
          0.4215902762798815,
          -0.07194921183538655,
          -0.3143766679149374,
          -0.37514002127870955,
          -0.15053774009502247,
          -0.07840741271497302
         ],
         "y": [
          0.5817774544201242,
          0.3551848546413175,
          0.8863031809138125,
          0.47830589880782765,
          -0.16974404842181565,
          -0.30954726291382223,
          -0.22535606957388873,
          -0.5969240078735553,
          -1
         ]
        }
       ],
       "layout": {
        "margin": {
         "b": 0,
         "l": 0,
         "r": 0,
         "t": 0
        },
        "showlegend": false,
        "template": {
         "data": {
          "bar": [
           {
            "error_x": {
             "color": "#2a3f5f"
            },
            "error_y": {
             "color": "#2a3f5f"
            },
            "marker": {
             "line": {
              "color": "#E5ECF6",
              "width": 0.5
             },
             "pattern": {
              "fillmode": "overlay",
              "size": 10,
              "solidity": 0.2
             }
            },
            "type": "bar"
           }
          ],
          "barpolar": [
           {
            "marker": {
             "line": {
              "color": "#E5ECF6",
              "width": 0.5
             },
             "pattern": {
              "fillmode": "overlay",
              "size": 10,
              "solidity": 0.2
             }
            },
            "type": "barpolar"
           }
          ],
          "carpet": [
           {
            "aaxis": {
             "endlinecolor": "#2a3f5f",
             "gridcolor": "white",
             "linecolor": "white",
             "minorgridcolor": "white",
             "startlinecolor": "#2a3f5f"
            },
            "baxis": {
             "endlinecolor": "#2a3f5f",
             "gridcolor": "white",
             "linecolor": "white",
             "minorgridcolor": "white",
             "startlinecolor": "#2a3f5f"
            },
            "type": "carpet"
           }
          ],
          "choropleth": [
           {
            "colorbar": {
             "outlinewidth": 0,
             "ticks": ""
            },
            "type": "choropleth"
           }
          ],
          "contour": [
           {
            "colorbar": {
             "outlinewidth": 0,
             "ticks": ""
            },
            "colorscale": [
             [
              0,
              "#0d0887"
             ],
             [
              0.1111111111111111,
              "#46039f"
             ],
             [
              0.2222222222222222,
              "#7201a8"
             ],
             [
              0.3333333333333333,
              "#9c179e"
             ],
             [
              0.4444444444444444,
              "#bd3786"
             ],
             [
              0.5555555555555556,
              "#d8576b"
             ],
             [
              0.6666666666666666,
              "#ed7953"
             ],
             [
              0.7777777777777778,
              "#fb9f3a"
             ],
             [
              0.8888888888888888,
              "#fdca26"
             ],
             [
              1,
              "#f0f921"
             ]
            ],
            "type": "contour"
           }
          ],
          "contourcarpet": [
           {
            "colorbar": {
             "outlinewidth": 0,
             "ticks": ""
            },
            "type": "contourcarpet"
           }
          ],
          "heatmap": [
           {
            "colorbar": {
             "outlinewidth": 0,
             "ticks": ""
            },
            "colorscale": [
             [
              0,
              "#0d0887"
             ],
             [
              0.1111111111111111,
              "#46039f"
             ],
             [
              0.2222222222222222,
              "#7201a8"
             ],
             [
              0.3333333333333333,
              "#9c179e"
             ],
             [
              0.4444444444444444,
              "#bd3786"
             ],
             [
              0.5555555555555556,
              "#d8576b"
             ],
             [
              0.6666666666666666,
              "#ed7953"
             ],
             [
              0.7777777777777778,
              "#fb9f3a"
             ],
             [
              0.8888888888888888,
              "#fdca26"
             ],
             [
              1,
              "#f0f921"
             ]
            ],
            "type": "heatmap"
           }
          ],
          "heatmapgl": [
           {
            "colorbar": {
             "outlinewidth": 0,
             "ticks": ""
            },
            "colorscale": [
             [
              0,
              "#0d0887"
             ],
             [
              0.1111111111111111,
              "#46039f"
             ],
             [
              0.2222222222222222,
              "#7201a8"
             ],
             [
              0.3333333333333333,
              "#9c179e"
             ],
             [
              0.4444444444444444,
              "#bd3786"
             ],
             [
              0.5555555555555556,
              "#d8576b"
             ],
             [
              0.6666666666666666,
              "#ed7953"
             ],
             [
              0.7777777777777778,
              "#fb9f3a"
             ],
             [
              0.8888888888888888,
              "#fdca26"
             ],
             [
              1,
              "#f0f921"
             ]
            ],
            "type": "heatmapgl"
           }
          ],
          "histogram": [
           {
            "marker": {
             "pattern": {
              "fillmode": "overlay",
              "size": 10,
              "solidity": 0.2
             }
            },
            "type": "histogram"
           }
          ],
          "histogram2d": [
           {
            "colorbar": {
             "outlinewidth": 0,
             "ticks": ""
            },
            "colorscale": [
             [
              0,
              "#0d0887"
             ],
             [
              0.1111111111111111,
              "#46039f"
             ],
             [
              0.2222222222222222,
              "#7201a8"
             ],
             [
              0.3333333333333333,
              "#9c179e"
             ],
             [
              0.4444444444444444,
              "#bd3786"
             ],
             [
              0.5555555555555556,
              "#d8576b"
             ],
             [
              0.6666666666666666,
              "#ed7953"
             ],
             [
              0.7777777777777778,
              "#fb9f3a"
             ],
             [
              0.8888888888888888,
              "#fdca26"
             ],
             [
              1,
              "#f0f921"
             ]
            ],
            "type": "histogram2d"
           }
          ],
          "histogram2dcontour": [
           {
            "colorbar": {
             "outlinewidth": 0,
             "ticks": ""
            },
            "colorscale": [
             [
              0,
              "#0d0887"
             ],
             [
              0.1111111111111111,
              "#46039f"
             ],
             [
              0.2222222222222222,
              "#7201a8"
             ],
             [
              0.3333333333333333,
              "#9c179e"
             ],
             [
              0.4444444444444444,
              "#bd3786"
             ],
             [
              0.5555555555555556,
              "#d8576b"
             ],
             [
              0.6666666666666666,
              "#ed7953"
             ],
             [
              0.7777777777777778,
              "#fb9f3a"
             ],
             [
              0.8888888888888888,
              "#fdca26"
             ],
             [
              1,
              "#f0f921"
             ]
            ],
            "type": "histogram2dcontour"
           }
          ],
          "mesh3d": [
           {
            "colorbar": {
             "outlinewidth": 0,
             "ticks": ""
            },
            "type": "mesh3d"
           }
          ],
          "parcoords": [
           {
            "line": {
             "colorbar": {
              "outlinewidth": 0,
              "ticks": ""
             }
            },
            "type": "parcoords"
           }
          ],
          "pie": [
           {
            "automargin": true,
            "type": "pie"
           }
          ],
          "scatter": [
           {
            "fillpattern": {
             "fillmode": "overlay",
             "size": 10,
             "solidity": 0.2
            },
            "type": "scatter"
           }
          ],
          "scatter3d": [
           {
            "line": {
             "colorbar": {
              "outlinewidth": 0,
              "ticks": ""
             }
            },
            "marker": {
             "colorbar": {
              "outlinewidth": 0,
              "ticks": ""
             }
            },
            "type": "scatter3d"
           }
          ],
          "scattercarpet": [
           {
            "marker": {
             "colorbar": {
              "outlinewidth": 0,
              "ticks": ""
             }
            },
            "type": "scattercarpet"
           }
          ],
          "scattergeo": [
           {
            "marker": {
             "colorbar": {
              "outlinewidth": 0,
              "ticks": ""
             }
            },
            "type": "scattergeo"
           }
          ],
          "scattergl": [
           {
            "marker": {
             "colorbar": {
              "outlinewidth": 0,
              "ticks": ""
             }
            },
            "type": "scattergl"
           }
          ],
          "scattermapbox": [
           {
            "marker": {
             "colorbar": {
              "outlinewidth": 0,
              "ticks": ""
             }
            },
            "type": "scattermapbox"
           }
          ],
          "scatterpolar": [
           {
            "marker": {
             "colorbar": {
              "outlinewidth": 0,
              "ticks": ""
             }
            },
            "type": "scatterpolar"
           }
          ],
          "scatterpolargl": [
           {
            "marker": {
             "colorbar": {
              "outlinewidth": 0,
              "ticks": ""
             }
            },
            "type": "scatterpolargl"
           }
          ],
          "scatterternary": [
           {
            "marker": {
             "colorbar": {
              "outlinewidth": 0,
              "ticks": ""
             }
            },
            "type": "scatterternary"
           }
          ],
          "surface": [
           {
            "colorbar": {
             "outlinewidth": 0,
             "ticks": ""
            },
            "colorscale": [
             [
              0,
              "#0d0887"
             ],
             [
              0.1111111111111111,
              "#46039f"
             ],
             [
              0.2222222222222222,
              "#7201a8"
             ],
             [
              0.3333333333333333,
              "#9c179e"
             ],
             [
              0.4444444444444444,
              "#bd3786"
             ],
             [
              0.5555555555555556,
              "#d8576b"
             ],
             [
              0.6666666666666666,
              "#ed7953"
             ],
             [
              0.7777777777777778,
              "#fb9f3a"
             ],
             [
              0.8888888888888888,
              "#fdca26"
             ],
             [
              1,
              "#f0f921"
             ]
            ],
            "type": "surface"
           }
          ],
          "table": [
           {
            "cells": {
             "fill": {
              "color": "#EBF0F8"
             },
             "line": {
              "color": "white"
             }
            },
            "header": {
             "fill": {
              "color": "#C8D4E3"
             },
             "line": {
              "color": "white"
             }
            },
            "type": "table"
           }
          ]
         },
         "layout": {
          "annotationdefaults": {
           "arrowcolor": "#2a3f5f",
           "arrowhead": 0,
           "arrowwidth": 1
          },
          "autotypenumbers": "strict",
          "coloraxis": {
           "colorbar": {
            "outlinewidth": 0,
            "ticks": ""
           }
          },
          "colorscale": {
           "diverging": [
            [
             0,
             "#8e0152"
            ],
            [
             0.1,
             "#c51b7d"
            ],
            [
             0.2,
             "#de77ae"
            ],
            [
             0.3,
             "#f1b6da"
            ],
            [
             0.4,
             "#fde0ef"
            ],
            [
             0.5,
             "#f7f7f7"
            ],
            [
             0.6,
             "#e6f5d0"
            ],
            [
             0.7,
             "#b8e186"
            ],
            [
             0.8,
             "#7fbc41"
            ],
            [
             0.9,
             "#4d9221"
            ],
            [
             1,
             "#276419"
            ]
           ],
           "sequential": [
            [
             0,
             "#0d0887"
            ],
            [
             0.1111111111111111,
             "#46039f"
            ],
            [
             0.2222222222222222,
             "#7201a8"
            ],
            [
             0.3333333333333333,
             "#9c179e"
            ],
            [
             0.4444444444444444,
             "#bd3786"
            ],
            [
             0.5555555555555556,
             "#d8576b"
            ],
            [
             0.6666666666666666,
             "#ed7953"
            ],
            [
             0.7777777777777778,
             "#fb9f3a"
            ],
            [
             0.8888888888888888,
             "#fdca26"
            ],
            [
             1,
             "#f0f921"
            ]
           ],
           "sequentialminus": [
            [
             0,
             "#0d0887"
            ],
            [
             0.1111111111111111,
             "#46039f"
            ],
            [
             0.2222222222222222,
             "#7201a8"
            ],
            [
             0.3333333333333333,
             "#9c179e"
            ],
            [
             0.4444444444444444,
             "#bd3786"
            ],
            [
             0.5555555555555556,
             "#d8576b"
            ],
            [
             0.6666666666666666,
             "#ed7953"
            ],
            [
             0.7777777777777778,
             "#fb9f3a"
            ],
            [
             0.8888888888888888,
             "#fdca26"
            ],
            [
             1,
             "#f0f921"
            ]
           ]
          },
          "colorway": [
           "#636efa",
           "#EF553B",
           "#00cc96",
           "#ab63fa",
           "#FFA15A",
           "#19d3f3",
           "#FF6692",
           "#B6E880",
           "#FF97FF",
           "#FECB52"
          ],
          "font": {
           "color": "#2a3f5f"
          },
          "geo": {
           "bgcolor": "white",
           "lakecolor": "white",
           "landcolor": "#E5ECF6",
           "showlakes": true,
           "showland": true,
           "subunitcolor": "white"
          },
          "hoverlabel": {
           "align": "left"
          },
          "hovermode": "closest",
          "mapbox": {
           "style": "light"
          },
          "paper_bgcolor": "white",
          "plot_bgcolor": "#E5ECF6",
          "polar": {
           "angularaxis": {
            "gridcolor": "white",
            "linecolor": "white",
            "ticks": ""
           },
           "bgcolor": "#E5ECF6",
           "radialaxis": {
            "gridcolor": "white",
            "linecolor": "white",
            "ticks": ""
           }
          },
          "scene": {
           "xaxis": {
            "backgroundcolor": "#E5ECF6",
            "gridcolor": "white",
            "gridwidth": 2,
            "linecolor": "white",
            "showbackground": true,
            "ticks": "",
            "zerolinecolor": "white"
           },
           "yaxis": {
            "backgroundcolor": "#E5ECF6",
            "gridcolor": "white",
            "gridwidth": 2,
            "linecolor": "white",
            "showbackground": true,
            "ticks": "",
            "zerolinecolor": "white"
           },
           "zaxis": {
            "backgroundcolor": "#E5ECF6",
            "gridcolor": "white",
            "gridwidth": 2,
            "linecolor": "white",
            "showbackground": true,
            "ticks": "",
            "zerolinecolor": "white"
           }
          },
          "shapedefaults": {
           "line": {
            "color": "#2a3f5f"
           }
          },
          "ternary": {
           "aaxis": {
            "gridcolor": "white",
            "linecolor": "white",
            "ticks": ""
           },
           "baxis": {
            "gridcolor": "white",
            "linecolor": "white",
            "ticks": ""
           },
           "bgcolor": "#E5ECF6",
           "caxis": {
            "gridcolor": "white",
            "linecolor": "white",
            "ticks": ""
           }
          },
          "title": {
           "x": 0.05
          },
          "xaxis": {
           "automargin": true,
           "gridcolor": "white",
           "linecolor": "white",
           "ticks": "",
           "title": {
            "standoff": 15
           },
           "zerolinecolor": "white",
           "zerolinewidth": 2
          },
          "yaxis": {
           "automargin": true,
           "gridcolor": "white",
           "linecolor": "white",
           "ticks": "",
           "title": {
            "standoff": 15
           },
           "zerolinecolor": "white",
           "zerolinewidth": 2
          }
         }
        }
       }
      }
     },
     "metadata": {},
     "output_type": "display_data"
    }
   ],
   "source": [
    "plotly_digraph(G, label='y', topic_dict=topic_dict)"
   ]
  },
  {
   "cell_type": "code",
   "execution_count": null,
   "metadata": {},
   "outputs": [],
   "source": []
  }
 ],
 "metadata": {
  "kernelspec": {
   "display_name": "Python 3",
   "language": "python",
   "name": "python3"
  },
  "language_info": {
   "codemirror_mode": {
    "name": "ipython",
    "version": 3
   },
   "file_extension": ".py",
   "mimetype": "text/x-python",
   "name": "python",
   "nbconvert_exporter": "python",
   "pygments_lexer": "ipython3",
   "version": "3.11.5"
  }
 },
 "nbformat": 4,
 "nbformat_minor": 2
}
