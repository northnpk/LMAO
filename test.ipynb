{
 "cells": [
  {
   "cell_type": "code",
   "execution_count": 1,
   "metadata": {},
   "outputs": [],
   "source": [
    "import lmao\n",
    "from lmao.preprocessing import LMAOPreprocessing"
   ]
  },
  {
   "cell_type": "markdown",
   "metadata": {},
   "source": [
    "# HDFS Preprocessing"
   ]
  },
  {
   "cell_type": "code",
   "execution_count": 2,
   "metadata": {},
   "outputs": [
    {
     "name": "stdout",
     "output_type": "stream",
     "text": [
      "<lmao.preprocessing.LMAOPreprocessing object at 0x127de3490>\n"
     ]
    }
   ],
   "source": [
    "prep = LMAOPreprocessing(data_type='hdfs')"
   ]
  },
  {
   "cell_type": "code",
   "execution_count": 3,
   "metadata": {},
   "outputs": [],
   "source": [
    "# input_dir='/Users/IsRealNPK/LMAO/dataset/HDFS_v1'\n",
    "# output_dir='/Users/IsRealNPK/LMAO/dataset/HDFS_v1/result/'\n",
    "# log_file='HDFS.log'\n",
    "# prep.log_parsing(input_dir=input_dir, output_dir=output_dir,\n",
    "#                  log_file=log_file)"
   ]
  },
  {
   "cell_type": "code",
   "execution_count": 4,
   "metadata": {},
   "outputs": [
    {
     "data": {
      "text/plain": [
       "'/Users/IsRealNPK/LMAO/dataset/HDFS_v1/result/HDFS.log_structured.csv'"
      ]
     },
     "execution_count": 4,
     "metadata": {},
     "output_type": "execute_result"
    }
   ],
   "source": [
    "prep.from_parsed_csv('/Users/IsRealNPK/LMAO/dataset/HDFS_v1/result/HDFS.log_structured.csv')"
   ]
  },
  {
   "cell_type": "code",
   "execution_count": 5,
   "metadata": {},
   "outputs": [
    {
     "name": "stdout",
     "output_type": "stream",
     "text": [
      "Preprocessing to LMAO format with label from hdfs\n",
      "Path :/Users/IsRealNPK/LMAO/dataset/HDFS_v1/preprocessed/anomaly_label.csv\n",
      "literal_eval process...\n"
     ]
    },
    {
     "data": {
      "application/vnd.jupyter.widget-view+json": {
       "model_id": "633394be2d8c459fa18dedf40d6a23f9",
       "version_major": 2,
       "version_minor": 0
      },
      "text/plain": [
       "  0%|          | 0/11175629 [00:00<?, ?it/s]"
      ]
     },
     "metadata": {},
     "output_type": "display_data"
    },
    {
     "name": "stdout",
     "output_type": "stream",
     "text": [
      "Getting BlockId process...\n"
     ]
    },
    {
     "data": {
      "application/vnd.jupyter.widget-view+json": {
       "model_id": "2dcd350c5a9341c39db5bc84fbc0595f",
       "version_major": 2,
       "version_minor": 0
      },
      "text/plain": [
       "  0%|          | 0/11175629 [00:00<?, ?it/s]"
      ]
     },
     "metadata": {},
     "output_type": "display_data"
    },
    {
     "name": "stdout",
     "output_type": "stream",
     "text": [
      "Join the dataframe with labels\n",
      "Returning dataframe\n",
      "Done\n"
     ]
    }
   ],
   "source": [
    "prep.prep_data(label_path='/Users/IsRealNPK/LMAO/dataset/HDFS_v1/preprocessed/anomaly_label.csv')"
   ]
  },
  {
   "cell_type": "code",
   "execution_count": 6,
   "metadata": {},
   "outputs": [
    {
     "data": {
      "text/html": [
       "<div>\n",
       "<style scoped>\n",
       "    .dataframe tbody tr th:only-of-type {\n",
       "        vertical-align: middle;\n",
       "    }\n",
       "\n",
       "    .dataframe tbody tr th {\n",
       "        vertical-align: top;\n",
       "    }\n",
       "\n",
       "    .dataframe thead th {\n",
       "        text-align: right;\n",
       "    }\n",
       "</style>\n",
       "<table border=\"1\" class=\"dataframe\">\n",
       "  <thead>\n",
       "    <tr style=\"text-align: right;\">\n",
       "      <th></th>\n",
       "      <th>session_id</th>\n",
       "      <th>severity</th>\n",
       "      <th>content</th>\n",
       "      <th>event_id</th>\n",
       "      <th>event_template</th>\n",
       "      <th>label</th>\n",
       "    </tr>\n",
       "  </thead>\n",
       "  <tbody>\n",
       "    <tr>\n",
       "      <th>0</th>\n",
       "      <td>blk_-1608999687919862906</td>\n",
       "      <td>INFO</td>\n",
       "      <td>Receiving block blk_-1608999687919862906 src: ...</td>\n",
       "      <td>09a53393</td>\n",
       "      <td>Receiving block &lt;*&gt; src: &lt;*&gt; dest: &lt;*&gt;</td>\n",
       "      <td>Normal</td>\n",
       "    </tr>\n",
       "    <tr>\n",
       "      <th>2</th>\n",
       "      <td>blk_-1608999687919862906</td>\n",
       "      <td>INFO</td>\n",
       "      <td>Receiving block blk_-1608999687919862906 src: ...</td>\n",
       "      <td>09a53393</td>\n",
       "      <td>Receiving block &lt;*&gt; src: &lt;*&gt; dest: &lt;*&gt;</td>\n",
       "      <td>Normal</td>\n",
       "    </tr>\n",
       "    <tr>\n",
       "      <th>3</th>\n",
       "      <td>blk_-1608999687919862906</td>\n",
       "      <td>INFO</td>\n",
       "      <td>Receiving block blk_-1608999687919862906 src: ...</td>\n",
       "      <td>09a53393</td>\n",
       "      <td>Receiving block &lt;*&gt; src: &lt;*&gt; dest: &lt;*&gt;</td>\n",
       "      <td>Normal</td>\n",
       "    </tr>\n",
       "    <tr>\n",
       "      <th>4</th>\n",
       "      <td>blk_-1608999687919862906</td>\n",
       "      <td>INFO</td>\n",
       "      <td>PacketResponder 1 for block blk_-1608999687919...</td>\n",
       "      <td>d38aa58d</td>\n",
       "      <td>PacketResponder &lt;*&gt; for block &lt;*&gt; &lt;*&gt;</td>\n",
       "      <td>Normal</td>\n",
       "    </tr>\n",
       "    <tr>\n",
       "      <th>5</th>\n",
       "      <td>blk_-1608999687919862906</td>\n",
       "      <td>INFO</td>\n",
       "      <td>PacketResponder 2 for block blk_-1608999687919...</td>\n",
       "      <td>d38aa58d</td>\n",
       "      <td>PacketResponder &lt;*&gt; for block &lt;*&gt; &lt;*&gt;</td>\n",
       "      <td>Normal</td>\n",
       "    </tr>\n",
       "    <tr>\n",
       "      <th>...</th>\n",
       "      <td>...</td>\n",
       "      <td>...</td>\n",
       "      <td>...</td>\n",
       "      <td>...</td>\n",
       "      <td>...</td>\n",
       "      <td>...</td>\n",
       "    </tr>\n",
       "    <tr>\n",
       "      <th>11175624</th>\n",
       "      <td>blk_-6171368032583208892</td>\n",
       "      <td>INFO</td>\n",
       "      <td>Verification succeeded for blk_-61713680325832...</td>\n",
       "      <td>32777b38</td>\n",
       "      <td>Verification succeeded for &lt;*&gt;</td>\n",
       "      <td>Normal</td>\n",
       "    </tr>\n",
       "    <tr>\n",
       "      <th>11175625</th>\n",
       "      <td>blk_6195025276114316035</td>\n",
       "      <td>INFO</td>\n",
       "      <td>Verification succeeded for blk_619502527611431...</td>\n",
       "      <td>32777b38</td>\n",
       "      <td>Verification succeeded for &lt;*&gt;</td>\n",
       "      <td>Normal</td>\n",
       "    </tr>\n",
       "    <tr>\n",
       "      <th>11175626</th>\n",
       "      <td>blk_-3339773404714332088</td>\n",
       "      <td>INFO</td>\n",
       "      <td>Verification succeeded for blk_-33397734047143...</td>\n",
       "      <td>32777b38</td>\n",
       "      <td>Verification succeeded for &lt;*&gt;</td>\n",
       "      <td>Normal</td>\n",
       "    </tr>\n",
       "    <tr>\n",
       "      <th>11175627</th>\n",
       "      <td>blk_1037231945509285002</td>\n",
       "      <td>INFO</td>\n",
       "      <td>Verification succeeded for blk_103723194550928...</td>\n",
       "      <td>32777b38</td>\n",
       "      <td>Verification succeeded for &lt;*&gt;</td>\n",
       "      <td>Normal</td>\n",
       "    </tr>\n",
       "    <tr>\n",
       "      <th>11175628</th>\n",
       "      <td>blk_4258862871822415442</td>\n",
       "      <td>INFO</td>\n",
       "      <td>Verification succeeded for blk_425886287182241...</td>\n",
       "      <td>32777b38</td>\n",
       "      <td>Verification succeeded for &lt;*&gt;</td>\n",
       "      <td>Normal</td>\n",
       "    </tr>\n",
       "  </tbody>\n",
       "</table>\n",
       "<p>10600568 rows × 6 columns</p>\n",
       "</div>"
      ],
      "text/plain": [
       "                        session_id severity  \\\n",
       "0         blk_-1608999687919862906     INFO   \n",
       "2         blk_-1608999687919862906     INFO   \n",
       "3         blk_-1608999687919862906     INFO   \n",
       "4         blk_-1608999687919862906     INFO   \n",
       "5         blk_-1608999687919862906     INFO   \n",
       "...                            ...      ...   \n",
       "11175624  blk_-6171368032583208892     INFO   \n",
       "11175625   blk_6195025276114316035     INFO   \n",
       "11175626  blk_-3339773404714332088     INFO   \n",
       "11175627   blk_1037231945509285002     INFO   \n",
       "11175628   blk_4258862871822415442     INFO   \n",
       "\n",
       "                                                    content  event_id  \\\n",
       "0         Receiving block blk_-1608999687919862906 src: ...  09a53393   \n",
       "2         Receiving block blk_-1608999687919862906 src: ...  09a53393   \n",
       "3         Receiving block blk_-1608999687919862906 src: ...  09a53393   \n",
       "4         PacketResponder 1 for block blk_-1608999687919...  d38aa58d   \n",
       "5         PacketResponder 2 for block blk_-1608999687919...  d38aa58d   \n",
       "...                                                     ...       ...   \n",
       "11175624  Verification succeeded for blk_-61713680325832...  32777b38   \n",
       "11175625  Verification succeeded for blk_619502527611431...  32777b38   \n",
       "11175626  Verification succeeded for blk_-33397734047143...  32777b38   \n",
       "11175627  Verification succeeded for blk_103723194550928...  32777b38   \n",
       "11175628  Verification succeeded for blk_425886287182241...  32777b38   \n",
       "\n",
       "                                  event_template   label  \n",
       "0         Receiving block <*> src: <*> dest: <*>  Normal  \n",
       "2         Receiving block <*> src: <*> dest: <*>  Normal  \n",
       "3         Receiving block <*> src: <*> dest: <*>  Normal  \n",
       "4          PacketResponder <*> for block <*> <*>  Normal  \n",
       "5          PacketResponder <*> for block <*> <*>  Normal  \n",
       "...                                          ...     ...  \n",
       "11175624          Verification succeeded for <*>  Normal  \n",
       "11175625          Verification succeeded for <*>  Normal  \n",
       "11175626          Verification succeeded for <*>  Normal  \n",
       "11175627          Verification succeeded for <*>  Normal  \n",
       "11175628          Verification succeeded for <*>  Normal  \n",
       "\n",
       "[10600568 rows x 6 columns]"
      ]
     },
     "execution_count": 6,
     "metadata": {},
     "output_type": "execute_result"
    }
   ],
   "source": [
    "prep.df"
   ]
  },
  {
   "cell_type": "code",
   "execution_count": 7,
   "metadata": {},
   "outputs": [
    {
     "name": "stdout",
     "output_type": "stream",
     "text": [
      "Saving to .parquet.gzip file\n"
     ]
    }
   ],
   "source": [
    "prep.to_parquet('/Users/IsRealNPK/LMAO/dataset/HDFS_v1/HDFS_with_label')"
   ]
  },
  {
   "cell_type": "markdown",
   "metadata": {},
   "source": [
    "# ALICE Infologger Preprocessing"
   ]
  },
  {
   "cell_type": "code",
   "execution_count": 2,
   "metadata": {},
   "outputs": [
    {
     "name": "stdout",
     "output_type": "stream",
     "text": [
      "<lmao.preprocessing.LMAOPreprocessing object at 0x143d3f850>\n"
     ]
    }
   ],
   "source": [
    "prep = LMAOPreprocessing(data_type='alice_info')"
   ]
  },
  {
   "cell_type": "code",
   "execution_count": 3,
   "metadata": {},
   "outputs": [
    {
     "data": {
      "text/plain": [
       "'/Users/IsRealNPK/LMAO/dataset/ALICE-OSLdataset/phob_test_20220312_sample_struct_no_new15.csv'"
      ]
     },
     "execution_count": 3,
     "metadata": {},
     "output_type": "execute_result"
    }
   ],
   "source": [
    "prep.from_parsed_csv(csv_path='/Users/IsRealNPK/LMAO/dataset/ALICE-OSLdataset/phob_test_20220312_sample_struct_no_new15.csv')"
   ]
  },
  {
   "cell_type": "code",
   "execution_count": 4,
   "metadata": {},
   "outputs": [
    {
     "name": "stdout",
     "output_type": "stream",
     "text": [
      "Preprocessing to LMAO format with label from alice_info\n",
      "Path :/Users/IsRealNPK/LMAO/dataset/OneDrive_1_2-5-2024/runs.csv\n"
     ]
    },
    {
     "name": "stderr",
     "output_type": "stream",
     "text": [
      "/Users/IsRealNPK/LMAO/lmao/preprocessing/alice_info.py:65: DtypeWarning: Columns (27,28,36) have mixed types. Specify dtype option on import or set low_memory=False.\n",
      "  run_df = pd.read_csv(label_path)\n"
     ]
    },
    {
     "name": "stdout",
     "output_type": "stream",
     "text": [
      "Stating map RunID from label file\n"
     ]
    },
    {
     "data": {
      "application/vnd.jupyter.widget-view+json": {
       "model_id": "2cab02dfd4a44ba58144e18aaed52248",
       "version_major": 2,
       "version_minor": 0
      },
      "text/plain": [
       "  0%|          | 0/23177 [00:00<?, ?it/s]"
      ]
     },
     "metadata": {},
     "output_type": "display_data"
    },
    {
     "name": "stdout",
     "output_type": "stream",
     "text": [
      "Stating map EOR from EOR file\n"
     ]
    },
    {
     "data": {
      "application/vnd.jupyter.widget-view+json": {
       "model_id": "980711eae6d74c2089a63b58637e0f46",
       "version_major": 2,
       "version_minor": 0
      },
      "text/plain": [
       "  0%|          | 0/2831 [00:00<?, ?it/s]"
      ]
     },
     "metadata": {},
     "output_type": "display_data"
    },
    {
     "name": "stdout",
     "output_type": "stream",
     "text": [
      "Drop all severity D\n",
      "Normalize EOR\n"
     ]
    },
    {
     "data": {
      "application/vnd.jupyter.widget-view+json": {
       "model_id": "f991daf06e3043c0bc021db29800a574",
       "version_major": 2,
       "version_minor": 0
      },
      "text/plain": [
       "  0%|          | 0/9712742 [00:00<?, ?it/s]"
      ]
     },
     "metadata": {},
     "output_type": "display_data"
    },
    {
     "name": "stdout",
     "output_type": "stream",
     "text": [
      "Getting Crashed from EOR\n",
      "Returning dataframe\n",
      "Done\n"
     ]
    }
   ],
   "source": [
    "prep.prep_data(label_path='/Users/IsRealNPK/LMAO/dataset/OneDrive_1_2-5-2024/runs.csv',\n",
    "               eor_path='/Users/IsRealNPK/LMAO/dataset/OneDrive_1_2-5-2024/eor_reasons.csv')"
   ]
  },
  {
   "cell_type": "code",
   "execution_count": 63,
   "metadata": {},
   "outputs": [
    {
     "data": {
      "text/html": [
       "<div>\n",
       "<style scoped>\n",
       "    .dataframe tbody tr th:only-of-type {\n",
       "        vertical-align: middle;\n",
       "    }\n",
       "\n",
       "    .dataframe tbody tr th {\n",
       "        vertical-align: top;\n",
       "    }\n",
       "\n",
       "    .dataframe thead th {\n",
       "        text-align: right;\n",
       "    }\n",
       "</style>\n",
       "<table border=\"1\" class=\"dataframe\">\n",
       "  <thead>\n",
       "    <tr style=\"text-align: right;\">\n",
       "      <th></th>\n",
       "      <th>session_id</th>\n",
       "      <th>severity</th>\n",
       "      <th>content</th>\n",
       "      <th>event_id</th>\n",
       "      <th>event_template</th>\n",
       "      <th>label</th>\n",
       "      <th>EOR</th>\n",
       "      <th>EOR_id</th>\n",
       "      <th>run_quality</th>\n",
       "    </tr>\n",
       "  </thead>\n",
       "  <tbody>\n",
       "    <tr>\n",
       "      <th>134071</th>\n",
       "      <td>24064</td>\n",
       "      <td>I</td>\n",
       "      <td>writing 1 messages to aliecs.before_start_acti...</td>\n",
       "      <td>2</td>\n",
       "      <td>writing &lt;*&gt; messages to &lt;*&gt; (partition:&lt;*&gt;</td>\n",
       "      <td>not crashed</td>\n",
       "      <td>eor test.</td>\n",
       "      <td>61.0</td>\n",
       "      <td>test</td>\n",
       "    </tr>\n",
       "    <tr>\n",
       "      <th>134080</th>\n",
       "      <td>24064</td>\n",
       "      <td>I</td>\n",
       "      <td>overriding run start time in the GRP object to...</td>\n",
       "      <td>378</td>\n",
       "      <td>overriding run start time in the GRP object to...</td>\n",
       "      <td>not crashed</td>\n",
       "      <td>eor test.</td>\n",
       "      <td>61.0</td>\n",
       "      <td>test</td>\n",
       "    </tr>\n",
       "    <tr>\n",
       "      <th>134094</th>\n",
       "      <td>24064</td>\n",
       "      <td>I</td>\n",
       "      <td>writing 1 messages to aliecs.env_leave_state.C...</td>\n",
       "      <td>2</td>\n",
       "      <td>writing &lt;*&gt; messages to &lt;*&gt; (partition:&lt;*&gt;</td>\n",
       "      <td>not crashed</td>\n",
       "      <td>eor test.</td>\n",
       "      <td>61.0</td>\n",
       "      <td>test</td>\n",
       "    </tr>\n",
       "    <tr>\n",
       "      <th>134098</th>\n",
       "      <td>24064</td>\n",
       "      <td>I</td>\n",
       "      <td>starting new run</td>\n",
       "      <td>383</td>\n",
       "      <td>starting new run</td>\n",
       "      <td>not crashed</td>\n",
       "      <td>eor test.</td>\n",
       "      <td>61.0</td>\n",
       "      <td>test</td>\n",
       "    </tr>\n",
       "    <tr>\n",
       "      <th>135408</th>\n",
       "      <td>24064</td>\n",
       "      <td>I</td>\n",
       "      <td>Run number 526264</td>\n",
       "      <td>384</td>\n",
       "      <td>Run number &lt;*&gt;</td>\n",
       "      <td>not crashed</td>\n",
       "      <td>eor test.</td>\n",
       "      <td>61.0</td>\n",
       "      <td>test</td>\n",
       "    </tr>\n",
       "    <tr>\n",
       "      <th>...</th>\n",
       "      <td>...</td>\n",
       "      <td>...</td>\n",
       "      <td>...</td>\n",
       "      <td>...</td>\n",
       "      <td>...</td>\n",
       "      <td>...</td>\n",
       "      <td>...</td>\n",
       "      <td>...</td>\n",
       "      <td>...</td>\n",
       "    </tr>\n",
       "    <tr>\n",
       "      <th>34856755</th>\n",
       "      <td>24356</td>\n",
       "      <td>W</td>\n",
       "      <td>Non-contiguous timeframe IDs 187572 ... 187574</td>\n",
       "      <td>723</td>\n",
       "      <td>Non-contiguous timeframe IDs &lt;*&gt; ... &lt;*&gt;</td>\n",
       "      <td>crashed</td>\n",
       "      <td>triggers out synch. disabling ctp readout.</td>\n",
       "      <td>59.0</td>\n",
       "      <td>bad</td>\n",
       "    </tr>\n",
       "    <tr>\n",
       "      <th>34856756</th>\n",
       "      <td>24356</td>\n",
       "      <td>W</td>\n",
       "      <td>Non-contiguous timeframe IDs 187572 ... 187574</td>\n",
       "      <td>723</td>\n",
       "      <td>Non-contiguous timeframe IDs &lt;*&gt; ... &lt;*&gt;</td>\n",
       "      <td>crashed</td>\n",
       "      <td>triggers out synch. disabling ctp readout.</td>\n",
       "      <td>59.0</td>\n",
       "      <td>bad</td>\n",
       "    </tr>\n",
       "    <tr>\n",
       "      <th>34856757</th>\n",
       "      <td>24356</td>\n",
       "      <td>W</td>\n",
       "      <td>Non-contiguous timeframe IDs 187572 ... 187574</td>\n",
       "      <td>723</td>\n",
       "      <td>Non-contiguous timeframe IDs &lt;*&gt; ... &lt;*&gt;</td>\n",
       "      <td>crashed</td>\n",
       "      <td>triggers out synch. disabling ctp readout.</td>\n",
       "      <td>59.0</td>\n",
       "      <td>bad</td>\n",
       "    </tr>\n",
       "    <tr>\n",
       "      <th>34856758</th>\n",
       "      <td>24356</td>\n",
       "      <td>W</td>\n",
       "      <td>Gap in timeframe ids detected: previous= 18757...</td>\n",
       "      <td>724</td>\n",
       "      <td>Gap in timeframe ids &lt;*&gt;</td>\n",
       "      <td>crashed</td>\n",
       "      <td>triggers out synch. disabling ctp readout.</td>\n",
       "      <td>59.0</td>\n",
       "      <td>bad</td>\n",
       "    </tr>\n",
       "    <tr>\n",
       "      <th>34856759</th>\n",
       "      <td>24356</td>\n",
       "      <td>W</td>\n",
       "      <td>Gap in timeframe ids detected: previous= 18757...</td>\n",
       "      <td>724</td>\n",
       "      <td>Gap in timeframe ids &lt;*&gt;</td>\n",
       "      <td>crashed</td>\n",
       "      <td>triggers out synch. disabling ctp readout.</td>\n",
       "      <td>59.0</td>\n",
       "      <td>bad</td>\n",
       "    </tr>\n",
       "  </tbody>\n",
       "</table>\n",
       "<p>5487627 rows × 9 columns</p>\n",
       "</div>"
      ],
      "text/plain": [
       "          session_id severity  \\\n",
       "134071         24064        I   \n",
       "134080         24064        I   \n",
       "134094         24064        I   \n",
       "134098         24064        I   \n",
       "135408         24064        I   \n",
       "...              ...      ...   \n",
       "34856755       24356        W   \n",
       "34856756       24356        W   \n",
       "34856757       24356        W   \n",
       "34856758       24356        W   \n",
       "34856759       24356        W   \n",
       "\n",
       "                                                    content  event_id  \\\n",
       "134071    writing 1 messages to aliecs.before_start_acti...         2   \n",
       "134080    overriding run start time in the GRP object to...       378   \n",
       "134094    writing 1 messages to aliecs.env_leave_state.C...         2   \n",
       "134098                                     starting new run       383   \n",
       "135408                                    Run number 526264       384   \n",
       "...                                                     ...       ...   \n",
       "34856755     Non-contiguous timeframe IDs 187572 ... 187574       723   \n",
       "34856756     Non-contiguous timeframe IDs 187572 ... 187574       723   \n",
       "34856757     Non-contiguous timeframe IDs 187572 ... 187574       723   \n",
       "34856758  Gap in timeframe ids detected: previous= 18757...       724   \n",
       "34856759  Gap in timeframe ids detected: previous= 18757...       724   \n",
       "\n",
       "                                             event_template        label  \\\n",
       "134071           writing <*> messages to <*> (partition:<*>  not crashed   \n",
       "134080    overriding run start time in the GRP object to...  not crashed   \n",
       "134094           writing <*> messages to <*> (partition:<*>  not crashed   \n",
       "134098                                     starting new run  not crashed   \n",
       "135408                                       Run number <*>  not crashed   \n",
       "...                                                     ...          ...   \n",
       "34856755           Non-contiguous timeframe IDs <*> ... <*>      crashed   \n",
       "34856756           Non-contiguous timeframe IDs <*> ... <*>      crashed   \n",
       "34856757           Non-contiguous timeframe IDs <*> ... <*>      crashed   \n",
       "34856758                           Gap in timeframe ids <*>      crashed   \n",
       "34856759                           Gap in timeframe ids <*>      crashed   \n",
       "\n",
       "                                                 EOR  EOR_id run_quality  \n",
       "134071                                     eor test.    61.0        test  \n",
       "134080                                     eor test.    61.0        test  \n",
       "134094                                     eor test.    61.0        test  \n",
       "134098                                     eor test.    61.0        test  \n",
       "135408                                     eor test.    61.0        test  \n",
       "...                                              ...     ...         ...  \n",
       "34856755  triggers out synch. disabling ctp readout.    59.0         bad  \n",
       "34856756  triggers out synch. disabling ctp readout.    59.0         bad  \n",
       "34856757  triggers out synch. disabling ctp readout.    59.0         bad  \n",
       "34856758  triggers out synch. disabling ctp readout.    59.0         bad  \n",
       "34856759  triggers out synch. disabling ctp readout.    59.0         bad  \n",
       "\n",
       "[5487627 rows x 9 columns]"
      ]
     },
     "execution_count": 63,
     "metadata": {},
     "output_type": "execute_result"
    }
   ],
   "source": [
    "prep.df"
   ]
  },
  {
   "cell_type": "code",
   "execution_count": 66,
   "metadata": {},
   "outputs": [],
   "source": [
    "prep.df.to_parquet('/Users/IsRealNPK/LMAO/dataset/ALICE-OSLdataset/ALICE_info_no_severity_D_with_label.parquet.gzip', compression='gzip')"
   ]
  },
  {
   "cell_type": "markdown",
   "metadata": {},
   "source": [
    "# LMAO Topic"
   ]
  },
  {
   "cell_type": "code",
   "execution_count": 2,
   "metadata": {},
   "outputs": [],
   "source": [
    "from lmao._utils import *"
   ]
  },
  {
   "cell_type": "code",
   "execution_count": 3,
   "metadata": {},
   "outputs": [],
   "source": [
    "df = pd.read_parquet('/Users/IsRealNPK/LMAO/dataset/ALICE-OSLdataset/ALICE_info_no_severity_D_with_label.parquet.gzip')"
   ]
  },
  {
   "cell_type": "code",
   "execution_count": null,
   "metadata": {},
   "outputs": [],
   "source": [
    "from lmao.topicmodel import LMAOTopic\n",
    "topic_model = LMAOTopic()\n",
    "topic_model.training_model(df=df)"
   ]
  },
  {
   "cell_type": "code",
   "execution_count": null,
   "metadata": {},
   "outputs": [],
   "source": []
  }
 ],
 "metadata": {
  "kernelspec": {
   "display_name": "Python 3",
   "language": "python",
   "name": "python3"
  },
  "language_info": {
   "codemirror_mode": {
    "name": "ipython",
    "version": 3
   },
   "file_extension": ".py",
   "mimetype": "text/x-python",
   "name": "python",
   "nbconvert_exporter": "python",
   "pygments_lexer": "ipython3",
   "version": "3.11.5"
  }
 },
 "nbformat": 4,
 "nbformat_minor": 2
}
