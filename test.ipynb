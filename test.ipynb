{
 "cells": [
  {
   "cell_type": "code",
   "execution_count": 1,
   "metadata": {},
   "outputs": [],
   "source": [
    "from lmao._utils import *"
   ]
  },
  {
   "cell_type": "code",
   "execution_count": 2,
   "metadata": {},
   "outputs": [],
   "source": [
    "import lmao\n",
    "from lmao.preprocessing import LMAOPreprocessing"
   ]
  },
  {
   "cell_type": "markdown",
   "metadata": {},
   "source": [
    "# HDFS Preprocessing"
   ]
  },
  {
   "cell_type": "code",
   "execution_count": 2,
   "metadata": {},
   "outputs": [
    {
     "name": "stdout",
     "output_type": "stream",
     "text": [
      "<lmao.preprocessing.LMAOPreprocessing object at 0x127de3490>\n"
     ]
    }
   ],
   "source": [
    "prep = LMAOPreprocessing(data_type='hdfs')"
   ]
  },
  {
   "cell_type": "code",
   "execution_count": 3,
   "metadata": {},
   "outputs": [],
   "source": [
    "# input_dir='/Users/IsRealNPK/LMAO/dataset/HDFS_v1'\n",
    "# output_dir='/Users/IsRealNPK/LMAO/dataset/HDFS_v1/result/'\n",
    "# log_file='HDFS.log'\n",
    "# prep.log_parsing(input_dir=input_dir, output_dir=output_dir,\n",
    "#                  log_file=log_file)"
   ]
  },
  {
   "cell_type": "code",
   "execution_count": 4,
   "metadata": {},
   "outputs": [
    {
     "data": {
      "text/plain": [
       "'/Users/IsRealNPK/LMAO/dataset/HDFS_v1/result/HDFS.log_structured.csv'"
      ]
     },
     "execution_count": 4,
     "metadata": {},
     "output_type": "execute_result"
    }
   ],
   "source": [
    "prep.from_parsed_csv('/Users/IsRealNPK/LMAO/dataset/HDFS_v1/result/HDFS.log_structured.csv')"
   ]
  },
  {
   "cell_type": "code",
   "execution_count": 5,
   "metadata": {},
   "outputs": [
    {
     "name": "stdout",
     "output_type": "stream",
     "text": [
      "Preprocessing to LMAO format with label from hdfs\n",
      "Path :/Users/IsRealNPK/LMAO/dataset/HDFS_v1/preprocessed/anomaly_label.csv\n",
      "literal_eval process...\n"
     ]
    },
    {
     "data": {
      "application/vnd.jupyter.widget-view+json": {
       "model_id": "633394be2d8c459fa18dedf40d6a23f9",
       "version_major": 2,
       "version_minor": 0
      },
      "text/plain": [
       "  0%|          | 0/11175629 [00:00<?, ?it/s]"
      ]
     },
     "metadata": {},
     "output_type": "display_data"
    },
    {
     "name": "stdout",
     "output_type": "stream",
     "text": [
      "Getting BlockId process...\n"
     ]
    },
    {
     "data": {
      "application/vnd.jupyter.widget-view+json": {
       "model_id": "2dcd350c5a9341c39db5bc84fbc0595f",
       "version_major": 2,
       "version_minor": 0
      },
      "text/plain": [
       "  0%|          | 0/11175629 [00:00<?, ?it/s]"
      ]
     },
     "metadata": {},
     "output_type": "display_data"
    },
    {
     "name": "stdout",
     "output_type": "stream",
     "text": [
      "Join the dataframe with labels\n",
      "Returning dataframe\n",
      "Done\n"
     ]
    }
   ],
   "source": [
    "prep.prep_data(label_path='/Users/IsRealNPK/LMAO/dataset/HDFS_v1/preprocessed/anomaly_label.csv')"
   ]
  },
  {
   "cell_type": "code",
   "execution_count": 6,
   "metadata": {},
   "outputs": [
    {
     "data": {
      "text/html": [
       "<div>\n",
       "<style scoped>\n",
       "    .dataframe tbody tr th:only-of-type {\n",
       "        vertical-align: middle;\n",
       "    }\n",
       "\n",
       "    .dataframe tbody tr th {\n",
       "        vertical-align: top;\n",
       "    }\n",
       "\n",
       "    .dataframe thead th {\n",
       "        text-align: right;\n",
       "    }\n",
       "</style>\n",
       "<table border=\"1\" class=\"dataframe\">\n",
       "  <thead>\n",
       "    <tr style=\"text-align: right;\">\n",
       "      <th></th>\n",
       "      <th>session_id</th>\n",
       "      <th>severity</th>\n",
       "      <th>content</th>\n",
       "      <th>event_id</th>\n",
       "      <th>event_template</th>\n",
       "      <th>label</th>\n",
       "    </tr>\n",
       "  </thead>\n",
       "  <tbody>\n",
       "    <tr>\n",
       "      <th>0</th>\n",
       "      <td>blk_-1608999687919862906</td>\n",
       "      <td>INFO</td>\n",
       "      <td>Receiving block blk_-1608999687919862906 src: ...</td>\n",
       "      <td>09a53393</td>\n",
       "      <td>Receiving block &lt;*&gt; src: &lt;*&gt; dest: &lt;*&gt;</td>\n",
       "      <td>Normal</td>\n",
       "    </tr>\n",
       "    <tr>\n",
       "      <th>2</th>\n",
       "      <td>blk_-1608999687919862906</td>\n",
       "      <td>INFO</td>\n",
       "      <td>Receiving block blk_-1608999687919862906 src: ...</td>\n",
       "      <td>09a53393</td>\n",
       "      <td>Receiving block &lt;*&gt; src: &lt;*&gt; dest: &lt;*&gt;</td>\n",
       "      <td>Normal</td>\n",
       "    </tr>\n",
       "    <tr>\n",
       "      <th>3</th>\n",
       "      <td>blk_-1608999687919862906</td>\n",
       "      <td>INFO</td>\n",
       "      <td>Receiving block blk_-1608999687919862906 src: ...</td>\n",
       "      <td>09a53393</td>\n",
       "      <td>Receiving block &lt;*&gt; src: &lt;*&gt; dest: &lt;*&gt;</td>\n",
       "      <td>Normal</td>\n",
       "    </tr>\n",
       "    <tr>\n",
       "      <th>4</th>\n",
       "      <td>blk_-1608999687919862906</td>\n",
       "      <td>INFO</td>\n",
       "      <td>PacketResponder 1 for block blk_-1608999687919...</td>\n",
       "      <td>d38aa58d</td>\n",
       "      <td>PacketResponder &lt;*&gt; for block &lt;*&gt; &lt;*&gt;</td>\n",
       "      <td>Normal</td>\n",
       "    </tr>\n",
       "    <tr>\n",
       "      <th>5</th>\n",
       "      <td>blk_-1608999687919862906</td>\n",
       "      <td>INFO</td>\n",
       "      <td>PacketResponder 2 for block blk_-1608999687919...</td>\n",
       "      <td>d38aa58d</td>\n",
       "      <td>PacketResponder &lt;*&gt; for block &lt;*&gt; &lt;*&gt;</td>\n",
       "      <td>Normal</td>\n",
       "    </tr>\n",
       "    <tr>\n",
       "      <th>...</th>\n",
       "      <td>...</td>\n",
       "      <td>...</td>\n",
       "      <td>...</td>\n",
       "      <td>...</td>\n",
       "      <td>...</td>\n",
       "      <td>...</td>\n",
       "    </tr>\n",
       "    <tr>\n",
       "      <th>11175624</th>\n",
       "      <td>blk_-6171368032583208892</td>\n",
       "      <td>INFO</td>\n",
       "      <td>Verification succeeded for blk_-61713680325832...</td>\n",
       "      <td>32777b38</td>\n",
       "      <td>Verification succeeded for &lt;*&gt;</td>\n",
       "      <td>Normal</td>\n",
       "    </tr>\n",
       "    <tr>\n",
       "      <th>11175625</th>\n",
       "      <td>blk_6195025276114316035</td>\n",
       "      <td>INFO</td>\n",
       "      <td>Verification succeeded for blk_619502527611431...</td>\n",
       "      <td>32777b38</td>\n",
       "      <td>Verification succeeded for &lt;*&gt;</td>\n",
       "      <td>Normal</td>\n",
       "    </tr>\n",
       "    <tr>\n",
       "      <th>11175626</th>\n",
       "      <td>blk_-3339773404714332088</td>\n",
       "      <td>INFO</td>\n",
       "      <td>Verification succeeded for blk_-33397734047143...</td>\n",
       "      <td>32777b38</td>\n",
       "      <td>Verification succeeded for &lt;*&gt;</td>\n",
       "      <td>Normal</td>\n",
       "    </tr>\n",
       "    <tr>\n",
       "      <th>11175627</th>\n",
       "      <td>blk_1037231945509285002</td>\n",
       "      <td>INFO</td>\n",
       "      <td>Verification succeeded for blk_103723194550928...</td>\n",
       "      <td>32777b38</td>\n",
       "      <td>Verification succeeded for &lt;*&gt;</td>\n",
       "      <td>Normal</td>\n",
       "    </tr>\n",
       "    <tr>\n",
       "      <th>11175628</th>\n",
       "      <td>blk_4258862871822415442</td>\n",
       "      <td>INFO</td>\n",
       "      <td>Verification succeeded for blk_425886287182241...</td>\n",
       "      <td>32777b38</td>\n",
       "      <td>Verification succeeded for &lt;*&gt;</td>\n",
       "      <td>Normal</td>\n",
       "    </tr>\n",
       "  </tbody>\n",
       "</table>\n",
       "<p>10600568 rows × 6 columns</p>\n",
       "</div>"
      ],
      "text/plain": [
       "                        session_id severity  \\\n",
       "0         blk_-1608999687919862906     INFO   \n",
       "2         blk_-1608999687919862906     INFO   \n",
       "3         blk_-1608999687919862906     INFO   \n",
       "4         blk_-1608999687919862906     INFO   \n",
       "5         blk_-1608999687919862906     INFO   \n",
       "...                            ...      ...   \n",
       "11175624  blk_-6171368032583208892     INFO   \n",
       "11175625   blk_6195025276114316035     INFO   \n",
       "11175626  blk_-3339773404714332088     INFO   \n",
       "11175627   blk_1037231945509285002     INFO   \n",
       "11175628   blk_4258862871822415442     INFO   \n",
       "\n",
       "                                                    content  event_id  \\\n",
       "0         Receiving block blk_-1608999687919862906 src: ...  09a53393   \n",
       "2         Receiving block blk_-1608999687919862906 src: ...  09a53393   \n",
       "3         Receiving block blk_-1608999687919862906 src: ...  09a53393   \n",
       "4         PacketResponder 1 for block blk_-1608999687919...  d38aa58d   \n",
       "5         PacketResponder 2 for block blk_-1608999687919...  d38aa58d   \n",
       "...                                                     ...       ...   \n",
       "11175624  Verification succeeded for blk_-61713680325832...  32777b38   \n",
       "11175625  Verification succeeded for blk_619502527611431...  32777b38   \n",
       "11175626  Verification succeeded for blk_-33397734047143...  32777b38   \n",
       "11175627  Verification succeeded for blk_103723194550928...  32777b38   \n",
       "11175628  Verification succeeded for blk_425886287182241...  32777b38   \n",
       "\n",
       "                                  event_template   label  \n",
       "0         Receiving block <*> src: <*> dest: <*>  Normal  \n",
       "2         Receiving block <*> src: <*> dest: <*>  Normal  \n",
       "3         Receiving block <*> src: <*> dest: <*>  Normal  \n",
       "4          PacketResponder <*> for block <*> <*>  Normal  \n",
       "5          PacketResponder <*> for block <*> <*>  Normal  \n",
       "...                                          ...     ...  \n",
       "11175624          Verification succeeded for <*>  Normal  \n",
       "11175625          Verification succeeded for <*>  Normal  \n",
       "11175626          Verification succeeded for <*>  Normal  \n",
       "11175627          Verification succeeded for <*>  Normal  \n",
       "11175628          Verification succeeded for <*>  Normal  \n",
       "\n",
       "[10600568 rows x 6 columns]"
      ]
     },
     "execution_count": 6,
     "metadata": {},
     "output_type": "execute_result"
    }
   ],
   "source": [
    "prep.df"
   ]
  },
  {
   "cell_type": "code",
   "execution_count": 7,
   "metadata": {},
   "outputs": [
    {
     "name": "stdout",
     "output_type": "stream",
     "text": [
      "Saving to .parquet.gzip file\n"
     ]
    }
   ],
   "source": [
    "prep.to_parquet('/Users/IsRealNPK/LMAO/dataset/HDFS_v1/HDFS_with_label')"
   ]
  },
  {
   "cell_type": "markdown",
   "metadata": {},
   "source": [
    "# ALICE Infologger Preprocessing"
   ]
  },
  {
   "cell_type": "code",
   "execution_count": 2,
   "metadata": {},
   "outputs": [
    {
     "name": "stdout",
     "output_type": "stream",
     "text": [
      "<lmao.preprocessing.LMAOPreprocessing object at 0x143d3f850>\n"
     ]
    }
   ],
   "source": [
    "prep = LMAOPreprocessing(data_type='alice_info')"
   ]
  },
  {
   "cell_type": "code",
   "execution_count": 3,
   "metadata": {},
   "outputs": [
    {
     "data": {
      "text/plain": [
       "'/Users/IsRealNPK/LMAO/dataset/ALICE-OSLdataset/phob_test_20220312_sample_struct_no_new15.csv'"
      ]
     },
     "execution_count": 3,
     "metadata": {},
     "output_type": "execute_result"
    }
   ],
   "source": [
    "prep.from_parsed_csv(csv_path='/Users/IsRealNPK/LMAO/dataset/ALICE-OSLdataset/phob_test_20220312_sample_struct_no_new15.csv')"
   ]
  },
  {
   "cell_type": "code",
   "execution_count": 4,
   "metadata": {},
   "outputs": [
    {
     "name": "stdout",
     "output_type": "stream",
     "text": [
      "Preprocessing to LMAO format with label from alice_info\n",
      "Path :/Users/IsRealNPK/LMAO/dataset/OneDrive_1_2-5-2024/runs.csv\n"
     ]
    },
    {
     "name": "stderr",
     "output_type": "stream",
     "text": [
      "/Users/IsRealNPK/LMAO/lmao/preprocessing/alice_info.py:65: DtypeWarning: Columns (27,28,36) have mixed types. Specify dtype option on import or set low_memory=False.\n",
      "  run_df = pd.read_csv(label_path)\n"
     ]
    },
    {
     "name": "stdout",
     "output_type": "stream",
     "text": [
      "Stating map RunID from label file\n"
     ]
    },
    {
     "data": {
      "application/vnd.jupyter.widget-view+json": {
       "model_id": "2cab02dfd4a44ba58144e18aaed52248",
       "version_major": 2,
       "version_minor": 0
      },
      "text/plain": [
       "  0%|          | 0/23177 [00:00<?, ?it/s]"
      ]
     },
     "metadata": {},
     "output_type": "display_data"
    },
    {
     "name": "stdout",
     "output_type": "stream",
     "text": [
      "Stating map EOR from EOR file\n"
     ]
    },
    {
     "data": {
      "application/vnd.jupyter.widget-view+json": {
       "model_id": "980711eae6d74c2089a63b58637e0f46",
       "version_major": 2,
       "version_minor": 0
      },
      "text/plain": [
       "  0%|          | 0/2831 [00:00<?, ?it/s]"
      ]
     },
     "metadata": {},
     "output_type": "display_data"
    },
    {
     "name": "stdout",
     "output_type": "stream",
     "text": [
      "Drop all severity D\n",
      "Normalize EOR\n"
     ]
    },
    {
     "data": {
      "application/vnd.jupyter.widget-view+json": {
       "model_id": "f991daf06e3043c0bc021db29800a574",
       "version_major": 2,
       "version_minor": 0
      },
      "text/plain": [
       "  0%|          | 0/9712742 [00:00<?, ?it/s]"
      ]
     },
     "metadata": {},
     "output_type": "display_data"
    },
    {
     "name": "stdout",
     "output_type": "stream",
     "text": [
      "Getting Crashed from EOR\n",
      "Returning dataframe\n",
      "Done\n"
     ]
    }
   ],
   "source": [
    "prep.prep_data(label_path='/Users/IsRealNPK/LMAO/dataset/OneDrive_1_2-5-2024/runs.csv',\n",
    "               eor_path='/Users/IsRealNPK/LMAO/dataset/OneDrive_1_2-5-2024/eor_reasons.csv')"
   ]
  },
  {
   "cell_type": "code",
   "execution_count": 63,
   "metadata": {},
   "outputs": [
    {
     "data": {
      "text/html": [
       "<div>\n",
       "<style scoped>\n",
       "    .dataframe tbody tr th:only-of-type {\n",
       "        vertical-align: middle;\n",
       "    }\n",
       "\n",
       "    .dataframe tbody tr th {\n",
       "        vertical-align: top;\n",
       "    }\n",
       "\n",
       "    .dataframe thead th {\n",
       "        text-align: right;\n",
       "    }\n",
       "</style>\n",
       "<table border=\"1\" class=\"dataframe\">\n",
       "  <thead>\n",
       "    <tr style=\"text-align: right;\">\n",
       "      <th></th>\n",
       "      <th>session_id</th>\n",
       "      <th>severity</th>\n",
       "      <th>content</th>\n",
       "      <th>event_id</th>\n",
       "      <th>event_template</th>\n",
       "      <th>label</th>\n",
       "      <th>EOR</th>\n",
       "      <th>EOR_id</th>\n",
       "      <th>run_quality</th>\n",
       "    </tr>\n",
       "  </thead>\n",
       "  <tbody>\n",
       "    <tr>\n",
       "      <th>134071</th>\n",
       "      <td>24064</td>\n",
       "      <td>I</td>\n",
       "      <td>writing 1 messages to aliecs.before_start_acti...</td>\n",
       "      <td>2</td>\n",
       "      <td>writing &lt;*&gt; messages to &lt;*&gt; (partition:&lt;*&gt;</td>\n",
       "      <td>not crashed</td>\n",
       "      <td>eor test.</td>\n",
       "      <td>61.0</td>\n",
       "      <td>test</td>\n",
       "    </tr>\n",
       "    <tr>\n",
       "      <th>134080</th>\n",
       "      <td>24064</td>\n",
       "      <td>I</td>\n",
       "      <td>overriding run start time in the GRP object to...</td>\n",
       "      <td>378</td>\n",
       "      <td>overriding run start time in the GRP object to...</td>\n",
       "      <td>not crashed</td>\n",
       "      <td>eor test.</td>\n",
       "      <td>61.0</td>\n",
       "      <td>test</td>\n",
       "    </tr>\n",
       "    <tr>\n",
       "      <th>134094</th>\n",
       "      <td>24064</td>\n",
       "      <td>I</td>\n",
       "      <td>writing 1 messages to aliecs.env_leave_state.C...</td>\n",
       "      <td>2</td>\n",
       "      <td>writing &lt;*&gt; messages to &lt;*&gt; (partition:&lt;*&gt;</td>\n",
       "      <td>not crashed</td>\n",
       "      <td>eor test.</td>\n",
       "      <td>61.0</td>\n",
       "      <td>test</td>\n",
       "    </tr>\n",
       "    <tr>\n",
       "      <th>134098</th>\n",
       "      <td>24064</td>\n",
       "      <td>I</td>\n",
       "      <td>starting new run</td>\n",
       "      <td>383</td>\n",
       "      <td>starting new run</td>\n",
       "      <td>not crashed</td>\n",
       "      <td>eor test.</td>\n",
       "      <td>61.0</td>\n",
       "      <td>test</td>\n",
       "    </tr>\n",
       "    <tr>\n",
       "      <th>135408</th>\n",
       "      <td>24064</td>\n",
       "      <td>I</td>\n",
       "      <td>Run number 526264</td>\n",
       "      <td>384</td>\n",
       "      <td>Run number &lt;*&gt;</td>\n",
       "      <td>not crashed</td>\n",
       "      <td>eor test.</td>\n",
       "      <td>61.0</td>\n",
       "      <td>test</td>\n",
       "    </tr>\n",
       "    <tr>\n",
       "      <th>...</th>\n",
       "      <td>...</td>\n",
       "      <td>...</td>\n",
       "      <td>...</td>\n",
       "      <td>...</td>\n",
       "      <td>...</td>\n",
       "      <td>...</td>\n",
       "      <td>...</td>\n",
       "      <td>...</td>\n",
       "      <td>...</td>\n",
       "    </tr>\n",
       "    <tr>\n",
       "      <th>34856755</th>\n",
       "      <td>24356</td>\n",
       "      <td>W</td>\n",
       "      <td>Non-contiguous timeframe IDs 187572 ... 187574</td>\n",
       "      <td>723</td>\n",
       "      <td>Non-contiguous timeframe IDs &lt;*&gt; ... &lt;*&gt;</td>\n",
       "      <td>crashed</td>\n",
       "      <td>triggers out synch. disabling ctp readout.</td>\n",
       "      <td>59.0</td>\n",
       "      <td>bad</td>\n",
       "    </tr>\n",
       "    <tr>\n",
       "      <th>34856756</th>\n",
       "      <td>24356</td>\n",
       "      <td>W</td>\n",
       "      <td>Non-contiguous timeframe IDs 187572 ... 187574</td>\n",
       "      <td>723</td>\n",
       "      <td>Non-contiguous timeframe IDs &lt;*&gt; ... &lt;*&gt;</td>\n",
       "      <td>crashed</td>\n",
       "      <td>triggers out synch. disabling ctp readout.</td>\n",
       "      <td>59.0</td>\n",
       "      <td>bad</td>\n",
       "    </tr>\n",
       "    <tr>\n",
       "      <th>34856757</th>\n",
       "      <td>24356</td>\n",
       "      <td>W</td>\n",
       "      <td>Non-contiguous timeframe IDs 187572 ... 187574</td>\n",
       "      <td>723</td>\n",
       "      <td>Non-contiguous timeframe IDs &lt;*&gt; ... &lt;*&gt;</td>\n",
       "      <td>crashed</td>\n",
       "      <td>triggers out synch. disabling ctp readout.</td>\n",
       "      <td>59.0</td>\n",
       "      <td>bad</td>\n",
       "    </tr>\n",
       "    <tr>\n",
       "      <th>34856758</th>\n",
       "      <td>24356</td>\n",
       "      <td>W</td>\n",
       "      <td>Gap in timeframe ids detected: previous= 18757...</td>\n",
       "      <td>724</td>\n",
       "      <td>Gap in timeframe ids &lt;*&gt;</td>\n",
       "      <td>crashed</td>\n",
       "      <td>triggers out synch. disabling ctp readout.</td>\n",
       "      <td>59.0</td>\n",
       "      <td>bad</td>\n",
       "    </tr>\n",
       "    <tr>\n",
       "      <th>34856759</th>\n",
       "      <td>24356</td>\n",
       "      <td>W</td>\n",
       "      <td>Gap in timeframe ids detected: previous= 18757...</td>\n",
       "      <td>724</td>\n",
       "      <td>Gap in timeframe ids &lt;*&gt;</td>\n",
       "      <td>crashed</td>\n",
       "      <td>triggers out synch. disabling ctp readout.</td>\n",
       "      <td>59.0</td>\n",
       "      <td>bad</td>\n",
       "    </tr>\n",
       "  </tbody>\n",
       "</table>\n",
       "<p>5487627 rows × 9 columns</p>\n",
       "</div>"
      ],
      "text/plain": [
       "          session_id severity  \\\n",
       "134071         24064        I   \n",
       "134080         24064        I   \n",
       "134094         24064        I   \n",
       "134098         24064        I   \n",
       "135408         24064        I   \n",
       "...              ...      ...   \n",
       "34856755       24356        W   \n",
       "34856756       24356        W   \n",
       "34856757       24356        W   \n",
       "34856758       24356        W   \n",
       "34856759       24356        W   \n",
       "\n",
       "                                                    content  event_id  \\\n",
       "134071    writing 1 messages to aliecs.before_start_acti...         2   \n",
       "134080    overriding run start time in the GRP object to...       378   \n",
       "134094    writing 1 messages to aliecs.env_leave_state.C...         2   \n",
       "134098                                     starting new run       383   \n",
       "135408                                    Run number 526264       384   \n",
       "...                                                     ...       ...   \n",
       "34856755     Non-contiguous timeframe IDs 187572 ... 187574       723   \n",
       "34856756     Non-contiguous timeframe IDs 187572 ... 187574       723   \n",
       "34856757     Non-contiguous timeframe IDs 187572 ... 187574       723   \n",
       "34856758  Gap in timeframe ids detected: previous= 18757...       724   \n",
       "34856759  Gap in timeframe ids detected: previous= 18757...       724   \n",
       "\n",
       "                                             event_template        label  \\\n",
       "134071           writing <*> messages to <*> (partition:<*>  not crashed   \n",
       "134080    overriding run start time in the GRP object to...  not crashed   \n",
       "134094           writing <*> messages to <*> (partition:<*>  not crashed   \n",
       "134098                                     starting new run  not crashed   \n",
       "135408                                       Run number <*>  not crashed   \n",
       "...                                                     ...          ...   \n",
       "34856755           Non-contiguous timeframe IDs <*> ... <*>      crashed   \n",
       "34856756           Non-contiguous timeframe IDs <*> ... <*>      crashed   \n",
       "34856757           Non-contiguous timeframe IDs <*> ... <*>      crashed   \n",
       "34856758                           Gap in timeframe ids <*>      crashed   \n",
       "34856759                           Gap in timeframe ids <*>      crashed   \n",
       "\n",
       "                                                 EOR  EOR_id run_quality  \n",
       "134071                                     eor test.    61.0        test  \n",
       "134080                                     eor test.    61.0        test  \n",
       "134094                                     eor test.    61.0        test  \n",
       "134098                                     eor test.    61.0        test  \n",
       "135408                                     eor test.    61.0        test  \n",
       "...                                              ...     ...         ...  \n",
       "34856755  triggers out synch. disabling ctp readout.    59.0         bad  \n",
       "34856756  triggers out synch. disabling ctp readout.    59.0         bad  \n",
       "34856757  triggers out synch. disabling ctp readout.    59.0         bad  \n",
       "34856758  triggers out synch. disabling ctp readout.    59.0         bad  \n",
       "34856759  triggers out synch. disabling ctp readout.    59.0         bad  \n",
       "\n",
       "[5487627 rows x 9 columns]"
      ]
     },
     "execution_count": 63,
     "metadata": {},
     "output_type": "execute_result"
    }
   ],
   "source": [
    "prep.df"
   ]
  },
  {
   "cell_type": "code",
   "execution_count": 66,
   "metadata": {},
   "outputs": [],
   "source": [
    "prep.df.to_parquet('/Users/IsRealNPK/LMAO/dataset/ALICE-OSLdataset/ALICE_info_no_severity_D_with_label.parquet.gzip', compression='gzip')"
   ]
  },
  {
   "cell_type": "markdown",
   "metadata": {},
   "source": [
    "# ALICE Bertopic"
   ]
  },
  {
   "cell_type": "code",
   "execution_count": 3,
   "metadata": {},
   "outputs": [],
   "source": [
    "df = pd.read_parquet('/Users/IsRealNPK/LMAO/dataset/ALICE-OSLdataset/ALICE_info_no_severity_D_with_label.parquet.gzip')"
   ]
  },
  {
   "cell_type": "code",
   "execution_count": 4,
   "metadata": {},
   "outputs": [
    {
     "data": {
      "text/html": [
       "<div>\n",
       "<style scoped>\n",
       "    .dataframe tbody tr th:only-of-type {\n",
       "        vertical-align: middle;\n",
       "    }\n",
       "\n",
       "    .dataframe tbody tr th {\n",
       "        vertical-align: top;\n",
       "    }\n",
       "\n",
       "    .dataframe thead th {\n",
       "        text-align: right;\n",
       "    }\n",
       "</style>\n",
       "<table border=\"1\" class=\"dataframe\">\n",
       "  <thead>\n",
       "    <tr style=\"text-align: right;\">\n",
       "      <th></th>\n",
       "      <th>session_id</th>\n",
       "      <th>severity</th>\n",
       "      <th>content</th>\n",
       "      <th>event_id</th>\n",
       "      <th>event_template</th>\n",
       "      <th>label</th>\n",
       "      <th>EOR</th>\n",
       "      <th>EOR_id</th>\n",
       "      <th>run_quality</th>\n",
       "    </tr>\n",
       "  </thead>\n",
       "  <tbody>\n",
       "    <tr>\n",
       "      <th>134071</th>\n",
       "      <td>24064</td>\n",
       "      <td>I</td>\n",
       "      <td>writing 1 messages to aliecs.before_start_acti...</td>\n",
       "      <td>2</td>\n",
       "      <td>writing &lt;*&gt; messages to &lt;*&gt; (partition:&lt;*&gt;</td>\n",
       "      <td>not crashed</td>\n",
       "      <td>eor test.</td>\n",
       "      <td>61.0</td>\n",
       "      <td>test</td>\n",
       "    </tr>\n",
       "    <tr>\n",
       "      <th>134080</th>\n",
       "      <td>24064</td>\n",
       "      <td>I</td>\n",
       "      <td>overriding run start time in the GRP object to...</td>\n",
       "      <td>378</td>\n",
       "      <td>overriding run start time in the GRP object to...</td>\n",
       "      <td>not crashed</td>\n",
       "      <td>eor test.</td>\n",
       "      <td>61.0</td>\n",
       "      <td>test</td>\n",
       "    </tr>\n",
       "    <tr>\n",
       "      <th>134094</th>\n",
       "      <td>24064</td>\n",
       "      <td>I</td>\n",
       "      <td>writing 1 messages to aliecs.env_leave_state.C...</td>\n",
       "      <td>2</td>\n",
       "      <td>writing &lt;*&gt; messages to &lt;*&gt; (partition:&lt;*&gt;</td>\n",
       "      <td>not crashed</td>\n",
       "      <td>eor test.</td>\n",
       "      <td>61.0</td>\n",
       "      <td>test</td>\n",
       "    </tr>\n",
       "    <tr>\n",
       "      <th>134098</th>\n",
       "      <td>24064</td>\n",
       "      <td>I</td>\n",
       "      <td>starting new run</td>\n",
       "      <td>383</td>\n",
       "      <td>starting new run</td>\n",
       "      <td>not crashed</td>\n",
       "      <td>eor test.</td>\n",
       "      <td>61.0</td>\n",
       "      <td>test</td>\n",
       "    </tr>\n",
       "    <tr>\n",
       "      <th>135408</th>\n",
       "      <td>24064</td>\n",
       "      <td>I</td>\n",
       "      <td>Run number 526264</td>\n",
       "      <td>384</td>\n",
       "      <td>Run number &lt;*&gt;</td>\n",
       "      <td>not crashed</td>\n",
       "      <td>eor test.</td>\n",
       "      <td>61.0</td>\n",
       "      <td>test</td>\n",
       "    </tr>\n",
       "    <tr>\n",
       "      <th>...</th>\n",
       "      <td>...</td>\n",
       "      <td>...</td>\n",
       "      <td>...</td>\n",
       "      <td>...</td>\n",
       "      <td>...</td>\n",
       "      <td>...</td>\n",
       "      <td>...</td>\n",
       "      <td>...</td>\n",
       "      <td>...</td>\n",
       "    </tr>\n",
       "    <tr>\n",
       "      <th>34856755</th>\n",
       "      <td>24356</td>\n",
       "      <td>W</td>\n",
       "      <td>Non-contiguous timeframe IDs 187572 ... 187574</td>\n",
       "      <td>723</td>\n",
       "      <td>Non-contiguous timeframe IDs &lt;*&gt; ... &lt;*&gt;</td>\n",
       "      <td>crashed</td>\n",
       "      <td>triggers out synch. disabling ctp readout.</td>\n",
       "      <td>59.0</td>\n",
       "      <td>bad</td>\n",
       "    </tr>\n",
       "    <tr>\n",
       "      <th>34856756</th>\n",
       "      <td>24356</td>\n",
       "      <td>W</td>\n",
       "      <td>Non-contiguous timeframe IDs 187572 ... 187574</td>\n",
       "      <td>723</td>\n",
       "      <td>Non-contiguous timeframe IDs &lt;*&gt; ... &lt;*&gt;</td>\n",
       "      <td>crashed</td>\n",
       "      <td>triggers out synch. disabling ctp readout.</td>\n",
       "      <td>59.0</td>\n",
       "      <td>bad</td>\n",
       "    </tr>\n",
       "    <tr>\n",
       "      <th>34856757</th>\n",
       "      <td>24356</td>\n",
       "      <td>W</td>\n",
       "      <td>Non-contiguous timeframe IDs 187572 ... 187574</td>\n",
       "      <td>723</td>\n",
       "      <td>Non-contiguous timeframe IDs &lt;*&gt; ... &lt;*&gt;</td>\n",
       "      <td>crashed</td>\n",
       "      <td>triggers out synch. disabling ctp readout.</td>\n",
       "      <td>59.0</td>\n",
       "      <td>bad</td>\n",
       "    </tr>\n",
       "    <tr>\n",
       "      <th>34856758</th>\n",
       "      <td>24356</td>\n",
       "      <td>W</td>\n",
       "      <td>Gap in timeframe ids detected: previous= 18757...</td>\n",
       "      <td>724</td>\n",
       "      <td>Gap in timeframe ids &lt;*&gt;</td>\n",
       "      <td>crashed</td>\n",
       "      <td>triggers out synch. disabling ctp readout.</td>\n",
       "      <td>59.0</td>\n",
       "      <td>bad</td>\n",
       "    </tr>\n",
       "    <tr>\n",
       "      <th>34856759</th>\n",
       "      <td>24356</td>\n",
       "      <td>W</td>\n",
       "      <td>Gap in timeframe ids detected: previous= 18757...</td>\n",
       "      <td>724</td>\n",
       "      <td>Gap in timeframe ids &lt;*&gt;</td>\n",
       "      <td>crashed</td>\n",
       "      <td>triggers out synch. disabling ctp readout.</td>\n",
       "      <td>59.0</td>\n",
       "      <td>bad</td>\n",
       "    </tr>\n",
       "  </tbody>\n",
       "</table>\n",
       "<p>5487627 rows × 9 columns</p>\n",
       "</div>"
      ],
      "text/plain": [
       "          session_id severity  \\\n",
       "134071         24064        I   \n",
       "134080         24064        I   \n",
       "134094         24064        I   \n",
       "134098         24064        I   \n",
       "135408         24064        I   \n",
       "...              ...      ...   \n",
       "34856755       24356        W   \n",
       "34856756       24356        W   \n",
       "34856757       24356        W   \n",
       "34856758       24356        W   \n",
       "34856759       24356        W   \n",
       "\n",
       "                                                    content  event_id  \\\n",
       "134071    writing 1 messages to aliecs.before_start_acti...         2   \n",
       "134080    overriding run start time in the GRP object to...       378   \n",
       "134094    writing 1 messages to aliecs.env_leave_state.C...         2   \n",
       "134098                                     starting new run       383   \n",
       "135408                                    Run number 526264       384   \n",
       "...                                                     ...       ...   \n",
       "34856755     Non-contiguous timeframe IDs 187572 ... 187574       723   \n",
       "34856756     Non-contiguous timeframe IDs 187572 ... 187574       723   \n",
       "34856757     Non-contiguous timeframe IDs 187572 ... 187574       723   \n",
       "34856758  Gap in timeframe ids detected: previous= 18757...       724   \n",
       "34856759  Gap in timeframe ids detected: previous= 18757...       724   \n",
       "\n",
       "                                             event_template        label  \\\n",
       "134071           writing <*> messages to <*> (partition:<*>  not crashed   \n",
       "134080    overriding run start time in the GRP object to...  not crashed   \n",
       "134094           writing <*> messages to <*> (partition:<*>  not crashed   \n",
       "134098                                     starting new run  not crashed   \n",
       "135408                                       Run number <*>  not crashed   \n",
       "...                                                     ...          ...   \n",
       "34856755           Non-contiguous timeframe IDs <*> ... <*>      crashed   \n",
       "34856756           Non-contiguous timeframe IDs <*> ... <*>      crashed   \n",
       "34856757           Non-contiguous timeframe IDs <*> ... <*>      crashed   \n",
       "34856758                           Gap in timeframe ids <*>      crashed   \n",
       "34856759                           Gap in timeframe ids <*>      crashed   \n",
       "\n",
       "                                                 EOR  EOR_id run_quality  \n",
       "134071                                     eor test.    61.0        test  \n",
       "134080                                     eor test.    61.0        test  \n",
       "134094                                     eor test.    61.0        test  \n",
       "134098                                     eor test.    61.0        test  \n",
       "135408                                     eor test.    61.0        test  \n",
       "...                                              ...     ...         ...  \n",
       "34856755  triggers out synch. disabling ctp readout.    59.0         bad  \n",
       "34856756  triggers out synch. disabling ctp readout.    59.0         bad  \n",
       "34856757  triggers out synch. disabling ctp readout.    59.0         bad  \n",
       "34856758  triggers out synch. disabling ctp readout.    59.0         bad  \n",
       "34856759  triggers out synch. disabling ctp readout.    59.0         bad  \n",
       "\n",
       "[5487627 rows x 9 columns]"
      ]
     },
     "execution_count": 4,
     "metadata": {},
     "output_type": "execute_result"
    }
   ],
   "source": [
    "df"
   ]
  },
  {
   "cell_type": "code",
   "execution_count": 1,
   "metadata": {},
   "outputs": [
    {
     "name": "stdout",
     "output_type": "stream",
     "text": [
      "Topic model mode set to :BERTopic.\n",
      "Start Initialized\n"
     ]
    }
   ],
   "source": [
    "from lmao.topicmodel import LMAOTopic\n",
    "topic_model = LMAOTopic()"
   ]
  },
  {
   "cell_type": "code",
   "execution_count": 2,
   "metadata": {},
   "outputs": [
    {
     "name": "stdout",
     "output_type": "stream",
     "text": [
      "Done\n"
     ]
    }
   ],
   "source": [
    "topic_model.from_trained_model(model_path='/Users/IsRealNPK/LMAO/lmao/topicmodel/model/BERTopic-ALICE_info_no_severity_D-all-MiniLM-L6-v2')"
   ]
  },
  {
   "cell_type": "code",
   "execution_count": null,
   "metadata": {},
   "outputs": [],
   "source": [
    "df = topic_model.get_topic(df)"
   ]
  },
  {
   "cell_type": "code",
   "execution_count": null,
   "metadata": {},
   "outputs": [
    {
     "data": {
      "text/html": [
       "<div>\n",
       "<style scoped>\n",
       "    .dataframe tbody tr th:only-of-type {\n",
       "        vertical-align: middle;\n",
       "    }\n",
       "\n",
       "    .dataframe tbody tr th {\n",
       "        vertical-align: top;\n",
       "    }\n",
       "\n",
       "    .dataframe thead th {\n",
       "        text-align: right;\n",
       "    }\n",
       "</style>\n",
       "<table border=\"1\" class=\"dataframe\">\n",
       "  <thead>\n",
       "    <tr style=\"text-align: right;\">\n",
       "      <th></th>\n",
       "      <th>session_id</th>\n",
       "      <th>severity</th>\n",
       "      <th>content</th>\n",
       "      <th>event_id</th>\n",
       "      <th>event_template</th>\n",
       "      <th>label</th>\n",
       "      <th>EOR</th>\n",
       "      <th>EOR_id</th>\n",
       "      <th>run_quality</th>\n",
       "      <th>topic</th>\n",
       "    </tr>\n",
       "  </thead>\n",
       "  <tbody>\n",
       "    <tr>\n",
       "      <th>134071</th>\n",
       "      <td>24064</td>\n",
       "      <td>I</td>\n",
       "      <td>writing 1 messages to aliecs.before_start_acti...</td>\n",
       "      <td>2</td>\n",
       "      <td>writing &lt;*&gt; messages to &lt;*&gt; (partition:&lt;*&gt;</td>\n",
       "      <td>not crashed</td>\n",
       "      <td>eor test.</td>\n",
       "      <td>61.0</td>\n",
       "      <td>test</td>\n",
       "      <td>572</td>\n",
       "    </tr>\n",
       "    <tr>\n",
       "      <th>134080</th>\n",
       "      <td>24064</td>\n",
       "      <td>I</td>\n",
       "      <td>overriding run start time in the GRP object to...</td>\n",
       "      <td>378</td>\n",
       "      <td>overriding run start time in the GRP object to...</td>\n",
       "      <td>not crashed</td>\n",
       "      <td>eor test.</td>\n",
       "      <td>61.0</td>\n",
       "      <td>test</td>\n",
       "      <td>1682</td>\n",
       "    </tr>\n",
       "    <tr>\n",
       "      <th>134094</th>\n",
       "      <td>24064</td>\n",
       "      <td>I</td>\n",
       "      <td>writing 1 messages to aliecs.env_leave_state.C...</td>\n",
       "      <td>2</td>\n",
       "      <td>writing &lt;*&gt; messages to &lt;*&gt; (partition:&lt;*&gt;</td>\n",
       "      <td>not crashed</td>\n",
       "      <td>eor test.</td>\n",
       "      <td>61.0</td>\n",
       "      <td>test</td>\n",
       "      <td>464</td>\n",
       "    </tr>\n",
       "    <tr>\n",
       "      <th>134098</th>\n",
       "      <td>24064</td>\n",
       "      <td>I</td>\n",
       "      <td>starting new run</td>\n",
       "      <td>383</td>\n",
       "      <td>starting new run</td>\n",
       "      <td>not crashed</td>\n",
       "      <td>eor test.</td>\n",
       "      <td>61.0</td>\n",
       "      <td>test</td>\n",
       "      <td>-1</td>\n",
       "    </tr>\n",
       "    <tr>\n",
       "      <th>135408</th>\n",
       "      <td>24064</td>\n",
       "      <td>I</td>\n",
       "      <td>Run number 526264</td>\n",
       "      <td>384</td>\n",
       "      <td>Run number &lt;*&gt;</td>\n",
       "      <td>not crashed</td>\n",
       "      <td>eor test.</td>\n",
       "      <td>61.0</td>\n",
       "      <td>test</td>\n",
       "      <td>1635</td>\n",
       "    </tr>\n",
       "    <tr>\n",
       "      <th>...</th>\n",
       "      <td>...</td>\n",
       "      <td>...</td>\n",
       "      <td>...</td>\n",
       "      <td>...</td>\n",
       "      <td>...</td>\n",
       "      <td>...</td>\n",
       "      <td>...</td>\n",
       "      <td>...</td>\n",
       "      <td>...</td>\n",
       "      <td>...</td>\n",
       "    </tr>\n",
       "    <tr>\n",
       "      <th>34856755</th>\n",
       "      <td>24356</td>\n",
       "      <td>W</td>\n",
       "      <td>Non-contiguous timeframe IDs 187572 ... 187574</td>\n",
       "      <td>723</td>\n",
       "      <td>Non-contiguous timeframe IDs &lt;*&gt; ... &lt;*&gt;</td>\n",
       "      <td>crashed</td>\n",
       "      <td>triggers out synch. disabling ctp readout.</td>\n",
       "      <td>59.0</td>\n",
       "      <td>bad</td>\n",
       "      <td>1882</td>\n",
       "    </tr>\n",
       "    <tr>\n",
       "      <th>34856756</th>\n",
       "      <td>24356</td>\n",
       "      <td>W</td>\n",
       "      <td>Non-contiguous timeframe IDs 187572 ... 187574</td>\n",
       "      <td>723</td>\n",
       "      <td>Non-contiguous timeframe IDs &lt;*&gt; ... &lt;*&gt;</td>\n",
       "      <td>crashed</td>\n",
       "      <td>triggers out synch. disabling ctp readout.</td>\n",
       "      <td>59.0</td>\n",
       "      <td>bad</td>\n",
       "      <td>1882</td>\n",
       "    </tr>\n",
       "    <tr>\n",
       "      <th>34856757</th>\n",
       "      <td>24356</td>\n",
       "      <td>W</td>\n",
       "      <td>Non-contiguous timeframe IDs 187572 ... 187574</td>\n",
       "      <td>723</td>\n",
       "      <td>Non-contiguous timeframe IDs &lt;*&gt; ... &lt;*&gt;</td>\n",
       "      <td>crashed</td>\n",
       "      <td>triggers out synch. disabling ctp readout.</td>\n",
       "      <td>59.0</td>\n",
       "      <td>bad</td>\n",
       "      <td>1882</td>\n",
       "    </tr>\n",
       "    <tr>\n",
       "      <th>34856758</th>\n",
       "      <td>24356</td>\n",
       "      <td>W</td>\n",
       "      <td>Gap in timeframe ids detected: previous= 18757...</td>\n",
       "      <td>724</td>\n",
       "      <td>Gap in timeframe ids &lt;*&gt;</td>\n",
       "      <td>crashed</td>\n",
       "      <td>triggers out synch. disabling ctp readout.</td>\n",
       "      <td>59.0</td>\n",
       "      <td>bad</td>\n",
       "      <td>-1</td>\n",
       "    </tr>\n",
       "    <tr>\n",
       "      <th>34856759</th>\n",
       "      <td>24356</td>\n",
       "      <td>W</td>\n",
       "      <td>Gap in timeframe ids detected: previous= 18757...</td>\n",
       "      <td>724</td>\n",
       "      <td>Gap in timeframe ids &lt;*&gt;</td>\n",
       "      <td>crashed</td>\n",
       "      <td>triggers out synch. disabling ctp readout.</td>\n",
       "      <td>59.0</td>\n",
       "      <td>bad</td>\n",
       "      <td>-1</td>\n",
       "    </tr>\n",
       "  </tbody>\n",
       "</table>\n",
       "<p>5487627 rows × 10 columns</p>\n",
       "</div>"
      ],
      "text/plain": [
       "          session_id severity  \\\n",
       "134071         24064        I   \n",
       "134080         24064        I   \n",
       "134094         24064        I   \n",
       "134098         24064        I   \n",
       "135408         24064        I   \n",
       "...              ...      ...   \n",
       "34856755       24356        W   \n",
       "34856756       24356        W   \n",
       "34856757       24356        W   \n",
       "34856758       24356        W   \n",
       "34856759       24356        W   \n",
       "\n",
       "                                                    content  event_id  \\\n",
       "134071    writing 1 messages to aliecs.before_start_acti...         2   \n",
       "134080    overriding run start time in the GRP object to...       378   \n",
       "134094    writing 1 messages to aliecs.env_leave_state.C...         2   \n",
       "134098                                     starting new run       383   \n",
       "135408                                    Run number 526264       384   \n",
       "...                                                     ...       ...   \n",
       "34856755     Non-contiguous timeframe IDs 187572 ... 187574       723   \n",
       "34856756     Non-contiguous timeframe IDs 187572 ... 187574       723   \n",
       "34856757     Non-contiguous timeframe IDs 187572 ... 187574       723   \n",
       "34856758  Gap in timeframe ids detected: previous= 18757...       724   \n",
       "34856759  Gap in timeframe ids detected: previous= 18757...       724   \n",
       "\n",
       "                                             event_template        label  \\\n",
       "134071           writing <*> messages to <*> (partition:<*>  not crashed   \n",
       "134080    overriding run start time in the GRP object to...  not crashed   \n",
       "134094           writing <*> messages to <*> (partition:<*>  not crashed   \n",
       "134098                                     starting new run  not crashed   \n",
       "135408                                       Run number <*>  not crashed   \n",
       "...                                                     ...          ...   \n",
       "34856755           Non-contiguous timeframe IDs <*> ... <*>      crashed   \n",
       "34856756           Non-contiguous timeframe IDs <*> ... <*>      crashed   \n",
       "34856757           Non-contiguous timeframe IDs <*> ... <*>      crashed   \n",
       "34856758                           Gap in timeframe ids <*>      crashed   \n",
       "34856759                           Gap in timeframe ids <*>      crashed   \n",
       "\n",
       "                                                 EOR  EOR_id run_quality  \\\n",
       "134071                                     eor test.    61.0        test   \n",
       "134080                                     eor test.    61.0        test   \n",
       "134094                                     eor test.    61.0        test   \n",
       "134098                                     eor test.    61.0        test   \n",
       "135408                                     eor test.    61.0        test   \n",
       "...                                              ...     ...         ...   \n",
       "34856755  triggers out synch. disabling ctp readout.    59.0         bad   \n",
       "34856756  triggers out synch. disabling ctp readout.    59.0         bad   \n",
       "34856757  triggers out synch. disabling ctp readout.    59.0         bad   \n",
       "34856758  triggers out synch. disabling ctp readout.    59.0         bad   \n",
       "34856759  triggers out synch. disabling ctp readout.    59.0         bad   \n",
       "\n",
       "          topic  \n",
       "134071      572  \n",
       "134080     1682  \n",
       "134094      464  \n",
       "134098       -1  \n",
       "135408     1635  \n",
       "...         ...  \n",
       "34856755   1882  \n",
       "34856756   1882  \n",
       "34856757   1882  \n",
       "34856758     -1  \n",
       "34856759     -1  \n",
       "\n",
       "[5487627 rows x 10 columns]"
      ]
     },
     "execution_count": 8,
     "metadata": {},
     "output_type": "execute_result"
    }
   ],
   "source": [
    "df"
   ]
  },
  {
   "cell_type": "code",
   "execution_count": 6,
   "metadata": {},
   "outputs": [
    {
     "data": {
      "text/html": [
       "<div>\n",
       "<style scoped>\n",
       "    .dataframe tbody tr th:only-of-type {\n",
       "        vertical-align: middle;\n",
       "    }\n",
       "\n",
       "    .dataframe tbody tr th {\n",
       "        vertical-align: top;\n",
       "    }\n",
       "\n",
       "    .dataframe thead th {\n",
       "        text-align: right;\n",
       "    }\n",
       "</style>\n",
       "<table border=\"1\" class=\"dataframe\">\n",
       "  <thead>\n",
       "    <tr style=\"text-align: right;\">\n",
       "      <th></th>\n",
       "      <th>Topic</th>\n",
       "      <th>Count</th>\n",
       "      <th>Name</th>\n",
       "      <th>Representation</th>\n",
       "      <th>Representative_Docs</th>\n",
       "    </tr>\n",
       "  </thead>\n",
       "  <tbody>\n",
       "    <tr>\n",
       "      <th>0</th>\n",
       "      <td>-1</td>\n",
       "      <td>253732</td>\n",
       "      <td>-1_mb equipment_taskid_detected previous_gap in</td>\n",
       "      <td>[mb equipment, taskid, detected previous, gap ...</td>\n",
       "      <td>NaN</td>\n",
       "    </tr>\n",
       "    <tr>\n",
       "      <th>1</th>\n",
       "      <td>0</td>\n",
       "      <td>138005</td>\n",
       "      <td>0_sending quality_objects sending_quality obje...</td>\n",
       "      <td>[sending quality, objects sending, quality obj...</td>\n",
       "      <td>NaN</td>\n",
       "    </tr>\n",
       "    <tr>\n",
       "      <th>2</th>\n",
       "      <td>1</td>\n",
       "      <td>109162</td>\n",
       "      <td>1_startofcycle startofcycle_startofcycle_start...</td>\n",
       "      <td>[startofcycle startofcycle, startofcycle, star...</td>\n",
       "      <td>NaN</td>\n",
       "    </tr>\n",
       "    <tr>\n",
       "      <th>3</th>\n",
       "      <td>2</td>\n",
       "      <td>100888</td>\n",
       "      <td>2_storing qualityobjects_qualityobjects storin...</td>\n",
       "      <td>[storing qualityobjects, qualityobjects storin...</td>\n",
       "      <td>NaN</td>\n",
       "    </tr>\n",
       "    <tr>\n",
       "      <th>4</th>\n",
       "      <td>3</td>\n",
       "      <td>108116</td>\n",
       "      <td>3_endofcycle endofcycle_endofcycle_16644738573...</td>\n",
       "      <td>[endofcycle endofcycle, endofcycle, 1664473857...</td>\n",
       "      <td>NaN</td>\n",
       "    </tr>\n",
       "    <tr>\n",
       "      <th>...</th>\n",
       "      <td>...</td>\n",
       "      <td>...</td>\n",
       "      <td>...</td>\n",
       "      <td>...</td>\n",
       "      <td>...</td>\n",
       "    </tr>\n",
       "    <tr>\n",
       "      <th>2144</th>\n",
       "      <td>2143</td>\n",
       "      <td>43</td>\n",
       "      <td>2143_mftasynctask raw_ddl checkrunner_49 entri...</td>\n",
       "      <td>[mftasynctask raw, ddl checkrunner, 49 entries...</td>\n",
       "      <td>NaN</td>\n",
       "    </tr>\n",
       "    <tr>\n",
       "      <th>2145</th>\n",
       "      <td>2144</td>\n",
       "      <td>19</td>\n",
       "      <td>2144_roc sma0_d2 f0_f0 buffers_sma0</td>\n",
       "      <td>[roc sma0, d2 f0, f0 buffers, sma0, stop argum...</td>\n",
       "      <td>NaN</td>\n",
       "    </tr>\n",
       "    <tr>\n",
       "      <th>2146</th>\n",
       "      <td>2145</td>\n",
       "      <td>17</td>\n",
       "      <td>2145_0x00b7 lid3_roc sma3_ddl1 itsdecoder_0x00...</td>\n",
       "      <td>[0x00b7 lid3, roc sma3, ddl1 itsdecoder, 0x000...</td>\n",
       "      <td>NaN</td>\n",
       "    </tr>\n",
       "    <tr>\n",
       "      <th>2147</th>\n",
       "      <td>2146</td>\n",
       "      <td>12</td>\n",
       "      <td>2146_slicetrending_new ttree_generating new_fo...</td>\n",
       "      <td>[slicetrending, new ttree, generating new, for...</td>\n",
       "      <td>NaN</td>\n",
       "    </tr>\n",
       "    <tr>\n",
       "      <th>2148</th>\n",
       "      <td>2147</td>\n",
       "      <td>12</td>\n",
       "      <td>2147_81 at_plots itsdecoder_ru 81_ru at</td>\n",
       "      <td>[81 at, plots itsdecoder, ru 81, ru at, at slo...</td>\n",
       "      <td>NaN</td>\n",
       "    </tr>\n",
       "  </tbody>\n",
       "</table>\n",
       "<p>2149 rows × 5 columns</p>\n",
       "</div>"
      ],
      "text/plain": [
       "      Topic   Count                                               Name  \\\n",
       "0        -1  253732    -1_mb equipment_taskid_detected previous_gap in   \n",
       "1         0  138005  0_sending quality_objects sending_quality obje...   \n",
       "2         1  109162  1_startofcycle startofcycle_startofcycle_start...   \n",
       "3         2  100888  2_storing qualityobjects_qualityobjects storin...   \n",
       "4         3  108116  3_endofcycle endofcycle_endofcycle_16644738573...   \n",
       "...     ...     ...                                                ...   \n",
       "2144   2143      43  2143_mftasynctask raw_ddl checkrunner_49 entri...   \n",
       "2145   2144      19                2144_roc sma0_d2 f0_f0 buffers_sma0   \n",
       "2146   2145      17  2145_0x00b7 lid3_roc sma3_ddl1 itsdecoder_0x00...   \n",
       "2147   2146      12  2146_slicetrending_new ttree_generating new_fo...   \n",
       "2148   2147      12            2147_81 at_plots itsdecoder_ru 81_ru at   \n",
       "\n",
       "                                         Representation  Representative_Docs  \n",
       "0     [mb equipment, taskid, detected previous, gap ...                  NaN  \n",
       "1     [sending quality, objects sending, quality obj...                  NaN  \n",
       "2     [startofcycle startofcycle, startofcycle, star...                  NaN  \n",
       "3     [storing qualityobjects, qualityobjects storin...                  NaN  \n",
       "4     [endofcycle endofcycle, endofcycle, 1664473857...                  NaN  \n",
       "...                                                 ...                  ...  \n",
       "2144  [mftasynctask raw, ddl checkrunner, 49 entries...                  NaN  \n",
       "2145  [roc sma0, d2 f0, f0 buffers, sma0, stop argum...                  NaN  \n",
       "2146  [0x00b7 lid3, roc sma3, ddl1 itsdecoder, 0x000...                  NaN  \n",
       "2147  [slicetrending, new ttree, generating new, for...                  NaN  \n",
       "2148  [81 at, plots itsdecoder, ru 81, ru at, at slo...                  NaN  \n",
       "\n",
       "[2149 rows x 5 columns]"
      ]
     },
     "execution_count": 6,
     "metadata": {},
     "output_type": "execute_result"
    }
   ],
   "source": [
    "topic_model.get_topic(df=df)"
   ]
  },
  {
   "cell_type": "code",
   "execution_count": 9,
   "metadata": {},
   "outputs": [],
   "source": [
    "df.to_parquet('/Users/IsRealNPK/LMAO/dataset/ALICE-OSLdataset/ALICE_info_no_severity_D_with_topic.parquet.gzip', compression='gzip')"
   ]
  },
  {
   "cell_type": "code",
   "execution_count": 11,
   "metadata": {},
   "outputs": [
    {
     "name": "stdout",
     "output_type": "stream",
     "text": [
      "1.25 s ± 304 ms per loop (mean ± std. dev. of 7 runs, 1 loop each)\n"
     ]
    }
   ],
   "source": [
    "%%timeit\n",
    "topic_model.model.transform(df.content.tolist()[:1000])\n",
    "# topic, _ = topic_model.model.transform(df.content.tolist()[0])\n",
    "# topic"
   ]
  },
  {
   "cell_type": "code",
   "execution_count": 19,
   "metadata": {},
   "outputs": [
    {
     "data": {
      "application/vnd.plotly.v1+json": {
       "config": {
        "plotlyServerURL": "https://plot.ly"
       },
       "data": [
        {
         "customdata": [
          [
           0,
           "sending quality | objects sending | quality objects | sending | objects",
           138005
          ],
          [
           1,
           "startofcycle startofcycle | startofcycle | startofcycle equipment | startofcycle configure | 279136 startofcycle",
           109162
          ],
          [
           2,
           "storing qualityobjects | qualityobjects storing | qualityobjects | storing | qualityobjects task",
           100888
          ],
          [
           3,
           "endofcycle endofcycle | endofcycle | 1664473857380 | timestamp 1664473857380 | 1664473857380 updating",
           108116
          ],
          [
           4,
           "check rawbunchminamplitude | rawbunchminamplitude quality | rawbunchminamplitude | quality good | good level",
           80254
          ],
          [
           5,
           "updating the | triggertype timestamp | triggertype | to trigger | task due",
           63570
          ],
          [
           22,
           "publishing 27 | 27 monitorobjects | 27 | monitorobjects publishing | publishing",
           32691
          ],
          [
           23,
           "check rawdecodingerrorcheckemcal | rawdecodingerrorcheckemcal quality | rawdecodingerrorcheckemcal | bad level | quality bad",
           29836
          ],
          [
           25,
           "sending quality | objects sending | quality objects | sending | objects",
           40348
          ],
          [
           29,
           "storing qualityobjects | qualityobjects storing | qualityobjects | storing | 2aqpoqtujdk",
           26253
          ],
          [
           32,
           "check fhrcheck | fhrcheck quality | fhrcheck | 10 check | null level",
           23829
          ],
          [
           33,
           "cellcheckoccupancy quality | check cellcheckoccupancy | cellcheckoccupancy | quality good | good level",
           24429
          ],
          [
           35,
           "check cellcheckamplitude | cellcheckamplitude quality | cellcheckamplitude | quality good | good level",
           20741
          ],
          [
           54,
           "generating plots | plots generating | plots | generating | plots sending",
           23262
          ],
          [
           55,
           "rawoccupancycheck quality | check rawoccupancycheck | rawoccupancycheck | quality good | good level",
           25105
          ],
          [
           60,
           "publishing monitorobjects | monitorobjects publishing | publishing | monitorobjects | monitorobjects gap",
           26765
          ],
          [
           140,
           "memory zero | zero memory | zero | memory | memory equipment",
           21704
          ],
          [
           173,
           "occupancy average | average fifoready | fifoready | fifoready occupancy | occupancy",
           22160
          ],
          [
           175,
           "iteration average | iteration | pages pushed | average pages | pushed per",
           22093
          ],
          [
           177,
           "dma for | roc starting | starting dma | dma | stopping dma",
           65653
          ],
          [
           247,
           "roc nmemorylow | nmemorylow equipment | nmemorylow | equipment roc | roc",
           20425
          ],
          [
           262,
           "links used | 00000000000000001000000000000001 links | 00000000000000001000000000000001 | used 00000000000000001000000000000001 | links",
           21967
          ],
          [
           270,
           "packets | cru | dropped | cru equipment | lost",
           23494
          ],
          [
           1693,
           "pages roc | roc input | input queue | queue | queue size",
           30920
          ],
          [
           1870,
           "nolgperddl found | in nolgperddl | nolgperddl | error hgnolg | hgnolg in",
           23516
          ],
          [
           1882,
           "non contiguous | contiguous timeframe | contiguous | non | timeframe ids",
           56379
          ],
          [
           1885,
           "gain missing | gaintypeerror found | in gaintypeerror | missing found | gaintypeerror",
           35697
          ],
          [
           1910,
           "nohgperddl found | in nohgperddl | nohgperddl | fec | in fec",
           44403
          ],
          [
           1923,
           "row | col | in channel | channel col | sm",
           78917
          ],
          [
           2122,
           "ids detected | detected previous | in timeframe | previous | gap in",
           35159
          ]
         ],
         "hovertemplate": "<b>Topic %{customdata[0]}</b><br>%{customdata[1]}<br>Size: %{customdata[2]}",
         "legendgroup": "",
         "marker": {
          "color": "#B0BEC5",
          "line": {
           "color": "DarkSlateGrey",
           "width": 2
          },
          "size": [
           138005,
           109162,
           100888,
           108116,
           80254,
           63570,
           32691,
           29836,
           40348,
           26253,
           23829,
           24429,
           20741,
           23262,
           25105,
           26765,
           21704,
           22160,
           22093,
           65653,
           20425,
           21967,
           23494,
           30920,
           23516,
           56379,
           35697,
           44403,
           78917,
           35159
          ],
          "sizemode": "area",
          "sizeref": 86.253125,
          "symbol": "circle"
         },
         "mode": "markers",
         "name": "",
         "orientation": "v",
         "showlegend": false,
         "type": "scatter",
         "x": [
          -14.9065075,
          21.061428,
          11.946976,
          21.06122,
          0.17211062,
          21.550446,
          0.32349518,
          0.08671261,
          -15.042339,
          11.967484,
          0.38822585,
          -17.417791,
          -17.417795,
          0.15905952,
          0.1918554,
          0.23877108,
          8.999861,
          16.536352,
          16.504538,
          8.773318,
          8.934274,
          9.24646,
          9.169505,
          8.655252,
          -3.4386303,
          21.27817,
          -3.1692402,
          -3.560426,
          -3.7179189,
          21.381413
         ],
         "xaxis": "x",
         "y": [
          15.919509,
          13.616435,
          0.7072221,
          13.6159315,
          13.01872,
          5.1193523,
          1.8195184,
          13.5178175,
          16.05536,
          0.6910464,
          13.360428,
          -4.776541,
          -4.7765427,
          1.6543335,
          13.381426,
          1.7343444,
          13.316924,
          4.437536,
          4.414871,
          14.30042,
          13.916678,
          13.352265,
          13.559201,
          14.439648,
          13.283231,
          5.391302,
          13.015493,
          13.411613,
          13.571558,
          5.2884517
         ],
         "yaxis": "y"
        }
       ],
       "layout": {
        "annotations": [
         {
          "showarrow": false,
          "text": "D1",
          "x": -20.030464458465577,
          "y": 6.485320425033569,
          "yshift": 10
         },
         {
          "showarrow": false,
          "text": "D2",
          "x": 2.376273965835571,
          "xshift": 10,
          "y": 18.46366491317749
         }
        ],
        "height": 650,
        "hoverlabel": {
         "bgcolor": "white",
         "font": {
          "family": "Rockwell",
          "size": 16
         }
        },
        "legend": {
         "itemsizing": "constant",
         "tracegroupgap": 0
        },
        "margin": {
         "t": 60
        },
        "shapes": [
         {
          "line": {
           "color": "#CFD8DC",
           "width": 2
          },
          "type": "line",
          "x0": 2.376273965835571,
          "x1": 2.376273965835571,
          "y0": -5.493024063110352,
          "y1": 18.46366491317749
         },
         {
          "line": {
           "color": "#9E9E9E",
           "width": 2
          },
          "type": "line",
          "x0": -20.030464458465577,
          "x1": 24.78301239013672,
          "y0": 6.485320425033569,
          "y1": 6.485320425033569
         }
        ],
        "sliders": [
         {
          "active": 0,
          "pad": {
           "t": 50
          },
          "steps": [
           {
            "args": [
             {
              "marker.color": [
               [
                "red",
                "#B0BEC5",
                "#B0BEC5",
                "#B0BEC5",
                "#B0BEC5",
                "#B0BEC5",
                "#B0BEC5",
                "#B0BEC5",
                "#B0BEC5",
                "#B0BEC5",
                "#B0BEC5",
                "#B0BEC5",
                "#B0BEC5",
                "#B0BEC5",
                "#B0BEC5",
                "#B0BEC5",
                "#B0BEC5",
                "#B0BEC5",
                "#B0BEC5",
                "#B0BEC5",
                "#B0BEC5",
                "#B0BEC5",
                "#B0BEC5",
                "#B0BEC5",
                "#B0BEC5",
                "#B0BEC5",
                "#B0BEC5",
                "#B0BEC5",
                "#B0BEC5",
                "#B0BEC5"
               ]
              ]
             }
            ],
            "label": "Topic 0",
            "method": "update"
           },
           {
            "args": [
             {
              "marker.color": [
               [
                "#B0BEC5",
                "red",
                "#B0BEC5",
                "#B0BEC5",
                "#B0BEC5",
                "#B0BEC5",
                "#B0BEC5",
                "#B0BEC5",
                "#B0BEC5",
                "#B0BEC5",
                "#B0BEC5",
                "#B0BEC5",
                "#B0BEC5",
                "#B0BEC5",
                "#B0BEC5",
                "#B0BEC5",
                "#B0BEC5",
                "#B0BEC5",
                "#B0BEC5",
                "#B0BEC5",
                "#B0BEC5",
                "#B0BEC5",
                "#B0BEC5",
                "#B0BEC5",
                "#B0BEC5",
                "#B0BEC5",
                "#B0BEC5",
                "#B0BEC5",
                "#B0BEC5",
                "#B0BEC5"
               ]
              ]
             }
            ],
            "label": "Topic 1",
            "method": "update"
           },
           {
            "args": [
             {
              "marker.color": [
               [
                "#B0BEC5",
                "#B0BEC5",
                "red",
                "#B0BEC5",
                "#B0BEC5",
                "#B0BEC5",
                "#B0BEC5",
                "#B0BEC5",
                "#B0BEC5",
                "#B0BEC5",
                "#B0BEC5",
                "#B0BEC5",
                "#B0BEC5",
                "#B0BEC5",
                "#B0BEC5",
                "#B0BEC5",
                "#B0BEC5",
                "#B0BEC5",
                "#B0BEC5",
                "#B0BEC5",
                "#B0BEC5",
                "#B0BEC5",
                "#B0BEC5",
                "#B0BEC5",
                "#B0BEC5",
                "#B0BEC5",
                "#B0BEC5",
                "#B0BEC5",
                "#B0BEC5",
                "#B0BEC5"
               ]
              ]
             }
            ],
            "label": "Topic 2",
            "method": "update"
           },
           {
            "args": [
             {
              "marker.color": [
               [
                "#B0BEC5",
                "#B0BEC5",
                "#B0BEC5",
                "red",
                "#B0BEC5",
                "#B0BEC5",
                "#B0BEC5",
                "#B0BEC5",
                "#B0BEC5",
                "#B0BEC5",
                "#B0BEC5",
                "#B0BEC5",
                "#B0BEC5",
                "#B0BEC5",
                "#B0BEC5",
                "#B0BEC5",
                "#B0BEC5",
                "#B0BEC5",
                "#B0BEC5",
                "#B0BEC5",
                "#B0BEC5",
                "#B0BEC5",
                "#B0BEC5",
                "#B0BEC5",
                "#B0BEC5",
                "#B0BEC5",
                "#B0BEC5",
                "#B0BEC5",
                "#B0BEC5",
                "#B0BEC5"
               ]
              ]
             }
            ],
            "label": "Topic 3",
            "method": "update"
           },
           {
            "args": [
             {
              "marker.color": [
               [
                "#B0BEC5",
                "#B0BEC5",
                "#B0BEC5",
                "#B0BEC5",
                "red",
                "#B0BEC5",
                "#B0BEC5",
                "#B0BEC5",
                "#B0BEC5",
                "#B0BEC5",
                "#B0BEC5",
                "#B0BEC5",
                "#B0BEC5",
                "#B0BEC5",
                "#B0BEC5",
                "#B0BEC5",
                "#B0BEC5",
                "#B0BEC5",
                "#B0BEC5",
                "#B0BEC5",
                "#B0BEC5",
                "#B0BEC5",
                "#B0BEC5",
                "#B0BEC5",
                "#B0BEC5",
                "#B0BEC5",
                "#B0BEC5",
                "#B0BEC5",
                "#B0BEC5",
                "#B0BEC5"
               ]
              ]
             }
            ],
            "label": "Topic 4",
            "method": "update"
           },
           {
            "args": [
             {
              "marker.color": [
               [
                "#B0BEC5",
                "#B0BEC5",
                "#B0BEC5",
                "#B0BEC5",
                "#B0BEC5",
                "red",
                "#B0BEC5",
                "#B0BEC5",
                "#B0BEC5",
                "#B0BEC5",
                "#B0BEC5",
                "#B0BEC5",
                "#B0BEC5",
                "#B0BEC5",
                "#B0BEC5",
                "#B0BEC5",
                "#B0BEC5",
                "#B0BEC5",
                "#B0BEC5",
                "#B0BEC5",
                "#B0BEC5",
                "#B0BEC5",
                "#B0BEC5",
                "#B0BEC5",
                "#B0BEC5",
                "#B0BEC5",
                "#B0BEC5",
                "#B0BEC5",
                "#B0BEC5",
                "#B0BEC5"
               ]
              ]
             }
            ],
            "label": "Topic 5",
            "method": "update"
           },
           {
            "args": [
             {
              "marker.color": [
               [
                "#B0BEC5",
                "#B0BEC5",
                "#B0BEC5",
                "#B0BEC5",
                "#B0BEC5",
                "#B0BEC5",
                "red",
                "#B0BEC5",
                "#B0BEC5",
                "#B0BEC5",
                "#B0BEC5",
                "#B0BEC5",
                "#B0BEC5",
                "#B0BEC5",
                "#B0BEC5",
                "#B0BEC5",
                "#B0BEC5",
                "#B0BEC5",
                "#B0BEC5",
                "#B0BEC5",
                "#B0BEC5",
                "#B0BEC5",
                "#B0BEC5",
                "#B0BEC5",
                "#B0BEC5",
                "#B0BEC5",
                "#B0BEC5",
                "#B0BEC5",
                "#B0BEC5",
                "#B0BEC5"
               ]
              ]
             }
            ],
            "label": "Topic 22",
            "method": "update"
           },
           {
            "args": [
             {
              "marker.color": [
               [
                "#B0BEC5",
                "#B0BEC5",
                "#B0BEC5",
                "#B0BEC5",
                "#B0BEC5",
                "#B0BEC5",
                "#B0BEC5",
                "red",
                "#B0BEC5",
                "#B0BEC5",
                "#B0BEC5",
                "#B0BEC5",
                "#B0BEC5",
                "#B0BEC5",
                "#B0BEC5",
                "#B0BEC5",
                "#B0BEC5",
                "#B0BEC5",
                "#B0BEC5",
                "#B0BEC5",
                "#B0BEC5",
                "#B0BEC5",
                "#B0BEC5",
                "#B0BEC5",
                "#B0BEC5",
                "#B0BEC5",
                "#B0BEC5",
                "#B0BEC5",
                "#B0BEC5",
                "#B0BEC5"
               ]
              ]
             }
            ],
            "label": "Topic 23",
            "method": "update"
           },
           {
            "args": [
             {
              "marker.color": [
               [
                "#B0BEC5",
                "#B0BEC5",
                "#B0BEC5",
                "#B0BEC5",
                "#B0BEC5",
                "#B0BEC5",
                "#B0BEC5",
                "#B0BEC5",
                "red",
                "#B0BEC5",
                "#B0BEC5",
                "#B0BEC5",
                "#B0BEC5",
                "#B0BEC5",
                "#B0BEC5",
                "#B0BEC5",
                "#B0BEC5",
                "#B0BEC5",
                "#B0BEC5",
                "#B0BEC5",
                "#B0BEC5",
                "#B0BEC5",
                "#B0BEC5",
                "#B0BEC5",
                "#B0BEC5",
                "#B0BEC5",
                "#B0BEC5",
                "#B0BEC5",
                "#B0BEC5",
                "#B0BEC5"
               ]
              ]
             }
            ],
            "label": "Topic 25",
            "method": "update"
           },
           {
            "args": [
             {
              "marker.color": [
               [
                "#B0BEC5",
                "#B0BEC5",
                "#B0BEC5",
                "#B0BEC5",
                "#B0BEC5",
                "#B0BEC5",
                "#B0BEC5",
                "#B0BEC5",
                "#B0BEC5",
                "red",
                "#B0BEC5",
                "#B0BEC5",
                "#B0BEC5",
                "#B0BEC5",
                "#B0BEC5",
                "#B0BEC5",
                "#B0BEC5",
                "#B0BEC5",
                "#B0BEC5",
                "#B0BEC5",
                "#B0BEC5",
                "#B0BEC5",
                "#B0BEC5",
                "#B0BEC5",
                "#B0BEC5",
                "#B0BEC5",
                "#B0BEC5",
                "#B0BEC5",
                "#B0BEC5",
                "#B0BEC5"
               ]
              ]
             }
            ],
            "label": "Topic 29",
            "method": "update"
           },
           {
            "args": [
             {
              "marker.color": [
               [
                "#B0BEC5",
                "#B0BEC5",
                "#B0BEC5",
                "#B0BEC5",
                "#B0BEC5",
                "#B0BEC5",
                "#B0BEC5",
                "#B0BEC5",
                "#B0BEC5",
                "#B0BEC5",
                "red",
                "#B0BEC5",
                "#B0BEC5",
                "#B0BEC5",
                "#B0BEC5",
                "#B0BEC5",
                "#B0BEC5",
                "#B0BEC5",
                "#B0BEC5",
                "#B0BEC5",
                "#B0BEC5",
                "#B0BEC5",
                "#B0BEC5",
                "#B0BEC5",
                "#B0BEC5",
                "#B0BEC5",
                "#B0BEC5",
                "#B0BEC5",
                "#B0BEC5",
                "#B0BEC5"
               ]
              ]
             }
            ],
            "label": "Topic 32",
            "method": "update"
           },
           {
            "args": [
             {
              "marker.color": [
               [
                "#B0BEC5",
                "#B0BEC5",
                "#B0BEC5",
                "#B0BEC5",
                "#B0BEC5",
                "#B0BEC5",
                "#B0BEC5",
                "#B0BEC5",
                "#B0BEC5",
                "#B0BEC5",
                "#B0BEC5",
                "red",
                "#B0BEC5",
                "#B0BEC5",
                "#B0BEC5",
                "#B0BEC5",
                "#B0BEC5",
                "#B0BEC5",
                "#B0BEC5",
                "#B0BEC5",
                "#B0BEC5",
                "#B0BEC5",
                "#B0BEC5",
                "#B0BEC5",
                "#B0BEC5",
                "#B0BEC5",
                "#B0BEC5",
                "#B0BEC5",
                "#B0BEC5",
                "#B0BEC5"
               ]
              ]
             }
            ],
            "label": "Topic 33",
            "method": "update"
           },
           {
            "args": [
             {
              "marker.color": [
               [
                "#B0BEC5",
                "#B0BEC5",
                "#B0BEC5",
                "#B0BEC5",
                "#B0BEC5",
                "#B0BEC5",
                "#B0BEC5",
                "#B0BEC5",
                "#B0BEC5",
                "#B0BEC5",
                "#B0BEC5",
                "#B0BEC5",
                "red",
                "#B0BEC5",
                "#B0BEC5",
                "#B0BEC5",
                "#B0BEC5",
                "#B0BEC5",
                "#B0BEC5",
                "#B0BEC5",
                "#B0BEC5",
                "#B0BEC5",
                "#B0BEC5",
                "#B0BEC5",
                "#B0BEC5",
                "#B0BEC5",
                "#B0BEC5",
                "#B0BEC5",
                "#B0BEC5",
                "#B0BEC5"
               ]
              ]
             }
            ],
            "label": "Topic 35",
            "method": "update"
           },
           {
            "args": [
             {
              "marker.color": [
               [
                "#B0BEC5",
                "#B0BEC5",
                "#B0BEC5",
                "#B0BEC5",
                "#B0BEC5",
                "#B0BEC5",
                "#B0BEC5",
                "#B0BEC5",
                "#B0BEC5",
                "#B0BEC5",
                "#B0BEC5",
                "#B0BEC5",
                "#B0BEC5",
                "red",
                "#B0BEC5",
                "#B0BEC5",
                "#B0BEC5",
                "#B0BEC5",
                "#B0BEC5",
                "#B0BEC5",
                "#B0BEC5",
                "#B0BEC5",
                "#B0BEC5",
                "#B0BEC5",
                "#B0BEC5",
                "#B0BEC5",
                "#B0BEC5",
                "#B0BEC5",
                "#B0BEC5",
                "#B0BEC5"
               ]
              ]
             }
            ],
            "label": "Topic 54",
            "method": "update"
           },
           {
            "args": [
             {
              "marker.color": [
               [
                "#B0BEC5",
                "#B0BEC5",
                "#B0BEC5",
                "#B0BEC5",
                "#B0BEC5",
                "#B0BEC5",
                "#B0BEC5",
                "#B0BEC5",
                "#B0BEC5",
                "#B0BEC5",
                "#B0BEC5",
                "#B0BEC5",
                "#B0BEC5",
                "#B0BEC5",
                "red",
                "#B0BEC5",
                "#B0BEC5",
                "#B0BEC5",
                "#B0BEC5",
                "#B0BEC5",
                "#B0BEC5",
                "#B0BEC5",
                "#B0BEC5",
                "#B0BEC5",
                "#B0BEC5",
                "#B0BEC5",
                "#B0BEC5",
                "#B0BEC5",
                "#B0BEC5",
                "#B0BEC5"
               ]
              ]
             }
            ],
            "label": "Topic 55",
            "method": "update"
           },
           {
            "args": [
             {
              "marker.color": [
               [
                "#B0BEC5",
                "#B0BEC5",
                "#B0BEC5",
                "#B0BEC5",
                "#B0BEC5",
                "#B0BEC5",
                "#B0BEC5",
                "#B0BEC5",
                "#B0BEC5",
                "#B0BEC5",
                "#B0BEC5",
                "#B0BEC5",
                "#B0BEC5",
                "#B0BEC5",
                "#B0BEC5",
                "red",
                "#B0BEC5",
                "#B0BEC5",
                "#B0BEC5",
                "#B0BEC5",
                "#B0BEC5",
                "#B0BEC5",
                "#B0BEC5",
                "#B0BEC5",
                "#B0BEC5",
                "#B0BEC5",
                "#B0BEC5",
                "#B0BEC5",
                "#B0BEC5",
                "#B0BEC5"
               ]
              ]
             }
            ],
            "label": "Topic 60",
            "method": "update"
           },
           {
            "args": [
             {
              "marker.color": [
               [
                "#B0BEC5",
                "#B0BEC5",
                "#B0BEC5",
                "#B0BEC5",
                "#B0BEC5",
                "#B0BEC5",
                "#B0BEC5",
                "#B0BEC5",
                "#B0BEC5",
                "#B0BEC5",
                "#B0BEC5",
                "#B0BEC5",
                "#B0BEC5",
                "#B0BEC5",
                "#B0BEC5",
                "#B0BEC5",
                "red",
                "#B0BEC5",
                "#B0BEC5",
                "#B0BEC5",
                "#B0BEC5",
                "#B0BEC5",
                "#B0BEC5",
                "#B0BEC5",
                "#B0BEC5",
                "#B0BEC5",
                "#B0BEC5",
                "#B0BEC5",
                "#B0BEC5",
                "#B0BEC5"
               ]
              ]
             }
            ],
            "label": "Topic 140",
            "method": "update"
           },
           {
            "args": [
             {
              "marker.color": [
               [
                "#B0BEC5",
                "#B0BEC5",
                "#B0BEC5",
                "#B0BEC5",
                "#B0BEC5",
                "#B0BEC5",
                "#B0BEC5",
                "#B0BEC5",
                "#B0BEC5",
                "#B0BEC5",
                "#B0BEC5",
                "#B0BEC5",
                "#B0BEC5",
                "#B0BEC5",
                "#B0BEC5",
                "#B0BEC5",
                "#B0BEC5",
                "red",
                "#B0BEC5",
                "#B0BEC5",
                "#B0BEC5",
                "#B0BEC5",
                "#B0BEC5",
                "#B0BEC5",
                "#B0BEC5",
                "#B0BEC5",
                "#B0BEC5",
                "#B0BEC5",
                "#B0BEC5",
                "#B0BEC5"
               ]
              ]
             }
            ],
            "label": "Topic 173",
            "method": "update"
           },
           {
            "args": [
             {
              "marker.color": [
               [
                "#B0BEC5",
                "#B0BEC5",
                "#B0BEC5",
                "#B0BEC5",
                "#B0BEC5",
                "#B0BEC5",
                "#B0BEC5",
                "#B0BEC5",
                "#B0BEC5",
                "#B0BEC5",
                "#B0BEC5",
                "#B0BEC5",
                "#B0BEC5",
                "#B0BEC5",
                "#B0BEC5",
                "#B0BEC5",
                "#B0BEC5",
                "#B0BEC5",
                "red",
                "#B0BEC5",
                "#B0BEC5",
                "#B0BEC5",
                "#B0BEC5",
                "#B0BEC5",
                "#B0BEC5",
                "#B0BEC5",
                "#B0BEC5",
                "#B0BEC5",
                "#B0BEC5",
                "#B0BEC5"
               ]
              ]
             }
            ],
            "label": "Topic 175",
            "method": "update"
           },
           {
            "args": [
             {
              "marker.color": [
               [
                "#B0BEC5",
                "#B0BEC5",
                "#B0BEC5",
                "#B0BEC5",
                "#B0BEC5",
                "#B0BEC5",
                "#B0BEC5",
                "#B0BEC5",
                "#B0BEC5",
                "#B0BEC5",
                "#B0BEC5",
                "#B0BEC5",
                "#B0BEC5",
                "#B0BEC5",
                "#B0BEC5",
                "#B0BEC5",
                "#B0BEC5",
                "#B0BEC5",
                "#B0BEC5",
                "red",
                "#B0BEC5",
                "#B0BEC5",
                "#B0BEC5",
                "#B0BEC5",
                "#B0BEC5",
                "#B0BEC5",
                "#B0BEC5",
                "#B0BEC5",
                "#B0BEC5",
                "#B0BEC5"
               ]
              ]
             }
            ],
            "label": "Topic 177",
            "method": "update"
           },
           {
            "args": [
             {
              "marker.color": [
               [
                "#B0BEC5",
                "#B0BEC5",
                "#B0BEC5",
                "#B0BEC5",
                "#B0BEC5",
                "#B0BEC5",
                "#B0BEC5",
                "#B0BEC5",
                "#B0BEC5",
                "#B0BEC5",
                "#B0BEC5",
                "#B0BEC5",
                "#B0BEC5",
                "#B0BEC5",
                "#B0BEC5",
                "#B0BEC5",
                "#B0BEC5",
                "#B0BEC5",
                "#B0BEC5",
                "#B0BEC5",
                "red",
                "#B0BEC5",
                "#B0BEC5",
                "#B0BEC5",
                "#B0BEC5",
                "#B0BEC5",
                "#B0BEC5",
                "#B0BEC5",
                "#B0BEC5",
                "#B0BEC5"
               ]
              ]
             }
            ],
            "label": "Topic 247",
            "method": "update"
           },
           {
            "args": [
             {
              "marker.color": [
               [
                "#B0BEC5",
                "#B0BEC5",
                "#B0BEC5",
                "#B0BEC5",
                "#B0BEC5",
                "#B0BEC5",
                "#B0BEC5",
                "#B0BEC5",
                "#B0BEC5",
                "#B0BEC5",
                "#B0BEC5",
                "#B0BEC5",
                "#B0BEC5",
                "#B0BEC5",
                "#B0BEC5",
                "#B0BEC5",
                "#B0BEC5",
                "#B0BEC5",
                "#B0BEC5",
                "#B0BEC5",
                "#B0BEC5",
                "red",
                "#B0BEC5",
                "#B0BEC5",
                "#B0BEC5",
                "#B0BEC5",
                "#B0BEC5",
                "#B0BEC5",
                "#B0BEC5",
                "#B0BEC5"
               ]
              ]
             }
            ],
            "label": "Topic 262",
            "method": "update"
           },
           {
            "args": [
             {
              "marker.color": [
               [
                "#B0BEC5",
                "#B0BEC5",
                "#B0BEC5",
                "#B0BEC5",
                "#B0BEC5",
                "#B0BEC5",
                "#B0BEC5",
                "#B0BEC5",
                "#B0BEC5",
                "#B0BEC5",
                "#B0BEC5",
                "#B0BEC5",
                "#B0BEC5",
                "#B0BEC5",
                "#B0BEC5",
                "#B0BEC5",
                "#B0BEC5",
                "#B0BEC5",
                "#B0BEC5",
                "#B0BEC5",
                "#B0BEC5",
                "#B0BEC5",
                "red",
                "#B0BEC5",
                "#B0BEC5",
                "#B0BEC5",
                "#B0BEC5",
                "#B0BEC5",
                "#B0BEC5",
                "#B0BEC5"
               ]
              ]
             }
            ],
            "label": "Topic 270",
            "method": "update"
           },
           {
            "args": [
             {
              "marker.color": [
               [
                "#B0BEC5",
                "#B0BEC5",
                "#B0BEC5",
                "#B0BEC5",
                "#B0BEC5",
                "#B0BEC5",
                "#B0BEC5",
                "#B0BEC5",
                "#B0BEC5",
                "#B0BEC5",
                "#B0BEC5",
                "#B0BEC5",
                "#B0BEC5",
                "#B0BEC5",
                "#B0BEC5",
                "#B0BEC5",
                "#B0BEC5",
                "#B0BEC5",
                "#B0BEC5",
                "#B0BEC5",
                "#B0BEC5",
                "#B0BEC5",
                "#B0BEC5",
                "red",
                "#B0BEC5",
                "#B0BEC5",
                "#B0BEC5",
                "#B0BEC5",
                "#B0BEC5",
                "#B0BEC5"
               ]
              ]
             }
            ],
            "label": "Topic 1693",
            "method": "update"
           },
           {
            "args": [
             {
              "marker.color": [
               [
                "#B0BEC5",
                "#B0BEC5",
                "#B0BEC5",
                "#B0BEC5",
                "#B0BEC5",
                "#B0BEC5",
                "#B0BEC5",
                "#B0BEC5",
                "#B0BEC5",
                "#B0BEC5",
                "#B0BEC5",
                "#B0BEC5",
                "#B0BEC5",
                "#B0BEC5",
                "#B0BEC5",
                "#B0BEC5",
                "#B0BEC5",
                "#B0BEC5",
                "#B0BEC5",
                "#B0BEC5",
                "#B0BEC5",
                "#B0BEC5",
                "#B0BEC5",
                "#B0BEC5",
                "red",
                "#B0BEC5",
                "#B0BEC5",
                "#B0BEC5",
                "#B0BEC5",
                "#B0BEC5"
               ]
              ]
             }
            ],
            "label": "Topic 1870",
            "method": "update"
           },
           {
            "args": [
             {
              "marker.color": [
               [
                "#B0BEC5",
                "#B0BEC5",
                "#B0BEC5",
                "#B0BEC5",
                "#B0BEC5",
                "#B0BEC5",
                "#B0BEC5",
                "#B0BEC5",
                "#B0BEC5",
                "#B0BEC5",
                "#B0BEC5",
                "#B0BEC5",
                "#B0BEC5",
                "#B0BEC5",
                "#B0BEC5",
                "#B0BEC5",
                "#B0BEC5",
                "#B0BEC5",
                "#B0BEC5",
                "#B0BEC5",
                "#B0BEC5",
                "#B0BEC5",
                "#B0BEC5",
                "#B0BEC5",
                "#B0BEC5",
                "red",
                "#B0BEC5",
                "#B0BEC5",
                "#B0BEC5",
                "#B0BEC5"
               ]
              ]
             }
            ],
            "label": "Topic 1882",
            "method": "update"
           },
           {
            "args": [
             {
              "marker.color": [
               [
                "#B0BEC5",
                "#B0BEC5",
                "#B0BEC5",
                "#B0BEC5",
                "#B0BEC5",
                "#B0BEC5",
                "#B0BEC5",
                "#B0BEC5",
                "#B0BEC5",
                "#B0BEC5",
                "#B0BEC5",
                "#B0BEC5",
                "#B0BEC5",
                "#B0BEC5",
                "#B0BEC5",
                "#B0BEC5",
                "#B0BEC5",
                "#B0BEC5",
                "#B0BEC5",
                "#B0BEC5",
                "#B0BEC5",
                "#B0BEC5",
                "#B0BEC5",
                "#B0BEC5",
                "#B0BEC5",
                "#B0BEC5",
                "red",
                "#B0BEC5",
                "#B0BEC5",
                "#B0BEC5"
               ]
              ]
             }
            ],
            "label": "Topic 1885",
            "method": "update"
           },
           {
            "args": [
             {
              "marker.color": [
               [
                "#B0BEC5",
                "#B0BEC5",
                "#B0BEC5",
                "#B0BEC5",
                "#B0BEC5",
                "#B0BEC5",
                "#B0BEC5",
                "#B0BEC5",
                "#B0BEC5",
                "#B0BEC5",
                "#B0BEC5",
                "#B0BEC5",
                "#B0BEC5",
                "#B0BEC5",
                "#B0BEC5",
                "#B0BEC5",
                "#B0BEC5",
                "#B0BEC5",
                "#B0BEC5",
                "#B0BEC5",
                "#B0BEC5",
                "#B0BEC5",
                "#B0BEC5",
                "#B0BEC5",
                "#B0BEC5",
                "#B0BEC5",
                "#B0BEC5",
                "red",
                "#B0BEC5",
                "#B0BEC5"
               ]
              ]
             }
            ],
            "label": "Topic 1910",
            "method": "update"
           },
           {
            "args": [
             {
              "marker.color": [
               [
                "#B0BEC5",
                "#B0BEC5",
                "#B0BEC5",
                "#B0BEC5",
                "#B0BEC5",
                "#B0BEC5",
                "#B0BEC5",
                "#B0BEC5",
                "#B0BEC5",
                "#B0BEC5",
                "#B0BEC5",
                "#B0BEC5",
                "#B0BEC5",
                "#B0BEC5",
                "#B0BEC5",
                "#B0BEC5",
                "#B0BEC5",
                "#B0BEC5",
                "#B0BEC5",
                "#B0BEC5",
                "#B0BEC5",
                "#B0BEC5",
                "#B0BEC5",
                "#B0BEC5",
                "#B0BEC5",
                "#B0BEC5",
                "#B0BEC5",
                "#B0BEC5",
                "red",
                "#B0BEC5"
               ]
              ]
             }
            ],
            "label": "Topic 1923",
            "method": "update"
           },
           {
            "args": [
             {
              "marker.color": [
               [
                "#B0BEC5",
                "#B0BEC5",
                "#B0BEC5",
                "#B0BEC5",
                "#B0BEC5",
                "#B0BEC5",
                "#B0BEC5",
                "#B0BEC5",
                "#B0BEC5",
                "#B0BEC5",
                "#B0BEC5",
                "#B0BEC5",
                "#B0BEC5",
                "#B0BEC5",
                "#B0BEC5",
                "#B0BEC5",
                "#B0BEC5",
                "#B0BEC5",
                "#B0BEC5",
                "#B0BEC5",
                "#B0BEC5",
                "#B0BEC5",
                "#B0BEC5",
                "#B0BEC5",
                "#B0BEC5",
                "#B0BEC5",
                "#B0BEC5",
                "#B0BEC5",
                "#B0BEC5",
                "red"
               ]
              ]
             }
            ],
            "label": "Topic 2122",
            "method": "update"
           }
          ]
         }
        ],
        "template": {
         "data": {
          "bar": [
           {
            "error_x": {
             "color": "rgb(36,36,36)"
            },
            "error_y": {
             "color": "rgb(36,36,36)"
            },
            "marker": {
             "line": {
              "color": "white",
              "width": 0.5
             },
             "pattern": {
              "fillmode": "overlay",
              "size": 10,
              "solidity": 0.2
             }
            },
            "type": "bar"
           }
          ],
          "barpolar": [
           {
            "marker": {
             "line": {
              "color": "white",
              "width": 0.5
             },
             "pattern": {
              "fillmode": "overlay",
              "size": 10,
              "solidity": 0.2
             }
            },
            "type": "barpolar"
           }
          ],
          "carpet": [
           {
            "aaxis": {
             "endlinecolor": "rgb(36,36,36)",
             "gridcolor": "white",
             "linecolor": "white",
             "minorgridcolor": "white",
             "startlinecolor": "rgb(36,36,36)"
            },
            "baxis": {
             "endlinecolor": "rgb(36,36,36)",
             "gridcolor": "white",
             "linecolor": "white",
             "minorgridcolor": "white",
             "startlinecolor": "rgb(36,36,36)"
            },
            "type": "carpet"
           }
          ],
          "choropleth": [
           {
            "colorbar": {
             "outlinewidth": 1,
             "tickcolor": "rgb(36,36,36)",
             "ticks": "outside"
            },
            "type": "choropleth"
           }
          ],
          "contour": [
           {
            "colorbar": {
             "outlinewidth": 1,
             "tickcolor": "rgb(36,36,36)",
             "ticks": "outside"
            },
            "colorscale": [
             [
              0,
              "#440154"
             ],
             [
              0.1111111111111111,
              "#482878"
             ],
             [
              0.2222222222222222,
              "#3e4989"
             ],
             [
              0.3333333333333333,
              "#31688e"
             ],
             [
              0.4444444444444444,
              "#26828e"
             ],
             [
              0.5555555555555556,
              "#1f9e89"
             ],
             [
              0.6666666666666666,
              "#35b779"
             ],
             [
              0.7777777777777778,
              "#6ece58"
             ],
             [
              0.8888888888888888,
              "#b5de2b"
             ],
             [
              1,
              "#fde725"
             ]
            ],
            "type": "contour"
           }
          ],
          "contourcarpet": [
           {
            "colorbar": {
             "outlinewidth": 1,
             "tickcolor": "rgb(36,36,36)",
             "ticks": "outside"
            },
            "type": "contourcarpet"
           }
          ],
          "heatmap": [
           {
            "colorbar": {
             "outlinewidth": 1,
             "tickcolor": "rgb(36,36,36)",
             "ticks": "outside"
            },
            "colorscale": [
             [
              0,
              "#440154"
             ],
             [
              0.1111111111111111,
              "#482878"
             ],
             [
              0.2222222222222222,
              "#3e4989"
             ],
             [
              0.3333333333333333,
              "#31688e"
             ],
             [
              0.4444444444444444,
              "#26828e"
             ],
             [
              0.5555555555555556,
              "#1f9e89"
             ],
             [
              0.6666666666666666,
              "#35b779"
             ],
             [
              0.7777777777777778,
              "#6ece58"
             ],
             [
              0.8888888888888888,
              "#b5de2b"
             ],
             [
              1,
              "#fde725"
             ]
            ],
            "type": "heatmap"
           }
          ],
          "heatmapgl": [
           {
            "colorbar": {
             "outlinewidth": 1,
             "tickcolor": "rgb(36,36,36)",
             "ticks": "outside"
            },
            "colorscale": [
             [
              0,
              "#440154"
             ],
             [
              0.1111111111111111,
              "#482878"
             ],
             [
              0.2222222222222222,
              "#3e4989"
             ],
             [
              0.3333333333333333,
              "#31688e"
             ],
             [
              0.4444444444444444,
              "#26828e"
             ],
             [
              0.5555555555555556,
              "#1f9e89"
             ],
             [
              0.6666666666666666,
              "#35b779"
             ],
             [
              0.7777777777777778,
              "#6ece58"
             ],
             [
              0.8888888888888888,
              "#b5de2b"
             ],
             [
              1,
              "#fde725"
             ]
            ],
            "type": "heatmapgl"
           }
          ],
          "histogram": [
           {
            "marker": {
             "line": {
              "color": "white",
              "width": 0.6
             }
            },
            "type": "histogram"
           }
          ],
          "histogram2d": [
           {
            "colorbar": {
             "outlinewidth": 1,
             "tickcolor": "rgb(36,36,36)",
             "ticks": "outside"
            },
            "colorscale": [
             [
              0,
              "#440154"
             ],
             [
              0.1111111111111111,
              "#482878"
             ],
             [
              0.2222222222222222,
              "#3e4989"
             ],
             [
              0.3333333333333333,
              "#31688e"
             ],
             [
              0.4444444444444444,
              "#26828e"
             ],
             [
              0.5555555555555556,
              "#1f9e89"
             ],
             [
              0.6666666666666666,
              "#35b779"
             ],
             [
              0.7777777777777778,
              "#6ece58"
             ],
             [
              0.8888888888888888,
              "#b5de2b"
             ],
             [
              1,
              "#fde725"
             ]
            ],
            "type": "histogram2d"
           }
          ],
          "histogram2dcontour": [
           {
            "colorbar": {
             "outlinewidth": 1,
             "tickcolor": "rgb(36,36,36)",
             "ticks": "outside"
            },
            "colorscale": [
             [
              0,
              "#440154"
             ],
             [
              0.1111111111111111,
              "#482878"
             ],
             [
              0.2222222222222222,
              "#3e4989"
             ],
             [
              0.3333333333333333,
              "#31688e"
             ],
             [
              0.4444444444444444,
              "#26828e"
             ],
             [
              0.5555555555555556,
              "#1f9e89"
             ],
             [
              0.6666666666666666,
              "#35b779"
             ],
             [
              0.7777777777777778,
              "#6ece58"
             ],
             [
              0.8888888888888888,
              "#b5de2b"
             ],
             [
              1,
              "#fde725"
             ]
            ],
            "type": "histogram2dcontour"
           }
          ],
          "mesh3d": [
           {
            "colorbar": {
             "outlinewidth": 1,
             "tickcolor": "rgb(36,36,36)",
             "ticks": "outside"
            },
            "type": "mesh3d"
           }
          ],
          "parcoords": [
           {
            "line": {
             "colorbar": {
              "outlinewidth": 1,
              "tickcolor": "rgb(36,36,36)",
              "ticks": "outside"
             }
            },
            "type": "parcoords"
           }
          ],
          "pie": [
           {
            "automargin": true,
            "type": "pie"
           }
          ],
          "scatter": [
           {
            "fillpattern": {
             "fillmode": "overlay",
             "size": 10,
             "solidity": 0.2
            },
            "type": "scatter"
           }
          ],
          "scatter3d": [
           {
            "line": {
             "colorbar": {
              "outlinewidth": 1,
              "tickcolor": "rgb(36,36,36)",
              "ticks": "outside"
             }
            },
            "marker": {
             "colorbar": {
              "outlinewidth": 1,
              "tickcolor": "rgb(36,36,36)",
              "ticks": "outside"
             }
            },
            "type": "scatter3d"
           }
          ],
          "scattercarpet": [
           {
            "marker": {
             "colorbar": {
              "outlinewidth": 1,
              "tickcolor": "rgb(36,36,36)",
              "ticks": "outside"
             }
            },
            "type": "scattercarpet"
           }
          ],
          "scattergeo": [
           {
            "marker": {
             "colorbar": {
              "outlinewidth": 1,
              "tickcolor": "rgb(36,36,36)",
              "ticks": "outside"
             }
            },
            "type": "scattergeo"
           }
          ],
          "scattergl": [
           {
            "marker": {
             "colorbar": {
              "outlinewidth": 1,
              "tickcolor": "rgb(36,36,36)",
              "ticks": "outside"
             }
            },
            "type": "scattergl"
           }
          ],
          "scattermapbox": [
           {
            "marker": {
             "colorbar": {
              "outlinewidth": 1,
              "tickcolor": "rgb(36,36,36)",
              "ticks": "outside"
             }
            },
            "type": "scattermapbox"
           }
          ],
          "scatterpolar": [
           {
            "marker": {
             "colorbar": {
              "outlinewidth": 1,
              "tickcolor": "rgb(36,36,36)",
              "ticks": "outside"
             }
            },
            "type": "scatterpolar"
           }
          ],
          "scatterpolargl": [
           {
            "marker": {
             "colorbar": {
              "outlinewidth": 1,
              "tickcolor": "rgb(36,36,36)",
              "ticks": "outside"
             }
            },
            "type": "scatterpolargl"
           }
          ],
          "scatterternary": [
           {
            "marker": {
             "colorbar": {
              "outlinewidth": 1,
              "tickcolor": "rgb(36,36,36)",
              "ticks": "outside"
             }
            },
            "type": "scatterternary"
           }
          ],
          "surface": [
           {
            "colorbar": {
             "outlinewidth": 1,
             "tickcolor": "rgb(36,36,36)",
             "ticks": "outside"
            },
            "colorscale": [
             [
              0,
              "#440154"
             ],
             [
              0.1111111111111111,
              "#482878"
             ],
             [
              0.2222222222222222,
              "#3e4989"
             ],
             [
              0.3333333333333333,
              "#31688e"
             ],
             [
              0.4444444444444444,
              "#26828e"
             ],
             [
              0.5555555555555556,
              "#1f9e89"
             ],
             [
              0.6666666666666666,
              "#35b779"
             ],
             [
              0.7777777777777778,
              "#6ece58"
             ],
             [
              0.8888888888888888,
              "#b5de2b"
             ],
             [
              1,
              "#fde725"
             ]
            ],
            "type": "surface"
           }
          ],
          "table": [
           {
            "cells": {
             "fill": {
              "color": "rgb(237,237,237)"
             },
             "line": {
              "color": "white"
             }
            },
            "header": {
             "fill": {
              "color": "rgb(217,217,217)"
             },
             "line": {
              "color": "white"
             }
            },
            "type": "table"
           }
          ]
         },
         "layout": {
          "annotationdefaults": {
           "arrowhead": 0,
           "arrowwidth": 1
          },
          "autotypenumbers": "strict",
          "coloraxis": {
           "colorbar": {
            "outlinewidth": 1,
            "tickcolor": "rgb(36,36,36)",
            "ticks": "outside"
           }
          },
          "colorscale": {
           "diverging": [
            [
             0,
             "rgb(103,0,31)"
            ],
            [
             0.1,
             "rgb(178,24,43)"
            ],
            [
             0.2,
             "rgb(214,96,77)"
            ],
            [
             0.3,
             "rgb(244,165,130)"
            ],
            [
             0.4,
             "rgb(253,219,199)"
            ],
            [
             0.5,
             "rgb(247,247,247)"
            ],
            [
             0.6,
             "rgb(209,229,240)"
            ],
            [
             0.7,
             "rgb(146,197,222)"
            ],
            [
             0.8,
             "rgb(67,147,195)"
            ],
            [
             0.9,
             "rgb(33,102,172)"
            ],
            [
             1,
             "rgb(5,48,97)"
            ]
           ],
           "sequential": [
            [
             0,
             "#440154"
            ],
            [
             0.1111111111111111,
             "#482878"
            ],
            [
             0.2222222222222222,
             "#3e4989"
            ],
            [
             0.3333333333333333,
             "#31688e"
            ],
            [
             0.4444444444444444,
             "#26828e"
            ],
            [
             0.5555555555555556,
             "#1f9e89"
            ],
            [
             0.6666666666666666,
             "#35b779"
            ],
            [
             0.7777777777777778,
             "#6ece58"
            ],
            [
             0.8888888888888888,
             "#b5de2b"
            ],
            [
             1,
             "#fde725"
            ]
           ],
           "sequentialminus": [
            [
             0,
             "#440154"
            ],
            [
             0.1111111111111111,
             "#482878"
            ],
            [
             0.2222222222222222,
             "#3e4989"
            ],
            [
             0.3333333333333333,
             "#31688e"
            ],
            [
             0.4444444444444444,
             "#26828e"
            ],
            [
             0.5555555555555556,
             "#1f9e89"
            ],
            [
             0.6666666666666666,
             "#35b779"
            ],
            [
             0.7777777777777778,
             "#6ece58"
            ],
            [
             0.8888888888888888,
             "#b5de2b"
            ],
            [
             1,
             "#fde725"
            ]
           ]
          },
          "colorway": [
           "#1F77B4",
           "#FF7F0E",
           "#2CA02C",
           "#D62728",
           "#9467BD",
           "#8C564B",
           "#E377C2",
           "#7F7F7F",
           "#BCBD22",
           "#17BECF"
          ],
          "font": {
           "color": "rgb(36,36,36)"
          },
          "geo": {
           "bgcolor": "white",
           "lakecolor": "white",
           "landcolor": "white",
           "showlakes": true,
           "showland": true,
           "subunitcolor": "white"
          },
          "hoverlabel": {
           "align": "left"
          },
          "hovermode": "closest",
          "mapbox": {
           "style": "light"
          },
          "paper_bgcolor": "white",
          "plot_bgcolor": "white",
          "polar": {
           "angularaxis": {
            "gridcolor": "rgb(232,232,232)",
            "linecolor": "rgb(36,36,36)",
            "showgrid": false,
            "showline": true,
            "ticks": "outside"
           },
           "bgcolor": "white",
           "radialaxis": {
            "gridcolor": "rgb(232,232,232)",
            "linecolor": "rgb(36,36,36)",
            "showgrid": false,
            "showline": true,
            "ticks": "outside"
           }
          },
          "scene": {
           "xaxis": {
            "backgroundcolor": "white",
            "gridcolor": "rgb(232,232,232)",
            "gridwidth": 2,
            "linecolor": "rgb(36,36,36)",
            "showbackground": true,
            "showgrid": false,
            "showline": true,
            "ticks": "outside",
            "zeroline": false,
            "zerolinecolor": "rgb(36,36,36)"
           },
           "yaxis": {
            "backgroundcolor": "white",
            "gridcolor": "rgb(232,232,232)",
            "gridwidth": 2,
            "linecolor": "rgb(36,36,36)",
            "showbackground": true,
            "showgrid": false,
            "showline": true,
            "ticks": "outside",
            "zeroline": false,
            "zerolinecolor": "rgb(36,36,36)"
           },
           "zaxis": {
            "backgroundcolor": "white",
            "gridcolor": "rgb(232,232,232)",
            "gridwidth": 2,
            "linecolor": "rgb(36,36,36)",
            "showbackground": true,
            "showgrid": false,
            "showline": true,
            "ticks": "outside",
            "zeroline": false,
            "zerolinecolor": "rgb(36,36,36)"
           }
          },
          "shapedefaults": {
           "fillcolor": "black",
           "line": {
            "width": 0
           },
           "opacity": 0.3
          },
          "ternary": {
           "aaxis": {
            "gridcolor": "rgb(232,232,232)",
            "linecolor": "rgb(36,36,36)",
            "showgrid": false,
            "showline": true,
            "ticks": "outside"
           },
           "baxis": {
            "gridcolor": "rgb(232,232,232)",
            "linecolor": "rgb(36,36,36)",
            "showgrid": false,
            "showline": true,
            "ticks": "outside"
           },
           "bgcolor": "white",
           "caxis": {
            "gridcolor": "rgb(232,232,232)",
            "linecolor": "rgb(36,36,36)",
            "showgrid": false,
            "showline": true,
            "ticks": "outside"
           }
          },
          "title": {
           "x": 0.05
          },
          "xaxis": {
           "automargin": true,
           "gridcolor": "rgb(232,232,232)",
           "linecolor": "rgb(36,36,36)",
           "showgrid": false,
           "showline": true,
           "ticks": "outside",
           "title": {
            "standoff": 15
           },
           "zeroline": false,
           "zerolinecolor": "rgb(36,36,36)"
          },
          "yaxis": {
           "automargin": true,
           "gridcolor": "rgb(232,232,232)",
           "linecolor": "rgb(36,36,36)",
           "showgrid": false,
           "showline": true,
           "ticks": "outside",
           "title": {
            "standoff": 15
           },
           "zeroline": false,
           "zerolinecolor": "rgb(36,36,36)"
          }
         }
        },
        "title": {
         "font": {
          "color": "Black",
          "size": 22
         },
         "text": "<b>Intertopic Distance Map</b>",
         "x": 0.5,
         "xanchor": "center",
         "y": 0.95,
         "yanchor": "top"
        },
        "width": 650,
        "xaxis": {
         "anchor": "y",
         "domain": [
          0,
          1
         ],
         "range": [
          -20.030464458465577,
          24.78301239013672
         ],
         "title": {
          "text": ""
         },
         "visible": false
        },
        "yaxis": {
         "anchor": "x",
         "domain": [
          0,
          1
         ],
         "range": [
          -5.493024063110352,
          18.46366491317749
         ],
         "title": {
          "text": ""
         },
         "visible": false
        }
       }
      }
     },
     "metadata": {},
     "output_type": "display_data"
    }
   ],
   "source": [
    "topic_model.model.visualize_topics(top_n_topics=30)"
   ]
  },
  {
   "cell_type": "code",
   "execution_count": 12,
   "metadata": {},
   "outputs": [
    {
     "data": {
      "application/vnd.plotly.v1+json": {
       "config": {
        "plotlyServerURL": "https://plot.ly"
       },
       "data": [
        {
         "hoverinfo": "text",
         "hovertext": [
          "<b>Topic 0</b><br>Words: sending quality, objects sending, quality objects, sending, objects",
          "<b>Topic 0</b><br>Words: sending quality, objects sending, quality objects, sending, objects"
         ],
         "marker": {
          "color": "#E69F00"
         },
         "name": "0_sending quality_objects sending_qualit...",
         "orientation": "h",
         "type": "bar",
         "visible": true,
         "x": [
          135414,
          2591
         ],
         "y": [
          "not crashed",
          "crashed"
         ]
        },
        {
         "hoverinfo": "text",
         "hovertext": [
          "<b>Topic 1</b><br>Words: startofcycle startofcycle, startofcycle, startofcycle equipment, 279136 startofcycle, startofcycle bank",
          "<b>Topic 1</b><br>Words: startofcycle startofcycle, startofcycle, startofcycle configure, cycledurationntf startofcycle, used 90035181"
         ],
         "marker": {
          "color": "#56B4E9"
         },
         "name": "1_startofcycle startofcycle_startofcycle...",
         "orientation": "h",
         "type": "bar",
         "visible": "legendonly",
         "x": [
          106554,
          2608
         ],
         "y": [
          "not crashed",
          "crashed"
         ]
        },
        {
         "hoverinfo": "text",
         "hovertext": [
          "<b>Topic 2</b><br>Words: storing qualityobjects, qualityobjects storing, qualityobjects, storing, qualityobjects task",
          "<b>Topic 2</b><br>Words: storing qualityobjects, qualityobjects storing, qualityobjects, storing, qualityobjects teardown"
         ],
         "marker": {
          "color": "#009E73"
         },
         "name": "2_storing qualityobjects_qualityobjects ...",
         "orientation": "h",
         "type": "bar",
         "visible": "legendonly",
         "x": [
          99473,
          1415
         ],
         "y": [
          "not crashed",
          "crashed"
         ]
        },
        {
         "hoverinfo": "text",
         "hovertext": [
          "<b>Topic 3</b><br>Words: endofcycle endofcycle, endofcycle, 1664473857380, timestamp 1664473857380, 1664473857380 updating",
          "<b>Topic 3</b><br>Words: endofcycle endofcycle, endofcycle, endofcycle received, 2arpa4s12ju task, 2arpa4s12ju"
         ],
         "marker": {
          "color": "#F0E442"
         },
         "name": "3_endofcycle endofcycle_endofcycle_16644...",
         "orientation": "h",
         "type": "bar",
         "visible": "legendonly",
         "x": [
          105594,
          2522
         ],
         "y": [
          "not crashed",
          "crashed"
         ]
        },
        {
         "hoverinfo": "text",
         "hovertext": [
          "<b>Topic 4</b><br>Words: check rawbunchminamplitude, rawbunchminamplitude quality, rawbunchminamplitude, good level, quality good",
          "<b>Topic 4</b><br>Words: check rawbunchminamplitude, rawbunchminamplitude quality, rawbunchminamplitude, quality good, good level"
         ],
         "marker": {
          "color": "#D55E00"
         },
         "name": "4_check rawbunchminamplitude_rawbunchmin...",
         "orientation": "h",
         "type": "bar",
         "visible": "legendonly",
         "x": [
          78715,
          1539
         ],
         "y": [
          "not crashed",
          "crashed"
         ]
        },
        {
         "hoverinfo": "text",
         "hovertext": [
          "<b>Topic 5</b><br>Words: updating the, triggertype timestamp, trigger triggertype, triggertype, to trigger",
          "<b>Topic 5</b><br>Words: updating the, triggertype timestamp, task due, trigger triggertype, triggertype"
         ],
         "marker": {
          "color": "#0072B2"
         },
         "name": "5_updating the_triggertype timestamp_tri...",
         "orientation": "h",
         "type": "bar",
         "visible": "legendonly",
         "x": [
          62006,
          1564
         ],
         "y": [
          "not crashed",
          "crashed"
         ]
        },
        {
         "hoverinfo": "text",
         "hovertext": [
          "<b>Topic 177</b><br>Words: dma for, starting dma, roc starting, dma, stopping dma",
          "<b>Topic 177</b><br>Words: dma for, roc starting, starting dma, dma, roc stopping"
         ],
         "marker": {
          "color": "#CC79A7"
         },
         "name": "177_dma for_roc starting_starting dma_dm...",
         "orientation": "h",
         "type": "bar",
         "visible": "legendonly",
         "x": [
          34587,
          31066
         ],
         "y": [
          "not crashed",
          "crashed"
         ]
        },
        {
         "hoverinfo": "text",
         "hovertext": [
          "<b>Topic 1882</b><br>Words: non contiguous, contiguous timeframe, contiguous, non, ids",
          "<b>Topic 1882</b><br>Words: contiguous, non contiguous, contiguous timeframe, non, timeframe ids"
         ],
         "marker": {
          "color": "#E69F00"
         },
         "name": "1882_non contiguous_contiguous timeframe...",
         "orientation": "h",
         "type": "bar",
         "visible": "legendonly",
         "x": [
          53704,
          2675
         ],
         "y": [
          "not crashed",
          "crashed"
         ]
        },
        {
         "hoverinfo": "text",
         "hovertext": [
          "<b>Topic 1910</b><br>Words: nohgperddl found, in nohgperddl, nohgperddl, of ddl, in fec",
          "<b>Topic 1910</b><br>Words: in nohgperddl, nohgperddl found, nohgperddl, in fec, fec"
         ],
         "marker": {
          "color": "#56B4E9"
         },
         "name": "1910_nohgperddl found_in nohgperddl_nohg...",
         "orientation": "h",
         "type": "bar",
         "visible": "legendonly",
         "x": [
          43127,
          1276
         ],
         "y": [
          "not crashed",
          "crashed"
         ]
        },
        {
         "hoverinfo": "text",
         "hovertext": [
          "<b>Topic 1923</b><br>Words: row, col, channel col, in channel, sm",
          "<b>Topic 1923</b><br>Words: col, row, sm, in channel, channel col"
         ],
         "marker": {
          "color": "#009E73"
         },
         "name": "1923_row_col_in channel_channel col",
         "orientation": "h",
         "type": "bar",
         "visible": "legendonly",
         "x": [
          76209,
          2708
         ],
         "y": [
          "not crashed",
          "crashed"
         ]
        }
       ],
       "layout": {
        "height": 900,
        "hoverlabel": {
         "bgcolor": "white",
         "font": {
          "family": "Rockwell",
          "size": 16
         }
        },
        "legend": {
         "title": {
          "text": "<b>Global Topic Representation"
         }
        },
        "template": {
         "data": {
          "bar": [
           {
            "error_x": {
             "color": "rgb(36,36,36)"
            },
            "error_y": {
             "color": "rgb(36,36,36)"
            },
            "marker": {
             "line": {
              "color": "white",
              "width": 0.5
             },
             "pattern": {
              "fillmode": "overlay",
              "size": 10,
              "solidity": 0.2
             }
            },
            "type": "bar"
           }
          ],
          "barpolar": [
           {
            "marker": {
             "line": {
              "color": "white",
              "width": 0.5
             },
             "pattern": {
              "fillmode": "overlay",
              "size": 10,
              "solidity": 0.2
             }
            },
            "type": "barpolar"
           }
          ],
          "carpet": [
           {
            "aaxis": {
             "endlinecolor": "rgb(36,36,36)",
             "gridcolor": "white",
             "linecolor": "white",
             "minorgridcolor": "white",
             "startlinecolor": "rgb(36,36,36)"
            },
            "baxis": {
             "endlinecolor": "rgb(36,36,36)",
             "gridcolor": "white",
             "linecolor": "white",
             "minorgridcolor": "white",
             "startlinecolor": "rgb(36,36,36)"
            },
            "type": "carpet"
           }
          ],
          "choropleth": [
           {
            "colorbar": {
             "outlinewidth": 1,
             "tickcolor": "rgb(36,36,36)",
             "ticks": "outside"
            },
            "type": "choropleth"
           }
          ],
          "contour": [
           {
            "colorbar": {
             "outlinewidth": 1,
             "tickcolor": "rgb(36,36,36)",
             "ticks": "outside"
            },
            "colorscale": [
             [
              0,
              "#440154"
             ],
             [
              0.1111111111111111,
              "#482878"
             ],
             [
              0.2222222222222222,
              "#3e4989"
             ],
             [
              0.3333333333333333,
              "#31688e"
             ],
             [
              0.4444444444444444,
              "#26828e"
             ],
             [
              0.5555555555555556,
              "#1f9e89"
             ],
             [
              0.6666666666666666,
              "#35b779"
             ],
             [
              0.7777777777777778,
              "#6ece58"
             ],
             [
              0.8888888888888888,
              "#b5de2b"
             ],
             [
              1,
              "#fde725"
             ]
            ],
            "type": "contour"
           }
          ],
          "contourcarpet": [
           {
            "colorbar": {
             "outlinewidth": 1,
             "tickcolor": "rgb(36,36,36)",
             "ticks": "outside"
            },
            "type": "contourcarpet"
           }
          ],
          "heatmap": [
           {
            "colorbar": {
             "outlinewidth": 1,
             "tickcolor": "rgb(36,36,36)",
             "ticks": "outside"
            },
            "colorscale": [
             [
              0,
              "#440154"
             ],
             [
              0.1111111111111111,
              "#482878"
             ],
             [
              0.2222222222222222,
              "#3e4989"
             ],
             [
              0.3333333333333333,
              "#31688e"
             ],
             [
              0.4444444444444444,
              "#26828e"
             ],
             [
              0.5555555555555556,
              "#1f9e89"
             ],
             [
              0.6666666666666666,
              "#35b779"
             ],
             [
              0.7777777777777778,
              "#6ece58"
             ],
             [
              0.8888888888888888,
              "#b5de2b"
             ],
             [
              1,
              "#fde725"
             ]
            ],
            "type": "heatmap"
           }
          ],
          "heatmapgl": [
           {
            "colorbar": {
             "outlinewidth": 1,
             "tickcolor": "rgb(36,36,36)",
             "ticks": "outside"
            },
            "colorscale": [
             [
              0,
              "#440154"
             ],
             [
              0.1111111111111111,
              "#482878"
             ],
             [
              0.2222222222222222,
              "#3e4989"
             ],
             [
              0.3333333333333333,
              "#31688e"
             ],
             [
              0.4444444444444444,
              "#26828e"
             ],
             [
              0.5555555555555556,
              "#1f9e89"
             ],
             [
              0.6666666666666666,
              "#35b779"
             ],
             [
              0.7777777777777778,
              "#6ece58"
             ],
             [
              0.8888888888888888,
              "#b5de2b"
             ],
             [
              1,
              "#fde725"
             ]
            ],
            "type": "heatmapgl"
           }
          ],
          "histogram": [
           {
            "marker": {
             "line": {
              "color": "white",
              "width": 0.6
             }
            },
            "type": "histogram"
           }
          ],
          "histogram2d": [
           {
            "colorbar": {
             "outlinewidth": 1,
             "tickcolor": "rgb(36,36,36)",
             "ticks": "outside"
            },
            "colorscale": [
             [
              0,
              "#440154"
             ],
             [
              0.1111111111111111,
              "#482878"
             ],
             [
              0.2222222222222222,
              "#3e4989"
             ],
             [
              0.3333333333333333,
              "#31688e"
             ],
             [
              0.4444444444444444,
              "#26828e"
             ],
             [
              0.5555555555555556,
              "#1f9e89"
             ],
             [
              0.6666666666666666,
              "#35b779"
             ],
             [
              0.7777777777777778,
              "#6ece58"
             ],
             [
              0.8888888888888888,
              "#b5de2b"
             ],
             [
              1,
              "#fde725"
             ]
            ],
            "type": "histogram2d"
           }
          ],
          "histogram2dcontour": [
           {
            "colorbar": {
             "outlinewidth": 1,
             "tickcolor": "rgb(36,36,36)",
             "ticks": "outside"
            },
            "colorscale": [
             [
              0,
              "#440154"
             ],
             [
              0.1111111111111111,
              "#482878"
             ],
             [
              0.2222222222222222,
              "#3e4989"
             ],
             [
              0.3333333333333333,
              "#31688e"
             ],
             [
              0.4444444444444444,
              "#26828e"
             ],
             [
              0.5555555555555556,
              "#1f9e89"
             ],
             [
              0.6666666666666666,
              "#35b779"
             ],
             [
              0.7777777777777778,
              "#6ece58"
             ],
             [
              0.8888888888888888,
              "#b5de2b"
             ],
             [
              1,
              "#fde725"
             ]
            ],
            "type": "histogram2dcontour"
           }
          ],
          "mesh3d": [
           {
            "colorbar": {
             "outlinewidth": 1,
             "tickcolor": "rgb(36,36,36)",
             "ticks": "outside"
            },
            "type": "mesh3d"
           }
          ],
          "parcoords": [
           {
            "line": {
             "colorbar": {
              "outlinewidth": 1,
              "tickcolor": "rgb(36,36,36)",
              "ticks": "outside"
             }
            },
            "type": "parcoords"
           }
          ],
          "pie": [
           {
            "automargin": true,
            "type": "pie"
           }
          ],
          "scatter": [
           {
            "fillpattern": {
             "fillmode": "overlay",
             "size": 10,
             "solidity": 0.2
            },
            "type": "scatter"
           }
          ],
          "scatter3d": [
           {
            "line": {
             "colorbar": {
              "outlinewidth": 1,
              "tickcolor": "rgb(36,36,36)",
              "ticks": "outside"
             }
            },
            "marker": {
             "colorbar": {
              "outlinewidth": 1,
              "tickcolor": "rgb(36,36,36)",
              "ticks": "outside"
             }
            },
            "type": "scatter3d"
           }
          ],
          "scattercarpet": [
           {
            "marker": {
             "colorbar": {
              "outlinewidth": 1,
              "tickcolor": "rgb(36,36,36)",
              "ticks": "outside"
             }
            },
            "type": "scattercarpet"
           }
          ],
          "scattergeo": [
           {
            "marker": {
             "colorbar": {
              "outlinewidth": 1,
              "tickcolor": "rgb(36,36,36)",
              "ticks": "outside"
             }
            },
            "type": "scattergeo"
           }
          ],
          "scattergl": [
           {
            "marker": {
             "colorbar": {
              "outlinewidth": 1,
              "tickcolor": "rgb(36,36,36)",
              "ticks": "outside"
             }
            },
            "type": "scattergl"
           }
          ],
          "scattermapbox": [
           {
            "marker": {
             "colorbar": {
              "outlinewidth": 1,
              "tickcolor": "rgb(36,36,36)",
              "ticks": "outside"
             }
            },
            "type": "scattermapbox"
           }
          ],
          "scatterpolar": [
           {
            "marker": {
             "colorbar": {
              "outlinewidth": 1,
              "tickcolor": "rgb(36,36,36)",
              "ticks": "outside"
             }
            },
            "type": "scatterpolar"
           }
          ],
          "scatterpolargl": [
           {
            "marker": {
             "colorbar": {
              "outlinewidth": 1,
              "tickcolor": "rgb(36,36,36)",
              "ticks": "outside"
             }
            },
            "type": "scatterpolargl"
           }
          ],
          "scatterternary": [
           {
            "marker": {
             "colorbar": {
              "outlinewidth": 1,
              "tickcolor": "rgb(36,36,36)",
              "ticks": "outside"
             }
            },
            "type": "scatterternary"
           }
          ],
          "surface": [
           {
            "colorbar": {
             "outlinewidth": 1,
             "tickcolor": "rgb(36,36,36)",
             "ticks": "outside"
            },
            "colorscale": [
             [
              0,
              "#440154"
             ],
             [
              0.1111111111111111,
              "#482878"
             ],
             [
              0.2222222222222222,
              "#3e4989"
             ],
             [
              0.3333333333333333,
              "#31688e"
             ],
             [
              0.4444444444444444,
              "#26828e"
             ],
             [
              0.5555555555555556,
              "#1f9e89"
             ],
             [
              0.6666666666666666,
              "#35b779"
             ],
             [
              0.7777777777777778,
              "#6ece58"
             ],
             [
              0.8888888888888888,
              "#b5de2b"
             ],
             [
              1,
              "#fde725"
             ]
            ],
            "type": "surface"
           }
          ],
          "table": [
           {
            "cells": {
             "fill": {
              "color": "rgb(237,237,237)"
             },
             "line": {
              "color": "white"
             }
            },
            "header": {
             "fill": {
              "color": "rgb(217,217,217)"
             },
             "line": {
              "color": "white"
             }
            },
            "type": "table"
           }
          ]
         },
         "layout": {
          "annotationdefaults": {
           "arrowhead": 0,
           "arrowwidth": 1
          },
          "autotypenumbers": "strict",
          "coloraxis": {
           "colorbar": {
            "outlinewidth": 1,
            "tickcolor": "rgb(36,36,36)",
            "ticks": "outside"
           }
          },
          "colorscale": {
           "diverging": [
            [
             0,
             "rgb(103,0,31)"
            ],
            [
             0.1,
             "rgb(178,24,43)"
            ],
            [
             0.2,
             "rgb(214,96,77)"
            ],
            [
             0.3,
             "rgb(244,165,130)"
            ],
            [
             0.4,
             "rgb(253,219,199)"
            ],
            [
             0.5,
             "rgb(247,247,247)"
            ],
            [
             0.6,
             "rgb(209,229,240)"
            ],
            [
             0.7,
             "rgb(146,197,222)"
            ],
            [
             0.8,
             "rgb(67,147,195)"
            ],
            [
             0.9,
             "rgb(33,102,172)"
            ],
            [
             1,
             "rgb(5,48,97)"
            ]
           ],
           "sequential": [
            [
             0,
             "#440154"
            ],
            [
             0.1111111111111111,
             "#482878"
            ],
            [
             0.2222222222222222,
             "#3e4989"
            ],
            [
             0.3333333333333333,
             "#31688e"
            ],
            [
             0.4444444444444444,
             "#26828e"
            ],
            [
             0.5555555555555556,
             "#1f9e89"
            ],
            [
             0.6666666666666666,
             "#35b779"
            ],
            [
             0.7777777777777778,
             "#6ece58"
            ],
            [
             0.8888888888888888,
             "#b5de2b"
            ],
            [
             1,
             "#fde725"
            ]
           ],
           "sequentialminus": [
            [
             0,
             "#440154"
            ],
            [
             0.1111111111111111,
             "#482878"
            ],
            [
             0.2222222222222222,
             "#3e4989"
            ],
            [
             0.3333333333333333,
             "#31688e"
            ],
            [
             0.4444444444444444,
             "#26828e"
            ],
            [
             0.5555555555555556,
             "#1f9e89"
            ],
            [
             0.6666666666666666,
             "#35b779"
            ],
            [
             0.7777777777777778,
             "#6ece58"
            ],
            [
             0.8888888888888888,
             "#b5de2b"
            ],
            [
             1,
             "#fde725"
            ]
           ]
          },
          "colorway": [
           "#1F77B4",
           "#FF7F0E",
           "#2CA02C",
           "#D62728",
           "#9467BD",
           "#8C564B",
           "#E377C2",
           "#7F7F7F",
           "#BCBD22",
           "#17BECF"
          ],
          "font": {
           "color": "rgb(36,36,36)"
          },
          "geo": {
           "bgcolor": "white",
           "lakecolor": "white",
           "landcolor": "white",
           "showlakes": true,
           "showland": true,
           "subunitcolor": "white"
          },
          "hoverlabel": {
           "align": "left"
          },
          "hovermode": "closest",
          "mapbox": {
           "style": "light"
          },
          "paper_bgcolor": "white",
          "plot_bgcolor": "white",
          "polar": {
           "angularaxis": {
            "gridcolor": "rgb(232,232,232)",
            "linecolor": "rgb(36,36,36)",
            "showgrid": false,
            "showline": true,
            "ticks": "outside"
           },
           "bgcolor": "white",
           "radialaxis": {
            "gridcolor": "rgb(232,232,232)",
            "linecolor": "rgb(36,36,36)",
            "showgrid": false,
            "showline": true,
            "ticks": "outside"
           }
          },
          "scene": {
           "xaxis": {
            "backgroundcolor": "white",
            "gridcolor": "rgb(232,232,232)",
            "gridwidth": 2,
            "linecolor": "rgb(36,36,36)",
            "showbackground": true,
            "showgrid": false,
            "showline": true,
            "ticks": "outside",
            "zeroline": false,
            "zerolinecolor": "rgb(36,36,36)"
           },
           "yaxis": {
            "backgroundcolor": "white",
            "gridcolor": "rgb(232,232,232)",
            "gridwidth": 2,
            "linecolor": "rgb(36,36,36)",
            "showbackground": true,
            "showgrid": false,
            "showline": true,
            "ticks": "outside",
            "zeroline": false,
            "zerolinecolor": "rgb(36,36,36)"
           },
           "zaxis": {
            "backgroundcolor": "white",
            "gridcolor": "rgb(232,232,232)",
            "gridwidth": 2,
            "linecolor": "rgb(36,36,36)",
            "showbackground": true,
            "showgrid": false,
            "showline": true,
            "ticks": "outside",
            "zeroline": false,
            "zerolinecolor": "rgb(36,36,36)"
           }
          },
          "shapedefaults": {
           "fillcolor": "black",
           "line": {
            "width": 0
           },
           "opacity": 0.3
          },
          "ternary": {
           "aaxis": {
            "gridcolor": "rgb(232,232,232)",
            "linecolor": "rgb(36,36,36)",
            "showgrid": false,
            "showline": true,
            "ticks": "outside"
           },
           "baxis": {
            "gridcolor": "rgb(232,232,232)",
            "linecolor": "rgb(36,36,36)",
            "showgrid": false,
            "showline": true,
            "ticks": "outside"
           },
           "bgcolor": "white",
           "caxis": {
            "gridcolor": "rgb(232,232,232)",
            "linecolor": "rgb(36,36,36)",
            "showgrid": false,
            "showline": true,
            "ticks": "outside"
           }
          },
          "title": {
           "x": 0.05
          },
          "xaxis": {
           "automargin": true,
           "gridcolor": "rgb(232,232,232)",
           "linecolor": "rgb(36,36,36)",
           "showgrid": false,
           "showline": true,
           "ticks": "outside",
           "title": {
            "standoff": 15
           },
           "zeroline": false,
           "zerolinecolor": "rgb(36,36,36)"
          },
          "yaxis": {
           "automargin": true,
           "gridcolor": "rgb(232,232,232)",
           "linecolor": "rgb(36,36,36)",
           "showgrid": false,
           "showline": true,
           "ticks": "outside",
           "title": {
            "standoff": 15
           },
           "zeroline": false,
           "zerolinecolor": "rgb(36,36,36)"
          }
         }
        },
        "title": {
         "font": {
          "color": "Black",
          "size": 22
         },
         "text": "<b>Topics per Class</b>",
         "x": 0.4,
         "xanchor": "center",
         "y": 0.95,
         "yanchor": "top"
        },
        "width": 1250,
        "xaxis": {
         "showgrid": true,
         "title": {
          "text": "Frequency"
         }
        },
        "yaxis": {
         "showgrid": true,
         "title": {
          "text": "Class"
         }
        }
       }
      }
     },
     "metadata": {},
     "output_type": "display_data"
    }
   ],
   "source": [
    "topics_per_class = topic_model.model.topics_per_class(df.content.tolist(), df.label.tolist())\n",
    "topic_model.model.visualize_topics_per_class(topics_per_class)"
   ]
  },
  {
   "cell_type": "code",
   "execution_count": 10,
   "metadata": {},
   "outputs": [
    {
     "data": {
      "application/vnd.plotly.v1+json": {
       "config": {
        "plotlyServerURL": "https://plot.ly"
       },
       "data": [
        {
         "hoverinfo": "text",
         "hovertext": [
          "<b>Topic 0</b><br>Words: sending quality, objects sending, quality objects, sending, objects",
          "<b>Topic 0</b><br>Words: sending quality, objects sending, quality objects, sending, objects",
          "<b>Topic 0</b><br>Words: sending quality, objects sending, quality objects, sending, objects"
         ],
         "marker": {
          "color": "#E69F00"
         },
         "name": "0_sending quality_objects sending_qualit...",
         "orientation": "h",
         "type": "bar",
         "visible": true,
         "x": [
          4226,
          73004,
          60775
         ],
         "y": [
          "bad",
          "test",
          "good"
         ]
        },
        {
         "hoverinfo": "text",
         "hovertext": [
          "<b>Topic 1</b><br>Words: startofcycle startofcycle, startofcycle, startofcycle equipment, 90035181, cycledurationntf startofcycle",
          "<b>Topic 1</b><br>Words: startofcycle startofcycle, startofcycle, startofcycle equipment, 90035181, cycledurationntf startofcycle",
          "<b>Topic 1</b><br>Words: startofcycle startofcycle, startofcycle, startofcycle equipment, 90035181, cycledurationntf startofcycle"
         ],
         "marker": {
          "color": "#56B4E9"
         },
         "name": "1_startofcycle startofcycle_startofcycle...",
         "orientation": "h",
         "type": "bar",
         "visible": "legendonly",
         "x": [
          3536,
          57386,
          48240
         ],
         "y": [
          "bad",
          "test",
          "good"
         ]
        },
        {
         "hoverinfo": "text",
         "hovertext": [
          "<b>Topic 2</b><br>Words: storing qualityobjects, qualityobjects storing, qualityobjects, storing, 54880 storing",
          "<b>Topic 2</b><br>Words: storing qualityobjects, qualityobjects storing, qualityobjects, storing, timestamp 1664427955086",
          "<b>Topic 2</b><br>Words: storing qualityobjects, qualityobjects storing, qualityobjects, storing, qualityobjects task"
         ],
         "marker": {
          "color": "#009E73"
         },
         "name": "2_storing qualityobjects_qualityobjects ...",
         "orientation": "h",
         "type": "bar",
         "visible": "legendonly",
         "x": [
          3427,
          54361,
          43100
         ],
         "y": [
          "bad",
          "test",
          "good"
         ]
        },
        {
         "hoverinfo": "text",
         "hovertext": [
          "<b>Topic 3</b><br>Words: endofcycle endofcycle, endofcycle, arguments endofcycle, endofcycle occ, device arguments",
          "<b>Topic 3</b><br>Words: endofcycle endofcycle, endofcycle, endofcycle received, 1664473857380, timestamp 1664473857380",
          "<b>Topic 3</b><br>Words: endofcycle endofcycle, endofcycle, timestamp 1664473857380, 1664473857380, 1664473857380 updating"
         ],
         "marker": {
          "color": "#F0E442"
         },
         "name": "3_endofcycle endofcycle_endofcycle_16644...",
         "orientation": "h",
         "type": "bar",
         "visible": "legendonly",
         "x": [
          3212,
          57002,
          47902
         ],
         "y": [
          "bad",
          "test",
          "good"
         ]
        },
        {
         "hoverinfo": "text",
         "hovertext": [
          "<b>Topic 4</b><br>Words: check rawbunchminamplitude, rawbunchminamplitude quality, rawbunchminamplitude, good level, quality good",
          "<b>Topic 4</b><br>Words: check rawbunchminamplitude, rawbunchminamplitude quality, rawbunchminamplitude, good level, quality good",
          "<b>Topic 4</b><br>Words: check rawbunchminamplitude, rawbunchminamplitude quality, rawbunchminamplitude, good level, quality good"
         ],
         "marker": {
          "color": "#D55E00"
         },
         "name": "4_check rawbunchminamplitude_rawbunchmin...",
         "orientation": "h",
         "type": "bar",
         "visible": "legendonly",
         "x": [
          2508,
          42350,
          35396
         ],
         "y": [
          "bad",
          "test",
          "good"
         ]
        },
        {
         "hoverinfo": "text",
         "hovertext": [
          "<b>Topic 5</b><br>Words: updating the, triggertype timestamp, to trigger, triggertype, trigger triggertype",
          "<b>Topic 5</b><br>Words: updating the, triggertype timestamp, to trigger, trigger triggertype, triggertype",
          "<b>Topic 5</b><br>Words: updating the, triggertype timestamp, task due, trigger triggertype, triggertype"
         ],
         "marker": {
          "color": "#0072B2"
         },
         "name": "5_updating the_triggertype timestamp_tri...",
         "orientation": "h",
         "type": "bar",
         "visible": "legendonly",
         "x": [
          2355,
          32048,
          29167
         ],
         "y": [
          "bad",
          "test",
          "good"
         ]
        },
        {
         "hoverinfo": "text",
         "hovertext": [
          "<b>Topic 177</b><br>Words: roc starting, starting dma, dma for, dma, starting",
          "<b>Topic 177</b><br>Words: dma for, roc starting, starting dma, dma, stopping dma",
          "<b>Topic 177</b><br>Words: dma for, roc starting, starting dma, dma, stopping dma"
         ],
         "marker": {
          "color": "#CC79A7"
         },
         "name": "177_dma for_roc starting_starting dma_dm...",
         "orientation": "h",
         "type": "bar",
         "visible": "legendonly",
         "x": [
          13609,
          9467,
          42577
         ],
         "y": [
          "bad",
          "test",
          "good"
         ]
        },
        {
         "hoverinfo": "text",
         "hovertext": [
          "<b>Topic 1882</b><br>Words: contiguous, contiguous timeframe, non contiguous, non, timeframe ids",
          "<b>Topic 1882</b><br>Words: ids 1115, 1115 1123, 1123 non, 1115, 1123",
          "<b>Topic 1882</b><br>Words: non contiguous, contiguous timeframe, contiguous, non, ids"
         ],
         "marker": {
          "color": "#E69F00"
         },
         "name": "1882_non contiguous_contiguous timeframe...",
         "orientation": "h",
         "type": "bar",
         "visible": "legendonly",
         "x": [
          8300,
          133,
          47946
         ],
         "y": [
          "bad",
          "test",
          "good"
         ]
        },
        {
         "hoverinfo": "text",
         "hovertext": [
          "<b>Topic 1910</b><br>Words: in nohgperddl, nohgperddl found, nohgperddl, fec, of ddl",
          "<b>Topic 1910</b><br>Words: in nohgperddl, nohgperddl found, nohgperddl, fec, in fec",
          "<b>Topic 1910</b><br>Words: nohgperddl found, in nohgperddl, nohgperddl, of ddl, in fec"
         ],
         "marker": {
          "color": "#56B4E9"
         },
         "name": "1910_nohgperddl found_in nohgperddl_nohg...",
         "orientation": "h",
         "type": "bar",
         "visible": "legendonly",
         "x": [
          1896,
          187,
          42320
         ],
         "y": [
          "bad",
          "test",
          "good"
         ]
        },
        {
         "hoverinfo": "text",
         "hovertext": [
          "<b>Topic 1923</b><br>Words: col, row, sm, in channel, channel col",
          "<b>Topic 1923</b><br>Words: col, row, in channel, sm, channel col",
          "<b>Topic 1923</b><br>Words: col, row, in channel, channel col, sm"
         ],
         "marker": {
          "color": "#009E73"
         },
         "name": "1923_row_col_in channel_channel col",
         "orientation": "h",
         "type": "bar",
         "visible": "legendonly",
         "x": [
          4092,
          411,
          74414
         ],
         "y": [
          "bad",
          "test",
          "good"
         ]
        }
       ],
       "layout": {
        "height": 900,
        "hoverlabel": {
         "bgcolor": "white",
         "font": {
          "family": "Rockwell",
          "size": 16
         }
        },
        "legend": {
         "title": {
          "text": "<b>Global Topic Representation"
         }
        },
        "template": {
         "data": {
          "bar": [
           {
            "error_x": {
             "color": "rgb(36,36,36)"
            },
            "error_y": {
             "color": "rgb(36,36,36)"
            },
            "marker": {
             "line": {
              "color": "white",
              "width": 0.5
             },
             "pattern": {
              "fillmode": "overlay",
              "size": 10,
              "solidity": 0.2
             }
            },
            "type": "bar"
           }
          ],
          "barpolar": [
           {
            "marker": {
             "line": {
              "color": "white",
              "width": 0.5
             },
             "pattern": {
              "fillmode": "overlay",
              "size": 10,
              "solidity": 0.2
             }
            },
            "type": "barpolar"
           }
          ],
          "carpet": [
           {
            "aaxis": {
             "endlinecolor": "rgb(36,36,36)",
             "gridcolor": "white",
             "linecolor": "white",
             "minorgridcolor": "white",
             "startlinecolor": "rgb(36,36,36)"
            },
            "baxis": {
             "endlinecolor": "rgb(36,36,36)",
             "gridcolor": "white",
             "linecolor": "white",
             "minorgridcolor": "white",
             "startlinecolor": "rgb(36,36,36)"
            },
            "type": "carpet"
           }
          ],
          "choropleth": [
           {
            "colorbar": {
             "outlinewidth": 1,
             "tickcolor": "rgb(36,36,36)",
             "ticks": "outside"
            },
            "type": "choropleth"
           }
          ],
          "contour": [
           {
            "colorbar": {
             "outlinewidth": 1,
             "tickcolor": "rgb(36,36,36)",
             "ticks": "outside"
            },
            "colorscale": [
             [
              0,
              "#440154"
             ],
             [
              0.1111111111111111,
              "#482878"
             ],
             [
              0.2222222222222222,
              "#3e4989"
             ],
             [
              0.3333333333333333,
              "#31688e"
             ],
             [
              0.4444444444444444,
              "#26828e"
             ],
             [
              0.5555555555555556,
              "#1f9e89"
             ],
             [
              0.6666666666666666,
              "#35b779"
             ],
             [
              0.7777777777777778,
              "#6ece58"
             ],
             [
              0.8888888888888888,
              "#b5de2b"
             ],
             [
              1,
              "#fde725"
             ]
            ],
            "type": "contour"
           }
          ],
          "contourcarpet": [
           {
            "colorbar": {
             "outlinewidth": 1,
             "tickcolor": "rgb(36,36,36)",
             "ticks": "outside"
            },
            "type": "contourcarpet"
           }
          ],
          "heatmap": [
           {
            "colorbar": {
             "outlinewidth": 1,
             "tickcolor": "rgb(36,36,36)",
             "ticks": "outside"
            },
            "colorscale": [
             [
              0,
              "#440154"
             ],
             [
              0.1111111111111111,
              "#482878"
             ],
             [
              0.2222222222222222,
              "#3e4989"
             ],
             [
              0.3333333333333333,
              "#31688e"
             ],
             [
              0.4444444444444444,
              "#26828e"
             ],
             [
              0.5555555555555556,
              "#1f9e89"
             ],
             [
              0.6666666666666666,
              "#35b779"
             ],
             [
              0.7777777777777778,
              "#6ece58"
             ],
             [
              0.8888888888888888,
              "#b5de2b"
             ],
             [
              1,
              "#fde725"
             ]
            ],
            "type": "heatmap"
           }
          ],
          "heatmapgl": [
           {
            "colorbar": {
             "outlinewidth": 1,
             "tickcolor": "rgb(36,36,36)",
             "ticks": "outside"
            },
            "colorscale": [
             [
              0,
              "#440154"
             ],
             [
              0.1111111111111111,
              "#482878"
             ],
             [
              0.2222222222222222,
              "#3e4989"
             ],
             [
              0.3333333333333333,
              "#31688e"
             ],
             [
              0.4444444444444444,
              "#26828e"
             ],
             [
              0.5555555555555556,
              "#1f9e89"
             ],
             [
              0.6666666666666666,
              "#35b779"
             ],
             [
              0.7777777777777778,
              "#6ece58"
             ],
             [
              0.8888888888888888,
              "#b5de2b"
             ],
             [
              1,
              "#fde725"
             ]
            ],
            "type": "heatmapgl"
           }
          ],
          "histogram": [
           {
            "marker": {
             "line": {
              "color": "white",
              "width": 0.6
             }
            },
            "type": "histogram"
           }
          ],
          "histogram2d": [
           {
            "colorbar": {
             "outlinewidth": 1,
             "tickcolor": "rgb(36,36,36)",
             "ticks": "outside"
            },
            "colorscale": [
             [
              0,
              "#440154"
             ],
             [
              0.1111111111111111,
              "#482878"
             ],
             [
              0.2222222222222222,
              "#3e4989"
             ],
             [
              0.3333333333333333,
              "#31688e"
             ],
             [
              0.4444444444444444,
              "#26828e"
             ],
             [
              0.5555555555555556,
              "#1f9e89"
             ],
             [
              0.6666666666666666,
              "#35b779"
             ],
             [
              0.7777777777777778,
              "#6ece58"
             ],
             [
              0.8888888888888888,
              "#b5de2b"
             ],
             [
              1,
              "#fde725"
             ]
            ],
            "type": "histogram2d"
           }
          ],
          "histogram2dcontour": [
           {
            "colorbar": {
             "outlinewidth": 1,
             "tickcolor": "rgb(36,36,36)",
             "ticks": "outside"
            },
            "colorscale": [
             [
              0,
              "#440154"
             ],
             [
              0.1111111111111111,
              "#482878"
             ],
             [
              0.2222222222222222,
              "#3e4989"
             ],
             [
              0.3333333333333333,
              "#31688e"
             ],
             [
              0.4444444444444444,
              "#26828e"
             ],
             [
              0.5555555555555556,
              "#1f9e89"
             ],
             [
              0.6666666666666666,
              "#35b779"
             ],
             [
              0.7777777777777778,
              "#6ece58"
             ],
             [
              0.8888888888888888,
              "#b5de2b"
             ],
             [
              1,
              "#fde725"
             ]
            ],
            "type": "histogram2dcontour"
           }
          ],
          "mesh3d": [
           {
            "colorbar": {
             "outlinewidth": 1,
             "tickcolor": "rgb(36,36,36)",
             "ticks": "outside"
            },
            "type": "mesh3d"
           }
          ],
          "parcoords": [
           {
            "line": {
             "colorbar": {
              "outlinewidth": 1,
              "tickcolor": "rgb(36,36,36)",
              "ticks": "outside"
             }
            },
            "type": "parcoords"
           }
          ],
          "pie": [
           {
            "automargin": true,
            "type": "pie"
           }
          ],
          "scatter": [
           {
            "fillpattern": {
             "fillmode": "overlay",
             "size": 10,
             "solidity": 0.2
            },
            "type": "scatter"
           }
          ],
          "scatter3d": [
           {
            "line": {
             "colorbar": {
              "outlinewidth": 1,
              "tickcolor": "rgb(36,36,36)",
              "ticks": "outside"
             }
            },
            "marker": {
             "colorbar": {
              "outlinewidth": 1,
              "tickcolor": "rgb(36,36,36)",
              "ticks": "outside"
             }
            },
            "type": "scatter3d"
           }
          ],
          "scattercarpet": [
           {
            "marker": {
             "colorbar": {
              "outlinewidth": 1,
              "tickcolor": "rgb(36,36,36)",
              "ticks": "outside"
             }
            },
            "type": "scattercarpet"
           }
          ],
          "scattergeo": [
           {
            "marker": {
             "colorbar": {
              "outlinewidth": 1,
              "tickcolor": "rgb(36,36,36)",
              "ticks": "outside"
             }
            },
            "type": "scattergeo"
           }
          ],
          "scattergl": [
           {
            "marker": {
             "colorbar": {
              "outlinewidth": 1,
              "tickcolor": "rgb(36,36,36)",
              "ticks": "outside"
             }
            },
            "type": "scattergl"
           }
          ],
          "scattermapbox": [
           {
            "marker": {
             "colorbar": {
              "outlinewidth": 1,
              "tickcolor": "rgb(36,36,36)",
              "ticks": "outside"
             }
            },
            "type": "scattermapbox"
           }
          ],
          "scatterpolar": [
           {
            "marker": {
             "colorbar": {
              "outlinewidth": 1,
              "tickcolor": "rgb(36,36,36)",
              "ticks": "outside"
             }
            },
            "type": "scatterpolar"
           }
          ],
          "scatterpolargl": [
           {
            "marker": {
             "colorbar": {
              "outlinewidth": 1,
              "tickcolor": "rgb(36,36,36)",
              "ticks": "outside"
             }
            },
            "type": "scatterpolargl"
           }
          ],
          "scatterternary": [
           {
            "marker": {
             "colorbar": {
              "outlinewidth": 1,
              "tickcolor": "rgb(36,36,36)",
              "ticks": "outside"
             }
            },
            "type": "scatterternary"
           }
          ],
          "surface": [
           {
            "colorbar": {
             "outlinewidth": 1,
             "tickcolor": "rgb(36,36,36)",
             "ticks": "outside"
            },
            "colorscale": [
             [
              0,
              "#440154"
             ],
             [
              0.1111111111111111,
              "#482878"
             ],
             [
              0.2222222222222222,
              "#3e4989"
             ],
             [
              0.3333333333333333,
              "#31688e"
             ],
             [
              0.4444444444444444,
              "#26828e"
             ],
             [
              0.5555555555555556,
              "#1f9e89"
             ],
             [
              0.6666666666666666,
              "#35b779"
             ],
             [
              0.7777777777777778,
              "#6ece58"
             ],
             [
              0.8888888888888888,
              "#b5de2b"
             ],
             [
              1,
              "#fde725"
             ]
            ],
            "type": "surface"
           }
          ],
          "table": [
           {
            "cells": {
             "fill": {
              "color": "rgb(237,237,237)"
             },
             "line": {
              "color": "white"
             }
            },
            "header": {
             "fill": {
              "color": "rgb(217,217,217)"
             },
             "line": {
              "color": "white"
             }
            },
            "type": "table"
           }
          ]
         },
         "layout": {
          "annotationdefaults": {
           "arrowhead": 0,
           "arrowwidth": 1
          },
          "autotypenumbers": "strict",
          "coloraxis": {
           "colorbar": {
            "outlinewidth": 1,
            "tickcolor": "rgb(36,36,36)",
            "ticks": "outside"
           }
          },
          "colorscale": {
           "diverging": [
            [
             0,
             "rgb(103,0,31)"
            ],
            [
             0.1,
             "rgb(178,24,43)"
            ],
            [
             0.2,
             "rgb(214,96,77)"
            ],
            [
             0.3,
             "rgb(244,165,130)"
            ],
            [
             0.4,
             "rgb(253,219,199)"
            ],
            [
             0.5,
             "rgb(247,247,247)"
            ],
            [
             0.6,
             "rgb(209,229,240)"
            ],
            [
             0.7,
             "rgb(146,197,222)"
            ],
            [
             0.8,
             "rgb(67,147,195)"
            ],
            [
             0.9,
             "rgb(33,102,172)"
            ],
            [
             1,
             "rgb(5,48,97)"
            ]
           ],
           "sequential": [
            [
             0,
             "#440154"
            ],
            [
             0.1111111111111111,
             "#482878"
            ],
            [
             0.2222222222222222,
             "#3e4989"
            ],
            [
             0.3333333333333333,
             "#31688e"
            ],
            [
             0.4444444444444444,
             "#26828e"
            ],
            [
             0.5555555555555556,
             "#1f9e89"
            ],
            [
             0.6666666666666666,
             "#35b779"
            ],
            [
             0.7777777777777778,
             "#6ece58"
            ],
            [
             0.8888888888888888,
             "#b5de2b"
            ],
            [
             1,
             "#fde725"
            ]
           ],
           "sequentialminus": [
            [
             0,
             "#440154"
            ],
            [
             0.1111111111111111,
             "#482878"
            ],
            [
             0.2222222222222222,
             "#3e4989"
            ],
            [
             0.3333333333333333,
             "#31688e"
            ],
            [
             0.4444444444444444,
             "#26828e"
            ],
            [
             0.5555555555555556,
             "#1f9e89"
            ],
            [
             0.6666666666666666,
             "#35b779"
            ],
            [
             0.7777777777777778,
             "#6ece58"
            ],
            [
             0.8888888888888888,
             "#b5de2b"
            ],
            [
             1,
             "#fde725"
            ]
           ]
          },
          "colorway": [
           "#1F77B4",
           "#FF7F0E",
           "#2CA02C",
           "#D62728",
           "#9467BD",
           "#8C564B",
           "#E377C2",
           "#7F7F7F",
           "#BCBD22",
           "#17BECF"
          ],
          "font": {
           "color": "rgb(36,36,36)"
          },
          "geo": {
           "bgcolor": "white",
           "lakecolor": "white",
           "landcolor": "white",
           "showlakes": true,
           "showland": true,
           "subunitcolor": "white"
          },
          "hoverlabel": {
           "align": "left"
          },
          "hovermode": "closest",
          "mapbox": {
           "style": "light"
          },
          "paper_bgcolor": "white",
          "plot_bgcolor": "white",
          "polar": {
           "angularaxis": {
            "gridcolor": "rgb(232,232,232)",
            "linecolor": "rgb(36,36,36)",
            "showgrid": false,
            "showline": true,
            "ticks": "outside"
           },
           "bgcolor": "white",
           "radialaxis": {
            "gridcolor": "rgb(232,232,232)",
            "linecolor": "rgb(36,36,36)",
            "showgrid": false,
            "showline": true,
            "ticks": "outside"
           }
          },
          "scene": {
           "xaxis": {
            "backgroundcolor": "white",
            "gridcolor": "rgb(232,232,232)",
            "gridwidth": 2,
            "linecolor": "rgb(36,36,36)",
            "showbackground": true,
            "showgrid": false,
            "showline": true,
            "ticks": "outside",
            "zeroline": false,
            "zerolinecolor": "rgb(36,36,36)"
           },
           "yaxis": {
            "backgroundcolor": "white",
            "gridcolor": "rgb(232,232,232)",
            "gridwidth": 2,
            "linecolor": "rgb(36,36,36)",
            "showbackground": true,
            "showgrid": false,
            "showline": true,
            "ticks": "outside",
            "zeroline": false,
            "zerolinecolor": "rgb(36,36,36)"
           },
           "zaxis": {
            "backgroundcolor": "white",
            "gridcolor": "rgb(232,232,232)",
            "gridwidth": 2,
            "linecolor": "rgb(36,36,36)",
            "showbackground": true,
            "showgrid": false,
            "showline": true,
            "ticks": "outside",
            "zeroline": false,
            "zerolinecolor": "rgb(36,36,36)"
           }
          },
          "shapedefaults": {
           "fillcolor": "black",
           "line": {
            "width": 0
           },
           "opacity": 0.3
          },
          "ternary": {
           "aaxis": {
            "gridcolor": "rgb(232,232,232)",
            "linecolor": "rgb(36,36,36)",
            "showgrid": false,
            "showline": true,
            "ticks": "outside"
           },
           "baxis": {
            "gridcolor": "rgb(232,232,232)",
            "linecolor": "rgb(36,36,36)",
            "showgrid": false,
            "showline": true,
            "ticks": "outside"
           },
           "bgcolor": "white",
           "caxis": {
            "gridcolor": "rgb(232,232,232)",
            "linecolor": "rgb(36,36,36)",
            "showgrid": false,
            "showline": true,
            "ticks": "outside"
           }
          },
          "title": {
           "x": 0.05
          },
          "xaxis": {
           "automargin": true,
           "gridcolor": "rgb(232,232,232)",
           "linecolor": "rgb(36,36,36)",
           "showgrid": false,
           "showline": true,
           "ticks": "outside",
           "title": {
            "standoff": 15
           },
           "zeroline": false,
           "zerolinecolor": "rgb(36,36,36)"
          },
          "yaxis": {
           "automargin": true,
           "gridcolor": "rgb(232,232,232)",
           "linecolor": "rgb(36,36,36)",
           "showgrid": false,
           "showline": true,
           "ticks": "outside",
           "title": {
            "standoff": 15
           },
           "zeroline": false,
           "zerolinecolor": "rgb(36,36,36)"
          }
         }
        },
        "title": {
         "font": {
          "color": "Black",
          "size": 22
         },
         "text": "<b>Topics per Class</b>",
         "x": 0.4,
         "xanchor": "center",
         "y": 0.95,
         "yanchor": "top"
        },
        "width": 1250,
        "xaxis": {
         "showgrid": true,
         "title": {
          "text": "Frequency"
         }
        },
        "yaxis": {
         "showgrid": true,
         "title": {
          "text": "Class"
         }
        }
       }
      }
     },
     "metadata": {},
     "output_type": "display_data"
    }
   ],
   "source": [
    "topics_per_class = topic_model.model.topics_per_class(df.content.tolist(), df.run_quality.tolist())\n",
    "topic_model.model.visualize_topics_per_class(topics_per_class)"
   ]
  },
  {
   "cell_type": "code",
   "execution_count": 11,
   "metadata": {},
   "outputs": [
    {
     "data": {
      "application/vnd.plotly.v1+json": {
       "config": {
        "plotlyServerURL": "https://plot.ly"
       },
       "data": [
        {
         "hoverinfo": "text",
         "hovertext": [
          "<b>Topic 0</b><br>Words: sending quality, objects sending, quality objects, sending, objects",
          "<b>Topic 0</b><br>Words: sending quality, quality objects, objects sending, sending, objects",
          "<b>Topic 0</b><br>Words: sending quality, objects sending, quality objects, sending, objects",
          "<b>Topic 0</b><br>Words: sending quality, objects sending, quality objects, sending, objects",
          "<b>Topic 0</b><br>Words: sending quality, objects sending, quality objects, sending, objects",
          "<b>Topic 0</b><br>Words: sending quality, objects sending, quality objects, sending, objects",
          "<b>Topic 0</b><br>Words: sending quality, quality objects, objects sending, sending, objects",
          "<b>Topic 0</b><br>Words: sending quality, objects sending, quality objects, sending, objects",
          "<b>Topic 0</b><br>Words: sending quality, quality objects, sending, objects sending, objects",
          "<b>Topic 0</b><br>Words: sending quality, objects sending, quality objects, sending, objects",
          "<b>Topic 0</b><br>Words: sending quality, quality objects, objects sending, sending, objects",
          "<b>Topic 0</b><br>Words: sending quality, quality objects, sending, objects sending, objects",
          "<b>Topic 0</b><br>Words: sending quality, quality objects, sending, objects sending, objects",
          "<b>Topic 0</b><br>Words: sending quality, quality objects, sending, objects sending, objects",
          "<b>Topic 0</b><br>Words: sending quality, quality objects, sending, objects sending, objects",
          "<b>Topic 0</b><br>Words: sending quality, objects sending, quality objects, sending, objects",
          "<b>Topic 0</b><br>Words: sending quality, quality objects, sending, objects sending, objects",
          "<b>Topic 0</b><br>Words: sending quality, objects sending, quality objects, sending, objects",
          "<b>Topic 0</b><br>Words: sending quality, objects sending, quality objects, sending, objects",
          "<b>Topic 0</b><br>Words: sending quality, objects sending, quality objects, sending, objects",
          "<b>Topic 0</b><br>Words: sending quality, objects sending, quality objects, sending, objects",
          "<b>Topic 0</b><br>Words: sending quality, objects sending, quality objects, sending, objects",
          "<b>Topic 0</b><br>Words: sending quality, quality objects, sending, objects sending, objects",
          "<b>Topic 0</b><br>Words: sending quality, objects sending, quality objects, sending, objects",
          "<b>Topic 0</b><br>Words: sending quality, quality objects, objects sending, sending, objects",
          "<b>Topic 0</b><br>Words: sending quality, objects sending, quality objects, sending, objects",
          "<b>Topic 0</b><br>Words: sending quality, objects sending, quality objects, sending, objects",
          "<b>Topic 0</b><br>Words: sending quality, objects sending, quality objects, sending, objects",
          "<b>Topic 0</b><br>Words: sending quality, quality objects, sending, objects sending, objects",
          "<b>Topic 0</b><br>Words: sending quality, objects sending, quality objects, sending, objects",
          "<b>Topic 0</b><br>Words: sending quality, quality objects, sending, objects, objects sending",
          "<b>Topic 0</b><br>Words: sending quality, objects sending, quality objects, sending, objects",
          "<b>Topic 0</b><br>Words: sending quality, quality objects, sending, objects sending, objects",
          "<b>Topic 0</b><br>Words: sending quality, quality objects, sending, objects sending, objects",
          "<b>Topic 0</b><br>Words: sending quality, quality objects, sending, objects sending, objects",
          "<b>Topic 0</b><br>Words: sending quality, quality objects, sending, objects sending, objects",
          "<b>Topic 0</b><br>Words: sending quality, quality objects, sending, objects, objects sending",
          "<b>Topic 0</b><br>Words: sending quality, objects sending, quality objects, sending, objects",
          "<b>Topic 0</b><br>Words: sending quality, objects sending, quality objects, sending, objects",
          "<b>Topic 0</b><br>Words: sending quality, objects sending, quality objects, sending, objects",
          "<b>Topic 0</b><br>Words: sending quality, quality objects, sending, objects sending, objects",
          "<b>Topic 0</b><br>Words: sending quality, objects sending, quality objects, sending, objects",
          "<b>Topic 0</b><br>Words: sending quality, quality objects, sending, objects, objects sending",
          "<b>Topic 0</b><br>Words: sending quality, objects sending, quality objects, sending, objects",
          "<b>Topic 0</b><br>Words: sending quality, objects sending, quality objects, sending, objects",
          "<b>Topic 0</b><br>Words: sending quality, quality objects, objects sending, sending, objects",
          "<b>Topic 0</b><br>Words: sending quality, objects sending, quality objects, sending, objects",
          "<b>Topic 0</b><br>Words: sending quality, objects sending, quality objects, sending, objects",
          "<b>Topic 0</b><br>Words: sending quality, quality objects, objects sending, sending, objects",
          "<b>Topic 0</b><br>Words: sending quality, objects sending, quality objects, sending, objects",
          "<b>Topic 0</b><br>Words: sending quality, objects sending, quality objects, sending, objects",
          "<b>Topic 0</b><br>Words: sending quality, objects sending, quality objects, sending, objects",
          "<b>Topic 0</b><br>Words: sending quality, quality objects, objects sending, sending, objects",
          "<b>Topic 0</b><br>Words: sending quality, objects sending, quality objects, sending, objects",
          "<b>Topic 0</b><br>Words: sending quality, quality objects, sending, objects sending, objects",
          "<b>Topic 0</b><br>Words: sending quality, objects sending, quality objects, sending, objects",
          "<b>Topic 0</b><br>Words: sending quality, objects sending, quality objects, sending, objects",
          "<b>Topic 0</b><br>Words: sending quality, objects sending, quality objects, sending, objects",
          "<b>Topic 0</b><br>Words: sending quality, objects sending, quality objects, sending, objects",
          "<b>Topic 0</b><br>Words: sending quality, objects sending, quality objects, sending, objects",
          "<b>Topic 0</b><br>Words: sending quality, objects sending, quality objects, sending, objects"
         ],
         "marker": {
          "color": "#E69F00"
         },
         "name": "0_sending quality_objects sending_qualit...",
         "orientation": "h",
         "type": "bar",
         "visible": true,
         "x": [
          775,
          120,
          6863,
          293,
          3988,
          2064,
          251,
          863,
          8,
          215,
          453,
          37,
          15,
          8,
          16,
          804,
          38,
          13286,
          584,
          1026,
          223,
          1081,
          60,
          16011,
          130,
          763,
          559,
          36679,
          63,
          557,
          1,
          723,
          40,
          3,
          38,
          10,
          1,
          495,
          604,
          892,
          37,
          492,
          1,
          270,
          286,
          1329,
          1895,
          27055,
          132,
          303,
          2372,
          3028,
          110,
          181,
          12,
          4399,
          228,
          3638,
          1138,
          191,
          268
         ],
         "y": [
          "include maximum number epns (211)",
          "prepare for injection",
          "beam dump",
          "expert request cpv",
          "mid expert request.",
          "exclude emc.",
          " jit-4e1deca4ebdf11d52f3ee4f99c0c46f78222361d-mch-qctaskmchdigits-proxy",
          "problem on alio2-cr1-flp080, backpressure. possible cause: from_readout-proxy_to_tpc-idc-to-vector.",
          "dcs sor failed (no sor_progressing).",
          "all epns crashed simultaneously.",
          "end calibration",
          " end calibration",
          "normal eor after 5 minutes.",
          "tpc not ready at sor",
          "mch",
          "revert readout configuration to see if it helps with errors from tpc (flp080) and its.",
          "ali-ecs core restarted",
          "preparation for tpc scan",
          "epn went flat",
          "eor test.",
          "trigger readout went to zero.",
          "change luminosity",
          "request from tpc expert.",
          "lhc dumped beam dump",
          "operator error: run restarted the same partition.",
          "adjust handshake",
          "issues known; expert informed",
          "start tests the day.",
          "exclude fv0.",
          "all epns crashed simultaneously with primary vertex error.",
          "sor failed for mch",
          "release ecs lock for mch",
          "calibration ended automatically",
          "end the calibration",
          "triggers out synch. disabling ctp readout.",
          "emcal",
          "cpv recover hv trip.",
          "tpc scan ",
          "changed predefined physics configuration",
          "texpert request",
          "include tpc.",
          "tpc expert request.",
          "started by mistake",
          "preparation for calibration.",
          "change predefined configuration.",
          "preparing for physics",
          "change config for mft",
          "prepare for cosmics",
          "rm asks to stop the run",
          "mch-qcmn-epn-full-track-matching crashed.",
          "sl request to include mid",
          "change trigger rate to 500 khz",
          "phos/cpv",
          "end test",
          "need to restart trigger.",
          "change lumi to 1mhz",
          "dpl errors on ali02-cr1-flp080 -  tpc flp (run stopped by the operator).",
          "stopping to include trd",
          "pdp expert request,",
          "tpc need to disable re-sync.",
          "all epns crashed simultaneously"
         ]
        },
        {
         "hoverinfo": "text",
         "hovertext": [
          "<b>Topic 1</b><br>Words: startofcycle, startofcycle startofcycle, startofcycle equipment, 90035181, cycledurationntf startofcycle",
          "<b>Topic 1</b><br>Words: startofcycle, startofcycle startofcycle, startofcycle equipment, 90035181, cycledurationntf startofcycle",
          "<b>Topic 1</b><br>Words: startofcycle startofcycle, startofcycle, stfb startofcycle, startofcycle bank, using first",
          "<b>Topic 1</b><br>Words: startofcycle, startofcycle startofcycle, startofcycle equipment, 90035181, cycledurationntf startofcycle",
          "<b>Topic 1</b><br>Words: startofcycle startofcycle, startofcycle, startofcycle equipment, 90035181, cycledurationntf startofcycle",
          "<b>Topic 1</b><br>Words: startofcycle startofcycle, startofcycle, startofcycle equipment, 90035181, cycledurationntf startofcycle",
          "<b>Topic 1</b><br>Words: startofcycle, startofcycle startofcycle, startofcycle equipment, 90035181, cycledurationntf startofcycle",
          "<b>Topic 1</b><br>Words: startofcycle, startofcycle startofcycle, startofcycle sending, objects startofcycle, sending quality",
          "<b>Topic 1</b><br>Words: startofcycle, startofcycle startofcycle, startofcycle equipment, 90035181, cycledurationntf startofcycle",
          "<b>Topic 1</b><br>Words: startofcycle, startofcycle startofcycle, used 90035181, 6783 startofcycle, 90035181 average",
          "<b>Topic 1</b><br>Words: startofcycle, startofcycle startofcycle, startofcycle equipment, 90035181, cycledurationntf startofcycle",
          "<b>Topic 1</b><br>Words: startofcycle, startofcycle startofcycle, startofcycle equipment, 90035181, cycledurationntf startofcycle",
          "<b>Topic 1</b><br>Words: startofcycle, startofcycle startofcycle, startofcycle equipment, 90035181, cycledurationntf startofcycle",
          "<b>Topic 1</b><br>Words: startofcycle startofcycle, startofcycle, startofcycle equipment, 90035181, cycledurationntf startofcycle",
          "<b>Topic 1</b><br>Words: startofcycle, startofcycle startofcycle, startofcycle equipment, 90035181, cycledurationntf startofcycle",
          "<b>Topic 1</b><br>Words: startofcycle startofcycle, startofcycle, startofcycle equipment, 90035181, cycledurationntf startofcycle",
          "<b>Topic 1</b><br>Words: startofcycle, startofcycle startofcycle, startofcycle equipment, 90035181, cycledurationntf startofcycle",
          "<b>Topic 1</b><br>Words: startofcycle startofcycle, startofcycle, startofcycle equipment, 90035181, cycledurationntf startofcycle",
          "<b>Topic 1</b><br>Words: startofcycle, startofcycle startofcycle, startofcycle equipment, 90035181, cycledurationntf startofcycle",
          "<b>Topic 1</b><br>Words: startofcycle startofcycle, startofcycle, startofcycle equipment, 90035181, cycledurationntf startofcycle",
          "<b>Topic 1</b><br>Words: startofcycle, startofcycle startofcycle, startofcycle equipment, 90035181, cycledurationntf startofcycle",
          "<b>Topic 1</b><br>Words: startofcycle startofcycle, startofcycle, startofcycle equipment, 90035181, cycledurationntf startofcycle",
          "<b>Topic 1</b><br>Words: startofcycle, startofcycle startofcycle, startofcycle equipment, 90035181, cycledurationntf startofcycle",
          "<b>Topic 1</b><br>Words: startofcycle startofcycle, startofcycle, startofcycle equipment, 90035181, cycledurationntf startofcycle",
          "<b>Topic 1</b><br>Words: startofcycle, startofcycle startofcycle, startofcycle equipment, 90035181, cycledurationntf startofcycle",
          "<b>Topic 1</b><br>Words: startofcycle, startofcycle startofcycle, startofcycle equipment, 90035181, cycledurationntf startofcycle",
          "<b>Topic 1</b><br>Words: startofcycle, startofcycle startofcycle, startofcycle equipment, 90035181, cycledurationntf startofcycle",
          "<b>Topic 1</b><br>Words: startofcycle, startofcycle startofcycle, 279136 startofcycle, startofcycle equipment, count 279136",
          "<b>Topic 1</b><br>Words: startofcycle, startofcycle startofcycle, startofcycle equipment, 90035181, cycledurationntf startofcycle",
          "<b>Topic 1</b><br>Words: startofcycle, startofcycle startofcycle, startofcycle equipment, 90035181, cycledurationntf startofcycle",
          "<b>Topic 1</b><br>Words: startofcycle, startofcycle startofcycle, startofcycle equipment, 90035181, cycledurationntf startofcycle",
          "<b>Topic 1</b><br>Words: startofcycle, startofcycle startofcycle, startofcycle equipment, 90035181, cycledurationntf startofcycle",
          "<b>Topic 1</b><br>Words: startofcycle startofcycle, startofcycle, startofcycle equipment, 90035181, cycledurationntf startofcycle",
          "<b>Topic 1</b><br>Words: startofcycle, startofcycle startofcycle, startofcycle equipment, 90035181, cycledurationntf startofcycle",
          "<b>Topic 1</b><br>Words: startofcycle, startofcycle startofcycle, startofcycle equipment, 90035181, cycledurationntf startofcycle",
          "<b>Topic 1</b><br>Words: startofcycle, startofcycle startofcycle, startofcycle equipment, 90035181, cycledurationntf startofcycle",
          "<b>Topic 1</b><br>Words: startofcycle, startofcycle startofcycle, startofcycle equipment, 90035181, cycledurationntf startofcycle",
          "<b>Topic 1</b><br>Words: startofcycle startofcycle, startofcycle, startofcycle equipment, 90035181, cycledurationntf startofcycle",
          "<b>Topic 1</b><br>Words: startofcycle startofcycle, startofcycle, startofcycle equipment, 90035181, cycledurationntf startofcycle",
          "<b>Topic 1</b><br>Words: startofcycle startofcycle, startofcycle, startofcycle equipment, 90035181, cycledurationntf startofcycle",
          "<b>Topic 1</b><br>Words: startofcycle, startofcycle startofcycle, startofcycle configure, cycledurationmoname cycledurationntf, cycledurationntf",
          "<b>Topic 1</b><br>Words: startofcycle, startofcycle startofcycle, startofcycle equipment, 90035181, cycledurationntf startofcycle",
          "<b>Topic 1</b><br>Words: startofcycle startofcycle, startofcycle, startofcycle equipment, 90035181, cycledurationntf startofcycle",
          "<b>Topic 1</b><br>Words: startofcycle startofcycle, startofcycle, startofcycle equipment, 90035181, cycledurationntf startofcycle",
          "<b>Topic 1</b><br>Words: startofcycle startofcycle, startofcycle, 74324, new 74324, previous 74322",
          "<b>Topic 1</b><br>Words: startofcycle, startofcycle startofcycle, startofcycle equipment, 90035181, cycledurationntf startofcycle",
          "<b>Topic 1</b><br>Words: startofcycle, startofcycle startofcycle, startofcycle equipment, 90035181, cycledurationntf startofcycle",
          "<b>Topic 1</b><br>Words: startofcycle startofcycle, startofcycle, startofcycle equipment, 90035181, cycledurationntf startofcycle",
          "<b>Topic 1</b><br>Words: startofcycle, startofcycle startofcycle, startofcycle equipment, 90035181, cycledurationntf startofcycle",
          "<b>Topic 1</b><br>Words: startofcycle startofcycle, startofcycle, startofcycle equipment, 90035181, cycledurationntf startofcycle",
          "<b>Topic 1</b><br>Words: startofcycle startofcycle, startofcycle, startofcycle equipment, 90035181, cycledurationntf startofcycle",
          "<b>Topic 1</b><br>Words: startofcycle, startofcycle startofcycle, startofcycle equipment, 90035181, cycledurationntf startofcycle",
          "<b>Topic 1</b><br>Words: startofcycle, startofcycle startofcycle, startofcycle equipment, 90035181, cycledurationntf startofcycle"
         ],
         "marker": {
          "color": "#56B4E9"
         },
         "name": "1_startofcycle startofcycle_startofcycle...",
         "orientation": "h",
         "type": "bar",
         "visible": "legendonly",
         "x": [
          698,
          46,
          5140,
          242,
          3456,
          1792,
          282,
          135,
          269,
          156,
          7,
          2,
          606,
          10286,
          367,
          1011,
          282,
          1042,
          149,
          12401,
          92,
          730,
          489,
          29762,
          8,
          552,
          121,
          7,
          102,
          40,
          521,
          48,
          791,
          149,
          521,
          339,
          309,
          1231,
          1538,
          19352,
          30,
          311,
          2014,
          2557,
          1,
          490,
          103,
          3761,
          253,
          2894,
          1331,
          224,
          122
         ],
         "y": [
          "include maximum number epns (211)",
          "prepare for injection",
          "beam dump",
          "expert request cpv",
          "mid expert request.",
          "exclude emc.",
          " jit-4e1deca4ebdf11d52f3ee4f99c0c46f78222361d-mch-qctaskmchdigits-proxy",
          "problem on alio2-cr1-flp080, backpressure. possible cause: from_readout-proxy_to_tpc-idc-to-vector.",
          "all epns crashed simultaneously.",
          "end calibration",
          " end calibration",
          "normal eor after 5 minutes.",
          "revert readout configuration to see if it helps with errors from tpc (flp080) and its.",
          "preparation for tpc scan",
          "epn went flat",
          "eor test.",
          "trigger readout went to zero.",
          "change luminosity",
          "request from tpc expert.",
          "lhc dumped beam dump",
          "operator error: run restarted the same partition.",
          "adjust handshake",
          "issues known; expert informed",
          "start tests the day.",
          "exclude fv0.",
          "all epns crashed simultaneously with primary vertex error.",
          "release ecs lock for mch",
          "end the calibration",
          "triggers out synch. disabling ctp readout.",
          "emcal",
          "tpc scan ",
          "changed predefined physics configuration",
          "texpert request",
          "include tpc.",
          "tpc expert request.",
          "preparation for calibration.",
          "change predefined configuration.",
          "preparing for physics",
          "change config for mft",
          "prepare for cosmics",
          "rm asks to stop the run",
          "mch-qcmn-epn-full-track-matching crashed.",
          "sl request to include mid",
          "change trigger rate to 500 khz",
          "phos/cpv",
          "end test",
          "need to restart trigger.",
          "change lumi to 1mhz",
          "dpl errors on ali02-cr1-flp080 -  tpc flp (run stopped by the operator).",
          "stopping to include trd",
          "pdp expert request,",
          "tpc need to disable re-sync.",
          "all epns crashed simultaneously"
         ]
        },
        {
         "hoverinfo": "text",
         "hovertext": [
          "<b>Topic 2</b><br>Words: storing qualityobjects, qualityobjects, qualityobjects storing, storing, qualityobjects task",
          "<b>Topic 2</b><br>Words: storing qualityobjects, qualityobjects storing, qualityobjects, storing, qualityobjects task",
          "<b>Topic 2</b><br>Words: storing qualityobjects, qualityobjects storing, qualityobjects, storing, 2aqu4hprkjb storing",
          "<b>Topic 2</b><br>Words: storing qualityobjects, qualityobjects storing, qualityobjects, storing, qualityobjects task",
          "<b>Topic 2</b><br>Words: storing qualityobjects, qualityobjects storing, qualityobjects, storing, qualityobjects task",
          "<b>Topic 2</b><br>Words: storing qualityobjects, qualityobjects storing, qualityobjects, storing, qualityobjects task",
          "<b>Topic 2</b><br>Words: storing qualityobjects, qualityobjects storing, qualityobjects, storing, qualityobjects task",
          "<b>Topic 2</b><br>Words: storing qualityobjects, qualityobjects, qualityobjects storing, storing, qualityobjects task",
          "<b>Topic 2</b><br>Words: storing qualityobjects, qualityobjects storing, qualityobjects, storing, qualityobjects task",
          "<b>Topic 2</b><br>Words: storing qualityobjects, qualityobjects storing, qualityobjects, storing, qualityobjects task",
          "<b>Topic 2</b><br>Words: storing qualityobjects, qualityobjects, qualityobjects storing, storing, qualityobjects task",
          "<b>Topic 2</b><br>Words: storing qualityobjects, qualityobjects, qualityobjects storing, storing, qualityobjects task",
          "<b>Topic 2</b><br>Words: storing qualityobjects, qualityobjects, qualityobjects storing, storing, qualityobjects task",
          "<b>Topic 2</b><br>Words: storing qualityobjects, qualityobjects storing, qualityobjects, storing, qualityobjects task",
          "<b>Topic 2</b><br>Words: storing qualityobjects, qualityobjects, qualityobjects storing, storing, processed 2632834",
          "<b>Topic 2</b><br>Words: storing qualityobjects, qualityobjects storing, qualityobjects, storing, 2700079 storing",
          "<b>Topic 2</b><br>Words: storing qualityobjects, qualityobjects storing, qualityobjects, storing, qualityobjects task",
          "<b>Topic 2</b><br>Words: storing qualityobjects, qualityobjects storing, qualityobjects, storing, qualityobjects task",
          "<b>Topic 2</b><br>Words: storing qualityobjects, qualityobjects, qualityobjects storing, storing, qualityobjects task",
          "<b>Topic 2</b><br>Words: storing qualityobjects, qualityobjects storing, qualityobjects, storing, qualityobjects task",
          "<b>Topic 2</b><br>Words: storing qualityobjects, qualityobjects, qualityobjects storing, storing, qualityobjects task",
          "<b>Topic 2</b><br>Words: storing qualityobjects, qualityobjects storing, qualityobjects, storing, qualityobjects task",
          "<b>Topic 2</b><br>Words: storing qualityobjects, qualityobjects storing, qualityobjects, storing, qualityobjects task",
          "<b>Topic 2</b><br>Words: storing qualityobjects, qualityobjects storing, qualityobjects, storing, qualityobjects task",
          "<b>Topic 2</b><br>Words: storing qualityobjects, qualityobjects storing, qualityobjects, storing, qualityobjects task",
          "<b>Topic 2</b><br>Words: storing qualityobjects, qualityobjects storing, qualityobjects, storing, timestamp 1664427955086",
          "<b>Topic 2</b><br>Words: storing qualityobjects, qualityobjects, qualityobjects storing, storing, qualityobjects task",
          "<b>Topic 2</b><br>Words: storing qualityobjects, qualityobjects storing, qualityobjects, storing, qualityobjects task",
          "<b>Topic 2</b><br>Words: storing qualityobjects, qualityobjects, storing, qualityobjects storing, qualityobjects task",
          "<b>Topic 2</b><br>Words: storing qualityobjects, qualityobjects storing, qualityobjects, storing, qualityobjects task",
          "<b>Topic 2</b><br>Words: storing qualityobjects, qualityobjects, qualityobjects storing, storing, qualityobjects task",
          "<b>Topic 2</b><br>Words: storing qualityobjects, qualityobjects, qualityobjects storing, storing, qualityobjects task",
          "<b>Topic 2</b><br>Words: storing qualityobjects, qualityobjects, qualityobjects storing, storing, qualityobjects task",
          "<b>Topic 2</b><br>Words: storing qualityobjects, qualityobjects, qualityobjects storing, storing, qualityobjects task",
          "<b>Topic 2</b><br>Words: storing qualityobjects, qualityobjects, storing, qualityobjects storing, qualityobjects task",
          "<b>Topic 2</b><br>Words: storing qualityobjects, qualityobjects storing, qualityobjects, storing, qualityobjects task",
          "<b>Topic 2</b><br>Words: storing qualityobjects, qualityobjects storing, qualityobjects, storing, qualityobjects task",
          "<b>Topic 2</b><br>Words: storing qualityobjects, qualityobjects, qualityobjects storing, storing, qualityobjects task",
          "<b>Topic 2</b><br>Words: storing qualityobjects, qualityobjects, qualityobjects storing, storing, qualityobjects task",
          "<b>Topic 2</b><br>Words: storing qualityobjects, qualityobjects storing, qualityobjects, storing, qualityobjects task",
          "<b>Topic 2</b><br>Words: storing qualityobjects, qualityobjects, qualityobjects storing, storing, qualityobjects task",
          "<b>Topic 2</b><br>Words: storing qualityobjects, qualityobjects storing, qualityobjects, storing, qualityobjects task",
          "<b>Topic 2</b><br>Words: storing qualityobjects, qualityobjects storing, qualityobjects, storing, qualityobjects task",
          "<b>Topic 2</b><br>Words: storing qualityobjects, qualityobjects storing, qualityobjects, storing, qualityobjects task",
          "<b>Topic 2</b><br>Words: storing qualityobjects, qualityobjects storing, qualityobjects, storing, qualityobjects task",
          "<b>Topic 2</b><br>Words: storing qualityobjects, qualityobjects storing, qualityobjects, storing, qualityobjects saving",
          "<b>Topic 2</b><br>Words: storing qualityobjects, qualityobjects, qualityobjects storing, storing, 2atafpnhog5 storing",
          "<b>Topic 2</b><br>Words: storing qualityobjects, qualityobjects storing, qualityobjects, storing, 54880 storing",
          "<b>Topic 2</b><br>Words: storing qualityobjects, qualityobjects storing, qualityobjects, storing, qualityobjects task",
          "<b>Topic 2</b><br>Words: storing qualityobjects, qualityobjects storing, qualityobjects, storing, qualityobjects task",
          "<b>Topic 2</b><br>Words: storing qualityobjects, qualityobjects storing, qualityobjects, storing, qualityobjects missing",
          "<b>Topic 2</b><br>Words: storing qualityobjects, qualityobjects, qualityobjects storing, storing, qualityobjects task",
          "<b>Topic 2</b><br>Words: storing qualityobjects, qualityobjects storing, qualityobjects, storing, qualityobjects task",
          "<b>Topic 2</b><br>Words: libo2qualitycontrol, library libo2qualitycontrol, storing qualityobjects, qualityobjects storing, qualityobjects",
          "<b>Topic 2</b><br>Words: storing qualityobjects, qualityobjects storing, qualityobjects, storing, qualityobjects task",
          "<b>Topic 2</b><br>Words: storing qualityobjects, qualityobjects storing, qualityobjects, storing, qualityobjects task",
          "<b>Topic 2</b><br>Words: storing qualityobjects, qualityobjects storing, qualityobjects, storing, qualityobjects task",
          "<b>Topic 2</b><br>Words: storing qualityobjects, qualityobjects storing, qualityobjects, storing, qualityobjects task",
          "<b>Topic 2</b><br>Words: storing qualityobjects, qualityobjects storing, qualityobjects, storing, qualityobjects task"
         ],
         "marker": {
          "color": "#009E73"
         },
         "name": "2_storing qualityobjects_qualityobjects ...",
         "orientation": "h",
         "type": "bar",
         "visible": "legendonly",
         "x": [
          49,
          120,
          4073,
          3155,
          1492,
          250,
          863,
          8,
          218,
          266,
          3,
          11,
          16,
          219,
          39,
          9484,
          436,
          1003,
          68,
          450,
          59,
          12643,
          130,
          199,
          322,
          21608,
          63,
          144,
          1,
          721,
          40,
          3,
          33,
          10,
          1,
          497,
          604,
          68,
          37,
          464,
          2,
          270,
          286,
          499,
          1838,
          24466,
          133,
          284,
          2337,
          939,
          103,
          12,
          4403,
          1,
          228,
          3618,
          1140,
          191,
          268
         ],
         "y": [
          "include maximum number epns (211)",
          "prepare for injection",
          "beam dump",
          "mid expert request.",
          "exclude emc.",
          " jit-4e1deca4ebdf11d52f3ee4f99c0c46f78222361d-mch-qctaskmchdigits-proxy",
          "problem on alio2-cr1-flp080, backpressure. possible cause: from_readout-proxy_to_tpc-idc-to-vector.",
          "dcs sor failed (no sor_progressing).",
          "all epns crashed simultaneously.",
          "end calibration",
          " end calibration",
          "normal eor after 5 minutes.",
          "mch",
          "revert readout configuration to see if it helps with errors from tpc (flp080) and its.",
          "ali-ecs core restarted",
          "preparation for tpc scan",
          "epn went flat",
          "eor test.",
          "trigger readout went to zero.",
          "change luminosity",
          "request from tpc expert.",
          "lhc dumped beam dump",
          "operator error: run restarted the same partition.",
          "adjust handshake",
          "issues known; expert informed",
          "start tests the day.",
          "exclude fv0.",
          "all epns crashed simultaneously with primary vertex error.",
          "sor failed for mch",
          "release ecs lock for mch",
          "calibration ended automatically",
          "end the calibration",
          "triggers out synch. disabling ctp readout.",
          "emcal",
          "cpv recover hv trip.",
          "tpc scan ",
          "changed predefined physics configuration",
          "texpert request",
          "include tpc.",
          "tpc expert request.",
          "started by mistake",
          "preparation for calibration.",
          "change predefined configuration.",
          "preparing for physics",
          "change config for mft",
          "prepare for cosmics",
          "rm asks to stop the run",
          "mch-qcmn-epn-full-track-matching crashed.",
          "sl request to include mid",
          "change trigger rate to 500 khz",
          "phos/cpv",
          "need to restart trigger.",
          "change lumi to 1mhz",
          "calibration failed",
          "dpl errors on ali02-cr1-flp080 -  tpc flp (run stopped by the operator).",
          "stopping to include trd",
          "pdp expert request,",
          "tpc need to disable re-sync.",
          "all epns crashed simultaneously"
         ]
        },
        {
         "hoverinfo": "text",
         "hovertext": [
          "<b>Topic 3</b><br>Words: endofcycle, endofcycle endofcycle, 18 endofcycle, endofcycle itsdecoder, 164 at",
          "<b>Topic 3</b><br>Words: endofcycle, endofcycle endofcycle, timestamp 1664473857380, 1664473857380, 1664473857380 updating",
          "<b>Topic 3</b><br>Words: endofcycle endofcycle, endofcycle, 1664473857380, timestamp 1664473857380, 1664473857380 updating",
          "<b>Topic 3</b><br>Words: endofcycle, endofcycle endofcycle, timestamp 1664473857380, 1664473857380, 1664473857380 updating",
          "<b>Topic 3</b><br>Words: endofcycle endofcycle, endofcycle, timestamp 1664473857380, 1664473857380, 1664473857380 updating",
          "<b>Topic 3</b><br>Words: endofcycle endofcycle, endofcycle, timestamp 1664473857380, 1664473857380, 1664473857380 updating",
          "<b>Topic 3</b><br>Words: endofcycle, endofcycle endofcycle, timestamp 1664473857380, 1664473857380, 1664473857380 updating",
          "<b>Topic 3</b><br>Words: endofcycle, endofcycle endofcycle, timestamp 1664473857380, 1664473857380, 1664473857380 updating",
          "<b>Topic 3</b><br>Words: endofcycle, endofcycle endofcycle, timestamp 1664473857380, 1664473857380, 1664473857380 updating",
          "<b>Topic 3</b><br>Words: endofcycle, endofcycle endofcycle, endofcycle received, 2arpa4s12ju task, 2arpa4s12ju",
          "<b>Topic 3</b><br>Words: endofcycle, endofcycle endofcycle, timestamp 1664473857380, 1664473857380, 1664473857380 updating",
          "<b>Topic 3</b><br>Words: endofcycle, endofcycle endofcycle, timestamp 1664473857380, 1664473857380, 1664473857380 updating",
          "<b>Topic 3</b><br>Words: endofcycle endofcycle, endofcycle, timestamp 1664473857380, 1664473857380, 1664473857380 updating",
          "<b>Topic 3</b><br>Words: endofcycle endofcycle, endofcycle, 1188 163020141, 163020141 on, endofcycle new",
          "<b>Topic 3</b><br>Words: endofcycle, endofcycle endofcycle, timestamp 1664473857380, 1664473857380, 1664473857380 updating",
          "<b>Topic 3</b><br>Words: endofcycle endofcycle, endofcycle, timestamp 1664473857380, 1664473857380, 1664473857380 updating",
          "<b>Topic 3</b><br>Words: endofcycle, endofcycle endofcycle, timestamp 1664473857380, 1664473857380, 1664473857380 updating",
          "<b>Topic 3</b><br>Words: endofcycle endofcycle, endofcycle, timestamp 1664473857380, 1664473857380, 1664473857380 updating",
          "<b>Topic 3</b><br>Words: endofcycle, endofcycle endofcycle, timestamp 1664473857380, 1664473857380, 1664473857380 updating",
          "<b>Topic 3</b><br>Words: endofcycle endofcycle, endofcycle, timestamp 1664473857380, 1664473857380, 1664473857380 updating",
          "<b>Topic 3</b><br>Words: endofcycle, endofcycle endofcycle, timestamp 1664473857380, 1664473857380, 1664473857380 updating",
          "<b>Topic 3</b><br>Words: endofcycle endofcycle, endofcycle, timestamp 1664473857380, 1664473857380, 1664473857380 updating",
          "<b>Topic 3</b><br>Words: endofcycle, endofcycle endofcycle, timestamp 1664473857380, 1664473857380, 1664473857380 updating",
          "<b>Topic 3</b><br>Words: endofcycle endofcycle, endofcycle, timestamp 1664473857380, 1664473857380, endofcycle updating",
          "<b>Topic 3</b><br>Words: endofcycle, endofcycle endofcycle, timestamp 1664473857380, 1664473857380, 1664473857380 updating",
          "<b>Topic 3</b><br>Words: endofcycle, endofcycle endofcycle, timestamp 1664473857380, 1664473857380, 1664473857380 updating",
          "<b>Topic 3</b><br>Words: endofcycle, endofcycle endofcycle, timestamp 1664473857380, 1664473857380, 1664473857380 updating",
          "<b>Topic 3</b><br>Words: endofcycle, endofcycle endofcycle, timestamp 1664473857380, 1664473857380, 1664473857380 updating",
          "<b>Topic 3</b><br>Words: endofcycle, endofcycle endofcycle, timestamp 1664473857380, 1664473857380, 1664473857380 updating",
          "<b>Topic 3</b><br>Words: endofcycle, endofcycle endofcycle, timestamp 1664473857380, 1664473857380, 1664473857380 updating",
          "<b>Topic 3</b><br>Words: endofcycle, endofcycle endofcycle, timestamp 1664473857380, 1664473857380, 1664473857380 updating",
          "<b>Topic 3</b><br>Words: endofcycle, endofcycle endofcycle, timestamp 1664473857380, 1664473857380, 1664473857380 updating",
          "<b>Topic 3</b><br>Words: endofcycle endofcycle, endofcycle, timestamp 1664473857380, 1664473857380, 1664473857380 updating",
          "<b>Topic 3</b><br>Words: endofcycle, endofcycle endofcycle, timestamp 1664473857380, 1664473857380, 1664473857380 updating",
          "<b>Topic 3</b><br>Words: endofcycle, endofcycle endofcycle, timestamp 1664473857380, 1664473857380, 1664473857380 updating",
          "<b>Topic 3</b><br>Words: endofcycle, endofcycle endofcycle, timestamp 1664473857380, 1664473857380, 1664473857380 updating",
          "<b>Topic 3</b><br>Words: endofcycle, endofcycle endofcycle, timestamp 1664473857380, 1664473857380, 1664473857380 updating",
          "<b>Topic 3</b><br>Words: endofcycle endofcycle, endofcycle, timestamp 1664473857380, 1664473857380, 1664473857380 updating",
          "<b>Topic 3</b><br>Words: endofcycle endofcycle, endofcycle, timestamp 1664473857380, 1664473857380, 1664473857380 updating",
          "<b>Topic 3</b><br>Words: endofcycle endofcycle, endofcycle, timestamp 1664473857380, 1664473857380, 1664473857380 updating",
          "<b>Topic 3</b><br>Words: endofcycle, endofcycle endofcycle, timestamp 1664473857380, 1664473857380, 1664473857380 updating",
          "<b>Topic 3</b><br>Words: endofcycle, endofcycle endofcycle, timestamp 1664473857380, 1664473857380, 1664473857380 updating",
          "<b>Topic 3</b><br>Words: endofcycle endofcycle, endofcycle, timestamp 1664473857380, 1664473857380, 1664473857380 updating",
          "<b>Topic 3</b><br>Words: endofcycle endofcycle, endofcycle, 180 endofcycle, endofcycle itsdecoder, 0x6124 rusw",
          "<b>Topic 3</b><br>Words: endofcycle, endofcycle endofcycle, 115 gbytes, endofcycle final, 2assju1dbnh registered",
          "<b>Topic 3</b><br>Words: endofcycle, endofcycle endofcycle, timestamp 1664473857380, 1664473857380, 1664473857380 updating",
          "<b>Topic 3</b><br>Words: endofcycle, endofcycle endofcycle, timestamp 1664473857380, 1664473857380, 1664473857380 updating",
          "<b>Topic 3</b><br>Words: endofcycle endofcycle, endofcycle, timestamp 1664473857380, 1664473857380, 1664473857380 updating",
          "<b>Topic 3</b><br>Words: endofcycle, endofcycle endofcycle, timestamp 1664473857380, 1664473857380, 1664473857380 updating",
          "<b>Topic 3</b><br>Words: endofcycle endofcycle, endofcycle, timestamp 1664473857380, 1664473857380, 1664473857380 updating",
          "<b>Topic 3</b><br>Words: endofcycle endofcycle, endofcycle, timestamp 1664473857380, 1664473857380, 1664473857380 updating",
          "<b>Topic 3</b><br>Words: endofcycle, endofcycle endofcycle, timestamp 1664473857380, 1664473857380, 1664473857380 updating",
          "<b>Topic 3</b><br>Words: endofcycle, endofcycle endofcycle, timestamp 1664473857380, 1664473857380, 1664473857380 updating"
         ],
         "marker": {
          "color": "#F0E442"
         },
         "name": "3_endofcycle endofcycle_endofcycle_16644...",
         "orientation": "h",
         "type": "bar",
         "visible": "legendonly",
         "x": [
          663,
          51,
          5167,
          241,
          3418,
          1744,
          245,
          129,
          242,
          165,
          7,
          5,
          579,
          10263,
          433,
          920,
          245,
          997,
          122,
          12363,
          92,
          693,
          459,
          29726,
          40,
          488,
          22,
          156,
          65,
          20,
          485,
          44,
          757,
          122,
          451,
          313,
          272,
          1153,
          1501,
          19312,
          165,
          274,
          1975,
          2525,
          107,
          453,
          66,
          3723,
          216,
          2864,
          1291,
          187,
          100
         ],
         "y": [
          "include maximum number epns (211)",
          "prepare for injection",
          "beam dump",
          "expert request cpv",
          "mid expert request.",
          "exclude emc.",
          " jit-4e1deca4ebdf11d52f3ee4f99c0c46f78222361d-mch-qctaskmchdigits-proxy",
          "problem on alio2-cr1-flp080, backpressure. possible cause: from_readout-proxy_to_tpc-idc-to-vector.",
          "all epns crashed simultaneously.",
          "end calibration",
          " end calibration",
          "normal eor after 5 minutes.",
          "revert readout configuration to see if it helps with errors from tpc (flp080) and its.",
          "preparation for tpc scan",
          "epn went flat",
          "eor test.",
          "trigger readout went to zero.",
          "change luminosity",
          "request from tpc expert.",
          "lhc dumped beam dump",
          "operator error: run restarted the same partition.",
          "adjust handshake",
          "issues known; expert informed",
          "start tests the day.",
          "exclude fv0.",
          "all epns crashed simultaneously with primary vertex error.",
          "sor failed for mch",
          "release ecs lock for mch",
          "triggers out synch. disabling ctp readout.",
          "emcal",
          "tpc scan ",
          "changed predefined physics configuration",
          "texpert request",
          "include tpc.",
          "tpc expert request.",
          "preparation for calibration.",
          "change predefined configuration.",
          "preparing for physics",
          "change config for mft",
          "prepare for cosmics",
          "rm asks to stop the run",
          "mch-qcmn-epn-full-track-matching crashed.",
          "sl request to include mid",
          "change trigger rate to 500 khz",
          "phos/cpv",
          "end test",
          "need to restart trigger.",
          "change lumi to 1mhz",
          "dpl errors on ali02-cr1-flp080 -  tpc flp (run stopped by the operator).",
          "stopping to include trd",
          "pdp expert request,",
          "tpc need to disable re-sync.",
          "all epns crashed simultaneously"
         ]
        },
        {
         "hoverinfo": "text",
         "hovertext": [
          "<b>Topic 4</b><br>Words: check rawbunchminamplitude, rawbunchminamplitude quality, rawbunchminamplitude, good level, quality good",
          "<b>Topic 4</b><br>Words: check rawbunchminamplitude, rawbunchminamplitude quality, rawbunchminamplitude, quality good, good level",
          "<b>Topic 4</b><br>Words: check rawbunchminamplitude, rawbunchminamplitude quality, rawbunchminamplitude, quality good, good level",
          "<b>Topic 4</b><br>Words: check rawbunchminamplitude, rawbunchminamplitude quality, rawbunchminamplitude, quality good, good level",
          "<b>Topic 4</b><br>Words: check rawbunchminamplitude, rawbunchminamplitude quality, rawbunchminamplitude, quality good, good level",
          "<b>Topic 4</b><br>Words: check rawbunchminamplitude, rawbunchminamplitude quality, rawbunchminamplitude, quality good, good level",
          "<b>Topic 4</b><br>Words: check rawbunchminamplitude, rawbunchminamplitude quality, rawbunchminamplitude, quality good, good level",
          "<b>Topic 4</b><br>Words: check rawbunchminamplitude, rawbunchminamplitude quality, rawbunchminamplitude, quality good, good level",
          "<b>Topic 4</b><br>Words: check rawbunchminamplitude, rawbunchminamplitude quality, rawbunchminamplitude, quality good, good level",
          "<b>Topic 4</b><br>Words: check rawbunchminamplitude, rawbunchminamplitude quality, rawbunchminamplitude, quality good, good level",
          "<b>Topic 4</b><br>Words: 1455129, check rawbunchminamplitude, rawbunchminamplitude quality, rawbunchminamplitude, count 1455129",
          "<b>Topic 4</b><br>Words: check rawbunchminamplitude, rawbunchminamplitude quality, rawbunchminamplitude, quality good, good level",
          "<b>Topic 4</b><br>Words: check rawbunchminamplitude, rawbunchminamplitude quality, rawbunchminamplitude, quality good, good level",
          "<b>Topic 4</b><br>Words: check rawbunchminamplitude, rawbunchminamplitude quality, rawbunchminamplitude, good level, quality good",
          "<b>Topic 4</b><br>Words: check rawbunchminamplitude, rawbunchminamplitude quality, rawbunchminamplitude, quality good, good level",
          "<b>Topic 4</b><br>Words: check rawbunchminamplitude, rawbunchminamplitude quality, rawbunchminamplitude, quality good, good level",
          "<b>Topic 4</b><br>Words: check rawbunchminamplitude, rawbunchminamplitude quality, rawbunchminamplitude, quality good, good level",
          "<b>Topic 4</b><br>Words: check rawbunchminamplitude, rawbunchminamplitude quality, rawbunchminamplitude, quality good, good level",
          "<b>Topic 4</b><br>Words: check rawbunchminamplitude, rawbunchminamplitude quality, rawbunchminamplitude, good level, quality good",
          "<b>Topic 4</b><br>Words: check rawbunchminamplitude, rawbunchminamplitude quality, rawbunchminamplitude, quality good, good level",
          "<b>Topic 4</b><br>Words: check rawbunchminamplitude, rawbunchminamplitude quality, rawbunchminamplitude, quality good, good level",
          "<b>Topic 4</b><br>Words: check rawbunchminamplitude, rawbunchminamplitude quality, rawbunchminamplitude, bad setting, to red",
          "<b>Topic 4</b><br>Words: check rawbunchminamplitude, rawbunchminamplitude quality, rawbunchminamplitude, quality good, good level",
          "<b>Topic 4</b><br>Words: check rawbunchminamplitude, rawbunchminamplitude quality, rawbunchminamplitude, quality good, good level",
          "<b>Topic 4</b><br>Words: check rawbunchminamplitude, rawbunchminamplitude quality, rawbunchminamplitude, quality good, good level",
          "<b>Topic 4</b><br>Words: check rawbunchminamplitude, rawbunchminamplitude quality, rawbunchminamplitude, quality good, good level",
          "<b>Topic 4</b><br>Words: check rawbunchminamplitude, rawbunchminamplitude quality, rawbunchminamplitude, quality good, good level",
          "<b>Topic 4</b><br>Words: check rawbunchminamplitude, rawbunchminamplitude quality, rawbunchminamplitude, quality good, good level",
          "<b>Topic 4</b><br>Words: check rawbunchminamplitude, rawbunchminamplitude quality, rawbunchminamplitude, quality good, good level",
          "<b>Topic 4</b><br>Words: check rawbunchminamplitude, rawbunchminamplitude quality, rawbunchminamplitude, quality good, good level",
          "<b>Topic 4</b><br>Words: check rawbunchminamplitude, rawbunchminamplitude quality, rawbunchminamplitude, quality good, good level",
          "<b>Topic 4</b><br>Words: check rawbunchminamplitude, rawbunchminamplitude quality, rawbunchminamplitude, quality good, good level",
          "<b>Topic 4</b><br>Words: check rawbunchminamplitude, rawbunchminamplitude quality, rawbunchminamplitude, quality good, good level",
          "<b>Topic 4</b><br>Words: check rawbunchminamplitude, rawbunchminamplitude quality, rawbunchminamplitude, quality good, good level",
          "<b>Topic 4</b><br>Words: check rawbunchminamplitude, rawbunchminamplitude quality, rawbunchminamplitude, quality good, good level",
          "<b>Topic 4</b><br>Words: check rawbunchminamplitude, rawbunchminamplitude quality, rawbunchminamplitude, good level, quality good",
          "<b>Topic 4</b><br>Words: check rawbunchminamplitude, rawbunchminamplitude quality, rawbunchminamplitude, good level, quality good",
          "<b>Topic 4</b><br>Words: check rawbunchminamplitude, rawbunchminamplitude quality, rawbunchminamplitude, good level, quality good",
          "<b>Topic 4</b><br>Words: check rawbunchminamplitude, rawbunchminamplitude quality, rawbunchminamplitude, good level, quality good",
          "<b>Topic 4</b><br>Words: check rawbunchminamplitude, rawbunchminamplitude quality, rawbunchminamplitude, quality good, good level",
          "<b>Topic 4</b><br>Words: check rawbunchminamplitude, rawbunchminamplitude quality, rawbunchminamplitude, 129582 check, 129582",
          "<b>Topic 4</b><br>Words: check rawbunchminamplitude, rawbunchminamplitude quality, rawbunchminamplitude, quality good, good level",
          "<b>Topic 4</b><br>Words: check rawbunchminamplitude, rawbunchminamplitude quality, rawbunchminamplitude, quality good, good level",
          "<b>Topic 4</b><br>Words: check rawbunchminamplitude, rawbunchminamplitude quality, rawbunchminamplitude, good level, quality good",
          "<b>Topic 4</b><br>Words: check rawbunchminamplitude, rawbunchminamplitude quality, rawbunchminamplitude, quality good, good level",
          "<b>Topic 4</b><br>Words: check rawbunchminamplitude, rawbunchminamplitude quality, rawbunchminamplitude, good level, quality good",
          "<b>Topic 4</b><br>Words: check rawbunchminamplitude, rawbunchminamplitude quality, rawbunchminamplitude, quality good, good level"
         ],
         "marker": {
          "color": "#D55E00"
         },
         "name": "4_check rawbunchminamplitude_rawbunchmin...",
         "orientation": "h",
         "type": "bar",
         "visible": "legendonly",
         "x": [
          462,
          3929,
          180,
          2568,
          1196,
          161,
          209,
          202,
          46,
          521,
          1,
          7842,
          391,
          713,
          163,
          710,
          9450,
          92,
          484,
          368,
          20701,
          12,
          308,
          46,
          23,
          50,
          344,
          391,
          571,
          292,
          23,
          184,
          617,
          1127,
          16412,
          24,
          1468,
          1863,
          47,
          322,
          2,
          2795,
          116,
          2388,
          115,
          93,
          232
         ],
         "y": [
          "include maximum number epns (211)",
          "beam dump",
          "expert request cpv",
          "mid expert request.",
          "exclude emc.",
          " jit-4e1deca4ebdf11d52f3ee4f99c0c46f78222361d-mch-qctaskmchdigits-proxy",
          "all epns crashed simultaneously.",
          "end calibration",
          " end calibration",
          "revert readout configuration to see if it helps with errors from tpc (flp080) and its.",
          "ali-ecs core restarted",
          "preparation for tpc scan",
          "epn went flat",
          "eor test.",
          "trigger readout went to zero.",
          "change luminosity",
          "lhc dumped beam dump",
          "operator error: run restarted the same partition.",
          "adjust handshake",
          "issues known; expert informed",
          "start tests the day.",
          "exclude fv0.",
          "all epns crashed simultaneously with primary vertex error.",
          "calibration ended automatically",
          "triggers out synch. disabling ctp readout.",
          "emcal",
          "tpc scan ",
          "changed predefined physics configuration",
          "texpert request",
          "tpc expert request.",
          "started by mistake",
          "change predefined configuration.",
          "preparing for physics",
          "change config for mft",
          "prepare for cosmics",
          "rm asks to stop the run",
          "sl request to include mid",
          "change trigger rate to 500 khz",
          "phos/cpv",
          "end test",
          "need to restart trigger.",
          "change lumi to 1mhz",
          "dpl errors on ali02-cr1-flp080 -  tpc flp (run stopped by the operator).",
          "stopping to include trd",
          "pdp expert request,",
          "tpc need to disable re-sync.",
          "all epns crashed simultaneously"
         ]
        },
        {
         "hoverinfo": "text",
         "hovertext": [
          "<b>Topic 5</b><br>Words: updating the, triggertype timestamp, task due, to trigger, triggertype",
          "<b>Topic 5</b><br>Words: updating the, triggertype timestamp, triggertype, to trigger, trigger triggertype",
          "<b>Topic 5</b><br>Words: updating the, triggertype timestamp, to trigger, trigger triggertype, task due",
          "<b>Topic 5</b><br>Words: updating the, triggertype timestamp, trigger triggertype, triggertype, task due",
          "<b>Topic 5</b><br>Words: updating the, triggertype timestamp, to trigger, task due, trigger triggertype",
          "<b>Topic 5</b><br>Words: updating the, triggertype timestamp, triggertype, trigger triggertype, to trigger",
          "<b>Topic 5</b><br>Words: updating the, triggertype timestamp, to trigger, trigger triggertype, task due",
          "<b>Topic 5</b><br>Words: updating the, triggertype timestamp, task due, triggertype, trigger triggertype",
          "<b>Topic 5</b><br>Words: updating the, triggertype timestamp, trigger triggertype, to trigger, triggertype",
          "<b>Topic 5</b><br>Words: triggertype timestamp, trigger triggertype, triggertype, task due, to trigger",
          "<b>Topic 5</b><br>Words: 1664548303506 updating, 1664548303506, timestamp 1664548303506, 1664548303475 updating, 1664548303475",
          "<b>Topic 5</b><br>Words: 1664560055322 updating, 1664560032904 updating, timestamp 1664560032904, timestamp 1664560055322, 1664560059442",
          "<b>Topic 5</b><br>Words: updating the, triggertype timestamp, task due, trigger triggertype, triggertype",
          "<b>Topic 5</b><br>Words: updating the, triggertype timestamp, triggertype, to trigger, task due",
          "<b>Topic 5</b><br>Words: updating the, triggertype timestamp, trigger triggertype, triggertype, to trigger",
          "<b>Topic 5</b><br>Words: updating the, triggertype timestamp, trigger triggertype, task due, to trigger",
          "<b>Topic 5</b><br>Words: updating the, triggertype timestamp, triggertype, to trigger, trigger triggertype",
          "<b>Topic 5</b><br>Words: updating the, triggertype timestamp, triggertype, to trigger, trigger triggertype",
          "<b>Topic 5</b><br>Words: 1664730126557, 1664730126557 updating, timestamp 1664730126557, updating the, triggertype timestamp",
          "<b>Topic 5</b><br>Words: updating the, triggertype timestamp, to trigger, trigger triggertype, task due",
          "<b>Topic 5</b><br>Words: 1664655610018 updating, 1664655730019 updating, 1664655730019, timestamp 1664655730019, 1664655610018",
          "<b>Topic 5</b><br>Words: updating the, triggertype timestamp, task due, to trigger, trigger triggertype",
          "<b>Topic 5</b><br>Words: updating the, triggertype timestamp, to trigger, task due, trigger triggertype",
          "<b>Topic 5</b><br>Words: updating the, triggertype timestamp, trigger triggertype, task due, to trigger",
          "<b>Topic 5</b><br>Words: timestamp 1664363450635, 1664363451254, 1664363582564, timestamp 1664363390718, 1664363571181",
          "<b>Topic 5</b><br>Words: updating the, triggertype timestamp, to trigger, trigger triggertype, task due",
          "<b>Topic 5</b><br>Words: timestamp 1664351173468, 1664351173468, 1664351173468 updating, updating the, triggertype timestamp",
          "<b>Topic 5</b><br>Words: updating the, triggertype timestamp, to trigger, task due, triggertype",
          "<b>Topic 5</b><br>Words: 1664527736563, 1664527736563 updating, timestamp 1664527736563, 1664527796607 updating, timestamp 1664527796607",
          "<b>Topic 5</b><br>Words: 1664738104889 updating, 1664738104889, timestamp 1664738104889, 1664738104878, timestamp 1664738104878",
          "<b>Topic 5</b><br>Words: 1664345259448, 1664345259436 updating, 1664345259436, timestamp 1664345259436, timestamp 1664345259448",
          "<b>Topic 5</b><br>Words: updating the, triggertype timestamp, task due, to trigger, trigger triggertype",
          "<b>Topic 5</b><br>Words: updating the, triggertype timestamp, task due, to trigger, trigger triggertype",
          "<b>Topic 5</b><br>Words: updating the, triggertype timestamp, task due, trigger triggertype, triggertype",
          "<b>Topic 5</b><br>Words: timestamp 1664525234666, timestamp 1664525114563, 1664525234601 updating, 1664525234601, timestamp 1664525234601",
          "<b>Topic 5</b><br>Words: updating the, triggertype timestamp, task due, to trigger, trigger triggertype",
          "<b>Topic 5</b><br>Words: 1664453587561 updating, 1664453587561, timestamp 1664453587561, 1664453587590, timestamp 1664453587590",
          "<b>Topic 5</b><br>Words: updating the, triggertype timestamp, task due, triggertype, to trigger",
          "<b>Topic 5</b><br>Words: updating the, triggertype timestamp, trigger triggertype, triggertype, task due",
          "<b>Topic 5</b><br>Words: updating the, triggertype timestamp, task due, trigger triggertype, triggertype",
          "<b>Topic 5</b><br>Words: updating the, triggertype timestamp, task due, triggertype, trigger triggertype",
          "<b>Topic 5</b><br>Words: updating the, triggertype timestamp, task due, to trigger, triggertype",
          "<b>Topic 5</b><br>Words: updating the, triggertype timestamp, trigger triggertype, task due, to trigger",
          "<b>Topic 5</b><br>Words: timestamp 1664679751701, 1664679751701, 1664679751701 updating, updating the, triggertype timestamp",
          "<b>Topic 5</b><br>Words: updating the, triggertype timestamp, triggertype, trigger triggertype, task due",
          "<b>Topic 5</b><br>Words: updating the, triggertype timestamp, to trigger, task due, trigger triggertype",
          "<b>Topic 5</b><br>Words: updating the, triggertype timestamp, to trigger, task due, triggertype",
          "<b>Topic 5</b><br>Words: updating the, triggertype timestamp, trigger triggertype, task due, to trigger",
          "<b>Topic 5</b><br>Words: 1664737455374, timestamp 1664737455374, 1664737455374 updating, updating the, triggertype timestamp",
          "<b>Topic 5</b><br>Words: updating the, triggertype timestamp, to trigger, trigger triggertype, task due",
          "<b>Topic 5</b><br>Words: updating the, triggertype timestamp, to trigger, task due, trigger triggertype",
          "<b>Topic 5</b><br>Words: updating the, triggertype timestamp, task due, trigger triggertype, triggertype",
          "<b>Topic 5</b><br>Words: updating the, triggertype timestamp, to trigger, task due, triggertype",
          "<b>Topic 5</b><br>Words: 1664621723061 updating, timestamp 1664621663035, 1664621783099 updating, 1664621783099, 1664621663035 updating",
          "<b>Topic 5</b><br>Words: updating the, triggertype timestamp, to trigger, task due, trigger triggertype"
         ],
         "marker": {
          "color": "#0072B2"
         },
         "name": "5_updating the_triggertype timestamp_tri...",
         "orientation": "h",
         "type": "bar",
         "visible": "legendonly",
         "x": [
          483,
          39,
          3761,
          165,
          2329,
          1127,
          150,
          280,
          142,
          178,
          24,
          4,
          411,
          5068,
          327,
          498,
          112,
          635,
          40,
          6748,
          85,
          455,
          260,
          17911,
          29,
          312,
          2,
          208,
          30,
          24,
          8,
          304,
          327,
          497,
          9,
          263,
          3,
          93,
          157,
          636,
          1098,
          9298,
          76,
          165,
          1395,
          1768,
          37,
          287,
          2,
          2377,
          139,
          2075,
          447,
          107,
          165
         ],
         "y": [
          "include maximum number epns (211)",
          "prepare for injection",
          "beam dump",
          "expert request cpv",
          "mid expert request.",
          "exclude emc.",
          " jit-4e1deca4ebdf11d52f3ee4f99c0c46f78222361d-mch-qctaskmchdigits-proxy",
          "problem on alio2-cr1-flp080, backpressure. possible cause: from_readout-proxy_to_tpc-idc-to-vector.",
          "all epns crashed simultaneously.",
          "end calibration",
          " end calibration",
          "normal eor after 5 minutes.",
          "revert readout configuration to see if it helps with errors from tpc (flp080) and its.",
          "preparation for tpc scan",
          "epn went flat",
          "eor test.",
          "trigger readout went to zero.",
          "change luminosity",
          "request from tpc expert.",
          "lhc dumped beam dump",
          "operator error: run restarted the same partition.",
          "adjust handshake",
          "issues known; expert informed",
          "start tests the day.",
          "exclude fv0.",
          "all epns crashed simultaneously with primary vertex error.",
          "sor failed for mch",
          "release ecs lock for mch",
          "calibration ended automatically",
          "triggers out synch. disabling ctp readout.",
          "emcal",
          "tpc scan ",
          "changed predefined physics configuration",
          "texpert request",
          "include tpc.",
          "tpc expert request.",
          "started by mistake",
          "preparation for calibration.",
          "change predefined configuration.",
          "preparing for physics",
          "change config for mft",
          "prepare for cosmics",
          "rm asks to stop the run",
          "mch-qcmn-epn-full-track-matching crashed.",
          "sl request to include mid",
          "change trigger rate to 500 khz",
          "phos/cpv",
          "end test",
          "need to restart trigger.",
          "change lumi to 1mhz",
          "dpl errors on ali02-cr1-flp080 -  tpc flp (run stopped by the operator).",
          "stopping to include trd",
          "pdp expert request,",
          "tpc need to disable re-sync.",
          "all epns crashed simultaneously"
         ]
        },
        {
         "hoverinfo": "text",
         "hovertext": [
          "<b>Topic 177</b><br>Words: starting dma, roc starting, dma for, dma, starting",
          "<b>Topic 177</b><br>Words: roc starting, starting dma, dma for, dma, starting",
          "<b>Topic 177</b><br>Words: roc stopping, stopping dma, dma for, dma, stopping",
          "<b>Topic 177</b><br>Words: starting dma, dma for, m2 starting, m3 starting, dma",
          "<b>Topic 177</b><br>Words: starting dma, roc starting, dma for, dma, starting",
          "<b>Topic 177</b><br>Words: roc stopping, stopping dma, stopping, dma for, dma",
          "<b>Topic 177</b><br>Words: starting dma, roc starting, dma for, dma, starting",
          "<b>Topic 177</b><br>Words: roc starting, dma for, starting dma, dma, for roc",
          "<b>Topic 177</b><br>Words: dma for, roc starting, starting dma, 16854 gap, 16852",
          "<b>Topic 177</b><br>Words: roc starting, starting dma, dma for, dma, starting",
          "<b>Topic 177</b><br>Words: dma for, roc starting, starting dma, dma, roc stopping",
          "<b>Topic 177</b><br>Words: roc starting, starting dma, dma for, dma, starting",
          "<b>Topic 177</b><br>Words: stopping dma, roc stopping, stopping, dma for, dma",
          "<b>Topic 177</b><br>Words: roc starting, starting dma, dma for, dma, starting",
          "<b>Topic 177</b><br>Words: roc stopping, stopping dma, dma for, stopping, dma",
          "<b>Topic 177</b><br>Words: starting dma, roc starting, dma for, dma, starting",
          "<b>Topic 177</b><br>Words: roc starting, starting dma, dma for, dma, starting",
          "<b>Topic 177</b><br>Words: stopping dma, roc stopping, dma for, stopping, dma",
          "<b>Topic 177</b><br>Words: roc starting, starting dma, dma for, dma, starting",
          "<b>Topic 177</b><br>Words: dma for, roc starting, starting dma, dma, stopping dma",
          "<b>Topic 177</b><br>Words: roc starting, starting dma, dma for, dma, starting",
          "<b>Topic 177</b><br>Words: starting dma, roc starting, dma for, dma, starting",
          "<b>Topic 177</b><br>Words: dma for, starting dma, roc starting, dma, ids 5294",
          "<b>Topic 177</b><br>Words: starting dma, roc starting, dma for, dma, starting",
          "<b>Topic 177</b><br>Words: 0x6028 to, dma for, roc starting, starting dma, 184 stave",
          "<b>Topic 177</b><br>Words: stopping dma, dma for, dma, roc stopping, stopping",
          "<b>Topic 177</b><br>Words: starting dma, roc starting, dma for, dma, starting",
          "<b>Topic 177</b><br>Words: stopping dma, dma for, dma, roc starting, starting dma",
          "<b>Topic 177</b><br>Words: roc starting, starting dma, dma for, dma, for roc",
          "<b>Topic 177</b><br>Words: roc starting, starting dma, dma for, dma, starting",
          "<b>Topic 177</b><br>Words: roc stopping, stopping dma, stopping, dma for, dma",
          "<b>Topic 177</b><br>Words: roc starting, starting dma, dma for, dma, starting",
          "<b>Topic 177</b><br>Words: roc stopping, stopping dma, dma for, stopping, dma",
          "<b>Topic 177</b><br>Words: m2 starting, roc m2, roc m4, m4 starting, starting dma",
          "<b>Topic 177</b><br>Words: roc starting, starting dma, dma for, dma, starting",
          "<b>Topic 177</b><br>Words: roc starting, starting dma, dma for, dma, starting",
          "<b>Topic 177</b><br>Words: starting dma, roc starting, dma for, dma, starting",
          "<b>Topic 177</b><br>Words: roc starting, starting dma, dma for, dma, for roc",
          "<b>Topic 177</b><br>Words: starting dma, roc starting, dma for, dma, starting",
          "<b>Topic 177</b><br>Words: stopping dma, dma for, ddl0 stopping, dma, roc starting",
          "<b>Topic 177</b><br>Words: starting dma, roc starting, dma for, dma, starting",
          "<b>Topic 177</b><br>Words: dma for, stopping dma, ddl0 stopping, dma, ddl1 stopping",
          "<b>Topic 177</b><br>Words: starting dma, roc starting, dma for, dma, starting",
          "<b>Topic 177</b><br>Words: stopping dma, roc stopping, stopping, dma for, dma",
          "<b>Topic 177</b><br>Words: starting dma, roc starting, dma for, dma, starting",
          "<b>Topic 177</b><br>Words: roc starting, starting dma, dma for, dma, starting",
          "<b>Topic 177</b><br>Words: starting dma, roc starting, dma for, dma, starting",
          "<b>Topic 177</b><br>Words: stopping dma, roc stopping, dma for, stopping, dma",
          "<b>Topic 177</b><br>Words: starting dma, roc starting, dma for, dma, starting",
          "<b>Topic 177</b><br>Words: roc starting, starting dma, dma for, dma, starting",
          "<b>Topic 177</b><br>Words: starting dma, roc starting, dma for, dma, starting",
          "<b>Topic 177</b><br>Words: starting dma, roc starting, dma for, dma, starting",
          "<b>Topic 177</b><br>Words: dma for, roc starting, starting dma, dma, stopping dma",
          "<b>Topic 177</b><br>Words: starting dma, roc starting, dma for, dma, starting",
          "<b>Topic 177</b><br>Words: stopping dma, dma for, dma, ddl0 stopping, ddl1 stopping",
          "<b>Topic 177</b><br>Words: starting dma, roc starting, dma for, dma, starting",
          "<b>Topic 177</b><br>Words: roc starting, starting dma, dma for, dma, starting"
         ],
         "marker": {
          "color": "#CC79A7"
         },
         "name": "177_dma for_roc starting_starting dma_dm...",
         "orientation": "h",
         "type": "bar",
         "visible": "legendonly",
         "x": [
          876,
          760,
          5190,
          16,
          888,
          252,
          837,
          897,
          4,
          195,
          18995,
          635,
          12,
          925,
          941,
          841,
          803,
          81,
          929,
          2531,
          943,
          966,
          18,
          800,
          1,
          97,
          1856,
          106,
          832,
          622,
          703,
          928,
          776,
          9,
          911,
          823,
          923,
          197,
          1832,
          61,
          851,
          87,
          750,
          3322,
          830,
          884,
          866,
          2462,
          761,
          929,
          961,
          882,
          5,
          877,
          230,
          880,
          64
         ],
         "y": [
          "include maximum number epns (211)",
          "prepare for injection",
          "beam dump",
          "expert request cpv",
          "mid expert request.",
          "exclude emc.",
          " jit-4e1deca4ebdf11d52f3ee4f99c0c46f78222361d-mch-qctaskmchdigits-proxy",
          "problem on alio2-cr1-flp080, backpressure. possible cause: from_readout-proxy_to_tpc-idc-to-vector.",
          "dcs sor failed (no sor_progressing).",
          "all epns crashed simultaneously.",
          "end calibration",
          " end calibration",
          "normal eor after 5 minutes.",
          "revert readout configuration to see if it helps with errors from tpc (flp080) and its.",
          "ali-ecs core restarted",
          "preparation for tpc scan",
          "epn went flat",
          "eor test.",
          "trigger readout went to zero.",
          "change luminosity",
          "request from tpc expert.",
          "lhc dumped beam dump",
          "operator error: run restarted the same partition.",
          "adjust handshake",
          "start tests the day.",
          "exclude fv0.",
          "all epns crashed simultaneously with primary vertex error.",
          "sor failed for mch",
          "release ecs lock for mch",
          "calibration ended automatically",
          "end the calibration",
          "triggers out synch. disabling ctp readout.",
          "emcal",
          "cpv recover hv trip.",
          "tpc scan ",
          "changed predefined physics configuration",
          "texpert request",
          "include tpc.",
          "tpc expert request.",
          "preparation for calibration.",
          "change predefined configuration.",
          "preparing for physics",
          "change config for mft",
          "rm asks to stop the run",
          "mch-qcmn-epn-full-track-matching crashed.",
          "sl request to include mid",
          "change trigger rate to 500 khz",
          "phos/cpv",
          "end test",
          "need to restart trigger.",
          "change lumi to 1mhz",
          "request from flp expert.",
          "calibration failed",
          "dpl errors on ali02-cr1-flp080 -  tpc flp (run stopped by the operator).",
          "pdp expert request,",
          "tpc need to disable re-sync.",
          "all epns crashed simultaneously"
         ]
        },
        {
         "hoverinfo": "text",
         "hovertext": [
          "<b>Topic 1882</b><br>Words: 50 63, 63 non, ids 50, 63, 50",
          "<b>Topic 1882</b><br>Words: 450 454, ids 450, 454 non, 454, 450",
          "<b>Topic 1882</b><br>Words: contiguous, non contiguous, contiguous timeframe, non, ids",
          "<b>Topic 1882</b><br>Words: 14080, ids 1952, 1954 non, 14078 14080, ids 14078",
          "<b>Topic 1882</b><br>Words: non contiguous, contiguous, contiguous timeframe, non, timeframe ids",
          "<b>Topic 1882</b><br>Words: 3314 3317, ids 3314, 3317 non, 3317, 3314",
          "<b>Topic 1882</b><br>Words: taskid 2ap4nbe2kbt, 2ap4nbe2kbt, state task_killed, message reason, source source_executor",
          "<b>Topic 1882</b><br>Words: 5280, 15851, contiguous, non contiguous, contiguous timeframe",
          "<b>Topic 1882</b><br>Words: contiguous, contiguous timeframe, non contiguous, non, 84742",
          "<b>Topic 1882</b><br>Words: contiguous timeframe, contiguous, non contiguous, non, timeframe ids",
          "<b>Topic 1882</b><br>Words: 82603 mb, memavailable 82603, 82603, proc, proc meminfo",
          "<b>Topic 1882</b><br>Words: contiguous, contiguous timeframe, non contiguous, non, 433114 433116",
          "<b>Topic 1882</b><br>Words: non contiguous, contiguous, contiguous timeframe, non, 54717",
          "<b>Topic 1882</b><br>Words: contiguous timeframe, contiguous, non contiguous, non, timeframe ids",
          "<b>Topic 1882</b><br>Words: contiguous, contiguous timeframe, non contiguous, non, 20299 20301",
          "<b>Topic 1882</b><br>Words: contiguous, contiguous timeframe, non contiguous, non, ids",
          "<b>Topic 1882</b><br>Words: contiguous timeframe, non contiguous, contiguous, non, ids",
          "<b>Topic 1882</b><br>Words: non contiguous, contiguous timeframe, contiguous, non, ids 54811",
          "<b>Topic 1882</b><br>Words: non contiguous, contiguous, contiguous timeframe, non, ids",
          "<b>Topic 1882</b><br>Words: data_ecs_eq1830_2022_10_02__18_52_21__, data_ecs_eq1830_2022_10_02__18_52_21__ lz4, tmp data_ecs_eq1830_2022_10_02__18_52_21__, lz4 equipment, stu generates",
          "<b>Topic 1882</b><br>Words: non contiguous, contiguous timeframe, contiguous, non, ids",
          "<b>Topic 1882</b><br>Words: 10576, 10581 non, 5302 5304, ids 10574, ids 10579",
          "<b>Topic 1882</b><br>Words: 2574 463611118, channels new, 463161548, 13341 dcolumns, 198 461859370",
          "<b>Topic 1882</b><br>Words: fhr_lanes_of_l5_36, drawing fhr_lanes_of_l5_36, fhr_lanes_of_l5_36 drawing, fhr_occ_of_l4_24 drawing, fhr_occ_of_l4_24",
          "<b>Topic 1882</b><br>Words: ids 1048, 1048 1054, 1054, 1048, non contiguous",
          "<b>Topic 1882</b><br>Words: contiguous timeframe, non contiguous, contiguous, non, ids non",
          "<b>Topic 1882</b><br>Words: roc 0979, 0979, opening roc, opening, contiguous timeframe",
          "<b>Topic 1882</b><br>Words: 2ap8vr5w2ob task, taskid 2ap8vr5w2ob, taskid 2ap9qnju2kb, 2ap8vr5w2ob, 2ap9qnju2kb",
          "<b>Topic 1882</b><br>Words: 214173, 208923, 214155, 214155 214173, 214173 non",
          "<b>Topic 1882</b><br>Words: 278267 links, 7033 44, 268157 average, 278462 links, 756 733",
          "<b>Topic 1882</b><br>Words: 181344, 181295 181297, 175661 175663, ids 181344, ids 181295",
          "<b>Topic 1882</b><br>Words: 1115 1123, ids 1115, 1123 non, 1115, 1123",
          "<b>Topic 1882</b><br>Words: 111 113, ids 111, 113 non, 123 125, ids 123",
          "<b>Topic 1882</b><br>Words: 50 59, 59 non, ids 50, 59, 50",
          "<b>Topic 1882</b><br>Words: non contiguous, contiguous, contiguous timeframe, non, ids",
          "<b>Topic 1882</b><br>Words: 427729, 427659, 427659 427729, ids 427659, 427729 non",
          "<b>Topic 1882</b><br>Words: non contiguous, contiguous, contiguous timeframe, non, 855361",
          "<b>Topic 1882</b><br>Words: contiguous, contiguous timeframe, non contiguous, non, timeframe ids",
          "<b>Topic 1882</b><br>Words: 9215, 8903, 9606, 9372, 8512",
          "<b>Topic 1882</b><br>Words: contiguous timeframe, contiguous, non contiguous, non, ids",
          "<b>Topic 1882</b><br>Words: 315 kb, throughput 315, 315, kb, average data",
          "<b>Topic 1882</b><br>Words: non contiguous, contiguous timeframe, contiguous, non, ids",
          "<b>Topic 1882</b><br>Words: contiguous, contiguous timeframe, non contiguous, non, ids",
          "<b>Topic 1882</b><br>Words: non contiguous, contiguous, contiguous timeframe, non, ids 43529",
          "<b>Topic 1882</b><br>Words: contiguous timeframe, non contiguous, contiguous, non, ids",
          "<b>Topic 1882</b><br>Words: fhr_occ_of_l6_19 drawing, fhr_occ_of_l6_47, drawing fhr_occ_of_l6_47, fhr_occ_of_l5_28 drawing, drawing fhr_occ_of_l6_19",
          "<b>Topic 1882</b><br>Words: contiguous timeframe, contiguous, non contiguous, non, timeframe ids",
          "<b>Topic 1882</b><br>Words: ids 62, 62 77, 77 non, 62, 77",
          "<b>Topic 1882</b><br>Words: ids 131121, 125603 non, 131123 non, 131062 131064, 131121 131123",
          "<b>Topic 1882</b><br>Words: contiguous timeframe, non contiguous, contiguous, non, timeframe ids",
          "<b>Topic 1882</b><br>Words: disabled checkoflaser_trending, block 0x7f5c9da00000, 0x7f5c9da00000 14334033920, tpc register, 0x7f5c9da00000",
          "<b>Topic 1882</b><br>Words: contiguous, contiguous timeframe, non contiguous, non, timeframe ids",
          "<b>Topic 1882</b><br>Words: 30934, 31012, previous 31012, 30934 gap, previous 30934",
          "<b>Topic 1882</b><br>Words: 10334 non, 10329 10334, ids 10329, 10329, 10334",
          "<b>Topic 1882</b><br>Words: non contiguous, contiguous, contiguous timeframe, non, 343397"
         ],
         "marker": {
          "color": "#E69F00"
         },
         "name": "1882_non contiguous_contiguous timeframe...",
         "orientation": "h",
         "type": "bar",
         "visible": "legendonly",
         "x": [
          25,
          14,
          13209,
          29,
          2668,
          122,
          1,
          152,
          605,
          350,
          1,
          81,
          132,
          2104,
          147,
          7954,
          791,
          266,
          430,
          2,
          9538,
          28,
          8,
          10,
          1,
          837,
          1,
          2,
          139,
          8,
          59,
          20,
          24,
          27,
          1019,
          67,
          204,
          1655,
          94,
          751,
          1,
          3625,
          1106,
          210,
          1548,
          35,
          1048,
          27,
          52,
          2860,
          4,
          1414,
          7,
          192,
          675
         ],
         "y": [
          "include maximum number epns (211)",
          "prepare for injection",
          "beam dump",
          "expert request cpv",
          "mid expert request.",
          " jit-4e1deca4ebdf11d52f3ee4f99c0c46f78222361d-mch-qctaskmchdigits-proxy",
          "problem on alio2-cr1-flp080, backpressure. possible cause: from_readout-proxy_to_tpc-idc-to-vector.",
          "dcs sor failed (no sor_progressing).",
          "all epns crashed simultaneously.",
          "end calibration",
          " end calibration",
          "tpc not ready at sor",
          "mch",
          "revert readout configuration to see if it helps with errors from tpc (flp080) and its.",
          "ali-ecs core restarted",
          "preparation for tpc scan",
          "epn went flat",
          "trigger readout went to zero.",
          "change luminosity",
          "request from tpc expert.",
          "lhc dumped beam dump",
          "operator error: run restarted the same partition.",
          "adjust handshake",
          "start tests the day.",
          "exclude fv0.",
          "all epns crashed simultaneously with primary vertex error.",
          "sor failed for mch",
          "release ecs lock for mch",
          "calibration ended automatically",
          "end the calibration",
          "triggers out synch. disabling ctp readout.",
          "emcal",
          "cpv recover hv trip.",
          "tpc scan ",
          "changed predefined physics configuration",
          "texpert request",
          "include tpc.",
          "tpc expert request.",
          "preparation for calibration.",
          "change predefined configuration.",
          "preparing for physics",
          "change config for mft",
          "rm asks to stop the run",
          "mch-qcmn-epn-full-track-matching crashed.",
          "sl request to include mid",
          "change trigger rate to 500 khz",
          "phos/cpv",
          "end test",
          "need to restart trigger.",
          "change lumi to 1mhz",
          "calibration failed",
          "dpl errors on ali02-cr1-flp080 -  tpc flp (run stopped by the operator).",
          "pdp expert request,",
          "tpc need to disable re-sync.",
          "all epns crashed simultaneously"
         ]
        },
        {
         "hoverinfo": "text",
         "hovertext": [
          "<b>Topic 1910</b><br>Words: in nohgperddl, nohgperddl found, nohgperddl, fec, of ddl",
          "<b>Topic 1910</b><br>Words: nohgperddl found, in nohgperddl, nohgperddl, fec, in fec",
          "<b>Topic 1910</b><br>Words: in nohgperddl, nohgperddl found, nohgperddl, fec, in fec",
          "<b>Topic 1910</b><br>Words: nohgperddl found, in nohgperddl, nohgperddl, fec, of ddl",
          "<b>Topic 1910</b><br>Words: nohgperddl found, in nohgperddl, nohgperddl, in fec, of ddl",
          "<b>Topic 1910</b><br>Words: in nohgperddl, nohgperddl found, nohgperddl, fec of, in fec",
          "<b>Topic 1910</b><br>Words: nohgperddl found, in nohgperddl, nohgperddl, fec, in fec",
          "<b>Topic 1910</b><br>Words: pulsercheck2d quality, check pulsercheck2d, pulsercheck2d, nohgperddl found, in nohgperddl",
          "<b>Topic 1910</b><br>Words: 15 987, 987 gb, 987, received 15, in nohgperddl",
          "<b>Topic 1910</b><br>Words: nohgperddl found, in nohgperddl, nohgperddl, in fec, fec",
          "<b>Topic 1910</b><br>Words: nohgperddl found, in nohgperddl, nohgperddl, in fec, of ddl",
          "<b>Topic 1910</b><br>Words: nohgperddl found, in nohgperddl, nohgperddl, of ddl, fec",
          "<b>Topic 1910</b><br>Words: nohgperddl found, in nohgperddl, nohgperddl, in fec, fec",
          "<b>Topic 1910</b><br>Words: in nohgperddl, nohgperddl found, nohgperddl, fec, of ddl",
          "<b>Topic 1910</b><br>Words: starting dma, dma for, dma, starting, roc equipment",
          "<b>Topic 1910</b><br>Words: nohgperddl found, in nohgperddl, nohgperddl, fec, of ddl",
          "<b>Topic 1910</b><br>Words: in nohgperddl, nohgperddl found, nohgperddl, of ddl, fec",
          "<b>Topic 1910</b><br>Words: in nohgperddl, nohgperddl found, nohgperddl, of ddl, fec",
          "<b>Topic 1910</b><br>Words: nohgperddl found, in nohgperddl, nohgperddl, fec of, fec",
          "<b>Topic 1910</b><br>Words: 61 311, avg 53046, 817646 ok, 559908384 avg, checks 817646",
          "<b>Topic 1910</b><br>Words: nohgperddl found, in nohgperddl, nohgperddl, in fec, of ddl",
          "<b>Topic 1910</b><br>Words: nohgperddl found, in nohgperddl, nohgperddl, in fec, fec",
          "<b>Topic 1910</b><br>Words: nohgperddl found, in nohgperddl, nohgperddl, in fec, of ddl",
          "<b>Topic 1910</b><br>Words: in nohgperddl, nohgperddl found, nohgperddl, in fec, fec",
          "<b>Topic 1910</b><br>Words: nohgperddl found, in nohgperddl, nohgperddl, in fec, fec",
          "<b>Topic 1910</b><br>Words: 0x6101 rusw, rusw 145, feeid 0x6101, 0x6101, 0x00b9 lid1",
          "<b>Topic 1910</b><br>Words: in nohgperddl, nohgperddl found, nohgperddl, of ddl, in fec",
          "<b>Topic 1910</b><br>Words: in nohgperddl, nohgperddl found, nohgperddl, fec, in fec",
          "<b>Topic 1910</b><br>Words: in nohgperddl, nohgperddl found, nohgperddl, in fec, of ddl",
          "<b>Topic 1910</b><br>Words: nohgperddl found, in nohgperddl, nohgperddl, in fec, fec",
          "<b>Topic 1910</b><br>Words: in nohgperddl, nohgperddl found, nohgperddl, fec, in fec",
          "<b>Topic 1910</b><br>Words: in nohgperddl, nohgperddl found, nohgperddl, of ddl, in fec",
          "<b>Topic 1910</b><br>Words: nohgperddl found, in nohgperddl, nohgperddl, of ddl, fec",
          "<b>Topic 1910</b><br>Words: in nohgperddl, nohgperddl found, nohgperddl, of ddl, in fec",
          "<b>Topic 1910</b><br>Words: nohgperddl found, in nohgperddl, nohgperddl, of ddl, in fec",
          "<b>Topic 1910</b><br>Words: in nohgperddl, nohgperddl found, nohgperddl, fec, of ddl",
          "<b>Topic 1910</b><br>Words: nohgperddl found, in nohgperddl, nohgperddl, fec, of ddl",
          "<b>Topic 1910</b><br>Words: nohgperddl found, in nohgperddl, nohgperddl, in fec, of ddl",
          "<b>Topic 1910</b><br>Words: nohgperddl found, in nohgperddl, nohgperddl, fec, of ddl",
          "<b>Topic 1910</b><br>Words: nohgperddl found, in nohgperddl, nohgperddl, of ddl, fec",
          "<b>Topic 1910</b><br>Words: nohgperddl found, in nohgperddl, nohgperddl, in fec, of ddl",
          "<b>Topic 1910</b><br>Words: in nohgperddl, nohgperddl found, nohgperddl, fec of, in fec",
          "<b>Topic 1910</b><br>Words: nohgperddl found, in nohgperddl, nohgperddl, in fec, fec",
          "<b>Topic 1910</b><br>Words: in nohgperddl, nohgperddl found, nohgperddl, fec, of ddl"
         ],
         "marker": {
          "color": "#56B4E9"
         },
         "name": "1910_nohgperddl found_in nohgperddl_nohg...",
         "orientation": "h",
         "type": "bar",
         "visible": "legendonly",
         "x": [
          1753,
          5363,
          331,
          5404,
          70,
          120,
          53,
          3,
          1,
          1443,
          4835,
          515,
          124,
          544,
          1,
          2576,
          1072,
          260,
          36,
          4,
          19,
          19,
          146,
          352,
          952,
          1,
          106,
          11,
          7,
          252,
          77,
          4583,
          24,
          4735,
          2171,
          58,
          505,
          7,
          5499,
          6,
          76,
          59,
          50,
          180
         ],
         "y": [
          "include maximum number epns (211)",
          "beam dump",
          "expert request cpv",
          "mid expert request.",
          " jit-4e1deca4ebdf11d52f3ee4f99c0c46f78222361d-mch-qctaskmchdigits-proxy",
          "all epns crashed simultaneously.",
          "end calibration",
          " end calibration",
          "normal eor after 5 minutes.",
          "revert readout configuration to see if it helps with errors from tpc (flp080) and its.",
          "preparation for tpc scan",
          "epn went flat",
          "trigger readout went to zero.",
          "change luminosity",
          "request from tpc expert.",
          "lhc dumped beam dump",
          "adjust handshake",
          "all epns crashed simultaneously with primary vertex error.",
          "calibration ended automatically",
          "end the calibration",
          "triggers out synch. disabling ctp readout.",
          "emcal",
          "tpc scan ",
          "changed predefined physics configuration",
          "texpert request",
          "include tpc.",
          "tpc expert request.",
          "started by mistake",
          "preparation for calibration.",
          "change predefined configuration.",
          "preparing for physics",
          "change config for mft",
          "rm asks to stop the run",
          "sl request to include mid",
          "change trigger rate to 500 khz",
          "phos/cpv",
          "end test",
          "need to restart trigger.",
          "change lumi to 1mhz",
          "calibration failed",
          "dpl errors on ali02-cr1-flp080 -  tpc flp (run stopped by the operator).",
          "pdp expert request,",
          "tpc need to disable re-sync.",
          "all epns crashed simultaneously"
         ]
        },
        {
         "hoverinfo": "text",
         "hovertext": [
          "<b>Topic 1923</b><br>Words: col, row, in channel, sm, channel col",
          "<b>Topic 1923</b><br>Words: col, row, in channel, sm, channel col",
          "<b>Topic 1923</b><br>Words: row, col, in channel, sm, channel col",
          "<b>Topic 1923</b><br>Words: row, col, in channel, channel col, sm",
          "<b>Topic 1923</b><br>Words: col, row, channelhgnolg found, in channelhgnolg, channelhgnolg",
          "<b>Topic 1923</b><br>Words: col, row, sm, in channel, channel col",
          "<b>Topic 1923</b><br>Words: row, col, sm, in channel, channel col",
          "<b>Topic 1923</b><br>Words: starting dma, dma for, dma, starting, roc equipment",
          "<b>Topic 1923</b><br>Words: col, row, channellgnohg found, in channellgnohg, channellgnohg",
          "<b>Topic 1923</b><br>Words: size 911757, 911757, 911757 bytes, 2aszhxujj4r, taskid 2aszhxujj4r",
          "<b>Topic 1923</b><br>Words: col, row, sm, in channel, channel col",
          "<b>Topic 1923</b><br>Words: col, row, channel col, sm, in channel",
          "<b>Topic 1923</b><br>Words: col, row, channel col, sm, in channel",
          "<b>Topic 1923</b><br>Words: col, row, channel col, sm, in channel",
          "<b>Topic 1923</b><br>Words: orbit 0x00b95a80, 0x00b95a7f, 0x00b08900, 0x00b08900 0x00b0897f, 0x00b0897f",
          "<b>Topic 1923</b><br>Words: col, row, channellgnohg found, in channellgnohg, channellgnohg",
          "<b>Topic 1923</b><br>Words: col, row, in channel, channel col, sm",
          "<b>Topic 1923</b><br>Words: row, col, channel col, in channel, sm",
          "<b>Topic 1923</b><br>Words: col, row, in channel, channel col, sm",
          "<b>Topic 1923</b><br>Words: 269917 stats, 293 777, 191 hz, 606 191, 12 68",
          "<b>Topic 1923</b><br>Words: col, row, in channel, channel col, sm",
          "<b>Topic 1923</b><br>Words: in channellgnohg, channellgnohg found, channellgnohg, col, row",
          "<b>Topic 1923</b><br>Words: row, col, channelhgnolg found, in channelhgnolg, channelhgnolg",
          "<b>Topic 1923</b><br>Words: row, col, in channelhgnolg, channelhgnolg found, channelhgnolg",
          "<b>Topic 1923</b><br>Words: row, col, in channel, sm, channel col",
          "<b>Topic 1923</b><br>Words: row, col, in channel, channel col, sm",
          "<b>Topic 1923</b><br>Words: row, col, sm, in channel, channel col",
          "<b>Topic 1923</b><br>Words: col 24, sm 12, 12 row, row col, 24",
          "<b>Topic 1923</b><br>Words: row, col, channel col, in channel, sm",
          "<b>Topic 1923</b><br>Words: col, row, sm 15, 15 row, in channel",
          "<b>Topic 1923</b><br>Words: row, col, channellgnohg found, in channellgnohg, channellgnohg",
          "<b>Topic 1923</b><br>Words: col, row, sm, in channel, channel col",
          "<b>Topic 1923</b><br>Words: row, col, in channel, channel col, sm",
          "<b>Topic 1923</b><br>Words: orbit 0x0422bf00, 0x0422beff, 12 0x570, 0x04268400 not, orbit 0x04268400",
          "<b>Topic 1923</b><br>Words: row, col, sm, channel col, in channel",
          "<b>Topic 1923</b><br>Words: row, col, sm, in channel, channel col",
          "<b>Topic 1923</b><br>Words: row, col, in channel, sm, channel col",
          "<b>Topic 1923</b><br>Words: 2178 100393269, 100393269 on, 100393269, 49 stave, ru 49",
          "<b>Topic 1923</b><br>Words: row, col, sm, in channel, channel col",
          "<b>Topic 1923</b><br>Words: 0x7ef55e600000 9552527360, 0x7f7f1bc00000, block 0x7f7f1bc00000, block 0x7faadfc00000, block 0x7ef55e600000",
          "<b>Topic 1923</b><br>Words: col, row, sm, channel col, in channel",
          "<b>Topic 1923</b><br>Words: row, col, in channel, sm, channel col",
          "<b>Topic 1923</b><br>Words: col, row, channel col, in channel, sm",
          "<b>Topic 1923</b><br>Words: row, col, in channelhgnolg, channelhgnolg found, channelhgnolg"
         ],
         "marker": {
          "color": "#009E73"
         },
         "name": "1923_row_col_in channel_channel col",
         "orientation": "h",
         "type": "bar",
         "visible": "legendonly",
         "x": [
          3220,
          10929,
          631,
          9758,
          159,
          303,
          91,
          1,
          2096,
          2,
          8778,
          863,
          271,
          1189,
          4,
          3888,
          1873,
          470,
          79,
          5,
          27,
          17,
          407,
          948,
          1824,
          249,
          25,
          9,
          398,
          195,
          6607,
          66,
          8483,
          2,
          4042,
          120,
          1054,
          6,
          8912,
          9,
          162,
          148,
          99,
          498
         ],
         "y": [
          "include maximum number epns (211)",
          "beam dump",
          "expert request cpv",
          "mid expert request.",
          " jit-4e1deca4ebdf11d52f3ee4f99c0c46f78222361d-mch-qctaskmchdigits-proxy",
          "all epns crashed simultaneously.",
          "end calibration",
          " end calibration",
          "revert readout configuration to see if it helps with errors from tpc (flp080) and its.",
          "ali-ecs core restarted",
          "preparation for tpc scan",
          "epn went flat",
          "trigger readout went to zero.",
          "change luminosity",
          "request from tpc expert.",
          "lhc dumped beam dump",
          "adjust handshake",
          "all epns crashed simultaneously with primary vertex error.",
          "calibration ended automatically",
          "end the calibration",
          "triggers out synch. disabling ctp readout.",
          "emcal",
          "tpc scan ",
          "changed predefined physics configuration",
          "texpert request",
          "tpc expert request.",
          "started by mistake",
          "preparation for calibration.",
          "change predefined configuration.",
          "preparing for physics",
          "change config for mft",
          "rm asks to stop the run",
          "sl request to include mid",
          "sor call failed",
          "change trigger rate to 500 khz",
          "phos/cpv",
          "end test",
          "need to restart trigger.",
          "change lumi to 1mhz",
          "calibration failed",
          "dpl errors on ali02-cr1-flp080 -  tpc flp (run stopped by the operator).",
          "pdp expert request,",
          "tpc need to disable re-sync.",
          "all epns crashed simultaneously"
         ]
        }
       ],
       "layout": {
        "height": 900,
        "hoverlabel": {
         "bgcolor": "white",
         "font": {
          "family": "Rockwell",
          "size": 16
         }
        },
        "legend": {
         "title": {
          "text": "<b>Global Topic Representation"
         }
        },
        "template": {
         "data": {
          "bar": [
           {
            "error_x": {
             "color": "rgb(36,36,36)"
            },
            "error_y": {
             "color": "rgb(36,36,36)"
            },
            "marker": {
             "line": {
              "color": "white",
              "width": 0.5
             },
             "pattern": {
              "fillmode": "overlay",
              "size": 10,
              "solidity": 0.2
             }
            },
            "type": "bar"
           }
          ],
          "barpolar": [
           {
            "marker": {
             "line": {
              "color": "white",
              "width": 0.5
             },
             "pattern": {
              "fillmode": "overlay",
              "size": 10,
              "solidity": 0.2
             }
            },
            "type": "barpolar"
           }
          ],
          "carpet": [
           {
            "aaxis": {
             "endlinecolor": "rgb(36,36,36)",
             "gridcolor": "white",
             "linecolor": "white",
             "minorgridcolor": "white",
             "startlinecolor": "rgb(36,36,36)"
            },
            "baxis": {
             "endlinecolor": "rgb(36,36,36)",
             "gridcolor": "white",
             "linecolor": "white",
             "minorgridcolor": "white",
             "startlinecolor": "rgb(36,36,36)"
            },
            "type": "carpet"
           }
          ],
          "choropleth": [
           {
            "colorbar": {
             "outlinewidth": 1,
             "tickcolor": "rgb(36,36,36)",
             "ticks": "outside"
            },
            "type": "choropleth"
           }
          ],
          "contour": [
           {
            "colorbar": {
             "outlinewidth": 1,
             "tickcolor": "rgb(36,36,36)",
             "ticks": "outside"
            },
            "colorscale": [
             [
              0,
              "#440154"
             ],
             [
              0.1111111111111111,
              "#482878"
             ],
             [
              0.2222222222222222,
              "#3e4989"
             ],
             [
              0.3333333333333333,
              "#31688e"
             ],
             [
              0.4444444444444444,
              "#26828e"
             ],
             [
              0.5555555555555556,
              "#1f9e89"
             ],
             [
              0.6666666666666666,
              "#35b779"
             ],
             [
              0.7777777777777778,
              "#6ece58"
             ],
             [
              0.8888888888888888,
              "#b5de2b"
             ],
             [
              1,
              "#fde725"
             ]
            ],
            "type": "contour"
           }
          ],
          "contourcarpet": [
           {
            "colorbar": {
             "outlinewidth": 1,
             "tickcolor": "rgb(36,36,36)",
             "ticks": "outside"
            },
            "type": "contourcarpet"
           }
          ],
          "heatmap": [
           {
            "colorbar": {
             "outlinewidth": 1,
             "tickcolor": "rgb(36,36,36)",
             "ticks": "outside"
            },
            "colorscale": [
             [
              0,
              "#440154"
             ],
             [
              0.1111111111111111,
              "#482878"
             ],
             [
              0.2222222222222222,
              "#3e4989"
             ],
             [
              0.3333333333333333,
              "#31688e"
             ],
             [
              0.4444444444444444,
              "#26828e"
             ],
             [
              0.5555555555555556,
              "#1f9e89"
             ],
             [
              0.6666666666666666,
              "#35b779"
             ],
             [
              0.7777777777777778,
              "#6ece58"
             ],
             [
              0.8888888888888888,
              "#b5de2b"
             ],
             [
              1,
              "#fde725"
             ]
            ],
            "type": "heatmap"
           }
          ],
          "heatmapgl": [
           {
            "colorbar": {
             "outlinewidth": 1,
             "tickcolor": "rgb(36,36,36)",
             "ticks": "outside"
            },
            "colorscale": [
             [
              0,
              "#440154"
             ],
             [
              0.1111111111111111,
              "#482878"
             ],
             [
              0.2222222222222222,
              "#3e4989"
             ],
             [
              0.3333333333333333,
              "#31688e"
             ],
             [
              0.4444444444444444,
              "#26828e"
             ],
             [
              0.5555555555555556,
              "#1f9e89"
             ],
             [
              0.6666666666666666,
              "#35b779"
             ],
             [
              0.7777777777777778,
              "#6ece58"
             ],
             [
              0.8888888888888888,
              "#b5de2b"
             ],
             [
              1,
              "#fde725"
             ]
            ],
            "type": "heatmapgl"
           }
          ],
          "histogram": [
           {
            "marker": {
             "line": {
              "color": "white",
              "width": 0.6
             }
            },
            "type": "histogram"
           }
          ],
          "histogram2d": [
           {
            "colorbar": {
             "outlinewidth": 1,
             "tickcolor": "rgb(36,36,36)",
             "ticks": "outside"
            },
            "colorscale": [
             [
              0,
              "#440154"
             ],
             [
              0.1111111111111111,
              "#482878"
             ],
             [
              0.2222222222222222,
              "#3e4989"
             ],
             [
              0.3333333333333333,
              "#31688e"
             ],
             [
              0.4444444444444444,
              "#26828e"
             ],
             [
              0.5555555555555556,
              "#1f9e89"
             ],
             [
              0.6666666666666666,
              "#35b779"
             ],
             [
              0.7777777777777778,
              "#6ece58"
             ],
             [
              0.8888888888888888,
              "#b5de2b"
             ],
             [
              1,
              "#fde725"
             ]
            ],
            "type": "histogram2d"
           }
          ],
          "histogram2dcontour": [
           {
            "colorbar": {
             "outlinewidth": 1,
             "tickcolor": "rgb(36,36,36)",
             "ticks": "outside"
            },
            "colorscale": [
             [
              0,
              "#440154"
             ],
             [
              0.1111111111111111,
              "#482878"
             ],
             [
              0.2222222222222222,
              "#3e4989"
             ],
             [
              0.3333333333333333,
              "#31688e"
             ],
             [
              0.4444444444444444,
              "#26828e"
             ],
             [
              0.5555555555555556,
              "#1f9e89"
             ],
             [
              0.6666666666666666,
              "#35b779"
             ],
             [
              0.7777777777777778,
              "#6ece58"
             ],
             [
              0.8888888888888888,
              "#b5de2b"
             ],
             [
              1,
              "#fde725"
             ]
            ],
            "type": "histogram2dcontour"
           }
          ],
          "mesh3d": [
           {
            "colorbar": {
             "outlinewidth": 1,
             "tickcolor": "rgb(36,36,36)",
             "ticks": "outside"
            },
            "type": "mesh3d"
           }
          ],
          "parcoords": [
           {
            "line": {
             "colorbar": {
              "outlinewidth": 1,
              "tickcolor": "rgb(36,36,36)",
              "ticks": "outside"
             }
            },
            "type": "parcoords"
           }
          ],
          "pie": [
           {
            "automargin": true,
            "type": "pie"
           }
          ],
          "scatter": [
           {
            "fillpattern": {
             "fillmode": "overlay",
             "size": 10,
             "solidity": 0.2
            },
            "type": "scatter"
           }
          ],
          "scatter3d": [
           {
            "line": {
             "colorbar": {
              "outlinewidth": 1,
              "tickcolor": "rgb(36,36,36)",
              "ticks": "outside"
             }
            },
            "marker": {
             "colorbar": {
              "outlinewidth": 1,
              "tickcolor": "rgb(36,36,36)",
              "ticks": "outside"
             }
            },
            "type": "scatter3d"
           }
          ],
          "scattercarpet": [
           {
            "marker": {
             "colorbar": {
              "outlinewidth": 1,
              "tickcolor": "rgb(36,36,36)",
              "ticks": "outside"
             }
            },
            "type": "scattercarpet"
           }
          ],
          "scattergeo": [
           {
            "marker": {
             "colorbar": {
              "outlinewidth": 1,
              "tickcolor": "rgb(36,36,36)",
              "ticks": "outside"
             }
            },
            "type": "scattergeo"
           }
          ],
          "scattergl": [
           {
            "marker": {
             "colorbar": {
              "outlinewidth": 1,
              "tickcolor": "rgb(36,36,36)",
              "ticks": "outside"
             }
            },
            "type": "scattergl"
           }
          ],
          "scattermapbox": [
           {
            "marker": {
             "colorbar": {
              "outlinewidth": 1,
              "tickcolor": "rgb(36,36,36)",
              "ticks": "outside"
             }
            },
            "type": "scattermapbox"
           }
          ],
          "scatterpolar": [
           {
            "marker": {
             "colorbar": {
              "outlinewidth": 1,
              "tickcolor": "rgb(36,36,36)",
              "ticks": "outside"
             }
            },
            "type": "scatterpolar"
           }
          ],
          "scatterpolargl": [
           {
            "marker": {
             "colorbar": {
              "outlinewidth": 1,
              "tickcolor": "rgb(36,36,36)",
              "ticks": "outside"
             }
            },
            "type": "scatterpolargl"
           }
          ],
          "scatterternary": [
           {
            "marker": {
             "colorbar": {
              "outlinewidth": 1,
              "tickcolor": "rgb(36,36,36)",
              "ticks": "outside"
             }
            },
            "type": "scatterternary"
           }
          ],
          "surface": [
           {
            "colorbar": {
             "outlinewidth": 1,
             "tickcolor": "rgb(36,36,36)",
             "ticks": "outside"
            },
            "colorscale": [
             [
              0,
              "#440154"
             ],
             [
              0.1111111111111111,
              "#482878"
             ],
             [
              0.2222222222222222,
              "#3e4989"
             ],
             [
              0.3333333333333333,
              "#31688e"
             ],
             [
              0.4444444444444444,
              "#26828e"
             ],
             [
              0.5555555555555556,
              "#1f9e89"
             ],
             [
              0.6666666666666666,
              "#35b779"
             ],
             [
              0.7777777777777778,
              "#6ece58"
             ],
             [
              0.8888888888888888,
              "#b5de2b"
             ],
             [
              1,
              "#fde725"
             ]
            ],
            "type": "surface"
           }
          ],
          "table": [
           {
            "cells": {
             "fill": {
              "color": "rgb(237,237,237)"
             },
             "line": {
              "color": "white"
             }
            },
            "header": {
             "fill": {
              "color": "rgb(217,217,217)"
             },
             "line": {
              "color": "white"
             }
            },
            "type": "table"
           }
          ]
         },
         "layout": {
          "annotationdefaults": {
           "arrowhead": 0,
           "arrowwidth": 1
          },
          "autotypenumbers": "strict",
          "coloraxis": {
           "colorbar": {
            "outlinewidth": 1,
            "tickcolor": "rgb(36,36,36)",
            "ticks": "outside"
           }
          },
          "colorscale": {
           "diverging": [
            [
             0,
             "rgb(103,0,31)"
            ],
            [
             0.1,
             "rgb(178,24,43)"
            ],
            [
             0.2,
             "rgb(214,96,77)"
            ],
            [
             0.3,
             "rgb(244,165,130)"
            ],
            [
             0.4,
             "rgb(253,219,199)"
            ],
            [
             0.5,
             "rgb(247,247,247)"
            ],
            [
             0.6,
             "rgb(209,229,240)"
            ],
            [
             0.7,
             "rgb(146,197,222)"
            ],
            [
             0.8,
             "rgb(67,147,195)"
            ],
            [
             0.9,
             "rgb(33,102,172)"
            ],
            [
             1,
             "rgb(5,48,97)"
            ]
           ],
           "sequential": [
            [
             0,
             "#440154"
            ],
            [
             0.1111111111111111,
             "#482878"
            ],
            [
             0.2222222222222222,
             "#3e4989"
            ],
            [
             0.3333333333333333,
             "#31688e"
            ],
            [
             0.4444444444444444,
             "#26828e"
            ],
            [
             0.5555555555555556,
             "#1f9e89"
            ],
            [
             0.6666666666666666,
             "#35b779"
            ],
            [
             0.7777777777777778,
             "#6ece58"
            ],
            [
             0.8888888888888888,
             "#b5de2b"
            ],
            [
             1,
             "#fde725"
            ]
           ],
           "sequentialminus": [
            [
             0,
             "#440154"
            ],
            [
             0.1111111111111111,
             "#482878"
            ],
            [
             0.2222222222222222,
             "#3e4989"
            ],
            [
             0.3333333333333333,
             "#31688e"
            ],
            [
             0.4444444444444444,
             "#26828e"
            ],
            [
             0.5555555555555556,
             "#1f9e89"
            ],
            [
             0.6666666666666666,
             "#35b779"
            ],
            [
             0.7777777777777778,
             "#6ece58"
            ],
            [
             0.8888888888888888,
             "#b5de2b"
            ],
            [
             1,
             "#fde725"
            ]
           ]
          },
          "colorway": [
           "#1F77B4",
           "#FF7F0E",
           "#2CA02C",
           "#D62728",
           "#9467BD",
           "#8C564B",
           "#E377C2",
           "#7F7F7F",
           "#BCBD22",
           "#17BECF"
          ],
          "font": {
           "color": "rgb(36,36,36)"
          },
          "geo": {
           "bgcolor": "white",
           "lakecolor": "white",
           "landcolor": "white",
           "showlakes": true,
           "showland": true,
           "subunitcolor": "white"
          },
          "hoverlabel": {
           "align": "left"
          },
          "hovermode": "closest",
          "mapbox": {
           "style": "light"
          },
          "paper_bgcolor": "white",
          "plot_bgcolor": "white",
          "polar": {
           "angularaxis": {
            "gridcolor": "rgb(232,232,232)",
            "linecolor": "rgb(36,36,36)",
            "showgrid": false,
            "showline": true,
            "ticks": "outside"
           },
           "bgcolor": "white",
           "radialaxis": {
            "gridcolor": "rgb(232,232,232)",
            "linecolor": "rgb(36,36,36)",
            "showgrid": false,
            "showline": true,
            "ticks": "outside"
           }
          },
          "scene": {
           "xaxis": {
            "backgroundcolor": "white",
            "gridcolor": "rgb(232,232,232)",
            "gridwidth": 2,
            "linecolor": "rgb(36,36,36)",
            "showbackground": true,
            "showgrid": false,
            "showline": true,
            "ticks": "outside",
            "zeroline": false,
            "zerolinecolor": "rgb(36,36,36)"
           },
           "yaxis": {
            "backgroundcolor": "white",
            "gridcolor": "rgb(232,232,232)",
            "gridwidth": 2,
            "linecolor": "rgb(36,36,36)",
            "showbackground": true,
            "showgrid": false,
            "showline": true,
            "ticks": "outside",
            "zeroline": false,
            "zerolinecolor": "rgb(36,36,36)"
           },
           "zaxis": {
            "backgroundcolor": "white",
            "gridcolor": "rgb(232,232,232)",
            "gridwidth": 2,
            "linecolor": "rgb(36,36,36)",
            "showbackground": true,
            "showgrid": false,
            "showline": true,
            "ticks": "outside",
            "zeroline": false,
            "zerolinecolor": "rgb(36,36,36)"
           }
          },
          "shapedefaults": {
           "fillcolor": "black",
           "line": {
            "width": 0
           },
           "opacity": 0.3
          },
          "ternary": {
           "aaxis": {
            "gridcolor": "rgb(232,232,232)",
            "linecolor": "rgb(36,36,36)",
            "showgrid": false,
            "showline": true,
            "ticks": "outside"
           },
           "baxis": {
            "gridcolor": "rgb(232,232,232)",
            "linecolor": "rgb(36,36,36)",
            "showgrid": false,
            "showline": true,
            "ticks": "outside"
           },
           "bgcolor": "white",
           "caxis": {
            "gridcolor": "rgb(232,232,232)",
            "linecolor": "rgb(36,36,36)",
            "showgrid": false,
            "showline": true,
            "ticks": "outside"
           }
          },
          "title": {
           "x": 0.05
          },
          "xaxis": {
           "automargin": true,
           "gridcolor": "rgb(232,232,232)",
           "linecolor": "rgb(36,36,36)",
           "showgrid": false,
           "showline": true,
           "ticks": "outside",
           "title": {
            "standoff": 15
           },
           "zeroline": false,
           "zerolinecolor": "rgb(36,36,36)"
          },
          "yaxis": {
           "automargin": true,
           "gridcolor": "rgb(232,232,232)",
           "linecolor": "rgb(36,36,36)",
           "showgrid": false,
           "showline": true,
           "ticks": "outside",
           "title": {
            "standoff": 15
           },
           "zeroline": false,
           "zerolinecolor": "rgb(36,36,36)"
          }
         }
        },
        "title": {
         "font": {
          "color": "Black",
          "size": 22
         },
         "text": "<b>Topics per Class</b>",
         "x": 0.4,
         "xanchor": "center",
         "y": 0.95,
         "yanchor": "top"
        },
        "width": 1250,
        "xaxis": {
         "showgrid": true,
         "title": {
          "text": "Frequency"
         }
        },
        "yaxis": {
         "showgrid": true,
         "title": {
          "text": "Class"
         }
        }
       }
      }
     },
     "metadata": {},
     "output_type": "display_data"
    }
   ],
   "source": [
    "topics_per_class = topic_model.model.topics_per_class(df.content.tolist(), df.EOR.tolist())\n",
    "topic_model.model.visualize_topics_per_class(topics_per_class)"
   ]
  },
  {
   "cell_type": "code",
   "execution_count": 13,
   "metadata": {},
   "outputs": [
    {
     "data": {
      "application/vnd.plotly.v1+json": {
       "config": {
        "plotlyServerURL": "https://plot.ly"
       },
       "data": [
        {
         "coloraxis": "coloraxis",
         "hovertemplate": "x: %{x}<br>y: %{y}<br>Similarity Score: %{z}<extra></extra>",
         "name": "0",
         "type": "heatmap",
         "x": [
          "0_sending quality_objects s...",
          "1_startofcycle startofcycle...",
          "2_storing qualityobjects_qu...",
          "3_endofcycle endofcycle_end...",
          "4_check rawbunchminamplitud...",
          "5_updating the_triggertype ...",
          "22_publishing 27_27 monitor...",
          "23_check rawdecodingerrorch...",
          "25_sending quality_objects ...",
          "29_storing qualityobjects_q...",
          "32_check fhrcheck_fhrcheck ...",
          "33_cellcheckoccupancy quali...",
          "35_check cellcheckamplitude...",
          "54_generating plots_plots g...",
          "55_rawoccupancycheck qualit...",
          "60_publishing monitorobject...",
          "140_memory zero_zero memory...",
          "173_occupancy average_avera...",
          "175_iteration average_itera...",
          "177_dma for_roc starting_st...",
          "247_roc nmemorylow_nmemoryl...",
          "262_links used_000000000000...",
          "270_packets_cru_dropped",
          "1693_pages roc_roc input_in...",
          "1870_nolgperddl found_in no...",
          "1882_non contiguous_contigu...",
          "1885_gain missing_gaintypee...",
          "1910_nohgperddl found_in no...",
          "1923_row_col_in channel",
          "2122_ids detected_detected ..."
         ],
         "xaxis": "x",
         "y": [
          "0_sending quality_objects s...",
          "1_startofcycle startofcycle...",
          "2_storing qualityobjects_qu...",
          "3_endofcycle endofcycle_end...",
          "4_check rawbunchminamplitud...",
          "5_updating the_triggertype ...",
          "22_publishing 27_27 monitor...",
          "23_check rawdecodingerrorch...",
          "25_sending quality_objects ...",
          "29_storing qualityobjects_q...",
          "32_check fhrcheck_fhrcheck ...",
          "33_cellcheckoccupancy quali...",
          "35_check cellcheckamplitude...",
          "54_generating plots_plots g...",
          "55_rawoccupancycheck qualit...",
          "60_publishing monitorobject...",
          "140_memory zero_zero memory...",
          "173_occupancy average_avera...",
          "175_iteration average_itera...",
          "177_dma for_roc starting_st...",
          "247_roc nmemorylow_nmemoryl...",
          "262_links used_000000000000...",
          "270_packets_cru_dropped",
          "1693_pages roc_roc input_in...",
          "1870_nolgperddl found_in no...",
          "1882_non contiguous_contigu...",
          "1885_gain missing_gaintypee...",
          "1910_nohgperddl found_in no...",
          "1923_row_col_in channel",
          "2122_ids detected_detected ..."
         ],
         "yaxis": "y",
         "z": [
          [
           0.9999999,
           -0.055451617,
           0.6580842,
           -0.0027895384,
           0.41565865,
           0.0066508763,
           0.024790335,
           0.05721099,
           0.018165264,
           0.06389722,
           0.07610858,
           0.13361321,
           0.048121653,
           0.14109316,
           -0.031929173,
           0.13331336,
           -0.025431667,
           0.13038065,
           0.118841074,
           0.12295343,
           0.14251293,
           0.12657462,
           0.20844023,
           0.46142775,
           -0.08097456,
           0.85437596,
           0.10102642,
           0.28521752,
           0.41347826,
           0.49719763
          ],
          [
           -0.055451617,
           1.0000002,
           0.031013213,
           0.73016304,
           0.0006517023,
           0.0061252154,
           0.17156598,
           0.30062953,
           0.36206663,
           0.09919792,
           0.061715603,
           0.26432094,
           0.35565287,
           0.32642826,
           0.19312362,
           0.30683458,
           0.27550024,
           0.24355605,
           0.24651557,
           0.2984072,
           0.2960024,
           0.24740265,
           0.044332244,
           -0.07651337,
           0.3447702,
           -0.048063815,
           0.28491396,
           -0.019071024,
           0.03573601,
           0.009255664
          ],
          [
           0.6580842,
           0.031013213,
           0.9999998,
           0.024157781,
           0.39939368,
           0.008285277,
           0.109947056,
           0.037059195,
           0.07552122,
           0.08022153,
           0.074386865,
           0.11694746,
           0.0667088,
           0.17875054,
           -0.05709233,
           0.16992731,
           0.023517814,
           0.12064642,
           0.10480175,
           0.15992564,
           0.18478242,
           0.109533116,
           0.29029793,
           0.39954975,
           -0.075079076,
           0.521406,
           0.20416993,
           0.3517582,
           0.36300123,
           0.8543569
          ],
          [
           -0.0027895384,
           0.73016304,
           0.024157781,
           1.0000002,
           0.003496956,
           -0.000064089894,
           0.09954887,
           0.19563663,
           0.13825996,
           0.0701579,
           0.06620971,
           0.24627838,
           0.18486747,
           0.24547972,
           0.1900273,
           0.24845466,
           0.10796887,
           0.2343764,
           0.23826121,
           0.23051527,
           0.23169264,
           0.24715708,
           0.0030048657,
           -0.0577526,
           0.2326674,
           -0.0016101822,
           0.1491468,
           -0.038543247,
           0.056153744,
           0.0015472751
          ],
          [
           0.41565865,
           0.0006517023,
           0.39939368,
           0.003496956,
           1.0000002,
           0.013765685,
           0.110648096,
           0.13638437,
           0.0325702,
           0.0546679,
           0.03551715,
           0.12358585,
           0.08505996,
           0.08968338,
           0.019908547,
           0.07714479,
           0.013705391,
           0.1219382,
           0.1270147,
           0.08366528,
           0.08201207,
           0.12054075,
           0.15560172,
           0.809438,
           -0.023015343,
           0.3506602,
           0.11377956,
           0.37263948,
           0.74269986,
           0.34991908
          ],
          [
           0.0066508763,
           0.0061252154,
           0.008285277,
           -0.000064089894,
           0.013765685,
           1,
           0.020993643,
           -0.016228646,
           -0.002756901,
           0.1158486,
           0.08496654,
           0.13275383,
           -0.05255644,
           0.13604248,
           0.006053903,
           0.1273619,
           0.08798257,
           0.13589066,
           0.12984586,
           0.13239215,
           0.13202956,
           0.12628514,
           0.061644714,
           0.07456816,
           -0.063206434,
           0.009657329,
           -0.13375723,
           0.060188755,
           0.04115738,
           0.021825906
          ],
          [
           0.024790335,
           0.17156598,
           0.109947056,
           0.09954887,
           0.110648096,
           0.020993643,
           1,
           0.09145594,
           0.17745605,
           -0.00069409236,
           0.033028357,
           0.013102561,
           0.12461254,
           0.1680755,
           0.1423923,
           0.18886833,
           0.048135433,
           0.017229483,
           0.011121426,
           0.16092895,
           0.17198764,
           0.030991644,
           0.075116776,
           0.09160022,
           0.031062607,
           -0.024430402,
           0.015192578,
           0.21977814,
           0.17697933,
           0.055600025
          ],
          [
           0.05721099,
           0.30062953,
           0.037059195,
           0.19563663,
           0.13638437,
           -0.016228646,
           0.09145594,
           0.99999994,
           0.25371036,
           0.12689894,
           0.22616437,
           0.32752883,
           0.8774457,
           0.11870186,
           0.12040533,
           0.11013138,
           0.2796463,
           0.3276356,
           0.32406327,
           0.115406185,
           0.12171005,
           0.32043535,
           0.094564594,
           0.16616009,
           0.3501023,
           -0.021859974,
           0.5893483,
           0.040631182,
           0.11047225,
           -0.04437471
          ],
          [
           0.018165264,
           0.36206663,
           0.07552122,
           0.13825996,
           0.0325702,
           -0.002756901,
           0.17745605,
           0.25371036,
           1,
           0.4537993,
           0.5066993,
           0.09974174,
           0.25494352,
           0.17840567,
           0.14848453,
           0.16485521,
           0.31839022,
           0.0928974,
           0.087527096,
           0.16386802,
           0.17041546,
           0.086615786,
           0.12495885,
           0.051420584,
           0.1534374,
           0.043820444,
           0.2838935,
           0.052223414,
           0.09556846,
           0.09713729
          ],
          [
           0.06389722,
           0.09919792,
           0.08022153,
           0.0701579,
           0.0546679,
           0.1158486,
           -0.00069409236,
           0.12689894,
           0.4537993,
           1.0000002,
           0.7588818,
           0.053074285,
           0.09611221,
           0.12417606,
           0.02201866,
           0.12413006,
           0.21003684,
           0.05694922,
           0.04959398,
           0.11804781,
           0.13221559,
           0.051709976,
           0.051799893,
           0.08744362,
           -0.006859067,
           0.005839316,
           0.016880166,
           0.059118804,
           0.06282977,
           0.044428267
          ],
          [
           0.07610858,
           0.061715603,
           0.074386865,
           0.06620971,
           0.03551715,
           0.08496654,
           0.033028357,
           0.22616437,
           0.5066993,
           0.7588818,
           1.0000002,
           0.15830371,
           0.19104621,
           0.16129054,
           0.028463218,
           0.15905501,
           0.26353937,
           0.16399407,
           0.15926456,
           0.16044131,
           0.16925189,
           0.15557332,
           0.02374946,
           0.073346645,
           0.053872943,
           0.05081129,
           0.077300124,
           -0.02778576,
           0.065186866,
           0.06383713
          ],
          [
           0.13361321,
           0.26432094,
           0.11694746,
           0.24627838,
           0.12358585,
           0.13275383,
           0.013102561,
           0.32752883,
           0.09974174,
           0.053074285,
           0.15830371,
           0.99999994,
           0.25767565,
           0.5006969,
           0.16433318,
           0.4832692,
           0.16764933,
           0.9897095,
           0.9902251,
           0.47789696,
           0.47382462,
           0.9938425,
           0.1545771,
           0.10751557,
           0.39748284,
           0.151384,
           0.29367572,
           0.06800806,
           0.11703528,
           0.1174625
          ],
          [
           0.048121653,
           0.35565287,
           0.0667088,
           0.18486747,
           0.08505996,
           -0.05255644,
           0.12461254,
           0.8774457,
           0.25494352,
           0.09611221,
           0.19104621,
           0.25767565,
           1,
           0.13425565,
           0.12826426,
           0.12671779,
           0.23934297,
           0.25563148,
           0.24929349,
           0.12724121,
           0.13863106,
           0.24659371,
           0.069747806,
           0.08985015,
           0.39509696,
           -0.05690778,
           0.5608871,
           0.0012614197,
           0.03712603,
           -0.03391619
          ],
          [
           0.14109316,
           0.32642826,
           0.17875054,
           0.24547972,
           0.08968338,
           0.13604248,
           0.1680755,
           0.11870186,
           0.17840567,
           0.12417606,
           0.16129054,
           0.5006969,
           0.13425565,
           1,
           0.039370127,
           0.9887916,
           0.14504182,
           0.49905437,
           0.49393156,
           0.9792043,
           0.9801109,
           0.5012093,
           0.18328501,
           0.023817867,
           0.22842762,
           0.10632339,
           0.30941772,
           0.060273856,
           0.10979604,
           0.123730145
          ],
          [
           -0.031929173,
           0.19312362,
           -0.05709233,
           0.1900273,
           0.019908547,
           0.006053903,
           0.1423923,
           0.12040533,
           0.14848453,
           0.02201866,
           0.028463218,
           0.16433318,
           0.12826426,
           0.039370127,
           1.0000002,
           0.0404931,
           0.24071382,
           0.17007032,
           0.16175954,
           0.029400561,
           0.048833553,
           0.16960874,
           -0.030852865,
           -0.043651827,
           0.21049407,
           -0.054639302,
           0.060022525,
           -0.027478121,
           -0.008293562,
           -0.094159335
          ],
          [
           0.13331336,
           0.30683458,
           0.16992731,
           0.24845466,
           0.07714479,
           0.1273619,
           0.18886833,
           0.11013138,
           0.16485521,
           0.12413006,
           0.15905501,
           0.4832692,
           0.12671779,
           0.9887916,
           0.0404931,
           1,
           0.13137361,
           0.4890921,
           0.48392358,
           0.9810838,
           0.98217714,
           0.49837878,
           0.17106688,
           0.0153308865,
           0.2181909,
           0.09208655,
           0.2910185,
           0.06266185,
           0.099446,
           0.109316826
          ],
          [
           -0.025431667,
           0.27550024,
           0.023517814,
           0.10796887,
           0.013705391,
           0.08798257,
           0.048135433,
           0.2796463,
           0.31839022,
           0.21003684,
           0.26353937,
           0.16764933,
           0.23934297,
           0.14504182,
           0.24071382,
           0.13137361,
           1,
           0.16436943,
           0.16342153,
           0.12656601,
           0.13007675,
           0.16483589,
           0.081743844,
           -0.007421707,
           0.19944221,
           -0.06808363,
           0.23399296,
           0.07683851,
           0.0130898915,
           -0.035014614
          ],
          [
           0.13038065,
           0.24355605,
           0.12064642,
           0.2343764,
           0.1219382,
           0.13589066,
           0.017229483,
           0.3276356,
           0.0928974,
           0.05694922,
           0.16399407,
           0.9897095,
           0.25563148,
           0.49905437,
           0.17007032,
           0.4890921,
           0.16436943,
           0.9999999,
           0.9897779,
           0.48806047,
           0.4977694,
           0.98984104,
           0.14771885,
           0.10876967,
           0.389628,
           0.13344613,
           0.294725,
           0.07409635,
           0.1120993,
           0.10940746
          ],
          [
           0.118841074,
           0.24651557,
           0.10480175,
           0.23826121,
           0.1270147,
           0.12984586,
           0.011121426,
           0.32406327,
           0.087527096,
           0.04959398,
           0.15926456,
           0.9902251,
           0.24929349,
           0.49393156,
           0.16175954,
           0.48392358,
           0.16342153,
           0.9897779,
           0.9999998,
           0.4970069,
           0.47888106,
           0.99043494,
           0.15248814,
           0.11066234,
           0.40314454,
           0.13086273,
           0.28434655,
           0.06969788,
           0.11564805,
           0.100735694
          ],
          [
           0.12295343,
           0.2984072,
           0.15992564,
           0.23051527,
           0.08366528,
           0.13239215,
           0.16092895,
           0.115406185,
           0.16386802,
           0.11804781,
           0.16044131,
           0.47789696,
           0.12724121,
           0.9792043,
           0.029400561,
           0.9810838,
           0.12656601,
           0.48806047,
           0.4970069,
           1,
           0.97915983,
           0.48597252,
           0.1742598,
           0.020282384,
           0.23047097,
           0.07700298,
           0.28045583,
           0.05554433,
           0.09552174,
           0.09464123
          ],
          [
           0.14251293,
           0.2960024,
           0.18478242,
           0.23169264,
           0.08201207,
           0.13202956,
           0.17198764,
           0.12171005,
           0.17041546,
           0.13221559,
           0.16925189,
           0.47382462,
           0.13863106,
           0.9801109,
           0.048833553,
           0.98217714,
           0.13007675,
           0.4977694,
           0.47888106,
           0.97915983,
           0.9999999,
           0.48181129,
           0.16762358,
           0.021550732,
           0.21614774,
           0.084058575,
           0.2937327,
           0.061940074,
           0.09480276,
           0.10930438
          ],
          [
           0.12657462,
           0.24740265,
           0.109533116,
           0.24715708,
           0.12054075,
           0.12628514,
           0.030991644,
           0.32043535,
           0.086615786,
           0.051709976,
           0.15557332,
           0.9938425,
           0.24659371,
           0.5012093,
           0.16960874,
           0.49837878,
           0.16483589,
           0.98984104,
           0.99043494,
           0.48597252,
           0.48181129,
           0.99999976,
           0.14928156,
           0.10607964,
           0.39256307,
           0.14297152,
           0.28615898,
           0.07387131,
           0.11577025,
           0.11044664
          ],
          [
           0.20844023,
           0.044332244,
           0.29029793,
           0.0030048657,
           0.15560172,
           0.061644714,
           0.075116776,
           0.094564594,
           0.12495885,
           0.051799893,
           0.02374946,
           0.1545771,
           0.069747806,
           0.18328501,
           -0.030852865,
           0.17106688,
           0.081743844,
           0.14771885,
           0.15248814,
           0.1742598,
           0.16762358,
           0.14928156,
           1,
           0.12013198,
           0.024959914,
           0.23809843,
           0.18732542,
           0.18113832,
           0.086318366,
           0.32721072
          ],
          [
           0.46142775,
           -0.07651337,
           0.39954975,
           -0.0577526,
           0.809438,
           0.07456816,
           0.09160022,
           0.16616009,
           0.051420584,
           0.08744362,
           0.073346645,
           0.10751557,
           0.08985015,
           0.023817867,
           -0.043651827,
           0.0153308865,
           -0.007421707,
           0.10876967,
           0.11066234,
           0.020282384,
           0.021550732,
           0.10607964,
           0.12013198,
           0.9999999,
           -0.11248623,
           0.37631273,
           0.08901347,
           0.3675068,
           0.7275328,
           0.33139646
          ],
          [
           -0.08097456,
           0.3447702,
           -0.075079076,
           0.2326674,
           -0.023015343,
           -0.063206434,
           0.031062607,
           0.3501023,
           0.1534374,
           -0.006859067,
           0.053872943,
           0.39748284,
           0.39509696,
           0.22842762,
           0.21049407,
           0.2181909,
           0.19944221,
           0.389628,
           0.40314454,
           0.23047097,
           0.21614774,
           0.39256307,
           0.024959914,
           -0.11248623,
           1,
           -0.06986901,
           0.17567693,
           -0.028076813,
           -0.06688044,
           -0.067633614
          ],
          [
           0.85437596,
           -0.048063815,
           0.521406,
           -0.0016101822,
           0.3506602,
           0.009657329,
           -0.024430402,
           -0.021859974,
           0.043820444,
           0.005839316,
           0.05081129,
           0.151384,
           -0.05690778,
           0.10632339,
           -0.054639302,
           0.09208655,
           -0.06808363,
           0.13344613,
           0.13086273,
           0.07700298,
           0.084058575,
           0.14297152,
           0.23809843,
           0.37631273,
           -0.06986901,
           1.0000002,
           0.12077395,
           0.21879244,
           0.3622412,
           0.6327852
          ],
          [
           0.10102642,
           0.28491396,
           0.20416993,
           0.1491468,
           0.11377956,
           -0.13375723,
           0.015192578,
           0.5893483,
           0.2838935,
           0.016880166,
           0.077300124,
           0.29367572,
           0.5608871,
           0.30941772,
           0.060022525,
           0.2910185,
           0.23399296,
           0.294725,
           0.28434655,
           0.28045583,
           0.2937327,
           0.28615898,
           0.18732542,
           0.08901347,
           0.17567693,
           0.12077395,
           1.0000004,
           0.055401787,
           0.10979188,
           0.21070412
          ],
          [
           0.28521752,
           -0.019071024,
           0.3517582,
           -0.038543247,
           0.37263948,
           0.060188755,
           0.21977814,
           0.040631182,
           0.052223414,
           0.059118804,
           -0.02778576,
           0.06800806,
           0.0012614197,
           0.060273856,
           -0.027478121,
           0.06266185,
           0.07683851,
           0.07409635,
           0.06969788,
           0.05554433,
           0.061940074,
           0.07387131,
           0.18113832,
           0.3675068,
           -0.028076813,
           0.21879244,
           0.055401787,
           1.0000001,
           0.3463558,
           0.3073839
          ],
          [
           0.41347826,
           0.03573601,
           0.36300123,
           0.056153744,
           0.74269986,
           0.04115738,
           0.17697933,
           0.11047225,
           0.09556846,
           0.06282977,
           0.065186866,
           0.11703528,
           0.03712603,
           0.10979604,
           -0.008293562,
           0.099446,
           0.0130898915,
           0.1120993,
           0.11564805,
           0.09552174,
           0.09480276,
           0.11577025,
           0.086318366,
           0.7275328,
           -0.06688044,
           0.3622412,
           0.10979188,
           0.3463558,
           1.0000001,
           0.3299343
          ],
          [
           0.49719763,
           0.009255664,
           0.8543569,
           0.0015472751,
           0.34991908,
           0.021825906,
           0.055600025,
           -0.04437471,
           0.09713729,
           0.044428267,
           0.06383713,
           0.1174625,
           -0.03391619,
           0.123730145,
           -0.094159335,
           0.109316826,
           -0.035014614,
           0.10940746,
           0.100735694,
           0.09464123,
           0.10930438,
           0.11044664,
           0.32721072,
           0.33139646,
           -0.067633614,
           0.6327852,
           0.21070412,
           0.3073839,
           0.3299343,
           1
          ]
         ]
        }
       ],
       "layout": {
        "coloraxis": {
         "colorbar": {
          "title": {
           "text": "Similarity Score"
          }
         },
         "colorscale": [
          [
           0,
           "rgb(247,252,240)"
          ],
          [
           0.125,
           "rgb(224,243,219)"
          ],
          [
           0.25,
           "rgb(204,235,197)"
          ],
          [
           0.375,
           "rgb(168,221,181)"
          ],
          [
           0.5,
           "rgb(123,204,196)"
          ],
          [
           0.625,
           "rgb(78,179,211)"
          ],
          [
           0.75,
           "rgb(43,140,190)"
          ],
          [
           0.875,
           "rgb(8,104,172)"
          ],
          [
           1,
           "rgb(8,64,129)"
          ]
         ]
        },
        "height": 800,
        "hoverlabel": {
         "bgcolor": "white",
         "font": {
          "family": "Rockwell",
          "size": 16
         }
        },
        "legend": {
         "title": {
          "text": "Trend"
         }
        },
        "margin": {
         "t": 60
        },
        "showlegend": true,
        "template": {
         "data": {
          "bar": [
           {
            "error_x": {
             "color": "#2a3f5f"
            },
            "error_y": {
             "color": "#2a3f5f"
            },
            "marker": {
             "line": {
              "color": "#E5ECF6",
              "width": 0.5
             },
             "pattern": {
              "fillmode": "overlay",
              "size": 10,
              "solidity": 0.2
             }
            },
            "type": "bar"
           }
          ],
          "barpolar": [
           {
            "marker": {
             "line": {
              "color": "#E5ECF6",
              "width": 0.5
             },
             "pattern": {
              "fillmode": "overlay",
              "size": 10,
              "solidity": 0.2
             }
            },
            "type": "barpolar"
           }
          ],
          "carpet": [
           {
            "aaxis": {
             "endlinecolor": "#2a3f5f",
             "gridcolor": "white",
             "linecolor": "white",
             "minorgridcolor": "white",
             "startlinecolor": "#2a3f5f"
            },
            "baxis": {
             "endlinecolor": "#2a3f5f",
             "gridcolor": "white",
             "linecolor": "white",
             "minorgridcolor": "white",
             "startlinecolor": "#2a3f5f"
            },
            "type": "carpet"
           }
          ],
          "choropleth": [
           {
            "colorbar": {
             "outlinewidth": 0,
             "ticks": ""
            },
            "type": "choropleth"
           }
          ],
          "contour": [
           {
            "colorbar": {
             "outlinewidth": 0,
             "ticks": ""
            },
            "colorscale": [
             [
              0,
              "#0d0887"
             ],
             [
              0.1111111111111111,
              "#46039f"
             ],
             [
              0.2222222222222222,
              "#7201a8"
             ],
             [
              0.3333333333333333,
              "#9c179e"
             ],
             [
              0.4444444444444444,
              "#bd3786"
             ],
             [
              0.5555555555555556,
              "#d8576b"
             ],
             [
              0.6666666666666666,
              "#ed7953"
             ],
             [
              0.7777777777777778,
              "#fb9f3a"
             ],
             [
              0.8888888888888888,
              "#fdca26"
             ],
             [
              1,
              "#f0f921"
             ]
            ],
            "type": "contour"
           }
          ],
          "contourcarpet": [
           {
            "colorbar": {
             "outlinewidth": 0,
             "ticks": ""
            },
            "type": "contourcarpet"
           }
          ],
          "heatmap": [
           {
            "colorbar": {
             "outlinewidth": 0,
             "ticks": ""
            },
            "colorscale": [
             [
              0,
              "#0d0887"
             ],
             [
              0.1111111111111111,
              "#46039f"
             ],
             [
              0.2222222222222222,
              "#7201a8"
             ],
             [
              0.3333333333333333,
              "#9c179e"
             ],
             [
              0.4444444444444444,
              "#bd3786"
             ],
             [
              0.5555555555555556,
              "#d8576b"
             ],
             [
              0.6666666666666666,
              "#ed7953"
             ],
             [
              0.7777777777777778,
              "#fb9f3a"
             ],
             [
              0.8888888888888888,
              "#fdca26"
             ],
             [
              1,
              "#f0f921"
             ]
            ],
            "type": "heatmap"
           }
          ],
          "heatmapgl": [
           {
            "colorbar": {
             "outlinewidth": 0,
             "ticks": ""
            },
            "colorscale": [
             [
              0,
              "#0d0887"
             ],
             [
              0.1111111111111111,
              "#46039f"
             ],
             [
              0.2222222222222222,
              "#7201a8"
             ],
             [
              0.3333333333333333,
              "#9c179e"
             ],
             [
              0.4444444444444444,
              "#bd3786"
             ],
             [
              0.5555555555555556,
              "#d8576b"
             ],
             [
              0.6666666666666666,
              "#ed7953"
             ],
             [
              0.7777777777777778,
              "#fb9f3a"
             ],
             [
              0.8888888888888888,
              "#fdca26"
             ],
             [
              1,
              "#f0f921"
             ]
            ],
            "type": "heatmapgl"
           }
          ],
          "histogram": [
           {
            "marker": {
             "pattern": {
              "fillmode": "overlay",
              "size": 10,
              "solidity": 0.2
             }
            },
            "type": "histogram"
           }
          ],
          "histogram2d": [
           {
            "colorbar": {
             "outlinewidth": 0,
             "ticks": ""
            },
            "colorscale": [
             [
              0,
              "#0d0887"
             ],
             [
              0.1111111111111111,
              "#46039f"
             ],
             [
              0.2222222222222222,
              "#7201a8"
             ],
             [
              0.3333333333333333,
              "#9c179e"
             ],
             [
              0.4444444444444444,
              "#bd3786"
             ],
             [
              0.5555555555555556,
              "#d8576b"
             ],
             [
              0.6666666666666666,
              "#ed7953"
             ],
             [
              0.7777777777777778,
              "#fb9f3a"
             ],
             [
              0.8888888888888888,
              "#fdca26"
             ],
             [
              1,
              "#f0f921"
             ]
            ],
            "type": "histogram2d"
           }
          ],
          "histogram2dcontour": [
           {
            "colorbar": {
             "outlinewidth": 0,
             "ticks": ""
            },
            "colorscale": [
             [
              0,
              "#0d0887"
             ],
             [
              0.1111111111111111,
              "#46039f"
             ],
             [
              0.2222222222222222,
              "#7201a8"
             ],
             [
              0.3333333333333333,
              "#9c179e"
             ],
             [
              0.4444444444444444,
              "#bd3786"
             ],
             [
              0.5555555555555556,
              "#d8576b"
             ],
             [
              0.6666666666666666,
              "#ed7953"
             ],
             [
              0.7777777777777778,
              "#fb9f3a"
             ],
             [
              0.8888888888888888,
              "#fdca26"
             ],
             [
              1,
              "#f0f921"
             ]
            ],
            "type": "histogram2dcontour"
           }
          ],
          "mesh3d": [
           {
            "colorbar": {
             "outlinewidth": 0,
             "ticks": ""
            },
            "type": "mesh3d"
           }
          ],
          "parcoords": [
           {
            "line": {
             "colorbar": {
              "outlinewidth": 0,
              "ticks": ""
             }
            },
            "type": "parcoords"
           }
          ],
          "pie": [
           {
            "automargin": true,
            "type": "pie"
           }
          ],
          "scatter": [
           {
            "fillpattern": {
             "fillmode": "overlay",
             "size": 10,
             "solidity": 0.2
            },
            "type": "scatter"
           }
          ],
          "scatter3d": [
           {
            "line": {
             "colorbar": {
              "outlinewidth": 0,
              "ticks": ""
             }
            },
            "marker": {
             "colorbar": {
              "outlinewidth": 0,
              "ticks": ""
             }
            },
            "type": "scatter3d"
           }
          ],
          "scattercarpet": [
           {
            "marker": {
             "colorbar": {
              "outlinewidth": 0,
              "ticks": ""
             }
            },
            "type": "scattercarpet"
           }
          ],
          "scattergeo": [
           {
            "marker": {
             "colorbar": {
              "outlinewidth": 0,
              "ticks": ""
             }
            },
            "type": "scattergeo"
           }
          ],
          "scattergl": [
           {
            "marker": {
             "colorbar": {
              "outlinewidth": 0,
              "ticks": ""
             }
            },
            "type": "scattergl"
           }
          ],
          "scattermapbox": [
           {
            "marker": {
             "colorbar": {
              "outlinewidth": 0,
              "ticks": ""
             }
            },
            "type": "scattermapbox"
           }
          ],
          "scatterpolar": [
           {
            "marker": {
             "colorbar": {
              "outlinewidth": 0,
              "ticks": ""
             }
            },
            "type": "scatterpolar"
           }
          ],
          "scatterpolargl": [
           {
            "marker": {
             "colorbar": {
              "outlinewidth": 0,
              "ticks": ""
             }
            },
            "type": "scatterpolargl"
           }
          ],
          "scatterternary": [
           {
            "marker": {
             "colorbar": {
              "outlinewidth": 0,
              "ticks": ""
             }
            },
            "type": "scatterternary"
           }
          ],
          "surface": [
           {
            "colorbar": {
             "outlinewidth": 0,
             "ticks": ""
            },
            "colorscale": [
             [
              0,
              "#0d0887"
             ],
             [
              0.1111111111111111,
              "#46039f"
             ],
             [
              0.2222222222222222,
              "#7201a8"
             ],
             [
              0.3333333333333333,
              "#9c179e"
             ],
             [
              0.4444444444444444,
              "#bd3786"
             ],
             [
              0.5555555555555556,
              "#d8576b"
             ],
             [
              0.6666666666666666,
              "#ed7953"
             ],
             [
              0.7777777777777778,
              "#fb9f3a"
             ],
             [
              0.8888888888888888,
              "#fdca26"
             ],
             [
              1,
              "#f0f921"
             ]
            ],
            "type": "surface"
           }
          ],
          "table": [
           {
            "cells": {
             "fill": {
              "color": "#EBF0F8"
             },
             "line": {
              "color": "white"
             }
            },
            "header": {
             "fill": {
              "color": "#C8D4E3"
             },
             "line": {
              "color": "white"
             }
            },
            "type": "table"
           }
          ]
         },
         "layout": {
          "annotationdefaults": {
           "arrowcolor": "#2a3f5f",
           "arrowhead": 0,
           "arrowwidth": 1
          },
          "autotypenumbers": "strict",
          "coloraxis": {
           "colorbar": {
            "outlinewidth": 0,
            "ticks": ""
           }
          },
          "colorscale": {
           "diverging": [
            [
             0,
             "#8e0152"
            ],
            [
             0.1,
             "#c51b7d"
            ],
            [
             0.2,
             "#de77ae"
            ],
            [
             0.3,
             "#f1b6da"
            ],
            [
             0.4,
             "#fde0ef"
            ],
            [
             0.5,
             "#f7f7f7"
            ],
            [
             0.6,
             "#e6f5d0"
            ],
            [
             0.7,
             "#b8e186"
            ],
            [
             0.8,
             "#7fbc41"
            ],
            [
             0.9,
             "#4d9221"
            ],
            [
             1,
             "#276419"
            ]
           ],
           "sequential": [
            [
             0,
             "#0d0887"
            ],
            [
             0.1111111111111111,
             "#46039f"
            ],
            [
             0.2222222222222222,
             "#7201a8"
            ],
            [
             0.3333333333333333,
             "#9c179e"
            ],
            [
             0.4444444444444444,
             "#bd3786"
            ],
            [
             0.5555555555555556,
             "#d8576b"
            ],
            [
             0.6666666666666666,
             "#ed7953"
            ],
            [
             0.7777777777777778,
             "#fb9f3a"
            ],
            [
             0.8888888888888888,
             "#fdca26"
            ],
            [
             1,
             "#f0f921"
            ]
           ],
           "sequentialminus": [
            [
             0,
             "#0d0887"
            ],
            [
             0.1111111111111111,
             "#46039f"
            ],
            [
             0.2222222222222222,
             "#7201a8"
            ],
            [
             0.3333333333333333,
             "#9c179e"
            ],
            [
             0.4444444444444444,
             "#bd3786"
            ],
            [
             0.5555555555555556,
             "#d8576b"
            ],
            [
             0.6666666666666666,
             "#ed7953"
            ],
            [
             0.7777777777777778,
             "#fb9f3a"
            ],
            [
             0.8888888888888888,
             "#fdca26"
            ],
            [
             1,
             "#f0f921"
            ]
           ]
          },
          "colorway": [
           "#636efa",
           "#EF553B",
           "#00cc96",
           "#ab63fa",
           "#FFA15A",
           "#19d3f3",
           "#FF6692",
           "#B6E880",
           "#FF97FF",
           "#FECB52"
          ],
          "font": {
           "color": "#2a3f5f"
          },
          "geo": {
           "bgcolor": "white",
           "lakecolor": "white",
           "landcolor": "#E5ECF6",
           "showlakes": true,
           "showland": true,
           "subunitcolor": "white"
          },
          "hoverlabel": {
           "align": "left"
          },
          "hovermode": "closest",
          "mapbox": {
           "style": "light"
          },
          "paper_bgcolor": "white",
          "plot_bgcolor": "#E5ECF6",
          "polar": {
           "angularaxis": {
            "gridcolor": "white",
            "linecolor": "white",
            "ticks": ""
           },
           "bgcolor": "#E5ECF6",
           "radialaxis": {
            "gridcolor": "white",
            "linecolor": "white",
            "ticks": ""
           }
          },
          "scene": {
           "xaxis": {
            "backgroundcolor": "#E5ECF6",
            "gridcolor": "white",
            "gridwidth": 2,
            "linecolor": "white",
            "showbackground": true,
            "ticks": "",
            "zerolinecolor": "white"
           },
           "yaxis": {
            "backgroundcolor": "#E5ECF6",
            "gridcolor": "white",
            "gridwidth": 2,
            "linecolor": "white",
            "showbackground": true,
            "ticks": "",
            "zerolinecolor": "white"
           },
           "zaxis": {
            "backgroundcolor": "#E5ECF6",
            "gridcolor": "white",
            "gridwidth": 2,
            "linecolor": "white",
            "showbackground": true,
            "ticks": "",
            "zerolinecolor": "white"
           }
          },
          "shapedefaults": {
           "line": {
            "color": "#2a3f5f"
           }
          },
          "ternary": {
           "aaxis": {
            "gridcolor": "white",
            "linecolor": "white",
            "ticks": ""
           },
           "baxis": {
            "gridcolor": "white",
            "linecolor": "white",
            "ticks": ""
           },
           "bgcolor": "#E5ECF6",
           "caxis": {
            "gridcolor": "white",
            "linecolor": "white",
            "ticks": ""
           }
          },
          "title": {
           "x": 0.05
          },
          "xaxis": {
           "automargin": true,
           "gridcolor": "white",
           "linecolor": "white",
           "ticks": "",
           "title": {
            "standoff": 15
           },
           "zerolinecolor": "white",
           "zerolinewidth": 2
          },
          "yaxis": {
           "automargin": true,
           "gridcolor": "white",
           "linecolor": "white",
           "ticks": "",
           "title": {
            "standoff": 15
           },
           "zerolinecolor": "white",
           "zerolinewidth": 2
          }
         }
        },
        "title": {
         "font": {
          "color": "Black",
          "size": 22
         },
         "text": "<b>Similarity Matrix</b>",
         "x": 0.55,
         "xanchor": "center",
         "y": 0.95,
         "yanchor": "top"
        },
        "width": 800,
        "xaxis": {
         "anchor": "y",
         "constrain": "domain",
         "domain": [
          0,
          1
         ],
         "scaleanchor": "y"
        },
        "yaxis": {
         "anchor": "x",
         "autorange": "reversed",
         "constrain": "domain",
         "domain": [
          0,
          1
         ]
        }
       }
      }
     },
     "metadata": {},
     "output_type": "display_data"
    }
   ],
   "source": [
    "topic_model.model.visualize_heatmap(top_n_topics=30)"
   ]
  },
  {
   "cell_type": "code",
   "execution_count": 15,
   "metadata": {},
   "outputs": [
    {
     "data": {
      "text/plain": [
       "[['dma for', 0.03285565398546396],\n",
       " ['roc starting', 0.031246168615573437],\n",
       " ['starting dma', 0.030978862929589013],\n",
       " ['dma', 0.027234272234267762],\n",
       " ['stopping dma', 0.02317905572091308],\n",
       " ['roc stopping', 0.022738351417444846],\n",
       " ['for roc', 0.020833889680218983],\n",
       " ['roc equipment', 0.020561983383138128],\n",
       " ['starting', 0.018245695665489864],\n",
       " ['stopping', 0.0162818202712224]]"
      ]
     },
     "execution_count": 15,
     "metadata": {},
     "output_type": "execute_result"
    }
   ],
   "source": [
    "topic_model.model.get_topic(177)"
   ]
  },
  {
   "cell_type": "code",
   "execution_count": 16,
   "metadata": {},
   "outputs": [
    {
     "data": {
      "text/plain": [
       "[['generating plots', 0.11120917288736089],\n",
       " ['plots generating', 0.10310398028058392],\n",
       " ['plots', 0.10210663330494306],\n",
       " ['generating', 0.09591863088788424],\n",
       " ['plots sending', 0.00017327372629486474],\n",
       " ['plots equipment', 0.00015747314819198048],\n",
       " ['objects generating', 0.00014217152074917164],\n",
       " ['309359 generating', 0.00011232899170759674],\n",
       " ['460873968', 0.00011232899170759674],\n",
       " ['460873968 on', 0.00011232899170759674]]"
      ]
     },
     "execution_count": 16,
     "metadata": {},
     "output_type": "execute_result"
    }
   ],
   "source": [
    "topic_model.model.get_topic(54)"
   ]
  },
  {
   "cell_type": "code",
   "execution_count": 17,
   "metadata": {},
   "outputs": [
    {
     "data": {
      "text/plain": [
       "[['publishing monitorobjects', 0.07625526399112437],\n",
       " ['monitorobjects publishing', 0.040237541188311556],\n",
       " ['publishing', 0.0399802746631738],\n",
       " ['monitorobjects', 0.020858422619037417],\n",
       " ['monitorobjects gap', 0.00019553652945757932],\n",
       " ['new 2088432', 0.00018220036800007622],\n",
       " ['2615820 new', 0.00018220036800007622],\n",
       " ['2615820', 0.00018220036800007622],\n",
       " ['previous 2615820', 0.00018220036800007622],\n",
       " ['2615823', 0.00018220036800007622]]"
      ]
     },
     "execution_count": 17,
     "metadata": {},
     "output_type": "execute_result"
    }
   ],
   "source": [
    "topic_model.model.get_topic(60)"
   ]
  },
  {
   "cell_type": "code",
   "execution_count": 18,
   "metadata": {},
   "outputs": [
    {
     "data": {
      "text/plain": [
       "[['roc nmemorylow', 0.1491995694155233],\n",
       " ['nmemorylow equipment', 0.14726159330225905],\n",
       " ['nmemorylow', 0.14235645300558478],\n",
       " ['equipment roc', 0.007480686142704214],\n",
       " ['roc', 0.005799930758122606],\n",
       " ['equipment', 0.005236444313800547],\n",
       " ['avg 00', 0.0027360181175420197],\n",
       " ['00 min', 0.002712908706356946],\n",
       " ['max count', 0.0019523444610930266],\n",
       " ['nmemorylow h0', 0.0019439279702449896]]"
      ]
     },
     "execution_count": 18,
     "metadata": {},
     "output_type": "execute_result"
    }
   ],
   "source": [
    "topic_model.model.get_topic(247)"
   ]
  },
  {
   "cell_type": "code",
   "execution_count": 20,
   "metadata": {},
   "outputs": [
    {
     "data": {
      "text/plain": [
       "[298,\n",
       " 519,\n",
       " 1786,\n",
       " 1823,\n",
       " 1883,\n",
       " 1514,\n",
       " 1509,\n",
       " 70,\n",
       " 1516,\n",
       " 2129,\n",
       " 14,\n",
       " 1668,\n",
       " 379,\n",
       " 338,\n",
       " 1926,\n",
       " 285,\n",
       " 320,\n",
       " 1881,\n",
       " 170,\n",
       " 1964]"
      ]
     },
     "execution_count": 20,
     "metadata": {},
     "output_type": "execute_result"
    }
   ],
   "source": [
    "similar_topics, similarity = topic_model.model.find_topics(\"ITS\", top_n=20); similar_topics"
   ]
  },
  {
   "cell_type": "markdown",
   "metadata": {},
   "source": [
    "# HDFS Bertopic"
   ]
  },
  {
   "cell_type": "code",
   "execution_count": 7,
   "metadata": {},
   "outputs": [
    {
     "name": "stdout",
     "output_type": "stream",
     "text": [
      "Topic model mode set to :BERTopic.\n",
      "Start Initialized\n"
     ]
    }
   ],
   "source": [
    "from lmao.topicmodel import LMAOTopic\n",
    "topic_model = LMAOTopic()"
   ]
  },
  {
   "cell_type": "code",
   "execution_count": 8,
   "metadata": {},
   "outputs": [
    {
     "name": "stdout",
     "output_type": "stream",
     "text": [
      "Done\n"
     ]
    }
   ],
   "source": [
    "topic_model.from_trained_model(model_path='/Users/IsRealNPK/LMAO/lmao/topicmodel/model/BERTopic-HDFS-all-MiniLM-L6-v2')"
   ]
  },
  {
   "cell_type": "code",
   "execution_count": 12,
   "metadata": {},
   "outputs": [],
   "source": [
    "df = pd.read_parquet('/Users/IsRealNPK/LMAO/dataset/HDFS_v1/HDFS_with_label.parquet.gzip')"
   ]
  },
  {
   "cell_type": "code",
   "execution_count": 13,
   "metadata": {},
   "outputs": [
    {
     "data": {
      "text/html": [
       "<div>\n",
       "<style scoped>\n",
       "    .dataframe tbody tr th:only-of-type {\n",
       "        vertical-align: middle;\n",
       "    }\n",
       "\n",
       "    .dataframe tbody tr th {\n",
       "        vertical-align: top;\n",
       "    }\n",
       "\n",
       "    .dataframe thead th {\n",
       "        text-align: right;\n",
       "    }\n",
       "</style>\n",
       "<table border=\"1\" class=\"dataframe\">\n",
       "  <thead>\n",
       "    <tr style=\"text-align: right;\">\n",
       "      <th></th>\n",
       "      <th>session_id</th>\n",
       "      <th>severity</th>\n",
       "      <th>content</th>\n",
       "      <th>event_id</th>\n",
       "      <th>event_template</th>\n",
       "      <th>label</th>\n",
       "    </tr>\n",
       "    <tr>\n",
       "      <th>index</th>\n",
       "      <th></th>\n",
       "      <th></th>\n",
       "      <th></th>\n",
       "      <th></th>\n",
       "      <th></th>\n",
       "      <th></th>\n",
       "    </tr>\n",
       "  </thead>\n",
       "  <tbody>\n",
       "    <tr>\n",
       "      <th>0</th>\n",
       "      <td>blk_-1608999687919862906</td>\n",
       "      <td>INFO</td>\n",
       "      <td>Receiving block blk_-1608999687919862906 src: ...</td>\n",
       "      <td>09a53393</td>\n",
       "      <td>Receiving block &lt;*&gt; src: &lt;*&gt; dest: &lt;*&gt;</td>\n",
       "      <td>Normal</td>\n",
       "    </tr>\n",
       "    <tr>\n",
       "      <th>2</th>\n",
       "      <td>blk_-1608999687919862906</td>\n",
       "      <td>INFO</td>\n",
       "      <td>Receiving block blk_-1608999687919862906 src: ...</td>\n",
       "      <td>09a53393</td>\n",
       "      <td>Receiving block &lt;*&gt; src: &lt;*&gt; dest: &lt;*&gt;</td>\n",
       "      <td>Normal</td>\n",
       "    </tr>\n",
       "    <tr>\n",
       "      <th>3</th>\n",
       "      <td>blk_-1608999687919862906</td>\n",
       "      <td>INFO</td>\n",
       "      <td>Receiving block blk_-1608999687919862906 src: ...</td>\n",
       "      <td>09a53393</td>\n",
       "      <td>Receiving block &lt;*&gt; src: &lt;*&gt; dest: &lt;*&gt;</td>\n",
       "      <td>Normal</td>\n",
       "    </tr>\n",
       "    <tr>\n",
       "      <th>4</th>\n",
       "      <td>blk_-1608999687919862906</td>\n",
       "      <td>INFO</td>\n",
       "      <td>PacketResponder 1 for block blk_-1608999687919...</td>\n",
       "      <td>d38aa58d</td>\n",
       "      <td>PacketResponder &lt;*&gt; for block &lt;*&gt; &lt;*&gt;</td>\n",
       "      <td>Normal</td>\n",
       "    </tr>\n",
       "    <tr>\n",
       "      <th>5</th>\n",
       "      <td>blk_-1608999687919862906</td>\n",
       "      <td>INFO</td>\n",
       "      <td>PacketResponder 2 for block blk_-1608999687919...</td>\n",
       "      <td>d38aa58d</td>\n",
       "      <td>PacketResponder &lt;*&gt; for block &lt;*&gt; &lt;*&gt;</td>\n",
       "      <td>Normal</td>\n",
       "    </tr>\n",
       "    <tr>\n",
       "      <th>...</th>\n",
       "      <td>...</td>\n",
       "      <td>...</td>\n",
       "      <td>...</td>\n",
       "      <td>...</td>\n",
       "      <td>...</td>\n",
       "      <td>...</td>\n",
       "    </tr>\n",
       "    <tr>\n",
       "      <th>11175624</th>\n",
       "      <td>blk_-6171368032583208892</td>\n",
       "      <td>INFO</td>\n",
       "      <td>Verification succeeded for blk_-61713680325832...</td>\n",
       "      <td>32777b38</td>\n",
       "      <td>Verification succeeded for &lt;*&gt;</td>\n",
       "      <td>Normal</td>\n",
       "    </tr>\n",
       "    <tr>\n",
       "      <th>11175625</th>\n",
       "      <td>blk_6195025276114316035</td>\n",
       "      <td>INFO</td>\n",
       "      <td>Verification succeeded for blk_619502527611431...</td>\n",
       "      <td>32777b38</td>\n",
       "      <td>Verification succeeded for &lt;*&gt;</td>\n",
       "      <td>Normal</td>\n",
       "    </tr>\n",
       "    <tr>\n",
       "      <th>11175626</th>\n",
       "      <td>blk_-3339773404714332088</td>\n",
       "      <td>INFO</td>\n",
       "      <td>Verification succeeded for blk_-33397734047143...</td>\n",
       "      <td>32777b38</td>\n",
       "      <td>Verification succeeded for &lt;*&gt;</td>\n",
       "      <td>Normal</td>\n",
       "    </tr>\n",
       "    <tr>\n",
       "      <th>11175627</th>\n",
       "      <td>blk_1037231945509285002</td>\n",
       "      <td>INFO</td>\n",
       "      <td>Verification succeeded for blk_103723194550928...</td>\n",
       "      <td>32777b38</td>\n",
       "      <td>Verification succeeded for &lt;*&gt;</td>\n",
       "      <td>Normal</td>\n",
       "    </tr>\n",
       "    <tr>\n",
       "      <th>11175628</th>\n",
       "      <td>blk_4258862871822415442</td>\n",
       "      <td>INFO</td>\n",
       "      <td>Verification succeeded for blk_425886287182241...</td>\n",
       "      <td>32777b38</td>\n",
       "      <td>Verification succeeded for &lt;*&gt;</td>\n",
       "      <td>Normal</td>\n",
       "    </tr>\n",
       "  </tbody>\n",
       "</table>\n",
       "<p>10600568 rows × 6 columns</p>\n",
       "</div>"
      ],
      "text/plain": [
       "                        session_id severity  \\\n",
       "index                                         \n",
       "0         blk_-1608999687919862906     INFO   \n",
       "2         blk_-1608999687919862906     INFO   \n",
       "3         blk_-1608999687919862906     INFO   \n",
       "4         blk_-1608999687919862906     INFO   \n",
       "5         blk_-1608999687919862906     INFO   \n",
       "...                            ...      ...   \n",
       "11175624  blk_-6171368032583208892     INFO   \n",
       "11175625   blk_6195025276114316035     INFO   \n",
       "11175626  blk_-3339773404714332088     INFO   \n",
       "11175627   blk_1037231945509285002     INFO   \n",
       "11175628   blk_4258862871822415442     INFO   \n",
       "\n",
       "                                                    content  event_id  \\\n",
       "index                                                                   \n",
       "0         Receiving block blk_-1608999687919862906 src: ...  09a53393   \n",
       "2         Receiving block blk_-1608999687919862906 src: ...  09a53393   \n",
       "3         Receiving block blk_-1608999687919862906 src: ...  09a53393   \n",
       "4         PacketResponder 1 for block blk_-1608999687919...  d38aa58d   \n",
       "5         PacketResponder 2 for block blk_-1608999687919...  d38aa58d   \n",
       "...                                                     ...       ...   \n",
       "11175624  Verification succeeded for blk_-61713680325832...  32777b38   \n",
       "11175625  Verification succeeded for blk_619502527611431...  32777b38   \n",
       "11175626  Verification succeeded for blk_-33397734047143...  32777b38   \n",
       "11175627  Verification succeeded for blk_103723194550928...  32777b38   \n",
       "11175628  Verification succeeded for blk_425886287182241...  32777b38   \n",
       "\n",
       "                                  event_template   label  \n",
       "index                                                     \n",
       "0         Receiving block <*> src: <*> dest: <*>  Normal  \n",
       "2         Receiving block <*> src: <*> dest: <*>  Normal  \n",
       "3         Receiving block <*> src: <*> dest: <*>  Normal  \n",
       "4          PacketResponder <*> for block <*> <*>  Normal  \n",
       "5          PacketResponder <*> for block <*> <*>  Normal  \n",
       "...                                          ...     ...  \n",
       "11175624          Verification succeeded for <*>  Normal  \n",
       "11175625          Verification succeeded for <*>  Normal  \n",
       "11175626          Verification succeeded for <*>  Normal  \n",
       "11175627          Verification succeeded for <*>  Normal  \n",
       "11175628          Verification succeeded for <*>  Normal  \n",
       "\n",
       "[10600568 rows x 6 columns]"
      ]
     },
     "execution_count": 13,
     "metadata": {},
     "output_type": "execute_result"
    }
   ],
   "source": [
    "df"
   ]
  },
  {
   "cell_type": "code",
   "execution_count": 17,
   "metadata": {},
   "outputs": [
    {
     "data": {
      "text/html": [
       "<div>\n",
       "<style scoped>\n",
       "    .dataframe tbody tr th:only-of-type {\n",
       "        vertical-align: middle;\n",
       "    }\n",
       "\n",
       "    .dataframe tbody tr th {\n",
       "        vertical-align: top;\n",
       "    }\n",
       "\n",
       "    .dataframe thead th {\n",
       "        text-align: right;\n",
       "    }\n",
       "</style>\n",
       "<table border=\"1\" class=\"dataframe\">\n",
       "  <thead>\n",
       "    <tr style=\"text-align: right;\">\n",
       "      <th></th>\n",
       "      <th>session_id</th>\n",
       "      <th>severity</th>\n",
       "      <th>content</th>\n",
       "      <th>event_id</th>\n",
       "      <th>event_template</th>\n",
       "      <th>label</th>\n",
       "      <th>topic</th>\n",
       "    </tr>\n",
       "    <tr>\n",
       "      <th>index</th>\n",
       "      <th></th>\n",
       "      <th></th>\n",
       "      <th></th>\n",
       "      <th></th>\n",
       "      <th></th>\n",
       "      <th></th>\n",
       "      <th></th>\n",
       "    </tr>\n",
       "  </thead>\n",
       "  <tbody>\n",
       "    <tr>\n",
       "      <th>0</th>\n",
       "      <td>blk_-1608999687919862906</td>\n",
       "      <td>INFO</td>\n",
       "      <td>Receiving block blk_-1608999687919862906 src: ...</td>\n",
       "      <td>09a53393</td>\n",
       "      <td>Receiving block &lt;*&gt; src: &lt;*&gt; dest: &lt;*&gt;</td>\n",
       "      <td>Normal</td>\n",
       "      <td>8</td>\n",
       "    </tr>\n",
       "    <tr>\n",
       "      <th>2</th>\n",
       "      <td>blk_-1608999687919862906</td>\n",
       "      <td>INFO</td>\n",
       "      <td>Receiving block blk_-1608999687919862906 src: ...</td>\n",
       "      <td>09a53393</td>\n",
       "      <td>Receiving block &lt;*&gt; src: &lt;*&gt; dest: &lt;*&gt;</td>\n",
       "      <td>Normal</td>\n",
       "      <td>-1</td>\n",
       "    </tr>\n",
       "    <tr>\n",
       "      <th>3</th>\n",
       "      <td>blk_-1608999687919862906</td>\n",
       "      <td>INFO</td>\n",
       "      <td>Receiving block blk_-1608999687919862906 src: ...</td>\n",
       "      <td>09a53393</td>\n",
       "      <td>Receiving block &lt;*&gt; src: &lt;*&gt; dest: &lt;*&gt;</td>\n",
       "      <td>Normal</td>\n",
       "      <td>8</td>\n",
       "    </tr>\n",
       "    <tr>\n",
       "      <th>4</th>\n",
       "      <td>blk_-1608999687919862906</td>\n",
       "      <td>INFO</td>\n",
       "      <td>PacketResponder 1 for block blk_-1608999687919...</td>\n",
       "      <td>d38aa58d</td>\n",
       "      <td>PacketResponder &lt;*&gt; for block &lt;*&gt; &lt;*&gt;</td>\n",
       "      <td>Normal</td>\n",
       "      <td>4</td>\n",
       "    </tr>\n",
       "    <tr>\n",
       "      <th>5</th>\n",
       "      <td>blk_-1608999687919862906</td>\n",
       "      <td>INFO</td>\n",
       "      <td>PacketResponder 2 for block blk_-1608999687919...</td>\n",
       "      <td>d38aa58d</td>\n",
       "      <td>PacketResponder &lt;*&gt; for block &lt;*&gt; &lt;*&gt;</td>\n",
       "      <td>Normal</td>\n",
       "      <td>3</td>\n",
       "    </tr>\n",
       "    <tr>\n",
       "      <th>...</th>\n",
       "      <td>...</td>\n",
       "      <td>...</td>\n",
       "      <td>...</td>\n",
       "      <td>...</td>\n",
       "      <td>...</td>\n",
       "      <td>...</td>\n",
       "      <td>...</td>\n",
       "    </tr>\n",
       "    <tr>\n",
       "      <th>11175624</th>\n",
       "      <td>blk_-6171368032583208892</td>\n",
       "      <td>INFO</td>\n",
       "      <td>Verification succeeded for blk_-61713680325832...</td>\n",
       "      <td>32777b38</td>\n",
       "      <td>Verification succeeded for &lt;*&gt;</td>\n",
       "      <td>Normal</td>\n",
       "      <td>11</td>\n",
       "    </tr>\n",
       "    <tr>\n",
       "      <th>11175625</th>\n",
       "      <td>blk_6195025276114316035</td>\n",
       "      <td>INFO</td>\n",
       "      <td>Verification succeeded for blk_619502527611431...</td>\n",
       "      <td>32777b38</td>\n",
       "      <td>Verification succeeded for &lt;*&gt;</td>\n",
       "      <td>Normal</td>\n",
       "      <td>11</td>\n",
       "    </tr>\n",
       "    <tr>\n",
       "      <th>11175626</th>\n",
       "      <td>blk_-3339773404714332088</td>\n",
       "      <td>INFO</td>\n",
       "      <td>Verification succeeded for blk_-33397734047143...</td>\n",
       "      <td>32777b38</td>\n",
       "      <td>Verification succeeded for &lt;*&gt;</td>\n",
       "      <td>Normal</td>\n",
       "      <td>11</td>\n",
       "    </tr>\n",
       "    <tr>\n",
       "      <th>11175627</th>\n",
       "      <td>blk_1037231945509285002</td>\n",
       "      <td>INFO</td>\n",
       "      <td>Verification succeeded for blk_103723194550928...</td>\n",
       "      <td>32777b38</td>\n",
       "      <td>Verification succeeded for &lt;*&gt;</td>\n",
       "      <td>Normal</td>\n",
       "      <td>11</td>\n",
       "    </tr>\n",
       "    <tr>\n",
       "      <th>11175628</th>\n",
       "      <td>blk_4258862871822415442</td>\n",
       "      <td>INFO</td>\n",
       "      <td>Verification succeeded for blk_425886287182241...</td>\n",
       "      <td>32777b38</td>\n",
       "      <td>Verification succeeded for &lt;*&gt;</td>\n",
       "      <td>Normal</td>\n",
       "      <td>11</td>\n",
       "    </tr>\n",
       "  </tbody>\n",
       "</table>\n",
       "<p>10600568 rows × 7 columns</p>\n",
       "</div>"
      ],
      "text/plain": [
       "                        session_id severity  \\\n",
       "index                                         \n",
       "0         blk_-1608999687919862906     INFO   \n",
       "2         blk_-1608999687919862906     INFO   \n",
       "3         blk_-1608999687919862906     INFO   \n",
       "4         blk_-1608999687919862906     INFO   \n",
       "5         blk_-1608999687919862906     INFO   \n",
       "...                            ...      ...   \n",
       "11175624  blk_-6171368032583208892     INFO   \n",
       "11175625   blk_6195025276114316035     INFO   \n",
       "11175626  blk_-3339773404714332088     INFO   \n",
       "11175627   blk_1037231945509285002     INFO   \n",
       "11175628   blk_4258862871822415442     INFO   \n",
       "\n",
       "                                                    content  event_id  \\\n",
       "index                                                                   \n",
       "0         Receiving block blk_-1608999687919862906 src: ...  09a53393   \n",
       "2         Receiving block blk_-1608999687919862906 src: ...  09a53393   \n",
       "3         Receiving block blk_-1608999687919862906 src: ...  09a53393   \n",
       "4         PacketResponder 1 for block blk_-1608999687919...  d38aa58d   \n",
       "5         PacketResponder 2 for block blk_-1608999687919...  d38aa58d   \n",
       "...                                                     ...       ...   \n",
       "11175624  Verification succeeded for blk_-61713680325832...  32777b38   \n",
       "11175625  Verification succeeded for blk_619502527611431...  32777b38   \n",
       "11175626  Verification succeeded for blk_-33397734047143...  32777b38   \n",
       "11175627  Verification succeeded for blk_103723194550928...  32777b38   \n",
       "11175628  Verification succeeded for blk_425886287182241...  32777b38   \n",
       "\n",
       "                                  event_template   label  topic  \n",
       "index                                                            \n",
       "0         Receiving block <*> src: <*> dest: <*>  Normal      8  \n",
       "2         Receiving block <*> src: <*> dest: <*>  Normal     -1  \n",
       "3         Receiving block <*> src: <*> dest: <*>  Normal      8  \n",
       "4          PacketResponder <*> for block <*> <*>  Normal      4  \n",
       "5          PacketResponder <*> for block <*> <*>  Normal      3  \n",
       "...                                          ...     ...    ...  \n",
       "11175624          Verification succeeded for <*>  Normal     11  \n",
       "11175625          Verification succeeded for <*>  Normal     11  \n",
       "11175626          Verification succeeded for <*>  Normal     11  \n",
       "11175627          Verification succeeded for <*>  Normal     11  \n",
       "11175628          Verification succeeded for <*>  Normal     11  \n",
       "\n",
       "[10600568 rows x 7 columns]"
      ]
     },
     "execution_count": 17,
     "metadata": {},
     "output_type": "execute_result"
    }
   ],
   "source": [
    "topic_model.get_topic(df=df)"
   ]
  },
  {
   "cell_type": "code",
   "execution_count": 18,
   "metadata": {},
   "outputs": [],
   "source": [
    "df.to_parquet('/Users/IsRealNPK/LMAO/dataset/HDFS_v1/HDFS_with_topic.parquet.gzip')"
   ]
  },
  {
   "cell_type": "markdown",
   "metadata": {},
   "source": [
    "# LMAO graph"
   ]
  },
  {
   "cell_type": "code",
   "execution_count": 2,
   "metadata": {},
   "outputs": [],
   "source": [
    "from lmao.graph import Graph"
   ]
  },
  {
   "cell_type": "code",
   "execution_count": 3,
   "metadata": {},
   "outputs": [],
   "source": [
    "# data = Graph(df=pd.read_parquet('/Users/IsRealNPK/LMAO/dataset/ALICE-OSLdataset/ALICE_info_no_severity_D_with_topic.parquet.gzip'),mode='pyg')"
   ]
  },
  {
   "cell_type": "code",
   "execution_count": 4,
   "metadata": {},
   "outputs": [
    {
     "name": "stdout",
     "output_type": "stream",
     "text": [
      "Topics size of this dataframe is : 237\n",
      "Getting Group by from dataframe\n"
     ]
    },
    {
     "data": {
      "application/vnd.jupyter.widget-view+json": {
       "model_id": "d0c1c1db56cb4e3c90a1c6fd80058209",
       "version_major": 2,
       "version_minor": 0
      },
      "text/plain": [
       "  0%|          | 0/575061 [00:00<?, ?it/s]"
      ]
     },
     "metadata": {},
     "output_type": "display_data"
    },
    {
     "name": "stdout",
     "output_type": "stream",
     "text": [
      "Max sequence size of this dataframe is : <bound method Series.max of 0         12\n",
      "1         27\n",
      "2         12\n",
      "3         28\n",
      "4         18\n",
      "          ..\n",
      "575056    21\n",
      "575057    18\n",
      "575058    18\n",
      "575059    26\n",
      "575060    18\n",
      "Name: X, Length: 575061, dtype: int64>\n",
      "Apply Padding and Truncate 300.\n"
     ]
    },
    {
     "data": {
      "application/vnd.jupyter.widget-view+json": {
       "model_id": "cec68e6015cf4cc89df4e4c2c87ac730",
       "version_major": 2,
       "version_minor": 0
      },
      "text/plain": [
       "  0%|          | 0/575061 [00:00<?, ?it/s]"
      ]
     },
     "metadata": {},
     "output_type": "display_data"
    },
    {
     "name": "stdout",
     "output_type": "stream",
     "text": [
      "Updating Topic size of this dataframe to 238\n",
      "Updating sequence size of this dataframe to 300\n",
      "Please call .get_PyG() to get PyG dataloader\n"
     ]
    }
   ],
   "source": [
    "data = Graph(df=pd.read_parquet('/Users/IsRealNPK/LMAO/dataset/HDFS_v1/HDFS_with_topic.parquet.gzip'),mode='pyg')"
   ]
  },
  {
   "cell_type": "code",
   "execution_count": 5,
   "metadata": {},
   "outputs": [],
   "source": [
    "G = data.get_one_graph(0)"
   ]
  },
  {
   "cell_type": "code",
   "execution_count": 6,
   "metadata": {},
   "outputs": [
    {
     "data": {
      "text/plain": [
       "<networkx.classes.digraph.DiGraph at 0x3ae34fe50>"
      ]
     },
     "execution_count": 6,
     "metadata": {},
     "output_type": "execute_result"
    }
   ],
   "source": []
  },
  {
   "cell_type": "code",
   "execution_count": null,
   "metadata": {},
   "outputs": [],
   "source": [
    "data.get_PyG(one_hot=True)"
   ]
  },
  {
   "cell_type": "code",
   "execution_count": null,
   "metadata": {},
   "outputs": [],
   "source": []
  }
 ],
 "metadata": {
  "kernelspec": {
   "display_name": "Python 3",
   "language": "python",
   "name": "python3"
  },
  "language_info": {
   "codemirror_mode": {
    "name": "ipython",
    "version": 3
   },
   "file_extension": ".py",
   "mimetype": "text/x-python",
   "name": "python",
   "nbconvert_exporter": "python",
   "pygments_lexer": "ipython3",
   "version": "3.11.5"
  }
 },
 "nbformat": 4,
 "nbformat_minor": 2
}
