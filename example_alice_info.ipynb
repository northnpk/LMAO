{
 "cells": [
  {
   "cell_type": "code",
   "execution_count": 1,
   "metadata": {},
   "outputs": [],
   "source": [
    "# import lmao\n",
    "from lmao._utils import *"
   ]
  },
  {
   "cell_type": "markdown",
   "metadata": {},
   "source": [
    "# ALICE Infologger Preprocessing"
   ]
  },
  {
   "cell_type": "code",
   "execution_count": 2,
   "metadata": {},
   "outputs": [],
   "source": [
    "from lmao.preprocessing import LMAOPreprocessing"
   ]
  },
  {
   "cell_type": "code",
   "execution_count": 2,
   "metadata": {},
   "outputs": [
    {
     "name": "stdout",
     "output_type": "stream",
     "text": [
      "<lmao.preprocessing.LMAOPreprocessing object at 0x143d3f850>\n"
     ]
    }
   ],
   "source": [
    "prep = LMAOPreprocessing(data_type='alice_info')"
   ]
  },
  {
   "cell_type": "code",
   "execution_count": 3,
   "metadata": {},
   "outputs": [
    {
     "data": {
      "text/plain": [
       "'/Users/IsRealNPK/LMAO/dataset/ALICE-OSLdataset/phob_test_20220312_sample_struct_no_new15.csv'"
      ]
     },
     "execution_count": 3,
     "metadata": {},
     "output_type": "execute_result"
    }
   ],
   "source": [
    "prep.from_parsed_csv(csv_path='dataset/ALICE-OSLdataset/phob_test_20220312_sample_struct_no_new15.csv')"
   ]
  },
  {
   "cell_type": "code",
   "execution_count": 4,
   "metadata": {},
   "outputs": [
    {
     "name": "stdout",
     "output_type": "stream",
     "text": [
      "Preprocessing to LMAO format with label from alice_info\n",
      "Path :/Users/IsRealNPK/LMAO/dataset/OneDrive_1_2-5-2024/runs.csv\n"
     ]
    },
    {
     "name": "stderr",
     "output_type": "stream",
     "text": [
      "/Users/IsRealNPK/LMAO/lmao/preprocessing/alice_info.py:65: DtypeWarning: Columns (27,28,36) have mixed types. Specify dtype option on import or set low_memory=False.\n",
      "  run_df = pd.read_csv(label_path)\n"
     ]
    },
    {
     "name": "stdout",
     "output_type": "stream",
     "text": [
      "Stating map RunID from label file\n"
     ]
    },
    {
     "data": {
      "application/vnd.jupyter.widget-view+json": {
       "model_id": "2cab02dfd4a44ba58144e18aaed52248",
       "version_major": 2,
       "version_minor": 0
      },
      "text/plain": [
       "  0%|          | 0/23177 [00:00<?, ?it/s]"
      ]
     },
     "metadata": {},
     "output_type": "display_data"
    },
    {
     "name": "stdout",
     "output_type": "stream",
     "text": [
      "Stating map EOR from EOR file\n"
     ]
    },
    {
     "data": {
      "application/vnd.jupyter.widget-view+json": {
       "model_id": "980711eae6d74c2089a63b58637e0f46",
       "version_major": 2,
       "version_minor": 0
      },
      "text/plain": [
       "  0%|          | 0/2831 [00:00<?, ?it/s]"
      ]
     },
     "metadata": {},
     "output_type": "display_data"
    },
    {
     "name": "stdout",
     "output_type": "stream",
     "text": [
      "Drop all severity D\n",
      "Normalize EOR\n"
     ]
    },
    {
     "data": {
      "application/vnd.jupyter.widget-view+json": {
       "model_id": "f991daf06e3043c0bc021db29800a574",
       "version_major": 2,
       "version_minor": 0
      },
      "text/plain": [
       "  0%|          | 0/9712742 [00:00<?, ?it/s]"
      ]
     },
     "metadata": {},
     "output_type": "display_data"
    },
    {
     "name": "stdout",
     "output_type": "stream",
     "text": [
      "Getting Crashed from EOR\n",
      "Returning dataframe\n",
      "Done\n"
     ]
    }
   ],
   "source": [
    "prep.prep_data(label_path='dataset/OneDrive_1_2-5-2024/runs.csv',\n",
    "               eor_path='dataset/OneDrive_1_2-5-2024/eor_reasons.csv')"
   ]
  },
  {
   "cell_type": "code",
   "execution_count": 63,
   "metadata": {},
   "outputs": [
    {
     "data": {
      "text/html": [
       "<div>\n",
       "<style scoped>\n",
       "    .dataframe tbody tr th:only-of-type {\n",
       "        vertical-align: middle;\n",
       "    }\n",
       "\n",
       "    .dataframe tbody tr th {\n",
       "        vertical-align: top;\n",
       "    }\n",
       "\n",
       "    .dataframe thead th {\n",
       "        text-align: right;\n",
       "    }\n",
       "</style>\n",
       "<table border=\"1\" class=\"dataframe\">\n",
       "  <thead>\n",
       "    <tr style=\"text-align: right;\">\n",
       "      <th></th>\n",
       "      <th>session_id</th>\n",
       "      <th>severity</th>\n",
       "      <th>content</th>\n",
       "      <th>event_id</th>\n",
       "      <th>event_template</th>\n",
       "      <th>label</th>\n",
       "      <th>EOR</th>\n",
       "      <th>EOR_id</th>\n",
       "      <th>run_quality</th>\n",
       "    </tr>\n",
       "  </thead>\n",
       "  <tbody>\n",
       "    <tr>\n",
       "      <th>134071</th>\n",
       "      <td>24064</td>\n",
       "      <td>I</td>\n",
       "      <td>writing 1 messages to aliecs.before_start_acti...</td>\n",
       "      <td>2</td>\n",
       "      <td>writing &lt;*&gt; messages to &lt;*&gt; (partition:&lt;*&gt;</td>\n",
       "      <td>not crashed</td>\n",
       "      <td>eor test.</td>\n",
       "      <td>61.0</td>\n",
       "      <td>test</td>\n",
       "    </tr>\n",
       "    <tr>\n",
       "      <th>134080</th>\n",
       "      <td>24064</td>\n",
       "      <td>I</td>\n",
       "      <td>overriding run start time in the GRP object to...</td>\n",
       "      <td>378</td>\n",
       "      <td>overriding run start time in the GRP object to...</td>\n",
       "      <td>not crashed</td>\n",
       "      <td>eor test.</td>\n",
       "      <td>61.0</td>\n",
       "      <td>test</td>\n",
       "    </tr>\n",
       "    <tr>\n",
       "      <th>134094</th>\n",
       "      <td>24064</td>\n",
       "      <td>I</td>\n",
       "      <td>writing 1 messages to aliecs.env_leave_state.C...</td>\n",
       "      <td>2</td>\n",
       "      <td>writing &lt;*&gt; messages to &lt;*&gt; (partition:&lt;*&gt;</td>\n",
       "      <td>not crashed</td>\n",
       "      <td>eor test.</td>\n",
       "      <td>61.0</td>\n",
       "      <td>test</td>\n",
       "    </tr>\n",
       "    <tr>\n",
       "      <th>134098</th>\n",
       "      <td>24064</td>\n",
       "      <td>I</td>\n",
       "      <td>starting new run</td>\n",
       "      <td>383</td>\n",
       "      <td>starting new run</td>\n",
       "      <td>not crashed</td>\n",
       "      <td>eor test.</td>\n",
       "      <td>61.0</td>\n",
       "      <td>test</td>\n",
       "    </tr>\n",
       "    <tr>\n",
       "      <th>135408</th>\n",
       "      <td>24064</td>\n",
       "      <td>I</td>\n",
       "      <td>Run number 526264</td>\n",
       "      <td>384</td>\n",
       "      <td>Run number &lt;*&gt;</td>\n",
       "      <td>not crashed</td>\n",
       "      <td>eor test.</td>\n",
       "      <td>61.0</td>\n",
       "      <td>test</td>\n",
       "    </tr>\n",
       "    <tr>\n",
       "      <th>...</th>\n",
       "      <td>...</td>\n",
       "      <td>...</td>\n",
       "      <td>...</td>\n",
       "      <td>...</td>\n",
       "      <td>...</td>\n",
       "      <td>...</td>\n",
       "      <td>...</td>\n",
       "      <td>...</td>\n",
       "      <td>...</td>\n",
       "    </tr>\n",
       "    <tr>\n",
       "      <th>34856755</th>\n",
       "      <td>24356</td>\n",
       "      <td>W</td>\n",
       "      <td>Non-contiguous timeframe IDs 187572 ... 187574</td>\n",
       "      <td>723</td>\n",
       "      <td>Non-contiguous timeframe IDs &lt;*&gt; ... &lt;*&gt;</td>\n",
       "      <td>crashed</td>\n",
       "      <td>triggers out synch. disabling ctp readout.</td>\n",
       "      <td>59.0</td>\n",
       "      <td>bad</td>\n",
       "    </tr>\n",
       "    <tr>\n",
       "      <th>34856756</th>\n",
       "      <td>24356</td>\n",
       "      <td>W</td>\n",
       "      <td>Non-contiguous timeframe IDs 187572 ... 187574</td>\n",
       "      <td>723</td>\n",
       "      <td>Non-contiguous timeframe IDs &lt;*&gt; ... &lt;*&gt;</td>\n",
       "      <td>crashed</td>\n",
       "      <td>triggers out synch. disabling ctp readout.</td>\n",
       "      <td>59.0</td>\n",
       "      <td>bad</td>\n",
       "    </tr>\n",
       "    <tr>\n",
       "      <th>34856757</th>\n",
       "      <td>24356</td>\n",
       "      <td>W</td>\n",
       "      <td>Non-contiguous timeframe IDs 187572 ... 187574</td>\n",
       "      <td>723</td>\n",
       "      <td>Non-contiguous timeframe IDs &lt;*&gt; ... &lt;*&gt;</td>\n",
       "      <td>crashed</td>\n",
       "      <td>triggers out synch. disabling ctp readout.</td>\n",
       "      <td>59.0</td>\n",
       "      <td>bad</td>\n",
       "    </tr>\n",
       "    <tr>\n",
       "      <th>34856758</th>\n",
       "      <td>24356</td>\n",
       "      <td>W</td>\n",
       "      <td>Gap in timeframe ids detected: previous= 18757...</td>\n",
       "      <td>724</td>\n",
       "      <td>Gap in timeframe ids &lt;*&gt;</td>\n",
       "      <td>crashed</td>\n",
       "      <td>triggers out synch. disabling ctp readout.</td>\n",
       "      <td>59.0</td>\n",
       "      <td>bad</td>\n",
       "    </tr>\n",
       "    <tr>\n",
       "      <th>34856759</th>\n",
       "      <td>24356</td>\n",
       "      <td>W</td>\n",
       "      <td>Gap in timeframe ids detected: previous= 18757...</td>\n",
       "      <td>724</td>\n",
       "      <td>Gap in timeframe ids &lt;*&gt;</td>\n",
       "      <td>crashed</td>\n",
       "      <td>triggers out synch. disabling ctp readout.</td>\n",
       "      <td>59.0</td>\n",
       "      <td>bad</td>\n",
       "    </tr>\n",
       "  </tbody>\n",
       "</table>\n",
       "<p>5487627 rows × 9 columns</p>\n",
       "</div>"
      ],
      "text/plain": [
       "          session_id severity  \\\n",
       "134071         24064        I   \n",
       "134080         24064        I   \n",
       "134094         24064        I   \n",
       "134098         24064        I   \n",
       "135408         24064        I   \n",
       "...              ...      ...   \n",
       "34856755       24356        W   \n",
       "34856756       24356        W   \n",
       "34856757       24356        W   \n",
       "34856758       24356        W   \n",
       "34856759       24356        W   \n",
       "\n",
       "                                                    content  event_id  \\\n",
       "134071    writing 1 messages to aliecs.before_start_acti...         2   \n",
       "134080    overriding run start time in the GRP object to...       378   \n",
       "134094    writing 1 messages to aliecs.env_leave_state.C...         2   \n",
       "134098                                     starting new run       383   \n",
       "135408                                    Run number 526264       384   \n",
       "...                                                     ...       ...   \n",
       "34856755     Non-contiguous timeframe IDs 187572 ... 187574       723   \n",
       "34856756     Non-contiguous timeframe IDs 187572 ... 187574       723   \n",
       "34856757     Non-contiguous timeframe IDs 187572 ... 187574       723   \n",
       "34856758  Gap in timeframe ids detected: previous= 18757...       724   \n",
       "34856759  Gap in timeframe ids detected: previous= 18757...       724   \n",
       "\n",
       "                                             event_template        label  \\\n",
       "134071           writing <*> messages to <*> (partition:<*>  not crashed   \n",
       "134080    overriding run start time in the GRP object to...  not crashed   \n",
       "134094           writing <*> messages to <*> (partition:<*>  not crashed   \n",
       "134098                                     starting new run  not crashed   \n",
       "135408                                       Run number <*>  not crashed   \n",
       "...                                                     ...          ...   \n",
       "34856755           Non-contiguous timeframe IDs <*> ... <*>      crashed   \n",
       "34856756           Non-contiguous timeframe IDs <*> ... <*>      crashed   \n",
       "34856757           Non-contiguous timeframe IDs <*> ... <*>      crashed   \n",
       "34856758                           Gap in timeframe ids <*>      crashed   \n",
       "34856759                           Gap in timeframe ids <*>      crashed   \n",
       "\n",
       "                                                 EOR  EOR_id run_quality  \n",
       "134071                                     eor test.    61.0        test  \n",
       "134080                                     eor test.    61.0        test  \n",
       "134094                                     eor test.    61.0        test  \n",
       "134098                                     eor test.    61.0        test  \n",
       "135408                                     eor test.    61.0        test  \n",
       "...                                              ...     ...         ...  \n",
       "34856755  triggers out synch. disabling ctp readout.    59.0         bad  \n",
       "34856756  triggers out synch. disabling ctp readout.    59.0         bad  \n",
       "34856757  triggers out synch. disabling ctp readout.    59.0         bad  \n",
       "34856758  triggers out synch. disabling ctp readout.    59.0         bad  \n",
       "34856759  triggers out synch. disabling ctp readout.    59.0         bad  \n",
       "\n",
       "[5487627 rows x 9 columns]"
      ]
     },
     "execution_count": 63,
     "metadata": {},
     "output_type": "execute_result"
    }
   ],
   "source": [
    "prep.df"
   ]
  },
  {
   "cell_type": "code",
   "execution_count": 66,
   "metadata": {},
   "outputs": [],
   "source": [
    "prep.df.to_parquet('dataset/ALICE-OSLdataset/ALICE_info_no_severity_D_with_label.parquet.gzip', compression='gzip')"
   ]
  },
  {
   "cell_type": "markdown",
   "metadata": {},
   "source": [
    "# ALICE Bertopic"
   ]
  },
  {
   "cell_type": "code",
   "execution_count": 2,
   "metadata": {},
   "outputs": [
    {
     "name": "stdout",
     "output_type": "stream",
     "text": [
      "Topic model mode set to :BERTopic.\n",
      "Start Initialized\n"
     ]
    }
   ],
   "source": [
    "from lmao.topicmodel import LMAOTopic\n",
    "topic_model = LMAOTopic()"
   ]
  },
  {
   "cell_type": "code",
   "execution_count": null,
   "metadata": {},
   "outputs": [],
   "source": [
    "df = pd.read_parquet('dataset/ALICE-OSLdataset/ALICE_info_no_severity_D_with_label.parquet.gzip')"
   ]
  },
  {
   "cell_type": "code",
   "execution_count": null,
   "metadata": {},
   "outputs": [],
   "source": [
    "# topic_model.training_model(df=df)"
   ]
  },
  {
   "cell_type": "code",
   "execution_count": null,
   "metadata": {},
   "outputs": [],
   "source": [
    "# topic_dict = topic_model.topic_dict"
   ]
  },
  {
   "cell_type": "code",
   "execution_count": 11,
   "metadata": {},
   "outputs": [
    {
     "name": "stdout",
     "output_type": "stream",
     "text": [
      "1.25 s ± 304 ms per loop (mean ± std. dev. of 7 runs, 1 loop each)\n"
     ]
    }
   ],
   "source": [
    "# %%timeit\n",
    "# topic_model.model.transform(df.content.tolist()[:1000])\n",
    "# topic, _ = topic_model.model.transform(df.content.tolist()[0])\n",
    "# topic"
   ]
  },
  {
   "cell_type": "code",
   "execution_count": 3,
   "metadata": {},
   "outputs": [
    {
     "name": "stdout",
     "output_type": "stream",
     "text": [
      "Done\n"
     ]
    }
   ],
   "source": [
    "topic_model.from_trained_model(model_path='lmao/topicmodel/model/BERTopic-ALICE_info_no_severity_D-all-MiniLM-L6-v2')"
   ]
  },
  {
   "cell_type": "code",
   "execution_count": 4,
   "metadata": {},
   "outputs": [],
   "source": [
    "topic_dict = topic_model.topic_dict"
   ]
  },
  {
   "cell_type": "code",
   "execution_count": 52,
   "metadata": {},
   "outputs": [],
   "source": [
    "df = pd.read_parquet('dataset/ALICE-OSLdataset/ALICE_info_no_severity_D_with_label.parquet.gzip')"
   ]
  },
  {
   "cell_type": "code",
   "execution_count": 53,
   "metadata": {},
   "outputs": [
    {
     "data": {
      "text/html": [
       "<div>\n",
       "<style scoped>\n",
       "    .dataframe tbody tr th:only-of-type {\n",
       "        vertical-align: middle;\n",
       "    }\n",
       "\n",
       "    .dataframe tbody tr th {\n",
       "        vertical-align: top;\n",
       "    }\n",
       "\n",
       "    .dataframe thead th {\n",
       "        text-align: right;\n",
       "    }\n",
       "</style>\n",
       "<table border=\"1\" class=\"dataframe\">\n",
       "  <thead>\n",
       "    <tr style=\"text-align: right;\">\n",
       "      <th></th>\n",
       "      <th>session_id</th>\n",
       "      <th>severity</th>\n",
       "      <th>content</th>\n",
       "      <th>event_id</th>\n",
       "      <th>event_template</th>\n",
       "      <th>label</th>\n",
       "      <th>EOR</th>\n",
       "      <th>EOR_id</th>\n",
       "      <th>run_quality</th>\n",
       "      <th>topic</th>\n",
       "    </tr>\n",
       "  </thead>\n",
       "  <tbody>\n",
       "    <tr>\n",
       "      <th>134071</th>\n",
       "      <td>24064</td>\n",
       "      <td>I</td>\n",
       "      <td>writing 1 messages to aliecs.before_start_acti...</td>\n",
       "      <td>2</td>\n",
       "      <td>writing &lt;*&gt; messages to &lt;*&gt; (partition:&lt;*&gt;</td>\n",
       "      <td>not crashed</td>\n",
       "      <td>eor test.</td>\n",
       "      <td>61.0</td>\n",
       "      <td>test</td>\n",
       "      <td>572</td>\n",
       "    </tr>\n",
       "    <tr>\n",
       "      <th>134080</th>\n",
       "      <td>24064</td>\n",
       "      <td>I</td>\n",
       "      <td>overriding run start time in the GRP object to...</td>\n",
       "      <td>378</td>\n",
       "      <td>overriding run start time in the GRP object to...</td>\n",
       "      <td>not crashed</td>\n",
       "      <td>eor test.</td>\n",
       "      <td>61.0</td>\n",
       "      <td>test</td>\n",
       "      <td>1682</td>\n",
       "    </tr>\n",
       "    <tr>\n",
       "      <th>134094</th>\n",
       "      <td>24064</td>\n",
       "      <td>I</td>\n",
       "      <td>writing 1 messages to aliecs.env_leave_state.C...</td>\n",
       "      <td>2</td>\n",
       "      <td>writing &lt;*&gt; messages to &lt;*&gt; (partition:&lt;*&gt;</td>\n",
       "      <td>not crashed</td>\n",
       "      <td>eor test.</td>\n",
       "      <td>61.0</td>\n",
       "      <td>test</td>\n",
       "      <td>464</td>\n",
       "    </tr>\n",
       "    <tr>\n",
       "      <th>134098</th>\n",
       "      <td>24064</td>\n",
       "      <td>I</td>\n",
       "      <td>starting new run</td>\n",
       "      <td>383</td>\n",
       "      <td>starting new run</td>\n",
       "      <td>not crashed</td>\n",
       "      <td>eor test.</td>\n",
       "      <td>61.0</td>\n",
       "      <td>test</td>\n",
       "      <td>-1</td>\n",
       "    </tr>\n",
       "    <tr>\n",
       "      <th>135408</th>\n",
       "      <td>24064</td>\n",
       "      <td>I</td>\n",
       "      <td>Run number 526264</td>\n",
       "      <td>384</td>\n",
       "      <td>Run number &lt;*&gt;</td>\n",
       "      <td>not crashed</td>\n",
       "      <td>eor test.</td>\n",
       "      <td>61.0</td>\n",
       "      <td>test</td>\n",
       "      <td>1635</td>\n",
       "    </tr>\n",
       "    <tr>\n",
       "      <th>...</th>\n",
       "      <td>...</td>\n",
       "      <td>...</td>\n",
       "      <td>...</td>\n",
       "      <td>...</td>\n",
       "      <td>...</td>\n",
       "      <td>...</td>\n",
       "      <td>...</td>\n",
       "      <td>...</td>\n",
       "      <td>...</td>\n",
       "      <td>...</td>\n",
       "    </tr>\n",
       "    <tr>\n",
       "      <th>34856755</th>\n",
       "      <td>24356</td>\n",
       "      <td>W</td>\n",
       "      <td>Non-contiguous timeframe IDs 187572 ... 187574</td>\n",
       "      <td>723</td>\n",
       "      <td>Non-contiguous timeframe IDs &lt;*&gt; ... &lt;*&gt;</td>\n",
       "      <td>crashed</td>\n",
       "      <td>triggers out synch. disabling ctp readout.</td>\n",
       "      <td>59.0</td>\n",
       "      <td>bad</td>\n",
       "      <td>1882</td>\n",
       "    </tr>\n",
       "    <tr>\n",
       "      <th>34856756</th>\n",
       "      <td>24356</td>\n",
       "      <td>W</td>\n",
       "      <td>Non-contiguous timeframe IDs 187572 ... 187574</td>\n",
       "      <td>723</td>\n",
       "      <td>Non-contiguous timeframe IDs &lt;*&gt; ... &lt;*&gt;</td>\n",
       "      <td>crashed</td>\n",
       "      <td>triggers out synch. disabling ctp readout.</td>\n",
       "      <td>59.0</td>\n",
       "      <td>bad</td>\n",
       "      <td>1882</td>\n",
       "    </tr>\n",
       "    <tr>\n",
       "      <th>34856757</th>\n",
       "      <td>24356</td>\n",
       "      <td>W</td>\n",
       "      <td>Non-contiguous timeframe IDs 187572 ... 187574</td>\n",
       "      <td>723</td>\n",
       "      <td>Non-contiguous timeframe IDs &lt;*&gt; ... &lt;*&gt;</td>\n",
       "      <td>crashed</td>\n",
       "      <td>triggers out synch. disabling ctp readout.</td>\n",
       "      <td>59.0</td>\n",
       "      <td>bad</td>\n",
       "      <td>1882</td>\n",
       "    </tr>\n",
       "    <tr>\n",
       "      <th>34856758</th>\n",
       "      <td>24356</td>\n",
       "      <td>W</td>\n",
       "      <td>Gap in timeframe ids detected: previous= 18757...</td>\n",
       "      <td>724</td>\n",
       "      <td>Gap in timeframe ids &lt;*&gt;</td>\n",
       "      <td>crashed</td>\n",
       "      <td>triggers out synch. disabling ctp readout.</td>\n",
       "      <td>59.0</td>\n",
       "      <td>bad</td>\n",
       "      <td>-1</td>\n",
       "    </tr>\n",
       "    <tr>\n",
       "      <th>34856759</th>\n",
       "      <td>24356</td>\n",
       "      <td>W</td>\n",
       "      <td>Gap in timeframe ids detected: previous= 18757...</td>\n",
       "      <td>724</td>\n",
       "      <td>Gap in timeframe ids &lt;*&gt;</td>\n",
       "      <td>crashed</td>\n",
       "      <td>triggers out synch. disabling ctp readout.</td>\n",
       "      <td>59.0</td>\n",
       "      <td>bad</td>\n",
       "      <td>-1</td>\n",
       "    </tr>\n",
       "  </tbody>\n",
       "</table>\n",
       "<p>5487627 rows × 10 columns</p>\n",
       "</div>"
      ],
      "text/plain": [
       "          session_id severity  \\\n",
       "134071         24064        I   \n",
       "134080         24064        I   \n",
       "134094         24064        I   \n",
       "134098         24064        I   \n",
       "135408         24064        I   \n",
       "...              ...      ...   \n",
       "34856755       24356        W   \n",
       "34856756       24356        W   \n",
       "34856757       24356        W   \n",
       "34856758       24356        W   \n",
       "34856759       24356        W   \n",
       "\n",
       "                                                    content  event_id  \\\n",
       "134071    writing 1 messages to aliecs.before_start_acti...         2   \n",
       "134080    overriding run start time in the GRP object to...       378   \n",
       "134094    writing 1 messages to aliecs.env_leave_state.C...         2   \n",
       "134098                                     starting new run       383   \n",
       "135408                                    Run number 526264       384   \n",
       "...                                                     ...       ...   \n",
       "34856755     Non-contiguous timeframe IDs 187572 ... 187574       723   \n",
       "34856756     Non-contiguous timeframe IDs 187572 ... 187574       723   \n",
       "34856757     Non-contiguous timeframe IDs 187572 ... 187574       723   \n",
       "34856758  Gap in timeframe ids detected: previous= 18757...       724   \n",
       "34856759  Gap in timeframe ids detected: previous= 18757...       724   \n",
       "\n",
       "                                             event_template        label  \\\n",
       "134071           writing <*> messages to <*> (partition:<*>  not crashed   \n",
       "134080    overriding run start time in the GRP object to...  not crashed   \n",
       "134094           writing <*> messages to <*> (partition:<*>  not crashed   \n",
       "134098                                     starting new run  not crashed   \n",
       "135408                                       Run number <*>  not crashed   \n",
       "...                                                     ...          ...   \n",
       "34856755           Non-contiguous timeframe IDs <*> ... <*>      crashed   \n",
       "34856756           Non-contiguous timeframe IDs <*> ... <*>      crashed   \n",
       "34856757           Non-contiguous timeframe IDs <*> ... <*>      crashed   \n",
       "34856758                           Gap in timeframe ids <*>      crashed   \n",
       "34856759                           Gap in timeframe ids <*>      crashed   \n",
       "\n",
       "                                                 EOR  EOR_id run_quality  \\\n",
       "134071                                     eor test.    61.0        test   \n",
       "134080                                     eor test.    61.0        test   \n",
       "134094                                     eor test.    61.0        test   \n",
       "134098                                     eor test.    61.0        test   \n",
       "135408                                     eor test.    61.0        test   \n",
       "...                                              ...     ...         ...   \n",
       "34856755  triggers out synch. disabling ctp readout.    59.0         bad   \n",
       "34856756  triggers out synch. disabling ctp readout.    59.0         bad   \n",
       "34856757  triggers out synch. disabling ctp readout.    59.0         bad   \n",
       "34856758  triggers out synch. disabling ctp readout.    59.0         bad   \n",
       "34856759  triggers out synch. disabling ctp readout.    59.0         bad   \n",
       "\n",
       "          topic  \n",
       "134071      572  \n",
       "134080     1682  \n",
       "134094      464  \n",
       "134098       -1  \n",
       "135408     1635  \n",
       "...         ...  \n",
       "34856755   1882  \n",
       "34856756   1882  \n",
       "34856757   1882  \n",
       "34856758     -1  \n",
       "34856759     -1  \n",
       "\n",
       "[5487627 rows x 10 columns]"
      ]
     },
     "execution_count": 53,
     "metadata": {},
     "output_type": "execute_result"
    }
   ],
   "source": [
    "topic_model.get_topic(df=df)"
   ]
  },
  {
   "cell_type": "code",
   "execution_count": 8,
   "metadata": {},
   "outputs": [
    {
     "data": {
      "application/vnd.plotly.v1+json": {
       "config": {
        "plotlyServerURL": "https://plot.ly"
       },
       "data": [
        {
         "hoverinfo": "text",
         "hovertext": [
          "<b>Topic 0</b><br>Words: sending quality, objects sending, quality objects, sending, objects",
          "<b>Topic 0</b><br>Words: sending quality, objects sending, quality objects, sending, objects"
         ],
         "marker": {
          "color": "#E69F00"
         },
         "name": "0_sending quality_objects sending_qualit...",
         "orientation": "h",
         "type": "bar",
         "visible": true,
         "x": [
          2591,
          135414
         ],
         "y": [
          "crashed",
          "not crashed"
         ]
        },
        {
         "hoverinfo": "text",
         "hovertext": [
          "<b>Topic 1</b><br>Words: startofcycle startofcycle, startofcycle, startofcycle configure, cycledurationntf startofcycle, used 90035181",
          "<b>Topic 1</b><br>Words: startofcycle startofcycle, startofcycle, startofcycle equipment, 279136 startofcycle, startofcycle bank"
         ],
         "marker": {
          "color": "#56B4E9"
         },
         "name": "1_startofcycle startofcycle_startofcycle...",
         "orientation": "h",
         "type": "bar",
         "visible": "legendonly",
         "x": [
          2608,
          106554
         ],
         "y": [
          "crashed",
          "not crashed"
         ]
        },
        {
         "hoverinfo": "text",
         "hovertext": [
          "<b>Topic 2</b><br>Words: storing qualityobjects, qualityobjects storing, qualityobjects, storing, qualityobjects teardown",
          "<b>Topic 2</b><br>Words: storing qualityobjects, qualityobjects storing, qualityobjects, storing, qualityobjects task"
         ],
         "marker": {
          "color": "#009E73"
         },
         "name": "2_storing qualityobjects_qualityobjects ...",
         "orientation": "h",
         "type": "bar",
         "visible": "legendonly",
         "x": [
          1415,
          99473
         ],
         "y": [
          "crashed",
          "not crashed"
         ]
        },
        {
         "hoverinfo": "text",
         "hovertext": [
          "<b>Topic 3</b><br>Words: endofcycle endofcycle, endofcycle, endofcycle received, 2arpa4s12ju task, 2arpa4s12ju",
          "<b>Topic 3</b><br>Words: endofcycle endofcycle, endofcycle, 1664473857380, timestamp 1664473857380, 1664473857380 updating"
         ],
         "marker": {
          "color": "#F0E442"
         },
         "name": "3_endofcycle endofcycle_endofcycle_16644...",
         "orientation": "h",
         "type": "bar",
         "visible": "legendonly",
         "x": [
          2522,
          105594
         ],
         "y": [
          "crashed",
          "not crashed"
         ]
        },
        {
         "hoverinfo": "text",
         "hovertext": [
          "<b>Topic 4</b><br>Words: check rawbunchminamplitude, rawbunchminamplitude quality, rawbunchminamplitude, quality good, good level",
          "<b>Topic 4</b><br>Words: check rawbunchminamplitude, rawbunchminamplitude quality, rawbunchminamplitude, good level, quality good"
         ],
         "marker": {
          "color": "#D55E00"
         },
         "name": "4_check rawbunchminamplitude_rawbunchmin...",
         "orientation": "h",
         "type": "bar",
         "visible": "legendonly",
         "x": [
          1539,
          78715
         ],
         "y": [
          "crashed",
          "not crashed"
         ]
        },
        {
         "hoverinfo": "text",
         "hovertext": [
          "<b>Topic 5</b><br>Words: updating the, triggertype timestamp, task due, trigger triggertype, triggertype",
          "<b>Topic 5</b><br>Words: updating the, triggertype timestamp, trigger triggertype, triggertype, to trigger"
         ],
         "marker": {
          "color": "#0072B2"
         },
         "name": "5_updating the_triggertype timestamp_tri...",
         "orientation": "h",
         "type": "bar",
         "visible": "legendonly",
         "x": [
          1564,
          62006
         ],
         "y": [
          "crashed",
          "not crashed"
         ]
        },
        {
         "hoverinfo": "text",
         "hovertext": [
          "<b>Topic 177</b><br>Words: dma for, roc starting, starting dma, dma, roc stopping",
          "<b>Topic 177</b><br>Words: dma for, starting dma, roc starting, dma, stopping dma"
         ],
         "marker": {
          "color": "#CC79A7"
         },
         "name": "177_dma for_roc starting_starting dma_dm...",
         "orientation": "h",
         "type": "bar",
         "visible": "legendonly",
         "x": [
          31066,
          34587
         ],
         "y": [
          "crashed",
          "not crashed"
         ]
        },
        {
         "hoverinfo": "text",
         "hovertext": [
          "<b>Topic 1882</b><br>Words: contiguous, non contiguous, contiguous timeframe, non, timeframe ids",
          "<b>Topic 1882</b><br>Words: non contiguous, contiguous timeframe, contiguous, non, ids"
         ],
         "marker": {
          "color": "#E69F00"
         },
         "name": "1882_non contiguous_contiguous timeframe...",
         "orientation": "h",
         "type": "bar",
         "visible": "legendonly",
         "x": [
          2675,
          53704
         ],
         "y": [
          "crashed",
          "not crashed"
         ]
        },
        {
         "hoverinfo": "text",
         "hovertext": [
          "<b>Topic 1910</b><br>Words: in nohgperddl, nohgperddl found, nohgperddl, in fec, fec",
          "<b>Topic 1910</b><br>Words: nohgperddl found, in nohgperddl, nohgperddl, of ddl, in fec"
         ],
         "marker": {
          "color": "#56B4E9"
         },
         "name": "1910_nohgperddl found_in nohgperddl_nohg...",
         "orientation": "h",
         "type": "bar",
         "visible": "legendonly",
         "x": [
          1276,
          43127
         ],
         "y": [
          "crashed",
          "not crashed"
         ]
        },
        {
         "hoverinfo": "text",
         "hovertext": [
          "<b>Topic 1923</b><br>Words: col, row, sm, in channel, channel col",
          "<b>Topic 1923</b><br>Words: row, col, channel col, in channel, sm"
         ],
         "marker": {
          "color": "#009E73"
         },
         "name": "1923_row_col_in channel_channel col",
         "orientation": "h",
         "type": "bar",
         "visible": "legendonly",
         "x": [
          2708,
          76209
         ],
         "y": [
          "crashed",
          "not crashed"
         ]
        }
       ],
       "layout": {
        "height": 900,
        "hoverlabel": {
         "bgcolor": "white",
         "font": {
          "family": "Rockwell",
          "size": 16
         }
        },
        "legend": {
         "title": {
          "text": "<b>Global Topic Representation"
         }
        },
        "template": {
         "data": {
          "bar": [
           {
            "error_x": {
             "color": "rgb(36,36,36)"
            },
            "error_y": {
             "color": "rgb(36,36,36)"
            },
            "marker": {
             "line": {
              "color": "white",
              "width": 0.5
             },
             "pattern": {
              "fillmode": "overlay",
              "size": 10,
              "solidity": 0.2
             }
            },
            "type": "bar"
           }
          ],
          "barpolar": [
           {
            "marker": {
             "line": {
              "color": "white",
              "width": 0.5
             },
             "pattern": {
              "fillmode": "overlay",
              "size": 10,
              "solidity": 0.2
             }
            },
            "type": "barpolar"
           }
          ],
          "carpet": [
           {
            "aaxis": {
             "endlinecolor": "rgb(36,36,36)",
             "gridcolor": "white",
             "linecolor": "white",
             "minorgridcolor": "white",
             "startlinecolor": "rgb(36,36,36)"
            },
            "baxis": {
             "endlinecolor": "rgb(36,36,36)",
             "gridcolor": "white",
             "linecolor": "white",
             "minorgridcolor": "white",
             "startlinecolor": "rgb(36,36,36)"
            },
            "type": "carpet"
           }
          ],
          "choropleth": [
           {
            "colorbar": {
             "outlinewidth": 1,
             "tickcolor": "rgb(36,36,36)",
             "ticks": "outside"
            },
            "type": "choropleth"
           }
          ],
          "contour": [
           {
            "colorbar": {
             "outlinewidth": 1,
             "tickcolor": "rgb(36,36,36)",
             "ticks": "outside"
            },
            "colorscale": [
             [
              0,
              "#440154"
             ],
             [
              0.1111111111111111,
              "#482878"
             ],
             [
              0.2222222222222222,
              "#3e4989"
             ],
             [
              0.3333333333333333,
              "#31688e"
             ],
             [
              0.4444444444444444,
              "#26828e"
             ],
             [
              0.5555555555555556,
              "#1f9e89"
             ],
             [
              0.6666666666666666,
              "#35b779"
             ],
             [
              0.7777777777777778,
              "#6ece58"
             ],
             [
              0.8888888888888888,
              "#b5de2b"
             ],
             [
              1,
              "#fde725"
             ]
            ],
            "type": "contour"
           }
          ],
          "contourcarpet": [
           {
            "colorbar": {
             "outlinewidth": 1,
             "tickcolor": "rgb(36,36,36)",
             "ticks": "outside"
            },
            "type": "contourcarpet"
           }
          ],
          "heatmap": [
           {
            "colorbar": {
             "outlinewidth": 1,
             "tickcolor": "rgb(36,36,36)",
             "ticks": "outside"
            },
            "colorscale": [
             [
              0,
              "#440154"
             ],
             [
              0.1111111111111111,
              "#482878"
             ],
             [
              0.2222222222222222,
              "#3e4989"
             ],
             [
              0.3333333333333333,
              "#31688e"
             ],
             [
              0.4444444444444444,
              "#26828e"
             ],
             [
              0.5555555555555556,
              "#1f9e89"
             ],
             [
              0.6666666666666666,
              "#35b779"
             ],
             [
              0.7777777777777778,
              "#6ece58"
             ],
             [
              0.8888888888888888,
              "#b5de2b"
             ],
             [
              1,
              "#fde725"
             ]
            ],
            "type": "heatmap"
           }
          ],
          "heatmapgl": [
           {
            "colorbar": {
             "outlinewidth": 1,
             "tickcolor": "rgb(36,36,36)",
             "ticks": "outside"
            },
            "colorscale": [
             [
              0,
              "#440154"
             ],
             [
              0.1111111111111111,
              "#482878"
             ],
             [
              0.2222222222222222,
              "#3e4989"
             ],
             [
              0.3333333333333333,
              "#31688e"
             ],
             [
              0.4444444444444444,
              "#26828e"
             ],
             [
              0.5555555555555556,
              "#1f9e89"
             ],
             [
              0.6666666666666666,
              "#35b779"
             ],
             [
              0.7777777777777778,
              "#6ece58"
             ],
             [
              0.8888888888888888,
              "#b5de2b"
             ],
             [
              1,
              "#fde725"
             ]
            ],
            "type": "heatmapgl"
           }
          ],
          "histogram": [
           {
            "marker": {
             "line": {
              "color": "white",
              "width": 0.6
             }
            },
            "type": "histogram"
           }
          ],
          "histogram2d": [
           {
            "colorbar": {
             "outlinewidth": 1,
             "tickcolor": "rgb(36,36,36)",
             "ticks": "outside"
            },
            "colorscale": [
             [
              0,
              "#440154"
             ],
             [
              0.1111111111111111,
              "#482878"
             ],
             [
              0.2222222222222222,
              "#3e4989"
             ],
             [
              0.3333333333333333,
              "#31688e"
             ],
             [
              0.4444444444444444,
              "#26828e"
             ],
             [
              0.5555555555555556,
              "#1f9e89"
             ],
             [
              0.6666666666666666,
              "#35b779"
             ],
             [
              0.7777777777777778,
              "#6ece58"
             ],
             [
              0.8888888888888888,
              "#b5de2b"
             ],
             [
              1,
              "#fde725"
             ]
            ],
            "type": "histogram2d"
           }
          ],
          "histogram2dcontour": [
           {
            "colorbar": {
             "outlinewidth": 1,
             "tickcolor": "rgb(36,36,36)",
             "ticks": "outside"
            },
            "colorscale": [
             [
              0,
              "#440154"
             ],
             [
              0.1111111111111111,
              "#482878"
             ],
             [
              0.2222222222222222,
              "#3e4989"
             ],
             [
              0.3333333333333333,
              "#31688e"
             ],
             [
              0.4444444444444444,
              "#26828e"
             ],
             [
              0.5555555555555556,
              "#1f9e89"
             ],
             [
              0.6666666666666666,
              "#35b779"
             ],
             [
              0.7777777777777778,
              "#6ece58"
             ],
             [
              0.8888888888888888,
              "#b5de2b"
             ],
             [
              1,
              "#fde725"
             ]
            ],
            "type": "histogram2dcontour"
           }
          ],
          "mesh3d": [
           {
            "colorbar": {
             "outlinewidth": 1,
             "tickcolor": "rgb(36,36,36)",
             "ticks": "outside"
            },
            "type": "mesh3d"
           }
          ],
          "parcoords": [
           {
            "line": {
             "colorbar": {
              "outlinewidth": 1,
              "tickcolor": "rgb(36,36,36)",
              "ticks": "outside"
             }
            },
            "type": "parcoords"
           }
          ],
          "pie": [
           {
            "automargin": true,
            "type": "pie"
           }
          ],
          "scatter": [
           {
            "fillpattern": {
             "fillmode": "overlay",
             "size": 10,
             "solidity": 0.2
            },
            "type": "scatter"
           }
          ],
          "scatter3d": [
           {
            "line": {
             "colorbar": {
              "outlinewidth": 1,
              "tickcolor": "rgb(36,36,36)",
              "ticks": "outside"
             }
            },
            "marker": {
             "colorbar": {
              "outlinewidth": 1,
              "tickcolor": "rgb(36,36,36)",
              "ticks": "outside"
             }
            },
            "type": "scatter3d"
           }
          ],
          "scattercarpet": [
           {
            "marker": {
             "colorbar": {
              "outlinewidth": 1,
              "tickcolor": "rgb(36,36,36)",
              "ticks": "outside"
             }
            },
            "type": "scattercarpet"
           }
          ],
          "scattergeo": [
           {
            "marker": {
             "colorbar": {
              "outlinewidth": 1,
              "tickcolor": "rgb(36,36,36)",
              "ticks": "outside"
             }
            },
            "type": "scattergeo"
           }
          ],
          "scattergl": [
           {
            "marker": {
             "colorbar": {
              "outlinewidth": 1,
              "tickcolor": "rgb(36,36,36)",
              "ticks": "outside"
             }
            },
            "type": "scattergl"
           }
          ],
          "scattermapbox": [
           {
            "marker": {
             "colorbar": {
              "outlinewidth": 1,
              "tickcolor": "rgb(36,36,36)",
              "ticks": "outside"
             }
            },
            "type": "scattermapbox"
           }
          ],
          "scatterpolar": [
           {
            "marker": {
             "colorbar": {
              "outlinewidth": 1,
              "tickcolor": "rgb(36,36,36)",
              "ticks": "outside"
             }
            },
            "type": "scatterpolar"
           }
          ],
          "scatterpolargl": [
           {
            "marker": {
             "colorbar": {
              "outlinewidth": 1,
              "tickcolor": "rgb(36,36,36)",
              "ticks": "outside"
             }
            },
            "type": "scatterpolargl"
           }
          ],
          "scatterternary": [
           {
            "marker": {
             "colorbar": {
              "outlinewidth": 1,
              "tickcolor": "rgb(36,36,36)",
              "ticks": "outside"
             }
            },
            "type": "scatterternary"
           }
          ],
          "surface": [
           {
            "colorbar": {
             "outlinewidth": 1,
             "tickcolor": "rgb(36,36,36)",
             "ticks": "outside"
            },
            "colorscale": [
             [
              0,
              "#440154"
             ],
             [
              0.1111111111111111,
              "#482878"
             ],
             [
              0.2222222222222222,
              "#3e4989"
             ],
             [
              0.3333333333333333,
              "#31688e"
             ],
             [
              0.4444444444444444,
              "#26828e"
             ],
             [
              0.5555555555555556,
              "#1f9e89"
             ],
             [
              0.6666666666666666,
              "#35b779"
             ],
             [
              0.7777777777777778,
              "#6ece58"
             ],
             [
              0.8888888888888888,
              "#b5de2b"
             ],
             [
              1,
              "#fde725"
             ]
            ],
            "type": "surface"
           }
          ],
          "table": [
           {
            "cells": {
             "fill": {
              "color": "rgb(237,237,237)"
             },
             "line": {
              "color": "white"
             }
            },
            "header": {
             "fill": {
              "color": "rgb(217,217,217)"
             },
             "line": {
              "color": "white"
             }
            },
            "type": "table"
           }
          ]
         },
         "layout": {
          "annotationdefaults": {
           "arrowhead": 0,
           "arrowwidth": 1
          },
          "autotypenumbers": "strict",
          "coloraxis": {
           "colorbar": {
            "outlinewidth": 1,
            "tickcolor": "rgb(36,36,36)",
            "ticks": "outside"
           }
          },
          "colorscale": {
           "diverging": [
            [
             0,
             "rgb(103,0,31)"
            ],
            [
             0.1,
             "rgb(178,24,43)"
            ],
            [
             0.2,
             "rgb(214,96,77)"
            ],
            [
             0.3,
             "rgb(244,165,130)"
            ],
            [
             0.4,
             "rgb(253,219,199)"
            ],
            [
             0.5,
             "rgb(247,247,247)"
            ],
            [
             0.6,
             "rgb(209,229,240)"
            ],
            [
             0.7,
             "rgb(146,197,222)"
            ],
            [
             0.8,
             "rgb(67,147,195)"
            ],
            [
             0.9,
             "rgb(33,102,172)"
            ],
            [
             1,
             "rgb(5,48,97)"
            ]
           ],
           "sequential": [
            [
             0,
             "#440154"
            ],
            [
             0.1111111111111111,
             "#482878"
            ],
            [
             0.2222222222222222,
             "#3e4989"
            ],
            [
             0.3333333333333333,
             "#31688e"
            ],
            [
             0.4444444444444444,
             "#26828e"
            ],
            [
             0.5555555555555556,
             "#1f9e89"
            ],
            [
             0.6666666666666666,
             "#35b779"
            ],
            [
             0.7777777777777778,
             "#6ece58"
            ],
            [
             0.8888888888888888,
             "#b5de2b"
            ],
            [
             1,
             "#fde725"
            ]
           ],
           "sequentialminus": [
            [
             0,
             "#440154"
            ],
            [
             0.1111111111111111,
             "#482878"
            ],
            [
             0.2222222222222222,
             "#3e4989"
            ],
            [
             0.3333333333333333,
             "#31688e"
            ],
            [
             0.4444444444444444,
             "#26828e"
            ],
            [
             0.5555555555555556,
             "#1f9e89"
            ],
            [
             0.6666666666666666,
             "#35b779"
            ],
            [
             0.7777777777777778,
             "#6ece58"
            ],
            [
             0.8888888888888888,
             "#b5de2b"
            ],
            [
             1,
             "#fde725"
            ]
           ]
          },
          "colorway": [
           "#1F77B4",
           "#FF7F0E",
           "#2CA02C",
           "#D62728",
           "#9467BD",
           "#8C564B",
           "#E377C2",
           "#7F7F7F",
           "#BCBD22",
           "#17BECF"
          ],
          "font": {
           "color": "rgb(36,36,36)"
          },
          "geo": {
           "bgcolor": "white",
           "lakecolor": "white",
           "landcolor": "white",
           "showlakes": true,
           "showland": true,
           "subunitcolor": "white"
          },
          "hoverlabel": {
           "align": "left"
          },
          "hovermode": "closest",
          "mapbox": {
           "style": "light"
          },
          "paper_bgcolor": "white",
          "plot_bgcolor": "white",
          "polar": {
           "angularaxis": {
            "gridcolor": "rgb(232,232,232)",
            "linecolor": "rgb(36,36,36)",
            "showgrid": false,
            "showline": true,
            "ticks": "outside"
           },
           "bgcolor": "white",
           "radialaxis": {
            "gridcolor": "rgb(232,232,232)",
            "linecolor": "rgb(36,36,36)",
            "showgrid": false,
            "showline": true,
            "ticks": "outside"
           }
          },
          "scene": {
           "xaxis": {
            "backgroundcolor": "white",
            "gridcolor": "rgb(232,232,232)",
            "gridwidth": 2,
            "linecolor": "rgb(36,36,36)",
            "showbackground": true,
            "showgrid": false,
            "showline": true,
            "ticks": "outside",
            "zeroline": false,
            "zerolinecolor": "rgb(36,36,36)"
           },
           "yaxis": {
            "backgroundcolor": "white",
            "gridcolor": "rgb(232,232,232)",
            "gridwidth": 2,
            "linecolor": "rgb(36,36,36)",
            "showbackground": true,
            "showgrid": false,
            "showline": true,
            "ticks": "outside",
            "zeroline": false,
            "zerolinecolor": "rgb(36,36,36)"
           },
           "zaxis": {
            "backgroundcolor": "white",
            "gridcolor": "rgb(232,232,232)",
            "gridwidth": 2,
            "linecolor": "rgb(36,36,36)",
            "showbackground": true,
            "showgrid": false,
            "showline": true,
            "ticks": "outside",
            "zeroline": false,
            "zerolinecolor": "rgb(36,36,36)"
           }
          },
          "shapedefaults": {
           "fillcolor": "black",
           "line": {
            "width": 0
           },
           "opacity": 0.3
          },
          "ternary": {
           "aaxis": {
            "gridcolor": "rgb(232,232,232)",
            "linecolor": "rgb(36,36,36)",
            "showgrid": false,
            "showline": true,
            "ticks": "outside"
           },
           "baxis": {
            "gridcolor": "rgb(232,232,232)",
            "linecolor": "rgb(36,36,36)",
            "showgrid": false,
            "showline": true,
            "ticks": "outside"
           },
           "bgcolor": "white",
           "caxis": {
            "gridcolor": "rgb(232,232,232)",
            "linecolor": "rgb(36,36,36)",
            "showgrid": false,
            "showline": true,
            "ticks": "outside"
           }
          },
          "title": {
           "x": 0.05
          },
          "xaxis": {
           "automargin": true,
           "gridcolor": "rgb(232,232,232)",
           "linecolor": "rgb(36,36,36)",
           "showgrid": false,
           "showline": true,
           "ticks": "outside",
           "title": {
            "standoff": 15
           },
           "zeroline": false,
           "zerolinecolor": "rgb(36,36,36)"
          },
          "yaxis": {
           "automargin": true,
           "gridcolor": "rgb(232,232,232)",
           "linecolor": "rgb(36,36,36)",
           "showgrid": false,
           "showline": true,
           "ticks": "outside",
           "title": {
            "standoff": 15
           },
           "zeroline": false,
           "zerolinecolor": "rgb(36,36,36)"
          }
         }
        },
        "title": {
         "font": {
          "color": "Black",
          "size": 22
         },
         "text": "<b>Topics per Class</b>",
         "x": 0.4,
         "xanchor": "center",
         "y": 0.95,
         "yanchor": "top"
        },
        "width": 1250,
        "xaxis": {
         "showgrid": true,
         "title": {
          "text": "Frequency"
         }
        },
        "yaxis": {
         "showgrid": true,
         "title": {
          "text": "Class"
         }
        }
       }
      }
     },
     "metadata": {},
     "output_type": "display_data"
    }
   ],
   "source": [
    "topics_per_class = topic_model.model.topics_per_class(df.content.tolist(), df.label.tolist())\n",
    "topic_model.model.visualize_topics_per_class(topics_per_class)"
   ]
  },
  {
   "cell_type": "code",
   "execution_count": 9,
   "metadata": {},
   "outputs": [
    {
     "data": {
      "application/vnd.plotly.v1+json": {
       "config": {
        "plotlyServerURL": "https://plot.ly"
       },
       "data": [
        {
         "hoverinfo": "text",
         "hovertext": [
          "<b>Topic 0</b><br>Words: sending quality, quality objects, sending, objects sending, objects",
          "<b>Topic 0</b><br>Words: sending quality, quality objects, objects sending, sending, objects",
          "<b>Topic 0</b><br>Words: sending quality, objects sending, quality objects, sending, objects",
          "<b>Topic 0</b><br>Words: sending quality, objects sending, quality objects, sending, objects",
          "<b>Topic 0</b><br>Words: sending quality, objects sending, quality objects, sending, objects",
          "<b>Topic 0</b><br>Words: sending quality, objects sending, quality objects, sending, objects",
          "<b>Topic 0</b><br>Words: sending quality, quality objects, objects sending, sending, objects",
          "<b>Topic 0</b><br>Words: sending quality, quality objects, sending, objects, objects sending",
          "<b>Topic 0</b><br>Words: sending quality, quality objects, sending, objects sending, objects",
          "<b>Topic 0</b><br>Words: sending quality, objects sending, quality objects, sending, objects",
          "<b>Topic 0</b><br>Words: sending quality, objects sending, quality objects, sending, objects",
          "<b>Topic 0</b><br>Words: sending quality, objects sending, quality objects, sending, objects",
          "<b>Topic 0</b><br>Words: sending quality, objects sending, quality objects, sending, objects",
          "<b>Topic 0</b><br>Words: sending quality, objects sending, quality objects, sending, objects",
          "<b>Topic 0</b><br>Words: sending quality, objects sending, quality objects, sending, objects",
          "<b>Topic 0</b><br>Words: sending quality, quality objects, sending, objects sending, objects",
          "<b>Topic 0</b><br>Words: sending quality, objects sending, quality objects, sending, objects",
          "<b>Topic 0</b><br>Words: sending quality, objects sending, quality objects, sending, objects",
          "<b>Topic 0</b><br>Words: sending quality, quality objects, sending, objects sending, objects",
          "<b>Topic 0</b><br>Words: sending quality, quality objects, sending, objects sending, objects",
          "<b>Topic 0</b><br>Words: sending quality, objects sending, quality objects, sending, objects",
          "<b>Topic 0</b><br>Words: sending quality, quality objects, objects sending, sending, objects",
          "<b>Topic 0</b><br>Words: sending quality, quality objects, objects sending, sending, objects",
          "<b>Topic 0</b><br>Words: sending quality, objects sending, quality objects, sending, objects",
          "<b>Topic 0</b><br>Words: sending quality, objects sending, quality objects, sending, objects",
          "<b>Topic 0</b><br>Words: sending quality, quality objects, sending, objects sending, objects",
          "<b>Topic 0</b><br>Words: sending quality, quality objects, sending, objects sending, objects",
          "<b>Topic 0</b><br>Words: sending quality, quality objects, sending, objects, objects sending",
          "<b>Topic 0</b><br>Words: sending quality, objects sending, quality objects, sending, objects",
          "<b>Topic 0</b><br>Words: sending quality, quality objects, sending, objects sending, objects",
          "<b>Topic 0</b><br>Words: sending quality, objects sending, quality objects, sending, objects",
          "<b>Topic 0</b><br>Words: sending quality, quality objects, sending, objects sending, objects",
          "<b>Topic 0</b><br>Words: sending quality, quality objects, objects sending, sending, objects",
          "<b>Topic 0</b><br>Words: sending quality, objects sending, quality objects, sending, objects",
          "<b>Topic 0</b><br>Words: sending quality, quality objects, sending, objects, objects sending",
          "<b>Topic 0</b><br>Words: sending quality, objects sending, quality objects, sending, objects",
          "<b>Topic 0</b><br>Words: sending quality, quality objects, objects sending, sending, objects",
          "<b>Topic 0</b><br>Words: sending quality, objects sending, quality objects, sending, objects",
          "<b>Topic 0</b><br>Words: sending quality, objects sending, quality objects, sending, objects",
          "<b>Topic 0</b><br>Words: sending quality, objects sending, quality objects, sending, objects",
          "<b>Topic 0</b><br>Words: sending quality, objects sending, quality objects, sending, objects",
          "<b>Topic 0</b><br>Words: sending quality, quality objects, objects sending, sending, objects",
          "<b>Topic 0</b><br>Words: sending quality, objects sending, quality objects, sending, objects",
          "<b>Topic 0</b><br>Words: sending quality, quality objects, sending, objects sending, objects",
          "<b>Topic 0</b><br>Words: sending quality, objects sending, quality objects, sending, objects",
          "<b>Topic 0</b><br>Words: sending quality, objects sending, quality objects, sending, objects",
          "<b>Topic 0</b><br>Words: sending quality, objects sending, quality objects, sending, objects",
          "<b>Topic 0</b><br>Words: sending quality, objects sending, quality objects, sending, objects",
          "<b>Topic 0</b><br>Words: sending quality, objects sending, quality objects, sending, objects",
          "<b>Topic 0</b><br>Words: sending quality, quality objects, sending, objects sending, objects",
          "<b>Topic 0</b><br>Words: sending quality, objects sending, quality objects, sending, objects",
          "<b>Topic 0</b><br>Words: sending quality, objects sending, quality objects, sending, objects",
          "<b>Topic 0</b><br>Words: sending quality, objects sending, quality objects, sending, objects",
          "<b>Topic 0</b><br>Words: sending quality, objects sending, quality objects, sending, objects",
          "<b>Topic 0</b><br>Words: sending quality, objects sending, quality objects, sending, objects",
          "<b>Topic 0</b><br>Words: sending quality, quality objects, sending, objects sending, objects",
          "<b>Topic 0</b><br>Words: sending quality, objects sending, quality objects, sending, objects",
          "<b>Topic 0</b><br>Words: sending quality, quality objects, sending, objects sending, objects",
          "<b>Topic 0</b><br>Words: sending quality, objects sending, quality objects, sending, objects",
          "<b>Topic 0</b><br>Words: sending quality, quality objects, sending, objects sending, objects",
          "<b>Topic 0</b><br>Words: sending quality, objects sending, quality objects, sending, objects"
         ],
         "marker": {
          "color": "#E69F00"
         },
         "name": "0_sending quality_objects sending_qualit...",
         "orientation": "h",
         "type": "bar",
         "visible": true,
         "x": [
          37,
          120,
          36679,
          13286,
          3988,
          863,
          110,
          1,
          8,
          181,
          495,
          1138,
          2064,
          27055,
          2372,
          63,
          268,
          303,
          15,
          38,
          3638,
          453,
          1329,
          223,
          557,
          16,
          12,
          1,
          584,
          8,
          293,
          10,
          251,
          1081,
          1,
          16011,
          130,
          604,
          763,
          215,
          286,
          132,
          723,
          38,
          492,
          270,
          775,
          4399,
          559,
          40,
          1895,
          1026,
          6863,
          228,
          191,
          60,
          3028,
          37,
          892,
          3,
          804
         ],
         "y": [
          " end calibration",
          "prepare for injection",
          "start tests the day.",
          "preparation for tpc scan",
          "mid expert request.",
          "problem on alio2-cr1-flp080, backpressure. possible cause: from_readout-proxy_to_tpc-idc-to-vector.",
          "phos/cpv",
          "sor failed for mch",
          "dcs sor failed (no sor_progressing).",
          "end test",
          "tpc scan ",
          "pdp expert request,",
          "exclude emc.",
          "prepare for cosmics",
          "sl request to include mid",
          "exclude fv0.",
          "all epns crashed simultaneously",
          "mch-qcmn-epn-full-track-matching crashed.",
          "normal eor after 5 minutes.",
          "ali-ecs core restarted",
          "stopping to include trd",
          "end calibration",
          "preparing for physics",
          "trigger readout went to zero.",
          "all epns crashed simultaneously with primary vertex error.",
          "mch",
          "need to restart trigger.",
          "started by mistake",
          "epn went flat",
          "tpc not ready at sor",
          "expert request cpv",
          "emcal",
          " jit-4e1deca4ebdf11d52f3ee4f99c0c46f78222361d-mch-qctaskmchdigits-proxy",
          "change luminosity",
          "cpv recover hv trip.",
          "lhc dumped beam dump",
          "operator error: run restarted the same partition.",
          "changed predefined physics configuration",
          "adjust handshake",
          "all epns crashed simultaneously.",
          "change predefined configuration.",
          "rm asks to stop the run",
          "release ecs lock for mch",
          "triggers out synch. disabling ctp readout.",
          "tpc expert request.",
          "preparation for calibration.",
          "include maximum number epns (211)",
          "change lumi to 1mhz",
          "issues known; expert informed",
          "calibration ended automatically",
          "change config for mft",
          "eor test.",
          "beam dump",
          "dpl errors on ali02-cr1-flp080 -  tpc flp (run stopped by the operator).",
          "tpc need to disable re-sync.",
          "request from tpc expert.",
          "change trigger rate to 500 khz",
          "include tpc.",
          "texpert request",
          "end the calibration",
          "revert readout configuration to see if it helps with errors from tpc (flp080) and its."
         ]
        },
        {
         "hoverinfo": "text",
         "hovertext": [
          "<b>Topic 1</b><br>Words: startofcycle, startofcycle startofcycle, startofcycle equipment, 90035181, cycledurationntf startofcycle",
          "<b>Topic 1</b><br>Words: startofcycle, startofcycle startofcycle, startofcycle equipment, 90035181, cycledurationntf startofcycle",
          "<b>Topic 1</b><br>Words: startofcycle startofcycle, startofcycle, startofcycle equipment, 90035181, cycledurationntf startofcycle",
          "<b>Topic 1</b><br>Words: startofcycle startofcycle, startofcycle, startofcycle equipment, 90035181, cycledurationntf startofcycle",
          "<b>Topic 1</b><br>Words: startofcycle startofcycle, startofcycle, startofcycle equipment, 90035181, cycledurationntf startofcycle",
          "<b>Topic 1</b><br>Words: startofcycle, startofcycle startofcycle, startofcycle sending, objects startofcycle, sending quality",
          "<b>Topic 1</b><br>Words: startofcycle startofcycle, startofcycle, 74324, new 74324, previous 74322",
          "<b>Topic 1</b><br>Words: startofcycle, startofcycle startofcycle, startofcycle equipment, 90035181, cycledurationntf startofcycle",
          "<b>Topic 1</b><br>Words: startofcycle, startofcycle startofcycle, startofcycle equipment, 90035181, cycledurationntf startofcycle",
          "<b>Topic 1</b><br>Words: startofcycle startofcycle, startofcycle, startofcycle equipment, 90035181, cycledurationntf startofcycle",
          "<b>Topic 1</b><br>Words: startofcycle startofcycle, startofcycle, startofcycle equipment, 90035181, cycledurationntf startofcycle",
          "<b>Topic 1</b><br>Words: startofcycle startofcycle, startofcycle, startofcycle equipment, 90035181, cycledurationntf startofcycle",
          "<b>Topic 1</b><br>Words: startofcycle startofcycle, startofcycle, startofcycle equipment, 90035181, cycledurationntf startofcycle",
          "<b>Topic 1</b><br>Words: startofcycle, startofcycle startofcycle, startofcycle equipment, 90035181, cycledurationntf startofcycle",
          "<b>Topic 1</b><br>Words: startofcycle, startofcycle startofcycle, startofcycle equipment, 90035181, cycledurationntf startofcycle",
          "<b>Topic 1</b><br>Words: startofcycle, startofcycle startofcycle, startofcycle equipment, 90035181, cycledurationntf startofcycle",
          "<b>Topic 1</b><br>Words: startofcycle, startofcycle startofcycle, startofcycle equipment, 90035181, cycledurationntf startofcycle",
          "<b>Topic 1</b><br>Words: startofcycle startofcycle, startofcycle, startofcycle equipment, 90035181, cycledurationntf startofcycle",
          "<b>Topic 1</b><br>Words: startofcycle, startofcycle startofcycle, used 90035181, 6783 startofcycle, 90035181 average",
          "<b>Topic 1</b><br>Words: startofcycle startofcycle, startofcycle, startofcycle equipment, 90035181, cycledurationntf startofcycle",
          "<b>Topic 1</b><br>Words: startofcycle, startofcycle startofcycle, startofcycle equipment, 90035181, cycledurationntf startofcycle",
          "<b>Topic 1</b><br>Words: startofcycle, startofcycle startofcycle, startofcycle equipment, 90035181, cycledurationntf startofcycle",
          "<b>Topic 1</b><br>Words: startofcycle, startofcycle startofcycle, startofcycle equipment, 90035181, cycledurationntf startofcycle",
          "<b>Topic 1</b><br>Words: startofcycle, startofcycle startofcycle, startofcycle equipment, 90035181, cycledurationntf startofcycle",
          "<b>Topic 1</b><br>Words: startofcycle, startofcycle startofcycle, startofcycle equipment, 90035181, cycledurationntf startofcycle",
          "<b>Topic 1</b><br>Words: startofcycle, startofcycle startofcycle, startofcycle equipment, 90035181, cycledurationntf startofcycle",
          "<b>Topic 1</b><br>Words: startofcycle, startofcycle startofcycle, startofcycle equipment, 90035181, cycledurationntf startofcycle",
          "<b>Topic 1</b><br>Words: startofcycle startofcycle, startofcycle, startofcycle equipment, 90035181, cycledurationntf startofcycle",
          "<b>Topic 1</b><br>Words: startofcycle startofcycle, startofcycle, startofcycle equipment, 90035181, cycledurationntf startofcycle",
          "<b>Topic 1</b><br>Words: startofcycle, startofcycle startofcycle, startofcycle equipment, 90035181, cycledurationntf startofcycle",
          "<b>Topic 1</b><br>Words: startofcycle, startofcycle startofcycle, startofcycle equipment, 90035181, cycledurationntf startofcycle",
          "<b>Topic 1</b><br>Words: startofcycle startofcycle, startofcycle, startofcycle equipment, 90035181, cycledurationntf startofcycle",
          "<b>Topic 1</b><br>Words: startofcycle, startofcycle startofcycle, startofcycle equipment, 90035181, cycledurationntf startofcycle",
          "<b>Topic 1</b><br>Words: startofcycle, startofcycle startofcycle, startofcycle equipment, 90035181, cycledurationntf startofcycle",
          "<b>Topic 1</b><br>Words: startofcycle, startofcycle startofcycle, startofcycle configure, cycledurationmoname cycledurationntf, cycledurationntf",
          "<b>Topic 1</b><br>Words: startofcycle, startofcycle startofcycle, startofcycle equipment, 90035181, cycledurationntf startofcycle",
          "<b>Topic 1</b><br>Words: startofcycle, startofcycle startofcycle, startofcycle equipment, 90035181, cycledurationntf startofcycle",
          "<b>Topic 1</b><br>Words: startofcycle, startofcycle startofcycle, startofcycle equipment, 90035181, cycledurationntf startofcycle",
          "<b>Topic 1</b><br>Words: startofcycle, startofcycle startofcycle, startofcycle equipment, 90035181, cycledurationntf startofcycle",
          "<b>Topic 1</b><br>Words: startofcycle, startofcycle startofcycle, startofcycle equipment, 90035181, cycledurationntf startofcycle",
          "<b>Topic 1</b><br>Words: startofcycle startofcycle, startofcycle, startofcycle equipment, 90035181, cycledurationntf startofcycle",
          "<b>Topic 1</b><br>Words: startofcycle, startofcycle startofcycle, startofcycle equipment, 90035181, cycledurationntf startofcycle",
          "<b>Topic 1</b><br>Words: startofcycle startofcycle, startofcycle, startofcycle equipment, 90035181, cycledurationntf startofcycle",
          "<b>Topic 1</b><br>Words: startofcycle startofcycle, startofcycle, startofcycle equipment, 90035181, cycledurationntf startofcycle",
          "<b>Topic 1</b><br>Words: startofcycle startofcycle, startofcycle, stfb startofcycle, startofcycle bank, using first",
          "<b>Topic 1</b><br>Words: startofcycle, startofcycle startofcycle, startofcycle equipment, 90035181, cycledurationntf startofcycle",
          "<b>Topic 1</b><br>Words: startofcycle, startofcycle startofcycle, startofcycle equipment, 90035181, cycledurationntf startofcycle",
          "<b>Topic 1</b><br>Words: startofcycle, startofcycle startofcycle, startofcycle equipment, 90035181, cycledurationntf startofcycle",
          "<b>Topic 1</b><br>Words: startofcycle startofcycle, startofcycle, startofcycle equipment, 90035181, cycledurationntf startofcycle",
          "<b>Topic 1</b><br>Words: startofcycle, startofcycle startofcycle, startofcycle equipment, 90035181, cycledurationntf startofcycle",
          "<b>Topic 1</b><br>Words: startofcycle startofcycle, startofcycle, startofcycle equipment, 90035181, cycledurationntf startofcycle",
          "<b>Topic 1</b><br>Words: startofcycle, startofcycle startofcycle, 279136 startofcycle, startofcycle equipment, count 279136",
          "<b>Topic 1</b><br>Words: startofcycle, startofcycle startofcycle, startofcycle equipment, 90035181, cycledurationntf startofcycle"
         ],
         "marker": {
          "color": "#56B4E9"
         },
         "name": "1_startofcycle startofcycle_startofcycle...",
         "orientation": "h",
         "type": "bar",
         "visible": "legendonly",
         "x": [
          7,
          46,
          29762,
          10286,
          3456,
          135,
          1,
          490,
          521,
          1331,
          1792,
          19352,
          2014,
          8,
          122,
          311,
          2,
          2894,
          156,
          1231,
          282,
          552,
          103,
          367,
          242,
          40,
          282,
          1042,
          12401,
          92,
          48,
          730,
          269,
          309,
          30,
          121,
          102,
          521,
          339,
          698,
          3761,
          489,
          1538,
          1011,
          5140,
          253,
          224,
          149,
          2557,
          149,
          791,
          7,
          606
         ],
         "y": [
          " end calibration",
          "prepare for injection",
          "start tests the day.",
          "preparation for tpc scan",
          "mid expert request.",
          "problem on alio2-cr1-flp080, backpressure. possible cause: from_readout-proxy_to_tpc-idc-to-vector.",
          "phos/cpv",
          "end test",
          "tpc scan ",
          "pdp expert request,",
          "exclude emc.",
          "prepare for cosmics",
          "sl request to include mid",
          "exclude fv0.",
          "all epns crashed simultaneously",
          "mch-qcmn-epn-full-track-matching crashed.",
          "normal eor after 5 minutes.",
          "stopping to include trd",
          "end calibration",
          "preparing for physics",
          "trigger readout went to zero.",
          "all epns crashed simultaneously with primary vertex error.",
          "need to restart trigger.",
          "epn went flat",
          "expert request cpv",
          "emcal",
          " jit-4e1deca4ebdf11d52f3ee4f99c0c46f78222361d-mch-qctaskmchdigits-proxy",
          "change luminosity",
          "lhc dumped beam dump",
          "operator error: run restarted the same partition.",
          "changed predefined physics configuration",
          "adjust handshake",
          "all epns crashed simultaneously.",
          "change predefined configuration.",
          "rm asks to stop the run",
          "release ecs lock for mch",
          "triggers out synch. disabling ctp readout.",
          "tpc expert request.",
          "preparation for calibration.",
          "include maximum number epns (211)",
          "change lumi to 1mhz",
          "issues known; expert informed",
          "change config for mft",
          "eor test.",
          "beam dump",
          "dpl errors on ali02-cr1-flp080 -  tpc flp (run stopped by the operator).",
          "tpc need to disable re-sync.",
          "request from tpc expert.",
          "change trigger rate to 500 khz",
          "include tpc.",
          "texpert request",
          "end the calibration",
          "revert readout configuration to see if it helps with errors from tpc (flp080) and its."
         ]
        },
        {
         "hoverinfo": "text",
         "hovertext": [
          "<b>Topic 2</b><br>Words: storing qualityobjects, qualityobjects, qualityobjects storing, storing, qualityobjects task",
          "<b>Topic 2</b><br>Words: storing qualityobjects, qualityobjects storing, qualityobjects, storing, qualityobjects task",
          "<b>Topic 2</b><br>Words: storing qualityobjects, qualityobjects storing, qualityobjects, storing, timestamp 1664427955086",
          "<b>Topic 2</b><br>Words: storing qualityobjects, qualityobjects storing, qualityobjects, storing, 2700079 storing",
          "<b>Topic 2</b><br>Words: storing qualityobjects, qualityobjects storing, qualityobjects, storing, qualityobjects task",
          "<b>Topic 2</b><br>Words: storing qualityobjects, qualityobjects storing, qualityobjects, storing, qualityobjects task",
          "<b>Topic 2</b><br>Words: storing qualityobjects, qualityobjects storing, qualityobjects, storing, qualityobjects missing",
          "<b>Topic 2</b><br>Words: storing qualityobjects, qualityobjects, storing, qualityobjects storing, qualityobjects task",
          "<b>Topic 2</b><br>Words: storing qualityobjects, qualityobjects, qualityobjects storing, storing, qualityobjects task",
          "<b>Topic 2</b><br>Words: storing qualityobjects, qualityobjects storing, qualityobjects, storing, qualityobjects task",
          "<b>Topic 2</b><br>Words: storing qualityobjects, qualityobjects storing, qualityobjects, storing, qualityobjects task",
          "<b>Topic 2</b><br>Words: libo2qualitycontrol, library libo2qualitycontrol, storing qualityobjects, qualityobjects storing, qualityobjects",
          "<b>Topic 2</b><br>Words: storing qualityobjects, qualityobjects storing, qualityobjects, storing, qualityobjects task",
          "<b>Topic 2</b><br>Words: storing qualityobjects, qualityobjects storing, qualityobjects, storing, qualityobjects saving",
          "<b>Topic 2</b><br>Words: storing qualityobjects, qualityobjects storing, qualityobjects, storing, qualityobjects task",
          "<b>Topic 2</b><br>Words: storing qualityobjects, qualityobjects, qualityobjects storing, storing, qualityobjects task",
          "<b>Topic 2</b><br>Words: storing qualityobjects, qualityobjects storing, qualityobjects, storing, qualityobjects task",
          "<b>Topic 2</b><br>Words: storing qualityobjects, qualityobjects storing, qualityobjects, storing, 54880 storing",
          "<b>Topic 2</b><br>Words: storing qualityobjects, qualityobjects, qualityobjects storing, storing, qualityobjects task",
          "<b>Topic 2</b><br>Words: storing qualityobjects, qualityobjects, qualityobjects storing, storing, processed 2632834",
          "<b>Topic 2</b><br>Words: storing qualityobjects, qualityobjects storing, qualityobjects, storing, qualityobjects task",
          "<b>Topic 2</b><br>Words: storing qualityobjects, qualityobjects storing, qualityobjects, storing, qualityobjects task",
          "<b>Topic 2</b><br>Words: storing qualityobjects, qualityobjects storing, qualityobjects, storing, qualityobjects task",
          "<b>Topic 2</b><br>Words: storing qualityobjects, qualityobjects, qualityobjects storing, storing, qualityobjects task",
          "<b>Topic 2</b><br>Words: storing qualityobjects, qualityobjects storing, qualityobjects, storing, qualityobjects task",
          "<b>Topic 2</b><br>Words: storing qualityobjects, qualityobjects, qualityobjects storing, storing, qualityobjects task",
          "<b>Topic 2</b><br>Words: storing qualityobjects, qualityobjects, qualityobjects storing, storing, qualityobjects task",
          "<b>Topic 2</b><br>Words: storing qualityobjects, qualityobjects, qualityobjects storing, storing, qualityobjects task",
          "<b>Topic 2</b><br>Words: storing qualityobjects, qualityobjects storing, qualityobjects, storing, qualityobjects task",
          "<b>Topic 2</b><br>Words: storing qualityobjects, qualityobjects, qualityobjects storing, storing, qualityobjects task",
          "<b>Topic 2</b><br>Words: storing qualityobjects, qualityobjects storing, qualityobjects, storing, qualityobjects task",
          "<b>Topic 2</b><br>Words: storing qualityobjects, qualityobjects storing, qualityobjects, storing, qualityobjects task",
          "<b>Topic 2</b><br>Words: storing qualityobjects, qualityobjects, storing, qualityobjects storing, qualityobjects task",
          "<b>Topic 2</b><br>Words: storing qualityobjects, qualityobjects storing, qualityobjects, storing, qualityobjects task",
          "<b>Topic 2</b><br>Words: storing qualityobjects, qualityobjects storing, qualityobjects, storing, qualityobjects task",
          "<b>Topic 2</b><br>Words: storing qualityobjects, qualityobjects storing, qualityobjects, storing, qualityobjects task",
          "<b>Topic 2</b><br>Words: storing qualityobjects, qualityobjects storing, qualityobjects, storing, qualityobjects task",
          "<b>Topic 2</b><br>Words: storing qualityobjects, qualityobjects storing, qualityobjects, storing, qualityobjects task",
          "<b>Topic 2</b><br>Words: storing qualityobjects, qualityobjects storing, qualityobjects, storing, qualityobjects task",
          "<b>Topic 2</b><br>Words: storing qualityobjects, qualityobjects, qualityobjects storing, storing, 2atafpnhog5 storing",
          "<b>Topic 2</b><br>Words: storing qualityobjects, qualityobjects storing, qualityobjects, storing, qualityobjects task",
          "<b>Topic 2</b><br>Words: storing qualityobjects, qualityobjects, qualityobjects storing, storing, qualityobjects task",
          "<b>Topic 2</b><br>Words: storing qualityobjects, qualityobjects storing, qualityobjects, storing, qualityobjects task",
          "<b>Topic 2</b><br>Words: storing qualityobjects, qualityobjects storing, qualityobjects, storing, qualityobjects task",
          "<b>Topic 2</b><br>Words: storing qualityobjects, qualityobjects, qualityobjects storing, storing, qualityobjects task",
          "<b>Topic 2</b><br>Words: storing qualityobjects, qualityobjects storing, qualityobjects, storing, qualityobjects task",
          "<b>Topic 2</b><br>Words: storing qualityobjects, qualityobjects storing, qualityobjects, storing, qualityobjects task",
          "<b>Topic 2</b><br>Words: storing qualityobjects, qualityobjects, qualityobjects storing, storing, qualityobjects task",
          "<b>Topic 2</b><br>Words: storing qualityobjects, qualityobjects storing, qualityobjects, storing, qualityobjects task",
          "<b>Topic 2</b><br>Words: storing qualityobjects, qualityobjects storing, qualityobjects, storing, qualityobjects task",
          "<b>Topic 2</b><br>Words: storing qualityobjects, qualityobjects storing, qualityobjects, storing, 2aqu4hprkjb storing",
          "<b>Topic 2</b><br>Words: storing qualityobjects, qualityobjects storing, qualityobjects, storing, qualityobjects task",
          "<b>Topic 2</b><br>Words: storing qualityobjects, qualityobjects storing, qualityobjects, storing, qualityobjects task",
          "<b>Topic 2</b><br>Words: storing qualityobjects, qualityobjects, qualityobjects storing, storing, qualityobjects task",
          "<b>Topic 2</b><br>Words: storing qualityobjects, qualityobjects storing, qualityobjects, storing, qualityobjects task",
          "<b>Topic 2</b><br>Words: storing qualityobjects, qualityobjects, qualityobjects storing, storing, qualityobjects task",
          "<b>Topic 2</b><br>Words: storing qualityobjects, qualityobjects, qualityobjects storing, storing, qualityobjects task",
          "<b>Topic 2</b><br>Words: storing qualityobjects, qualityobjects, qualityobjects storing, storing, qualityobjects task",
          "<b>Topic 2</b><br>Words: storing qualityobjects, qualityobjects storing, qualityobjects, storing, qualityobjects task"
         ],
         "marker": {
          "color": "#009E73"
         },
         "name": "2_storing qualityobjects_qualityobjects ...",
         "orientation": "h",
         "type": "bar",
         "visible": "legendonly",
         "x": [
          3,
          120,
          21608,
          9484,
          3155,
          863,
          103,
          1,
          8,
          497,
          1140,
          1,
          1492,
          24466,
          2337,
          63,
          268,
          284,
          11,
          39,
          3618,
          266,
          499,
          68,
          144,
          16,
          12,
          2,
          436,
          10,
          250,
          450,
          1,
          12643,
          130,
          604,
          199,
          218,
          286,
          133,
          721,
          33,
          464,
          270,
          49,
          4403,
          322,
          40,
          1838,
          1003,
          4073,
          228,
          191,
          59,
          939,
          37,
          68,
          3,
          219
         ],
         "y": [
          " end calibration",
          "prepare for injection",
          "start tests the day.",
          "preparation for tpc scan",
          "mid expert request.",
          "problem on alio2-cr1-flp080, backpressure. possible cause: from_readout-proxy_to_tpc-idc-to-vector.",
          "phos/cpv",
          "sor failed for mch",
          "dcs sor failed (no sor_progressing).",
          "tpc scan ",
          "pdp expert request,",
          "calibration failed",
          "exclude emc.",
          "prepare for cosmics",
          "sl request to include mid",
          "exclude fv0.",
          "all epns crashed simultaneously",
          "mch-qcmn-epn-full-track-matching crashed.",
          "normal eor after 5 minutes.",
          "ali-ecs core restarted",
          "stopping to include trd",
          "end calibration",
          "preparing for physics",
          "trigger readout went to zero.",
          "all epns crashed simultaneously with primary vertex error.",
          "mch",
          "need to restart trigger.",
          "started by mistake",
          "epn went flat",
          "emcal",
          " jit-4e1deca4ebdf11d52f3ee4f99c0c46f78222361d-mch-qctaskmchdigits-proxy",
          "change luminosity",
          "cpv recover hv trip.",
          "lhc dumped beam dump",
          "operator error: run restarted the same partition.",
          "changed predefined physics configuration",
          "adjust handshake",
          "all epns crashed simultaneously.",
          "change predefined configuration.",
          "rm asks to stop the run",
          "release ecs lock for mch",
          "triggers out synch. disabling ctp readout.",
          "tpc expert request.",
          "preparation for calibration.",
          "include maximum number epns (211)",
          "change lumi to 1mhz",
          "issues known; expert informed",
          "calibration ended automatically",
          "change config for mft",
          "eor test.",
          "beam dump",
          "dpl errors on ali02-cr1-flp080 -  tpc flp (run stopped by the operator).",
          "tpc need to disable re-sync.",
          "request from tpc expert.",
          "change trigger rate to 500 khz",
          "include tpc.",
          "texpert request",
          "end the calibration",
          "revert readout configuration to see if it helps with errors from tpc (flp080) and its."
         ]
        },
        {
         "hoverinfo": "text",
         "hovertext": [
          "<b>Topic 3</b><br>Words: endofcycle, endofcycle endofcycle, timestamp 1664473857380, 1664473857380, 1664473857380 updating",
          "<b>Topic 3</b><br>Words: endofcycle, endofcycle endofcycle, timestamp 1664473857380, 1664473857380, 1664473857380 updating",
          "<b>Topic 3</b><br>Words: endofcycle endofcycle, endofcycle, timestamp 1664473857380, 1664473857380, endofcycle updating",
          "<b>Topic 3</b><br>Words: endofcycle endofcycle, endofcycle, 1188 163020141, 163020141 on, endofcycle new",
          "<b>Topic 3</b><br>Words: endofcycle endofcycle, endofcycle, timestamp 1664473857380, 1664473857380, 1664473857380 updating",
          "<b>Topic 3</b><br>Words: endofcycle, endofcycle endofcycle, timestamp 1664473857380, 1664473857380, 1664473857380 updating",
          "<b>Topic 3</b><br>Words: endofcycle, endofcycle endofcycle, 115 gbytes, endofcycle final, 2assju1dbnh registered",
          "<b>Topic 3</b><br>Words: endofcycle, endofcycle endofcycle, timestamp 1664473857380, 1664473857380, 1664473857380 updating",
          "<b>Topic 3</b><br>Words: endofcycle, endofcycle endofcycle, timestamp 1664473857380, 1664473857380, 1664473857380 updating",
          "<b>Topic 3</b><br>Words: endofcycle, endofcycle endofcycle, timestamp 1664473857380, 1664473857380, 1664473857380 updating",
          "<b>Topic 3</b><br>Words: endofcycle endofcycle, endofcycle, timestamp 1664473857380, 1664473857380, 1664473857380 updating",
          "<b>Topic 3</b><br>Words: endofcycle endofcycle, endofcycle, timestamp 1664473857380, 1664473857380, 1664473857380 updating",
          "<b>Topic 3</b><br>Words: endofcycle endofcycle, endofcycle, timestamp 1664473857380, 1664473857380, 1664473857380 updating",
          "<b>Topic 3</b><br>Words: endofcycle endofcycle, endofcycle, timestamp 1664473857380, 1664473857380, 1664473857380 updating",
          "<b>Topic 3</b><br>Words: endofcycle, endofcycle endofcycle, timestamp 1664473857380, 1664473857380, 1664473857380 updating",
          "<b>Topic 3</b><br>Words: endofcycle, endofcycle endofcycle, timestamp 1664473857380, 1664473857380, 1664473857380 updating",
          "<b>Topic 3</b><br>Words: endofcycle, endofcycle endofcycle, timestamp 1664473857380, 1664473857380, 1664473857380 updating",
          "<b>Topic 3</b><br>Words: endofcycle, endofcycle endofcycle, timestamp 1664473857380, 1664473857380, 1664473857380 updating",
          "<b>Topic 3</b><br>Words: endofcycle endofcycle, endofcycle, timestamp 1664473857380, 1664473857380, 1664473857380 updating",
          "<b>Topic 3</b><br>Words: endofcycle, endofcycle endofcycle, endofcycle received, 2arpa4s12ju task, 2arpa4s12ju",
          "<b>Topic 3</b><br>Words: endofcycle endofcycle, endofcycle, timestamp 1664473857380, 1664473857380, 1664473857380 updating",
          "<b>Topic 3</b><br>Words: endofcycle, endofcycle endofcycle, timestamp 1664473857380, 1664473857380, 1664473857380 updating",
          "<b>Topic 3</b><br>Words: endofcycle, endofcycle endofcycle, timestamp 1664473857380, 1664473857380, 1664473857380 updating",
          "<b>Topic 3</b><br>Words: endofcycle, endofcycle endofcycle, timestamp 1664473857380, 1664473857380, 1664473857380 updating",
          "<b>Topic 3</b><br>Words: endofcycle, endofcycle endofcycle, timestamp 1664473857380, 1664473857380, 1664473857380 updating",
          "<b>Topic 3</b><br>Words: endofcycle, endofcycle endofcycle, timestamp 1664473857380, 1664473857380, 1664473857380 updating",
          "<b>Topic 3</b><br>Words: endofcycle, endofcycle endofcycle, timestamp 1664473857380, 1664473857380, 1664473857380 updating",
          "<b>Topic 3</b><br>Words: endofcycle, endofcycle endofcycle, timestamp 1664473857380, 1664473857380, 1664473857380 updating",
          "<b>Topic 3</b><br>Words: endofcycle endofcycle, endofcycle, timestamp 1664473857380, 1664473857380, 1664473857380 updating",
          "<b>Topic 3</b><br>Words: endofcycle endofcycle, endofcycle, timestamp 1664473857380, 1664473857380, 1664473857380 updating",
          "<b>Topic 3</b><br>Words: endofcycle, endofcycle endofcycle, timestamp 1664473857380, 1664473857380, 1664473857380 updating",
          "<b>Topic 3</b><br>Words: endofcycle, endofcycle endofcycle, timestamp 1664473857380, 1664473857380, 1664473857380 updating",
          "<b>Topic 3</b><br>Words: endofcycle endofcycle, endofcycle, timestamp 1664473857380, 1664473857380, 1664473857380 updating",
          "<b>Topic 3</b><br>Words: endofcycle, endofcycle endofcycle, timestamp 1664473857380, 1664473857380, 1664473857380 updating",
          "<b>Topic 3</b><br>Words: endofcycle, endofcycle endofcycle, timestamp 1664473857380, 1664473857380, 1664473857380 updating",
          "<b>Topic 3</b><br>Words: endofcycle, endofcycle endofcycle, timestamp 1664473857380, 1664473857380, 1664473857380 updating",
          "<b>Topic 3</b><br>Words: endofcycle, endofcycle endofcycle, timestamp 1664473857380, 1664473857380, 1664473857380 updating",
          "<b>Topic 3</b><br>Words: endofcycle, endofcycle endofcycle, timestamp 1664473857380, 1664473857380, 1664473857380 updating",
          "<b>Topic 3</b><br>Words: endofcycle, endofcycle endofcycle, timestamp 1664473857380, 1664473857380, 1664473857380 updating",
          "<b>Topic 3</b><br>Words: endofcycle, endofcycle endofcycle, timestamp 1664473857380, 1664473857380, 1664473857380 updating",
          "<b>Topic 3</b><br>Words: endofcycle, endofcycle endofcycle, 18 endofcycle, endofcycle itsdecoder, 164 at",
          "<b>Topic 3</b><br>Words: endofcycle endofcycle, endofcycle, timestamp 1664473857380, 1664473857380, 1664473857380 updating",
          "<b>Topic 3</b><br>Words: endofcycle, endofcycle endofcycle, timestamp 1664473857380, 1664473857380, 1664473857380 updating",
          "<b>Topic 3</b><br>Words: endofcycle endofcycle, endofcycle, timestamp 1664473857380, 1664473857380, 1664473857380 updating",
          "<b>Topic 3</b><br>Words: endofcycle endofcycle, endofcycle, timestamp 1664473857380, 1664473857380, 1664473857380 updating",
          "<b>Topic 3</b><br>Words: endofcycle endofcycle, endofcycle, 1664473857380, timestamp 1664473857380, 1664473857380 updating",
          "<b>Topic 3</b><br>Words: endofcycle, endofcycle endofcycle, timestamp 1664473857380, 1664473857380, 1664473857380 updating",
          "<b>Topic 3</b><br>Words: endofcycle, endofcycle endofcycle, timestamp 1664473857380, 1664473857380, 1664473857380 updating",
          "<b>Topic 3</b><br>Words: endofcycle, endofcycle endofcycle, timestamp 1664473857380, 1664473857380, 1664473857380 updating",
          "<b>Topic 3</b><br>Words: endofcycle endofcycle, endofcycle, 180 endofcycle, endofcycle itsdecoder, 0x6124 rusw",
          "<b>Topic 3</b><br>Words: endofcycle, endofcycle endofcycle, timestamp 1664473857380, 1664473857380, 1664473857380 updating",
          "<b>Topic 3</b><br>Words: endofcycle endofcycle, endofcycle, timestamp 1664473857380, 1664473857380, 1664473857380 updating",
          "<b>Topic 3</b><br>Words: endofcycle endofcycle, endofcycle, timestamp 1664473857380, 1664473857380, 1664473857380 updating"
         ],
         "marker": {
          "color": "#F0E442"
         },
         "name": "3_endofcycle endofcycle_endofcycle_16644...",
         "orientation": "h",
         "type": "bar",
         "visible": "legendonly",
         "x": [
          7,
          51,
          29726,
          10263,
          3418,
          129,
          107,
          22,
          453,
          485,
          1291,
          1744,
          19312,
          1975,
          40,
          100,
          274,
          5,
          2864,
          165,
          1153,
          245,
          488,
          66,
          433,
          241,
          20,
          245,
          997,
          12363,
          92,
          44,
          693,
          242,
          272,
          165,
          156,
          65,
          451,
          313,
          663,
          3723,
          459,
          1501,
          920,
          5167,
          216,
          187,
          122,
          2525,
          122,
          757,
          579
         ],
         "y": [
          " end calibration",
          "prepare for injection",
          "start tests the day.",
          "preparation for tpc scan",
          "mid expert request.",
          "problem on alio2-cr1-flp080, backpressure. possible cause: from_readout-proxy_to_tpc-idc-to-vector.",
          "phos/cpv",
          "sor failed for mch",
          "end test",
          "tpc scan ",
          "pdp expert request,",
          "exclude emc.",
          "prepare for cosmics",
          "sl request to include mid",
          "exclude fv0.",
          "all epns crashed simultaneously",
          "mch-qcmn-epn-full-track-matching crashed.",
          "normal eor after 5 minutes.",
          "stopping to include trd",
          "end calibration",
          "preparing for physics",
          "trigger readout went to zero.",
          "all epns crashed simultaneously with primary vertex error.",
          "need to restart trigger.",
          "epn went flat",
          "expert request cpv",
          "emcal",
          " jit-4e1deca4ebdf11d52f3ee4f99c0c46f78222361d-mch-qctaskmchdigits-proxy",
          "change luminosity",
          "lhc dumped beam dump",
          "operator error: run restarted the same partition.",
          "changed predefined physics configuration",
          "adjust handshake",
          "all epns crashed simultaneously.",
          "change predefined configuration.",
          "rm asks to stop the run",
          "release ecs lock for mch",
          "triggers out synch. disabling ctp readout.",
          "tpc expert request.",
          "preparation for calibration.",
          "include maximum number epns (211)",
          "change lumi to 1mhz",
          "issues known; expert informed",
          "change config for mft",
          "eor test.",
          "beam dump",
          "dpl errors on ali02-cr1-flp080 -  tpc flp (run stopped by the operator).",
          "tpc need to disable re-sync.",
          "request from tpc expert.",
          "change trigger rate to 500 khz",
          "include tpc.",
          "texpert request",
          "revert readout configuration to see if it helps with errors from tpc (flp080) and its."
         ]
        },
        {
         "hoverinfo": "text",
         "hovertext": [
          "<b>Topic 4</b><br>Words: check rawbunchminamplitude, rawbunchminamplitude quality, rawbunchminamplitude, quality good, good level",
          "<b>Topic 4</b><br>Words: check rawbunchminamplitude, rawbunchminamplitude quality, rawbunchminamplitude, quality good, good level",
          "<b>Topic 4</b><br>Words: check rawbunchminamplitude, rawbunchminamplitude quality, rawbunchminamplitude, quality good, good level",
          "<b>Topic 4</b><br>Words: check rawbunchminamplitude, rawbunchminamplitude quality, rawbunchminamplitude, quality good, good level",
          "<b>Topic 4</b><br>Words: check rawbunchminamplitude, rawbunchminamplitude quality, rawbunchminamplitude, good level, quality good",
          "<b>Topic 4</b><br>Words: check rawbunchminamplitude, rawbunchminamplitude quality, rawbunchminamplitude, quality good, good level",
          "<b>Topic 4</b><br>Words: check rawbunchminamplitude, rawbunchminamplitude quality, rawbunchminamplitude, quality good, good level",
          "<b>Topic 4</b><br>Words: check rawbunchminamplitude, rawbunchminamplitude quality, rawbunchminamplitude, quality good, good level",
          "<b>Topic 4</b><br>Words: check rawbunchminamplitude, rawbunchminamplitude quality, rawbunchminamplitude, quality good, good level",
          "<b>Topic 4</b><br>Words: check rawbunchminamplitude, rawbunchminamplitude quality, rawbunchminamplitude, quality good, good level",
          "<b>Topic 4</b><br>Words: check rawbunchminamplitude, rawbunchminamplitude quality, rawbunchminamplitude, good level, quality good",
          "<b>Topic 4</b><br>Words: check rawbunchminamplitude, rawbunchminamplitude quality, rawbunchminamplitude, bad setting, to red",
          "<b>Topic 4</b><br>Words: check rawbunchminamplitude, rawbunchminamplitude quality, rawbunchminamplitude, quality good, good level",
          "<b>Topic 4</b><br>Words: 1455129, check rawbunchminamplitude, rawbunchminamplitude quality, rawbunchminamplitude, count 1455129",
          "<b>Topic 4</b><br>Words: check rawbunchminamplitude, rawbunchminamplitude quality, rawbunchminamplitude, good level, quality good",
          "<b>Topic 4</b><br>Words: check rawbunchminamplitude, rawbunchminamplitude quality, rawbunchminamplitude, quality good, good level",
          "<b>Topic 4</b><br>Words: check rawbunchminamplitude, rawbunchminamplitude quality, rawbunchminamplitude, quality good, good level",
          "<b>Topic 4</b><br>Words: check rawbunchminamplitude, rawbunchminamplitude quality, rawbunchminamplitude, quality good, good level",
          "<b>Topic 4</b><br>Words: check rawbunchminamplitude, rawbunchminamplitude quality, rawbunchminamplitude, quality good, good level",
          "<b>Topic 4</b><br>Words: check rawbunchminamplitude, rawbunchminamplitude quality, rawbunchminamplitude, 129582 check, 129582",
          "<b>Topic 4</b><br>Words: check rawbunchminamplitude, rawbunchminamplitude quality, rawbunchminamplitude, quality good, good level",
          "<b>Topic 4</b><br>Words: check rawbunchminamplitude, rawbunchminamplitude quality, rawbunchminamplitude, quality good, good level",
          "<b>Topic 4</b><br>Words: check rawbunchminamplitude, rawbunchminamplitude quality, rawbunchminamplitude, quality good, good level",
          "<b>Topic 4</b><br>Words: check rawbunchminamplitude, rawbunchminamplitude quality, rawbunchminamplitude, quality good, good level",
          "<b>Topic 4</b><br>Words: check rawbunchminamplitude, rawbunchminamplitude quality, rawbunchminamplitude, quality good, good level",
          "<b>Topic 4</b><br>Words: check rawbunchminamplitude, rawbunchminamplitude quality, rawbunchminamplitude, quality good, good level",
          "<b>Topic 4</b><br>Words: check rawbunchminamplitude, rawbunchminamplitude quality, rawbunchminamplitude, quality good, good level",
          "<b>Topic 4</b><br>Words: check rawbunchminamplitude, rawbunchminamplitude quality, rawbunchminamplitude, quality good, good level",
          "<b>Topic 4</b><br>Words: check rawbunchminamplitude, rawbunchminamplitude quality, rawbunchminamplitude, quality good, good level",
          "<b>Topic 4</b><br>Words: check rawbunchminamplitude, rawbunchminamplitude quality, rawbunchminamplitude, good level, quality good",
          "<b>Topic 4</b><br>Words: check rawbunchminamplitude, rawbunchminamplitude quality, rawbunchminamplitude, quality good, good level",
          "<b>Topic 4</b><br>Words: check rawbunchminamplitude, rawbunchminamplitude quality, rawbunchminamplitude, quality good, good level",
          "<b>Topic 4</b><br>Words: check rawbunchminamplitude, rawbunchminamplitude quality, rawbunchminamplitude, good level, quality good",
          "<b>Topic 4</b><br>Words: check rawbunchminamplitude, rawbunchminamplitude quality, rawbunchminamplitude, quality good, good level",
          "<b>Topic 4</b><br>Words: check rawbunchminamplitude, rawbunchminamplitude quality, rawbunchminamplitude, quality good, good level",
          "<b>Topic 4</b><br>Words: check rawbunchminamplitude, rawbunchminamplitude quality, rawbunchminamplitude, good level, quality good",
          "<b>Topic 4</b><br>Words: check rawbunchminamplitude, rawbunchminamplitude quality, rawbunchminamplitude, quality good, good level",
          "<b>Topic 4</b><br>Words: check rawbunchminamplitude, rawbunchminamplitude quality, rawbunchminamplitude, quality good, good level",
          "<b>Topic 4</b><br>Words: check rawbunchminamplitude, rawbunchminamplitude quality, rawbunchminamplitude, quality good, good level",
          "<b>Topic 4</b><br>Words: check rawbunchminamplitude, rawbunchminamplitude quality, rawbunchminamplitude, quality good, good level",
          "<b>Topic 4</b><br>Words: check rawbunchminamplitude, rawbunchminamplitude quality, rawbunchminamplitude, good level, quality good",
          "<b>Topic 4</b><br>Words: check rawbunchminamplitude, rawbunchminamplitude quality, rawbunchminamplitude, quality good, good level",
          "<b>Topic 4</b><br>Words: check rawbunchminamplitude, rawbunchminamplitude quality, rawbunchminamplitude, quality good, good level",
          "<b>Topic 4</b><br>Words: check rawbunchminamplitude, rawbunchminamplitude quality, rawbunchminamplitude, good level, quality good",
          "<b>Topic 4</b><br>Words: check rawbunchminamplitude, rawbunchminamplitude quality, rawbunchminamplitude, good level, quality good",
          "<b>Topic 4</b><br>Words: check rawbunchminamplitude, rawbunchminamplitude quality, rawbunchminamplitude, quality good, good level",
          "<b>Topic 4</b><br>Words: check rawbunchminamplitude, rawbunchminamplitude quality, rawbunchminamplitude, quality good, good level"
         ],
         "marker": {
          "color": "#D55E00"
         },
         "name": "4_check rawbunchminamplitude_rawbunchmin...",
         "orientation": "h",
         "type": "bar",
         "visible": "legendonly",
         "x": [
          46,
          20701,
          7842,
          2568,
          47,
          322,
          344,
          115,
          1196,
          16412,
          1468,
          12,
          232,
          1,
          2388,
          202,
          617,
          163,
          308,
          2,
          23,
          391,
          180,
          50,
          161,
          710,
          9450,
          92,
          391,
          484,
          209,
          184,
          24,
          23,
          292,
          462,
          2795,
          368,
          46,
          1127,
          713,
          3929,
          116,
          93,
          1863,
          571,
          521
         ],
         "y": [
          " end calibration",
          "start tests the day.",
          "preparation for tpc scan",
          "mid expert request.",
          "phos/cpv",
          "end test",
          "tpc scan ",
          "pdp expert request,",
          "exclude emc.",
          "prepare for cosmics",
          "sl request to include mid",
          "exclude fv0.",
          "all epns crashed simultaneously",
          "ali-ecs core restarted",
          "stopping to include trd",
          "end calibration",
          "preparing for physics",
          "trigger readout went to zero.",
          "all epns crashed simultaneously with primary vertex error.",
          "need to restart trigger.",
          "started by mistake",
          "epn went flat",
          "expert request cpv",
          "emcal",
          " jit-4e1deca4ebdf11d52f3ee4f99c0c46f78222361d-mch-qctaskmchdigits-proxy",
          "change luminosity",
          "lhc dumped beam dump",
          "operator error: run restarted the same partition.",
          "changed predefined physics configuration",
          "adjust handshake",
          "all epns crashed simultaneously.",
          "change predefined configuration.",
          "rm asks to stop the run",
          "triggers out synch. disabling ctp readout.",
          "tpc expert request.",
          "include maximum number epns (211)",
          "change lumi to 1mhz",
          "issues known; expert informed",
          "calibration ended automatically",
          "change config for mft",
          "eor test.",
          "beam dump",
          "dpl errors on ali02-cr1-flp080 -  tpc flp (run stopped by the operator).",
          "tpc need to disable re-sync.",
          "change trigger rate to 500 khz",
          "texpert request",
          "revert readout configuration to see if it helps with errors from tpc (flp080) and its."
         ]
        },
        {
         "hoverinfo": "text",
         "hovertext": [
          "<b>Topic 5</b><br>Words: 1664548303506 updating, 1664548303506, timestamp 1664548303506, 1664548303475 updating, 1664548303475",
          "<b>Topic 5</b><br>Words: updating the, triggertype timestamp, triggertype, to trigger, trigger triggertype",
          "<b>Topic 5</b><br>Words: updating the, triggertype timestamp, trigger triggertype, task due, to trigger",
          "<b>Topic 5</b><br>Words: updating the, triggertype timestamp, triggertype, to trigger, task due",
          "<b>Topic 5</b><br>Words: updating the, triggertype timestamp, to trigger, task due, trigger triggertype",
          "<b>Topic 5</b><br>Words: updating the, triggertype timestamp, task due, triggertype, trigger triggertype",
          "<b>Topic 5</b><br>Words: updating the, triggertype timestamp, to trigger, task due, triggertype",
          "<b>Topic 5</b><br>Words: timestamp 1664351173468, 1664351173468, 1664351173468 updating, updating the, triggertype timestamp",
          "<b>Topic 5</b><br>Words: updating the, triggertype timestamp, trigger triggertype, task due, to trigger",
          "<b>Topic 5</b><br>Words: updating the, triggertype timestamp, task due, to trigger, trigger triggertype",
          "<b>Topic 5</b><br>Words: updating the, triggertype timestamp, to trigger, task due, triggertype",
          "<b>Topic 5</b><br>Words: updating the, triggertype timestamp, triggertype, trigger triggertype, to trigger",
          "<b>Topic 5</b><br>Words: updating the, triggertype timestamp, task due, to trigger, triggertype",
          "<b>Topic 5</b><br>Words: updating the, triggertype timestamp, triggertype, trigger triggertype, task due",
          "<b>Topic 5</b><br>Words: timestamp 1664363450635, 1664363451254, 1664363582564, timestamp 1664363390718, 1664363571181",
          "<b>Topic 5</b><br>Words: updating the, triggertype timestamp, to trigger, task due, trigger triggertype",
          "<b>Topic 5</b><br>Words: timestamp 1664679751701, 1664679751701, 1664679751701 updating, updating the, triggertype timestamp",
          "<b>Topic 5</b><br>Words: 1664560055322 updating, 1664560032904 updating, timestamp 1664560032904, timestamp 1664560055322, 1664560059442",
          "<b>Topic 5</b><br>Words: updating the, triggertype timestamp, task due, trigger triggertype, triggertype",
          "<b>Topic 5</b><br>Words: triggertype timestamp, trigger triggertype, triggertype, task due, to trigger",
          "<b>Topic 5</b><br>Words: updating the, triggertype timestamp, task due, trigger triggertype, triggertype",
          "<b>Topic 5</b><br>Words: updating the, triggertype timestamp, triggertype, to trigger, trigger triggertype",
          "<b>Topic 5</b><br>Words: updating the, triggertype timestamp, to trigger, trigger triggertype, task due",
          "<b>Topic 5</b><br>Words: 1664737455374, timestamp 1664737455374, 1664737455374 updating, updating the, triggertype timestamp",
          "<b>Topic 5</b><br>Words: 1664453587561 updating, 1664453587561, timestamp 1664453587561, 1664453587590, timestamp 1664453587590",
          "<b>Topic 5</b><br>Words: updating the, triggertype timestamp, trigger triggertype, triggertype, to trigger",
          "<b>Topic 5</b><br>Words: updating the, triggertype timestamp, trigger triggertype, triggertype, task due",
          "<b>Topic 5</b><br>Words: 1664345259448, 1664345259436 updating, 1664345259436, timestamp 1664345259436, timestamp 1664345259448",
          "<b>Topic 5</b><br>Words: updating the, triggertype timestamp, to trigger, trigger triggertype, task due",
          "<b>Topic 5</b><br>Words: updating the, triggertype timestamp, triggertype, to trigger, trigger triggertype",
          "<b>Topic 5</b><br>Words: updating the, triggertype timestamp, to trigger, trigger triggertype, task due",
          "<b>Topic 5</b><br>Words: 1664655610018 updating, 1664655730019 updating, 1664655730019, timestamp 1664655730019, 1664655610018",
          "<b>Topic 5</b><br>Words: updating the, triggertype timestamp, task due, to trigger, trigger triggertype",
          "<b>Topic 5</b><br>Words: updating the, triggertype timestamp, task due, to trigger, trigger triggertype",
          "<b>Topic 5</b><br>Words: updating the, triggertype timestamp, trigger triggertype, to trigger, triggertype",
          "<b>Topic 5</b><br>Words: updating the, triggertype timestamp, trigger triggertype, triggertype, task due",
          "<b>Topic 5</b><br>Words: updating the, triggertype timestamp, trigger triggertype, task due, to trigger",
          "<b>Topic 5</b><br>Words: updating the, triggertype timestamp, to trigger, task due, triggertype",
          "<b>Topic 5</b><br>Words: 1664738104889 updating, 1664738104889, timestamp 1664738104889, 1664738104878, timestamp 1664738104878",
          "<b>Topic 5</b><br>Words: updating the, triggertype timestamp, task due, to trigger, trigger triggertype",
          "<b>Topic 5</b><br>Words: updating the, triggertype timestamp, task due, triggertype, to trigger",
          "<b>Topic 5</b><br>Words: updating the, triggertype timestamp, task due, to trigger, triggertype",
          "<b>Topic 5</b><br>Words: updating the, triggertype timestamp, to trigger, trigger triggertype, task due",
          "<b>Topic 5</b><br>Words: updating the, triggertype timestamp, to trigger, task due, trigger triggertype",
          "<b>Topic 5</b><br>Words: 1664527736563, 1664527736563 updating, timestamp 1664527736563, 1664527796607 updating, timestamp 1664527796607",
          "<b>Topic 5</b><br>Words: updating the, triggertype timestamp, task due, triggertype, trigger triggertype",
          "<b>Topic 5</b><br>Words: updating the, triggertype timestamp, trigger triggertype, task due, to trigger",
          "<b>Topic 5</b><br>Words: updating the, triggertype timestamp, to trigger, trigger triggertype, task due",
          "<b>Topic 5</b><br>Words: updating the, triggertype timestamp, to trigger, task due, trigger triggertype",
          "<b>Topic 5</b><br>Words: 1664621723061 updating, timestamp 1664621663035, 1664621783099 updating, 1664621783099, 1664621663035 updating",
          "<b>Topic 5</b><br>Words: 1664730126557, 1664730126557 updating, timestamp 1664730126557, updating the, triggertype timestamp",
          "<b>Topic 5</b><br>Words: updating the, triggertype timestamp, to trigger, task due, trigger triggertype",
          "<b>Topic 5</b><br>Words: timestamp 1664525234666, timestamp 1664525114563, 1664525234601 updating, 1664525234601, timestamp 1664525234601",
          "<b>Topic 5</b><br>Words: updating the, triggertype timestamp, task due, trigger triggertype, triggertype",
          "<b>Topic 5</b><br>Words: updating the, triggertype timestamp, task due, trigger triggertype, triggertype"
         ],
         "marker": {
          "color": "#0072B2"
         },
         "name": "5_updating the_triggertype timestamp_tri...",
         "orientation": "h",
         "type": "bar",
         "visible": "legendonly",
         "x": [
          24,
          39,
          17911,
          5068,
          2329,
          280,
          37,
          2,
          287,
          304,
          447,
          1127,
          9298,
          1395,
          29,
          165,
          165,
          4,
          2075,
          178,
          636,
          112,
          312,
          2,
          3,
          327,
          165,
          8,
          150,
          635,
          6748,
          85,
          327,
          455,
          142,
          157,
          76,
          208,
          24,
          263,
          93,
          483,
          2377,
          260,
          30,
          1098,
          498,
          3761,
          139,
          107,
          40,
          1768,
          9,
          497,
          411
         ],
         "y": [
          " end calibration",
          "prepare for injection",
          "start tests the day.",
          "preparation for tpc scan",
          "mid expert request.",
          "problem on alio2-cr1-flp080, backpressure. possible cause: from_readout-proxy_to_tpc-idc-to-vector.",
          "phos/cpv",
          "sor failed for mch",
          "end test",
          "tpc scan ",
          "pdp expert request,",
          "exclude emc.",
          "prepare for cosmics",
          "sl request to include mid",
          "exclude fv0.",
          "all epns crashed simultaneously",
          "mch-qcmn-epn-full-track-matching crashed.",
          "normal eor after 5 minutes.",
          "stopping to include trd",
          "end calibration",
          "preparing for physics",
          "trigger readout went to zero.",
          "all epns crashed simultaneously with primary vertex error.",
          "need to restart trigger.",
          "started by mistake",
          "epn went flat",
          "expert request cpv",
          "emcal",
          " jit-4e1deca4ebdf11d52f3ee4f99c0c46f78222361d-mch-qctaskmchdigits-proxy",
          "change luminosity",
          "lhc dumped beam dump",
          "operator error: run restarted the same partition.",
          "changed predefined physics configuration",
          "adjust handshake",
          "all epns crashed simultaneously.",
          "change predefined configuration.",
          "rm asks to stop the run",
          "release ecs lock for mch",
          "triggers out synch. disabling ctp readout.",
          "tpc expert request.",
          "preparation for calibration.",
          "include maximum number epns (211)",
          "change lumi to 1mhz",
          "issues known; expert informed",
          "calibration ended automatically",
          "change config for mft",
          "eor test.",
          "beam dump",
          "dpl errors on ali02-cr1-flp080 -  tpc flp (run stopped by the operator).",
          "tpc need to disable re-sync.",
          "request from tpc expert.",
          "change trigger rate to 500 khz",
          "include tpc.",
          "texpert request",
          "revert readout configuration to see if it helps with errors from tpc (flp080) and its."
         ]
        },
        {
         "hoverinfo": "text",
         "hovertext": [
          "<b>Topic 177</b><br>Words: roc starting, starting dma, dma for, dma, starting",
          "<b>Topic 177</b><br>Words: roc starting, starting dma, dma for, dma, starting",
          "<b>Topic 177</b><br>Words: 0x6028 to, dma for, roc starting, starting dma, 184 stave",
          "<b>Topic 177</b><br>Words: starting dma, roc starting, dma for, dma, starting",
          "<b>Topic 177</b><br>Words: starting dma, roc starting, dma for, dma, starting",
          "<b>Topic 177</b><br>Words: roc starting, dma for, starting dma, dma, for roc",
          "<b>Topic 177</b><br>Words: stopping dma, roc stopping, dma for, stopping, dma",
          "<b>Topic 177</b><br>Words: stopping dma, dma for, dma, roc starting, starting dma",
          "<b>Topic 177</b><br>Words: dma for, roc starting, starting dma, 16854 gap, 16852",
          "<b>Topic 177</b><br>Words: starting dma, roc starting, dma for, dma, starting",
          "<b>Topic 177</b><br>Words: roc starting, starting dma, dma for, dma, starting",
          "<b>Topic 177</b><br>Words: stopping dma, dma for, dma, ddl0 stopping, ddl1 stopping",
          "<b>Topic 177</b><br>Words: dma for, roc starting, starting dma, dma, stopping dma",
          "<b>Topic 177</b><br>Words: roc stopping, stopping dma, stopping, dma for, dma",
          "<b>Topic 177</b><br>Words: roc starting, starting dma, dma for, dma, starting",
          "<b>Topic 177</b><br>Words: stopping dma, dma for, dma, roc stopping, stopping",
          "<b>Topic 177</b><br>Words: roc starting, starting dma, dma for, dma, starting",
          "<b>Topic 177</b><br>Words: starting dma, roc starting, dma for, dma, starting",
          "<b>Topic 177</b><br>Words: stopping dma, roc stopping, stopping, dma for, dma",
          "<b>Topic 177</b><br>Words: roc stopping, stopping dma, dma for, stopping, dma",
          "<b>Topic 177</b><br>Words: dma for, roc starting, starting dma, dma, roc stopping",
          "<b>Topic 177</b><br>Words: dma for, stopping dma, ddl0 stopping, dma, ddl1 stopping",
          "<b>Topic 177</b><br>Words: roc starting, starting dma, dma for, dma, starting",
          "<b>Topic 177</b><br>Words: starting dma, roc starting, dma for, dma, starting",
          "<b>Topic 177</b><br>Words: roc starting, starting dma, dma for, dma, starting",
          "<b>Topic 177</b><br>Words: roc starting, starting dma, dma for, dma, starting",
          "<b>Topic 177</b><br>Words: starting dma, dma for, m2 starting, m3 starting, dma",
          "<b>Topic 177</b><br>Words: roc stopping, stopping dma, dma for, stopping, dma",
          "<b>Topic 177</b><br>Words: starting dma, roc starting, dma for, dma, starting",
          "<b>Topic 177</b><br>Words: starting dma, roc starting, dma for, dma, starting",
          "<b>Topic 177</b><br>Words: dma for, roc starting, starting dma, dma, stopping dma",
          "<b>Topic 177</b><br>Words: m2 starting, roc m2, roc m4, m4 starting, starting dma",
          "<b>Topic 177</b><br>Words: starting dma, roc starting, dma for, dma, starting",
          "<b>Topic 177</b><br>Words: dma for, starting dma, roc starting, dma, ids 5294",
          "<b>Topic 177</b><br>Words: roc starting, starting dma, dma for, dma, starting",
          "<b>Topic 177</b><br>Words: starting dma, roc starting, dma for, dma, starting",
          "<b>Topic 177</b><br>Words: roc starting, starting dma, dma for, dma, starting",
          "<b>Topic 177</b><br>Words: starting dma, roc starting, dma for, dma, starting",
          "<b>Topic 177</b><br>Words: stopping dma, roc stopping, stopping, dma for, dma",
          "<b>Topic 177</b><br>Words: roc starting, starting dma, dma for, dma, for roc",
          "<b>Topic 177</b><br>Words: roc starting, starting dma, dma for, dma, starting",
          "<b>Topic 177</b><br>Words: starting dma, roc starting, dma for, dma, starting",
          "<b>Topic 177</b><br>Words: stopping dma, dma for, ddl0 stopping, dma, roc starting",
          "<b>Topic 177</b><br>Words: starting dma, roc starting, dma for, dma, starting",
          "<b>Topic 177</b><br>Words: starting dma, roc starting, dma for, dma, starting",
          "<b>Topic 177</b><br>Words: roc starting, starting dma, dma for, dma, starting",
          "<b>Topic 177</b><br>Words: starting dma, roc starting, dma for, dma, starting",
          "<b>Topic 177</b><br>Words: stopping dma, roc stopping, dma for, stopping, dma",
          "<b>Topic 177</b><br>Words: roc stopping, stopping dma, dma for, dma, stopping",
          "<b>Topic 177</b><br>Words: starting dma, roc starting, dma for, dma, starting",
          "<b>Topic 177</b><br>Words: starting dma, roc starting, dma for, dma, starting",
          "<b>Topic 177</b><br>Words: roc starting, starting dma, dma for, dma, starting",
          "<b>Topic 177</b><br>Words: starting dma, roc starting, dma for, dma, starting",
          "<b>Topic 177</b><br>Words: roc starting, starting dma, dma for, dma, for roc",
          "<b>Topic 177</b><br>Words: starting dma, roc starting, dma for, dma, starting",
          "<b>Topic 177</b><br>Words: roc stopping, stopping dma, stopping, dma for, dma",
          "<b>Topic 177</b><br>Words: roc starting, starting dma, dma for, dma, starting"
         ],
         "marker": {
          "color": "#CC79A7"
         },
         "name": "177_dma for_roc starting_starting dma_dm...",
         "orientation": "h",
         "type": "bar",
         "visible": "legendonly",
         "x": [
          635,
          760,
          1,
          841,
          888,
          897,
          2462,
          106,
          4,
          761,
          911,
          230,
          5,
          252,
          884,
          97,
          64,
          830,
          12,
          941,
          18995,
          87,
          929,
          1856,
          929,
          803,
          16,
          776,
          882,
          837,
          2531,
          9,
          966,
          18,
          823,
          800,
          195,
          851,
          3322,
          832,
          928,
          1832,
          61,
          876,
          961,
          622,
          750,
          81,
          5190,
          877,
          880,
          943,
          866,
          197,
          923,
          703,
          925
         ],
         "y": [
          " end calibration",
          "prepare for injection",
          "start tests the day.",
          "preparation for tpc scan",
          "mid expert request.",
          "problem on alio2-cr1-flp080, backpressure. possible cause: from_readout-proxy_to_tpc-idc-to-vector.",
          "phos/cpv",
          "sor failed for mch",
          "dcs sor failed (no sor_progressing).",
          "end test",
          "tpc scan ",
          "pdp expert request,",
          "calibration failed",
          "exclude emc.",
          "sl request to include mid",
          "exclude fv0.",
          "all epns crashed simultaneously",
          "mch-qcmn-epn-full-track-matching crashed.",
          "normal eor after 5 minutes.",
          "ali-ecs core restarted",
          "end calibration",
          "preparing for physics",
          "trigger readout went to zero.",
          "all epns crashed simultaneously with primary vertex error.",
          "need to restart trigger.",
          "epn went flat",
          "expert request cpv",
          "emcal",
          "request from flp expert.",
          " jit-4e1deca4ebdf11d52f3ee4f99c0c46f78222361d-mch-qctaskmchdigits-proxy",
          "change luminosity",
          "cpv recover hv trip.",
          "lhc dumped beam dump",
          "operator error: run restarted the same partition.",
          "changed predefined physics configuration",
          "adjust handshake",
          "all epns crashed simultaneously.",
          "change predefined configuration.",
          "rm asks to stop the run",
          "release ecs lock for mch",
          "triggers out synch. disabling ctp readout.",
          "tpc expert request.",
          "preparation for calibration.",
          "include maximum number epns (211)",
          "change lumi to 1mhz",
          "calibration ended automatically",
          "change config for mft",
          "eor test.",
          "beam dump",
          "dpl errors on ali02-cr1-flp080 -  tpc flp (run stopped by the operator).",
          "tpc need to disable re-sync.",
          "request from tpc expert.",
          "change trigger rate to 500 khz",
          "include tpc.",
          "texpert request",
          "end the calibration",
          "revert readout configuration to see if it helps with errors from tpc (flp080) and its."
         ]
        },
        {
         "hoverinfo": "text",
         "hovertext": [
          "<b>Topic 1882</b><br>Words: 82603 mb, memavailable 82603, 82603, proc, proc meminfo",
          "<b>Topic 1882</b><br>Words: 450 454, ids 450, 454 non, 454, 450",
          "<b>Topic 1882</b><br>Words: fhr_lanes_of_l5_36, drawing fhr_lanes_of_l5_36, fhr_lanes_of_l5_36 drawing, fhr_occ_of_l4_24 drawing, fhr_occ_of_l4_24",
          "<b>Topic 1882</b><br>Words: contiguous, contiguous timeframe, non contiguous, non, ids",
          "<b>Topic 1882</b><br>Words: non contiguous, contiguous, contiguous timeframe, non, timeframe ids",
          "<b>Topic 1882</b><br>Words: taskid 2ap4nbe2kbt, 2ap4nbe2kbt, state task_killed, message reason, source source_executor",
          "<b>Topic 1882</b><br>Words: contiguous timeframe, contiguous, non contiguous, non, timeframe ids",
          "<b>Topic 1882</b><br>Words: roc 0979, 0979, opening roc, opening, contiguous timeframe",
          "<b>Topic 1882</b><br>Words: 5280, 15851, contiguous, non contiguous, contiguous timeframe",
          "<b>Topic 1882</b><br>Words: ids 62, 62 77, 77 non, 62, 77",
          "<b>Topic 1882</b><br>Words: 50 59, 59 non, ids 50, 59, 50",
          "<b>Topic 1882</b><br>Words: 30934, 31012, previous 31012, 30934 gap, previous 30934",
          "<b>Topic 1882</b><br>Words: disabled checkoflaser_trending, block 0x7f5c9da00000, 0x7f5c9da00000 14334033920, tpc register, 0x7f5c9da00000",
          "<b>Topic 1882</b><br>Words: contiguous timeframe, non contiguous, contiguous, non, ids",
          "<b>Topic 1882</b><br>Words: ids 1048, 1048 1054, 1054, 1048, non contiguous",
          "<b>Topic 1882</b><br>Words: non contiguous, contiguous, contiguous timeframe, non, 343397",
          "<b>Topic 1882</b><br>Words: non contiguous, contiguous, contiguous timeframe, non, ids 43529",
          "<b>Topic 1882</b><br>Words: contiguous, contiguous timeframe, non contiguous, non, 20299 20301",
          "<b>Topic 1882</b><br>Words: contiguous timeframe, contiguous, non contiguous, non, timeframe ids",
          "<b>Topic 1882</b><br>Words: 315 kb, throughput 315, 315, kb, average data",
          "<b>Topic 1882</b><br>Words: non contiguous, contiguous timeframe, contiguous, non, ids 54811",
          "<b>Topic 1882</b><br>Words: contiguous timeframe, non contiguous, contiguous, non, ids non",
          "<b>Topic 1882</b><br>Words: non contiguous, contiguous, contiguous timeframe, non, 54717",
          "<b>Topic 1882</b><br>Words: ids 131121, 125603 non, 131123 non, 131062 131064, 131121 131123",
          "<b>Topic 1882</b><br>Words: contiguous timeframe, non contiguous, contiguous, non, ids",
          "<b>Topic 1882</b><br>Words: contiguous, contiguous timeframe, non contiguous, non, 433114 433116",
          "<b>Topic 1882</b><br>Words: 14080, ids 1952, 1954 non, 14078 14080, ids 14078",
          "<b>Topic 1882</b><br>Words: 1115 1123, ids 1115, 1123 non, 1115, 1123",
          "<b>Topic 1882</b><br>Words: 3314 3317, ids 3314, 3317 non, 3317, 3314",
          "<b>Topic 1882</b><br>Words: non contiguous, contiguous, contiguous timeframe, non, ids",
          "<b>Topic 1882</b><br>Words: 111 113, ids 111, 113 non, 123 125, ids 123",
          "<b>Topic 1882</b><br>Words: non contiguous, contiguous timeframe, contiguous, non, ids",
          "<b>Topic 1882</b><br>Words: 10576, 10581 non, 5302 5304, ids 10574, ids 10579",
          "<b>Topic 1882</b><br>Words: non contiguous, contiguous, contiguous timeframe, non, ids",
          "<b>Topic 1882</b><br>Words: 2574 463611118, channels new, 463161548, 13341 dcolumns, 198 461859370",
          "<b>Topic 1882</b><br>Words: contiguous, contiguous timeframe, non contiguous, non, 84742",
          "<b>Topic 1882</b><br>Words: contiguous timeframe, contiguous, non contiguous, non, ids",
          "<b>Topic 1882</b><br>Words: contiguous, contiguous timeframe, non contiguous, non, ids",
          "<b>Topic 1882</b><br>Words: 2ap8vr5w2ob task, taskid 2ap8vr5w2ob, taskid 2ap9qnju2kb, 2ap8vr5w2ob, 2ap9qnju2kb",
          "<b>Topic 1882</b><br>Words: 181344, 181295 181297, 175661 175663, ids 181344, ids 181295",
          "<b>Topic 1882</b><br>Words: contiguous, contiguous timeframe, non contiguous, non, timeframe ids",
          "<b>Topic 1882</b><br>Words: 9215, 8903, 9606, 9372, 8512",
          "<b>Topic 1882</b><br>Words: 50 63, 63 non, ids 50, 63, 50",
          "<b>Topic 1882</b><br>Words: contiguous timeframe, non contiguous, contiguous, non, timeframe ids",
          "<b>Topic 1882</b><br>Words: 214173, 208923, 214155, 214155 214173, 214173 non",
          "<b>Topic 1882</b><br>Words: non contiguous, contiguous timeframe, contiguous, non, ids",
          "<b>Topic 1882</b><br>Words: contiguous, non contiguous, contiguous timeframe, non, ids",
          "<b>Topic 1882</b><br>Words: contiguous, contiguous timeframe, non contiguous, non, timeframe ids",
          "<b>Topic 1882</b><br>Words: 10334 non, 10329 10334, ids 10329, 10329, 10334",
          "<b>Topic 1882</b><br>Words: data_ecs_eq1830_2022_10_02__18_52_21__, data_ecs_eq1830_2022_10_02__18_52_21__ lz4, tmp data_ecs_eq1830_2022_10_02__18_52_21__, lz4 equipment, stu generates",
          "<b>Topic 1882</b><br>Words: fhr_occ_of_l6_19 drawing, fhr_occ_of_l6_47, drawing fhr_occ_of_l6_47, fhr_occ_of_l5_28 drawing, drawing fhr_occ_of_l6_19",
          "<b>Topic 1882</b><br>Words: non contiguous, contiguous, contiguous timeframe, non, 855361",
          "<b>Topic 1882</b><br>Words: 427729, 427659, 427659 427729, ids 427659, 427729 non",
          "<b>Topic 1882</b><br>Words: 278267 links, 7033 44, 268157 average, 278462 links, 756 733",
          "<b>Topic 1882</b><br>Words: contiguous timeframe, contiguous, non contiguous, non, timeframe ids"
         ],
         "marker": {
          "color": "#E69F00"
         },
         "name": "1882_non contiguous_contiguous timeframe...",
         "orientation": "h",
         "type": "bar",
         "visible": "legendonly",
         "x": [
          1,
          14,
          10,
          7954,
          2668,
          1,
          1048,
          1,
          152,
          27,
          27,
          7,
          4,
          1548,
          1,
          675,
          210,
          147,
          350,
          1,
          266,
          837,
          132,
          52,
          791,
          81,
          29,
          20,
          122,
          430,
          24,
          9538,
          28,
          1019,
          8,
          605,
          751,
          1106,
          2,
          59,
          1655,
          94,
          25,
          2860,
          139,
          3625,
          13209,
          1414,
          192,
          2,
          35,
          204,
          67,
          8,
          2104
         ],
         "y": [
          " end calibration",
          "prepare for injection",
          "start tests the day.",
          "preparation for tpc scan",
          "mid expert request.",
          "problem on alio2-cr1-flp080, backpressure. possible cause: from_readout-proxy_to_tpc-idc-to-vector.",
          "phos/cpv",
          "sor failed for mch",
          "dcs sor failed (no sor_progressing).",
          "end test",
          "tpc scan ",
          "pdp expert request,",
          "calibration failed",
          "sl request to include mid",
          "exclude fv0.",
          "all epns crashed simultaneously",
          "mch-qcmn-epn-full-track-matching crashed.",
          "ali-ecs core restarted",
          "end calibration",
          "preparing for physics",
          "trigger readout went to zero.",
          "all epns crashed simultaneously with primary vertex error.",
          "mch",
          "need to restart trigger.",
          "epn went flat",
          "tpc not ready at sor",
          "expert request cpv",
          "emcal",
          " jit-4e1deca4ebdf11d52f3ee4f99c0c46f78222361d-mch-qctaskmchdigits-proxy",
          "change luminosity",
          "cpv recover hv trip.",
          "lhc dumped beam dump",
          "operator error: run restarted the same partition.",
          "changed predefined physics configuration",
          "adjust handshake",
          "all epns crashed simultaneously.",
          "change predefined configuration.",
          "rm asks to stop the run",
          "release ecs lock for mch",
          "triggers out synch. disabling ctp readout.",
          "tpc expert request.",
          "preparation for calibration.",
          "include maximum number epns (211)",
          "change lumi to 1mhz",
          "calibration ended automatically",
          "change config for mft",
          "beam dump",
          "dpl errors on ali02-cr1-flp080 -  tpc flp (run stopped by the operator).",
          "tpc need to disable re-sync.",
          "request from tpc expert.",
          "change trigger rate to 500 khz",
          "include tpc.",
          "texpert request",
          "end the calibration",
          "revert readout configuration to see if it helps with errors from tpc (flp080) and its."
         ]
        },
        {
         "hoverinfo": "text",
         "hovertext": [
          "<b>Topic 1910</b><br>Words: pulsercheck2d quality, check pulsercheck2d, pulsercheck2d, nohgperddl found, in nohgperddl",
          "<b>Topic 1910</b><br>Words: nohgperddl found, in nohgperddl, nohgperddl, in fec, of ddl",
          "<b>Topic 1910</b><br>Words: nohgperddl found, in nohgperddl, nohgperddl, fec, of ddl",
          "<b>Topic 1910</b><br>Words: in nohgperddl, nohgperddl found, nohgperddl, fec, of ddl",
          "<b>Topic 1910</b><br>Words: nohgperddl found, in nohgperddl, nohgperddl, fec, of ddl",
          "<b>Topic 1910</b><br>Words: nohgperddl found, in nohgperddl, nohgperddl, in fec, of ddl",
          "<b>Topic 1910</b><br>Words: in nohgperddl, nohgperddl found, nohgperddl, fec of, in fec",
          "<b>Topic 1910</b><br>Words: nohgperddl found, in nohgperddl, nohgperddl, of ddl, fec",
          "<b>Topic 1910</b><br>Words: in nohgperddl, nohgperddl found, nohgperddl, of ddl, in fec",
          "<b>Topic 1910</b><br>Words: in nohgperddl, nohgperddl found, nohgperddl, fec, of ddl",
          "<b>Topic 1910</b><br>Words: 15 987, 987 gb, 987, received 15, in nohgperddl",
          "<b>Topic 1910</b><br>Words: nohgperddl found, in nohgperddl, nohgperddl, fec, in fec",
          "<b>Topic 1910</b><br>Words: in nohgperddl, nohgperddl found, nohgperddl, fec, in fec",
          "<b>Topic 1910</b><br>Words: nohgperddl found, in nohgperddl, nohgperddl, in fec, fec",
          "<b>Topic 1910</b><br>Words: in nohgperddl, nohgperddl found, nohgperddl, of ddl, fec",
          "<b>Topic 1910</b><br>Words: nohgperddl found, in nohgperddl, nohgperddl, in fec, of ddl",
          "<b>Topic 1910</b><br>Words: in nohgperddl, nohgperddl found, nohgperddl, fec, in fec",
          "<b>Topic 1910</b><br>Words: nohgperddl found, in nohgperddl, nohgperddl, of ddl, fec",
          "<b>Topic 1910</b><br>Words: in nohgperddl, nohgperddl found, nohgperddl, fec, in fec",
          "<b>Topic 1910</b><br>Words: nohgperddl found, in nohgperddl, nohgperddl, in fec, fec",
          "<b>Topic 1910</b><br>Words: nohgperddl found, in nohgperddl, nohgperddl, in fec, of ddl",
          "<b>Topic 1910</b><br>Words: in nohgperddl, nohgperddl found, nohgperddl, fec, of ddl",
          "<b>Topic 1910</b><br>Words: nohgperddl found, in nohgperddl, nohgperddl, fec, of ddl",
          "<b>Topic 1910</b><br>Words: in nohgperddl, nohgperddl found, nohgperddl, in fec, fec",
          "<b>Topic 1910</b><br>Words: in nohgperddl, nohgperddl found, nohgperddl, of ddl, fec",
          "<b>Topic 1910</b><br>Words: in nohgperddl, nohgperddl found, nohgperddl, fec of, in fec",
          "<b>Topic 1910</b><br>Words: nohgperddl found, in nohgperddl, nohgperddl, in fec, fec",
          "<b>Topic 1910</b><br>Words: nohgperddl found, in nohgperddl, nohgperddl, of ddl, fec",
          "<b>Topic 1910</b><br>Words: nohgperddl found, in nohgperddl, nohgperddl, in fec, of ddl",
          "<b>Topic 1910</b><br>Words: in nohgperddl, nohgperddl found, nohgperddl, of ddl, in fec",
          "<b>Topic 1910</b><br>Words: in nohgperddl, nohgperddl found, nohgperddl, in fec, of ddl",
          "<b>Topic 1910</b><br>Words: in nohgperddl, nohgperddl found, nohgperddl, fec, of ddl",
          "<b>Topic 1910</b><br>Words: nohgperddl found, in nohgperddl, nohgperddl, fec, of ddl",
          "<b>Topic 1910</b><br>Words: nohgperddl found, in nohgperddl, nohgperddl, fec of, fec",
          "<b>Topic 1910</b><br>Words: in nohgperddl, nohgperddl found, nohgperddl, of ddl, in fec",
          "<b>Topic 1910</b><br>Words: nohgperddl found, in nohgperddl, nohgperddl, fec, in fec",
          "<b>Topic 1910</b><br>Words: nohgperddl found, in nohgperddl, nohgperddl, in fec, of ddl",
          "<b>Topic 1910</b><br>Words: nohgperddl found, in nohgperddl, nohgperddl, in fec, fec",
          "<b>Topic 1910</b><br>Words: starting dma, dma for, dma, starting, roc equipment",
          "<b>Topic 1910</b><br>Words: nohgperddl found, in nohgperddl, nohgperddl, of ddl, in fec",
          "<b>Topic 1910</b><br>Words: 0x6101 rusw, rusw 145, feeid 0x6101, 0x6101, 0x00b9 lid1",
          "<b>Topic 1910</b><br>Words: nohgperddl found, in nohgperddl, nohgperddl, in fec, fec",
          "<b>Topic 1910</b><br>Words: 61 311, avg 53046, 817646 ok, 559908384 avg, checks 817646",
          "<b>Topic 1910</b><br>Words: nohgperddl found, in nohgperddl, nohgperddl, in fec, fec"
         ],
         "marker": {
          "color": "#56B4E9"
         },
         "name": "1910_nohgperddl found_in nohgperddl_nohg...",
         "orientation": "h",
         "type": "bar",
         "visible": "legendonly",
         "x": [
          3,
          4835,
          5404,
          58,
          505,
          146,
          59,
          6,
          4735,
          180,
          1,
          53,
          77,
          124,
          260,
          7,
          11,
          515,
          331,
          19,
          70,
          544,
          2576,
          352,
          1072,
          120,
          252,
          24,
          19,
          106,
          7,
          1753,
          5499,
          36,
          4583,
          5363,
          76,
          50,
          1,
          2171,
          1,
          952,
          4,
          1443
         ],
         "y": [
          " end calibration",
          "preparation for tpc scan",
          "mid expert request.",
          "phos/cpv",
          "end test",
          "tpc scan ",
          "pdp expert request,",
          "calibration failed",
          "sl request to include mid",
          "all epns crashed simultaneously",
          "normal eor after 5 minutes.",
          "end calibration",
          "preparing for physics",
          "trigger readout went to zero.",
          "all epns crashed simultaneously with primary vertex error.",
          "need to restart trigger.",
          "started by mistake",
          "epn went flat",
          "expert request cpv",
          "emcal",
          " jit-4e1deca4ebdf11d52f3ee4f99c0c46f78222361d-mch-qctaskmchdigits-proxy",
          "change luminosity",
          "lhc dumped beam dump",
          "changed predefined physics configuration",
          "adjust handshake",
          "all epns crashed simultaneously.",
          "change predefined configuration.",
          "rm asks to stop the run",
          "triggers out synch. disabling ctp readout.",
          "tpc expert request.",
          "preparation for calibration.",
          "include maximum number epns (211)",
          "change lumi to 1mhz",
          "calibration ended automatically",
          "change config for mft",
          "beam dump",
          "dpl errors on ali02-cr1-flp080 -  tpc flp (run stopped by the operator).",
          "tpc need to disable re-sync.",
          "request from tpc expert.",
          "change trigger rate to 500 khz",
          "include tpc.",
          "texpert request",
          "end the calibration",
          "revert readout configuration to see if it helps with errors from tpc (flp080) and its."
         ]
        },
        {
         "hoverinfo": "text",
         "hovertext": [
          "<b>Topic 1923</b><br>Words: starting dma, dma for, dma, starting, roc equipment",
          "<b>Topic 1923</b><br>Words: orbit 0x0422bf00, 0x0422beff, 12 0x570, 0x04268400 not, orbit 0x04268400",
          "<b>Topic 1923</b><br>Words: col, row, sm, in channel, channel col",
          "<b>Topic 1923</b><br>Words: row, col, in channel, channel col, sm",
          "<b>Topic 1923</b><br>Words: row, col, sm, in channel, channel col",
          "<b>Topic 1923</b><br>Words: row, col, in channel, sm, channel col",
          "<b>Topic 1923</b><br>Words: row, col, channelhgnolg found, in channelhgnolg, channelhgnolg",
          "<b>Topic 1923</b><br>Words: row, col, in channel, sm, channel col",
          "<b>Topic 1923</b><br>Words: 0x7ef55e600000 9552527360, 0x7f7f1bc00000, block 0x7f7f1bc00000, block 0x7faadfc00000, block 0x7ef55e600000",
          "<b>Topic 1923</b><br>Words: row, col, in channel, channel col, sm",
          "<b>Topic 1923</b><br>Words: row, col, in channelhgnolg, channelhgnolg found, channelhgnolg",
          "<b>Topic 1923</b><br>Words: size 911757, 911757, 911757 bytes, 2aszhxujj4r, taskid 2aszhxujj4r",
          "<b>Topic 1923</b><br>Words: row, col, sm, in channel, channel col",
          "<b>Topic 1923</b><br>Words: col, row, sm 15, 15 row, in channel",
          "<b>Topic 1923</b><br>Words: col, row, channel col, sm, in channel",
          "<b>Topic 1923</b><br>Words: row, col, channel col, in channel, sm",
          "<b>Topic 1923</b><br>Words: 2178 100393269, 100393269 on, 100393269, 49 stave, ru 49",
          "<b>Topic 1923</b><br>Words: row, col, sm, in channel, channel col",
          "<b>Topic 1923</b><br>Words: col, row, channel col, sm, in channel",
          "<b>Topic 1923</b><br>Words: row, col, in channel, sm, channel col",
          "<b>Topic 1923</b><br>Words: in channellgnohg, channellgnohg found, channellgnohg, col, row",
          "<b>Topic 1923</b><br>Words: col, row, channelhgnolg found, in channelhgnolg, channelhgnolg",
          "<b>Topic 1923</b><br>Words: col, row, channel col, sm, in channel",
          "<b>Topic 1923</b><br>Words: col, row, channellgnohg found, in channellgnohg, channellgnohg",
          "<b>Topic 1923</b><br>Words: row, col, in channelhgnolg, channelhgnolg found, channelhgnolg",
          "<b>Topic 1923</b><br>Words: col, row, in channel, channel col, sm",
          "<b>Topic 1923</b><br>Words: col, row, sm, in channel, channel col",
          "<b>Topic 1923</b><br>Words: row, col, channel col, in channel, sm",
          "<b>Topic 1923</b><br>Words: col, row, sm, in channel, channel col",
          "<b>Topic 1923</b><br>Words: col, row, in channel, channel col, sm",
          "<b>Topic 1923</b><br>Words: row, col, in channel, channel col, sm",
          "<b>Topic 1923</b><br>Words: col 24, sm 12, 12 row, row col, 24",
          "<b>Topic 1923</b><br>Words: col, row, in channel, sm, channel col",
          "<b>Topic 1923</b><br>Words: row, col, sm, in channel, channel col",
          "<b>Topic 1923</b><br>Words: col, row, in channel, channel col, sm",
          "<b>Topic 1923</b><br>Words: row, col, channellgnohg found, in channellgnohg, channellgnohg",
          "<b>Topic 1923</b><br>Words: col, row, in channel, sm, channel col",
          "<b>Topic 1923</b><br>Words: col, row, sm, channel col, in channel",
          "<b>Topic 1923</b><br>Words: col, row, channel col, in channel, sm",
          "<b>Topic 1923</b><br>Words: orbit 0x00b95a80, 0x00b95a7f, 0x00b08900, 0x00b08900 0x00b0897f, 0x00b0897f",
          "<b>Topic 1923</b><br>Words: row, col, sm, channel col, in channel",
          "<b>Topic 1923</b><br>Words: row, col, in channel, sm, channel col",
          "<b>Topic 1923</b><br>Words: 269917 stats, 293 777, 191 hz, 606 191, 12 68",
          "<b>Topic 1923</b><br>Words: col, row, channellgnohg found, in channellgnohg, channellgnohg"
         ],
         "marker": {
          "color": "#009E73"
         },
         "name": "1923_row_col_in channel_channel col",
         "orientation": "h",
         "type": "bar",
         "visible": "legendonly",
         "x": [
          1,
          2,
          8778,
          9758,
          120,
          1054,
          407,
          148,
          9,
          8483,
          498,
          2,
          91,
          195,
          271,
          470,
          6,
          25,
          863,
          631,
          17,
          159,
          1189,
          3888,
          948,
          1873,
          303,
          398,
          66,
          27,
          249,
          9,
          3220,
          8912,
          79,
          6607,
          10929,
          162,
          99,
          4,
          4042,
          1824,
          5,
          2096
         ],
         "y": [
          " end calibration",
          "sor call failed",
          "preparation for tpc scan",
          "mid expert request.",
          "phos/cpv",
          "end test",
          "tpc scan ",
          "pdp expert request,",
          "calibration failed",
          "sl request to include mid",
          "all epns crashed simultaneously",
          "ali-ecs core restarted",
          "end calibration",
          "preparing for physics",
          "trigger readout went to zero.",
          "all epns crashed simultaneously with primary vertex error.",
          "need to restart trigger.",
          "started by mistake",
          "epn went flat",
          "expert request cpv",
          "emcal",
          " jit-4e1deca4ebdf11d52f3ee4f99c0c46f78222361d-mch-qctaskmchdigits-proxy",
          "change luminosity",
          "lhc dumped beam dump",
          "changed predefined physics configuration",
          "adjust handshake",
          "all epns crashed simultaneously.",
          "change predefined configuration.",
          "rm asks to stop the run",
          "triggers out synch. disabling ctp readout.",
          "tpc expert request.",
          "preparation for calibration.",
          "include maximum number epns (211)",
          "change lumi to 1mhz",
          "calibration ended automatically",
          "change config for mft",
          "beam dump",
          "dpl errors on ali02-cr1-flp080 -  tpc flp (run stopped by the operator).",
          "tpc need to disable re-sync.",
          "request from tpc expert.",
          "change trigger rate to 500 khz",
          "texpert request",
          "end the calibration",
          "revert readout configuration to see if it helps with errors from tpc (flp080) and its."
         ]
        }
       ],
       "layout": {
        "height": 900,
        "hoverlabel": {
         "bgcolor": "white",
         "font": {
          "family": "Rockwell",
          "size": 16
         }
        },
        "legend": {
         "title": {
          "text": "<b>Global Topic Representation"
         }
        },
        "template": {
         "data": {
          "bar": [
           {
            "error_x": {
             "color": "rgb(36,36,36)"
            },
            "error_y": {
             "color": "rgb(36,36,36)"
            },
            "marker": {
             "line": {
              "color": "white",
              "width": 0.5
             },
             "pattern": {
              "fillmode": "overlay",
              "size": 10,
              "solidity": 0.2
             }
            },
            "type": "bar"
           }
          ],
          "barpolar": [
           {
            "marker": {
             "line": {
              "color": "white",
              "width": 0.5
             },
             "pattern": {
              "fillmode": "overlay",
              "size": 10,
              "solidity": 0.2
             }
            },
            "type": "barpolar"
           }
          ],
          "carpet": [
           {
            "aaxis": {
             "endlinecolor": "rgb(36,36,36)",
             "gridcolor": "white",
             "linecolor": "white",
             "minorgridcolor": "white",
             "startlinecolor": "rgb(36,36,36)"
            },
            "baxis": {
             "endlinecolor": "rgb(36,36,36)",
             "gridcolor": "white",
             "linecolor": "white",
             "minorgridcolor": "white",
             "startlinecolor": "rgb(36,36,36)"
            },
            "type": "carpet"
           }
          ],
          "choropleth": [
           {
            "colorbar": {
             "outlinewidth": 1,
             "tickcolor": "rgb(36,36,36)",
             "ticks": "outside"
            },
            "type": "choropleth"
           }
          ],
          "contour": [
           {
            "colorbar": {
             "outlinewidth": 1,
             "tickcolor": "rgb(36,36,36)",
             "ticks": "outside"
            },
            "colorscale": [
             [
              0,
              "#440154"
             ],
             [
              0.1111111111111111,
              "#482878"
             ],
             [
              0.2222222222222222,
              "#3e4989"
             ],
             [
              0.3333333333333333,
              "#31688e"
             ],
             [
              0.4444444444444444,
              "#26828e"
             ],
             [
              0.5555555555555556,
              "#1f9e89"
             ],
             [
              0.6666666666666666,
              "#35b779"
             ],
             [
              0.7777777777777778,
              "#6ece58"
             ],
             [
              0.8888888888888888,
              "#b5de2b"
             ],
             [
              1,
              "#fde725"
             ]
            ],
            "type": "contour"
           }
          ],
          "contourcarpet": [
           {
            "colorbar": {
             "outlinewidth": 1,
             "tickcolor": "rgb(36,36,36)",
             "ticks": "outside"
            },
            "type": "contourcarpet"
           }
          ],
          "heatmap": [
           {
            "colorbar": {
             "outlinewidth": 1,
             "tickcolor": "rgb(36,36,36)",
             "ticks": "outside"
            },
            "colorscale": [
             [
              0,
              "#440154"
             ],
             [
              0.1111111111111111,
              "#482878"
             ],
             [
              0.2222222222222222,
              "#3e4989"
             ],
             [
              0.3333333333333333,
              "#31688e"
             ],
             [
              0.4444444444444444,
              "#26828e"
             ],
             [
              0.5555555555555556,
              "#1f9e89"
             ],
             [
              0.6666666666666666,
              "#35b779"
             ],
             [
              0.7777777777777778,
              "#6ece58"
             ],
             [
              0.8888888888888888,
              "#b5de2b"
             ],
             [
              1,
              "#fde725"
             ]
            ],
            "type": "heatmap"
           }
          ],
          "heatmapgl": [
           {
            "colorbar": {
             "outlinewidth": 1,
             "tickcolor": "rgb(36,36,36)",
             "ticks": "outside"
            },
            "colorscale": [
             [
              0,
              "#440154"
             ],
             [
              0.1111111111111111,
              "#482878"
             ],
             [
              0.2222222222222222,
              "#3e4989"
             ],
             [
              0.3333333333333333,
              "#31688e"
             ],
             [
              0.4444444444444444,
              "#26828e"
             ],
             [
              0.5555555555555556,
              "#1f9e89"
             ],
             [
              0.6666666666666666,
              "#35b779"
             ],
             [
              0.7777777777777778,
              "#6ece58"
             ],
             [
              0.8888888888888888,
              "#b5de2b"
             ],
             [
              1,
              "#fde725"
             ]
            ],
            "type": "heatmapgl"
           }
          ],
          "histogram": [
           {
            "marker": {
             "line": {
              "color": "white",
              "width": 0.6
             }
            },
            "type": "histogram"
           }
          ],
          "histogram2d": [
           {
            "colorbar": {
             "outlinewidth": 1,
             "tickcolor": "rgb(36,36,36)",
             "ticks": "outside"
            },
            "colorscale": [
             [
              0,
              "#440154"
             ],
             [
              0.1111111111111111,
              "#482878"
             ],
             [
              0.2222222222222222,
              "#3e4989"
             ],
             [
              0.3333333333333333,
              "#31688e"
             ],
             [
              0.4444444444444444,
              "#26828e"
             ],
             [
              0.5555555555555556,
              "#1f9e89"
             ],
             [
              0.6666666666666666,
              "#35b779"
             ],
             [
              0.7777777777777778,
              "#6ece58"
             ],
             [
              0.8888888888888888,
              "#b5de2b"
             ],
             [
              1,
              "#fde725"
             ]
            ],
            "type": "histogram2d"
           }
          ],
          "histogram2dcontour": [
           {
            "colorbar": {
             "outlinewidth": 1,
             "tickcolor": "rgb(36,36,36)",
             "ticks": "outside"
            },
            "colorscale": [
             [
              0,
              "#440154"
             ],
             [
              0.1111111111111111,
              "#482878"
             ],
             [
              0.2222222222222222,
              "#3e4989"
             ],
             [
              0.3333333333333333,
              "#31688e"
             ],
             [
              0.4444444444444444,
              "#26828e"
             ],
             [
              0.5555555555555556,
              "#1f9e89"
             ],
             [
              0.6666666666666666,
              "#35b779"
             ],
             [
              0.7777777777777778,
              "#6ece58"
             ],
             [
              0.8888888888888888,
              "#b5de2b"
             ],
             [
              1,
              "#fde725"
             ]
            ],
            "type": "histogram2dcontour"
           }
          ],
          "mesh3d": [
           {
            "colorbar": {
             "outlinewidth": 1,
             "tickcolor": "rgb(36,36,36)",
             "ticks": "outside"
            },
            "type": "mesh3d"
           }
          ],
          "parcoords": [
           {
            "line": {
             "colorbar": {
              "outlinewidth": 1,
              "tickcolor": "rgb(36,36,36)",
              "ticks": "outside"
             }
            },
            "type": "parcoords"
           }
          ],
          "pie": [
           {
            "automargin": true,
            "type": "pie"
           }
          ],
          "scatter": [
           {
            "fillpattern": {
             "fillmode": "overlay",
             "size": 10,
             "solidity": 0.2
            },
            "type": "scatter"
           }
          ],
          "scatter3d": [
           {
            "line": {
             "colorbar": {
              "outlinewidth": 1,
              "tickcolor": "rgb(36,36,36)",
              "ticks": "outside"
             }
            },
            "marker": {
             "colorbar": {
              "outlinewidth": 1,
              "tickcolor": "rgb(36,36,36)",
              "ticks": "outside"
             }
            },
            "type": "scatter3d"
           }
          ],
          "scattercarpet": [
           {
            "marker": {
             "colorbar": {
              "outlinewidth": 1,
              "tickcolor": "rgb(36,36,36)",
              "ticks": "outside"
             }
            },
            "type": "scattercarpet"
           }
          ],
          "scattergeo": [
           {
            "marker": {
             "colorbar": {
              "outlinewidth": 1,
              "tickcolor": "rgb(36,36,36)",
              "ticks": "outside"
             }
            },
            "type": "scattergeo"
           }
          ],
          "scattergl": [
           {
            "marker": {
             "colorbar": {
              "outlinewidth": 1,
              "tickcolor": "rgb(36,36,36)",
              "ticks": "outside"
             }
            },
            "type": "scattergl"
           }
          ],
          "scattermapbox": [
           {
            "marker": {
             "colorbar": {
              "outlinewidth": 1,
              "tickcolor": "rgb(36,36,36)",
              "ticks": "outside"
             }
            },
            "type": "scattermapbox"
           }
          ],
          "scatterpolar": [
           {
            "marker": {
             "colorbar": {
              "outlinewidth": 1,
              "tickcolor": "rgb(36,36,36)",
              "ticks": "outside"
             }
            },
            "type": "scatterpolar"
           }
          ],
          "scatterpolargl": [
           {
            "marker": {
             "colorbar": {
              "outlinewidth": 1,
              "tickcolor": "rgb(36,36,36)",
              "ticks": "outside"
             }
            },
            "type": "scatterpolargl"
           }
          ],
          "scatterternary": [
           {
            "marker": {
             "colorbar": {
              "outlinewidth": 1,
              "tickcolor": "rgb(36,36,36)",
              "ticks": "outside"
             }
            },
            "type": "scatterternary"
           }
          ],
          "surface": [
           {
            "colorbar": {
             "outlinewidth": 1,
             "tickcolor": "rgb(36,36,36)",
             "ticks": "outside"
            },
            "colorscale": [
             [
              0,
              "#440154"
             ],
             [
              0.1111111111111111,
              "#482878"
             ],
             [
              0.2222222222222222,
              "#3e4989"
             ],
             [
              0.3333333333333333,
              "#31688e"
             ],
             [
              0.4444444444444444,
              "#26828e"
             ],
             [
              0.5555555555555556,
              "#1f9e89"
             ],
             [
              0.6666666666666666,
              "#35b779"
             ],
             [
              0.7777777777777778,
              "#6ece58"
             ],
             [
              0.8888888888888888,
              "#b5de2b"
             ],
             [
              1,
              "#fde725"
             ]
            ],
            "type": "surface"
           }
          ],
          "table": [
           {
            "cells": {
             "fill": {
              "color": "rgb(237,237,237)"
             },
             "line": {
              "color": "white"
             }
            },
            "header": {
             "fill": {
              "color": "rgb(217,217,217)"
             },
             "line": {
              "color": "white"
             }
            },
            "type": "table"
           }
          ]
         },
         "layout": {
          "annotationdefaults": {
           "arrowhead": 0,
           "arrowwidth": 1
          },
          "autotypenumbers": "strict",
          "coloraxis": {
           "colorbar": {
            "outlinewidth": 1,
            "tickcolor": "rgb(36,36,36)",
            "ticks": "outside"
           }
          },
          "colorscale": {
           "diverging": [
            [
             0,
             "rgb(103,0,31)"
            ],
            [
             0.1,
             "rgb(178,24,43)"
            ],
            [
             0.2,
             "rgb(214,96,77)"
            ],
            [
             0.3,
             "rgb(244,165,130)"
            ],
            [
             0.4,
             "rgb(253,219,199)"
            ],
            [
             0.5,
             "rgb(247,247,247)"
            ],
            [
             0.6,
             "rgb(209,229,240)"
            ],
            [
             0.7,
             "rgb(146,197,222)"
            ],
            [
             0.8,
             "rgb(67,147,195)"
            ],
            [
             0.9,
             "rgb(33,102,172)"
            ],
            [
             1,
             "rgb(5,48,97)"
            ]
           ],
           "sequential": [
            [
             0,
             "#440154"
            ],
            [
             0.1111111111111111,
             "#482878"
            ],
            [
             0.2222222222222222,
             "#3e4989"
            ],
            [
             0.3333333333333333,
             "#31688e"
            ],
            [
             0.4444444444444444,
             "#26828e"
            ],
            [
             0.5555555555555556,
             "#1f9e89"
            ],
            [
             0.6666666666666666,
             "#35b779"
            ],
            [
             0.7777777777777778,
             "#6ece58"
            ],
            [
             0.8888888888888888,
             "#b5de2b"
            ],
            [
             1,
             "#fde725"
            ]
           ],
           "sequentialminus": [
            [
             0,
             "#440154"
            ],
            [
             0.1111111111111111,
             "#482878"
            ],
            [
             0.2222222222222222,
             "#3e4989"
            ],
            [
             0.3333333333333333,
             "#31688e"
            ],
            [
             0.4444444444444444,
             "#26828e"
            ],
            [
             0.5555555555555556,
             "#1f9e89"
            ],
            [
             0.6666666666666666,
             "#35b779"
            ],
            [
             0.7777777777777778,
             "#6ece58"
            ],
            [
             0.8888888888888888,
             "#b5de2b"
            ],
            [
             1,
             "#fde725"
            ]
           ]
          },
          "colorway": [
           "#1F77B4",
           "#FF7F0E",
           "#2CA02C",
           "#D62728",
           "#9467BD",
           "#8C564B",
           "#E377C2",
           "#7F7F7F",
           "#BCBD22",
           "#17BECF"
          ],
          "font": {
           "color": "rgb(36,36,36)"
          },
          "geo": {
           "bgcolor": "white",
           "lakecolor": "white",
           "landcolor": "white",
           "showlakes": true,
           "showland": true,
           "subunitcolor": "white"
          },
          "hoverlabel": {
           "align": "left"
          },
          "hovermode": "closest",
          "mapbox": {
           "style": "light"
          },
          "paper_bgcolor": "white",
          "plot_bgcolor": "white",
          "polar": {
           "angularaxis": {
            "gridcolor": "rgb(232,232,232)",
            "linecolor": "rgb(36,36,36)",
            "showgrid": false,
            "showline": true,
            "ticks": "outside"
           },
           "bgcolor": "white",
           "radialaxis": {
            "gridcolor": "rgb(232,232,232)",
            "linecolor": "rgb(36,36,36)",
            "showgrid": false,
            "showline": true,
            "ticks": "outside"
           }
          },
          "scene": {
           "xaxis": {
            "backgroundcolor": "white",
            "gridcolor": "rgb(232,232,232)",
            "gridwidth": 2,
            "linecolor": "rgb(36,36,36)",
            "showbackground": true,
            "showgrid": false,
            "showline": true,
            "ticks": "outside",
            "zeroline": false,
            "zerolinecolor": "rgb(36,36,36)"
           },
           "yaxis": {
            "backgroundcolor": "white",
            "gridcolor": "rgb(232,232,232)",
            "gridwidth": 2,
            "linecolor": "rgb(36,36,36)",
            "showbackground": true,
            "showgrid": false,
            "showline": true,
            "ticks": "outside",
            "zeroline": false,
            "zerolinecolor": "rgb(36,36,36)"
           },
           "zaxis": {
            "backgroundcolor": "white",
            "gridcolor": "rgb(232,232,232)",
            "gridwidth": 2,
            "linecolor": "rgb(36,36,36)",
            "showbackground": true,
            "showgrid": false,
            "showline": true,
            "ticks": "outside",
            "zeroline": false,
            "zerolinecolor": "rgb(36,36,36)"
           }
          },
          "shapedefaults": {
           "fillcolor": "black",
           "line": {
            "width": 0
           },
           "opacity": 0.3
          },
          "ternary": {
           "aaxis": {
            "gridcolor": "rgb(232,232,232)",
            "linecolor": "rgb(36,36,36)",
            "showgrid": false,
            "showline": true,
            "ticks": "outside"
           },
           "baxis": {
            "gridcolor": "rgb(232,232,232)",
            "linecolor": "rgb(36,36,36)",
            "showgrid": false,
            "showline": true,
            "ticks": "outside"
           },
           "bgcolor": "white",
           "caxis": {
            "gridcolor": "rgb(232,232,232)",
            "linecolor": "rgb(36,36,36)",
            "showgrid": false,
            "showline": true,
            "ticks": "outside"
           }
          },
          "title": {
           "x": 0.05
          },
          "xaxis": {
           "automargin": true,
           "gridcolor": "rgb(232,232,232)",
           "linecolor": "rgb(36,36,36)",
           "showgrid": false,
           "showline": true,
           "ticks": "outside",
           "title": {
            "standoff": 15
           },
           "zeroline": false,
           "zerolinecolor": "rgb(36,36,36)"
          },
          "yaxis": {
           "automargin": true,
           "gridcolor": "rgb(232,232,232)",
           "linecolor": "rgb(36,36,36)",
           "showgrid": false,
           "showline": true,
           "ticks": "outside",
           "title": {
            "standoff": 15
           },
           "zeroline": false,
           "zerolinecolor": "rgb(36,36,36)"
          }
         }
        },
        "title": {
         "font": {
          "color": "Black",
          "size": 22
         },
         "text": "<b>Topics per Class</b>",
         "x": 0.4,
         "xanchor": "center",
         "y": 0.95,
         "yanchor": "top"
        },
        "width": 1250,
        "xaxis": {
         "showgrid": true,
         "title": {
          "text": "Frequency"
         }
        },
        "yaxis": {
         "showgrid": true,
         "title": {
          "text": "Class"
         }
        }
       }
      }
     },
     "metadata": {},
     "output_type": "display_data"
    }
   ],
   "source": [
    "topics_per_class = topic_model.model.topics_per_class(df.content.tolist(), df.EOR.tolist())\n",
    "topic_model.model.visualize_topics_per_class(topics_per_class)"
   ]
  },
  {
   "cell_type": "code",
   "execution_count": 54,
   "metadata": {},
   "outputs": [
    {
     "data": {
      "text/html": [
       "<div>\n",
       "<style scoped>\n",
       "    .dataframe tbody tr th:only-of-type {\n",
       "        vertical-align: middle;\n",
       "    }\n",
       "\n",
       "    .dataframe tbody tr th {\n",
       "        vertical-align: top;\n",
       "    }\n",
       "\n",
       "    .dataframe thead th {\n",
       "        text-align: right;\n",
       "    }\n",
       "</style>\n",
       "<table border=\"1\" class=\"dataframe\">\n",
       "  <thead>\n",
       "    <tr style=\"text-align: right;\">\n",
       "      <th></th>\n",
       "      <th>session_id</th>\n",
       "      <th>severity</th>\n",
       "      <th>content</th>\n",
       "      <th>event_id</th>\n",
       "      <th>event_template</th>\n",
       "      <th>label</th>\n",
       "      <th>EOR</th>\n",
       "      <th>EOR_id</th>\n",
       "      <th>run_quality</th>\n",
       "      <th>topic</th>\n",
       "    </tr>\n",
       "  </thead>\n",
       "  <tbody>\n",
       "    <tr>\n",
       "      <th>179910</th>\n",
       "      <td>24064</td>\n",
       "      <td>I</td>\n",
       "      <td>Stopping DMA for ROC H1-D4-F0</td>\n",
       "      <td>505</td>\n",
       "      <td>Stopping DMA for ROC &lt;*&gt;</td>\n",
       "      <td>not crashed</td>\n",
       "      <td>eor test.</td>\n",
       "      <td>61.0</td>\n",
       "      <td>test</td>\n",
       "      <td>177</td>\n",
       "    </tr>\n",
       "    <tr>\n",
       "      <th>179911</th>\n",
       "      <td>24064</td>\n",
       "      <td>I</td>\n",
       "      <td>Stopping DMA for ROC H1-D4-F1</td>\n",
       "      <td>505</td>\n",
       "      <td>Stopping DMA for ROC &lt;*&gt;</td>\n",
       "      <td>not crashed</td>\n",
       "      <td>eor test.</td>\n",
       "      <td>61.0</td>\n",
       "      <td>test</td>\n",
       "      <td>177</td>\n",
       "    </tr>\n",
       "    <tr>\n",
       "      <th>179912</th>\n",
       "      <td>24064</td>\n",
       "      <td>I</td>\n",
       "      <td>Stopping DMA for ROC H0-D0-F0</td>\n",
       "      <td>505</td>\n",
       "      <td>Stopping DMA for ROC &lt;*&gt;</td>\n",
       "      <td>not crashed</td>\n",
       "      <td>eor test.</td>\n",
       "      <td>61.0</td>\n",
       "      <td>test</td>\n",
       "      <td>177</td>\n",
       "    </tr>\n",
       "    <tr>\n",
       "      <th>179913</th>\n",
       "      <td>24064</td>\n",
       "      <td>I</td>\n",
       "      <td>Stopping DMA for ROC H0-D0-F1</td>\n",
       "      <td>505</td>\n",
       "      <td>Stopping DMA for ROC &lt;*&gt;</td>\n",
       "      <td>not crashed</td>\n",
       "      <td>eor test.</td>\n",
       "      <td>61.0</td>\n",
       "      <td>test</td>\n",
       "      <td>177</td>\n",
       "    </tr>\n",
       "    <tr>\n",
       "      <th>187195</th>\n",
       "      <td>24064</td>\n",
       "      <td>I</td>\n",
       "      <td>Stopping DMA for ROC H1-D4-F0</td>\n",
       "      <td>505</td>\n",
       "      <td>Stopping DMA for ROC &lt;*&gt;</td>\n",
       "      <td>not crashed</td>\n",
       "      <td>eor test.</td>\n",
       "      <td>61.0</td>\n",
       "      <td>test</td>\n",
       "      <td>177</td>\n",
       "    </tr>\n",
       "    <tr>\n",
       "      <th>...</th>\n",
       "      <td>...</td>\n",
       "      <td>...</td>\n",
       "      <td>...</td>\n",
       "      <td>...</td>\n",
       "      <td>...</td>\n",
       "      <td>...</td>\n",
       "      <td>...</td>\n",
       "      <td>...</td>\n",
       "      <td>...</td>\n",
       "      <td>...</td>\n",
       "    </tr>\n",
       "    <tr>\n",
       "      <th>34847621</th>\n",
       "      <td>24356</td>\n",
       "      <td>I</td>\n",
       "      <td>ITSDecoder registered new link link cruID:0x00...</td>\n",
       "      <td>440</td>\n",
       "      <td>ITSDecoder registered new link link cruID:&lt;*&gt;</td>\n",
       "      <td>crashed</td>\n",
       "      <td>triggers out synch. disabling ctp readout.</td>\n",
       "      <td>59.0</td>\n",
       "      <td>bad</td>\n",
       "      <td>177</td>\n",
       "    </tr>\n",
       "    <tr>\n",
       "      <th>34848487</th>\n",
       "      <td>24356</td>\n",
       "      <td>I</td>\n",
       "      <td>ITSDecoder registered new link link cruID:0x00...</td>\n",
       "      <td>440</td>\n",
       "      <td>ITSDecoder registered new link link cruID:&lt;*&gt;</td>\n",
       "      <td>crashed</td>\n",
       "      <td>triggers out synch. disabling ctp readout.</td>\n",
       "      <td>59.0</td>\n",
       "      <td>bad</td>\n",
       "      <td>177</td>\n",
       "    </tr>\n",
       "    <tr>\n",
       "      <th>34849602</th>\n",
       "      <td>24356</td>\n",
       "      <td>I</td>\n",
       "      <td>ITSDecoder Attaching link cruID:0x00c1/lID8 fe...</td>\n",
       "      <td>441</td>\n",
       "      <td>ITSDecoder Attaching link cruID:&lt;*&gt;feeID:&lt;*&gt;</td>\n",
       "      <td>crashed</td>\n",
       "      <td>triggers out synch. disabling ctp readout.</td>\n",
       "      <td>59.0</td>\n",
       "      <td>bad</td>\n",
       "      <td>177</td>\n",
       "    </tr>\n",
       "    <tr>\n",
       "      <th>34849603</th>\n",
       "      <td>24356</td>\n",
       "      <td>I</td>\n",
       "      <td>ITSDecoder Attaching link cruID:0x00c1/lID9 fe...</td>\n",
       "      <td>441</td>\n",
       "      <td>ITSDecoder Attaching link cruID:&lt;*&gt;feeID:&lt;*&gt;</td>\n",
       "      <td>crashed</td>\n",
       "      <td>triggers out synch. disabling ctp readout.</td>\n",
       "      <td>59.0</td>\n",
       "      <td>bad</td>\n",
       "      <td>177</td>\n",
       "    </tr>\n",
       "    <tr>\n",
       "      <th>34854600</th>\n",
       "      <td>24356</td>\n",
       "      <td>I</td>\n",
       "      <td>New error registered at bc/orbit 0/107544069 o...</td>\n",
       "      <td>835</td>\n",
       "      <td>New error registered at bc/orbit &lt;*&gt;/&lt;*&gt; on th...</td>\n",
       "      <td>crashed</td>\n",
       "      <td>triggers out synch. disabling ctp readout.</td>\n",
       "      <td>59.0</td>\n",
       "      <td>bad</td>\n",
       "      <td>177</td>\n",
       "    </tr>\n",
       "  </tbody>\n",
       "</table>\n",
       "<p>65653 rows × 10 columns</p>\n",
       "</div>"
      ],
      "text/plain": [
       "          session_id severity  \\\n",
       "179910         24064        I   \n",
       "179911         24064        I   \n",
       "179912         24064        I   \n",
       "179913         24064        I   \n",
       "187195         24064        I   \n",
       "...              ...      ...   \n",
       "34847621       24356        I   \n",
       "34848487       24356        I   \n",
       "34849602       24356        I   \n",
       "34849603       24356        I   \n",
       "34854600       24356        I   \n",
       "\n",
       "                                                    content  event_id  \\\n",
       "179910                        Stopping DMA for ROC H1-D4-F0       505   \n",
       "179911                        Stopping DMA for ROC H1-D4-F1       505   \n",
       "179912                        Stopping DMA for ROC H0-D0-F0       505   \n",
       "179913                        Stopping DMA for ROC H0-D0-F1       505   \n",
       "187195                        Stopping DMA for ROC H1-D4-F0       505   \n",
       "...                                                     ...       ...   \n",
       "34847621  ITSDecoder registered new link link cruID:0x00...       440   \n",
       "34848487  ITSDecoder registered new link link cruID:0x00...       440   \n",
       "34849602  ITSDecoder Attaching link cruID:0x00c1/lID8 fe...       441   \n",
       "34849603  ITSDecoder Attaching link cruID:0x00c1/lID9 fe...       441   \n",
       "34854600  New error registered at bc/orbit 0/107544069 o...       835   \n",
       "\n",
       "                                             event_template        label  \\\n",
       "179910                             Stopping DMA for ROC <*>  not crashed   \n",
       "179911                             Stopping DMA for ROC <*>  not crashed   \n",
       "179912                             Stopping DMA for ROC <*>  not crashed   \n",
       "179913                             Stopping DMA for ROC <*>  not crashed   \n",
       "187195                             Stopping DMA for ROC <*>  not crashed   \n",
       "...                                                     ...          ...   \n",
       "34847621      ITSDecoder registered new link link cruID:<*>      crashed   \n",
       "34848487      ITSDecoder registered new link link cruID:<*>      crashed   \n",
       "34849602       ITSDecoder Attaching link cruID:<*>feeID:<*>      crashed   \n",
       "34849603       ITSDecoder Attaching link cruID:<*>feeID:<*>      crashed   \n",
       "34854600  New error registered at bc/orbit <*>/<*> on th...      crashed   \n",
       "\n",
       "                                                 EOR  EOR_id run_quality  \\\n",
       "179910                                     eor test.    61.0        test   \n",
       "179911                                     eor test.    61.0        test   \n",
       "179912                                     eor test.    61.0        test   \n",
       "179913                                     eor test.    61.0        test   \n",
       "187195                                     eor test.    61.0        test   \n",
       "...                                              ...     ...         ...   \n",
       "34847621  triggers out synch. disabling ctp readout.    59.0         bad   \n",
       "34848487  triggers out synch. disabling ctp readout.    59.0         bad   \n",
       "34849602  triggers out synch. disabling ctp readout.    59.0         bad   \n",
       "34849603  triggers out synch. disabling ctp readout.    59.0         bad   \n",
       "34854600  triggers out synch. disabling ctp readout.    59.0         bad   \n",
       "\n",
       "          topic  \n",
       "179910      177  \n",
       "179911      177  \n",
       "179912      177  \n",
       "179913      177  \n",
       "187195      177  \n",
       "...         ...  \n",
       "34847621    177  \n",
       "34848487    177  \n",
       "34849602    177  \n",
       "34849603    177  \n",
       "34854600    177  \n",
       "\n",
       "[65653 rows x 10 columns]"
      ]
     },
     "execution_count": 54,
     "metadata": {},
     "output_type": "execute_result"
    }
   ],
   "source": [
    "df[df['topic']==177]"
   ]
  },
  {
   "cell_type": "code",
   "execution_count": 15,
   "metadata": {},
   "outputs": [],
   "source": [
    "df.to_parquet('dataset/ALICE-OSLdataset/ALICE_info_no_severity_D_with_topic.parquet.gzip')"
   ]
  },
  {
   "cell_type": "markdown",
   "metadata": {},
   "source": [
    "# LMAO graph"
   ]
  },
  {
   "cell_type": "code",
   "execution_count": 5,
   "metadata": {},
   "outputs": [],
   "source": [
    "from lmao.graph import LMAOGraph"
   ]
  },
  {
   "cell_type": "code",
   "execution_count": 25,
   "metadata": {},
   "outputs": [
    {
     "name": "stdout",
     "output_type": "stream",
     "text": [
      "Topics size of this dataframe is : 2149\n",
      "Getting Group by from dataframe\n"
     ]
    },
    {
     "data": {
      "application/vnd.jupyter.widget-view+json": {
       "model_id": "61d13e3c3f7d4471a8764745e1829291",
       "version_major": 2,
       "version_minor": 0
      },
      "text/plain": [
       "  0%|          | 0/126 [00:00<?, ?it/s]"
      ]
     },
     "metadata": {},
     "output_type": "display_data"
    },
    {
     "name": "stdout",
     "output_type": "stream",
     "text": [
      "Max sequence size of this dataframe is : 772369\n",
      "Please call .get_PyG() to get PyG dataloader\n"
     ]
    }
   ],
   "source": [
    "data = LMAOGraph(df=pd.read_parquet('dataset/ALICE-OSLdataset/ALICE_info_no_severity_D_with_topic.parquet.gzip'),mode='pyg', padding=False)"
   ]
  },
  {
   "cell_type": "code",
   "execution_count": 26,
   "metadata": {},
   "outputs": [
    {
     "data": {
      "text/plain": [
       "41"
      ]
     },
     "execution_count": 26,
     "metadata": {},
     "output_type": "execute_result"
    }
   ],
   "source": [
    "data.df['X'].apply(len).sort_values(ascending=False).index[110]"
   ]
  },
  {
   "cell_type": "code",
   "execution_count": 27,
   "metadata": {},
   "outputs": [
    {
     "data": {
      "text/plain": [
       "84"
      ]
     },
     "execution_count": 27,
     "metadata": {},
     "output_type": "execute_result"
    }
   ],
   "source": [
    "G = data.get_one_graph(41, no_feature=True)\n",
    "len(G.nodes())"
   ]
  },
  {
   "cell_type": "code",
   "execution_count": 28,
   "metadata": {},
   "outputs": [
    {
     "data": {
      "text/plain": [
       "'crashed'"
      ]
     },
     "execution_count": 28,
     "metadata": {},
     "output_type": "execute_result"
    }
   ],
   "source": [
    "data.df['y'][41]"
   ]
  },
  {
   "cell_type": "code",
   "execution_count": 29,
   "metadata": {},
   "outputs": [],
   "source": [
    "from lmao.visualizer.plot import plotly_digraph"
   ]
  },
  {
   "cell_type": "code",
   "execution_count": 30,
   "metadata": {},
   "outputs": [
    {
     "data": {
      "application/vnd.plotly.v1+json": {
       "config": {
        "plotlyServerURL": "https://plot.ly"
       },
       "data": [
        {
         "hoverinfo": "none",
         "marker": {
          "angleref": "previous",
          "color": [
           0,
           0,
           0,
           0,
           0,
           0,
           0,
           0,
           0,
           0,
           0,
           0,
           0,
           0,
           0,
           0,
           0,
           0,
           0,
           0,
           0,
           0,
           0,
           0,
           0,
           0,
           0,
           0,
           0,
           0,
           0,
           0,
           0,
           0,
           0,
           0,
           0,
           0,
           0,
           0,
           0,
           0,
           0,
           0,
           0,
           0,
           0,
           0,
           0,
           0,
           0,
           0,
           0,
           0,
           0,
           0,
           0,
           0,
           0,
           0,
           0,
           0,
           0,
           0,
           0,
           0,
           0,
           0,
           0,
           0,
           0,
           0,
           0,
           0,
           0,
           0,
           0,
           0,
           0,
           0,
           0,
           0,
           0,
           0,
           0,
           0,
           0,
           0,
           0,
           0,
           0,
           0,
           0,
           0,
           0,
           0,
           0,
           0,
           0,
           0,
           0,
           0,
           0,
           0,
           0,
           0,
           0,
           0,
           0,
           0,
           0,
           0,
           0,
           0,
           0,
           0,
           0,
           0,
           0,
           0,
           0,
           0,
           0,
           0,
           0,
           0,
           0,
           0,
           0,
           0,
           0,
           0,
           0,
           0,
           0,
           0,
           0,
           0,
           0,
           0,
           0,
           0,
           0,
           0,
           0,
           0,
           0,
           0,
           0,
           0,
           0,
           0,
           0,
           0,
           0,
           0,
           0,
           0,
           0,
           0,
           0,
           0,
           0,
           0,
           0,
           0,
           0,
           1
          ],
          "colorscale": [
           [
            0,
            "#0508b8"
           ],
           [
            0.08333333333333333,
            "#1910d8"
           ],
           [
            0.16666666666666666,
            "#3c19f0"
           ],
           [
            0.25,
            "#6b1cfb"
           ],
           [
            0.3333333333333333,
            "#981cfd"
           ],
           [
            0.4166666666666667,
            "#bf1cfd"
           ],
           [
            0.5,
            "#dd2bfd"
           ],
           [
            0.5833333333333334,
            "#f246fe"
           ],
           [
            0.6666666666666666,
            "#fc67fd"
           ],
           [
            0.75,
            "#fe88fc"
           ],
           [
            0.8333333333333334,
            "#fea5fd"
           ],
           [
            0.9166666666666666,
            "#febefe"
           ],
           [
            1,
            "#fec3fe"
           ]
          ],
          "opacity": 0.7,
          "size": 10,
          "symbol": "arrow-bar-up"
         },
         "mode": "lines+markers",
         "opacity": 0.7,
         "type": "scatter",
         "x": [
          -0.3609243548704978,
          -0.019939390866995386,
          null,
          -0.3609243548704978,
          -0.6499524930519907,
          null,
          -0.3609243548704978,
          -0.5177044808971856,
          null,
          -0.3609243548704978,
          -0.3400257496799685,
          null,
          -0.019939390866995386,
          -0.46461561616359426,
          null,
          -0.019939390866995386,
          0.2850472628659181,
          null,
          -0.019939390866995386,
          -0.018141029651905113,
          null,
          -0.019939390866995386,
          -0.03419995526132176,
          null,
          -0.019939390866995386,
          -0.2274052240112417,
          null,
          -0.019939390866995386,
          -0.07975956668217868,
          null,
          -0.019939390866995386,
          -0.6071972971585902,
          null,
          -0.019939390866995386,
          -0.7377149206211734,
          null,
          -0.019939390866995386,
          -0.007184403757738106,
          null,
          -0.019939390866995386,
          0.1699768953750771,
          null,
          -0.019939390866995386,
          -0.1449940575624768,
          null,
          -0.019939390866995386,
          0.10788141368983419,
          null,
          -0.019939390866995386,
          0.21965502881317445,
          null,
          -0.019939390866995386,
          0.6509736818408923,
          null,
          -0.019939390866995386,
          0.3313435748333,
          null,
          -0.019939390866995386,
          -0.025348151493316717,
          null,
          -0.019939390866995386,
          -0.002617273999013637,
          null,
          -0.019939390866995386,
          0.15572885835928255,
          null,
          -0.019939390866995386,
          0.5293607752212262,
          null,
          -0.019939390866995386,
          0.24850950368709482,
          null,
          -0.019939390866995386,
          -0.19983810207117145,
          null,
          -0.019939390866995386,
          0.04466246967016414,
          null,
          -0.019939390866995386,
          -0.46526826028129004,
          null,
          -0.019939390866995386,
          -0.3609243548704978,
          null,
          -0.46461561616359426,
          -0.6513568208829016,
          null,
          -0.6513568208829016,
          -0.482124595224096,
          null,
          -0.482124595224096,
          -0.3609243548704978,
          null,
          -0.482124595224096,
          -0.3780537928107425,
          null,
          -0.6499524930519907,
          -0.3780537928107425,
          null,
          -0.6499524930519907,
          -0.9999999999999999,
          null,
          -0.6499524930519907,
          -0.41813661868568086,
          null,
          -0.6499524930519907,
          -0.6282556325228306,
          null,
          -0.3780537928107425,
          0.2617691187432994,
          null,
          -0.3780537928107425,
          -0.9999999999999999,
          null,
          0.2617691187432994,
          0.0874954411300454,
          null,
          0.0874954411300454,
          -0.007184403757738106,
          null,
          -0.007184403757738106,
          0.010183776374572533,
          null,
          -0.007184403757738106,
          -0.019939390866995386,
          null,
          0.010183776374572533,
          0.2850472628659181,
          null,
          0.010183776374572533,
          -0.19983810207117145,
          null,
          0.010183776374572533,
          0.08123457983718838,
          null,
          0.2850472628659181,
          0.2210381371062926,
          null,
          0.2210381371062926,
          0.46251798338170785,
          null,
          0.2210381371062926,
          -0.018141029651905113,
          null,
          0.46251798338170785,
          0.3622904858353715,
          null,
          0.3622904858353715,
          0.25172708104891756,
          null,
          0.25172708104891756,
          0.1151111472728499,
          null,
          0.1151111472728499,
          -0.018141029651905113,
          null,
          0.1151111472728499,
          0.2850472628659181,
          null,
          0.1151111472728499,
          -0.019939390866995386,
          null,
          -0.018141029651905113,
          0.2850472628659181,
          null,
          -0.018141029651905113,
          0.46251798338170785,
          null,
          -0.018141029651905113,
          -0.2274052240112417,
          null,
          -0.018141029651905113,
          -0.12321447255414968,
          null,
          -0.018141029651905113,
          -0.03419995526132176,
          null,
          -0.018141029651905113,
          -0.019939390866995386,
          null,
          -0.018141029651905113,
          -0.33012531802534945,
          null,
          -0.018141029651905113,
          -0.4265909691957715,
          null,
          -0.2274052240112417,
          -0.12321447255414968,
          null,
          -0.2274052240112417,
          -0.15872031096564193,
          null,
          -0.2274052240112417,
          -0.019939390866995386,
          null,
          -0.2274052240112417,
          -0.03419995526132176,
          null,
          -0.2274052240112417,
          -0.33012531802534945,
          null,
          -0.2274052240112417,
          -0.07975956668217868,
          null,
          -0.2274052240112417,
          -0.6071972971585902,
          null,
          -0.12321447255414968,
          -0.018141029651905113,
          null,
          -0.15872031096564193,
          -0.018141029651905113,
          null,
          -0.03419995526132176,
          -0.018141029651905113,
          null,
          -0.03419995526132176,
          -0.019939390866995386,
          null,
          -0.33012531802534945,
          -0.03419995526132176,
          null,
          -0.33012531802534945,
          -0.2274052240112417,
          null,
          -0.33012531802534945,
          -0.6071972971585902,
          null,
          -0.07975956668217868,
          -0.019939390866995386,
          null,
          -0.07975956668217868,
          -0.018141029651905113,
          null,
          -0.6071972971585902,
          -0.7377149206211734,
          null,
          -0.6071972971585902,
          -0.3842326065024164,
          null,
          -0.7377149206211734,
          -0.5581530262792411,
          null,
          -0.5581530262792411,
          -0.3842326065024164,
          null,
          -0.5581530262792411,
          -0.6071972971585902,
          null,
          -0.3842326065024164,
          -0.33012531802534945,
          null,
          -0.3842326065024164,
          -0.9078788179643522,
          null,
          -0.3842326065024164,
          -0.06729416853781715,
          null,
          -0.3842326065024164,
          -0.2274052240112417,
          null,
          -0.3842326065024164,
          -0.7377149206211734,
          null,
          -0.3842326065024164,
          -0.6071972971585902,
          null,
          -0.3842326065024164,
          -0.019939390866995386,
          null,
          -0.3842326065024164,
          0.010183776374572533,
          null,
          -0.9078788179643522,
          -0.7377149206211734,
          null,
          -0.06729416853781715,
          -0.019939390866995386,
          null,
          -0.19983810207117145,
          -0.3609243548704978,
          null,
          -0.19983810207117145,
          -0.019939390866995386,
          null,
          -0.5177044808971856,
          -0.41813661868568086,
          null,
          -0.41813661868568086,
          -0.3609243548704978,
          null,
          -0.41813661868568086,
          -0.3400257496799685,
          null,
          -0.9999999999999999,
          -0.8553140336468803,
          null,
          -0.8553140336468803,
          -0.9999999999999999,
          null,
          -0.8553140336468803,
          -0.6499524930519907,
          null,
          -0.3400257496799685,
          -0.019939390866995386,
          null,
          -0.3400257496799685,
          -0.6499524930519907,
          null,
          0.1699768953750771,
          0.49870369765524847,
          null,
          0.49870369765524847,
          0.5086704509408386,
          null,
          0.5086704509408386,
          0.32012737865423857,
          null,
          0.32012737865423857,
          0.11823860367737327,
          null,
          0.11823860367737327,
          0.010183776374572533,
          null,
          0.08123457983718838,
          -0.21878148688155857,
          null,
          -0.21878148688155857,
          -0.1465373944340764,
          null,
          -0.1465373944340764,
          -0.06324642713507904,
          null,
          -0.06324642713507904,
          -0.018141029651905113,
          null,
          -0.4265909691957715,
          -0.2657166410917978,
          null,
          -0.2657166410917978,
          -0.11231793466048273,
          null,
          -0.11231793466048273,
          -0.019939390866995386,
          null,
          -0.1449940575624768,
          -0.019939390866995386,
          null,
          0.10788141368983419,
          0.11825377369313075,
          null,
          0.11825377369313075,
          0.23684284299806047,
          null,
          0.11825377369313075,
          -0.019939390866995386,
          null,
          0.23684284299806047,
          0.47364715402972674,
          null,
          0.23684284299806047,
          -0.019939390866995386,
          null,
          0.47364715402972674,
          0.6509736818408923,
          null,
          0.6509736818408923,
          0.4797978953524132,
          null,
          0.4797978953524132,
          0.31280747220050875,
          null,
          0.31280747220050875,
          -0.019939390866995386,
          null,
          0.31280747220050875,
          0.6243782324269808,
          null,
          0.21965502881317445,
          0.1186821340283228,
          null,
          0.1186821340283228,
          0.15572885835928255,
          null,
          0.15572885835928255,
          0.3297569663918193,
          null,
          0.15572885835928255,
          -0.019939390866995386,
          null,
          0.15572885835928255,
          0.24904172866709928,
          null,
          0.3297569663918193,
          0.3313435748333,
          null,
          0.3313435748333,
          0.29707777081508885,
          null,
          0.29707777081508885,
          0.5835871470791199,
          null,
          0.29707777081508885,
          -0.019939390866995386,
          null,
          0.5835871470791199,
          0.5293607752212262,
          null,
          0.5293607752212262,
          0.3806262247722191,
          null,
          0.3806262247722191,
          -0.11231793466048273,
          null,
          0.3806262247722191,
          0.8464905069934762,
          null,
          0.6243782324269808,
          0.42161601333943993,
          null,
          0.42161601333943993,
          0.21965502881317445,
          null,
          -0.025348151493316717,
          0.10788141368983419,
          null,
          -0.002617273999013637,
          -0.019939390866995386,
          null,
          0.24850950368709482,
          0.1186821340283228,
          null,
          0.24904172866709928,
          0.3313435748333,
          null,
          0.8464905069934762,
          0.7439087676038735,
          null,
          0.7439087676038735,
          0.5430351831430695,
          null,
          0.5430351831430695,
          0.2446857162331172,
          null,
          0.2446857162331172,
          0.0974727495213329,
          null,
          0.0974727495213329,
          0.10690967374350044,
          null,
          0.10690967374350044,
          0.14482350723393225,
          null,
          0.14482350723393225,
          0.17842006412543232,
          null,
          0.17842006412543232,
          0.04466246967016414,
          null,
          0.04466246967016414,
          -0.019939390866995386,
          null,
          -0.46526826028129004,
          -0.33868244745131787,
          null,
          -0.33868244745131787,
          -0.1565450268717364,
          null,
          -0.1565450268717364,
          -0.019939390866995386,
          null,
          -0.6282556325228306,
          -0.5177044808971856,
          null
         ],
         "y": [
          -0.3629085779079627,
          -0.05222336881389031,
          null,
          -0.3629085779079627,
          -0.5356736980255037,
          null,
          -0.3629085779079627,
          -0.5888882135609484,
          null,
          -0.3629085779079627,
          -0.3080828355380062,
          null,
          -0.05222336881389031,
          -0.2777053408015299,
          null,
          -0.05222336881389031,
          0.5986292356338074,
          null,
          -0.05222336881389031,
          0.2856616086609641,
          null,
          -0.05222336881389031,
          0.11567160601598692,
          null,
          -0.05222336881389031,
          0.21354423077833437,
          null,
          -0.05222336881389031,
          0.12925470796814462,
          null,
          -0.05222336881389031,
          0.23524648812545285,
          null,
          -0.05222336881389031,
          0.2677103290718895,
          null,
          -0.05222336881389031,
          0.16728275972936332,
          null,
          -0.05222336881389031,
          0.5567827598336011,
          null,
          -0.05222336881389031,
          -0.011360866143437355,
          null,
          -0.05222336881389031,
          -0.2958659809250093,
          null,
          -0.05222336881389031,
          -0.582067615424711,
          null,
          -0.05222336881389031,
          -0.2884116641997578,
          null,
          -0.05222336881389031,
          -0.37065026847854365,
          null,
          -0.05222336881389031,
          -0.4693348892334078,
          null,
          -0.05222336881389031,
          -0.1908870152075664,
          null,
          -0.05222336881389031,
          -0.38885925415341793,
          null,
          -0.05222336881389031,
          -0.10027718280962408,
          null,
          -0.05222336881389031,
          -0.6491824018133544,
          null,
          -0.05222336881389031,
          -0.23710743619674463,
          null,
          -0.05222336881389031,
          -0.10569332156771738,
          null,
          -0.05222336881389031,
          0.20066905752321065,
          null,
          -0.05222336881389031,
          -0.3629085779079627,
          null,
          -0.2777053408015299,
          -0.4214364009635127,
          null,
          -0.4214364009635127,
          -0.37638895556154617,
          null,
          -0.37638895556154617,
          -0.3629085779079627,
          null,
          -0.37638895556154617,
          -0.2767007754674325,
          null,
          -0.5356736980255037,
          -0.2767007754674325,
          null,
          -0.5356736980255037,
          -0.7152931282844576,
          null,
          -0.5356736980255037,
          -0.44318232228735077,
          null,
          -0.5356736980255037,
          -0.7311462979657658,
          null,
          -0.2767007754674325,
          0.15628716674084522,
          null,
          -0.2767007754674325,
          -0.7152931282844576,
          null,
          0.15628716674084522,
          0.14548170384277115,
          null,
          0.14548170384277115,
          0.16728275972936332,
          null,
          0.16728275972936332,
          0.34740366582665855,
          null,
          0.16728275972936332,
          -0.05222336881389031,
          null,
          0.34740366582665855,
          0.5986292356338074,
          null,
          0.34740366582665855,
          -0.23710743619674463,
          null,
          0.34740366582665855,
          0.8403222411079244,
          null,
          0.5986292356338074,
          0.42413866964919844,
          null,
          0.42413866964919844,
          0.48465025086059577,
          null,
          0.42413866964919844,
          0.2856616086609641,
          null,
          0.48465025086059577,
          0.3873860221558048,
          null,
          0.3873860221558048,
          0.3432313562336026,
          null,
          0.3432313562336026,
          0.28446022191565257,
          null,
          0.28446022191565257,
          0.2856616086609641,
          null,
          0.28446022191565257,
          0.5986292356338074,
          null,
          0.28446022191565257,
          -0.05222336881389031,
          null,
          0.2856616086609641,
          0.5986292356338074,
          null,
          0.2856616086609641,
          0.48465025086059577,
          null,
          0.2856616086609641,
          0.21354423077833437,
          null,
          0.2856616086609641,
          0.44903089414442193,
          null,
          0.2856616086609641,
          0.11567160601598692,
          null,
          0.2856616086609641,
          -0.05222336881389031,
          null,
          0.2856616086609641,
          0.20688006418813878,
          null,
          0.2856616086609641,
          0.06329362023440362,
          null,
          0.21354423077833437,
          0.44903089414442193,
          null,
          0.21354423077833437,
          0.40032148981186794,
          null,
          0.21354423077833437,
          -0.05222336881389031,
          null,
          0.21354423077833437,
          0.11567160601598692,
          null,
          0.21354423077833437,
          0.20688006418813878,
          null,
          0.21354423077833437,
          0.12925470796814462,
          null,
          0.21354423077833437,
          0.23524648812545285,
          null,
          0.44903089414442193,
          0.2856616086609641,
          null,
          0.40032148981186794,
          0.2856616086609641,
          null,
          0.11567160601598692,
          0.2856616086609641,
          null,
          0.11567160601598692,
          -0.05222336881389031,
          null,
          0.20688006418813878,
          0.11567160601598692,
          null,
          0.20688006418813878,
          0.21354423077833437,
          null,
          0.20688006418813878,
          0.23524648812545285,
          null,
          0.12925470796814462,
          -0.05222336881389031,
          null,
          0.12925470796814462,
          0.2856616086609641,
          null,
          0.23524648812545285,
          0.2677103290718895,
          null,
          0.23524648812545285,
          0.1560692709842598,
          null,
          0.2677103290718895,
          0.2102913162773629,
          null,
          0.2102913162773629,
          0.1560692709842598,
          null,
          0.2102913162773629,
          0.23524648812545285,
          null,
          0.1560692709842598,
          0.20688006418813878,
          null,
          0.1560692709842598,
          0.3254611786074139,
          null,
          0.1560692709842598,
          -0.20336814344302692,
          null,
          0.1560692709842598,
          0.21354423077833437,
          null,
          0.1560692709842598,
          0.2677103290718895,
          null,
          0.1560692709842598,
          0.23524648812545285,
          null,
          0.1560692709842598,
          -0.05222336881389031,
          null,
          0.1560692709842598,
          0.34740366582665855,
          null,
          0.3254611786074139,
          0.2677103290718895,
          null,
          -0.20336814344302692,
          -0.05222336881389031,
          null,
          -0.23710743619674463,
          -0.3629085779079627,
          null,
          -0.23710743619674463,
          -0.05222336881389031,
          null,
          -0.5888882135609484,
          -0.44318232228735077,
          null,
          -0.44318232228735077,
          -0.3629085779079627,
          null,
          -0.44318232228735077,
          -0.3080828355380062,
          null,
          -0.7152931282844576,
          -0.6402840328946079,
          null,
          -0.6402840328946079,
          -0.7152931282844576,
          null,
          -0.6402840328946079,
          -0.5356736980255037,
          null,
          -0.3080828355380062,
          -0.05222336881389031,
          null,
          -0.3080828355380062,
          -0.5356736980255037,
          null,
          0.5567827598336011,
          0.5610365749389999,
          null,
          0.5610365749389999,
          0.5109150449743273,
          null,
          0.5109150449743273,
          0.4449086806902097,
          null,
          0.4449086806902097,
          0.43279695354867936,
          null,
          0.43279695354867936,
          0.34740366582665855,
          null,
          0.8403222411079244,
          0.8105407891415892,
          null,
          0.8105407891415892,
          0.6383930460281287,
          null,
          0.6383930460281287,
          0.4645586716578135,
          null,
          0.4645586716578135,
          0.2856616086609641,
          null,
          0.06329362023440362,
          -0.18346286030932366,
          null,
          -0.18346286030932366,
          -0.1463971790585912,
          null,
          -0.1463971790585912,
          -0.05222336881389031,
          null,
          -0.011360866143437355,
          -0.05222336881389031,
          null,
          -0.2958659809250093,
          -0.14226190399050706,
          null,
          -0.14226190399050706,
          -0.17034959124081428,
          null,
          -0.14226190399050706,
          -0.05222336881389031,
          null,
          -0.17034959124081428,
          -0.2736669371294659,
          null,
          -0.17034959124081428,
          -0.05222336881389031,
          null,
          -0.2736669371294659,
          -0.2884116641997578,
          null,
          -0.2884116641997578,
          -0.3831030226613379,
          null,
          -0.3831030226613379,
          -0.32393687533534954,
          null,
          -0.32393687533534954,
          -0.05222336881389031,
          null,
          -0.32393687533534954,
          -0.5852916269530573,
          null,
          -0.582067615424711,
          -0.5700375300456152,
          null,
          -0.5700375300456152,
          -0.38885925415341793,
          null,
          -0.38885925415341793,
          -0.5974008820400546,
          null,
          -0.38885925415341793,
          -0.05222336881389031,
          null,
          -0.38885925415341793,
          -0.585850022994012,
          null,
          -0.5974008820400546,
          -0.37065026847854365,
          null,
          -0.37065026847854365,
          -0.193560568157752,
          null,
          -0.193560568157752,
          -0.3125463289610936,
          null,
          -0.193560568157752,
          -0.05222336881389031,
          null,
          -0.3125463289610936,
          -0.10027718280962408,
          null,
          -0.10027718280962408,
          -0.02649751060176925,
          null,
          -0.02649751060176925,
          -0.1463971790585912,
          null,
          -0.02649751060176925,
          0.100307131039535,
          null,
          -0.5852916269530573,
          -0.5950070575910411,
          null,
          -0.5950070575910411,
          -0.582067615424711,
          null,
          -0.4693348892334078,
          -0.2958659809250093,
          null,
          -0.1908870152075664,
          -0.05222336881389031,
          null,
          -0.6491824018133544,
          -0.5700375300456152,
          null,
          -0.585850022994012,
          -0.37065026847854365,
          null,
          0.100307131039535,
          0.3952105486694893,
          null,
          0.3952105486694893,
          0.6827463583845229,
          null,
          0.6827463583845229,
          0.7684039482727948,
          null,
          0.7684039482727948,
          0.5842628232591448,
          null,
          0.5842628232591448,
          0.36345161182727825,
          null,
          0.36345161182727825,
          0.15613359353350506,
          null,
          0.15613359353350506,
          -0.07916805158522924,
          null,
          -0.07916805158522924,
          -0.10569332156771738,
          null,
          -0.10569332156771738,
          -0.05222336881389031,
          null,
          0.20066905752321065,
          -0.03445769845293927,
          null,
          -0.03445769845293927,
          -0.08285205711090779,
          null,
          -0.08285205711090779,
          -0.05222336881389031,
          null,
          -0.7311462979657658,
          -0.5888882135609484,
          null
         ]
        },
        {
         "customdata": [
          [
           "1412_env_list_env_list running_aliecs env_list_running partition",
           "5"
          ],
          [
           "-1_mb equipment_taskid_detected previous_gap in",
           "51"
          ],
          [
           "79_qccheck quality_check qccheck_qccheck_check qccheckmchpreclusters",
           "2"
          ],
          [
           "1643_storing qualityobjects_qualityobjects storing_qualityobjects_storing",
           "2"
          ],
          [
           "1543_storing 32_storing 42_32 monitorobjects_42 monitorobjects",
           "2"
          ],
          [
           "1694_qc its_its mo_mo itsfee_itsfee",
           "7"
          ],
          [
           "25_sending quality_objects sending_quality objects_sending",
           "2"
          ],
          [
           "587_servicediscovery_to servicediscovery_registration_registration to",
           "1"
          ],
          [
           "1813_sor_dcs_key run_no_for event",
           "2"
          ],
          [
           "464_partition writing_to aliecs_messages to_writing messages",
           "2"
          ],
          [
           "63_running ready_ready running_running_ready",
           "3"
          ],
          [
           "373_run number_number 526367_number 526533_number 526534",
           "11"
          ],
          [
           "1654_executing start_start readout_readout executing_executing",
           "11"
          ],
          [
           "8_aggregator starting_starting aggregator_aggregator_starting",
           "11"
          ],
          [
           "2100_slicing disabled_aggregator slicing_slicing_disabled aggregator",
           "11"
          ],
          [
           "16_clock starting_starting stats_stats clock_clock",
           "11"
          ],
          [
           "26_equipments starting_starting readout_readout equipments_equipments",
           "11"
          ],
          [
           "177_dma for_roc starting_starting dma_dma",
           "36"
          ],
          [
           "1765_pages roc_roc input_queue_queue size",
           "33"
          ],
          [
           "1707_buffers ready_buffers_ready for_roc buffers",
           "9"
          ],
          [
           "589_bytes using_using memory_pages 1048576_1048576 bytes",
           "1"
          ],
          [
           "1696_roc buffers_buffers ready_ready for_buffers",
           "11"
          ],
          [
           "1693_pages roc_roc input_input queue_queue",
           "6"
          ],
          [
           "1697_roc buffers_ready for_buffers_buffers ready",
           "11"
          ],
          [
           "1695_roc buffers_buffers ready_buffers_ready for",
           "9"
          ],
          [
           "1668_running running_running_running stopping_run running",
           "11"
          ],
          [
           "7_completed start_start readout_readout completed_completed",
           "11"
          ],
          [
           "1605_loop entering_entering main_entering_main loop",
           "11"
          ],
          [
           "340_roc requesting_0x200000 1st_from bank_block aligned",
           "1"
          ],
          [
           "1885_gain missing_gaintypeerror found_in gaintypeerror_missing found",
           "1"
          ],
          [
           "532_average throughput_stats average_gbits stats_gbits",
           "2"
          ],
          [
           "1628_transition complete_complete_start_activity_start_activity transition",
           "2"
          ],
          [
           "1827_transition to_expired forcing_to ready_timer",
           "2"
          ],
          [
           "1785_roc first_first hb_hb orbit_hb",
           "44"
          ],
          [
           "1775_roc first_hb orbit_first hb_hb",
           "24"
          ],
          [
           "1759_trg_performing trg_operation performing_trg run",
           "2"
          ],
          [
           "244_end occ_srcstate idle_transitionevent end_idle transitionevent",
           "1"
          ],
          [
           "181_deserialized transitionrequest_transitionrequest_transitionrequest srcstate_arguments occ",
           "1"
          ],
          [
           "630_incoming transition_transition request_request srcstate_occ incoming",
           "1"
          ],
          [
           "1755_new state_quitting_15 seconds_state requested",
           "1"
          ],
          [
           "476_stopping run_526390 stopping_526389 stopping_run 526389",
           "1"
          ],
          [
           "1567_ready control_action_notify_device_state ready_notify_device_state device_notify_device_state",
           "1"
          ],
          [
           "1646_ready ok_response device_ok occ_transition response",
           "1"
          ],
          [
           "37_run ok_state running_true occ_ok true",
           "1"
          ],
          [
           "512_executing stop_exiting readout_process exiting_readout process",
           "1"
          ],
          [
           "1479_aggregator flushing_flushing aggregator_flushing_aggregator",
           "1"
          ],
          [
           "1480_loop exiting_exiting main_exiting_main loop",
           "1"
          ],
          [
           "270_packets_cru_dropped_cru equipment",
           "4"
          ],
          [
           "212_roc nblocksout_nblocksout_avg 04_04 min",
           "2"
          ],
          [
           "247_roc nmemorylow_nmemorylow equipment_nmemorylow_equipment roc",
           "4"
          ],
          [
           "248_roc noutputfull_noutputfull equipment_noutputfull_equipment roc",
           "4"
          ],
          [
           "275_roc nidle_nidle_avg 00_00 min",
           "3"
          ],
          [
           "277_roc nloop_nloop_avg 00_00 min",
           "2"
          ],
          [
           "255_roc nthrottle_nthrottle equipment_nthrottle_equipment roc",
           "4"
          ],
          [
           "261_roc nfifoupempty_nfifoupempty equipment_nfifoupempty_equipment roc",
           "4"
          ],
          [
           "257_roc nfiforeadyfull_nfiforeadyfull equipment_nfiforeadyfull_equipment roc",
           "4"
          ],
          [
           "1647_roc fifooccupancyreadyblocks_fifooccupancyreadyblocks avg_fifooccupancyreadyblocks_avg 00",
           "2"
          ],
          [
           "279_roc fifooccupancyoutblocks_fifooccupancyoutblocks_fifooccupancyoutblocks avg_avg 11",
           "3"
          ],
          [
           "281_roc npagesused_npagesused_npagesused avg_2330 count",
           "4"
          ],
          [
           "563_roc npagesfree_npagesfree_max 9109_9109 count",
           "1"
          ],
          [
           "175_iteration average_iteration_pages pushed_average pages",
           "4"
          ],
          [
           "173_occupancy average_average fifoready_fifoready_fifoready occupancy",
           "4"
          ],
          [
           "235_mb average_average data_data throughput_throughput",
           "3"
          ],
          [
           "262_links used_00000000000000001000000000000001 links_00000000000000001000000000000001_used 00000000000000001000000000000001",
           "4"
          ],
          [
           "263_gb_links data_data received_mb links",
           "4"
          ],
          [
           "245_roc npushedup_max 2048_2048 count_npushedup",
           "1"
          ],
          [
           "256_roc fifooccupancyfreeblocks_fifooccupancyfreeblocks_fifooccupancyfreeblocks avg_avg 04",
           "1"
          ],
          [
           "260_roc nbytesout_nbytesout_1015808 count_max 1015808",
           "1"
          ],
          [
           "1629_roc fifooccupancyreadyblocks_fifooccupancyreadyblocks avg_fifooccupancyreadyblocks_avg 00",
           "1"
          ],
          [
           "1649_roc fifooccupancyreadyblocks_fifooccupancyreadyblocks avg_fifooccupancyreadyblocks_avg 00",
           "1"
          ],
          [
           "1631_roc npagesfree_npagesfree_max 13670_13670 count",
           "1"
          ],
          [
           "1481_readout stopped_stopped_stopped readout_readout",
           "1"
          ],
          [
           "1469_aggregator stopping_stopping aggregator_stopping_aggregator",
           "1"
          ],
          [
           "1470_blocks aggregator_aggregator processed_processed_blocks",
           "1"
          ],
          [
           "1471_use waiting_000000s_waiting max_data pages",
           "1"
          ],
          [
           "1472_consumers stopping_stopping consumers_consumers_stopping",
           "1"
          ],
          [
           "1462_clock stopping_stopping stats_stats clock_clock",
           "1"
          ],
          [
           "1463_stats statistics_for consumer_statistics for_consumer stats",
           "1"
          ],
          [
           "1409_overhead stats_overhead_header overhead_header",
           "1"
          ],
          [
           "367_datasets_push statistics_datablocks_err",
           "3"
          ],
          [
           "371_use equipment_still in_still_in use",
           "3"
          ],
          [
           "681_bytes final_counters timeframes_final_recorded",
           "1"
          ],
          [
           "1408_completed stop_stop readout_stop_readout completed",
           "1"
          ],
          [
           "1889_eor_eor_event_eor_event detector_eventtype eor_event",
           "2"
          ]
         ],
         "hovertemplate": "<b>Topic: %{text} </b><br><b>Name:</b> %{customdata[0]} <br><b>Count:</b> %{customdata[1]} <br>",
         "marker": {
          "color": [
           5,
           51,
           2,
           2,
           2,
           7,
           2,
           1,
           2,
           2,
           3,
           11,
           11,
           11,
           11,
           11,
           11,
           36,
           33,
           9,
           1,
           11,
           6,
           11,
           9,
           11,
           11,
           11,
           1,
           1,
           2,
           2,
           2,
           44,
           24,
           2,
           1,
           1,
           1,
           1,
           1,
           1,
           1,
           1,
           1,
           1,
           1,
           4,
           2,
           4,
           4,
           3,
           2,
           4,
           4,
           4,
           2,
           3,
           4,
           1,
           4,
           4,
           3,
           4,
           4,
           1,
           1,
           1,
           1,
           1,
           1,
           1,
           1,
           1,
           1,
           1,
           1,
           1,
           1,
           3,
           3,
           1,
           1,
           1
          ],
          "colorbar": {
           "thickness": 10,
           "title": {
            "side": "right",
            "text": "Node Counts in session"
           },
           "xanchor": "left"
          },
          "colorscale": [
           [
            0,
            "#0508b8"
           ],
           [
            0.08333333333333333,
            "#1910d8"
           ],
           [
            0.16666666666666666,
            "#3c19f0"
           ],
           [
            0.25,
            "#6b1cfb"
           ],
           [
            0.3333333333333333,
            "#981cfd"
           ],
           [
            0.4166666666666667,
            "#bf1cfd"
           ],
           [
            0.5,
            "#dd2bfd"
           ],
           [
            0.5833333333333334,
            "#f246fe"
           ],
           [
            0.6666666666666666,
            "#fc67fd"
           ],
           [
            0.75,
            "#fe88fc"
           ],
           [
            0.8333333333333334,
            "#fea5fd"
           ],
           [
            0.9166666666666666,
            "#febefe"
           ],
           [
            1,
            "#fec3fe"
           ]
          ],
          "size": [
           5.15272279979108,
           52.55777255786902,
           2.061089119916432,
           2.061089119916432,
           2.061089119916432,
           7.213811919707512,
           2.061089119916432,
           1.030544559958216,
           2.061089119916432,
           2.061089119916432,
           3.091633679874648,
           11.335990159540376,
           11.335990159540376,
           11.335990159540376,
           11.335990159540376,
           11.335990159540376,
           11.335990159540376,
           37.09960415849578,
           34.00797047862113,
           9.274901039623945,
           1.030544559958216,
           11.335990159540376,
           6.183267359749296,
           11.335990159540376,
           9.274901039623945,
           11.335990159540376,
           11.335990159540376,
           11.335990159540376,
           1.030544559958216,
           1.030544559958216,
           2.061089119916432,
           2.061089119916432,
           2.061089119916432,
           45.343960638161505,
           24.733069438997184,
           2.061089119916432,
           1.030544559958216,
           1.030544559958216,
           1.030544559958216,
           1.030544559958216,
           1.030544559958216,
           1.030544559958216,
           1.030544559958216,
           1.030544559958216,
           1.030544559958216,
           1.030544559958216,
           1.030544559958216,
           4.122178239832864,
           2.061089119916432,
           4.122178239832864,
           4.122178239832864,
           3.091633679874648,
           2.061089119916432,
           4.122178239832864,
           4.122178239832864,
           4.122178239832864,
           2.061089119916432,
           3.091633679874648,
           4.122178239832864,
           1.030544559958216,
           4.122178239832864,
           4.122178239832864,
           3.091633679874648,
           4.122178239832864,
           4.122178239832864,
           1.030544559958216,
           1.030544559958216,
           1.030544559958216,
           1.030544559958216,
           1.030544559958216,
           1.030544559958216,
           1.030544559958216,
           1.030544559958216,
           1.030544559958216,
           1.030544559958216,
           1.030544559958216,
           1.030544559958216,
           1.030544559958216,
           1.030544559958216,
           3.091633679874648,
           3.091633679874648,
           1.030544559958216,
           1.030544559958216,
           1.030544559958216
          ],
          "symbol": "circle"
         },
         "mode": "markers",
         "text": [
          "1412",
          "-1",
          "79",
          "1643",
          "1543",
          "1694",
          "25",
          "587",
          "1813",
          "464",
          "63",
          "373",
          "1654",
          "8",
          "2100",
          "16",
          "26",
          "177",
          "1765",
          "1707",
          "589",
          "1696",
          "1693",
          "1697",
          "1695",
          "1668",
          "7",
          "1605",
          "340",
          "1885",
          "532",
          "1628",
          "1827",
          "1785",
          "1775",
          "1759",
          "244",
          "181",
          "630",
          "1755",
          "476",
          "1567",
          "1646",
          "37",
          "512",
          "1479",
          "1480",
          "270",
          "212",
          "247",
          "248",
          "275",
          "277",
          "255",
          "261",
          "257",
          "1647",
          "279",
          "281",
          "563",
          "175",
          "173",
          "235",
          "262",
          "263",
          "245",
          "256",
          "260",
          "1629",
          "1649",
          "1631",
          "1481",
          "1469",
          "1470",
          "1471",
          "1472",
          "1462",
          "1463",
          "1409",
          "367",
          "371",
          "681",
          "1408",
          "1889"
         ],
         "type": "scatter",
         "x": [
          -0.3609243548704978,
          -0.019939390866995386,
          -0.46461561616359426,
          -0.6513568208829016,
          -0.482124595224096,
          -0.6499524930519907,
          -0.3780537928107425,
          0.2617691187432994,
          0.0874954411300454,
          -0.007184403757738106,
          0.010183776374572533,
          0.2850472628659181,
          0.2210381371062926,
          0.46251798338170785,
          0.3622904858353715,
          0.25172708104891756,
          0.1151111472728499,
          -0.018141029651905113,
          -0.2274052240112417,
          -0.12321447255414968,
          -0.15872031096564193,
          -0.03419995526132176,
          -0.33012531802534945,
          -0.07975956668217868,
          -0.6071972971585902,
          -0.7377149206211734,
          -0.5581530262792411,
          -0.3842326065024164,
          -0.9078788179643522,
          -0.06729416853781715,
          -0.19983810207117145,
          -0.5177044808971856,
          -0.41813661868568086,
          -0.9999999999999999,
          -0.8553140336468803,
          -0.3400257496799685,
          0.1699768953750771,
          0.49870369765524847,
          0.5086704509408386,
          0.32012737865423857,
          0.11823860367737327,
          0.08123457983718838,
          -0.21878148688155857,
          -0.1465373944340764,
          -0.06324642713507904,
          -0.4265909691957715,
          -0.2657166410917978,
          -0.11231793466048273,
          -0.1449940575624768,
          0.10788141368983419,
          0.11825377369313075,
          0.23684284299806047,
          0.47364715402972674,
          0.6509736818408923,
          0.4797978953524132,
          0.31280747220050875,
          0.21965502881317445,
          0.1186821340283228,
          0.15572885835928255,
          0.3297569663918193,
          0.3313435748333,
          0.29707777081508885,
          0.5835871470791199,
          0.5293607752212262,
          0.3806262247722191,
          0.6243782324269808,
          0.42161601333943993,
          -0.025348151493316717,
          -0.002617273999013637,
          0.24850950368709482,
          0.24904172866709928,
          0.8464905069934762,
          0.7439087676038735,
          0.5430351831430695,
          0.2446857162331172,
          0.0974727495213329,
          0.10690967374350044,
          0.14482350723393225,
          0.17842006412543232,
          0.04466246967016414,
          -0.46526826028129004,
          -0.33868244745131787,
          -0.1565450268717364,
          -0.6282556325228306
         ],
         "y": [
          -0.3629085779079627,
          -0.05222336881389031,
          -0.2777053408015299,
          -0.4214364009635127,
          -0.37638895556154617,
          -0.5356736980255037,
          -0.2767007754674325,
          0.15628716674084522,
          0.14548170384277115,
          0.16728275972936332,
          0.34740366582665855,
          0.5986292356338074,
          0.42413866964919844,
          0.48465025086059577,
          0.3873860221558048,
          0.3432313562336026,
          0.28446022191565257,
          0.2856616086609641,
          0.21354423077833437,
          0.44903089414442193,
          0.40032148981186794,
          0.11567160601598692,
          0.20688006418813878,
          0.12925470796814462,
          0.23524648812545285,
          0.2677103290718895,
          0.2102913162773629,
          0.1560692709842598,
          0.3254611786074139,
          -0.20336814344302692,
          -0.23710743619674463,
          -0.5888882135609484,
          -0.44318232228735077,
          -0.7152931282844576,
          -0.6402840328946079,
          -0.3080828355380062,
          0.5567827598336011,
          0.5610365749389999,
          0.5109150449743273,
          0.4449086806902097,
          0.43279695354867936,
          0.8403222411079244,
          0.8105407891415892,
          0.6383930460281287,
          0.4645586716578135,
          0.06329362023440362,
          -0.18346286030932366,
          -0.1463971790585912,
          -0.011360866143437355,
          -0.2958659809250093,
          -0.14226190399050706,
          -0.17034959124081428,
          -0.2736669371294659,
          -0.2884116641997578,
          -0.3831030226613379,
          -0.32393687533534954,
          -0.582067615424711,
          -0.5700375300456152,
          -0.38885925415341793,
          -0.5974008820400546,
          -0.37065026847854365,
          -0.193560568157752,
          -0.3125463289610936,
          -0.10027718280962408,
          -0.02649751060176925,
          -0.5852916269530573,
          -0.5950070575910411,
          -0.4693348892334078,
          -0.1908870152075664,
          -0.6491824018133544,
          -0.585850022994012,
          0.100307131039535,
          0.3952105486694893,
          0.6827463583845229,
          0.7684039482727948,
          0.5842628232591448,
          0.36345161182727825,
          0.15613359353350506,
          -0.07916805158522924,
          -0.10569332156771738,
          0.20066905752321065,
          -0.03445769845293927,
          -0.08285205711090779,
          -0.7311462979657658
         ]
        }
       ],
       "layout": {
        "height": 480,
        "paper_bgcolor": "rgba(0, 0, 0, 0)",
        "plot_bgcolor": "rgba(0, 0, 0, 0)",
        "showlegend": false,
        "template": {
         "data": {
          "bar": [
           {
            "error_x": {
             "color": "#2a3f5f"
            },
            "error_y": {
             "color": "#2a3f5f"
            },
            "marker": {
             "line": {
              "color": "#E5ECF6",
              "width": 0.5
             },
             "pattern": {
              "fillmode": "overlay",
              "size": 10,
              "solidity": 0.2
             }
            },
            "type": "bar"
           }
          ],
          "barpolar": [
           {
            "marker": {
             "line": {
              "color": "#E5ECF6",
              "width": 0.5
             },
             "pattern": {
              "fillmode": "overlay",
              "size": 10,
              "solidity": 0.2
             }
            },
            "type": "barpolar"
           }
          ],
          "carpet": [
           {
            "aaxis": {
             "endlinecolor": "#2a3f5f",
             "gridcolor": "white",
             "linecolor": "white",
             "minorgridcolor": "white",
             "startlinecolor": "#2a3f5f"
            },
            "baxis": {
             "endlinecolor": "#2a3f5f",
             "gridcolor": "white",
             "linecolor": "white",
             "minorgridcolor": "white",
             "startlinecolor": "#2a3f5f"
            },
            "type": "carpet"
           }
          ],
          "choropleth": [
           {
            "colorbar": {
             "outlinewidth": 0,
             "ticks": ""
            },
            "type": "choropleth"
           }
          ],
          "contour": [
           {
            "colorbar": {
             "outlinewidth": 0,
             "ticks": ""
            },
            "colorscale": [
             [
              0,
              "#0d0887"
             ],
             [
              0.1111111111111111,
              "#46039f"
             ],
             [
              0.2222222222222222,
              "#7201a8"
             ],
             [
              0.3333333333333333,
              "#9c179e"
             ],
             [
              0.4444444444444444,
              "#bd3786"
             ],
             [
              0.5555555555555556,
              "#d8576b"
             ],
             [
              0.6666666666666666,
              "#ed7953"
             ],
             [
              0.7777777777777778,
              "#fb9f3a"
             ],
             [
              0.8888888888888888,
              "#fdca26"
             ],
             [
              1,
              "#f0f921"
             ]
            ],
            "type": "contour"
           }
          ],
          "contourcarpet": [
           {
            "colorbar": {
             "outlinewidth": 0,
             "ticks": ""
            },
            "type": "contourcarpet"
           }
          ],
          "heatmap": [
           {
            "colorbar": {
             "outlinewidth": 0,
             "ticks": ""
            },
            "colorscale": [
             [
              0,
              "#0d0887"
             ],
             [
              0.1111111111111111,
              "#46039f"
             ],
             [
              0.2222222222222222,
              "#7201a8"
             ],
             [
              0.3333333333333333,
              "#9c179e"
             ],
             [
              0.4444444444444444,
              "#bd3786"
             ],
             [
              0.5555555555555556,
              "#d8576b"
             ],
             [
              0.6666666666666666,
              "#ed7953"
             ],
             [
              0.7777777777777778,
              "#fb9f3a"
             ],
             [
              0.8888888888888888,
              "#fdca26"
             ],
             [
              1,
              "#f0f921"
             ]
            ],
            "type": "heatmap"
           }
          ],
          "heatmapgl": [
           {
            "colorbar": {
             "outlinewidth": 0,
             "ticks": ""
            },
            "colorscale": [
             [
              0,
              "#0d0887"
             ],
             [
              0.1111111111111111,
              "#46039f"
             ],
             [
              0.2222222222222222,
              "#7201a8"
             ],
             [
              0.3333333333333333,
              "#9c179e"
             ],
             [
              0.4444444444444444,
              "#bd3786"
             ],
             [
              0.5555555555555556,
              "#d8576b"
             ],
             [
              0.6666666666666666,
              "#ed7953"
             ],
             [
              0.7777777777777778,
              "#fb9f3a"
             ],
             [
              0.8888888888888888,
              "#fdca26"
             ],
             [
              1,
              "#f0f921"
             ]
            ],
            "type": "heatmapgl"
           }
          ],
          "histogram": [
           {
            "marker": {
             "pattern": {
              "fillmode": "overlay",
              "size": 10,
              "solidity": 0.2
             }
            },
            "type": "histogram"
           }
          ],
          "histogram2d": [
           {
            "colorbar": {
             "outlinewidth": 0,
             "ticks": ""
            },
            "colorscale": [
             [
              0,
              "#0d0887"
             ],
             [
              0.1111111111111111,
              "#46039f"
             ],
             [
              0.2222222222222222,
              "#7201a8"
             ],
             [
              0.3333333333333333,
              "#9c179e"
             ],
             [
              0.4444444444444444,
              "#bd3786"
             ],
             [
              0.5555555555555556,
              "#d8576b"
             ],
             [
              0.6666666666666666,
              "#ed7953"
             ],
             [
              0.7777777777777778,
              "#fb9f3a"
             ],
             [
              0.8888888888888888,
              "#fdca26"
             ],
             [
              1,
              "#f0f921"
             ]
            ],
            "type": "histogram2d"
           }
          ],
          "histogram2dcontour": [
           {
            "colorbar": {
             "outlinewidth": 0,
             "ticks": ""
            },
            "colorscale": [
             [
              0,
              "#0d0887"
             ],
             [
              0.1111111111111111,
              "#46039f"
             ],
             [
              0.2222222222222222,
              "#7201a8"
             ],
             [
              0.3333333333333333,
              "#9c179e"
             ],
             [
              0.4444444444444444,
              "#bd3786"
             ],
             [
              0.5555555555555556,
              "#d8576b"
             ],
             [
              0.6666666666666666,
              "#ed7953"
             ],
             [
              0.7777777777777778,
              "#fb9f3a"
             ],
             [
              0.8888888888888888,
              "#fdca26"
             ],
             [
              1,
              "#f0f921"
             ]
            ],
            "type": "histogram2dcontour"
           }
          ],
          "mesh3d": [
           {
            "colorbar": {
             "outlinewidth": 0,
             "ticks": ""
            },
            "type": "mesh3d"
           }
          ],
          "parcoords": [
           {
            "line": {
             "colorbar": {
              "outlinewidth": 0,
              "ticks": ""
             }
            },
            "type": "parcoords"
           }
          ],
          "pie": [
           {
            "automargin": true,
            "type": "pie"
           }
          ],
          "scatter": [
           {
            "fillpattern": {
             "fillmode": "overlay",
             "size": 10,
             "solidity": 0.2
            },
            "type": "scatter"
           }
          ],
          "scatter3d": [
           {
            "line": {
             "colorbar": {
              "outlinewidth": 0,
              "ticks": ""
             }
            },
            "marker": {
             "colorbar": {
              "outlinewidth": 0,
              "ticks": ""
             }
            },
            "type": "scatter3d"
           }
          ],
          "scattercarpet": [
           {
            "marker": {
             "colorbar": {
              "outlinewidth": 0,
              "ticks": ""
             }
            },
            "type": "scattercarpet"
           }
          ],
          "scattergeo": [
           {
            "marker": {
             "colorbar": {
              "outlinewidth": 0,
              "ticks": ""
             }
            },
            "type": "scattergeo"
           }
          ],
          "scattergl": [
           {
            "marker": {
             "colorbar": {
              "outlinewidth": 0,
              "ticks": ""
             }
            },
            "type": "scattergl"
           }
          ],
          "scattermapbox": [
           {
            "marker": {
             "colorbar": {
              "outlinewidth": 0,
              "ticks": ""
             }
            },
            "type": "scattermapbox"
           }
          ],
          "scatterpolar": [
           {
            "marker": {
             "colorbar": {
              "outlinewidth": 0,
              "ticks": ""
             }
            },
            "type": "scatterpolar"
           }
          ],
          "scatterpolargl": [
           {
            "marker": {
             "colorbar": {
              "outlinewidth": 0,
              "ticks": ""
             }
            },
            "type": "scatterpolargl"
           }
          ],
          "scatterternary": [
           {
            "marker": {
             "colorbar": {
              "outlinewidth": 0,
              "ticks": ""
             }
            },
            "type": "scatterternary"
           }
          ],
          "surface": [
           {
            "colorbar": {
             "outlinewidth": 0,
             "ticks": ""
            },
            "colorscale": [
             [
              0,
              "#0d0887"
             ],
             [
              0.1111111111111111,
              "#46039f"
             ],
             [
              0.2222222222222222,
              "#7201a8"
             ],
             [
              0.3333333333333333,
              "#9c179e"
             ],
             [
              0.4444444444444444,
              "#bd3786"
             ],
             [
              0.5555555555555556,
              "#d8576b"
             ],
             [
              0.6666666666666666,
              "#ed7953"
             ],
             [
              0.7777777777777778,
              "#fb9f3a"
             ],
             [
              0.8888888888888888,
              "#fdca26"
             ],
             [
              1,
              "#f0f921"
             ]
            ],
            "type": "surface"
           }
          ],
          "table": [
           {
            "cells": {
             "fill": {
              "color": "#EBF0F8"
             },
             "line": {
              "color": "white"
             }
            },
            "header": {
             "fill": {
              "color": "#C8D4E3"
             },
             "line": {
              "color": "white"
             }
            },
            "type": "table"
           }
          ]
         },
         "layout": {
          "annotationdefaults": {
           "arrowcolor": "#2a3f5f",
           "arrowhead": 0,
           "arrowwidth": 1
          },
          "autotypenumbers": "strict",
          "coloraxis": {
           "colorbar": {
            "outlinewidth": 0,
            "ticks": ""
           }
          },
          "colorscale": {
           "diverging": [
            [
             0,
             "#8e0152"
            ],
            [
             0.1,
             "#c51b7d"
            ],
            [
             0.2,
             "#de77ae"
            ],
            [
             0.3,
             "#f1b6da"
            ],
            [
             0.4,
             "#fde0ef"
            ],
            [
             0.5,
             "#f7f7f7"
            ],
            [
             0.6,
             "#e6f5d0"
            ],
            [
             0.7,
             "#b8e186"
            ],
            [
             0.8,
             "#7fbc41"
            ],
            [
             0.9,
             "#4d9221"
            ],
            [
             1,
             "#276419"
            ]
           ],
           "sequential": [
            [
             0,
             "#0d0887"
            ],
            [
             0.1111111111111111,
             "#46039f"
            ],
            [
             0.2222222222222222,
             "#7201a8"
            ],
            [
             0.3333333333333333,
             "#9c179e"
            ],
            [
             0.4444444444444444,
             "#bd3786"
            ],
            [
             0.5555555555555556,
             "#d8576b"
            ],
            [
             0.6666666666666666,
             "#ed7953"
            ],
            [
             0.7777777777777778,
             "#fb9f3a"
            ],
            [
             0.8888888888888888,
             "#fdca26"
            ],
            [
             1,
             "#f0f921"
            ]
           ],
           "sequentialminus": [
            [
             0,
             "#0d0887"
            ],
            [
             0.1111111111111111,
             "#46039f"
            ],
            [
             0.2222222222222222,
             "#7201a8"
            ],
            [
             0.3333333333333333,
             "#9c179e"
            ],
            [
             0.4444444444444444,
             "#bd3786"
            ],
            [
             0.5555555555555556,
             "#d8576b"
            ],
            [
             0.6666666666666666,
             "#ed7953"
            ],
            [
             0.7777777777777778,
             "#fb9f3a"
            ],
            [
             0.8888888888888888,
             "#fdca26"
            ],
            [
             1,
             "#f0f921"
            ]
           ]
          },
          "colorway": [
           "#636efa",
           "#EF553B",
           "#00cc96",
           "#ab63fa",
           "#FFA15A",
           "#19d3f3",
           "#FF6692",
           "#B6E880",
           "#FF97FF",
           "#FECB52"
          ],
          "font": {
           "color": "#2a3f5f"
          },
          "geo": {
           "bgcolor": "white",
           "lakecolor": "white",
           "landcolor": "#E5ECF6",
           "showlakes": true,
           "showland": true,
           "subunitcolor": "white"
          },
          "hoverlabel": {
           "align": "left"
          },
          "hovermode": "closest",
          "mapbox": {
           "style": "light"
          },
          "paper_bgcolor": "white",
          "plot_bgcolor": "#E5ECF6",
          "polar": {
           "angularaxis": {
            "gridcolor": "white",
            "linecolor": "white",
            "ticks": ""
           },
           "bgcolor": "#E5ECF6",
           "radialaxis": {
            "gridcolor": "white",
            "linecolor": "white",
            "ticks": ""
           }
          },
          "scene": {
           "xaxis": {
            "backgroundcolor": "#E5ECF6",
            "gridcolor": "white",
            "gridwidth": 2,
            "linecolor": "white",
            "showbackground": true,
            "ticks": "",
            "zerolinecolor": "white"
           },
           "yaxis": {
            "backgroundcolor": "#E5ECF6",
            "gridcolor": "white",
            "gridwidth": 2,
            "linecolor": "white",
            "showbackground": true,
            "ticks": "",
            "zerolinecolor": "white"
           },
           "zaxis": {
            "backgroundcolor": "#E5ECF6",
            "gridcolor": "white",
            "gridwidth": 2,
            "linecolor": "white",
            "showbackground": true,
            "ticks": "",
            "zerolinecolor": "white"
           }
          },
          "shapedefaults": {
           "line": {
            "color": "#2a3f5f"
           }
          },
          "ternary": {
           "aaxis": {
            "gridcolor": "white",
            "linecolor": "white",
            "ticks": ""
           },
           "baxis": {
            "gridcolor": "white",
            "linecolor": "white",
            "ticks": ""
           },
           "bgcolor": "#E5ECF6",
           "caxis": {
            "gridcolor": "white",
            "linecolor": "white",
            "ticks": ""
           }
          },
          "title": {
           "x": 0.05
          },
          "xaxis": {
           "automargin": true,
           "gridcolor": "white",
           "linecolor": "white",
           "ticks": "",
           "title": {
            "standoff": 15
           },
           "zerolinecolor": "white",
           "zerolinewidth": 2
          },
          "yaxis": {
           "automargin": true,
           "gridcolor": "white",
           "linecolor": "white",
           "ticks": "",
           "title": {
            "standoff": 15
           },
           "zerolinecolor": "white",
           "zerolinewidth": 2
          }
         }
        },
        "title": {
         "text": "<b>Graph of log from y : \"crashed\"</b>",
         "x": 0.5
        },
        "width": 640,
        "xaxis": {
         "visible": false
        },
        "yaxis": {
         "visible": false
        }
       }
      }
     },
     "metadata": {},
     "output_type": "display_data"
    }
   ],
   "source": [
    "plotly_digraph(G, label=data.df['y'][41], topic_dict=topic_dict)"
   ]
  },
  {
   "cell_type": "code",
   "execution_count": 6,
   "metadata": {},
   "outputs": [
    {
     "name": "stdout",
     "output_type": "stream",
     "text": [
      "Topics size of this dataframe is : 2149\n",
      "Getting Group by from dataframe\n"
     ]
    },
    {
     "data": {
      "application/vnd.jupyter.widget-view+json": {
       "model_id": "aaa05d3d56764b81b0fe3ae97408e60c",
       "version_major": 2,
       "version_minor": 0
      },
      "text/plain": [
       "  0%|          | 0/126 [00:00<?, ?it/s]"
      ]
     },
     "metadata": {},
     "output_type": "display_data"
    },
    {
     "name": "stdout",
     "output_type": "stream",
     "text": [
      "Apply Count to calculate each topic frequency\n"
     ]
    },
    {
     "data": {
      "application/vnd.jupyter.widget-view+json": {
       "model_id": "d065ee7cc9b047359730d315443f50cc",
       "version_major": 2,
       "version_minor": 0
      },
      "text/plain": [
       "  0%|          | 0/126 [00:00<?, ?it/s]"
      ]
     },
     "metadata": {},
     "output_type": "display_data"
    },
    {
     "name": "stdout",
     "output_type": "stream",
     "text": [
      "Expanding X into 2149 features\n"
     ]
    },
    {
     "data": {
      "application/vnd.jupyter.widget-view+json": {
       "model_id": "4cd1aca1a80641858d7a97bc50dd8a1d",
       "version_major": 2,
       "version_minor": 0
      },
      "text/plain": [
       "  0%|          | 0/126 [00:00<?, ?it/s]"
      ]
     },
     "metadata": {},
     "output_type": "display_data"
    }
   ],
   "source": [
    "data = LMAOGraph(df=pd.read_parquet('dataset/ALICE-OSLdataset/ALICE_info_no_severity_D_with_topic.parquet.gzip'),mode='freq')"
   ]
  },
  {
   "cell_type": "markdown",
   "metadata": {},
   "source": [
    "# Classification"
   ]
  },
  {
   "cell_type": "code",
   "execution_count": 7,
   "metadata": {},
   "outputs": [],
   "source": [
    "from sklearn.model_selection import train_test_split\n",
    "train_df, test_df = train_test_split(data.df,test_size=0.2, stratify=data.df.y)"
   ]
  },
  {
   "cell_type": "code",
   "execution_count": 8,
   "metadata": {},
   "outputs": [],
   "source": [
    "# lgb.plot_importance(lgb_clf, importance_type=\"gain\", figsize=(7,12), title=\"LightGBM Feature Importance (Gain)\")\n",
    "# plt.show()"
   ]
  },
  {
   "cell_type": "code",
   "execution_count": 9,
   "metadata": {},
   "outputs": [],
   "source": [
    "from lmao.classifier import LMAOClassifier"
   ]
  },
  {
   "cell_type": "code",
   "execution_count": 10,
   "metadata": {},
   "outputs": [
    {
     "name": "stdout",
     "output_type": "stream",
     "text": [
      "[LightGBM] [Info] Number of positive: 55, number of negative: 45\n",
      "[LightGBM] [Info] Auto-choosing row-wise multi-threading, the overhead of testing was 0.028456 seconds.\n",
      "You can set `force_row_wise=true` to remove the overhead.\n",
      "And if memory is not enough, you can set `force_col_wise=true`.\n",
      "[LightGBM] [Info] Total Bins 15788\n",
      "[LightGBM] [Info] Number of data points in the train set: 100, number of used features: 1275\n",
      "[LightGBM] [Info] [binary:BoostFromScore]: pavg=0.550000 -> initscore=0.200671\n",
      "[LightGBM] [Info] Start training from score 0.200671\n",
      "[LightGBM] [Warning] No further splits with positive gain, best gain: -inf\n",
      "[LightGBM] [Warning] No further splits with positive gain, best gain: -inf\n",
      "[LightGBM] [Warning] No further splits with positive gain, best gain: -inf\n",
      "[LightGBM] [Warning] No further splits with positive gain, best gain: -inf\n",
      "[LightGBM] [Warning] No further splits with positive gain, best gain: -inf\n",
      "[LightGBM] [Warning] No further splits with positive gain, best gain: -inf\n",
      "[LightGBM] [Warning] No further splits with positive gain, best gain: -inf\n",
      "[LightGBM] [Warning] No further splits with positive gain, best gain: -inf\n",
      "[LightGBM] [Warning] No further splits with positive gain, best gain: -inf\n",
      "[LightGBM] [Warning] No further splits with positive gain, best gain: -inf\n",
      "[LightGBM] [Warning] No further splits with positive gain, best gain: -inf\n",
      "[LightGBM] [Warning] No further splits with positive gain, best gain: -inf\n",
      "[LightGBM] [Warning] No further splits with positive gain, best gain: -inf\n",
      "[LightGBM] [Warning] No further splits with positive gain, best gain: -inf\n",
      "[LightGBM] [Warning] No further splits with positive gain, best gain: -inf\n",
      "[LightGBM] [Warning] No further splits with positive gain, best gain: -inf\n",
      "[LightGBM] [Warning] No further splits with positive gain, best gain: -inf\n",
      "[LightGBM] [Warning] No further splits with positive gain, best gain: -inf\n",
      "[LightGBM] [Warning] No further splits with positive gain, best gain: -inf\n",
      "[LightGBM] [Warning] No further splits with positive gain, best gain: -inf\n",
      "[LightGBM] [Warning] No further splits with positive gain, best gain: -inf\n",
      "[LightGBM] [Warning] No further splits with positive gain, best gain: -inf\n",
      "[LightGBM] [Warning] No further splits with positive gain, best gain: -inf\n",
      "[LightGBM] [Warning] No further splits with positive gain, best gain: -inf\n",
      "[LightGBM] [Warning] No further splits with positive gain, best gain: -inf\n",
      "[LightGBM] [Warning] No further splits with positive gain, best gain: -inf\n",
      "[LightGBM] [Warning] No further splits with positive gain, best gain: -inf\n",
      "[LightGBM] [Warning] No further splits with positive gain, best gain: -inf\n",
      "[LightGBM] [Warning] No further splits with positive gain, best gain: -inf\n",
      "[LightGBM] [Warning] No further splits with positive gain, best gain: -inf\n",
      "[LightGBM] [Warning] No further splits with positive gain, best gain: -inf\n",
      "[LightGBM] [Warning] No further splits with positive gain, best gain: -inf\n",
      "[LightGBM] [Warning] No further splits with positive gain, best gain: -inf\n",
      "[LightGBM] [Warning] No further splits with positive gain, best gain: -inf\n",
      "[LightGBM] [Warning] No further splits with positive gain, best gain: -inf\n",
      "[LightGBM] [Warning] No further splits with positive gain, best gain: -inf\n",
      "[LightGBM] [Warning] No further splits with positive gain, best gain: -inf\n",
      "[LightGBM] [Warning] No further splits with positive gain, best gain: -inf\n",
      "[LightGBM] [Warning] No further splits with positive gain, best gain: -inf\n",
      "[LightGBM] [Warning] No further splits with positive gain, best gain: -inf\n",
      "[LightGBM] [Warning] No further splits with positive gain, best gain: -inf\n",
      "[LightGBM] [Warning] No further splits with positive gain, best gain: -inf\n",
      "[LightGBM] [Warning] No further splits with positive gain, best gain: -inf\n",
      "[LightGBM] [Warning] No further splits with positive gain, best gain: -inf\n",
      "[LightGBM] [Warning] No further splits with positive gain, best gain: -inf\n",
      "[LightGBM] [Warning] No further splits with positive gain, best gain: -inf\n",
      "[LightGBM] [Warning] No further splits with positive gain, best gain: -inf\n",
      "[LightGBM] [Warning] No further splits with positive gain, best gain: -inf\n",
      "[LightGBM] [Warning] No further splits with positive gain, best gain: -inf\n",
      "[LightGBM] [Warning] No further splits with positive gain, best gain: -inf\n",
      "[LightGBM] [Warning] No further splits with positive gain, best gain: -inf\n",
      "[LightGBM] [Warning] No further splits with positive gain, best gain: -inf\n",
      "[LightGBM] [Warning] No further splits with positive gain, best gain: -inf\n",
      "[LightGBM] [Warning] No further splits with positive gain, best gain: -inf\n",
      "[LightGBM] [Warning] No further splits with positive gain, best gain: -inf\n",
      "[LightGBM] [Warning] No further splits with positive gain, best gain: -inf\n",
      "[LightGBM] [Warning] No further splits with positive gain, best gain: -inf\n",
      "[LightGBM] [Warning] No further splits with positive gain, best gain: -inf\n",
      "[LightGBM] [Warning] No further splits with positive gain, best gain: -inf\n",
      "[LightGBM] [Warning] No further splits with positive gain, best gain: -inf\n",
      "[LightGBM] [Warning] No further splits with positive gain, best gain: -inf\n",
      "[LightGBM] [Warning] No further splits with positive gain, best gain: -inf\n",
      "[LightGBM] [Warning] No further splits with positive gain, best gain: -inf\n",
      "[LightGBM] [Warning] No further splits with positive gain, best gain: -inf\n",
      "[LightGBM] [Warning] No further splits with positive gain, best gain: -inf\n",
      "[LightGBM] [Warning] No further splits with positive gain, best gain: -inf\n",
      "[LightGBM] [Warning] No further splits with positive gain, best gain: -inf\n",
      "[LightGBM] [Warning] No further splits with positive gain, best gain: -inf\n",
      "[LightGBM] [Warning] No further splits with positive gain, best gain: -inf\n",
      "[LightGBM] [Warning] No further splits with positive gain, best gain: -inf\n",
      "[LightGBM] [Warning] No further splits with positive gain, best gain: -inf\n",
      "[LightGBM] [Warning] No further splits with positive gain, best gain: -inf\n",
      "[LightGBM] [Warning] No further splits with positive gain, best gain: -inf\n",
      "[LightGBM] [Warning] No further splits with positive gain, best gain: -inf\n",
      "[LightGBM] [Warning] No further splits with positive gain, best gain: -inf\n",
      "[LightGBM] [Warning] No further splits with positive gain, best gain: -inf\n",
      "[LightGBM] [Warning] No further splits with positive gain, best gain: -inf\n",
      "[LightGBM] [Warning] No further splits with positive gain, best gain: -inf\n",
      "[LightGBM] [Warning] No further splits with positive gain, best gain: -inf\n",
      "[LightGBM] [Warning] No further splits with positive gain, best gain: -inf\n",
      "[LightGBM] [Warning] No further splits with positive gain, best gain: -inf\n",
      "[LightGBM] [Warning] No further splits with positive gain, best gain: -inf\n",
      "[LightGBM] [Warning] No further splits with positive gain, best gain: -inf\n",
      "[LightGBM] [Warning] No further splits with positive gain, best gain: -inf\n",
      "[LightGBM] [Warning] No further splits with positive gain, best gain: -inf\n",
      "[LightGBM] [Warning] No further splits with positive gain, best gain: -inf\n",
      "[LightGBM] [Warning] No further splits with positive gain, best gain: -inf\n",
      "[LightGBM] [Warning] No further splits with positive gain, best gain: -inf\n",
      "[LightGBM] [Warning] No further splits with positive gain, best gain: -inf\n",
      "[LightGBM] [Warning] No further splits with positive gain, best gain: -inf\n",
      "[LightGBM] [Warning] No further splits with positive gain, best gain: -inf\n",
      "[LightGBM] [Warning] No further splits with positive gain, best gain: -inf\n",
      "[LightGBM] [Warning] No further splits with positive gain, best gain: -inf\n",
      "[LightGBM] [Warning] No further splits with positive gain, best gain: -inf\n",
      "[LightGBM] [Warning] No further splits with positive gain, best gain: -inf\n",
      "[LightGBM] [Warning] No further splits with positive gain, best gain: -inf\n",
      "[LightGBM] [Warning] No further splits with positive gain, best gain: -inf\n",
      "[LightGBM] [Warning] No further splits with positive gain, best gain: -inf\n",
      "[LightGBM] [Warning] No further splits with positive gain, best gain: -inf\n",
      "[LightGBM] [Warning] No further splits with positive gain, best gain: -inf\n"
     ]
    }
   ],
   "source": [
    "clf = LMAOClassifier(model_type='lgbm')\n",
    "clf.fit(train_df.drop(columns='y'), train_df.y)"
   ]
  },
  {
   "cell_type": "code",
   "execution_count": 11,
   "metadata": {},
   "outputs": [],
   "source": [
    "pred = clf.predict(test_df.drop(columns='y'))"
   ]
  },
  {
   "cell_type": "code",
   "execution_count": 13,
   "metadata": {},
   "outputs": [
    {
     "name": "stdout",
     "output_type": "stream",
     "text": [
      "              precision    recall  f1-score   support\n",
      "\n",
      "     crashed      0.778     0.583     0.667        12\n",
      " not crashed      0.706     0.857     0.774        14\n",
      "\n",
      "    accuracy                          0.731        26\n",
      "   macro avg      0.742     0.720     0.720        26\n",
      "weighted avg      0.739     0.731     0.725        26\n",
      "\n"
     ]
    }
   ],
   "source": [
    "print(clf.eval_report(test_df.drop(columns='y'), test_df.y))"
   ]
  },
  {
   "cell_type": "code",
   "execution_count": 14,
   "metadata": {},
   "outputs": [
    {
     "data": {
      "image/png": "[encoded data removed]",
      "text/plain": [
       "<Figure size 640x480 with 2 Axes>"
      ]
     },
     "metadata": {},
     "output_type": "display_data"
    }
   ],
   "source": [
    "clf.confusion_matrix_plot(test_df.drop(columns='y'), test_df.y)"
   ]
  },
  {
   "cell_type": "code",
   "execution_count": 17,
   "metadata": {},
   "outputs": [
    {
     "data": {
      "text/plain": [
       "array([[ 7,  5],\n",
       "       [ 2, 12]])"
      ]
     },
     "execution_count": 17,
     "metadata": {},
     "output_type": "execute_result"
    }
   ],
   "source": [
    "clf.confusion_report(test_df.drop(columns='y'), test_df.y)"
   ]
  },
  {
   "cell_type": "code",
   "execution_count": null,
   "metadata": {},
   "outputs": [],
   "source": []
  }
 ],
 "metadata": {
  "kernelspec": {
   "display_name": "Python 3",
   "language": "python",
   "name": "python3"
  },
  "language_info": {
   "codemirror_mode": {
    "name": "ipython",
    "version": 3
   },
   "file_extension": ".py",
   "mimetype": "text/x-python",
   "name": "python",
   "nbconvert_exporter": "python",
   "pygments_lexer": "ipython3",
   "version": "3.11.5"
  }
 },
 "nbformat": 4,
 "nbformat_minor": 2
}
