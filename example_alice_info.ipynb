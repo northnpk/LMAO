{
 "cells": [
  {
   "cell_type": "code",
   "execution_count": 1,
   "metadata": {},
   "outputs": [],
   "source": [
    "# import lmao\n",
    "from lmao._utils import *"
   ]
  },
  {
   "cell_type": "markdown",
   "metadata": {},
   "source": [
    "# ALICE Infologger Preprocessing"
   ]
  },
  {
   "cell_type": "code",
   "execution_count": 2,
   "metadata": {},
   "outputs": [],
   "source": [
    "from lmao.preprocessing import LMAOPrep"
   ]
  },
  {
   "cell_type": "code",
   "execution_count": 3,
   "metadata": {},
   "outputs": [
    {
     "name": "stdout",
     "output_type": "stream",
     "text": [
      "Created prep class\n"
     ]
    }
   ],
   "source": [
    "prep = LMAOPrep(data_type='alice_info')"
   ]
  },
  {
   "cell_type": "code",
   "execution_count": 4,
   "metadata": {},
   "outputs": [
    {
     "data": {
      "text/plain": [
       "'dataset/ALICE-OSLdataset/phob_test_20220312_sample_struct_no_new15.csv'"
      ]
     },
     "execution_count": 4,
     "metadata": {},
     "output_type": "execute_result"
    }
   ],
   "source": [
    "prep.from_parsed_csv(csv_path='dataset/ALICE-OSLdataset/phob_test_20220312_sample_struct_no_new15.csv')"
   ]
  },
  {
   "cell_type": "code",
   "execution_count": 5,
   "metadata": {},
   "outputs": [
    {
     "name": "stdout",
     "output_type": "stream",
     "text": [
      "Preprocessing to LMAO format with label from alice_info\n",
      "Path :dataset/OneDrive_1_2-5-2024/runs.csv\n"
     ]
    },
    {
     "name": "stderr",
     "output_type": "stream",
     "text": [
      "/Users/IsRealNPK/LMAO/lmao/preprocessing/alice_info.py:65: DtypeWarning: Columns (27,28,36) have mixed types. Specify dtype option on import or set low_memory=False.\n",
      "  run_df = pd.read_csv(label_path)\n"
     ]
    },
    {
     "name": "stdout",
     "output_type": "stream",
     "text": [
      "Stating map RunID from label file\n"
     ]
    },
    {
     "data": {
      "application/vnd.jupyter.widget-view+json": {
       "model_id": "0c5ae9d3801d491ebe80589a9c114924",
       "version_major": 2,
       "version_minor": 0
      },
      "text/plain": [
       "  0%|          | 0/23177 [00:00<?, ?it/s]"
      ]
     },
     "metadata": {},
     "output_type": "display_data"
    },
    {
     "name": "stdout",
     "output_type": "stream",
     "text": [
      "Stating map EOR from EOR file\n"
     ]
    },
    {
     "data": {
      "application/vnd.jupyter.widget-view+json": {
       "model_id": "8ff7beabe78c43b9ab8cb27ab2fbf318",
       "version_major": 2,
       "version_minor": 0
      },
      "text/plain": [
       "  0%|          | 0/2831 [00:00<?, ?it/s]"
      ]
     },
     "metadata": {},
     "output_type": "display_data"
    },
    {
     "name": "stdout",
     "output_type": "stream",
     "text": [
      "Drop all severity D\n",
      "Normalize EOR\n"
     ]
    },
    {
     "data": {
      "application/vnd.jupyter.widget-view+json": {
       "model_id": "6a8c2c5d424a4a668deabebcdce68f09",
       "version_major": 2,
       "version_minor": 0
      },
      "text/plain": [
       "  0%|          | 0/9712742 [00:00<?, ?it/s]"
      ]
     },
     "metadata": {},
     "output_type": "display_data"
    },
    {
     "name": "stdout",
     "output_type": "stream",
     "text": [
      "Getting Crashed from EOR\n",
      "Returning dataframe\n",
      "Done\n"
     ]
    }
   ],
   "source": [
    "prep.prep_data(label_path='dataset/OneDrive_1_2-5-2024/runs.csv',\n",
    "               eor_path='dataset/OneDrive_1_2-5-2024/eor_reasons.csv')"
   ]
  },
  {
   "cell_type": "code",
   "execution_count": 6,
   "metadata": {},
   "outputs": [],
   "source": [
    "prep.df.to_parquet('dataset/PArtDataset.parquet.gzip', compression='gzip')"
   ]
  },
  {
   "cell_type": "code",
   "execution_count": 66,
   "metadata": {},
   "outputs": [],
   "source": [
    "prep.df.to_parquet('dataset/ALICE-OSLdataset/ALICE_info_no_severity_D_with_label.parquet.gzip', compression='gzip')"
   ]
  },
  {
   "cell_type": "markdown",
   "metadata": {},
   "source": [
    "# ALICE Bertopic"
   ]
  },
  {
   "cell_type": "code",
   "execution_count": 2,
   "metadata": {},
   "outputs": [
    {
     "name": "stdout",
     "output_type": "stream",
     "text": [
      "Topic model mode set to :BERTopic.\n",
      "Start Initialized\n"
     ]
    }
   ],
   "source": [
    "from lmao.topicmodel import LMAOTopic\n",
    "topic_model = LMAOTopic()"
   ]
  },
  {
   "cell_type": "code",
   "execution_count": 3,
   "metadata": {},
   "outputs": [],
   "source": [
    "df = pd.read_parquet('dataset/ALICE-OSLdataset/ALICE_info_no_severity_D_with_label.parquet.gzip')"
   ]
  },
  {
   "cell_type": "code",
   "execution_count": 23,
   "metadata": {},
   "outputs": [],
   "source": [
    "def find_error(text):\n",
    "    if 'error' in text:\n",
    "        return 'Have Error'\n",
    "    else :\n",
    "        return 'Not have Error'"
   ]
  },
  {
   "cell_type": "code",
   "execution_count": 31,
   "metadata": {},
   "outputs": [
    {
     "data": {
      "application/vnd.plotly.v1+json": {
       "config": {
        "plotlyServerURL": "https://plot.ly"
       },
       "data": [
        {
         "alignmentgroup": "True",
         "hovertemplate": "variable=count<br>content=%{x}<br>value=%{y}<extra></extra>",
         "legendgroup": "count",
         "marker": {
          "color": "#636efa",
          "pattern": {
           "shape": ""
          }
         },
         "name": "count",
         "offsetgroup": "count",
         "orientation": "v",
         "showlegend": true,
         "textposition": "auto",
         "type": "bar",
         "x": [
          "Not have Error",
          "Have Error"
         ],
         "xaxis": "x",
         "y": [
          194428,
          22201
         ],
         "yaxis": "y"
        }
       ],
       "layout": {
        "barmode": "relative",
        "height": 480,
        "legend": {
         "title": {
          "text": "variable"
         },
         "tracegroupgap": 0
        },
        "margin": {
         "t": 60
        },
        "paper_bgcolor": "rgba(0, 0, 0, 0)",
        "plot_bgcolor": "rgba(0, 0, 0, 0)",
        "template": {
         "data": {
          "bar": [
           {
            "error_x": {
             "color": "#2a3f5f"
            },
            "error_y": {
             "color": "#2a3f5f"
            },
            "marker": {
             "line": {
              "color": "#E5ECF6",
              "width": 0.5
             },
             "pattern": {
              "fillmode": "overlay",
              "size": 10,
              "solidity": 0.2
             }
            },
            "type": "bar"
           }
          ],
          "barpolar": [
           {
            "marker": {
             "line": {
              "color": "#E5ECF6",
              "width": 0.5
             },
             "pattern": {
              "fillmode": "overlay",
              "size": 10,
              "solidity": 0.2
             }
            },
            "type": "barpolar"
           }
          ],
          "carpet": [
           {
            "aaxis": {
             "endlinecolor": "#2a3f5f",
             "gridcolor": "white",
             "linecolor": "white",
             "minorgridcolor": "white",
             "startlinecolor": "#2a3f5f"
            },
            "baxis": {
             "endlinecolor": "#2a3f5f",
             "gridcolor": "white",
             "linecolor": "white",
             "minorgridcolor": "white",
             "startlinecolor": "#2a3f5f"
            },
            "type": "carpet"
           }
          ],
          "choropleth": [
           {
            "colorbar": {
             "outlinewidth": 0,
             "ticks": ""
            },
            "type": "choropleth"
           }
          ],
          "contour": [
           {
            "colorbar": {
             "outlinewidth": 0,
             "ticks": ""
            },
            "colorscale": [
             [
              0,
              "#0d0887"
             ],
             [
              0.1111111111111111,
              "#46039f"
             ],
             [
              0.2222222222222222,
              "#7201a8"
             ],
             [
              0.3333333333333333,
              "#9c179e"
             ],
             [
              0.4444444444444444,
              "#bd3786"
             ],
             [
              0.5555555555555556,
              "#d8576b"
             ],
             [
              0.6666666666666666,
              "#ed7953"
             ],
             [
              0.7777777777777778,
              "#fb9f3a"
             ],
             [
              0.8888888888888888,
              "#fdca26"
             ],
             [
              1,
              "#f0f921"
             ]
            ],
            "type": "contour"
           }
          ],
          "contourcarpet": [
           {
            "colorbar": {
             "outlinewidth": 0,
             "ticks": ""
            },
            "type": "contourcarpet"
           }
          ],
          "heatmap": [
           {
            "colorbar": {
             "outlinewidth": 0,
             "ticks": ""
            },
            "colorscale": [
             [
              0,
              "#0d0887"
             ],
             [
              0.1111111111111111,
              "#46039f"
             ],
             [
              0.2222222222222222,
              "#7201a8"
             ],
             [
              0.3333333333333333,
              "#9c179e"
             ],
             [
              0.4444444444444444,
              "#bd3786"
             ],
             [
              0.5555555555555556,
              "#d8576b"
             ],
             [
              0.6666666666666666,
              "#ed7953"
             ],
             [
              0.7777777777777778,
              "#fb9f3a"
             ],
             [
              0.8888888888888888,
              "#fdca26"
             ],
             [
              1,
              "#f0f921"
             ]
            ],
            "type": "heatmap"
           }
          ],
          "heatmapgl": [
           {
            "colorbar": {
             "outlinewidth": 0,
             "ticks": ""
            },
            "colorscale": [
             [
              0,
              "#0d0887"
             ],
             [
              0.1111111111111111,
              "#46039f"
             ],
             [
              0.2222222222222222,
              "#7201a8"
             ],
             [
              0.3333333333333333,
              "#9c179e"
             ],
             [
              0.4444444444444444,
              "#bd3786"
             ],
             [
              0.5555555555555556,
              "#d8576b"
             ],
             [
              0.6666666666666666,
              "#ed7953"
             ],
             [
              0.7777777777777778,
              "#fb9f3a"
             ],
             [
              0.8888888888888888,
              "#fdca26"
             ],
             [
              1,
              "#f0f921"
             ]
            ],
            "type": "heatmapgl"
           }
          ],
          "histogram": [
           {
            "marker": {
             "pattern": {
              "fillmode": "overlay",
              "size": 10,
              "solidity": 0.2
             }
            },
            "type": "histogram"
           }
          ],
          "histogram2d": [
           {
            "colorbar": {
             "outlinewidth": 0,
             "ticks": ""
            },
            "colorscale": [
             [
              0,
              "#0d0887"
             ],
             [
              0.1111111111111111,
              "#46039f"
             ],
             [
              0.2222222222222222,
              "#7201a8"
             ],
             [
              0.3333333333333333,
              "#9c179e"
             ],
             [
              0.4444444444444444,
              "#bd3786"
             ],
             [
              0.5555555555555556,
              "#d8576b"
             ],
             [
              0.6666666666666666,
              "#ed7953"
             ],
             [
              0.7777777777777778,
              "#fb9f3a"
             ],
             [
              0.8888888888888888,
              "#fdca26"
             ],
             [
              1,
              "#f0f921"
             ]
            ],
            "type": "histogram2d"
           }
          ],
          "histogram2dcontour": [
           {
            "colorbar": {
             "outlinewidth": 0,
             "ticks": ""
            },
            "colorscale": [
             [
              0,
              "#0d0887"
             ],
             [
              0.1111111111111111,
              "#46039f"
             ],
             [
              0.2222222222222222,
              "#7201a8"
             ],
             [
              0.3333333333333333,
              "#9c179e"
             ],
             [
              0.4444444444444444,
              "#bd3786"
             ],
             [
              0.5555555555555556,
              "#d8576b"
             ],
             [
              0.6666666666666666,
              "#ed7953"
             ],
             [
              0.7777777777777778,
              "#fb9f3a"
             ],
             [
              0.8888888888888888,
              "#fdca26"
             ],
             [
              1,
              "#f0f921"
             ]
            ],
            "type": "histogram2dcontour"
           }
          ],
          "mesh3d": [
           {
            "colorbar": {
             "outlinewidth": 0,
             "ticks": ""
            },
            "type": "mesh3d"
           }
          ],
          "parcoords": [
           {
            "line": {
             "colorbar": {
              "outlinewidth": 0,
              "ticks": ""
             }
            },
            "type": "parcoords"
           }
          ],
          "pie": [
           {
            "automargin": true,
            "type": "pie"
           }
          ],
          "scatter": [
           {
            "fillpattern": {
             "fillmode": "overlay",
             "size": 10,
             "solidity": 0.2
            },
            "type": "scatter"
           }
          ],
          "scatter3d": [
           {
            "line": {
             "colorbar": {
              "outlinewidth": 0,
              "ticks": ""
             }
            },
            "marker": {
             "colorbar": {
              "outlinewidth": 0,
              "ticks": ""
             }
            },
            "type": "scatter3d"
           }
          ],
          "scattercarpet": [
           {
            "marker": {
             "colorbar": {
              "outlinewidth": 0,
              "ticks": ""
             }
            },
            "type": "scattercarpet"
           }
          ],
          "scattergeo": [
           {
            "marker": {
             "colorbar": {
              "outlinewidth": 0,
              "ticks": ""
             }
            },
            "type": "scattergeo"
           }
          ],
          "scattergl": [
           {
            "marker": {
             "colorbar": {
              "outlinewidth": 0,
              "ticks": ""
             }
            },
            "type": "scattergl"
           }
          ],
          "scattermapbox": [
           {
            "marker": {
             "colorbar": {
              "outlinewidth": 0,
              "ticks": ""
             }
            },
            "type": "scattermapbox"
           }
          ],
          "scatterpolar": [
           {
            "marker": {
             "colorbar": {
              "outlinewidth": 0,
              "ticks": ""
             }
            },
            "type": "scatterpolar"
           }
          ],
          "scatterpolargl": [
           {
            "marker": {
             "colorbar": {
              "outlinewidth": 0,
              "ticks": ""
             }
            },
            "type": "scatterpolargl"
           }
          ],
          "scatterternary": [
           {
            "marker": {
             "colorbar": {
              "outlinewidth": 0,
              "ticks": ""
             }
            },
            "type": "scatterternary"
           }
          ],
          "surface": [
           {
            "colorbar": {
             "outlinewidth": 0,
             "ticks": ""
            },
            "colorscale": [
             [
              0,
              "#0d0887"
             ],
             [
              0.1111111111111111,
              "#46039f"
             ],
             [
              0.2222222222222222,
              "#7201a8"
             ],
             [
              0.3333333333333333,
              "#9c179e"
             ],
             [
              0.4444444444444444,
              "#bd3786"
             ],
             [
              0.5555555555555556,
              "#d8576b"
             ],
             [
              0.6666666666666666,
              "#ed7953"
             ],
             [
              0.7777777777777778,
              "#fb9f3a"
             ],
             [
              0.8888888888888888,
              "#fdca26"
             ],
             [
              1,
              "#f0f921"
             ]
            ],
            "type": "surface"
           }
          ],
          "table": [
           {
            "cells": {
             "fill": {
              "color": "#EBF0F8"
             },
             "line": {
              "color": "white"
             }
            },
            "header": {
             "fill": {
              "color": "#C8D4E3"
             },
             "line": {
              "color": "white"
             }
            },
            "type": "table"
           }
          ]
         },
         "layout": {
          "annotationdefaults": {
           "arrowcolor": "#2a3f5f",
           "arrowhead": 0,
           "arrowwidth": 1
          },
          "autotypenumbers": "strict",
          "coloraxis": {
           "colorbar": {
            "outlinewidth": 0,
            "ticks": ""
           }
          },
          "colorscale": {
           "diverging": [
            [
             0,
             "#8e0152"
            ],
            [
             0.1,
             "#c51b7d"
            ],
            [
             0.2,
             "#de77ae"
            ],
            [
             0.3,
             "#f1b6da"
            ],
            [
             0.4,
             "#fde0ef"
            ],
            [
             0.5,
             "#f7f7f7"
            ],
            [
             0.6,
             "#e6f5d0"
            ],
            [
             0.7,
             "#b8e186"
            ],
            [
             0.8,
             "#7fbc41"
            ],
            [
             0.9,
             "#4d9221"
            ],
            [
             1,
             "#276419"
            ]
           ],
           "sequential": [
            [
             0,
             "#0d0887"
            ],
            [
             0.1111111111111111,
             "#46039f"
            ],
            [
             0.2222222222222222,
             "#7201a8"
            ],
            [
             0.3333333333333333,
             "#9c179e"
            ],
            [
             0.4444444444444444,
             "#bd3786"
            ],
            [
             0.5555555555555556,
             "#d8576b"
            ],
            [
             0.6666666666666666,
             "#ed7953"
            ],
            [
             0.7777777777777778,
             "#fb9f3a"
            ],
            [
             0.8888888888888888,
             "#fdca26"
            ],
            [
             1,
             "#f0f921"
            ]
           ],
           "sequentialminus": [
            [
             0,
             "#0d0887"
            ],
            [
             0.1111111111111111,
             "#46039f"
            ],
            [
             0.2222222222222222,
             "#7201a8"
            ],
            [
             0.3333333333333333,
             "#9c179e"
            ],
            [
             0.4444444444444444,
             "#bd3786"
            ],
            [
             0.5555555555555556,
             "#d8576b"
            ],
            [
             0.6666666666666666,
             "#ed7953"
            ],
            [
             0.7777777777777778,
             "#fb9f3a"
            ],
            [
             0.8888888888888888,
             "#fdca26"
            ],
            [
             1,
             "#f0f921"
            ]
           ]
          },
          "colorway": [
           "#636efa",
           "#EF553B",
           "#00cc96",
           "#ab63fa",
           "#FFA15A",
           "#19d3f3",
           "#FF6692",
           "#B6E880",
           "#FF97FF",
           "#FECB52"
          ],
          "font": {
           "color": "#2a3f5f"
          },
          "geo": {
           "bgcolor": "white",
           "lakecolor": "white",
           "landcolor": "#E5ECF6",
           "showlakes": true,
           "showland": true,
           "subunitcolor": "white"
          },
          "hoverlabel": {
           "align": "left"
          },
          "hovermode": "closest",
          "mapbox": {
           "style": "light"
          },
          "paper_bgcolor": "white",
          "plot_bgcolor": "#E5ECF6",
          "polar": {
           "angularaxis": {
            "gridcolor": "white",
            "linecolor": "white",
            "ticks": ""
           },
           "bgcolor": "#E5ECF6",
           "radialaxis": {
            "gridcolor": "white",
            "linecolor": "white",
            "ticks": ""
           }
          },
          "scene": {
           "xaxis": {
            "backgroundcolor": "#E5ECF6",
            "gridcolor": "white",
            "gridwidth": 2,
            "linecolor": "white",
            "showbackground": true,
            "ticks": "",
            "zerolinecolor": "white"
           },
           "yaxis": {
            "backgroundcolor": "#E5ECF6",
            "gridcolor": "white",
            "gridwidth": 2,
            "linecolor": "white",
            "showbackground": true,
            "ticks": "",
            "zerolinecolor": "white"
           },
           "zaxis": {
            "backgroundcolor": "#E5ECF6",
            "gridcolor": "white",
            "gridwidth": 2,
            "linecolor": "white",
            "showbackground": true,
            "ticks": "",
            "zerolinecolor": "white"
           }
          },
          "shapedefaults": {
           "line": {
            "color": "#2a3f5f"
           }
          },
          "ternary": {
           "aaxis": {
            "gridcolor": "white",
            "linecolor": "white",
            "ticks": ""
           },
           "baxis": {
            "gridcolor": "white",
            "linecolor": "white",
            "ticks": ""
           },
           "bgcolor": "#E5ECF6",
           "caxis": {
            "gridcolor": "white",
            "linecolor": "white",
            "ticks": ""
           }
          },
          "title": {
           "x": 0.05
          },
          "xaxis": {
           "automargin": true,
           "gridcolor": "white",
           "linecolor": "white",
           "ticks": "",
           "title": {
            "standoff": 15
           },
           "zerolinecolor": "white",
           "zerolinewidth": 2
          },
          "yaxis": {
           "automargin": true,
           "gridcolor": "white",
           "linecolor": "white",
           "ticks": "",
           "title": {
            "standoff": 15
           },
           "zerolinecolor": "white",
           "zerolinewidth": 2
          }
         }
        },
        "title": {
         "text": "<b>Distribution between<b><br><b>have<b> and <b>not have<b> \"Error\"<br>inside content from <b>\"Equipment\"<b> <*>",
         "x": 0.5
        },
        "width": 640,
        "xaxis": {
         "anchor": "y",
         "domain": [
          0,
          1
         ],
         "title": {
          "text": "content"
         }
        },
        "yaxis": {
         "anchor": "x",
         "domain": [
          0,
          1
         ],
         "title": {
          "text": "value"
         }
        }
       }
      }
     },
     "metadata": {},
     "output_type": "display_data"
    }
   ],
   "source": [
    "import plotly.express as px\n",
    "data_canada = df[df['event_template'] == 'Equipment <*>']['content'].apply(find_error).value_counts()\n",
    "fig = px.bar(data_canada)\n",
    "fig.update_layout(title_text='<b>Distribution between<b>'+\n",
    "                  '<br><b>have<b> and <b>not have<b> \"Error\"' +\n",
    "                  '<br>inside content from <b>\"Equipment\"<b> <*>',\n",
    "                      title_x=0.5,\n",
    "                      width=640,\n",
    "                      height=480,\n",
    "                      plot_bgcolor='rgba(0, 0, 0, 0)',\n",
    "                      paper_bgcolor='rgba(0, 0, 0, 0)',)\n",
    "fig.show()"
   ]
  },
  {
   "cell_type": "code",
   "execution_count": null,
   "metadata": {},
   "outputs": [],
   "source": [
    "# topic_model.training_model(df=df)"
   ]
  },
  {
   "cell_type": "code",
   "execution_count": null,
   "metadata": {},
   "outputs": [],
   "source": [
    "# topic_dict = topic_model.topic_dict"
   ]
  },
  {
   "cell_type": "code",
   "execution_count": 11,
   "metadata": {},
   "outputs": [
    {
     "name": "stdout",
     "output_type": "stream",
     "text": [
      "1.25 s ± 304 ms per loop (mean ± std. dev. of 7 runs, 1 loop each)\n"
     ]
    }
   ],
   "source": [
    "# %%timeit\n",
    "# topic_model.model.transform(df.content.tolist()[:1000])\n",
    "# topic, _ = topic_model.model.transform(df.content.tolist()[0])\n",
    "# topic"
   ]
  },
  {
   "cell_type": "code",
   "execution_count": 3,
   "metadata": {},
   "outputs": [
    {
     "name": "stdout",
     "output_type": "stream",
     "text": [
      "Done\n"
     ]
    }
   ],
   "source": [
    "topic_model.from_trained_model(model_path='lmao/topicmodel/model/BERTopic-ALICE_info_no_severity_D-all-MiniLM-L6-v2')"
   ]
  },
  {
   "cell_type": "code",
   "execution_count": 4,
   "metadata": {},
   "outputs": [],
   "source": [
    "topic_dict = topic_model.topic_dict"
   ]
  },
  {
   "cell_type": "code",
   "execution_count": 5,
   "metadata": {},
   "outputs": [],
   "source": [
    "embeddings = topic_model.get_embeddings()"
   ]
  },
  {
   "cell_type": "code",
   "execution_count": 6,
   "metadata": {},
   "outputs": [],
   "source": [
    "df = pd.read_parquet('dataset/ALICE-OSLdataset/ALICE_info_no_severity_D_with_label.parquet.gzip')"
   ]
  },
  {
   "cell_type": "code",
   "execution_count": 7,
   "metadata": {},
   "outputs": [],
   "source": [
    "df = topic_model.get_topic(df=df)"
   ]
  },
  {
   "cell_type": "code",
   "execution_count": 38,
   "metadata": {},
   "outputs": [
    {
     "data": {
      "application/vnd.plotly.v1+json": {
       "config": {
        "plotlyServerURL": "https://plot.ly"
       },
       "data": [
        {
         "customdata": [
          [
           0,
           "sending quality | objects sending | quality objects | sending | objects",
           138005
          ],
          [
           1,
           "startofcycle startofcycle | startofcycle | startofcycle equipment | startofcycle configure | 279136 startofcycle",
           109162
          ],
          [
           2,
           "storing qualityobjects | qualityobjects storing | qualityobjects | storing | qualityobjects task",
           100888
          ],
          [
           3,
           "endofcycle endofcycle | endofcycle | 1664473857380 | timestamp 1664473857380 | 1664473857380 updating",
           108116
          ],
          [
           4,
           "check rawbunchminamplitude | rawbunchminamplitude quality | rawbunchminamplitude | quality good | good level",
           80254
          ],
          [
           5,
           "updating the | triggertype timestamp | triggertype | to trigger | task due",
           63570
          ],
          [
           22,
           "publishing 27 | 27 monitorobjects | 27 | monitorobjects publishing | publishing",
           32691
          ],
          [
           23,
           "check rawdecodingerrorcheckemcal | rawdecodingerrorcheckemcal quality | rawdecodingerrorcheckemcal | bad level | quality bad",
           29836
          ],
          [
           25,
           "sending quality | objects sending | quality objects | sending | objects",
           40348
          ],
          [
           29,
           "storing qualityobjects | qualityobjects storing | qualityobjects | storing | 2aqpoqtujdk",
           26253
          ],
          [
           33,
           "cellcheckoccupancy quality | check cellcheckoccupancy | cellcheckoccupancy | quality good | good level",
           24429
          ],
          [
           55,
           "rawoccupancycheck quality | check rawoccupancycheck | rawoccupancycheck | quality good | good level",
           25105
          ],
          [
           60,
           "publishing monitorobjects | monitorobjects publishing | publishing | monitorobjects | monitorobjects gap",
           26765
          ],
          [
           177,
           "dma for | roc starting | starting dma | dma | stopping dma",
           65653
          ],
          [
           1693,
           "pages roc | roc input | input queue | queue | queue size",
           30920
          ],
          [
           1882,
           "non contiguous | contiguous timeframe | contiguous | non | timeframe ids",
           56379
          ],
          [
           1885,
           "gain missing | gaintypeerror found | in gaintypeerror | missing found | gaintypeerror",
           35697
          ],
          [
           1910,
           "nohgperddl found | in nohgperddl | nohgperddl | fec | in fec",
           44403
          ],
          [
           1923,
           "row | col | in channel | channel col | sm",
           78917
          ],
          [
           2122,
           "ids detected | detected previous | in timeframe | previous | gap in",
           35159
          ]
         ],
         "hovertemplate": "<b>Topic %{customdata[0]}</b><br>%{customdata[1]}<br>Size: %{customdata[2]}",
         "legendgroup": "",
         "marker": {
          "color": "#B0BEC5",
          "line": {
           "color": "DarkSlateGrey",
           "width": 2
          },
          "size": [
           138005,
           109162,
           100888,
           108116,
           80254,
           63570,
           32691,
           29836,
           40348,
           26253,
           24429,
           25105,
           26765,
           65653,
           30920,
           56379,
           35697,
           44403,
           78917,
           35159
          ],
          "sizemode": "area",
          "sizeref": 86.253125,
          "symbol": "circle"
         },
         "mode": "markers",
         "name": "",
         "orientation": "v",
         "showlegend": false,
         "type": "scatter",
         "x": [
          -5.995874,
          6.2946978,
          -0.25173455,
          6.4271965,
          18.328672,
          2.9467287,
          0.43502712,
          18.691162,
          -6.069528,
          -0.41085368,
          18.979382,
          18.8074,
          0.560974,
          18.374853,
          18.297401,
          2.4346304,
          8.537564,
          8.842292,
          9.040358,
          2.6557639
         ],
         "xaxis": "x",
         "y": [
          2.0511994,
          10.31012,
          10.94835,
          10.177857,
          -6.901505,
          23.49773,
          4.716178,
          -7.2640247,
          1.9776428,
          11.107627,
          -7.552049,
          -7.380298,
          4.8419986,
          5.3621135,
          5.2846875,
          22.985592,
          7.327842,
          7.02315,
          6.825312,
          23.207018
         ],
         "yaxis": "y"
        }
       ],
       "layout": {
        "annotations": [
         {
          "showarrow": false,
          "text": "D1",
          "x": -6.979957318305969,
          "y": 9.168766629695892,
          "yshift": 10
         },
         {
          "showarrow": false,
          "text": "D2",
          "x": 7.423165738582612,
          "xshift": 10,
          "y": 27.022389793395995
         }
        ],
        "height": 650,
        "hoverlabel": {
         "bgcolor": "white",
         "font": {
          "family": "Rockwell",
          "size": 16
         }
        },
        "legend": {
         "itemsizing": "constant",
         "tracegroupgap": 0
        },
        "margin": {
         "t": 60
        },
        "shapes": [
         {
          "line": {
           "color": "#CFD8DC",
           "width": 2
          },
          "type": "line",
          "x0": 7.423165738582612,
          "x1": 7.423165738582612,
          "y0": -8.684856534004211,
          "y1": 27.022389793395995
         },
         {
          "line": {
           "color": "#9E9E9E",
           "width": 2
          },
          "type": "line",
          "x0": -6.979957318305969,
          "x1": 21.826288795471193,
          "y0": 9.168766629695892,
          "y1": 9.168766629695892
         }
        ],
        "sliders": [
         {
          "active": 0,
          "pad": {
           "t": 50
          },
          "steps": [
           {
            "args": [
             {
              "marker.color": [
               [
                "red",
                "#B0BEC5",
                "#B0BEC5",
                "#B0BEC5",
                "#B0BEC5",
                "#B0BEC5",
                "#B0BEC5",
                "#B0BEC5",
                "#B0BEC5",
                "#B0BEC5",
                "#B0BEC5",
                "#B0BEC5",
                "#B0BEC5",
                "#B0BEC5",
                "#B0BEC5",
                "#B0BEC5",
                "#B0BEC5",
                "#B0BEC5",
                "#B0BEC5",
                "#B0BEC5"
               ]
              ]
             }
            ],
            "label": "Topic 0",
            "method": "update"
           },
           {
            "args": [
             {
              "marker.color": [
               [
                "#B0BEC5",
                "red",
                "#B0BEC5",
                "#B0BEC5",
                "#B0BEC5",
                "#B0BEC5",
                "#B0BEC5",
                "#B0BEC5",
                "#B0BEC5",
                "#B0BEC5",
                "#B0BEC5",
                "#B0BEC5",
                "#B0BEC5",
                "#B0BEC5",
                "#B0BEC5",
                "#B0BEC5",
                "#B0BEC5",
                "#B0BEC5",
                "#B0BEC5",
                "#B0BEC5"
               ]
              ]
             }
            ],
            "label": "Topic 1",
            "method": "update"
           },
           {
            "args": [
             {
              "marker.color": [
               [
                "#B0BEC5",
                "#B0BEC5",
                "red",
                "#B0BEC5",
                "#B0BEC5",
                "#B0BEC5",
                "#B0BEC5",
                "#B0BEC5",
                "#B0BEC5",
                "#B0BEC5",
                "#B0BEC5",
                "#B0BEC5",
                "#B0BEC5",
                "#B0BEC5",
                "#B0BEC5",
                "#B0BEC5",
                "#B0BEC5",
                "#B0BEC5",
                "#B0BEC5",
                "#B0BEC5"
               ]
              ]
             }
            ],
            "label": "Topic 2",
            "method": "update"
           },
           {
            "args": [
             {
              "marker.color": [
               [
                "#B0BEC5",
                "#B0BEC5",
                "#B0BEC5",
                "red",
                "#B0BEC5",
                "#B0BEC5",
                "#B0BEC5",
                "#B0BEC5",
                "#B0BEC5",
                "#B0BEC5",
                "#B0BEC5",
                "#B0BEC5",
                "#B0BEC5",
                "#B0BEC5",
                "#B0BEC5",
                "#B0BEC5",
                "#B0BEC5",
                "#B0BEC5",
                "#B0BEC5",
                "#B0BEC5"
               ]
              ]
             }
            ],
            "label": "Topic 3",
            "method": "update"
           },
           {
            "args": [
             {
              "marker.color": [
               [
                "#B0BEC5",
                "#B0BEC5",
                "#B0BEC5",
                "#B0BEC5",
                "red",
                "#B0BEC5",
                "#B0BEC5",
                "#B0BEC5",
                "#B0BEC5",
                "#B0BEC5",
                "#B0BEC5",
                "#B0BEC5",
                "#B0BEC5",
                "#B0BEC5",
                "#B0BEC5",
                "#B0BEC5",
                "#B0BEC5",
                "#B0BEC5",
                "#B0BEC5",
                "#B0BEC5"
               ]
              ]
             }
            ],
            "label": "Topic 4",
            "method": "update"
           },
           {
            "args": [
             {
              "marker.color": [
               [
                "#B0BEC5",
                "#B0BEC5",
                "#B0BEC5",
                "#B0BEC5",
                "#B0BEC5",
                "red",
                "#B0BEC5",
                "#B0BEC5",
                "#B0BEC5",
                "#B0BEC5",
                "#B0BEC5",
                "#B0BEC5",
                "#B0BEC5",
                "#B0BEC5",
                "#B0BEC5",
                "#B0BEC5",
                "#B0BEC5",
                "#B0BEC5",
                "#B0BEC5",
                "#B0BEC5"
               ]
              ]
             }
            ],
            "label": "Topic 5",
            "method": "update"
           },
           {
            "args": [
             {
              "marker.color": [
               [
                "#B0BEC5",
                "#B0BEC5",
                "#B0BEC5",
                "#B0BEC5",
                "#B0BEC5",
                "#B0BEC5",
                "red",
                "#B0BEC5",
                "#B0BEC5",
                "#B0BEC5",
                "#B0BEC5",
                "#B0BEC5",
                "#B0BEC5",
                "#B0BEC5",
                "#B0BEC5",
                "#B0BEC5",
                "#B0BEC5",
                "#B0BEC5",
                "#B0BEC5",
                "#B0BEC5"
               ]
              ]
             }
            ],
            "label": "Topic 22",
            "method": "update"
           },
           {
            "args": [
             {
              "marker.color": [
               [
                "#B0BEC5",
                "#B0BEC5",
                "#B0BEC5",
                "#B0BEC5",
                "#B0BEC5",
                "#B0BEC5",
                "#B0BEC5",
                "red",
                "#B0BEC5",
                "#B0BEC5",
                "#B0BEC5",
                "#B0BEC5",
                "#B0BEC5",
                "#B0BEC5",
                "#B0BEC5",
                "#B0BEC5",
                "#B0BEC5",
                "#B0BEC5",
                "#B0BEC5",
                "#B0BEC5"
               ]
              ]
             }
            ],
            "label": "Topic 23",
            "method": "update"
           },
           {
            "args": [
             {
              "marker.color": [
               [
                "#B0BEC5",
                "#B0BEC5",
                "#B0BEC5",
                "#B0BEC5",
                "#B0BEC5",
                "#B0BEC5",
                "#B0BEC5",
                "#B0BEC5",
                "red",
                "#B0BEC5",
                "#B0BEC5",
                "#B0BEC5",
                "#B0BEC5",
                "#B0BEC5",
                "#B0BEC5",
                "#B0BEC5",
                "#B0BEC5",
                "#B0BEC5",
                "#B0BEC5",
                "#B0BEC5"
               ]
              ]
             }
            ],
            "label": "Topic 25",
            "method": "update"
           },
           {
            "args": [
             {
              "marker.color": [
               [
                "#B0BEC5",
                "#B0BEC5",
                "#B0BEC5",
                "#B0BEC5",
                "#B0BEC5",
                "#B0BEC5",
                "#B0BEC5",
                "#B0BEC5",
                "#B0BEC5",
                "red",
                "#B0BEC5",
                "#B0BEC5",
                "#B0BEC5",
                "#B0BEC5",
                "#B0BEC5",
                "#B0BEC5",
                "#B0BEC5",
                "#B0BEC5",
                "#B0BEC5",
                "#B0BEC5"
               ]
              ]
             }
            ],
            "label": "Topic 29",
            "method": "update"
           },
           {
            "args": [
             {
              "marker.color": [
               [
                "#B0BEC5",
                "#B0BEC5",
                "#B0BEC5",
                "#B0BEC5",
                "#B0BEC5",
                "#B0BEC5",
                "#B0BEC5",
                "#B0BEC5",
                "#B0BEC5",
                "#B0BEC5",
                "red",
                "#B0BEC5",
                "#B0BEC5",
                "#B0BEC5",
                "#B0BEC5",
                "#B0BEC5",
                "#B0BEC5",
                "#B0BEC5",
                "#B0BEC5",
                "#B0BEC5"
               ]
              ]
             }
            ],
            "label": "Topic 33",
            "method": "update"
           },
           {
            "args": [
             {
              "marker.color": [
               [
                "#B0BEC5",
                "#B0BEC5",
                "#B0BEC5",
                "#B0BEC5",
                "#B0BEC5",
                "#B0BEC5",
                "#B0BEC5",
                "#B0BEC5",
                "#B0BEC5",
                "#B0BEC5",
                "#B0BEC5",
                "red",
                "#B0BEC5",
                "#B0BEC5",
                "#B0BEC5",
                "#B0BEC5",
                "#B0BEC5",
                "#B0BEC5",
                "#B0BEC5",
                "#B0BEC5"
               ]
              ]
             }
            ],
            "label": "Topic 55",
            "method": "update"
           },
           {
            "args": [
             {
              "marker.color": [
               [
                "#B0BEC5",
                "#B0BEC5",
                "#B0BEC5",
                "#B0BEC5",
                "#B0BEC5",
                "#B0BEC5",
                "#B0BEC5",
                "#B0BEC5",
                "#B0BEC5",
                "#B0BEC5",
                "#B0BEC5",
                "#B0BEC5",
                "red",
                "#B0BEC5",
                "#B0BEC5",
                "#B0BEC5",
                "#B0BEC5",
                "#B0BEC5",
                "#B0BEC5",
                "#B0BEC5"
               ]
              ]
             }
            ],
            "label": "Topic 60",
            "method": "update"
           },
           {
            "args": [
             {
              "marker.color": [
               [
                "#B0BEC5",
                "#B0BEC5",
                "#B0BEC5",
                "#B0BEC5",
                "#B0BEC5",
                "#B0BEC5",
                "#B0BEC5",
                "#B0BEC5",
                "#B0BEC5",
                "#B0BEC5",
                "#B0BEC5",
                "#B0BEC5",
                "#B0BEC5",
                "red",
                "#B0BEC5",
                "#B0BEC5",
                "#B0BEC5",
                "#B0BEC5",
                "#B0BEC5",
                "#B0BEC5"
               ]
              ]
             }
            ],
            "label": "Topic 177",
            "method": "update"
           },
           {
            "args": [
             {
              "marker.color": [
               [
                "#B0BEC5",
                "#B0BEC5",
                "#B0BEC5",
                "#B0BEC5",
                "#B0BEC5",
                "#B0BEC5",
                "#B0BEC5",
                "#B0BEC5",
                "#B0BEC5",
                "#B0BEC5",
                "#B0BEC5",
                "#B0BEC5",
                "#B0BEC5",
                "#B0BEC5",
                "red",
                "#B0BEC5",
                "#B0BEC5",
                "#B0BEC5",
                "#B0BEC5",
                "#B0BEC5"
               ]
              ]
             }
            ],
            "label": "Topic 1693",
            "method": "update"
           },
           {
            "args": [
             {
              "marker.color": [
               [
                "#B0BEC5",
                "#B0BEC5",
                "#B0BEC5",
                "#B0BEC5",
                "#B0BEC5",
                "#B0BEC5",
                "#B0BEC5",
                "#B0BEC5",
                "#B0BEC5",
                "#B0BEC5",
                "#B0BEC5",
                "#B0BEC5",
                "#B0BEC5",
                "#B0BEC5",
                "#B0BEC5",
                "red",
                "#B0BEC5",
                "#B0BEC5",
                "#B0BEC5",
                "#B0BEC5"
               ]
              ]
             }
            ],
            "label": "Topic 1882",
            "method": "update"
           },
           {
            "args": [
             {
              "marker.color": [
               [
                "#B0BEC5",
                "#B0BEC5",
                "#B0BEC5",
                "#B0BEC5",
                "#B0BEC5",
                "#B0BEC5",
                "#B0BEC5",
                "#B0BEC5",
                "#B0BEC5",
                "#B0BEC5",
                "#B0BEC5",
                "#B0BEC5",
                "#B0BEC5",
                "#B0BEC5",
                "#B0BEC5",
                "#B0BEC5",
                "red",
                "#B0BEC5",
                "#B0BEC5",
                "#B0BEC5"
               ]
              ]
             }
            ],
            "label": "Topic 1885",
            "method": "update"
           },
           {
            "args": [
             {
              "marker.color": [
               [
                "#B0BEC5",
                "#B0BEC5",
                "#B0BEC5",
                "#B0BEC5",
                "#B0BEC5",
                "#B0BEC5",
                "#B0BEC5",
                "#B0BEC5",
                "#B0BEC5",
                "#B0BEC5",
                "#B0BEC5",
                "#B0BEC5",
                "#B0BEC5",
                "#B0BEC5",
                "#B0BEC5",
                "#B0BEC5",
                "#B0BEC5",
                "red",
                "#B0BEC5",
                "#B0BEC5"
               ]
              ]
             }
            ],
            "label": "Topic 1910",
            "method": "update"
           },
           {
            "args": [
             {
              "marker.color": [
               [
                "#B0BEC5",
                "#B0BEC5",
                "#B0BEC5",
                "#B0BEC5",
                "#B0BEC5",
                "#B0BEC5",
                "#B0BEC5",
                "#B0BEC5",
                "#B0BEC5",
                "#B0BEC5",
                "#B0BEC5",
                "#B0BEC5",
                "#B0BEC5",
                "#B0BEC5",
                "#B0BEC5",
                "#B0BEC5",
                "#B0BEC5",
                "#B0BEC5",
                "red",
                "#B0BEC5"
               ]
              ]
             }
            ],
            "label": "Topic 1923",
            "method": "update"
           },
           {
            "args": [
             {
              "marker.color": [
               [
                "#B0BEC5",
                "#B0BEC5",
                "#B0BEC5",
                "#B0BEC5",
                "#B0BEC5",
                "#B0BEC5",
                "#B0BEC5",
                "#B0BEC5",
                "#B0BEC5",
                "#B0BEC5",
                "#B0BEC5",
                "#B0BEC5",
                "#B0BEC5",
                "#B0BEC5",
                "#B0BEC5",
                "#B0BEC5",
                "#B0BEC5",
                "#B0BEC5",
                "#B0BEC5",
                "red"
               ]
              ]
             }
            ],
            "label": "Topic 2122",
            "method": "update"
           }
          ]
         }
        ],
        "template": {
         "data": {
          "bar": [
           {
            "error_x": {
             "color": "rgb(36,36,36)"
            },
            "error_y": {
             "color": "rgb(36,36,36)"
            },
            "marker": {
             "line": {
              "color": "white",
              "width": 0.5
             },
             "pattern": {
              "fillmode": "overlay",
              "size": 10,
              "solidity": 0.2
             }
            },
            "type": "bar"
           }
          ],
          "barpolar": [
           {
            "marker": {
             "line": {
              "color": "white",
              "width": 0.5
             },
             "pattern": {
              "fillmode": "overlay",
              "size": 10,
              "solidity": 0.2
             }
            },
            "type": "barpolar"
           }
          ],
          "carpet": [
           {
            "aaxis": {
             "endlinecolor": "rgb(36,36,36)",
             "gridcolor": "white",
             "linecolor": "white",
             "minorgridcolor": "white",
             "startlinecolor": "rgb(36,36,36)"
            },
            "baxis": {
             "endlinecolor": "rgb(36,36,36)",
             "gridcolor": "white",
             "linecolor": "white",
             "minorgridcolor": "white",
             "startlinecolor": "rgb(36,36,36)"
            },
            "type": "carpet"
           }
          ],
          "choropleth": [
           {
            "colorbar": {
             "outlinewidth": 1,
             "tickcolor": "rgb(36,36,36)",
             "ticks": "outside"
            },
            "type": "choropleth"
           }
          ],
          "contour": [
           {
            "colorbar": {
             "outlinewidth": 1,
             "tickcolor": "rgb(36,36,36)",
             "ticks": "outside"
            },
            "colorscale": [
             [
              0,
              "#440154"
             ],
             [
              0.1111111111111111,
              "#482878"
             ],
             [
              0.2222222222222222,
              "#3e4989"
             ],
             [
              0.3333333333333333,
              "#31688e"
             ],
             [
              0.4444444444444444,
              "#26828e"
             ],
             [
              0.5555555555555556,
              "#1f9e89"
             ],
             [
              0.6666666666666666,
              "#35b779"
             ],
             [
              0.7777777777777778,
              "#6ece58"
             ],
             [
              0.8888888888888888,
              "#b5de2b"
             ],
             [
              1,
              "#fde725"
             ]
            ],
            "type": "contour"
           }
          ],
          "contourcarpet": [
           {
            "colorbar": {
             "outlinewidth": 1,
             "tickcolor": "rgb(36,36,36)",
             "ticks": "outside"
            },
            "type": "contourcarpet"
           }
          ],
          "heatmap": [
           {
            "colorbar": {
             "outlinewidth": 1,
             "tickcolor": "rgb(36,36,36)",
             "ticks": "outside"
            },
            "colorscale": [
             [
              0,
              "#440154"
             ],
             [
              0.1111111111111111,
              "#482878"
             ],
             [
              0.2222222222222222,
              "#3e4989"
             ],
             [
              0.3333333333333333,
              "#31688e"
             ],
             [
              0.4444444444444444,
              "#26828e"
             ],
             [
              0.5555555555555556,
              "#1f9e89"
             ],
             [
              0.6666666666666666,
              "#35b779"
             ],
             [
              0.7777777777777778,
              "#6ece58"
             ],
             [
              0.8888888888888888,
              "#b5de2b"
             ],
             [
              1,
              "#fde725"
             ]
            ],
            "type": "heatmap"
           }
          ],
          "heatmapgl": [
           {
            "colorbar": {
             "outlinewidth": 1,
             "tickcolor": "rgb(36,36,36)",
             "ticks": "outside"
            },
            "colorscale": [
             [
              0,
              "#440154"
             ],
             [
              0.1111111111111111,
              "#482878"
             ],
             [
              0.2222222222222222,
              "#3e4989"
             ],
             [
              0.3333333333333333,
              "#31688e"
             ],
             [
              0.4444444444444444,
              "#26828e"
             ],
             [
              0.5555555555555556,
              "#1f9e89"
             ],
             [
              0.6666666666666666,
              "#35b779"
             ],
             [
              0.7777777777777778,
              "#6ece58"
             ],
             [
              0.8888888888888888,
              "#b5de2b"
             ],
             [
              1,
              "#fde725"
             ]
            ],
            "type": "heatmapgl"
           }
          ],
          "histogram": [
           {
            "marker": {
             "line": {
              "color": "white",
              "width": 0.6
             }
            },
            "type": "histogram"
           }
          ],
          "histogram2d": [
           {
            "colorbar": {
             "outlinewidth": 1,
             "tickcolor": "rgb(36,36,36)",
             "ticks": "outside"
            },
            "colorscale": [
             [
              0,
              "#440154"
             ],
             [
              0.1111111111111111,
              "#482878"
             ],
             [
              0.2222222222222222,
              "#3e4989"
             ],
             [
              0.3333333333333333,
              "#31688e"
             ],
             [
              0.4444444444444444,
              "#26828e"
             ],
             [
              0.5555555555555556,
              "#1f9e89"
             ],
             [
              0.6666666666666666,
              "#35b779"
             ],
             [
              0.7777777777777778,
              "#6ece58"
             ],
             [
              0.8888888888888888,
              "#b5de2b"
             ],
             [
              1,
              "#fde725"
             ]
            ],
            "type": "histogram2d"
           }
          ],
          "histogram2dcontour": [
           {
            "colorbar": {
             "outlinewidth": 1,
             "tickcolor": "rgb(36,36,36)",
             "ticks": "outside"
            },
            "colorscale": [
             [
              0,
              "#440154"
             ],
             [
              0.1111111111111111,
              "#482878"
             ],
             [
              0.2222222222222222,
              "#3e4989"
             ],
             [
              0.3333333333333333,
              "#31688e"
             ],
             [
              0.4444444444444444,
              "#26828e"
             ],
             [
              0.5555555555555556,
              "#1f9e89"
             ],
             [
              0.6666666666666666,
              "#35b779"
             ],
             [
              0.7777777777777778,
              "#6ece58"
             ],
             [
              0.8888888888888888,
              "#b5de2b"
             ],
             [
              1,
              "#fde725"
             ]
            ],
            "type": "histogram2dcontour"
           }
          ],
          "mesh3d": [
           {
            "colorbar": {
             "outlinewidth": 1,
             "tickcolor": "rgb(36,36,36)",
             "ticks": "outside"
            },
            "type": "mesh3d"
           }
          ],
          "parcoords": [
           {
            "line": {
             "colorbar": {
              "outlinewidth": 1,
              "tickcolor": "rgb(36,36,36)",
              "ticks": "outside"
             }
            },
            "type": "parcoords"
           }
          ],
          "pie": [
           {
            "automargin": true,
            "type": "pie"
           }
          ],
          "scatter": [
           {
            "fillpattern": {
             "fillmode": "overlay",
             "size": 10,
             "solidity": 0.2
            },
            "type": "scatter"
           }
          ],
          "scatter3d": [
           {
            "line": {
             "colorbar": {
              "outlinewidth": 1,
              "tickcolor": "rgb(36,36,36)",
              "ticks": "outside"
             }
            },
            "marker": {
             "colorbar": {
              "outlinewidth": 1,
              "tickcolor": "rgb(36,36,36)",
              "ticks": "outside"
             }
            },
            "type": "scatter3d"
           }
          ],
          "scattercarpet": [
           {
            "marker": {
             "colorbar": {
              "outlinewidth": 1,
              "tickcolor": "rgb(36,36,36)",
              "ticks": "outside"
             }
            },
            "type": "scattercarpet"
           }
          ],
          "scattergeo": [
           {
            "marker": {
             "colorbar": {
              "outlinewidth": 1,
              "tickcolor": "rgb(36,36,36)",
              "ticks": "outside"
             }
            },
            "type": "scattergeo"
           }
          ],
          "scattergl": [
           {
            "marker": {
             "colorbar": {
              "outlinewidth": 1,
              "tickcolor": "rgb(36,36,36)",
              "ticks": "outside"
             }
            },
            "type": "scattergl"
           }
          ],
          "scattermapbox": [
           {
            "marker": {
             "colorbar": {
              "outlinewidth": 1,
              "tickcolor": "rgb(36,36,36)",
              "ticks": "outside"
             }
            },
            "type": "scattermapbox"
           }
          ],
          "scatterpolar": [
           {
            "marker": {
             "colorbar": {
              "outlinewidth": 1,
              "tickcolor": "rgb(36,36,36)",
              "ticks": "outside"
             }
            },
            "type": "scatterpolar"
           }
          ],
          "scatterpolargl": [
           {
            "marker": {
             "colorbar": {
              "outlinewidth": 1,
              "tickcolor": "rgb(36,36,36)",
              "ticks": "outside"
             }
            },
            "type": "scatterpolargl"
           }
          ],
          "scatterternary": [
           {
            "marker": {
             "colorbar": {
              "outlinewidth": 1,
              "tickcolor": "rgb(36,36,36)",
              "ticks": "outside"
             }
            },
            "type": "scatterternary"
           }
          ],
          "surface": [
           {
            "colorbar": {
             "outlinewidth": 1,
             "tickcolor": "rgb(36,36,36)",
             "ticks": "outside"
            },
            "colorscale": [
             [
              0,
              "#440154"
             ],
             [
              0.1111111111111111,
              "#482878"
             ],
             [
              0.2222222222222222,
              "#3e4989"
             ],
             [
              0.3333333333333333,
              "#31688e"
             ],
             [
              0.4444444444444444,
              "#26828e"
             ],
             [
              0.5555555555555556,
              "#1f9e89"
             ],
             [
              0.6666666666666666,
              "#35b779"
             ],
             [
              0.7777777777777778,
              "#6ece58"
             ],
             [
              0.8888888888888888,
              "#b5de2b"
             ],
             [
              1,
              "#fde725"
             ]
            ],
            "type": "surface"
           }
          ],
          "table": [
           {
            "cells": {
             "fill": {
              "color": "rgb(237,237,237)"
             },
             "line": {
              "color": "white"
             }
            },
            "header": {
             "fill": {
              "color": "rgb(217,217,217)"
             },
             "line": {
              "color": "white"
             }
            },
            "type": "table"
           }
          ]
         },
         "layout": {
          "annotationdefaults": {
           "arrowhead": 0,
           "arrowwidth": 1
          },
          "autotypenumbers": "strict",
          "coloraxis": {
           "colorbar": {
            "outlinewidth": 1,
            "tickcolor": "rgb(36,36,36)",
            "ticks": "outside"
           }
          },
          "colorscale": {
           "diverging": [
            [
             0,
             "rgb(103,0,31)"
            ],
            [
             0.1,
             "rgb(178,24,43)"
            ],
            [
             0.2,
             "rgb(214,96,77)"
            ],
            [
             0.3,
             "rgb(244,165,130)"
            ],
            [
             0.4,
             "rgb(253,219,199)"
            ],
            [
             0.5,
             "rgb(247,247,247)"
            ],
            [
             0.6,
             "rgb(209,229,240)"
            ],
            [
             0.7,
             "rgb(146,197,222)"
            ],
            [
             0.8,
             "rgb(67,147,195)"
            ],
            [
             0.9,
             "rgb(33,102,172)"
            ],
            [
             1,
             "rgb(5,48,97)"
            ]
           ],
           "sequential": [
            [
             0,
             "#440154"
            ],
            [
             0.1111111111111111,
             "#482878"
            ],
            [
             0.2222222222222222,
             "#3e4989"
            ],
            [
             0.3333333333333333,
             "#31688e"
            ],
            [
             0.4444444444444444,
             "#26828e"
            ],
            [
             0.5555555555555556,
             "#1f9e89"
            ],
            [
             0.6666666666666666,
             "#35b779"
            ],
            [
             0.7777777777777778,
             "#6ece58"
            ],
            [
             0.8888888888888888,
             "#b5de2b"
            ],
            [
             1,
             "#fde725"
            ]
           ],
           "sequentialminus": [
            [
             0,
             "#440154"
            ],
            [
             0.1111111111111111,
             "#482878"
            ],
            [
             0.2222222222222222,
             "#3e4989"
            ],
            [
             0.3333333333333333,
             "#31688e"
            ],
            [
             0.4444444444444444,
             "#26828e"
            ],
            [
             0.5555555555555556,
             "#1f9e89"
            ],
            [
             0.6666666666666666,
             "#35b779"
            ],
            [
             0.7777777777777778,
             "#6ece58"
            ],
            [
             0.8888888888888888,
             "#b5de2b"
            ],
            [
             1,
             "#fde725"
            ]
           ]
          },
          "colorway": [
           "#1F77B4",
           "#FF7F0E",
           "#2CA02C",
           "#D62728",
           "#9467BD",
           "#8C564B",
           "#E377C2",
           "#7F7F7F",
           "#BCBD22",
           "#17BECF"
          ],
          "font": {
           "color": "rgb(36,36,36)"
          },
          "geo": {
           "bgcolor": "white",
           "lakecolor": "white",
           "landcolor": "white",
           "showlakes": true,
           "showland": true,
           "subunitcolor": "white"
          },
          "hoverlabel": {
           "align": "left"
          },
          "hovermode": "closest",
          "mapbox": {
           "style": "light"
          },
          "paper_bgcolor": "white",
          "plot_bgcolor": "white",
          "polar": {
           "angularaxis": {
            "gridcolor": "rgb(232,232,232)",
            "linecolor": "rgb(36,36,36)",
            "showgrid": false,
            "showline": true,
            "ticks": "outside"
           },
           "bgcolor": "white",
           "radialaxis": {
            "gridcolor": "rgb(232,232,232)",
            "linecolor": "rgb(36,36,36)",
            "showgrid": false,
            "showline": true,
            "ticks": "outside"
           }
          },
          "scene": {
           "xaxis": {
            "backgroundcolor": "white",
            "gridcolor": "rgb(232,232,232)",
            "gridwidth": 2,
            "linecolor": "rgb(36,36,36)",
            "showbackground": true,
            "showgrid": false,
            "showline": true,
            "ticks": "outside",
            "zeroline": false,
            "zerolinecolor": "rgb(36,36,36)"
           },
           "yaxis": {
            "backgroundcolor": "white",
            "gridcolor": "rgb(232,232,232)",
            "gridwidth": 2,
            "linecolor": "rgb(36,36,36)",
            "showbackground": true,
            "showgrid": false,
            "showline": true,
            "ticks": "outside",
            "zeroline": false,
            "zerolinecolor": "rgb(36,36,36)"
           },
           "zaxis": {
            "backgroundcolor": "white",
            "gridcolor": "rgb(232,232,232)",
            "gridwidth": 2,
            "linecolor": "rgb(36,36,36)",
            "showbackground": true,
            "showgrid": false,
            "showline": true,
            "ticks": "outside",
            "zeroline": false,
            "zerolinecolor": "rgb(36,36,36)"
           }
          },
          "shapedefaults": {
           "fillcolor": "black",
           "line": {
            "width": 0
           },
           "opacity": 0.3
          },
          "ternary": {
           "aaxis": {
            "gridcolor": "rgb(232,232,232)",
            "linecolor": "rgb(36,36,36)",
            "showgrid": false,
            "showline": true,
            "ticks": "outside"
           },
           "baxis": {
            "gridcolor": "rgb(232,232,232)",
            "linecolor": "rgb(36,36,36)",
            "showgrid": false,
            "showline": true,
            "ticks": "outside"
           },
           "bgcolor": "white",
           "caxis": {
            "gridcolor": "rgb(232,232,232)",
            "linecolor": "rgb(36,36,36)",
            "showgrid": false,
            "showline": true,
            "ticks": "outside"
           }
          },
          "title": {
           "x": 0.05
          },
          "xaxis": {
           "automargin": true,
           "gridcolor": "rgb(232,232,232)",
           "linecolor": "rgb(36,36,36)",
           "showgrid": false,
           "showline": true,
           "ticks": "outside",
           "title": {
            "standoff": 15
           },
           "zeroline": false,
           "zerolinecolor": "rgb(36,36,36)"
          },
          "yaxis": {
           "automargin": true,
           "gridcolor": "rgb(232,232,232)",
           "linecolor": "rgb(36,36,36)",
           "showgrid": false,
           "showline": true,
           "ticks": "outside",
           "title": {
            "standoff": 15
           },
           "zeroline": false,
           "zerolinecolor": "rgb(36,36,36)"
          }
         }
        },
        "title": {
         "font": {
          "color": "Black",
          "size": 22
         },
         "text": "<b>Intertopic Distance Map</b>",
         "x": 0.5,
         "xanchor": "center",
         "y": 0.95,
         "yanchor": "top"
        },
        "width": 650,
        "xaxis": {
         "anchor": "y",
         "domain": [
          0,
          1
         ],
         "range": [
          -6.979957318305969,
          21.826288795471193
         ],
         "title": {
          "text": ""
         },
         "visible": false
        },
        "yaxis": {
         "anchor": "x",
         "domain": [
          0,
          1
         ],
         "range": [
          -8.684856534004211,
          27.022389793395995
         ],
         "title": {
          "text": ""
         },
         "visible": false
        }
       }
      }
     },
     "metadata": {},
     "output_type": "display_data"
    }
   ],
   "source": [
    "topic_model.model.visualize_topics(top_n_topics=20)"
   ]
  },
  {
   "cell_type": "code",
   "execution_count": 47,
   "metadata": {},
   "outputs": [
    {
     "data": {
      "text/plain": [
       "{-1: '-1_mb equipment_taskid_detected previous_gap in',\n",
       " 0: '0_sending quality_objects sending_quality objects_sending',\n",
       " 1: '1_startofcycle startofcycle_startofcycle_startofcycle equipment_startofcycle configure',\n",
       " 2: '2_storing qualityobjects_qualityobjects storing_qualityobjects_storing',\n",
       " 3: '3_endofcycle endofcycle_endofcycle_1664473857380_timestamp 1664473857380',\n",
       " 4: '4_check rawbunchminamplitude_rawbunchminamplitude quality_rawbunchminamplitude_quality good',\n",
       " 5: '5_updating the_triggertype timestamp_triggertype_to trigger',\n",
       " 6: '6_libo2qccommon loading_library libo2qccommon_libo2qccommon_loading library',\n",
       " 7: '7_completed start_start readout_readout completed_completed',\n",
       " 8: '8_aggregator starting_starting aggregator_aggregator_starting',\n",
       " 9: '9_subtimeframe timeout_subtimeframe_aggregator subtimeframe_50 seconds',\n",
       " 10: '10_slice timeout_slice_aggregator slice_timeout 00',\n",
       " 11: '11_completed file_player replay_1st loop_loop completed',\n",
       " 12: '12_executing start_start readout_readout executing_executing',\n",
       " 13: '13_orbit equipment_player first_equipment player_player',\n",
       " 14: '14_running running_running_running stopping_run stopping',\n",
       " 15: '15_player first_orbit equipment_equipment player_player',\n",
       " 16: '16_clock starting_starting stats_stats clock_clock',\n",
       " 17: '17_completed file_player replay_loop completed_replay 1st',\n",
       " 18: '18_completed file_player replay_replay 1st_loop completed',\n",
       " 19: '19_player first_orbit equipment_equipment player_player',\n",
       " 20: '20_player first_orbit equipment_equipment player_player',\n",
       " 21: '21_completed file_player replay_1st loop_replay 1st',\n",
       " 22: '22_publishing 27_27 monitorobjects_27_monitorobjects publishing',\n",
       " 23: '23_check rawdecodingerrorcheckemcal_rawdecodingerrorcheckemcal quality_rawdecodingerrorcheckemcal_bad level',\n",
       " 24: '24_loop entering_entering main_entering_main',\n",
       " 25: '25_sending quality_objects sending_quality objects_sending',\n",
       " 26: '26_equipments starting_starting readout_readout equipments_equipments',\n",
       " 27: '27_qccommon loaded_module qccommon_qccommon_loaded qualitycontrol',\n",
       " 28: '28_itsfeecheck quality_check itsfeecheck_mftreadoutcheck quality_check mftreadoutcheck',\n",
       " 29: '29_storing qualityobjects_qualityobjects storing_qualityobjects_storing',\n",
       " 30: '30_th1reductor loading_th1reductor_common th1reductor_loading class',\n",
       " 31: '31_thnsparse5reductor loading_thnsparse5reductor_common thnsparse5reductor_loading class',\n",
       " 32: '32_check fhrcheck_fhrcheck quality_fhrcheck_10 check',\n",
       " 33: '33_cellcheckoccupancy quality_check cellcheckoccupancy_cellcheckoccupancy_quality good',\n",
       " 34: '34_qccommon_module qccommon_qccommon loaded_loaded qualitycontrol',\n",
       " 35: '35_check cellcheckamplitude_cellcheckamplitude quality_cellcheckamplitude_quality good',\n",
       " 36: '36_running ok_response running_ok occ_occ transition',\n",
       " 37: '37_run ok_state running_true occ_ok true',\n",
       " 38: '38_lhcperiod_not available_month_lhcperiod is',\n",
       " 39: '39_running control_action_notify_device_state running_control_action notify_device_state_notify_device_state',\n",
       " 40: '40_resort using_using the_one from_or as',\n",
       " 41: '41_check increasingeventcheckeremcalcell_increasingeventcheckeremcalcell quality_increasingeventcheckeremcalcell_quality good',\n",
       " 42: '42_storing monitorobjects_monitorobjects storing_monitorobjects_storing',\n",
       " 43: '43_player first_orbit equipment_player_equipment player',\n",
       " 44: '44_player replay_completed file_1st loop_replay 1st',\n",
       " 45: '45_player first_orbit equipment_equipment player_player',\n",
       " 46: '46_completed file_player replay_1st loop_replay 1st',\n",
       " 47: '47_number run_type not_options or_not number',\n",
       " 48: '48_celltrendingemcal checkrunner_from celltrendingemcal_qc_celltrendinge_qc_celltrendinge mo_0',\n",
       " 49: '49_for monitor_objects trying_trying checks_checks for',\n",
       " 50: '50_periodname_periodname from_property periodname_unspecified got',\n",
       " 51: '51_check itsclustercheck_itsclustercheck quality_itsclustercheck_mftclustercheck quality',\n",
       " 52: '52_property runtype_runtype from_runtype_unspecified got',\n",
       " 53: '53_rawtrendingemcal checkrunner_from rawtrendingemcal_sink qc_rawtrendingem_qc_rawtrendingem mo_0',\n",
       " 54: '54_generating plots_plots generating_plots_generating',\n",
       " 55: '55_rawoccupancycheck quality_check rawoccupancycheck_rawoccupancycheck_quality good',\n",
       " 56: '56_running fair_mq device_mq_fair mq',\n",
       " 57: '57_publishing monitorobjects_monitorobjects publishing_publishing_monitorobjects',\n",
       " 58: '58_for monitor_objects trying_checks for_trying checks',\n",
       " 59: '59_generating plots_plots generating_plots_generating',\n",
       " 60: '60_publishing monitorobjects_monitorobjects publishing_publishing_monitorobjects',\n",
       " 61: '61_histogram resetting_histogram_the histogram_resetting the',\n",
       " 62: '62_checkoftrack_trending quality_check checkoftrack_trending_checkoftrack_trending_quality good',\n",
       " 63: '63_running ready_ready running_running_ready',\n",
       " 64: '64_type pass_pass type_pass_type',\n",
       " 65: '65_storing monitorobjects_monitorobjects storing_monitorobjects_storing',\n",
       " 66: '66_storing monitorobjects_monitorobjects storing_monitorobjects_storing',\n",
       " 67: '67_storing monitorobjects_monitorobjects storing_monitorobjects_storing',\n",
       " 68: '68_27 monitor_for 27_27_objects trying',\n",
       " 69: '69_storing 27_27 monitorobjects_26 monitorobjects_storing 26',\n",
       " 70: '70_period period_period_258771_cycles cycle',\n",
       " 71: '71_qc provenance_provenance_provenance qc_qc',\n",
       " 72: '72_number 526269_526269 run_526269_run number',\n",
       " 73: '73_check qccheck_qccheck quality_qccheck_bad level',\n",
       " 74: '74_qcits loaded_module qcits_qcits_loaded qualitycontrol',\n",
       " 75: '75_updating the_triggertype timestamp_task due_to trigger',\n",
       " 76: '76_rawoccupancycheck quality_check rawoccupancycheck_rawoccupancycheck_quality good',\n",
       " 77: '77_number 526264_526264 run_526264_run number',\n",
       " 78: '78_number 526382_number 526272_526382 run_526272 run',\n",
       " 79: '79_qccheck quality_check qccheck_qccheck_check qccheckmchpreclusters',\n",
       " 80: '80_equipments starting_readout equipments_starting readout_equipments',\n",
       " 81: '81_526272 type_id 526272_526272_526390 type',\n",
       " 82: '82_check increasingeventcheckeremcalraw_increasingeventcheckeremcalraw quality_increasingeventcheckeremcalraw_good level',\n",
       " 83: '83_clustertask checkrunner_from clustertask_qphs_clustertask_0 received_16 entries',\n",
       " 84: '84_generating 30_30 plots_30_plots generating',\n",
       " 85: '85_publishing 60_60 monitorobjects_60_monitorobjects publishing',\n",
       " 86: '86_publishing 12_12 monitorobjects_12_monitorobjects publishing',\n",
       " 87: '87_publishing 42_42 monitorobjects_42_monitorobjects publishing',\n",
       " 88: '88_publishing 54_54 monitorobjects_54_monitorobjects publishing',\n",
       " 89: '89_publishing 32_32 monitorobjects_32_monitorobjects publishing',\n",
       " 90: '90_for monitor_objects trying_trying checks_checks for',\n",
       " 91: '91_check phs_phs qccheck_phs_rawtask checkrunner',\n",
       " 92: '92_publishing monitorobjects_monitorobjects publishing_publishing_monitorobjects',\n",
       " 93: '93_physicsonepns checkrunner_from physicsonepns_cpv qccheck_physicsonepns',\n",
       " 94: '94_storing 53_53 monitorobjects_53_monitorobjects storing',\n",
       " 95: '95_for 53_53 monitor_53_objects trying',\n",
       " 96: '96_16 monitor_for 16_16_objects trying',\n",
       " 97: '97_storing 16_16 monitorobjects_16_monitorobjects storing',\n",
       " 98: '98_check fhrcheck_fhrcheck quality_fhrcheck_good level',\n",
       " 99: '99_10 qualityobjects_storing 10_10_qualityobjects storing',\n",
       " 100: '100_storing 12_12 monitorobjects_12_monitorobjects storing',\n",
       " 101: '101_storing 13_13 monitorobjects_13_monitorobjects storing',\n",
       " 102: '102_cellvisualizations checkrunner_from cellvisualizations_qc_cellvisualiza mo_0_sink qc_cellvisualiza',\n",
       " 103: '103_check rawpayloadcheck_rawpayloadcheck quality_rawpayloadcheck_bad level',\n",
       " 104: '104_publishing monitorobjects_monitorobjects publishing_publishing_monitorobjects',\n",
       " 105: '105_publishing 178_178 monitorobjects_178_monitorobjects publishing',\n",
       " 106: '106_generating plots_plots generating_plots_generating',\n",
       " 107: '107_29 monitorobjects_storing 29_29_monitorobjects storing',\n",
       " 108: '108_for layer_layer to_canvas for_canvas',\n",
       " 109: '109_for layer_layer to_saving canvas_canvas',\n",
       " 110: '110_saving canvas_for layer_layer to_canvas for',\n",
       " 111: '111_for layer_layer to_canvas for_canvas',\n",
       " 112: '112_for layer_canvas_saving canvas_layer to',\n",
       " 113: '113_for layer_canvas for_canvas_saving canvas',\n",
       " 114: '114_check increasingeventcheckeremcalraw_increasingeventcheckeremcalraw quality_increasingeventcheckeremcalraw_bad level',\n",
       " 115: '115_loop entering_entering main_entering_main',\n",
       " 116: '116_type is_trigger type_is the_timestamp is',\n",
       " 117: '117_layer itsdecoder_attaching_attaching link_to ru',\n",
       " 118: '118_layer to_for layer_canvas for_canvas',\n",
       " 119: '119_for monitor_objects trying_checks for_trying checks',\n",
       " 120: '120_thnsparse5reductor_common thnsparse5reductor_instantiating_instantiating class',\n",
       " 121: '121_slot_defining container_container for_for ru',\n",
       " 122: '122_for monitor_objects trying_checks for_trying checks',\n",
       " 123: '123_options 526269_526269 run_526269_number found',\n",
       " 124: '124_number found_in options_options_run number',\n",
       " 125: '125_options 526264_526264 run_526264_number found',\n",
       " 126: '126_for monitor_objects trying_trying checks_checks for',\n",
       " 127: '127_storing monitorobjects_monitorobjects storing_monitorobjects_storing',\n",
       " 128: '128_library libo2qcits_libo2qcits_libo2qcits loading_library',\n",
       " 129: '129_10 quality_sending 10_10_objects sending',\n",
       " 130: '130_thnsparse5reductor_common thnsparse5reductor_instantiating_instantiating class',\n",
       " 131: '131_0x5965c70_0x5f89f70_thnsparse5reductor 0x5965c70_thnsparse5reductor 0x5f89f70',\n",
       " 132: '132_registered new_new link_itsdecoder registered_rusw',\n",
       " 133: '133_qctaskmiddigits checkrunner_qccheckmiddigits received_from qctaskmiddigits_mid qccheckmiddigits',\n",
       " 134: '134_partitionname from_property partitionname_partitionname_2asn5tayuso',\n",
       " 135: '135_property partitionname_partitionname_partitionname from_this property',\n",
       " 136: '136_rawdeviceservice 526269_526269 got_526269_property runnumber',\n",
       " 137: '137_for monitor_objects trying_trying checks_checks for',\n",
       " 138: '138_publishing monitorobjects_monitorobjects publishing_publishing_monitorobjects',\n",
       " 139: '139_done zero_done_memory done_zero memory',\n",
       " 140: '140_memory zero_zero memory_zero_memory',\n",
       " 141: '141_lid13 feeid_lid13_registered new_rusw',\n",
       " 142: '142_roc releasing_releasing equipment_releasing_equipment equipment',\n",
       " 143: '143_vsbc in_vsbc_multiplicity vsbc_multiplicity',\n",
       " 144: '144_taskdigits multiplicity_mo taskdigits_multiplicity_multiplicity integrated',\n",
       " 145: '145_clusterdata in_clusterdata_krclusters clusterdata_mo krclusters',\n",
       " 146: '146_storing monitorobjects_monitorobjects storing_monitorobjects_storing',\n",
       " 147: '147_lid2 feeid_lid2_link link_new link',\n",
       " 148: '148_rawdeviceservice 526391_526391 got_526271 got_rawdeviceservice 526271',\n",
       " 149: '149_defaults equipment_specific_data with_using specific',\n",
       " 150: '150_common th1reductor_th1reductor_instantiating_instantiating class',\n",
       " 151: '151_rawdeviceservice 2astsp4dicz_2astsp4dicz got_partitionname from_partitionname',\n",
       " 152: '152_storing 60_60 monitorobjects_60_monitorobjects storing',\n",
       " 153: '153_qctaskmidraw checkrunner_qccheckmidraw received_from qctaskmidraw_mid qccheckmidraw',\n",
       " 154: '154_rawdeviceservice 526264_526264 got_526264_property runnumber',\n",
       " 155: '155_lid8 feeid_lid8_new link_itsdecoder registered',\n",
       " 156: '156_to red_red_bad setting_red quality',\n",
       " 157: '157_publishing 28_28 monitorobjects_28_publishing 31',\n",
       " 158: '158_storing monitorobjects_monitorobjects storing_monitorobjects_storing',\n",
       " 159: '159_lid4_lid4 feeid_new link_rusw',\n",
       " 160: '160_lid10_lid10 feeid_rusw_registered new',\n",
       " 161: '161_triggertype 11_11 timestamp_initializing the_finalizing the',\n",
       " 162: '162_running fair_mq_fair mq_device running',\n",
       " 163: '163_orbits timeframe_length 128_128 orbits_timeframe length',\n",
       " 164: '164_rdhcheckdetectorfield rdh_rdhdumpenabled_rdhcheckdetectorfield_rdhcheckenabled',\n",
       " 165: '165_name not_specified using_specified_using first',\n",
       " 166: '166_distribution memory_numa distribution_pages numa_pool pages',\n",
       " 167: '167_counters timeframe_rdh trigger_ids generated_generated from',\n",
       " 168: '168_check bypassing_compatibility check_rorc firmware_bypassing',\n",
       " 169: '169_for monitor_objects trying_checks for_trying checks',\n",
       " 170: '170_itsfeecheck quality_check itsfeecheck_bad level_quality bad',\n",
       " 171: '171_superpage_superpage size_using superpage_1015808 using',\n",
       " 172: '172_krclusters clusterdata_mo krclusters_krclusters_clusterdata',\n",
       " 173: '173_occupancy average_average fifoready_fifoready_fifoready occupancy',\n",
       " 174: '174_storing qualityobjects_qualityobjects storing_qualityobjects_storing',\n",
       " 175: '175_iteration average_iteration_pages pushed_average pages',\n",
       " 176: '176_firmware version_00 numa_numa node_node',\n",
       " 177: '177_dma for_roc starting_starting dma_dma',\n",
       " 178: '178_transition request_request srcstate_incoming transition_occ incoming',\n",
       " 179: '179_lid7_lid7 feeid_new link_link link',\n",
       " 180: '180_jsonmessage srcstate_deserialized jsonmessage_stop occ_connect occ',\n",
       " 181: '181_deserialized transitionrequest_transitionrequest_transitionrequest srcstate_arguments occ',\n",
       " 182: '182_lid12 feeid_lid12_itsdecoder registered_registered new',\n",
       " 183: '183_slot itsdecoder_at slot_defining_slot',\n",
       " 184: '184_from qczdctask_sink qzdc_qczdctask_0_qzdc_qczdctask_0 received_qzdc_qczdctask_0',\n",
       " 185: '185_publishing 115_115 monitorobjects_115_monitorobjects publishing',\n",
       " 186: '186_13 monitor_for 13_13_objects trying',\n",
       " 187: '187_for 115_115 monitor_for 114_114 monitor',\n",
       " 188: '188_publishing 24_24 monitorobjects_24_monitorobjects publishing',\n",
       " 189: '189_publishing 36_36 monitorobjects_36_monitorobjects publishing',\n",
       " 190: '190_qc provenance_provenance_provenance qc_qc',\n",
       " 191: '191_with 35_35 entries_qtpc_tracks_0 received_sink qtpc_tracks_0',\n",
       " 192: '192_check qccheckmidraw_qccheckmidraw are_qccheckmidraw_ignoring monitor',\n",
       " 193: '193_key_value key_value_run arguments',\n",
       " 194: '194_device occ_jsonmessage srcstate_deserialized jsonmessage_key',\n",
       " 195: '195_from rawerrortask_rawdecodingerrorcheckemcal received_rawerrortask checkrunner_emc rawdecodingerrorcheckemcal',\n",
       " 196: '196_publishing monitorobjects_monitorobjects publishing_publishing_monitorobjects',\n",
       " 197: '197_29 monitor_for 29_29_objects trying',\n",
       " 198: '198_for 12_12 monitor_12_objects trying',\n",
       " 199: '199_qccheckmiddigits quality_check qccheckmiddigits_qccheckmiddigits_10 check',\n",
       " 200: '200_11 qualityobjects_storing 11_11_qualityobjects storing',\n",
       " 201: '201_qctaskmidclust checkrunner_qccheckmidclust received_from qctaskmidclust_qctaskmidclust',\n",
       " 202: '202_bind occ_jsonmessage srcstate_task occ_deserialized jsonmessage',\n",
       " 203: '203_key_value key_value_run arguments',\n",
       " 204: '204_key_value_value key_key runnumber',\n",
       " 205: '205_deserialized transitionrequest_transitionrequest srcstate_transitionrequest_arguments occ',\n",
       " 206: '206_key_value_value key_run arguments',\n",
       " 207: '207_qccheckmidclust quality_check qccheckmidclust_qccheckmidclust_level 10',\n",
       " 208: '208_itsfee checkrunner_itsfeecheck received_from itsfee_its itsfeecheck',\n",
       " 209: '209_sink qc_rawdigits_qc_rawdigits_qc_rawdigits mo_0_from rawdigits',\n",
       " 210: '210_qualityreductor loading_common qualityreductor_qualityreductor_loading class',\n",
       " 211: '211_qctpc loaded_module qctpc_qctpc_qualitycontrol module',\n",
       " 212: '212_roc nblocksout_nblocksout_avg 04_04 min',\n",
       " 213: '213_35 monitor_for 35_for 58_58 monitor',\n",
       " 214: '214_storing 35_35 monitorobjects_storing 49_49 monitorobjects',\n",
       " 215: '215_fhrtask checkrunner_234 entries_with 234_fhrcheck received',\n",
       " 216: '216_sink qc_tracks_qc_tracks_qc_tracks mo_0_mftreadouttrend checkrunner',\n",
       " 217: '217_publishing monitorobjects_monitorobjects publishing_publishing_monitorobjects',\n",
       " 218: '218_229 monitor_for 229_229_objects trying',\n",
       " 219: '219_with 229_229 entries_kn30 received_kn30',\n",
       " 220: '220_celltask checkrunner_from celltask_mc80 received_mc80',\n",
       " 221: '221_storing 84_84 monitorobjects_84_monitorobjects storing',\n",
       " 222: '222_19 qualityobjects_storing 19_19_qualityobjects storing',\n",
       " 223: '223_234 monitor_for 234_234_objects trying',\n",
       " 224: '224_from mftreadouttask_mftreadoutcheck received_mftreadouttask checkrunner_mft mftreadoutcheck',\n",
       " 225: '225_for 60_60 monitor_60_objects trying',\n",
       " 226: '226_storing 81_81 monitorobjects_81_monitorobjects storing',\n",
       " 227: '227_run number_run_number_number 526497',\n",
       " 228: '228_for 84_84 monitor_84_objects trying',\n",
       " 229: '229_run number_number 526349_number 526391_526349 run',\n",
       " 230: '230_qtpc_rawdigits_0 received_sink qtpc_rawdigits_0_qtpc_rawdigits_0_from rawdigits',\n",
       " 231: '231_qtpc_clusters_0 received_sink qtpc_clusters_0_qtpc_clusters_0_clusters checkrunner',\n",
       " 232: '232_fecpayloadcheck quality_check fecpayloadcheck_fecpayloadcheck_bad level',\n",
       " 233: '233_for 81_81 monitor_81_objects trying',\n",
       " 234: '234_with 81_from pid_81 entries_pid checkrunner',\n",
       " 235: '235_mb average_average data_data throughput_throughput',\n",
       " 236: '236_storing 39_39 qualityobjects_39_qualityobjects storing',\n",
       " 237: '237_publishing 18_18 monitorobjects_18_monitorobjects publishing',\n",
       " 238: '238_check checkforemptypads_checkforemptypads quality_checkforemptypads_medium level',\n",
       " 239: '239_18 monitor_for 18_18_objects trying',\n",
       " 240: '240_with 18_18 entries_checkforemptypads received_tpc checkforemptypads',\n",
       " 241: '241_key_value_value key_run arguments',\n",
       " 242: '242_c_rocs_q_max_1d_c_rocs_q_max_1d 72_of c_rocs_q_max_1d_72 number',\n",
       " 243: '243_526349 occ_value 526349_key_526382 occ',\n",
       " 244: '244_end occ_srcstate idle_transitionevent end_idle transitionevent',\n",
       " 245: '245_roc npushedup_max 2048_2048 count_npushedup',\n",
       " 246: '246_check rawerrorcheck_rawerrorcheck quality_rawerrorcheck_good level',\n",
       " 247: '247_roc nmemorylow_nmemorylow equipment_nmemorylow_equipment roc',\n",
       " 248: '248_roc noutputfull_noutputfull equipment_noutputfull_equipment roc',\n",
       " 249: '249_262144 bytes_pages 262144_262144_pool 32000',\n",
       " 250: '250_of c_rocs_sigma_time_1d_c_rocs_sigma_time_1d 72_c_rocs_sigma_time_1d_72 number',\n",
       " 251: '251_storing 18_18 monitorobjects_18_monitorobjects storing',\n",
       " 252: '252_c_rocs_time_bin_1d_c_rocs_time_bin_1d 72_of c_rocs_time_bin_1d_72 number',\n",
       " 253: '253_of c_rocs_q_tot_1d_c_rocs_q_tot_1d 72_c_rocs_q_tot_1d_72 number',\n",
       " 254: '254_of c_rocs_sigma_pad_1d_c_rocs_sigma_pad_1d_c_rocs_sigma_pad_1d 72_72 number',\n",
       " 255: '255_roc nthrottle_nthrottle equipment_nthrottle_equipment roc',\n",
       " 256: '256_roc fifooccupancyfreeblocks_fifooccupancyfreeblocks_fifooccupancyfreeblocks avg_avg 04',\n",
       " 257: '257_roc nfiforeadyfull_nfiforeadyfull equipment_nfiforeadyfull_equipment roc',\n",
       " 258: '258_from clusters_trending_clusters_trending checkrunner_sink qc_clusters_tren_clusters_trending',\n",
       " 259: '259_of c_rocs_n_clusters_1d_c_rocs_n_clusters_1d 72_c_rocs_n_clusters_1d_72 number',\n",
       " 260: '260_roc nbytesout_nbytesout_1015808 count_max 1015808',\n",
       " 261: '261_roc nfifoupempty_nfifoupempty equipment_nfifoupempty_equipment roc',\n",
       " 262: '262_links used_00000000000000001000000000000001 links_00000000000000001000000000000001_used 00000000000000001000000000000001',\n",
       " 263: '263_gb_links data_data received_mb links',\n",
       " 264: '264_12 plots_generating 12_12_plots generating',\n",
       " 265: '265_publishing 13_publishing 11_11 monitorobjects_13 monitorobjects',\n",
       " 266: '266_qhmp_hmpidrawtask_0 received_from hmpidrawtask_hmpidrawtask checkrunner_sink qhmp_hmpidrawtask_0',\n",
       " 267: '267_for 12_12 monitor_12_objects trying',\n",
       " 268: '268_storing qualityobjects_qualityobjects_qualityobjects storing_storing',\n",
       " 269: '269_th2xlinereductor_its th2xlinereductor_quality_control_modules its_th2xlinereductor loading',\n",
       " 270: '270_packets_cru_dropped_cru equipment',\n",
       " 271: '271_slot itsdecoder_for ru_defining_defining container',\n",
       " 272: '272_free_free pages_minimum free_pool statistics',\n",
       " 273: '273_id 526367_526367 type_526269 type_id 526269',\n",
       " 274: '274_for monitor_objects trying_checks for_trying checks',\n",
       " 275: '275_roc nidle_nidle_avg 00_00 min',\n",
       " 276: '276_its th2xlinereductor_th2xlinereductor_quality_control_modules its_instantiating class',\n",
       " 277: '277_roc nloop_nloop_avg 00_00 min',\n",
       " 278: '278_storing monitorobjects_monitorobjects storing_monitorobjects_storing',\n",
       " 279: '279_roc fifooccupancyoutblocks_fifooccupancyoutblocks_fifooccupancyoutblocks avg_avg 11',\n",
       " 280: '280_itstrackcheck quality_check itstrackcheck_itstrackcheck_good level',\n",
       " 281: '281_roc npagesused_npagesused_npagesused avg_2330 count',\n",
       " 282: '282_generating plots_plots generating_plots_generating',\n",
       " 283: '283_opening roc_opening_0111 opening_0110 opening',\n",
       " 284: '284_mo itsfee_itsfee_itsfee lanestatussummary_lanestatussummary',\n",
       " 285: '285_000000_000000 bcvstrgintegralbin8_000000 bcvstrgintegralbin4_000000 bcvstrgintegralbin2',\n",
       " 286: '286_for monitor_objects trying_checks for_trying checks',\n",
       " 287: '287_inconsistencies equipment_inconsistencies_ok errors_timeframes rdh',\n",
       " 288: '288_defining_slot_for ru_defining container',\n",
       " 289: '289_19 monitor_for 19_19_objects trying',\n",
       " 290: '290_check checkcompresseddata_checkcompresseddata quality_checkcompresseddata_bad level',\n",
       " 291: '291_178 monitor_for 178_178_objects trying',\n",
       " 292: '292_with 178_jra0 received_from taskraw_178 entries',\n",
       " 293: '293_publishing monitorobjects_monitorobjects publishing_publishing_monitorobjects',\n",
       " 294: '294_is enabled_pad is_enabled message_message pad',\n",
       " 295: '295_check checkdiagnostics_checkdiagnostics are_checkdiagnostics_ignoring monitor',\n",
       " 296: '296_common qualityreductor_qualityreductor_instantiating class_instantiating',\n",
       " 297: '297_checkoftrack_trending quality_check checkoftrack_trending_checkoftrack_trending_bad level',\n",
       " 298: '298_good good_bad good_good bad_good',\n",
       " 299: '299_publishing monitorobjects_monitorobjects publishing_publishing_publishing 90',\n",
       " 300: '300_from toftrendinghits_toftrendinghits checkrunner_sink qc_toftrendinghi_toftrendinghits',\n",
       " 301: '301_for 26_26 monitor_29 monitor_for 29',\n",
       " 302: '302_526264 occ_value 526264_526264_key',\n",
       " 303: '303_lid20_lid20 feeid_link link_new link',\n",
       " 304: '304_taskdigits checkrunner_from taskdigits_qtof_taskdigits_0 received_sink qtof_taskdigits_0',\n",
       " 305: '305_checkoftrack_trending quality_check checkoftrack_trending_checkoftrack_trending_quality null',\n",
       " 306: '306_container for_defining_at slot_slot',\n",
       " 307: '307_lid6_lid6 feeid_rusw_link link',\n",
       " 308: '308_from toftrendingrate_toftrendingrate checkrunner_sink qc_toftrendingra_toftrendingrate',\n",
       " 309: '309_ready running_running ready_running_ready',\n",
       " 310: '310_thnsparse5reductor_common thnsparse5reductor_0x5462eb0_thnsparse5reductor 0x5462eb0',\n",
       " 311: '311_pilup in_noise rate_rate hz_pilup',\n",
       " 312: '312_0x3ff30 pagespacereserved_0x3ff30_page 0x3ff30_aligning 1st',\n",
       " 313: '313_library libo2qctpc_libo2qctpc_libo2qctpc loading_loading library',\n",
       " 314: '314_starting run_526349 starting_run 526349_526389 starting',\n",
       " 315: '315_number 526556_number 526529_526556 run_526529 run',\n",
       " 316: '316_run number_number 526360_number 526423_526360 run',\n",
       " 317: '317_starting run_run 526382_526273 starting_run 526273',\n",
       " 318: '318_storing 115_115 monitorobjects_115_114 monitorobjects',\n",
       " 319: '319_run 526269_526269 starting_526269_starting run',\n",
       " 320: '320_reset reset_reset_drawing fhr_lanes_of_l6_02_fhr_lanes_of_l6_02',\n",
       " 321: '321_526264 starting_run 526264_run 526324_526324 starting',\n",
       " 322: '322_rawdeviceservice 2asb9onjmj1_2asb9onjmj1_2asb9onjmj1 got_partitionname',\n",
       " 323: '323_storing 229_229 monitorobjects_229_storing 179',\n",
       " 324: '324_sending 11_11 quality_11_objects sending',\n",
       " 325: '325_from quality_observer_trackstask_sink qc_quality_obser_quality_observer_trackstask checkrunner_quality_observer_trackstask',\n",
       " 326: '326_container for_slot_defining_for ru',\n",
       " 327: '327_register dma_dma block_register_block',\n",
       " 328: '328_f1_h1_h0_f0',\n",
       " 329: '329_thnsparse5reductor_common thnsparse5reductor_instantiating class_instantiating',\n",
       " 330: '330_sending 19_19 quality_19_objects sending',\n",
       " 331: '331_sending 39_39 quality_39_objects sending',\n",
       " 332: '332_lid3 feeid_lid3_itsdecoder registered_link link',\n",
       " 333: '333_storing monitorobjects_monitorobjects storing_monitorobjects_storing',\n",
       " 334: '334_number found_options_in options_run number',\n",
       " 335: '335_runnumber from_property runnumber_526382 got_rawdeviceservice 526382',\n",
       " 336: '336_quality_observer_trackstask checkrunner_from quality_observer_trackstask_sink qc_quality_obser_quality_observer_trackstask',\n",
       " 337: '337_storing 234_234 monitorobjects_234_monitorobjects storing',\n",
       " 338: '338_check itstrackcheck_itstrackcheck quality_itstrackcheck_bad level',\n",
       " 339: '339_2ao4aukxvnm got_2ao4aukxvnm_rawdeviceservice 2ao4aukxvnm_partitionname',\n",
       " 340: '340_roc requesting_0x200000 1st_from bank_block aligned',\n",
       " 341: '341_property runnumber_runnumber from_property_this property',\n",
       " 342: '342_publishing monitorobjects_monitorobjects publishing_publishing_monitorobjects',\n",
       " 343: '343_check cfdeffcheck_cfdeffcheck quality_cfdeffcheck_medium level',\n",
       " 344: '344_storing monitorobjects_monitorobjects storing_monitorobjects_storing',\n",
       " 345: '345_for monitor_objects trying_checks for_trying checks',\n",
       " 346: '346_526273 got_rawdeviceservice 526273_property runnumber_runnumber from',\n",
       " 347: '347_common thnsparse5reductor_thnsparse5reductor_instantiating_instantiating class',\n",
       " 348: '348_th1slicereductor loading_common th1slicereductor_th1slicereductor_loading class',\n",
       " 349: '349_for ru_itsdecoder defining_at slot_container for',\n",
       " 350: '350_slot itsdecoder_slot_defining container_defining',\n",
       " 351: '351_number found_in options_options_run number',\n",
       " 352: '352_qo checkoftrack_trending_h2dnclustersphicside_statmean_trend_nclusters in_tracks_trending h2dnclustersphicside_statmean_trend_nclusters_h2dnclustersphicside_statmean_trend_nclusters',\n",
       " 353: '353_quality level_check itstrackcheck_itstrackcheck quality_itstrackcheck',\n",
       " 354: '354_options 526530_526530 run_number found_options 526546',\n",
       " 355: '355_property runnumber_runnumber from_rawdeviceservice_property',\n",
       " 356: '356_number found_in options_options_options 526466',\n",
       " 357: '357_storing monitorobjects_monitorobjects storing_monitorobjects_storing',\n",
       " 358: '358_defining_defining container_at slot_for ru',\n",
       " 359: '359_medium setting_setting to_orange quality_to orange',\n",
       " 360: '360_17 monitor_for 17_17_checks for',\n",
       " 361: '361_storing qualityobjects_qualityobjects_qualityobjects storing_storing',\n",
       " 362: '362_storing 178_178 monitorobjects_178_monitorobjects storing',\n",
       " 363: '363_17 monitorobjects_storing 17_17_monitorobjects storing',\n",
       " 364: '364_mo fhrtask_fhrtask occupancy_fhrtask_its mo',\n",
       " 365: '365_layer itsdecoder_attaching_attaching link_to ru',\n",
       " 366: '366_id 526264_526264 type_526264_krclusters clusterdata',\n",
       " 367: '367_datasets_push statistics_datablocks_err',\n",
       " 368: '368_publishing monitorobjects_monitorobjects publishing_publishing_monitorobjects',\n",
       " 369: '369_rawdeviceservice 2ao7ivxmgjm_2ao7ivxmgjm_2ao7ivxmgjm got_partitionname',\n",
       " 370: '370_for monitor_objects trying_trying checks_checks for',\n",
       " 371: '371_use equipment_still in_still_in use',\n",
       " 372: '372_starting run_run_starting_run 526497',\n",
       " 373: '373_run number_number 526367_number 526533_number 526534',\n",
       " 374: '374_sending 10_10 quality_10_objects sending',\n",
       " 375: '375_key_value key_value_cleanup value',\n",
       " 376: '376_checkoftrack_trending tracks_trending_tracks_trending_qo checkoftrack_trending_tracks_trending h2dnclustersphicside_statmean_trend_nclusters',\n",
       " 377: '377_96 stave_ru 96_stave 24_layer4t_empty',\n",
       " 378: '378_0x4f86fe0 instantiating_0x4f86fe0_th1reductor 0x4f86fe0_0x2f2f0e0',\n",
       " 379: '379_fhr_lanes_of_l5_14 bcvstrgintegralbin5_bcvstrgintegralbin5 000000_000000 drawing_bcvstrgintegralbin5',\n",
       " 380: '380_th1slicereductor_common th1slicereductor_instantiating class_instantiating',\n",
       " 381: '381_storing monitorobjects_monitorobjects storing_monitorobjects_storing',\n",
       " 382: '382_bank consumer_stfb releasing_releasing bank_added bank',\n",
       " 383: '383_lid23 feeid_lid23_itsdecoder registered_link link',\n",
       " 384: '384_lid17 feeid_lid17_link link_new link',\n",
       " 385: '385_task sigkill_sigkill failed_sigkill_no such',\n",
       " 386: '386_lid14_lid14 feeid_link link_new link',\n",
       " 387: '387_lid9 feeid_lid9_registered new_new link',\n",
       " 388: '388_lid21 feeid_lid21_new link_registered new',\n",
       " 389: '389_task arguments_reset task_request srcstate_transition request',\n",
       " 390: '390_lid5 feeid_lid5_registered new_new link',\n",
       " 391: '391_mo mftreadouttask_qc mft_mft mo_mftreadouttask',\n",
       " 392: '392_14 monitorobjects_storing 14_14_monitorobjects storing',\n",
       " 393: '393_h2dnclustersphicside_statmean_trend_nclusters in_tracks_trending h2dnclustersphicside_statmean_trend_nclusters_h2dnclustersphicside_statmean_trend_nclusters_qo checkoftrack_trending',\n",
       " 394: '394_rorc configuring_configuring equipment_roc rorc_configuring',\n",
       " 395: '395_detector field_field_ctp link_in detector',\n",
       " 396: '396_526264 type_id 526264_526264_h2dnclustersphicside_statmean_trend_nclusters in',\n",
       " 397: '397_qo checkoftrack_trending_h2dnclustersphicside_statmean_trend_nclusters in_checkoftrack_trending tracks_trending_tracks_trending h2dnclustersphicside_statmean_trend_nclusters',\n",
       " 398: '398_value occ_key_value_key runnumber',\n",
       " 399: '399_th1reductor 0x3d6fbb0_0x3d6fbb0_0x3d6fbb0 instantiating_63 stave',\n",
       " 400: '400_tasks tpc_simple_idc simple_6431d49d86ef219fad559510e400b98a7b6ba48f missing',\n",
       " 401: '401_44 of_42 of_stave 44_188 stave',\n",
       " 402: '402_for monitor_objects trying_checks for_trying checks',\n",
       " 403: '403_rawdeviceservice 2ao4aukxvnm_2ao4aukxvnm_2ao4aukxvnm got_partitionname',\n",
       " 404: '404_ru stave_stave of_cruid 0x00ac_0x00ac',\n",
       " 405: '405_common th1reductor_th1reductor_instantiating class_instantiating',\n",
       " 406: '406_postproctask checkrunner_outofbunchcollcheck received_from postproctask_with 15',\n",
       " 407: '407_storing 15_15 monitorobjects_15_monitorobjects storing',\n",
       " 408: '408_trend entries_storing the_the trend_trend',\n",
       " 409: '409_from trendingtask_trendingtask checkrunner_sink qc_trendingtask_trendingtask',\n",
       " 410: '410_check outofbunchcollcheck_outofbunchcollcheck quality_outofbunchcollcheck_medium level',\n",
       " 411: '411_data checking_compressed data_checking quality_compressed',\n",
       " 412: '412_core_dumped_core dumped_terminated with',\n",
       " 413: '413_13 monitor_for 13_13_objects trying',\n",
       " 414: '414_for monitor_objects trying_trying checks_checks for',\n",
       " 415: '415_libo2qcmft_library libo2qcmft_libo2qcmft loading_library libo2qcits',\n",
       " 416: '416_heta with_qo check_entriesupdated_trackstask_check_entriesupdated_trackstask tracks_tracks heta',\n",
       " 417: '417_scheme_filling_filling scheme_2nominals_10pilots_lossmaps_coll_allips filling',\n",
       " 418: '418_value occ_key_value_key runnumber',\n",
       " 419: '419_libo2qcits_library libo2qcits_libo2qcits loading_library',\n",
       " 420: '420_publishing 15_15 monitorobjects_15_monitorobjects publishing',\n",
       " 421: '421_15 monitor_for 15_15_objects trying',\n",
       " 422: '422_bcvstrgintegralbin7_bcvstrgintegralbin7 000000_000000 bcvstrgintegralbin7_000000',\n",
       " 423: '423_from tracks_quality_trending_sink qc_tracks_qualit_tracks_quality_trending checkrunner_tracks_quality_trending',\n",
       " 424: '424_to ru_itsdecoder attaching_stave_attaching link',\n",
       " 425: '425_slot itsdecoder_container for_defining_defining container',\n",
       " 426: '426_000000 bcvstrgintegralbin6_bcvstrgintegralbin6_bcvstrgintegralbin6 000000_000000',\n",
       " 427: '427_hphicside number_hphicside_of hphicside_input histograms',\n",
       " 428: '428_0x00b6_cruid 0x00b6_0x00af_cruid 0x00af',\n",
       " 429: '429_lid9_lid9 feeid_rusw_new link',\n",
       " 430: '430_of hphiaside_hphiaside_hphiaside number_of input',\n",
       " 431: '431_heta to_qo check_entriesupdated_trackstask_check_entriesupdated_trackstask tracks_tracks heta',\n",
       " 432: '432_hnclspid to_qo check_entriesupdated_pidtask_check_entriesupdated_pidtask pid_hnclspid',\n",
       " 433: '433_hetaratio_merged number_hetaratio_merged_of hetaratio_merged_of input',\n",
       " 434: '434_12 qualityobjects_storing 12_12_qualityobjects storing',\n",
       " 435: '435_generating plots_plots generating_plots_generating',\n",
       " 436: '436_hnclspid with_hnclspid_pid hnclspid_qo check_entriesupdated_pidtask',\n",
       " 437: '437_134 itsdecoder_rusw 134_cruid 0x00b4_0x00b4',\n",
       " 438: '438_orbit 173_173 equipment_173_orbit 175',\n",
       " 439: '439_cruid 0x00c0_0x00c0_layer itsdecoder_47 stave',\n",
       " 440: '440_lid11_lid11 feeid_rusw_registered new',\n",
       " 441: '441_lid6 feeid_lid6_rusw_registered new',\n",
       " 442: '442_of heta_heta number_heta_the trending',\n",
       " 443: '443_checkoftrack_trending are_ignoring monitor_the check_not ready',\n",
       " 444: '444_slot itsdecoder_for ru_defining_slot',\n",
       " 445: '445_0x00b4_cruid 0x00b4_136 stave_ru 136',\n",
       " 446: '446_lid16 feeid_lid16_0x00b4 lid16_0x00bd lid16',\n",
       " 447: '447_from tracks_trending_checkoftrack_trending received_tracks_trending checkrunner_tpc checkoftrack_trending',\n",
       " 448: '448_cruid 0x00bf_0x00bf_34 stave_ru 34',\n",
       " 449: '449_cruid 0x00b2_0x00b2_layer itsdecoder_of layer',\n",
       " 450: '450_replay 1st_loop completed_1st loop_replay',\n",
       " 451: '451_12 quality_sending 12_12_objects sending',\n",
       " 452: '452_from entriesupdated_quality_trending_entriesupdated_quality_trending checkrunner_sink qc_entriesupdate_entriesupdated_quality_trending',\n",
       " 453: '453_checkoftrack_trending received_from tracks_trending_tpc checkoftrack_trending_tracks_trending checkrunner',\n",
       " 454: '454_clusters_quality_trending checkrunner_from clusters_quality_trending_sink qc_clusters_qual_clusters_quality_trending',\n",
       " 455: '455_0x3d4c1d0_0x4e1cce0_th1reductor 0x4e1cce0_th1reductor 0x3d4c1d0',\n",
       " 456: '456_from itsqctrendingfhr_itsqctrendingfhr checkrunner_sink qc_itsqctrending_itsqctrendingfhr',\n",
       " 457: '457_0x4d90eb0_0x494eb90_0x4d90eb0 instantiating_th1reductor 0x4d90eb0',\n",
       " 458: '458_fhr_occ_of_l4_23 drawing_drawing fhr_occ_of_l4_23_fhr_occ_of_l4_23_fhr_occ_of_l3_12 drawing',\n",
       " 459: '459_fhr_mean_of_l3_06 drawing_fhr_mean_of_l3_06_drawing fhr_mean_of_l3_06_fhr_mean_of_l3_17 drawing',\n",
       " 460: '460_fhr_lanes_of_l5_15 drawing_fhr_lanes_of_l5_15_drawing fhr_lanes_of_l5_15_fhr_lanes_of_l3_09 drawing',\n",
       " 461: '461_fhr_stddev_of_l3_19 drawing_fhr_stddev_of_l3_19_drawing fhr_stddev_of_l3_19_drawing fhr_stddev_of_l1_09',\n",
       " 462: '462_drawing fhr_mean_of_l3_18_fhr_mean_of_l3_18_fhr_mean_of_l3_18 drawing_fhr_mean_of_l5_18',\n",
       " 463: '463_fhr_mean_of_l6_01 drawing_fhr_mean_of_l6_01_drawing fhr_mean_of_l6_01_fhr_mean_of_l6_29 drawing',\n",
       " 464: '464_partition writing_to aliecs_messages to_writing messages',\n",
       " 465: '465_0x46a2680_0x46a2680 instantiating_th1reductor 0x46a2680_th1reductor 0x46b3130',\n",
       " 466: '466_fhr_occ_of_l1_13 drawing_drawing fhr_occ_of_l1_13_fhr_occ_of_l1_13_fhr_stddev_of_l1_07 drawing',\n",
       " 467: '467_drawing fhr_mean_of_l0_00_fhr_mean_of_l0_00_fhr_mean_of_l0_00 drawing_fhr_stddev_of_l4_28 drawing',\n",
       " 468: '468_fhr_chips_of_l0_09 drawing_fhr_chips_of_l0_09_drawing fhr_chips_of_l0_09_drawing fhr_stddev_of_l4_12',\n",
       " 469: '469_drawing fhr_occ_of_l3_13_fhr_occ_of_l3_13_fhr_occ_of_l3_13 drawing_fhr_occ_of_l1_06 drawing',\n",
       " 470: '470_fhr_mean_of_l3_02 drawing_fhr_stddev_of_l5_08 drawing_drawing fhr_stddev_of_l5_08_fhr_mean_of_l3_02',\n",
       " 471: '471_h0_f0_f1_h1',\n",
       " 472: '472_file consul_using config_config file_qc any',\n",
       " 473: '473_key_value key_value_cleanup value',\n",
       " 474: '474_publishing monitorobjects_monitorobjects publishing_publishing_monitorobjects',\n",
       " 475: '475_publishing monitorobjects_monitorobjects publishing_publishing_monitorobjects',\n",
       " 476: '476_stopping run_526390 stopping_526389 stopping_run 526389',\n",
       " 477: '477_hz idlesleeptime_rate 000000_200 us_from config',\n",
       " 478: '478_roc rorc_rorc configuring_configuring equipment_configuring',\n",
       " 479: '479_publishing monitorobjects_monitorobjects publishing_publishing_monitorobjects',\n",
       " 480: '480_updating the_triggertype timestamp_trigger triggertype_triggertype',\n",
       " 481: '481_thnsparse5reductor 0x60efd10_0x60efd10_0x60efd10 instantiating_common thnsparse5reductor',\n",
       " 482: '482_122 stave_0x00ae_cruid 0x00ae_ru 122',\n",
       " 483: '483_task sigterm_sigterm failed_sigterm_such',\n",
       " 484: '484_channels 152928_152928_152928 channels_channels',\n",
       " 485: '485_0x00b3_cruid 0x00b3_42 stave_ru 42',\n",
       " 486: '486_stfb memory_free_free pages_pages consumer',\n",
       " 487: '487_starting run_run 526383_run 526382_526382 starting',\n",
       " 488: '488_sor could_fine at_settings it_it is',\n",
       " 489: '489_0x00ae_cruid 0x00ae_117 stave_0x00ae lid5',\n",
       " 490: '490_rusw itsdecoder_lid1 feeid_lid1_lid0 feeid',\n",
       " 491: '491_common th1reductor_th1reductor_instantiating_instantiating class',\n",
       " 492: '492_reset readout_completed reset_executing reset_reset',\n",
       " 493: '493_initializing the_initializing_to trigger_trigger triggertype',\n",
       " 494: '494_11 first_10 first_player 11_player 10',\n",
       " 495: '495_starting run_526351 starting_run 526351_run 526367',\n",
       " 496: '496_slot itsdecoder_defining_container for_itsdecoder defining',\n",
       " 497: '497_run 526349_526349 starting_526269 starting_run 526269',\n",
       " 498: '498_0x00bb_cruid 0x00bb_78 stave_77 stave',\n",
       " 499: '499_starting run_run_run 526530_526530 starting',\n",
       " 500: '500_running ready_ready running_running_ready',\n",
       " 501: '501_updating the_triggertype timestamp_triggertype_trigger triggertype',\n",
       " 502: '502_cruid 0x00c1_0x00c1_layer itsdecoder_stave',\n",
       " 503: '503_hphiasidepos in_tracks hphiasidepos_hphiasidepos_mo tracks',\n",
       " 504: '504_cruid 0x00b2_0x00b2_90 stave_89 stave',\n",
       " 505: '505_generating plots_plots generating_plots_generating',\n",
       " 506: '506_channels 152928_channels_152928 channels_152928',\n",
       " 507: '507_0x2923a00_0x2ac2100_th1reductor 0x2ac2100_th1reductor 0x2923a00',\n",
       " 508: '508_0x481d420_th1reductor 0x481d420_0x4d41a20_0x481d420 instantiating',\n",
       " 509: '509_data checking_of compressed_compressed data_compressed',\n",
       " 510: '510_th1reductor_common th1reductor_instantiating class_instantiating',\n",
       " 511: '511_triggerscorrelation in_triggerscorrelation_digitqctask triggerscorrelation_fdd mo',\n",
       " 512: '512_executing stop_exiting readout_process exiting_readout process',\n",
       " 513: '513_aggregator releasing_releasing aggregator_aggregator creating_creating aggregator',\n",
       " 514: '514_libo2qccommon loading_library libo2qccommon_libo2qccommon_loading library',\n",
       " 515: '515_0x33888a0_th1reductor 0x33888a0_th1reductor 0x3a98a10_0x452a3a0',\n",
       " 516: '516_timestamp 1664292685522_1664292685522 updating_1664293585552_1664292685522',\n",
       " 517: '517_lid7 feeid_lid7_link link_new link',\n",
       " 518: '518_0x1b8da70 instantiating_0x1b8da70_0x460d7e0_0x460d7e0 instantiating',\n",
       " 519: '519_bad bad_bad_663182496 bytes_raw 663182496',\n",
       " 520: '520_common th1reductor_th1reductor_instantiating class_instantiating',\n",
       " 521: '521_starting stats_clock starting_stats clock_clock',\n",
       " 522: '522_common th1reductor_th1reductor_instantiating_instantiating class',\n",
       " 523: '523_drawing fhr_occ_of_l0_11_fhr_occ_of_l0_11_172 stave_ru 172',\n",
       " 524: '524_drawing fhr_mean_of_l2_15_fhr_mean_of_l2_15_179 stave_ru 179',\n",
       " 525: '525_mo digitqctask_digitqctask_ft0 mo_qc ft0',\n",
       " 526: '526_0x241faf0_0x249f250_0x24bb9e0_th1reductor 0x241faf0',\n",
       " 527: '527_outputs outputs_outputs_outputs equipment_328864 repacked',\n",
       " 528: '528_option sndbufsize_1000 setting_sndbufsize 1000_sndbufsize',\n",
       " 529: '529_drawing fhr_occ_of_l6_16_fhr_occ_of_l6_16_53 stave_ru 53',\n",
       " 530: '530_running ready_ready running_running_ready',\n",
       " 531: '531_mo mftdigittask_mft mo_qc mft_mftdigittask',\n",
       " 532: '532_average throughput_stats average_gbits stats_gbits',\n",
       " 533: '533_triggerscorrelation in_triggerscorrelation_digitqctask triggerscorrelation_fv0 mo',\n",
       " 534: '534_storing monitorobjects_monitorobjects storing_monitorobjects_storing',\n",
       " 535: '535_lid10_lid10 feeid_itsdecoder registered_registered new',\n",
       " 536: '536_from muontracks_qglo_muontracks_0 received_muontracks checkrunner_muontracks',\n",
       " 537: '537_1664289572692_timestamp 1664289572692_1664289572692 updating_51 stave',\n",
       " 538: '538_75 qc_version 75_qc version_75',\n",
       " 539: '539_workflow creating_qc workflow_remote qc_creating remote',\n",
       " 540: '540_for monitor_objects trying_checks for_trying checks',\n",
       " 541: '541_devices releasing_releasing readout_devices_readout devices',\n",
       " 542: '542_lid15_lid15 feeid_0x00b6 lid15_0x00c4 lid15',\n",
       " 543: '543_13 stave_ru 13_cruid 0x00b5_0x00b5',\n",
       " 544: '544_10 stave_ru 10_144 stave_10 of',\n",
       " 545: '545_outputfifosize_max rate_config equipment_rate 000000',\n",
       " 546: '546_slot 15_slot 14_14 itsdecoder_15 itsdecoder',\n",
       " 547: '547_ru stave_stave of_0x00b7_cruid 0x00b7',\n",
       " 548: '548_lid19_lid19 feeid_0x00b6 lid19_0x00b5 lid19',\n",
       " 549: '549_slot 15_15 itsdecoder_for ru_defining container',\n",
       " 550: '550_drawing fhr_mean_of_l1_08_fhr_mean_of_l1_08_160 stave_fhr_mean_of_l1_08 drawing',\n",
       " 551: '551_publishing monitorobjects_monitorobjects publishing_publishing_monitorobjects',\n",
       " 552: '552_lid3 feeid_lid3_0x00b2 lid3_rusw',\n",
       " 553: '553_lid9 feeid_lid9_0x501e rusw_0x4119 rusw',\n",
       " 554: '554_lid15_lid15 feeid_0x00ba lid15_0x00bd lid15',\n",
       " 555: '555_zero integ_bcorbitmap_to zero_compute quality',\n",
       " 556: '556_bcvstrgintegralbin4 000000_000000 bcvstrgintegralbin4_bcvstrgintegralbin4_000000',\n",
       " 557: '557_23 stave_ru 23_stave 11_0x00c4',\n",
       " 558: '558_lid12_lid12 feeid_0x00b7 lid12_0x00b3 lid12',\n",
       " 559: '559_bcvstrgintegralbin3 000000_000000 bcvstrgintegralbin3_bcvstrgintegralbin3_000000',\n",
       " 560: '560_replay 1st_loop completed_1st loop_replay',\n",
       " 561: '561_stave of_cruid 0x00c2_0x00c2_16 stave',\n",
       " 562: '562_32 stave_ru 32_36 stave_ru 36',\n",
       " 563: '563_roc npagesfree_npagesfree_max 9109_9109 count',\n",
       " 564: '564_0x00c1_cruid 0x00c1_130 stave_ru 130',\n",
       " 565: '565_bcvstrgintegralbin1 000000_bcvstrgintegralbin5 000000_000000 bcvstrgintegralbin1_bcvstrgintegralbin1',\n",
       " 566: '566_bcvstrgintegralbin2 000000_000000 bcvstrgintegralbin2_bcvstrgintegralbin2_000000',\n",
       " 567: '567_bcvstrgintegralbin8 000000_000000 bcvstrgintegralbin8_bcvstrgintegralbin8_000000',\n",
       " 568: '568_for 14_14 monitor_14_objects trying',\n",
       " 569: '569_libo2qccommon_library libo2qccommon_libo2qccommon loading_loading library',\n",
       " 570: '570_sending quality_objects sending_quality objects_sending',\n",
       " 571: '571_layer6t_empty_layer6b_empty_layer6b_empty layer6b_empty_layer6t_empty layer6t_empty',\n",
       " 572: '572_aliecs before_start_activity_before_start_activity partition_before_start_activity_startofactivity526272',\n",
       " 573: '573_51 monitorobjects_storing 51_51_monitorobjects storing',\n",
       " 574: '574_itstracktask checkrunner_itstrackcheck received_from itstracktask_its itstrackcheck',\n",
       " 575: '575_120 at_122 at_page 0x3ff30_0x3ff30',\n",
       " 576: '576_from bank_block aligned_bank block_aligned 0x200000',\n",
       " 577: '577_page size_repacked received_repacked_repacking',\n",
       " 578: '578_51 monitor_for 51_51_objects trying',\n",
       " 579: '579_mftclustertask checkrunner_from mftclustertask_mftclustercheck received_42 entries',\n",
       " 580: '580_storing qualityobjects_qualityobjects_qualityobjects storing_storing',\n",
       " 581: '581_c_rocs_n_clusters_1d in_clusters c_rocs_n_clusters_1d_mo clusters_c_rocs_n_clusters_1d',\n",
       " 582: '582_c_rocs_n_clusters_2d in_checkforemptypads clusters_qo checkforemptypads_c_rocs_n_clusters_2d',\n",
       " 583: '583_lid19 feeid_lid19_0x5109 rusw_rusw 111',\n",
       " 584: '584_15 qualityobjects_storing 15_15_qualityobjects storing',\n",
       " 585: '585_lid22_lid22 feeid_registered new_rusw',\n",
       " 586: '586_sending 15_15 quality_15_quality objects',\n",
       " 587: '587_servicediscovery_to servicediscovery_registration_registration to',\n",
       " 588: '588_flood_flood detected_infologger flood_detected further',\n",
       " 589: '589_bytes using_using memory_pages 1048576_1048576 bytes',\n",
       " 590: '590_push consumer_fmq type_stfb fmq_type push',\n",
       " 591: '591_drop caches_caches disabled_caches_drop',\n",
       " 592: '592_49 stave_ru 49_layer trying_0x00af lid13',\n",
       " 593: '593_startofactivity_526271 startofactivity_startofactivity 526271_startofactivity 526391',\n",
       " 594: '594_its qo_qo itsclustercheck_itsclustercheck itsclustertask_qo fhrcheck',\n",
       " 595: '595_startofactivity 526264_526264 startofactivity_526264_startofactivity',\n",
       " 596: '596_0x2ff5a90_th1reductor 0x2ff5a90_0x2ff5a90 instantiating_th1reductor',\n",
       " 597: '597_startofactivity_startofactivity 526526_startofactivity 526382_526367 startofactivity',\n",
       " 598: '598_lid20 feeid_lid20_triggerscorrelation_digitqctask triggerscorrelation',\n",
       " 599: '599_initializing the_initializing_triggertype timestamp_to trigger',\n",
       " 600: '600_ddl0 fifooccupancyfreeblocks_ddl0 fifooccupancyreadyblocks_ddl1 fifooccupancyfreeblocks_ddl0 fifooccupancyoutblocks',\n",
       " 601: '601_storing qualityobjects_qualityobjects storing_qualityobjects_storing',\n",
       " 602: '602_startofactivity_startofactivity startofactivity_startofactivity 526465_526360 startofactivity',\n",
       " 603: '603_storing monitorobjects_monitorobjects storing_monitorobjects_storing',\n",
       " 604: '604_storing monitorobjects_monitorobjects storing_monitorobjects_storing',\n",
       " 605: '605_64 stave_148 stave_ru 148_ru 64',\n",
       " 606: '606_526269 startofactivity_startofactivity 526349_startofactivity 526269_526349 startofactivity',\n",
       " 607: '607_lid8_lid8 feeid_0x2108 rusw_0x3008 rusw',\n",
       " 608: '608_libo2qccommon_library libo2qccommon_libo2qccommon loading_loading library',\n",
       " 609: '609_storing 234_234 monitorobjects_234_monitorobjects storing',\n",
       " 610: '610_114 monitorobjects_storing 114_114_storing 115',\n",
       " 611: '611_mo fhrtask_fhrtask occupancy_fhrtask_its mo',\n",
       " 612: '612_mdigitchipoccupancy in_mftdigittask mdigitchipoccupancy_mft mo_qc mft',\n",
       " 613: '613_39 quality_sending 39_39_mb sending',\n",
       " 614: '614_layer5t_empty_layer5b_empty_layer5b_empty layer5b_empty_layer5t_empty layer5t_empty',\n",
       " 615: '615_serialized_serialized jsonmessage_occ serialized_true occ',\n",
       " 616: '616_clusters c_rocs_n_clusters_1d_c_rocs_n_clusters_1d in_mo clusters_c_rocs_n_clusters_1d',\n",
       " 617: '617_for monitor_objects trying_trying checks_checks for',\n",
       " 618: '618_72 at_container for_defining container_defining',\n",
       " 619: '619_readout updating_fairmq channel_updating consumer_stfb fairmq',\n",
       " 620: '620_11 quality_sending 11_11_quality objects',\n",
       " 621: '621_qo checkforemptypads_c_rocs_n_clusters_2d in_checkforemptypads clusters_clusters c_rocs_n_clusters_2d',\n",
       " 622: '622_12 replay_11 replay_player 12_player 11',\n",
       " 623: '623_for monitor_objects trying_trying checks_checks for',\n",
       " 624: '624_27 stave_ru 27_stave 15_0x00c4',\n",
       " 625: '625_qglo_mchstdtracks_0 received_from mchstdtracks_mchstdtracks checkrunner_mchstdtracks',\n",
       " 626: '626_slot 23_23 itsdecoder_167 at_191 at',\n",
       " 627: '627_10 replay_player 10_1st loop_replay 1st',\n",
       " 628: '628_526264 key_value occ_value 526264_526269 key',\n",
       " 629: '629_526264 key_value occ_value 526264_526269 key',\n",
       " 630: '630_incoming transition_transition request_request srcstate_occ incoming',\n",
       " 631: '631_endofactivity_endofactivity endofactivity_startofactivity startofactivity_startofactivity',\n",
       " 632: '632_lid5 feeid_lid5_rusw 53_53 itsdecoder',\n",
       " 633: '633_player replay_1st loop_replay 1st_loop completed',\n",
       " 634: '634_player replay_1st loop_replay 1st_loop completed',\n",
       " 635: '635_equipment ctp_32000 count_max 32000_16384',\n",
       " 636: '636_131 at_119 at_152 at_132 at',\n",
       " 637: '637_lid7_lid7 feeid_link link_itsdecoder registered',\n",
       " 638: '638_0x00c1_cruid 0x00c1_131 stave_132 stave',\n",
       " 639: '639_139 stave_133 stave_0x00b4_cruid 0x00b4',\n",
       " 640: '640_141 stave_142 stave_cruid 0x00b4_0x00b4',\n",
       " 641: '641_player first_orbit equipment_equipment player_player',\n",
       " 642: '642_link_link cruid_cruid_itsdecoder',\n",
       " 643: '643_lid22 feeid_lid22_0x00b5 lid22_0x00b6 lid22',\n",
       " 644: '644_0x00b5_cruid 0x00b5_stave of_19 stave',\n",
       " 645: '645_cruid 0x00b3_0x00b3_0x00b8_cruid 0x00b8',\n",
       " 646: '646_player first_orbit equipment_equipment player_player',\n",
       " 647: '647_lid15_lid15 feeid_93 itsdecoder_rusw 93',\n",
       " 648: '648_87 stave_80 stave_ru 80_ru 87',\n",
       " 649: '649_ready resetting_resetting task_resetting device_task device',\n",
       " 650: '650_0x00ae_cruid 0x00ae_113 stave_114 stave',\n",
       " 651: '651_ru stave_17 stave_cruid 0x00b7_0x00b7',\n",
       " 652: '652_lid11_lid11 feeid_new link_registered new',\n",
       " 653: '653_lid15_lid15 feeid_0x00b5_cruid 0x00b5',\n",
       " 654: '654_lid17 feeid_lid17_0x00b6 lid17_0x00b7 lid17',\n",
       " 655: '655_to alio2_offerhost_launch request_offerhost alio2',\n",
       " 656: '656_0x00b2_cruid 0x00b2_94 stave_93 stave',\n",
       " 657: '657_0x00b1_cruid 0x00b1_101 stave_99 stave',\n",
       " 658: '658_19 quality_sending 19_19_1476428',\n",
       " 659: '659_0x00ae_cruid 0x00ae_119 stave_ru 119',\n",
       " 660: '660_fhr_mean_of_l0_08 drawing_fhr_mean_of_l0_08_drawing fhr_mean_of_l0_08_fhr_mean_of_l1_08',\n",
       " 661: '661_229 monitorobjects_storing 229_179 monitorobjects_storing 179',\n",
       " 662: '662_storing 178_178 monitorobjects_178_monitorobjects storing',\n",
       " 663: '663_vsbc in_vsbc_multiplicity vsbc_taskdigits multiplicity',\n",
       " 664: '664_fhr_stddev_of_l4_26_drawing fhr_stddev_of_l4_26_fhr_stddev_of_l4_26 drawing_drawing',\n",
       " 665: '665_taskdigits multiplicity_mo taskdigits_multiplicity_integrated',\n",
       " 666: '666_layer4t_empty_layer4b_empty_layer4t_empty layer4t_empty_layer4b_empty layer4b_empty',\n",
       " 667: '667_triggerscorrelation_digitqctask triggerscorrelation_triggerscorrelation in_ft0 mo',\n",
       " 668: '668_fhr_lanes_of_l6_43_drawing fhr_lanes_of_l6_43_fhr_lanes_of_l6_43 drawing_drawing',\n",
       " 669: '669_tasks fairmq_shmmonitor 6431d49d86ef219fad559510e400b98a7b6ba48f_shmmonitor_fairmq shmmonitor',\n",
       " 670: '670_distribution stfb_stfb standalone_standalone disabled_standalone',\n",
       " 671: '671_drawing fhr_mean_of_l6_21_fhr_mean_of_l6_21_fhr_mean_of_l6_21 drawing_fhr_mean_of_l6_24 drawing',\n",
       " 672: '672_fhr_stddev_of_l6_20_drawing fhr_stddev_of_l6_20_fhr_stddev_of_l6_20 drawing_drawing',\n",
       " 673: '673_publishing 178_178 monitorobjects_178_monitorobjects publishing',\n",
       " 674: '674_drawing fhr_lanes_of_l6_15_fhr_lanes_of_l6_15_fhr_lanes_of_l6_15 drawing_fhr_lanes_of_l5_15 drawing',\n",
       " 675: '675_drawing fhr_mean_of_l4_27_fhr_mean_of_l4_27_fhr_mean_of_l4_27 drawing_fhr_mean_of_l4_26 drawing',\n",
       " 676: '676_dropped message_flood resuming_resuming_normal operation',\n",
       " 677: '677_fhr_stddev_of_l4_10 drawing_drawing fhr_stddev_of_l4_10_fhr_stddev_of_l4_10_drawing',\n",
       " 678: '678_fhr_lanes_of_l4_10_drawing fhr_lanes_of_l4_10_fhr_lanes_of_l4_10 drawing_fhr_lanes_of_l4_08 drawing',\n",
       " 679: '679_fhr_chips_of_l1_11_drawing fhr_chips_of_l1_11_fhr_chips_of_l1_11 drawing_fhr_chips_of_l1_02 drawing',\n",
       " 680: '680_detector_shm_false_shm segment',\n",
       " 681: '681_bytes final_counters timeframes_final_recorded',\n",
       " 682: '682_drawing fhr_mean_of_l3_02_fhr_mean_of_l3_02_fhr_mean_of_l3_02 drawing_drawing',\n",
       " 683: '683_fhr_stddev_of_l5_26_drawing fhr_stddev_of_l5_26_fhr_stddev_of_l5_26 drawing_drawing',\n",
       " 684: '684_drawing fhr_mean_of_l5_17_fhr_mean_of_l5_17_fhr_mean_of_l5_17 drawing_drawing',\n",
       " 685: '685_increasingeventcheckeremcalcell quality_check increasingeventcheckeremcalcell_increasingeventcheckeremcalcell_bad level',\n",
       " 686: '686_drawing fhr_lanes_of_l3_02_fhr_lanes_of_l3_02_fhr_lanes_of_l3_02 drawing_fbcb613557be76cd94b8fdb449f9e5cb7c053c77 qc',\n",
       " 687: '687_storing 90_90 monitorobjects_90_49 monitorobjects',\n",
       " 688: '688_rawdigits rawdigitdata_rawdigitdata in_mo rawdigits_rawdigitdata',\n",
       " 689: '689_fhr_occ_of_l0_05_drawing fhr_occ_of_l0_05_fhr_occ_of_l0_05 drawing_drawing',\n",
       " 690: '690_drawing fhr_occ_of_l2_15_fhr_occ_of_l2_15_fhr_occ_of_l2_15 drawing_41 109346',\n",
       " 691: '691_executing configure_configure readout_configure_readout executing',\n",
       " 692: '692_with 90_90 entries_fdd cfdeffcheck_check fdd',\n",
       " 693: '693_machine readout_occ state_entering occ_readout entering',\n",
       " 694: '694_for 90_90 monitor_90_81 monitor',\n",
       " 695: '695_fhr_stddev_of_l6_45 drawing_drawing fhr_stddev_of_l6_45_fhr_stddev_of_l6_45_drawing',\n",
       " 696: '696_526264 type_id 526264_526264_triggerscorrelation',\n",
       " 697: '697_fhr_lanes_of_l6_33_drawing fhr_lanes_of_l6_33_fhr_lanes_of_l6_33 drawing_drawing',\n",
       " 698: '698_saving etadistribution_stddev_etadistribution_stddev to_etadistribution_stddev_to ccdb',\n",
       " 699: '699_phidistribution_mean to_saving phidistribution_mean_phidistribution_mean_to ccdb',\n",
       " 700: '700_phidistribution_stddev to_phidistribution_stddev_saving phidistribution_stddev_phidistribution_mean',\n",
       " 701: '701_vertexz_mean to_saving vertexz_mean_vertexz_mean_ccdb saving',\n",
       " 702: '702_vertexz_stddev to_saving vertexz_stddev_vertexz_stddev_ccdb saving',\n",
       " 703: '703_18 plots_generating and_and storing_and',\n",
       " 704: '704_drawing fhr_chips_of_l0_01_fhr_chips_of_l0_01_fhr_chips_of_l0_01 drawing_fhr_chips_of_l1_00 drawing',\n",
       " 705: '705_fhr_occ_of_l0_01_drawing fhr_occ_of_l0_01_fhr_occ_of_l0_01 drawing_fhr_occ_of_l0_00 drawing',\n",
       " 706: '706_fhr_mean_of_l0_02_drawing fhr_mean_of_l0_02_fhr_mean_of_l0_02 drawing_fhrcheck fhrtask',\n",
       " 707: '707_fhr_stddev_of_l0_02 drawing_drawing fhr_stddev_of_l0_02_fhr_stddev_of_l0_02_drawing',\n",
       " 708: '708_drawing fhr_chips_of_l0_02_fhr_chips_of_l0_02_fhr_chips_of_l0_02 drawing_drawing',\n",
       " 709: '709_drawing fhr_occ_of_l0_02_fhr_occ_of_l0_02_fhr_occ_of_l0_02 drawing_fhr_occ_of_l1_02 drawing',\n",
       " 710: '710_drawing fhr_mean_of_l0_03_fhr_mean_of_l0_03_fhr_mean_of_l0_03 drawing_fhr_mean_of_l1_04 drawing',\n",
       " 711: '711_fhr_stddev_of_l0_03_drawing fhr_stddev_of_l0_03_fhr_stddev_of_l0_03 drawing_drawing',\n",
       " 712: '712_storing 768_768 plots_and storing_generating and',\n",
       " 713: '713_fhr_stddev_of_l0_00_drawing fhr_stddev_of_l0_00_fhr_stddev_of_l0_00 drawing_fhr_stddev_of_l0_01',\n",
       " 714: '714_nvertexcontributors_mean to_nvertexcontributors_mean_saving nvertexcontributors_mean_saving',\n",
       " 715: '715_nvertexcontributors_stddev_saving nvertexcontributors_stddev_nvertexcontributors_stddev to_saving nvertexcontributors_mean',\n",
       " 716: '716_associatedclusterfraction_mean to_saving associatedclusterfraction_mean_associatedclusterfraction_mean_associatedclusterfraction_stddev',\n",
       " 717: '717_associatedclusterfraction_stddev to_associatedclusterfraction_stddev_saving associatedclusterfraction_stddev_to ccdb',\n",
       " 718: '718_fhr_stddev_of_l6_42 drawing_drawing fhr_stddev_of_l6_42_fhr_stddev_of_l6_42_drawing',\n",
       " 719: '719_fhr_lanes_of_l6_42_drawing fhr_lanes_of_l6_42_fhr_lanes_of_l6_42 drawing_drawing',\n",
       " 720: '720_drawing fhr_occ_of_l6_42_fhr_occ_of_l6_42_fhr_occ_of_l6_42 drawing_drawing',\n",
       " 721: '721_drawing fhr_mean_of_l6_43_fhr_mean_of_l6_43_fhr_mean_of_l6_43 drawing_drawing',\n",
       " 722: '722_fhr_stddev_of_l6_43_drawing fhr_stddev_of_l6_43_fhr_stddev_of_l6_43 drawing_fhr_stddev_of_l6_41 drawing',\n",
       " 723: '723_fhr_occ_of_l6_43_drawing fhr_occ_of_l6_43_fhr_occ_of_l6_43 drawing_fhr_occ_of_l6_41 drawing',\n",
       " 724: '724_drawing fhr_mean_of_l6_40_fhr_mean_of_l6_40_fhr_mean_of_l6_40 drawing_fhr_mean_of_l5_40 drawing',\n",
       " 725: '725_drawing fhr_stddev_of_l6_40_fhr_stddev_of_l6_40_fhr_stddev_of_l6_40 drawing_drawing',\n",
       " 726: '726_fhr_stddev_of_l6_44_drawing fhr_stddev_of_l6_44_fhr_stddev_of_l6_44 drawing_drawing',\n",
       " 727: '727_drawing fhr_lanes_of_l6_44_fhr_lanes_of_l6_44_fhr_lanes_of_l6_44 drawing_drawing',\n",
       " 728: '728_drawing fhr_occ_of_l6_44_fhr_occ_of_l6_44_fhr_occ_of_l6_44 drawing_drawing',\n",
       " 729: '729_fhr_mean_of_l6_45_drawing fhr_mean_of_l6_45_fhr_mean_of_l6_45 drawing_drawing',\n",
       " 730: '730_drawing fhr_lanes_of_l6_45_fhr_lanes_of_l6_45_fhr_lanes_of_l6_45 drawing_fhr_occ_of_l6_45 drawing',\n",
       " 731: '731_fhr_occ_of_l6_45 drawing_drawing fhr_occ_of_l6_45_fhr_occ_of_l6_45_drawing',\n",
       " 732: '732_fhr_mean_of_l6_46_drawing fhr_mean_of_l6_46_fhr_mean_of_l6_46 drawing_drawing',\n",
       " 733: '733_drawing fhr_mean_of_l6_42_fhr_mean_of_l6_42_fhr_mean_of_l6_42 drawing_drawing',\n",
       " 734: '734_fhr_stddev_of_l6_46_drawing fhr_stddev_of_l6_46_fhr_stddev_of_l6_46 drawing_fhr_stddev_of_l6_47',\n",
       " 735: '735_fhr_lanes_of_l6_46 drawing_fhr_lanes_of_l6_46_drawing fhr_lanes_of_l6_46_drawing',\n",
       " 736: '736_fhr_occ_of_l6_46_drawing fhr_occ_of_l6_46_fhr_occ_of_l6_46 drawing_drawing',\n",
       " 737: '737_drawing fhr_mean_of_l6_47_fhr_mean_of_l6_47_fhr_mean_of_l6_47 drawing_fhr_mean_of_l6_45 drawing',\n",
       " 738: '738_fhr_stddev_of_l6_47 drawing_fhr_stddev_of_l6_47_drawing fhr_stddev_of_l6_47_fhr_stddev_of_l6_46 drawing',\n",
       " 739: '739_fhr_lanes_of_l6_47 drawing_drawing fhr_lanes_of_l6_47_fhr_lanes_of_l6_47_drawing',\n",
       " 740: '740_fhr_occ_of_l6_47 drawing_fhr_occ_of_l6_47_drawing fhr_occ_of_l6_47_fhr_occ_of_l6_46 drawing',\n",
       " 741: '741_fhr_mean_of_l6_44_drawing fhr_mean_of_l6_44_fhr_mean_of_l6_44 drawing_drawing',\n",
       " 742: '742_drawing fhr_mean_of_l6_36_fhr_mean_of_l6_36_fhr_mean_of_l6_36 drawing_drawing',\n",
       " 743: '743_fhr_stddev_of_l6_36 drawing_drawing fhr_stddev_of_l6_36_fhr_stddev_of_l6_36_drawing',\n",
       " 744: '744_drawing fhr_lanes_of_l6_36_fhr_lanes_of_l6_36_fhr_lanes_of_l6_36 drawing_fhr_mean_of_l6_36 drawing',\n",
       " 745: '745_fhr_occ_of_l6_36_drawing fhr_occ_of_l6_36_fhr_occ_of_l6_36 drawing_drawing',\n",
       " 746: '746_fhr_mean_of_l6_37_drawing fhr_mean_of_l6_37_fhr_mean_of_l6_37 drawing_drawing',\n",
       " 747: '747_fhr_stddev_of_l6_37_drawing fhr_stddev_of_l6_37_fhr_stddev_of_l6_37 drawing_drawing',\n",
       " 748: '748_fhr_lanes_of_l6_37_drawing fhr_lanes_of_l6_37_fhr_lanes_of_l6_37 drawing_drawing',\n",
       " 749: '749_drawing fhr_occ_of_l6_33_fhr_occ_of_l6_33_fhr_occ_of_l6_33 drawing_drawing',\n",
       " 750: '750_fhr_occ_of_l1_04_drawing fhr_occ_of_l1_04_fhr_occ_of_l1_04 drawing_drawing',\n",
       " 751: '751_fhr_mean_of_l1_05_drawing fhr_mean_of_l1_05_fhr_mean_of_l1_05 drawing_fhr_mean_of_l0_05 drawing',\n",
       " 752: '752_fhr_stddev_of_l1_05_drawing fhr_stddev_of_l1_05_fhr_stddev_of_l1_05 drawing_fhr_stddev_of_l0_05 drawing',\n",
       " 753: '753_fhr_chips_of_l1_05_drawing fhr_chips_of_l1_05_fhr_chips_of_l1_05 drawing_fhr_mean_of_l1_05 drawing',\n",
       " 754: '754_fhr_occ_of_l1_05_drawing fhr_occ_of_l1_05_fhr_occ_of_l1_05 drawing_fhr_occ_of_l0_05 drawing',\n",
       " 755: '755_fhr_mean_of_l1_02_drawing fhr_mean_of_l1_02_fhr_mean_of_l1_02 drawing_fhr_mean_of_l1_11',\n",
       " 756: '756_fhr_stddev_of_l1_02_drawing fhr_stddev_of_l1_02_fhr_stddev_of_l1_02 drawing_drawing',\n",
       " 757: '757_drawing fhr_chips_of_l1_02_fhr_chips_of_l1_02_fhr_chips_of_l1_02 drawing_fhr_mean_of_l1_02',\n",
       " 758: '758_drawing fhr_stddev_of_l1_06_fhr_stddev_of_l1_06_fhr_stddev_of_l1_06 drawing_fhr_stddev_of_l0_06 drawing',\n",
       " 759: '759_drawing fhr_chips_of_l1_06_fhr_chips_of_l1_06_fhr_chips_of_l1_06 drawing_drawing',\n",
       " 760: '760_drawing fhr_mean_of_l1_07_fhr_mean_of_l1_07_fhr_mean_of_l1_07 drawing_drawing',\n",
       " 761: '761_drawing fhr_chips_of_l1_07_fhr_chips_of_l1_07_fhr_chips_of_l1_07 drawing_fhr_chips_of_l0_07 drawing',\n",
       " 762: '762_drawing fhr_occ_of_l1_07_fhr_occ_of_l1_07_fhr_occ_of_l1_07 drawing_drawing',\n",
       " 763: '763_drawing fhr_mean_of_l1_04_fhr_mean_of_l1_04_fhr_mean_of_l1_04 drawing_drawing',\n",
       " 764: '764_fhr_stddev_of_l1_04_drawing fhr_stddev_of_l1_04_fhr_stddev_of_l1_04 drawing_fhr_stddev_of_l0_04 drawing',\n",
       " 765: '765_fhr_chips_of_l1_04_drawing fhr_chips_of_l1_04_fhr_chips_of_l1_04 drawing_fhr_chips_of_l1_04 publishing',\n",
       " 766: '766_fhr_occ_of_l0_03_drawing fhr_occ_of_l0_03_fhr_occ_of_l0_03 drawing_00 00',\n",
       " 767: '767_drawing fhr_mean_of_l0_04_fhr_mean_of_l0_04_fhr_mean_of_l0_04 drawing_fhrcheck fhrtask',\n",
       " 768: '768_fhr_stddev_of_l0_04_drawing fhr_stddev_of_l0_04_fhr_stddev_of_l0_04 drawing_drawing fhr_stddev_of_l1_04',\n",
       " 769: '769_fhr_chips_of_l0_04_drawing fhr_chips_of_l0_04_fhr_chips_of_l0_04 drawing_fhr_chips_of_l1_04 drawing',\n",
       " 770: '770_fhr_occ_of_l0_04_drawing fhr_occ_of_l0_04_fhr_occ_of_l0_04 drawing_fhr_occ_of_l1_04 drawing',\n",
       " 771: '771_drawing fhr_mean_of_l0_05_fhr_mean_of_l0_05_fhr_mean_of_l0_05 drawing_fhr_mean_of_l1_05',\n",
       " 772: '772_drawing fhr_stddev_of_l0_05_fhr_stddev_of_l0_05_fhr_stddev_of_l0_05 drawing_drawing fhr_stddev_of_l1_05',\n",
       " 773: '773_fhr_mean_of_l1_06_drawing fhr_mean_of_l1_06_fhr_mean_of_l1_06 drawing_fhr_mean_of_l0_06 drawing',\n",
       " 774: '774_fhr_occ_of_l6_41 drawing_fhr_occ_of_l6_41_drawing fhr_occ_of_l6_41_drawing',\n",
       " 775: '775_fhr_chips_of_l0_05_drawing fhr_chips_of_l0_05_fhr_chips_of_l0_05 drawing_fhr_chips_of_l1_05 drawing',\n",
       " 776: '776_fhr_mean_of_l0_06_drawing fhr_mean_of_l0_06_fhr_mean_of_l0_06 drawing_fhr_mean_of_l1_06',\n",
       " 777: '777_drawing fhr_stddev_of_l0_06_fhr_stddev_of_l0_06_fhr_stddev_of_l0_06 drawing_fhr_stddev_of_l1_06 drawing',\n",
       " 778: '778_fhr_occ_of_l0_06 drawing_drawing fhr_occ_of_l0_06_fhr_occ_of_l0_06_fhr_occ_of_l1_06',\n",
       " 779: '779_drawing fhr_mean_of_l0_07_fhr_mean_of_l0_07_fhr_mean_of_l0_07 drawing_drawing fhr_mean_of_l2_07',\n",
       " 780: '780_fhr_stddev_of_l0_07_fhr_stddev_of_l0_07 drawing_drawing fhr_stddev_of_l0_07_drawing fhr_stddev_of_l1_07',\n",
       " 781: '781_drawing fhr_chips_of_l0_03_fhr_chips_of_l0_03_fhr_chips_of_l0_03 drawing_drawing',\n",
       " 782: '782_drawing fhr_chips_of_l1_13_fhr_chips_of_l1_13_fhr_chips_of_l1_13 drawing_fhr_chips_of_l1_13 generating',\n",
       " 783: '783_fhr_mean_of_l1_14_drawing fhr_mean_of_l1_14_fhr_mean_of_l1_14 drawing_drawing fhr_mean_of_l2_14',\n",
       " 784: '784_fhr_stddev_of_l1_14_drawing fhr_stddev_of_l1_14_fhr_stddev_of_l1_14 drawing_drawing fhr_stddev_of_l2_14',\n",
       " 785: '785_fhr_stddev_of_l1_10_drawing fhr_stddev_of_l1_10_fhr_stddev_of_l1_10 drawing_fhr_stddev_of_l2_10 drawing',\n",
       " 786: '786_fhr_chips_of_l1_10_drawing fhr_chips_of_l1_10_fhr_chips_of_l1_10 drawing_drawing',\n",
       " 787: '787_fhr_occ_of_l1_10 drawing_drawing fhr_occ_of_l1_10_fhr_occ_of_l1_10_fhr_occ_of_l3_10',\n",
       " 788: '788_fhr_mean_of_l1_11_drawing fhr_mean_of_l1_11_fhr_mean_of_l1_11 drawing_drawing',\n",
       " 789: '789_drawing fhr_stddev_of_l1_11_fhr_stddev_of_l1_11_fhr_stddev_of_l1_11 drawing_fhr_stddev_of_l0_11 drawing',\n",
       " 790: '790_fhr_occ_of_l1_15_drawing fhr_occ_of_l1_15_fhr_occ_of_l1_15 drawing_fhr_occ_of_l3_15 drawing',\n",
       " 791: '791_fhr_mean_of_l2_00_drawing fhr_mean_of_l2_00_fhr_mean_of_l2_00 drawing_drawing',\n",
       " 792: '792_fhr_stddev_of_l2_00_drawing fhr_stddev_of_l2_00_fhr_stddev_of_l2_00 drawing_drawing',\n",
       " 793: '793_fhr_stddev_of_l1_12_drawing fhr_stddev_of_l1_12_fhr_stddev_of_l1_12 drawing_fhr_stddev_of_l2_12',\n",
       " 794: '794_drawing fhr_chips_of_l1_12_fhr_chips_of_l1_12_fhr_chips_of_l1_12 drawing_fhr_chips_of_l2_12',\n",
       " 795: '795_fhr_occ_of_l1_12 drawing_fhr_occ_of_l1_12_drawing fhr_occ_of_l1_12_fhr_occ_of_l2_12 drawing',\n",
       " 796: '796_fhr_mean_of_l1_13_drawing fhr_mean_of_l1_13_fhr_mean_of_l1_13 drawing_dpl ccdb',\n",
       " 797: '797_fhr_stddev_of_l1_13_drawing fhr_stddev_of_l1_13_fhr_stddev_of_l1_13 drawing_drawing',\n",
       " 798: '798_fhr_occ_of_l1_00_drawing fhr_occ_of_l1_00_fhr_occ_of_l1_00 drawing_drawing',\n",
       " 799: '799_drawing fhr_chips_of_l1_01_fhr_chips_of_l1_01_fhr_chips_of_l1_01 drawing_drawing',\n",
       " 800: '800_drawing fhr_occ_of_l1_01_fhr_occ_of_l1_01_fhr_occ_of_l1_01 drawing_drawing',\n",
       " 801: '801_fhr_chips_of_l1_14_drawing fhr_chips_of_l1_14_fhr_chips_of_l1_14 drawing_fhr_chips_of_l2_14',\n",
       " 802: '802_fhr_occ_of_l1_14_drawing fhr_occ_of_l1_14_fhr_occ_of_l1_14 drawing_fhr_occ_of_l2_14 drawing',\n",
       " 803: '803_fhr_mean_of_l1_15 drawing_fhr_mean_of_l1_15_drawing fhr_mean_of_l1_15_fhr_mean_of_l2_15',\n",
       " 804: '804_fhr_stddev_of_l1_15_drawing fhr_stddev_of_l1_15_fhr_stddev_of_l1_15 drawing_drawing fhr_stddev_of_l2_15',\n",
       " 805: '805_fhr_chips_of_l1_15_drawing fhr_chips_of_l1_15_fhr_chips_of_l1_15 drawing_drawing fhr_chips_of_l2_15',\n",
       " 806: '806_drawing fhr_occ_of_l1_02_fhr_occ_of_l1_02_fhr_occ_of_l1_02 drawing_drawing',\n",
       " 807: '807_fhr_mean_of_l1_03_drawing fhr_mean_of_l1_03_fhr_mean_of_l1_03 drawing_drawing',\n",
       " 808: '808_fhr_stddev_of_l1_03_drawing fhr_stddev_of_l1_03_fhr_stddev_of_l1_03 drawing_drawing',\n",
       " 809: '809_fhr_chips_of_l1_03_drawing fhr_chips_of_l1_03_fhr_chips_of_l1_03 drawing_drawing',\n",
       " 810: '810_drawing fhr_occ_of_l1_03_fhr_occ_of_l1_03_fhr_occ_of_l1_03 drawing_fhr_occ_of_l2_03 drawing',\n",
       " 811: '811_fhr_mean_of_l1_00 drawing_drawing fhr_mean_of_l1_00_fhr_mean_of_l1_00_drawing fhr_mean_of_l1_01',\n",
       " 812: '812_fhr_stddev_of_l1_00_drawing fhr_stddev_of_l1_00_fhr_stddev_of_l1_00 drawing_drawing',\n",
       " 813: '813_drawing fhr_chips_of_l1_00_fhr_chips_of_l1_00_fhr_chips_of_l1_00 drawing_drawing',\n",
       " 814: '814_fhr_stddev_of_l2_06 drawing_drawing fhr_stddev_of_l2_06_fhr_stddev_of_l2_06_drawing',\n",
       " 815: '815_fhr_chips_of_l2_02_drawing fhr_chips_of_l2_02_fhr_chips_of_l2_02 drawing_38 stave',\n",
       " 816: '816_fhr_occ_of_l2_02_drawing fhr_occ_of_l2_02_fhr_occ_of_l2_02 drawing_drawing',\n",
       " 817: '817_fhr_mean_of_l2_03_drawing fhr_mean_of_l2_03_fhr_mean_of_l2_03 drawing_drawing',\n",
       " 818: '818_drawing fhr_stddev_of_l2_03_fhr_stddev_of_l2_03_fhr_stddev_of_l2_03 drawing_fhr_stddev_of_l0_03 drawing',\n",
       " 819: '819_fhr_chips_of_l2_03_drawing fhr_chips_of_l2_03_fhr_chips_of_l2_03 drawing_drawing',\n",
       " 820: '820_fhr_occ_of_l2_03_drawing fhr_occ_of_l2_03_fhr_occ_of_l2_03 drawing_drawing',\n",
       " 821: '821_fhr_mean_of_l2_04_drawing fhr_mean_of_l2_04_fhr_mean_of_l2_04 drawing_drawing',\n",
       " 822: '822_fhr_stddev_of_l2_08_drawing fhr_stddev_of_l2_08_fhr_stddev_of_l2_08 drawing_fhr_stddev_of_l2_07 drawing',\n",
       " 823: '823_fhr_chips_of_l2_04_drawing fhr_chips_of_l2_04_fhr_chips_of_l2_04 drawing_drawing',\n",
       " 824: '824_fhr_occ_of_l2_04_drawing fhr_occ_of_l2_04_fhr_occ_of_l2_04 drawing_drawing',\n",
       " 825: '825_fhr_mean_of_l2_05_drawing fhr_mean_of_l2_05_fhr_mean_of_l2_05 drawing_drawing',\n",
       " 826: '826_fhr_stddev_of_l2_05 drawing_drawing fhr_stddev_of_l2_05_fhr_stddev_of_l2_05_drawing',\n",
       " 827: '827_fhr_chips_of_l2_05_drawing fhr_chips_of_l2_05_fhr_chips_of_l2_05 drawing_drawing',\n",
       " 828: '828_drawing fhr_occ_of_l2_05_fhr_occ_of_l2_05_fhr_occ_of_l2_05 drawing_drawing',\n",
       " 829: '829_drawing fhr_mean_of_l2_06_fhr_mean_of_l2_06_fhr_mean_of_l2_06 drawing_fhr_occ_of_l3_19 drawing',\n",
       " 830: '830_fhr_mean_of_l1_10_drawing fhr_mean_of_l1_10_fhr_mean_of_l1_10 drawing_drawing',\n",
       " 831: '831_drawing fhr_chips_of_l2_06_fhr_chips_of_l2_06_fhr_chips_of_l2_06 drawing_drawing',\n",
       " 832: '832_fhr_occ_of_l2_06_drawing fhr_occ_of_l2_06_fhr_occ_of_l2_06 drawing_fhr_stddev_of_l2_06 drawing',\n",
       " 833: '833_fhr_mean_of_l2_07 drawing_drawing fhr_mean_of_l2_07_fhr_mean_of_l2_07_drawing',\n",
       " 834: '834_drawing fhr_stddev_of_l2_07_fhr_stddev_of_l2_07_fhr_stddev_of_l2_07 drawing_fhr_stddev_of_l2_08 drawing',\n",
       " 835: '835_fhr_chips_of_l2_07_drawing fhr_chips_of_l2_07_fhr_chips_of_l2_07 drawing_drawing',\n",
       " 836: '836_fhr_occ_of_l2_07_drawing fhr_occ_of_l2_07_fhr_occ_of_l2_07 drawing_fhr_mean_of_l5_02',\n",
       " 837: '837_fhr_mean_of_l2_08_drawing fhr_mean_of_l2_08_fhr_mean_of_l2_08 drawing_fhr_mean_of_l1_08 drawing',\n",
       " 838: '838_fhr_occ_of_l1_11_drawing fhr_occ_of_l1_11_fhr_occ_of_l1_11 drawing_fhr_occ_of_l0_11 drawing',\n",
       " 839: '839_drawing fhr_mean_of_l1_12_fhr_mean_of_l1_12_fhr_mean_of_l1_12 drawing_drawing',\n",
       " 840: '840_drawing fhr_stddev_of_l1_08_fhr_stddev_of_l1_08_fhr_stddev_of_l1_08 drawing_drawing',\n",
       " 841: '841_drawing fhr_chips_of_l1_08_fhr_chips_of_l1_08_fhr_chips_of_l1_08 drawing_drawing',\n",
       " 842: '842_drawing fhr_occ_of_l1_08_fhr_occ_of_l1_08_fhr_occ_of_l1_08 drawing_drawing',\n",
       " 843: '843_drawing fhr_mean_of_l1_09_fhr_mean_of_l1_09_fhr_mean_of_l1_09 drawing_fhr_mean_of_l2_09 drawing',\n",
       " 844: '844_drawing fhr_chips_of_l1_09_fhr_chips_of_l1_09_fhr_chips_of_l1_09 drawing_fhr_chips_of_l0_09 drawing',\n",
       " 845: '845_fhr_occ_of_l1_09_drawing fhr_occ_of_l1_09_fhr_occ_of_l1_09 drawing_drawing',\n",
       " 846: '846_drawing fhr_chips_of_l2_10_fhr_chips_of_l2_10_fhr_chips_of_l2_10 drawing_5e4a96529c0a6639aeb7ce015db0347827add7b1 ft0',\n",
       " 847: '847_drawing fhr_occ_of_l2_10_fhr_occ_of_l2_10_fhr_occ_of_l2_10 drawing_drawing',\n",
       " 848: '848_drawing fhr_mean_of_l2_11_fhr_mean_of_l2_11_fhr_mean_of_l2_11 drawing_drawing',\n",
       " 849: '849_fhr_stddev_of_l2_11_drawing fhr_stddev_of_l2_11_fhr_stddev_of_l2_11 drawing_drawing',\n",
       " 850: '850_drawing fhr_chips_of_l2_11_fhr_chips_of_l2_11_fhr_chips_of_l2_11 drawing_drawing',\n",
       " 851: '851_fhr_occ_of_l2_11_drawing fhr_occ_of_l2_11_fhr_occ_of_l2_11 drawing_drawing',\n",
       " 852: '852_drawing fhr_mean_of_l2_12_fhr_mean_of_l2_12_fhr_mean_of_l2_12 drawing_fhr_mean_of_l1_12 drawing',\n",
       " 853: '853_drawing fhr_stddev_of_l2_12_fhr_stddev_of_l2_12_fhr_stddev_of_l2_12 drawing_fhr_stddev_of_l1_12 drawing',\n",
       " 854: '854_fhr_chips_of_l2_12_drawing fhr_chips_of_l2_12_fhr_chips_of_l2_12 drawing_drawing',\n",
       " 855: '855_drawing fhr_occ_of_l2_12_fhr_occ_of_l2_12_fhr_occ_of_l2_12 drawing_drawing',\n",
       " 856: '856_drawing fhr_mean_of_l2_13_fhr_mean_of_l2_13_fhr_mean_of_l2_13 drawing_drawing',\n",
       " 857: '857_fhr_stddev_of_l2_13_drawing fhr_stddev_of_l2_13_fhr_stddev_of_l2_13 drawing_drawing',\n",
       " 858: '858_fhr_chips_of_l2_13_drawing fhr_chips_of_l2_13_fhr_chips_of_l2_13 drawing_fhr_chips_of_l1_13 drawing',\n",
       " 859: '859_drawing fhr_occ_of_l2_13_fhr_occ_of_l2_13_fhr_occ_of_l2_13 drawing_fhr_occ_of_l1_13 drawing',\n",
       " 860: '860_drawing fhr_mean_of_l2_14_fhr_mean_of_l2_14_fhr_mean_of_l2_14 drawing_drawing',\n",
       " 861: '861_drawing fhr_stddev_of_l2_14_fhr_stddev_of_l2_14_fhr_stddev_of_l2_14 drawing_fhr_stddev_of_l1_14 drawing',\n",
       " 862: '862_drawing fhr_stddev_of_l2_02_fhr_stddev_of_l2_02_fhr_stddev_of_l2_02 drawing_common th2reductor',\n",
       " 863: '863_drawing fhr_chips_of_l2_14_fhr_chips_of_l2_14_fhr_chips_of_l2_14 drawing_drawing',\n",
       " 864: '864_fhr_occ_of_l2_14_drawing fhr_occ_of_l2_14_fhr_occ_of_l2_14 drawing_drawing',\n",
       " 865: '865_drawing fhr_stddev_of_l2_15_fhr_stddev_of_l2_15_fhr_stddev_of_l2_15 drawing_fhr_stddev_of_l1_15 drawing',\n",
       " 866: '866_drawing fhr_chips_of_l2_15_fhr_chips_of_l2_15_fhr_chips_of_l2_15 drawing_drawing',\n",
       " 867: '867_drawing fhr_mean_of_l2_16_fhr_mean_of_l2_16_fhr_mean_of_l2_16 drawing_drawing',\n",
       " 868: '868_drawing fhr_stddev_of_l2_16_fhr_stddev_of_l2_16_fhr_stddev_of_l2_16 drawing_fhr_stddev_of_l2_17',\n",
       " 869: '869_fhr_chips_of_l2_16_drawing fhr_chips_of_l2_16_fhr_chips_of_l2_16 drawing_fhr_chips_of_l2_17',\n",
       " 870: '870_drawing fhr_stddev_of_l2_04_fhr_stddev_of_l2_04_fhr_stddev_of_l2_04 drawing_drawing',\n",
       " 871: '871_fhr_chips_of_l2_00_drawing fhr_chips_of_l2_00_fhr_chips_of_l2_00 drawing_drawing',\n",
       " 872: '872_fhr_occ_of_l2_00_drawing fhr_occ_of_l2_00_fhr_occ_of_l2_00 drawing_drawing',\n",
       " 873: '873_drawing fhr_mean_of_l2_01_fhr_mean_of_l2_01_fhr_mean_of_l2_01 drawing_fhr_mean_of_l1_02 drawing',\n",
       " 874: '874_drawing fhr_stddev_of_l2_01_fhr_stddev_of_l2_01_fhr_stddev_of_l2_01 drawing_fhr_stddev_of_l2_00 drawing',\n",
       " 875: '875_fhr_chips_of_l2_01_drawing fhr_chips_of_l2_01_fhr_chips_of_l2_01 drawing_fhr_chips_of_l0_02 drawing',\n",
       " 876: '876_fhr_occ_of_l2_01_drawing fhr_occ_of_l2_01_fhr_occ_of_l2_01 drawing_fhr_occ_of_l2_02 drawing',\n",
       " 877: '877_drawing fhr_mean_of_l2_02_fhr_mean_of_l2_02_fhr_mean_of_l2_02 drawing_drawing',\n",
       " 878: '878_fhr_stddev_of_l2_19_drawing fhr_stddev_of_l2_19_fhr_stddev_of_l2_19 drawing_fhr_stddev_of_l2_18 drawing',\n",
       " 879: '879_fhr_chips_of_l2_19_drawing fhr_chips_of_l2_19_fhr_chips_of_l2_19 drawing_42 109347',\n",
       " 880: '880_drawing fhr_occ_of_l2_19_fhr_occ_of_l2_19_fhr_occ_of_l2_19 drawing_drawing',\n",
       " 881: '881_drawing fhr_mean_of_l3_00_fhr_mean_of_l3_00_fhr_mean_of_l3_00 drawing_drawing',\n",
       " 882: '882_drawing fhr_stddev_of_l3_00_fhr_stddev_of_l3_00_fhr_stddev_of_l3_00 drawing_drawing',\n",
       " 883: '883_fhr_lanes_of_l3_00_drawing fhr_lanes_of_l3_00_fhr_lanes_of_l3_00 drawing_fhr_lanes_of_l3_01 drawing',\n",
       " 884: '884_drawing fhr_occ_of_l2_16_fhr_occ_of_l2_16_fhr_occ_of_l2_16 drawing_ft0 mo',\n",
       " 885: '885_fhr_mean_of_l2_17_drawing fhr_mean_of_l2_17_fhr_mean_of_l2_17 drawing_fhr_mean_of_l2_16 drawing',\n",
       " 886: '886_fhr_occ_of_l3_00_drawing fhr_occ_of_l3_00_fhr_occ_of_l3_00 drawing_drawing',\n",
       " 887: '887_fhr_mean_of_l3_01_drawing fhr_mean_of_l3_01_fhr_mean_of_l3_01 drawing_fhr_mean_of_l3_00 drawing',\n",
       " 888: '888_drawing fhr_stddev_of_l3_01_fhr_stddev_of_l3_01_fhr_stddev_of_l3_01 drawing_drawing',\n",
       " 889: '889_drawing fhr_lanes_of_l3_01_fhr_lanes_of_l3_01_fhr_lanes_of_l3_01 drawing_drawing',\n",
       " 890: '890_fhr_occ_of_l3_01_drawing fhr_occ_of_l3_01_fhr_occ_of_l3_01 drawing_fhr_occ_of_l3_00 drawing',\n",
       " 891: '891_fhr_stddev_of_l3_02_drawing fhr_stddev_of_l3_02_fhr_stddev_of_l3_02 drawing_drawing',\n",
       " 892: '892_fhr_occ_of_l2_18_drawing fhr_occ_of_l2_18_fhr_occ_of_l2_18 drawing_drawing',\n",
       " 893: '893_drawing fhr_mean_of_l2_19_fhr_mean_of_l2_19_fhr_mean_of_l2_19 drawing_drawing',\n",
       " 894: '894_fhr_occ_of_l3_02_drawing fhr_occ_of_l3_02_fhr_occ_of_l3_02 drawing_fhr_occ_of_l3_01 drawing',\n",
       " 895: '895_fhr_mean_of_l3_03_drawing fhr_mean_of_l3_03_fhr_mean_of_l3_03 drawing_fhr_mean_of_l3_02 drawing',\n",
       " 896: '896_drawing fhr_stddev_of_l3_03_fhr_stddev_of_l3_03_fhr_stddev_of_l3_03 drawing_fhr_stddev_of_l3_01 drawing',\n",
       " 897: '897_drawing fhr_lanes_of_l3_03_fhr_lanes_of_l3_03_fhr_lanes_of_l3_03 drawing_drawing fhr_lanes_of_l3_04',\n",
       " 898: '898_fhr_occ_of_l3_03_drawing fhr_occ_of_l3_03_fhr_occ_of_l3_03 drawing_drawing',\n",
       " 899: '899_fhr_mean_of_l3_04_drawing fhr_mean_of_l3_04_fhr_mean_of_l3_04 drawing_drawing',\n",
       " 900: '900_fhr_stddev_of_l3_04_drawing fhr_stddev_of_l3_04_fhr_stddev_of_l3_04 drawing_drawing',\n",
       " 901: '901_drawing fhr_lanes_of_l3_04_fhr_lanes_of_l3_04_fhr_lanes_of_l3_04 drawing_fhr_lanes_of_l3_04 saving',\n",
       " 902: '902_drawing fhr_chips_of_l2_08_fhr_chips_of_l2_08_fhr_chips_of_l2_08 drawing_fhr_chips_of_l2_07 drawing',\n",
       " 903: '903_fhr_occ_of_l2_08_drawing fhr_occ_of_l2_08_fhr_occ_of_l2_08 drawing_drawing',\n",
       " 904: '904_fhr_mean_of_l2_09_drawing fhr_mean_of_l2_09_fhr_mean_of_l2_09 drawing_drawing',\n",
       " 905: '905_drawing fhr_stddev_of_l2_09_fhr_stddev_of_l2_09_fhr_stddev_of_l2_09 drawing_drawing fhr_stddev_of_l1_09',\n",
       " 906: '906_drawing fhr_chips_of_l2_09_fhr_chips_of_l2_09_fhr_chips_of_l2_09 drawing_fhr_chips_of_l1_14 drawing',\n",
       " 907: '907_drawing fhr_occ_of_l2_09_fhr_occ_of_l2_09_fhr_occ_of_l2_09 drawing_drawing',\n",
       " 908: '908_drawing fhr_mean_of_l2_10_fhr_mean_of_l2_10_fhr_mean_of_l2_10 drawing_drawing',\n",
       " 909: '909_fhr_stddev_of_l2_10_drawing fhr_stddev_of_l2_10_fhr_stddev_of_l2_10 drawing_drawing',\n",
       " 910: '910_drawing fhr_occ_of_l3_07_fhr_occ_of_l3_07_fhr_occ_of_l3_07 drawing_fhr_occ_of_l3_08 drawing',\n",
       " 911: '911_fhr_mean_of_l3_08_drawing fhr_mean_of_l3_08_fhr_mean_of_l3_08 drawing_drawing',\n",
       " 912: '912_fhr_stddev_of_l3_08_drawing fhr_stddev_of_l3_08_fhr_stddev_of_l3_08 drawing_accepted',\n",
       " 913: '913_drawing fhr_lanes_of_l3_08_fhr_lanes_of_l3_08_fhr_lanes_of_l3_08 drawing_drawing',\n",
       " 914: '914_fhr_occ_of_l3_04_drawing fhr_occ_of_l3_04_fhr_occ_of_l3_04 drawing_drawing',\n",
       " 915: '915_drawing fhr_mean_of_l3_05_fhr_mean_of_l3_05_fhr_mean_of_l3_05 drawing_drawing',\n",
       " 916: '916_fhr_stddev_of_l3_05_drawing fhr_stddev_of_l3_05_fhr_stddev_of_l3_05 drawing_drawing',\n",
       " 917: '917_fhr_lanes_of_l3_05_drawing fhr_lanes_of_l3_05_fhr_lanes_of_l3_05 drawing_drawing',\n",
       " 918: '918_drawing fhr_occ_of_l3_09_fhr_occ_of_l3_09_fhr_occ_of_l3_09 drawing_drawing',\n",
       " 919: '919_fhr_mean_of_l3_10_drawing fhr_mean_of_l3_10_fhr_mean_of_l3_10 drawing_drawing',\n",
       " 920: '920_fhr_stddev_of_l3_10 drawing_drawing fhr_stddev_of_l3_10_fhr_stddev_of_l3_10_drawing',\n",
       " 921: '921_drawing fhr_lanes_of_l3_10_fhr_lanes_of_l3_10_fhr_lanes_of_l3_10 drawing_drawing',\n",
       " 922: '922_drawing fhr_occ_of_l3_06_fhr_occ_of_l3_06_fhr_occ_of_l3_06 drawing_drawing',\n",
       " 923: '923_fhr_mean_of_l3_07_drawing fhr_mean_of_l3_07_fhr_mean_of_l3_07 drawing_fhr_mean_of_l3_06 drawing',\n",
       " 924: '924_fhr_stddev_of_l3_07_drawing fhr_stddev_of_l3_07_fhr_stddev_of_l3_07 drawing_fhr_stddev_of_l3_06 drawing',\n",
       " 925: '925_fhr_lanes_of_l3_07_drawing fhr_lanes_of_l3_07_fhr_lanes_of_l3_07 drawing_fhr_lanes_of_l3_07 saving',\n",
       " 926: '926_fhr_occ_of_l3_11_drawing fhr_occ_of_l3_11_fhr_occ_of_l3_11 drawing_drawing',\n",
       " 927: '927_fhr_mean_of_l3_12_drawing fhr_mean_of_l3_12_fhr_mean_of_l3_12 drawing_drawing',\n",
       " 928: '928_drawing fhr_stddev_of_l3_12_fhr_stddev_of_l3_12_fhr_stddev_of_l3_12 drawing_fhr_occ_of_l6_43 drawing',\n",
       " 929: '929_fhr_lanes_of_l3_12_drawing fhr_lanes_of_l3_12_fhr_lanes_of_l3_12 drawing_drawing',\n",
       " 930: '930_drawing fhr_occ_of_l3_08_fhr_occ_of_l3_08_fhr_occ_of_l3_08 drawing_fhr_occ_of_l3_08 checkrunner',\n",
       " 931: '931_drawing fhr_mean_of_l3_09_fhr_mean_of_l3_09_fhr_mean_of_l3_09 drawing_fhr_mean_of_l3_09 sending',\n",
       " 932: '932_fhr_stddev_of_l3_09_drawing fhr_stddev_of_l3_09_fhr_stddev_of_l3_09 drawing_drawing',\n",
       " 933: '933_fhr_lanes_of_l3_09_drawing fhr_lanes_of_l3_09_fhr_lanes_of_l3_09 drawing_fhr_lanes_of_l4_09 drawing',\n",
       " 934: '934_drawing fhr_stddev_of_l2_17_fhr_stddev_of_l2_17_fhr_stddev_of_l2_17 drawing_fhr_stddev_of_l2_16 drawing',\n",
       " 935: '935_drawing fhr_chips_of_l2_17_fhr_chips_of_l2_17_fhr_chips_of_l2_17 drawing_drawing',\n",
       " 936: '936_fhr_occ_of_l2_17_drawing fhr_occ_of_l2_17_fhr_occ_of_l2_17 drawing_drawing',\n",
       " 937: '937_fhr_mean_of_l2_18_drawing fhr_mean_of_l2_18_fhr_mean_of_l2_18 drawing_fhr_mean_of_l2_19 drawing',\n",
       " 938: '938_drawing fhr_stddev_of_l2_18_fhr_stddev_of_l2_18_fhr_stddev_of_l2_18 drawing_drawing',\n",
       " 939: '939_fhr_chips_of_l2_18_drawing fhr_chips_of_l2_18_fhr_chips_of_l2_18 drawing_drawing fhr_chips_of_l2_19',\n",
       " 940: '940_fhr_mean_of_l3_11_drawing fhr_mean_of_l3_11_fhr_mean_of_l3_11 drawing_drawing',\n",
       " 941: '941_drawing fhr_stddev_of_l3_11_fhr_stddev_of_l3_11_fhr_stddev_of_l3_11 drawing_drawing',\n",
       " 942: '942_fhr_stddev_of_l3_16_drawing fhr_stddev_of_l3_16_fhr_stddev_of_l3_16 drawing_drawing fhr_stddev_of_l3_17',\n",
       " 943: '943_fhr_lanes_of_l3_16_drawing fhr_lanes_of_l3_16_fhr_lanes_of_l3_16 drawing_drawing',\n",
       " 944: '944_drawing fhr_occ_of_l3_16_fhr_occ_of_l3_16_fhr_occ_of_l3_16 drawing_drawing',\n",
       " 945: '945_fhr_occ_of_l3_12_drawing fhr_occ_of_l3_12_fhr_occ_of_l3_12 drawing_drawing',\n",
       " 946: '946_fhr_mean_of_l3_13_drawing fhr_mean_of_l3_13_fhr_mean_of_l3_13 drawing_fhr_mean_of_l1_13 drawing',\n",
       " 947: '947_drawing fhr_stddev_of_l3_13_fhr_stddev_of_l3_13_fhr_stddev_of_l3_13 drawing_fhr_stddev_of_l2_13 drawing',\n",
       " 948: '948_drawing fhr_lanes_of_l3_13_fhr_lanes_of_l3_13_fhr_lanes_of_l3_13 drawing_fhr_lanes_of_l3_11 drawing',\n",
       " 949: '949_fhr_mean_of_l3_14_drawing fhr_mean_of_l3_14_fhr_mean_of_l3_14 drawing_fhr_mean_of_l3_15',\n",
       " 950: '950_drawing fhr_stddev_of_l3_18_fhr_stddev_of_l3_18 drawing_fhr_stddev_of_l3_18_drawing fhr_stddev_of_l3_19',\n",
       " 951: '951_fhr_lanes_of_l3_18_drawing fhr_lanes_of_l3_18_fhr_lanes_of_l3_18 drawing_drawing',\n",
       " 952: '952_fhr_occ_of_l3_18_drawing fhr_occ_of_l3_18_fhr_occ_of_l3_18 drawing_fhr_occ_of_l2_18 drawing',\n",
       " 953: '953_fhr_mean_of_l3_15_drawing fhr_mean_of_l3_15_fhr_mean_of_l3_15 drawing_fhr_mean_of_l3_14 drawing',\n",
       " 954: '954_fhr_stddev_of_l3_15 drawing_drawing fhr_stddev_of_l3_15_fhr_stddev_of_l3_15_fhr_stddev_of_l3_14 drawing',\n",
       " 955: '955_fhr_lanes_of_l3_15_drawing fhr_lanes_of_l3_15_fhr_lanes_of_l3_15 drawing_fhr_lanes_of_l3_15 raw',\n",
       " 956: '956_drawing fhr_occ_of_l3_15_fhr_occ_of_l3_15_fhr_occ_of_l3_15 drawing_fhr_occ_of_l4_19 drawing',\n",
       " 957: '957_drawing fhr_mean_of_l3_16_fhr_mean_of_l3_16_fhr_mean_of_l3_16 drawing_fhr_mean_of_l3_17',\n",
       " 958: '958_fhr_stddev_of_l3_20_drawing fhr_stddev_of_l3_20_fhr_stddev_of_l3_20 drawing_drawing',\n",
       " 959: '959_drawing fhr_lanes_of_l3_20_fhr_lanes_of_l3_20_fhr_lanes_of_l3_20 drawing_drawing',\n",
       " 960: '960_fhr_occ_of_l3_20_drawing fhr_occ_of_l3_20_fhr_occ_of_l3_20 drawing_drawing',\n",
       " 961: '961_drawing fhr_mean_of_l3_21_fhr_mean_of_l3_21_fhr_mean_of_l3_21 drawing_fhr_mean_of_l3_22 drawing',\n",
       " 962: '962_drawing fhr_stddev_of_l3_17_fhr_stddev_of_l3_17_fhr_stddev_of_l3_17 drawing_fhr_stddev_of_l3_16 drawing',\n",
       " 963: '963_fhr_lanes_of_l3_17_drawing fhr_lanes_of_l3_17_fhr_lanes_of_l3_17 drawing_drawing',\n",
       " 964: '964_fhr_occ_of_l3_17_drawing fhr_occ_of_l3_17_fhr_occ_of_l3_17 drawing_fhr_occ_of_l3_16 drawing',\n",
       " 965: '965_drawing fhr_mean_of_l3_18_fhr_mean_of_l3_18_fhr_mean_of_l3_18 drawing_fhr_mean_of_l3_19 drawing',\n",
       " 966: '966_fhr_occ_of_l3_05_drawing fhr_occ_of_l3_05_fhr_occ_of_l3_05 drawing_drawing',\n",
       " 967: '967_fhr_mean_of_l3_06_drawing fhr_mean_of_l3_06_fhr_mean_of_l3_06 drawing_drawing',\n",
       " 968: '968_fhr_stddev_of_l3_06_drawing fhr_stddev_of_l3_06_fhr_stddev_of_l3_06 drawing_drawing',\n",
       " 969: '969_fhr_lanes_of_l3_06_drawing fhr_lanes_of_l3_06_fhr_lanes_of_l3_06 drawing_drawing',\n",
       " 970: '970_fhr_mean_of_l3_19_drawing fhr_mean_of_l3_19_fhr_mean_of_l3_19 drawing_fhr_mean_of_l3_18 drawing',\n",
       " 971: '971_fhr_lanes_of_l3_19_drawing fhr_lanes_of_l3_19_fhr_lanes_of_l3_19 drawing_drawing',\n",
       " 972: '972_drawing fhr_occ_of_l3_19_fhr_occ_of_l3_19_fhr_occ_of_l3_19 drawing_drawing',\n",
       " 973: '973_drawing fhr_mean_of_l3_20_fhr_mean_of_l3_20_fhr_mean_of_l3_20 drawing_drawing',\n",
       " 974: '974_fhr_lanes_of_l4_00_drawing fhr_lanes_of_l4_00_fhr_lanes_of_l4_00 drawing_fhr_lanes_of_l4_00 storing',\n",
       " 975: '975_drawing fhr_occ_of_l4_00_fhr_occ_of_l4_00_fhr_occ_of_l4_00 drawing_fhr_occ_of_l4_22 drawing',\n",
       " 976: '976_fhr_mean_of_l4_01_drawing fhr_mean_of_l4_01_fhr_mean_of_l4_01 drawing_fhr_mean_of_l4_00 drawing',\n",
       " 977: '977_fhr_stddev_of_l3_21_drawing fhr_stddev_of_l3_21_fhr_stddev_of_l3_21 drawing_fhr_stddev_of_l3_22 drawing',\n",
       " 978: '978_fhr_lanes_of_l3_21_drawing fhr_lanes_of_l3_21_fhr_lanes_of_l3_21 drawing_drawing fhr_lanes_of_l3_23',\n",
       " 979: '979_drawing fhr_occ_of_l3_21_fhr_occ_of_l3_21_fhr_occ_of_l3_21 drawing_fhr_occ_of_l3_20 drawing',\n",
       " 980: '980_drawing fhr_mean_of_l3_22_fhr_mean_of_l3_22_fhr_mean_of_l3_22 drawing_min 128',\n",
       " 981: '981_drawing fhr_stddev_of_l3_22_fhr_stddev_of_l3_22_fhr_stddev_of_l3_22 drawing_drawing',\n",
       " 982: '982_drawing fhr_lanes_of_l4_02_fhr_lanes_of_l4_02_fhr_lanes_of_l4_02 drawing_drawing',\n",
       " 983: '983_fhr_occ_of_l4_02_drawing fhr_occ_of_l4_02_fhr_occ_of_l4_02 drawing_fhr_occ_of_l4_03 drawing',\n",
       " 984: '984_fhr_mean_of_l4_03_drawing fhr_mean_of_l4_03_fhr_mean_of_l4_03 drawing_fhr_mean_of_l4_05',\n",
       " 985: '985_fhr_stddev_of_l3_23 drawing_drawing fhr_stddev_of_l3_23_fhr_stddev_of_l3_23_drawing',\n",
       " 986: '986_drawing fhr_lanes_of_l3_23_fhr_lanes_of_l3_23_fhr_lanes_of_l3_23 drawing_scheme 25ns_159b_146_128_134_36bpi_8inj_3indiv',\n",
       " 987: '987_fhr_occ_of_l3_23_drawing fhr_occ_of_l3_23_fhr_occ_of_l3_23 drawing_drawing',\n",
       " 988: '988_fhr_mean_of_l4_00_drawing fhr_mean_of_l4_00_fhr_mean_of_l4_00 drawing_drawing fhr_mean_of_l4_12',\n",
       " 989: '989_drawing fhr_stddev_of_l4_00_fhr_stddev_of_l4_00_fhr_stddev_of_l4_00 drawing_drawing',\n",
       " 990: '990_drawing fhr_lanes_of_l4_04_fhr_lanes_of_l4_04_fhr_lanes_of_l4_04 drawing_drawing',\n",
       " 991: '991_fhr_occ_of_l4_04_drawing fhr_occ_of_l4_04_fhr_occ_of_l4_04 drawing_drawing',\n",
       " 992: '992_drawing fhr_mean_of_l4_05_fhr_mean_of_l4_05_fhr_mean_of_l4_05 drawing_drawing',\n",
       " 993: '993_fhr_stddev_of_l4_01_drawing fhr_stddev_of_l4_01_fhr_stddev_of_l4_01 drawing_fhr_stddev_of_l4_02 drawing',\n",
       " 994: '994_fhr_lanes_of_l4_01_drawing fhr_lanes_of_l4_01_fhr_lanes_of_l4_01 drawing_drawing',\n",
       " 995: '995_drawing fhr_occ_of_l4_01_fhr_occ_of_l4_01_fhr_occ_of_l4_01 drawing_fhr_occ_of_l1_01 generating',\n",
       " 996: '996_fhr_mean_of_l4_02_drawing fhr_mean_of_l4_02_fhr_mean_of_l4_02 drawing_drawing',\n",
       " 997: '997_fhr_stddev_of_l4_02_drawing fhr_stddev_of_l4_02_fhr_stddev_of_l4_02 drawing_drawing',\n",
       " 998: '998_fhr_stddev_of_l3_14_drawing fhr_stddev_of_l3_14_fhr_stddev_of_l3_14 drawing_drawing fhr_stddev_of_l3_15',\n",
       " ...}"
      ]
     },
     "execution_count": 47,
     "metadata": {},
     "output_type": "execute_result"
    }
   ],
   "source": [
    "topic_model.model.topic_labels_"
   ]
  },
  {
   "cell_type": "code",
   "execution_count": 8,
   "metadata": {},
   "outputs": [
    {
     "data": {
      "application/vnd.plotly.v1+json": {
       "config": {
        "plotlyServerURL": "https://plot.ly"
       },
       "data": [
        {
         "hoverinfo": "text",
         "hovertext": [
          "<b>Topic 0</b><br>Words: sending quality, objects sending, quality objects, sending, objects",
          "<b>Topic 0</b><br>Words: sending quality, objects sending, quality objects, sending, objects"
         ],
         "marker": {
          "color": "#E69F00"
         },
         "name": "0_sending quality_objects sending_qualit...",
         "orientation": "h",
         "type": "bar",
         "visible": true,
         "x": [
          2591,
          135414
         ],
         "y": [
          "crashed",
          "not crashed"
         ]
        },
        {
         "hoverinfo": "text",
         "hovertext": [
          "<b>Topic 1</b><br>Words: startofcycle startofcycle, startofcycle, startofcycle configure, cycledurationntf startofcycle, used 90035181",
          "<b>Topic 1</b><br>Words: startofcycle startofcycle, startofcycle, startofcycle equipment, 279136 startofcycle, startofcycle bank"
         ],
         "marker": {
          "color": "#56B4E9"
         },
         "name": "1_startofcycle startofcycle_startofcycle...",
         "orientation": "h",
         "type": "bar",
         "visible": "legendonly",
         "x": [
          2608,
          106554
         ],
         "y": [
          "crashed",
          "not crashed"
         ]
        },
        {
         "hoverinfo": "text",
         "hovertext": [
          "<b>Topic 2</b><br>Words: storing qualityobjects, qualityobjects storing, qualityobjects, storing, qualityobjects teardown",
          "<b>Topic 2</b><br>Words: storing qualityobjects, qualityobjects storing, qualityobjects, storing, qualityobjects task"
         ],
         "marker": {
          "color": "#009E73"
         },
         "name": "2_storing qualityobjects_qualityobjects ...",
         "orientation": "h",
         "type": "bar",
         "visible": "legendonly",
         "x": [
          1415,
          99473
         ],
         "y": [
          "crashed",
          "not crashed"
         ]
        },
        {
         "hoverinfo": "text",
         "hovertext": [
          "<b>Topic 3</b><br>Words: endofcycle endofcycle, endofcycle, endofcycle received, 2arpa4s12ju task, 2arpa4s12ju",
          "<b>Topic 3</b><br>Words: endofcycle endofcycle, endofcycle, 1664473857380, timestamp 1664473857380, 1664473857380 updating"
         ],
         "marker": {
          "color": "#F0E442"
         },
         "name": "3_endofcycle endofcycle_endofcycle_16644...",
         "orientation": "h",
         "type": "bar",
         "visible": "legendonly",
         "x": [
          2522,
          105594
         ],
         "y": [
          "crashed",
          "not crashed"
         ]
        },
        {
         "hoverinfo": "text",
         "hovertext": [
          "<b>Topic 4</b><br>Words: check rawbunchminamplitude, rawbunchminamplitude quality, rawbunchminamplitude, quality good, good level",
          "<b>Topic 4</b><br>Words: check rawbunchminamplitude, rawbunchminamplitude quality, rawbunchminamplitude, good level, quality good"
         ],
         "marker": {
          "color": "#D55E00"
         },
         "name": "4_check rawbunchminamplitude_rawbunchmin...",
         "orientation": "h",
         "type": "bar",
         "visible": "legendonly",
         "x": [
          1539,
          78715
         ],
         "y": [
          "crashed",
          "not crashed"
         ]
        },
        {
         "hoverinfo": "text",
         "hovertext": [
          "<b>Topic 5</b><br>Words: updating the, triggertype timestamp, task due, trigger triggertype, triggertype",
          "<b>Topic 5</b><br>Words: updating the, triggertype timestamp, trigger triggertype, triggertype, to trigger"
         ],
         "marker": {
          "color": "#0072B2"
         },
         "name": "5_updating the_triggertype timestamp_tri...",
         "orientation": "h",
         "type": "bar",
         "visible": "legendonly",
         "x": [
          1564,
          62006
         ],
         "y": [
          "crashed",
          "not crashed"
         ]
        },
        {
         "hoverinfo": "text",
         "hovertext": [
          "<b>Topic 177</b><br>Words: dma for, roc starting, starting dma, dma, roc stopping",
          "<b>Topic 177</b><br>Words: dma for, starting dma, roc starting, dma, stopping dma"
         ],
         "marker": {
          "color": "#CC79A7"
         },
         "name": "177_dma for_roc starting_starting dma_dm...",
         "orientation": "h",
         "type": "bar",
         "visible": "legendonly",
         "x": [
          31066,
          34587
         ],
         "y": [
          "crashed",
          "not crashed"
         ]
        },
        {
         "hoverinfo": "text",
         "hovertext": [
          "<b>Topic 1882</b><br>Words: contiguous, non contiguous, contiguous timeframe, non, timeframe ids",
          "<b>Topic 1882</b><br>Words: non contiguous, contiguous timeframe, contiguous, non, ids"
         ],
         "marker": {
          "color": "#E69F00"
         },
         "name": "1882_non contiguous_contiguous timeframe...",
         "orientation": "h",
         "type": "bar",
         "visible": "legendonly",
         "x": [
          2675,
          53704
         ],
         "y": [
          "crashed",
          "not crashed"
         ]
        },
        {
         "hoverinfo": "text",
         "hovertext": [
          "<b>Topic 1910</b><br>Words: in nohgperddl, nohgperddl found, nohgperddl, in fec, fec",
          "<b>Topic 1910</b><br>Words: nohgperddl found, in nohgperddl, nohgperddl, of ddl, in fec"
         ],
         "marker": {
          "color": "#56B4E9"
         },
         "name": "1910_nohgperddl found_in nohgperddl_nohg...",
         "orientation": "h",
         "type": "bar",
         "visible": "legendonly",
         "x": [
          1276,
          43127
         ],
         "y": [
          "crashed",
          "not crashed"
         ]
        },
        {
         "hoverinfo": "text",
         "hovertext": [
          "<b>Topic 1923</b><br>Words: col, row, sm, in channel, channel col",
          "<b>Topic 1923</b><br>Words: row, col, channel col, in channel, sm"
         ],
         "marker": {
          "color": "#009E73"
         },
         "name": "1923_row_col_in channel_channel col",
         "orientation": "h",
         "type": "bar",
         "visible": "legendonly",
         "x": [
          2708,
          76209
         ],
         "y": [
          "crashed",
          "not crashed"
         ]
        }
       ],
       "layout": {
        "height": 900,
        "hoverlabel": {
         "bgcolor": "white",
         "font": {
          "family": "Rockwell",
          "size": 16
         }
        },
        "legend": {
         "title": {
          "text": "<b>Global Topic Representation"
         }
        },
        "template": {
         "data": {
          "bar": [
           {
            "error_x": {
             "color": "rgb(36,36,36)"
            },
            "error_y": {
             "color": "rgb(36,36,36)"
            },
            "marker": {
             "line": {
              "color": "white",
              "width": 0.5
             },
             "pattern": {
              "fillmode": "overlay",
              "size": 10,
              "solidity": 0.2
             }
            },
            "type": "bar"
           }
          ],
          "barpolar": [
           {
            "marker": {
             "line": {
              "color": "white",
              "width": 0.5
             },
             "pattern": {
              "fillmode": "overlay",
              "size": 10,
              "solidity": 0.2
             }
            },
            "type": "barpolar"
           }
          ],
          "carpet": [
           {
            "aaxis": {
             "endlinecolor": "rgb(36,36,36)",
             "gridcolor": "white",
             "linecolor": "white",
             "minorgridcolor": "white",
             "startlinecolor": "rgb(36,36,36)"
            },
            "baxis": {
             "endlinecolor": "rgb(36,36,36)",
             "gridcolor": "white",
             "linecolor": "white",
             "minorgridcolor": "white",
             "startlinecolor": "rgb(36,36,36)"
            },
            "type": "carpet"
           }
          ],
          "choropleth": [
           {
            "colorbar": {
             "outlinewidth": 1,
             "tickcolor": "rgb(36,36,36)",
             "ticks": "outside"
            },
            "type": "choropleth"
           }
          ],
          "contour": [
           {
            "colorbar": {
             "outlinewidth": 1,
             "tickcolor": "rgb(36,36,36)",
             "ticks": "outside"
            },
            "colorscale": [
             [
              0,
              "#440154"
             ],
             [
              0.1111111111111111,
              "#482878"
             ],
             [
              0.2222222222222222,
              "#3e4989"
             ],
             [
              0.3333333333333333,
              "#31688e"
             ],
             [
              0.4444444444444444,
              "#26828e"
             ],
             [
              0.5555555555555556,
              "#1f9e89"
             ],
             [
              0.6666666666666666,
              "#35b779"
             ],
             [
              0.7777777777777778,
              "#6ece58"
             ],
             [
              0.8888888888888888,
              "#b5de2b"
             ],
             [
              1,
              "#fde725"
             ]
            ],
            "type": "contour"
           }
          ],
          "contourcarpet": [
           {
            "colorbar": {
             "outlinewidth": 1,
             "tickcolor": "rgb(36,36,36)",
             "ticks": "outside"
            },
            "type": "contourcarpet"
           }
          ],
          "heatmap": [
           {
            "colorbar": {
             "outlinewidth": 1,
             "tickcolor": "rgb(36,36,36)",
             "ticks": "outside"
            },
            "colorscale": [
             [
              0,
              "#440154"
             ],
             [
              0.1111111111111111,
              "#482878"
             ],
             [
              0.2222222222222222,
              "#3e4989"
             ],
             [
              0.3333333333333333,
              "#31688e"
             ],
             [
              0.4444444444444444,
              "#26828e"
             ],
             [
              0.5555555555555556,
              "#1f9e89"
             ],
             [
              0.6666666666666666,
              "#35b779"
             ],
             [
              0.7777777777777778,
              "#6ece58"
             ],
             [
              0.8888888888888888,
              "#b5de2b"
             ],
             [
              1,
              "#fde725"
             ]
            ],
            "type": "heatmap"
           }
          ],
          "heatmapgl": [
           {
            "colorbar": {
             "outlinewidth": 1,
             "tickcolor": "rgb(36,36,36)",
             "ticks": "outside"
            },
            "colorscale": [
             [
              0,
              "#440154"
             ],
             [
              0.1111111111111111,
              "#482878"
             ],
             [
              0.2222222222222222,
              "#3e4989"
             ],
             [
              0.3333333333333333,
              "#31688e"
             ],
             [
              0.4444444444444444,
              "#26828e"
             ],
             [
              0.5555555555555556,
              "#1f9e89"
             ],
             [
              0.6666666666666666,
              "#35b779"
             ],
             [
              0.7777777777777778,
              "#6ece58"
             ],
             [
              0.8888888888888888,
              "#b5de2b"
             ],
             [
              1,
              "#fde725"
             ]
            ],
            "type": "heatmapgl"
           }
          ],
          "histogram": [
           {
            "marker": {
             "line": {
              "color": "white",
              "width": 0.6
             }
            },
            "type": "histogram"
           }
          ],
          "histogram2d": [
           {
            "colorbar": {
             "outlinewidth": 1,
             "tickcolor": "rgb(36,36,36)",
             "ticks": "outside"
            },
            "colorscale": [
             [
              0,
              "#440154"
             ],
             [
              0.1111111111111111,
              "#482878"
             ],
             [
              0.2222222222222222,
              "#3e4989"
             ],
             [
              0.3333333333333333,
              "#31688e"
             ],
             [
              0.4444444444444444,
              "#26828e"
             ],
             [
              0.5555555555555556,
              "#1f9e89"
             ],
             [
              0.6666666666666666,
              "#35b779"
             ],
             [
              0.7777777777777778,
              "#6ece58"
             ],
             [
              0.8888888888888888,
              "#b5de2b"
             ],
             [
              1,
              "#fde725"
             ]
            ],
            "type": "histogram2d"
           }
          ],
          "histogram2dcontour": [
           {
            "colorbar": {
             "outlinewidth": 1,
             "tickcolor": "rgb(36,36,36)",
             "ticks": "outside"
            },
            "colorscale": [
             [
              0,
              "#440154"
             ],
             [
              0.1111111111111111,
              "#482878"
             ],
             [
              0.2222222222222222,
              "#3e4989"
             ],
             [
              0.3333333333333333,
              "#31688e"
             ],
             [
              0.4444444444444444,
              "#26828e"
             ],
             [
              0.5555555555555556,
              "#1f9e89"
             ],
             [
              0.6666666666666666,
              "#35b779"
             ],
             [
              0.7777777777777778,
              "#6ece58"
             ],
             [
              0.8888888888888888,
              "#b5de2b"
             ],
             [
              1,
              "#fde725"
             ]
            ],
            "type": "histogram2dcontour"
           }
          ],
          "mesh3d": [
           {
            "colorbar": {
             "outlinewidth": 1,
             "tickcolor": "rgb(36,36,36)",
             "ticks": "outside"
            },
            "type": "mesh3d"
           }
          ],
          "parcoords": [
           {
            "line": {
             "colorbar": {
              "outlinewidth": 1,
              "tickcolor": "rgb(36,36,36)",
              "ticks": "outside"
             }
            },
            "type": "parcoords"
           }
          ],
          "pie": [
           {
            "automargin": true,
            "type": "pie"
           }
          ],
          "scatter": [
           {
            "fillpattern": {
             "fillmode": "overlay",
             "size": 10,
             "solidity": 0.2
            },
            "type": "scatter"
           }
          ],
          "scatter3d": [
           {
            "line": {
             "colorbar": {
              "outlinewidth": 1,
              "tickcolor": "rgb(36,36,36)",
              "ticks": "outside"
             }
            },
            "marker": {
             "colorbar": {
              "outlinewidth": 1,
              "tickcolor": "rgb(36,36,36)",
              "ticks": "outside"
             }
            },
            "type": "scatter3d"
           }
          ],
          "scattercarpet": [
           {
            "marker": {
             "colorbar": {
              "outlinewidth": 1,
              "tickcolor": "rgb(36,36,36)",
              "ticks": "outside"
             }
            },
            "type": "scattercarpet"
           }
          ],
          "scattergeo": [
           {
            "marker": {
             "colorbar": {
              "outlinewidth": 1,
              "tickcolor": "rgb(36,36,36)",
              "ticks": "outside"
             }
            },
            "type": "scattergeo"
           }
          ],
          "scattergl": [
           {
            "marker": {
             "colorbar": {
              "outlinewidth": 1,
              "tickcolor": "rgb(36,36,36)",
              "ticks": "outside"
             }
            },
            "type": "scattergl"
           }
          ],
          "scattermapbox": [
           {
            "marker": {
             "colorbar": {
              "outlinewidth": 1,
              "tickcolor": "rgb(36,36,36)",
              "ticks": "outside"
             }
            },
            "type": "scattermapbox"
           }
          ],
          "scatterpolar": [
           {
            "marker": {
             "colorbar": {
              "outlinewidth": 1,
              "tickcolor": "rgb(36,36,36)",
              "ticks": "outside"
             }
            },
            "type": "scatterpolar"
           }
          ],
          "scatterpolargl": [
           {
            "marker": {
             "colorbar": {
              "outlinewidth": 1,
              "tickcolor": "rgb(36,36,36)",
              "ticks": "outside"
             }
            },
            "type": "scatterpolargl"
           }
          ],
          "scatterternary": [
           {
            "marker": {
             "colorbar": {
              "outlinewidth": 1,
              "tickcolor": "rgb(36,36,36)",
              "ticks": "outside"
             }
            },
            "type": "scatterternary"
           }
          ],
          "surface": [
           {
            "colorbar": {
             "outlinewidth": 1,
             "tickcolor": "rgb(36,36,36)",
             "ticks": "outside"
            },
            "colorscale": [
             [
              0,
              "#440154"
             ],
             [
              0.1111111111111111,
              "#482878"
             ],
             [
              0.2222222222222222,
              "#3e4989"
             ],
             [
              0.3333333333333333,
              "#31688e"
             ],
             [
              0.4444444444444444,
              "#26828e"
             ],
             [
              0.5555555555555556,
              "#1f9e89"
             ],
             [
              0.6666666666666666,
              "#35b779"
             ],
             [
              0.7777777777777778,
              "#6ece58"
             ],
             [
              0.8888888888888888,
              "#b5de2b"
             ],
             [
              1,
              "#fde725"
             ]
            ],
            "type": "surface"
           }
          ],
          "table": [
           {
            "cells": {
             "fill": {
              "color": "rgb(237,237,237)"
             },
             "line": {
              "color": "white"
             }
            },
            "header": {
             "fill": {
              "color": "rgb(217,217,217)"
             },
             "line": {
              "color": "white"
             }
            },
            "type": "table"
           }
          ]
         },
         "layout": {
          "annotationdefaults": {
           "arrowhead": 0,
           "arrowwidth": 1
          },
          "autotypenumbers": "strict",
          "coloraxis": {
           "colorbar": {
            "outlinewidth": 1,
            "tickcolor": "rgb(36,36,36)",
            "ticks": "outside"
           }
          },
          "colorscale": {
           "diverging": [
            [
             0,
             "rgb(103,0,31)"
            ],
            [
             0.1,
             "rgb(178,24,43)"
            ],
            [
             0.2,
             "rgb(214,96,77)"
            ],
            [
             0.3,
             "rgb(244,165,130)"
            ],
            [
             0.4,
             "rgb(253,219,199)"
            ],
            [
             0.5,
             "rgb(247,247,247)"
            ],
            [
             0.6,
             "rgb(209,229,240)"
            ],
            [
             0.7,
             "rgb(146,197,222)"
            ],
            [
             0.8,
             "rgb(67,147,195)"
            ],
            [
             0.9,
             "rgb(33,102,172)"
            ],
            [
             1,
             "rgb(5,48,97)"
            ]
           ],
           "sequential": [
            [
             0,
             "#440154"
            ],
            [
             0.1111111111111111,
             "#482878"
            ],
            [
             0.2222222222222222,
             "#3e4989"
            ],
            [
             0.3333333333333333,
             "#31688e"
            ],
            [
             0.4444444444444444,
             "#26828e"
            ],
            [
             0.5555555555555556,
             "#1f9e89"
            ],
            [
             0.6666666666666666,
             "#35b779"
            ],
            [
             0.7777777777777778,
             "#6ece58"
            ],
            [
             0.8888888888888888,
             "#b5de2b"
            ],
            [
             1,
             "#fde725"
            ]
           ],
           "sequentialminus": [
            [
             0,
             "#440154"
            ],
            [
             0.1111111111111111,
             "#482878"
            ],
            [
             0.2222222222222222,
             "#3e4989"
            ],
            [
             0.3333333333333333,
             "#31688e"
            ],
            [
             0.4444444444444444,
             "#26828e"
            ],
            [
             0.5555555555555556,
             "#1f9e89"
            ],
            [
             0.6666666666666666,
             "#35b779"
            ],
            [
             0.7777777777777778,
             "#6ece58"
            ],
            [
             0.8888888888888888,
             "#b5de2b"
            ],
            [
             1,
             "#fde725"
            ]
           ]
          },
          "colorway": [
           "#1F77B4",
           "#FF7F0E",
           "#2CA02C",
           "#D62728",
           "#9467BD",
           "#8C564B",
           "#E377C2",
           "#7F7F7F",
           "#BCBD22",
           "#17BECF"
          ],
          "font": {
           "color": "rgb(36,36,36)"
          },
          "geo": {
           "bgcolor": "white",
           "lakecolor": "white",
           "landcolor": "white",
           "showlakes": true,
           "showland": true,
           "subunitcolor": "white"
          },
          "hoverlabel": {
           "align": "left"
          },
          "hovermode": "closest",
          "mapbox": {
           "style": "light"
          },
          "paper_bgcolor": "white",
          "plot_bgcolor": "white",
          "polar": {
           "angularaxis": {
            "gridcolor": "rgb(232,232,232)",
            "linecolor": "rgb(36,36,36)",
            "showgrid": false,
            "showline": true,
            "ticks": "outside"
           },
           "bgcolor": "white",
           "radialaxis": {
            "gridcolor": "rgb(232,232,232)",
            "linecolor": "rgb(36,36,36)",
            "showgrid": false,
            "showline": true,
            "ticks": "outside"
           }
          },
          "scene": {
           "xaxis": {
            "backgroundcolor": "white",
            "gridcolor": "rgb(232,232,232)",
            "gridwidth": 2,
            "linecolor": "rgb(36,36,36)",
            "showbackground": true,
            "showgrid": false,
            "showline": true,
            "ticks": "outside",
            "zeroline": false,
            "zerolinecolor": "rgb(36,36,36)"
           },
           "yaxis": {
            "backgroundcolor": "white",
            "gridcolor": "rgb(232,232,232)",
            "gridwidth": 2,
            "linecolor": "rgb(36,36,36)",
            "showbackground": true,
            "showgrid": false,
            "showline": true,
            "ticks": "outside",
            "zeroline": false,
            "zerolinecolor": "rgb(36,36,36)"
           },
           "zaxis": {
            "backgroundcolor": "white",
            "gridcolor": "rgb(232,232,232)",
            "gridwidth": 2,
            "linecolor": "rgb(36,36,36)",
            "showbackground": true,
            "showgrid": false,
            "showline": true,
            "ticks": "outside",
            "zeroline": false,
            "zerolinecolor": "rgb(36,36,36)"
           }
          },
          "shapedefaults": {
           "fillcolor": "black",
           "line": {
            "width": 0
           },
           "opacity": 0.3
          },
          "ternary": {
           "aaxis": {
            "gridcolor": "rgb(232,232,232)",
            "linecolor": "rgb(36,36,36)",
            "showgrid": false,
            "showline": true,
            "ticks": "outside"
           },
           "baxis": {
            "gridcolor": "rgb(232,232,232)",
            "linecolor": "rgb(36,36,36)",
            "showgrid": false,
            "showline": true,
            "ticks": "outside"
           },
           "bgcolor": "white",
           "caxis": {
            "gridcolor": "rgb(232,232,232)",
            "linecolor": "rgb(36,36,36)",
            "showgrid": false,
            "showline": true,
            "ticks": "outside"
           }
          },
          "title": {
           "x": 0.05
          },
          "xaxis": {
           "automargin": true,
           "gridcolor": "rgb(232,232,232)",
           "linecolor": "rgb(36,36,36)",
           "showgrid": false,
           "showline": true,
           "ticks": "outside",
           "title": {
            "standoff": 15
           },
           "zeroline": false,
           "zerolinecolor": "rgb(36,36,36)"
          },
          "yaxis": {
           "automargin": true,
           "gridcolor": "rgb(232,232,232)",
           "linecolor": "rgb(36,36,36)",
           "showgrid": false,
           "showline": true,
           "ticks": "outside",
           "title": {
            "standoff": 15
           },
           "zeroline": false,
           "zerolinecolor": "rgb(36,36,36)"
          }
         }
        },
        "title": {
         "font": {
          "color": "Black",
          "size": 22
         },
         "text": "<b>Topics per Class</b>",
         "x": 0.4,
         "xanchor": "center",
         "y": 0.95,
         "yanchor": "top"
        },
        "width": 1250,
        "xaxis": {
         "showgrid": true,
         "title": {
          "text": "Frequency"
         }
        },
        "yaxis": {
         "showgrid": true,
         "title": {
          "text": "Class"
         }
        }
       }
      }
     },
     "metadata": {},
     "output_type": "display_data"
    }
   ],
   "source": [
    "topics_per_class = topic_model.model.topics_per_class(df.content.tolist(), df.label.tolist())\n",
    "topic_model.model.visualize_topics_per_class(topics_per_class)"
   ]
  },
  {
   "cell_type": "code",
   "execution_count": 9,
   "metadata": {},
   "outputs": [
    {
     "data": {
      "application/vnd.plotly.v1+json": {
       "config": {
        "plotlyServerURL": "https://plot.ly"
       },
       "data": [
        {
         "hoverinfo": "text",
         "hovertext": [
          "<b>Topic 0</b><br>Words: sending quality, quality objects, sending, objects sending, objects",
          "<b>Topic 0</b><br>Words: sending quality, quality objects, objects sending, sending, objects",
          "<b>Topic 0</b><br>Words: sending quality, objects sending, quality objects, sending, objects",
          "<b>Topic 0</b><br>Words: sending quality, objects sending, quality objects, sending, objects",
          "<b>Topic 0</b><br>Words: sending quality, objects sending, quality objects, sending, objects",
          "<b>Topic 0</b><br>Words: sending quality, objects sending, quality objects, sending, objects",
          "<b>Topic 0</b><br>Words: sending quality, quality objects, objects sending, sending, objects",
          "<b>Topic 0</b><br>Words: sending quality, quality objects, sending, objects, objects sending",
          "<b>Topic 0</b><br>Words: sending quality, quality objects, sending, objects sending, objects",
          "<b>Topic 0</b><br>Words: sending quality, objects sending, quality objects, sending, objects",
          "<b>Topic 0</b><br>Words: sending quality, objects sending, quality objects, sending, objects",
          "<b>Topic 0</b><br>Words: sending quality, objects sending, quality objects, sending, objects",
          "<b>Topic 0</b><br>Words: sending quality, objects sending, quality objects, sending, objects",
          "<b>Topic 0</b><br>Words: sending quality, objects sending, quality objects, sending, objects",
          "<b>Topic 0</b><br>Words: sending quality, objects sending, quality objects, sending, objects",
          "<b>Topic 0</b><br>Words: sending quality, quality objects, sending, objects sending, objects",
          "<b>Topic 0</b><br>Words: sending quality, objects sending, quality objects, sending, objects",
          "<b>Topic 0</b><br>Words: sending quality, objects sending, quality objects, sending, objects",
          "<b>Topic 0</b><br>Words: sending quality, quality objects, sending, objects sending, objects",
          "<b>Topic 0</b><br>Words: sending quality, quality objects, sending, objects sending, objects",
          "<b>Topic 0</b><br>Words: sending quality, objects sending, quality objects, sending, objects",
          "<b>Topic 0</b><br>Words: sending quality, quality objects, objects sending, sending, objects",
          "<b>Topic 0</b><br>Words: sending quality, quality objects, objects sending, sending, objects",
          "<b>Topic 0</b><br>Words: sending quality, objects sending, quality objects, sending, objects",
          "<b>Topic 0</b><br>Words: sending quality, objects sending, quality objects, sending, objects",
          "<b>Topic 0</b><br>Words: sending quality, quality objects, sending, objects sending, objects",
          "<b>Topic 0</b><br>Words: sending quality, quality objects, sending, objects sending, objects",
          "<b>Topic 0</b><br>Words: sending quality, quality objects, sending, objects, objects sending",
          "<b>Topic 0</b><br>Words: sending quality, objects sending, quality objects, sending, objects",
          "<b>Topic 0</b><br>Words: sending quality, quality objects, sending, objects sending, objects",
          "<b>Topic 0</b><br>Words: sending quality, objects sending, quality objects, sending, objects",
          "<b>Topic 0</b><br>Words: sending quality, quality objects, sending, objects sending, objects",
          "<b>Topic 0</b><br>Words: sending quality, quality objects, objects sending, sending, objects",
          "<b>Topic 0</b><br>Words: sending quality, objects sending, quality objects, sending, objects",
          "<b>Topic 0</b><br>Words: sending quality, quality objects, sending, objects, objects sending",
          "<b>Topic 0</b><br>Words: sending quality, objects sending, quality objects, sending, objects",
          "<b>Topic 0</b><br>Words: sending quality, quality objects, objects sending, sending, objects",
          "<b>Topic 0</b><br>Words: sending quality, objects sending, quality objects, sending, objects",
          "<b>Topic 0</b><br>Words: sending quality, objects sending, quality objects, sending, objects",
          "<b>Topic 0</b><br>Words: sending quality, objects sending, quality objects, sending, objects",
          "<b>Topic 0</b><br>Words: sending quality, objects sending, quality objects, sending, objects",
          "<b>Topic 0</b><br>Words: sending quality, quality objects, objects sending, sending, objects",
          "<b>Topic 0</b><br>Words: sending quality, objects sending, quality objects, sending, objects",
          "<b>Topic 0</b><br>Words: sending quality, quality objects, sending, objects sending, objects",
          "<b>Topic 0</b><br>Words: sending quality, objects sending, quality objects, sending, objects",
          "<b>Topic 0</b><br>Words: sending quality, objects sending, quality objects, sending, objects",
          "<b>Topic 0</b><br>Words: sending quality, objects sending, quality objects, sending, objects",
          "<b>Topic 0</b><br>Words: sending quality, objects sending, quality objects, sending, objects",
          "<b>Topic 0</b><br>Words: sending quality, objects sending, quality objects, sending, objects",
          "<b>Topic 0</b><br>Words: sending quality, quality objects, sending, objects sending, objects",
          "<b>Topic 0</b><br>Words: sending quality, objects sending, quality objects, sending, objects",
          "<b>Topic 0</b><br>Words: sending quality, objects sending, quality objects, sending, objects",
          "<b>Topic 0</b><br>Words: sending quality, objects sending, quality objects, sending, objects",
          "<b>Topic 0</b><br>Words: sending quality, objects sending, quality objects, sending, objects",
          "<b>Topic 0</b><br>Words: sending quality, objects sending, quality objects, sending, objects",
          "<b>Topic 0</b><br>Words: sending quality, quality objects, sending, objects sending, objects",
          "<b>Topic 0</b><br>Words: sending quality, objects sending, quality objects, sending, objects",
          "<b>Topic 0</b><br>Words: sending quality, quality objects, sending, objects sending, objects",
          "<b>Topic 0</b><br>Words: sending quality, objects sending, quality objects, sending, objects",
          "<b>Topic 0</b><br>Words: sending quality, quality objects, sending, objects sending, objects",
          "<b>Topic 0</b><br>Words: sending quality, objects sending, quality objects, sending, objects"
         ],
         "marker": {
          "color": "#E69F00"
         },
         "name": "0_sending quality_objects sending_qualit...",
         "orientation": "h",
         "type": "bar",
         "visible": true,
         "x": [
          37,
          120,
          36679,
          13286,
          3988,
          863,
          110,
          1,
          8,
          181,
          495,
          1138,
          2064,
          27055,
          2372,
          63,
          268,
          303,
          15,
          38,
          3638,
          453,
          1329,
          223,
          557,
          16,
          12,
          1,
          584,
          8,
          293,
          10,
          251,
          1081,
          1,
          16011,
          130,
          604,
          763,
          215,
          286,
          132,
          723,
          38,
          492,
          270,
          775,
          4399,
          559,
          40,
          1895,
          1026,
          6863,
          228,
          191,
          60,
          3028,
          37,
          892,
          3,
          804
         ],
         "y": [
          " end calibration",
          "prepare for injection",
          "start tests the day.",
          "preparation for tpc scan",
          "mid expert request.",
          "problem on alio2-cr1-flp080, backpressure. possible cause: from_readout-proxy_to_tpc-idc-to-vector.",
          "phos/cpv",
          "sor failed for mch",
          "dcs sor failed (no sor_progressing).",
          "end test",
          "tpc scan ",
          "pdp expert request,",
          "exclude emc.",
          "prepare for cosmics",
          "sl request to include mid",
          "exclude fv0.",
          "all epns crashed simultaneously",
          "mch-qcmn-epn-full-track-matching crashed.",
          "normal eor after 5 minutes.",
          "ali-ecs core restarted",
          "stopping to include trd",
          "end calibration",
          "preparing for physics",
          "trigger readout went to zero.",
          "all epns crashed simultaneously with primary vertex error.",
          "mch",
          "need to restart trigger.",
          "started by mistake",
          "epn went flat",
          "tpc not ready at sor",
          "expert request cpv",
          "emcal",
          " jit-4e1deca4ebdf11d52f3ee4f99c0c46f78222361d-mch-qctaskmchdigits-proxy",
          "change luminosity",
          "cpv recover hv trip.",
          "lhc dumped beam dump",
          "operator error: run restarted the same partition.",
          "changed predefined physics configuration",
          "adjust handshake",
          "all epns crashed simultaneously.",
          "change predefined configuration.",
          "rm asks to stop the run",
          "release ecs lock for mch",
          "triggers out synch. disabling ctp readout.",
          "tpc expert request.",
          "preparation for calibration.",
          "include maximum number epns (211)",
          "change lumi to 1mhz",
          "issues known; expert informed",
          "calibration ended automatically",
          "change config for mft",
          "eor test.",
          "beam dump",
          "dpl errors on ali02-cr1-flp080 -  tpc flp (run stopped by the operator).",
          "tpc need to disable re-sync.",
          "request from tpc expert.",
          "change trigger rate to 500 khz",
          "include tpc.",
          "texpert request",
          "end the calibration",
          "revert readout configuration to see if it helps with errors from tpc (flp080) and its."
         ]
        },
        {
         "hoverinfo": "text",
         "hovertext": [
          "<b>Topic 1</b><br>Words: startofcycle, startofcycle startofcycle, startofcycle equipment, 90035181, cycledurationntf startofcycle",
          "<b>Topic 1</b><br>Words: startofcycle, startofcycle startofcycle, startofcycle equipment, 90035181, cycledurationntf startofcycle",
          "<b>Topic 1</b><br>Words: startofcycle startofcycle, startofcycle, startofcycle equipment, 90035181, cycledurationntf startofcycle",
          "<b>Topic 1</b><br>Words: startofcycle startofcycle, startofcycle, startofcycle equipment, 90035181, cycledurationntf startofcycle",
          "<b>Topic 1</b><br>Words: startofcycle startofcycle, startofcycle, startofcycle equipment, 90035181, cycledurationntf startofcycle",
          "<b>Topic 1</b><br>Words: startofcycle, startofcycle startofcycle, startofcycle sending, objects startofcycle, sending quality",
          "<b>Topic 1</b><br>Words: startofcycle startofcycle, startofcycle, 74324, new 74324, previous 74322",
          "<b>Topic 1</b><br>Words: startofcycle, startofcycle startofcycle, startofcycle equipment, 90035181, cycledurationntf startofcycle",
          "<b>Topic 1</b><br>Words: startofcycle, startofcycle startofcycle, startofcycle equipment, 90035181, cycledurationntf startofcycle",
          "<b>Topic 1</b><br>Words: startofcycle startofcycle, startofcycle, startofcycle equipment, 90035181, cycledurationntf startofcycle",
          "<b>Topic 1</b><br>Words: startofcycle startofcycle, startofcycle, startofcycle equipment, 90035181, cycledurationntf startofcycle",
          "<b>Topic 1</b><br>Words: startofcycle startofcycle, startofcycle, startofcycle equipment, 90035181, cycledurationntf startofcycle",
          "<b>Topic 1</b><br>Words: startofcycle startofcycle, startofcycle, startofcycle equipment, 90035181, cycledurationntf startofcycle",
          "<b>Topic 1</b><br>Words: startofcycle, startofcycle startofcycle, startofcycle equipment, 90035181, cycledurationntf startofcycle",
          "<b>Topic 1</b><br>Words: startofcycle, startofcycle startofcycle, startofcycle equipment, 90035181, cycledurationntf startofcycle",
          "<b>Topic 1</b><br>Words: startofcycle, startofcycle startofcycle, startofcycle equipment, 90035181, cycledurationntf startofcycle",
          "<b>Topic 1</b><br>Words: startofcycle, startofcycle startofcycle, startofcycle equipment, 90035181, cycledurationntf startofcycle",
          "<b>Topic 1</b><br>Words: startofcycle startofcycle, startofcycle, startofcycle equipment, 90035181, cycledurationntf startofcycle",
          "<b>Topic 1</b><br>Words: startofcycle, startofcycle startofcycle, used 90035181, 6783 startofcycle, 90035181 average",
          "<b>Topic 1</b><br>Words: startofcycle startofcycle, startofcycle, startofcycle equipment, 90035181, cycledurationntf startofcycle",
          "<b>Topic 1</b><br>Words: startofcycle, startofcycle startofcycle, startofcycle equipment, 90035181, cycledurationntf startofcycle",
          "<b>Topic 1</b><br>Words: startofcycle, startofcycle startofcycle, startofcycle equipment, 90035181, cycledurationntf startofcycle",
          "<b>Topic 1</b><br>Words: startofcycle, startofcycle startofcycle, startofcycle equipment, 90035181, cycledurationntf startofcycle",
          "<b>Topic 1</b><br>Words: startofcycle, startofcycle startofcycle, startofcycle equipment, 90035181, cycledurationntf startofcycle",
          "<b>Topic 1</b><br>Words: startofcycle, startofcycle startofcycle, startofcycle equipment, 90035181, cycledurationntf startofcycle",
          "<b>Topic 1</b><br>Words: startofcycle, startofcycle startofcycle, startofcycle equipment, 90035181, cycledurationntf startofcycle",
          "<b>Topic 1</b><br>Words: startofcycle, startofcycle startofcycle, startofcycle equipment, 90035181, cycledurationntf startofcycle",
          "<b>Topic 1</b><br>Words: startofcycle startofcycle, startofcycle, startofcycle equipment, 90035181, cycledurationntf startofcycle",
          "<b>Topic 1</b><br>Words: startofcycle startofcycle, startofcycle, startofcycle equipment, 90035181, cycledurationntf startofcycle",
          "<b>Topic 1</b><br>Words: startofcycle, startofcycle startofcycle, startofcycle equipment, 90035181, cycledurationntf startofcycle",
          "<b>Topic 1</b><br>Words: startofcycle, startofcycle startofcycle, startofcycle equipment, 90035181, cycledurationntf startofcycle",
          "<b>Topic 1</b><br>Words: startofcycle startofcycle, startofcycle, startofcycle equipment, 90035181, cycledurationntf startofcycle",
          "<b>Topic 1</b><br>Words: startofcycle, startofcycle startofcycle, startofcycle equipment, 90035181, cycledurationntf startofcycle",
          "<b>Topic 1</b><br>Words: startofcycle, startofcycle startofcycle, startofcycle equipment, 90035181, cycledurationntf startofcycle",
          "<b>Topic 1</b><br>Words: startofcycle, startofcycle startofcycle, startofcycle configure, cycledurationmoname cycledurationntf, cycledurationntf",
          "<b>Topic 1</b><br>Words: startofcycle, startofcycle startofcycle, startofcycle equipment, 90035181, cycledurationntf startofcycle",
          "<b>Topic 1</b><br>Words: startofcycle, startofcycle startofcycle, startofcycle equipment, 90035181, cycledurationntf startofcycle",
          "<b>Topic 1</b><br>Words: startofcycle, startofcycle startofcycle, startofcycle equipment, 90035181, cycledurationntf startofcycle",
          "<b>Topic 1</b><br>Words: startofcycle, startofcycle startofcycle, startofcycle equipment, 90035181, cycledurationntf startofcycle",
          "<b>Topic 1</b><br>Words: startofcycle, startofcycle startofcycle, startofcycle equipment, 90035181, cycledurationntf startofcycle",
          "<b>Topic 1</b><br>Words: startofcycle startofcycle, startofcycle, startofcycle equipment, 90035181, cycledurationntf startofcycle",
          "<b>Topic 1</b><br>Words: startofcycle, startofcycle startofcycle, startofcycle equipment, 90035181, cycledurationntf startofcycle",
          "<b>Topic 1</b><br>Words: startofcycle startofcycle, startofcycle, startofcycle equipment, 90035181, cycledurationntf startofcycle",
          "<b>Topic 1</b><br>Words: startofcycle startofcycle, startofcycle, startofcycle equipment, 90035181, cycledurationntf startofcycle",
          "<b>Topic 1</b><br>Words: startofcycle startofcycle, startofcycle, stfb startofcycle, startofcycle bank, using first",
          "<b>Topic 1</b><br>Words: startofcycle, startofcycle startofcycle, startofcycle equipment, 90035181, cycledurationntf startofcycle",
          "<b>Topic 1</b><br>Words: startofcycle, startofcycle startofcycle, startofcycle equipment, 90035181, cycledurationntf startofcycle",
          "<b>Topic 1</b><br>Words: startofcycle, startofcycle startofcycle, startofcycle equipment, 90035181, cycledurationntf startofcycle",
          "<b>Topic 1</b><br>Words: startofcycle startofcycle, startofcycle, startofcycle equipment, 90035181, cycledurationntf startofcycle",
          "<b>Topic 1</b><br>Words: startofcycle, startofcycle startofcycle, startofcycle equipment, 90035181, cycledurationntf startofcycle",
          "<b>Topic 1</b><br>Words: startofcycle startofcycle, startofcycle, startofcycle equipment, 90035181, cycledurationntf startofcycle",
          "<b>Topic 1</b><br>Words: startofcycle, startofcycle startofcycle, 279136 startofcycle, startofcycle equipment, count 279136",
          "<b>Topic 1</b><br>Words: startofcycle, startofcycle startofcycle, startofcycle equipment, 90035181, cycledurationntf startofcycle"
         ],
         "marker": {
          "color": "#56B4E9"
         },
         "name": "1_startofcycle startofcycle_startofcycle...",
         "orientation": "h",
         "type": "bar",
         "visible": "legendonly",
         "x": [
          7,
          46,
          29762,
          10286,
          3456,
          135,
          1,
          490,
          521,
          1331,
          1792,
          19352,
          2014,
          8,
          122,
          311,
          2,
          2894,
          156,
          1231,
          282,
          552,
          103,
          367,
          242,
          40,
          282,
          1042,
          12401,
          92,
          48,
          730,
          269,
          309,
          30,
          121,
          102,
          521,
          339,
          698,
          3761,
          489,
          1538,
          1011,
          5140,
          253,
          224,
          149,
          2557,
          149,
          791,
          7,
          606
         ],
         "y": [
          " end calibration",
          "prepare for injection",
          "start tests the day.",
          "preparation for tpc scan",
          "mid expert request.",
          "problem on alio2-cr1-flp080, backpressure. possible cause: from_readout-proxy_to_tpc-idc-to-vector.",
          "phos/cpv",
          "end test",
          "tpc scan ",
          "pdp expert request,",
          "exclude emc.",
          "prepare for cosmics",
          "sl request to include mid",
          "exclude fv0.",
          "all epns crashed simultaneously",
          "mch-qcmn-epn-full-track-matching crashed.",
          "normal eor after 5 minutes.",
          "stopping to include trd",
          "end calibration",
          "preparing for physics",
          "trigger readout went to zero.",
          "all epns crashed simultaneously with primary vertex error.",
          "need to restart trigger.",
          "epn went flat",
          "expert request cpv",
          "emcal",
          " jit-4e1deca4ebdf11d52f3ee4f99c0c46f78222361d-mch-qctaskmchdigits-proxy",
          "change luminosity",
          "lhc dumped beam dump",
          "operator error: run restarted the same partition.",
          "changed predefined physics configuration",
          "adjust handshake",
          "all epns crashed simultaneously.",
          "change predefined configuration.",
          "rm asks to stop the run",
          "release ecs lock for mch",
          "triggers out synch. disabling ctp readout.",
          "tpc expert request.",
          "preparation for calibration.",
          "include maximum number epns (211)",
          "change lumi to 1mhz",
          "issues known; expert informed",
          "change config for mft",
          "eor test.",
          "beam dump",
          "dpl errors on ali02-cr1-flp080 -  tpc flp (run stopped by the operator).",
          "tpc need to disable re-sync.",
          "request from tpc expert.",
          "change trigger rate to 500 khz",
          "include tpc.",
          "texpert request",
          "end the calibration",
          "revert readout configuration to see if it helps with errors from tpc (flp080) and its."
         ]
        },
        {
         "hoverinfo": "text",
         "hovertext": [
          "<b>Topic 2</b><br>Words: storing qualityobjects, qualityobjects, qualityobjects storing, storing, qualityobjects task",
          "<b>Topic 2</b><br>Words: storing qualityobjects, qualityobjects storing, qualityobjects, storing, qualityobjects task",
          "<b>Topic 2</b><br>Words: storing qualityobjects, qualityobjects storing, qualityobjects, storing, timestamp 1664427955086",
          "<b>Topic 2</b><br>Words: storing qualityobjects, qualityobjects storing, qualityobjects, storing, 2700079 storing",
          "<b>Topic 2</b><br>Words: storing qualityobjects, qualityobjects storing, qualityobjects, storing, qualityobjects task",
          "<b>Topic 2</b><br>Words: storing qualityobjects, qualityobjects storing, qualityobjects, storing, qualityobjects task",
          "<b>Topic 2</b><br>Words: storing qualityobjects, qualityobjects storing, qualityobjects, storing, qualityobjects missing",
          "<b>Topic 2</b><br>Words: storing qualityobjects, qualityobjects, storing, qualityobjects storing, qualityobjects task",
          "<b>Topic 2</b><br>Words: storing qualityobjects, qualityobjects, qualityobjects storing, storing, qualityobjects task",
          "<b>Topic 2</b><br>Words: storing qualityobjects, qualityobjects storing, qualityobjects, storing, qualityobjects task",
          "<b>Topic 2</b><br>Words: storing qualityobjects, qualityobjects storing, qualityobjects, storing, qualityobjects task",
          "<b>Topic 2</b><br>Words: libo2qualitycontrol, library libo2qualitycontrol, storing qualityobjects, qualityobjects storing, qualityobjects",
          "<b>Topic 2</b><br>Words: storing qualityobjects, qualityobjects storing, qualityobjects, storing, qualityobjects task",
          "<b>Topic 2</b><br>Words: storing qualityobjects, qualityobjects storing, qualityobjects, storing, qualityobjects saving",
          "<b>Topic 2</b><br>Words: storing qualityobjects, qualityobjects storing, qualityobjects, storing, qualityobjects task",
          "<b>Topic 2</b><br>Words: storing qualityobjects, qualityobjects, qualityobjects storing, storing, qualityobjects task",
          "<b>Topic 2</b><br>Words: storing qualityobjects, qualityobjects storing, qualityobjects, storing, qualityobjects task",
          "<b>Topic 2</b><br>Words: storing qualityobjects, qualityobjects storing, qualityobjects, storing, 54880 storing",
          "<b>Topic 2</b><br>Words: storing qualityobjects, qualityobjects, qualityobjects storing, storing, qualityobjects task",
          "<b>Topic 2</b><br>Words: storing qualityobjects, qualityobjects, qualityobjects storing, storing, processed 2632834",
          "<b>Topic 2</b><br>Words: storing qualityobjects, qualityobjects storing, qualityobjects, storing, qualityobjects task",
          "<b>Topic 2</b><br>Words: storing qualityobjects, qualityobjects storing, qualityobjects, storing, qualityobjects task",
          "<b>Topic 2</b><br>Words: storing qualityobjects, qualityobjects storing, qualityobjects, storing, qualityobjects task",
          "<b>Topic 2</b><br>Words: storing qualityobjects, qualityobjects, qualityobjects storing, storing, qualityobjects task",
          "<b>Topic 2</b><br>Words: storing qualityobjects, qualityobjects storing, qualityobjects, storing, qualityobjects task",
          "<b>Topic 2</b><br>Words: storing qualityobjects, qualityobjects, qualityobjects storing, storing, qualityobjects task",
          "<b>Topic 2</b><br>Words: storing qualityobjects, qualityobjects, qualityobjects storing, storing, qualityobjects task",
          "<b>Topic 2</b><br>Words: storing qualityobjects, qualityobjects, qualityobjects storing, storing, qualityobjects task",
          "<b>Topic 2</b><br>Words: storing qualityobjects, qualityobjects storing, qualityobjects, storing, qualityobjects task",
          "<b>Topic 2</b><br>Words: storing qualityobjects, qualityobjects, qualityobjects storing, storing, qualityobjects task",
          "<b>Topic 2</b><br>Words: storing qualityobjects, qualityobjects storing, qualityobjects, storing, qualityobjects task",
          "<b>Topic 2</b><br>Words: storing qualityobjects, qualityobjects storing, qualityobjects, storing, qualityobjects task",
          "<b>Topic 2</b><br>Words: storing qualityobjects, qualityobjects, storing, qualityobjects storing, qualityobjects task",
          "<b>Topic 2</b><br>Words: storing qualityobjects, qualityobjects storing, qualityobjects, storing, qualityobjects task",
          "<b>Topic 2</b><br>Words: storing qualityobjects, qualityobjects storing, qualityobjects, storing, qualityobjects task",
          "<b>Topic 2</b><br>Words: storing qualityobjects, qualityobjects storing, qualityobjects, storing, qualityobjects task",
          "<b>Topic 2</b><br>Words: storing qualityobjects, qualityobjects storing, qualityobjects, storing, qualityobjects task",
          "<b>Topic 2</b><br>Words: storing qualityobjects, qualityobjects storing, qualityobjects, storing, qualityobjects task",
          "<b>Topic 2</b><br>Words: storing qualityobjects, qualityobjects storing, qualityobjects, storing, qualityobjects task",
          "<b>Topic 2</b><br>Words: storing qualityobjects, qualityobjects, qualityobjects storing, storing, 2atafpnhog5 storing",
          "<b>Topic 2</b><br>Words: storing qualityobjects, qualityobjects storing, qualityobjects, storing, qualityobjects task",
          "<b>Topic 2</b><br>Words: storing qualityobjects, qualityobjects, qualityobjects storing, storing, qualityobjects task",
          "<b>Topic 2</b><br>Words: storing qualityobjects, qualityobjects storing, qualityobjects, storing, qualityobjects task",
          "<b>Topic 2</b><br>Words: storing qualityobjects, qualityobjects storing, qualityobjects, storing, qualityobjects task",
          "<b>Topic 2</b><br>Words: storing qualityobjects, qualityobjects, qualityobjects storing, storing, qualityobjects task",
          "<b>Topic 2</b><br>Words: storing qualityobjects, qualityobjects storing, qualityobjects, storing, qualityobjects task",
          "<b>Topic 2</b><br>Words: storing qualityobjects, qualityobjects storing, qualityobjects, storing, qualityobjects task",
          "<b>Topic 2</b><br>Words: storing qualityobjects, qualityobjects, qualityobjects storing, storing, qualityobjects task",
          "<b>Topic 2</b><br>Words: storing qualityobjects, qualityobjects storing, qualityobjects, storing, qualityobjects task",
          "<b>Topic 2</b><br>Words: storing qualityobjects, qualityobjects storing, qualityobjects, storing, qualityobjects task",
          "<b>Topic 2</b><br>Words: storing qualityobjects, qualityobjects storing, qualityobjects, storing, 2aqu4hprkjb storing",
          "<b>Topic 2</b><br>Words: storing qualityobjects, qualityobjects storing, qualityobjects, storing, qualityobjects task",
          "<b>Topic 2</b><br>Words: storing qualityobjects, qualityobjects storing, qualityobjects, storing, qualityobjects task",
          "<b>Topic 2</b><br>Words: storing qualityobjects, qualityobjects, qualityobjects storing, storing, qualityobjects task",
          "<b>Topic 2</b><br>Words: storing qualityobjects, qualityobjects storing, qualityobjects, storing, qualityobjects task",
          "<b>Topic 2</b><br>Words: storing qualityobjects, qualityobjects, qualityobjects storing, storing, qualityobjects task",
          "<b>Topic 2</b><br>Words: storing qualityobjects, qualityobjects, qualityobjects storing, storing, qualityobjects task",
          "<b>Topic 2</b><br>Words: storing qualityobjects, qualityobjects, qualityobjects storing, storing, qualityobjects task",
          "<b>Topic 2</b><br>Words: storing qualityobjects, qualityobjects storing, qualityobjects, storing, qualityobjects task"
         ],
         "marker": {
          "color": "#009E73"
         },
         "name": "2_storing qualityobjects_qualityobjects ...",
         "orientation": "h",
         "type": "bar",
         "visible": "legendonly",
         "x": [
          3,
          120,
          21608,
          9484,
          3155,
          863,
          103,
          1,
          8,
          497,
          1140,
          1,
          1492,
          24466,
          2337,
          63,
          268,
          284,
          11,
          39,
          3618,
          266,
          499,
          68,
          144,
          16,
          12,
          2,
          436,
          10,
          250,
          450,
          1,
          12643,
          130,
          604,
          199,
          218,
          286,
          133,
          721,
          33,
          464,
          270,
          49,
          4403,
          322,
          40,
          1838,
          1003,
          4073,
          228,
          191,
          59,
          939,
          37,
          68,
          3,
          219
         ],
         "y": [
          " end calibration",
          "prepare for injection",
          "start tests the day.",
          "preparation for tpc scan",
          "mid expert request.",
          "problem on alio2-cr1-flp080, backpressure. possible cause: from_readout-proxy_to_tpc-idc-to-vector.",
          "phos/cpv",
          "sor failed for mch",
          "dcs sor failed (no sor_progressing).",
          "tpc scan ",
          "pdp expert request,",
          "calibration failed",
          "exclude emc.",
          "prepare for cosmics",
          "sl request to include mid",
          "exclude fv0.",
          "all epns crashed simultaneously",
          "mch-qcmn-epn-full-track-matching crashed.",
          "normal eor after 5 minutes.",
          "ali-ecs core restarted",
          "stopping to include trd",
          "end calibration",
          "preparing for physics",
          "trigger readout went to zero.",
          "all epns crashed simultaneously with primary vertex error.",
          "mch",
          "need to restart trigger.",
          "started by mistake",
          "epn went flat",
          "emcal",
          " jit-4e1deca4ebdf11d52f3ee4f99c0c46f78222361d-mch-qctaskmchdigits-proxy",
          "change luminosity",
          "cpv recover hv trip.",
          "lhc dumped beam dump",
          "operator error: run restarted the same partition.",
          "changed predefined physics configuration",
          "adjust handshake",
          "all epns crashed simultaneously.",
          "change predefined configuration.",
          "rm asks to stop the run",
          "release ecs lock for mch",
          "triggers out synch. disabling ctp readout.",
          "tpc expert request.",
          "preparation for calibration.",
          "include maximum number epns (211)",
          "change lumi to 1mhz",
          "issues known; expert informed",
          "calibration ended automatically",
          "change config for mft",
          "eor test.",
          "beam dump",
          "dpl errors on ali02-cr1-flp080 -  tpc flp (run stopped by the operator).",
          "tpc need to disable re-sync.",
          "request from tpc expert.",
          "change trigger rate to 500 khz",
          "include tpc.",
          "texpert request",
          "end the calibration",
          "revert readout configuration to see if it helps with errors from tpc (flp080) and its."
         ]
        },
        {
         "hoverinfo": "text",
         "hovertext": [
          "<b>Topic 3</b><br>Words: endofcycle, endofcycle endofcycle, timestamp 1664473857380, 1664473857380, 1664473857380 updating",
          "<b>Topic 3</b><br>Words: endofcycle, endofcycle endofcycle, timestamp 1664473857380, 1664473857380, 1664473857380 updating",
          "<b>Topic 3</b><br>Words: endofcycle endofcycle, endofcycle, timestamp 1664473857380, 1664473857380, endofcycle updating",
          "<b>Topic 3</b><br>Words: endofcycle endofcycle, endofcycle, 1188 163020141, 163020141 on, endofcycle new",
          "<b>Topic 3</b><br>Words: endofcycle endofcycle, endofcycle, timestamp 1664473857380, 1664473857380, 1664473857380 updating",
          "<b>Topic 3</b><br>Words: endofcycle, endofcycle endofcycle, timestamp 1664473857380, 1664473857380, 1664473857380 updating",
          "<b>Topic 3</b><br>Words: endofcycle, endofcycle endofcycle, 115 gbytes, endofcycle final, 2assju1dbnh registered",
          "<b>Topic 3</b><br>Words: endofcycle, endofcycle endofcycle, timestamp 1664473857380, 1664473857380, 1664473857380 updating",
          "<b>Topic 3</b><br>Words: endofcycle, endofcycle endofcycle, timestamp 1664473857380, 1664473857380, 1664473857380 updating",
          "<b>Topic 3</b><br>Words: endofcycle, endofcycle endofcycle, timestamp 1664473857380, 1664473857380, 1664473857380 updating",
          "<b>Topic 3</b><br>Words: endofcycle endofcycle, endofcycle, timestamp 1664473857380, 1664473857380, 1664473857380 updating",
          "<b>Topic 3</b><br>Words: endofcycle endofcycle, endofcycle, timestamp 1664473857380, 1664473857380, 1664473857380 updating",
          "<b>Topic 3</b><br>Words: endofcycle endofcycle, endofcycle, timestamp 1664473857380, 1664473857380, 1664473857380 updating",
          "<b>Topic 3</b><br>Words: endofcycle endofcycle, endofcycle, timestamp 1664473857380, 1664473857380, 1664473857380 updating",
          "<b>Topic 3</b><br>Words: endofcycle, endofcycle endofcycle, timestamp 1664473857380, 1664473857380, 1664473857380 updating",
          "<b>Topic 3</b><br>Words: endofcycle, endofcycle endofcycle, timestamp 1664473857380, 1664473857380, 1664473857380 updating",
          "<b>Topic 3</b><br>Words: endofcycle, endofcycle endofcycle, timestamp 1664473857380, 1664473857380, 1664473857380 updating",
          "<b>Topic 3</b><br>Words: endofcycle, endofcycle endofcycle, timestamp 1664473857380, 1664473857380, 1664473857380 updating",
          "<b>Topic 3</b><br>Words: endofcycle endofcycle, endofcycle, timestamp 1664473857380, 1664473857380, 1664473857380 updating",
          "<b>Topic 3</b><br>Words: endofcycle, endofcycle endofcycle, endofcycle received, 2arpa4s12ju task, 2arpa4s12ju",
          "<b>Topic 3</b><br>Words: endofcycle endofcycle, endofcycle, timestamp 1664473857380, 1664473857380, 1664473857380 updating",
          "<b>Topic 3</b><br>Words: endofcycle, endofcycle endofcycle, timestamp 1664473857380, 1664473857380, 1664473857380 updating",
          "<b>Topic 3</b><br>Words: endofcycle, endofcycle endofcycle, timestamp 1664473857380, 1664473857380, 1664473857380 updating",
          "<b>Topic 3</b><br>Words: endofcycle, endofcycle endofcycle, timestamp 1664473857380, 1664473857380, 1664473857380 updating",
          "<b>Topic 3</b><br>Words: endofcycle, endofcycle endofcycle, timestamp 1664473857380, 1664473857380, 1664473857380 updating",
          "<b>Topic 3</b><br>Words: endofcycle, endofcycle endofcycle, timestamp 1664473857380, 1664473857380, 1664473857380 updating",
          "<b>Topic 3</b><br>Words: endofcycle, endofcycle endofcycle, timestamp 1664473857380, 1664473857380, 1664473857380 updating",
          "<b>Topic 3</b><br>Words: endofcycle, endofcycle endofcycle, timestamp 1664473857380, 1664473857380, 1664473857380 updating",
          "<b>Topic 3</b><br>Words: endofcycle endofcycle, endofcycle, timestamp 1664473857380, 1664473857380, 1664473857380 updating",
          "<b>Topic 3</b><br>Words: endofcycle endofcycle, endofcycle, timestamp 1664473857380, 1664473857380, 1664473857380 updating",
          "<b>Topic 3</b><br>Words: endofcycle, endofcycle endofcycle, timestamp 1664473857380, 1664473857380, 1664473857380 updating",
          "<b>Topic 3</b><br>Words: endofcycle, endofcycle endofcycle, timestamp 1664473857380, 1664473857380, 1664473857380 updating",
          "<b>Topic 3</b><br>Words: endofcycle endofcycle, endofcycle, timestamp 1664473857380, 1664473857380, 1664473857380 updating",
          "<b>Topic 3</b><br>Words: endofcycle, endofcycle endofcycle, timestamp 1664473857380, 1664473857380, 1664473857380 updating",
          "<b>Topic 3</b><br>Words: endofcycle, endofcycle endofcycle, timestamp 1664473857380, 1664473857380, 1664473857380 updating",
          "<b>Topic 3</b><br>Words: endofcycle, endofcycle endofcycle, timestamp 1664473857380, 1664473857380, 1664473857380 updating",
          "<b>Topic 3</b><br>Words: endofcycle, endofcycle endofcycle, timestamp 1664473857380, 1664473857380, 1664473857380 updating",
          "<b>Topic 3</b><br>Words: endofcycle, endofcycle endofcycle, timestamp 1664473857380, 1664473857380, 1664473857380 updating",
          "<b>Topic 3</b><br>Words: endofcycle, endofcycle endofcycle, timestamp 1664473857380, 1664473857380, 1664473857380 updating",
          "<b>Topic 3</b><br>Words: endofcycle, endofcycle endofcycle, timestamp 1664473857380, 1664473857380, 1664473857380 updating",
          "<b>Topic 3</b><br>Words: endofcycle, endofcycle endofcycle, 18 endofcycle, endofcycle itsdecoder, 164 at",
          "<b>Topic 3</b><br>Words: endofcycle endofcycle, endofcycle, timestamp 1664473857380, 1664473857380, 1664473857380 updating",
          "<b>Topic 3</b><br>Words: endofcycle, endofcycle endofcycle, timestamp 1664473857380, 1664473857380, 1664473857380 updating",
          "<b>Topic 3</b><br>Words: endofcycle endofcycle, endofcycle, timestamp 1664473857380, 1664473857380, 1664473857380 updating",
          "<b>Topic 3</b><br>Words: endofcycle endofcycle, endofcycle, timestamp 1664473857380, 1664473857380, 1664473857380 updating",
          "<b>Topic 3</b><br>Words: endofcycle endofcycle, endofcycle, 1664473857380, timestamp 1664473857380, 1664473857380 updating",
          "<b>Topic 3</b><br>Words: endofcycle, endofcycle endofcycle, timestamp 1664473857380, 1664473857380, 1664473857380 updating",
          "<b>Topic 3</b><br>Words: endofcycle, endofcycle endofcycle, timestamp 1664473857380, 1664473857380, 1664473857380 updating",
          "<b>Topic 3</b><br>Words: endofcycle, endofcycle endofcycle, timestamp 1664473857380, 1664473857380, 1664473857380 updating",
          "<b>Topic 3</b><br>Words: endofcycle endofcycle, endofcycle, 180 endofcycle, endofcycle itsdecoder, 0x6124 rusw",
          "<b>Topic 3</b><br>Words: endofcycle, endofcycle endofcycle, timestamp 1664473857380, 1664473857380, 1664473857380 updating",
          "<b>Topic 3</b><br>Words: endofcycle endofcycle, endofcycle, timestamp 1664473857380, 1664473857380, 1664473857380 updating",
          "<b>Topic 3</b><br>Words: endofcycle endofcycle, endofcycle, timestamp 1664473857380, 1664473857380, 1664473857380 updating"
         ],
         "marker": {
          "color": "#F0E442"
         },
         "name": "3_endofcycle endofcycle_endofcycle_16644...",
         "orientation": "h",
         "type": "bar",
         "visible": "legendonly",
         "x": [
          7,
          51,
          29726,
          10263,
          3418,
          129,
          107,
          22,
          453,
          485,
          1291,
          1744,
          19312,
          1975,
          40,
          100,
          274,
          5,
          2864,
          165,
          1153,
          245,
          488,
          66,
          433,
          241,
          20,
          245,
          997,
          12363,
          92,
          44,
          693,
          242,
          272,
          165,
          156,
          65,
          451,
          313,
          663,
          3723,
          459,
          1501,
          920,
          5167,
          216,
          187,
          122,
          2525,
          122,
          757,
          579
         ],
         "y": [
          " end calibration",
          "prepare for injection",
          "start tests the day.",
          "preparation for tpc scan",
          "mid expert request.",
          "problem on alio2-cr1-flp080, backpressure. possible cause: from_readout-proxy_to_tpc-idc-to-vector.",
          "phos/cpv",
          "sor failed for mch",
          "end test",
          "tpc scan ",
          "pdp expert request,",
          "exclude emc.",
          "prepare for cosmics",
          "sl request to include mid",
          "exclude fv0.",
          "all epns crashed simultaneously",
          "mch-qcmn-epn-full-track-matching crashed.",
          "normal eor after 5 minutes.",
          "stopping to include trd",
          "end calibration",
          "preparing for physics",
          "trigger readout went to zero.",
          "all epns crashed simultaneously with primary vertex error.",
          "need to restart trigger.",
          "epn went flat",
          "expert request cpv",
          "emcal",
          " jit-4e1deca4ebdf11d52f3ee4f99c0c46f78222361d-mch-qctaskmchdigits-proxy",
          "change luminosity",
          "lhc dumped beam dump",
          "operator error: run restarted the same partition.",
          "changed predefined physics configuration",
          "adjust handshake",
          "all epns crashed simultaneously.",
          "change predefined configuration.",
          "rm asks to stop the run",
          "release ecs lock for mch",
          "triggers out synch. disabling ctp readout.",
          "tpc expert request.",
          "preparation for calibration.",
          "include maximum number epns (211)",
          "change lumi to 1mhz",
          "issues known; expert informed",
          "change config for mft",
          "eor test.",
          "beam dump",
          "dpl errors on ali02-cr1-flp080 -  tpc flp (run stopped by the operator).",
          "tpc need to disable re-sync.",
          "request from tpc expert.",
          "change trigger rate to 500 khz",
          "include tpc.",
          "texpert request",
          "revert readout configuration to see if it helps with errors from tpc (flp080) and its."
         ]
        },
        {
         "hoverinfo": "text",
         "hovertext": [
          "<b>Topic 4</b><br>Words: check rawbunchminamplitude, rawbunchminamplitude quality, rawbunchminamplitude, quality good, good level",
          "<b>Topic 4</b><br>Words: check rawbunchminamplitude, rawbunchminamplitude quality, rawbunchminamplitude, quality good, good level",
          "<b>Topic 4</b><br>Words: check rawbunchminamplitude, rawbunchminamplitude quality, rawbunchminamplitude, quality good, good level",
          "<b>Topic 4</b><br>Words: check rawbunchminamplitude, rawbunchminamplitude quality, rawbunchminamplitude, quality good, good level",
          "<b>Topic 4</b><br>Words: check rawbunchminamplitude, rawbunchminamplitude quality, rawbunchminamplitude, good level, quality good",
          "<b>Topic 4</b><br>Words: check rawbunchminamplitude, rawbunchminamplitude quality, rawbunchminamplitude, quality good, good level",
          "<b>Topic 4</b><br>Words: check rawbunchminamplitude, rawbunchminamplitude quality, rawbunchminamplitude, quality good, good level",
          "<b>Topic 4</b><br>Words: check rawbunchminamplitude, rawbunchminamplitude quality, rawbunchminamplitude, quality good, good level",
          "<b>Topic 4</b><br>Words: check rawbunchminamplitude, rawbunchminamplitude quality, rawbunchminamplitude, quality good, good level",
          "<b>Topic 4</b><br>Words: check rawbunchminamplitude, rawbunchminamplitude quality, rawbunchminamplitude, quality good, good level",
          "<b>Topic 4</b><br>Words: check rawbunchminamplitude, rawbunchminamplitude quality, rawbunchminamplitude, good level, quality good",
          "<b>Topic 4</b><br>Words: check rawbunchminamplitude, rawbunchminamplitude quality, rawbunchminamplitude, bad setting, to red",
          "<b>Topic 4</b><br>Words: check rawbunchminamplitude, rawbunchminamplitude quality, rawbunchminamplitude, quality good, good level",
          "<b>Topic 4</b><br>Words: 1455129, check rawbunchminamplitude, rawbunchminamplitude quality, rawbunchminamplitude, count 1455129",
          "<b>Topic 4</b><br>Words: check rawbunchminamplitude, rawbunchminamplitude quality, rawbunchminamplitude, good level, quality good",
          "<b>Topic 4</b><br>Words: check rawbunchminamplitude, rawbunchminamplitude quality, rawbunchminamplitude, quality good, good level",
          "<b>Topic 4</b><br>Words: check rawbunchminamplitude, rawbunchminamplitude quality, rawbunchminamplitude, quality good, good level",
          "<b>Topic 4</b><br>Words: check rawbunchminamplitude, rawbunchminamplitude quality, rawbunchminamplitude, quality good, good level",
          "<b>Topic 4</b><br>Words: check rawbunchminamplitude, rawbunchminamplitude quality, rawbunchminamplitude, quality good, good level",
          "<b>Topic 4</b><br>Words: check rawbunchminamplitude, rawbunchminamplitude quality, rawbunchminamplitude, 129582 check, 129582",
          "<b>Topic 4</b><br>Words: check rawbunchminamplitude, rawbunchminamplitude quality, rawbunchminamplitude, quality good, good level",
          "<b>Topic 4</b><br>Words: check rawbunchminamplitude, rawbunchminamplitude quality, rawbunchminamplitude, quality good, good level",
          "<b>Topic 4</b><br>Words: check rawbunchminamplitude, rawbunchminamplitude quality, rawbunchminamplitude, quality good, good level",
          "<b>Topic 4</b><br>Words: check rawbunchminamplitude, rawbunchminamplitude quality, rawbunchminamplitude, quality good, good level",
          "<b>Topic 4</b><br>Words: check rawbunchminamplitude, rawbunchminamplitude quality, rawbunchminamplitude, quality good, good level",
          "<b>Topic 4</b><br>Words: check rawbunchminamplitude, rawbunchminamplitude quality, rawbunchminamplitude, quality good, good level",
          "<b>Topic 4</b><br>Words: check rawbunchminamplitude, rawbunchminamplitude quality, rawbunchminamplitude, quality good, good level",
          "<b>Topic 4</b><br>Words: check rawbunchminamplitude, rawbunchminamplitude quality, rawbunchminamplitude, quality good, good level",
          "<b>Topic 4</b><br>Words: check rawbunchminamplitude, rawbunchminamplitude quality, rawbunchminamplitude, quality good, good level",
          "<b>Topic 4</b><br>Words: check rawbunchminamplitude, rawbunchminamplitude quality, rawbunchminamplitude, good level, quality good",
          "<b>Topic 4</b><br>Words: check rawbunchminamplitude, rawbunchminamplitude quality, rawbunchminamplitude, quality good, good level",
          "<b>Topic 4</b><br>Words: check rawbunchminamplitude, rawbunchminamplitude quality, rawbunchminamplitude, quality good, good level",
          "<b>Topic 4</b><br>Words: check rawbunchminamplitude, rawbunchminamplitude quality, rawbunchminamplitude, good level, quality good",
          "<b>Topic 4</b><br>Words: check rawbunchminamplitude, rawbunchminamplitude quality, rawbunchminamplitude, quality good, good level",
          "<b>Topic 4</b><br>Words: check rawbunchminamplitude, rawbunchminamplitude quality, rawbunchminamplitude, quality good, good level",
          "<b>Topic 4</b><br>Words: check rawbunchminamplitude, rawbunchminamplitude quality, rawbunchminamplitude, good level, quality good",
          "<b>Topic 4</b><br>Words: check rawbunchminamplitude, rawbunchminamplitude quality, rawbunchminamplitude, quality good, good level",
          "<b>Topic 4</b><br>Words: check rawbunchminamplitude, rawbunchminamplitude quality, rawbunchminamplitude, quality good, good level",
          "<b>Topic 4</b><br>Words: check rawbunchminamplitude, rawbunchminamplitude quality, rawbunchminamplitude, quality good, good level",
          "<b>Topic 4</b><br>Words: check rawbunchminamplitude, rawbunchminamplitude quality, rawbunchminamplitude, quality good, good level",
          "<b>Topic 4</b><br>Words: check rawbunchminamplitude, rawbunchminamplitude quality, rawbunchminamplitude, good level, quality good",
          "<b>Topic 4</b><br>Words: check rawbunchminamplitude, rawbunchminamplitude quality, rawbunchminamplitude, quality good, good level",
          "<b>Topic 4</b><br>Words: check rawbunchminamplitude, rawbunchminamplitude quality, rawbunchminamplitude, quality good, good level",
          "<b>Topic 4</b><br>Words: check rawbunchminamplitude, rawbunchminamplitude quality, rawbunchminamplitude, good level, quality good",
          "<b>Topic 4</b><br>Words: check rawbunchminamplitude, rawbunchminamplitude quality, rawbunchminamplitude, good level, quality good",
          "<b>Topic 4</b><br>Words: check rawbunchminamplitude, rawbunchminamplitude quality, rawbunchminamplitude, quality good, good level",
          "<b>Topic 4</b><br>Words: check rawbunchminamplitude, rawbunchminamplitude quality, rawbunchminamplitude, quality good, good level"
         ],
         "marker": {
          "color": "#D55E00"
         },
         "name": "4_check rawbunchminamplitude_rawbunchmin...",
         "orientation": "h",
         "type": "bar",
         "visible": "legendonly",
         "x": [
          46,
          20701,
          7842,
          2568,
          47,
          322,
          344,
          115,
          1196,
          16412,
          1468,
          12,
          232,
          1,
          2388,
          202,
          617,
          163,
          308,
          2,
          23,
          391,
          180,
          50,
          161,
          710,
          9450,
          92,
          391,
          484,
          209,
          184,
          24,
          23,
          292,
          462,
          2795,
          368,
          46,
          1127,
          713,
          3929,
          116,
          93,
          1863,
          571,
          521
         ],
         "y": [
          " end calibration",
          "start tests the day.",
          "preparation for tpc scan",
          "mid expert request.",
          "phos/cpv",
          "end test",
          "tpc scan ",
          "pdp expert request,",
          "exclude emc.",
          "prepare for cosmics",
          "sl request to include mid",
          "exclude fv0.",
          "all epns crashed simultaneously",
          "ali-ecs core restarted",
          "stopping to include trd",
          "end calibration",
          "preparing for physics",
          "trigger readout went to zero.",
          "all epns crashed simultaneously with primary vertex error.",
          "need to restart trigger.",
          "started by mistake",
          "epn went flat",
          "expert request cpv",
          "emcal",
          " jit-4e1deca4ebdf11d52f3ee4f99c0c46f78222361d-mch-qctaskmchdigits-proxy",
          "change luminosity",
          "lhc dumped beam dump",
          "operator error: run restarted the same partition.",
          "changed predefined physics configuration",
          "adjust handshake",
          "all epns crashed simultaneously.",
          "change predefined configuration.",
          "rm asks to stop the run",
          "triggers out synch. disabling ctp readout.",
          "tpc expert request.",
          "include maximum number epns (211)",
          "change lumi to 1mhz",
          "issues known; expert informed",
          "calibration ended automatically",
          "change config for mft",
          "eor test.",
          "beam dump",
          "dpl errors on ali02-cr1-flp080 -  tpc flp (run stopped by the operator).",
          "tpc need to disable re-sync.",
          "change trigger rate to 500 khz",
          "texpert request",
          "revert readout configuration to see if it helps with errors from tpc (flp080) and its."
         ]
        },
        {
         "hoverinfo": "text",
         "hovertext": [
          "<b>Topic 5</b><br>Words: 1664548303506 updating, 1664548303506, timestamp 1664548303506, 1664548303475 updating, 1664548303475",
          "<b>Topic 5</b><br>Words: updating the, triggertype timestamp, triggertype, to trigger, trigger triggertype",
          "<b>Topic 5</b><br>Words: updating the, triggertype timestamp, trigger triggertype, task due, to trigger",
          "<b>Topic 5</b><br>Words: updating the, triggertype timestamp, triggertype, to trigger, task due",
          "<b>Topic 5</b><br>Words: updating the, triggertype timestamp, to trigger, task due, trigger triggertype",
          "<b>Topic 5</b><br>Words: updating the, triggertype timestamp, task due, triggertype, trigger triggertype",
          "<b>Topic 5</b><br>Words: updating the, triggertype timestamp, to trigger, task due, triggertype",
          "<b>Topic 5</b><br>Words: timestamp 1664351173468, 1664351173468, 1664351173468 updating, updating the, triggertype timestamp",
          "<b>Topic 5</b><br>Words: updating the, triggertype timestamp, trigger triggertype, task due, to trigger",
          "<b>Topic 5</b><br>Words: updating the, triggertype timestamp, task due, to trigger, trigger triggertype",
          "<b>Topic 5</b><br>Words: updating the, triggertype timestamp, to trigger, task due, triggertype",
          "<b>Topic 5</b><br>Words: updating the, triggertype timestamp, triggertype, trigger triggertype, to trigger",
          "<b>Topic 5</b><br>Words: updating the, triggertype timestamp, task due, to trigger, triggertype",
          "<b>Topic 5</b><br>Words: updating the, triggertype timestamp, triggertype, trigger triggertype, task due",
          "<b>Topic 5</b><br>Words: timestamp 1664363450635, 1664363451254, 1664363582564, timestamp 1664363390718, 1664363571181",
          "<b>Topic 5</b><br>Words: updating the, triggertype timestamp, to trigger, task due, trigger triggertype",
          "<b>Topic 5</b><br>Words: timestamp 1664679751701, 1664679751701, 1664679751701 updating, updating the, triggertype timestamp",
          "<b>Topic 5</b><br>Words: 1664560055322 updating, 1664560032904 updating, timestamp 1664560032904, timestamp 1664560055322, 1664560059442",
          "<b>Topic 5</b><br>Words: updating the, triggertype timestamp, task due, trigger triggertype, triggertype",
          "<b>Topic 5</b><br>Words: triggertype timestamp, trigger triggertype, triggertype, task due, to trigger",
          "<b>Topic 5</b><br>Words: updating the, triggertype timestamp, task due, trigger triggertype, triggertype",
          "<b>Topic 5</b><br>Words: updating the, triggertype timestamp, triggertype, to trigger, trigger triggertype",
          "<b>Topic 5</b><br>Words: updating the, triggertype timestamp, to trigger, trigger triggertype, task due",
          "<b>Topic 5</b><br>Words: 1664737455374, timestamp 1664737455374, 1664737455374 updating, updating the, triggertype timestamp",
          "<b>Topic 5</b><br>Words: 1664453587561 updating, 1664453587561, timestamp 1664453587561, 1664453587590, timestamp 1664453587590",
          "<b>Topic 5</b><br>Words: updating the, triggertype timestamp, trigger triggertype, triggertype, to trigger",
          "<b>Topic 5</b><br>Words: updating the, triggertype timestamp, trigger triggertype, triggertype, task due",
          "<b>Topic 5</b><br>Words: 1664345259448, 1664345259436 updating, 1664345259436, timestamp 1664345259436, timestamp 1664345259448",
          "<b>Topic 5</b><br>Words: updating the, triggertype timestamp, to trigger, trigger triggertype, task due",
          "<b>Topic 5</b><br>Words: updating the, triggertype timestamp, triggertype, to trigger, trigger triggertype",
          "<b>Topic 5</b><br>Words: updating the, triggertype timestamp, to trigger, trigger triggertype, task due",
          "<b>Topic 5</b><br>Words: 1664655610018 updating, 1664655730019 updating, 1664655730019, timestamp 1664655730019, 1664655610018",
          "<b>Topic 5</b><br>Words: updating the, triggertype timestamp, task due, to trigger, trigger triggertype",
          "<b>Topic 5</b><br>Words: updating the, triggertype timestamp, task due, to trigger, trigger triggertype",
          "<b>Topic 5</b><br>Words: updating the, triggertype timestamp, trigger triggertype, to trigger, triggertype",
          "<b>Topic 5</b><br>Words: updating the, triggertype timestamp, trigger triggertype, triggertype, task due",
          "<b>Topic 5</b><br>Words: updating the, triggertype timestamp, trigger triggertype, task due, to trigger",
          "<b>Topic 5</b><br>Words: updating the, triggertype timestamp, to trigger, task due, triggertype",
          "<b>Topic 5</b><br>Words: 1664738104889 updating, 1664738104889, timestamp 1664738104889, 1664738104878, timestamp 1664738104878",
          "<b>Topic 5</b><br>Words: updating the, triggertype timestamp, task due, to trigger, trigger triggertype",
          "<b>Topic 5</b><br>Words: updating the, triggertype timestamp, task due, triggertype, to trigger",
          "<b>Topic 5</b><br>Words: updating the, triggertype timestamp, task due, to trigger, triggertype",
          "<b>Topic 5</b><br>Words: updating the, triggertype timestamp, to trigger, trigger triggertype, task due",
          "<b>Topic 5</b><br>Words: updating the, triggertype timestamp, to trigger, task due, trigger triggertype",
          "<b>Topic 5</b><br>Words: 1664527736563, 1664527736563 updating, timestamp 1664527736563, 1664527796607 updating, timestamp 1664527796607",
          "<b>Topic 5</b><br>Words: updating the, triggertype timestamp, task due, triggertype, trigger triggertype",
          "<b>Topic 5</b><br>Words: updating the, triggertype timestamp, trigger triggertype, task due, to trigger",
          "<b>Topic 5</b><br>Words: updating the, triggertype timestamp, to trigger, trigger triggertype, task due",
          "<b>Topic 5</b><br>Words: updating the, triggertype timestamp, to trigger, task due, trigger triggertype",
          "<b>Topic 5</b><br>Words: 1664621723061 updating, timestamp 1664621663035, 1664621783099 updating, 1664621783099, 1664621663035 updating",
          "<b>Topic 5</b><br>Words: 1664730126557, 1664730126557 updating, timestamp 1664730126557, updating the, triggertype timestamp",
          "<b>Topic 5</b><br>Words: updating the, triggertype timestamp, to trigger, task due, trigger triggertype",
          "<b>Topic 5</b><br>Words: timestamp 1664525234666, timestamp 1664525114563, 1664525234601 updating, 1664525234601, timestamp 1664525234601",
          "<b>Topic 5</b><br>Words: updating the, triggertype timestamp, task due, trigger triggertype, triggertype",
          "<b>Topic 5</b><br>Words: updating the, triggertype timestamp, task due, trigger triggertype, triggertype"
         ],
         "marker": {
          "color": "#0072B2"
         },
         "name": "5_updating the_triggertype timestamp_tri...",
         "orientation": "h",
         "type": "bar",
         "visible": "legendonly",
         "x": [
          24,
          39,
          17911,
          5068,
          2329,
          280,
          37,
          2,
          287,
          304,
          447,
          1127,
          9298,
          1395,
          29,
          165,
          165,
          4,
          2075,
          178,
          636,
          112,
          312,
          2,
          3,
          327,
          165,
          8,
          150,
          635,
          6748,
          85,
          327,
          455,
          142,
          157,
          76,
          208,
          24,
          263,
          93,
          483,
          2377,
          260,
          30,
          1098,
          498,
          3761,
          139,
          107,
          40,
          1768,
          9,
          497,
          411
         ],
         "y": [
          " end calibration",
          "prepare for injection",
          "start tests the day.",
          "preparation for tpc scan",
          "mid expert request.",
          "problem on alio2-cr1-flp080, backpressure. possible cause: from_readout-proxy_to_tpc-idc-to-vector.",
          "phos/cpv",
          "sor failed for mch",
          "end test",
          "tpc scan ",
          "pdp expert request,",
          "exclude emc.",
          "prepare for cosmics",
          "sl request to include mid",
          "exclude fv0.",
          "all epns crashed simultaneously",
          "mch-qcmn-epn-full-track-matching crashed.",
          "normal eor after 5 minutes.",
          "stopping to include trd",
          "end calibration",
          "preparing for physics",
          "trigger readout went to zero.",
          "all epns crashed simultaneously with primary vertex error.",
          "need to restart trigger.",
          "started by mistake",
          "epn went flat",
          "expert request cpv",
          "emcal",
          " jit-4e1deca4ebdf11d52f3ee4f99c0c46f78222361d-mch-qctaskmchdigits-proxy",
          "change luminosity",
          "lhc dumped beam dump",
          "operator error: run restarted the same partition.",
          "changed predefined physics configuration",
          "adjust handshake",
          "all epns crashed simultaneously.",
          "change predefined configuration.",
          "rm asks to stop the run",
          "release ecs lock for mch",
          "triggers out synch. disabling ctp readout.",
          "tpc expert request.",
          "preparation for calibration.",
          "include maximum number epns (211)",
          "change lumi to 1mhz",
          "issues known; expert informed",
          "calibration ended automatically",
          "change config for mft",
          "eor test.",
          "beam dump",
          "dpl errors on ali02-cr1-flp080 -  tpc flp (run stopped by the operator).",
          "tpc need to disable re-sync.",
          "request from tpc expert.",
          "change trigger rate to 500 khz",
          "include tpc.",
          "texpert request",
          "revert readout configuration to see if it helps with errors from tpc (flp080) and its."
         ]
        },
        {
         "hoverinfo": "text",
         "hovertext": [
          "<b>Topic 177</b><br>Words: roc starting, starting dma, dma for, dma, starting",
          "<b>Topic 177</b><br>Words: roc starting, starting dma, dma for, dma, starting",
          "<b>Topic 177</b><br>Words: 0x6028 to, dma for, roc starting, starting dma, 184 stave",
          "<b>Topic 177</b><br>Words: starting dma, roc starting, dma for, dma, starting",
          "<b>Topic 177</b><br>Words: starting dma, roc starting, dma for, dma, starting",
          "<b>Topic 177</b><br>Words: roc starting, dma for, starting dma, dma, for roc",
          "<b>Topic 177</b><br>Words: stopping dma, roc stopping, dma for, stopping, dma",
          "<b>Topic 177</b><br>Words: stopping dma, dma for, dma, roc starting, starting dma",
          "<b>Topic 177</b><br>Words: dma for, roc starting, starting dma, 16854 gap, 16852",
          "<b>Topic 177</b><br>Words: starting dma, roc starting, dma for, dma, starting",
          "<b>Topic 177</b><br>Words: roc starting, starting dma, dma for, dma, starting",
          "<b>Topic 177</b><br>Words: stopping dma, dma for, dma, ddl0 stopping, ddl1 stopping",
          "<b>Topic 177</b><br>Words: dma for, roc starting, starting dma, dma, stopping dma",
          "<b>Topic 177</b><br>Words: roc stopping, stopping dma, stopping, dma for, dma",
          "<b>Topic 177</b><br>Words: roc starting, starting dma, dma for, dma, starting",
          "<b>Topic 177</b><br>Words: stopping dma, dma for, dma, roc stopping, stopping",
          "<b>Topic 177</b><br>Words: roc starting, starting dma, dma for, dma, starting",
          "<b>Topic 177</b><br>Words: starting dma, roc starting, dma for, dma, starting",
          "<b>Topic 177</b><br>Words: stopping dma, roc stopping, stopping, dma for, dma",
          "<b>Topic 177</b><br>Words: roc stopping, stopping dma, dma for, stopping, dma",
          "<b>Topic 177</b><br>Words: dma for, roc starting, starting dma, dma, roc stopping",
          "<b>Topic 177</b><br>Words: dma for, stopping dma, ddl0 stopping, dma, ddl1 stopping",
          "<b>Topic 177</b><br>Words: roc starting, starting dma, dma for, dma, starting",
          "<b>Topic 177</b><br>Words: starting dma, roc starting, dma for, dma, starting",
          "<b>Topic 177</b><br>Words: roc starting, starting dma, dma for, dma, starting",
          "<b>Topic 177</b><br>Words: roc starting, starting dma, dma for, dma, starting",
          "<b>Topic 177</b><br>Words: starting dma, dma for, m2 starting, m3 starting, dma",
          "<b>Topic 177</b><br>Words: roc stopping, stopping dma, dma for, stopping, dma",
          "<b>Topic 177</b><br>Words: starting dma, roc starting, dma for, dma, starting",
          "<b>Topic 177</b><br>Words: starting dma, roc starting, dma for, dma, starting",
          "<b>Topic 177</b><br>Words: dma for, roc starting, starting dma, dma, stopping dma",
          "<b>Topic 177</b><br>Words: m2 starting, roc m2, roc m4, m4 starting, starting dma",
          "<b>Topic 177</b><br>Words: starting dma, roc starting, dma for, dma, starting",
          "<b>Topic 177</b><br>Words: dma for, starting dma, roc starting, dma, ids 5294",
          "<b>Topic 177</b><br>Words: roc starting, starting dma, dma for, dma, starting",
          "<b>Topic 177</b><br>Words: starting dma, roc starting, dma for, dma, starting",
          "<b>Topic 177</b><br>Words: roc starting, starting dma, dma for, dma, starting",
          "<b>Topic 177</b><br>Words: starting dma, roc starting, dma for, dma, starting",
          "<b>Topic 177</b><br>Words: stopping dma, roc stopping, stopping, dma for, dma",
          "<b>Topic 177</b><br>Words: roc starting, starting dma, dma for, dma, for roc",
          "<b>Topic 177</b><br>Words: roc starting, starting dma, dma for, dma, starting",
          "<b>Topic 177</b><br>Words: starting dma, roc starting, dma for, dma, starting",
          "<b>Topic 177</b><br>Words: stopping dma, dma for, ddl0 stopping, dma, roc starting",
          "<b>Topic 177</b><br>Words: starting dma, roc starting, dma for, dma, starting",
          "<b>Topic 177</b><br>Words: starting dma, roc starting, dma for, dma, starting",
          "<b>Topic 177</b><br>Words: roc starting, starting dma, dma for, dma, starting",
          "<b>Topic 177</b><br>Words: starting dma, roc starting, dma for, dma, starting",
          "<b>Topic 177</b><br>Words: stopping dma, roc stopping, dma for, stopping, dma",
          "<b>Topic 177</b><br>Words: roc stopping, stopping dma, dma for, dma, stopping",
          "<b>Topic 177</b><br>Words: starting dma, roc starting, dma for, dma, starting",
          "<b>Topic 177</b><br>Words: starting dma, roc starting, dma for, dma, starting",
          "<b>Topic 177</b><br>Words: roc starting, starting dma, dma for, dma, starting",
          "<b>Topic 177</b><br>Words: starting dma, roc starting, dma for, dma, starting",
          "<b>Topic 177</b><br>Words: roc starting, starting dma, dma for, dma, for roc",
          "<b>Topic 177</b><br>Words: starting dma, roc starting, dma for, dma, starting",
          "<b>Topic 177</b><br>Words: roc stopping, stopping dma, stopping, dma for, dma",
          "<b>Topic 177</b><br>Words: roc starting, starting dma, dma for, dma, starting"
         ],
         "marker": {
          "color": "#CC79A7"
         },
         "name": "177_dma for_roc starting_starting dma_dm...",
         "orientation": "h",
         "type": "bar",
         "visible": "legendonly",
         "x": [
          635,
          760,
          1,
          841,
          888,
          897,
          2462,
          106,
          4,
          761,
          911,
          230,
          5,
          252,
          884,
          97,
          64,
          830,
          12,
          941,
          18995,
          87,
          929,
          1856,
          929,
          803,
          16,
          776,
          882,
          837,
          2531,
          9,
          966,
          18,
          823,
          800,
          195,
          851,
          3322,
          832,
          928,
          1832,
          61,
          876,
          961,
          622,
          750,
          81,
          5190,
          877,
          880,
          943,
          866,
          197,
          923,
          703,
          925
         ],
         "y": [
          " end calibration",
          "prepare for injection",
          "start tests the day.",
          "preparation for tpc scan",
          "mid expert request.",
          "problem on alio2-cr1-flp080, backpressure. possible cause: from_readout-proxy_to_tpc-idc-to-vector.",
          "phos/cpv",
          "sor failed for mch",
          "dcs sor failed (no sor_progressing).",
          "end test",
          "tpc scan ",
          "pdp expert request,",
          "calibration failed",
          "exclude emc.",
          "sl request to include mid",
          "exclude fv0.",
          "all epns crashed simultaneously",
          "mch-qcmn-epn-full-track-matching crashed.",
          "normal eor after 5 minutes.",
          "ali-ecs core restarted",
          "end calibration",
          "preparing for physics",
          "trigger readout went to zero.",
          "all epns crashed simultaneously with primary vertex error.",
          "need to restart trigger.",
          "epn went flat",
          "expert request cpv",
          "emcal",
          "request from flp expert.",
          " jit-4e1deca4ebdf11d52f3ee4f99c0c46f78222361d-mch-qctaskmchdigits-proxy",
          "change luminosity",
          "cpv recover hv trip.",
          "lhc dumped beam dump",
          "operator error: run restarted the same partition.",
          "changed predefined physics configuration",
          "adjust handshake",
          "all epns crashed simultaneously.",
          "change predefined configuration.",
          "rm asks to stop the run",
          "release ecs lock for mch",
          "triggers out synch. disabling ctp readout.",
          "tpc expert request.",
          "preparation for calibration.",
          "include maximum number epns (211)",
          "change lumi to 1mhz",
          "calibration ended automatically",
          "change config for mft",
          "eor test.",
          "beam dump",
          "dpl errors on ali02-cr1-flp080 -  tpc flp (run stopped by the operator).",
          "tpc need to disable re-sync.",
          "request from tpc expert.",
          "change trigger rate to 500 khz",
          "include tpc.",
          "texpert request",
          "end the calibration",
          "revert readout configuration to see if it helps with errors from tpc (flp080) and its."
         ]
        },
        {
         "hoverinfo": "text",
         "hovertext": [
          "<b>Topic 1882</b><br>Words: 82603 mb, memavailable 82603, 82603, proc, proc meminfo",
          "<b>Topic 1882</b><br>Words: 450 454, ids 450, 454 non, 454, 450",
          "<b>Topic 1882</b><br>Words: fhr_lanes_of_l5_36, drawing fhr_lanes_of_l5_36, fhr_lanes_of_l5_36 drawing, fhr_occ_of_l4_24 drawing, fhr_occ_of_l4_24",
          "<b>Topic 1882</b><br>Words: contiguous, contiguous timeframe, non contiguous, non, ids",
          "<b>Topic 1882</b><br>Words: non contiguous, contiguous, contiguous timeframe, non, timeframe ids",
          "<b>Topic 1882</b><br>Words: taskid 2ap4nbe2kbt, 2ap4nbe2kbt, state task_killed, message reason, source source_executor",
          "<b>Topic 1882</b><br>Words: contiguous timeframe, contiguous, non contiguous, non, timeframe ids",
          "<b>Topic 1882</b><br>Words: roc 0979, 0979, opening roc, opening, contiguous timeframe",
          "<b>Topic 1882</b><br>Words: 5280, 15851, contiguous, non contiguous, contiguous timeframe",
          "<b>Topic 1882</b><br>Words: ids 62, 62 77, 77 non, 62, 77",
          "<b>Topic 1882</b><br>Words: 50 59, 59 non, ids 50, 59, 50",
          "<b>Topic 1882</b><br>Words: 30934, 31012, previous 31012, 30934 gap, previous 30934",
          "<b>Topic 1882</b><br>Words: disabled checkoflaser_trending, block 0x7f5c9da00000, 0x7f5c9da00000 14334033920, tpc register, 0x7f5c9da00000",
          "<b>Topic 1882</b><br>Words: contiguous timeframe, non contiguous, contiguous, non, ids",
          "<b>Topic 1882</b><br>Words: ids 1048, 1048 1054, 1054, 1048, non contiguous",
          "<b>Topic 1882</b><br>Words: non contiguous, contiguous, contiguous timeframe, non, 343397",
          "<b>Topic 1882</b><br>Words: non contiguous, contiguous, contiguous timeframe, non, ids 43529",
          "<b>Topic 1882</b><br>Words: contiguous, contiguous timeframe, non contiguous, non, 20299 20301",
          "<b>Topic 1882</b><br>Words: contiguous timeframe, contiguous, non contiguous, non, timeframe ids",
          "<b>Topic 1882</b><br>Words: 315 kb, throughput 315, 315, kb, average data",
          "<b>Topic 1882</b><br>Words: non contiguous, contiguous timeframe, contiguous, non, ids 54811",
          "<b>Topic 1882</b><br>Words: contiguous timeframe, non contiguous, contiguous, non, ids non",
          "<b>Topic 1882</b><br>Words: non contiguous, contiguous, contiguous timeframe, non, 54717",
          "<b>Topic 1882</b><br>Words: ids 131121, 125603 non, 131123 non, 131062 131064, 131121 131123",
          "<b>Topic 1882</b><br>Words: contiguous timeframe, non contiguous, contiguous, non, ids",
          "<b>Topic 1882</b><br>Words: contiguous, contiguous timeframe, non contiguous, non, 433114 433116",
          "<b>Topic 1882</b><br>Words: 14080, ids 1952, 1954 non, 14078 14080, ids 14078",
          "<b>Topic 1882</b><br>Words: 1115 1123, ids 1115, 1123 non, 1115, 1123",
          "<b>Topic 1882</b><br>Words: 3314 3317, ids 3314, 3317 non, 3317, 3314",
          "<b>Topic 1882</b><br>Words: non contiguous, contiguous, contiguous timeframe, non, ids",
          "<b>Topic 1882</b><br>Words: 111 113, ids 111, 113 non, 123 125, ids 123",
          "<b>Topic 1882</b><br>Words: non contiguous, contiguous timeframe, contiguous, non, ids",
          "<b>Topic 1882</b><br>Words: 10576, 10581 non, 5302 5304, ids 10574, ids 10579",
          "<b>Topic 1882</b><br>Words: non contiguous, contiguous, contiguous timeframe, non, ids",
          "<b>Topic 1882</b><br>Words: 2574 463611118, channels new, 463161548, 13341 dcolumns, 198 461859370",
          "<b>Topic 1882</b><br>Words: contiguous, contiguous timeframe, non contiguous, non, 84742",
          "<b>Topic 1882</b><br>Words: contiguous timeframe, contiguous, non contiguous, non, ids",
          "<b>Topic 1882</b><br>Words: contiguous, contiguous timeframe, non contiguous, non, ids",
          "<b>Topic 1882</b><br>Words: 2ap8vr5w2ob task, taskid 2ap8vr5w2ob, taskid 2ap9qnju2kb, 2ap8vr5w2ob, 2ap9qnju2kb",
          "<b>Topic 1882</b><br>Words: 181344, 181295 181297, 175661 175663, ids 181344, ids 181295",
          "<b>Topic 1882</b><br>Words: contiguous, contiguous timeframe, non contiguous, non, timeframe ids",
          "<b>Topic 1882</b><br>Words: 9215, 8903, 9606, 9372, 8512",
          "<b>Topic 1882</b><br>Words: 50 63, 63 non, ids 50, 63, 50",
          "<b>Topic 1882</b><br>Words: contiguous timeframe, non contiguous, contiguous, non, timeframe ids",
          "<b>Topic 1882</b><br>Words: 214173, 208923, 214155, 214155 214173, 214173 non",
          "<b>Topic 1882</b><br>Words: non contiguous, contiguous timeframe, contiguous, non, ids",
          "<b>Topic 1882</b><br>Words: contiguous, non contiguous, contiguous timeframe, non, ids",
          "<b>Topic 1882</b><br>Words: contiguous, contiguous timeframe, non contiguous, non, timeframe ids",
          "<b>Topic 1882</b><br>Words: 10334 non, 10329 10334, ids 10329, 10329, 10334",
          "<b>Topic 1882</b><br>Words: data_ecs_eq1830_2022_10_02__18_52_21__, data_ecs_eq1830_2022_10_02__18_52_21__ lz4, tmp data_ecs_eq1830_2022_10_02__18_52_21__, lz4 equipment, stu generates",
          "<b>Topic 1882</b><br>Words: fhr_occ_of_l6_19 drawing, fhr_occ_of_l6_47, drawing fhr_occ_of_l6_47, fhr_occ_of_l5_28 drawing, drawing fhr_occ_of_l6_19",
          "<b>Topic 1882</b><br>Words: non contiguous, contiguous, contiguous timeframe, non, 855361",
          "<b>Topic 1882</b><br>Words: 427729, 427659, 427659 427729, ids 427659, 427729 non",
          "<b>Topic 1882</b><br>Words: 278267 links, 7033 44, 268157 average, 278462 links, 756 733",
          "<b>Topic 1882</b><br>Words: contiguous timeframe, contiguous, non contiguous, non, timeframe ids"
         ],
         "marker": {
          "color": "#E69F00"
         },
         "name": "1882_non contiguous_contiguous timeframe...",
         "orientation": "h",
         "type": "bar",
         "visible": "legendonly",
         "x": [
          1,
          14,
          10,
          7954,
          2668,
          1,
          1048,
          1,
          152,
          27,
          27,
          7,
          4,
          1548,
          1,
          675,
          210,
          147,
          350,
          1,
          266,
          837,
          132,
          52,
          791,
          81,
          29,
          20,
          122,
          430,
          24,
          9538,
          28,
          1019,
          8,
          605,
          751,
          1106,
          2,
          59,
          1655,
          94,
          25,
          2860,
          139,
          3625,
          13209,
          1414,
          192,
          2,
          35,
          204,
          67,
          8,
          2104
         ],
         "y": [
          " end calibration",
          "prepare for injection",
          "start tests the day.",
          "preparation for tpc scan",
          "mid expert request.",
          "problem on alio2-cr1-flp080, backpressure. possible cause: from_readout-proxy_to_tpc-idc-to-vector.",
          "phos/cpv",
          "sor failed for mch",
          "dcs sor failed (no sor_progressing).",
          "end test",
          "tpc scan ",
          "pdp expert request,",
          "calibration failed",
          "sl request to include mid",
          "exclude fv0.",
          "all epns crashed simultaneously",
          "mch-qcmn-epn-full-track-matching crashed.",
          "ali-ecs core restarted",
          "end calibration",
          "preparing for physics",
          "trigger readout went to zero.",
          "all epns crashed simultaneously with primary vertex error.",
          "mch",
          "need to restart trigger.",
          "epn went flat",
          "tpc not ready at sor",
          "expert request cpv",
          "emcal",
          " jit-4e1deca4ebdf11d52f3ee4f99c0c46f78222361d-mch-qctaskmchdigits-proxy",
          "change luminosity",
          "cpv recover hv trip.",
          "lhc dumped beam dump",
          "operator error: run restarted the same partition.",
          "changed predefined physics configuration",
          "adjust handshake",
          "all epns crashed simultaneously.",
          "change predefined configuration.",
          "rm asks to stop the run",
          "release ecs lock for mch",
          "triggers out synch. disabling ctp readout.",
          "tpc expert request.",
          "preparation for calibration.",
          "include maximum number epns (211)",
          "change lumi to 1mhz",
          "calibration ended automatically",
          "change config for mft",
          "beam dump",
          "dpl errors on ali02-cr1-flp080 -  tpc flp (run stopped by the operator).",
          "tpc need to disable re-sync.",
          "request from tpc expert.",
          "change trigger rate to 500 khz",
          "include tpc.",
          "texpert request",
          "end the calibration",
          "revert readout configuration to see if it helps with errors from tpc (flp080) and its."
         ]
        },
        {
         "hoverinfo": "text",
         "hovertext": [
          "<b>Topic 1910</b><br>Words: pulsercheck2d quality, check pulsercheck2d, pulsercheck2d, nohgperddl found, in nohgperddl",
          "<b>Topic 1910</b><br>Words: nohgperddl found, in nohgperddl, nohgperddl, in fec, of ddl",
          "<b>Topic 1910</b><br>Words: nohgperddl found, in nohgperddl, nohgperddl, fec, of ddl",
          "<b>Topic 1910</b><br>Words: in nohgperddl, nohgperddl found, nohgperddl, fec, of ddl",
          "<b>Topic 1910</b><br>Words: nohgperddl found, in nohgperddl, nohgperddl, fec, of ddl",
          "<b>Topic 1910</b><br>Words: nohgperddl found, in nohgperddl, nohgperddl, in fec, of ddl",
          "<b>Topic 1910</b><br>Words: in nohgperddl, nohgperddl found, nohgperddl, fec of, in fec",
          "<b>Topic 1910</b><br>Words: nohgperddl found, in nohgperddl, nohgperddl, of ddl, fec",
          "<b>Topic 1910</b><br>Words: in nohgperddl, nohgperddl found, nohgperddl, of ddl, in fec",
          "<b>Topic 1910</b><br>Words: in nohgperddl, nohgperddl found, nohgperddl, fec, of ddl",
          "<b>Topic 1910</b><br>Words: 15 987, 987 gb, 987, received 15, in nohgperddl",
          "<b>Topic 1910</b><br>Words: nohgperddl found, in nohgperddl, nohgperddl, fec, in fec",
          "<b>Topic 1910</b><br>Words: in nohgperddl, nohgperddl found, nohgperddl, fec, in fec",
          "<b>Topic 1910</b><br>Words: nohgperddl found, in nohgperddl, nohgperddl, in fec, fec",
          "<b>Topic 1910</b><br>Words: in nohgperddl, nohgperddl found, nohgperddl, of ddl, fec",
          "<b>Topic 1910</b><br>Words: nohgperddl found, in nohgperddl, nohgperddl, in fec, of ddl",
          "<b>Topic 1910</b><br>Words: in nohgperddl, nohgperddl found, nohgperddl, fec, in fec",
          "<b>Topic 1910</b><br>Words: nohgperddl found, in nohgperddl, nohgperddl, of ddl, fec",
          "<b>Topic 1910</b><br>Words: in nohgperddl, nohgperddl found, nohgperddl, fec, in fec",
          "<b>Topic 1910</b><br>Words: nohgperddl found, in nohgperddl, nohgperddl, in fec, fec",
          "<b>Topic 1910</b><br>Words: nohgperddl found, in nohgperddl, nohgperddl, in fec, of ddl",
          "<b>Topic 1910</b><br>Words: in nohgperddl, nohgperddl found, nohgperddl, fec, of ddl",
          "<b>Topic 1910</b><br>Words: nohgperddl found, in nohgperddl, nohgperddl, fec, of ddl",
          "<b>Topic 1910</b><br>Words: in nohgperddl, nohgperddl found, nohgperddl, in fec, fec",
          "<b>Topic 1910</b><br>Words: in nohgperddl, nohgperddl found, nohgperddl, of ddl, fec",
          "<b>Topic 1910</b><br>Words: in nohgperddl, nohgperddl found, nohgperddl, fec of, in fec",
          "<b>Topic 1910</b><br>Words: nohgperddl found, in nohgperddl, nohgperddl, in fec, fec",
          "<b>Topic 1910</b><br>Words: nohgperddl found, in nohgperddl, nohgperddl, of ddl, fec",
          "<b>Topic 1910</b><br>Words: nohgperddl found, in nohgperddl, nohgperddl, in fec, of ddl",
          "<b>Topic 1910</b><br>Words: in nohgperddl, nohgperddl found, nohgperddl, of ddl, in fec",
          "<b>Topic 1910</b><br>Words: in nohgperddl, nohgperddl found, nohgperddl, in fec, of ddl",
          "<b>Topic 1910</b><br>Words: in nohgperddl, nohgperddl found, nohgperddl, fec, of ddl",
          "<b>Topic 1910</b><br>Words: nohgperddl found, in nohgperddl, nohgperddl, fec, of ddl",
          "<b>Topic 1910</b><br>Words: nohgperddl found, in nohgperddl, nohgperddl, fec of, fec",
          "<b>Topic 1910</b><br>Words: in nohgperddl, nohgperddl found, nohgperddl, of ddl, in fec",
          "<b>Topic 1910</b><br>Words: nohgperddl found, in nohgperddl, nohgperddl, fec, in fec",
          "<b>Topic 1910</b><br>Words: nohgperddl found, in nohgperddl, nohgperddl, in fec, of ddl",
          "<b>Topic 1910</b><br>Words: nohgperddl found, in nohgperddl, nohgperddl, in fec, fec",
          "<b>Topic 1910</b><br>Words: starting dma, dma for, dma, starting, roc equipment",
          "<b>Topic 1910</b><br>Words: nohgperddl found, in nohgperddl, nohgperddl, of ddl, in fec",
          "<b>Topic 1910</b><br>Words: 0x6101 rusw, rusw 145, feeid 0x6101, 0x6101, 0x00b9 lid1",
          "<b>Topic 1910</b><br>Words: nohgperddl found, in nohgperddl, nohgperddl, in fec, fec",
          "<b>Topic 1910</b><br>Words: 61 311, avg 53046, 817646 ok, 559908384 avg, checks 817646",
          "<b>Topic 1910</b><br>Words: nohgperddl found, in nohgperddl, nohgperddl, in fec, fec"
         ],
         "marker": {
          "color": "#56B4E9"
         },
         "name": "1910_nohgperddl found_in nohgperddl_nohg...",
         "orientation": "h",
         "type": "bar",
         "visible": "legendonly",
         "x": [
          3,
          4835,
          5404,
          58,
          505,
          146,
          59,
          6,
          4735,
          180,
          1,
          53,
          77,
          124,
          260,
          7,
          11,
          515,
          331,
          19,
          70,
          544,
          2576,
          352,
          1072,
          120,
          252,
          24,
          19,
          106,
          7,
          1753,
          5499,
          36,
          4583,
          5363,
          76,
          50,
          1,
          2171,
          1,
          952,
          4,
          1443
         ],
         "y": [
          " end calibration",
          "preparation for tpc scan",
          "mid expert request.",
          "phos/cpv",
          "end test",
          "tpc scan ",
          "pdp expert request,",
          "calibration failed",
          "sl request to include mid",
          "all epns crashed simultaneously",
          "normal eor after 5 minutes.",
          "end calibration",
          "preparing for physics",
          "trigger readout went to zero.",
          "all epns crashed simultaneously with primary vertex error.",
          "need to restart trigger.",
          "started by mistake",
          "epn went flat",
          "expert request cpv",
          "emcal",
          " jit-4e1deca4ebdf11d52f3ee4f99c0c46f78222361d-mch-qctaskmchdigits-proxy",
          "change luminosity",
          "lhc dumped beam dump",
          "changed predefined physics configuration",
          "adjust handshake",
          "all epns crashed simultaneously.",
          "change predefined configuration.",
          "rm asks to stop the run",
          "triggers out synch. disabling ctp readout.",
          "tpc expert request.",
          "preparation for calibration.",
          "include maximum number epns (211)",
          "change lumi to 1mhz",
          "calibration ended automatically",
          "change config for mft",
          "beam dump",
          "dpl errors on ali02-cr1-flp080 -  tpc flp (run stopped by the operator).",
          "tpc need to disable re-sync.",
          "request from tpc expert.",
          "change trigger rate to 500 khz",
          "include tpc.",
          "texpert request",
          "end the calibration",
          "revert readout configuration to see if it helps with errors from tpc (flp080) and its."
         ]
        },
        {
         "hoverinfo": "text",
         "hovertext": [
          "<b>Topic 1923</b><br>Words: starting dma, dma for, dma, starting, roc equipment",
          "<b>Topic 1923</b><br>Words: orbit 0x0422bf00, 0x0422beff, 12 0x570, 0x04268400 not, orbit 0x04268400",
          "<b>Topic 1923</b><br>Words: col, row, sm, in channel, channel col",
          "<b>Topic 1923</b><br>Words: row, col, in channel, channel col, sm",
          "<b>Topic 1923</b><br>Words: row, col, sm, in channel, channel col",
          "<b>Topic 1923</b><br>Words: row, col, in channel, sm, channel col",
          "<b>Topic 1923</b><br>Words: row, col, channelhgnolg found, in channelhgnolg, channelhgnolg",
          "<b>Topic 1923</b><br>Words: row, col, in channel, sm, channel col",
          "<b>Topic 1923</b><br>Words: 0x7ef55e600000 9552527360, 0x7f7f1bc00000, block 0x7f7f1bc00000, block 0x7faadfc00000, block 0x7ef55e600000",
          "<b>Topic 1923</b><br>Words: row, col, in channel, channel col, sm",
          "<b>Topic 1923</b><br>Words: row, col, in channelhgnolg, channelhgnolg found, channelhgnolg",
          "<b>Topic 1923</b><br>Words: size 911757, 911757, 911757 bytes, 2aszhxujj4r, taskid 2aszhxujj4r",
          "<b>Topic 1923</b><br>Words: row, col, sm, in channel, channel col",
          "<b>Topic 1923</b><br>Words: col, row, sm 15, 15 row, in channel",
          "<b>Topic 1923</b><br>Words: col, row, channel col, sm, in channel",
          "<b>Topic 1923</b><br>Words: row, col, channel col, in channel, sm",
          "<b>Topic 1923</b><br>Words: 2178 100393269, 100393269 on, 100393269, 49 stave, ru 49",
          "<b>Topic 1923</b><br>Words: row, col, sm, in channel, channel col",
          "<b>Topic 1923</b><br>Words: col, row, channel col, sm, in channel",
          "<b>Topic 1923</b><br>Words: row, col, in channel, sm, channel col",
          "<b>Topic 1923</b><br>Words: in channellgnohg, channellgnohg found, channellgnohg, col, row",
          "<b>Topic 1923</b><br>Words: col, row, channelhgnolg found, in channelhgnolg, channelhgnolg",
          "<b>Topic 1923</b><br>Words: col, row, channel col, sm, in channel",
          "<b>Topic 1923</b><br>Words: col, row, channellgnohg found, in channellgnohg, channellgnohg",
          "<b>Topic 1923</b><br>Words: row, col, in channelhgnolg, channelhgnolg found, channelhgnolg",
          "<b>Topic 1923</b><br>Words: col, row, in channel, channel col, sm",
          "<b>Topic 1923</b><br>Words: col, row, sm, in channel, channel col",
          "<b>Topic 1923</b><br>Words: row, col, channel col, in channel, sm",
          "<b>Topic 1923</b><br>Words: col, row, sm, in channel, channel col",
          "<b>Topic 1923</b><br>Words: col, row, in channel, channel col, sm",
          "<b>Topic 1923</b><br>Words: row, col, in channel, channel col, sm",
          "<b>Topic 1923</b><br>Words: col 24, sm 12, 12 row, row col, 24",
          "<b>Topic 1923</b><br>Words: col, row, in channel, sm, channel col",
          "<b>Topic 1923</b><br>Words: row, col, sm, in channel, channel col",
          "<b>Topic 1923</b><br>Words: col, row, in channel, channel col, sm",
          "<b>Topic 1923</b><br>Words: row, col, channellgnohg found, in channellgnohg, channellgnohg",
          "<b>Topic 1923</b><br>Words: col, row, in channel, sm, channel col",
          "<b>Topic 1923</b><br>Words: col, row, sm, channel col, in channel",
          "<b>Topic 1923</b><br>Words: col, row, channel col, in channel, sm",
          "<b>Topic 1923</b><br>Words: orbit 0x00b95a80, 0x00b95a7f, 0x00b08900, 0x00b08900 0x00b0897f, 0x00b0897f",
          "<b>Topic 1923</b><br>Words: row, col, sm, channel col, in channel",
          "<b>Topic 1923</b><br>Words: row, col, in channel, sm, channel col",
          "<b>Topic 1923</b><br>Words: 269917 stats, 293 777, 191 hz, 606 191, 12 68",
          "<b>Topic 1923</b><br>Words: col, row, channellgnohg found, in channellgnohg, channellgnohg"
         ],
         "marker": {
          "color": "#009E73"
         },
         "name": "1923_row_col_in channel_channel col",
         "orientation": "h",
         "type": "bar",
         "visible": "legendonly",
         "x": [
          1,
          2,
          8778,
          9758,
          120,
          1054,
          407,
          148,
          9,
          8483,
          498,
          2,
          91,
          195,
          271,
          470,
          6,
          25,
          863,
          631,
          17,
          159,
          1189,
          3888,
          948,
          1873,
          303,
          398,
          66,
          27,
          249,
          9,
          3220,
          8912,
          79,
          6607,
          10929,
          162,
          99,
          4,
          4042,
          1824,
          5,
          2096
         ],
         "y": [
          " end calibration",
          "sor call failed",
          "preparation for tpc scan",
          "mid expert request.",
          "phos/cpv",
          "end test",
          "tpc scan ",
          "pdp expert request,",
          "calibration failed",
          "sl request to include mid",
          "all epns crashed simultaneously",
          "ali-ecs core restarted",
          "end calibration",
          "preparing for physics",
          "trigger readout went to zero.",
          "all epns crashed simultaneously with primary vertex error.",
          "need to restart trigger.",
          "started by mistake",
          "epn went flat",
          "expert request cpv",
          "emcal",
          " jit-4e1deca4ebdf11d52f3ee4f99c0c46f78222361d-mch-qctaskmchdigits-proxy",
          "change luminosity",
          "lhc dumped beam dump",
          "changed predefined physics configuration",
          "adjust handshake",
          "all epns crashed simultaneously.",
          "change predefined configuration.",
          "rm asks to stop the run",
          "triggers out synch. disabling ctp readout.",
          "tpc expert request.",
          "preparation for calibration.",
          "include maximum number epns (211)",
          "change lumi to 1mhz",
          "calibration ended automatically",
          "change config for mft",
          "beam dump",
          "dpl errors on ali02-cr1-flp080 -  tpc flp (run stopped by the operator).",
          "tpc need to disable re-sync.",
          "request from tpc expert.",
          "change trigger rate to 500 khz",
          "texpert request",
          "end the calibration",
          "revert readout configuration to see if it helps with errors from tpc (flp080) and its."
         ]
        }
       ],
       "layout": {
        "height": 900,
        "hoverlabel": {
         "bgcolor": "white",
         "font": {
          "family": "Rockwell",
          "size": 16
         }
        },
        "legend": {
         "title": {
          "text": "<b>Global Topic Representation"
         }
        },
        "template": {
         "data": {
          "bar": [
           {
            "error_x": {
             "color": "rgb(36,36,36)"
            },
            "error_y": {
             "color": "rgb(36,36,36)"
            },
            "marker": {
             "line": {
              "color": "white",
              "width": 0.5
             },
             "pattern": {
              "fillmode": "overlay",
              "size": 10,
              "solidity": 0.2
             }
            },
            "type": "bar"
           }
          ],
          "barpolar": [
           {
            "marker": {
             "line": {
              "color": "white",
              "width": 0.5
             },
             "pattern": {
              "fillmode": "overlay",
              "size": 10,
              "solidity": 0.2
             }
            },
            "type": "barpolar"
           }
          ],
          "carpet": [
           {
            "aaxis": {
             "endlinecolor": "rgb(36,36,36)",
             "gridcolor": "white",
             "linecolor": "white",
             "minorgridcolor": "white",
             "startlinecolor": "rgb(36,36,36)"
            },
            "baxis": {
             "endlinecolor": "rgb(36,36,36)",
             "gridcolor": "white",
             "linecolor": "white",
             "minorgridcolor": "white",
             "startlinecolor": "rgb(36,36,36)"
            },
            "type": "carpet"
           }
          ],
          "choropleth": [
           {
            "colorbar": {
             "outlinewidth": 1,
             "tickcolor": "rgb(36,36,36)",
             "ticks": "outside"
            },
            "type": "choropleth"
           }
          ],
          "contour": [
           {
            "colorbar": {
             "outlinewidth": 1,
             "tickcolor": "rgb(36,36,36)",
             "ticks": "outside"
            },
            "colorscale": [
             [
              0,
              "#440154"
             ],
             [
              0.1111111111111111,
              "#482878"
             ],
             [
              0.2222222222222222,
              "#3e4989"
             ],
             [
              0.3333333333333333,
              "#31688e"
             ],
             [
              0.4444444444444444,
              "#26828e"
             ],
             [
              0.5555555555555556,
              "#1f9e89"
             ],
             [
              0.6666666666666666,
              "#35b779"
             ],
             [
              0.7777777777777778,
              "#6ece58"
             ],
             [
              0.8888888888888888,
              "#b5de2b"
             ],
             [
              1,
              "#fde725"
             ]
            ],
            "type": "contour"
           }
          ],
          "contourcarpet": [
           {
            "colorbar": {
             "outlinewidth": 1,
             "tickcolor": "rgb(36,36,36)",
             "ticks": "outside"
            },
            "type": "contourcarpet"
           }
          ],
          "heatmap": [
           {
            "colorbar": {
             "outlinewidth": 1,
             "tickcolor": "rgb(36,36,36)",
             "ticks": "outside"
            },
            "colorscale": [
             [
              0,
              "#440154"
             ],
             [
              0.1111111111111111,
              "#482878"
             ],
             [
              0.2222222222222222,
              "#3e4989"
             ],
             [
              0.3333333333333333,
              "#31688e"
             ],
             [
              0.4444444444444444,
              "#26828e"
             ],
             [
              0.5555555555555556,
              "#1f9e89"
             ],
             [
              0.6666666666666666,
              "#35b779"
             ],
             [
              0.7777777777777778,
              "#6ece58"
             ],
             [
              0.8888888888888888,
              "#b5de2b"
             ],
             [
              1,
              "#fde725"
             ]
            ],
            "type": "heatmap"
           }
          ],
          "heatmapgl": [
           {
            "colorbar": {
             "outlinewidth": 1,
             "tickcolor": "rgb(36,36,36)",
             "ticks": "outside"
            },
            "colorscale": [
             [
              0,
              "#440154"
             ],
             [
              0.1111111111111111,
              "#482878"
             ],
             [
              0.2222222222222222,
              "#3e4989"
             ],
             [
              0.3333333333333333,
              "#31688e"
             ],
             [
              0.4444444444444444,
              "#26828e"
             ],
             [
              0.5555555555555556,
              "#1f9e89"
             ],
             [
              0.6666666666666666,
              "#35b779"
             ],
             [
              0.7777777777777778,
              "#6ece58"
             ],
             [
              0.8888888888888888,
              "#b5de2b"
             ],
             [
              1,
              "#fde725"
             ]
            ],
            "type": "heatmapgl"
           }
          ],
          "histogram": [
           {
            "marker": {
             "line": {
              "color": "white",
              "width": 0.6
             }
            },
            "type": "histogram"
           }
          ],
          "histogram2d": [
           {
            "colorbar": {
             "outlinewidth": 1,
             "tickcolor": "rgb(36,36,36)",
             "ticks": "outside"
            },
            "colorscale": [
             [
              0,
              "#440154"
             ],
             [
              0.1111111111111111,
              "#482878"
             ],
             [
              0.2222222222222222,
              "#3e4989"
             ],
             [
              0.3333333333333333,
              "#31688e"
             ],
             [
              0.4444444444444444,
              "#26828e"
             ],
             [
              0.5555555555555556,
              "#1f9e89"
             ],
             [
              0.6666666666666666,
              "#35b779"
             ],
             [
              0.7777777777777778,
              "#6ece58"
             ],
             [
              0.8888888888888888,
              "#b5de2b"
             ],
             [
              1,
              "#fde725"
             ]
            ],
            "type": "histogram2d"
           }
          ],
          "histogram2dcontour": [
           {
            "colorbar": {
             "outlinewidth": 1,
             "tickcolor": "rgb(36,36,36)",
             "ticks": "outside"
            },
            "colorscale": [
             [
              0,
              "#440154"
             ],
             [
              0.1111111111111111,
              "#482878"
             ],
             [
              0.2222222222222222,
              "#3e4989"
             ],
             [
              0.3333333333333333,
              "#31688e"
             ],
             [
              0.4444444444444444,
              "#26828e"
             ],
             [
              0.5555555555555556,
              "#1f9e89"
             ],
             [
              0.6666666666666666,
              "#35b779"
             ],
             [
              0.7777777777777778,
              "#6ece58"
             ],
             [
              0.8888888888888888,
              "#b5de2b"
             ],
             [
              1,
              "#fde725"
             ]
            ],
            "type": "histogram2dcontour"
           }
          ],
          "mesh3d": [
           {
            "colorbar": {
             "outlinewidth": 1,
             "tickcolor": "rgb(36,36,36)",
             "ticks": "outside"
            },
            "type": "mesh3d"
           }
          ],
          "parcoords": [
           {
            "line": {
             "colorbar": {
              "outlinewidth": 1,
              "tickcolor": "rgb(36,36,36)",
              "ticks": "outside"
             }
            },
            "type": "parcoords"
           }
          ],
          "pie": [
           {
            "automargin": true,
            "type": "pie"
           }
          ],
          "scatter": [
           {
            "fillpattern": {
             "fillmode": "overlay",
             "size": 10,
             "solidity": 0.2
            },
            "type": "scatter"
           }
          ],
          "scatter3d": [
           {
            "line": {
             "colorbar": {
              "outlinewidth": 1,
              "tickcolor": "rgb(36,36,36)",
              "ticks": "outside"
             }
            },
            "marker": {
             "colorbar": {
              "outlinewidth": 1,
              "tickcolor": "rgb(36,36,36)",
              "ticks": "outside"
             }
            },
            "type": "scatter3d"
           }
          ],
          "scattercarpet": [
           {
            "marker": {
             "colorbar": {
              "outlinewidth": 1,
              "tickcolor": "rgb(36,36,36)",
              "ticks": "outside"
             }
            },
            "type": "scattercarpet"
           }
          ],
          "scattergeo": [
           {
            "marker": {
             "colorbar": {
              "outlinewidth": 1,
              "tickcolor": "rgb(36,36,36)",
              "ticks": "outside"
             }
            },
            "type": "scattergeo"
           }
          ],
          "scattergl": [
           {
            "marker": {
             "colorbar": {
              "outlinewidth": 1,
              "tickcolor": "rgb(36,36,36)",
              "ticks": "outside"
             }
            },
            "type": "scattergl"
           }
          ],
          "scattermapbox": [
           {
            "marker": {
             "colorbar": {
              "outlinewidth": 1,
              "tickcolor": "rgb(36,36,36)",
              "ticks": "outside"
             }
            },
            "type": "scattermapbox"
           }
          ],
          "scatterpolar": [
           {
            "marker": {
             "colorbar": {
              "outlinewidth": 1,
              "tickcolor": "rgb(36,36,36)",
              "ticks": "outside"
             }
            },
            "type": "scatterpolar"
           }
          ],
          "scatterpolargl": [
           {
            "marker": {
             "colorbar": {
              "outlinewidth": 1,
              "tickcolor": "rgb(36,36,36)",
              "ticks": "outside"
             }
            },
            "type": "scatterpolargl"
           }
          ],
          "scatterternary": [
           {
            "marker": {
             "colorbar": {
              "outlinewidth": 1,
              "tickcolor": "rgb(36,36,36)",
              "ticks": "outside"
             }
            },
            "type": "scatterternary"
           }
          ],
          "surface": [
           {
            "colorbar": {
             "outlinewidth": 1,
             "tickcolor": "rgb(36,36,36)",
             "ticks": "outside"
            },
            "colorscale": [
             [
              0,
              "#440154"
             ],
             [
              0.1111111111111111,
              "#482878"
             ],
             [
              0.2222222222222222,
              "#3e4989"
             ],
             [
              0.3333333333333333,
              "#31688e"
             ],
             [
              0.4444444444444444,
              "#26828e"
             ],
             [
              0.5555555555555556,
              "#1f9e89"
             ],
             [
              0.6666666666666666,
              "#35b779"
             ],
             [
              0.7777777777777778,
              "#6ece58"
             ],
             [
              0.8888888888888888,
              "#b5de2b"
             ],
             [
              1,
              "#fde725"
             ]
            ],
            "type": "surface"
           }
          ],
          "table": [
           {
            "cells": {
             "fill": {
              "color": "rgb(237,237,237)"
             },
             "line": {
              "color": "white"
             }
            },
            "header": {
             "fill": {
              "color": "rgb(217,217,217)"
             },
             "line": {
              "color": "white"
             }
            },
            "type": "table"
           }
          ]
         },
         "layout": {
          "annotationdefaults": {
           "arrowhead": 0,
           "arrowwidth": 1
          },
          "autotypenumbers": "strict",
          "coloraxis": {
           "colorbar": {
            "outlinewidth": 1,
            "tickcolor": "rgb(36,36,36)",
            "ticks": "outside"
           }
          },
          "colorscale": {
           "diverging": [
            [
             0,
             "rgb(103,0,31)"
            ],
            [
             0.1,
             "rgb(178,24,43)"
            ],
            [
             0.2,
             "rgb(214,96,77)"
            ],
            [
             0.3,
             "rgb(244,165,130)"
            ],
            [
             0.4,
             "rgb(253,219,199)"
            ],
            [
             0.5,
             "rgb(247,247,247)"
            ],
            [
             0.6,
             "rgb(209,229,240)"
            ],
            [
             0.7,
             "rgb(146,197,222)"
            ],
            [
             0.8,
             "rgb(67,147,195)"
            ],
            [
             0.9,
             "rgb(33,102,172)"
            ],
            [
             1,
             "rgb(5,48,97)"
            ]
           ],
           "sequential": [
            [
             0,
             "#440154"
            ],
            [
             0.1111111111111111,
             "#482878"
            ],
            [
             0.2222222222222222,
             "#3e4989"
            ],
            [
             0.3333333333333333,
             "#31688e"
            ],
            [
             0.4444444444444444,
             "#26828e"
            ],
            [
             0.5555555555555556,
             "#1f9e89"
            ],
            [
             0.6666666666666666,
             "#35b779"
            ],
            [
             0.7777777777777778,
             "#6ece58"
            ],
            [
             0.8888888888888888,
             "#b5de2b"
            ],
            [
             1,
             "#fde725"
            ]
           ],
           "sequentialminus": [
            [
             0,
             "#440154"
            ],
            [
             0.1111111111111111,
             "#482878"
            ],
            [
             0.2222222222222222,
             "#3e4989"
            ],
            [
             0.3333333333333333,
             "#31688e"
            ],
            [
             0.4444444444444444,
             "#26828e"
            ],
            [
             0.5555555555555556,
             "#1f9e89"
            ],
            [
             0.6666666666666666,
             "#35b779"
            ],
            [
             0.7777777777777778,
             "#6ece58"
            ],
            [
             0.8888888888888888,
             "#b5de2b"
            ],
            [
             1,
             "#fde725"
            ]
           ]
          },
          "colorway": [
           "#1F77B4",
           "#FF7F0E",
           "#2CA02C",
           "#D62728",
           "#9467BD",
           "#8C564B",
           "#E377C2",
           "#7F7F7F",
           "#BCBD22",
           "#17BECF"
          ],
          "font": {
           "color": "rgb(36,36,36)"
          },
          "geo": {
           "bgcolor": "white",
           "lakecolor": "white",
           "landcolor": "white",
           "showlakes": true,
           "showland": true,
           "subunitcolor": "white"
          },
          "hoverlabel": {
           "align": "left"
          },
          "hovermode": "closest",
          "mapbox": {
           "style": "light"
          },
          "paper_bgcolor": "white",
          "plot_bgcolor": "white",
          "polar": {
           "angularaxis": {
            "gridcolor": "rgb(232,232,232)",
            "linecolor": "rgb(36,36,36)",
            "showgrid": false,
            "showline": true,
            "ticks": "outside"
           },
           "bgcolor": "white",
           "radialaxis": {
            "gridcolor": "rgb(232,232,232)",
            "linecolor": "rgb(36,36,36)",
            "showgrid": false,
            "showline": true,
            "ticks": "outside"
           }
          },
          "scene": {
           "xaxis": {
            "backgroundcolor": "white",
            "gridcolor": "rgb(232,232,232)",
            "gridwidth": 2,
            "linecolor": "rgb(36,36,36)",
            "showbackground": true,
            "showgrid": false,
            "showline": true,
            "ticks": "outside",
            "zeroline": false,
            "zerolinecolor": "rgb(36,36,36)"
           },
           "yaxis": {
            "backgroundcolor": "white",
            "gridcolor": "rgb(232,232,232)",
            "gridwidth": 2,
            "linecolor": "rgb(36,36,36)",
            "showbackground": true,
            "showgrid": false,
            "showline": true,
            "ticks": "outside",
            "zeroline": false,
            "zerolinecolor": "rgb(36,36,36)"
           },
           "zaxis": {
            "backgroundcolor": "white",
            "gridcolor": "rgb(232,232,232)",
            "gridwidth": 2,
            "linecolor": "rgb(36,36,36)",
            "showbackground": true,
            "showgrid": false,
            "showline": true,
            "ticks": "outside",
            "zeroline": false,
            "zerolinecolor": "rgb(36,36,36)"
           }
          },
          "shapedefaults": {
           "fillcolor": "black",
           "line": {
            "width": 0
           },
           "opacity": 0.3
          },
          "ternary": {
           "aaxis": {
            "gridcolor": "rgb(232,232,232)",
            "linecolor": "rgb(36,36,36)",
            "showgrid": false,
            "showline": true,
            "ticks": "outside"
           },
           "baxis": {
            "gridcolor": "rgb(232,232,232)",
            "linecolor": "rgb(36,36,36)",
            "showgrid": false,
            "showline": true,
            "ticks": "outside"
           },
           "bgcolor": "white",
           "caxis": {
            "gridcolor": "rgb(232,232,232)",
            "linecolor": "rgb(36,36,36)",
            "showgrid": false,
            "showline": true,
            "ticks": "outside"
           }
          },
          "title": {
           "x": 0.05
          },
          "xaxis": {
           "automargin": true,
           "gridcolor": "rgb(232,232,232)",
           "linecolor": "rgb(36,36,36)",
           "showgrid": false,
           "showline": true,
           "ticks": "outside",
           "title": {
            "standoff": 15
           },
           "zeroline": false,
           "zerolinecolor": "rgb(36,36,36)"
          },
          "yaxis": {
           "automargin": true,
           "gridcolor": "rgb(232,232,232)",
           "linecolor": "rgb(36,36,36)",
           "showgrid": false,
           "showline": true,
           "ticks": "outside",
           "title": {
            "standoff": 15
           },
           "zeroline": false,
           "zerolinecolor": "rgb(36,36,36)"
          }
         }
        },
        "title": {
         "font": {
          "color": "Black",
          "size": 22
         },
         "text": "<b>Topics per Class</b>",
         "x": 0.4,
         "xanchor": "center",
         "y": 0.95,
         "yanchor": "top"
        },
        "width": 1250,
        "xaxis": {
         "showgrid": true,
         "title": {
          "text": "Frequency"
         }
        },
        "yaxis": {
         "showgrid": true,
         "title": {
          "text": "Class"
         }
        }
       }
      }
     },
     "metadata": {},
     "output_type": "display_data"
    }
   ],
   "source": [
    "topics_per_class = topic_model.model.topics_per_class(df.content.tolist(), df.EOR.tolist())\n",
    "topic_model.model.visualize_topics_per_class(topics_per_class)"
   ]
  },
  {
   "cell_type": "code",
   "execution_count": 54,
   "metadata": {},
   "outputs": [
    {
     "data": {
      "text/html": [
       "<div>\n",
       "<style scoped>\n",
       "    .dataframe tbody tr th:only-of-type {\n",
       "        vertical-align: middle;\n",
       "    }\n",
       "\n",
       "    .dataframe tbody tr th {\n",
       "        vertical-align: top;\n",
       "    }\n",
       "\n",
       "    .dataframe thead th {\n",
       "        text-align: right;\n",
       "    }\n",
       "</style>\n",
       "<table border=\"1\" class=\"dataframe\">\n",
       "  <thead>\n",
       "    <tr style=\"text-align: right;\">\n",
       "      <th></th>\n",
       "      <th>session_id</th>\n",
       "      <th>severity</th>\n",
       "      <th>content</th>\n",
       "      <th>event_id</th>\n",
       "      <th>event_template</th>\n",
       "      <th>label</th>\n",
       "      <th>EOR</th>\n",
       "      <th>EOR_id</th>\n",
       "      <th>run_quality</th>\n",
       "      <th>topic</th>\n",
       "    </tr>\n",
       "  </thead>\n",
       "  <tbody>\n",
       "    <tr>\n",
       "      <th>179910</th>\n",
       "      <td>24064</td>\n",
       "      <td>I</td>\n",
       "      <td>Stopping DMA for ROC H1-D4-F0</td>\n",
       "      <td>505</td>\n",
       "      <td>Stopping DMA for ROC &lt;*&gt;</td>\n",
       "      <td>not crashed</td>\n",
       "      <td>eor test.</td>\n",
       "      <td>61.0</td>\n",
       "      <td>test</td>\n",
       "      <td>177</td>\n",
       "    </tr>\n",
       "    <tr>\n",
       "      <th>179911</th>\n",
       "      <td>24064</td>\n",
       "      <td>I</td>\n",
       "      <td>Stopping DMA for ROC H1-D4-F1</td>\n",
       "      <td>505</td>\n",
       "      <td>Stopping DMA for ROC &lt;*&gt;</td>\n",
       "      <td>not crashed</td>\n",
       "      <td>eor test.</td>\n",
       "      <td>61.0</td>\n",
       "      <td>test</td>\n",
       "      <td>177</td>\n",
       "    </tr>\n",
       "    <tr>\n",
       "      <th>179912</th>\n",
       "      <td>24064</td>\n",
       "      <td>I</td>\n",
       "      <td>Stopping DMA for ROC H0-D0-F0</td>\n",
       "      <td>505</td>\n",
       "      <td>Stopping DMA for ROC &lt;*&gt;</td>\n",
       "      <td>not crashed</td>\n",
       "      <td>eor test.</td>\n",
       "      <td>61.0</td>\n",
       "      <td>test</td>\n",
       "      <td>177</td>\n",
       "    </tr>\n",
       "    <tr>\n",
       "      <th>179913</th>\n",
       "      <td>24064</td>\n",
       "      <td>I</td>\n",
       "      <td>Stopping DMA for ROC H0-D0-F1</td>\n",
       "      <td>505</td>\n",
       "      <td>Stopping DMA for ROC &lt;*&gt;</td>\n",
       "      <td>not crashed</td>\n",
       "      <td>eor test.</td>\n",
       "      <td>61.0</td>\n",
       "      <td>test</td>\n",
       "      <td>177</td>\n",
       "    </tr>\n",
       "    <tr>\n",
       "      <th>187195</th>\n",
       "      <td>24064</td>\n",
       "      <td>I</td>\n",
       "      <td>Stopping DMA for ROC H1-D4-F0</td>\n",
       "      <td>505</td>\n",
       "      <td>Stopping DMA for ROC &lt;*&gt;</td>\n",
       "      <td>not crashed</td>\n",
       "      <td>eor test.</td>\n",
       "      <td>61.0</td>\n",
       "      <td>test</td>\n",
       "      <td>177</td>\n",
       "    </tr>\n",
       "    <tr>\n",
       "      <th>...</th>\n",
       "      <td>...</td>\n",
       "      <td>...</td>\n",
       "      <td>...</td>\n",
       "      <td>...</td>\n",
       "      <td>...</td>\n",
       "      <td>...</td>\n",
       "      <td>...</td>\n",
       "      <td>...</td>\n",
       "      <td>...</td>\n",
       "      <td>...</td>\n",
       "    </tr>\n",
       "    <tr>\n",
       "      <th>34847621</th>\n",
       "      <td>24356</td>\n",
       "      <td>I</td>\n",
       "      <td>ITSDecoder registered new link link cruID:0x00...</td>\n",
       "      <td>440</td>\n",
       "      <td>ITSDecoder registered new link link cruID:&lt;*&gt;</td>\n",
       "      <td>crashed</td>\n",
       "      <td>triggers out synch. disabling ctp readout.</td>\n",
       "      <td>59.0</td>\n",
       "      <td>bad</td>\n",
       "      <td>177</td>\n",
       "    </tr>\n",
       "    <tr>\n",
       "      <th>34848487</th>\n",
       "      <td>24356</td>\n",
       "      <td>I</td>\n",
       "      <td>ITSDecoder registered new link link cruID:0x00...</td>\n",
       "      <td>440</td>\n",
       "      <td>ITSDecoder registered new link link cruID:&lt;*&gt;</td>\n",
       "      <td>crashed</td>\n",
       "      <td>triggers out synch. disabling ctp readout.</td>\n",
       "      <td>59.0</td>\n",
       "      <td>bad</td>\n",
       "      <td>177</td>\n",
       "    </tr>\n",
       "    <tr>\n",
       "      <th>34849602</th>\n",
       "      <td>24356</td>\n",
       "      <td>I</td>\n",
       "      <td>ITSDecoder Attaching link cruID:0x00c1/lID8 fe...</td>\n",
       "      <td>441</td>\n",
       "      <td>ITSDecoder Attaching link cruID:&lt;*&gt;feeID:&lt;*&gt;</td>\n",
       "      <td>crashed</td>\n",
       "      <td>triggers out synch. disabling ctp readout.</td>\n",
       "      <td>59.0</td>\n",
       "      <td>bad</td>\n",
       "      <td>177</td>\n",
       "    </tr>\n",
       "    <tr>\n",
       "      <th>34849603</th>\n",
       "      <td>24356</td>\n",
       "      <td>I</td>\n",
       "      <td>ITSDecoder Attaching link cruID:0x00c1/lID9 fe...</td>\n",
       "      <td>441</td>\n",
       "      <td>ITSDecoder Attaching link cruID:&lt;*&gt;feeID:&lt;*&gt;</td>\n",
       "      <td>crashed</td>\n",
       "      <td>triggers out synch. disabling ctp readout.</td>\n",
       "      <td>59.0</td>\n",
       "      <td>bad</td>\n",
       "      <td>177</td>\n",
       "    </tr>\n",
       "    <tr>\n",
       "      <th>34854600</th>\n",
       "      <td>24356</td>\n",
       "      <td>I</td>\n",
       "      <td>New error registered at bc/orbit 0/107544069 o...</td>\n",
       "      <td>835</td>\n",
       "      <td>New error registered at bc/orbit &lt;*&gt;/&lt;*&gt; on th...</td>\n",
       "      <td>crashed</td>\n",
       "      <td>triggers out synch. disabling ctp readout.</td>\n",
       "      <td>59.0</td>\n",
       "      <td>bad</td>\n",
       "      <td>177</td>\n",
       "    </tr>\n",
       "  </tbody>\n",
       "</table>\n",
       "<p>65653 rows × 10 columns</p>\n",
       "</div>"
      ],
      "text/plain": [
       "          session_id severity  \\\n",
       "179910         24064        I   \n",
       "179911         24064        I   \n",
       "179912         24064        I   \n",
       "179913         24064        I   \n",
       "187195         24064        I   \n",
       "...              ...      ...   \n",
       "34847621       24356        I   \n",
       "34848487       24356        I   \n",
       "34849602       24356        I   \n",
       "34849603       24356        I   \n",
       "34854600       24356        I   \n",
       "\n",
       "                                                    content  event_id  \\\n",
       "179910                        Stopping DMA for ROC H1-D4-F0       505   \n",
       "179911                        Stopping DMA for ROC H1-D4-F1       505   \n",
       "179912                        Stopping DMA for ROC H0-D0-F0       505   \n",
       "179913                        Stopping DMA for ROC H0-D0-F1       505   \n",
       "187195                        Stopping DMA for ROC H1-D4-F0       505   \n",
       "...                                                     ...       ...   \n",
       "34847621  ITSDecoder registered new link link cruID:0x00...       440   \n",
       "34848487  ITSDecoder registered new link link cruID:0x00...       440   \n",
       "34849602  ITSDecoder Attaching link cruID:0x00c1/lID8 fe...       441   \n",
       "34849603  ITSDecoder Attaching link cruID:0x00c1/lID9 fe...       441   \n",
       "34854600  New error registered at bc/orbit 0/107544069 o...       835   \n",
       "\n",
       "                                             event_template        label  \\\n",
       "179910                             Stopping DMA for ROC <*>  not crashed   \n",
       "179911                             Stopping DMA for ROC <*>  not crashed   \n",
       "179912                             Stopping DMA for ROC <*>  not crashed   \n",
       "179913                             Stopping DMA for ROC <*>  not crashed   \n",
       "187195                             Stopping DMA for ROC <*>  not crashed   \n",
       "...                                                     ...          ...   \n",
       "34847621      ITSDecoder registered new link link cruID:<*>      crashed   \n",
       "34848487      ITSDecoder registered new link link cruID:<*>      crashed   \n",
       "34849602       ITSDecoder Attaching link cruID:<*>feeID:<*>      crashed   \n",
       "34849603       ITSDecoder Attaching link cruID:<*>feeID:<*>      crashed   \n",
       "34854600  New error registered at bc/orbit <*>/<*> on th...      crashed   \n",
       "\n",
       "                                                 EOR  EOR_id run_quality  \\\n",
       "179910                                     eor test.    61.0        test   \n",
       "179911                                     eor test.    61.0        test   \n",
       "179912                                     eor test.    61.0        test   \n",
       "179913                                     eor test.    61.0        test   \n",
       "187195                                     eor test.    61.0        test   \n",
       "...                                              ...     ...         ...   \n",
       "34847621  triggers out synch. disabling ctp readout.    59.0         bad   \n",
       "34848487  triggers out synch. disabling ctp readout.    59.0         bad   \n",
       "34849602  triggers out synch. disabling ctp readout.    59.0         bad   \n",
       "34849603  triggers out synch. disabling ctp readout.    59.0         bad   \n",
       "34854600  triggers out synch. disabling ctp readout.    59.0         bad   \n",
       "\n",
       "          topic  \n",
       "179910      177  \n",
       "179911      177  \n",
       "179912      177  \n",
       "179913      177  \n",
       "187195      177  \n",
       "...         ...  \n",
       "34847621    177  \n",
       "34848487    177  \n",
       "34849602    177  \n",
       "34849603    177  \n",
       "34854600    177  \n",
       "\n",
       "[65653 rows x 10 columns]"
      ]
     },
     "execution_count": 54,
     "metadata": {},
     "output_type": "execute_result"
    }
   ],
   "source": [
    "df[df['topic']==177]"
   ]
  },
  {
   "cell_type": "code",
   "execution_count": 8,
   "metadata": {},
   "outputs": [],
   "source": [
    "df.to_parquet('dataset/ALICE-OSLdataset/ALICE_info_no_severity_D_with_topic.parquet.gzip')"
   ]
  },
  {
   "cell_type": "markdown",
   "metadata": {},
   "source": [
    "# LMAO graph"
   ]
  },
  {
   "cell_type": "code",
   "execution_count": 6,
   "metadata": {},
   "outputs": [],
   "source": [
    "from lmao.graph import LMAOGraph"
   ]
  },
  {
   "cell_type": "code",
   "execution_count": 7,
   "metadata": {},
   "outputs": [
    {
     "name": "stdout",
     "output_type": "stream",
     "text": [
      "Topics size of this dataframe is : 2149\n",
      "Getting Group by from dataframe\n"
     ]
    },
    {
     "data": {
      "application/vnd.jupyter.widget-view+json": {
       "model_id": "de8a89659e7247219a3cdcbac0785ca3",
       "version_major": 2,
       "version_minor": 0
      },
      "text/plain": [
       "  0%|          | 0/126 [00:00<?, ?it/s]"
      ]
     },
     "metadata": {},
     "output_type": "display_data"
    },
    {
     "name": "stdout",
     "output_type": "stream",
     "text": [
      "Max sequence size of this dataframe is : 772369\n",
      "Please call .get_PyG() to get PyG dataloader.\n"
     ]
    }
   ],
   "source": [
    "data = LMAOGraph(df=pd.read_parquet('dataset/ALICE-OSLdataset/ALICE_info_no_severity_D_with_topic.parquet.gzip'),mode='pyg', padding=False)"
   ]
  },
  {
   "cell_type": "code",
   "execution_count": 7,
   "metadata": {},
   "outputs": [
    {
     "data": {
      "text/plain": [
       "41"
      ]
     },
     "execution_count": 7,
     "metadata": {},
     "output_type": "execute_result"
    }
   ],
   "source": [
    "data.df['X'].apply(len).sort_values(ascending=False).index[110]"
   ]
  },
  {
   "cell_type": "code",
   "execution_count": 8,
   "metadata": {},
   "outputs": [
    {
     "data": {
      "text/plain": [
       "84"
      ]
     },
     "execution_count": 8,
     "metadata": {},
     "output_type": "execute_result"
    }
   ],
   "source": [
    "G = data.get_one_graph(i=41, feature=False)\n",
    "len(G.nodes())"
   ]
  },
  {
   "cell_type": "code",
   "execution_count": 9,
   "metadata": {},
   "outputs": [
    {
     "data": {
      "text/plain": [
       "'crashed'"
      ]
     },
     "execution_count": 9,
     "metadata": {},
     "output_type": "execute_result"
    }
   ],
   "source": [
    "data.df['y'][41]"
   ]
  },
  {
   "cell_type": "code",
   "execution_count": 10,
   "metadata": {},
   "outputs": [],
   "source": [
    "from lmao.visualizer.plot import plotly_digraph"
   ]
  },
  {
   "cell_type": "code",
   "execution_count": 12,
   "metadata": {},
   "outputs": [
    {
     "data": {
      "application/vnd.plotly.v1+json": {
       "config": {
        "plotlyServerURL": "https://plot.ly"
       },
       "data": [
        {
         "hoverinfo": "none",
         "marker": {
          "angleref": "previous",
          "color": [
           0,
           0,
           0,
           0,
           0,
           0,
           0,
           0,
           0,
           0,
           0,
           0,
           0,
           0,
           0,
           0,
           0,
           0,
           0,
           0,
           0,
           0,
           0,
           0,
           0,
           0,
           0,
           0,
           0,
           0,
           0,
           0,
           0,
           0,
           0,
           0,
           0,
           0,
           0,
           0,
           0,
           0,
           0,
           0,
           0,
           0,
           0,
           0,
           0,
           0,
           0,
           0,
           0,
           0,
           0,
           0,
           0,
           0,
           0,
           0,
           0,
           0,
           0,
           0,
           0,
           0,
           0,
           0,
           0,
           0,
           0,
           0,
           0,
           0,
           0,
           0,
           0,
           0,
           0,
           0,
           0,
           0,
           0,
           0,
           0,
           0,
           0,
           0,
           0,
           0,
           0,
           0,
           0,
           0,
           0,
           0,
           0,
           0,
           0,
           0,
           0,
           0,
           0,
           0,
           0,
           0,
           0,
           0,
           0,
           0,
           0,
           0,
           0,
           0,
           0,
           0,
           0,
           0,
           0,
           0,
           0,
           0,
           0,
           0,
           0,
           0,
           0,
           0,
           0,
           0,
           0,
           0,
           0,
           0,
           0,
           0,
           0,
           0,
           0,
           0,
           0,
           0,
           0,
           0,
           0,
           0,
           0,
           0,
           0,
           0,
           0,
           0,
           0,
           0,
           0,
           0,
           0,
           0,
           0,
           0,
           0,
           0,
           0,
           0,
           0,
           0,
           0,
           1
          ],
          "colorscale": [
           [
            0,
            "#0508b8"
           ],
           [
            0.08333333333333333,
            "#1910d8"
           ],
           [
            0.16666666666666666,
            "#3c19f0"
           ],
           [
            0.25,
            "#6b1cfb"
           ],
           [
            0.3333333333333333,
            "#981cfd"
           ],
           [
            0.4166666666666667,
            "#bf1cfd"
           ],
           [
            0.5,
            "#dd2bfd"
           ],
           [
            0.5833333333333334,
            "#f246fe"
           ],
           [
            0.6666666666666666,
            "#fc67fd"
           ],
           [
            0.75,
            "#fe88fc"
           ],
           [
            0.8333333333333334,
            "#fea5fd"
           ],
           [
            0.9166666666666666,
            "#febefe"
           ],
           [
            1,
            "#fec3fe"
           ]
          ],
          "opacity": 0.7,
          "size": 10,
          "symbol": "arrow-bar-up"
         },
         "mode": "lines+markers",
         "opacity": 0.7,
         "type": "scatter",
         "x": [
          -0.3609243548704978,
          -0.019939390866995386,
          null,
          -0.3609243548704978,
          -0.6499524930519907,
          null,
          -0.3609243548704978,
          -0.5177044808971856,
          null,
          -0.3609243548704978,
          -0.3400257496799685,
          null,
          -0.019939390866995386,
          -0.46461561616359426,
          null,
          -0.019939390866995386,
          0.2850472628659181,
          null,
          -0.019939390866995386,
          -0.018141029651905113,
          null,
          -0.019939390866995386,
          -0.03419995526132176,
          null,
          -0.019939390866995386,
          -0.2274052240112417,
          null,
          -0.019939390866995386,
          -0.07975956668217868,
          null,
          -0.019939390866995386,
          -0.6071972971585902,
          null,
          -0.019939390866995386,
          -0.7377149206211734,
          null,
          -0.019939390866995386,
          -0.007184403757738106,
          null,
          -0.019939390866995386,
          0.1699768953750771,
          null,
          -0.019939390866995386,
          -0.1449940575624768,
          null,
          -0.019939390866995386,
          0.10788141368983419,
          null,
          -0.019939390866995386,
          0.21965502881317445,
          null,
          -0.019939390866995386,
          0.6509736818408923,
          null,
          -0.019939390866995386,
          0.3313435748333,
          null,
          -0.019939390866995386,
          -0.025348151493316717,
          null,
          -0.019939390866995386,
          -0.002617273999013637,
          null,
          -0.019939390866995386,
          0.15572885835928255,
          null,
          -0.019939390866995386,
          0.5293607752212262,
          null,
          -0.019939390866995386,
          0.24850950368709482,
          null,
          -0.019939390866995386,
          -0.19983810207117145,
          null,
          -0.019939390866995386,
          0.04466246967016414,
          null,
          -0.019939390866995386,
          -0.46526826028129004,
          null,
          -0.019939390866995386,
          -0.3609243548704978,
          null,
          -0.46461561616359426,
          -0.6513568208829016,
          null,
          -0.6513568208829016,
          -0.482124595224096,
          null,
          -0.482124595224096,
          -0.3609243548704978,
          null,
          -0.482124595224096,
          -0.3780537928107425,
          null,
          -0.6499524930519907,
          -0.3780537928107425,
          null,
          -0.6499524930519907,
          -0.9999999999999999,
          null,
          -0.6499524930519907,
          -0.41813661868568086,
          null,
          -0.6499524930519907,
          -0.6282556325228306,
          null,
          -0.3780537928107425,
          0.2617691187432994,
          null,
          -0.3780537928107425,
          -0.9999999999999999,
          null,
          0.2617691187432994,
          0.0874954411300454,
          null,
          0.0874954411300454,
          -0.007184403757738106,
          null,
          -0.007184403757738106,
          0.010183776374572533,
          null,
          -0.007184403757738106,
          -0.019939390866995386,
          null,
          0.010183776374572533,
          0.2850472628659181,
          null,
          0.010183776374572533,
          -0.19983810207117145,
          null,
          0.010183776374572533,
          0.08123457983718838,
          null,
          0.2850472628659181,
          0.2210381371062926,
          null,
          0.2210381371062926,
          0.46251798338170785,
          null,
          0.2210381371062926,
          -0.018141029651905113,
          null,
          0.46251798338170785,
          0.3622904858353715,
          null,
          0.3622904858353715,
          0.25172708104891756,
          null,
          0.25172708104891756,
          0.1151111472728499,
          null,
          0.1151111472728499,
          -0.018141029651905113,
          null,
          0.1151111472728499,
          0.2850472628659181,
          null,
          0.1151111472728499,
          -0.019939390866995386,
          null,
          -0.018141029651905113,
          0.2850472628659181,
          null,
          -0.018141029651905113,
          0.46251798338170785,
          null,
          -0.018141029651905113,
          -0.2274052240112417,
          null,
          -0.018141029651905113,
          -0.12321447255414968,
          null,
          -0.018141029651905113,
          -0.03419995526132176,
          null,
          -0.018141029651905113,
          -0.019939390866995386,
          null,
          -0.018141029651905113,
          -0.33012531802534945,
          null,
          -0.018141029651905113,
          -0.4265909691957715,
          null,
          -0.2274052240112417,
          -0.12321447255414968,
          null,
          -0.2274052240112417,
          -0.15872031096564193,
          null,
          -0.2274052240112417,
          -0.019939390866995386,
          null,
          -0.2274052240112417,
          -0.03419995526132176,
          null,
          -0.2274052240112417,
          -0.33012531802534945,
          null,
          -0.2274052240112417,
          -0.07975956668217868,
          null,
          -0.2274052240112417,
          -0.6071972971585902,
          null,
          -0.12321447255414968,
          -0.018141029651905113,
          null,
          -0.15872031096564193,
          -0.018141029651905113,
          null,
          -0.03419995526132176,
          -0.018141029651905113,
          null,
          -0.03419995526132176,
          -0.019939390866995386,
          null,
          -0.33012531802534945,
          -0.03419995526132176,
          null,
          -0.33012531802534945,
          -0.2274052240112417,
          null,
          -0.33012531802534945,
          -0.6071972971585902,
          null,
          -0.07975956668217868,
          -0.019939390866995386,
          null,
          -0.07975956668217868,
          -0.018141029651905113,
          null,
          -0.6071972971585902,
          -0.7377149206211734,
          null,
          -0.6071972971585902,
          -0.3842326065024164,
          null,
          -0.7377149206211734,
          -0.5581530262792411,
          null,
          -0.5581530262792411,
          -0.3842326065024164,
          null,
          -0.5581530262792411,
          -0.6071972971585902,
          null,
          -0.3842326065024164,
          -0.33012531802534945,
          null,
          -0.3842326065024164,
          -0.9078788179643522,
          null,
          -0.3842326065024164,
          -0.06729416853781715,
          null,
          -0.3842326065024164,
          -0.2274052240112417,
          null,
          -0.3842326065024164,
          -0.7377149206211734,
          null,
          -0.3842326065024164,
          -0.6071972971585902,
          null,
          -0.3842326065024164,
          -0.019939390866995386,
          null,
          -0.3842326065024164,
          0.010183776374572533,
          null,
          -0.9078788179643522,
          -0.7377149206211734,
          null,
          -0.06729416853781715,
          -0.019939390866995386,
          null,
          -0.19983810207117145,
          -0.3609243548704978,
          null,
          -0.19983810207117145,
          -0.019939390866995386,
          null,
          -0.5177044808971856,
          -0.41813661868568086,
          null,
          -0.41813661868568086,
          -0.3609243548704978,
          null,
          -0.41813661868568086,
          -0.3400257496799685,
          null,
          -0.9999999999999999,
          -0.8553140336468803,
          null,
          -0.8553140336468803,
          -0.9999999999999999,
          null,
          -0.8553140336468803,
          -0.6499524930519907,
          null,
          -0.3400257496799685,
          -0.019939390866995386,
          null,
          -0.3400257496799685,
          -0.6499524930519907,
          null,
          0.1699768953750771,
          0.49870369765524847,
          null,
          0.49870369765524847,
          0.5086704509408386,
          null,
          0.5086704509408386,
          0.32012737865423857,
          null,
          0.32012737865423857,
          0.11823860367737327,
          null,
          0.11823860367737327,
          0.010183776374572533,
          null,
          0.08123457983718838,
          -0.21878148688155857,
          null,
          -0.21878148688155857,
          -0.1465373944340764,
          null,
          -0.1465373944340764,
          -0.06324642713507904,
          null,
          -0.06324642713507904,
          -0.018141029651905113,
          null,
          -0.4265909691957715,
          -0.2657166410917978,
          null,
          -0.2657166410917978,
          -0.11231793466048273,
          null,
          -0.11231793466048273,
          -0.019939390866995386,
          null,
          -0.1449940575624768,
          -0.019939390866995386,
          null,
          0.10788141368983419,
          0.11825377369313075,
          null,
          0.11825377369313075,
          0.23684284299806047,
          null,
          0.11825377369313075,
          -0.019939390866995386,
          null,
          0.23684284299806047,
          0.47364715402972674,
          null,
          0.23684284299806047,
          -0.019939390866995386,
          null,
          0.47364715402972674,
          0.6509736818408923,
          null,
          0.6509736818408923,
          0.4797978953524132,
          null,
          0.4797978953524132,
          0.31280747220050875,
          null,
          0.31280747220050875,
          -0.019939390866995386,
          null,
          0.31280747220050875,
          0.6243782324269808,
          null,
          0.21965502881317445,
          0.1186821340283228,
          null,
          0.1186821340283228,
          0.15572885835928255,
          null,
          0.15572885835928255,
          0.3297569663918193,
          null,
          0.15572885835928255,
          -0.019939390866995386,
          null,
          0.15572885835928255,
          0.24904172866709928,
          null,
          0.3297569663918193,
          0.3313435748333,
          null,
          0.3313435748333,
          0.29707777081508885,
          null,
          0.29707777081508885,
          0.5835871470791199,
          null,
          0.29707777081508885,
          -0.019939390866995386,
          null,
          0.5835871470791199,
          0.5293607752212262,
          null,
          0.5293607752212262,
          0.3806262247722191,
          null,
          0.3806262247722191,
          -0.11231793466048273,
          null,
          0.3806262247722191,
          0.8464905069934762,
          null,
          0.6243782324269808,
          0.42161601333943993,
          null,
          0.42161601333943993,
          0.21965502881317445,
          null,
          -0.025348151493316717,
          0.10788141368983419,
          null,
          -0.002617273999013637,
          -0.019939390866995386,
          null,
          0.24850950368709482,
          0.1186821340283228,
          null,
          0.24904172866709928,
          0.3313435748333,
          null,
          0.8464905069934762,
          0.7439087676038735,
          null,
          0.7439087676038735,
          0.5430351831430695,
          null,
          0.5430351831430695,
          0.2446857162331172,
          null,
          0.2446857162331172,
          0.0974727495213329,
          null,
          0.0974727495213329,
          0.10690967374350044,
          null,
          0.10690967374350044,
          0.14482350723393225,
          null,
          0.14482350723393225,
          0.17842006412543232,
          null,
          0.17842006412543232,
          0.04466246967016414,
          null,
          0.04466246967016414,
          -0.019939390866995386,
          null,
          -0.46526826028129004,
          -0.33868244745131787,
          null,
          -0.33868244745131787,
          -0.1565450268717364,
          null,
          -0.1565450268717364,
          -0.019939390866995386,
          null,
          -0.6282556325228306,
          -0.5177044808971856,
          null
         ],
         "y": [
          -0.3629085779079627,
          -0.05222336881389031,
          null,
          -0.3629085779079627,
          -0.5356736980255037,
          null,
          -0.3629085779079627,
          -0.5888882135609484,
          null,
          -0.3629085779079627,
          -0.3080828355380062,
          null,
          -0.05222336881389031,
          -0.2777053408015299,
          null,
          -0.05222336881389031,
          0.5986292356338074,
          null,
          -0.05222336881389031,
          0.2856616086609641,
          null,
          -0.05222336881389031,
          0.11567160601598692,
          null,
          -0.05222336881389031,
          0.21354423077833437,
          null,
          -0.05222336881389031,
          0.12925470796814462,
          null,
          -0.05222336881389031,
          0.23524648812545285,
          null,
          -0.05222336881389031,
          0.2677103290718895,
          null,
          -0.05222336881389031,
          0.16728275972936332,
          null,
          -0.05222336881389031,
          0.5567827598336011,
          null,
          -0.05222336881389031,
          -0.011360866143437355,
          null,
          -0.05222336881389031,
          -0.2958659809250093,
          null,
          -0.05222336881389031,
          -0.582067615424711,
          null,
          -0.05222336881389031,
          -0.2884116641997578,
          null,
          -0.05222336881389031,
          -0.37065026847854365,
          null,
          -0.05222336881389031,
          -0.4693348892334078,
          null,
          -0.05222336881389031,
          -0.1908870152075664,
          null,
          -0.05222336881389031,
          -0.38885925415341793,
          null,
          -0.05222336881389031,
          -0.10027718280962408,
          null,
          -0.05222336881389031,
          -0.6491824018133544,
          null,
          -0.05222336881389031,
          -0.23710743619674463,
          null,
          -0.05222336881389031,
          -0.10569332156771738,
          null,
          -0.05222336881389031,
          0.20066905752321065,
          null,
          -0.05222336881389031,
          -0.3629085779079627,
          null,
          -0.2777053408015299,
          -0.4214364009635127,
          null,
          -0.4214364009635127,
          -0.37638895556154617,
          null,
          -0.37638895556154617,
          -0.3629085779079627,
          null,
          -0.37638895556154617,
          -0.2767007754674325,
          null,
          -0.5356736980255037,
          -0.2767007754674325,
          null,
          -0.5356736980255037,
          -0.7152931282844576,
          null,
          -0.5356736980255037,
          -0.44318232228735077,
          null,
          -0.5356736980255037,
          -0.7311462979657658,
          null,
          -0.2767007754674325,
          0.15628716674084522,
          null,
          -0.2767007754674325,
          -0.7152931282844576,
          null,
          0.15628716674084522,
          0.14548170384277115,
          null,
          0.14548170384277115,
          0.16728275972936332,
          null,
          0.16728275972936332,
          0.34740366582665855,
          null,
          0.16728275972936332,
          -0.05222336881389031,
          null,
          0.34740366582665855,
          0.5986292356338074,
          null,
          0.34740366582665855,
          -0.23710743619674463,
          null,
          0.34740366582665855,
          0.8403222411079244,
          null,
          0.5986292356338074,
          0.42413866964919844,
          null,
          0.42413866964919844,
          0.48465025086059577,
          null,
          0.42413866964919844,
          0.2856616086609641,
          null,
          0.48465025086059577,
          0.3873860221558048,
          null,
          0.3873860221558048,
          0.3432313562336026,
          null,
          0.3432313562336026,
          0.28446022191565257,
          null,
          0.28446022191565257,
          0.2856616086609641,
          null,
          0.28446022191565257,
          0.5986292356338074,
          null,
          0.28446022191565257,
          -0.05222336881389031,
          null,
          0.2856616086609641,
          0.5986292356338074,
          null,
          0.2856616086609641,
          0.48465025086059577,
          null,
          0.2856616086609641,
          0.21354423077833437,
          null,
          0.2856616086609641,
          0.44903089414442193,
          null,
          0.2856616086609641,
          0.11567160601598692,
          null,
          0.2856616086609641,
          -0.05222336881389031,
          null,
          0.2856616086609641,
          0.20688006418813878,
          null,
          0.2856616086609641,
          0.06329362023440362,
          null,
          0.21354423077833437,
          0.44903089414442193,
          null,
          0.21354423077833437,
          0.40032148981186794,
          null,
          0.21354423077833437,
          -0.05222336881389031,
          null,
          0.21354423077833437,
          0.11567160601598692,
          null,
          0.21354423077833437,
          0.20688006418813878,
          null,
          0.21354423077833437,
          0.12925470796814462,
          null,
          0.21354423077833437,
          0.23524648812545285,
          null,
          0.44903089414442193,
          0.2856616086609641,
          null,
          0.40032148981186794,
          0.2856616086609641,
          null,
          0.11567160601598692,
          0.2856616086609641,
          null,
          0.11567160601598692,
          -0.05222336881389031,
          null,
          0.20688006418813878,
          0.11567160601598692,
          null,
          0.20688006418813878,
          0.21354423077833437,
          null,
          0.20688006418813878,
          0.23524648812545285,
          null,
          0.12925470796814462,
          -0.05222336881389031,
          null,
          0.12925470796814462,
          0.2856616086609641,
          null,
          0.23524648812545285,
          0.2677103290718895,
          null,
          0.23524648812545285,
          0.1560692709842598,
          null,
          0.2677103290718895,
          0.2102913162773629,
          null,
          0.2102913162773629,
          0.1560692709842598,
          null,
          0.2102913162773629,
          0.23524648812545285,
          null,
          0.1560692709842598,
          0.20688006418813878,
          null,
          0.1560692709842598,
          0.3254611786074139,
          null,
          0.1560692709842598,
          -0.20336814344302692,
          null,
          0.1560692709842598,
          0.21354423077833437,
          null,
          0.1560692709842598,
          0.2677103290718895,
          null,
          0.1560692709842598,
          0.23524648812545285,
          null,
          0.1560692709842598,
          -0.05222336881389031,
          null,
          0.1560692709842598,
          0.34740366582665855,
          null,
          0.3254611786074139,
          0.2677103290718895,
          null,
          -0.20336814344302692,
          -0.05222336881389031,
          null,
          -0.23710743619674463,
          -0.3629085779079627,
          null,
          -0.23710743619674463,
          -0.05222336881389031,
          null,
          -0.5888882135609484,
          -0.44318232228735077,
          null,
          -0.44318232228735077,
          -0.3629085779079627,
          null,
          -0.44318232228735077,
          -0.3080828355380062,
          null,
          -0.7152931282844576,
          -0.6402840328946079,
          null,
          -0.6402840328946079,
          -0.7152931282844576,
          null,
          -0.6402840328946079,
          -0.5356736980255037,
          null,
          -0.3080828355380062,
          -0.05222336881389031,
          null,
          -0.3080828355380062,
          -0.5356736980255037,
          null,
          0.5567827598336011,
          0.5610365749389999,
          null,
          0.5610365749389999,
          0.5109150449743273,
          null,
          0.5109150449743273,
          0.4449086806902097,
          null,
          0.4449086806902097,
          0.43279695354867936,
          null,
          0.43279695354867936,
          0.34740366582665855,
          null,
          0.8403222411079244,
          0.8105407891415892,
          null,
          0.8105407891415892,
          0.6383930460281287,
          null,
          0.6383930460281287,
          0.4645586716578135,
          null,
          0.4645586716578135,
          0.2856616086609641,
          null,
          0.06329362023440362,
          -0.18346286030932366,
          null,
          -0.18346286030932366,
          -0.1463971790585912,
          null,
          -0.1463971790585912,
          -0.05222336881389031,
          null,
          -0.011360866143437355,
          -0.05222336881389031,
          null,
          -0.2958659809250093,
          -0.14226190399050706,
          null,
          -0.14226190399050706,
          -0.17034959124081428,
          null,
          -0.14226190399050706,
          -0.05222336881389031,
          null,
          -0.17034959124081428,
          -0.2736669371294659,
          null,
          -0.17034959124081428,
          -0.05222336881389031,
          null,
          -0.2736669371294659,
          -0.2884116641997578,
          null,
          -0.2884116641997578,
          -0.3831030226613379,
          null,
          -0.3831030226613379,
          -0.32393687533534954,
          null,
          -0.32393687533534954,
          -0.05222336881389031,
          null,
          -0.32393687533534954,
          -0.5852916269530573,
          null,
          -0.582067615424711,
          -0.5700375300456152,
          null,
          -0.5700375300456152,
          -0.38885925415341793,
          null,
          -0.38885925415341793,
          -0.5974008820400546,
          null,
          -0.38885925415341793,
          -0.05222336881389031,
          null,
          -0.38885925415341793,
          -0.585850022994012,
          null,
          -0.5974008820400546,
          -0.37065026847854365,
          null,
          -0.37065026847854365,
          -0.193560568157752,
          null,
          -0.193560568157752,
          -0.3125463289610936,
          null,
          -0.193560568157752,
          -0.05222336881389031,
          null,
          -0.3125463289610936,
          -0.10027718280962408,
          null,
          -0.10027718280962408,
          -0.02649751060176925,
          null,
          -0.02649751060176925,
          -0.1463971790585912,
          null,
          -0.02649751060176925,
          0.100307131039535,
          null,
          -0.5852916269530573,
          -0.5950070575910411,
          null,
          -0.5950070575910411,
          -0.582067615424711,
          null,
          -0.4693348892334078,
          -0.2958659809250093,
          null,
          -0.1908870152075664,
          -0.05222336881389031,
          null,
          -0.6491824018133544,
          -0.5700375300456152,
          null,
          -0.585850022994012,
          -0.37065026847854365,
          null,
          0.100307131039535,
          0.3952105486694893,
          null,
          0.3952105486694893,
          0.6827463583845229,
          null,
          0.6827463583845229,
          0.7684039482727948,
          null,
          0.7684039482727948,
          0.5842628232591448,
          null,
          0.5842628232591448,
          0.36345161182727825,
          null,
          0.36345161182727825,
          0.15613359353350506,
          null,
          0.15613359353350506,
          -0.07916805158522924,
          null,
          -0.07916805158522924,
          -0.10569332156771738,
          null,
          -0.10569332156771738,
          -0.05222336881389031,
          null,
          0.20066905752321065,
          -0.03445769845293927,
          null,
          -0.03445769845293927,
          -0.08285205711090779,
          null,
          -0.08285205711090779,
          -0.05222336881389031,
          null,
          -0.7311462979657658,
          -0.5888882135609484,
          null
         ]
        },
        {
         "customdata": [
          [
           "1412_env_list_env_list running_aliecs env_list_running partition",
           "5"
          ],
          [
           "-1_mb equipment_taskid_detected previous_gap in",
           "51"
          ],
          [
           "79_qccheck quality_check qccheck_qccheck_check qccheckmchpreclusters",
           "2"
          ],
          [
           "1643_storing qualityobjects_qualityobjects storing_qualityobjects_storing",
           "2"
          ],
          [
           "1543_storing 32_storing 42_32 monitorobjects_42 monitorobjects",
           "2"
          ],
          [
           "1694_qc its_its mo_mo itsfee_itsfee",
           "7"
          ],
          [
           "25_sending quality_objects sending_quality objects_sending",
           "2"
          ],
          [
           "587_servicediscovery_to servicediscovery_registration_registration to",
           "1"
          ],
          [
           "1813_sor_dcs_key run_no_for event",
           "2"
          ],
          [
           "464_partition writing_to aliecs_messages to_writing messages",
           "2"
          ],
          [
           "63_running ready_ready running_running_ready",
           "3"
          ],
          [
           "373_run number_number 526367_number 526533_number 526534",
           "11"
          ],
          [
           "1654_executing start_start readout_readout executing_executing",
           "11"
          ],
          [
           "8_aggregator starting_starting aggregator_aggregator_starting",
           "11"
          ],
          [
           "2100_slicing disabled_aggregator slicing_slicing_disabled aggregator",
           "11"
          ],
          [
           "16_clock starting_starting stats_stats clock_clock",
           "11"
          ],
          [
           "26_equipments starting_starting readout_readout equipments_equipments",
           "11"
          ],
          [
           "177_dma for_roc starting_starting dma_dma",
           "36"
          ],
          [
           "1765_pages roc_roc input_queue_queue size",
           "33"
          ],
          [
           "1707_buffers ready_buffers_ready for_roc buffers",
           "9"
          ],
          [
           "589_bytes using_using memory_pages 1048576_1048576 bytes",
           "1"
          ],
          [
           "1696_roc buffers_buffers ready_ready for_buffers",
           "11"
          ],
          [
           "1693_pages roc_roc input_input queue_queue",
           "6"
          ],
          [
           "1697_roc buffers_ready for_buffers_buffers ready",
           "11"
          ],
          [
           "1695_roc buffers_buffers ready_buffers_ready for",
           "9"
          ],
          [
           "1668_running running_running_running stopping_run running",
           "11"
          ],
          [
           "7_completed start_start readout_readout completed_completed",
           "11"
          ],
          [
           "1605_loop entering_entering main_entering_main loop",
           "11"
          ],
          [
           "340_roc requesting_0x200000 1st_from bank_block aligned",
           "1"
          ],
          [
           "1885_gain missing_gaintypeerror found_in gaintypeerror_missing found",
           "1"
          ],
          [
           "532_average throughput_stats average_gbits stats_gbits",
           "2"
          ],
          [
           "1628_transition complete_complete_start_activity_start_activity transition",
           "2"
          ],
          [
           "1827_transition to_expired forcing_to ready_timer",
           "2"
          ],
          [
           "1785_roc first_first hb_hb orbit_hb",
           "44"
          ],
          [
           "1775_roc first_hb orbit_first hb_hb",
           "24"
          ],
          [
           "1759_trg_performing trg_operation performing_trg run",
           "2"
          ],
          [
           "244_end occ_srcstate idle_transitionevent end_idle transitionevent",
           "1"
          ],
          [
           "181_deserialized transitionrequest_transitionrequest_transitionrequest srcstate_arguments occ",
           "1"
          ],
          [
           "630_incoming transition_transition request_request srcstate_occ incoming",
           "1"
          ],
          [
           "1755_new state_quitting_15 seconds_state requested",
           "1"
          ],
          [
           "476_stopping run_526390 stopping_526389 stopping_run 526389",
           "1"
          ],
          [
           "1567_ready control_action_notify_device_state ready_notify_device_state device_notify_device_state",
           "1"
          ],
          [
           "1646_ready ok_response device_ok occ_transition response",
           "1"
          ],
          [
           "37_run ok_state running_true occ_ok true",
           "1"
          ],
          [
           "512_executing stop_exiting readout_process exiting_readout process",
           "1"
          ],
          [
           "1479_aggregator flushing_flushing aggregator_flushing_aggregator",
           "1"
          ],
          [
           "1480_loop exiting_exiting main_exiting_main loop",
           "1"
          ],
          [
           "270_packets_cru_dropped_cru equipment",
           "4"
          ],
          [
           "212_roc nblocksout_nblocksout_avg 04_04 min",
           "2"
          ],
          [
           "247_roc nmemorylow_nmemorylow equipment_nmemorylow_equipment roc",
           "4"
          ],
          [
           "248_roc noutputfull_noutputfull equipment_noutputfull_equipment roc",
           "4"
          ],
          [
           "275_roc nidle_nidle_avg 00_00 min",
           "3"
          ],
          [
           "277_roc nloop_nloop_avg 00_00 min",
           "2"
          ],
          [
           "255_roc nthrottle_nthrottle equipment_nthrottle_equipment roc",
           "4"
          ],
          [
           "261_roc nfifoupempty_nfifoupempty equipment_nfifoupempty_equipment roc",
           "4"
          ],
          [
           "257_roc nfiforeadyfull_nfiforeadyfull equipment_nfiforeadyfull_equipment roc",
           "4"
          ],
          [
           "1647_roc fifooccupancyreadyblocks_fifooccupancyreadyblocks avg_fifooccupancyreadyblocks_avg 00",
           "2"
          ],
          [
           "279_roc fifooccupancyoutblocks_fifooccupancyoutblocks_fifooccupancyoutblocks avg_avg 11",
           "3"
          ],
          [
           "281_roc npagesused_npagesused_npagesused avg_2330 count",
           "4"
          ],
          [
           "563_roc npagesfree_npagesfree_max 9109_9109 count",
           "1"
          ],
          [
           "175_iteration average_iteration_pages pushed_average pages",
           "4"
          ],
          [
           "173_occupancy average_average fifoready_fifoready_fifoready occupancy",
           "4"
          ],
          [
           "235_mb average_average data_data throughput_throughput",
           "3"
          ],
          [
           "262_links used_00000000000000001000000000000001 links_00000000000000001000000000000001_used 00000000000000001000000000000001",
           "4"
          ],
          [
           "263_gb_links data_data received_mb links",
           "4"
          ],
          [
           "245_roc npushedup_max 2048_2048 count_npushedup",
           "1"
          ],
          [
           "256_roc fifooccupancyfreeblocks_fifooccupancyfreeblocks_fifooccupancyfreeblocks avg_avg 04",
           "1"
          ],
          [
           "260_roc nbytesout_nbytesout_1015808 count_max 1015808",
           "1"
          ],
          [
           "1629_roc fifooccupancyreadyblocks_fifooccupancyreadyblocks avg_fifooccupancyreadyblocks_avg 00",
           "1"
          ],
          [
           "1649_roc fifooccupancyreadyblocks_fifooccupancyreadyblocks avg_fifooccupancyreadyblocks_avg 00",
           "1"
          ],
          [
           "1631_roc npagesfree_npagesfree_max 13670_13670 count",
           "1"
          ],
          [
           "1481_readout stopped_stopped_stopped readout_readout",
           "1"
          ],
          [
           "1469_aggregator stopping_stopping aggregator_stopping_aggregator",
           "1"
          ],
          [
           "1470_blocks aggregator_aggregator processed_processed_blocks",
           "1"
          ],
          [
           "1471_use waiting_000000s_waiting max_data pages",
           "1"
          ],
          [
           "1472_consumers stopping_stopping consumers_consumers_stopping",
           "1"
          ],
          [
           "1462_clock stopping_stopping stats_stats clock_clock",
           "1"
          ],
          [
           "1463_stats statistics_for consumer_statistics for_consumer stats",
           "1"
          ],
          [
           "1409_overhead stats_overhead_header overhead_header",
           "1"
          ],
          [
           "367_datasets_push statistics_datablocks_err",
           "3"
          ],
          [
           "371_use equipment_still in_still_in use",
           "3"
          ],
          [
           "681_bytes final_counters timeframes_final_recorded",
           "1"
          ],
          [
           "1408_completed stop_stop readout_stop_readout completed",
           "1"
          ],
          [
           "1889_eor_eor_event_eor_event detector_eventtype eor_event",
           "2"
          ]
         ],
         "hovertemplate": "<b>Topic: %{text} </b><br><b>Name:</b> %{customdata[0]} <br><b>Count:</b> %{customdata[1]} <br>",
         "marker": {
          "color": [
           5,
           51,
           2,
           2,
           2,
           7,
           2,
           1,
           2,
           2,
           3,
           11,
           11,
           11,
           11,
           11,
           11,
           36,
           33,
           9,
           1,
           11,
           6,
           11,
           9,
           11,
           11,
           11,
           1,
           1,
           2,
           2,
           2,
           44,
           24,
           2,
           1,
           1,
           1,
           1,
           1,
           1,
           1,
           1,
           1,
           1,
           1,
           4,
           2,
           4,
           4,
           3,
           2,
           4,
           4,
           4,
           2,
           3,
           4,
           1,
           4,
           4,
           3,
           4,
           4,
           1,
           1,
           1,
           1,
           1,
           1,
           1,
           1,
           1,
           1,
           1,
           1,
           1,
           1,
           3,
           3,
           1,
           1,
           1
          ],
          "colorbar": {
           "thickness": 10,
           "title": {
            "side": "right",
            "text": "Node Counts in session"
           },
           "xanchor": "left"
          },
          "colorscale": [
           [
            0,
            "#0508b8"
           ],
           [
            0.08333333333333333,
            "#1910d8"
           ],
           [
            0.16666666666666666,
            "#3c19f0"
           ],
           [
            0.25,
            "#6b1cfb"
           ],
           [
            0.3333333333333333,
            "#981cfd"
           ],
           [
            0.4166666666666667,
            "#bf1cfd"
           ],
           [
            0.5,
            "#dd2bfd"
           ],
           [
            0.5833333333333334,
            "#f246fe"
           ],
           [
            0.6666666666666666,
            "#fc67fd"
           ],
           [
            0.75,
            "#fe88fc"
           ],
           [
            0.8333333333333334,
            "#fea5fd"
           ],
           [
            0.9166666666666666,
            "#febefe"
           ],
           [
            1,
            "#fec3fe"
           ]
          ],
          "size": [
           5.15272279979108,
           52.55777255786902,
           2.061089119916432,
           2.061089119916432,
           2.061089119916432,
           7.213811919707512,
           2.061089119916432,
           1.030544559958216,
           2.061089119916432,
           2.061089119916432,
           3.091633679874648,
           11.335990159540376,
           11.335990159540376,
           11.335990159540376,
           11.335990159540376,
           11.335990159540376,
           11.335990159540376,
           37.09960415849578,
           34.00797047862113,
           9.274901039623945,
           1.030544559958216,
           11.335990159540376,
           6.183267359749296,
           11.335990159540376,
           9.274901039623945,
           11.335990159540376,
           11.335990159540376,
           11.335990159540376,
           1.030544559958216,
           1.030544559958216,
           2.061089119916432,
           2.061089119916432,
           2.061089119916432,
           45.343960638161505,
           24.733069438997184,
           2.061089119916432,
           1.030544559958216,
           1.030544559958216,
           1.030544559958216,
           1.030544559958216,
           1.030544559958216,
           1.030544559958216,
           1.030544559958216,
           1.030544559958216,
           1.030544559958216,
           1.030544559958216,
           1.030544559958216,
           4.122178239832864,
           2.061089119916432,
           4.122178239832864,
           4.122178239832864,
           3.091633679874648,
           2.061089119916432,
           4.122178239832864,
           4.122178239832864,
           4.122178239832864,
           2.061089119916432,
           3.091633679874648,
           4.122178239832864,
           1.030544559958216,
           4.122178239832864,
           4.122178239832864,
           3.091633679874648,
           4.122178239832864,
           4.122178239832864,
           1.030544559958216,
           1.030544559958216,
           1.030544559958216,
           1.030544559958216,
           1.030544559958216,
           1.030544559958216,
           1.030544559958216,
           1.030544559958216,
           1.030544559958216,
           1.030544559958216,
           1.030544559958216,
           1.030544559958216,
           1.030544559958216,
           1.030544559958216,
           3.091633679874648,
           3.091633679874648,
           1.030544559958216,
           1.030544559958216,
           1.030544559958216
          ],
          "symbol": "circle"
         },
         "mode": "markers",
         "text": [
          "1412",
          "-1",
          "79",
          "1643",
          "1543",
          "1694",
          "25",
          "587",
          "1813",
          "464",
          "63",
          "373",
          "1654",
          "8",
          "2100",
          "16",
          "26",
          "177",
          "1765",
          "1707",
          "589",
          "1696",
          "1693",
          "1697",
          "1695",
          "1668",
          "7",
          "1605",
          "340",
          "1885",
          "532",
          "1628",
          "1827",
          "1785",
          "1775",
          "1759",
          "244",
          "181",
          "630",
          "1755",
          "476",
          "1567",
          "1646",
          "37",
          "512",
          "1479",
          "1480",
          "270",
          "212",
          "247",
          "248",
          "275",
          "277",
          "255",
          "261",
          "257",
          "1647",
          "279",
          "281",
          "563",
          "175",
          "173",
          "235",
          "262",
          "263",
          "245",
          "256",
          "260",
          "1629",
          "1649",
          "1631",
          "1481",
          "1469",
          "1470",
          "1471",
          "1472",
          "1462",
          "1463",
          "1409",
          "367",
          "371",
          "681",
          "1408",
          "1889"
         ],
         "type": "scatter",
         "x": [
          -0.3609243548704978,
          -0.019939390866995386,
          -0.46461561616359426,
          -0.6513568208829016,
          -0.482124595224096,
          -0.6499524930519907,
          -0.3780537928107425,
          0.2617691187432994,
          0.0874954411300454,
          -0.007184403757738106,
          0.010183776374572533,
          0.2850472628659181,
          0.2210381371062926,
          0.46251798338170785,
          0.3622904858353715,
          0.25172708104891756,
          0.1151111472728499,
          -0.018141029651905113,
          -0.2274052240112417,
          -0.12321447255414968,
          -0.15872031096564193,
          -0.03419995526132176,
          -0.33012531802534945,
          -0.07975956668217868,
          -0.6071972971585902,
          -0.7377149206211734,
          -0.5581530262792411,
          -0.3842326065024164,
          -0.9078788179643522,
          -0.06729416853781715,
          -0.19983810207117145,
          -0.5177044808971856,
          -0.41813661868568086,
          -0.9999999999999999,
          -0.8553140336468803,
          -0.3400257496799685,
          0.1699768953750771,
          0.49870369765524847,
          0.5086704509408386,
          0.32012737865423857,
          0.11823860367737327,
          0.08123457983718838,
          -0.21878148688155857,
          -0.1465373944340764,
          -0.06324642713507904,
          -0.4265909691957715,
          -0.2657166410917978,
          -0.11231793466048273,
          -0.1449940575624768,
          0.10788141368983419,
          0.11825377369313075,
          0.23684284299806047,
          0.47364715402972674,
          0.6509736818408923,
          0.4797978953524132,
          0.31280747220050875,
          0.21965502881317445,
          0.1186821340283228,
          0.15572885835928255,
          0.3297569663918193,
          0.3313435748333,
          0.29707777081508885,
          0.5835871470791199,
          0.5293607752212262,
          0.3806262247722191,
          0.6243782324269808,
          0.42161601333943993,
          -0.025348151493316717,
          -0.002617273999013637,
          0.24850950368709482,
          0.24904172866709928,
          0.8464905069934762,
          0.7439087676038735,
          0.5430351831430695,
          0.2446857162331172,
          0.0974727495213329,
          0.10690967374350044,
          0.14482350723393225,
          0.17842006412543232,
          0.04466246967016414,
          -0.46526826028129004,
          -0.33868244745131787,
          -0.1565450268717364,
          -0.6282556325228306
         ],
         "y": [
          -0.3629085779079627,
          -0.05222336881389031,
          -0.2777053408015299,
          -0.4214364009635127,
          -0.37638895556154617,
          -0.5356736980255037,
          -0.2767007754674325,
          0.15628716674084522,
          0.14548170384277115,
          0.16728275972936332,
          0.34740366582665855,
          0.5986292356338074,
          0.42413866964919844,
          0.48465025086059577,
          0.3873860221558048,
          0.3432313562336026,
          0.28446022191565257,
          0.2856616086609641,
          0.21354423077833437,
          0.44903089414442193,
          0.40032148981186794,
          0.11567160601598692,
          0.20688006418813878,
          0.12925470796814462,
          0.23524648812545285,
          0.2677103290718895,
          0.2102913162773629,
          0.1560692709842598,
          0.3254611786074139,
          -0.20336814344302692,
          -0.23710743619674463,
          -0.5888882135609484,
          -0.44318232228735077,
          -0.7152931282844576,
          -0.6402840328946079,
          -0.3080828355380062,
          0.5567827598336011,
          0.5610365749389999,
          0.5109150449743273,
          0.4449086806902097,
          0.43279695354867936,
          0.8403222411079244,
          0.8105407891415892,
          0.6383930460281287,
          0.4645586716578135,
          0.06329362023440362,
          -0.18346286030932366,
          -0.1463971790585912,
          -0.011360866143437355,
          -0.2958659809250093,
          -0.14226190399050706,
          -0.17034959124081428,
          -0.2736669371294659,
          -0.2884116641997578,
          -0.3831030226613379,
          -0.32393687533534954,
          -0.582067615424711,
          -0.5700375300456152,
          -0.38885925415341793,
          -0.5974008820400546,
          -0.37065026847854365,
          -0.193560568157752,
          -0.3125463289610936,
          -0.10027718280962408,
          -0.02649751060176925,
          -0.5852916269530573,
          -0.5950070575910411,
          -0.4693348892334078,
          -0.1908870152075664,
          -0.6491824018133544,
          -0.585850022994012,
          0.100307131039535,
          0.3952105486694893,
          0.6827463583845229,
          0.7684039482727948,
          0.5842628232591448,
          0.36345161182727825,
          0.15613359353350506,
          -0.07916805158522924,
          -0.10569332156771738,
          0.20066905752321065,
          -0.03445769845293927,
          -0.08285205711090779,
          -0.7311462979657658
         ]
        }
       ],
       "layout": {
        "height": 480,
        "paper_bgcolor": "rgba(0, 0, 0, 0)",
        "plot_bgcolor": "rgba(0, 0, 0, 0)",
        "showlegend": false,
        "template": {
         "data": {
          "bar": [
           {
            "error_x": {
             "color": "#2a3f5f"
            },
            "error_y": {
             "color": "#2a3f5f"
            },
            "marker": {
             "line": {
              "color": "#E5ECF6",
              "width": 0.5
             },
             "pattern": {
              "fillmode": "overlay",
              "size": 10,
              "solidity": 0.2
             }
            },
            "type": "bar"
           }
          ],
          "barpolar": [
           {
            "marker": {
             "line": {
              "color": "#E5ECF6",
              "width": 0.5
             },
             "pattern": {
              "fillmode": "overlay",
              "size": 10,
              "solidity": 0.2
             }
            },
            "type": "barpolar"
           }
          ],
          "carpet": [
           {
            "aaxis": {
             "endlinecolor": "#2a3f5f",
             "gridcolor": "white",
             "linecolor": "white",
             "minorgridcolor": "white",
             "startlinecolor": "#2a3f5f"
            },
            "baxis": {
             "endlinecolor": "#2a3f5f",
             "gridcolor": "white",
             "linecolor": "white",
             "minorgridcolor": "white",
             "startlinecolor": "#2a3f5f"
            },
            "type": "carpet"
           }
          ],
          "choropleth": [
           {
            "colorbar": {
             "outlinewidth": 0,
             "ticks": ""
            },
            "type": "choropleth"
           }
          ],
          "contour": [
           {
            "colorbar": {
             "outlinewidth": 0,
             "ticks": ""
            },
            "colorscale": [
             [
              0,
              "#0d0887"
             ],
             [
              0.1111111111111111,
              "#46039f"
             ],
             [
              0.2222222222222222,
              "#7201a8"
             ],
             [
              0.3333333333333333,
              "#9c179e"
             ],
             [
              0.4444444444444444,
              "#bd3786"
             ],
             [
              0.5555555555555556,
              "#d8576b"
             ],
             [
              0.6666666666666666,
              "#ed7953"
             ],
             [
              0.7777777777777778,
              "#fb9f3a"
             ],
             [
              0.8888888888888888,
              "#fdca26"
             ],
             [
              1,
              "#f0f921"
             ]
            ],
            "type": "contour"
           }
          ],
          "contourcarpet": [
           {
            "colorbar": {
             "outlinewidth": 0,
             "ticks": ""
            },
            "type": "contourcarpet"
           }
          ],
          "heatmap": [
           {
            "colorbar": {
             "outlinewidth": 0,
             "ticks": ""
            },
            "colorscale": [
             [
              0,
              "#0d0887"
             ],
             [
              0.1111111111111111,
              "#46039f"
             ],
             [
              0.2222222222222222,
              "#7201a8"
             ],
             [
              0.3333333333333333,
              "#9c179e"
             ],
             [
              0.4444444444444444,
              "#bd3786"
             ],
             [
              0.5555555555555556,
              "#d8576b"
             ],
             [
              0.6666666666666666,
              "#ed7953"
             ],
             [
              0.7777777777777778,
              "#fb9f3a"
             ],
             [
              0.8888888888888888,
              "#fdca26"
             ],
             [
              1,
              "#f0f921"
             ]
            ],
            "type": "heatmap"
           }
          ],
          "heatmapgl": [
           {
            "colorbar": {
             "outlinewidth": 0,
             "ticks": ""
            },
            "colorscale": [
             [
              0,
              "#0d0887"
             ],
             [
              0.1111111111111111,
              "#46039f"
             ],
             [
              0.2222222222222222,
              "#7201a8"
             ],
             [
              0.3333333333333333,
              "#9c179e"
             ],
             [
              0.4444444444444444,
              "#bd3786"
             ],
             [
              0.5555555555555556,
              "#d8576b"
             ],
             [
              0.6666666666666666,
              "#ed7953"
             ],
             [
              0.7777777777777778,
              "#fb9f3a"
             ],
             [
              0.8888888888888888,
              "#fdca26"
             ],
             [
              1,
              "#f0f921"
             ]
            ],
            "type": "heatmapgl"
           }
          ],
          "histogram": [
           {
            "marker": {
             "pattern": {
              "fillmode": "overlay",
              "size": 10,
              "solidity": 0.2
             }
            },
            "type": "histogram"
           }
          ],
          "histogram2d": [
           {
            "colorbar": {
             "outlinewidth": 0,
             "ticks": ""
            },
            "colorscale": [
             [
              0,
              "#0d0887"
             ],
             [
              0.1111111111111111,
              "#46039f"
             ],
             [
              0.2222222222222222,
              "#7201a8"
             ],
             [
              0.3333333333333333,
              "#9c179e"
             ],
             [
              0.4444444444444444,
              "#bd3786"
             ],
             [
              0.5555555555555556,
              "#d8576b"
             ],
             [
              0.6666666666666666,
              "#ed7953"
             ],
             [
              0.7777777777777778,
              "#fb9f3a"
             ],
             [
              0.8888888888888888,
              "#fdca26"
             ],
             [
              1,
              "#f0f921"
             ]
            ],
            "type": "histogram2d"
           }
          ],
          "histogram2dcontour": [
           {
            "colorbar": {
             "outlinewidth": 0,
             "ticks": ""
            },
            "colorscale": [
             [
              0,
              "#0d0887"
             ],
             [
              0.1111111111111111,
              "#46039f"
             ],
             [
              0.2222222222222222,
              "#7201a8"
             ],
             [
              0.3333333333333333,
              "#9c179e"
             ],
             [
              0.4444444444444444,
              "#bd3786"
             ],
             [
              0.5555555555555556,
              "#d8576b"
             ],
             [
              0.6666666666666666,
              "#ed7953"
             ],
             [
              0.7777777777777778,
              "#fb9f3a"
             ],
             [
              0.8888888888888888,
              "#fdca26"
             ],
             [
              1,
              "#f0f921"
             ]
            ],
            "type": "histogram2dcontour"
           }
          ],
          "mesh3d": [
           {
            "colorbar": {
             "outlinewidth": 0,
             "ticks": ""
            },
            "type": "mesh3d"
           }
          ],
          "parcoords": [
           {
            "line": {
             "colorbar": {
              "outlinewidth": 0,
              "ticks": ""
             }
            },
            "type": "parcoords"
           }
          ],
          "pie": [
           {
            "automargin": true,
            "type": "pie"
           }
          ],
          "scatter": [
           {
            "fillpattern": {
             "fillmode": "overlay",
             "size": 10,
             "solidity": 0.2
            },
            "type": "scatter"
           }
          ],
          "scatter3d": [
           {
            "line": {
             "colorbar": {
              "outlinewidth": 0,
              "ticks": ""
             }
            },
            "marker": {
             "colorbar": {
              "outlinewidth": 0,
              "ticks": ""
             }
            },
            "type": "scatter3d"
           }
          ],
          "scattercarpet": [
           {
            "marker": {
             "colorbar": {
              "outlinewidth": 0,
              "ticks": ""
             }
            },
            "type": "scattercarpet"
           }
          ],
          "scattergeo": [
           {
            "marker": {
             "colorbar": {
              "outlinewidth": 0,
              "ticks": ""
             }
            },
            "type": "scattergeo"
           }
          ],
          "scattergl": [
           {
            "marker": {
             "colorbar": {
              "outlinewidth": 0,
              "ticks": ""
             }
            },
            "type": "scattergl"
           }
          ],
          "scattermapbox": [
           {
            "marker": {
             "colorbar": {
              "outlinewidth": 0,
              "ticks": ""
             }
            },
            "type": "scattermapbox"
           }
          ],
          "scatterpolar": [
           {
            "marker": {
             "colorbar": {
              "outlinewidth": 0,
              "ticks": ""
             }
            },
            "type": "scatterpolar"
           }
          ],
          "scatterpolargl": [
           {
            "marker": {
             "colorbar": {
              "outlinewidth": 0,
              "ticks": ""
             }
            },
            "type": "scatterpolargl"
           }
          ],
          "scatterternary": [
           {
            "marker": {
             "colorbar": {
              "outlinewidth": 0,
              "ticks": ""
             }
            },
            "type": "scatterternary"
           }
          ],
          "surface": [
           {
            "colorbar": {
             "outlinewidth": 0,
             "ticks": ""
            },
            "colorscale": [
             [
              0,
              "#0d0887"
             ],
             [
              0.1111111111111111,
              "#46039f"
             ],
             [
              0.2222222222222222,
              "#7201a8"
             ],
             [
              0.3333333333333333,
              "#9c179e"
             ],
             [
              0.4444444444444444,
              "#bd3786"
             ],
             [
              0.5555555555555556,
              "#d8576b"
             ],
             [
              0.6666666666666666,
              "#ed7953"
             ],
             [
              0.7777777777777778,
              "#fb9f3a"
             ],
             [
              0.8888888888888888,
              "#fdca26"
             ],
             [
              1,
              "#f0f921"
             ]
            ],
            "type": "surface"
           }
          ],
          "table": [
           {
            "cells": {
             "fill": {
              "color": "#EBF0F8"
             },
             "line": {
              "color": "white"
             }
            },
            "header": {
             "fill": {
              "color": "#C8D4E3"
             },
             "line": {
              "color": "white"
             }
            },
            "type": "table"
           }
          ]
         },
         "layout": {
          "annotationdefaults": {
           "arrowcolor": "#2a3f5f",
           "arrowhead": 0,
           "arrowwidth": 1
          },
          "autotypenumbers": "strict",
          "coloraxis": {
           "colorbar": {
            "outlinewidth": 0,
            "ticks": ""
           }
          },
          "colorscale": {
           "diverging": [
            [
             0,
             "#8e0152"
            ],
            [
             0.1,
             "#c51b7d"
            ],
            [
             0.2,
             "#de77ae"
            ],
            [
             0.3,
             "#f1b6da"
            ],
            [
             0.4,
             "#fde0ef"
            ],
            [
             0.5,
             "#f7f7f7"
            ],
            [
             0.6,
             "#e6f5d0"
            ],
            [
             0.7,
             "#b8e186"
            ],
            [
             0.8,
             "#7fbc41"
            ],
            [
             0.9,
             "#4d9221"
            ],
            [
             1,
             "#276419"
            ]
           ],
           "sequential": [
            [
             0,
             "#0d0887"
            ],
            [
             0.1111111111111111,
             "#46039f"
            ],
            [
             0.2222222222222222,
             "#7201a8"
            ],
            [
             0.3333333333333333,
             "#9c179e"
            ],
            [
             0.4444444444444444,
             "#bd3786"
            ],
            [
             0.5555555555555556,
             "#d8576b"
            ],
            [
             0.6666666666666666,
             "#ed7953"
            ],
            [
             0.7777777777777778,
             "#fb9f3a"
            ],
            [
             0.8888888888888888,
             "#fdca26"
            ],
            [
             1,
             "#f0f921"
            ]
           ],
           "sequentialminus": [
            [
             0,
             "#0d0887"
            ],
            [
             0.1111111111111111,
             "#46039f"
            ],
            [
             0.2222222222222222,
             "#7201a8"
            ],
            [
             0.3333333333333333,
             "#9c179e"
            ],
            [
             0.4444444444444444,
             "#bd3786"
            ],
            [
             0.5555555555555556,
             "#d8576b"
            ],
            [
             0.6666666666666666,
             "#ed7953"
            ],
            [
             0.7777777777777778,
             "#fb9f3a"
            ],
            [
             0.8888888888888888,
             "#fdca26"
            ],
            [
             1,
             "#f0f921"
            ]
           ]
          },
          "colorway": [
           "#636efa",
           "#EF553B",
           "#00cc96",
           "#ab63fa",
           "#FFA15A",
           "#19d3f3",
           "#FF6692",
           "#B6E880",
           "#FF97FF",
           "#FECB52"
          ],
          "font": {
           "color": "#2a3f5f"
          },
          "geo": {
           "bgcolor": "white",
           "lakecolor": "white",
           "landcolor": "#E5ECF6",
           "showlakes": true,
           "showland": true,
           "subunitcolor": "white"
          },
          "hoverlabel": {
           "align": "left"
          },
          "hovermode": "closest",
          "mapbox": {
           "style": "light"
          },
          "paper_bgcolor": "white",
          "plot_bgcolor": "#E5ECF6",
          "polar": {
           "angularaxis": {
            "gridcolor": "white",
            "linecolor": "white",
            "ticks": ""
           },
           "bgcolor": "#E5ECF6",
           "radialaxis": {
            "gridcolor": "white",
            "linecolor": "white",
            "ticks": ""
           }
          },
          "scene": {
           "xaxis": {
            "backgroundcolor": "#E5ECF6",
            "gridcolor": "white",
            "gridwidth": 2,
            "linecolor": "white",
            "showbackground": true,
            "ticks": "",
            "zerolinecolor": "white"
           },
           "yaxis": {
            "backgroundcolor": "#E5ECF6",
            "gridcolor": "white",
            "gridwidth": 2,
            "linecolor": "white",
            "showbackground": true,
            "ticks": "",
            "zerolinecolor": "white"
           },
           "zaxis": {
            "backgroundcolor": "#E5ECF6",
            "gridcolor": "white",
            "gridwidth": 2,
            "linecolor": "white",
            "showbackground": true,
            "ticks": "",
            "zerolinecolor": "white"
           }
          },
          "shapedefaults": {
           "line": {
            "color": "#2a3f5f"
           }
          },
          "ternary": {
           "aaxis": {
            "gridcolor": "white",
            "linecolor": "white",
            "ticks": ""
           },
           "baxis": {
            "gridcolor": "white",
            "linecolor": "white",
            "ticks": ""
           },
           "bgcolor": "#E5ECF6",
           "caxis": {
            "gridcolor": "white",
            "linecolor": "white",
            "ticks": ""
           }
          },
          "title": {
           "x": 0.05
          },
          "xaxis": {
           "automargin": true,
           "gridcolor": "white",
           "linecolor": "white",
           "ticks": "",
           "title": {
            "standoff": 15
           },
           "zerolinecolor": "white",
           "zerolinewidth": 2
          },
          "yaxis": {
           "automargin": true,
           "gridcolor": "white",
           "linecolor": "white",
           "ticks": "",
           "title": {
            "standoff": 15
           },
           "zerolinecolor": "white",
           "zerolinewidth": 2
          }
         }
        },
        "title": {
         "text": "<b>Graph of log from y : \"crashed\"</b>",
         "x": 0.5
        },
        "width": 640,
        "xaxis": {
         "visible": false
        },
        "yaxis": {
         "visible": false
        }
       }
      }
     },
     "metadata": {},
     "output_type": "display_data"
    }
   ],
   "source": [
    "plotly_digraph(G, label=data.df['y'][41], topic_dict=topic_dict)"
   ]
  },
  {
   "cell_type": "code",
   "execution_count": 36,
   "metadata": {},
   "outputs": [
    {
     "name": "stdout",
     "output_type": "stream",
     "text": [
      "Topics size of this dataframe is : 2149\n",
      "Getting Group by from dataframe\n"
     ]
    },
    {
     "data": {
      "application/vnd.jupyter.widget-view+json": {
       "model_id": "980ccd9332394aa3ab703c325f690b91",
       "version_major": 2,
       "version_minor": 0
      },
      "text/plain": [
       "  0%|          | 0/126 [00:00<?, ?it/s]"
      ]
     },
     "metadata": {},
     "output_type": "display_data"
    },
    {
     "name": "stdout",
     "output_type": "stream",
     "text": [
      "Apply Count to calculate each topic frequency\n"
     ]
    },
    {
     "data": {
      "application/vnd.jupyter.widget-view+json": {
       "model_id": "7da1ea9279414c9bba27b37526e902a8",
       "version_major": 2,
       "version_minor": 0
      },
      "text/plain": [
       "  0%|          | 0/126 [00:00<?, ?it/s]"
      ]
     },
     "metadata": {},
     "output_type": "display_data"
    },
    {
     "name": "stdout",
     "output_type": "stream",
     "text": [
      "Expanding X into 2149 features\n"
     ]
    },
    {
     "data": {
      "application/vnd.jupyter.widget-view+json": {
       "model_id": "daf91914e40a4436917ebb8facd21bdf",
       "version_major": 2,
       "version_minor": 0
      },
      "text/plain": [
       "  0%|          | 0/126 [00:00<?, ?it/s]"
      ]
     },
     "metadata": {},
     "output_type": "display_data"
    }
   ],
   "source": [
    "data = LMAOGraph(df=pd.read_parquet('dataset/ALICE-OSLdataset/ALICE_info_no_severity_D_with_topic.parquet.gzip'),mode='freq')"
   ]
  },
  {
   "cell_type": "code",
   "execution_count": 37,
   "metadata": {},
   "outputs": [],
   "source": [
    "data.df.to_parquet('dataset/ALICE-OSLdataset/ALICE_info_no_severity_D_freq_with_label.parquet.gzip')"
   ]
  },
  {
   "cell_type": "markdown",
   "metadata": {},
   "source": [
    "# Classification"
   ]
  },
  {
   "cell_type": "code",
   "execution_count": 66,
   "metadata": {},
   "outputs": [],
   "source": [
    "from sklearn.model_selection import train_test_split\n",
    "train_df, test_df = train_test_split(data.df,test_size=0.2, stratify=data.df.y)"
   ]
  },
  {
   "cell_type": "code",
   "execution_count": 67,
   "metadata": {},
   "outputs": [],
   "source": [
    "# lgb.plot_importance(lgb_clf, importance_type=\"gain\", figsize=(7,12), title=\"LightGBM Feature Importance (Gain)\")\n",
    "# plt.show()"
   ]
  },
  {
   "cell_type": "code",
   "execution_count": 68,
   "metadata": {},
   "outputs": [],
   "source": [
    "from lmao.classifier import LMAOClassifier"
   ]
  },
  {
   "cell_type": "code",
   "execution_count": 69,
   "metadata": {},
   "outputs": [],
   "source": [
    "del clf"
   ]
  },
  {
   "cell_type": "code",
   "execution_count": 70,
   "metadata": {},
   "outputs": [
    {
     "name": "stdout",
     "output_type": "stream",
     "text": [
      "[LightGBM] [Info] Number of positive: 55, number of negative: 45\n",
      "[LightGBM] [Info] Auto-choosing row-wise multi-threading, the overhead of testing was 0.032659 seconds.\n",
      "You can set `force_row_wise=true` to remove the overhead.\n",
      "And if memory is not enough, you can set `force_col_wise=true`.\n",
      "[LightGBM] [Info] Total Bins 14732\n",
      "[LightGBM] [Info] Number of data points in the train set: 100, number of used features: 1240\n",
      "[LightGBM] [Info] [binary:BoostFromScore]: pavg=0.550000 -> initscore=0.200671\n",
      "[LightGBM] [Info] Start training from score 0.200671\n",
      "[LightGBM] [Warning] No further splits with positive gain, best gain: -inf\n",
      "[LightGBM] [Warning] No further splits with positive gain, best gain: -inf\n",
      "[LightGBM] [Warning] No further splits with positive gain, best gain: -inf\n",
      "[LightGBM] [Warning] No further splits with positive gain, best gain: -inf\n",
      "[LightGBM] [Warning] No further splits with positive gain, best gain: -inf\n",
      "[LightGBM] [Warning] No further splits with positive gain, best gain: -inf\n",
      "[LightGBM] [Warning] No further splits with positive gain, best gain: -inf\n",
      "[LightGBM] [Warning] No further splits with positive gain, best gain: -inf\n",
      "[LightGBM] [Warning] No further splits with positive gain, best gain: -inf\n",
      "[LightGBM] [Warning] No further splits with positive gain, best gain: -inf\n",
      "[LightGBM] [Warning] No further splits with positive gain, best gain: -inf\n",
      "[LightGBM] [Warning] No further splits with positive gain, best gain: -inf\n",
      "[LightGBM] [Warning] No further splits with positive gain, best gain: -inf\n",
      "[LightGBM] [Warning] No further splits with positive gain, best gain: -inf\n",
      "[LightGBM] [Warning] No further splits with positive gain, best gain: -inf\n",
      "[LightGBM] [Warning] No further splits with positive gain, best gain: -inf\n",
      "[LightGBM] [Warning] No further splits with positive gain, best gain: -inf\n",
      "[LightGBM] [Warning] No further splits with positive gain, best gain: -inf\n",
      "[LightGBM] [Warning] No further splits with positive gain, best gain: -inf\n",
      "[LightGBM] [Warning] No further splits with positive gain, best gain: -inf\n",
      "[LightGBM] [Warning] No further splits with positive gain, best gain: -inf\n",
      "[LightGBM] [Warning] No further splits with positive gain, best gain: -inf\n",
      "[LightGBM] [Warning] No further splits with positive gain, best gain: -inf\n",
      "[LightGBM] [Warning] No further splits with positive gain, best gain: -inf\n",
      "[LightGBM] [Warning] No further splits with positive gain, best gain: -inf\n",
      "[LightGBM] [Warning] No further splits with positive gain, best gain: -inf\n",
      "[LightGBM] [Warning] No further splits with positive gain, best gain: -inf\n",
      "[LightGBM] [Warning] No further splits with positive gain, best gain: -inf\n",
      "[LightGBM] [Warning] No further splits with positive gain, best gain: -inf\n",
      "[LightGBM] [Warning] No further splits with positive gain, best gain: -inf\n",
      "[LightGBM] [Warning] No further splits with positive gain, best gain: -inf\n",
      "[LightGBM] [Warning] No further splits with positive gain, best gain: -inf\n",
      "[LightGBM] [Warning] No further splits with positive gain, best gain: -inf\n",
      "[LightGBM] [Warning] No further splits with positive gain, best gain: -inf\n",
      "[LightGBM] [Warning] No further splits with positive gain, best gain: -inf\n",
      "[LightGBM] [Warning] No further splits with positive gain, best gain: -inf\n",
      "[LightGBM] [Warning] No further splits with positive gain, best gain: -inf\n",
      "[LightGBM] [Warning] No further splits with positive gain, best gain: -inf\n",
      "[LightGBM] [Warning] No further splits with positive gain, best gain: -inf\n",
      "[LightGBM] [Warning] No further splits with positive gain, best gain: -inf\n",
      "[LightGBM] [Warning] No further splits with positive gain, best gain: -inf\n",
      "[LightGBM] [Warning] No further splits with positive gain, best gain: -inf\n",
      "[LightGBM] [Warning] No further splits with positive gain, best gain: -inf\n",
      "[LightGBM] [Warning] No further splits with positive gain, best gain: -inf\n",
      "[LightGBM] [Warning] No further splits with positive gain, best gain: -inf\n",
      "[LightGBM] [Warning] No further splits with positive gain, best gain: -inf\n",
      "[LightGBM] [Warning] No further splits with positive gain, best gain: -inf\n",
      "[LightGBM] [Warning] No further splits with positive gain, best gain: -inf\n",
      "[LightGBM] [Warning] No further splits with positive gain, best gain: -inf\n",
      "[LightGBM] [Warning] No further splits with positive gain, best gain: -inf\n",
      "[LightGBM] [Warning] No further splits with positive gain, best gain: -inf\n",
      "[LightGBM] [Warning] No further splits with positive gain, best gain: -inf\n",
      "[LightGBM] [Warning] No further splits with positive gain, best gain: -inf\n",
      "[LightGBM] [Warning] No further splits with positive gain, best gain: -inf\n",
      "[LightGBM] [Warning] No further splits with positive gain, best gain: -inf\n",
      "[LightGBM] [Warning] No further splits with positive gain, best gain: -inf\n",
      "[LightGBM] [Warning] No further splits with positive gain, best gain: -inf\n",
      "[LightGBM] [Warning] No further splits with positive gain, best gain: -inf\n",
      "[LightGBM] [Warning] No further splits with positive gain, best gain: -inf\n",
      "[LightGBM] [Warning] No further splits with positive gain, best gain: -inf\n",
      "[LightGBM] [Warning] No further splits with positive gain, best gain: -inf\n",
      "[LightGBM] [Warning] No further splits with positive gain, best gain: -inf\n",
      "[LightGBM] [Warning] No further splits with positive gain, best gain: -inf\n",
      "[LightGBM] [Warning] No further splits with positive gain, best gain: -inf\n",
      "[LightGBM] [Warning] No further splits with positive gain, best gain: -inf\n",
      "[LightGBM] [Warning] No further splits with positive gain, best gain: -inf\n",
      "[LightGBM] [Warning] No further splits with positive gain, best gain: -inf\n",
      "[LightGBM] [Warning] No further splits with positive gain, best gain: -inf\n",
      "[LightGBM] [Warning] No further splits with positive gain, best gain: -inf\n",
      "[LightGBM] [Warning] No further splits with positive gain, best gain: -inf\n",
      "[LightGBM] [Warning] No further splits with positive gain, best gain: -inf\n",
      "[LightGBM] [Warning] No further splits with positive gain, best gain: -inf\n",
      "[LightGBM] [Warning] No further splits with positive gain, best gain: -inf\n",
      "[LightGBM] [Warning] No further splits with positive gain, best gain: -inf\n",
      "[LightGBM] [Warning] No further splits with positive gain, best gain: -inf\n",
      "[LightGBM] [Warning] No further splits with positive gain, best gain: -inf\n",
      "[LightGBM] [Warning] No further splits with positive gain, best gain: -inf\n",
      "[LightGBM] [Warning] No further splits with positive gain, best gain: -inf\n",
      "[LightGBM] [Warning] No further splits with positive gain, best gain: -inf\n",
      "[LightGBM] [Warning] No further splits with positive gain, best gain: -inf\n",
      "[LightGBM] [Warning] No further splits with positive gain, best gain: -inf\n",
      "[LightGBM] [Warning] No further splits with positive gain, best gain: -inf\n",
      "[LightGBM] [Warning] No further splits with positive gain, best gain: -inf\n",
      "[LightGBM] [Warning] No further splits with positive gain, best gain: -inf\n",
      "[LightGBM] [Warning] No further splits with positive gain, best gain: -inf\n",
      "[LightGBM] [Warning] No further splits with positive gain, best gain: -inf\n",
      "[LightGBM] [Warning] No further splits with positive gain, best gain: -inf\n",
      "[LightGBM] [Warning] No further splits with positive gain, best gain: -inf\n",
      "[LightGBM] [Warning] No further splits with positive gain, best gain: -inf\n",
      "[LightGBM] [Warning] No further splits with positive gain, best gain: -inf\n",
      "[LightGBM] [Warning] No further splits with positive gain, best gain: -inf\n",
      "[LightGBM] [Warning] No further splits with positive gain, best gain: -inf\n",
      "[LightGBM] [Warning] No further splits with positive gain, best gain: -inf\n",
      "[LightGBM] [Warning] No further splits with positive gain, best gain: -inf\n",
      "[LightGBM] [Warning] No further splits with positive gain, best gain: -inf\n",
      "[LightGBM] [Warning] No further splits with positive gain, best gain: -inf\n",
      "[LightGBM] [Warning] No further splits with positive gain, best gain: -inf\n",
      "[LightGBM] [Warning] No further splits with positive gain, best gain: -inf\n",
      "[LightGBM] [Warning] No further splits with positive gain, best gain: -inf\n",
      "[LightGBM] [Warning] No further splits with positive gain, best gain: -inf\n"
     ]
    }
   ],
   "source": [
    "clf = LMAOClassifier(model_type='lgbm')\n",
    "clf.fit(train_df.drop(columns='y'), train_df.y)"
   ]
  },
  {
   "cell_type": "code",
   "execution_count": 71,
   "metadata": {},
   "outputs": [],
   "source": [
    "pred = clf.predict(test_df.drop(columns='y'))"
   ]
  },
  {
   "cell_type": "code",
   "execution_count": 72,
   "metadata": {},
   "outputs": [
    {
     "name": "stdout",
     "output_type": "stream",
     "text": [
      "              precision    recall  f1-score   support\n",
      "\n",
      "     crashed      0.857     1.000     0.923        12\n",
      " not crashed      1.000     0.857     0.923        14\n",
      "\n",
      "    accuracy                          0.923        26\n",
      "   macro avg      0.929     0.929     0.923        26\n",
      "weighted avg      0.934     0.923     0.923        26\n",
      "\n"
     ]
    }
   ],
   "source": [
    "print(clf.eval_report(test_df.drop(columns='y'), test_df.y))"
   ]
  },
  {
   "cell_type": "code",
   "execution_count": 73,
   "metadata": {},
   "outputs": [
    {
     "data": {
      "image/png": "[encoded data removed]",
      "text/plain": [
       "<Figure size 640x480 with 2 Axes>"
      ]
     },
     "metadata": {},
     "output_type": "display_data"
    }
   ],
   "source": [
    "clf.confusion_matrix_plot(test_df.drop(columns='y'), test_df.y)"
   ]
  },
  {
   "cell_type": "code",
   "execution_count": null,
   "metadata": {},
   "outputs": [],
   "source": []
  }
 ],
 "metadata": {
  "kernelspec": {
   "display_name": "Python 3",
   "language": "python",
   "name": "python3"
  },
  "language_info": {
   "codemirror_mode": {
    "name": "ipython",
    "version": 3
   },
   "file_extension": ".py",
   "mimetype": "text/x-python",
   "name": "python",
   "nbconvert_exporter": "python",
   "pygments_lexer": "ipython3",
   "version": "3.11.5"
  }
 },
 "nbformat": 4,
 "nbformat_minor": 2
}
