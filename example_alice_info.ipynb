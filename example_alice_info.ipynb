{
 "cells": [
  {
   "cell_type": "code",
   "execution_count": 14,
   "metadata": {},
   "outputs": [],
   "source": [
    "# import lmao\n",
    "from lmao._utils import *"
   ]
  },
  {
   "cell_type": "markdown",
   "metadata": {},
   "source": [
    "# ALICE Infologger Preprocessing"
   ]
  },
  {
   "cell_type": "code",
   "execution_count": 2,
   "metadata": {},
   "outputs": [],
   "source": [
    "from lmao.preprocessing import LMAOPrep"
   ]
  },
  {
   "cell_type": "code",
   "execution_count": 2,
   "metadata": {},
   "outputs": [
    {
     "name": "stdout",
     "output_type": "stream",
     "text": [
      "<lmao.preprocessing.LMAOPreprocessing object at 0x143d3f850>\n"
     ]
    }
   ],
   "source": [
    "prep = LMAOPrep(data_type='alice_info')"
   ]
  },
  {
   "cell_type": "code",
   "execution_count": 3,
   "metadata": {},
   "outputs": [
    {
     "data": {
      "text/plain": [
       "'/Users/IsRealNPK/LMAO/dataset/ALICE-OSLdataset/phob_test_20220312_sample_struct_no_new15.csv'"
      ]
     },
     "execution_count": 3,
     "metadata": {},
     "output_type": "execute_result"
    }
   ],
   "source": [
    "prep.from_parsed_csv(csv_path='dataset/ALICE-OSLdataset/phob_test_20220312_sample_struct_no_new15.csv')"
   ]
  },
  {
   "cell_type": "code",
   "execution_count": null,
   "metadata": {},
   "outputs": [],
   "source": [
    "prep.prep_data(label_path='dataset/OneDrive_1_2-5-2024/runs.csv',\n",
    "               eor_path='dataset/OneDrive_1_2-5-2024/eor_reasons.csv')"
   ]
  },
  {
   "cell_type": "code",
   "execution_count": 63,
   "metadata": {},
   "outputs": [
    {
     "data": {
      "text/html": [
       "<div>\n",
       "<style scoped>\n",
       "    .dataframe tbody tr th:only-of-type {\n",
       "        vertical-align: middle;\n",
       "    }\n",
       "\n",
       "    .dataframe tbody tr th {\n",
       "        vertical-align: top;\n",
       "    }\n",
       "\n",
       "    .dataframe thead th {\n",
       "        text-align: right;\n",
       "    }\n",
       "</style>\n",
       "<table border=\"1\" class=\"dataframe\">\n",
       "  <thead>\n",
       "    <tr style=\"text-align: right;\">\n",
       "      <th></th>\n",
       "      <th>session_id</th>\n",
       "      <th>severity</th>\n",
       "      <th>content</th>\n",
       "      <th>event_id</th>\n",
       "      <th>event_template</th>\n",
       "      <th>label</th>\n",
       "      <th>EOR</th>\n",
       "      <th>EOR_id</th>\n",
       "      <th>run_quality</th>\n",
       "    </tr>\n",
       "  </thead>\n",
       "  <tbody>\n",
       "    <tr>\n",
       "      <th>134071</th>\n",
       "      <td>24064</td>\n",
       "      <td>I</td>\n",
       "      <td>writing 1 messages to aliecs.before_start_acti...</td>\n",
       "      <td>2</td>\n",
       "      <td>writing &lt;*&gt; messages to &lt;*&gt; (partition:&lt;*&gt;</td>\n",
       "      <td>not crashed</td>\n",
       "      <td>eor test.</td>\n",
       "      <td>61.0</td>\n",
       "      <td>test</td>\n",
       "    </tr>\n",
       "    <tr>\n",
       "      <th>134080</th>\n",
       "      <td>24064</td>\n",
       "      <td>I</td>\n",
       "      <td>overriding run start time in the GRP object to...</td>\n",
       "      <td>378</td>\n",
       "      <td>overriding run start time in the GRP object to...</td>\n",
       "      <td>not crashed</td>\n",
       "      <td>eor test.</td>\n",
       "      <td>61.0</td>\n",
       "      <td>test</td>\n",
       "    </tr>\n",
       "    <tr>\n",
       "      <th>134094</th>\n",
       "      <td>24064</td>\n",
       "      <td>I</td>\n",
       "      <td>writing 1 messages to aliecs.env_leave_state.C...</td>\n",
       "      <td>2</td>\n",
       "      <td>writing &lt;*&gt; messages to &lt;*&gt; (partition:&lt;*&gt;</td>\n",
       "      <td>not crashed</td>\n",
       "      <td>eor test.</td>\n",
       "      <td>61.0</td>\n",
       "      <td>test</td>\n",
       "    </tr>\n",
       "    <tr>\n",
       "      <th>134098</th>\n",
       "      <td>24064</td>\n",
       "      <td>I</td>\n",
       "      <td>starting new run</td>\n",
       "      <td>383</td>\n",
       "      <td>starting new run</td>\n",
       "      <td>not crashed</td>\n",
       "      <td>eor test.</td>\n",
       "      <td>61.0</td>\n",
       "      <td>test</td>\n",
       "    </tr>\n",
       "    <tr>\n",
       "      <th>135408</th>\n",
       "      <td>24064</td>\n",
       "      <td>I</td>\n",
       "      <td>Run number 526264</td>\n",
       "      <td>384</td>\n",
       "      <td>Run number &lt;*&gt;</td>\n",
       "      <td>not crashed</td>\n",
       "      <td>eor test.</td>\n",
       "      <td>61.0</td>\n",
       "      <td>test</td>\n",
       "    </tr>\n",
       "    <tr>\n",
       "      <th>...</th>\n",
       "      <td>...</td>\n",
       "      <td>...</td>\n",
       "      <td>...</td>\n",
       "      <td>...</td>\n",
       "      <td>...</td>\n",
       "      <td>...</td>\n",
       "      <td>...</td>\n",
       "      <td>...</td>\n",
       "      <td>...</td>\n",
       "    </tr>\n",
       "    <tr>\n",
       "      <th>34856755</th>\n",
       "      <td>24356</td>\n",
       "      <td>W</td>\n",
       "      <td>Non-contiguous timeframe IDs 187572 ... 187574</td>\n",
       "      <td>723</td>\n",
       "      <td>Non-contiguous timeframe IDs &lt;*&gt; ... &lt;*&gt;</td>\n",
       "      <td>crashed</td>\n",
       "      <td>triggers out synch. disabling ctp readout.</td>\n",
       "      <td>59.0</td>\n",
       "      <td>bad</td>\n",
       "    </tr>\n",
       "    <tr>\n",
       "      <th>34856756</th>\n",
       "      <td>24356</td>\n",
       "      <td>W</td>\n",
       "      <td>Non-contiguous timeframe IDs 187572 ... 187574</td>\n",
       "      <td>723</td>\n",
       "      <td>Non-contiguous timeframe IDs &lt;*&gt; ... &lt;*&gt;</td>\n",
       "      <td>crashed</td>\n",
       "      <td>triggers out synch. disabling ctp readout.</td>\n",
       "      <td>59.0</td>\n",
       "      <td>bad</td>\n",
       "    </tr>\n",
       "    <tr>\n",
       "      <th>34856757</th>\n",
       "      <td>24356</td>\n",
       "      <td>W</td>\n",
       "      <td>Non-contiguous timeframe IDs 187572 ... 187574</td>\n",
       "      <td>723</td>\n",
       "      <td>Non-contiguous timeframe IDs &lt;*&gt; ... &lt;*&gt;</td>\n",
       "      <td>crashed</td>\n",
       "      <td>triggers out synch. disabling ctp readout.</td>\n",
       "      <td>59.0</td>\n",
       "      <td>bad</td>\n",
       "    </tr>\n",
       "    <tr>\n",
       "      <th>34856758</th>\n",
       "      <td>24356</td>\n",
       "      <td>W</td>\n",
       "      <td>Gap in timeframe ids detected: previous= 18757...</td>\n",
       "      <td>724</td>\n",
       "      <td>Gap in timeframe ids &lt;*&gt;</td>\n",
       "      <td>crashed</td>\n",
       "      <td>triggers out synch. disabling ctp readout.</td>\n",
       "      <td>59.0</td>\n",
       "      <td>bad</td>\n",
       "    </tr>\n",
       "    <tr>\n",
       "      <th>34856759</th>\n",
       "      <td>24356</td>\n",
       "      <td>W</td>\n",
       "      <td>Gap in timeframe ids detected: previous= 18757...</td>\n",
       "      <td>724</td>\n",
       "      <td>Gap in timeframe ids &lt;*&gt;</td>\n",
       "      <td>crashed</td>\n",
       "      <td>triggers out synch. disabling ctp readout.</td>\n",
       "      <td>59.0</td>\n",
       "      <td>bad</td>\n",
       "    </tr>\n",
       "  </tbody>\n",
       "</table>\n",
       "<p>5487627 rows × 9 columns</p>\n",
       "</div>"
      ],
      "text/plain": [
       "          session_id severity  \\\n",
       "134071         24064        I   \n",
       "134080         24064        I   \n",
       "134094         24064        I   \n",
       "134098         24064        I   \n",
       "135408         24064        I   \n",
       "...              ...      ...   \n",
       "34856755       24356        W   \n",
       "34856756       24356        W   \n",
       "34856757       24356        W   \n",
       "34856758       24356        W   \n",
       "34856759       24356        W   \n",
       "\n",
       "                                                    content  event_id  \\\n",
       "134071    writing 1 messages to aliecs.before_start_acti...         2   \n",
       "134080    overriding run start time in the GRP object to...       378   \n",
       "134094    writing 1 messages to aliecs.env_leave_state.C...         2   \n",
       "134098                                     starting new run       383   \n",
       "135408                                    Run number 526264       384   \n",
       "...                                                     ...       ...   \n",
       "34856755     Non-contiguous timeframe IDs 187572 ... 187574       723   \n",
       "34856756     Non-contiguous timeframe IDs 187572 ... 187574       723   \n",
       "34856757     Non-contiguous timeframe IDs 187572 ... 187574       723   \n",
       "34856758  Gap in timeframe ids detected: previous= 18757...       724   \n",
       "34856759  Gap in timeframe ids detected: previous= 18757...       724   \n",
       "\n",
       "                                             event_template        label  \\\n",
       "134071           writing <*> messages to <*> (partition:<*>  not crashed   \n",
       "134080    overriding run start time in the GRP object to...  not crashed   \n",
       "134094           writing <*> messages to <*> (partition:<*>  not crashed   \n",
       "134098                                     starting new run  not crashed   \n",
       "135408                                       Run number <*>  not crashed   \n",
       "...                                                     ...          ...   \n",
       "34856755           Non-contiguous timeframe IDs <*> ... <*>      crashed   \n",
       "34856756           Non-contiguous timeframe IDs <*> ... <*>      crashed   \n",
       "34856757           Non-contiguous timeframe IDs <*> ... <*>      crashed   \n",
       "34856758                           Gap in timeframe ids <*>      crashed   \n",
       "34856759                           Gap in timeframe ids <*>      crashed   \n",
       "\n",
       "                                                 EOR  EOR_id run_quality  \n",
       "134071                                     eor test.    61.0        test  \n",
       "134080                                     eor test.    61.0        test  \n",
       "134094                                     eor test.    61.0        test  \n",
       "134098                                     eor test.    61.0        test  \n",
       "135408                                     eor test.    61.0        test  \n",
       "...                                              ...     ...         ...  \n",
       "34856755  triggers out synch. disabling ctp readout.    59.0         bad  \n",
       "34856756  triggers out synch. disabling ctp readout.    59.0         bad  \n",
       "34856757  triggers out synch. disabling ctp readout.    59.0         bad  \n",
       "34856758  triggers out synch. disabling ctp readout.    59.0         bad  \n",
       "34856759  triggers out synch. disabling ctp readout.    59.0         bad  \n",
       "\n",
       "[5487627 rows x 9 columns]"
      ]
     },
     "execution_count": 63,
     "metadata": {},
     "output_type": "execute_result"
    }
   ],
   "source": [
    "prep.df"
   ]
  },
  {
   "cell_type": "code",
   "execution_count": 66,
   "metadata": {},
   "outputs": [],
   "source": [
    "prep.df.to_parquet('dataset/ALICE-OSLdataset/ALICE_info_no_severity_D_with_label.parquet.gzip', compression='gzip')"
   ]
  },
  {
   "cell_type": "markdown",
   "metadata": {},
   "source": [
    "# ALICE Bertopic"
   ]
  },
  {
   "cell_type": "code",
   "execution_count": 2,
   "metadata": {},
   "outputs": [
    {
     "name": "stdout",
     "output_type": "stream",
     "text": [
      "Topic model mode set to :BERTopic.\n",
      "Start Initialized\n"
     ]
    }
   ],
   "source": [
    "from lmao.topicmodel import LMAOTopic\n",
    "topic_model = LMAOTopic()"
   ]
  },
  {
   "cell_type": "code",
   "execution_count": 3,
   "metadata": {},
   "outputs": [],
   "source": [
    "df = pd.read_parquet('dataset/ALICE-OSLdataset/ALICE_info_no_severity_D_with_label.parquet.gzip')"
   ]
  },
  {
   "cell_type": "code",
   "execution_count": null,
   "metadata": {},
   "outputs": [],
   "source": [
    "# topic_model.training_model(df=df)"
   ]
  },
  {
   "cell_type": "code",
   "execution_count": null,
   "metadata": {},
   "outputs": [],
   "source": [
    "# topic_dict = topic_model.topic_dict"
   ]
  },
  {
   "cell_type": "code",
   "execution_count": 11,
   "metadata": {},
   "outputs": [
    {
     "name": "stdout",
     "output_type": "stream",
     "text": [
      "1.25 s ± 304 ms per loop (mean ± std. dev. of 7 runs, 1 loop each)\n"
     ]
    }
   ],
   "source": [
    "# %%timeit\n",
    "# topic_model.model.transform(df.content.tolist()[:1000])\n",
    "# topic, _ = topic_model.model.transform(df.content.tolist()[0])\n",
    "# topic"
   ]
  },
  {
   "cell_type": "code",
   "execution_count": 4,
   "metadata": {},
   "outputs": [
    {
     "name": "stdout",
     "output_type": "stream",
     "text": [
      "Done\n"
     ]
    }
   ],
   "source": [
    "topic_model.from_trained_model(model_path='lmao/topicmodel/model/BERTopic-ALICE_info_no_severity_D-all-MiniLM-L6-v2')"
   ]
  },
  {
   "cell_type": "code",
   "execution_count": 5,
   "metadata": {},
   "outputs": [],
   "source": [
    "topic_dict = topic_model.topic_dict"
   ]
  },
  {
   "cell_type": "code",
   "execution_count": 6,
   "metadata": {},
   "outputs": [],
   "source": [
    "df = pd.read_parquet('dataset/ALICE-OSLdataset/ALICE_info_no_severity_D_with_label.parquet.gzip')"
   ]
  },
  {
   "cell_type": "code",
   "execution_count": 7,
   "metadata": {},
   "outputs": [
    {
     "data": {
      "text/html": [
       "<div>\n",
       "<style scoped>\n",
       "    .dataframe tbody tr th:only-of-type {\n",
       "        vertical-align: middle;\n",
       "    }\n",
       "\n",
       "    .dataframe tbody tr th {\n",
       "        vertical-align: top;\n",
       "    }\n",
       "\n",
       "    .dataframe thead th {\n",
       "        text-align: right;\n",
       "    }\n",
       "</style>\n",
       "<table border=\"1\" class=\"dataframe\">\n",
       "  <thead>\n",
       "    <tr style=\"text-align: right;\">\n",
       "      <th></th>\n",
       "      <th>session_id</th>\n",
       "      <th>severity</th>\n",
       "      <th>content</th>\n",
       "      <th>event_id</th>\n",
       "      <th>event_template</th>\n",
       "      <th>label</th>\n",
       "      <th>EOR</th>\n",
       "      <th>EOR_id</th>\n",
       "      <th>run_quality</th>\n",
       "      <th>topic</th>\n",
       "    </tr>\n",
       "  </thead>\n",
       "  <tbody>\n",
       "    <tr>\n",
       "      <th>134071</th>\n",
       "      <td>24064</td>\n",
       "      <td>I</td>\n",
       "      <td>writing 1 messages to aliecs.before_start_acti...</td>\n",
       "      <td>2</td>\n",
       "      <td>writing &lt;*&gt; messages to &lt;*&gt; (partition:&lt;*&gt;</td>\n",
       "      <td>not crashed</td>\n",
       "      <td>eor test.</td>\n",
       "      <td>61.0</td>\n",
       "      <td>test</td>\n",
       "      <td>572</td>\n",
       "    </tr>\n",
       "    <tr>\n",
       "      <th>134080</th>\n",
       "      <td>24064</td>\n",
       "      <td>I</td>\n",
       "      <td>overriding run start time in the GRP object to...</td>\n",
       "      <td>378</td>\n",
       "      <td>overriding run start time in the GRP object to...</td>\n",
       "      <td>not crashed</td>\n",
       "      <td>eor test.</td>\n",
       "      <td>61.0</td>\n",
       "      <td>test</td>\n",
       "      <td>1682</td>\n",
       "    </tr>\n",
       "    <tr>\n",
       "      <th>134094</th>\n",
       "      <td>24064</td>\n",
       "      <td>I</td>\n",
       "      <td>writing 1 messages to aliecs.env_leave_state.C...</td>\n",
       "      <td>2</td>\n",
       "      <td>writing &lt;*&gt; messages to &lt;*&gt; (partition:&lt;*&gt;</td>\n",
       "      <td>not crashed</td>\n",
       "      <td>eor test.</td>\n",
       "      <td>61.0</td>\n",
       "      <td>test</td>\n",
       "      <td>464</td>\n",
       "    </tr>\n",
       "    <tr>\n",
       "      <th>134098</th>\n",
       "      <td>24064</td>\n",
       "      <td>I</td>\n",
       "      <td>starting new run</td>\n",
       "      <td>383</td>\n",
       "      <td>starting new run</td>\n",
       "      <td>not crashed</td>\n",
       "      <td>eor test.</td>\n",
       "      <td>61.0</td>\n",
       "      <td>test</td>\n",
       "      <td>-1</td>\n",
       "    </tr>\n",
       "    <tr>\n",
       "      <th>135408</th>\n",
       "      <td>24064</td>\n",
       "      <td>I</td>\n",
       "      <td>Run number 526264</td>\n",
       "      <td>384</td>\n",
       "      <td>Run number &lt;*&gt;</td>\n",
       "      <td>not crashed</td>\n",
       "      <td>eor test.</td>\n",
       "      <td>61.0</td>\n",
       "      <td>test</td>\n",
       "      <td>1635</td>\n",
       "    </tr>\n",
       "    <tr>\n",
       "      <th>...</th>\n",
       "      <td>...</td>\n",
       "      <td>...</td>\n",
       "      <td>...</td>\n",
       "      <td>...</td>\n",
       "      <td>...</td>\n",
       "      <td>...</td>\n",
       "      <td>...</td>\n",
       "      <td>...</td>\n",
       "      <td>...</td>\n",
       "      <td>...</td>\n",
       "    </tr>\n",
       "    <tr>\n",
       "      <th>34856755</th>\n",
       "      <td>24356</td>\n",
       "      <td>W</td>\n",
       "      <td>Non-contiguous timeframe IDs 187572 ... 187574</td>\n",
       "      <td>723</td>\n",
       "      <td>Non-contiguous timeframe IDs &lt;*&gt; ... &lt;*&gt;</td>\n",
       "      <td>crashed</td>\n",
       "      <td>triggers out synch. disabling ctp readout.</td>\n",
       "      <td>59.0</td>\n",
       "      <td>bad</td>\n",
       "      <td>1882</td>\n",
       "    </tr>\n",
       "    <tr>\n",
       "      <th>34856756</th>\n",
       "      <td>24356</td>\n",
       "      <td>W</td>\n",
       "      <td>Non-contiguous timeframe IDs 187572 ... 187574</td>\n",
       "      <td>723</td>\n",
       "      <td>Non-contiguous timeframe IDs &lt;*&gt; ... &lt;*&gt;</td>\n",
       "      <td>crashed</td>\n",
       "      <td>triggers out synch. disabling ctp readout.</td>\n",
       "      <td>59.0</td>\n",
       "      <td>bad</td>\n",
       "      <td>1882</td>\n",
       "    </tr>\n",
       "    <tr>\n",
       "      <th>34856757</th>\n",
       "      <td>24356</td>\n",
       "      <td>W</td>\n",
       "      <td>Non-contiguous timeframe IDs 187572 ... 187574</td>\n",
       "      <td>723</td>\n",
       "      <td>Non-contiguous timeframe IDs &lt;*&gt; ... &lt;*&gt;</td>\n",
       "      <td>crashed</td>\n",
       "      <td>triggers out synch. disabling ctp readout.</td>\n",
       "      <td>59.0</td>\n",
       "      <td>bad</td>\n",
       "      <td>1882</td>\n",
       "    </tr>\n",
       "    <tr>\n",
       "      <th>34856758</th>\n",
       "      <td>24356</td>\n",
       "      <td>W</td>\n",
       "      <td>Gap in timeframe ids detected: previous= 18757...</td>\n",
       "      <td>724</td>\n",
       "      <td>Gap in timeframe ids &lt;*&gt;</td>\n",
       "      <td>crashed</td>\n",
       "      <td>triggers out synch. disabling ctp readout.</td>\n",
       "      <td>59.0</td>\n",
       "      <td>bad</td>\n",
       "      <td>-1</td>\n",
       "    </tr>\n",
       "    <tr>\n",
       "      <th>34856759</th>\n",
       "      <td>24356</td>\n",
       "      <td>W</td>\n",
       "      <td>Gap in timeframe ids detected: previous= 18757...</td>\n",
       "      <td>724</td>\n",
       "      <td>Gap in timeframe ids &lt;*&gt;</td>\n",
       "      <td>crashed</td>\n",
       "      <td>triggers out synch. disabling ctp readout.</td>\n",
       "      <td>59.0</td>\n",
       "      <td>bad</td>\n",
       "      <td>-1</td>\n",
       "    </tr>\n",
       "  </tbody>\n",
       "</table>\n",
       "<p>5487627 rows × 10 columns</p>\n",
       "</div>"
      ],
      "text/plain": [
       "          session_id severity  \\\n",
       "134071         24064        I   \n",
       "134080         24064        I   \n",
       "134094         24064        I   \n",
       "134098         24064        I   \n",
       "135408         24064        I   \n",
       "...              ...      ...   \n",
       "34856755       24356        W   \n",
       "34856756       24356        W   \n",
       "34856757       24356        W   \n",
       "34856758       24356        W   \n",
       "34856759       24356        W   \n",
       "\n",
       "                                                    content  event_id  \\\n",
       "134071    writing 1 messages to aliecs.before_start_acti...         2   \n",
       "134080    overriding run start time in the GRP object to...       378   \n",
       "134094    writing 1 messages to aliecs.env_leave_state.C...         2   \n",
       "134098                                     starting new run       383   \n",
       "135408                                    Run number 526264       384   \n",
       "...                                                     ...       ...   \n",
       "34856755     Non-contiguous timeframe IDs 187572 ... 187574       723   \n",
       "34856756     Non-contiguous timeframe IDs 187572 ... 187574       723   \n",
       "34856757     Non-contiguous timeframe IDs 187572 ... 187574       723   \n",
       "34856758  Gap in timeframe ids detected: previous= 18757...       724   \n",
       "34856759  Gap in timeframe ids detected: previous= 18757...       724   \n",
       "\n",
       "                                             event_template        label  \\\n",
       "134071           writing <*> messages to <*> (partition:<*>  not crashed   \n",
       "134080    overriding run start time in the GRP object to...  not crashed   \n",
       "134094           writing <*> messages to <*> (partition:<*>  not crashed   \n",
       "134098                                     starting new run  not crashed   \n",
       "135408                                       Run number <*>  not crashed   \n",
       "...                                                     ...          ...   \n",
       "34856755           Non-contiguous timeframe IDs <*> ... <*>      crashed   \n",
       "34856756           Non-contiguous timeframe IDs <*> ... <*>      crashed   \n",
       "34856757           Non-contiguous timeframe IDs <*> ... <*>      crashed   \n",
       "34856758                           Gap in timeframe ids <*>      crashed   \n",
       "34856759                           Gap in timeframe ids <*>      crashed   \n",
       "\n",
       "                                                 EOR  EOR_id run_quality  \\\n",
       "134071                                     eor test.    61.0        test   \n",
       "134080                                     eor test.    61.0        test   \n",
       "134094                                     eor test.    61.0        test   \n",
       "134098                                     eor test.    61.0        test   \n",
       "135408                                     eor test.    61.0        test   \n",
       "...                                              ...     ...         ...   \n",
       "34856755  triggers out synch. disabling ctp readout.    59.0         bad   \n",
       "34856756  triggers out synch. disabling ctp readout.    59.0         bad   \n",
       "34856757  triggers out synch. disabling ctp readout.    59.0         bad   \n",
       "34856758  triggers out synch. disabling ctp readout.    59.0         bad   \n",
       "34856759  triggers out synch. disabling ctp readout.    59.0         bad   \n",
       "\n",
       "          topic  \n",
       "134071      572  \n",
       "134080     1682  \n",
       "134094      464  \n",
       "134098       -1  \n",
       "135408     1635  \n",
       "...         ...  \n",
       "34856755   1882  \n",
       "34856756   1882  \n",
       "34856757   1882  \n",
       "34856758     -1  \n",
       "34856759     -1  \n",
       "\n",
       "[5487627 rows x 10 columns]"
      ]
     },
     "execution_count": 7,
     "metadata": {},
     "output_type": "execute_result"
    }
   ],
   "source": [
    "df = topic_model.get_topic(df=df)"
   ]
  },
  {
   "cell_type": "code",
   "execution_count": 8,
   "metadata": {},
   "outputs": [
    {
     "data": {
      "application/vnd.plotly.v1+json": {
       "config": {
        "plotlyServerURL": "https://plot.ly"
       },
       "data": [
        {
         "hoverinfo": "text",
         "hovertext": [
          "<b>Topic 0</b><br>Words: sending quality, objects sending, quality objects, sending, objects",
          "<b>Topic 0</b><br>Words: sending quality, objects sending, quality objects, sending, objects"
         ],
         "marker": {
          "color": "#E69F00"
         },
         "name": "0_sending quality_objects sending_qualit...",
         "orientation": "h",
         "type": "bar",
         "visible": true,
         "x": [
          2591,
          135414
         ],
         "y": [
          "crashed",
          "not crashed"
         ]
        },
        {
         "hoverinfo": "text",
         "hovertext": [
          "<b>Topic 1</b><br>Words: startofcycle startofcycle, startofcycle, startofcycle configure, cycledurationntf startofcycle, used 90035181",
          "<b>Topic 1</b><br>Words: startofcycle startofcycle, startofcycle, startofcycle equipment, 279136 startofcycle, startofcycle bank"
         ],
         "marker": {
          "color": "#56B4E9"
         },
         "name": "1_startofcycle startofcycle_startofcycle...",
         "orientation": "h",
         "type": "bar",
         "visible": "legendonly",
         "x": [
          2608,
          106554
         ],
         "y": [
          "crashed",
          "not crashed"
         ]
        },
        {
         "hoverinfo": "text",
         "hovertext": [
          "<b>Topic 2</b><br>Words: storing qualityobjects, qualityobjects storing, qualityobjects, storing, qualityobjects teardown",
          "<b>Topic 2</b><br>Words: storing qualityobjects, qualityobjects storing, qualityobjects, storing, qualityobjects task"
         ],
         "marker": {
          "color": "#009E73"
         },
         "name": "2_storing qualityobjects_qualityobjects ...",
         "orientation": "h",
         "type": "bar",
         "visible": "legendonly",
         "x": [
          1415,
          99473
         ],
         "y": [
          "crashed",
          "not crashed"
         ]
        },
        {
         "hoverinfo": "text",
         "hovertext": [
          "<b>Topic 3</b><br>Words: endofcycle endofcycle, endofcycle, endofcycle received, 2arpa4s12ju task, 2arpa4s12ju",
          "<b>Topic 3</b><br>Words: endofcycle endofcycle, endofcycle, 1664473857380, timestamp 1664473857380, 1664473857380 updating"
         ],
         "marker": {
          "color": "#F0E442"
         },
         "name": "3_endofcycle endofcycle_endofcycle_16644...",
         "orientation": "h",
         "type": "bar",
         "visible": "legendonly",
         "x": [
          2522,
          105594
         ],
         "y": [
          "crashed",
          "not crashed"
         ]
        },
        {
         "hoverinfo": "text",
         "hovertext": [
          "<b>Topic 4</b><br>Words: check rawbunchminamplitude, rawbunchminamplitude quality, rawbunchminamplitude, quality good, good level",
          "<b>Topic 4</b><br>Words: check rawbunchminamplitude, rawbunchminamplitude quality, rawbunchminamplitude, good level, quality good"
         ],
         "marker": {
          "color": "#D55E00"
         },
         "name": "4_check rawbunchminamplitude_rawbunchmin...",
         "orientation": "h",
         "type": "bar",
         "visible": "legendonly",
         "x": [
          1539,
          78715
         ],
         "y": [
          "crashed",
          "not crashed"
         ]
        },
        {
         "hoverinfo": "text",
         "hovertext": [
          "<b>Topic 5</b><br>Words: updating the, triggertype timestamp, task due, trigger triggertype, triggertype",
          "<b>Topic 5</b><br>Words: updating the, triggertype timestamp, trigger triggertype, triggertype, to trigger"
         ],
         "marker": {
          "color": "#0072B2"
         },
         "name": "5_updating the_triggertype timestamp_tri...",
         "orientation": "h",
         "type": "bar",
         "visible": "legendonly",
         "x": [
          1564,
          62006
         ],
         "y": [
          "crashed",
          "not crashed"
         ]
        },
        {
         "hoverinfo": "text",
         "hovertext": [
          "<b>Topic 177</b><br>Words: dma for, roc starting, starting dma, dma, roc stopping",
          "<b>Topic 177</b><br>Words: dma for, starting dma, roc starting, dma, stopping dma"
         ],
         "marker": {
          "color": "#CC79A7"
         },
         "name": "177_dma for_roc starting_starting dma_dm...",
         "orientation": "h",
         "type": "bar",
         "visible": "legendonly",
         "x": [
          31066,
          34587
         ],
         "y": [
          "crashed",
          "not crashed"
         ]
        },
        {
         "hoverinfo": "text",
         "hovertext": [
          "<b>Topic 1882</b><br>Words: contiguous, non contiguous, contiguous timeframe, non, timeframe ids",
          "<b>Topic 1882</b><br>Words: non contiguous, contiguous timeframe, contiguous, non, ids"
         ],
         "marker": {
          "color": "#E69F00"
         },
         "name": "1882_non contiguous_contiguous timeframe...",
         "orientation": "h",
         "type": "bar",
         "visible": "legendonly",
         "x": [
          2675,
          53704
         ],
         "y": [
          "crashed",
          "not crashed"
         ]
        },
        {
         "hoverinfo": "text",
         "hovertext": [
          "<b>Topic 1910</b><br>Words: in nohgperddl, nohgperddl found, nohgperddl, in fec, fec",
          "<b>Topic 1910</b><br>Words: nohgperddl found, in nohgperddl, nohgperddl, of ddl, in fec"
         ],
         "marker": {
          "color": "#56B4E9"
         },
         "name": "1910_nohgperddl found_in nohgperddl_nohg...",
         "orientation": "h",
         "type": "bar",
         "visible": "legendonly",
         "x": [
          1276,
          43127
         ],
         "y": [
          "crashed",
          "not crashed"
         ]
        },
        {
         "hoverinfo": "text",
         "hovertext": [
          "<b>Topic 1923</b><br>Words: col, row, sm, in channel, channel col",
          "<b>Topic 1923</b><br>Words: row, col, channel col, in channel, sm"
         ],
         "marker": {
          "color": "#009E73"
         },
         "name": "1923_row_col_in channel_channel col",
         "orientation": "h",
         "type": "bar",
         "visible": "legendonly",
         "x": [
          2708,
          76209
         ],
         "y": [
          "crashed",
          "not crashed"
         ]
        }
       ],
       "layout": {
        "height": 900,
        "hoverlabel": {
         "bgcolor": "white",
         "font": {
          "family": "Rockwell",
          "size": 16
         }
        },
        "legend": {
         "title": {
          "text": "<b>Global Topic Representation"
         }
        },
        "template": {
         "data": {
          "bar": [
           {
            "error_x": {
             "color": "rgb(36,36,36)"
            },
            "error_y": {
             "color": "rgb(36,36,36)"
            },
            "marker": {
             "line": {
              "color": "white",
              "width": 0.5
             },
             "pattern": {
              "fillmode": "overlay",
              "size": 10,
              "solidity": 0.2
             }
            },
            "type": "bar"
           }
          ],
          "barpolar": [
           {
            "marker": {
             "line": {
              "color": "white",
              "width": 0.5
             },
             "pattern": {
              "fillmode": "overlay",
              "size": 10,
              "solidity": 0.2
             }
            },
            "type": "barpolar"
           }
          ],
          "carpet": [
           {
            "aaxis": {
             "endlinecolor": "rgb(36,36,36)",
             "gridcolor": "white",
             "linecolor": "white",
             "minorgridcolor": "white",
             "startlinecolor": "rgb(36,36,36)"
            },
            "baxis": {
             "endlinecolor": "rgb(36,36,36)",
             "gridcolor": "white",
             "linecolor": "white",
             "minorgridcolor": "white",
             "startlinecolor": "rgb(36,36,36)"
            },
            "type": "carpet"
           }
          ],
          "choropleth": [
           {
            "colorbar": {
             "outlinewidth": 1,
             "tickcolor": "rgb(36,36,36)",
             "ticks": "outside"
            },
            "type": "choropleth"
           }
          ],
          "contour": [
           {
            "colorbar": {
             "outlinewidth": 1,
             "tickcolor": "rgb(36,36,36)",
             "ticks": "outside"
            },
            "colorscale": [
             [
              0,
              "#440154"
             ],
             [
              0.1111111111111111,
              "#482878"
             ],
             [
              0.2222222222222222,
              "#3e4989"
             ],
             [
              0.3333333333333333,
              "#31688e"
             ],
             [
              0.4444444444444444,
              "#26828e"
             ],
             [
              0.5555555555555556,
              "#1f9e89"
             ],
             [
              0.6666666666666666,
              "#35b779"
             ],
             [
              0.7777777777777778,
              "#6ece58"
             ],
             [
              0.8888888888888888,
              "#b5de2b"
             ],
             [
              1,
              "#fde725"
             ]
            ],
            "type": "contour"
           }
          ],
          "contourcarpet": [
           {
            "colorbar": {
             "outlinewidth": 1,
             "tickcolor": "rgb(36,36,36)",
             "ticks": "outside"
            },
            "type": "contourcarpet"
           }
          ],
          "heatmap": [
           {
            "colorbar": {
             "outlinewidth": 1,
             "tickcolor": "rgb(36,36,36)",
             "ticks": "outside"
            },
            "colorscale": [
             [
              0,
              "#440154"
             ],
             [
              0.1111111111111111,
              "#482878"
             ],
             [
              0.2222222222222222,
              "#3e4989"
             ],
             [
              0.3333333333333333,
              "#31688e"
             ],
             [
              0.4444444444444444,
              "#26828e"
             ],
             [
              0.5555555555555556,
              "#1f9e89"
             ],
             [
              0.6666666666666666,
              "#35b779"
             ],
             [
              0.7777777777777778,
              "#6ece58"
             ],
             [
              0.8888888888888888,
              "#b5de2b"
             ],
             [
              1,
              "#fde725"
             ]
            ],
            "type": "heatmap"
           }
          ],
          "heatmapgl": [
           {
            "colorbar": {
             "outlinewidth": 1,
             "tickcolor": "rgb(36,36,36)",
             "ticks": "outside"
            },
            "colorscale": [
             [
              0,
              "#440154"
             ],
             [
              0.1111111111111111,
              "#482878"
             ],
             [
              0.2222222222222222,
              "#3e4989"
             ],
             [
              0.3333333333333333,
              "#31688e"
             ],
             [
              0.4444444444444444,
              "#26828e"
             ],
             [
              0.5555555555555556,
              "#1f9e89"
             ],
             [
              0.6666666666666666,
              "#35b779"
             ],
             [
              0.7777777777777778,
              "#6ece58"
             ],
             [
              0.8888888888888888,
              "#b5de2b"
             ],
             [
              1,
              "#fde725"
             ]
            ],
            "type": "heatmapgl"
           }
          ],
          "histogram": [
           {
            "marker": {
             "line": {
              "color": "white",
              "width": 0.6
             }
            },
            "type": "histogram"
           }
          ],
          "histogram2d": [
           {
            "colorbar": {
             "outlinewidth": 1,
             "tickcolor": "rgb(36,36,36)",
             "ticks": "outside"
            },
            "colorscale": [
             [
              0,
              "#440154"
             ],
             [
              0.1111111111111111,
              "#482878"
             ],
             [
              0.2222222222222222,
              "#3e4989"
             ],
             [
              0.3333333333333333,
              "#31688e"
             ],
             [
              0.4444444444444444,
              "#26828e"
             ],
             [
              0.5555555555555556,
              "#1f9e89"
             ],
             [
              0.6666666666666666,
              "#35b779"
             ],
             [
              0.7777777777777778,
              "#6ece58"
             ],
             [
              0.8888888888888888,
              "#b5de2b"
             ],
             [
              1,
              "#fde725"
             ]
            ],
            "type": "histogram2d"
           }
          ],
          "histogram2dcontour": [
           {
            "colorbar": {
             "outlinewidth": 1,
             "tickcolor": "rgb(36,36,36)",
             "ticks": "outside"
            },
            "colorscale": [
             [
              0,
              "#440154"
             ],
             [
              0.1111111111111111,
              "#482878"
             ],
             [
              0.2222222222222222,
              "#3e4989"
             ],
             [
              0.3333333333333333,
              "#31688e"
             ],
             [
              0.4444444444444444,
              "#26828e"
             ],
             [
              0.5555555555555556,
              "#1f9e89"
             ],
             [
              0.6666666666666666,
              "#35b779"
             ],
             [
              0.7777777777777778,
              "#6ece58"
             ],
             [
              0.8888888888888888,
              "#b5de2b"
             ],
             [
              1,
              "#fde725"
             ]
            ],
            "type": "histogram2dcontour"
           }
          ],
          "mesh3d": [
           {
            "colorbar": {
             "outlinewidth": 1,
             "tickcolor": "rgb(36,36,36)",
             "ticks": "outside"
            },
            "type": "mesh3d"
           }
          ],
          "parcoords": [
           {
            "line": {
             "colorbar": {
              "outlinewidth": 1,
              "tickcolor": "rgb(36,36,36)",
              "ticks": "outside"
             }
            },
            "type": "parcoords"
           }
          ],
          "pie": [
           {
            "automargin": true,
            "type": "pie"
           }
          ],
          "scatter": [
           {
            "fillpattern": {
             "fillmode": "overlay",
             "size": 10,
             "solidity": 0.2
            },
            "type": "scatter"
           }
          ],
          "scatter3d": [
           {
            "line": {
             "colorbar": {
              "outlinewidth": 1,
              "tickcolor": "rgb(36,36,36)",
              "ticks": "outside"
             }
            },
            "marker": {
             "colorbar": {
              "outlinewidth": 1,
              "tickcolor": "rgb(36,36,36)",
              "ticks": "outside"
             }
            },
            "type": "scatter3d"
           }
          ],
          "scattercarpet": [
           {
            "marker": {
             "colorbar": {
              "outlinewidth": 1,
              "tickcolor": "rgb(36,36,36)",
              "ticks": "outside"
             }
            },
            "type": "scattercarpet"
           }
          ],
          "scattergeo": [
           {
            "marker": {
             "colorbar": {
              "outlinewidth": 1,
              "tickcolor": "rgb(36,36,36)",
              "ticks": "outside"
             }
            },
            "type": "scattergeo"
           }
          ],
          "scattergl": [
           {
            "marker": {
             "colorbar": {
              "outlinewidth": 1,
              "tickcolor": "rgb(36,36,36)",
              "ticks": "outside"
             }
            },
            "type": "scattergl"
           }
          ],
          "scattermapbox": [
           {
            "marker": {
             "colorbar": {
              "outlinewidth": 1,
              "tickcolor": "rgb(36,36,36)",
              "ticks": "outside"
             }
            },
            "type": "scattermapbox"
           }
          ],
          "scatterpolar": [
           {
            "marker": {
             "colorbar": {
              "outlinewidth": 1,
              "tickcolor": "rgb(36,36,36)",
              "ticks": "outside"
             }
            },
            "type": "scatterpolar"
           }
          ],
          "scatterpolargl": [
           {
            "marker": {
             "colorbar": {
              "outlinewidth": 1,
              "tickcolor": "rgb(36,36,36)",
              "ticks": "outside"
             }
            },
            "type": "scatterpolargl"
           }
          ],
          "scatterternary": [
           {
            "marker": {
             "colorbar": {
              "outlinewidth": 1,
              "tickcolor": "rgb(36,36,36)",
              "ticks": "outside"
             }
            },
            "type": "scatterternary"
           }
          ],
          "surface": [
           {
            "colorbar": {
             "outlinewidth": 1,
             "tickcolor": "rgb(36,36,36)",
             "ticks": "outside"
            },
            "colorscale": [
             [
              0,
              "#440154"
             ],
             [
              0.1111111111111111,
              "#482878"
             ],
             [
              0.2222222222222222,
              "#3e4989"
             ],
             [
              0.3333333333333333,
              "#31688e"
             ],
             [
              0.4444444444444444,
              "#26828e"
             ],
             [
              0.5555555555555556,
              "#1f9e89"
             ],
             [
              0.6666666666666666,
              "#35b779"
             ],
             [
              0.7777777777777778,
              "#6ece58"
             ],
             [
              0.8888888888888888,
              "#b5de2b"
             ],
             [
              1,
              "#fde725"
             ]
            ],
            "type": "surface"
           }
          ],
          "table": [
           {
            "cells": {
             "fill": {
              "color": "rgb(237,237,237)"
             },
             "line": {
              "color": "white"
             }
            },
            "header": {
             "fill": {
              "color": "rgb(217,217,217)"
             },
             "line": {
              "color": "white"
             }
            },
            "type": "table"
           }
          ]
         },
         "layout": {
          "annotationdefaults": {
           "arrowhead": 0,
           "arrowwidth": 1
          },
          "autotypenumbers": "strict",
          "coloraxis": {
           "colorbar": {
            "outlinewidth": 1,
            "tickcolor": "rgb(36,36,36)",
            "ticks": "outside"
           }
          },
          "colorscale": {
           "diverging": [
            [
             0,
             "rgb(103,0,31)"
            ],
            [
             0.1,
             "rgb(178,24,43)"
            ],
            [
             0.2,
             "rgb(214,96,77)"
            ],
            [
             0.3,
             "rgb(244,165,130)"
            ],
            [
             0.4,
             "rgb(253,219,199)"
            ],
            [
             0.5,
             "rgb(247,247,247)"
            ],
            [
             0.6,
             "rgb(209,229,240)"
            ],
            [
             0.7,
             "rgb(146,197,222)"
            ],
            [
             0.8,
             "rgb(67,147,195)"
            ],
            [
             0.9,
             "rgb(33,102,172)"
            ],
            [
             1,
             "rgb(5,48,97)"
            ]
           ],
           "sequential": [
            [
             0,
             "#440154"
            ],
            [
             0.1111111111111111,
             "#482878"
            ],
            [
             0.2222222222222222,
             "#3e4989"
            ],
            [
             0.3333333333333333,
             "#31688e"
            ],
            [
             0.4444444444444444,
             "#26828e"
            ],
            [
             0.5555555555555556,
             "#1f9e89"
            ],
            [
             0.6666666666666666,
             "#35b779"
            ],
            [
             0.7777777777777778,
             "#6ece58"
            ],
            [
             0.8888888888888888,
             "#b5de2b"
            ],
            [
             1,
             "#fde725"
            ]
           ],
           "sequentialminus": [
            [
             0,
             "#440154"
            ],
            [
             0.1111111111111111,
             "#482878"
            ],
            [
             0.2222222222222222,
             "#3e4989"
            ],
            [
             0.3333333333333333,
             "#31688e"
            ],
            [
             0.4444444444444444,
             "#26828e"
            ],
            [
             0.5555555555555556,
             "#1f9e89"
            ],
            [
             0.6666666666666666,
             "#35b779"
            ],
            [
             0.7777777777777778,
             "#6ece58"
            ],
            [
             0.8888888888888888,
             "#b5de2b"
            ],
            [
             1,
             "#fde725"
            ]
           ]
          },
          "colorway": [
           "#1F77B4",
           "#FF7F0E",
           "#2CA02C",
           "#D62728",
           "#9467BD",
           "#8C564B",
           "#E377C2",
           "#7F7F7F",
           "#BCBD22",
           "#17BECF"
          ],
          "font": {
           "color": "rgb(36,36,36)"
          },
          "geo": {
           "bgcolor": "white",
           "lakecolor": "white",
           "landcolor": "white",
           "showlakes": true,
           "showland": true,
           "subunitcolor": "white"
          },
          "hoverlabel": {
           "align": "left"
          },
          "hovermode": "closest",
          "mapbox": {
           "style": "light"
          },
          "paper_bgcolor": "white",
          "plot_bgcolor": "white",
          "polar": {
           "angularaxis": {
            "gridcolor": "rgb(232,232,232)",
            "linecolor": "rgb(36,36,36)",
            "showgrid": false,
            "showline": true,
            "ticks": "outside"
           },
           "bgcolor": "white",
           "radialaxis": {
            "gridcolor": "rgb(232,232,232)",
            "linecolor": "rgb(36,36,36)",
            "showgrid": false,
            "showline": true,
            "ticks": "outside"
           }
          },
          "scene": {
           "xaxis": {
            "backgroundcolor": "white",
            "gridcolor": "rgb(232,232,232)",
            "gridwidth": 2,
            "linecolor": "rgb(36,36,36)",
            "showbackground": true,
            "showgrid": false,
            "showline": true,
            "ticks": "outside",
            "zeroline": false,
            "zerolinecolor": "rgb(36,36,36)"
           },
           "yaxis": {
            "backgroundcolor": "white",
            "gridcolor": "rgb(232,232,232)",
            "gridwidth": 2,
            "linecolor": "rgb(36,36,36)",
            "showbackground": true,
            "showgrid": false,
            "showline": true,
            "ticks": "outside",
            "zeroline": false,
            "zerolinecolor": "rgb(36,36,36)"
           },
           "zaxis": {
            "backgroundcolor": "white",
            "gridcolor": "rgb(232,232,232)",
            "gridwidth": 2,
            "linecolor": "rgb(36,36,36)",
            "showbackground": true,
            "showgrid": false,
            "showline": true,
            "ticks": "outside",
            "zeroline": false,
            "zerolinecolor": "rgb(36,36,36)"
           }
          },
          "shapedefaults": {
           "fillcolor": "black",
           "line": {
            "width": 0
           },
           "opacity": 0.3
          },
          "ternary": {
           "aaxis": {
            "gridcolor": "rgb(232,232,232)",
            "linecolor": "rgb(36,36,36)",
            "showgrid": false,
            "showline": true,
            "ticks": "outside"
           },
           "baxis": {
            "gridcolor": "rgb(232,232,232)",
            "linecolor": "rgb(36,36,36)",
            "showgrid": false,
            "showline": true,
            "ticks": "outside"
           },
           "bgcolor": "white",
           "caxis": {
            "gridcolor": "rgb(232,232,232)",
            "linecolor": "rgb(36,36,36)",
            "showgrid": false,
            "showline": true,
            "ticks": "outside"
           }
          },
          "title": {
           "x": 0.05
          },
          "xaxis": {
           "automargin": true,
           "gridcolor": "rgb(232,232,232)",
           "linecolor": "rgb(36,36,36)",
           "showgrid": false,
           "showline": true,
           "ticks": "outside",
           "title": {
            "standoff": 15
           },
           "zeroline": false,
           "zerolinecolor": "rgb(36,36,36)"
          },
          "yaxis": {
           "automargin": true,
           "gridcolor": "rgb(232,232,232)",
           "linecolor": "rgb(36,36,36)",
           "showgrid": false,
           "showline": true,
           "ticks": "outside",
           "title": {
            "standoff": 15
           },
           "zeroline": false,
           "zerolinecolor": "rgb(36,36,36)"
          }
         }
        },
        "title": {
         "font": {
          "color": "Black",
          "size": 22
         },
         "text": "<b>Topics per Class</b>",
         "x": 0.4,
         "xanchor": "center",
         "y": 0.95,
         "yanchor": "top"
        },
        "width": 1250,
        "xaxis": {
         "showgrid": true,
         "title": {
          "text": "Frequency"
         }
        },
        "yaxis": {
         "showgrid": true,
         "title": {
          "text": "Class"
         }
        }
       }
      }
     },
     "metadata": {},
     "output_type": "display_data"
    }
   ],
   "source": [
    "topics_per_class = topic_model.model.topics_per_class(df.content.tolist(), df.label.tolist())\n",
    "topic_model.model.visualize_topics_per_class(topics_per_class)"
   ]
  },
  {
   "cell_type": "code",
   "execution_count": 9,
   "metadata": {},
   "outputs": [
    {
     "data": {
      "application/vnd.plotly.v1+json": {
       "config": {
        "plotlyServerURL": "https://plot.ly"
       },
       "data": [
        {
         "hoverinfo": "text",
         "hovertext": [
          "<b>Topic 0</b><br>Words: sending quality, quality objects, sending, objects sending, objects",
          "<b>Topic 0</b><br>Words: sending quality, quality objects, objects sending, sending, objects",
          "<b>Topic 0</b><br>Words: sending quality, objects sending, quality objects, sending, objects",
          "<b>Topic 0</b><br>Words: sending quality, objects sending, quality objects, sending, objects",
          "<b>Topic 0</b><br>Words: sending quality, objects sending, quality objects, sending, objects",
          "<b>Topic 0</b><br>Words: sending quality, objects sending, quality objects, sending, objects",
          "<b>Topic 0</b><br>Words: sending quality, quality objects, objects sending, sending, objects",
          "<b>Topic 0</b><br>Words: sending quality, quality objects, sending, objects, objects sending",
          "<b>Topic 0</b><br>Words: sending quality, quality objects, sending, objects sending, objects",
          "<b>Topic 0</b><br>Words: sending quality, objects sending, quality objects, sending, objects",
          "<b>Topic 0</b><br>Words: sending quality, objects sending, quality objects, sending, objects",
          "<b>Topic 0</b><br>Words: sending quality, objects sending, quality objects, sending, objects",
          "<b>Topic 0</b><br>Words: sending quality, objects sending, quality objects, sending, objects",
          "<b>Topic 0</b><br>Words: sending quality, objects sending, quality objects, sending, objects",
          "<b>Topic 0</b><br>Words: sending quality, objects sending, quality objects, sending, objects",
          "<b>Topic 0</b><br>Words: sending quality, quality objects, sending, objects sending, objects",
          "<b>Topic 0</b><br>Words: sending quality, objects sending, quality objects, sending, objects",
          "<b>Topic 0</b><br>Words: sending quality, objects sending, quality objects, sending, objects",
          "<b>Topic 0</b><br>Words: sending quality, quality objects, sending, objects sending, objects",
          "<b>Topic 0</b><br>Words: sending quality, quality objects, sending, objects sending, objects",
          "<b>Topic 0</b><br>Words: sending quality, objects sending, quality objects, sending, objects",
          "<b>Topic 0</b><br>Words: sending quality, quality objects, objects sending, sending, objects",
          "<b>Topic 0</b><br>Words: sending quality, quality objects, objects sending, sending, objects",
          "<b>Topic 0</b><br>Words: sending quality, objects sending, quality objects, sending, objects",
          "<b>Topic 0</b><br>Words: sending quality, objects sending, quality objects, sending, objects",
          "<b>Topic 0</b><br>Words: sending quality, quality objects, sending, objects sending, objects",
          "<b>Topic 0</b><br>Words: sending quality, quality objects, sending, objects sending, objects",
          "<b>Topic 0</b><br>Words: sending quality, quality objects, sending, objects, objects sending",
          "<b>Topic 0</b><br>Words: sending quality, objects sending, quality objects, sending, objects",
          "<b>Topic 0</b><br>Words: sending quality, quality objects, sending, objects sending, objects",
          "<b>Topic 0</b><br>Words: sending quality, objects sending, quality objects, sending, objects",
          "<b>Topic 0</b><br>Words: sending quality, quality objects, sending, objects sending, objects",
          "<b>Topic 0</b><br>Words: sending quality, quality objects, objects sending, sending, objects",
          "<b>Topic 0</b><br>Words: sending quality, objects sending, quality objects, sending, objects",
          "<b>Topic 0</b><br>Words: sending quality, quality objects, sending, objects, objects sending",
          "<b>Topic 0</b><br>Words: sending quality, objects sending, quality objects, sending, objects",
          "<b>Topic 0</b><br>Words: sending quality, quality objects, objects sending, sending, objects",
          "<b>Topic 0</b><br>Words: sending quality, objects sending, quality objects, sending, objects",
          "<b>Topic 0</b><br>Words: sending quality, objects sending, quality objects, sending, objects",
          "<b>Topic 0</b><br>Words: sending quality, objects sending, quality objects, sending, objects",
          "<b>Topic 0</b><br>Words: sending quality, objects sending, quality objects, sending, objects",
          "<b>Topic 0</b><br>Words: sending quality, quality objects, objects sending, sending, objects",
          "<b>Topic 0</b><br>Words: sending quality, objects sending, quality objects, sending, objects",
          "<b>Topic 0</b><br>Words: sending quality, quality objects, sending, objects sending, objects",
          "<b>Topic 0</b><br>Words: sending quality, objects sending, quality objects, sending, objects",
          "<b>Topic 0</b><br>Words: sending quality, objects sending, quality objects, sending, objects",
          "<b>Topic 0</b><br>Words: sending quality, objects sending, quality objects, sending, objects",
          "<b>Topic 0</b><br>Words: sending quality, objects sending, quality objects, sending, objects",
          "<b>Topic 0</b><br>Words: sending quality, objects sending, quality objects, sending, objects",
          "<b>Topic 0</b><br>Words: sending quality, quality objects, sending, objects sending, objects",
          "<b>Topic 0</b><br>Words: sending quality, objects sending, quality objects, sending, objects",
          "<b>Topic 0</b><br>Words: sending quality, objects sending, quality objects, sending, objects",
          "<b>Topic 0</b><br>Words: sending quality, objects sending, quality objects, sending, objects",
          "<b>Topic 0</b><br>Words: sending quality, objects sending, quality objects, sending, objects",
          "<b>Topic 0</b><br>Words: sending quality, objects sending, quality objects, sending, objects",
          "<b>Topic 0</b><br>Words: sending quality, quality objects, sending, objects sending, objects",
          "<b>Topic 0</b><br>Words: sending quality, objects sending, quality objects, sending, objects",
          "<b>Topic 0</b><br>Words: sending quality, quality objects, sending, objects sending, objects",
          "<b>Topic 0</b><br>Words: sending quality, objects sending, quality objects, sending, objects",
          "<b>Topic 0</b><br>Words: sending quality, quality objects, sending, objects sending, objects",
          "<b>Topic 0</b><br>Words: sending quality, objects sending, quality objects, sending, objects"
         ],
         "marker": {
          "color": "#E69F00"
         },
         "name": "0_sending quality_objects sending_qualit...",
         "orientation": "h",
         "type": "bar",
         "visible": true,
         "x": [
          37,
          120,
          36679,
          13286,
          3988,
          863,
          110,
          1,
          8,
          181,
          495,
          1138,
          2064,
          27055,
          2372,
          63,
          268,
          303,
          15,
          38,
          3638,
          453,
          1329,
          223,
          557,
          16,
          12,
          1,
          584,
          8,
          293,
          10,
          251,
          1081,
          1,
          16011,
          130,
          604,
          763,
          215,
          286,
          132,
          723,
          38,
          492,
          270,
          775,
          4399,
          559,
          40,
          1895,
          1026,
          6863,
          228,
          191,
          60,
          3028,
          37,
          892,
          3,
          804
         ],
         "y": [
          " end calibration",
          "prepare for injection",
          "start tests the day.",
          "preparation for tpc scan",
          "mid expert request.",
          "problem on alio2-cr1-flp080, backpressure. possible cause: from_readout-proxy_to_tpc-idc-to-vector.",
          "phos/cpv",
          "sor failed for mch",
          "dcs sor failed (no sor_progressing).",
          "end test",
          "tpc scan ",
          "pdp expert request,",
          "exclude emc.",
          "prepare for cosmics",
          "sl request to include mid",
          "exclude fv0.",
          "all epns crashed simultaneously",
          "mch-qcmn-epn-full-track-matching crashed.",
          "normal eor after 5 minutes.",
          "ali-ecs core restarted",
          "stopping to include trd",
          "end calibration",
          "preparing for physics",
          "trigger readout went to zero.",
          "all epns crashed simultaneously with primary vertex error.",
          "mch",
          "need to restart trigger.",
          "started by mistake",
          "epn went flat",
          "tpc not ready at sor",
          "expert request cpv",
          "emcal",
          " jit-4e1deca4ebdf11d52f3ee4f99c0c46f78222361d-mch-qctaskmchdigits-proxy",
          "change luminosity",
          "cpv recover hv trip.",
          "lhc dumped beam dump",
          "operator error: run restarted the same partition.",
          "changed predefined physics configuration",
          "adjust handshake",
          "all epns crashed simultaneously.",
          "change predefined configuration.",
          "rm asks to stop the run",
          "release ecs lock for mch",
          "triggers out synch. disabling ctp readout.",
          "tpc expert request.",
          "preparation for calibration.",
          "include maximum number epns (211)",
          "change lumi to 1mhz",
          "issues known; expert informed",
          "calibration ended automatically",
          "change config for mft",
          "eor test.",
          "beam dump",
          "dpl errors on ali02-cr1-flp080 -  tpc flp (run stopped by the operator).",
          "tpc need to disable re-sync.",
          "request from tpc expert.",
          "change trigger rate to 500 khz",
          "include tpc.",
          "texpert request",
          "end the calibration",
          "revert readout configuration to see if it helps with errors from tpc (flp080) and its."
         ]
        },
        {
         "hoverinfo": "text",
         "hovertext": [
          "<b>Topic 1</b><br>Words: startofcycle, startofcycle startofcycle, startofcycle equipment, 90035181, cycledurationntf startofcycle",
          "<b>Topic 1</b><br>Words: startofcycle, startofcycle startofcycle, startofcycle equipment, 90035181, cycledurationntf startofcycle",
          "<b>Topic 1</b><br>Words: startofcycle startofcycle, startofcycle, startofcycle equipment, 90035181, cycledurationntf startofcycle",
          "<b>Topic 1</b><br>Words: startofcycle startofcycle, startofcycle, startofcycle equipment, 90035181, cycledurationntf startofcycle",
          "<b>Topic 1</b><br>Words: startofcycle startofcycle, startofcycle, startofcycle equipment, 90035181, cycledurationntf startofcycle",
          "<b>Topic 1</b><br>Words: startofcycle, startofcycle startofcycle, startofcycle sending, objects startofcycle, sending quality",
          "<b>Topic 1</b><br>Words: startofcycle startofcycle, startofcycle, 74324, new 74324, previous 74322",
          "<b>Topic 1</b><br>Words: startofcycle, startofcycle startofcycle, startofcycle equipment, 90035181, cycledurationntf startofcycle",
          "<b>Topic 1</b><br>Words: startofcycle, startofcycle startofcycle, startofcycle equipment, 90035181, cycledurationntf startofcycle",
          "<b>Topic 1</b><br>Words: startofcycle startofcycle, startofcycle, startofcycle equipment, 90035181, cycledurationntf startofcycle",
          "<b>Topic 1</b><br>Words: startofcycle startofcycle, startofcycle, startofcycle equipment, 90035181, cycledurationntf startofcycle",
          "<b>Topic 1</b><br>Words: startofcycle startofcycle, startofcycle, startofcycle equipment, 90035181, cycledurationntf startofcycle",
          "<b>Topic 1</b><br>Words: startofcycle startofcycle, startofcycle, startofcycle equipment, 90035181, cycledurationntf startofcycle",
          "<b>Topic 1</b><br>Words: startofcycle, startofcycle startofcycle, startofcycle equipment, 90035181, cycledurationntf startofcycle",
          "<b>Topic 1</b><br>Words: startofcycle, startofcycle startofcycle, startofcycle equipment, 90035181, cycledurationntf startofcycle",
          "<b>Topic 1</b><br>Words: startofcycle, startofcycle startofcycle, startofcycle equipment, 90035181, cycledurationntf startofcycle",
          "<b>Topic 1</b><br>Words: startofcycle, startofcycle startofcycle, startofcycle equipment, 90035181, cycledurationntf startofcycle",
          "<b>Topic 1</b><br>Words: startofcycle startofcycle, startofcycle, startofcycle equipment, 90035181, cycledurationntf startofcycle",
          "<b>Topic 1</b><br>Words: startofcycle, startofcycle startofcycle, used 90035181, 6783 startofcycle, 90035181 average",
          "<b>Topic 1</b><br>Words: startofcycle startofcycle, startofcycle, startofcycle equipment, 90035181, cycledurationntf startofcycle",
          "<b>Topic 1</b><br>Words: startofcycle, startofcycle startofcycle, startofcycle equipment, 90035181, cycledurationntf startofcycle",
          "<b>Topic 1</b><br>Words: startofcycle, startofcycle startofcycle, startofcycle equipment, 90035181, cycledurationntf startofcycle",
          "<b>Topic 1</b><br>Words: startofcycle, startofcycle startofcycle, startofcycle equipment, 90035181, cycledurationntf startofcycle",
          "<b>Topic 1</b><br>Words: startofcycle, startofcycle startofcycle, startofcycle equipment, 90035181, cycledurationntf startofcycle",
          "<b>Topic 1</b><br>Words: startofcycle, startofcycle startofcycle, startofcycle equipment, 90035181, cycledurationntf startofcycle",
          "<b>Topic 1</b><br>Words: startofcycle, startofcycle startofcycle, startofcycle equipment, 90035181, cycledurationntf startofcycle",
          "<b>Topic 1</b><br>Words: startofcycle, startofcycle startofcycle, startofcycle equipment, 90035181, cycledurationntf startofcycle",
          "<b>Topic 1</b><br>Words: startofcycle startofcycle, startofcycle, startofcycle equipment, 90035181, cycledurationntf startofcycle",
          "<b>Topic 1</b><br>Words: startofcycle startofcycle, startofcycle, startofcycle equipment, 90035181, cycledurationntf startofcycle",
          "<b>Topic 1</b><br>Words: startofcycle, startofcycle startofcycle, startofcycle equipment, 90035181, cycledurationntf startofcycle",
          "<b>Topic 1</b><br>Words: startofcycle, startofcycle startofcycle, startofcycle equipment, 90035181, cycledurationntf startofcycle",
          "<b>Topic 1</b><br>Words: startofcycle startofcycle, startofcycle, startofcycle equipment, 90035181, cycledurationntf startofcycle",
          "<b>Topic 1</b><br>Words: startofcycle, startofcycle startofcycle, startofcycle equipment, 90035181, cycledurationntf startofcycle",
          "<b>Topic 1</b><br>Words: startofcycle, startofcycle startofcycle, startofcycle equipment, 90035181, cycledurationntf startofcycle",
          "<b>Topic 1</b><br>Words: startofcycle, startofcycle startofcycle, startofcycle configure, cycledurationmoname cycledurationntf, cycledurationntf",
          "<b>Topic 1</b><br>Words: startofcycle, startofcycle startofcycle, startofcycle equipment, 90035181, cycledurationntf startofcycle",
          "<b>Topic 1</b><br>Words: startofcycle, startofcycle startofcycle, startofcycle equipment, 90035181, cycledurationntf startofcycle",
          "<b>Topic 1</b><br>Words: startofcycle, startofcycle startofcycle, startofcycle equipment, 90035181, cycledurationntf startofcycle",
          "<b>Topic 1</b><br>Words: startofcycle, startofcycle startofcycle, startofcycle equipment, 90035181, cycledurationntf startofcycle",
          "<b>Topic 1</b><br>Words: startofcycle, startofcycle startofcycle, startofcycle equipment, 90035181, cycledurationntf startofcycle",
          "<b>Topic 1</b><br>Words: startofcycle startofcycle, startofcycle, startofcycle equipment, 90035181, cycledurationntf startofcycle",
          "<b>Topic 1</b><br>Words: startofcycle, startofcycle startofcycle, startofcycle equipment, 90035181, cycledurationntf startofcycle",
          "<b>Topic 1</b><br>Words: startofcycle startofcycle, startofcycle, startofcycle equipment, 90035181, cycledurationntf startofcycle",
          "<b>Topic 1</b><br>Words: startofcycle startofcycle, startofcycle, startofcycle equipment, 90035181, cycledurationntf startofcycle",
          "<b>Topic 1</b><br>Words: startofcycle startofcycle, startofcycle, stfb startofcycle, startofcycle bank, using first",
          "<b>Topic 1</b><br>Words: startofcycle, startofcycle startofcycle, startofcycle equipment, 90035181, cycledurationntf startofcycle",
          "<b>Topic 1</b><br>Words: startofcycle, startofcycle startofcycle, startofcycle equipment, 90035181, cycledurationntf startofcycle",
          "<b>Topic 1</b><br>Words: startofcycle, startofcycle startofcycle, startofcycle equipment, 90035181, cycledurationntf startofcycle",
          "<b>Topic 1</b><br>Words: startofcycle startofcycle, startofcycle, startofcycle equipment, 90035181, cycledurationntf startofcycle",
          "<b>Topic 1</b><br>Words: startofcycle, startofcycle startofcycle, startofcycle equipment, 90035181, cycledurationntf startofcycle",
          "<b>Topic 1</b><br>Words: startofcycle startofcycle, startofcycle, startofcycle equipment, 90035181, cycledurationntf startofcycle",
          "<b>Topic 1</b><br>Words: startofcycle, startofcycle startofcycle, 279136 startofcycle, startofcycle equipment, count 279136",
          "<b>Topic 1</b><br>Words: startofcycle, startofcycle startofcycle, startofcycle equipment, 90035181, cycledurationntf startofcycle"
         ],
         "marker": {
          "color": "#56B4E9"
         },
         "name": "1_startofcycle startofcycle_startofcycle...",
         "orientation": "h",
         "type": "bar",
         "visible": "legendonly",
         "x": [
          7,
          46,
          29762,
          10286,
          3456,
          135,
          1,
          490,
          521,
          1331,
          1792,
          19352,
          2014,
          8,
          122,
          311,
          2,
          2894,
          156,
          1231,
          282,
          552,
          103,
          367,
          242,
          40,
          282,
          1042,
          12401,
          92,
          48,
          730,
          269,
          309,
          30,
          121,
          102,
          521,
          339,
          698,
          3761,
          489,
          1538,
          1011,
          5140,
          253,
          224,
          149,
          2557,
          149,
          791,
          7,
          606
         ],
         "y": [
          " end calibration",
          "prepare for injection",
          "start tests the day.",
          "preparation for tpc scan",
          "mid expert request.",
          "problem on alio2-cr1-flp080, backpressure. possible cause: from_readout-proxy_to_tpc-idc-to-vector.",
          "phos/cpv",
          "end test",
          "tpc scan ",
          "pdp expert request,",
          "exclude emc.",
          "prepare for cosmics",
          "sl request to include mid",
          "exclude fv0.",
          "all epns crashed simultaneously",
          "mch-qcmn-epn-full-track-matching crashed.",
          "normal eor after 5 minutes.",
          "stopping to include trd",
          "end calibration",
          "preparing for physics",
          "trigger readout went to zero.",
          "all epns crashed simultaneously with primary vertex error.",
          "need to restart trigger.",
          "epn went flat",
          "expert request cpv",
          "emcal",
          " jit-4e1deca4ebdf11d52f3ee4f99c0c46f78222361d-mch-qctaskmchdigits-proxy",
          "change luminosity",
          "lhc dumped beam dump",
          "operator error: run restarted the same partition.",
          "changed predefined physics configuration",
          "adjust handshake",
          "all epns crashed simultaneously.",
          "change predefined configuration.",
          "rm asks to stop the run",
          "release ecs lock for mch",
          "triggers out synch. disabling ctp readout.",
          "tpc expert request.",
          "preparation for calibration.",
          "include maximum number epns (211)",
          "change lumi to 1mhz",
          "issues known; expert informed",
          "change config for mft",
          "eor test.",
          "beam dump",
          "dpl errors on ali02-cr1-flp080 -  tpc flp (run stopped by the operator).",
          "tpc need to disable re-sync.",
          "request from tpc expert.",
          "change trigger rate to 500 khz",
          "include tpc.",
          "texpert request",
          "end the calibration",
          "revert readout configuration to see if it helps with errors from tpc (flp080) and its."
         ]
        },
        {
         "hoverinfo": "text",
         "hovertext": [
          "<b>Topic 2</b><br>Words: storing qualityobjects, qualityobjects, qualityobjects storing, storing, qualityobjects task",
          "<b>Topic 2</b><br>Words: storing qualityobjects, qualityobjects storing, qualityobjects, storing, qualityobjects task",
          "<b>Topic 2</b><br>Words: storing qualityobjects, qualityobjects storing, qualityobjects, storing, timestamp 1664427955086",
          "<b>Topic 2</b><br>Words: storing qualityobjects, qualityobjects storing, qualityobjects, storing, 2700079 storing",
          "<b>Topic 2</b><br>Words: storing qualityobjects, qualityobjects storing, qualityobjects, storing, qualityobjects task",
          "<b>Topic 2</b><br>Words: storing qualityobjects, qualityobjects storing, qualityobjects, storing, qualityobjects task",
          "<b>Topic 2</b><br>Words: storing qualityobjects, qualityobjects storing, qualityobjects, storing, qualityobjects missing",
          "<b>Topic 2</b><br>Words: storing qualityobjects, qualityobjects, storing, qualityobjects storing, qualityobjects task",
          "<b>Topic 2</b><br>Words: storing qualityobjects, qualityobjects, qualityobjects storing, storing, qualityobjects task",
          "<b>Topic 2</b><br>Words: storing qualityobjects, qualityobjects storing, qualityobjects, storing, qualityobjects task",
          "<b>Topic 2</b><br>Words: storing qualityobjects, qualityobjects storing, qualityobjects, storing, qualityobjects task",
          "<b>Topic 2</b><br>Words: libo2qualitycontrol, library libo2qualitycontrol, storing qualityobjects, qualityobjects storing, qualityobjects",
          "<b>Topic 2</b><br>Words: storing qualityobjects, qualityobjects storing, qualityobjects, storing, qualityobjects task",
          "<b>Topic 2</b><br>Words: storing qualityobjects, qualityobjects storing, qualityobjects, storing, qualityobjects saving",
          "<b>Topic 2</b><br>Words: storing qualityobjects, qualityobjects storing, qualityobjects, storing, qualityobjects task",
          "<b>Topic 2</b><br>Words: storing qualityobjects, qualityobjects, qualityobjects storing, storing, qualityobjects task",
          "<b>Topic 2</b><br>Words: storing qualityobjects, qualityobjects storing, qualityobjects, storing, qualityobjects task",
          "<b>Topic 2</b><br>Words: storing qualityobjects, qualityobjects storing, qualityobjects, storing, 54880 storing",
          "<b>Topic 2</b><br>Words: storing qualityobjects, qualityobjects, qualityobjects storing, storing, qualityobjects task",
          "<b>Topic 2</b><br>Words: storing qualityobjects, qualityobjects, qualityobjects storing, storing, processed 2632834",
          "<b>Topic 2</b><br>Words: storing qualityobjects, qualityobjects storing, qualityobjects, storing, qualityobjects task",
          "<b>Topic 2</b><br>Words: storing qualityobjects, qualityobjects storing, qualityobjects, storing, qualityobjects task",
          "<b>Topic 2</b><br>Words: storing qualityobjects, qualityobjects storing, qualityobjects, storing, qualityobjects task",
          "<b>Topic 2</b><br>Words: storing qualityobjects, qualityobjects, qualityobjects storing, storing, qualityobjects task",
          "<b>Topic 2</b><br>Words: storing qualityobjects, qualityobjects storing, qualityobjects, storing, qualityobjects task",
          "<b>Topic 2</b><br>Words: storing qualityobjects, qualityobjects, qualityobjects storing, storing, qualityobjects task",
          "<b>Topic 2</b><br>Words: storing qualityobjects, qualityobjects, qualityobjects storing, storing, qualityobjects task",
          "<b>Topic 2</b><br>Words: storing qualityobjects, qualityobjects, qualityobjects storing, storing, qualityobjects task",
          "<b>Topic 2</b><br>Words: storing qualityobjects, qualityobjects storing, qualityobjects, storing, qualityobjects task",
          "<b>Topic 2</b><br>Words: storing qualityobjects, qualityobjects, qualityobjects storing, storing, qualityobjects task",
          "<b>Topic 2</b><br>Words: storing qualityobjects, qualityobjects storing, qualityobjects, storing, qualityobjects task",
          "<b>Topic 2</b><br>Words: storing qualityobjects, qualityobjects storing, qualityobjects, storing, qualityobjects task",
          "<b>Topic 2</b><br>Words: storing qualityobjects, qualityobjects, storing, qualityobjects storing, qualityobjects task",
          "<b>Topic 2</b><br>Words: storing qualityobjects, qualityobjects storing, qualityobjects, storing, qualityobjects task",
          "<b>Topic 2</b><br>Words: storing qualityobjects, qualityobjects storing, qualityobjects, storing, qualityobjects task",
          "<b>Topic 2</b><br>Words: storing qualityobjects, qualityobjects storing, qualityobjects, storing, qualityobjects task",
          "<b>Topic 2</b><br>Words: storing qualityobjects, qualityobjects storing, qualityobjects, storing, qualityobjects task",
          "<b>Topic 2</b><br>Words: storing qualityobjects, qualityobjects storing, qualityobjects, storing, qualityobjects task",
          "<b>Topic 2</b><br>Words: storing qualityobjects, qualityobjects storing, qualityobjects, storing, qualityobjects task",
          "<b>Topic 2</b><br>Words: storing qualityobjects, qualityobjects, qualityobjects storing, storing, 2atafpnhog5 storing",
          "<b>Topic 2</b><br>Words: storing qualityobjects, qualityobjects storing, qualityobjects, storing, qualityobjects task",
          "<b>Topic 2</b><br>Words: storing qualityobjects, qualityobjects, qualityobjects storing, storing, qualityobjects task",
          "<b>Topic 2</b><br>Words: storing qualityobjects, qualityobjects storing, qualityobjects, storing, qualityobjects task",
          "<b>Topic 2</b><br>Words: storing qualityobjects, qualityobjects storing, qualityobjects, storing, qualityobjects task",
          "<b>Topic 2</b><br>Words: storing qualityobjects, qualityobjects, qualityobjects storing, storing, qualityobjects task",
          "<b>Topic 2</b><br>Words: storing qualityobjects, qualityobjects storing, qualityobjects, storing, qualityobjects task",
          "<b>Topic 2</b><br>Words: storing qualityobjects, qualityobjects storing, qualityobjects, storing, qualityobjects task",
          "<b>Topic 2</b><br>Words: storing qualityobjects, qualityobjects, qualityobjects storing, storing, qualityobjects task",
          "<b>Topic 2</b><br>Words: storing qualityobjects, qualityobjects storing, qualityobjects, storing, qualityobjects task",
          "<b>Topic 2</b><br>Words: storing qualityobjects, qualityobjects storing, qualityobjects, storing, qualityobjects task",
          "<b>Topic 2</b><br>Words: storing qualityobjects, qualityobjects storing, qualityobjects, storing, 2aqu4hprkjb storing",
          "<b>Topic 2</b><br>Words: storing qualityobjects, qualityobjects storing, qualityobjects, storing, qualityobjects task",
          "<b>Topic 2</b><br>Words: storing qualityobjects, qualityobjects storing, qualityobjects, storing, qualityobjects task",
          "<b>Topic 2</b><br>Words: storing qualityobjects, qualityobjects, qualityobjects storing, storing, qualityobjects task",
          "<b>Topic 2</b><br>Words: storing qualityobjects, qualityobjects storing, qualityobjects, storing, qualityobjects task",
          "<b>Topic 2</b><br>Words: storing qualityobjects, qualityobjects, qualityobjects storing, storing, qualityobjects task",
          "<b>Topic 2</b><br>Words: storing qualityobjects, qualityobjects, qualityobjects storing, storing, qualityobjects task",
          "<b>Topic 2</b><br>Words: storing qualityobjects, qualityobjects, qualityobjects storing, storing, qualityobjects task",
          "<b>Topic 2</b><br>Words: storing qualityobjects, qualityobjects storing, qualityobjects, storing, qualityobjects task"
         ],
         "marker": {
          "color": "#009E73"
         },
         "name": "2_storing qualityobjects_qualityobjects ...",
         "orientation": "h",
         "type": "bar",
         "visible": "legendonly",
         "x": [
          3,
          120,
          21608,
          9484,
          3155,
          863,
          103,
          1,
          8,
          497,
          1140,
          1,
          1492,
          24466,
          2337,
          63,
          268,
          284,
          11,
          39,
          3618,
          266,
          499,
          68,
          144,
          16,
          12,
          2,
          436,
          10,
          250,
          450,
          1,
          12643,
          130,
          604,
          199,
          218,
          286,
          133,
          721,
          33,
          464,
          270,
          49,
          4403,
          322,
          40,
          1838,
          1003,
          4073,
          228,
          191,
          59,
          939,
          37,
          68,
          3,
          219
         ],
         "y": [
          " end calibration",
          "prepare for injection",
          "start tests the day.",
          "preparation for tpc scan",
          "mid expert request.",
          "problem on alio2-cr1-flp080, backpressure. possible cause: from_readout-proxy_to_tpc-idc-to-vector.",
          "phos/cpv",
          "sor failed for mch",
          "dcs sor failed (no sor_progressing).",
          "tpc scan ",
          "pdp expert request,",
          "calibration failed",
          "exclude emc.",
          "prepare for cosmics",
          "sl request to include mid",
          "exclude fv0.",
          "all epns crashed simultaneously",
          "mch-qcmn-epn-full-track-matching crashed.",
          "normal eor after 5 minutes.",
          "ali-ecs core restarted",
          "stopping to include trd",
          "end calibration",
          "preparing for physics",
          "trigger readout went to zero.",
          "all epns crashed simultaneously with primary vertex error.",
          "mch",
          "need to restart trigger.",
          "started by mistake",
          "epn went flat",
          "emcal",
          " jit-4e1deca4ebdf11d52f3ee4f99c0c46f78222361d-mch-qctaskmchdigits-proxy",
          "change luminosity",
          "cpv recover hv trip.",
          "lhc dumped beam dump",
          "operator error: run restarted the same partition.",
          "changed predefined physics configuration",
          "adjust handshake",
          "all epns crashed simultaneously.",
          "change predefined configuration.",
          "rm asks to stop the run",
          "release ecs lock for mch",
          "triggers out synch. disabling ctp readout.",
          "tpc expert request.",
          "preparation for calibration.",
          "include maximum number epns (211)",
          "change lumi to 1mhz",
          "issues known; expert informed",
          "calibration ended automatically",
          "change config for mft",
          "eor test.",
          "beam dump",
          "dpl errors on ali02-cr1-flp080 -  tpc flp (run stopped by the operator).",
          "tpc need to disable re-sync.",
          "request from tpc expert.",
          "change trigger rate to 500 khz",
          "include tpc.",
          "texpert request",
          "end the calibration",
          "revert readout configuration to see if it helps with errors from tpc (flp080) and its."
         ]
        },
        {
         "hoverinfo": "text",
         "hovertext": [
          "<b>Topic 3</b><br>Words: endofcycle, endofcycle endofcycle, timestamp 1664473857380, 1664473857380, 1664473857380 updating",
          "<b>Topic 3</b><br>Words: endofcycle, endofcycle endofcycle, timestamp 1664473857380, 1664473857380, 1664473857380 updating",
          "<b>Topic 3</b><br>Words: endofcycle endofcycle, endofcycle, timestamp 1664473857380, 1664473857380, endofcycle updating",
          "<b>Topic 3</b><br>Words: endofcycle endofcycle, endofcycle, 1188 163020141, 163020141 on, endofcycle new",
          "<b>Topic 3</b><br>Words: endofcycle endofcycle, endofcycle, timestamp 1664473857380, 1664473857380, 1664473857380 updating",
          "<b>Topic 3</b><br>Words: endofcycle, endofcycle endofcycle, timestamp 1664473857380, 1664473857380, 1664473857380 updating",
          "<b>Topic 3</b><br>Words: endofcycle, endofcycle endofcycle, 115 gbytes, endofcycle final, 2assju1dbnh registered",
          "<b>Topic 3</b><br>Words: endofcycle, endofcycle endofcycle, timestamp 1664473857380, 1664473857380, 1664473857380 updating",
          "<b>Topic 3</b><br>Words: endofcycle, endofcycle endofcycle, timestamp 1664473857380, 1664473857380, 1664473857380 updating",
          "<b>Topic 3</b><br>Words: endofcycle, endofcycle endofcycle, timestamp 1664473857380, 1664473857380, 1664473857380 updating",
          "<b>Topic 3</b><br>Words: endofcycle endofcycle, endofcycle, timestamp 1664473857380, 1664473857380, 1664473857380 updating",
          "<b>Topic 3</b><br>Words: endofcycle endofcycle, endofcycle, timestamp 1664473857380, 1664473857380, 1664473857380 updating",
          "<b>Topic 3</b><br>Words: endofcycle endofcycle, endofcycle, timestamp 1664473857380, 1664473857380, 1664473857380 updating",
          "<b>Topic 3</b><br>Words: endofcycle endofcycle, endofcycle, timestamp 1664473857380, 1664473857380, 1664473857380 updating",
          "<b>Topic 3</b><br>Words: endofcycle, endofcycle endofcycle, timestamp 1664473857380, 1664473857380, 1664473857380 updating",
          "<b>Topic 3</b><br>Words: endofcycle, endofcycle endofcycle, timestamp 1664473857380, 1664473857380, 1664473857380 updating",
          "<b>Topic 3</b><br>Words: endofcycle, endofcycle endofcycle, timestamp 1664473857380, 1664473857380, 1664473857380 updating",
          "<b>Topic 3</b><br>Words: endofcycle, endofcycle endofcycle, timestamp 1664473857380, 1664473857380, 1664473857380 updating",
          "<b>Topic 3</b><br>Words: endofcycle endofcycle, endofcycle, timestamp 1664473857380, 1664473857380, 1664473857380 updating",
          "<b>Topic 3</b><br>Words: endofcycle, endofcycle endofcycle, endofcycle received, 2arpa4s12ju task, 2arpa4s12ju",
          "<b>Topic 3</b><br>Words: endofcycle endofcycle, endofcycle, timestamp 1664473857380, 1664473857380, 1664473857380 updating",
          "<b>Topic 3</b><br>Words: endofcycle, endofcycle endofcycle, timestamp 1664473857380, 1664473857380, 1664473857380 updating",
          "<b>Topic 3</b><br>Words: endofcycle, endofcycle endofcycle, timestamp 1664473857380, 1664473857380, 1664473857380 updating",
          "<b>Topic 3</b><br>Words: endofcycle, endofcycle endofcycle, timestamp 1664473857380, 1664473857380, 1664473857380 updating",
          "<b>Topic 3</b><br>Words: endofcycle, endofcycle endofcycle, timestamp 1664473857380, 1664473857380, 1664473857380 updating",
          "<b>Topic 3</b><br>Words: endofcycle, endofcycle endofcycle, timestamp 1664473857380, 1664473857380, 1664473857380 updating",
          "<b>Topic 3</b><br>Words: endofcycle, endofcycle endofcycle, timestamp 1664473857380, 1664473857380, 1664473857380 updating",
          "<b>Topic 3</b><br>Words: endofcycle, endofcycle endofcycle, timestamp 1664473857380, 1664473857380, 1664473857380 updating",
          "<b>Topic 3</b><br>Words: endofcycle endofcycle, endofcycle, timestamp 1664473857380, 1664473857380, 1664473857380 updating",
          "<b>Topic 3</b><br>Words: endofcycle endofcycle, endofcycle, timestamp 1664473857380, 1664473857380, 1664473857380 updating",
          "<b>Topic 3</b><br>Words: endofcycle, endofcycle endofcycle, timestamp 1664473857380, 1664473857380, 1664473857380 updating",
          "<b>Topic 3</b><br>Words: endofcycle, endofcycle endofcycle, timestamp 1664473857380, 1664473857380, 1664473857380 updating",
          "<b>Topic 3</b><br>Words: endofcycle endofcycle, endofcycle, timestamp 1664473857380, 1664473857380, 1664473857380 updating",
          "<b>Topic 3</b><br>Words: endofcycle, endofcycle endofcycle, timestamp 1664473857380, 1664473857380, 1664473857380 updating",
          "<b>Topic 3</b><br>Words: endofcycle, endofcycle endofcycle, timestamp 1664473857380, 1664473857380, 1664473857380 updating",
          "<b>Topic 3</b><br>Words: endofcycle, endofcycle endofcycle, timestamp 1664473857380, 1664473857380, 1664473857380 updating",
          "<b>Topic 3</b><br>Words: endofcycle, endofcycle endofcycle, timestamp 1664473857380, 1664473857380, 1664473857380 updating",
          "<b>Topic 3</b><br>Words: endofcycle, endofcycle endofcycle, timestamp 1664473857380, 1664473857380, 1664473857380 updating",
          "<b>Topic 3</b><br>Words: endofcycle, endofcycle endofcycle, timestamp 1664473857380, 1664473857380, 1664473857380 updating",
          "<b>Topic 3</b><br>Words: endofcycle, endofcycle endofcycle, timestamp 1664473857380, 1664473857380, 1664473857380 updating",
          "<b>Topic 3</b><br>Words: endofcycle, endofcycle endofcycle, 18 endofcycle, endofcycle itsdecoder, 164 at",
          "<b>Topic 3</b><br>Words: endofcycle endofcycle, endofcycle, timestamp 1664473857380, 1664473857380, 1664473857380 updating",
          "<b>Topic 3</b><br>Words: endofcycle, endofcycle endofcycle, timestamp 1664473857380, 1664473857380, 1664473857380 updating",
          "<b>Topic 3</b><br>Words: endofcycle endofcycle, endofcycle, timestamp 1664473857380, 1664473857380, 1664473857380 updating",
          "<b>Topic 3</b><br>Words: endofcycle endofcycle, endofcycle, timestamp 1664473857380, 1664473857380, 1664473857380 updating",
          "<b>Topic 3</b><br>Words: endofcycle endofcycle, endofcycle, 1664473857380, timestamp 1664473857380, 1664473857380 updating",
          "<b>Topic 3</b><br>Words: endofcycle, endofcycle endofcycle, timestamp 1664473857380, 1664473857380, 1664473857380 updating",
          "<b>Topic 3</b><br>Words: endofcycle, endofcycle endofcycle, timestamp 1664473857380, 1664473857380, 1664473857380 updating",
          "<b>Topic 3</b><br>Words: endofcycle, endofcycle endofcycle, timestamp 1664473857380, 1664473857380, 1664473857380 updating",
          "<b>Topic 3</b><br>Words: endofcycle endofcycle, endofcycle, 180 endofcycle, endofcycle itsdecoder, 0x6124 rusw",
          "<b>Topic 3</b><br>Words: endofcycle, endofcycle endofcycle, timestamp 1664473857380, 1664473857380, 1664473857380 updating",
          "<b>Topic 3</b><br>Words: endofcycle endofcycle, endofcycle, timestamp 1664473857380, 1664473857380, 1664473857380 updating",
          "<b>Topic 3</b><br>Words: endofcycle endofcycle, endofcycle, timestamp 1664473857380, 1664473857380, 1664473857380 updating"
         ],
         "marker": {
          "color": "#F0E442"
         },
         "name": "3_endofcycle endofcycle_endofcycle_16644...",
         "orientation": "h",
         "type": "bar",
         "visible": "legendonly",
         "x": [
          7,
          51,
          29726,
          10263,
          3418,
          129,
          107,
          22,
          453,
          485,
          1291,
          1744,
          19312,
          1975,
          40,
          100,
          274,
          5,
          2864,
          165,
          1153,
          245,
          488,
          66,
          433,
          241,
          20,
          245,
          997,
          12363,
          92,
          44,
          693,
          242,
          272,
          165,
          156,
          65,
          451,
          313,
          663,
          3723,
          459,
          1501,
          920,
          5167,
          216,
          187,
          122,
          2525,
          122,
          757,
          579
         ],
         "y": [
          " end calibration",
          "prepare for injection",
          "start tests the day.",
          "preparation for tpc scan",
          "mid expert request.",
          "problem on alio2-cr1-flp080, backpressure. possible cause: from_readout-proxy_to_tpc-idc-to-vector.",
          "phos/cpv",
          "sor failed for mch",
          "end test",
          "tpc scan ",
          "pdp expert request,",
          "exclude emc.",
          "prepare for cosmics",
          "sl request to include mid",
          "exclude fv0.",
          "all epns crashed simultaneously",
          "mch-qcmn-epn-full-track-matching crashed.",
          "normal eor after 5 minutes.",
          "stopping to include trd",
          "end calibration",
          "preparing for physics",
          "trigger readout went to zero.",
          "all epns crashed simultaneously with primary vertex error.",
          "need to restart trigger.",
          "epn went flat",
          "expert request cpv",
          "emcal",
          " jit-4e1deca4ebdf11d52f3ee4f99c0c46f78222361d-mch-qctaskmchdigits-proxy",
          "change luminosity",
          "lhc dumped beam dump",
          "operator error: run restarted the same partition.",
          "changed predefined physics configuration",
          "adjust handshake",
          "all epns crashed simultaneously.",
          "change predefined configuration.",
          "rm asks to stop the run",
          "release ecs lock for mch",
          "triggers out synch. disabling ctp readout.",
          "tpc expert request.",
          "preparation for calibration.",
          "include maximum number epns (211)",
          "change lumi to 1mhz",
          "issues known; expert informed",
          "change config for mft",
          "eor test.",
          "beam dump",
          "dpl errors on ali02-cr1-flp080 -  tpc flp (run stopped by the operator).",
          "tpc need to disable re-sync.",
          "request from tpc expert.",
          "change trigger rate to 500 khz",
          "include tpc.",
          "texpert request",
          "revert readout configuration to see if it helps with errors from tpc (flp080) and its."
         ]
        },
        {
         "hoverinfo": "text",
         "hovertext": [
          "<b>Topic 4</b><br>Words: check rawbunchminamplitude, rawbunchminamplitude quality, rawbunchminamplitude, quality good, good level",
          "<b>Topic 4</b><br>Words: check rawbunchminamplitude, rawbunchminamplitude quality, rawbunchminamplitude, quality good, good level",
          "<b>Topic 4</b><br>Words: check rawbunchminamplitude, rawbunchminamplitude quality, rawbunchminamplitude, quality good, good level",
          "<b>Topic 4</b><br>Words: check rawbunchminamplitude, rawbunchminamplitude quality, rawbunchminamplitude, quality good, good level",
          "<b>Topic 4</b><br>Words: check rawbunchminamplitude, rawbunchminamplitude quality, rawbunchminamplitude, good level, quality good",
          "<b>Topic 4</b><br>Words: check rawbunchminamplitude, rawbunchminamplitude quality, rawbunchminamplitude, quality good, good level",
          "<b>Topic 4</b><br>Words: check rawbunchminamplitude, rawbunchminamplitude quality, rawbunchminamplitude, quality good, good level",
          "<b>Topic 4</b><br>Words: check rawbunchminamplitude, rawbunchminamplitude quality, rawbunchminamplitude, quality good, good level",
          "<b>Topic 4</b><br>Words: check rawbunchminamplitude, rawbunchminamplitude quality, rawbunchminamplitude, quality good, good level",
          "<b>Topic 4</b><br>Words: check rawbunchminamplitude, rawbunchminamplitude quality, rawbunchminamplitude, quality good, good level",
          "<b>Topic 4</b><br>Words: check rawbunchminamplitude, rawbunchminamplitude quality, rawbunchminamplitude, good level, quality good",
          "<b>Topic 4</b><br>Words: check rawbunchminamplitude, rawbunchminamplitude quality, rawbunchminamplitude, bad setting, to red",
          "<b>Topic 4</b><br>Words: check rawbunchminamplitude, rawbunchminamplitude quality, rawbunchminamplitude, quality good, good level",
          "<b>Topic 4</b><br>Words: 1455129, check rawbunchminamplitude, rawbunchminamplitude quality, rawbunchminamplitude, count 1455129",
          "<b>Topic 4</b><br>Words: check rawbunchminamplitude, rawbunchminamplitude quality, rawbunchminamplitude, good level, quality good",
          "<b>Topic 4</b><br>Words: check rawbunchminamplitude, rawbunchminamplitude quality, rawbunchminamplitude, quality good, good level",
          "<b>Topic 4</b><br>Words: check rawbunchminamplitude, rawbunchminamplitude quality, rawbunchminamplitude, quality good, good level",
          "<b>Topic 4</b><br>Words: check rawbunchminamplitude, rawbunchminamplitude quality, rawbunchminamplitude, quality good, good level",
          "<b>Topic 4</b><br>Words: check rawbunchminamplitude, rawbunchminamplitude quality, rawbunchminamplitude, quality good, good level",
          "<b>Topic 4</b><br>Words: check rawbunchminamplitude, rawbunchminamplitude quality, rawbunchminamplitude, 129582 check, 129582",
          "<b>Topic 4</b><br>Words: check rawbunchminamplitude, rawbunchminamplitude quality, rawbunchminamplitude, quality good, good level",
          "<b>Topic 4</b><br>Words: check rawbunchminamplitude, rawbunchminamplitude quality, rawbunchminamplitude, quality good, good level",
          "<b>Topic 4</b><br>Words: check rawbunchminamplitude, rawbunchminamplitude quality, rawbunchminamplitude, quality good, good level",
          "<b>Topic 4</b><br>Words: check rawbunchminamplitude, rawbunchminamplitude quality, rawbunchminamplitude, quality good, good level",
          "<b>Topic 4</b><br>Words: check rawbunchminamplitude, rawbunchminamplitude quality, rawbunchminamplitude, quality good, good level",
          "<b>Topic 4</b><br>Words: check rawbunchminamplitude, rawbunchminamplitude quality, rawbunchminamplitude, quality good, good level",
          "<b>Topic 4</b><br>Words: check rawbunchminamplitude, rawbunchminamplitude quality, rawbunchminamplitude, quality good, good level",
          "<b>Topic 4</b><br>Words: check rawbunchminamplitude, rawbunchminamplitude quality, rawbunchminamplitude, quality good, good level",
          "<b>Topic 4</b><br>Words: check rawbunchminamplitude, rawbunchminamplitude quality, rawbunchminamplitude, quality good, good level",
          "<b>Topic 4</b><br>Words: check rawbunchminamplitude, rawbunchminamplitude quality, rawbunchminamplitude, good level, quality good",
          "<b>Topic 4</b><br>Words: check rawbunchminamplitude, rawbunchminamplitude quality, rawbunchminamplitude, quality good, good level",
          "<b>Topic 4</b><br>Words: check rawbunchminamplitude, rawbunchminamplitude quality, rawbunchminamplitude, quality good, good level",
          "<b>Topic 4</b><br>Words: check rawbunchminamplitude, rawbunchminamplitude quality, rawbunchminamplitude, good level, quality good",
          "<b>Topic 4</b><br>Words: check rawbunchminamplitude, rawbunchminamplitude quality, rawbunchminamplitude, quality good, good level",
          "<b>Topic 4</b><br>Words: check rawbunchminamplitude, rawbunchminamplitude quality, rawbunchminamplitude, quality good, good level",
          "<b>Topic 4</b><br>Words: check rawbunchminamplitude, rawbunchminamplitude quality, rawbunchminamplitude, good level, quality good",
          "<b>Topic 4</b><br>Words: check rawbunchminamplitude, rawbunchminamplitude quality, rawbunchminamplitude, quality good, good level",
          "<b>Topic 4</b><br>Words: check rawbunchminamplitude, rawbunchminamplitude quality, rawbunchminamplitude, quality good, good level",
          "<b>Topic 4</b><br>Words: check rawbunchminamplitude, rawbunchminamplitude quality, rawbunchminamplitude, quality good, good level",
          "<b>Topic 4</b><br>Words: check rawbunchminamplitude, rawbunchminamplitude quality, rawbunchminamplitude, quality good, good level",
          "<b>Topic 4</b><br>Words: check rawbunchminamplitude, rawbunchminamplitude quality, rawbunchminamplitude, good level, quality good",
          "<b>Topic 4</b><br>Words: check rawbunchminamplitude, rawbunchminamplitude quality, rawbunchminamplitude, quality good, good level",
          "<b>Topic 4</b><br>Words: check rawbunchminamplitude, rawbunchminamplitude quality, rawbunchminamplitude, quality good, good level",
          "<b>Topic 4</b><br>Words: check rawbunchminamplitude, rawbunchminamplitude quality, rawbunchminamplitude, good level, quality good",
          "<b>Topic 4</b><br>Words: check rawbunchminamplitude, rawbunchminamplitude quality, rawbunchminamplitude, good level, quality good",
          "<b>Topic 4</b><br>Words: check rawbunchminamplitude, rawbunchminamplitude quality, rawbunchminamplitude, quality good, good level",
          "<b>Topic 4</b><br>Words: check rawbunchminamplitude, rawbunchminamplitude quality, rawbunchminamplitude, quality good, good level"
         ],
         "marker": {
          "color": "#D55E00"
         },
         "name": "4_check rawbunchminamplitude_rawbunchmin...",
         "orientation": "h",
         "type": "bar",
         "visible": "legendonly",
         "x": [
          46,
          20701,
          7842,
          2568,
          47,
          322,
          344,
          115,
          1196,
          16412,
          1468,
          12,
          232,
          1,
          2388,
          202,
          617,
          163,
          308,
          2,
          23,
          391,
          180,
          50,
          161,
          710,
          9450,
          92,
          391,
          484,
          209,
          184,
          24,
          23,
          292,
          462,
          2795,
          368,
          46,
          1127,
          713,
          3929,
          116,
          93,
          1863,
          571,
          521
         ],
         "y": [
          " end calibration",
          "start tests the day.",
          "preparation for tpc scan",
          "mid expert request.",
          "phos/cpv",
          "end test",
          "tpc scan ",
          "pdp expert request,",
          "exclude emc.",
          "prepare for cosmics",
          "sl request to include mid",
          "exclude fv0.",
          "all epns crashed simultaneously",
          "ali-ecs core restarted",
          "stopping to include trd",
          "end calibration",
          "preparing for physics",
          "trigger readout went to zero.",
          "all epns crashed simultaneously with primary vertex error.",
          "need to restart trigger.",
          "started by mistake",
          "epn went flat",
          "expert request cpv",
          "emcal",
          " jit-4e1deca4ebdf11d52f3ee4f99c0c46f78222361d-mch-qctaskmchdigits-proxy",
          "change luminosity",
          "lhc dumped beam dump",
          "operator error: run restarted the same partition.",
          "changed predefined physics configuration",
          "adjust handshake",
          "all epns crashed simultaneously.",
          "change predefined configuration.",
          "rm asks to stop the run",
          "triggers out synch. disabling ctp readout.",
          "tpc expert request.",
          "include maximum number epns (211)",
          "change lumi to 1mhz",
          "issues known; expert informed",
          "calibration ended automatically",
          "change config for mft",
          "eor test.",
          "beam dump",
          "dpl errors on ali02-cr1-flp080 -  tpc flp (run stopped by the operator).",
          "tpc need to disable re-sync.",
          "change trigger rate to 500 khz",
          "texpert request",
          "revert readout configuration to see if it helps with errors from tpc (flp080) and its."
         ]
        },
        {
         "hoverinfo": "text",
         "hovertext": [
          "<b>Topic 5</b><br>Words: 1664548303506 updating, 1664548303506, timestamp 1664548303506, 1664548303475 updating, 1664548303475",
          "<b>Topic 5</b><br>Words: updating the, triggertype timestamp, triggertype, to trigger, trigger triggertype",
          "<b>Topic 5</b><br>Words: updating the, triggertype timestamp, trigger triggertype, task due, to trigger",
          "<b>Topic 5</b><br>Words: updating the, triggertype timestamp, triggertype, to trigger, task due",
          "<b>Topic 5</b><br>Words: updating the, triggertype timestamp, to trigger, task due, trigger triggertype",
          "<b>Topic 5</b><br>Words: updating the, triggertype timestamp, task due, triggertype, trigger triggertype",
          "<b>Topic 5</b><br>Words: updating the, triggertype timestamp, to trigger, task due, triggertype",
          "<b>Topic 5</b><br>Words: timestamp 1664351173468, 1664351173468, 1664351173468 updating, updating the, triggertype timestamp",
          "<b>Topic 5</b><br>Words: updating the, triggertype timestamp, trigger triggertype, task due, to trigger",
          "<b>Topic 5</b><br>Words: updating the, triggertype timestamp, task due, to trigger, trigger triggertype",
          "<b>Topic 5</b><br>Words: updating the, triggertype timestamp, to trigger, task due, triggertype",
          "<b>Topic 5</b><br>Words: updating the, triggertype timestamp, triggertype, trigger triggertype, to trigger",
          "<b>Topic 5</b><br>Words: updating the, triggertype timestamp, task due, to trigger, triggertype",
          "<b>Topic 5</b><br>Words: updating the, triggertype timestamp, triggertype, trigger triggertype, task due",
          "<b>Topic 5</b><br>Words: timestamp 1664363450635, 1664363451254, 1664363582564, timestamp 1664363390718, 1664363571181",
          "<b>Topic 5</b><br>Words: updating the, triggertype timestamp, to trigger, task due, trigger triggertype",
          "<b>Topic 5</b><br>Words: timestamp 1664679751701, 1664679751701, 1664679751701 updating, updating the, triggertype timestamp",
          "<b>Topic 5</b><br>Words: 1664560055322 updating, 1664560032904 updating, timestamp 1664560032904, timestamp 1664560055322, 1664560059442",
          "<b>Topic 5</b><br>Words: updating the, triggertype timestamp, task due, trigger triggertype, triggertype",
          "<b>Topic 5</b><br>Words: triggertype timestamp, trigger triggertype, triggertype, task due, to trigger",
          "<b>Topic 5</b><br>Words: updating the, triggertype timestamp, task due, trigger triggertype, triggertype",
          "<b>Topic 5</b><br>Words: updating the, triggertype timestamp, triggertype, to trigger, trigger triggertype",
          "<b>Topic 5</b><br>Words: updating the, triggertype timestamp, to trigger, trigger triggertype, task due",
          "<b>Topic 5</b><br>Words: 1664737455374, timestamp 1664737455374, 1664737455374 updating, updating the, triggertype timestamp",
          "<b>Topic 5</b><br>Words: 1664453587561 updating, 1664453587561, timestamp 1664453587561, 1664453587590, timestamp 1664453587590",
          "<b>Topic 5</b><br>Words: updating the, triggertype timestamp, trigger triggertype, triggertype, to trigger",
          "<b>Topic 5</b><br>Words: updating the, triggertype timestamp, trigger triggertype, triggertype, task due",
          "<b>Topic 5</b><br>Words: 1664345259448, 1664345259436 updating, 1664345259436, timestamp 1664345259436, timestamp 1664345259448",
          "<b>Topic 5</b><br>Words: updating the, triggertype timestamp, to trigger, trigger triggertype, task due",
          "<b>Topic 5</b><br>Words: updating the, triggertype timestamp, triggertype, to trigger, trigger triggertype",
          "<b>Topic 5</b><br>Words: updating the, triggertype timestamp, to trigger, trigger triggertype, task due",
          "<b>Topic 5</b><br>Words: 1664655610018 updating, 1664655730019 updating, 1664655730019, timestamp 1664655730019, 1664655610018",
          "<b>Topic 5</b><br>Words: updating the, triggertype timestamp, task due, to trigger, trigger triggertype",
          "<b>Topic 5</b><br>Words: updating the, triggertype timestamp, task due, to trigger, trigger triggertype",
          "<b>Topic 5</b><br>Words: updating the, triggertype timestamp, trigger triggertype, to trigger, triggertype",
          "<b>Topic 5</b><br>Words: updating the, triggertype timestamp, trigger triggertype, triggertype, task due",
          "<b>Topic 5</b><br>Words: updating the, triggertype timestamp, trigger triggertype, task due, to trigger",
          "<b>Topic 5</b><br>Words: updating the, triggertype timestamp, to trigger, task due, triggertype",
          "<b>Topic 5</b><br>Words: 1664738104889 updating, 1664738104889, timestamp 1664738104889, 1664738104878, timestamp 1664738104878",
          "<b>Topic 5</b><br>Words: updating the, triggertype timestamp, task due, to trigger, trigger triggertype",
          "<b>Topic 5</b><br>Words: updating the, triggertype timestamp, task due, triggertype, to trigger",
          "<b>Topic 5</b><br>Words: updating the, triggertype timestamp, task due, to trigger, triggertype",
          "<b>Topic 5</b><br>Words: updating the, triggertype timestamp, to trigger, trigger triggertype, task due",
          "<b>Topic 5</b><br>Words: updating the, triggertype timestamp, to trigger, task due, trigger triggertype",
          "<b>Topic 5</b><br>Words: 1664527736563, 1664527736563 updating, timestamp 1664527736563, 1664527796607 updating, timestamp 1664527796607",
          "<b>Topic 5</b><br>Words: updating the, triggertype timestamp, task due, triggertype, trigger triggertype",
          "<b>Topic 5</b><br>Words: updating the, triggertype timestamp, trigger triggertype, task due, to trigger",
          "<b>Topic 5</b><br>Words: updating the, triggertype timestamp, to trigger, trigger triggertype, task due",
          "<b>Topic 5</b><br>Words: updating the, triggertype timestamp, to trigger, task due, trigger triggertype",
          "<b>Topic 5</b><br>Words: 1664621723061 updating, timestamp 1664621663035, 1664621783099 updating, 1664621783099, 1664621663035 updating",
          "<b>Topic 5</b><br>Words: 1664730126557, 1664730126557 updating, timestamp 1664730126557, updating the, triggertype timestamp",
          "<b>Topic 5</b><br>Words: updating the, triggertype timestamp, to trigger, task due, trigger triggertype",
          "<b>Topic 5</b><br>Words: timestamp 1664525234666, timestamp 1664525114563, 1664525234601 updating, 1664525234601, timestamp 1664525234601",
          "<b>Topic 5</b><br>Words: updating the, triggertype timestamp, task due, trigger triggertype, triggertype",
          "<b>Topic 5</b><br>Words: updating the, triggertype timestamp, task due, trigger triggertype, triggertype"
         ],
         "marker": {
          "color": "#0072B2"
         },
         "name": "5_updating the_triggertype timestamp_tri...",
         "orientation": "h",
         "type": "bar",
         "visible": "legendonly",
         "x": [
          24,
          39,
          17911,
          5068,
          2329,
          280,
          37,
          2,
          287,
          304,
          447,
          1127,
          9298,
          1395,
          29,
          165,
          165,
          4,
          2075,
          178,
          636,
          112,
          312,
          2,
          3,
          327,
          165,
          8,
          150,
          635,
          6748,
          85,
          327,
          455,
          142,
          157,
          76,
          208,
          24,
          263,
          93,
          483,
          2377,
          260,
          30,
          1098,
          498,
          3761,
          139,
          107,
          40,
          1768,
          9,
          497,
          411
         ],
         "y": [
          " end calibration",
          "prepare for injection",
          "start tests the day.",
          "preparation for tpc scan",
          "mid expert request.",
          "problem on alio2-cr1-flp080, backpressure. possible cause: from_readout-proxy_to_tpc-idc-to-vector.",
          "phos/cpv",
          "sor failed for mch",
          "end test",
          "tpc scan ",
          "pdp expert request,",
          "exclude emc.",
          "prepare for cosmics",
          "sl request to include mid",
          "exclude fv0.",
          "all epns crashed simultaneously",
          "mch-qcmn-epn-full-track-matching crashed.",
          "normal eor after 5 minutes.",
          "stopping to include trd",
          "end calibration",
          "preparing for physics",
          "trigger readout went to zero.",
          "all epns crashed simultaneously with primary vertex error.",
          "need to restart trigger.",
          "started by mistake",
          "epn went flat",
          "expert request cpv",
          "emcal",
          " jit-4e1deca4ebdf11d52f3ee4f99c0c46f78222361d-mch-qctaskmchdigits-proxy",
          "change luminosity",
          "lhc dumped beam dump",
          "operator error: run restarted the same partition.",
          "changed predefined physics configuration",
          "adjust handshake",
          "all epns crashed simultaneously.",
          "change predefined configuration.",
          "rm asks to stop the run",
          "release ecs lock for mch",
          "triggers out synch. disabling ctp readout.",
          "tpc expert request.",
          "preparation for calibration.",
          "include maximum number epns (211)",
          "change lumi to 1mhz",
          "issues known; expert informed",
          "calibration ended automatically",
          "change config for mft",
          "eor test.",
          "beam dump",
          "dpl errors on ali02-cr1-flp080 -  tpc flp (run stopped by the operator).",
          "tpc need to disable re-sync.",
          "request from tpc expert.",
          "change trigger rate to 500 khz",
          "include tpc.",
          "texpert request",
          "revert readout configuration to see if it helps with errors from tpc (flp080) and its."
         ]
        },
        {
         "hoverinfo": "text",
         "hovertext": [
          "<b>Topic 177</b><br>Words: roc starting, starting dma, dma for, dma, starting",
          "<b>Topic 177</b><br>Words: roc starting, starting dma, dma for, dma, starting",
          "<b>Topic 177</b><br>Words: 0x6028 to, dma for, roc starting, starting dma, 184 stave",
          "<b>Topic 177</b><br>Words: starting dma, roc starting, dma for, dma, starting",
          "<b>Topic 177</b><br>Words: starting dma, roc starting, dma for, dma, starting",
          "<b>Topic 177</b><br>Words: roc starting, dma for, starting dma, dma, for roc",
          "<b>Topic 177</b><br>Words: stopping dma, roc stopping, dma for, stopping, dma",
          "<b>Topic 177</b><br>Words: stopping dma, dma for, dma, roc starting, starting dma",
          "<b>Topic 177</b><br>Words: dma for, roc starting, starting dma, 16854 gap, 16852",
          "<b>Topic 177</b><br>Words: starting dma, roc starting, dma for, dma, starting",
          "<b>Topic 177</b><br>Words: roc starting, starting dma, dma for, dma, starting",
          "<b>Topic 177</b><br>Words: stopping dma, dma for, dma, ddl0 stopping, ddl1 stopping",
          "<b>Topic 177</b><br>Words: dma for, roc starting, starting dma, dma, stopping dma",
          "<b>Topic 177</b><br>Words: roc stopping, stopping dma, stopping, dma for, dma",
          "<b>Topic 177</b><br>Words: roc starting, starting dma, dma for, dma, starting",
          "<b>Topic 177</b><br>Words: stopping dma, dma for, dma, roc stopping, stopping",
          "<b>Topic 177</b><br>Words: roc starting, starting dma, dma for, dma, starting",
          "<b>Topic 177</b><br>Words: starting dma, roc starting, dma for, dma, starting",
          "<b>Topic 177</b><br>Words: stopping dma, roc stopping, stopping, dma for, dma",
          "<b>Topic 177</b><br>Words: roc stopping, stopping dma, dma for, stopping, dma",
          "<b>Topic 177</b><br>Words: dma for, roc starting, starting dma, dma, roc stopping",
          "<b>Topic 177</b><br>Words: dma for, stopping dma, ddl0 stopping, dma, ddl1 stopping",
          "<b>Topic 177</b><br>Words: roc starting, starting dma, dma for, dma, starting",
          "<b>Topic 177</b><br>Words: starting dma, roc starting, dma for, dma, starting",
          "<b>Topic 177</b><br>Words: roc starting, starting dma, dma for, dma, starting",
          "<b>Topic 177</b><br>Words: roc starting, starting dma, dma for, dma, starting",
          "<b>Topic 177</b><br>Words: starting dma, dma for, m2 starting, m3 starting, dma",
          "<b>Topic 177</b><br>Words: roc stopping, stopping dma, dma for, stopping, dma",
          "<b>Topic 177</b><br>Words: starting dma, roc starting, dma for, dma, starting",
          "<b>Topic 177</b><br>Words: starting dma, roc starting, dma for, dma, starting",
          "<b>Topic 177</b><br>Words: dma for, roc starting, starting dma, dma, stopping dma",
          "<b>Topic 177</b><br>Words: m2 starting, roc m2, roc m4, m4 starting, starting dma",
          "<b>Topic 177</b><br>Words: starting dma, roc starting, dma for, dma, starting",
          "<b>Topic 177</b><br>Words: dma for, starting dma, roc starting, dma, ids 5294",
          "<b>Topic 177</b><br>Words: roc starting, starting dma, dma for, dma, starting",
          "<b>Topic 177</b><br>Words: starting dma, roc starting, dma for, dma, starting",
          "<b>Topic 177</b><br>Words: roc starting, starting dma, dma for, dma, starting",
          "<b>Topic 177</b><br>Words: starting dma, roc starting, dma for, dma, starting",
          "<b>Topic 177</b><br>Words: stopping dma, roc stopping, stopping, dma for, dma",
          "<b>Topic 177</b><br>Words: roc starting, starting dma, dma for, dma, for roc",
          "<b>Topic 177</b><br>Words: roc starting, starting dma, dma for, dma, starting",
          "<b>Topic 177</b><br>Words: starting dma, roc starting, dma for, dma, starting",
          "<b>Topic 177</b><br>Words: stopping dma, dma for, ddl0 stopping, dma, roc starting",
          "<b>Topic 177</b><br>Words: starting dma, roc starting, dma for, dma, starting",
          "<b>Topic 177</b><br>Words: starting dma, roc starting, dma for, dma, starting",
          "<b>Topic 177</b><br>Words: roc starting, starting dma, dma for, dma, starting",
          "<b>Topic 177</b><br>Words: starting dma, roc starting, dma for, dma, starting",
          "<b>Topic 177</b><br>Words: stopping dma, roc stopping, dma for, stopping, dma",
          "<b>Topic 177</b><br>Words: roc stopping, stopping dma, dma for, dma, stopping",
          "<b>Topic 177</b><br>Words: starting dma, roc starting, dma for, dma, starting",
          "<b>Topic 177</b><br>Words: starting dma, roc starting, dma for, dma, starting",
          "<b>Topic 177</b><br>Words: roc starting, starting dma, dma for, dma, starting",
          "<b>Topic 177</b><br>Words: starting dma, roc starting, dma for, dma, starting",
          "<b>Topic 177</b><br>Words: roc starting, starting dma, dma for, dma, for roc",
          "<b>Topic 177</b><br>Words: starting dma, roc starting, dma for, dma, starting",
          "<b>Topic 177</b><br>Words: roc stopping, stopping dma, stopping, dma for, dma",
          "<b>Topic 177</b><br>Words: roc starting, starting dma, dma for, dma, starting"
         ],
         "marker": {
          "color": "#CC79A7"
         },
         "name": "177_dma for_roc starting_starting dma_dm...",
         "orientation": "h",
         "type": "bar",
         "visible": "legendonly",
         "x": [
          635,
          760,
          1,
          841,
          888,
          897,
          2462,
          106,
          4,
          761,
          911,
          230,
          5,
          252,
          884,
          97,
          64,
          830,
          12,
          941,
          18995,
          87,
          929,
          1856,
          929,
          803,
          16,
          776,
          882,
          837,
          2531,
          9,
          966,
          18,
          823,
          800,
          195,
          851,
          3322,
          832,
          928,
          1832,
          61,
          876,
          961,
          622,
          750,
          81,
          5190,
          877,
          880,
          943,
          866,
          197,
          923,
          703,
          925
         ],
         "y": [
          " end calibration",
          "prepare for injection",
          "start tests the day.",
          "preparation for tpc scan",
          "mid expert request.",
          "problem on alio2-cr1-flp080, backpressure. possible cause: from_readout-proxy_to_tpc-idc-to-vector.",
          "phos/cpv",
          "sor failed for mch",
          "dcs sor failed (no sor_progressing).",
          "end test",
          "tpc scan ",
          "pdp expert request,",
          "calibration failed",
          "exclude emc.",
          "sl request to include mid",
          "exclude fv0.",
          "all epns crashed simultaneously",
          "mch-qcmn-epn-full-track-matching crashed.",
          "normal eor after 5 minutes.",
          "ali-ecs core restarted",
          "end calibration",
          "preparing for physics",
          "trigger readout went to zero.",
          "all epns crashed simultaneously with primary vertex error.",
          "need to restart trigger.",
          "epn went flat",
          "expert request cpv",
          "emcal",
          "request from flp expert.",
          " jit-4e1deca4ebdf11d52f3ee4f99c0c46f78222361d-mch-qctaskmchdigits-proxy",
          "change luminosity",
          "cpv recover hv trip.",
          "lhc dumped beam dump",
          "operator error: run restarted the same partition.",
          "changed predefined physics configuration",
          "adjust handshake",
          "all epns crashed simultaneously.",
          "change predefined configuration.",
          "rm asks to stop the run",
          "release ecs lock for mch",
          "triggers out synch. disabling ctp readout.",
          "tpc expert request.",
          "preparation for calibration.",
          "include maximum number epns (211)",
          "change lumi to 1mhz",
          "calibration ended automatically",
          "change config for mft",
          "eor test.",
          "beam dump",
          "dpl errors on ali02-cr1-flp080 -  tpc flp (run stopped by the operator).",
          "tpc need to disable re-sync.",
          "request from tpc expert.",
          "change trigger rate to 500 khz",
          "include tpc.",
          "texpert request",
          "end the calibration",
          "revert readout configuration to see if it helps with errors from tpc (flp080) and its."
         ]
        },
        {
         "hoverinfo": "text",
         "hovertext": [
          "<b>Topic 1882</b><br>Words: 82603 mb, memavailable 82603, 82603, proc, proc meminfo",
          "<b>Topic 1882</b><br>Words: 450 454, ids 450, 454 non, 454, 450",
          "<b>Topic 1882</b><br>Words: fhr_lanes_of_l5_36, drawing fhr_lanes_of_l5_36, fhr_lanes_of_l5_36 drawing, fhr_occ_of_l4_24 drawing, fhr_occ_of_l4_24",
          "<b>Topic 1882</b><br>Words: contiguous, contiguous timeframe, non contiguous, non, ids",
          "<b>Topic 1882</b><br>Words: non contiguous, contiguous, contiguous timeframe, non, timeframe ids",
          "<b>Topic 1882</b><br>Words: taskid 2ap4nbe2kbt, 2ap4nbe2kbt, state task_killed, message reason, source source_executor",
          "<b>Topic 1882</b><br>Words: contiguous timeframe, contiguous, non contiguous, non, timeframe ids",
          "<b>Topic 1882</b><br>Words: roc 0979, 0979, opening roc, opening, contiguous timeframe",
          "<b>Topic 1882</b><br>Words: 5280, 15851, contiguous, non contiguous, contiguous timeframe",
          "<b>Topic 1882</b><br>Words: ids 62, 62 77, 77 non, 62, 77",
          "<b>Topic 1882</b><br>Words: 50 59, 59 non, ids 50, 59, 50",
          "<b>Topic 1882</b><br>Words: 30934, 31012, previous 31012, 30934 gap, previous 30934",
          "<b>Topic 1882</b><br>Words: disabled checkoflaser_trending, block 0x7f5c9da00000, 0x7f5c9da00000 14334033920, tpc register, 0x7f5c9da00000",
          "<b>Topic 1882</b><br>Words: contiguous timeframe, non contiguous, contiguous, non, ids",
          "<b>Topic 1882</b><br>Words: ids 1048, 1048 1054, 1054, 1048, non contiguous",
          "<b>Topic 1882</b><br>Words: non contiguous, contiguous, contiguous timeframe, non, 343397",
          "<b>Topic 1882</b><br>Words: non contiguous, contiguous, contiguous timeframe, non, ids 43529",
          "<b>Topic 1882</b><br>Words: contiguous, contiguous timeframe, non contiguous, non, 20299 20301",
          "<b>Topic 1882</b><br>Words: contiguous timeframe, contiguous, non contiguous, non, timeframe ids",
          "<b>Topic 1882</b><br>Words: 315 kb, throughput 315, 315, kb, average data",
          "<b>Topic 1882</b><br>Words: non contiguous, contiguous timeframe, contiguous, non, ids 54811",
          "<b>Topic 1882</b><br>Words: contiguous timeframe, non contiguous, contiguous, non, ids non",
          "<b>Topic 1882</b><br>Words: non contiguous, contiguous, contiguous timeframe, non, 54717",
          "<b>Topic 1882</b><br>Words: ids 131121, 125603 non, 131123 non, 131062 131064, 131121 131123",
          "<b>Topic 1882</b><br>Words: contiguous timeframe, non contiguous, contiguous, non, ids",
          "<b>Topic 1882</b><br>Words: contiguous, contiguous timeframe, non contiguous, non, 433114 433116",
          "<b>Topic 1882</b><br>Words: 14080, ids 1952, 1954 non, 14078 14080, ids 14078",
          "<b>Topic 1882</b><br>Words: 1115 1123, ids 1115, 1123 non, 1115, 1123",
          "<b>Topic 1882</b><br>Words: 3314 3317, ids 3314, 3317 non, 3317, 3314",
          "<b>Topic 1882</b><br>Words: non contiguous, contiguous, contiguous timeframe, non, ids",
          "<b>Topic 1882</b><br>Words: 111 113, ids 111, 113 non, 123 125, ids 123",
          "<b>Topic 1882</b><br>Words: non contiguous, contiguous timeframe, contiguous, non, ids",
          "<b>Topic 1882</b><br>Words: 10576, 10581 non, 5302 5304, ids 10574, ids 10579",
          "<b>Topic 1882</b><br>Words: non contiguous, contiguous, contiguous timeframe, non, ids",
          "<b>Topic 1882</b><br>Words: 2574 463611118, channels new, 463161548, 13341 dcolumns, 198 461859370",
          "<b>Topic 1882</b><br>Words: contiguous, contiguous timeframe, non contiguous, non, 84742",
          "<b>Topic 1882</b><br>Words: contiguous timeframe, contiguous, non contiguous, non, ids",
          "<b>Topic 1882</b><br>Words: contiguous, contiguous timeframe, non contiguous, non, ids",
          "<b>Topic 1882</b><br>Words: 2ap8vr5w2ob task, taskid 2ap8vr5w2ob, taskid 2ap9qnju2kb, 2ap8vr5w2ob, 2ap9qnju2kb",
          "<b>Topic 1882</b><br>Words: 181344, 181295 181297, 175661 175663, ids 181344, ids 181295",
          "<b>Topic 1882</b><br>Words: contiguous, contiguous timeframe, non contiguous, non, timeframe ids",
          "<b>Topic 1882</b><br>Words: 9215, 8903, 9606, 9372, 8512",
          "<b>Topic 1882</b><br>Words: 50 63, 63 non, ids 50, 63, 50",
          "<b>Topic 1882</b><br>Words: contiguous timeframe, non contiguous, contiguous, non, timeframe ids",
          "<b>Topic 1882</b><br>Words: 214173, 208923, 214155, 214155 214173, 214173 non",
          "<b>Topic 1882</b><br>Words: non contiguous, contiguous timeframe, contiguous, non, ids",
          "<b>Topic 1882</b><br>Words: contiguous, non contiguous, contiguous timeframe, non, ids",
          "<b>Topic 1882</b><br>Words: contiguous, contiguous timeframe, non contiguous, non, timeframe ids",
          "<b>Topic 1882</b><br>Words: 10334 non, 10329 10334, ids 10329, 10329, 10334",
          "<b>Topic 1882</b><br>Words: data_ecs_eq1830_2022_10_02__18_52_21__, data_ecs_eq1830_2022_10_02__18_52_21__ lz4, tmp data_ecs_eq1830_2022_10_02__18_52_21__, lz4 equipment, stu generates",
          "<b>Topic 1882</b><br>Words: fhr_occ_of_l6_19 drawing, fhr_occ_of_l6_47, drawing fhr_occ_of_l6_47, fhr_occ_of_l5_28 drawing, drawing fhr_occ_of_l6_19",
          "<b>Topic 1882</b><br>Words: non contiguous, contiguous, contiguous timeframe, non, 855361",
          "<b>Topic 1882</b><br>Words: 427729, 427659, 427659 427729, ids 427659, 427729 non",
          "<b>Topic 1882</b><br>Words: 278267 links, 7033 44, 268157 average, 278462 links, 756 733",
          "<b>Topic 1882</b><br>Words: contiguous timeframe, contiguous, non contiguous, non, timeframe ids"
         ],
         "marker": {
          "color": "#E69F00"
         },
         "name": "1882_non contiguous_contiguous timeframe...",
         "orientation": "h",
         "type": "bar",
         "visible": "legendonly",
         "x": [
          1,
          14,
          10,
          7954,
          2668,
          1,
          1048,
          1,
          152,
          27,
          27,
          7,
          4,
          1548,
          1,
          675,
          210,
          147,
          350,
          1,
          266,
          837,
          132,
          52,
          791,
          81,
          29,
          20,
          122,
          430,
          24,
          9538,
          28,
          1019,
          8,
          605,
          751,
          1106,
          2,
          59,
          1655,
          94,
          25,
          2860,
          139,
          3625,
          13209,
          1414,
          192,
          2,
          35,
          204,
          67,
          8,
          2104
         ],
         "y": [
          " end calibration",
          "prepare for injection",
          "start tests the day.",
          "preparation for tpc scan",
          "mid expert request.",
          "problem on alio2-cr1-flp080, backpressure. possible cause: from_readout-proxy_to_tpc-idc-to-vector.",
          "phos/cpv",
          "sor failed for mch",
          "dcs sor failed (no sor_progressing).",
          "end test",
          "tpc scan ",
          "pdp expert request,",
          "calibration failed",
          "sl request to include mid",
          "exclude fv0.",
          "all epns crashed simultaneously",
          "mch-qcmn-epn-full-track-matching crashed.",
          "ali-ecs core restarted",
          "end calibration",
          "preparing for physics",
          "trigger readout went to zero.",
          "all epns crashed simultaneously with primary vertex error.",
          "mch",
          "need to restart trigger.",
          "epn went flat",
          "tpc not ready at sor",
          "expert request cpv",
          "emcal",
          " jit-4e1deca4ebdf11d52f3ee4f99c0c46f78222361d-mch-qctaskmchdigits-proxy",
          "change luminosity",
          "cpv recover hv trip.",
          "lhc dumped beam dump",
          "operator error: run restarted the same partition.",
          "changed predefined physics configuration",
          "adjust handshake",
          "all epns crashed simultaneously.",
          "change predefined configuration.",
          "rm asks to stop the run",
          "release ecs lock for mch",
          "triggers out synch. disabling ctp readout.",
          "tpc expert request.",
          "preparation for calibration.",
          "include maximum number epns (211)",
          "change lumi to 1mhz",
          "calibration ended automatically",
          "change config for mft",
          "beam dump",
          "dpl errors on ali02-cr1-flp080 -  tpc flp (run stopped by the operator).",
          "tpc need to disable re-sync.",
          "request from tpc expert.",
          "change trigger rate to 500 khz",
          "include tpc.",
          "texpert request",
          "end the calibration",
          "revert readout configuration to see if it helps with errors from tpc (flp080) and its."
         ]
        },
        {
         "hoverinfo": "text",
         "hovertext": [
          "<b>Topic 1910</b><br>Words: pulsercheck2d quality, check pulsercheck2d, pulsercheck2d, nohgperddl found, in nohgperddl",
          "<b>Topic 1910</b><br>Words: nohgperddl found, in nohgperddl, nohgperddl, in fec, of ddl",
          "<b>Topic 1910</b><br>Words: nohgperddl found, in nohgperddl, nohgperddl, fec, of ddl",
          "<b>Topic 1910</b><br>Words: in nohgperddl, nohgperddl found, nohgperddl, fec, of ddl",
          "<b>Topic 1910</b><br>Words: nohgperddl found, in nohgperddl, nohgperddl, fec, of ddl",
          "<b>Topic 1910</b><br>Words: nohgperddl found, in nohgperddl, nohgperddl, in fec, of ddl",
          "<b>Topic 1910</b><br>Words: in nohgperddl, nohgperddl found, nohgperddl, fec of, in fec",
          "<b>Topic 1910</b><br>Words: nohgperddl found, in nohgperddl, nohgperddl, of ddl, fec",
          "<b>Topic 1910</b><br>Words: in nohgperddl, nohgperddl found, nohgperddl, of ddl, in fec",
          "<b>Topic 1910</b><br>Words: in nohgperddl, nohgperddl found, nohgperddl, fec, of ddl",
          "<b>Topic 1910</b><br>Words: 15 987, 987 gb, 987, received 15, in nohgperddl",
          "<b>Topic 1910</b><br>Words: nohgperddl found, in nohgperddl, nohgperddl, fec, in fec",
          "<b>Topic 1910</b><br>Words: in nohgperddl, nohgperddl found, nohgperddl, fec, in fec",
          "<b>Topic 1910</b><br>Words: nohgperddl found, in nohgperddl, nohgperddl, in fec, fec",
          "<b>Topic 1910</b><br>Words: in nohgperddl, nohgperddl found, nohgperddl, of ddl, fec",
          "<b>Topic 1910</b><br>Words: nohgperddl found, in nohgperddl, nohgperddl, in fec, of ddl",
          "<b>Topic 1910</b><br>Words: in nohgperddl, nohgperddl found, nohgperddl, fec, in fec",
          "<b>Topic 1910</b><br>Words: nohgperddl found, in nohgperddl, nohgperddl, of ddl, fec",
          "<b>Topic 1910</b><br>Words: in nohgperddl, nohgperddl found, nohgperddl, fec, in fec",
          "<b>Topic 1910</b><br>Words: nohgperddl found, in nohgperddl, nohgperddl, in fec, fec",
          "<b>Topic 1910</b><br>Words: nohgperddl found, in nohgperddl, nohgperddl, in fec, of ddl",
          "<b>Topic 1910</b><br>Words: in nohgperddl, nohgperddl found, nohgperddl, fec, of ddl",
          "<b>Topic 1910</b><br>Words: nohgperddl found, in nohgperddl, nohgperddl, fec, of ddl",
          "<b>Topic 1910</b><br>Words: in nohgperddl, nohgperddl found, nohgperddl, in fec, fec",
          "<b>Topic 1910</b><br>Words: in nohgperddl, nohgperddl found, nohgperddl, of ddl, fec",
          "<b>Topic 1910</b><br>Words: in nohgperddl, nohgperddl found, nohgperddl, fec of, in fec",
          "<b>Topic 1910</b><br>Words: nohgperddl found, in nohgperddl, nohgperddl, in fec, fec",
          "<b>Topic 1910</b><br>Words: nohgperddl found, in nohgperddl, nohgperddl, of ddl, fec",
          "<b>Topic 1910</b><br>Words: nohgperddl found, in nohgperddl, nohgperddl, in fec, of ddl",
          "<b>Topic 1910</b><br>Words: in nohgperddl, nohgperddl found, nohgperddl, of ddl, in fec",
          "<b>Topic 1910</b><br>Words: in nohgperddl, nohgperddl found, nohgperddl, in fec, of ddl",
          "<b>Topic 1910</b><br>Words: in nohgperddl, nohgperddl found, nohgperddl, fec, of ddl",
          "<b>Topic 1910</b><br>Words: nohgperddl found, in nohgperddl, nohgperddl, fec, of ddl",
          "<b>Topic 1910</b><br>Words: nohgperddl found, in nohgperddl, nohgperddl, fec of, fec",
          "<b>Topic 1910</b><br>Words: in nohgperddl, nohgperddl found, nohgperddl, of ddl, in fec",
          "<b>Topic 1910</b><br>Words: nohgperddl found, in nohgperddl, nohgperddl, fec, in fec",
          "<b>Topic 1910</b><br>Words: nohgperddl found, in nohgperddl, nohgperddl, in fec, of ddl",
          "<b>Topic 1910</b><br>Words: nohgperddl found, in nohgperddl, nohgperddl, in fec, fec",
          "<b>Topic 1910</b><br>Words: starting dma, dma for, dma, starting, roc equipment",
          "<b>Topic 1910</b><br>Words: nohgperddl found, in nohgperddl, nohgperddl, of ddl, in fec",
          "<b>Topic 1910</b><br>Words: 0x6101 rusw, rusw 145, feeid 0x6101, 0x6101, 0x00b9 lid1",
          "<b>Topic 1910</b><br>Words: nohgperddl found, in nohgperddl, nohgperddl, in fec, fec",
          "<b>Topic 1910</b><br>Words: 61 311, avg 53046, 817646 ok, 559908384 avg, checks 817646",
          "<b>Topic 1910</b><br>Words: nohgperddl found, in nohgperddl, nohgperddl, in fec, fec"
         ],
         "marker": {
          "color": "#56B4E9"
         },
         "name": "1910_nohgperddl found_in nohgperddl_nohg...",
         "orientation": "h",
         "type": "bar",
         "visible": "legendonly",
         "x": [
          3,
          4835,
          5404,
          58,
          505,
          146,
          59,
          6,
          4735,
          180,
          1,
          53,
          77,
          124,
          260,
          7,
          11,
          515,
          331,
          19,
          70,
          544,
          2576,
          352,
          1072,
          120,
          252,
          24,
          19,
          106,
          7,
          1753,
          5499,
          36,
          4583,
          5363,
          76,
          50,
          1,
          2171,
          1,
          952,
          4,
          1443
         ],
         "y": [
          " end calibration",
          "preparation for tpc scan",
          "mid expert request.",
          "phos/cpv",
          "end test",
          "tpc scan ",
          "pdp expert request,",
          "calibration failed",
          "sl request to include mid",
          "all epns crashed simultaneously",
          "normal eor after 5 minutes.",
          "end calibration",
          "preparing for physics",
          "trigger readout went to zero.",
          "all epns crashed simultaneously with primary vertex error.",
          "need to restart trigger.",
          "started by mistake",
          "epn went flat",
          "expert request cpv",
          "emcal",
          " jit-4e1deca4ebdf11d52f3ee4f99c0c46f78222361d-mch-qctaskmchdigits-proxy",
          "change luminosity",
          "lhc dumped beam dump",
          "changed predefined physics configuration",
          "adjust handshake",
          "all epns crashed simultaneously.",
          "change predefined configuration.",
          "rm asks to stop the run",
          "triggers out synch. disabling ctp readout.",
          "tpc expert request.",
          "preparation for calibration.",
          "include maximum number epns (211)",
          "change lumi to 1mhz",
          "calibration ended automatically",
          "change config for mft",
          "beam dump",
          "dpl errors on ali02-cr1-flp080 -  tpc flp (run stopped by the operator).",
          "tpc need to disable re-sync.",
          "request from tpc expert.",
          "change trigger rate to 500 khz",
          "include tpc.",
          "texpert request",
          "end the calibration",
          "revert readout configuration to see if it helps with errors from tpc (flp080) and its."
         ]
        },
        {
         "hoverinfo": "text",
         "hovertext": [
          "<b>Topic 1923</b><br>Words: starting dma, dma for, dma, starting, roc equipment",
          "<b>Topic 1923</b><br>Words: orbit 0x0422bf00, 0x0422beff, 12 0x570, 0x04268400 not, orbit 0x04268400",
          "<b>Topic 1923</b><br>Words: col, row, sm, in channel, channel col",
          "<b>Topic 1923</b><br>Words: row, col, in channel, channel col, sm",
          "<b>Topic 1923</b><br>Words: row, col, sm, in channel, channel col",
          "<b>Topic 1923</b><br>Words: row, col, in channel, sm, channel col",
          "<b>Topic 1923</b><br>Words: row, col, channelhgnolg found, in channelhgnolg, channelhgnolg",
          "<b>Topic 1923</b><br>Words: row, col, in channel, sm, channel col",
          "<b>Topic 1923</b><br>Words: 0x7ef55e600000 9552527360, 0x7f7f1bc00000, block 0x7f7f1bc00000, block 0x7faadfc00000, block 0x7ef55e600000",
          "<b>Topic 1923</b><br>Words: row, col, in channel, channel col, sm",
          "<b>Topic 1923</b><br>Words: row, col, in channelhgnolg, channelhgnolg found, channelhgnolg",
          "<b>Topic 1923</b><br>Words: size 911757, 911757, 911757 bytes, 2aszhxujj4r, taskid 2aszhxujj4r",
          "<b>Topic 1923</b><br>Words: row, col, sm, in channel, channel col",
          "<b>Topic 1923</b><br>Words: col, row, sm 15, 15 row, in channel",
          "<b>Topic 1923</b><br>Words: col, row, channel col, sm, in channel",
          "<b>Topic 1923</b><br>Words: row, col, channel col, in channel, sm",
          "<b>Topic 1923</b><br>Words: 2178 100393269, 100393269 on, 100393269, 49 stave, ru 49",
          "<b>Topic 1923</b><br>Words: row, col, sm, in channel, channel col",
          "<b>Topic 1923</b><br>Words: col, row, channel col, sm, in channel",
          "<b>Topic 1923</b><br>Words: row, col, in channel, sm, channel col",
          "<b>Topic 1923</b><br>Words: in channellgnohg, channellgnohg found, channellgnohg, col, row",
          "<b>Topic 1923</b><br>Words: col, row, channelhgnolg found, in channelhgnolg, channelhgnolg",
          "<b>Topic 1923</b><br>Words: col, row, channel col, sm, in channel",
          "<b>Topic 1923</b><br>Words: col, row, channellgnohg found, in channellgnohg, channellgnohg",
          "<b>Topic 1923</b><br>Words: row, col, in channelhgnolg, channelhgnolg found, channelhgnolg",
          "<b>Topic 1923</b><br>Words: col, row, in channel, channel col, sm",
          "<b>Topic 1923</b><br>Words: col, row, sm, in channel, channel col",
          "<b>Topic 1923</b><br>Words: row, col, channel col, in channel, sm",
          "<b>Topic 1923</b><br>Words: col, row, sm, in channel, channel col",
          "<b>Topic 1923</b><br>Words: col, row, in channel, channel col, sm",
          "<b>Topic 1923</b><br>Words: row, col, in channel, channel col, sm",
          "<b>Topic 1923</b><br>Words: col 24, sm 12, 12 row, row col, 24",
          "<b>Topic 1923</b><br>Words: col, row, in channel, sm, channel col",
          "<b>Topic 1923</b><br>Words: row, col, sm, in channel, channel col",
          "<b>Topic 1923</b><br>Words: col, row, in channel, channel col, sm",
          "<b>Topic 1923</b><br>Words: row, col, channellgnohg found, in channellgnohg, channellgnohg",
          "<b>Topic 1923</b><br>Words: col, row, in channel, sm, channel col",
          "<b>Topic 1923</b><br>Words: col, row, sm, channel col, in channel",
          "<b>Topic 1923</b><br>Words: col, row, channel col, in channel, sm",
          "<b>Topic 1923</b><br>Words: orbit 0x00b95a80, 0x00b95a7f, 0x00b08900, 0x00b08900 0x00b0897f, 0x00b0897f",
          "<b>Topic 1923</b><br>Words: row, col, sm, channel col, in channel",
          "<b>Topic 1923</b><br>Words: row, col, in channel, sm, channel col",
          "<b>Topic 1923</b><br>Words: 269917 stats, 293 777, 191 hz, 606 191, 12 68",
          "<b>Topic 1923</b><br>Words: col, row, channellgnohg found, in channellgnohg, channellgnohg"
         ],
         "marker": {
          "color": "#009E73"
         },
         "name": "1923_row_col_in channel_channel col",
         "orientation": "h",
         "type": "bar",
         "visible": "legendonly",
         "x": [
          1,
          2,
          8778,
          9758,
          120,
          1054,
          407,
          148,
          9,
          8483,
          498,
          2,
          91,
          195,
          271,
          470,
          6,
          25,
          863,
          631,
          17,
          159,
          1189,
          3888,
          948,
          1873,
          303,
          398,
          66,
          27,
          249,
          9,
          3220,
          8912,
          79,
          6607,
          10929,
          162,
          99,
          4,
          4042,
          1824,
          5,
          2096
         ],
         "y": [
          " end calibration",
          "sor call failed",
          "preparation for tpc scan",
          "mid expert request.",
          "phos/cpv",
          "end test",
          "tpc scan ",
          "pdp expert request,",
          "calibration failed",
          "sl request to include mid",
          "all epns crashed simultaneously",
          "ali-ecs core restarted",
          "end calibration",
          "preparing for physics",
          "trigger readout went to zero.",
          "all epns crashed simultaneously with primary vertex error.",
          "need to restart trigger.",
          "started by mistake",
          "epn went flat",
          "expert request cpv",
          "emcal",
          " jit-4e1deca4ebdf11d52f3ee4f99c0c46f78222361d-mch-qctaskmchdigits-proxy",
          "change luminosity",
          "lhc dumped beam dump",
          "changed predefined physics configuration",
          "adjust handshake",
          "all epns crashed simultaneously.",
          "change predefined configuration.",
          "rm asks to stop the run",
          "triggers out synch. disabling ctp readout.",
          "tpc expert request.",
          "preparation for calibration.",
          "include maximum number epns (211)",
          "change lumi to 1mhz",
          "calibration ended automatically",
          "change config for mft",
          "beam dump",
          "dpl errors on ali02-cr1-flp080 -  tpc flp (run stopped by the operator).",
          "tpc need to disable re-sync.",
          "request from tpc expert.",
          "change trigger rate to 500 khz",
          "texpert request",
          "end the calibration",
          "revert readout configuration to see if it helps with errors from tpc (flp080) and its."
         ]
        }
       ],
       "layout": {
        "height": 900,
        "hoverlabel": {
         "bgcolor": "white",
         "font": {
          "family": "Rockwell",
          "size": 16
         }
        },
        "legend": {
         "title": {
          "text": "<b>Global Topic Representation"
         }
        },
        "template": {
         "data": {
          "bar": [
           {
            "error_x": {
             "color": "rgb(36,36,36)"
            },
            "error_y": {
             "color": "rgb(36,36,36)"
            },
            "marker": {
             "line": {
              "color": "white",
              "width": 0.5
             },
             "pattern": {
              "fillmode": "overlay",
              "size": 10,
              "solidity": 0.2
             }
            },
            "type": "bar"
           }
          ],
          "barpolar": [
           {
            "marker": {
             "line": {
              "color": "white",
              "width": 0.5
             },
             "pattern": {
              "fillmode": "overlay",
              "size": 10,
              "solidity": 0.2
             }
            },
            "type": "barpolar"
           }
          ],
          "carpet": [
           {
            "aaxis": {
             "endlinecolor": "rgb(36,36,36)",
             "gridcolor": "white",
             "linecolor": "white",
             "minorgridcolor": "white",
             "startlinecolor": "rgb(36,36,36)"
            },
            "baxis": {
             "endlinecolor": "rgb(36,36,36)",
             "gridcolor": "white",
             "linecolor": "white",
             "minorgridcolor": "white",
             "startlinecolor": "rgb(36,36,36)"
            },
            "type": "carpet"
           }
          ],
          "choropleth": [
           {
            "colorbar": {
             "outlinewidth": 1,
             "tickcolor": "rgb(36,36,36)",
             "ticks": "outside"
            },
            "type": "choropleth"
           }
          ],
          "contour": [
           {
            "colorbar": {
             "outlinewidth": 1,
             "tickcolor": "rgb(36,36,36)",
             "ticks": "outside"
            },
            "colorscale": [
             [
              0,
              "#440154"
             ],
             [
              0.1111111111111111,
              "#482878"
             ],
             [
              0.2222222222222222,
              "#3e4989"
             ],
             [
              0.3333333333333333,
              "#31688e"
             ],
             [
              0.4444444444444444,
              "#26828e"
             ],
             [
              0.5555555555555556,
              "#1f9e89"
             ],
             [
              0.6666666666666666,
              "#35b779"
             ],
             [
              0.7777777777777778,
              "#6ece58"
             ],
             [
              0.8888888888888888,
              "#b5de2b"
             ],
             [
              1,
              "#fde725"
             ]
            ],
            "type": "contour"
           }
          ],
          "contourcarpet": [
           {
            "colorbar": {
             "outlinewidth": 1,
             "tickcolor": "rgb(36,36,36)",
             "ticks": "outside"
            },
            "type": "contourcarpet"
           }
          ],
          "heatmap": [
           {
            "colorbar": {
             "outlinewidth": 1,
             "tickcolor": "rgb(36,36,36)",
             "ticks": "outside"
            },
            "colorscale": [
             [
              0,
              "#440154"
             ],
             [
              0.1111111111111111,
              "#482878"
             ],
             [
              0.2222222222222222,
              "#3e4989"
             ],
             [
              0.3333333333333333,
              "#31688e"
             ],
             [
              0.4444444444444444,
              "#26828e"
             ],
             [
              0.5555555555555556,
              "#1f9e89"
             ],
             [
              0.6666666666666666,
              "#35b779"
             ],
             [
              0.7777777777777778,
              "#6ece58"
             ],
             [
              0.8888888888888888,
              "#b5de2b"
             ],
             [
              1,
              "#fde725"
             ]
            ],
            "type": "heatmap"
           }
          ],
          "heatmapgl": [
           {
            "colorbar": {
             "outlinewidth": 1,
             "tickcolor": "rgb(36,36,36)",
             "ticks": "outside"
            },
            "colorscale": [
             [
              0,
              "#440154"
             ],
             [
              0.1111111111111111,
              "#482878"
             ],
             [
              0.2222222222222222,
              "#3e4989"
             ],
             [
              0.3333333333333333,
              "#31688e"
             ],
             [
              0.4444444444444444,
              "#26828e"
             ],
             [
              0.5555555555555556,
              "#1f9e89"
             ],
             [
              0.6666666666666666,
              "#35b779"
             ],
             [
              0.7777777777777778,
              "#6ece58"
             ],
             [
              0.8888888888888888,
              "#b5de2b"
             ],
             [
              1,
              "#fde725"
             ]
            ],
            "type": "heatmapgl"
           }
          ],
          "histogram": [
           {
            "marker": {
             "line": {
              "color": "white",
              "width": 0.6
             }
            },
            "type": "histogram"
           }
          ],
          "histogram2d": [
           {
            "colorbar": {
             "outlinewidth": 1,
             "tickcolor": "rgb(36,36,36)",
             "ticks": "outside"
            },
            "colorscale": [
             [
              0,
              "#440154"
             ],
             [
              0.1111111111111111,
              "#482878"
             ],
             [
              0.2222222222222222,
              "#3e4989"
             ],
             [
              0.3333333333333333,
              "#31688e"
             ],
             [
              0.4444444444444444,
              "#26828e"
             ],
             [
              0.5555555555555556,
              "#1f9e89"
             ],
             [
              0.6666666666666666,
              "#35b779"
             ],
             [
              0.7777777777777778,
              "#6ece58"
             ],
             [
              0.8888888888888888,
              "#b5de2b"
             ],
             [
              1,
              "#fde725"
             ]
            ],
            "type": "histogram2d"
           }
          ],
          "histogram2dcontour": [
           {
            "colorbar": {
             "outlinewidth": 1,
             "tickcolor": "rgb(36,36,36)",
             "ticks": "outside"
            },
            "colorscale": [
             [
              0,
              "#440154"
             ],
             [
              0.1111111111111111,
              "#482878"
             ],
             [
              0.2222222222222222,
              "#3e4989"
             ],
             [
              0.3333333333333333,
              "#31688e"
             ],
             [
              0.4444444444444444,
              "#26828e"
             ],
             [
              0.5555555555555556,
              "#1f9e89"
             ],
             [
              0.6666666666666666,
              "#35b779"
             ],
             [
              0.7777777777777778,
              "#6ece58"
             ],
             [
              0.8888888888888888,
              "#b5de2b"
             ],
             [
              1,
              "#fde725"
             ]
            ],
            "type": "histogram2dcontour"
           }
          ],
          "mesh3d": [
           {
            "colorbar": {
             "outlinewidth": 1,
             "tickcolor": "rgb(36,36,36)",
             "ticks": "outside"
            },
            "type": "mesh3d"
           }
          ],
          "parcoords": [
           {
            "line": {
             "colorbar": {
              "outlinewidth": 1,
              "tickcolor": "rgb(36,36,36)",
              "ticks": "outside"
             }
            },
            "type": "parcoords"
           }
          ],
          "pie": [
           {
            "automargin": true,
            "type": "pie"
           }
          ],
          "scatter": [
           {
            "fillpattern": {
             "fillmode": "overlay",
             "size": 10,
             "solidity": 0.2
            },
            "type": "scatter"
           }
          ],
          "scatter3d": [
           {
            "line": {
             "colorbar": {
              "outlinewidth": 1,
              "tickcolor": "rgb(36,36,36)",
              "ticks": "outside"
             }
            },
            "marker": {
             "colorbar": {
              "outlinewidth": 1,
              "tickcolor": "rgb(36,36,36)",
              "ticks": "outside"
             }
            },
            "type": "scatter3d"
           }
          ],
          "scattercarpet": [
           {
            "marker": {
             "colorbar": {
              "outlinewidth": 1,
              "tickcolor": "rgb(36,36,36)",
              "ticks": "outside"
             }
            },
            "type": "scattercarpet"
           }
          ],
          "scattergeo": [
           {
            "marker": {
             "colorbar": {
              "outlinewidth": 1,
              "tickcolor": "rgb(36,36,36)",
              "ticks": "outside"
             }
            },
            "type": "scattergeo"
           }
          ],
          "scattergl": [
           {
            "marker": {
             "colorbar": {
              "outlinewidth": 1,
              "tickcolor": "rgb(36,36,36)",
              "ticks": "outside"
             }
            },
            "type": "scattergl"
           }
          ],
          "scattermapbox": [
           {
            "marker": {
             "colorbar": {
              "outlinewidth": 1,
              "tickcolor": "rgb(36,36,36)",
              "ticks": "outside"
             }
            },
            "type": "scattermapbox"
           }
          ],
          "scatterpolar": [
           {
            "marker": {
             "colorbar": {
              "outlinewidth": 1,
              "tickcolor": "rgb(36,36,36)",
              "ticks": "outside"
             }
            },
            "type": "scatterpolar"
           }
          ],
          "scatterpolargl": [
           {
            "marker": {
             "colorbar": {
              "outlinewidth": 1,
              "tickcolor": "rgb(36,36,36)",
              "ticks": "outside"
             }
            },
            "type": "scatterpolargl"
           }
          ],
          "scatterternary": [
           {
            "marker": {
             "colorbar": {
              "outlinewidth": 1,
              "tickcolor": "rgb(36,36,36)",
              "ticks": "outside"
             }
            },
            "type": "scatterternary"
           }
          ],
          "surface": [
           {
            "colorbar": {
             "outlinewidth": 1,
             "tickcolor": "rgb(36,36,36)",
             "ticks": "outside"
            },
            "colorscale": [
             [
              0,
              "#440154"
             ],
             [
              0.1111111111111111,
              "#482878"
             ],
             [
              0.2222222222222222,
              "#3e4989"
             ],
             [
              0.3333333333333333,
              "#31688e"
             ],
             [
              0.4444444444444444,
              "#26828e"
             ],
             [
              0.5555555555555556,
              "#1f9e89"
             ],
             [
              0.6666666666666666,
              "#35b779"
             ],
             [
              0.7777777777777778,
              "#6ece58"
             ],
             [
              0.8888888888888888,
              "#b5de2b"
             ],
             [
              1,
              "#fde725"
             ]
            ],
            "type": "surface"
           }
          ],
          "table": [
           {
            "cells": {
             "fill": {
              "color": "rgb(237,237,237)"
             },
             "line": {
              "color": "white"
             }
            },
            "header": {
             "fill": {
              "color": "rgb(217,217,217)"
             },
             "line": {
              "color": "white"
             }
            },
            "type": "table"
           }
          ]
         },
         "layout": {
          "annotationdefaults": {
           "arrowhead": 0,
           "arrowwidth": 1
          },
          "autotypenumbers": "strict",
          "coloraxis": {
           "colorbar": {
            "outlinewidth": 1,
            "tickcolor": "rgb(36,36,36)",
            "ticks": "outside"
           }
          },
          "colorscale": {
           "diverging": [
            [
             0,
             "rgb(103,0,31)"
            ],
            [
             0.1,
             "rgb(178,24,43)"
            ],
            [
             0.2,
             "rgb(214,96,77)"
            ],
            [
             0.3,
             "rgb(244,165,130)"
            ],
            [
             0.4,
             "rgb(253,219,199)"
            ],
            [
             0.5,
             "rgb(247,247,247)"
            ],
            [
             0.6,
             "rgb(209,229,240)"
            ],
            [
             0.7,
             "rgb(146,197,222)"
            ],
            [
             0.8,
             "rgb(67,147,195)"
            ],
            [
             0.9,
             "rgb(33,102,172)"
            ],
            [
             1,
             "rgb(5,48,97)"
            ]
           ],
           "sequential": [
            [
             0,
             "#440154"
            ],
            [
             0.1111111111111111,
             "#482878"
            ],
            [
             0.2222222222222222,
             "#3e4989"
            ],
            [
             0.3333333333333333,
             "#31688e"
            ],
            [
             0.4444444444444444,
             "#26828e"
            ],
            [
             0.5555555555555556,
             "#1f9e89"
            ],
            [
             0.6666666666666666,
             "#35b779"
            ],
            [
             0.7777777777777778,
             "#6ece58"
            ],
            [
             0.8888888888888888,
             "#b5de2b"
            ],
            [
             1,
             "#fde725"
            ]
           ],
           "sequentialminus": [
            [
             0,
             "#440154"
            ],
            [
             0.1111111111111111,
             "#482878"
            ],
            [
             0.2222222222222222,
             "#3e4989"
            ],
            [
             0.3333333333333333,
             "#31688e"
            ],
            [
             0.4444444444444444,
             "#26828e"
            ],
            [
             0.5555555555555556,
             "#1f9e89"
            ],
            [
             0.6666666666666666,
             "#35b779"
            ],
            [
             0.7777777777777778,
             "#6ece58"
            ],
            [
             0.8888888888888888,
             "#b5de2b"
            ],
            [
             1,
             "#fde725"
            ]
           ]
          },
          "colorway": [
           "#1F77B4",
           "#FF7F0E",
           "#2CA02C",
           "#D62728",
           "#9467BD",
           "#8C564B",
           "#E377C2",
           "#7F7F7F",
           "#BCBD22",
           "#17BECF"
          ],
          "font": {
           "color": "rgb(36,36,36)"
          },
          "geo": {
           "bgcolor": "white",
           "lakecolor": "white",
           "landcolor": "white",
           "showlakes": true,
           "showland": true,
           "subunitcolor": "white"
          },
          "hoverlabel": {
           "align": "left"
          },
          "hovermode": "closest",
          "mapbox": {
           "style": "light"
          },
          "paper_bgcolor": "white",
          "plot_bgcolor": "white",
          "polar": {
           "angularaxis": {
            "gridcolor": "rgb(232,232,232)",
            "linecolor": "rgb(36,36,36)",
            "showgrid": false,
            "showline": true,
            "ticks": "outside"
           },
           "bgcolor": "white",
           "radialaxis": {
            "gridcolor": "rgb(232,232,232)",
            "linecolor": "rgb(36,36,36)",
            "showgrid": false,
            "showline": true,
            "ticks": "outside"
           }
          },
          "scene": {
           "xaxis": {
            "backgroundcolor": "white",
            "gridcolor": "rgb(232,232,232)",
            "gridwidth": 2,
            "linecolor": "rgb(36,36,36)",
            "showbackground": true,
            "showgrid": false,
            "showline": true,
            "ticks": "outside",
            "zeroline": false,
            "zerolinecolor": "rgb(36,36,36)"
           },
           "yaxis": {
            "backgroundcolor": "white",
            "gridcolor": "rgb(232,232,232)",
            "gridwidth": 2,
            "linecolor": "rgb(36,36,36)",
            "showbackground": true,
            "showgrid": false,
            "showline": true,
            "ticks": "outside",
            "zeroline": false,
            "zerolinecolor": "rgb(36,36,36)"
           },
           "zaxis": {
            "backgroundcolor": "white",
            "gridcolor": "rgb(232,232,232)",
            "gridwidth": 2,
            "linecolor": "rgb(36,36,36)",
            "showbackground": true,
            "showgrid": false,
            "showline": true,
            "ticks": "outside",
            "zeroline": false,
            "zerolinecolor": "rgb(36,36,36)"
           }
          },
          "shapedefaults": {
           "fillcolor": "black",
           "line": {
            "width": 0
           },
           "opacity": 0.3
          },
          "ternary": {
           "aaxis": {
            "gridcolor": "rgb(232,232,232)",
            "linecolor": "rgb(36,36,36)",
            "showgrid": false,
            "showline": true,
            "ticks": "outside"
           },
           "baxis": {
            "gridcolor": "rgb(232,232,232)",
            "linecolor": "rgb(36,36,36)",
            "showgrid": false,
            "showline": true,
            "ticks": "outside"
           },
           "bgcolor": "white",
           "caxis": {
            "gridcolor": "rgb(232,232,232)",
            "linecolor": "rgb(36,36,36)",
            "showgrid": false,
            "showline": true,
            "ticks": "outside"
           }
          },
          "title": {
           "x": 0.05
          },
          "xaxis": {
           "automargin": true,
           "gridcolor": "rgb(232,232,232)",
           "linecolor": "rgb(36,36,36)",
           "showgrid": false,
           "showline": true,
           "ticks": "outside",
           "title": {
            "standoff": 15
           },
           "zeroline": false,
           "zerolinecolor": "rgb(36,36,36)"
          },
          "yaxis": {
           "automargin": true,
           "gridcolor": "rgb(232,232,232)",
           "linecolor": "rgb(36,36,36)",
           "showgrid": false,
           "showline": true,
           "ticks": "outside",
           "title": {
            "standoff": 15
           },
           "zeroline": false,
           "zerolinecolor": "rgb(36,36,36)"
          }
         }
        },
        "title": {
         "font": {
          "color": "Black",
          "size": 22
         },
         "text": "<b>Topics per Class</b>",
         "x": 0.4,
         "xanchor": "center",
         "y": 0.95,
         "yanchor": "top"
        },
        "width": 1250,
        "xaxis": {
         "showgrid": true,
         "title": {
          "text": "Frequency"
         }
        },
        "yaxis": {
         "showgrid": true,
         "title": {
          "text": "Class"
         }
        }
       }
      }
     },
     "metadata": {},
     "output_type": "display_data"
    }
   ],
   "source": [
    "topics_per_class = topic_model.model.topics_per_class(df.content.tolist(), df.EOR.tolist())\n",
    "topic_model.model.visualize_topics_per_class(topics_per_class)"
   ]
  },
  {
   "cell_type": "code",
   "execution_count": 54,
   "metadata": {},
   "outputs": [
    {
     "data": {
      "text/html": [
       "<div>\n",
       "<style scoped>\n",
       "    .dataframe tbody tr th:only-of-type {\n",
       "        vertical-align: middle;\n",
       "    }\n",
       "\n",
       "    .dataframe tbody tr th {\n",
       "        vertical-align: top;\n",
       "    }\n",
       "\n",
       "    .dataframe thead th {\n",
       "        text-align: right;\n",
       "    }\n",
       "</style>\n",
       "<table border=\"1\" class=\"dataframe\">\n",
       "  <thead>\n",
       "    <tr style=\"text-align: right;\">\n",
       "      <th></th>\n",
       "      <th>session_id</th>\n",
       "      <th>severity</th>\n",
       "      <th>content</th>\n",
       "      <th>event_id</th>\n",
       "      <th>event_template</th>\n",
       "      <th>label</th>\n",
       "      <th>EOR</th>\n",
       "      <th>EOR_id</th>\n",
       "      <th>run_quality</th>\n",
       "      <th>topic</th>\n",
       "    </tr>\n",
       "  </thead>\n",
       "  <tbody>\n",
       "    <tr>\n",
       "      <th>179910</th>\n",
       "      <td>24064</td>\n",
       "      <td>I</td>\n",
       "      <td>Stopping DMA for ROC H1-D4-F0</td>\n",
       "      <td>505</td>\n",
       "      <td>Stopping DMA for ROC &lt;*&gt;</td>\n",
       "      <td>not crashed</td>\n",
       "      <td>eor test.</td>\n",
       "      <td>61.0</td>\n",
       "      <td>test</td>\n",
       "      <td>177</td>\n",
       "    </tr>\n",
       "    <tr>\n",
       "      <th>179911</th>\n",
       "      <td>24064</td>\n",
       "      <td>I</td>\n",
       "      <td>Stopping DMA for ROC H1-D4-F1</td>\n",
       "      <td>505</td>\n",
       "      <td>Stopping DMA for ROC &lt;*&gt;</td>\n",
       "      <td>not crashed</td>\n",
       "      <td>eor test.</td>\n",
       "      <td>61.0</td>\n",
       "      <td>test</td>\n",
       "      <td>177</td>\n",
       "    </tr>\n",
       "    <tr>\n",
       "      <th>179912</th>\n",
       "      <td>24064</td>\n",
       "      <td>I</td>\n",
       "      <td>Stopping DMA for ROC H0-D0-F0</td>\n",
       "      <td>505</td>\n",
       "      <td>Stopping DMA for ROC &lt;*&gt;</td>\n",
       "      <td>not crashed</td>\n",
       "      <td>eor test.</td>\n",
       "      <td>61.0</td>\n",
       "      <td>test</td>\n",
       "      <td>177</td>\n",
       "    </tr>\n",
       "    <tr>\n",
       "      <th>179913</th>\n",
       "      <td>24064</td>\n",
       "      <td>I</td>\n",
       "      <td>Stopping DMA for ROC H0-D0-F1</td>\n",
       "      <td>505</td>\n",
       "      <td>Stopping DMA for ROC &lt;*&gt;</td>\n",
       "      <td>not crashed</td>\n",
       "      <td>eor test.</td>\n",
       "      <td>61.0</td>\n",
       "      <td>test</td>\n",
       "      <td>177</td>\n",
       "    </tr>\n",
       "    <tr>\n",
       "      <th>187195</th>\n",
       "      <td>24064</td>\n",
       "      <td>I</td>\n",
       "      <td>Stopping DMA for ROC H1-D4-F0</td>\n",
       "      <td>505</td>\n",
       "      <td>Stopping DMA for ROC &lt;*&gt;</td>\n",
       "      <td>not crashed</td>\n",
       "      <td>eor test.</td>\n",
       "      <td>61.0</td>\n",
       "      <td>test</td>\n",
       "      <td>177</td>\n",
       "    </tr>\n",
       "    <tr>\n",
       "      <th>...</th>\n",
       "      <td>...</td>\n",
       "      <td>...</td>\n",
       "      <td>...</td>\n",
       "      <td>...</td>\n",
       "      <td>...</td>\n",
       "      <td>...</td>\n",
       "      <td>...</td>\n",
       "      <td>...</td>\n",
       "      <td>...</td>\n",
       "      <td>...</td>\n",
       "    </tr>\n",
       "    <tr>\n",
       "      <th>34847621</th>\n",
       "      <td>24356</td>\n",
       "      <td>I</td>\n",
       "      <td>ITSDecoder registered new link link cruID:0x00...</td>\n",
       "      <td>440</td>\n",
       "      <td>ITSDecoder registered new link link cruID:&lt;*&gt;</td>\n",
       "      <td>crashed</td>\n",
       "      <td>triggers out synch. disabling ctp readout.</td>\n",
       "      <td>59.0</td>\n",
       "      <td>bad</td>\n",
       "      <td>177</td>\n",
       "    </tr>\n",
       "    <tr>\n",
       "      <th>34848487</th>\n",
       "      <td>24356</td>\n",
       "      <td>I</td>\n",
       "      <td>ITSDecoder registered new link link cruID:0x00...</td>\n",
       "      <td>440</td>\n",
       "      <td>ITSDecoder registered new link link cruID:&lt;*&gt;</td>\n",
       "      <td>crashed</td>\n",
       "      <td>triggers out synch. disabling ctp readout.</td>\n",
       "      <td>59.0</td>\n",
       "      <td>bad</td>\n",
       "      <td>177</td>\n",
       "    </tr>\n",
       "    <tr>\n",
       "      <th>34849602</th>\n",
       "      <td>24356</td>\n",
       "      <td>I</td>\n",
       "      <td>ITSDecoder Attaching link cruID:0x00c1/lID8 fe...</td>\n",
       "      <td>441</td>\n",
       "      <td>ITSDecoder Attaching link cruID:&lt;*&gt;feeID:&lt;*&gt;</td>\n",
       "      <td>crashed</td>\n",
       "      <td>triggers out synch. disabling ctp readout.</td>\n",
       "      <td>59.0</td>\n",
       "      <td>bad</td>\n",
       "      <td>177</td>\n",
       "    </tr>\n",
       "    <tr>\n",
       "      <th>34849603</th>\n",
       "      <td>24356</td>\n",
       "      <td>I</td>\n",
       "      <td>ITSDecoder Attaching link cruID:0x00c1/lID9 fe...</td>\n",
       "      <td>441</td>\n",
       "      <td>ITSDecoder Attaching link cruID:&lt;*&gt;feeID:&lt;*&gt;</td>\n",
       "      <td>crashed</td>\n",
       "      <td>triggers out synch. disabling ctp readout.</td>\n",
       "      <td>59.0</td>\n",
       "      <td>bad</td>\n",
       "      <td>177</td>\n",
       "    </tr>\n",
       "    <tr>\n",
       "      <th>34854600</th>\n",
       "      <td>24356</td>\n",
       "      <td>I</td>\n",
       "      <td>New error registered at bc/orbit 0/107544069 o...</td>\n",
       "      <td>835</td>\n",
       "      <td>New error registered at bc/orbit &lt;*&gt;/&lt;*&gt; on th...</td>\n",
       "      <td>crashed</td>\n",
       "      <td>triggers out synch. disabling ctp readout.</td>\n",
       "      <td>59.0</td>\n",
       "      <td>bad</td>\n",
       "      <td>177</td>\n",
       "    </tr>\n",
       "  </tbody>\n",
       "</table>\n",
       "<p>65653 rows × 10 columns</p>\n",
       "</div>"
      ],
      "text/plain": [
       "          session_id severity  \\\n",
       "179910         24064        I   \n",
       "179911         24064        I   \n",
       "179912         24064        I   \n",
       "179913         24064        I   \n",
       "187195         24064        I   \n",
       "...              ...      ...   \n",
       "34847621       24356        I   \n",
       "34848487       24356        I   \n",
       "34849602       24356        I   \n",
       "34849603       24356        I   \n",
       "34854600       24356        I   \n",
       "\n",
       "                                                    content  event_id  \\\n",
       "179910                        Stopping DMA for ROC H1-D4-F0       505   \n",
       "179911                        Stopping DMA for ROC H1-D4-F1       505   \n",
       "179912                        Stopping DMA for ROC H0-D0-F0       505   \n",
       "179913                        Stopping DMA for ROC H0-D0-F1       505   \n",
       "187195                        Stopping DMA for ROC H1-D4-F0       505   \n",
       "...                                                     ...       ...   \n",
       "34847621  ITSDecoder registered new link link cruID:0x00...       440   \n",
       "34848487  ITSDecoder registered new link link cruID:0x00...       440   \n",
       "34849602  ITSDecoder Attaching link cruID:0x00c1/lID8 fe...       441   \n",
       "34849603  ITSDecoder Attaching link cruID:0x00c1/lID9 fe...       441   \n",
       "34854600  New error registered at bc/orbit 0/107544069 o...       835   \n",
       "\n",
       "                                             event_template        label  \\\n",
       "179910                             Stopping DMA for ROC <*>  not crashed   \n",
       "179911                             Stopping DMA for ROC <*>  not crashed   \n",
       "179912                             Stopping DMA for ROC <*>  not crashed   \n",
       "179913                             Stopping DMA for ROC <*>  not crashed   \n",
       "187195                             Stopping DMA for ROC <*>  not crashed   \n",
       "...                                                     ...          ...   \n",
       "34847621      ITSDecoder registered new link link cruID:<*>      crashed   \n",
       "34848487      ITSDecoder registered new link link cruID:<*>      crashed   \n",
       "34849602       ITSDecoder Attaching link cruID:<*>feeID:<*>      crashed   \n",
       "34849603       ITSDecoder Attaching link cruID:<*>feeID:<*>      crashed   \n",
       "34854600  New error registered at bc/orbit <*>/<*> on th...      crashed   \n",
       "\n",
       "                                                 EOR  EOR_id run_quality  \\\n",
       "179910                                     eor test.    61.0        test   \n",
       "179911                                     eor test.    61.0        test   \n",
       "179912                                     eor test.    61.0        test   \n",
       "179913                                     eor test.    61.0        test   \n",
       "187195                                     eor test.    61.0        test   \n",
       "...                                              ...     ...         ...   \n",
       "34847621  triggers out synch. disabling ctp readout.    59.0         bad   \n",
       "34848487  triggers out synch. disabling ctp readout.    59.0         bad   \n",
       "34849602  triggers out synch. disabling ctp readout.    59.0         bad   \n",
       "34849603  triggers out synch. disabling ctp readout.    59.0         bad   \n",
       "34854600  triggers out synch. disabling ctp readout.    59.0         bad   \n",
       "\n",
       "          topic  \n",
       "179910      177  \n",
       "179911      177  \n",
       "179912      177  \n",
       "179913      177  \n",
       "187195      177  \n",
       "...         ...  \n",
       "34847621    177  \n",
       "34848487    177  \n",
       "34849602    177  \n",
       "34849603    177  \n",
       "34854600    177  \n",
       "\n",
       "[65653 rows x 10 columns]"
      ]
     },
     "execution_count": 54,
     "metadata": {},
     "output_type": "execute_result"
    }
   ],
   "source": [
    "df[df['topic']==177]"
   ]
  },
  {
   "cell_type": "code",
   "execution_count": 8,
   "metadata": {},
   "outputs": [],
   "source": [
    "df.to_parquet('dataset/ALICE-OSLdataset/ALICE_info_no_severity_D_with_topic.parquet.gzip')"
   ]
  },
  {
   "cell_type": "markdown",
   "metadata": {},
   "source": [
    "# LMAO graph"
   ]
  },
  {
   "cell_type": "code",
   "execution_count": 13,
   "metadata": {},
   "outputs": [],
   "source": [
    "from lmao.graph import LMAOGraph"
   ]
  },
  {
   "cell_type": "code",
   "execution_count": 3,
   "metadata": {},
   "outputs": [
    {
     "name": "stdout",
     "output_type": "stream",
     "text": [
      "Topics size of this dataframe is : 2149\n",
      "Getting Group by from dataframe\n"
     ]
    },
    {
     "data": {
      "application/vnd.jupyter.widget-view+json": {
       "model_id": "0934a098ce9a47a59b08981069604d00",
       "version_major": 2,
       "version_minor": 0
      },
      "text/plain": [
       "  0%|          | 0/126 [00:00<?, ?it/s]"
      ]
     },
     "metadata": {},
     "output_type": "display_data"
    },
    {
     "name": "stdout",
     "output_type": "stream",
     "text": [
      "Max sequence size of this dataframe is : 772369\n",
      "Please call .get_PyG() to get PyG dataloader.\n"
     ]
    }
   ],
   "source": [
    "data = LMAOGraph(df=pd.read_parquet('dataset/ALICE-OSLdataset/ALICE_info_no_severity_D_with_topic.parquet.gzip'),mode='pyg', padding=False)"
   ]
  },
  {
   "cell_type": "code",
   "execution_count": 4,
   "metadata": {},
   "outputs": [
    {
     "data": {
      "text/plain": [
       "41"
      ]
     },
     "execution_count": 4,
     "metadata": {},
     "output_type": "execute_result"
    }
   ],
   "source": [
    "data.df['X'].apply(len).sort_values(ascending=False).index[110]"
   ]
  },
  {
   "cell_type": "code",
   "execution_count": 6,
   "metadata": {},
   "outputs": [
    {
     "data": {
      "text/plain": [
       "84"
      ]
     },
     "execution_count": 6,
     "metadata": {},
     "output_type": "execute_result"
    }
   ],
   "source": [
    "G = data.get_one_graph(i=41, feature=False)\n",
    "len(G.nodes())"
   ]
  },
  {
   "cell_type": "code",
   "execution_count": 7,
   "metadata": {},
   "outputs": [
    {
     "data": {
      "text/plain": [
       "'crashed'"
      ]
     },
     "execution_count": 7,
     "metadata": {},
     "output_type": "execute_result"
    }
   ],
   "source": [
    "data.df['y'][41]"
   ]
  },
  {
   "cell_type": "code",
   "execution_count": 8,
   "metadata": {},
   "outputs": [],
   "source": [
    "from lmao.visualizer.plot import plotly_digraph"
   ]
  },
  {
   "cell_type": "code",
   "execution_count": null,
   "metadata": {},
   "outputs": [],
   "source": [
    "plotly_digraph(G, label=data.df['y'][41], topic_dict=topic_dict)"
   ]
  },
  {
   "cell_type": "code",
   "execution_count": 15,
   "metadata": {},
   "outputs": [
    {
     "name": "stdout",
     "output_type": "stream",
     "text": [
      "Topics size of this dataframe is : 2149\n",
      "Getting Group by from dataframe\n"
     ]
    },
    {
     "data": {
      "application/vnd.jupyter.widget-view+json": {
       "model_id": "2c946f8dce07456e91c7a6cd8001d809",
       "version_major": 2,
       "version_minor": 0
      },
      "text/plain": [
       "  0%|          | 0/126 [00:00<?, ?it/s]"
      ]
     },
     "metadata": {},
     "output_type": "display_data"
    },
    {
     "name": "stdout",
     "output_type": "stream",
     "text": [
      "Apply Count to calculate each topic frequency\n"
     ]
    },
    {
     "data": {
      "application/vnd.jupyter.widget-view+json": {
       "model_id": "37c513504e1342bcaf4db8df413fe6b7",
       "version_major": 2,
       "version_minor": 0
      },
      "text/plain": [
       "  0%|          | 0/126 [00:00<?, ?it/s]"
      ]
     },
     "metadata": {},
     "output_type": "display_data"
    },
    {
     "name": "stdout",
     "output_type": "stream",
     "text": [
      "Expanding X into 2149 features\n"
     ]
    },
    {
     "data": {
      "application/vnd.jupyter.widget-view+json": {
       "model_id": "14a6aed812134074b900b4f4927260a6",
       "version_major": 2,
       "version_minor": 0
      },
      "text/plain": [
       "  0%|          | 0/126 [00:00<?, ?it/s]"
      ]
     },
     "metadata": {},
     "output_type": "display_data"
    }
   ],
   "source": [
    "data = LMAOGraph(df=pd.read_parquet('dataset/ALICE-OSLdataset/ALICE_info_no_severity_D_with_topic.parquet.gzip'),mode='freq')"
   ]
  },
  {
   "cell_type": "code",
   "execution_count": 18,
   "metadata": {},
   "outputs": [],
   "source": [
    "data.df.to_parquet('dataset/ALICE-OSLdataset/ALICE_info_no_severity_D_freq_with_label.parquet.gzip')"
   ]
  },
  {
   "cell_type": "markdown",
   "metadata": {},
   "source": [
    "# Classification"
   ]
  },
  {
   "cell_type": "code",
   "execution_count": 16,
   "metadata": {},
   "outputs": [],
   "source": [
    "from sklearn.model_selection import train_test_split\n",
    "train_df, test_df = train_test_split(data.df,test_size=0.2, stratify=data.df.y)"
   ]
  },
  {
   "cell_type": "code",
   "execution_count": 8,
   "metadata": {},
   "outputs": [],
   "source": [
    "# lgb.plot_importance(lgb_clf, importance_type=\"gain\", figsize=(7,12), title=\"LightGBM Feature Importance (Gain)\")\n",
    "# plt.show()"
   ]
  },
  {
   "cell_type": "code",
   "execution_count": 17,
   "metadata": {},
   "outputs": [],
   "source": [
    "from lmao.classifier import LMAOClassifier"
   ]
  },
  {
   "cell_type": "code",
   "execution_count": 18,
   "metadata": {},
   "outputs": [
    {
     "name": "stdout",
     "output_type": "stream",
     "text": [
      "[LightGBM] [Info] Number of positive: 55, number of negative: 45\n",
      "[LightGBM] [Info] Auto-choosing row-wise multi-threading, the overhead of testing was 0.018898 seconds.\n",
      "You can set `force_row_wise=true` to remove the overhead.\n",
      "And if memory is not enough, you can set `force_col_wise=true`.\n",
      "[LightGBM] [Info] Total Bins 15693\n",
      "[LightGBM] [Info] Number of data points in the train set: 100, number of used features: 1283\n",
      "[LightGBM] [Info] [binary:BoostFromScore]: pavg=0.550000 -> initscore=0.200671\n",
      "[LightGBM] [Info] Start training from score 0.200671\n",
      "[LightGBM] [Warning] No further splits with positive gain, best gain: -inf\n",
      "[LightGBM] [Warning] No further splits with positive gain, best gain: -inf\n",
      "[LightGBM] [Warning] No further splits with positive gain, best gain: -inf\n",
      "[LightGBM] [Warning] No further splits with positive gain, best gain: -inf\n",
      "[LightGBM] [Warning] No further splits with positive gain, best gain: -inf\n",
      "[LightGBM] [Warning] No further splits with positive gain, best gain: -inf\n",
      "[LightGBM] [Warning] No further splits with positive gain, best gain: -inf\n",
      "[LightGBM] [Warning] No further splits with positive gain, best gain: -inf\n",
      "[LightGBM] [Warning] No further splits with positive gain, best gain: -inf\n",
      "[LightGBM] [Warning] No further splits with positive gain, best gain: -inf\n",
      "[LightGBM] [Warning] No further splits with positive gain, best gain: -inf\n",
      "[LightGBM] [Warning] No further splits with positive gain, best gain: -inf\n",
      "[LightGBM] [Warning] No further splits with positive gain, best gain: -inf\n",
      "[LightGBM] [Warning] No further splits with positive gain, best gain: -inf\n",
      "[LightGBM] [Warning] No further splits with positive gain, best gain: -inf\n",
      "[LightGBM] [Warning] No further splits with positive gain, best gain: -inf\n",
      "[LightGBM] [Warning] No further splits with positive gain, best gain: -inf\n",
      "[LightGBM] [Warning] No further splits with positive gain, best gain: -inf\n",
      "[LightGBM] [Warning] No further splits with positive gain, best gain: -inf\n",
      "[LightGBM] [Warning] No further splits with positive gain, best gain: -inf\n",
      "[LightGBM] [Warning] No further splits with positive gain, best gain: -inf\n",
      "[LightGBM] [Warning] No further splits with positive gain, best gain: -inf\n",
      "[LightGBM] [Warning] No further splits with positive gain, best gain: -inf\n",
      "[LightGBM] [Warning] No further splits with positive gain, best gain: -inf\n",
      "[LightGBM] [Warning] No further splits with positive gain, best gain: -inf\n",
      "[LightGBM] [Warning] No further splits with positive gain, best gain: -inf\n",
      "[LightGBM] [Warning] No further splits with positive gain, best gain: -inf\n",
      "[LightGBM] [Warning] No further splits with positive gain, best gain: -inf\n",
      "[LightGBM] [Warning] No further splits with positive gain, best gain: -inf\n",
      "[LightGBM] [Warning] No further splits with positive gain, best gain: -inf\n",
      "[LightGBM] [Warning] No further splits with positive gain, best gain: -inf\n",
      "[LightGBM] [Warning] No further splits with positive gain, best gain: -inf\n",
      "[LightGBM] [Warning] No further splits with positive gain, best gain: -inf\n",
      "[LightGBM] [Warning] No further splits with positive gain, best gain: -inf\n",
      "[LightGBM] [Warning] No further splits with positive gain, best gain: -inf\n",
      "[LightGBM] [Warning] No further splits with positive gain, best gain: -inf\n",
      "[LightGBM] [Warning] No further splits with positive gain, best gain: -inf\n",
      "[LightGBM] [Warning] No further splits with positive gain, best gain: -inf\n",
      "[LightGBM] [Warning] No further splits with positive gain, best gain: -inf\n",
      "[LightGBM] [Warning] No further splits with positive gain, best gain: -inf\n",
      "[LightGBM] [Warning] No further splits with positive gain, best gain: -inf\n",
      "[LightGBM] [Warning] No further splits with positive gain, best gain: -inf\n",
      "[LightGBM] [Warning] No further splits with positive gain, best gain: -inf\n",
      "[LightGBM] [Warning] No further splits with positive gain, best gain: -inf\n",
      "[LightGBM] [Warning] No further splits with positive gain, best gain: -inf\n",
      "[LightGBM] [Warning] No further splits with positive gain, best gain: -inf\n",
      "[LightGBM] [Warning] No further splits with positive gain, best gain: -inf\n",
      "[LightGBM] [Warning] No further splits with positive gain, best gain: -inf\n",
      "[LightGBM] [Warning] No further splits with positive gain, best gain: -inf\n",
      "[LightGBM] [Warning] No further splits with positive gain, best gain: -inf\n",
      "[LightGBM] [Warning] No further splits with positive gain, best gain: -inf\n",
      "[LightGBM] [Warning] No further splits with positive gain, best gain: -inf\n",
      "[LightGBM] [Warning] No further splits with positive gain, best gain: -inf\n",
      "[LightGBM] [Warning] No further splits with positive gain, best gain: -inf\n",
      "[LightGBM] [Warning] No further splits with positive gain, best gain: -inf\n",
      "[LightGBM] [Warning] No further splits with positive gain, best gain: -inf\n",
      "[LightGBM] [Warning] No further splits with positive gain, best gain: -inf\n",
      "[LightGBM] [Warning] No further splits with positive gain, best gain: -inf\n",
      "[LightGBM] [Warning] No further splits with positive gain, best gain: -inf\n",
      "[LightGBM] [Warning] No further splits with positive gain, best gain: -inf\n",
      "[LightGBM] [Warning] No further splits with positive gain, best gain: -inf\n",
      "[LightGBM] [Warning] No further splits with positive gain, best gain: -inf\n",
      "[LightGBM] [Warning] No further splits with positive gain, best gain: -inf\n",
      "[LightGBM] [Warning] No further splits with positive gain, best gain: -inf\n",
      "[LightGBM] [Warning] No further splits with positive gain, best gain: -inf\n",
      "[LightGBM] [Warning] No further splits with positive gain, best gain: -inf\n",
      "[LightGBM] [Warning] No further splits with positive gain, best gain: -inf\n",
      "[LightGBM] [Warning] No further splits with positive gain, best gain: -inf\n",
      "[LightGBM] [Warning] No further splits with positive gain, best gain: -inf\n",
      "[LightGBM] [Warning] No further splits with positive gain, best gain: -inf\n",
      "[LightGBM] [Warning] No further splits with positive gain, best gain: -inf\n",
      "[LightGBM] [Warning] No further splits with positive gain, best gain: -inf\n",
      "[LightGBM] [Warning] No further splits with positive gain, best gain: -inf\n",
      "[LightGBM] [Warning] No further splits with positive gain, best gain: -inf\n",
      "[LightGBM] [Warning] No further splits with positive gain, best gain: -inf\n",
      "[LightGBM] [Warning] No further splits with positive gain, best gain: -inf\n",
      "[LightGBM] [Warning] No further splits with positive gain, best gain: -inf\n",
      "[LightGBM] [Warning] No further splits with positive gain, best gain: -inf\n",
      "[LightGBM] [Warning] No further splits with positive gain, best gain: -inf\n",
      "[LightGBM] [Warning] No further splits with positive gain, best gain: -inf\n",
      "[LightGBM] [Warning] No further splits with positive gain, best gain: -inf\n",
      "[LightGBM] [Warning] No further splits with positive gain, best gain: -inf\n",
      "[LightGBM] [Warning] No further splits with positive gain, best gain: -inf\n",
      "[LightGBM] [Warning] No further splits with positive gain, best gain: -inf\n",
      "[LightGBM] [Warning] No further splits with positive gain, best gain: -inf\n",
      "[LightGBM] [Warning] No further splits with positive gain, best gain: -inf\n",
      "[LightGBM] [Warning] No further splits with positive gain, best gain: -inf\n",
      "[LightGBM] [Warning] No further splits with positive gain, best gain: -inf\n",
      "[LightGBM] [Warning] No further splits with positive gain, best gain: -inf\n",
      "[LightGBM] [Warning] No further splits with positive gain, best gain: -inf\n",
      "[LightGBM] [Warning] No further splits with positive gain, best gain: -inf\n",
      "[LightGBM] [Warning] No further splits with positive gain, best gain: -inf\n",
      "[LightGBM] [Warning] No further splits with positive gain, best gain: -inf\n",
      "[LightGBM] [Warning] No further splits with positive gain, best gain: -inf\n",
      "[LightGBM] [Warning] No further splits with positive gain, best gain: -inf\n",
      "[LightGBM] [Warning] No further splits with positive gain, best gain: -inf\n",
      "[LightGBM] [Warning] No further splits with positive gain, best gain: -inf\n",
      "[LightGBM] [Warning] No further splits with positive gain, best gain: -inf\n",
      "[LightGBM] [Warning] No further splits with positive gain, best gain: -inf\n",
      "[LightGBM] [Warning] No further splits with positive gain, best gain: -inf\n"
     ]
    }
   ],
   "source": [
    "clf = LMAOClassifier(model_type='lgbm')\n",
    "clf.fit(train_df.drop(columns='y'), train_df.y)"
   ]
  },
  {
   "cell_type": "code",
   "execution_count": 19,
   "metadata": {},
   "outputs": [],
   "source": [
    "pred = clf.predict(test_df.drop(columns='y'))"
   ]
  },
  {
   "cell_type": "code",
   "execution_count": 20,
   "metadata": {},
   "outputs": [
    {
     "data": {
      "text/plain": [
       "array([[0.60218001, 0.39781999],\n",
       "       [0.91911983, 0.08088017],\n",
       "       [0.24683194, 0.75316806],\n",
       "       [0.7508184 , 0.2491816 ],\n",
       "       [0.42361312, 0.57638688],\n",
       "       [0.10350786, 0.89649214],\n",
       "       [0.00134332, 0.99865668],\n",
       "       [0.0027689 , 0.9972311 ],\n",
       "       [0.841045  , 0.158955  ],\n",
       "       [0.00333594, 0.99666406],\n",
       "       [0.03679289, 0.96320711],\n",
       "       [0.65097872, 0.34902128],\n",
       "       [0.04728179, 0.95271821],\n",
       "       [0.39100234, 0.60899766],\n",
       "       [0.99179337, 0.00820663],\n",
       "       [0.99298551, 0.00701449],\n",
       "       [0.45137995, 0.54862005],\n",
       "       [0.98632499, 0.01367501],\n",
       "       [0.02788985, 0.97211015],\n",
       "       [0.74872712, 0.25127288],\n",
       "       [0.83723763, 0.16276237],\n",
       "       [0.94692529, 0.05307471],\n",
       "       [0.69759843, 0.30240157],\n",
       "       [0.99836555, 0.00163445],\n",
       "       [0.4041964 , 0.5958036 ],\n",
       "       [0.99483998, 0.00516002]])"
      ]
     },
     "execution_count": 20,
     "metadata": {},
     "output_type": "execute_result"
    }
   ],
   "source": [
    "clf.model.predict_proba(test_df.drop(columns='y'))"
   ]
  },
  {
   "cell_type": "code",
   "execution_count": 10,
   "metadata": {},
   "outputs": [
    {
     "name": "stdout",
     "output_type": "stream",
     "text": [
      "              precision    recall  f1-score   support\n",
      "\n",
      "     crashed      0.833     0.833     0.833        12\n",
      " not crashed      0.857     0.857     0.857        14\n",
      "\n",
      "    accuracy                          0.846        26\n",
      "   macro avg      0.845     0.845     0.845        26\n",
      "weighted avg      0.846     0.846     0.846        26\n",
      "\n"
     ]
    }
   ],
   "source": [
    "print(clf.eval_report(test_df.drop(columns='y'), test_df.y))"
   ]
  },
  {
   "cell_type": "code",
   "execution_count": 11,
   "metadata": {},
   "outputs": [
    {
     "data": {
      "image/png": "[encoded data removed]",
      "text/plain": [
       "<Figure size 640x480 with 2 Axes>"
      ]
     },
     "metadata": {},
     "output_type": "display_data"
    }
   ],
   "source": [
    "clf.confusion_matrix_plot(test_df.drop(columns='y'), test_df.y)"
   ]
  },
  {
   "cell_type": "code",
   "execution_count": 12,
   "metadata": {},
   "outputs": [
    {
     "data": {
      "text/plain": [
       "array([[10,  2],\n",
       "       [ 2, 12]])"
      ]
     },
     "execution_count": 12,
     "metadata": {},
     "output_type": "execute_result"
    }
   ],
   "source": [
    "clf.confusion_report(test_df.drop(columns='y'), test_df.y)"
   ]
  }
 ],
 "metadata": {
  "kernelspec": {
   "display_name": "Python 3",
   "language": "python",
   "name": "python3"
  },
  "language_info": {
   "codemirror_mode": {
    "name": "ipython",
    "version": 3
   },
   "file_extension": ".py",
   "mimetype": "text/x-python",
   "name": "python",
   "nbconvert_exporter": "python",
   "pygments_lexer": "ipython3",
   "version": "3.11.5"
  }
 },
 "nbformat": 4,
 "nbformat_minor": 2
}
